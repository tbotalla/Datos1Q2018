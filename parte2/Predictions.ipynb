{
 "cells": [
  {
   "cell_type": "code",
   "execution_count": 1,
   "metadata": {},
   "outputs": [],
   "source": [
    "import numpy as np \n",
    "import pandas as pd\n",
    "import datetime\n",
    "import calendar\n",
    "import matplotlib.pyplot as plt\n",
    "import seaborn as sns\n",
    "\n",
    "plt.style.use('fivethirtyeight')\n",
    "pd.set_option('display.max_columns', None)\n",
    "sns.set_style('darkgrid')\n",
    "%matplotlib inline"
   ]
  },
  {
   "cell_type": "code",
   "execution_count": 2,
   "metadata": {},
   "outputs": [],
   "source": [
    "X_train = pd.read_csv('../data/X_train.csv', sep=',', encoding='utf-8')"
   ]
  },
  {
   "cell_type": "code",
   "execution_count": 3,
   "metadata": {},
   "outputs": [
    {
     "name": "stdout",
     "output_type": "stream",
     "text": [
      "13098946\n"
     ]
    },
    {
     "data": {
      "text/plain": [
       "0    True\n",
       "1    True\n",
       "Name: sepostulo, dtype: bool"
      ]
     },
     "execution_count": 3,
     "metadata": {},
     "output_type": "execute_result"
    }
   ],
   "source": [
    "print(len(X_train))\n",
    "X_train['sepostulo'].head(2)"
   ]
  },
  {
   "cell_type": "code",
   "execution_count": 4,
   "metadata": {},
   "outputs": [],
   "source": [
    "# Desordenamos para que no queden todos los true primero y los false despues\n",
    "X_train = X_train.sample(len(X_train))"
   ]
  },
  {
   "cell_type": "code",
   "execution_count": 5,
   "metadata": {},
   "outputs": [
    {
     "data": {
      "text/plain": [
       "8245057     False\n",
       "3395322      True\n",
       "5360294      True\n",
       "5879119      True\n",
       "2031994      True\n",
       "182043       True\n",
       "11374338    False\n",
       "3989780      True\n",
       "10498444    False\n",
       "5491039      True\n",
       "Name: sepostulo, dtype: bool"
      ]
     },
     "execution_count": 5,
     "metadata": {},
     "output_type": "execute_result"
    }
   ],
   "source": [
    "X_train['sepostulo'].head(10)"
   ]
  },
  {
   "cell_type": "code",
   "execution_count": 6,
   "metadata": {},
   "outputs": [],
   "source": [
    "target = X_train[['sepostulo']]"
   ]
  },
  {
   "cell_type": "code",
   "execution_count": 7,
   "metadata": {},
   "outputs": [],
   "source": [
    "X_train.to_csv('../data/X_train.csv', index=False, sep=',', encoding='utf-8')\n",
    "target.to_csv('../data/target.csv', index=False, sep=',', encoding='utf-8')"
   ]
  },
  {
   "cell_type": "code",
   "execution_count": 15,
   "metadata": {},
   "outputs": [],
   "source": [
    "target = pd.read_csv('../data/target.csv', sep=',', encoding='utf-8')"
   ]
  },
  {
   "cell_type": "code",
   "execution_count": 2,
   "metadata": {},
   "outputs": [],
   "source": [
    "X_train = pd.read_csv('../data/X_train.csv', sep=',', encoding='utf-8')"
   ]
  },
  {
   "cell_type": "code",
   "execution_count": 8,
   "metadata": {},
   "outputs": [],
   "source": [
    "X_test = pd.read_csv('../data/X_test.csv', sep=',', encoding='utf-8')"
   ]
  },
  {
   "cell_type": "code",
   "execution_count": 9,
   "metadata": {},
   "outputs": [
    {
     "data": {
      "text/plain": [
       "(100120, 55)"
      ]
     },
     "execution_count": 9,
     "metadata": {},
     "output_type": "execute_result"
    }
   ],
   "source": [
    "X_test.shape"
   ]
  },
  {
   "cell_type": "code",
   "execution_count": 10,
   "metadata": {},
   "outputs": [
    {
     "name": "stdout",
     "output_type": "stream",
     "text": [
      "train shape: (13098946, 56) | target shape: (13098946, 1)\n",
      "test shape: (100120, 55)\n"
     ]
    }
   ],
   "source": [
    "print('train shape:', X_train.shape,'| target shape:', target.shape)\n",
    "print('test shape:', X_test.shape)"
   ]
  },
  {
   "cell_type": "raw",
   "metadata": {},
   "source": [
    "Separamos la columna id para entrenar"
   ]
  },
  {
   "cell_type": "code",
   "execution_count": 11,
   "metadata": {},
   "outputs": [
    {
     "data": {
      "text/plain": [
       "True"
      ]
     },
     "execution_count": 11,
     "metadata": {},
     "output_type": "execute_result"
    }
   ],
   "source": [
    "X_test.duplicated('id').any()"
   ]
  },
  {
   "cell_type": "code",
   "execution_count": 12,
   "metadata": {},
   "outputs": [
    {
     "data": {
      "text/html": [
       "<div>\n",
       "<style scoped>\n",
       "    .dataframe tbody tr th:only-of-type {\n",
       "        vertical-align: middle;\n",
       "    }\n",
       "\n",
       "    .dataframe tbody tr th {\n",
       "        vertical-align: top;\n",
       "    }\n",
       "\n",
       "    .dataframe thead th {\n",
       "        text-align: right;\n",
       "    }\n",
       "</style>\n",
       "<table border=\"1\" class=\"dataframe\">\n",
       "  <thead>\n",
       "    <tr style=\"text-align: right;\">\n",
       "      <th></th>\n",
       "      <th>id</th>\n",
       "      <th>idaviso</th>\n",
       "      <th>idpostulante</th>\n",
       "      <th>edad</th>\n",
       "      <th>nombre_estudio_Doctorado</th>\n",
       "      <th>nombre_estudio_Master</th>\n",
       "      <th>nombre_estudio_Otro</th>\n",
       "      <th>nombre_estudio_Posgrado</th>\n",
       "      <th>nombre_estudio_Secundario</th>\n",
       "      <th>nombre_estudio_Terciario/Tecnico</th>\n",
       "      <th>nombre_estudio_Universitario</th>\n",
       "      <th>estado_estudio_Abandonado</th>\n",
       "      <th>estado_estudio_EnCurso</th>\n",
       "      <th>estado_estudio_Graduado</th>\n",
       "      <th>sexo_FEM</th>\n",
       "      <th>sexo_MASC</th>\n",
       "      <th>sexo_NO_DECLARA</th>\n",
       "      <th>nombre_area</th>\n",
       "      <th>desc_1</th>\n",
       "      <th>desc_2</th>\n",
       "      <th>desc_3</th>\n",
       "      <th>desc_4</th>\n",
       "      <th>desc_5</th>\n",
       "      <th>desc_6</th>\n",
       "      <th>desc_7</th>\n",
       "      <th>cant_vistas_aviso</th>\n",
       "      <th>cant_postulaciones_aviso</th>\n",
       "      <th>tipo_full</th>\n",
       "      <th>tipo_part</th>\n",
       "      <th>tipo_otro</th>\n",
       "      <th>nivel_laboral_Gerencia/AltaGerencia/Dirección</th>\n",
       "      <th>nivel_laboral_Jefe/Supervisor/Responsable</th>\n",
       "      <th>nivel_laboral_Junior</th>\n",
       "      <th>nivel_laboral_Otro</th>\n",
       "      <th>nivel_laboral_Senior/Semi-Senior</th>\n",
       "      <th>Ventas</th>\n",
       "      <th>Administración</th>\n",
       "      <th>Producción</th>\n",
       "      <th>Comercial</th>\n",
       "      <th>AtenciónalCliente</th>\n",
       "      <th>Recepcionista</th>\n",
       "      <th>CallCenter</th>\n",
       "      <th>Tesorería</th>\n",
       "      <th>Telemarketing</th>\n",
       "      <th>MantenimientoyLimpieza</th>\n",
       "      <th>Almacén/Depósito/Expedición</th>\n",
       "      <th>Contabilidad</th>\n",
       "      <th>RecursosHumanos</th>\n",
       "      <th>Gastronomia</th>\n",
       "      <th>Logística</th>\n",
       "      <th>Secretaria</th>\n",
       "      <th>AdministracióndePersonal</th>\n",
       "      <th>CréditosyCobranzas</th>\n",
       "      <th>Marketing</th>\n",
       "      <th>Legal</th>\n",
       "    </tr>\n",
       "  </thead>\n",
       "  <tbody>\n",
       "    <tr>\n",
       "      <th>0</th>\n",
       "      <td>0</td>\n",
       "      <td>739260</td>\n",
       "      <td>6M9ZQR</td>\n",
       "      <td>42</td>\n",
       "      <td>1</td>\n",
       "      <td>0</td>\n",
       "      <td>0</td>\n",
       "      <td>0</td>\n",
       "      <td>0</td>\n",
       "      <td>0</td>\n",
       "      <td>0</td>\n",
       "      <td>0</td>\n",
       "      <td>0</td>\n",
       "      <td>1</td>\n",
       "      <td>1</td>\n",
       "      <td>0</td>\n",
       "      <td>0</td>\n",
       "      <td>Comercial</td>\n",
       "      <td>0</td>\n",
       "      <td>1</td>\n",
       "      <td>0</td>\n",
       "      <td>0</td>\n",
       "      <td>0</td>\n",
       "      <td>0</td>\n",
       "      <td>0</td>\n",
       "      <td>2</td>\n",
       "      <td>0</td>\n",
       "      <td>True</td>\n",
       "      <td>False</td>\n",
       "      <td>False</td>\n",
       "      <td>0</td>\n",
       "      <td>1</td>\n",
       "      <td>0</td>\n",
       "      <td>0</td>\n",
       "      <td>0</td>\n",
       "      <td>False</td>\n",
       "      <td>False</td>\n",
       "      <td>False</td>\n",
       "      <td>True</td>\n",
       "      <td>False</td>\n",
       "      <td>False</td>\n",
       "      <td>False</td>\n",
       "      <td>False</td>\n",
       "      <td>False</td>\n",
       "      <td>False</td>\n",
       "      <td>False</td>\n",
       "      <td>False</td>\n",
       "      <td>False</td>\n",
       "      <td>False</td>\n",
       "      <td>False</td>\n",
       "      <td>False</td>\n",
       "      <td>False</td>\n",
       "      <td>False</td>\n",
       "      <td>False</td>\n",
       "      <td>False</td>\n",
       "    </tr>\n",
       "  </tbody>\n",
       "</table>\n",
       "</div>"
      ],
      "text/plain": [
       "   id  idaviso idpostulante  edad  nombre_estudio_Doctorado  \\\n",
       "0   0   739260       6M9ZQR    42                         1   \n",
       "\n",
       "   nombre_estudio_Master  nombre_estudio_Otro  nombre_estudio_Posgrado  \\\n",
       "0                      0                    0                        0   \n",
       "\n",
       "   nombre_estudio_Secundario  nombre_estudio_Terciario/Tecnico  \\\n",
       "0                          0                                 0   \n",
       "\n",
       "   nombre_estudio_Universitario  estado_estudio_Abandonado  \\\n",
       "0                             0                          0   \n",
       "\n",
       "   estado_estudio_EnCurso  estado_estudio_Graduado  sexo_FEM  sexo_MASC  \\\n",
       "0                       0                        1         1          0   \n",
       "\n",
       "   sexo_NO_DECLARA nombre_area  desc_1  desc_2  desc_3  desc_4  desc_5  \\\n",
       "0                0   Comercial       0       1       0       0       0   \n",
       "\n",
       "   desc_6  desc_7  cant_vistas_aviso  cant_postulaciones_aviso  tipo_full  \\\n",
       "0       0       0                  2                         0       True   \n",
       "\n",
       "   tipo_part  tipo_otro  nivel_laboral_Gerencia/AltaGerencia/Dirección  \\\n",
       "0      False      False                                              0   \n",
       "\n",
       "   nivel_laboral_Jefe/Supervisor/Responsable  nivel_laboral_Junior  \\\n",
       "0                                          1                     0   \n",
       "\n",
       "   nivel_laboral_Otro  nivel_laboral_Senior/Semi-Senior  Ventas  \\\n",
       "0                   0                                 0   False   \n",
       "\n",
       "   Administración  Producción  Comercial  AtenciónalCliente  Recepcionista  \\\n",
       "0           False       False       True              False          False   \n",
       "\n",
       "   CallCenter  Tesorería  Telemarketing  MantenimientoyLimpieza  \\\n",
       "0       False      False          False                   False   \n",
       "\n",
       "   Almacén/Depósito/Expedición  Contabilidad  RecursosHumanos  Gastronomia  \\\n",
       "0                        False         False            False        False   \n",
       "\n",
       "   Logística  Secretaria  AdministracióndePersonal  CréditosyCobranzas  \\\n",
       "0      False       False                     False               False   \n",
       "\n",
       "   Marketing  Legal  \n",
       "0      False  False  "
      ]
     },
     "execution_count": 12,
     "metadata": {},
     "output_type": "execute_result"
    }
   ],
   "source": [
    "X_test.head(1)"
   ]
  },
  {
   "cell_type": "code",
   "execution_count": 13,
   "metadata": {},
   "outputs": [
    {
     "data": {
      "text/plain": [
       "(100000, 55)"
      ]
     },
     "execution_count": 13,
     "metadata": {},
     "output_type": "execute_result"
    }
   ],
   "source": [
    "X_test.drop_duplicates(['idaviso', 'idpostulante'], inplace=True, keep='last')\n",
    "X_test.shape"
   ]
  },
  {
   "cell_type": "code",
   "execution_count": 14,
   "metadata": {},
   "outputs": [],
   "source": [
    "ids = X_test[['id']]"
   ]
  },
  {
   "cell_type": "code",
   "execution_count": 15,
   "metadata": {},
   "outputs": [],
   "source": [
    "X_test.drop('id', axis=1, inplace=True)"
   ]
  },
  {
   "cell_type": "code",
   "execution_count": 16,
   "metadata": {},
   "outputs": [
    {
     "name": "stdout",
     "output_type": "stream",
     "text": [
      "train shape: (13098946, 56) | target shape: (13098946, 1)\n",
      "test shape: (100000, 54)\n"
     ]
    }
   ],
   "source": [
    "print('train shape:', X_train.shape,'| target shape:', target.shape)\n",
    "print('test shape:', X_test.shape)"
   ]
  },
  {
   "cell_type": "code",
   "execution_count": 17,
   "metadata": {},
   "outputs": [],
   "source": [
    "ids.to_csv('test_.csv', sep=',', encoding='utf-8')"
   ]
  },
  {
   "cell_type": "code",
   "execution_count": 18,
   "metadata": {},
   "outputs": [
    {
     "name": "stdout",
     "output_type": "stream",
     "text": [
      "(13098946, 56)\n",
      "(100000, 54)\n"
     ]
    }
   ],
   "source": [
    "print(X_train.shape)\n",
    "print(X_test.shape)"
   ]
  },
  {
   "cell_type": "code",
   "execution_count": 19,
   "metadata": {},
   "outputs": [
    {
     "name": "stdout",
     "output_type": "stream",
     "text": [
      "6495194\n",
      "6603752\n"
     ]
    }
   ],
   "source": [
    "print(len(target[target['sepostulo'] == False]))\n",
    "print(len(target[target['sepostulo'] == True]))"
   ]
  },
  {
   "cell_type": "code",
   "execution_count": 20,
   "metadata": {},
   "outputs": [
    {
     "data": {
      "text/html": [
       "<div>\n",
       "<style scoped>\n",
       "    .dataframe tbody tr th:only-of-type {\n",
       "        vertical-align: middle;\n",
       "    }\n",
       "\n",
       "    .dataframe tbody tr th {\n",
       "        vertical-align: top;\n",
       "    }\n",
       "\n",
       "    .dataframe thead th {\n",
       "        text-align: right;\n",
       "    }\n",
       "</style>\n",
       "<table border=\"1\" class=\"dataframe\">\n",
       "  <thead>\n",
       "    <tr style=\"text-align: right;\">\n",
       "      <th></th>\n",
       "      <th>Administración</th>\n",
       "      <th>AdministracióndePersonal</th>\n",
       "      <th>Almacén/Depósito/Expedición</th>\n",
       "      <th>AtenciónalCliente</th>\n",
       "      <th>CallCenter</th>\n",
       "      <th>Comercial</th>\n",
       "      <th>Contabilidad</th>\n",
       "      <th>CréditosyCobranzas</th>\n",
       "      <th>Gastronomia</th>\n",
       "      <th>Legal</th>\n",
       "      <th>Logística</th>\n",
       "      <th>MantenimientoyLimpieza</th>\n",
       "      <th>Marketing</th>\n",
       "      <th>Producción</th>\n",
       "      <th>Recepcionista</th>\n",
       "      <th>RecursosHumanos</th>\n",
       "      <th>Secretaria</th>\n",
       "      <th>Telemarketing</th>\n",
       "      <th>Tesorería</th>\n",
       "      <th>Ventas</th>\n",
       "      <th>cant_postulaciones_aviso</th>\n",
       "      <th>cant_vistas_aviso</th>\n",
       "      <th>desc_1</th>\n",
       "      <th>desc_2</th>\n",
       "      <th>desc_3</th>\n",
       "      <th>desc_4</th>\n",
       "      <th>desc_5</th>\n",
       "      <th>desc_6</th>\n",
       "      <th>desc_7</th>\n",
       "      <th>edad</th>\n",
       "      <th>estado_estudio_Abandonado</th>\n",
       "      <th>estado_estudio_EnCurso</th>\n",
       "      <th>estado_estudio_Graduado</th>\n",
       "      <th>idaviso</th>\n",
       "      <th>idpostulante</th>\n",
       "      <th>nivel_laboral_Gerencia/AltaGerencia/Dirección</th>\n",
       "      <th>nivel_laboral_Jefe/Supervisor/Responsable</th>\n",
       "      <th>nivel_laboral_Junior</th>\n",
       "      <th>nivel_laboral_Otro</th>\n",
       "      <th>nivel_laboral_Senior/Semi-Senior</th>\n",
       "      <th>nivel_laboral_nan</th>\n",
       "      <th>nombre_area</th>\n",
       "      <th>nombre_estudio_Doctorado</th>\n",
       "      <th>nombre_estudio_Master</th>\n",
       "      <th>nombre_estudio_Otro</th>\n",
       "      <th>nombre_estudio_Posgrado</th>\n",
       "      <th>nombre_estudio_Secundario</th>\n",
       "      <th>nombre_estudio_Terciario/Tecnico</th>\n",
       "      <th>nombre_estudio_Universitario</th>\n",
       "      <th>sepostulo</th>\n",
       "      <th>sexo_FEM</th>\n",
       "      <th>sexo_MASC</th>\n",
       "      <th>sexo_NO_DECLARA</th>\n",
       "      <th>tipo_full</th>\n",
       "      <th>tipo_otro</th>\n",
       "      <th>tipo_part</th>\n",
       "    </tr>\n",
       "  </thead>\n",
       "  <tbody>\n",
       "    <tr>\n",
       "      <th>8245057</th>\n",
       "      <td>False</td>\n",
       "      <td>False</td>\n",
       "      <td>False</td>\n",
       "      <td>False</td>\n",
       "      <td>False</td>\n",
       "      <td>False</td>\n",
       "      <td>False</td>\n",
       "      <td>False</td>\n",
       "      <td>False</td>\n",
       "      <td>False</td>\n",
       "      <td>False</td>\n",
       "      <td>False</td>\n",
       "      <td>False</td>\n",
       "      <td>True</td>\n",
       "      <td>False</td>\n",
       "      <td>False</td>\n",
       "      <td>False</td>\n",
       "      <td>False</td>\n",
       "      <td>False</td>\n",
       "      <td>False</td>\n",
       "      <td>920</td>\n",
       "      <td>238</td>\n",
       "      <td>0.0</td>\n",
       "      <td>0.0</td>\n",
       "      <td>1.0</td>\n",
       "      <td>0.0</td>\n",
       "      <td>0.0</td>\n",
       "      <td>0.0</td>\n",
       "      <td>0.0</td>\n",
       "      <td>25</td>\n",
       "      <td>1</td>\n",
       "      <td>0</td>\n",
       "      <td>0</td>\n",
       "      <td>1112334812</td>\n",
       "      <td>dYz5LzP</td>\n",
       "      <td>0</td>\n",
       "      <td>0</td>\n",
       "      <td>0</td>\n",
       "      <td>0</td>\n",
       "      <td>1</td>\n",
       "      <td>NaN</td>\n",
       "      <td>Producción</td>\n",
       "      <td>0</td>\n",
       "      <td>0</td>\n",
       "      <td>0</td>\n",
       "      <td>0</td>\n",
       "      <td>0</td>\n",
       "      <td>0</td>\n",
       "      <td>1</td>\n",
       "      <td>False</td>\n",
       "      <td>0</td>\n",
       "      <td>1</td>\n",
       "      <td>0</td>\n",
       "      <td>True</td>\n",
       "      <td>False</td>\n",
       "      <td>False</td>\n",
       "    </tr>\n",
       "  </tbody>\n",
       "</table>\n",
       "</div>"
      ],
      "text/plain": [
       "         Administración  AdministracióndePersonal  \\\n",
       "8245057           False                     False   \n",
       "\n",
       "         Almacén/Depósito/Expedición  AtenciónalCliente  CallCenter  \\\n",
       "8245057                        False              False       False   \n",
       "\n",
       "         Comercial  Contabilidad  CréditosyCobranzas  Gastronomia  Legal  \\\n",
       "8245057      False         False               False        False  False   \n",
       "\n",
       "         Logística  MantenimientoyLimpieza  Marketing  Producción  \\\n",
       "8245057      False                   False      False        True   \n",
       "\n",
       "         Recepcionista  RecursosHumanos  Secretaria  Telemarketing  Tesorería  \\\n",
       "8245057          False            False       False          False      False   \n",
       "\n",
       "         Ventas  cant_postulaciones_aviso  cant_vistas_aviso  desc_1  desc_2  \\\n",
       "8245057   False                       920                238     0.0     0.0   \n",
       "\n",
       "         desc_3  desc_4  desc_5  desc_6  desc_7  edad  \\\n",
       "8245057     1.0     0.0     0.0     0.0     0.0    25   \n",
       "\n",
       "         estado_estudio_Abandonado  estado_estudio_EnCurso  \\\n",
       "8245057                          1                       0   \n",
       "\n",
       "         estado_estudio_Graduado     idaviso idpostulante  \\\n",
       "8245057                        0  1112334812      dYz5LzP   \n",
       "\n",
       "         nivel_laboral_Gerencia/AltaGerencia/Dirección  \\\n",
       "8245057                                              0   \n",
       "\n",
       "         nivel_laboral_Jefe/Supervisor/Responsable  nivel_laboral_Junior  \\\n",
       "8245057                                          0                     0   \n",
       "\n",
       "         nivel_laboral_Otro  nivel_laboral_Senior/Semi-Senior  \\\n",
       "8245057                   0                                 1   \n",
       "\n",
       "         nivel_laboral_nan nombre_area  nombre_estudio_Doctorado  \\\n",
       "8245057                NaN  Producción                         0   \n",
       "\n",
       "         nombre_estudio_Master  nombre_estudio_Otro  nombre_estudio_Posgrado  \\\n",
       "8245057                      0                    0                        0   \n",
       "\n",
       "         nombre_estudio_Secundario  nombre_estudio_Terciario/Tecnico  \\\n",
       "8245057                          0                                 0   \n",
       "\n",
       "         nombre_estudio_Universitario  sepostulo  sexo_FEM  sexo_MASC  \\\n",
       "8245057                             1      False         0          1   \n",
       "\n",
       "         sexo_NO_DECLARA  tipo_full  tipo_otro  tipo_part  \n",
       "8245057                0       True      False      False  "
      ]
     },
     "execution_count": 20,
     "metadata": {},
     "output_type": "execute_result"
    }
   ],
   "source": [
    "X_train.head(1)"
   ]
  },
  {
   "cell_type": "code",
   "execution_count": 21,
   "metadata": {},
   "outputs": [
    {
     "data": {
      "text/html": [
       "<div>\n",
       "<style scoped>\n",
       "    .dataframe tbody tr th:only-of-type {\n",
       "        vertical-align: middle;\n",
       "    }\n",
       "\n",
       "    .dataframe tbody tr th {\n",
       "        vertical-align: top;\n",
       "    }\n",
       "\n",
       "    .dataframe thead th {\n",
       "        text-align: right;\n",
       "    }\n",
       "</style>\n",
       "<table border=\"1\" class=\"dataframe\">\n",
       "  <thead>\n",
       "    <tr style=\"text-align: right;\">\n",
       "      <th></th>\n",
       "      <th>idaviso</th>\n",
       "      <th>idpostulante</th>\n",
       "      <th>edad</th>\n",
       "      <th>nombre_estudio_Doctorado</th>\n",
       "      <th>nombre_estudio_Master</th>\n",
       "      <th>nombre_estudio_Otro</th>\n",
       "      <th>nombre_estudio_Posgrado</th>\n",
       "      <th>nombre_estudio_Secundario</th>\n",
       "      <th>nombre_estudio_Terciario/Tecnico</th>\n",
       "      <th>nombre_estudio_Universitario</th>\n",
       "      <th>estado_estudio_Abandonado</th>\n",
       "      <th>estado_estudio_EnCurso</th>\n",
       "      <th>estado_estudio_Graduado</th>\n",
       "      <th>sexo_FEM</th>\n",
       "      <th>sexo_MASC</th>\n",
       "      <th>sexo_NO_DECLARA</th>\n",
       "      <th>nombre_area</th>\n",
       "      <th>desc_1</th>\n",
       "      <th>desc_2</th>\n",
       "      <th>desc_3</th>\n",
       "      <th>desc_4</th>\n",
       "      <th>desc_5</th>\n",
       "      <th>desc_6</th>\n",
       "      <th>desc_7</th>\n",
       "      <th>cant_vistas_aviso</th>\n",
       "      <th>cant_postulaciones_aviso</th>\n",
       "      <th>tipo_full</th>\n",
       "      <th>tipo_part</th>\n",
       "      <th>tipo_otro</th>\n",
       "      <th>nivel_laboral_Gerencia/AltaGerencia/Dirección</th>\n",
       "      <th>nivel_laboral_Jefe/Supervisor/Responsable</th>\n",
       "      <th>nivel_laboral_Junior</th>\n",
       "      <th>nivel_laboral_Otro</th>\n",
       "      <th>nivel_laboral_Senior/Semi-Senior</th>\n",
       "      <th>Ventas</th>\n",
       "      <th>Administración</th>\n",
       "      <th>Producción</th>\n",
       "      <th>Comercial</th>\n",
       "      <th>AtenciónalCliente</th>\n",
       "      <th>Recepcionista</th>\n",
       "      <th>CallCenter</th>\n",
       "      <th>Tesorería</th>\n",
       "      <th>Telemarketing</th>\n",
       "      <th>MantenimientoyLimpieza</th>\n",
       "      <th>Almacén/Depósito/Expedición</th>\n",
       "      <th>Contabilidad</th>\n",
       "      <th>RecursosHumanos</th>\n",
       "      <th>Gastronomia</th>\n",
       "      <th>Logística</th>\n",
       "      <th>Secretaria</th>\n",
       "      <th>AdministracióndePersonal</th>\n",
       "      <th>CréditosyCobranzas</th>\n",
       "      <th>Marketing</th>\n",
       "      <th>Legal</th>\n",
       "    </tr>\n",
       "  </thead>\n",
       "  <tbody>\n",
       "    <tr>\n",
       "      <th>0</th>\n",
       "      <td>739260</td>\n",
       "      <td>6M9ZQR</td>\n",
       "      <td>42</td>\n",
       "      <td>1</td>\n",
       "      <td>0</td>\n",
       "      <td>0</td>\n",
       "      <td>0</td>\n",
       "      <td>0</td>\n",
       "      <td>0</td>\n",
       "      <td>0</td>\n",
       "      <td>0</td>\n",
       "      <td>0</td>\n",
       "      <td>1</td>\n",
       "      <td>1</td>\n",
       "      <td>0</td>\n",
       "      <td>0</td>\n",
       "      <td>Comercial</td>\n",
       "      <td>0</td>\n",
       "      <td>1</td>\n",
       "      <td>0</td>\n",
       "      <td>0</td>\n",
       "      <td>0</td>\n",
       "      <td>0</td>\n",
       "      <td>0</td>\n",
       "      <td>2</td>\n",
       "      <td>0</td>\n",
       "      <td>True</td>\n",
       "      <td>False</td>\n",
       "      <td>False</td>\n",
       "      <td>0</td>\n",
       "      <td>1</td>\n",
       "      <td>0</td>\n",
       "      <td>0</td>\n",
       "      <td>0</td>\n",
       "      <td>False</td>\n",
       "      <td>False</td>\n",
       "      <td>False</td>\n",
       "      <td>True</td>\n",
       "      <td>False</td>\n",
       "      <td>False</td>\n",
       "      <td>False</td>\n",
       "      <td>False</td>\n",
       "      <td>False</td>\n",
       "      <td>False</td>\n",
       "      <td>False</td>\n",
       "      <td>False</td>\n",
       "      <td>False</td>\n",
       "      <td>False</td>\n",
       "      <td>False</td>\n",
       "      <td>False</td>\n",
       "      <td>False</td>\n",
       "      <td>False</td>\n",
       "      <td>False</td>\n",
       "      <td>False</td>\n",
       "    </tr>\n",
       "  </tbody>\n",
       "</table>\n",
       "</div>"
      ],
      "text/plain": [
       "   idaviso idpostulante  edad  nombre_estudio_Doctorado  \\\n",
       "0   739260       6M9ZQR    42                         1   \n",
       "\n",
       "   nombre_estudio_Master  nombre_estudio_Otro  nombre_estudio_Posgrado  \\\n",
       "0                      0                    0                        0   \n",
       "\n",
       "   nombre_estudio_Secundario  nombre_estudio_Terciario/Tecnico  \\\n",
       "0                          0                                 0   \n",
       "\n",
       "   nombre_estudio_Universitario  estado_estudio_Abandonado  \\\n",
       "0                             0                          0   \n",
       "\n",
       "   estado_estudio_EnCurso  estado_estudio_Graduado  sexo_FEM  sexo_MASC  \\\n",
       "0                       0                        1         1          0   \n",
       "\n",
       "   sexo_NO_DECLARA nombre_area  desc_1  desc_2  desc_3  desc_4  desc_5  \\\n",
       "0                0   Comercial       0       1       0       0       0   \n",
       "\n",
       "   desc_6  desc_7  cant_vistas_aviso  cant_postulaciones_aviso  tipo_full  \\\n",
       "0       0       0                  2                         0       True   \n",
       "\n",
       "   tipo_part  tipo_otro  nivel_laboral_Gerencia/AltaGerencia/Dirección  \\\n",
       "0      False      False                                              0   \n",
       "\n",
       "   nivel_laboral_Jefe/Supervisor/Responsable  nivel_laboral_Junior  \\\n",
       "0                                          1                     0   \n",
       "\n",
       "   nivel_laboral_Otro  nivel_laboral_Senior/Semi-Senior  Ventas  \\\n",
       "0                   0                                 0   False   \n",
       "\n",
       "   Administración  Producción  Comercial  AtenciónalCliente  Recepcionista  \\\n",
       "0           False       False       True              False          False   \n",
       "\n",
       "   CallCenter  Tesorería  Telemarketing  MantenimientoyLimpieza  \\\n",
       "0       False      False          False                   False   \n",
       "\n",
       "   Almacén/Depósito/Expedición  Contabilidad  RecursosHumanos  Gastronomia  \\\n",
       "0                        False         False            False        False   \n",
       "\n",
       "   Logística  Secretaria  AdministracióndePersonal  CréditosyCobranzas  \\\n",
       "0      False       False                     False               False   \n",
       "\n",
       "   Marketing  Legal  \n",
       "0      False  False  "
      ]
     },
     "execution_count": 21,
     "metadata": {},
     "output_type": "execute_result"
    }
   ],
   "source": [
    "X_test.head(1)"
   ]
  },
  {
   "cell_type": "code",
   "execution_count": 22,
   "metadata": {},
   "outputs": [],
   "source": [
    "X_test.drop(columns=['nombre_area', 'idpostulante'], inplace=True)"
   ]
  },
  {
   "cell_type": "code",
   "execution_count": 23,
   "metadata": {},
   "outputs": [],
   "source": [
    "X_train.drop(columns=['nombre_area', 'idpostulante', 'sepostulo', 'nivel_laboral_nan'], inplace=True)"
   ]
  },
  {
   "cell_type": "code",
   "execution_count": 24,
   "metadata": {},
   "outputs": [
    {
     "name": "stdout",
     "output_type": "stream",
     "text": [
      "Index(['Administración', 'AdministracióndePersonal',\n",
      "       'Almacén/Depósito/Expedición', 'AtenciónalCliente', 'CallCenter',\n",
      "       'Comercial', 'Contabilidad', 'CréditosyCobranzas', 'Gastronomia',\n",
      "       'Legal', 'Logística', 'MantenimientoyLimpieza', 'Marketing',\n",
      "       'Producción', 'Recepcionista', 'RecursosHumanos', 'Secretaria',\n",
      "       'Telemarketing', 'Tesorería', 'Ventas', 'cant_postulaciones_aviso',\n",
      "       'cant_vistas_aviso', 'desc_1', 'desc_2', 'desc_3', 'desc_4', 'desc_5',\n",
      "       'desc_6', 'desc_7', 'edad', 'estado_estudio_Abandonado',\n",
      "       'estado_estudio_EnCurso', 'estado_estudio_Graduado', 'idaviso',\n",
      "       'nivel_laboral_Gerencia/AltaGerencia/Dirección',\n",
      "       'nivel_laboral_Jefe/Supervisor/Responsable', 'nivel_laboral_Junior',\n",
      "       'nivel_laboral_Otro', 'nivel_laboral_Senior/Semi-Senior',\n",
      "       'nombre_estudio_Doctorado', 'nombre_estudio_Master',\n",
      "       'nombre_estudio_Otro', 'nombre_estudio_Posgrado',\n",
      "       'nombre_estudio_Secundario', 'nombre_estudio_Terciario/Tecnico',\n",
      "       'nombre_estudio_Universitario', 'sexo_FEM', 'sexo_MASC',\n",
      "       'sexo_NO_DECLARA', 'tipo_full', 'tipo_otro', 'tipo_part'],\n",
      "      dtype='object')\n",
      "Index(['idaviso', 'edad', 'nombre_estudio_Doctorado', 'nombre_estudio_Master',\n",
      "       'nombre_estudio_Otro', 'nombre_estudio_Posgrado',\n",
      "       'nombre_estudio_Secundario', 'nombre_estudio_Terciario/Tecnico',\n",
      "       'nombre_estudio_Universitario', 'estado_estudio_Abandonado',\n",
      "       'estado_estudio_EnCurso', 'estado_estudio_Graduado', 'sexo_FEM',\n",
      "       'sexo_MASC', 'sexo_NO_DECLARA', 'desc_1', 'desc_2', 'desc_3', 'desc_4',\n",
      "       'desc_5', 'desc_6', 'desc_7', 'cant_vistas_aviso',\n",
      "       'cant_postulaciones_aviso', 'tipo_full', 'tipo_part', 'tipo_otro',\n",
      "       'nivel_laboral_Gerencia/AltaGerencia/Dirección',\n",
      "       'nivel_laboral_Jefe/Supervisor/Responsable', 'nivel_laboral_Junior',\n",
      "       'nivel_laboral_Otro', 'nivel_laboral_Senior/Semi-Senior', 'Ventas',\n",
      "       'Administración', 'Producción', 'Comercial', 'AtenciónalCliente',\n",
      "       'Recepcionista', 'CallCenter', 'Tesorería', 'Telemarketing',\n",
      "       'MantenimientoyLimpieza', 'Almacén/Depósito/Expedición', 'Contabilidad',\n",
      "       'RecursosHumanos', 'Gastronomia', 'Logística', 'Secretaria',\n",
      "       'AdministracióndePersonal', 'CréditosyCobranzas', 'Marketing', 'Legal'],\n",
      "      dtype='object')\n"
     ]
    }
   ],
   "source": [
    "print(X_train.columns)\n",
    "print(X_test.columns)"
   ]
  },
  {
   "cell_type": "code",
   "execution_count": 25,
   "metadata": {},
   "outputs": [],
   "source": [
    "# Ordenamos las columnas para que queden igual\n",
    "#X_train = X_train.reindex_axis(sorted(X_train.columns), axis=1)\n",
    "#X_test = X_test.reindex_axis(sorted(X_test.columns), axis=1)\n",
    "#X_train = X_train.reindex(sorted(X_train.columns), axis=1)\n",
    "#X_test = X_test.reindex(sorted(X_test.columns), axis=1)"
   ]
  },
  {
   "cell_type": "code",
   "execution_count": 26,
   "metadata": {},
   "outputs": [
    {
     "name": "stdout",
     "output_type": "stream",
     "text": [
      "(13098946, 52)\n",
      "(100000, 52)\n",
      "Index(['Administración', 'AdministracióndePersonal',\n",
      "       'Almacén/Depósito/Expedición', 'AtenciónalCliente', 'CallCenter',\n",
      "       'Comercial', 'Contabilidad', 'CréditosyCobranzas', 'Gastronomia',\n",
      "       'Legal', 'Logística', 'MantenimientoyLimpieza', 'Marketing',\n",
      "       'Producción', 'Recepcionista', 'RecursosHumanos', 'Secretaria',\n",
      "       'Telemarketing', 'Tesorería', 'Ventas', 'cant_postulaciones_aviso',\n",
      "       'cant_vistas_aviso', 'desc_1', 'desc_2', 'desc_3', 'desc_4', 'desc_5',\n",
      "       'desc_6', 'desc_7', 'edad', 'estado_estudio_Abandonado',\n",
      "       'estado_estudio_EnCurso', 'estado_estudio_Graduado', 'idaviso',\n",
      "       'nivel_laboral_Gerencia/AltaGerencia/Dirección',\n",
      "       'nivel_laboral_Jefe/Supervisor/Responsable', 'nivel_laboral_Junior',\n",
      "       'nivel_laboral_Otro', 'nivel_laboral_Senior/Semi-Senior',\n",
      "       'nombre_estudio_Doctorado', 'nombre_estudio_Master',\n",
      "       'nombre_estudio_Otro', 'nombre_estudio_Posgrado',\n",
      "       'nombre_estudio_Secundario', 'nombre_estudio_Terciario/Tecnico',\n",
      "       'nombre_estudio_Universitario', 'sexo_FEM', 'sexo_MASC',\n",
      "       'sexo_NO_DECLARA', 'tipo_full', 'tipo_otro', 'tipo_part'],\n",
      "      dtype='object')\n",
      "Index(['idaviso', 'edad', 'nombre_estudio_Doctorado', 'nombre_estudio_Master',\n",
      "       'nombre_estudio_Otro', 'nombre_estudio_Posgrado',\n",
      "       'nombre_estudio_Secundario', 'nombre_estudio_Terciario/Tecnico',\n",
      "       'nombre_estudio_Universitario', 'estado_estudio_Abandonado',\n",
      "       'estado_estudio_EnCurso', 'estado_estudio_Graduado', 'sexo_FEM',\n",
      "       'sexo_MASC', 'sexo_NO_DECLARA', 'desc_1', 'desc_2', 'desc_3', 'desc_4',\n",
      "       'desc_5', 'desc_6', 'desc_7', 'cant_vistas_aviso',\n",
      "       'cant_postulaciones_aviso', 'tipo_full', 'tipo_part', 'tipo_otro',\n",
      "       'nivel_laboral_Gerencia/AltaGerencia/Dirección',\n",
      "       'nivel_laboral_Jefe/Supervisor/Responsable', 'nivel_laboral_Junior',\n",
      "       'nivel_laboral_Otro', 'nivel_laboral_Senior/Semi-Senior', 'Ventas',\n",
      "       'Administración', 'Producción', 'Comercial', 'AtenciónalCliente',\n",
      "       'Recepcionista', 'CallCenter', 'Tesorería', 'Telemarketing',\n",
      "       'MantenimientoyLimpieza', 'Almacén/Depósito/Expedición', 'Contabilidad',\n",
      "       'RecursosHumanos', 'Gastronomia', 'Logística', 'Secretaria',\n",
      "       'AdministracióndePersonal', 'CréditosyCobranzas', 'Marketing', 'Legal'],\n",
      "      dtype='object')\n"
     ]
    }
   ],
   "source": [
    "print(X_train.shape)\n",
    "print(X_test.shape)\n",
    "print(X_train.columns)\n",
    "print(X_test.columns)"
   ]
  },
  {
   "cell_type": "code",
   "execution_count": 27,
   "metadata": {},
   "outputs": [
    {
     "data": {
      "text/plain": [
       "Administración                                      bool\n",
       "AdministracióndePersonal                            bool\n",
       "Almacén/Depósito/Expedición                         bool\n",
       "AtenciónalCliente                                   bool\n",
       "CallCenter                                          bool\n",
       "Comercial                                           bool\n",
       "Contabilidad                                        bool\n",
       "CréditosyCobranzas                                  bool\n",
       "Gastronomia                                         bool\n",
       "Legal                                               bool\n",
       "Logística                                           bool\n",
       "MantenimientoyLimpieza                              bool\n",
       "Marketing                                           bool\n",
       "Producción                                          bool\n",
       "Recepcionista                                       bool\n",
       "RecursosHumanos                                     bool\n",
       "Secretaria                                          bool\n",
       "Telemarketing                                       bool\n",
       "Tesorería                                           bool\n",
       "Ventas                                              bool\n",
       "cant_postulaciones_aviso                           int64\n",
       "cant_vistas_aviso                                  int64\n",
       "desc_1                                           float64\n",
       "desc_2                                           float64\n",
       "desc_3                                           float64\n",
       "desc_4                                           float64\n",
       "desc_5                                           float64\n",
       "desc_6                                           float64\n",
       "desc_7                                           float64\n",
       "edad                                               int64\n",
       "estado_estudio_Abandonado                          int64\n",
       "estado_estudio_EnCurso                             int64\n",
       "estado_estudio_Graduado                            int64\n",
       "idaviso                                            int64\n",
       "nivel_laboral_Gerencia/AltaGerencia/Dirección      int64\n",
       "nivel_laboral_Jefe/Supervisor/Responsable          int64\n",
       "nivel_laboral_Junior                               int64\n",
       "nivel_laboral_Otro                                 int64\n",
       "nivel_laboral_Senior/Semi-Senior                   int64\n",
       "nombre_estudio_Doctorado                           int64\n",
       "nombre_estudio_Master                              int64\n",
       "nombre_estudio_Otro                                int64\n",
       "nombre_estudio_Posgrado                            int64\n",
       "nombre_estudio_Secundario                          int64\n",
       "nombre_estudio_Terciario/Tecnico                   int64\n",
       "nombre_estudio_Universitario                       int64\n",
       "sexo_FEM                                           int64\n",
       "sexo_MASC                                          int64\n",
       "sexo_NO_DECLARA                                    int64\n",
       "tipo_full                                           bool\n",
       "tipo_otro                                           bool\n",
       "tipo_part                                           bool\n",
       "dtype: object"
      ]
     },
     "execution_count": 27,
     "metadata": {},
     "output_type": "execute_result"
    }
   ],
   "source": [
    "X_train.dtypes"
   ]
  },
  {
   "cell_type": "code",
   "execution_count": 28,
   "metadata": {},
   "outputs": [
    {
     "data": {
      "text/plain": [
       "idaviso                                          int64\n",
       "edad                                             int64\n",
       "nombre_estudio_Doctorado                         int64\n",
       "nombre_estudio_Master                            int64\n",
       "nombre_estudio_Otro                              int64\n",
       "nombre_estudio_Posgrado                          int64\n",
       "nombre_estudio_Secundario                        int64\n",
       "nombre_estudio_Terciario/Tecnico                 int64\n",
       "nombre_estudio_Universitario                     int64\n",
       "estado_estudio_Abandonado                        int64\n",
       "estado_estudio_EnCurso                           int64\n",
       "estado_estudio_Graduado                          int64\n",
       "sexo_FEM                                         int64\n",
       "sexo_MASC                                        int64\n",
       "sexo_NO_DECLARA                                  int64\n",
       "desc_1                                           int64\n",
       "desc_2                                           int64\n",
       "desc_3                                           int64\n",
       "desc_4                                           int64\n",
       "desc_5                                           int64\n",
       "desc_6                                           int64\n",
       "desc_7                                           int64\n",
       "cant_vistas_aviso                                int64\n",
       "cant_postulaciones_aviso                         int64\n",
       "tipo_full                                         bool\n",
       "tipo_part                                         bool\n",
       "tipo_otro                                         bool\n",
       "nivel_laboral_Gerencia/AltaGerencia/Dirección    int64\n",
       "nivel_laboral_Jefe/Supervisor/Responsable        int64\n",
       "nivel_laboral_Junior                             int64\n",
       "nivel_laboral_Otro                               int64\n",
       "nivel_laboral_Senior/Semi-Senior                 int64\n",
       "Ventas                                            bool\n",
       "Administración                                    bool\n",
       "Producción                                        bool\n",
       "Comercial                                         bool\n",
       "AtenciónalCliente                                 bool\n",
       "Recepcionista                                     bool\n",
       "CallCenter                                        bool\n",
       "Tesorería                                         bool\n",
       "Telemarketing                                     bool\n",
       "MantenimientoyLimpieza                            bool\n",
       "Almacén/Depósito/Expedición                       bool\n",
       "Contabilidad                                      bool\n",
       "RecursosHumanos                                   bool\n",
       "Gastronomia                                       bool\n",
       "Logística                                         bool\n",
       "Secretaria                                        bool\n",
       "AdministracióndePersonal                          bool\n",
       "CréditosyCobranzas                                bool\n",
       "Marketing                                         bool\n",
       "Legal                                             bool\n",
       "dtype: object"
      ]
     },
     "execution_count": 28,
     "metadata": {},
     "output_type": "execute_result"
    }
   ],
   "source": [
    "X_test.dtypes"
   ]
  },
  {
   "cell_type": "markdown",
   "metadata": {},
   "source": [
    "# Checkpoint "
   ]
  },
  {
   "cell_type": "code",
   "execution_count": 29,
   "metadata": {},
   "outputs": [],
   "source": [
    "# Completo\n",
    "X_train.to_csv('../data/X_train.csv', index=False, sep=',', encoding='utf-8')\n",
    "target.to_csv('../data/target.csv', index=False, sep=',', encoding='utf-8')"
   ]
  },
  {
   "cell_type": "code",
   "execution_count": 30,
   "metadata": {},
   "outputs": [],
   "source": [
    "X_test.to_csv('../data/X_test.csv', index=False, sep=',', encoding='utf-8')"
   ]
  },
  {
   "cell_type": "code",
   "execution_count": null,
   "metadata": {},
   "outputs": [],
   "source": [
    "X_train = pd.read_csv('../data/X_train.csv', sep=',', encoding='utf-8')\n",
    "target = pd.read_csv('../data/target.csv', sep=',', encoding='utf-8')"
   ]
  },
  {
   "cell_type": "code",
   "execution_count": 31,
   "metadata": {},
   "outputs": [],
   "source": [
    "# 8 millones\n",
    "X_train.head(8000000).to_csv('../data/X_train_8000000.csv', index=False, sep=',', encoding='utf-8')\n",
    "target.head(8000000).to_csv('../data/target_8000000.csv', index=False, sep=',', encoding='utf-8')"
   ]
  },
  {
   "cell_type": "code",
   "execution_count": 2,
   "metadata": {},
   "outputs": [],
   "source": [
    "X_train = pd.read_csv('../data/X_train_8000000.csv', sep=',', encoding='utf-8')"
   ]
  },
  {
   "cell_type": "code",
   "execution_count": 23,
   "metadata": {},
   "outputs": [],
   "source": [
    "target = pd.read_csv('../data/target_8000000.csv', sep=',', encoding='utf-8')"
   ]
  },
  {
   "cell_type": "code",
   "execution_count": 3,
   "metadata": {},
   "outputs": [],
   "source": [
    "X_test = pd.read_csv('../data/X_test.csv', sep=',', encoding='utf-8')"
   ]
  },
  {
   "cell_type": "code",
   "execution_count": 4,
   "metadata": {},
   "outputs": [
    {
     "name": "stdout",
     "output_type": "stream",
     "text": [
      "(8000000, 52)\n",
      "(100000, 52)\n"
     ]
    },
    {
     "ename": "NameError",
     "evalue": "name 'target' is not defined",
     "output_type": "error",
     "traceback": [
      "\u001b[0;31m---------------------------------------------------------------------------\u001b[0m",
      "\u001b[0;31mNameError\u001b[0m                                 Traceback (most recent call last)",
      "\u001b[0;32m<ipython-input-4-41e3170b2164>\u001b[0m in \u001b[0;36m<module>\u001b[0;34m()\u001b[0m\n\u001b[1;32m      1\u001b[0m \u001b[0mprint\u001b[0m\u001b[0;34m(\u001b[0m\u001b[0mX_train\u001b[0m\u001b[0;34m.\u001b[0m\u001b[0mshape\u001b[0m\u001b[0;34m)\u001b[0m\u001b[0;34m\u001b[0m\u001b[0m\n\u001b[1;32m      2\u001b[0m \u001b[0mprint\u001b[0m\u001b[0;34m(\u001b[0m\u001b[0mX_test\u001b[0m\u001b[0;34m.\u001b[0m\u001b[0mshape\u001b[0m\u001b[0;34m)\u001b[0m\u001b[0;34m\u001b[0m\u001b[0m\n\u001b[0;32m----> 3\u001b[0;31m \u001b[0mprint\u001b[0m\u001b[0;34m(\u001b[0m\u001b[0mtarget\u001b[0m\u001b[0;34m.\u001b[0m\u001b[0mshape\u001b[0m\u001b[0;34m)\u001b[0m\u001b[0;34m\u001b[0m\u001b[0m\n\u001b[0m",
      "\u001b[0;31mNameError\u001b[0m: name 'target' is not defined"
     ]
    }
   ],
   "source": [
    "print(X_train.shape)\n",
    "print(X_test.shape)\n",
    "print(target.shape)"
   ]
  },
  {
   "cell_type": "code",
   "execution_count": 5,
   "metadata": {},
   "outputs": [],
   "source": [
    "#X_test.drop(columns=['nombre_area', 'idpostulante'], inplace=True)"
   ]
  },
  {
   "cell_type": "code",
   "execution_count": 6,
   "metadata": {},
   "outputs": [],
   "source": [
    "X_train = X_train.reindex(sorted(X_train.columns), axis=1)\n",
    "X_test = X_test.reindex(sorted(X_test.columns), axis=1)"
   ]
  },
  {
   "cell_type": "code",
   "execution_count": 7,
   "metadata": {},
   "outputs": [
    {
     "data": {
      "text/html": [
       "<div>\n",
       "<style scoped>\n",
       "    .dataframe tbody tr th:only-of-type {\n",
       "        vertical-align: middle;\n",
       "    }\n",
       "\n",
       "    .dataframe tbody tr th {\n",
       "        vertical-align: top;\n",
       "    }\n",
       "\n",
       "    .dataframe thead th {\n",
       "        text-align: right;\n",
       "    }\n",
       "</style>\n",
       "<table border=\"1\" class=\"dataframe\">\n",
       "  <thead>\n",
       "    <tr style=\"text-align: right;\">\n",
       "      <th></th>\n",
       "      <th>Administración</th>\n",
       "      <th>AdministracióndePersonal</th>\n",
       "      <th>Almacén/Depósito/Expedición</th>\n",
       "      <th>AtenciónalCliente</th>\n",
       "      <th>CallCenter</th>\n",
       "      <th>Comercial</th>\n",
       "      <th>Contabilidad</th>\n",
       "      <th>CréditosyCobranzas</th>\n",
       "      <th>Gastronomia</th>\n",
       "      <th>Legal</th>\n",
       "      <th>Logística</th>\n",
       "      <th>MantenimientoyLimpieza</th>\n",
       "      <th>Marketing</th>\n",
       "      <th>Producción</th>\n",
       "      <th>Recepcionista</th>\n",
       "      <th>RecursosHumanos</th>\n",
       "      <th>Secretaria</th>\n",
       "      <th>Telemarketing</th>\n",
       "      <th>Tesorería</th>\n",
       "      <th>Ventas</th>\n",
       "      <th>cant_postulaciones_aviso</th>\n",
       "      <th>cant_vistas_aviso</th>\n",
       "      <th>desc_1</th>\n",
       "      <th>desc_2</th>\n",
       "      <th>desc_3</th>\n",
       "      <th>desc_4</th>\n",
       "      <th>desc_5</th>\n",
       "      <th>desc_6</th>\n",
       "      <th>desc_7</th>\n",
       "      <th>edad</th>\n",
       "      <th>estado_estudio_Abandonado</th>\n",
       "      <th>estado_estudio_EnCurso</th>\n",
       "      <th>estado_estudio_Graduado</th>\n",
       "      <th>idaviso</th>\n",
       "      <th>nivel_laboral_Gerencia/AltaGerencia/Dirección</th>\n",
       "      <th>nivel_laboral_Jefe/Supervisor/Responsable</th>\n",
       "      <th>nivel_laboral_Junior</th>\n",
       "      <th>nivel_laboral_Otro</th>\n",
       "      <th>nivel_laboral_Senior/Semi-Senior</th>\n",
       "      <th>nombre_estudio_Doctorado</th>\n",
       "      <th>nombre_estudio_Master</th>\n",
       "      <th>nombre_estudio_Otro</th>\n",
       "      <th>nombre_estudio_Posgrado</th>\n",
       "      <th>nombre_estudio_Secundario</th>\n",
       "      <th>nombre_estudio_Terciario/Tecnico</th>\n",
       "      <th>nombre_estudio_Universitario</th>\n",
       "      <th>sexo_FEM</th>\n",
       "      <th>sexo_MASC</th>\n",
       "      <th>sexo_NO_DECLARA</th>\n",
       "      <th>tipo_full</th>\n",
       "      <th>tipo_otro</th>\n",
       "      <th>tipo_part</th>\n",
       "    </tr>\n",
       "  </thead>\n",
       "  <tbody>\n",
       "    <tr>\n",
       "      <th>0</th>\n",
       "      <td>False</td>\n",
       "      <td>False</td>\n",
       "      <td>False</td>\n",
       "      <td>False</td>\n",
       "      <td>False</td>\n",
       "      <td>False</td>\n",
       "      <td>False</td>\n",
       "      <td>False</td>\n",
       "      <td>False</td>\n",
       "      <td>False</td>\n",
       "      <td>False</td>\n",
       "      <td>False</td>\n",
       "      <td>False</td>\n",
       "      <td>True</td>\n",
       "      <td>False</td>\n",
       "      <td>False</td>\n",
       "      <td>False</td>\n",
       "      <td>False</td>\n",
       "      <td>False</td>\n",
       "      <td>False</td>\n",
       "      <td>920</td>\n",
       "      <td>238</td>\n",
       "      <td>0.0</td>\n",
       "      <td>0.0</td>\n",
       "      <td>1.0</td>\n",
       "      <td>0.0</td>\n",
       "      <td>0.0</td>\n",
       "      <td>0.0</td>\n",
       "      <td>0.0</td>\n",
       "      <td>25</td>\n",
       "      <td>1</td>\n",
       "      <td>0</td>\n",
       "      <td>0</td>\n",
       "      <td>1112334812</td>\n",
       "      <td>0</td>\n",
       "      <td>0</td>\n",
       "      <td>0</td>\n",
       "      <td>0</td>\n",
       "      <td>1</td>\n",
       "      <td>0</td>\n",
       "      <td>0</td>\n",
       "      <td>0</td>\n",
       "      <td>0</td>\n",
       "      <td>0</td>\n",
       "      <td>0</td>\n",
       "      <td>1</td>\n",
       "      <td>0</td>\n",
       "      <td>1</td>\n",
       "      <td>0</td>\n",
       "      <td>True</td>\n",
       "      <td>False</td>\n",
       "      <td>False</td>\n",
       "    </tr>\n",
       "  </tbody>\n",
       "</table>\n",
       "</div>"
      ],
      "text/plain": [
       "   Administración  AdministracióndePersonal  Almacén/Depósito/Expedición  \\\n",
       "0           False                     False                        False   \n",
       "\n",
       "   AtenciónalCliente  CallCenter  Comercial  Contabilidad  CréditosyCobranzas  \\\n",
       "0              False       False      False         False               False   \n",
       "\n",
       "   Gastronomia  Legal  Logística  MantenimientoyLimpieza  Marketing  \\\n",
       "0        False  False      False                   False      False   \n",
       "\n",
       "   Producción  Recepcionista  RecursosHumanos  Secretaria  Telemarketing  \\\n",
       "0        True          False            False       False          False   \n",
       "\n",
       "   Tesorería  Ventas  cant_postulaciones_aviso  cant_vistas_aviso  desc_1  \\\n",
       "0      False   False                       920                238     0.0   \n",
       "\n",
       "   desc_2  desc_3  desc_4  desc_5  desc_6  desc_7  edad  \\\n",
       "0     0.0     1.0     0.0     0.0     0.0     0.0    25   \n",
       "\n",
       "   estado_estudio_Abandonado  estado_estudio_EnCurso  estado_estudio_Graduado  \\\n",
       "0                          1                       0                        0   \n",
       "\n",
       "      idaviso  nivel_laboral_Gerencia/AltaGerencia/Dirección  \\\n",
       "0  1112334812                                              0   \n",
       "\n",
       "   nivel_laboral_Jefe/Supervisor/Responsable  nivel_laboral_Junior  \\\n",
       "0                                          0                     0   \n",
       "\n",
       "   nivel_laboral_Otro  nivel_laboral_Senior/Semi-Senior  \\\n",
       "0                   0                                 1   \n",
       "\n",
       "   nombre_estudio_Doctorado  nombre_estudio_Master  nombre_estudio_Otro  \\\n",
       "0                         0                      0                    0   \n",
       "\n",
       "   nombre_estudio_Posgrado  nombre_estudio_Secundario  \\\n",
       "0                        0                          0   \n",
       "\n",
       "   nombre_estudio_Terciario/Tecnico  nombre_estudio_Universitario  sexo_FEM  \\\n",
       "0                                 0                             1         0   \n",
       "\n",
       "   sexo_MASC  sexo_NO_DECLARA  tipo_full  tipo_otro  tipo_part  \n",
       "0          1                0       True      False      False  "
      ]
     },
     "execution_count": 7,
     "metadata": {},
     "output_type": "execute_result"
    }
   ],
   "source": [
    "X_train.head(1)"
   ]
  },
  {
   "cell_type": "code",
   "execution_count": 8,
   "metadata": {},
   "outputs": [
    {
     "data": {
      "text/html": [
       "<div>\n",
       "<style scoped>\n",
       "    .dataframe tbody tr th:only-of-type {\n",
       "        vertical-align: middle;\n",
       "    }\n",
       "\n",
       "    .dataframe tbody tr th {\n",
       "        vertical-align: top;\n",
       "    }\n",
       "\n",
       "    .dataframe thead th {\n",
       "        text-align: right;\n",
       "    }\n",
       "</style>\n",
       "<table border=\"1\" class=\"dataframe\">\n",
       "  <thead>\n",
       "    <tr style=\"text-align: right;\">\n",
       "      <th></th>\n",
       "      <th>Administración</th>\n",
       "      <th>AdministracióndePersonal</th>\n",
       "      <th>Almacén/Depósito/Expedición</th>\n",
       "      <th>AtenciónalCliente</th>\n",
       "      <th>CallCenter</th>\n",
       "      <th>Comercial</th>\n",
       "      <th>Contabilidad</th>\n",
       "      <th>CréditosyCobranzas</th>\n",
       "      <th>Gastronomia</th>\n",
       "      <th>Legal</th>\n",
       "      <th>Logística</th>\n",
       "      <th>MantenimientoyLimpieza</th>\n",
       "      <th>Marketing</th>\n",
       "      <th>Producción</th>\n",
       "      <th>Recepcionista</th>\n",
       "      <th>RecursosHumanos</th>\n",
       "      <th>Secretaria</th>\n",
       "      <th>Telemarketing</th>\n",
       "      <th>Tesorería</th>\n",
       "      <th>Ventas</th>\n",
       "      <th>cant_postulaciones_aviso</th>\n",
       "      <th>cant_vistas_aviso</th>\n",
       "      <th>desc_1</th>\n",
       "      <th>desc_2</th>\n",
       "      <th>desc_3</th>\n",
       "      <th>desc_4</th>\n",
       "      <th>desc_5</th>\n",
       "      <th>desc_6</th>\n",
       "      <th>desc_7</th>\n",
       "      <th>edad</th>\n",
       "      <th>estado_estudio_Abandonado</th>\n",
       "      <th>estado_estudio_EnCurso</th>\n",
       "      <th>estado_estudio_Graduado</th>\n",
       "      <th>idaviso</th>\n",
       "      <th>nivel_laboral_Gerencia/AltaGerencia/Dirección</th>\n",
       "      <th>nivel_laboral_Jefe/Supervisor/Responsable</th>\n",
       "      <th>nivel_laboral_Junior</th>\n",
       "      <th>nivel_laboral_Otro</th>\n",
       "      <th>nivel_laboral_Senior/Semi-Senior</th>\n",
       "      <th>nombre_estudio_Doctorado</th>\n",
       "      <th>nombre_estudio_Master</th>\n",
       "      <th>nombre_estudio_Otro</th>\n",
       "      <th>nombre_estudio_Posgrado</th>\n",
       "      <th>nombre_estudio_Secundario</th>\n",
       "      <th>nombre_estudio_Terciario/Tecnico</th>\n",
       "      <th>nombre_estudio_Universitario</th>\n",
       "      <th>sexo_FEM</th>\n",
       "      <th>sexo_MASC</th>\n",
       "      <th>sexo_NO_DECLARA</th>\n",
       "      <th>tipo_full</th>\n",
       "      <th>tipo_otro</th>\n",
       "      <th>tipo_part</th>\n",
       "    </tr>\n",
       "  </thead>\n",
       "  <tbody>\n",
       "    <tr>\n",
       "      <th>0</th>\n",
       "      <td>False</td>\n",
       "      <td>False</td>\n",
       "      <td>False</td>\n",
       "      <td>False</td>\n",
       "      <td>False</td>\n",
       "      <td>True</td>\n",
       "      <td>False</td>\n",
       "      <td>False</td>\n",
       "      <td>False</td>\n",
       "      <td>False</td>\n",
       "      <td>False</td>\n",
       "      <td>False</td>\n",
       "      <td>False</td>\n",
       "      <td>False</td>\n",
       "      <td>False</td>\n",
       "      <td>False</td>\n",
       "      <td>False</td>\n",
       "      <td>False</td>\n",
       "      <td>False</td>\n",
       "      <td>False</td>\n",
       "      <td>0</td>\n",
       "      <td>2</td>\n",
       "      <td>0</td>\n",
       "      <td>1</td>\n",
       "      <td>0</td>\n",
       "      <td>0</td>\n",
       "      <td>0</td>\n",
       "      <td>0</td>\n",
       "      <td>0</td>\n",
       "      <td>42</td>\n",
       "      <td>0</td>\n",
       "      <td>0</td>\n",
       "      <td>1</td>\n",
       "      <td>739260</td>\n",
       "      <td>0</td>\n",
       "      <td>1</td>\n",
       "      <td>0</td>\n",
       "      <td>0</td>\n",
       "      <td>0</td>\n",
       "      <td>1</td>\n",
       "      <td>0</td>\n",
       "      <td>0</td>\n",
       "      <td>0</td>\n",
       "      <td>0</td>\n",
       "      <td>0</td>\n",
       "      <td>0</td>\n",
       "      <td>1</td>\n",
       "      <td>0</td>\n",
       "      <td>0</td>\n",
       "      <td>True</td>\n",
       "      <td>False</td>\n",
       "      <td>False</td>\n",
       "    </tr>\n",
       "  </tbody>\n",
       "</table>\n",
       "</div>"
      ],
      "text/plain": [
       "   Administración  AdministracióndePersonal  Almacén/Depósito/Expedición  \\\n",
       "0           False                     False                        False   \n",
       "\n",
       "   AtenciónalCliente  CallCenter  Comercial  Contabilidad  CréditosyCobranzas  \\\n",
       "0              False       False       True         False               False   \n",
       "\n",
       "   Gastronomia  Legal  Logística  MantenimientoyLimpieza  Marketing  \\\n",
       "0        False  False      False                   False      False   \n",
       "\n",
       "   Producción  Recepcionista  RecursosHumanos  Secretaria  Telemarketing  \\\n",
       "0       False          False            False       False          False   \n",
       "\n",
       "   Tesorería  Ventas  cant_postulaciones_aviso  cant_vistas_aviso  desc_1  \\\n",
       "0      False   False                         0                  2       0   \n",
       "\n",
       "   desc_2  desc_3  desc_4  desc_5  desc_6  desc_7  edad  \\\n",
       "0       1       0       0       0       0       0    42   \n",
       "\n",
       "   estado_estudio_Abandonado  estado_estudio_EnCurso  estado_estudio_Graduado  \\\n",
       "0                          0                       0                        1   \n",
       "\n",
       "   idaviso  nivel_laboral_Gerencia/AltaGerencia/Dirección  \\\n",
       "0   739260                                              0   \n",
       "\n",
       "   nivel_laboral_Jefe/Supervisor/Responsable  nivel_laboral_Junior  \\\n",
       "0                                          1                     0   \n",
       "\n",
       "   nivel_laboral_Otro  nivel_laboral_Senior/Semi-Senior  \\\n",
       "0                   0                                 0   \n",
       "\n",
       "   nombre_estudio_Doctorado  nombre_estudio_Master  nombre_estudio_Otro  \\\n",
       "0                         1                      0                    0   \n",
       "\n",
       "   nombre_estudio_Posgrado  nombre_estudio_Secundario  \\\n",
       "0                        0                          0   \n",
       "\n",
       "   nombre_estudio_Terciario/Tecnico  nombre_estudio_Universitario  sexo_FEM  \\\n",
       "0                                 0                             0         1   \n",
       "\n",
       "   sexo_MASC  sexo_NO_DECLARA  tipo_full  tipo_otro  tipo_part  \n",
       "0          0                0       True      False      False  "
      ]
     },
     "execution_count": 8,
     "metadata": {},
     "output_type": "execute_result"
    }
   ],
   "source": [
    "X_test.head(1)"
   ]
  },
  {
   "cell_type": "code",
   "execution_count": 9,
   "metadata": {},
   "outputs": [
    {
     "name": "stdout",
     "output_type": "stream",
     "text": [
      "<class 'pandas.core.frame.DataFrame'>\n",
      "RangeIndex: 8000000 entries, 0 to 7999999\n",
      "Data columns (total 52 columns):\n",
      "Administración                                   bool\n",
      "AdministracióndePersonal                         bool\n",
      "Almacén/Depósito/Expedición                      bool\n",
      "AtenciónalCliente                                bool\n",
      "CallCenter                                       bool\n",
      "Comercial                                        bool\n",
      "Contabilidad                                     bool\n",
      "CréditosyCobranzas                               bool\n",
      "Gastronomia                                      bool\n",
      "Legal                                            bool\n",
      "Logística                                        bool\n",
      "MantenimientoyLimpieza                           bool\n",
      "Marketing                                        bool\n",
      "Producción                                       bool\n",
      "Recepcionista                                    bool\n",
      "RecursosHumanos                                  bool\n",
      "Secretaria                                       bool\n",
      "Telemarketing                                    bool\n",
      "Tesorería                                        bool\n",
      "Ventas                                           bool\n",
      "cant_postulaciones_aviso                         int64\n",
      "cant_vistas_aviso                                int64\n",
      "desc_1                                           float64\n",
      "desc_2                                           float64\n",
      "desc_3                                           float64\n",
      "desc_4                                           float64\n",
      "desc_5                                           float64\n",
      "desc_6                                           float64\n",
      "desc_7                                           float64\n",
      "edad                                             int64\n",
      "estado_estudio_Abandonado                        int64\n",
      "estado_estudio_EnCurso                           int64\n",
      "estado_estudio_Graduado                          int64\n",
      "idaviso                                          int64\n",
      "nivel_laboral_Gerencia/AltaGerencia/Dirección    int64\n",
      "nivel_laboral_Jefe/Supervisor/Responsable        int64\n",
      "nivel_laboral_Junior                             int64\n",
      "nivel_laboral_Otro                               int64\n",
      "nivel_laboral_Senior/Semi-Senior                 int64\n",
      "nombre_estudio_Doctorado                         int64\n",
      "nombre_estudio_Master                            int64\n",
      "nombre_estudio_Otro                              int64\n",
      "nombre_estudio_Posgrado                          int64\n",
      "nombre_estudio_Secundario                        int64\n",
      "nombre_estudio_Terciario/Tecnico                 int64\n",
      "nombre_estudio_Universitario                     int64\n",
      "sexo_FEM                                         int64\n",
      "sexo_MASC                                        int64\n",
      "sexo_NO_DECLARA                                  int64\n",
      "tipo_full                                        bool\n",
      "tipo_otro                                        bool\n",
      "tipo_part                                        bool\n",
      "dtypes: bool(23), float64(7), int64(22)\n",
      "memory usage: 1.9 GB\n"
     ]
    }
   ],
   "source": [
    "X_train.info()"
   ]
  },
  {
   "cell_type": "code",
   "execution_count": 10,
   "metadata": {},
   "outputs": [
    {
     "name": "stdout",
     "output_type": "stream",
     "text": [
      "<class 'pandas.core.frame.DataFrame'>\n",
      "RangeIndex: 100000 entries, 0 to 99999\n",
      "Data columns (total 52 columns):\n",
      "Administración                                   100000 non-null bool\n",
      "AdministracióndePersonal                         100000 non-null bool\n",
      "Almacén/Depósito/Expedición                      100000 non-null bool\n",
      "AtenciónalCliente                                100000 non-null bool\n",
      "CallCenter                                       100000 non-null bool\n",
      "Comercial                                        100000 non-null bool\n",
      "Contabilidad                                     100000 non-null bool\n",
      "CréditosyCobranzas                               100000 non-null bool\n",
      "Gastronomia                                      100000 non-null bool\n",
      "Legal                                            100000 non-null bool\n",
      "Logística                                        100000 non-null bool\n",
      "MantenimientoyLimpieza                           100000 non-null bool\n",
      "Marketing                                        100000 non-null bool\n",
      "Producción                                       100000 non-null bool\n",
      "Recepcionista                                    100000 non-null bool\n",
      "RecursosHumanos                                  100000 non-null bool\n",
      "Secretaria                                       100000 non-null bool\n",
      "Telemarketing                                    100000 non-null bool\n",
      "Tesorería                                        100000 non-null bool\n",
      "Ventas                                           100000 non-null bool\n",
      "cant_postulaciones_aviso                         100000 non-null int64\n",
      "cant_vistas_aviso                                100000 non-null int64\n",
      "desc_1                                           100000 non-null int64\n",
      "desc_2                                           100000 non-null int64\n",
      "desc_3                                           100000 non-null int64\n",
      "desc_4                                           100000 non-null int64\n",
      "desc_5                                           100000 non-null int64\n",
      "desc_6                                           100000 non-null int64\n",
      "desc_7                                           100000 non-null int64\n",
      "edad                                             100000 non-null int64\n",
      "estado_estudio_Abandonado                        100000 non-null int64\n",
      "estado_estudio_EnCurso                           100000 non-null int64\n",
      "estado_estudio_Graduado                          100000 non-null int64\n",
      "idaviso                                          100000 non-null int64\n",
      "nivel_laboral_Gerencia/AltaGerencia/Dirección    100000 non-null int64\n",
      "nivel_laboral_Jefe/Supervisor/Responsable        100000 non-null int64\n",
      "nivel_laboral_Junior                             100000 non-null int64\n",
      "nivel_laboral_Otro                               100000 non-null int64\n",
      "nivel_laboral_Senior/Semi-Senior                 100000 non-null int64\n",
      "nombre_estudio_Doctorado                         100000 non-null int64\n",
      "nombre_estudio_Master                            100000 non-null int64\n",
      "nombre_estudio_Otro                              100000 non-null int64\n",
      "nombre_estudio_Posgrado                          100000 non-null int64\n",
      "nombre_estudio_Secundario                        100000 non-null int64\n",
      "nombre_estudio_Terciario/Tecnico                 100000 non-null int64\n",
      "nombre_estudio_Universitario                     100000 non-null int64\n",
      "sexo_FEM                                         100000 non-null int64\n",
      "sexo_MASC                                        100000 non-null int64\n",
      "sexo_NO_DECLARA                                  100000 non-null int64\n",
      "tipo_full                                        100000 non-null bool\n",
      "tipo_otro                                        100000 non-null bool\n",
      "tipo_part                                        100000 non-null bool\n",
      "dtypes: bool(23), int64(29)\n",
      "memory usage: 24.3 MB\n"
     ]
    }
   ],
   "source": [
    "X_test.info()"
   ]
  },
  {
   "cell_type": "code",
   "execution_count": 11,
   "metadata": {},
   "outputs": [
    {
     "data": {
      "text/plain": [
       "Administración                                      bool\n",
       "AdministracióndePersonal                            bool\n",
       "Almacén/Depósito/Expedición                         bool\n",
       "AtenciónalCliente                                   bool\n",
       "CallCenter                                          bool\n",
       "Comercial                                           bool\n",
       "Contabilidad                                        bool\n",
       "CréditosyCobranzas                                  bool\n",
       "Gastronomia                                         bool\n",
       "Legal                                               bool\n",
       "Logística                                           bool\n",
       "MantenimientoyLimpieza                              bool\n",
       "Marketing                                           bool\n",
       "Producción                                          bool\n",
       "Recepcionista                                       bool\n",
       "RecursosHumanos                                     bool\n",
       "Secretaria                                          bool\n",
       "Telemarketing                                       bool\n",
       "Tesorería                                           bool\n",
       "Ventas                                              bool\n",
       "cant_postulaciones_aviso                           int64\n",
       "cant_vistas_aviso                                  int64\n",
       "desc_1                                           float64\n",
       "desc_2                                           float64\n",
       "desc_3                                           float64\n",
       "desc_4                                           float64\n",
       "desc_5                                           float64\n",
       "desc_6                                           float64\n",
       "desc_7                                           float64\n",
       "edad                                               int64\n",
       "estado_estudio_Abandonado                          int64\n",
       "estado_estudio_EnCurso                             int64\n",
       "estado_estudio_Graduado                            int64\n",
       "idaviso                                            int64\n",
       "nivel_laboral_Gerencia/AltaGerencia/Dirección      int64\n",
       "nivel_laboral_Jefe/Supervisor/Responsable          int64\n",
       "nivel_laboral_Junior                               int64\n",
       "nivel_laboral_Otro                                 int64\n",
       "nivel_laboral_Senior/Semi-Senior                   int64\n",
       "nombre_estudio_Doctorado                           int64\n",
       "nombre_estudio_Master                              int64\n",
       "nombre_estudio_Otro                                int64\n",
       "nombre_estudio_Posgrado                            int64\n",
       "nombre_estudio_Secundario                          int64\n",
       "nombre_estudio_Terciario/Tecnico                   int64\n",
       "nombre_estudio_Universitario                       int64\n",
       "sexo_FEM                                           int64\n",
       "sexo_MASC                                          int64\n",
       "sexo_NO_DECLARA                                    int64\n",
       "tipo_full                                           bool\n",
       "tipo_otro                                           bool\n",
       "tipo_part                                           bool\n",
       "dtype: object"
      ]
     },
     "execution_count": 11,
     "metadata": {},
     "output_type": "execute_result"
    }
   ],
   "source": [
    "X_train.dtypes"
   ]
  },
  {
   "cell_type": "code",
   "execution_count": 12,
   "metadata": {},
   "outputs": [],
   "source": [
    "X_train.desc_1.fillna(0, inplace=True)\n",
    "X_train.desc_2.fillna(0, inplace=True)\n",
    "X_train.desc_3.fillna(0, inplace=True)\n",
    "X_train.desc_4.fillna(0, inplace=True)\n",
    "X_train.desc_5.fillna(0, inplace=True)\n",
    "X_train.desc_6.fillna(0, inplace=True)\n",
    "X_train.desc_7.fillna(0, inplace=True)"
   ]
  },
  {
   "cell_type": "code",
   "execution_count": 13,
   "metadata": {},
   "outputs": [],
   "source": [
    "X_train['desc_1'] = X_train['desc_1'].astype(bool)\n",
    "X_train['desc_2'] = X_train['desc_2'].astype(bool)\n",
    "X_train['desc_3'] = X_train['desc_3'].astype(bool)\n",
    "X_train['desc_4'] = X_train['desc_4'].astype(bool)\n",
    "X_train['desc_5'] = X_train['desc_5'].astype(bool)\n",
    "X_train['desc_6'] = X_train['desc_6'].astype(bool)\n",
    "X_train['desc_7'] = X_train['desc_7'].astype(bool)\n",
    "\n",
    "X_train['estado_estudio_Abandonado'] = X_train['estado_estudio_Abandonado'].astype(bool)\n",
    "X_train['estado_estudio_EnCurso'] = X_train['estado_estudio_EnCurso'].astype(bool)\n",
    "X_train['estado_estudio_Graduado'] = X_train['estado_estudio_Graduado'].astype(bool)\n",
    "X_train['nivel_laboral_Gerencia/AltaGerencia/Dirección'] = X_train['nivel_laboral_Gerencia/AltaGerencia/Dirección'].astype(bool)\n",
    "X_train['nivel_laboral_Jefe/Supervisor/Responsable'] = X_train['nivel_laboral_Jefe/Supervisor/Responsable'].astype(bool)\n",
    "X_train['nivel_laboral_Junior'] = X_train['nivel_laboral_Junior'].astype(bool)\n",
    "X_train['nivel_laboral_Otro'] = X_train['nivel_laboral_Otro'].astype(bool)\n",
    "X_train['nivel_laboral_Senior/Semi-Senior'] = X_train['nivel_laboral_Senior/Semi-Senior'].astype(bool)\n",
    "X_train['nombre_estudio_Doctorado'] = X_train['nombre_estudio_Doctorado'].astype(bool)\n",
    "X_train['nombre_estudio_Master'] = X_train['nombre_estudio_Master'].astype(bool)\n",
    "X_train['nombre_estudio_Otro'] = X_train['nombre_estudio_Otro'].astype(bool)\n",
    "X_train['nombre_estudio_Posgrado'] = X_train['nombre_estudio_Posgrado'].astype(bool)\n",
    "X_train['nombre_estudio_Secundario'] = X_train['nombre_estudio_Secundario'].astype(bool)\n",
    "X_train['nombre_estudio_Terciario/Tecnico'] = X_train['nombre_estudio_Terciario/Tecnico'].astype(bool)\n",
    "X_train['nombre_estudio_Universitario'] = X_train['nombre_estudio_Universitario'].astype(bool)\n",
    "X_train['sexo_FEM'] = X_train['sexo_FEM'].astype(bool)\n",
    "X_train['sexo_MASC'] = X_train['sexo_MASC'].astype(bool)\n",
    "X_train['sexo_NO_DECLARA'] = X_train['sexo_NO_DECLARA'].astype(bool)"
   ]
  },
  {
   "cell_type": "code",
   "execution_count": 14,
   "metadata": {},
   "outputs": [
    {
     "data": {
      "text/plain": [
       "Administración                                    bool\n",
       "AdministracióndePersonal                          bool\n",
       "Almacén/Depósito/Expedición                       bool\n",
       "AtenciónalCliente                                 bool\n",
       "CallCenter                                        bool\n",
       "Comercial                                         bool\n",
       "Contabilidad                                      bool\n",
       "CréditosyCobranzas                                bool\n",
       "Gastronomia                                       bool\n",
       "Legal                                             bool\n",
       "Logística                                         bool\n",
       "MantenimientoyLimpieza                            bool\n",
       "Marketing                                         bool\n",
       "Producción                                        bool\n",
       "Recepcionista                                     bool\n",
       "RecursosHumanos                                   bool\n",
       "Secretaria                                        bool\n",
       "Telemarketing                                     bool\n",
       "Tesorería                                         bool\n",
       "Ventas                                            bool\n",
       "cant_postulaciones_aviso                         int64\n",
       "cant_vistas_aviso                                int64\n",
       "desc_1                                            bool\n",
       "desc_2                                            bool\n",
       "desc_3                                            bool\n",
       "desc_4                                            bool\n",
       "desc_5                                            bool\n",
       "desc_6                                            bool\n",
       "desc_7                                            bool\n",
       "edad                                             int64\n",
       "estado_estudio_Abandonado                         bool\n",
       "estado_estudio_EnCurso                            bool\n",
       "estado_estudio_Graduado                           bool\n",
       "idaviso                                          int64\n",
       "nivel_laboral_Gerencia/AltaGerencia/Dirección     bool\n",
       "nivel_laboral_Jefe/Supervisor/Responsable         bool\n",
       "nivel_laboral_Junior                              bool\n",
       "nivel_laboral_Otro                                bool\n",
       "nivel_laboral_Senior/Semi-Senior                  bool\n",
       "nombre_estudio_Doctorado                          bool\n",
       "nombre_estudio_Master                             bool\n",
       "nombre_estudio_Otro                               bool\n",
       "nombre_estudio_Posgrado                           bool\n",
       "nombre_estudio_Secundario                         bool\n",
       "nombre_estudio_Terciario/Tecnico                  bool\n",
       "nombre_estudio_Universitario                      bool\n",
       "sexo_FEM                                          bool\n",
       "sexo_MASC                                         bool\n",
       "sexo_NO_DECLARA                                   bool\n",
       "tipo_full                                         bool\n",
       "tipo_otro                                         bool\n",
       "tipo_part                                         bool\n",
       "dtype: object"
      ]
     },
     "execution_count": 14,
     "metadata": {},
     "output_type": "execute_result"
    }
   ],
   "source": [
    "X_train.dtypes"
   ]
  },
  {
   "cell_type": "code",
   "execution_count": 15,
   "metadata": {},
   "outputs": [
    {
     "data": {
      "text/plain": [
       "Administración                                    bool\n",
       "AdministracióndePersonal                          bool\n",
       "Almacén/Depósito/Expedición                       bool\n",
       "AtenciónalCliente                                 bool\n",
       "CallCenter                                        bool\n",
       "Comercial                                         bool\n",
       "Contabilidad                                      bool\n",
       "CréditosyCobranzas                                bool\n",
       "Gastronomia                                       bool\n",
       "Legal                                             bool\n",
       "Logística                                         bool\n",
       "MantenimientoyLimpieza                            bool\n",
       "Marketing                                         bool\n",
       "Producción                                        bool\n",
       "Recepcionista                                     bool\n",
       "RecursosHumanos                                   bool\n",
       "Secretaria                                        bool\n",
       "Telemarketing                                     bool\n",
       "Tesorería                                         bool\n",
       "Ventas                                            bool\n",
       "cant_postulaciones_aviso                         int64\n",
       "cant_vistas_aviso                                int64\n",
       "desc_1                                           int64\n",
       "desc_2                                           int64\n",
       "desc_3                                           int64\n",
       "desc_4                                           int64\n",
       "desc_5                                           int64\n",
       "desc_6                                           int64\n",
       "desc_7                                           int64\n",
       "edad                                             int64\n",
       "estado_estudio_Abandonado                        int64\n",
       "estado_estudio_EnCurso                           int64\n",
       "estado_estudio_Graduado                          int64\n",
       "idaviso                                          int64\n",
       "nivel_laboral_Gerencia/AltaGerencia/Dirección    int64\n",
       "nivel_laboral_Jefe/Supervisor/Responsable        int64\n",
       "nivel_laboral_Junior                             int64\n",
       "nivel_laboral_Otro                               int64\n",
       "nivel_laboral_Senior/Semi-Senior                 int64\n",
       "nombre_estudio_Doctorado                         int64\n",
       "nombre_estudio_Master                            int64\n",
       "nombre_estudio_Otro                              int64\n",
       "nombre_estudio_Posgrado                          int64\n",
       "nombre_estudio_Secundario                        int64\n",
       "nombre_estudio_Terciario/Tecnico                 int64\n",
       "nombre_estudio_Universitario                     int64\n",
       "sexo_FEM                                         int64\n",
       "sexo_MASC                                        int64\n",
       "sexo_NO_DECLARA                                  int64\n",
       "tipo_full                                         bool\n",
       "tipo_otro                                         bool\n",
       "tipo_part                                         bool\n",
       "dtype: object"
      ]
     },
     "execution_count": 15,
     "metadata": {},
     "output_type": "execute_result"
    }
   ],
   "source": [
    "X_test.dtypes"
   ]
  },
  {
   "cell_type": "code",
   "execution_count": 16,
   "metadata": {},
   "outputs": [],
   "source": [
    "X_test.desc_1.fillna(0, inplace=True)\n",
    "X_test.desc_2.fillna(0, inplace=True)\n",
    "X_test.desc_3.fillna(0, inplace=True)\n",
    "X_test.desc_4.fillna(0, inplace=True)\n",
    "X_test.desc_5.fillna(0, inplace=True)\n",
    "X_test.desc_6.fillna(0, inplace=True)\n",
    "X_test.desc_7.fillna(0, inplace=True)"
   ]
  },
  {
   "cell_type": "code",
   "execution_count": 17,
   "metadata": {},
   "outputs": [],
   "source": [
    "X_test['desc_1'] = X_test['desc_1'].astype(bool)\n",
    "X_test['desc_2'] = X_test['desc_2'].astype(bool)\n",
    "X_test['desc_3'] = X_test['desc_3'].astype(bool)\n",
    "X_test['desc_4'] = X_test['desc_4'].astype(bool)\n",
    "X_test['desc_5'] = X_test['desc_5'].astype(bool)\n",
    "X_test['desc_6'] = X_test['desc_6'].astype(bool)\n",
    "X_test['desc_7'] = X_test['desc_7'].astype(bool)\n",
    "\n",
    "X_test['estado_estudio_Abandonado'] = X_test['estado_estudio_Abandonado'].astype(bool)\n",
    "X_test['estado_estudio_EnCurso'] = X_test['estado_estudio_EnCurso'].astype(bool)\n",
    "X_test['estado_estudio_Graduado'] = X_test['estado_estudio_Graduado'].astype(bool)\n",
    "X_test['nivel_laboral_Gerencia/AltaGerencia/Dirección'] = X_test['nivel_laboral_Gerencia/AltaGerencia/Dirección'].astype(bool)\n",
    "X_test['nivel_laboral_Jefe/Supervisor/Responsable'] = X_test['nivel_laboral_Jefe/Supervisor/Responsable'].astype(bool)\n",
    "X_test['nivel_laboral_Junior'] = X_test['nivel_laboral_Junior'].astype(bool)\n",
    "X_test['nivel_laboral_Otro'] = X_test['nivel_laboral_Otro'].astype(bool)\n",
    "X_test['nivel_laboral_Senior/Semi-Senior'] = X_test['nivel_laboral_Senior/Semi-Senior'].astype(bool)\n",
    "X_test['nombre_estudio_Doctorado'] = X_test['nombre_estudio_Doctorado'].astype(bool)\n",
    "X_test['nombre_estudio_Master'] = X_test['nombre_estudio_Master'].astype(bool)\n",
    "X_test['nombre_estudio_Otro'] = X_test['nombre_estudio_Otro'].astype(bool)\n",
    "X_test['nombre_estudio_Posgrado'] = X_test['nombre_estudio_Posgrado'].astype(bool)\n",
    "X_test['nombre_estudio_Secundario'] = X_test['nombre_estudio_Secundario'].astype(bool)\n",
    "X_test['nombre_estudio_Terciario/Tecnico'] = X_test['nombre_estudio_Terciario/Tecnico'].astype(bool)\n",
    "X_test['nombre_estudio_Universitario'] = X_test['nombre_estudio_Universitario'].astype(bool)\n",
    "X_test['sexo_FEM'] = X_test['sexo_FEM'].astype(bool)\n",
    "X_test['sexo_MASC'] = X_test['sexo_MASC'].astype(bool)\n",
    "X_test['sexo_NO_DECLARA'] = X_test['sexo_NO_DECLARA'].astype(bool)"
   ]
  },
  {
   "cell_type": "code",
   "execution_count": 18,
   "metadata": {},
   "outputs": [
    {
     "data": {
      "text/plain": [
       "Administración                                    bool\n",
       "AdministracióndePersonal                          bool\n",
       "Almacén/Depósito/Expedición                       bool\n",
       "AtenciónalCliente                                 bool\n",
       "CallCenter                                        bool\n",
       "Comercial                                         bool\n",
       "Contabilidad                                      bool\n",
       "CréditosyCobranzas                                bool\n",
       "Gastronomia                                       bool\n",
       "Legal                                             bool\n",
       "Logística                                         bool\n",
       "MantenimientoyLimpieza                            bool\n",
       "Marketing                                         bool\n",
       "Producción                                        bool\n",
       "Recepcionista                                     bool\n",
       "RecursosHumanos                                   bool\n",
       "Secretaria                                        bool\n",
       "Telemarketing                                     bool\n",
       "Tesorería                                         bool\n",
       "Ventas                                            bool\n",
       "cant_postulaciones_aviso                         int64\n",
       "cant_vistas_aviso                                int64\n",
       "desc_1                                            bool\n",
       "desc_2                                            bool\n",
       "desc_3                                            bool\n",
       "desc_4                                            bool\n",
       "desc_5                                            bool\n",
       "desc_6                                            bool\n",
       "desc_7                                            bool\n",
       "edad                                             int64\n",
       "estado_estudio_Abandonado                         bool\n",
       "estado_estudio_EnCurso                            bool\n",
       "estado_estudio_Graduado                           bool\n",
       "idaviso                                          int64\n",
       "nivel_laboral_Gerencia/AltaGerencia/Dirección     bool\n",
       "nivel_laboral_Jefe/Supervisor/Responsable         bool\n",
       "nivel_laboral_Junior                              bool\n",
       "nivel_laboral_Otro                                bool\n",
       "nivel_laboral_Senior/Semi-Senior                  bool\n",
       "nombre_estudio_Doctorado                          bool\n",
       "nombre_estudio_Master                             bool\n",
       "nombre_estudio_Otro                               bool\n",
       "nombre_estudio_Posgrado                           bool\n",
       "nombre_estudio_Secundario                         bool\n",
       "nombre_estudio_Terciario/Tecnico                  bool\n",
       "nombre_estudio_Universitario                      bool\n",
       "sexo_FEM                                          bool\n",
       "sexo_MASC                                         bool\n",
       "sexo_NO_DECLARA                                   bool\n",
       "tipo_full                                         bool\n",
       "tipo_otro                                         bool\n",
       "tipo_part                                         bool\n",
       "dtype: object"
      ]
     },
     "execution_count": 18,
     "metadata": {},
     "output_type": "execute_result"
    }
   ],
   "source": [
    "X_test.dtypes"
   ]
  },
  {
   "cell_type": "code",
   "execution_count": 19,
   "metadata": {},
   "outputs": [
    {
     "ename": "NameError",
     "evalue": "name 'target' is not defined",
     "output_type": "error",
     "traceback": [
      "\u001b[0;31m---------------------------------------------------------------------------\u001b[0m",
      "\u001b[0;31mNameError\u001b[0m                                 Traceback (most recent call last)",
      "\u001b[0;32m<ipython-input-19-99036deab999>\u001b[0m in \u001b[0;36m<module>\u001b[0;34m()\u001b[0m\n\u001b[0;32m----> 1\u001b[0;31m \u001b[0mtarget\u001b[0m\u001b[0;34m.\u001b[0m\u001b[0mshape\u001b[0m\u001b[0;34m\u001b[0m\u001b[0m\n\u001b[0m",
      "\u001b[0;31mNameError\u001b[0m: name 'target' is not defined"
     ]
    }
   ],
   "source": [
    "target.shape"
   ]
  },
  {
   "cell_type": "code",
   "execution_count": 20,
   "metadata": {},
   "outputs": [],
   "source": [
    "X_train.head(8000000).to_csv('../data/X_train_8000000.csv', index=False, sep=',', encoding='utf-8')\n",
    "X_test.to_csv('../data/X_test.csv', index=False, sep=',', encoding='utf-8')"
   ]
  },
  {
   "cell_type": "code",
   "execution_count": 24,
   "metadata": {},
   "outputs": [
    {
     "name": "stdout",
     "output_type": "stream",
     "text": [
      "8000000\n",
      "8000000\n"
     ]
    }
   ],
   "source": [
    "print(len(X_train))\n",
    "print(len(target))"
   ]
  },
  {
   "cell_type": "markdown",
   "metadata": {},
   "source": [
    "# Exportamos una muestra mas \"chica\" pero significativa de los datos para hacer feature selection y busqueda de hiperparametros"
   ]
  },
  {
   "cell_type": "code",
   "execution_count": 38,
   "metadata": {},
   "outputs": [],
   "source": [
    "X_train.head(5000000).to_csv('../data/X_train_5000000.csv', index=False, sep=',', encoding='utf-8')\n",
    "target.head(5000000).to_csv('../data/target_5000000.csv', index=False, sep=',', encoding='utf-8')"
   ]
  },
  {
   "cell_type": "code",
   "execution_count": 2,
   "metadata": {},
   "outputs": [],
   "source": [
    "X_train = pd.read_csv('../data/X_train_5000000.csv', sep=',', encoding='utf-8')\n",
    "target = pd.read_csv('../data/target_5000000.csv', sep=',', encoding='utf-8')"
   ]
  },
  {
   "cell_type": "code",
   "execution_count": 16,
   "metadata": {},
   "outputs": [],
   "source": [
    "X_train.head(2000000).to_csv('../data/X_train_2000000.csv', index=False, sep=',', encoding='utf-8')\n",
    "target.head(2000000).to_csv('../data/target_2000000.csv', index=False, sep=',', encoding='utf-8')"
   ]
  },
  {
   "cell_type": "code",
   "execution_count": 17,
   "metadata": {},
   "outputs": [],
   "source": [
    "X_train = pd.read_csv('../data/X_train_2000000.csv', sep=',', encoding='utf-8')\n",
    "target = pd.read_csv('../data/target_2000000.csv', sep=',', encoding='utf-8')"
   ]
  },
  {
   "cell_type": "code",
   "execution_count": 8,
   "metadata": {},
   "outputs": [
    {
     "name": "stdout",
     "output_type": "stream",
     "text": [
      "(5000000, 52)\n",
      "(5000000, 1)\n"
     ]
    }
   ],
   "source": [
    "print(X_train.shape)\n",
    "print(target.shape)"
   ]
  },
  {
   "cell_type": "markdown",
   "metadata": {},
   "source": [
    "# Cross-validation"
   ]
  },
  {
   "cell_type": "code",
   "execution_count": 25,
   "metadata": {},
   "outputs": [],
   "source": [
    "from sklearn.model_selection import cross_val_score, KFold\n",
    "# seed para generar los mismos fold en cada cv\n",
    "seed = 7\n",
    "kfold = KFold(3,random_state=seed) # 3 sino tarda demasiado\n",
    "scoring = 'roc_auc'\n",
    "def cv_score(model,X,y,cv):\n",
    "    #return cross_val_score(model,X,y,n_jobs=-1,cv=cv,scoring=scoring,verbose=3).mean()\n",
    "    return cross_val_score(model,X,y,n_jobs=1,cv=cv,scoring=scoring,verbose=3).mean()"
   ]
  },
  {
   "cell_type": "markdown",
   "metadata": {},
   "source": [
    "## **Rankeo de algoritmos**"
   ]
  },
  {
   "cell_type": "code",
   "execution_count": 26,
   "metadata": {},
   "outputs": [
    {
     "name": "stdout",
     "output_type": "stream",
     "text": [
      "3966549\n",
      "4033451\n"
     ]
    }
   ],
   "source": [
    "print(len(target[target['sepostulo'] == False]))\n",
    "print(len(target[target['sepostulo'] == True]))"
   ]
  },
  {
   "cell_type": "code",
   "execution_count": 27,
   "metadata": {
    "scrolled": true
   },
   "outputs": [],
   "source": [
    "from sklearn.linear_model import LogisticRegression\n",
    "from sklearn.tree import DecisionTreeClassifier\n",
    "from sklearn.neighbors import KNeighborsClassifier\n",
    "from sklearn.discriminant_analysis import LinearDiscriminantAnalysis\n",
    "from sklearn.naive_bayes import GaussianNB\n",
    "from sklearn.svm import SVC\n",
    "from sklearn.neural_network import MLPClassifier\n",
    "from sklearn.ensemble import RandomForestClassifier\n",
    "\n",
    "models = []\n",
    "models.append(('RFC',RandomForestClassifier(n_jobs=1)))\n",
    "models.append(('DecTree',DecisionTreeClassifier()))\n",
    "models.append(('LogReg',LogisticRegression()))\n",
    "models.append(('KNN',KNeighborsClassifier()))\n",
    "models.append(('LDA',LinearDiscriminantAnalysis()))\n",
    "models.append(('GaussianNB',GaussianNB()))\n",
    "#models.append(('SVC',SVC())) # no termina\n",
    "#models.append(('MLP',MLPClassifier(max_iter=200))) # no termina"
   ]
  },
  {
   "cell_type": "code",
   "execution_count": 16,
   "metadata": {},
   "outputs": [
    {
     "name": "stdout",
     "output_type": "stream",
     "text": [
      "################################ RFC ################################\n",
      "[CV]  ................................................................\n",
      "[CV] ....................... , score=0.8733602432199534, total= 3.3min\n",
      "[CV]  ................................................................\n"
     ]
    },
    {
     "name": "stderr",
     "output_type": "stream",
     "text": [
      "[Parallel(n_jobs=1)]: Done   1 out of   1 | elapsed:  3.3min remaining:    0.0s\n"
     ]
    },
    {
     "name": "stdout",
     "output_type": "stream",
     "text": [
      "[CV] ........................ , score=0.872719408031591, total= 3.6min\n",
      "[CV]  ................................................................\n"
     ]
    },
    {
     "name": "stderr",
     "output_type": "stream",
     "text": [
      "[Parallel(n_jobs=1)]: Done   2 out of   2 | elapsed:  6.9min remaining:    0.0s\n"
     ]
    },
    {
     "name": "stdout",
     "output_type": "stream",
     "text": [
      "[CV] ....................... , score=0.8725393049391241, total= 3.7min\n",
      "################################ DecTree ################################\n",
      "[CV]  ................................................................\n"
     ]
    },
    {
     "name": "stderr",
     "output_type": "stream",
     "text": [
      "[Parallel(n_jobs=1)]: Done   3 out of   3 | elapsed: 10.6min finished\n"
     ]
    },
    {
     "name": "stdout",
     "output_type": "stream",
     "text": [
      "[CV] ....................... , score=0.7863271447258187, total= 1.2min\n",
      "[CV]  ................................................................\n"
     ]
    },
    {
     "name": "stderr",
     "output_type": "stream",
     "text": [
      "[Parallel(n_jobs=1)]: Done   1 out of   1 | elapsed:  1.2min remaining:    0.0s\n"
     ]
    },
    {
     "name": "stdout",
     "output_type": "stream",
     "text": [
      "[CV] ....................... , score=0.7861246088574287, total= 1.2min\n",
      "[CV]  ................................................................\n"
     ]
    },
    {
     "name": "stderr",
     "output_type": "stream",
     "text": [
      "[Parallel(n_jobs=1)]: Done   2 out of   2 | elapsed:  2.5min remaining:    0.0s\n"
     ]
    },
    {
     "name": "stdout",
     "output_type": "stream",
     "text": [
      "[CV] ....................... , score=0.7861754459587876, total= 1.3min\n",
      "################################ LogReg ################################\n",
      "[CV]  ................................................................\n"
     ]
    },
    {
     "name": "stderr",
     "output_type": "stream",
     "text": [
      "[Parallel(n_jobs=1)]: Done   3 out of   3 | elapsed:  3.7min finished\n"
     ]
    },
    {
     "name": "stdout",
     "output_type": "stream",
     "text": [
      "[CV] ....................... , score=0.7919273171277426, total=  39.9s\n",
      "[CV]  ................................................................\n"
     ]
    },
    {
     "name": "stderr",
     "output_type": "stream",
     "text": [
      "[Parallel(n_jobs=1)]: Done   1 out of   1 | elapsed:   39.9s remaining:    0.0s\n"
     ]
    },
    {
     "name": "stdout",
     "output_type": "stream",
     "text": [
      "[CV] ....................... , score=0.7802610252816817, total=  37.3s\n",
      "[CV]  ................................................................\n"
     ]
    },
    {
     "name": "stderr",
     "output_type": "stream",
     "text": [
      "[Parallel(n_jobs=1)]: Done   2 out of   2 | elapsed:  1.3min remaining:    0.0s\n"
     ]
    },
    {
     "name": "stdout",
     "output_type": "stream",
     "text": [
      "[CV] ....................... , score=0.7916158486019067, total=  38.8s\n",
      "################################ KNN ################################\n",
      "[CV]  ................................................................\n"
     ]
    },
    {
     "name": "stderr",
     "output_type": "stream",
     "text": [
      "[Parallel(n_jobs=1)]: Done   3 out of   3 | elapsed:  1.9min finished\n"
     ]
    },
    {
     "name": "stdout",
     "output_type": "stream",
     "text": [
      "[CV] ....................... , score=0.8707579545052886, total= 3.7min\n",
      "[CV]  ................................................................\n"
     ]
    },
    {
     "name": "stderr",
     "output_type": "stream",
     "text": [
      "[Parallel(n_jobs=1)]: Done   1 out of   1 | elapsed:  3.7min remaining:    0.0s\n"
     ]
    },
    {
     "name": "stdout",
     "output_type": "stream",
     "text": [
      "[CV] ....................... , score=0.8707438067452093, total= 3.3min\n",
      "[CV]  ................................................................\n"
     ]
    },
    {
     "name": "stderr",
     "output_type": "stream",
     "text": [
      "[Parallel(n_jobs=1)]: Done   2 out of   2 | elapsed:  7.0min remaining:    0.0s\n"
     ]
    },
    {
     "name": "stdout",
     "output_type": "stream",
     "text": [
      "[CV] ........................ , score=0.870511667884609, total= 3.3min\n",
      "################################ LDA ################################\n",
      "[CV]  ................................................................\n"
     ]
    },
    {
     "name": "stderr",
     "output_type": "stream",
     "text": [
      "[Parallel(n_jobs=1)]: Done   3 out of   3 | elapsed: 10.2min finished\n",
      "/home/tbotalla/anaconda3/lib/python3.6/site-packages/sklearn/discriminant_analysis.py:388: UserWarning: Variables are collinear.\n",
      "  warnings.warn(\"Variables are collinear.\")\n"
     ]
    },
    {
     "name": "stdout",
     "output_type": "stream",
     "text": [
      "[CV] ....................... , score=0.7785716147826597, total= 1.2min\n",
      "[CV]  ................................................................\n"
     ]
    },
    {
     "name": "stderr",
     "output_type": "stream",
     "text": [
      "[Parallel(n_jobs=1)]: Done   1 out of   1 | elapsed:  1.2min remaining:    0.0s\n",
      "/home/tbotalla/anaconda3/lib/python3.6/site-packages/sklearn/discriminant_analysis.py:388: UserWarning: Variables are collinear.\n",
      "  warnings.warn(\"Variables are collinear.\")\n"
     ]
    },
    {
     "name": "stdout",
     "output_type": "stream",
     "text": [
      "[CV] ....................... , score=0.7781420158328239, total=  57.3s\n"
     ]
    },
    {
     "name": "stderr",
     "output_type": "stream",
     "text": [
      "[Parallel(n_jobs=1)]: Done   2 out of   2 | elapsed:  2.2min remaining:    0.0s\n"
     ]
    },
    {
     "name": "stdout",
     "output_type": "stream",
     "text": [
      "[CV]  ................................................................\n"
     ]
    },
    {
     "name": "stderr",
     "output_type": "stream",
     "text": [
      "/home/tbotalla/anaconda3/lib/python3.6/site-packages/sklearn/discriminant_analysis.py:388: UserWarning: Variables are collinear.\n",
      "  warnings.warn(\"Variables are collinear.\")\n"
     ]
    },
    {
     "name": "stdout",
     "output_type": "stream",
     "text": [
      "[CV] ....................... , score=0.7778662478770434, total= 1.0min\n",
      "################################ GaussianNB ################################\n"
     ]
    },
    {
     "name": "stderr",
     "output_type": "stream",
     "text": [
      "[Parallel(n_jobs=1)]: Done   3 out of   3 | elapsed:  3.2min finished\n"
     ]
    },
    {
     "name": "stdout",
     "output_type": "stream",
     "text": [
      "[CV]  ................................................................\n",
      "[CV] ....................... , score=0.8087686538422251, total=  24.3s\n",
      "[CV]  ................................................................\n"
     ]
    },
    {
     "name": "stderr",
     "output_type": "stream",
     "text": [
      "[Parallel(n_jobs=1)]: Done   1 out of   1 | elapsed:   25.5s remaining:    0.0s\n"
     ]
    },
    {
     "name": "stdout",
     "output_type": "stream",
     "text": [
      "[CV] ....................... , score=0.8082253481084644, total=  18.9s\n",
      "[CV]  ................................................................\n"
     ]
    },
    {
     "name": "stderr",
     "output_type": "stream",
     "text": [
      "[Parallel(n_jobs=1)]: Done   2 out of   2 | elapsed:   44.4s remaining:    0.0s\n"
     ]
    },
    {
     "name": "stdout",
     "output_type": "stream",
     "text": [
      "[CV] ........................ , score=0.808353476330964, total=  19.7s\n",
      "CPU times: user 29min 2s, sys: 53.4 s, total: 29min 56s\n",
      "Wall time: 30min 47s\n"
     ]
    },
    {
     "name": "stderr",
     "output_type": "stream",
     "text": [
      "[Parallel(n_jobs=1)]: Done   3 out of   3 | elapsed:  1.1min finished\n"
     ]
    }
   ],
   "source": [
    "%%time\n",
    "scores = []\n",
    "for name,model in models:\n",
    "    print('################################',name,'################################')\n",
    "    score = cv_score(model, X_train, target.values.ravel(), cv=kfold)\n",
    "    scores.append((name,score))"
   ]
  },
  {
   "cell_type": "code",
   "execution_count": 17,
   "metadata": {},
   "outputs": [
    {
     "name": "stdout",
     "output_type": "stream",
     "text": [
      "\n",
      "============== RANKING =================\n",
      "RFC : 0.8728729853968895\n",
      "KNN : 0.8706711430450357\n",
      "GaussianNB : 0.8084491594272177\n",
      "LogReg : 0.7879347303371104\n",
      "DecTree : 0.7862090665140117\n",
      "LDA : 0.7781932928308423\n"
     ]
    }
   ],
   "source": [
    "print('\\n============== RANKING =================')\n",
    "for name,score in sorted(scores,key=lambda x: x[1],reverse=True):\n",
    "    print(name,':',score)"
   ]
  },
  {
   "cell_type": "code",
   "execution_count": 49,
   "metadata": {},
   "outputs": [
    {
     "data": {
      "text/html": [
       "<div>\n",
       "<style scoped>\n",
       "    .dataframe tbody tr th:only-of-type {\n",
       "        vertical-align: middle;\n",
       "    }\n",
       "\n",
       "    .dataframe tbody tr th {\n",
       "        vertical-align: top;\n",
       "    }\n",
       "\n",
       "    .dataframe thead th {\n",
       "        text-align: right;\n",
       "    }\n",
       "</style>\n",
       "<table border=\"1\" class=\"dataframe\">\n",
       "  <thead>\n",
       "    <tr style=\"text-align: right;\">\n",
       "      <th></th>\n",
       "      <th>Algoritmo</th>\n",
       "      <th>Score</th>\n",
       "    </tr>\n",
       "  </thead>\n",
       "  <tbody>\n",
       "    <tr>\n",
       "      <th>5</th>\n",
       "      <td>RFC</td>\n",
       "      <td>0.872873</td>\n",
       "    </tr>\n",
       "    <tr>\n",
       "      <th>2</th>\n",
       "      <td>KNN</td>\n",
       "      <td>0.870671</td>\n",
       "    </tr>\n",
       "    <tr>\n",
       "      <th>1</th>\n",
       "      <td>GaussianNB</td>\n",
       "      <td>0.808449</td>\n",
       "    </tr>\n",
       "    <tr>\n",
       "      <th>4</th>\n",
       "      <td>LogReg</td>\n",
       "      <td>0.787935</td>\n",
       "    </tr>\n",
       "    <tr>\n",
       "      <th>0</th>\n",
       "      <td>DecTree</td>\n",
       "      <td>0.786209</td>\n",
       "    </tr>\n",
       "    <tr>\n",
       "      <th>3</th>\n",
       "      <td>LDA</td>\n",
       "      <td>0.778193</td>\n",
       "    </tr>\n",
       "  </tbody>\n",
       "</table>\n",
       "</div>"
      ],
      "text/plain": [
       "    Algoritmo     Score\n",
       "5         RFC  0.872873\n",
       "2         KNN  0.870671\n",
       "1  GaussianNB  0.808449\n",
       "4      LogReg  0.787935\n",
       "0     DecTree  0.786209\n",
       "3         LDA  0.778193"
      ]
     },
     "execution_count": 49,
     "metadata": {},
     "output_type": "execute_result"
    }
   ],
   "source": [
    "scoresDf = pd.DataFrame(scores)\n",
    "scoresDf.columns = ['Algoritmo', 'Score']\n",
    "scoresDf = scoresDf.sort_values(['Score'], ascending=False)\n",
    "scoresDf"
   ]
  },
  {
   "cell_type": "code",
   "execution_count": 61,
   "metadata": {},
   "outputs": [
    {
     "data": {
      "text/plain": [
       "<matplotlib.axes._subplots.AxesSubplot at 0x7f3ff954ca90>"
      ]
     },
     "execution_count": 61,
     "metadata": {},
     "output_type": "execute_result"
    },
    {
     "data": {
      "image/png": "[encoded data removed]",
      "text/plain": [
       "<matplotlib.figure.Figure at 0x7f3ff959b668>"
      ]
     },
     "metadata": {},
     "output_type": "display_data"
    }
   ],
   "source": [
    "f, ax = plt.subplots(figsize=(10, 8))\n",
    "sns.barplot(x='Algoritmo', y='Score', data=scoresDf, palette=\"Blues_d\")"
   ]
  },
  {
   "cell_type": "markdown",
   "metadata": {},
   "source": [
    "### **Rankeamos con los datos estandarizados/normalizados**"
   ]
  },
  {
   "cell_type": "code",
   "execution_count": 17,
   "metadata": {
    "collapsed": true
   },
   "outputs": [],
   "source": [
    "from sklearn.preprocessing import scale, normalize"
   ]
  },
  {
   "cell_type": "code",
   "execution_count": 18,
   "metadata": {},
   "outputs": [
    {
     "name": "stderr",
     "output_type": "stream",
     "text": [
      "/home/tbotalla/anaconda3/lib/python3.6/site-packages/sklearn/preprocessing/data.py:164: UserWarning: Numerical issues were encountered when centering the data and might not be solved. Dataset may contain too large values. You may need to prescale your features.\n",
      "  warnings.warn(\"Numerical issues were encountered \"\n"
     ]
    }
   ],
   "source": [
    "X_train = scale(X_train)"
   ]
  },
  {
   "cell_type": "code",
   "execution_count": null,
   "metadata": {},
   "outputs": [
    {
     "name": "stdout",
     "output_type": "stream",
     "text": [
      "################################ RFC ################################\n",
      "[CV]  ................................................................\n",
      "[CV] ....................... , score=0.8728884942941646, total=11.0min\n"
     ]
    },
    {
     "name": "stderr",
     "output_type": "stream",
     "text": [
      "[Parallel(n_jobs=1)]: Done   1 out of   1 | elapsed: 11.0min remaining:    0.0s\n"
     ]
    },
    {
     "name": "stdout",
     "output_type": "stream",
     "text": [
      "[CV]  ................................................................\n",
      "[CV] ....................... , score=0.8732271553166235, total=11.4min\n"
     ]
    },
    {
     "name": "stderr",
     "output_type": "stream",
     "text": [
      "[Parallel(n_jobs=1)]: Done   2 out of   2 | elapsed: 22.4min remaining:    0.0s\n"
     ]
    },
    {
     "name": "stdout",
     "output_type": "stream",
     "text": [
      "[CV]  ................................................................\n",
      "[CV] ....................... , score=0.8736933061809599, total=12.0min\n",
      "################################ DecTree ################################\n"
     ]
    },
    {
     "name": "stderr",
     "output_type": "stream",
     "text": [
      "[Parallel(n_jobs=1)]: Done   3 out of   3 | elapsed: 34.5min finished\n"
     ]
    },
    {
     "name": "stdout",
     "output_type": "stream",
     "text": [
      "[CV]  ................................................................\n",
      "[CV] ....................... , score=0.7957925158542842, total= 6.4min\n"
     ]
    },
    {
     "name": "stderr",
     "output_type": "stream",
     "text": [
      "[Parallel(n_jobs=1)]: Done   1 out of   1 | elapsed:  6.4min remaining:    0.0s\n"
     ]
    },
    {
     "name": "stdout",
     "output_type": "stream",
     "text": [
      "[CV]  ................................................................\n",
      "[CV] ....................... , score=0.7956958739449589, total= 4.9min\n"
     ]
    },
    {
     "name": "stderr",
     "output_type": "stream",
     "text": [
      "[Parallel(n_jobs=1)]: Done   2 out of   2 | elapsed: 11.3min remaining:    0.0s\n"
     ]
    },
    {
     "name": "stdout",
     "output_type": "stream",
     "text": [
      "[CV]  ................................................................\n",
      "[CV] ....................... , score=0.7952139269874736, total= 4.5min\n",
      "################################ LogReg ################################\n"
     ]
    },
    {
     "name": "stderr",
     "output_type": "stream",
     "text": [
      "[Parallel(n_jobs=1)]: Done   3 out of   3 | elapsed: 15.8min finished\n"
     ]
    },
    {
     "name": "stdout",
     "output_type": "stream",
     "text": [
      "[CV]  ................................................................\n",
      "[CV] ....................... , score=0.8715148693930757, total= 7.0min\n"
     ]
    },
    {
     "name": "stderr",
     "output_type": "stream",
     "text": [
      "[Parallel(n_jobs=1)]: Done   1 out of   1 | elapsed:  7.0min remaining:    0.0s\n"
     ]
    },
    {
     "name": "stdout",
     "output_type": "stream",
     "text": [
      "[CV]  ................................................................\n",
      "[CV] ....................... , score=0.8715144842732662, total=13.2min\n"
     ]
    },
    {
     "name": "stderr",
     "output_type": "stream",
     "text": [
      "[Parallel(n_jobs=1)]: Done   2 out of   2 | elapsed: 20.2min remaining:    0.0s\n"
     ]
    },
    {
     "name": "stdout",
     "output_type": "stream",
     "text": [
      "[CV]  ................................................................\n",
      "[CV] ....................... , score=0.8711818987341127, total=14.5min\n",
      "################################ KNN ################################\n"
     ]
    },
    {
     "name": "stderr",
     "output_type": "stream",
     "text": [
      "[Parallel(n_jobs=1)]: Done   3 out of   3 | elapsed: 34.7min finished\n"
     ]
    },
    {
     "name": "stdout",
     "output_type": "stream",
     "text": [
      "[CV]  ................................................................\n"
     ]
    }
   ],
   "source": [
    "%%time\n",
    "scores = []\n",
    "for name,model in models:\n",
    "    print('################################',name,'################################')\n",
    "    score = cv_score(model, X_train, target.values.ravel(), cv=kfold)\n",
    "    scores.append((name,score))"
   ]
  },
  {
   "cell_type": "code",
   "execution_count": null,
   "metadata": {},
   "outputs": [],
   "source": [
    "print('\\n============== RANKING Scaled =================')\n",
    "for name,score in sorted(scores,key=lambda x: x[1],reverse=True):\n",
    "    print(name,':',score)"
   ]
  },
  {
   "cell_type": "code",
   "execution_count": null,
   "metadata": {},
   "outputs": [],
   "source": [
    "X_train = normalize(X_train)"
   ]
  },
  {
   "cell_type": "code",
   "execution_count": null,
   "metadata": {},
   "outputs": [],
   "source": [
    "%%time\n",
    "scores = []\n",
    "for name,model in models:\n",
    "    print('################################',name,'################################')\n",
    "    score = cv_score(model, X_train, target.values.ravel(), cv=kfold)\n",
    "    scores.append((name,score))"
   ]
  },
  {
   "cell_type": "code",
   "execution_count": null,
   "metadata": {},
   "outputs": [],
   "source": [
    "print('\\n============== RANKING Normalized =================')\n",
    "for name,score in sorted(scores,key=lambda x: x[1],reverse=True):\n",
    "    print(name,':',score)"
   ]
  },
  {
   "cell_type": "markdown",
   "metadata": {},
   "source": [
    "# Feature Selection"
   ]
  },
  {
   "cell_type": "code",
   "execution_count": 5,
   "metadata": {},
   "outputs": [],
   "source": [
    "from sklearn.linear_model import LogisticRegression\n",
    "from sklearn.tree import DecisionTreeClassifier\n",
    "from sklearn.neighbors import KNeighborsClassifier\n",
    "from sklearn.discriminant_analysis import LinearDiscriminantAnalysis\n",
    "from sklearn.naive_bayes import GaussianNB\n",
    "from sklearn.svm import SVC\n",
    "from sklearn.neural_network import MLPClassifier\n",
    "from sklearn.ensemble import RandomForestClassifier"
   ]
  },
  {
   "cell_type": "code",
   "execution_count": 6,
   "metadata": {
    "collapsed": true
   },
   "outputs": [],
   "source": [
    "scoring = 'roc_auc'\n",
    "seed = 7\n",
    "def select_features(model,X,y):\n",
    "    from sklearn.feature_selection import RFECV\n",
    "    rfecv = RFECV(estimator=model, n_jobs=1, scoring=scoring, verbose=3)\n",
    "    rfecv.fit(X, y)\n",
    "    return rfecv.support_"
   ]
  },
  {
   "cell_type": "code",
   "execution_count": 7,
   "metadata": {},
   "outputs": [],
   "source": [
    "best_models = []\n",
    "best_models.append(('RFC',RandomForestClassifier(n_jobs=1)))\n",
    "best_models.append(('KNN',KNeighborsClassifier()))\n",
    "best_models.append(('DecTree',DecisionTreeClassifier()))"
   ]
  },
  {
   "cell_type": "code",
   "execution_count": null,
   "metadata": {
    "scrolled": true
   },
   "outputs": [
    {
     "name": "stdout",
     "output_type": "stream",
     "text": [
      "################################## RFC ##################################\n",
      "Fitting estimator with 52 features.\n",
      "Fitting estimator with 51 features.\n",
      "Fitting estimator with 50 features.\n",
      "Fitting estimator with 49 features.\n",
      "Fitting estimator with 48 features.\n",
      "Fitting estimator with 47 features.\n"
     ]
    }
   ],
   "source": [
    "%%time\n",
    "best_features_mask = []\n",
    "for name,model in best_models:\n",
    "    print('##################################',name,'##################################')\n",
    "    features = select_features(model, X_train, target.values.ravel())\n",
    "    best_features_mask.append((name, features))"
   ]
  },
  {
   "cell_type": "code",
   "execution_count": null,
   "metadata": {},
   "outputs": [],
   "source": [
    "for model_name,features_mask in best_features_mask:\n",
    "    print('=================================',model_name,'=================================')\n",
    "    print('number of features:',len(X_train.columns[features_mask]))\n",
    "    print(X_train.columns[features_mask])"
   ]
  },
  {
   "cell_type": "markdown",
   "metadata": {},
   "source": [
    "# Grid Search"
   ]
  },
  {
   "cell_type": "code",
   "execution_count": 18,
   "metadata": {
    "collapsed": true
   },
   "outputs": [],
   "source": [
    "scoring = 'roc_auc'\n",
    "seed = 7\n",
    "def select_params(model,params,X,y):\n",
    "    from sklearn.model_selection import GridSearchCV, RandomizedSearchCV\n",
    "    gs = GridSearchCV(model,params,cv=kfold,n_jobs=-1,verbose=3,scoring=scoring)\n",
    "    #rs = RandomizedSearchCV(model,params, cv=kfold, n_jobs=2, verbose=3, scoring=scoring, random_state=seed)\n",
    "    gs.fit(X,y)\n",
    "    #rs.fit(X,y)\n",
    "    return gs.best_params_\n",
    "    #return rs.best_params_"
   ]
  },
  {
   "cell_type": "code",
   "execution_count": 30,
   "metadata": {},
   "outputs": [],
   "source": [
    "# Solo para los mejores modelos\n",
    "best_models = []\n",
    "best_models.append(('RFC',RandomForestClassifier(n_jobs=1)))\n",
    "best_models.append(('DecTree',DecisionTreeClassifier()))\n",
    "best_models.append(('KNN',KNeighborsClassifier()))"
   ]
  },
  {
   "cell_type": "code",
   "execution_count": 31,
   "metadata": {
    "collapsed": true
   },
   "outputs": [
    {
     "name": "stdout",
     "output_type": "stream",
     "text": [
      "Fitting 3 folds for each of 8 candidates, totalling 24 fits\n",
      "[CV] leaf_size=20 ....................................................\n",
      "[CV] leaf_size=20 ....................................................\n",
      "[CV] leaf_size=20 ....................................................\n",
      "[CV] leaf_size=30 ....................................................\n",
      "[CV] ........... leaf_size=30, score=0.8621915463631297, total= 3.3min\n",
      "[CV] leaf_size=30 ....................................................\n",
      "[CV] ........... leaf_size=20, score=0.8621596534077605, total= 3.4min\n",
      "[CV] leaf_size=30 ....................................................\n",
      "[CV] ........... leaf_size=20, score=0.8626297346609069, total= 3.4min\n",
      "[CV] leaf_size=40 ....................................................\n",
      "[CV] ........... leaf_size=20, score=0.8619422050796579, total= 3.3min\n",
      "[CV] leaf_size=40 ....................................................\n",
      "[CV] ........... leaf_size=30, score=0.8625699683657022, total= 2.8min\n",
      "[CV] leaf_size=40 ....................................................\n",
      "[CV] ........... leaf_size=40, score=0.8625699683657022, total= 2.8min\n",
      "[CV] p=1 .............................................................\n",
      "[CV] ........... leaf_size=40, score=0.8621915463631297, total= 3.3min\n",
      "[CV] p=1 .............................................................\n",
      "[CV] ........... leaf_size=30, score=0.8620372952994153, total= 3.1min\n",
      "[CV] p=1 .............................................................\n",
      "[CV] ........... leaf_size=40, score=0.8620372952994153, total= 2.2min\n",
      "[CV] p=2 .............................................................\n",
      "[CV] .................... p=1, score=0.8678912962675183, total= 3.0min\n",
      "[CV] p=2 .............................................................\n",
      "[CV] .................... p=1, score=0.8675414423718653, total= 2.4min\n",
      "[CV] p=2 .............................................................\n",
      "[CV] .................... p=1, score=0.8684045945887953, total= 3.0min\n",
      "[CV] p=3 .............................................................\n",
      "[CV] .................... p=2, score=0.8621915463631297, total= 2.5min\n",
      "[CV] p=3 .............................................................\n",
      "[CV] .................... p=2, score=0.8625699683657022, total= 2.7min\n",
      "[CV] p=3 .............................................................\n",
      "[CV] .................... p=2, score=0.8620372952994153, total= 2.1min\n",
      "[CV] weights=uniform .................................................\n",
      "[CV] ........ weights=uniform, score=0.8621915463631297, total= 2.0min\n",
      "[CV] weights=uniform .................................................\n",
      "[CV] ........ weights=uniform, score=0.8625699683657022, total= 2.0min\n",
      "[CV] weights=uniform .................................................\n",
      "[CV] .................... p=3, score=0.8609090122934432, total= 5.7min\n",
      "[CV] weights=distance ................................................\n",
      "[CV] ........ weights=uniform, score=0.8620372952994153, total= 1.7min\n",
      "[CV] weights=distance ................................................\n",
      "[CV] .................... p=3, score=0.8605150695927696, total= 6.5min\n",
      "[CV] weights=distance ................................................\n",
      "[CV] .................... p=3, score=0.8604752601809771, total= 5.7min\n",
      "[CV] ....... weights=distance, score=0.8424482609319902, total= 2.3min\n",
      "[CV] ....... weights=distance, score=0.8426187251525488, total= 2.2min\n",
      "[CV] ....... weights=distance, score=0.8431176075589946, total= 2.5min\n"
     ]
    },
    {
     "name": "stderr",
     "output_type": "stream",
     "text": [
      "[Parallel(n_jobs=-1)]: Done  24 out of  24 | elapsed: 43.9min finished\n"
     ]
    },
    {
     "name": "stdout",
     "output_type": "stream",
     "text": [
      "CPU times: user 51 s, sys: 5.35 s, total: 56.4 s\n",
      "Wall time: 44min 39s\n"
     ]
    }
   ],
   "source": [
    "%%time\n",
    "from scipy.stats import randint, expon ,uniform, gamma, alpha\n",
    "params = {}\n",
    "params.update({'RFC':[{'n_estimators': [10, 12, 14]}]})\n",
    "params.update({'DecTree':[{'min_samples_split': [2, 3, 4]}]})\n",
    "params.update({'KNN':[{'leaf_size': [20,30,40]}, {'p': [1,2,3]}, {'weights': ['uniform', 'distance']}]})\n",
    "\n",
    "best_params = []\n",
    "for name, model in best_models:\n",
    "    params = select_params(model,params[name], X_train, target.values.ravel())\n",
    "    best_params.append((name, params))"
   ]
  },
  {
   "cell_type": "code",
   "execution_count": 32,
   "metadata": {},
   "outputs": [
    {
     "data": {
      "text/plain": [
       "[('KNN', {'p': 1})]"
      ]
     },
     "execution_count": 32,
     "metadata": {},
     "output_type": "execute_result"
    }
   ],
   "source": [
    "# best_params_knn = [('KNN', {'p': 1})]\n",
    "# best_params_dectree = [('DecTree', {'min_samples_split': 4})]\n",
    "# best_params_rfc = [('RFC', {'n_estimators': 14})]\n",
    "best_params"
   ]
  },
  {
   "cell_type": "code",
   "execution_count": 29,
   "metadata": {},
   "outputs": [
    {
     "data": {
      "text/plain": [
       "[('DecTree', {'min_samples_split': 4})]"
      ]
     },
     "execution_count": 29,
     "metadata": {},
     "output_type": "execute_result"
    }
   ],
   "source": [
    "best_params"
   ]
  },
  {
   "cell_type": "code",
   "execution_count": 26,
   "metadata": {},
   "outputs": [
    {
     "data": {
      "text/plain": [
       "[('RFC', {'n_estimators': 14})]"
      ]
     },
     "execution_count": 26,
     "metadata": {},
     "output_type": "execute_result"
    }
   ],
   "source": [
    "best_params"
   ]
  },
  {
   "cell_type": "markdown",
   "metadata": {},
   "source": [
    "# Predicciones"
   ]
  },
  {
   "cell_type": "code",
   "execution_count": 28,
   "metadata": {},
   "outputs": [],
   "source": [
    "def predict(model,X_train,X_test,y):\n",
    "    model.fit(X_train,y.values.ravel())\n",
    "    return model.predict(X_test)\n",
    "\n",
    "def pred_to_csv(prediction,name):\n",
    "    test = pd.read_csv('test_.csv')\n",
    "    df = pd.DataFrame(prediction,columns={'sepostulo'})\n",
    "    df['id'] = test.id\n",
    "    df = df.loc[:,['id','sepostulo']]\n",
    "    df.sepostulo = df.sepostulo.astype(int)\n",
    "    df.to_csv('pred_' + name + '.csv',index=False)"
   ]
  },
  {
   "cell_type": "code",
   "execution_count": 29,
   "metadata": {},
   "outputs": [
    {
     "name": "stdout",
     "output_type": "stream",
     "text": [
      "CPU times: user 5min 8s, sys: 4.42 s, total: 5min 12s\n",
      "Wall time: 6min 14s\n"
     ]
    }
   ],
   "source": [
    "%%time\n",
    "# Random Forest\n",
    "from sklearn.ensemble import RandomForestClassifier\n",
    "\n",
    "pred = predict(RandomForestClassifier(), X_train, X_test, target)\n",
    "pred_to_csv(pred,'RandomForestClassifier') # 0.77 score en kaggle"
   ]
  },
  {
   "cell_type": "code",
   "execution_count": 69,
   "metadata": {},
   "outputs": [
    {
     "data": {
      "text/plain": [
       "8000000"
      ]
     },
     "execution_count": 69,
     "metadata": {},
     "output_type": "execute_result"
    }
   ],
   "source": [
    "len(X_train)"
   ]
  },
  {
   "cell_type": "code",
   "execution_count": 31,
   "metadata": {},
   "outputs": [
    {
     "data": {
      "text/plain": [
       "Administración                                    bool\n",
       "AdministracióndePersonal                          bool\n",
       "Almacén/Depósito/Expedición                       bool\n",
       "AtenciónalCliente                                 bool\n",
       "CallCenter                                        bool\n",
       "Comercial                                         bool\n",
       "Contabilidad                                      bool\n",
       "CréditosyCobranzas                                bool\n",
       "Gastronomia                                       bool\n",
       "Legal                                             bool\n",
       "Logística                                         bool\n",
       "MantenimientoyLimpieza                            bool\n",
       "Marketing                                         bool\n",
       "Producción                                        bool\n",
       "Recepcionista                                     bool\n",
       "RecursosHumanos                                   bool\n",
       "Secretaria                                        bool\n",
       "Telemarketing                                     bool\n",
       "Tesorería                                         bool\n",
       "Ventas                                            bool\n",
       "cant_postulaciones_aviso                         int64\n",
       "cant_vistas_aviso                                int64\n",
       "desc_1                                            bool\n",
       "desc_2                                            bool\n",
       "desc_3                                            bool\n",
       "desc_4                                            bool\n",
       "desc_5                                            bool\n",
       "desc_6                                            bool\n",
       "desc_7                                            bool\n",
       "edad                                             int64\n",
       "estado_estudio_Abandonado                         bool\n",
       "estado_estudio_EnCurso                            bool\n",
       "estado_estudio_Graduado                           bool\n",
       "idaviso                                          int64\n",
       "nivel_laboral_Gerencia/AltaGerencia/Dirección     bool\n",
       "nivel_laboral_Jefe/Supervisor/Responsable         bool\n",
       "nivel_laboral_Junior                              bool\n",
       "nivel_laboral_Otro                                bool\n",
       "nivel_laboral_Senior/Semi-Senior                  bool\n",
       "nombre_estudio_Doctorado                          bool\n",
       "nombre_estudio_Master                             bool\n",
       "nombre_estudio_Otro                               bool\n",
       "nombre_estudio_Posgrado                           bool\n",
       "nombre_estudio_Secundario                         bool\n",
       "nombre_estudio_Terciario/Tecnico                  bool\n",
       "nombre_estudio_Universitario                      bool\n",
       "sexo_FEM                                          bool\n",
       "sexo_MASC                                         bool\n",
       "sexo_NO_DECLARA                                   bool\n",
       "tipo_full                                         bool\n",
       "tipo_otro                                         bool\n",
       "tipo_part                                         bool\n",
       "dtype: object"
      ]
     },
     "execution_count": 31,
     "metadata": {},
     "output_type": "execute_result"
    }
   ],
   "source": [
    "X_train.dtypes"
   ]
  },
  {
   "cell_type": "code",
   "execution_count": 30,
   "metadata": {},
   "outputs": [
    {
     "name": "stdout",
     "output_type": "stream",
     "text": [
      "CPU times: user 9min 36s, sys: 11.1 s, total: 9min 47s\n",
      "Wall time: 12min 8s\n"
     ]
    }
   ],
   "source": [
    "%%time\n",
    "# KNN\n",
    "from sklearn.neighbors import KNeighborsClassifier\n",
    "\n",
    "pred = predict(KNeighborsClassifier(), X_train, X_test, target)\n",
    "pred_to_csv(pred,'KNeighborsClassifier') # 0.76 score en kaggle"
   ]
  },
  {
   "cell_type": "code",
   "execution_count": 17,
   "metadata": {},
   "outputs": [
    {
     "name": "stderr",
     "output_type": "stream",
     "text": [
      "/home/tbotalla/anaconda3/lib/python3.6/site-packages/sklearn/linear_model/stochastic_gradient.py:128: FutureWarning: max_iter and tol parameters have been added in <class 'sklearn.linear_model.stochastic_gradient.SGDClassifier'> in 0.19. If both are left unset, they default to max_iter=5 and tol=None. If tol is not None, max_iter defaults to max_iter=1000. From 0.21, default max_iter will be 1000, and default tol will be 1e-3.\n",
      "  \"and default tol will be 1e-3.\" % type(self), FutureWarning)\n"
     ]
    },
    {
     "name": "stdout",
     "output_type": "stream",
     "text": [
      "CPU times: user 1min 4s, sys: 26.1 s, total: 1min 30s\n",
      "Wall time: 6min 57s\n"
     ]
    }
   ],
   "source": [
    "%%time\n",
    "# SGD\n",
    "from sklearn.linear_model import SGDClassifier\n",
    "\n",
    "pred = predict(SGDClassifier(), X_train, X_test, target)\n",
    "pred_to_csv(pred,'SGD')"
   ]
  },
  {
   "cell_type": "code",
   "execution_count": 34,
   "metadata": {},
   "outputs": [
    {
     "name": "stdout",
     "output_type": "stream",
     "text": [
      "CPU times: user 4min 20s, sys: 8.39 s, total: 4min 29s\n",
      "Wall time: 5min 11s\n"
     ]
    }
   ],
   "source": [
    "%%time\n",
    "# Decision Tree\n",
    "from sklearn.tree import DecisionTreeClassifier\n",
    "\n",
    "pred = predict(DecisionTreeClassifier(), X_train, X_test, target)\n",
    "pred_to_csv(pred,'DecisionTreeClassifier') # 0.7 score en kaggle"
   ]
  },
  {
   "cell_type": "code",
   "execution_count": 12,
   "metadata": {},
   "outputs": [
    {
     "name": "stdout",
     "output_type": "stream",
     "text": [
      "(12000000, 45)\n",
      "(100000, 45)\n",
      "(12000000, 1)\n"
     ]
    }
   ],
   "source": [
    "print(X_train.shape)\n",
    "print(X_test.shape)\n",
    "print(target.shape)"
   ]
  },
  {
   "cell_type": "markdown",
   "metadata": {},
   "source": [
    "# Entrega final"
   ]
  },
  {
   "cell_type": "code",
   "execution_count": 2,
   "metadata": {},
   "outputs": [],
   "source": [
    "X_train = pd.read_csv('../data/X_train_8000000.csv', sep=',', encoding='utf-8')\n",
    "target = pd.read_csv('../data/target_8000000.csv', sep=',', encoding='utf-8')"
   ]
  },
  {
   "cell_type": "code",
   "execution_count": 3,
   "metadata": {},
   "outputs": [],
   "source": [
    "X_test = pd.read_csv('../data/X_test.csv', sep=',', encoding='utf-8')"
   ]
  },
  {
   "cell_type": "code",
   "execution_count": 11,
   "metadata": {},
   "outputs": [
    {
     "name": "stdout",
     "output_type": "stream",
     "text": [
      "(8000000, 52)\n",
      "(100120, 55)\n",
      "(8000000, 1)\n"
     ]
    }
   ],
   "source": [
    "print(X_train.shape)\n",
    "print(X_test.shape)\n",
    "print(target.shape)"
   ]
  },
  {
   "cell_type": "code",
   "execution_count": 41,
   "metadata": {},
   "outputs": [],
   "source": [
    "def train(model,X_train,X_test,y):\n",
    "    model.fit(X_train,y.values.ravel())\n",
    "    return model\n",
    "\n",
    "def pred_to_csv(prediction,name):\n",
    "    test = pd.read_csv('test_.csv')\n",
    "    df = pd.DataFrame(prediction,columns={'sepostulo'})\n",
    "    df['id'] = test.id\n",
    "    df = df.loc[:,['id','sepostulo']]\n",
    "    df.sepostulo = df.sepostulo.astype(int)\n",
    "    df.to_csv('pred_' + name + '.csv',index=False)"
   ]
  },
  {
   "cell_type": "code",
   "execution_count": 38,
   "metadata": {},
   "outputs": [],
   "source": [
    "X_train = pd.read_csv('../data/X_train_8000000_entrega1.csv', sep=',', encoding='utf-8')\n",
    "target = pd.read_csv('../data/target_8000000_entrega1.csv', sep=',', encoding='utf-8')"
   ]
  },
  {
   "cell_type": "code",
   "execution_count": 39,
   "metadata": {},
   "outputs": [],
   "source": [
    "X_test = pd.read_csv('../data/X_test_entrega1.csv', sep=',', encoding='utf-8')"
   ]
  },
  {
   "cell_type": "code",
   "execution_count": 42,
   "metadata": {},
   "outputs": [
    {
     "name": "stdout",
     "output_type": "stream",
     "text": [
      "CPU times: user 14min 17s, sys: 13.3 s, total: 14min 30s\n",
      "Wall time: 17min 23s\n"
     ]
    }
   ],
   "source": [
    "%%time\n",
    "# Random Forest\n",
    "from sklearn.ensemble import RandomForestClassifier\n",
    "\n",
    "model = train(RandomForestClassifier(n_estimators=14), X_train, X_test, target)"
   ]
  },
  {
   "cell_type": "code",
   "execution_count": null,
   "metadata": {},
   "outputs": [],
   "source": [
    "import pickle\n",
    "filename = 'rfc_model.sav'"
   ]
  },
  {
   "cell_type": "code",
   "execution_count": null,
   "metadata": {},
   "outputs": [],
   "source": [
    "%%time\n",
    "pickle.dump(model, open(filename, 'wb')) # Export del modelo"
   ]
  },
  {
   "cell_type": "code",
   "execution_count": null,
   "metadata": {},
   "outputs": [],
   "source": [
    "%%time\n",
    "model = pickle.load(open(filename, 'rb'))"
   ]
  },
  {
   "cell_type": "code",
   "execution_count": null,
   "metadata": {},
   "outputs": [],
   "source": [
    "%%time\n",
    "pred = model.predict(X_test)\n",
    "pred_to_csv(pred,'RandomForestClassifier')"
   ]
  },
  {
   "cell_type": "code",
   "execution_count": null,
   "metadata": {},
   "outputs": [],
   "source": []
  },
  {
   "cell_type": "code",
   "execution_count": null,
   "metadata": {},
   "outputs": [],
   "source": []
  },
  {
   "cell_type": "code",
   "execution_count": null,
   "metadata": {},
   "outputs": [],
   "source": []
  },
  {
   "cell_type": "code",
   "execution_count": null,
   "metadata": {},
   "outputs": [],
   "source": []
  },
  {
   "cell_type": "code",
   "execution_count": 38,
   "metadata": {},
   "outputs": [],
   "source": [
    "X_train = pd.read_csv('../data/X_train_8000000_entrega1.csv', sep=',', encoding='utf-8')\n",
    "target = pd.read_csv('../data/target_8000000_entrega1.csv', sep=',', encoding='utf-8')"
   ]
  },
  {
   "cell_type": "code",
   "execution_count": 39,
   "metadata": {},
   "outputs": [],
   "source": [
    "X_test = pd.read_csv('../data/X_test_entrega1.csv', sep=',', encoding='utf-8')"
   ]
  },
  {
   "cell_type": "code",
   "execution_count": 40,
   "metadata": {},
   "outputs": [
    {
     "name": "stdout",
     "output_type": "stream",
     "text": [
      "CPU times: user 10min 21s, sys: 12 s, total: 10min 33s\n",
      "Wall time: 13min 28s\n"
     ]
    }
   ],
   "source": [
    "%%time\n",
    "# Random Forest\n",
    "from sklearn.ensemble import RandomForestClassifier\n",
    "\n",
    "pred = predict(RandomForestClassifier(), X_train, X_test, target)\n",
    "pred_to_csv(pred,'RandomForestClassifier') # 0.77 score en kaggle"
   ]
  },
  {
   "cell_type": "code",
   "execution_count": null,
   "metadata": {},
   "outputs": [],
   "source": []
  }
 ],
 "metadata": {
  "kernelspec": {
   "display_name": "Python 3",
   "language": "python",
   "name": "python3"
  },
  "language_info": {
   "codemirror_mode": {
    "name": "ipython",
    "version": 3
   },
   "file_extension": ".py",
   "mimetype": "text/x-python",
   "name": "python",
   "nbconvert_exporter": "python",
   "pygments_lexer": "ipython3",
   "version": "3.6.4"
  }
 },
 "nbformat": 4,
 "nbformat_minor": 2
}
