{
 "cells": [
  {
   "cell_type": "code",
   "execution_count": 1,
   "metadata": {},
   "outputs": [],
   "source": [
    "import numpy as np \n",
    "import pandas as pd\n",
    "import datetime\n",
    "import calendar\n",
    "import matplotlib.pyplot as plt\n",
    "import seaborn as sns\n",
    "\n",
    "plt.style.use('fivethirtyeight')\n",
    "pd.set_option('display.max_columns', None)\n",
    "%matplotlib inline"
   ]
  },
  {
   "cell_type": "code",
   "execution_count": 2,
   "metadata": {},
   "outputs": [],
   "source": [
    "X_train = pd.read_csv('../data/X_train.csv', sep=',', encoding='utf-8')"
   ]
  },
  {
   "cell_type": "code",
   "execution_count": 2,
   "metadata": {},
   "outputs": [],
   "source": [
    "X_test = pd.read_csv('../data/X_test.csv', sep=',', encoding='utf-8')"
   ]
  },
  {
   "cell_type": "code",
   "execution_count": 11,
   "metadata": {},
   "outputs": [],
   "source": [
    "target = pd.read_csv('../data/target.csv', sep=',', encoding='utf-8')"
   ]
  },
  {
   "cell_type": "code",
   "execution_count": 28,
   "metadata": {},
   "outputs": [
    {
     "name": "stdout",
     "output_type": "stream",
     "text": [
      "train shape: (13104615, 56) | target shape: (13104615, 1)\n",
      "test shape: (100000, 54)\n"
     ]
    }
   ],
   "source": [
    "print('train shape:', X_train.shape,'| target shape:', target.shape)\n",
    "print('test shape:', X_test.shape)"
   ]
  },
  {
   "cell_type": "raw",
   "metadata": {},
   "source": [
    "Separamos la columna id para entrenar"
   ]
  },
  {
   "cell_type": "code",
   "execution_count": 29,
   "metadata": {},
   "outputs": [
    {
     "ename": "ValueError",
     "evalue": "not enough values to unpack (expected 2, got 0)",
     "output_type": "error",
     "traceback": [
      "\u001b[0;31m------------------------------------------------------------------------\u001b[0m",
      "\u001b[0;31mValueError\u001b[0m                             Traceback (most recent call last)",
      "\u001b[0;32m<ipython-input-29-a4a3af160e17>\u001b[0m in \u001b[0;36m<module>\u001b[0;34m()\u001b[0m\n\u001b[0;32m----> 1\u001b[0;31m \u001b[0mX_test\u001b[0m\u001b[0;34m.\u001b[0m\u001b[0mduplicated\u001b[0m\u001b[0;34m(\u001b[0m\u001b[0;34m'id'\u001b[0m\u001b[0;34m)\u001b[0m\u001b[0;34m.\u001b[0m\u001b[0many\u001b[0m\u001b[0;34m(\u001b[0m\u001b[0;34m)\u001b[0m\u001b[0;34m\u001b[0m\u001b[0m\n\u001b[0m",
      "\u001b[0;32m~/anaconda3/lib/python3.6/site-packages/pandas/core/frame.py\u001b[0m in \u001b[0;36mduplicated\u001b[0;34m(self, subset, keep)\u001b[0m\n\u001b[1;32m   3580\u001b[0m         vals = (col.values for name, col in self.iteritems()\n\u001b[1;32m   3581\u001b[0m                 if name in subset)\n\u001b[0;32m-> 3582\u001b[0;31m         \u001b[0mlabels\u001b[0m\u001b[0;34m,\u001b[0m \u001b[0mshape\u001b[0m \u001b[0;34m=\u001b[0m \u001b[0mmap\u001b[0m\u001b[0;34m(\u001b[0m\u001b[0mlist\u001b[0m\u001b[0;34m,\u001b[0m \u001b[0mzip\u001b[0m\u001b[0;34m(\u001b[0m\u001b[0;34m*\u001b[0m\u001b[0mmap\u001b[0m\u001b[0;34m(\u001b[0m\u001b[0mf\u001b[0m\u001b[0;34m,\u001b[0m \u001b[0mvals\u001b[0m\u001b[0;34m)\u001b[0m\u001b[0;34m)\u001b[0m\u001b[0;34m)\u001b[0m\u001b[0;34m\u001b[0m\u001b[0m\n\u001b[0m\u001b[1;32m   3583\u001b[0m \u001b[0;34m\u001b[0m\u001b[0m\n\u001b[1;32m   3584\u001b[0m         \u001b[0mids\u001b[0m \u001b[0;34m=\u001b[0m \u001b[0mget_group_index\u001b[0m\u001b[0;34m(\u001b[0m\u001b[0mlabels\u001b[0m\u001b[0;34m,\u001b[0m \u001b[0mshape\u001b[0m\u001b[0;34m,\u001b[0m \u001b[0msort\u001b[0m\u001b[0;34m=\u001b[0m\u001b[0;32mFalse\u001b[0m\u001b[0;34m,\u001b[0m \u001b[0mxnull\u001b[0m\u001b[0;34m=\u001b[0m\u001b[0;32mFalse\u001b[0m\u001b[0;34m)\u001b[0m\u001b[0;34m\u001b[0m\u001b[0m\n",
      "\u001b[0;31mValueError\u001b[0m: not enough values to unpack (expected 2, got 0)"
     ]
    }
   ],
   "source": [
    "X_test.duplicated('id').any()"
   ]
  },
  {
   "cell_type": "code",
   "execution_count": null,
   "metadata": {},
   "outputs": [],
   "source": [
    "ids = X_test[['id']]\n",
    "X_test.drop('id', axis=1, inplace=True)"
   ]
  },
  {
   "cell_type": "code",
   "execution_count": null,
   "metadata": {},
   "outputs": [],
   "source": [
    "print('train shape:', X_train.shape,'| target shape:', target.shape)\n",
    "print('test shape:', X_test.shape)"
   ]
  },
  {
   "cell_type": "code",
   "execution_count": null,
   "metadata": {},
   "outputs": [],
   "source": [
    "ids.to_csv('test_.csv', sep=',', encoding='utf-8')"
   ]
  },
  {
   "cell_type": "code",
   "execution_count": null,
   "metadata": {},
   "outputs": [],
   "source": [
    "print(X_train.shape)\n",
    "print(X_test.shape)"
   ]
  },
  {
   "cell_type": "code",
   "execution_count": null,
   "metadata": {},
   "outputs": [],
   "source": [
    "print(len(target[target['sepostulo'] == False]))\n",
    "print(len(target[target['sepostulo'] == True]))"
   ]
  },
  {
   "cell_type": "code",
   "execution_count": null,
   "metadata": {},
   "outputs": [],
   "source": [
    "X_train.head(1)"
   ]
  },
  {
   "cell_type": "code",
   "execution_count": null,
   "metadata": {},
   "outputs": [],
   "source": [
    "X_test.head(1)"
   ]
  },
  {
   "cell_type": "code",
   "execution_count": 3,
   "metadata": {},
   "outputs": [],
   "source": [
    "X_test.drop(columns=['nombre_area', 'idpostulante'], inplace=True)"
   ]
  },
  {
   "cell_type": "code",
   "execution_count": 4,
   "metadata": {},
   "outputs": [],
   "source": [
    "X_train.drop(columns=['nombre_area', 'idpostulante', 'sepostulo', 'nivel_laboral_nan'], inplace=True)"
   ]
  },
  {
   "cell_type": "code",
   "execution_count": 5,
   "metadata": {},
   "outputs": [
    {
     "name": "stdout",
     "output_type": "stream",
     "text": [
      "Index(['Administración', 'AdministracióndePersonal',\n",
      "       'Almacén/Depósito/Expedición', 'AtenciónalCliente', 'CallCenter',\n",
      "       'Comercial', 'Contabilidad', 'CréditosyCobranzas', 'Gastronomia',\n",
      "       'Legal', 'Logística', 'MantenimientoyLimpieza', 'Marketing',\n",
      "       'Producción', 'Recepcionista', 'RecursosHumanos', 'Secretaria',\n",
      "       'Telemarketing', 'Tesorería', 'Ventas', 'cant_postulaciones_aviso',\n",
      "       'cant_vistas_aviso', 'desc_1', 'desc_2', 'desc_3', 'desc_4', 'desc_5',\n",
      "       'desc_6', 'desc_7', 'edad', 'estado_estudio_Abandonado',\n",
      "       'estado_estudio_EnCurso', 'estado_estudio_Graduado', 'idaviso',\n",
      "       'nivel_laboral_Gerencia/AltaGerencia/Dirección',\n",
      "       'nivel_laboral_Jefe/Supervisor/Responsable', 'nivel_laboral_Junior',\n",
      "       'nivel_laboral_Otro', 'nivel_laboral_Senior/Semi-Senior',\n",
      "       'nombre_estudio_Doctorado', 'nombre_estudio_Master',\n",
      "       'nombre_estudio_Otro', 'nombre_estudio_Posgrado',\n",
      "       'nombre_estudio_Secundario', 'nombre_estudio_Terciario/Tecnico',\n",
      "       'nombre_estudio_Universitario', 'sexo_FEM', 'sexo_MASC',\n",
      "       'sexo_NO_DECLARA', 'tipo_full', 'tipo_otro', 'tipo_part'],\n",
      "      dtype='object')\n",
      "Index(['idaviso', 'edad', 'nombre_estudio_Doctorado', 'nombre_estudio_Master',\n",
      "       'nombre_estudio_Otro', 'nombre_estudio_Posgrado',\n",
      "       'nombre_estudio_Secundario', 'nombre_estudio_Terciario/Tecnico',\n",
      "       'nombre_estudio_Universitario', 'estado_estudio_Abandonado',\n",
      "       'estado_estudio_EnCurso', 'estado_estudio_Graduado', 'sexo_FEM',\n",
      "       'sexo_MASC', 'sexo_NO_DECLARA', 'desc_1', 'desc_2', 'desc_3', 'desc_4',\n",
      "       'desc_5', 'desc_6', 'desc_7', 'cant_vistas_aviso',\n",
      "       'cant_postulaciones_aviso', 'tipo_full', 'tipo_part', 'tipo_otro',\n",
      "       'nivel_laboral_Gerencia/AltaGerencia/Dirección',\n",
      "       'nivel_laboral_Jefe/Supervisor/Responsable', 'nivel_laboral_Junior',\n",
      "       'nivel_laboral_Otro', 'nivel_laboral_Senior/Semi-Senior', 'Ventas',\n",
      "       'Administración', 'Producción', 'Comercial', 'AtenciónalCliente',\n",
      "       'Recepcionista', 'CallCenter', 'Tesorería', 'Telemarketing',\n",
      "       'MantenimientoyLimpieza', 'Almacén/Depósito/Expedición', 'Contabilidad',\n",
      "       'RecursosHumanos', 'Gastronomia', 'Logística', 'Secretaria',\n",
      "       'AdministracióndePersonal', 'CréditosyCobranzas', 'Marketing', 'Legal'],\n",
      "      dtype='object')\n"
     ]
    }
   ],
   "source": [
    "print(X_train.columns)\n",
    "print(X_test.columns)"
   ]
  },
  {
   "cell_type": "code",
   "execution_count": 6,
   "metadata": {},
   "outputs": [],
   "source": [
    "# Ordenamos las columnas para que queden igual\n",
    "#X_train = X_train.reindex_axis(sorted(X_train.columns), axis=1)\n",
    "#X_test = X_test.reindex_axis(sorted(X_test.columns), axis=1)\n",
    "X_train = X_train.reindex(sorted(X_train.columns), axis=1)\n",
    "X_test = X_test.reindex(sorted(X_test.columns), axis=1)"
   ]
  },
  {
   "cell_type": "code",
   "execution_count": null,
   "metadata": {},
   "outputs": [],
   "source": [
    "print(X_train.isnull().values.any())\n",
    "print(X_test.isnull().values.any())"
   ]
  },
  {
   "cell_type": "code",
   "execution_count": 7,
   "metadata": {},
   "outputs": [
    {
     "name": "stdout",
     "output_type": "stream",
     "text": [
      "(13104615, 52)\n",
      "(100000, 52)\n",
      "Index(['Administración', 'AdministracióndePersonal',\n",
      "       'Almacén/Depósito/Expedición', 'AtenciónalCliente', 'CallCenter',\n",
      "       'Comercial', 'Contabilidad', 'CréditosyCobranzas', 'Gastronomia',\n",
      "       'Legal', 'Logística', 'MantenimientoyLimpieza', 'Marketing',\n",
      "       'Producción', 'Recepcionista', 'RecursosHumanos', 'Secretaria',\n",
      "       'Telemarketing', 'Tesorería', 'Ventas', 'cant_postulaciones_aviso',\n",
      "       'cant_vistas_aviso', 'desc_1', 'desc_2', 'desc_3', 'desc_4', 'desc_5',\n",
      "       'desc_6', 'desc_7', 'edad', 'estado_estudio_Abandonado',\n",
      "       'estado_estudio_EnCurso', 'estado_estudio_Graduado', 'idaviso',\n",
      "       'nivel_laboral_Gerencia/AltaGerencia/Dirección',\n",
      "       'nivel_laboral_Jefe/Supervisor/Responsable', 'nivel_laboral_Junior',\n",
      "       'nivel_laboral_Otro', 'nivel_laboral_Senior/Semi-Senior',\n",
      "       'nombre_estudio_Doctorado', 'nombre_estudio_Master',\n",
      "       'nombre_estudio_Otro', 'nombre_estudio_Posgrado',\n",
      "       'nombre_estudio_Secundario', 'nombre_estudio_Terciario/Tecnico',\n",
      "       'nombre_estudio_Universitario', 'sexo_FEM', 'sexo_MASC',\n",
      "       'sexo_NO_DECLARA', 'tipo_full', 'tipo_otro', 'tipo_part'],\n",
      "      dtype='object')\n",
      "Index(['Administración', 'AdministracióndePersonal',\n",
      "       'Almacén/Depósito/Expedición', 'AtenciónalCliente', 'CallCenter',\n",
      "       'Comercial', 'Contabilidad', 'CréditosyCobranzas', 'Gastronomia',\n",
      "       'Legal', 'Logística', 'MantenimientoyLimpieza', 'Marketing',\n",
      "       'Producción', 'Recepcionista', 'RecursosHumanos', 'Secretaria',\n",
      "       'Telemarketing', 'Tesorería', 'Ventas', 'cant_postulaciones_aviso',\n",
      "       'cant_vistas_aviso', 'desc_1', 'desc_2', 'desc_3', 'desc_4', 'desc_5',\n",
      "       'desc_6', 'desc_7', 'edad', 'estado_estudio_Abandonado',\n",
      "       'estado_estudio_EnCurso', 'estado_estudio_Graduado', 'idaviso',\n",
      "       'nivel_laboral_Gerencia/AltaGerencia/Dirección',\n",
      "       'nivel_laboral_Jefe/Supervisor/Responsable', 'nivel_laboral_Junior',\n",
      "       'nivel_laboral_Otro', 'nivel_laboral_Senior/Semi-Senior',\n",
      "       'nombre_estudio_Doctorado', 'nombre_estudio_Master',\n",
      "       'nombre_estudio_Otro', 'nombre_estudio_Posgrado',\n",
      "       'nombre_estudio_Secundario', 'nombre_estudio_Terciario/Tecnico',\n",
      "       'nombre_estudio_Universitario', 'sexo_FEM', 'sexo_MASC',\n",
      "       'sexo_NO_DECLARA', 'tipo_full', 'tipo_otro', 'tipo_part'],\n",
      "      dtype='object')\n"
     ]
    }
   ],
   "source": [
    "print(X_train.shape)\n",
    "print(X_test.shape)\n",
    "print(X_train.columns)\n",
    "print(X_test.columns)"
   ]
  },
  {
   "cell_type": "code",
   "execution_count": 8,
   "metadata": {},
   "outputs": [
    {
     "data": {
      "text/plain": [
       "Administración                                      bool\n",
       "AdministracióndePersonal                            bool\n",
       "Almacén/Depósito/Expedición                         bool\n",
       "AtenciónalCliente                                   bool\n",
       "CallCenter                                          bool\n",
       "Comercial                                           bool\n",
       "Contabilidad                                        bool\n",
       "CréditosyCobranzas                                  bool\n",
       "Gastronomia                                         bool\n",
       "Legal                                               bool\n",
       "Logística                                           bool\n",
       "MantenimientoyLimpieza                              bool\n",
       "Marketing                                           bool\n",
       "Producción                                          bool\n",
       "Recepcionista                                       bool\n",
       "RecursosHumanos                                     bool\n",
       "Secretaria                                          bool\n",
       "Telemarketing                                       bool\n",
       "Tesorería                                           bool\n",
       "Ventas                                              bool\n",
       "cant_postulaciones_aviso                           int64\n",
       "cant_vistas_aviso                                  int64\n",
       "desc_1                                           float64\n",
       "desc_2                                           float64\n",
       "desc_3                                           float64\n",
       "desc_4                                           float64\n",
       "desc_5                                           float64\n",
       "desc_6                                           float64\n",
       "desc_7                                           float64\n",
       "edad                                               int64\n",
       "estado_estudio_Abandonado                          int64\n",
       "estado_estudio_EnCurso                             int64\n",
       "estado_estudio_Graduado                            int64\n",
       "idaviso                                            int64\n",
       "nivel_laboral_Gerencia/AltaGerencia/Dirección      int64\n",
       "nivel_laboral_Jefe/Supervisor/Responsable          int64\n",
       "nivel_laboral_Junior                               int64\n",
       "nivel_laboral_Otro                                 int64\n",
       "nivel_laboral_Senior/Semi-Senior                   int64\n",
       "nombre_estudio_Doctorado                           int64\n",
       "nombre_estudio_Master                              int64\n",
       "nombre_estudio_Otro                                int64\n",
       "nombre_estudio_Posgrado                            int64\n",
       "nombre_estudio_Secundario                          int64\n",
       "nombre_estudio_Terciario/Tecnico                   int64\n",
       "nombre_estudio_Universitario                       int64\n",
       "sexo_FEM                                           int64\n",
       "sexo_MASC                                          int64\n",
       "sexo_NO_DECLARA                                    int64\n",
       "tipo_full                                           bool\n",
       "tipo_otro                                           bool\n",
       "tipo_part                                           bool\n",
       "dtype: object"
      ]
     },
     "execution_count": 8,
     "metadata": {},
     "output_type": "execute_result"
    }
   ],
   "source": [
    "X_train.dtypes"
   ]
  },
  {
   "cell_type": "code",
   "execution_count": 9,
   "metadata": {},
   "outputs": [
    {
     "data": {
      "text/plain": [
       "Administración                                    bool\n",
       "AdministracióndePersonal                          bool\n",
       "Almacén/Depósito/Expedición                       bool\n",
       "AtenciónalCliente                                 bool\n",
       "CallCenter                                        bool\n",
       "Comercial                                         bool\n",
       "Contabilidad                                      bool\n",
       "CréditosyCobranzas                                bool\n",
       "Gastronomia                                       bool\n",
       "Legal                                             bool\n",
       "Logística                                         bool\n",
       "MantenimientoyLimpieza                            bool\n",
       "Marketing                                         bool\n",
       "Producción                                        bool\n",
       "Recepcionista                                     bool\n",
       "RecursosHumanos                                   bool\n",
       "Secretaria                                        bool\n",
       "Telemarketing                                     bool\n",
       "Tesorería                                         bool\n",
       "Ventas                                            bool\n",
       "cant_postulaciones_aviso                         int64\n",
       "cant_vistas_aviso                                int64\n",
       "desc_1                                            bool\n",
       "desc_2                                            bool\n",
       "desc_3                                            bool\n",
       "desc_4                                            bool\n",
       "desc_5                                            bool\n",
       "desc_6                                            bool\n",
       "desc_7                                            bool\n",
       "edad                                             int64\n",
       "estado_estudio_Abandonado                         bool\n",
       "estado_estudio_EnCurso                            bool\n",
       "estado_estudio_Graduado                           bool\n",
       "idaviso                                          int64\n",
       "nivel_laboral_Gerencia/AltaGerencia/Dirección     bool\n",
       "nivel_laboral_Jefe/Supervisor/Responsable         bool\n",
       "nivel_laboral_Junior                              bool\n",
       "nivel_laboral_Otro                                bool\n",
       "nivel_laboral_Senior/Semi-Senior                  bool\n",
       "nombre_estudio_Doctorado                          bool\n",
       "nombre_estudio_Master                             bool\n",
       "nombre_estudio_Otro                               bool\n",
       "nombre_estudio_Posgrado                           bool\n",
       "nombre_estudio_Secundario                         bool\n",
       "nombre_estudio_Terciario/Tecnico                  bool\n",
       "nombre_estudio_Universitario                      bool\n",
       "sexo_FEM                                          bool\n",
       "sexo_MASC                                         bool\n",
       "sexo_NO_DECLARA                                   bool\n",
       "tipo_full                                         bool\n",
       "tipo_otro                                         bool\n",
       "tipo_part                                         bool\n",
       "dtype: object"
      ]
     },
     "execution_count": 9,
     "metadata": {},
     "output_type": "execute_result"
    }
   ],
   "source": [
    "X_test.dtypes"
   ]
  },
  {
   "cell_type": "markdown",
   "metadata": {},
   "source": [
    "# Checkpoint "
   ]
  },
  {
   "cell_type": "code",
   "execution_count": 12,
   "metadata": {},
   "outputs": [],
   "source": [
    "X_train.head(10000000).to_csv('../data/X_train_10000000.csv', index=False, sep=',', encoding='utf-8')\n",
    "target.head(10000000).to_csv('../data/target_10000000.csv', index=False, sep=',', encoding='utf-8')"
   ]
  },
  {
   "cell_type": "code",
   "execution_count": 3,
   "metadata": {},
   "outputs": [],
   "source": [
    "X_train = pd.read_csv('../data/X_train_10000000.csv', sep=',', encoding='utf-8')\n",
    "target = pd.read_csv('../data/target_10000000.csv', sep=',', encoding='utf-8')"
   ]
  },
  {
   "cell_type": "code",
   "execution_count": 27,
   "metadata": {},
   "outputs": [
    {
     "data": {
      "text/html": [
       "<div>\n",
       "<style scoped>\n",
       "    .dataframe tbody tr th:only-of-type {\n",
       "        vertical-align: middle;\n",
       "    }\n",
       "\n",
       "    .dataframe tbody tr th {\n",
       "        vertical-align: top;\n",
       "    }\n",
       "\n",
       "    .dataframe thead th {\n",
       "        text-align: right;\n",
       "    }\n",
       "</style>\n",
       "<table border=\"1\" class=\"dataframe\">\n",
       "  <thead>\n",
       "    <tr style=\"text-align: right;\">\n",
       "      <th></th>\n",
       "      <th>Administración</th>\n",
       "      <th>AdministracióndePersonal</th>\n",
       "      <th>Almacén/Depósito/Expedición</th>\n",
       "      <th>AtenciónalCliente</th>\n",
       "      <th>CallCenter</th>\n",
       "      <th>Comercial</th>\n",
       "      <th>Contabilidad</th>\n",
       "      <th>CréditosyCobranzas</th>\n",
       "      <th>Gastronomia</th>\n",
       "      <th>Legal</th>\n",
       "      <th>Logística</th>\n",
       "      <th>MantenimientoyLimpieza</th>\n",
       "      <th>Marketing</th>\n",
       "      <th>Producción</th>\n",
       "      <th>Recepcionista</th>\n",
       "      <th>RecursosHumanos</th>\n",
       "      <th>Secretaria</th>\n",
       "      <th>Telemarketing</th>\n",
       "      <th>Tesorería</th>\n",
       "      <th>Ventas</th>\n",
       "      <th>cant_postulaciones_aviso</th>\n",
       "      <th>cant_vistas_aviso</th>\n",
       "      <th>desc_1</th>\n",
       "      <th>desc_2</th>\n",
       "      <th>desc_3</th>\n",
       "      <th>desc_4</th>\n",
       "      <th>desc_5</th>\n",
       "      <th>desc_6</th>\n",
       "      <th>desc_7</th>\n",
       "      <th>edad</th>\n",
       "      <th>estado_estudio_Abandonado</th>\n",
       "      <th>estado_estudio_EnCurso</th>\n",
       "      <th>estado_estudio_Graduado</th>\n",
       "      <th>idaviso</th>\n",
       "      <th>nivel_laboral_Gerencia/AltaGerencia/Dirección</th>\n",
       "      <th>nivel_laboral_Jefe/Supervisor/Responsable</th>\n",
       "      <th>nivel_laboral_Junior</th>\n",
       "      <th>nivel_laboral_Otro</th>\n",
       "      <th>nivel_laboral_Senior/Semi-Senior</th>\n",
       "      <th>nombre_estudio_Doctorado</th>\n",
       "      <th>nombre_estudio_Master</th>\n",
       "      <th>nombre_estudio_Otro</th>\n",
       "      <th>nombre_estudio_Posgrado</th>\n",
       "      <th>nombre_estudio_Secundario</th>\n",
       "      <th>nombre_estudio_Terciario/Tecnico</th>\n",
       "      <th>nombre_estudio_Universitario</th>\n",
       "      <th>sexo_FEM</th>\n",
       "      <th>sexo_MASC</th>\n",
       "      <th>sexo_NO_DECLARA</th>\n",
       "      <th>tipo_full</th>\n",
       "      <th>tipo_otro</th>\n",
       "      <th>tipo_part</th>\n",
       "    </tr>\n",
       "  </thead>\n",
       "  <tbody>\n",
       "    <tr>\n",
       "      <th>0</th>\n",
       "      <td>False</td>\n",
       "      <td>False</td>\n",
       "      <td>False</td>\n",
       "      <td>True</td>\n",
       "      <td>False</td>\n",
       "      <td>False</td>\n",
       "      <td>False</td>\n",
       "      <td>False</td>\n",
       "      <td>False</td>\n",
       "      <td>False</td>\n",
       "      <td>False</td>\n",
       "      <td>False</td>\n",
       "      <td>False</td>\n",
       "      <td>False</td>\n",
       "      <td>False</td>\n",
       "      <td>False</td>\n",
       "      <td>False</td>\n",
       "      <td>False</td>\n",
       "      <td>False</td>\n",
       "      <td>False</td>\n",
       "      <td>2391</td>\n",
       "      <td>8</td>\n",
       "      <td>False</td>\n",
       "      <td>False</td>\n",
       "      <td>False</td>\n",
       "      <td>True</td>\n",
       "      <td>False</td>\n",
       "      <td>False</td>\n",
       "      <td>False</td>\n",
       "      <td>48</td>\n",
       "      <td>False</td>\n",
       "      <td>False</td>\n",
       "      <td>True</td>\n",
       "      <td>1112257047</td>\n",
       "      <td>False</td>\n",
       "      <td>False</td>\n",
       "      <td>False</td>\n",
       "      <td>True</td>\n",
       "      <td>False</td>\n",
       "      <td>False</td>\n",
       "      <td>False</td>\n",
       "      <td>False</td>\n",
       "      <td>False</td>\n",
       "      <td>True</td>\n",
       "      <td>False</td>\n",
       "      <td>False</td>\n",
       "      <td>True</td>\n",
       "      <td>False</td>\n",
       "      <td>False</td>\n",
       "      <td>False</td>\n",
       "      <td>False</td>\n",
       "      <td>True</td>\n",
       "    </tr>\n",
       "  </tbody>\n",
       "</table>\n",
       "</div>"
      ],
      "text/plain": [
       "   Administración  AdministracióndePersonal  Almacén/Depósito/Expedición  \\\n",
       "0           False                     False                        False   \n",
       "\n",
       "   AtenciónalCliente  CallCenter  Comercial  Contabilidad  CréditosyCobranzas  \\\n",
       "0               True       False      False         False               False   \n",
       "\n",
       "   Gastronomia  Legal  Logística  MantenimientoyLimpieza  Marketing  \\\n",
       "0        False  False      False                   False      False   \n",
       "\n",
       "   Producción  Recepcionista  RecursosHumanos  Secretaria  Telemarketing  \\\n",
       "0       False          False            False       False          False   \n",
       "\n",
       "   Tesorería  Ventas  cant_postulaciones_aviso  cant_vistas_aviso  desc_1  \\\n",
       "0      False   False                      2391                  8   False   \n",
       "\n",
       "   desc_2  desc_3  desc_4  desc_5  desc_6  desc_7  edad  \\\n",
       "0   False   False    True   False   False   False    48   \n",
       "\n",
       "   estado_estudio_Abandonado  estado_estudio_EnCurso  estado_estudio_Graduado  \\\n",
       "0                      False                   False                     True   \n",
       "\n",
       "      idaviso  nivel_laboral_Gerencia/AltaGerencia/Dirección  \\\n",
       "0  1112257047                                          False   \n",
       "\n",
       "   nivel_laboral_Jefe/Supervisor/Responsable  nivel_laboral_Junior  \\\n",
       "0                                      False                 False   \n",
       "\n",
       "   nivel_laboral_Otro  nivel_laboral_Senior/Semi-Senior  \\\n",
       "0                True                             False   \n",
       "\n",
       "   nombre_estudio_Doctorado  nombre_estudio_Master  nombre_estudio_Otro  \\\n",
       "0                     False                  False                False   \n",
       "\n",
       "   nombre_estudio_Posgrado  nombre_estudio_Secundario  \\\n",
       "0                    False                       True   \n",
       "\n",
       "   nombre_estudio_Terciario/Tecnico  nombre_estudio_Universitario  sexo_FEM  \\\n",
       "0                             False                         False      True   \n",
       "\n",
       "   sexo_MASC  sexo_NO_DECLARA  tipo_full  tipo_otro  tipo_part  \n",
       "0      False            False      False      False       True  "
      ]
     },
     "execution_count": 27,
     "metadata": {},
     "output_type": "execute_result"
    }
   ],
   "source": [
    "X_train.head(1)"
   ]
  },
  {
   "cell_type": "code",
   "execution_count": 28,
   "metadata": {},
   "outputs": [
    {
     "data": {
      "text/html": [
       "<div>\n",
       "<style scoped>\n",
       "    .dataframe tbody tr th:only-of-type {\n",
       "        vertical-align: middle;\n",
       "    }\n",
       "\n",
       "    .dataframe tbody tr th {\n",
       "        vertical-align: top;\n",
       "    }\n",
       "\n",
       "    .dataframe thead th {\n",
       "        text-align: right;\n",
       "    }\n",
       "</style>\n",
       "<table border=\"1\" class=\"dataframe\">\n",
       "  <thead>\n",
       "    <tr style=\"text-align: right;\">\n",
       "      <th></th>\n",
       "      <th>Administración</th>\n",
       "      <th>AdministracióndePersonal</th>\n",
       "      <th>Almacén/Depósito/Expedición</th>\n",
       "      <th>AtenciónalCliente</th>\n",
       "      <th>CallCenter</th>\n",
       "      <th>Comercial</th>\n",
       "      <th>Contabilidad</th>\n",
       "      <th>CréditosyCobranzas</th>\n",
       "      <th>Gastronomia</th>\n",
       "      <th>Legal</th>\n",
       "      <th>Logística</th>\n",
       "      <th>MantenimientoyLimpieza</th>\n",
       "      <th>Marketing</th>\n",
       "      <th>Producción</th>\n",
       "      <th>Recepcionista</th>\n",
       "      <th>RecursosHumanos</th>\n",
       "      <th>Secretaria</th>\n",
       "      <th>Telemarketing</th>\n",
       "      <th>Tesorería</th>\n",
       "      <th>Ventas</th>\n",
       "      <th>cant_postulaciones_aviso</th>\n",
       "      <th>cant_vistas_aviso</th>\n",
       "      <th>desc_1</th>\n",
       "      <th>desc_2</th>\n",
       "      <th>desc_3</th>\n",
       "      <th>desc_4</th>\n",
       "      <th>desc_5</th>\n",
       "      <th>desc_6</th>\n",
       "      <th>desc_7</th>\n",
       "      <th>edad</th>\n",
       "      <th>estado_estudio_Abandonado</th>\n",
       "      <th>estado_estudio_EnCurso</th>\n",
       "      <th>estado_estudio_Graduado</th>\n",
       "      <th>idaviso</th>\n",
       "      <th>nivel_laboral_Gerencia/AltaGerencia/Dirección</th>\n",
       "      <th>nivel_laboral_Jefe/Supervisor/Responsable</th>\n",
       "      <th>nivel_laboral_Junior</th>\n",
       "      <th>nivel_laboral_Otro</th>\n",
       "      <th>nivel_laboral_Senior/Semi-Senior</th>\n",
       "      <th>nombre_estudio_Doctorado</th>\n",
       "      <th>nombre_estudio_Master</th>\n",
       "      <th>nombre_estudio_Otro</th>\n",
       "      <th>nombre_estudio_Posgrado</th>\n",
       "      <th>nombre_estudio_Secundario</th>\n",
       "      <th>nombre_estudio_Terciario/Tecnico</th>\n",
       "      <th>nombre_estudio_Universitario</th>\n",
       "      <th>sexo_FEM</th>\n",
       "      <th>sexo_MASC</th>\n",
       "      <th>sexo_NO_DECLARA</th>\n",
       "      <th>tipo_full</th>\n",
       "      <th>tipo_otro</th>\n",
       "      <th>tipo_part</th>\n",
       "    </tr>\n",
       "  </thead>\n",
       "  <tbody>\n",
       "    <tr>\n",
       "      <th>0</th>\n",
       "      <td>False</td>\n",
       "      <td>False</td>\n",
       "      <td>False</td>\n",
       "      <td>False</td>\n",
       "      <td>False</td>\n",
       "      <td>True</td>\n",
       "      <td>False</td>\n",
       "      <td>False</td>\n",
       "      <td>False</td>\n",
       "      <td>False</td>\n",
       "      <td>False</td>\n",
       "      <td>False</td>\n",
       "      <td>False</td>\n",
       "      <td>False</td>\n",
       "      <td>False</td>\n",
       "      <td>False</td>\n",
       "      <td>False</td>\n",
       "      <td>False</td>\n",
       "      <td>False</td>\n",
       "      <td>False</td>\n",
       "      <td>0</td>\n",
       "      <td>2</td>\n",
       "      <td>False</td>\n",
       "      <td>False</td>\n",
       "      <td>False</td>\n",
       "      <td>False</td>\n",
       "      <td>True</td>\n",
       "      <td>False</td>\n",
       "      <td>False</td>\n",
       "      <td>42</td>\n",
       "      <td>False</td>\n",
       "      <td>False</td>\n",
       "      <td>True</td>\n",
       "      <td>739260</td>\n",
       "      <td>False</td>\n",
       "      <td>True</td>\n",
       "      <td>False</td>\n",
       "      <td>False</td>\n",
       "      <td>False</td>\n",
       "      <td>True</td>\n",
       "      <td>False</td>\n",
       "      <td>False</td>\n",
       "      <td>False</td>\n",
       "      <td>False</td>\n",
       "      <td>False</td>\n",
       "      <td>False</td>\n",
       "      <td>True</td>\n",
       "      <td>False</td>\n",
       "      <td>False</td>\n",
       "      <td>True</td>\n",
       "      <td>False</td>\n",
       "      <td>False</td>\n",
       "    </tr>\n",
       "  </tbody>\n",
       "</table>\n",
       "</div>"
      ],
      "text/plain": [
       "   Administración  AdministracióndePersonal  Almacén/Depósito/Expedición  \\\n",
       "0           False                     False                        False   \n",
       "\n",
       "   AtenciónalCliente  CallCenter  Comercial  Contabilidad  CréditosyCobranzas  \\\n",
       "0              False       False       True         False               False   \n",
       "\n",
       "   Gastronomia  Legal  Logística  MantenimientoyLimpieza  Marketing  \\\n",
       "0        False  False      False                   False      False   \n",
       "\n",
       "   Producción  Recepcionista  RecursosHumanos  Secretaria  Telemarketing  \\\n",
       "0       False          False            False       False          False   \n",
       "\n",
       "   Tesorería  Ventas  cant_postulaciones_aviso  cant_vistas_aviso  desc_1  \\\n",
       "0      False   False                         0                  2   False   \n",
       "\n",
       "   desc_2  desc_3  desc_4  desc_5  desc_6  desc_7  edad  \\\n",
       "0   False   False   False    True   False   False    42   \n",
       "\n",
       "   estado_estudio_Abandonado  estado_estudio_EnCurso  estado_estudio_Graduado  \\\n",
       "0                      False                   False                     True   \n",
       "\n",
       "   idaviso  nivel_laboral_Gerencia/AltaGerencia/Dirección  \\\n",
       "0   739260                                          False   \n",
       "\n",
       "   nivel_laboral_Jefe/Supervisor/Responsable  nivel_laboral_Junior  \\\n",
       "0                                       True                 False   \n",
       "\n",
       "   nivel_laboral_Otro  nivel_laboral_Senior/Semi-Senior  \\\n",
       "0               False                             False   \n",
       "\n",
       "   nombre_estudio_Doctorado  nombre_estudio_Master  nombre_estudio_Otro  \\\n",
       "0                      True                  False                False   \n",
       "\n",
       "   nombre_estudio_Posgrado  nombre_estudio_Secundario  \\\n",
       "0                    False                      False   \n",
       "\n",
       "   nombre_estudio_Terciario/Tecnico  nombre_estudio_Universitario  sexo_FEM  \\\n",
       "0                             False                         False      True   \n",
       "\n",
       "   sexo_MASC  sexo_NO_DECLARA  tipo_full  tipo_otro  tipo_part  \n",
       "0      False            False       True      False      False  "
      ]
     },
     "execution_count": 28,
     "metadata": {},
     "output_type": "execute_result"
    }
   ],
   "source": [
    "X_test.head(1)"
   ]
  },
  {
   "cell_type": "code",
   "execution_count": 4,
   "metadata": {},
   "outputs": [
    {
     "name": "stdout",
     "output_type": "stream",
     "text": [
      "<class 'pandas.core.frame.DataFrame'>\n",
      "RangeIndex: 10000000 entries, 0 to 9999999\n",
      "Data columns (total 52 columns):\n",
      "Administración                                   bool\n",
      "AdministracióndePersonal                         bool\n",
      "Almacén/Depósito/Expedición                      bool\n",
      "AtenciónalCliente                                bool\n",
      "CallCenter                                       bool\n",
      "Comercial                                        bool\n",
      "Contabilidad                                     bool\n",
      "CréditosyCobranzas                               bool\n",
      "Gastronomia                                      bool\n",
      "Legal                                            bool\n",
      "Logística                                        bool\n",
      "MantenimientoyLimpieza                           bool\n",
      "Marketing                                        bool\n",
      "Producción                                       bool\n",
      "Recepcionista                                    bool\n",
      "RecursosHumanos                                  bool\n",
      "Secretaria                                       bool\n",
      "Telemarketing                                    bool\n",
      "Tesorería                                        bool\n",
      "Ventas                                           bool\n",
      "cant_postulaciones_aviso                         int64\n",
      "cant_vistas_aviso                                int64\n",
      "desc_1                                           bool\n",
      "desc_2                                           bool\n",
      "desc_3                                           bool\n",
      "desc_4                                           bool\n",
      "desc_5                                           bool\n",
      "desc_6                                           bool\n",
      "desc_7                                           bool\n",
      "edad                                             int64\n",
      "estado_estudio_Abandonado                        bool\n",
      "estado_estudio_EnCurso                           bool\n",
      "estado_estudio_Graduado                          bool\n",
      "idaviso                                          int64\n",
      "nivel_laboral_Gerencia/AltaGerencia/Dirección    bool\n",
      "nivel_laboral_Jefe/Supervisor/Responsable        bool\n",
      "nivel_laboral_Junior                             bool\n",
      "nivel_laboral_Otro                               bool\n",
      "nivel_laboral_Senior/Semi-Senior                 bool\n",
      "nombre_estudio_Doctorado                         bool\n",
      "nombre_estudio_Master                            bool\n",
      "nombre_estudio_Otro                              bool\n",
      "nombre_estudio_Posgrado                          bool\n",
      "nombre_estudio_Secundario                        bool\n",
      "nombre_estudio_Terciario/Tecnico                 bool\n",
      "nombre_estudio_Universitario                     bool\n",
      "sexo_FEM                                         bool\n",
      "sexo_MASC                                        bool\n",
      "sexo_NO_DECLARA                                  bool\n",
      "tipo_full                                        bool\n",
      "tipo_otro                                        bool\n",
      "tipo_part                                        bool\n",
      "dtypes: bool(48), int64(4)\n",
      "memory usage: 762.9 MB\n"
     ]
    }
   ],
   "source": [
    "X_train.info()"
   ]
  },
  {
   "cell_type": "code",
   "execution_count": 5,
   "metadata": {},
   "outputs": [
    {
     "name": "stdout",
     "output_type": "stream",
     "text": [
      "<class 'pandas.core.frame.DataFrame'>\n",
      "RangeIndex: 100000 entries, 0 to 99999\n",
      "Data columns (total 52 columns):\n",
      "Administración                                   100000 non-null bool\n",
      "AdministracióndePersonal                         100000 non-null bool\n",
      "Almacén/Depósito/Expedición                      100000 non-null bool\n",
      "AtenciónalCliente                                100000 non-null bool\n",
      "CallCenter                                       100000 non-null bool\n",
      "Comercial                                        100000 non-null bool\n",
      "Contabilidad                                     100000 non-null bool\n",
      "CréditosyCobranzas                               100000 non-null bool\n",
      "Gastronomia                                      100000 non-null bool\n",
      "Legal                                            100000 non-null bool\n",
      "Logística                                        100000 non-null bool\n",
      "MantenimientoyLimpieza                           100000 non-null bool\n",
      "Marketing                                        100000 non-null bool\n",
      "Producción                                       100000 non-null bool\n",
      "Recepcionista                                    100000 non-null bool\n",
      "RecursosHumanos                                  100000 non-null bool\n",
      "Secretaria                                       100000 non-null bool\n",
      "Telemarketing                                    100000 non-null bool\n",
      "Tesorería                                        100000 non-null bool\n",
      "Ventas                                           100000 non-null bool\n",
      "cant_postulaciones_aviso                         100000 non-null int64\n",
      "cant_vistas_aviso                                100000 non-null int64\n",
      "desc_1                                           100000 non-null bool\n",
      "desc_2                                           100000 non-null bool\n",
      "desc_3                                           100000 non-null bool\n",
      "desc_4                                           100000 non-null bool\n",
      "desc_5                                           100000 non-null bool\n",
      "desc_6                                           100000 non-null bool\n",
      "desc_7                                           100000 non-null bool\n",
      "edad                                             100000 non-null int64\n",
      "estado_estudio_Abandonado                        100000 non-null bool\n",
      "estado_estudio_EnCurso                           100000 non-null bool\n",
      "estado_estudio_Graduado                          100000 non-null bool\n",
      "idaviso                                          100000 non-null int64\n",
      "nivel_laboral_Gerencia/AltaGerencia/Dirección    100000 non-null bool\n",
      "nivel_laboral_Jefe/Supervisor/Responsable        100000 non-null bool\n",
      "nivel_laboral_Junior                             100000 non-null bool\n",
      "nivel_laboral_Otro                               100000 non-null bool\n",
      "nivel_laboral_Senior/Semi-Senior                 100000 non-null bool\n",
      "nombre_estudio_Doctorado                         100000 non-null bool\n",
      "nombre_estudio_Master                            100000 non-null bool\n",
      "nombre_estudio_Otro                              100000 non-null bool\n",
      "nombre_estudio_Posgrado                          100000 non-null bool\n",
      "nombre_estudio_Secundario                        100000 non-null bool\n",
      "nombre_estudio_Terciario/Tecnico                 100000 non-null bool\n",
      "nombre_estudio_Universitario                     100000 non-null bool\n",
      "sexo_FEM                                         100000 non-null bool\n",
      "sexo_MASC                                        100000 non-null bool\n",
      "sexo_NO_DECLARA                                  100000 non-null bool\n",
      "tipo_full                                        100000 non-null bool\n",
      "tipo_otro                                        100000 non-null bool\n",
      "tipo_part                                        100000 non-null bool\n",
      "dtypes: bool(48), int64(4)\n",
      "memory usage: 7.6 MB\n"
     ]
    }
   ],
   "source": [
    "X_test.info()"
   ]
  },
  {
   "cell_type": "code",
   "execution_count": 6,
   "metadata": {},
   "outputs": [
    {
     "data": {
      "text/plain": [
       "Administración                                    bool\n",
       "AdministracióndePersonal                          bool\n",
       "Almacén/Depósito/Expedición                       bool\n",
       "AtenciónalCliente                                 bool\n",
       "CallCenter                                        bool\n",
       "Comercial                                         bool\n",
       "Contabilidad                                      bool\n",
       "CréditosyCobranzas                                bool\n",
       "Gastronomia                                       bool\n",
       "Legal                                             bool\n",
       "Logística                                         bool\n",
       "MantenimientoyLimpieza                            bool\n",
       "Marketing                                         bool\n",
       "Producción                                        bool\n",
       "Recepcionista                                     bool\n",
       "RecursosHumanos                                   bool\n",
       "Secretaria                                        bool\n",
       "Telemarketing                                     bool\n",
       "Tesorería                                         bool\n",
       "Ventas                                            bool\n",
       "cant_postulaciones_aviso                         int64\n",
       "cant_vistas_aviso                                int64\n",
       "desc_1                                            bool\n",
       "desc_2                                            bool\n",
       "desc_3                                            bool\n",
       "desc_4                                            bool\n",
       "desc_5                                            bool\n",
       "desc_6                                            bool\n",
       "desc_7                                            bool\n",
       "edad                                             int64\n",
       "estado_estudio_Abandonado                         bool\n",
       "estado_estudio_EnCurso                            bool\n",
       "estado_estudio_Graduado                           bool\n",
       "idaviso                                          int64\n",
       "nivel_laboral_Gerencia/AltaGerencia/Dirección     bool\n",
       "nivel_laboral_Jefe/Supervisor/Responsable         bool\n",
       "nivel_laboral_Junior                              bool\n",
       "nivel_laboral_Otro                                bool\n",
       "nivel_laboral_Senior/Semi-Senior                  bool\n",
       "nombre_estudio_Doctorado                          bool\n",
       "nombre_estudio_Master                             bool\n",
       "nombre_estudio_Otro                               bool\n",
       "nombre_estudio_Posgrado                           bool\n",
       "nombre_estudio_Secundario                         bool\n",
       "nombre_estudio_Terciario/Tecnico                  bool\n",
       "nombre_estudio_Universitario                      bool\n",
       "sexo_FEM                                          bool\n",
       "sexo_MASC                                         bool\n",
       "sexo_NO_DECLARA                                   bool\n",
       "tipo_full                                         bool\n",
       "tipo_otro                                         bool\n",
       "tipo_part                                         bool\n",
       "dtype: object"
      ]
     },
     "execution_count": 6,
     "metadata": {},
     "output_type": "execute_result"
    }
   ],
   "source": [
    "X_train.dtypes"
   ]
  },
  {
   "cell_type": "code",
   "execution_count": 18,
   "metadata": {},
   "outputs": [],
   "source": [
    "X_train.desc_1.fillna(0, inplace=True)\n",
    "X_train.desc_2.fillna(0, inplace=True)\n",
    "X_train.desc_3.fillna(0, inplace=True)\n",
    "X_train.desc_4.fillna(0, inplace=True)\n",
    "X_train.desc_5.fillna(0, inplace=True)\n",
    "X_train.desc_6.fillna(0, inplace=True)\n",
    "X_train.desc_7.fillna(0, inplace=True)"
   ]
  },
  {
   "cell_type": "code",
   "execution_count": 19,
   "metadata": {},
   "outputs": [],
   "source": [
    "X_train['desc_1'] = X_train['desc_1'].astype(bool)\n",
    "X_train['desc_2'] = X_train['desc_2'].astype(bool)\n",
    "X_train['desc_3'] = X_train['desc_3'].astype(bool)\n",
    "X_train['desc_4'] = X_train['desc_4'].astype(bool)\n",
    "X_train['desc_5'] = X_train['desc_5'].astype(bool)\n",
    "X_train['desc_6'] = X_train['desc_6'].astype(bool)\n",
    "X_train['desc_7'] = X_train['desc_7'].astype(bool)\n",
    "\n",
    "X_train['estado_estudio_Abandonado'] = X_train['estado_estudio_Abandonado'].astype(bool)\n",
    "X_train['estado_estudio_EnCurso'] = X_train['estado_estudio_EnCurso'].astype(bool)\n",
    "X_train['estado_estudio_Graduado'] = X_train['estado_estudio_Graduado'].astype(bool)\n",
    "X_train['nivel_laboral_Gerencia/AltaGerencia/Dirección'] = X_train['nivel_laboral_Gerencia/AltaGerencia/Dirección'].astype(bool)\n",
    "X_train['nivel_laboral_Jefe/Supervisor/Responsable'] = X_train['nivel_laboral_Jefe/Supervisor/Responsable'].astype(bool)\n",
    "X_train['nivel_laboral_Junior'] = X_train['nivel_laboral_Junior'].astype(bool)\n",
    "X_train['nivel_laboral_Otro'] = X_train['nivel_laboral_Otro'].astype(bool)\n",
    "X_train['nivel_laboral_Senior/Semi-Senior'] = X_train['nivel_laboral_Senior/Semi-Senior'].astype(bool)\n",
    "X_train['nombre_estudio_Doctorado'] = X_train['nombre_estudio_Doctorado'].astype(bool)\n",
    "X_train['nombre_estudio_Master'] = X_train['nombre_estudio_Master'].astype(bool)\n",
    "X_train['nombre_estudio_Otro'] = X_train['nombre_estudio_Otro'].astype(bool)\n",
    "X_train['nombre_estudio_Posgrado'] = X_train['nombre_estudio_Posgrado'].astype(bool)\n",
    "X_train['nombre_estudio_Secundario'] = X_train['nombre_estudio_Secundario'].astype(bool)\n",
    "X_train['nombre_estudio_Terciario/Tecnico'] = X_train['nombre_estudio_Terciario/Tecnico'].astype(bool)\n",
    "X_train['nombre_estudio_Universitario'] = X_train['nombre_estudio_Universitario'].astype(bool)\n",
    "X_train['sexo_FEM'] = X_train['sexo_FEM'].astype(bool)\n",
    "X_train['sexo_MASC'] = X_train['sexo_MASC'].astype(bool)\n",
    "X_train['sexo_NO_DECLARA'] = X_train['sexo_NO_DECLARA'].astype(bool)"
   ]
  },
  {
   "cell_type": "code",
   "execution_count": 7,
   "metadata": {},
   "outputs": [
    {
     "data": {
      "text/plain": [
       "Administración                                    bool\n",
       "AdministracióndePersonal                          bool\n",
       "Almacén/Depósito/Expedición                       bool\n",
       "AtenciónalCliente                                 bool\n",
       "CallCenter                                        bool\n",
       "Comercial                                         bool\n",
       "Contabilidad                                      bool\n",
       "CréditosyCobranzas                                bool\n",
       "Gastronomia                                       bool\n",
       "Legal                                             bool\n",
       "Logística                                         bool\n",
       "MantenimientoyLimpieza                            bool\n",
       "Marketing                                         bool\n",
       "Producción                                        bool\n",
       "Recepcionista                                     bool\n",
       "RecursosHumanos                                   bool\n",
       "Secretaria                                        bool\n",
       "Telemarketing                                     bool\n",
       "Tesorería                                         bool\n",
       "Ventas                                            bool\n",
       "cant_postulaciones_aviso                         int64\n",
       "cant_vistas_aviso                                int64\n",
       "desc_1                                            bool\n",
       "desc_2                                            bool\n",
       "desc_3                                            bool\n",
       "desc_4                                            bool\n",
       "desc_5                                            bool\n",
       "desc_6                                            bool\n",
       "desc_7                                            bool\n",
       "edad                                             int64\n",
       "estado_estudio_Abandonado                         bool\n",
       "estado_estudio_EnCurso                            bool\n",
       "estado_estudio_Graduado                           bool\n",
       "idaviso                                          int64\n",
       "nivel_laboral_Gerencia/AltaGerencia/Dirección     bool\n",
       "nivel_laboral_Jefe/Supervisor/Responsable         bool\n",
       "nivel_laboral_Junior                              bool\n",
       "nivel_laboral_Otro                                bool\n",
       "nivel_laboral_Senior/Semi-Senior                  bool\n",
       "nombre_estudio_Doctorado                          bool\n",
       "nombre_estudio_Master                             bool\n",
       "nombre_estudio_Otro                               bool\n",
       "nombre_estudio_Posgrado                           bool\n",
       "nombre_estudio_Secundario                         bool\n",
       "nombre_estudio_Terciario/Tecnico                  bool\n",
       "nombre_estudio_Universitario                      bool\n",
       "sexo_FEM                                          bool\n",
       "sexo_MASC                                         bool\n",
       "sexo_NO_DECLARA                                   bool\n",
       "tipo_full                                         bool\n",
       "tipo_otro                                         bool\n",
       "tipo_part                                         bool\n",
       "dtype: object"
      ]
     },
     "execution_count": 7,
     "metadata": {},
     "output_type": "execute_result"
    }
   ],
   "source": [
    "X_train.dtypes"
   ]
  },
  {
   "cell_type": "code",
   "execution_count": 8,
   "metadata": {},
   "outputs": [
    {
     "data": {
      "text/plain": [
       "Administración                                    bool\n",
       "AdministracióndePersonal                          bool\n",
       "Almacén/Depósito/Expedición                       bool\n",
       "AtenciónalCliente                                 bool\n",
       "CallCenter                                        bool\n",
       "Comercial                                         bool\n",
       "Contabilidad                                      bool\n",
       "CréditosyCobranzas                                bool\n",
       "Gastronomia                                       bool\n",
       "Legal                                             bool\n",
       "Logística                                         bool\n",
       "MantenimientoyLimpieza                            bool\n",
       "Marketing                                         bool\n",
       "Producción                                        bool\n",
       "Recepcionista                                     bool\n",
       "RecursosHumanos                                   bool\n",
       "Secretaria                                        bool\n",
       "Telemarketing                                     bool\n",
       "Tesorería                                         bool\n",
       "Ventas                                            bool\n",
       "cant_postulaciones_aviso                         int64\n",
       "cant_vistas_aviso                                int64\n",
       "desc_1                                            bool\n",
       "desc_2                                            bool\n",
       "desc_3                                            bool\n",
       "desc_4                                            bool\n",
       "desc_5                                            bool\n",
       "desc_6                                            bool\n",
       "desc_7                                            bool\n",
       "edad                                             int64\n",
       "estado_estudio_Abandonado                         bool\n",
       "estado_estudio_EnCurso                            bool\n",
       "estado_estudio_Graduado                           bool\n",
       "idaviso                                          int64\n",
       "nivel_laboral_Gerencia/AltaGerencia/Dirección     bool\n",
       "nivel_laboral_Jefe/Supervisor/Responsable         bool\n",
       "nivel_laboral_Junior                              bool\n",
       "nivel_laboral_Otro                                bool\n",
       "nivel_laboral_Senior/Semi-Senior                  bool\n",
       "nombre_estudio_Doctorado                          bool\n",
       "nombre_estudio_Master                             bool\n",
       "nombre_estudio_Otro                               bool\n",
       "nombre_estudio_Posgrado                           bool\n",
       "nombre_estudio_Secundario                         bool\n",
       "nombre_estudio_Terciario/Tecnico                  bool\n",
       "nombre_estudio_Universitario                      bool\n",
       "sexo_FEM                                          bool\n",
       "sexo_MASC                                         bool\n",
       "sexo_NO_DECLARA                                   bool\n",
       "tipo_full                                         bool\n",
       "tipo_otro                                         bool\n",
       "tipo_part                                         bool\n",
       "dtype: object"
      ]
     },
     "execution_count": 8,
     "metadata": {},
     "output_type": "execute_result"
    }
   ],
   "source": [
    "X_test.dtypes"
   ]
  },
  {
   "cell_type": "code",
   "execution_count": 22,
   "metadata": {},
   "outputs": [],
   "source": [
    "X_test.desc_1.fillna(0, inplace=True)\n",
    "X_test.desc_2.fillna(0, inplace=True)\n",
    "X_test.desc_3.fillna(0, inplace=True)\n",
    "X_test.desc_4.fillna(0, inplace=True)\n",
    "X_test.desc_5.fillna(0, inplace=True)\n",
    "X_test.desc_6.fillna(0, inplace=True)\n",
    "X_test.desc_7.fillna(0, inplace=True)"
   ]
  },
  {
   "cell_type": "code",
   "execution_count": 23,
   "metadata": {},
   "outputs": [],
   "source": [
    "X_test['desc_1'] = X_test['desc_1'].astype(bool)\n",
    "X_test['desc_2'] = X_test['desc_2'].astype(bool)\n",
    "X_test['desc_3'] = X_test['desc_3'].astype(bool)\n",
    "X_test['desc_4'] = X_test['desc_4'].astype(bool)\n",
    "X_test['desc_5'] = X_test['desc_5'].astype(bool)\n",
    "X_test['desc_6'] = X_test['desc_6'].astype(bool)\n",
    "X_test['desc_7'] = X_test['desc_7'].astype(bool)\n",
    "\n",
    "X_test['estado_estudio_Abandonado'] = X_test['estado_estudio_Abandonado'].astype(bool)\n",
    "X_test['estado_estudio_EnCurso'] = X_test['estado_estudio_EnCurso'].astype(bool)\n",
    "X_test['estado_estudio_Graduado'] = X_test['estado_estudio_Graduado'].astype(bool)\n",
    "X_test['nivel_laboral_Gerencia/AltaGerencia/Dirección'] = X_test['nivel_laboral_Gerencia/AltaGerencia/Dirección'].astype(bool)\n",
    "X_test['nivel_laboral_Jefe/Supervisor/Responsable'] = X_test['nivel_laboral_Jefe/Supervisor/Responsable'].astype(bool)\n",
    "X_test['nivel_laboral_Junior'] = X_test['nivel_laboral_Junior'].astype(bool)\n",
    "X_test['nivel_laboral_Otro'] = X_test['nivel_laboral_Otro'].astype(bool)\n",
    "X_test['nivel_laboral_Senior/Semi-Senior'] = X_test['nivel_laboral_Senior/Semi-Senior'].astype(bool)\n",
    "X_test['nombre_estudio_Doctorado'] = X_test['nombre_estudio_Doctorado'].astype(bool)\n",
    "X_test['nombre_estudio_Master'] = X_test['nombre_estudio_Master'].astype(bool)\n",
    "X_test['nombre_estudio_Otro'] = X_test['nombre_estudio_Otro'].astype(bool)\n",
    "X_test['nombre_estudio_Posgrado'] = X_test['nombre_estudio_Posgrado'].astype(bool)\n",
    "X_test['nombre_estudio_Secundario'] = X_test['nombre_estudio_Secundario'].astype(bool)\n",
    "X_test['nombre_estudio_Terciario/Tecnico'] = X_test['nombre_estudio_Terciario/Tecnico'].astype(bool)\n",
    "X_test['nombre_estudio_Universitario'] = X_test['nombre_estudio_Universitario'].astype(bool)\n",
    "X_test['sexo_FEM'] = X_test['sexo_FEM'].astype(bool)\n",
    "X_test['sexo_MASC'] = X_test['sexo_MASC'].astype(bool)\n",
    "X_test['sexo_NO_DECLARA'] = X_test['sexo_NO_DECLARA'].astype(bool)"
   ]
  },
  {
   "cell_type": "code",
   "execution_count": 24,
   "metadata": {},
   "outputs": [
    {
     "data": {
      "text/plain": [
       "Administración                                    bool\n",
       "AdministracióndePersonal                          bool\n",
       "Almacén/Depósito/Expedición                       bool\n",
       "AtenciónalCliente                                 bool\n",
       "CallCenter                                        bool\n",
       "Comercial                                         bool\n",
       "Contabilidad                                      bool\n",
       "CréditosyCobranzas                                bool\n",
       "Gastronomia                                       bool\n",
       "Legal                                             bool\n",
       "Logística                                         bool\n",
       "MantenimientoyLimpieza                            bool\n",
       "Marketing                                         bool\n",
       "Producción                                        bool\n",
       "Recepcionista                                     bool\n",
       "RecursosHumanos                                   bool\n",
       "Secretaria                                        bool\n",
       "Telemarketing                                     bool\n",
       "Tesorería                                         bool\n",
       "Ventas                                            bool\n",
       "cant_postulaciones_aviso                         int64\n",
       "cant_vistas_aviso                                int64\n",
       "desc_1                                            bool\n",
       "desc_2                                            bool\n",
       "desc_3                                            bool\n",
       "desc_4                                            bool\n",
       "desc_5                                            bool\n",
       "desc_6                                            bool\n",
       "desc_7                                            bool\n",
       "edad                                             int64\n",
       "estado_estudio_Abandonado                         bool\n",
       "estado_estudio_EnCurso                            bool\n",
       "estado_estudio_Graduado                           bool\n",
       "idaviso                                          int64\n",
       "nivel_laboral_Gerencia/AltaGerencia/Dirección     bool\n",
       "nivel_laboral_Jefe/Supervisor/Responsable         bool\n",
       "nivel_laboral_Junior                              bool\n",
       "nivel_laboral_Otro                                bool\n",
       "nivel_laboral_Senior/Semi-Senior                  bool\n",
       "nombre_estudio_Doctorado                          bool\n",
       "nombre_estudio_Master                             bool\n",
       "nombre_estudio_Otro                               bool\n",
       "nombre_estudio_Posgrado                           bool\n",
       "nombre_estudio_Secundario                         bool\n",
       "nombre_estudio_Terciario/Tecnico                  bool\n",
       "nombre_estudio_Universitario                      bool\n",
       "sexo_FEM                                          bool\n",
       "sexo_MASC                                         bool\n",
       "sexo_NO_DECLARA                                   bool\n",
       "tipo_full                                         bool\n",
       "tipo_otro                                         bool\n",
       "tipo_part                                         bool\n",
       "dtype: object"
      ]
     },
     "execution_count": 24,
     "metadata": {},
     "output_type": "execute_result"
    }
   ],
   "source": [
    "X_test.dtypes"
   ]
  },
  {
   "cell_type": "code",
   "execution_count": 25,
   "metadata": {},
   "outputs": [],
   "source": [
    "X_train.head(10000000).to_csv('../data/X_train_10000000.csv', index=False, sep=',', encoding='utf-8')\n",
    "X_test.to_csv('../data/X_test.csv', index=False, sep=',', encoding='utf-8')"
   ]
  },
  {
   "cell_type": "code",
   "execution_count": 33,
   "metadata": {},
   "outputs": [
    {
     "name": "stdout",
     "output_type": "stream",
     "text": [
      "10000000\n",
      "10000000\n"
     ]
    }
   ],
   "source": [
    "print(len(X_train))\n",
    "print(len(target))"
   ]
  },
  {
   "cell_type": "markdown",
   "metadata": {},
   "source": [
    "# Cross-validation"
   ]
  },
  {
   "cell_type": "code",
   "execution_count": 21,
   "metadata": {},
   "outputs": [],
   "source": [
    "from sklearn.model_selection import cross_val_score, KFold\n",
    "# seed para generar los mismos fold en cada cv\n",
    "seed = 7\n",
    "kfold = KFold(3,random_state=seed) # 3 sino tarda demasiado\n",
    "scoring = 'roc_auc'\n",
    "def cv_score(model,X,y,cv):\n",
    "    #return cross_val_score(model,X,y,n_jobs=-1,cv=cv,scoring=scoring,verbose=3).mean()\n",
    "    return cross_val_score(model,X,y,n_jobs=1,cv=cv,scoring=scoring,verbose=3).mean()"
   ]
  },
  {
   "cell_type": "markdown",
   "metadata": {},
   "source": [
    "**Standardization & normalization**"
   ]
  },
  {
   "cell_type": "code",
   "execution_count": 25,
   "metadata": {
    "collapsed": true
   },
   "outputs": [
    {
     "name": "stderr",
     "output_type": "stream",
     "text": [
      "/home/tbotalla/anaconda3/lib/python3.6/site-packages/sklearn/preprocessing/data.py:164: UserWarning: Numerical issues were encountered when centering the data and might not be solved. Dataset may contain too large values. You may need to prescale your features.\n",
      "  warnings.warn(\"Numerical issues were encountered \"\n"
     ]
    }
   ],
   "source": [
    "from sklearn.preprocessing import scale, normalize\n",
    "X_train_std = scale(X_train)\n",
    "X_test_std = scale(X_test)\n",
    "X_train_nrm = normalize(X_train)\n",
    "X_test_nrm = normalize(X_test)"
   ]
  },
  {
   "cell_type": "markdown",
   "metadata": {},
   "source": [
    "### Rankeo de algoritmos"
   ]
  },
  {
   "cell_type": "code",
   "execution_count": 22,
   "metadata": {
    "scrolled": true
   },
   "outputs": [
    {
     "name": "stdout",
     "output_type": "stream",
     "text": [
      "################################ DecTree ################################\n",
      "[CV]  ................................................................\n",
      "[CV] ....................... , score=0.8005383600172492, total= 4.3min\n"
     ]
    },
    {
     "name": "stderr",
     "output_type": "stream",
     "text": [
      "[Parallel(n_jobs=1)]: Done   1 out of   1 | elapsed:  4.3min remaining:    0.0s\n"
     ]
    },
    {
     "name": "stdout",
     "output_type": "stream",
     "text": [
      "[CV]  ................................................................\n",
      "[CV] ....................... , score=0.8003338102574957, total= 4.0min\n"
     ]
    },
    {
     "name": "stderr",
     "output_type": "stream",
     "text": [
      "[Parallel(n_jobs=1)]: Done   2 out of   2 | elapsed:  8.4min remaining:    0.0s\n"
     ]
    },
    {
     "name": "stdout",
     "output_type": "stream",
     "text": [
      "[CV]  ................................................................\n",
      "[CV] ....................... , score=0.8001724308348739, total= 3.9min\n",
      "################################ LogReg ################################\n"
     ]
    },
    {
     "name": "stderr",
     "output_type": "stream",
     "text": [
      "[Parallel(n_jobs=1)]: Done   3 out of   3 | elapsed: 12.3min finished\n"
     ]
    },
    {
     "name": "stdout",
     "output_type": "stream",
     "text": [
      "[CV]  ................................................................\n",
      "[CV] ....................... , score=0.7805649818610956, total= 1.8min\n"
     ]
    },
    {
     "name": "stderr",
     "output_type": "stream",
     "text": [
      "[Parallel(n_jobs=1)]: Done   1 out of   1 | elapsed:  1.8min remaining:    0.0s\n"
     ]
    },
    {
     "name": "stdout",
     "output_type": "stream",
     "text": [
      "[CV]  ................................................................\n",
      "[CV] ....................... , score=0.7804298533833581, total= 2.2min\n"
     ]
    },
    {
     "name": "stderr",
     "output_type": "stream",
     "text": [
      "[Parallel(n_jobs=1)]: Done   2 out of   2 | elapsed:  4.1min remaining:    0.0s\n"
     ]
    },
    {
     "name": "stdout",
     "output_type": "stream",
     "text": [
      "[CV]  ................................................................\n",
      "[CV] ....................... , score=0.7806901355713163, total= 3.2min\n",
      "################################ KNN ################################\n"
     ]
    },
    {
     "name": "stderr",
     "output_type": "stream",
     "text": [
      "[Parallel(n_jobs=1)]: Done   3 out of   3 | elapsed:  7.3min finished\n"
     ]
    },
    {
     "name": "stdout",
     "output_type": "stream",
     "text": [
      "[CV]  ................................................................\n",
      "[CV] ....................... , score=0.8763881808931615, total=13.1min\n"
     ]
    },
    {
     "name": "stderr",
     "output_type": "stream",
     "text": [
      "[Parallel(n_jobs=1)]: Done   1 out of   1 | elapsed: 13.1min remaining:    0.0s\n"
     ]
    },
    {
     "name": "stdout",
     "output_type": "stream",
     "text": [
      "[CV]  ................................................................\n",
      "[CV] ....................... , score=0.8765109862477399, total=13.5min\n"
     ]
    },
    {
     "name": "stderr",
     "output_type": "stream",
     "text": [
      "[Parallel(n_jobs=1)]: Done   2 out of   2 | elapsed: 26.7min remaining:    0.0s\n"
     ]
    },
    {
     "name": "stdout",
     "output_type": "stream",
     "text": [
      "[CV]  ................................................................\n",
      "[CV] ....................... , score=0.8767672357748846, total=13.5min\n",
      "################################ LDA ################################\n"
     ]
    },
    {
     "name": "stderr",
     "output_type": "stream",
     "text": [
      "[Parallel(n_jobs=1)]: Done   3 out of   3 | elapsed: 40.2min finished\n"
     ]
    },
    {
     "name": "stdout",
     "output_type": "stream",
     "text": [
      "[CV]  ................................................................\n"
     ]
    },
    {
     "ename": "MemoryError",
     "evalue": "",
     "output_type": "error",
     "traceback": [
      "\u001b[0;31m------------------------------------------------------------------------\u001b[0m",
      "\u001b[0;31mMemoryError\u001b[0m                            Traceback (most recent call last)",
      "\u001b[0;32m<timed exec>\u001b[0m in \u001b[0;36m<module>\u001b[0;34m()\u001b[0m\n",
      "\u001b[0;32m<ipython-input-21-93f72018f264>\u001b[0m in \u001b[0;36mcv_score\u001b[0;34m(model, X, y, cv)\u001b[0m\n\u001b[1;32m      6\u001b[0m \u001b[0;32mdef\u001b[0m \u001b[0mcv_score\u001b[0m\u001b[0;34m(\u001b[0m\u001b[0mmodel\u001b[0m\u001b[0;34m,\u001b[0m\u001b[0mX\u001b[0m\u001b[0;34m,\u001b[0m\u001b[0my\u001b[0m\u001b[0;34m,\u001b[0m\u001b[0mcv\u001b[0m\u001b[0;34m)\u001b[0m\u001b[0;34m:\u001b[0m\u001b[0;34m\u001b[0m\u001b[0m\n\u001b[1;32m      7\u001b[0m     \u001b[0;31m#return cross_val_score(model,X,y,n_jobs=-1,cv=cv,scoring=scoring,verbose=3).mean()\u001b[0m\u001b[0;34m\u001b[0m\u001b[0;34m\u001b[0m\u001b[0m\n\u001b[0;32m----> 8\u001b[0;31m     \u001b[0;32mreturn\u001b[0m \u001b[0mcross_val_score\u001b[0m\u001b[0;34m(\u001b[0m\u001b[0mmodel\u001b[0m\u001b[0;34m,\u001b[0m\u001b[0mX\u001b[0m\u001b[0;34m,\u001b[0m\u001b[0my\u001b[0m\u001b[0;34m,\u001b[0m\u001b[0mn_jobs\u001b[0m\u001b[0;34m=\u001b[0m\u001b[0;36m1\u001b[0m\u001b[0;34m,\u001b[0m\u001b[0mcv\u001b[0m\u001b[0;34m=\u001b[0m\u001b[0mcv\u001b[0m\u001b[0;34m,\u001b[0m\u001b[0mscoring\u001b[0m\u001b[0;34m=\u001b[0m\u001b[0mscoring\u001b[0m\u001b[0;34m,\u001b[0m\u001b[0mverbose\u001b[0m\u001b[0;34m=\u001b[0m\u001b[0;36m3\u001b[0m\u001b[0;34m)\u001b[0m\u001b[0;34m.\u001b[0m\u001b[0mmean\u001b[0m\u001b[0;34m(\u001b[0m\u001b[0;34m)\u001b[0m\u001b[0;34m\u001b[0m\u001b[0m\n\u001b[0m",
      "\u001b[0;32m~/anaconda3/lib/python3.6/site-packages/sklearn/model_selection/_validation.py\u001b[0m in \u001b[0;36mcross_val_score\u001b[0;34m(estimator, X, y, groups, scoring, cv, n_jobs, verbose, fit_params, pre_dispatch)\u001b[0m\n\u001b[1;32m    340\u001b[0m                                 \u001b[0mn_jobs\u001b[0m\u001b[0;34m=\u001b[0m\u001b[0mn_jobs\u001b[0m\u001b[0;34m,\u001b[0m \u001b[0mverbose\u001b[0m\u001b[0;34m=\u001b[0m\u001b[0mverbose\u001b[0m\u001b[0;34m,\u001b[0m\u001b[0;34m\u001b[0m\u001b[0m\n\u001b[1;32m    341\u001b[0m                                 \u001b[0mfit_params\u001b[0m\u001b[0;34m=\u001b[0m\u001b[0mfit_params\u001b[0m\u001b[0;34m,\u001b[0m\u001b[0;34m\u001b[0m\u001b[0m\n\u001b[0;32m--> 342\u001b[0;31m                                 pre_dispatch=pre_dispatch)\n\u001b[0m\u001b[1;32m    343\u001b[0m     \u001b[0;32mreturn\u001b[0m \u001b[0mcv_results\u001b[0m\u001b[0;34m[\u001b[0m\u001b[0;34m'test_score'\u001b[0m\u001b[0;34m]\u001b[0m\u001b[0;34m\u001b[0m\u001b[0m\n\u001b[1;32m    344\u001b[0m \u001b[0;34m\u001b[0m\u001b[0m\n",
      "\u001b[0;32m~/anaconda3/lib/python3.6/site-packages/sklearn/model_selection/_validation.py\u001b[0m in \u001b[0;36mcross_validate\u001b[0;34m(estimator, X, y, groups, scoring, cv, n_jobs, verbose, fit_params, pre_dispatch, return_train_score)\u001b[0m\n\u001b[1;32m    204\u001b[0m             \u001b[0mfit_params\u001b[0m\u001b[0;34m,\u001b[0m \u001b[0mreturn_train_score\u001b[0m\u001b[0;34m=\u001b[0m\u001b[0mreturn_train_score\u001b[0m\u001b[0;34m,\u001b[0m\u001b[0;34m\u001b[0m\u001b[0m\n\u001b[1;32m    205\u001b[0m             return_times=True)\n\u001b[0;32m--> 206\u001b[0;31m         for train, test in cv.split(X, y, groups))\n\u001b[0m\u001b[1;32m    207\u001b[0m \u001b[0;34m\u001b[0m\u001b[0m\n\u001b[1;32m    208\u001b[0m     \u001b[0;32mif\u001b[0m \u001b[0mreturn_train_score\u001b[0m\u001b[0;34m:\u001b[0m\u001b[0;34m\u001b[0m\u001b[0m\n",
      "\u001b[0;32m~/anaconda3/lib/python3.6/site-packages/sklearn/externals/joblib/parallel.py\u001b[0m in \u001b[0;36m__call__\u001b[0;34m(self, iterable)\u001b[0m\n\u001b[1;32m    777\u001b[0m             \u001b[0;31m# was dispatched. In particular this covers the edge\u001b[0m\u001b[0;34m\u001b[0m\u001b[0;34m\u001b[0m\u001b[0m\n\u001b[1;32m    778\u001b[0m             \u001b[0;31m# case of Parallel used with an exhausted iterator.\u001b[0m\u001b[0;34m\u001b[0m\u001b[0;34m\u001b[0m\u001b[0m\n\u001b[0;32m--> 779\u001b[0;31m             \u001b[0;32mwhile\u001b[0m \u001b[0mself\u001b[0m\u001b[0;34m.\u001b[0m\u001b[0mdispatch_one_batch\u001b[0m\u001b[0;34m(\u001b[0m\u001b[0miterator\u001b[0m\u001b[0;34m)\u001b[0m\u001b[0;34m:\u001b[0m\u001b[0;34m\u001b[0m\u001b[0m\n\u001b[0m\u001b[1;32m    780\u001b[0m                 \u001b[0mself\u001b[0m\u001b[0;34m.\u001b[0m\u001b[0m_iterating\u001b[0m \u001b[0;34m=\u001b[0m \u001b[0;32mTrue\u001b[0m\u001b[0;34m\u001b[0m\u001b[0m\n\u001b[1;32m    781\u001b[0m             \u001b[0;32melse\u001b[0m\u001b[0;34m:\u001b[0m\u001b[0;34m\u001b[0m\u001b[0m\n",
      "\u001b[0;32m~/anaconda3/lib/python3.6/site-packages/sklearn/externals/joblib/parallel.py\u001b[0m in \u001b[0;36mdispatch_one_batch\u001b[0;34m(self, iterator)\u001b[0m\n\u001b[1;32m    623\u001b[0m                 \u001b[0;32mreturn\u001b[0m \u001b[0;32mFalse\u001b[0m\u001b[0;34m\u001b[0m\u001b[0m\n\u001b[1;32m    624\u001b[0m             \u001b[0;32melse\u001b[0m\u001b[0;34m:\u001b[0m\u001b[0;34m\u001b[0m\u001b[0m\n\u001b[0;32m--> 625\u001b[0;31m                 \u001b[0mself\u001b[0m\u001b[0;34m.\u001b[0m\u001b[0m_dispatch\u001b[0m\u001b[0;34m(\u001b[0m\u001b[0mtasks\u001b[0m\u001b[0;34m)\u001b[0m\u001b[0;34m\u001b[0m\u001b[0m\n\u001b[0m\u001b[1;32m    626\u001b[0m                 \u001b[0;32mreturn\u001b[0m \u001b[0;32mTrue\u001b[0m\u001b[0;34m\u001b[0m\u001b[0m\n\u001b[1;32m    627\u001b[0m \u001b[0;34m\u001b[0m\u001b[0m\n",
      "\u001b[0;32m~/anaconda3/lib/python3.6/site-packages/sklearn/externals/joblib/parallel.py\u001b[0m in \u001b[0;36m_dispatch\u001b[0;34m(self, batch)\u001b[0m\n\u001b[1;32m    586\u001b[0m         \u001b[0mdispatch_timestamp\u001b[0m \u001b[0;34m=\u001b[0m \u001b[0mtime\u001b[0m\u001b[0;34m.\u001b[0m\u001b[0mtime\u001b[0m\u001b[0;34m(\u001b[0m\u001b[0;34m)\u001b[0m\u001b[0;34m\u001b[0m\u001b[0m\n\u001b[1;32m    587\u001b[0m         \u001b[0mcb\u001b[0m \u001b[0;34m=\u001b[0m \u001b[0mBatchCompletionCallBack\u001b[0m\u001b[0;34m(\u001b[0m\u001b[0mdispatch_timestamp\u001b[0m\u001b[0;34m,\u001b[0m \u001b[0mlen\u001b[0m\u001b[0;34m(\u001b[0m\u001b[0mbatch\u001b[0m\u001b[0;34m)\u001b[0m\u001b[0;34m,\u001b[0m \u001b[0mself\u001b[0m\u001b[0;34m)\u001b[0m\u001b[0;34m\u001b[0m\u001b[0m\n\u001b[0;32m--> 588\u001b[0;31m         \u001b[0mjob\u001b[0m \u001b[0;34m=\u001b[0m \u001b[0mself\u001b[0m\u001b[0;34m.\u001b[0m\u001b[0m_backend\u001b[0m\u001b[0;34m.\u001b[0m\u001b[0mapply_async\u001b[0m\u001b[0;34m(\u001b[0m\u001b[0mbatch\u001b[0m\u001b[0;34m,\u001b[0m \u001b[0mcallback\u001b[0m\u001b[0;34m=\u001b[0m\u001b[0mcb\u001b[0m\u001b[0;34m)\u001b[0m\u001b[0;34m\u001b[0m\u001b[0m\n\u001b[0m\u001b[1;32m    589\u001b[0m         \u001b[0mself\u001b[0m\u001b[0;34m.\u001b[0m\u001b[0m_jobs\u001b[0m\u001b[0;34m.\u001b[0m\u001b[0mappend\u001b[0m\u001b[0;34m(\u001b[0m\u001b[0mjob\u001b[0m\u001b[0;34m)\u001b[0m\u001b[0;34m\u001b[0m\u001b[0m\n\u001b[1;32m    590\u001b[0m \u001b[0;34m\u001b[0m\u001b[0m\n",
      "\u001b[0;32m~/anaconda3/lib/python3.6/site-packages/sklearn/externals/joblib/_parallel_backends.py\u001b[0m in \u001b[0;36mapply_async\u001b[0;34m(self, func, callback)\u001b[0m\n\u001b[1;32m    109\u001b[0m     \u001b[0;32mdef\u001b[0m \u001b[0mapply_async\u001b[0m\u001b[0;34m(\u001b[0m\u001b[0mself\u001b[0m\u001b[0;34m,\u001b[0m \u001b[0mfunc\u001b[0m\u001b[0;34m,\u001b[0m \u001b[0mcallback\u001b[0m\u001b[0;34m=\u001b[0m\u001b[0;32mNone\u001b[0m\u001b[0;34m)\u001b[0m\u001b[0;34m:\u001b[0m\u001b[0;34m\u001b[0m\u001b[0m\n\u001b[1;32m    110\u001b[0m         \u001b[0;34m\"\"\"Schedule a func to be run\"\"\"\u001b[0m\u001b[0;34m\u001b[0m\u001b[0m\n\u001b[0;32m--> 111\u001b[0;31m         \u001b[0mresult\u001b[0m \u001b[0;34m=\u001b[0m \u001b[0mImmediateResult\u001b[0m\u001b[0;34m(\u001b[0m\u001b[0mfunc\u001b[0m\u001b[0;34m)\u001b[0m\u001b[0;34m\u001b[0m\u001b[0m\n\u001b[0m\u001b[1;32m    112\u001b[0m         \u001b[0;32mif\u001b[0m \u001b[0mcallback\u001b[0m\u001b[0;34m:\u001b[0m\u001b[0;34m\u001b[0m\u001b[0m\n\u001b[1;32m    113\u001b[0m             \u001b[0mcallback\u001b[0m\u001b[0;34m(\u001b[0m\u001b[0mresult\u001b[0m\u001b[0;34m)\u001b[0m\u001b[0;34m\u001b[0m\u001b[0m\n",
      "\u001b[0;32m~/anaconda3/lib/python3.6/site-packages/sklearn/externals/joblib/_parallel_backends.py\u001b[0m in \u001b[0;36m__init__\u001b[0;34m(self, batch)\u001b[0m\n\u001b[1;32m    330\u001b[0m         \u001b[0;31m# Don't delay the application, to avoid keeping the input\u001b[0m\u001b[0;34m\u001b[0m\u001b[0;34m\u001b[0m\u001b[0m\n\u001b[1;32m    331\u001b[0m         \u001b[0;31m# arguments in memory\u001b[0m\u001b[0;34m\u001b[0m\u001b[0;34m\u001b[0m\u001b[0m\n\u001b[0;32m--> 332\u001b[0;31m         \u001b[0mself\u001b[0m\u001b[0;34m.\u001b[0m\u001b[0mresults\u001b[0m \u001b[0;34m=\u001b[0m \u001b[0mbatch\u001b[0m\u001b[0;34m(\u001b[0m\u001b[0;34m)\u001b[0m\u001b[0;34m\u001b[0m\u001b[0m\n\u001b[0m\u001b[1;32m    333\u001b[0m \u001b[0;34m\u001b[0m\u001b[0m\n\u001b[1;32m    334\u001b[0m     \u001b[0;32mdef\u001b[0m \u001b[0mget\u001b[0m\u001b[0;34m(\u001b[0m\u001b[0mself\u001b[0m\u001b[0;34m)\u001b[0m\u001b[0;34m:\u001b[0m\u001b[0;34m\u001b[0m\u001b[0m\n",
      "\u001b[0;32m~/anaconda3/lib/python3.6/site-packages/sklearn/externals/joblib/parallel.py\u001b[0m in \u001b[0;36m__call__\u001b[0;34m(self)\u001b[0m\n\u001b[1;32m    129\u001b[0m \u001b[0;34m\u001b[0m\u001b[0m\n\u001b[1;32m    130\u001b[0m     \u001b[0;32mdef\u001b[0m \u001b[0m__call__\u001b[0m\u001b[0;34m(\u001b[0m\u001b[0mself\u001b[0m\u001b[0;34m)\u001b[0m\u001b[0;34m:\u001b[0m\u001b[0;34m\u001b[0m\u001b[0m\n\u001b[0;32m--> 131\u001b[0;31m         \u001b[0;32mreturn\u001b[0m \u001b[0;34m[\u001b[0m\u001b[0mfunc\u001b[0m\u001b[0;34m(\u001b[0m\u001b[0;34m*\u001b[0m\u001b[0margs\u001b[0m\u001b[0;34m,\u001b[0m \u001b[0;34m**\u001b[0m\u001b[0mkwargs\u001b[0m\u001b[0;34m)\u001b[0m \u001b[0;32mfor\u001b[0m \u001b[0mfunc\u001b[0m\u001b[0;34m,\u001b[0m \u001b[0margs\u001b[0m\u001b[0;34m,\u001b[0m \u001b[0mkwargs\u001b[0m \u001b[0;32min\u001b[0m \u001b[0mself\u001b[0m\u001b[0;34m.\u001b[0m\u001b[0mitems\u001b[0m\u001b[0;34m]\u001b[0m\u001b[0;34m\u001b[0m\u001b[0m\n\u001b[0m\u001b[1;32m    132\u001b[0m \u001b[0;34m\u001b[0m\u001b[0m\n\u001b[1;32m    133\u001b[0m     \u001b[0;32mdef\u001b[0m \u001b[0m__len__\u001b[0m\u001b[0;34m(\u001b[0m\u001b[0mself\u001b[0m\u001b[0;34m)\u001b[0m\u001b[0;34m:\u001b[0m\u001b[0;34m\u001b[0m\u001b[0m\n",
      "\u001b[0;32m~/anaconda3/lib/python3.6/site-packages/sklearn/externals/joblib/parallel.py\u001b[0m in \u001b[0;36m<listcomp>\u001b[0;34m(.0)\u001b[0m\n\u001b[1;32m    129\u001b[0m \u001b[0;34m\u001b[0m\u001b[0m\n\u001b[1;32m    130\u001b[0m     \u001b[0;32mdef\u001b[0m \u001b[0m__call__\u001b[0m\u001b[0;34m(\u001b[0m\u001b[0mself\u001b[0m\u001b[0;34m)\u001b[0m\u001b[0;34m:\u001b[0m\u001b[0;34m\u001b[0m\u001b[0m\n\u001b[0;32m--> 131\u001b[0;31m         \u001b[0;32mreturn\u001b[0m \u001b[0;34m[\u001b[0m\u001b[0mfunc\u001b[0m\u001b[0;34m(\u001b[0m\u001b[0;34m*\u001b[0m\u001b[0margs\u001b[0m\u001b[0;34m,\u001b[0m \u001b[0;34m**\u001b[0m\u001b[0mkwargs\u001b[0m\u001b[0;34m)\u001b[0m \u001b[0;32mfor\u001b[0m \u001b[0mfunc\u001b[0m\u001b[0;34m,\u001b[0m \u001b[0margs\u001b[0m\u001b[0;34m,\u001b[0m \u001b[0mkwargs\u001b[0m \u001b[0;32min\u001b[0m \u001b[0mself\u001b[0m\u001b[0;34m.\u001b[0m\u001b[0mitems\u001b[0m\u001b[0;34m]\u001b[0m\u001b[0;34m\u001b[0m\u001b[0m\n\u001b[0m\u001b[1;32m    132\u001b[0m \u001b[0;34m\u001b[0m\u001b[0m\n\u001b[1;32m    133\u001b[0m     \u001b[0;32mdef\u001b[0m \u001b[0m__len__\u001b[0m\u001b[0;34m(\u001b[0m\u001b[0mself\u001b[0m\u001b[0;34m)\u001b[0m\u001b[0;34m:\u001b[0m\u001b[0;34m\u001b[0m\u001b[0m\n",
      "\u001b[0;32m~/anaconda3/lib/python3.6/site-packages/sklearn/model_selection/_validation.py\u001b[0m in \u001b[0;36m_fit_and_score\u001b[0;34m(estimator, X, y, scorer, train, test, verbose, parameters, fit_params, return_train_score, return_parameters, return_n_test_samples, return_times, error_score)\u001b[0m\n\u001b[1;32m    456\u001b[0m             \u001b[0mestimator\u001b[0m\u001b[0;34m.\u001b[0m\u001b[0mfit\u001b[0m\u001b[0;34m(\u001b[0m\u001b[0mX_train\u001b[0m\u001b[0;34m,\u001b[0m \u001b[0;34m**\u001b[0m\u001b[0mfit_params\u001b[0m\u001b[0;34m)\u001b[0m\u001b[0;34m\u001b[0m\u001b[0m\n\u001b[1;32m    457\u001b[0m         \u001b[0;32melse\u001b[0m\u001b[0;34m:\u001b[0m\u001b[0;34m\u001b[0m\u001b[0m\n\u001b[0;32m--> 458\u001b[0;31m             \u001b[0mestimator\u001b[0m\u001b[0;34m.\u001b[0m\u001b[0mfit\u001b[0m\u001b[0;34m(\u001b[0m\u001b[0mX_train\u001b[0m\u001b[0;34m,\u001b[0m \u001b[0my_train\u001b[0m\u001b[0;34m,\u001b[0m \u001b[0;34m**\u001b[0m\u001b[0mfit_params\u001b[0m\u001b[0;34m)\u001b[0m\u001b[0;34m\u001b[0m\u001b[0m\n\u001b[0m\u001b[1;32m    459\u001b[0m \u001b[0;34m\u001b[0m\u001b[0m\n\u001b[1;32m    460\u001b[0m     \u001b[0;32mexcept\u001b[0m \u001b[0mException\u001b[0m \u001b[0;32mas\u001b[0m \u001b[0me\u001b[0m\u001b[0;34m:\u001b[0m\u001b[0;34m\u001b[0m\u001b[0m\n",
      "\u001b[0;32m~/anaconda3/lib/python3.6/site-packages/sklearn/discriminant_analysis.py\u001b[0m in \u001b[0;36mfit\u001b[0;34m(self, X, y)\u001b[0m\n\u001b[1;32m    453\u001b[0m             \u001b[0;32mif\u001b[0m \u001b[0mself\u001b[0m\u001b[0;34m.\u001b[0m\u001b[0mshrinkage\u001b[0m \u001b[0;32mis\u001b[0m \u001b[0;32mnot\u001b[0m \u001b[0;32mNone\u001b[0m\u001b[0;34m:\u001b[0m\u001b[0;34m\u001b[0m\u001b[0m\n\u001b[1;32m    454\u001b[0m                 \u001b[0;32mraise\u001b[0m \u001b[0mNotImplementedError\u001b[0m\u001b[0;34m(\u001b[0m\u001b[0;34m'shrinkage not supported'\u001b[0m\u001b[0;34m)\u001b[0m\u001b[0;34m\u001b[0m\u001b[0m\n\u001b[0;32m--> 455\u001b[0;31m             \u001b[0mself\u001b[0m\u001b[0;34m.\u001b[0m\u001b[0m_solve_svd\u001b[0m\u001b[0;34m(\u001b[0m\u001b[0mX\u001b[0m\u001b[0;34m,\u001b[0m \u001b[0my\u001b[0m\u001b[0;34m)\u001b[0m\u001b[0;34m\u001b[0m\u001b[0m\n\u001b[0m\u001b[1;32m    456\u001b[0m         \u001b[0;32melif\u001b[0m \u001b[0mself\u001b[0m\u001b[0;34m.\u001b[0m\u001b[0msolver\u001b[0m \u001b[0;34m==\u001b[0m \u001b[0;34m'lsqr'\u001b[0m\u001b[0;34m:\u001b[0m\u001b[0;34m\u001b[0m\u001b[0m\n\u001b[1;32m    457\u001b[0m             \u001b[0mself\u001b[0m\u001b[0;34m.\u001b[0m\u001b[0m_solve_lsqr\u001b[0m\u001b[0;34m(\u001b[0m\u001b[0mX\u001b[0m\u001b[0;34m,\u001b[0m \u001b[0my\u001b[0m\u001b[0;34m,\u001b[0m \u001b[0mshrinkage\u001b[0m\u001b[0;34m=\u001b[0m\u001b[0mself\u001b[0m\u001b[0;34m.\u001b[0m\u001b[0mshrinkage\u001b[0m\u001b[0;34m)\u001b[0m\u001b[0;34m\u001b[0m\u001b[0m\n",
      "\u001b[0;32m~/anaconda3/lib/python3.6/site-packages/sklearn/discriminant_analysis.py\u001b[0m in \u001b[0;36m_solve_svd\u001b[0;34m(self, X, y)\u001b[0m\n\u001b[1;32m    371\u001b[0m         \u001b[0mself\u001b[0m\u001b[0;34m.\u001b[0m\u001b[0mxbar_\u001b[0m \u001b[0;34m=\u001b[0m \u001b[0mnp\u001b[0m\u001b[0;34m.\u001b[0m\u001b[0mdot\u001b[0m\u001b[0;34m(\u001b[0m\u001b[0mself\u001b[0m\u001b[0;34m.\u001b[0m\u001b[0mpriors_\u001b[0m\u001b[0;34m,\u001b[0m \u001b[0mself\u001b[0m\u001b[0;34m.\u001b[0m\u001b[0mmeans_\u001b[0m\u001b[0;34m)\u001b[0m\u001b[0;34m\u001b[0m\u001b[0m\n\u001b[1;32m    372\u001b[0m \u001b[0;34m\u001b[0m\u001b[0m\n\u001b[0;32m--> 373\u001b[0;31m         \u001b[0mXc\u001b[0m \u001b[0;34m=\u001b[0m \u001b[0mnp\u001b[0m\u001b[0;34m.\u001b[0m\u001b[0mconcatenate\u001b[0m\u001b[0;34m(\u001b[0m\u001b[0mXc\u001b[0m\u001b[0;34m,\u001b[0m \u001b[0maxis\u001b[0m\u001b[0;34m=\u001b[0m\u001b[0;36m0\u001b[0m\u001b[0;34m)\u001b[0m\u001b[0;34m\u001b[0m\u001b[0m\n\u001b[0m\u001b[1;32m    374\u001b[0m \u001b[0;34m\u001b[0m\u001b[0m\n\u001b[1;32m    375\u001b[0m         \u001b[0;31m# 1) within (univariate) scaling by with classes std-dev\u001b[0m\u001b[0;34m\u001b[0m\u001b[0;34m\u001b[0m\u001b[0m\n",
      "\u001b[0;31mMemoryError\u001b[0m: "
     ]
    }
   ],
   "source": [
    "%%time\n",
    "'''from sklearn.linear_model import LinearRegression, Ridge, BayesianRidge, SGDRegressor, Lasso, LassoLars, Lars, ElasticNet, PassiveAggressiveRegressor, RANSACRegressor, HuberRegressor, OrthogonalMatchingPursuit\n",
    "from sklearn.svm import LinearSVR\n",
    "from sklearn.cross_decomposition import PLSRegression\n",
    "from sklearn.tree import DecisionTreeRegressor\n",
    "#from sklearn.neighbors import KNeighborsRegressor\n",
    "#from sklearn.kernel_ridge import KernelRidge\n",
    "#from sklearn.gaussian_process import GaussianProcessRegressor\n",
    "#from sklearn.isotonic import IsotonicRegression\n",
    "'''\n",
    "from sklearn.linear_model import LogisticRegression\n",
    "from sklearn.tree import DecisionTreeClassifier\n",
    "from sklearn.neighbors import KNeighborsClassifier\n",
    "from sklearn.discriminant_analysis import LinearDiscriminantAnalysis\n",
    "from sklearn.naive_bayes import GaussianNB\n",
    "from sklearn.svm import SVC\n",
    "\n",
    "models = []\n",
    "models.append(('DecTree',DecisionTreeClassifier()))\n",
    "models.append(('LogReg',LogisticRegression()))\n",
    "models.append(('KNN',KNeighborsClassifier()))\n",
    "models.append(('LDA',LinearDiscriminantAnalysis()))\n",
    "models.append(('GaussianNB',GaussianNB()))\n",
    "#models.append(('SVC',SVC())) # no termina\n",
    "\n",
    "\n",
    "scores = []\n",
    "for name,model in models:\n",
    "    print('################################',name,'################################')\n",
    "    score = cv_score(model, X_train, target.values.ravel(), cv=kfold)\n",
    "    '''\n",
    "    if(name in ['LR','OMP','Lars','BayRidge',]):\n",
    "        score = cv_score(model,X_train_nrm,y_target,cv=kfold)\n",
    "    else:\n",
    "        score = cv_score(model,X_train_std,y_target,cv=kfold)\n",
    "    '''    \n",
    "    scores.append((name,score))"
   ]
  },
  {
   "cell_type": "markdown",
   "metadata": {},
   "source": [
    "**El que mejor score da es KNN**"
   ]
  },
  {
   "cell_type": "code",
   "execution_count": 9,
   "metadata": {},
   "outputs": [],
   "source": [
    "def predict(model,X_train,X_test,y):\n",
    "    model.fit(X_train,y.values.ravel())\n",
    "    return model.predict(X_test)\n",
    "\n",
    "def pred_to_csv(prediction,name):\n",
    "    test = pd.read_csv('test_.csv')\n",
    "    df = pd.DataFrame(prediction,columns={'sepostulo'})\n",
    "    df['id'] = test.id\n",
    "    df = df.loc[:,['id','sepostulo']]\n",
    "    df.sepostulo = df.sepostulo.astype(int)\n",
    "    df.to_csv('pred_' + name + '.csv',index=False)"
   ]
  },
  {
   "cell_type": "markdown",
   "metadata": {},
   "source": [
    "** Train test split**"
   ]
  },
  {
   "cell_type": "code",
   "execution_count": 33,
   "metadata": {},
   "outputs": [
    {
     "name": "stdout",
     "output_type": "stream",
     "text": [
      "X_train : (8775627, 46)\n",
      "X_test : (4322325, 46)\n",
      "y_train : (8775627, 1)\n",
      "y_test : (4322325, 1)\n"
     ]
    }
   ],
   "source": [
    "from sklearn.model_selection import cross_val_score, train_test_split\n",
    "X_train, X_test, y_train, y_test = train_test_split(X_train, target, test_size = 0.33, random_state = 0)\n",
    "print(\"X_train : \" + str(X_train.shape))\n",
    "print(\"X_test : \" + str(X_test.shape))\n",
    "print(\"y_train : \" + str(y_train.shape))\n",
    "print(\"y_test : \" + str(y_test.shape))"
   ]
  },
  {
   "cell_type": "code",
   "execution_count": 15,
   "metadata": {},
   "outputs": [
    {
     "name": "stderr",
     "output_type": "stream",
     "text": [
      "/home/tbotalla/anaconda3/lib/python3.6/site-packages/sklearn/linear_model/stochastic_gradient.py:128: FutureWarning: max_iter and tol parameters have been added in <class 'sklearn.linear_model.stochastic_gradient.SGDClassifier'> in 0.19. If both are left unset, they default to max_iter=5 and tol=None. If tol is not None, max_iter defaults to max_iter=1000. From 0.21, default max_iter will be 1000, and default tol will be 1e-3.\n",
      "  \"and default tol will be 1e-3.\" % type(self), FutureWarning)\n"
     ]
    },
    {
     "name": "stdout",
     "output_type": "stream",
     "text": [
      "CPU times: user 56.8 s, sys: 16.9 s, total: 1min 13s\n",
      "Wall time: 4min 52s\n"
     ]
    }
   ],
   "source": [
    "%%time\n",
    "from sklearn.linear_model import SGDClassifier\n",
    "\n",
    "pred = predict(SGDClassifier(), X_train, X_test, target)\n",
    "pred_to_csv(pred,'SGD')"
   ]
  },
  {
   "cell_type": "code",
   "execution_count": 17,
   "metadata": {},
   "outputs": [
    {
     "name": "stdout",
     "output_type": "stream",
     "text": [
      "CPU times: user 6min 7s, sys: 13.2 s, total: 6min 20s\n",
      "Wall time: 8min 49s\n"
     ]
    }
   ],
   "source": [
    "%%time\n",
    "from sklearn.tree import DecisionTreeClassifier\n",
    "\n",
    "pred = predict(DecisionTreeClassifier(), X_train, X_test, target)\n",
    "pred_to_csv(pred,'DecisionTreeClassifier') # 0.7 score en kaggle"
   ]
  },
  {
   "cell_type": "code",
   "execution_count": 11,
   "metadata": {},
   "outputs": [
    {
     "name": "stdout",
     "output_type": "stream",
     "text": [
      "CPU times: user 6min 8s, sys: 26.1 s, total: 6min 34s\n",
      "Wall time: 10min 14s\n"
     ]
    }
   ],
   "source": [
    "%%time\n",
    "from sklearn.neighbors import KNeighborsClassifier\n",
    "\n",
    "pred = predict(KNeighborsClassifier(), X_train, X_test, target)\n",
    "pred_to_csv(pred,'KNeighborsClassifier') # 0.76 score en kaggle"
   ]
  },
  {
   "cell_type": "code",
   "execution_count": 12,
   "metadata": {},
   "outputs": [
    {
     "name": "stdout",
     "output_type": "stream",
     "text": [
      "(12000000, 45)\n",
      "(100000, 45)\n",
      "(12000000, 1)\n"
     ]
    }
   ],
   "source": [
    "print(X_train.shape)\n",
    "print(X_test.shape)\n",
    "print(target.shape)"
   ]
  },
  {
   "cell_type": "code",
   "execution_count": null,
   "metadata": {},
   "outputs": [],
   "source": []
  },
  {
   "cell_type": "code",
   "execution_count": null,
   "metadata": {},
   "outputs": [],
   "source": []
  },
  {
   "cell_type": "code",
   "execution_count": null,
   "metadata": {},
   "outputs": [],
   "source": []
  },
  {
   "cell_type": "code",
   "execution_count": null,
   "metadata": {},
   "outputs": [],
   "source": []
  }
 ],
 "metadata": {
  "kernelspec": {
   "display_name": "Python 3",
   "language": "python",
   "name": "python3"
  },
  "language_info": {
   "codemirror_mode": {
    "name": "ipython",
    "version": 3
   },
   "file_extension": ".py",
   "mimetype": "text/x-python",
   "name": "python",
   "nbconvert_exporter": "python",
   "pygments_lexer": "ipython3",
   "version": "3.6.4"
  }
 },
 "nbformat": 4,
 "nbformat_minor": 2
}
