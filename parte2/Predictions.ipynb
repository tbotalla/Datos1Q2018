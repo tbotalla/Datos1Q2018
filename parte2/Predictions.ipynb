{
 "cells": [
  {
   "cell_type": "code",
   "execution_count": 1,
   "metadata": {},
   "outputs": [],
   "source": [
    "import numpy as np \n",
    "import pandas as pd\n",
    "import datetime\n",
    "import calendar\n",
    "import matplotlib.pyplot as plt\n",
    "import seaborn as sns\n",
    "\n",
    "plt.style.use('fivethirtyeight')\n",
    "pd.set_option('display.max_columns', None)\n",
    "%matplotlib inline"
   ]
  },
  {
   "cell_type": "code",
   "execution_count": 2,
   "metadata": {},
   "outputs": [],
   "source": [
    "X_train = pd.read_csv('../data/X_train.csv', sep=',', encoding='utf-8')\n",
    "target = pd.read_csv('../data/target.csv', sep=',', encoding='utf-8')\n",
    "X_test = pd.read_csv('../data/X_test.csv', sep=',', encoding='utf-8')"
   ]
  },
  {
   "cell_type": "code",
   "execution_count": 3,
   "metadata": {},
   "outputs": [
    {
     "name": "stdout",
     "output_type": "stream",
     "text": [
      "train shape: (5998526, 47) | target shape: (5998526, 1)\n",
      "test shape: (100000, 48)\n"
     ]
    }
   ],
   "source": [
    "print('train shape:', X_train.shape,'| target shape:', target.shape)\n",
    "print('test shape:', X_test.shape)"
   ]
  },
  {
   "cell_type": "raw",
   "metadata": {},
   "source": [
    "Separamos la columna id para entrenar"
   ]
  },
  {
   "cell_type": "code",
   "execution_count": 4,
   "metadata": {},
   "outputs": [
    {
     "data": {
      "text/plain": [
       "False"
      ]
     },
     "execution_count": 4,
     "metadata": {},
     "output_type": "execute_result"
    }
   ],
   "source": [
    "X_test.duplicated('id').any()"
   ]
  },
  {
   "cell_type": "code",
   "execution_count": 5,
   "metadata": {},
   "outputs": [],
   "source": [
    "ids = X_test[['id']]\n",
    "X_test.drop('id', axis=1, inplace=True)"
   ]
  },
  {
   "cell_type": "code",
   "execution_count": 6,
   "metadata": {},
   "outputs": [
    {
     "name": "stdout",
     "output_type": "stream",
     "text": [
      "train shape: (5998526, 47) | target shape: (5998526, 1)\n",
      "test shape: (100000, 47)\n"
     ]
    }
   ],
   "source": [
    "print('train shape:', X_train.shape,'| target shape:', target.shape)\n",
    "print('test shape:', X_test.shape)"
   ]
  },
  {
   "cell_type": "code",
   "execution_count": 7,
   "metadata": {},
   "outputs": [],
   "source": [
    "ids.to_csv('test_.csv', sep=',', encoding='utf-8')"
   ]
  },
  {
   "cell_type": "code",
   "execution_count": 8,
   "metadata": {},
   "outputs": [
    {
     "data": {
      "text/plain": [
       "(100000, 47)"
      ]
     },
     "execution_count": 8,
     "metadata": {},
     "output_type": "execute_result"
    }
   ],
   "source": [
    "X_test.shape"
   ]
  },
  {
   "cell_type": "code",
   "execution_count": 9,
   "metadata": {},
   "outputs": [
    {
     "name": "stdout",
     "output_type": "stream",
     "text": [
      "2998771\n",
      "2999755\n"
     ]
    }
   ],
   "source": [
    "print(len(target[target['sepostulo'] == False]))\n",
    "print(len(target[target['sepostulo'] == True]))"
   ]
  },
  {
   "cell_type": "code",
   "execution_count": 10,
   "metadata": {},
   "outputs": [
    {
     "data": {
      "text/html": [
       "<div>\n",
       "<style scoped>\n",
       "    .dataframe tbody tr th:only-of-type {\n",
       "        vertical-align: middle;\n",
       "    }\n",
       "\n",
       "    .dataframe tbody tr th {\n",
       "        vertical-align: top;\n",
       "    }\n",
       "\n",
       "    .dataframe thead th {\n",
       "        text-align: right;\n",
       "    }\n",
       "</style>\n",
       "<table border=\"1\" class=\"dataframe\">\n",
       "  <thead>\n",
       "    <tr style=\"text-align: right;\">\n",
       "      <th></th>\n",
       "      <th>Administración</th>\n",
       "      <th>AdministracióndePersonal</th>\n",
       "      <th>Almacén/Depósito/Expedición</th>\n",
       "      <th>AtenciónalCliente</th>\n",
       "      <th>CallCenter</th>\n",
       "      <th>Comercial</th>\n",
       "      <th>Contabilidad</th>\n",
       "      <th>CréditosyCobranzas</th>\n",
       "      <th>Gastronomia</th>\n",
       "      <th>Legal</th>\n",
       "      <th>Logística</th>\n",
       "      <th>MantenimientoyLimpieza</th>\n",
       "      <th>Marketing</th>\n",
       "      <th>Producción</th>\n",
       "      <th>Recepcionista</th>\n",
       "      <th>RecursosHumanos</th>\n",
       "      <th>Secretaria</th>\n",
       "      <th>Telemarketing</th>\n",
       "      <th>Tesorería</th>\n",
       "      <th>Ventas</th>\n",
       "      <th>cant_postulaciones_aviso</th>\n",
       "      <th>cant_vistas_aviso</th>\n",
       "      <th>edad</th>\n",
       "      <th>estado_estudio_Abandonado</th>\n",
       "      <th>estado_estudio_EnCurso</th>\n",
       "      <th>estado_estudio_Graduado</th>\n",
       "      <th>idaviso</th>\n",
       "      <th>idpostulante</th>\n",
       "      <th>nivel_laboral_Gerencia/AltaGerencia/Dirección</th>\n",
       "      <th>nivel_laboral_Jefe/Supervisor/Responsable</th>\n",
       "      <th>nivel_laboral_Junior</th>\n",
       "      <th>nivel_laboral_Otro</th>\n",
       "      <th>nivel_laboral_Senior/Semi-Senior</th>\n",
       "      <th>nombre_area</th>\n",
       "      <th>nombre_estudio_Doctorado</th>\n",
       "      <th>nombre_estudio_Master</th>\n",
       "      <th>nombre_estudio_Otro</th>\n",
       "      <th>nombre_estudio_Posgrado</th>\n",
       "      <th>nombre_estudio_Secundario</th>\n",
       "      <th>nombre_estudio_Terciario/Tecnico</th>\n",
       "      <th>nombre_estudio_Universitario</th>\n",
       "      <th>sexo_FEM</th>\n",
       "      <th>sexo_MASC</th>\n",
       "      <th>sexo_NO_DECLARA</th>\n",
       "      <th>tipo_full</th>\n",
       "      <th>tipo_otro</th>\n",
       "      <th>tipo_part</th>\n",
       "    </tr>\n",
       "  </thead>\n",
       "  <tbody>\n",
       "    <tr>\n",
       "      <th>0</th>\n",
       "      <td>False</td>\n",
       "      <td>False</td>\n",
       "      <td>False</td>\n",
       "      <td>False</td>\n",
       "      <td>False</td>\n",
       "      <td>True</td>\n",
       "      <td>False</td>\n",
       "      <td>False</td>\n",
       "      <td>False</td>\n",
       "      <td>False</td>\n",
       "      <td>False</td>\n",
       "      <td>False</td>\n",
       "      <td>False</td>\n",
       "      <td>False</td>\n",
       "      <td>False</td>\n",
       "      <td>False</td>\n",
       "      <td>False</td>\n",
       "      <td>False</td>\n",
       "      <td>False</td>\n",
       "      <td>False</td>\n",
       "      <td>1171.0</td>\n",
       "      <td>1.0</td>\n",
       "      <td>40</td>\n",
       "      <td>1</td>\n",
       "      <td>0</td>\n",
       "      <td>0</td>\n",
       "      <td>1112271567</td>\n",
       "      <td>6QJ8el</td>\n",
       "      <td>0</td>\n",
       "      <td>0</td>\n",
       "      <td>0</td>\n",
       "      <td>0</td>\n",
       "      <td>1</td>\n",
       "      <td>Comercial</td>\n",
       "      <td>0</td>\n",
       "      <td>0</td>\n",
       "      <td>0</td>\n",
       "      <td>0</td>\n",
       "      <td>0</td>\n",
       "      <td>0</td>\n",
       "      <td>1</td>\n",
       "      <td>1</td>\n",
       "      <td>0</td>\n",
       "      <td>0</td>\n",
       "      <td>True</td>\n",
       "      <td>False</td>\n",
       "      <td>False</td>\n",
       "    </tr>\n",
       "  </tbody>\n",
       "</table>\n",
       "</div>"
      ],
      "text/plain": [
       "   Administración  AdministracióndePersonal  Almacén/Depósito/Expedición  \\\n",
       "0           False                     False                        False   \n",
       "\n",
       "   AtenciónalCliente  CallCenter  Comercial  Contabilidad  CréditosyCobranzas  \\\n",
       "0              False       False       True         False               False   \n",
       "\n",
       "   Gastronomia  Legal  Logística  MantenimientoyLimpieza  Marketing  \\\n",
       "0        False  False      False                   False      False   \n",
       "\n",
       "   Producción  Recepcionista  RecursosHumanos  Secretaria  Telemarketing  \\\n",
       "0       False          False            False       False          False   \n",
       "\n",
       "   Tesorería  Ventas  cant_postulaciones_aviso  cant_vistas_aviso  edad  \\\n",
       "0      False   False                    1171.0                1.0    40   \n",
       "\n",
       "   estado_estudio_Abandonado  estado_estudio_EnCurso  estado_estudio_Graduado  \\\n",
       "0                          1                       0                        0   \n",
       "\n",
       "      idaviso idpostulante  nivel_laboral_Gerencia/AltaGerencia/Dirección  \\\n",
       "0  1112271567       6QJ8el                                              0   \n",
       "\n",
       "   nivel_laboral_Jefe/Supervisor/Responsable  nivel_laboral_Junior  \\\n",
       "0                                          0                     0   \n",
       "\n",
       "   nivel_laboral_Otro  nivel_laboral_Senior/Semi-Senior nombre_area  \\\n",
       "0                   0                                 1   Comercial   \n",
       "\n",
       "   nombre_estudio_Doctorado  nombre_estudio_Master  nombre_estudio_Otro  \\\n",
       "0                         0                      0                    0   \n",
       "\n",
       "   nombre_estudio_Posgrado  nombre_estudio_Secundario  \\\n",
       "0                        0                          0   \n",
       "\n",
       "   nombre_estudio_Terciario/Tecnico  nombre_estudio_Universitario  sexo_FEM  \\\n",
       "0                                 0                             1         1   \n",
       "\n",
       "   sexo_MASC  sexo_NO_DECLARA  tipo_full  tipo_otro  tipo_part  \n",
       "0          0                0       True      False      False  "
      ]
     },
     "execution_count": 10,
     "metadata": {},
     "output_type": "execute_result"
    }
   ],
   "source": [
    "X_train.head(1)"
   ]
  },
  {
   "cell_type": "code",
   "execution_count": 11,
   "metadata": {},
   "outputs": [
    {
     "data": {
      "text/html": [
       "<div>\n",
       "<style scoped>\n",
       "    .dataframe tbody tr th:only-of-type {\n",
       "        vertical-align: middle;\n",
       "    }\n",
       "\n",
       "    .dataframe tbody tr th {\n",
       "        vertical-align: top;\n",
       "    }\n",
       "\n",
       "    .dataframe thead th {\n",
       "        text-align: right;\n",
       "    }\n",
       "</style>\n",
       "<table border=\"1\" class=\"dataframe\">\n",
       "  <thead>\n",
       "    <tr style=\"text-align: right;\">\n",
       "      <th></th>\n",
       "      <th>idaviso</th>\n",
       "      <th>idpostulante</th>\n",
       "      <th>edad</th>\n",
       "      <th>nombre_estudio_Doctorado</th>\n",
       "      <th>nombre_estudio_Master</th>\n",
       "      <th>nombre_estudio_Otro</th>\n",
       "      <th>nombre_estudio_Posgrado</th>\n",
       "      <th>nombre_estudio_Secundario</th>\n",
       "      <th>nombre_estudio_Terciario/Tecnico</th>\n",
       "      <th>nombre_estudio_Universitario</th>\n",
       "      <th>estado_estudio_Abandonado</th>\n",
       "      <th>estado_estudio_EnCurso</th>\n",
       "      <th>estado_estudio_Graduado</th>\n",
       "      <th>sexo_FEM</th>\n",
       "      <th>sexo_MASC</th>\n",
       "      <th>sexo_NO_DECLARA</th>\n",
       "      <th>nombre_area</th>\n",
       "      <th>cant_vistas_aviso</th>\n",
       "      <th>cant_postulaciones_aviso</th>\n",
       "      <th>tipo_full</th>\n",
       "      <th>tipo_part</th>\n",
       "      <th>tipo_otro</th>\n",
       "      <th>nivel_laboral_Gerencia/AltaGerencia/Dirección</th>\n",
       "      <th>nivel_laboral_Jefe/Supervisor/Responsable</th>\n",
       "      <th>nivel_laboral_Junior</th>\n",
       "      <th>nivel_laboral_Otro</th>\n",
       "      <th>nivel_laboral_Senior/Semi-Senior</th>\n",
       "      <th>Ventas</th>\n",
       "      <th>Administración</th>\n",
       "      <th>Producción</th>\n",
       "      <th>Comercial</th>\n",
       "      <th>AtenciónalCliente</th>\n",
       "      <th>Recepcionista</th>\n",
       "      <th>CallCenter</th>\n",
       "      <th>Tesorería</th>\n",
       "      <th>Telemarketing</th>\n",
       "      <th>MantenimientoyLimpieza</th>\n",
       "      <th>Almacén/Depósito/Expedición</th>\n",
       "      <th>Contabilidad</th>\n",
       "      <th>RecursosHumanos</th>\n",
       "      <th>Gastronomia</th>\n",
       "      <th>Logística</th>\n",
       "      <th>Secretaria</th>\n",
       "      <th>AdministracióndePersonal</th>\n",
       "      <th>CréditosyCobranzas</th>\n",
       "      <th>Marketing</th>\n",
       "      <th>Legal</th>\n",
       "    </tr>\n",
       "  </thead>\n",
       "  <tbody>\n",
       "    <tr>\n",
       "      <th>0</th>\n",
       "      <td>739260</td>\n",
       "      <td>6M9ZQR</td>\n",
       "      <td>42</td>\n",
       "      <td>1</td>\n",
       "      <td>0</td>\n",
       "      <td>0</td>\n",
       "      <td>0</td>\n",
       "      <td>0</td>\n",
       "      <td>0</td>\n",
       "      <td>0</td>\n",
       "      <td>0</td>\n",
       "      <td>0</td>\n",
       "      <td>1</td>\n",
       "      <td>1</td>\n",
       "      <td>0</td>\n",
       "      <td>0</td>\n",
       "      <td>Comercial</td>\n",
       "      <td>2</td>\n",
       "      <td>0</td>\n",
       "      <td>True</td>\n",
       "      <td>False</td>\n",
       "      <td>False</td>\n",
       "      <td>0</td>\n",
       "      <td>1</td>\n",
       "      <td>0</td>\n",
       "      <td>0</td>\n",
       "      <td>0</td>\n",
       "      <td>False</td>\n",
       "      <td>False</td>\n",
       "      <td>False</td>\n",
       "      <td>True</td>\n",
       "      <td>False</td>\n",
       "      <td>False</td>\n",
       "      <td>False</td>\n",
       "      <td>False</td>\n",
       "      <td>False</td>\n",
       "      <td>False</td>\n",
       "      <td>False</td>\n",
       "      <td>False</td>\n",
       "      <td>False</td>\n",
       "      <td>False</td>\n",
       "      <td>False</td>\n",
       "      <td>False</td>\n",
       "      <td>False</td>\n",
       "      <td>False</td>\n",
       "      <td>False</td>\n",
       "      <td>False</td>\n",
       "    </tr>\n",
       "  </tbody>\n",
       "</table>\n",
       "</div>"
      ],
      "text/plain": [
       "   idaviso idpostulante  edad  nombre_estudio_Doctorado  \\\n",
       "0   739260       6M9ZQR    42                         1   \n",
       "\n",
       "   nombre_estudio_Master  nombre_estudio_Otro  nombre_estudio_Posgrado  \\\n",
       "0                      0                    0                        0   \n",
       "\n",
       "   nombre_estudio_Secundario  nombre_estudio_Terciario/Tecnico  \\\n",
       "0                          0                                 0   \n",
       "\n",
       "   nombre_estudio_Universitario  estado_estudio_Abandonado  \\\n",
       "0                             0                          0   \n",
       "\n",
       "   estado_estudio_EnCurso  estado_estudio_Graduado  sexo_FEM  sexo_MASC  \\\n",
       "0                       0                        1         1          0   \n",
       "\n",
       "   sexo_NO_DECLARA nombre_area  cant_vistas_aviso  cant_postulaciones_aviso  \\\n",
       "0                0   Comercial                  2                         0   \n",
       "\n",
       "   tipo_full  tipo_part  tipo_otro  \\\n",
       "0       True      False      False   \n",
       "\n",
       "   nivel_laboral_Gerencia/AltaGerencia/Dirección  \\\n",
       "0                                              0   \n",
       "\n",
       "   nivel_laboral_Jefe/Supervisor/Responsable  nivel_laboral_Junior  \\\n",
       "0                                          1                     0   \n",
       "\n",
       "   nivel_laboral_Otro  nivel_laboral_Senior/Semi-Senior  Ventas  \\\n",
       "0                   0                                 0   False   \n",
       "\n",
       "   Administración  Producción  Comercial  AtenciónalCliente  Recepcionista  \\\n",
       "0           False       False       True              False          False   \n",
       "\n",
       "   CallCenter  Tesorería  Telemarketing  MantenimientoyLimpieza  \\\n",
       "0       False      False          False                   False   \n",
       "\n",
       "   Almacén/Depósito/Expedición  Contabilidad  RecursosHumanos  Gastronomia  \\\n",
       "0                        False         False            False        False   \n",
       "\n",
       "   Logística  Secretaria  AdministracióndePersonal  CréditosyCobranzas  \\\n",
       "0      False       False                     False               False   \n",
       "\n",
       "   Marketing  Legal  \n",
       "0      False  False  "
      ]
     },
     "execution_count": 11,
     "metadata": {},
     "output_type": "execute_result"
    }
   ],
   "source": [
    "X_test.head(1)"
   ]
  },
  {
   "cell_type": "markdown",
   "metadata": {},
   "source": [
    "## TEMPORAL: se eliminan las columnas con los arrays, decidir que hacer con este dato"
   ]
  },
  {
   "cell_type": "code",
   "execution_count": 12,
   "metadata": {},
   "outputs": [
    {
     "ename": "ValueError",
     "evalue": "labels ['descripcion' 'titulo'] not contained in axis",
     "output_type": "error",
     "traceback": [
      "\u001b[0;31m---------------------------------------------------------------------------\u001b[0m",
      "\u001b[0;31mValueError\u001b[0m                                Traceback (most recent call last)",
      "\u001b[0;32m<ipython-input-12-ce114d85c6f4>\u001b[0m in \u001b[0;36m<module>\u001b[0;34m()\u001b[0m\n\u001b[0;32m----> 1\u001b[0;31m \u001b[0mX_train\u001b[0m\u001b[0;34m.\u001b[0m\u001b[0mdrop\u001b[0m\u001b[0;34m(\u001b[0m\u001b[0mcolumns\u001b[0m\u001b[0;34m=\u001b[0m\u001b[0;34m[\u001b[0m\u001b[0;34m'descripcion'\u001b[0m\u001b[0;34m,\u001b[0m \u001b[0;34m'titulo'\u001b[0m\u001b[0;34m]\u001b[0m\u001b[0;34m,\u001b[0m \u001b[0minplace\u001b[0m\u001b[0;34m=\u001b[0m\u001b[0;32mTrue\u001b[0m\u001b[0;34m)\u001b[0m\u001b[0;34m\u001b[0m\u001b[0m\n\u001b[0m\u001b[1;32m      2\u001b[0m \u001b[0mX_test\u001b[0m\u001b[0;34m.\u001b[0m\u001b[0mdrop\u001b[0m\u001b[0;34m(\u001b[0m\u001b[0mcolumns\u001b[0m\u001b[0;34m=\u001b[0m\u001b[0;34m[\u001b[0m\u001b[0;34m'descripcion'\u001b[0m\u001b[0;34m,\u001b[0m \u001b[0;34m'titulo'\u001b[0m\u001b[0;34m]\u001b[0m\u001b[0;34m,\u001b[0m \u001b[0minplace\u001b[0m\u001b[0;34m=\u001b[0m\u001b[0;32mTrue\u001b[0m\u001b[0;34m)\u001b[0m\u001b[0;34m\u001b[0m\u001b[0m\n",
      "\u001b[0;32m~/anaconda3/lib/python3.6/site-packages/pandas/core/generic.py\u001b[0m in \u001b[0;36mdrop\u001b[0;34m(self, labels, axis, index, columns, level, inplace, errors)\u001b[0m\n\u001b[1;32m   2528\u001b[0m         \u001b[0;32mfor\u001b[0m \u001b[0maxis\u001b[0m\u001b[0;34m,\u001b[0m \u001b[0mlabels\u001b[0m \u001b[0;32min\u001b[0m \u001b[0maxes\u001b[0m\u001b[0;34m.\u001b[0m\u001b[0mitems\u001b[0m\u001b[0;34m(\u001b[0m\u001b[0;34m)\u001b[0m\u001b[0;34m:\u001b[0m\u001b[0;34m\u001b[0m\u001b[0m\n\u001b[1;32m   2529\u001b[0m             \u001b[0;32mif\u001b[0m \u001b[0mlabels\u001b[0m \u001b[0;32mis\u001b[0m \u001b[0;32mnot\u001b[0m \u001b[0;32mNone\u001b[0m\u001b[0;34m:\u001b[0m\u001b[0;34m\u001b[0m\u001b[0m\n\u001b[0;32m-> 2530\u001b[0;31m                 \u001b[0mobj\u001b[0m \u001b[0;34m=\u001b[0m \u001b[0mobj\u001b[0m\u001b[0;34m.\u001b[0m\u001b[0m_drop_axis\u001b[0m\u001b[0;34m(\u001b[0m\u001b[0mlabels\u001b[0m\u001b[0;34m,\u001b[0m \u001b[0maxis\u001b[0m\u001b[0;34m,\u001b[0m \u001b[0mlevel\u001b[0m\u001b[0;34m=\u001b[0m\u001b[0mlevel\u001b[0m\u001b[0;34m,\u001b[0m \u001b[0merrors\u001b[0m\u001b[0;34m=\u001b[0m\u001b[0merrors\u001b[0m\u001b[0;34m)\u001b[0m\u001b[0;34m\u001b[0m\u001b[0m\n\u001b[0m\u001b[1;32m   2531\u001b[0m \u001b[0;34m\u001b[0m\u001b[0m\n\u001b[1;32m   2532\u001b[0m         \u001b[0;32mif\u001b[0m \u001b[0minplace\u001b[0m\u001b[0;34m:\u001b[0m\u001b[0;34m\u001b[0m\u001b[0m\n",
      "\u001b[0;32m~/anaconda3/lib/python3.6/site-packages/pandas/core/generic.py\u001b[0m in \u001b[0;36m_drop_axis\u001b[0;34m(self, labels, axis, level, errors)\u001b[0m\n\u001b[1;32m   2560\u001b[0m                 \u001b[0mnew_axis\u001b[0m \u001b[0;34m=\u001b[0m \u001b[0maxis\u001b[0m\u001b[0;34m.\u001b[0m\u001b[0mdrop\u001b[0m\u001b[0;34m(\u001b[0m\u001b[0mlabels\u001b[0m\u001b[0;34m,\u001b[0m \u001b[0mlevel\u001b[0m\u001b[0;34m=\u001b[0m\u001b[0mlevel\u001b[0m\u001b[0;34m,\u001b[0m \u001b[0merrors\u001b[0m\u001b[0;34m=\u001b[0m\u001b[0merrors\u001b[0m\u001b[0;34m)\u001b[0m\u001b[0;34m\u001b[0m\u001b[0m\n\u001b[1;32m   2561\u001b[0m             \u001b[0;32melse\u001b[0m\u001b[0;34m:\u001b[0m\u001b[0;34m\u001b[0m\u001b[0m\n\u001b[0;32m-> 2562\u001b[0;31m                 \u001b[0mnew_axis\u001b[0m \u001b[0;34m=\u001b[0m \u001b[0maxis\u001b[0m\u001b[0;34m.\u001b[0m\u001b[0mdrop\u001b[0m\u001b[0;34m(\u001b[0m\u001b[0mlabels\u001b[0m\u001b[0;34m,\u001b[0m \u001b[0merrors\u001b[0m\u001b[0;34m=\u001b[0m\u001b[0merrors\u001b[0m\u001b[0;34m)\u001b[0m\u001b[0;34m\u001b[0m\u001b[0m\n\u001b[0m\u001b[1;32m   2563\u001b[0m             \u001b[0mdropped\u001b[0m \u001b[0;34m=\u001b[0m \u001b[0mself\u001b[0m\u001b[0;34m.\u001b[0m\u001b[0mreindex\u001b[0m\u001b[0;34m(\u001b[0m\u001b[0;34m**\u001b[0m\u001b[0;34m{\u001b[0m\u001b[0maxis_name\u001b[0m\u001b[0;34m:\u001b[0m \u001b[0mnew_axis\u001b[0m\u001b[0;34m}\u001b[0m\u001b[0;34m)\u001b[0m\u001b[0;34m\u001b[0m\u001b[0m\n\u001b[1;32m   2564\u001b[0m             \u001b[0;32mtry\u001b[0m\u001b[0;34m:\u001b[0m\u001b[0;34m\u001b[0m\u001b[0m\n",
      "\u001b[0;32m~/anaconda3/lib/python3.6/site-packages/pandas/core/indexes/base.py\u001b[0m in \u001b[0;36mdrop\u001b[0;34m(self, labels, errors)\u001b[0m\n\u001b[1;32m   3742\u001b[0m             \u001b[0;32mif\u001b[0m \u001b[0merrors\u001b[0m \u001b[0;34m!=\u001b[0m \u001b[0;34m'ignore'\u001b[0m\u001b[0;34m:\u001b[0m\u001b[0;34m\u001b[0m\u001b[0m\n\u001b[1;32m   3743\u001b[0m                 raise ValueError('labels %s not contained in axis' %\n\u001b[0;32m-> 3744\u001b[0;31m                                  labels[mask])\n\u001b[0m\u001b[1;32m   3745\u001b[0m             \u001b[0mindexer\u001b[0m \u001b[0;34m=\u001b[0m \u001b[0mindexer\u001b[0m\u001b[0;34m[\u001b[0m\u001b[0;34m~\u001b[0m\u001b[0mmask\u001b[0m\u001b[0;34m]\u001b[0m\u001b[0;34m\u001b[0m\u001b[0m\n\u001b[1;32m   3746\u001b[0m         \u001b[0;32mreturn\u001b[0m \u001b[0mself\u001b[0m\u001b[0;34m.\u001b[0m\u001b[0mdelete\u001b[0m\u001b[0;34m(\u001b[0m\u001b[0mindexer\u001b[0m\u001b[0;34m)\u001b[0m\u001b[0;34m\u001b[0m\u001b[0m\n",
      "\u001b[0;31mValueError\u001b[0m: labels ['descripcion' 'titulo'] not contained in axis"
     ]
    }
   ],
   "source": [
    "X_train.drop(columns=['descripcion', 'titulo'], inplace=True)\n",
    "X_test.drop(columns=['descripcion', 'titulo'], inplace=True)"
   ]
  },
  {
   "cell_type": "code",
   "execution_count": 12,
   "metadata": {},
   "outputs": [
    {
     "data": {
      "text/html": [
       "<div>\n",
       "<style scoped>\n",
       "    .dataframe tbody tr th:only-of-type {\n",
       "        vertical-align: middle;\n",
       "    }\n",
       "\n",
       "    .dataframe tbody tr th {\n",
       "        vertical-align: top;\n",
       "    }\n",
       "\n",
       "    .dataframe thead th {\n",
       "        text-align: right;\n",
       "    }\n",
       "</style>\n",
       "<table border=\"1\" class=\"dataframe\">\n",
       "  <thead>\n",
       "    <tr style=\"text-align: right;\">\n",
       "      <th></th>\n",
       "      <th>Administración</th>\n",
       "      <th>AdministracióndePersonal</th>\n",
       "      <th>Almacén/Depósito/Expedición</th>\n",
       "      <th>AtenciónalCliente</th>\n",
       "      <th>CallCenter</th>\n",
       "      <th>Comercial</th>\n",
       "      <th>Contabilidad</th>\n",
       "      <th>CréditosyCobranzas</th>\n",
       "      <th>Gastronomia</th>\n",
       "      <th>Legal</th>\n",
       "      <th>Logística</th>\n",
       "      <th>MantenimientoyLimpieza</th>\n",
       "      <th>Marketing</th>\n",
       "      <th>Producción</th>\n",
       "      <th>Recepcionista</th>\n",
       "      <th>RecursosHumanos</th>\n",
       "      <th>Secretaria</th>\n",
       "      <th>Telemarketing</th>\n",
       "      <th>Tesorería</th>\n",
       "      <th>Ventas</th>\n",
       "      <th>cant_postulaciones_aviso</th>\n",
       "      <th>cant_vistas_aviso</th>\n",
       "      <th>edad</th>\n",
       "      <th>estado_estudio_Abandonado</th>\n",
       "      <th>estado_estudio_EnCurso</th>\n",
       "      <th>estado_estudio_Graduado</th>\n",
       "      <th>idaviso</th>\n",
       "      <th>idpostulante</th>\n",
       "      <th>nivel_laboral_Gerencia/AltaGerencia/Dirección</th>\n",
       "      <th>nivel_laboral_Jefe/Supervisor/Responsable</th>\n",
       "      <th>nivel_laboral_Junior</th>\n",
       "      <th>nivel_laboral_Otro</th>\n",
       "      <th>nivel_laboral_Senior/Semi-Senior</th>\n",
       "      <th>nombre_area</th>\n",
       "      <th>nombre_estudio_Doctorado</th>\n",
       "      <th>nombre_estudio_Master</th>\n",
       "      <th>nombre_estudio_Otro</th>\n",
       "      <th>nombre_estudio_Posgrado</th>\n",
       "      <th>nombre_estudio_Secundario</th>\n",
       "      <th>nombre_estudio_Terciario/Tecnico</th>\n",
       "      <th>nombre_estudio_Universitario</th>\n",
       "      <th>sexo_FEM</th>\n",
       "      <th>sexo_MASC</th>\n",
       "      <th>sexo_NO_DECLARA</th>\n",
       "      <th>tipo_full</th>\n",
       "      <th>tipo_otro</th>\n",
       "      <th>tipo_part</th>\n",
       "    </tr>\n",
       "  </thead>\n",
       "  <tbody>\n",
       "    <tr>\n",
       "      <th>0</th>\n",
       "      <td>False</td>\n",
       "      <td>False</td>\n",
       "      <td>False</td>\n",
       "      <td>False</td>\n",
       "      <td>False</td>\n",
       "      <td>True</td>\n",
       "      <td>False</td>\n",
       "      <td>False</td>\n",
       "      <td>False</td>\n",
       "      <td>False</td>\n",
       "      <td>False</td>\n",
       "      <td>False</td>\n",
       "      <td>False</td>\n",
       "      <td>False</td>\n",
       "      <td>False</td>\n",
       "      <td>False</td>\n",
       "      <td>False</td>\n",
       "      <td>False</td>\n",
       "      <td>False</td>\n",
       "      <td>False</td>\n",
       "      <td>1171.0</td>\n",
       "      <td>1.0</td>\n",
       "      <td>40</td>\n",
       "      <td>1</td>\n",
       "      <td>0</td>\n",
       "      <td>0</td>\n",
       "      <td>1112271567</td>\n",
       "      <td>6QJ8el</td>\n",
       "      <td>0</td>\n",
       "      <td>0</td>\n",
       "      <td>0</td>\n",
       "      <td>0</td>\n",
       "      <td>1</td>\n",
       "      <td>Comercial</td>\n",
       "      <td>0</td>\n",
       "      <td>0</td>\n",
       "      <td>0</td>\n",
       "      <td>0</td>\n",
       "      <td>0</td>\n",
       "      <td>0</td>\n",
       "      <td>1</td>\n",
       "      <td>1</td>\n",
       "      <td>0</td>\n",
       "      <td>0</td>\n",
       "      <td>True</td>\n",
       "      <td>False</td>\n",
       "      <td>False</td>\n",
       "    </tr>\n",
       "  </tbody>\n",
       "</table>\n",
       "</div>"
      ],
      "text/plain": [
       "   Administración  AdministracióndePersonal  Almacén/Depósito/Expedición  \\\n",
       "0           False                     False                        False   \n",
       "\n",
       "   AtenciónalCliente  CallCenter  Comercial  Contabilidad  CréditosyCobranzas  \\\n",
       "0              False       False       True         False               False   \n",
       "\n",
       "   Gastronomia  Legal  Logística  MantenimientoyLimpieza  Marketing  \\\n",
       "0        False  False      False                   False      False   \n",
       "\n",
       "   Producción  Recepcionista  RecursosHumanos  Secretaria  Telemarketing  \\\n",
       "0       False          False            False       False          False   \n",
       "\n",
       "   Tesorería  Ventas  cant_postulaciones_aviso  cant_vistas_aviso  edad  \\\n",
       "0      False   False                    1171.0                1.0    40   \n",
       "\n",
       "   estado_estudio_Abandonado  estado_estudio_EnCurso  estado_estudio_Graduado  \\\n",
       "0                          1                       0                        0   \n",
       "\n",
       "      idaviso idpostulante  nivel_laboral_Gerencia/AltaGerencia/Dirección  \\\n",
       "0  1112271567       6QJ8el                                              0   \n",
       "\n",
       "   nivel_laboral_Jefe/Supervisor/Responsable  nivel_laboral_Junior  \\\n",
       "0                                          0                     0   \n",
       "\n",
       "   nivel_laboral_Otro  nivel_laboral_Senior/Semi-Senior nombre_area  \\\n",
       "0                   0                                 1   Comercial   \n",
       "\n",
       "   nombre_estudio_Doctorado  nombre_estudio_Master  nombre_estudio_Otro  \\\n",
       "0                         0                      0                    0   \n",
       "\n",
       "   nombre_estudio_Posgrado  nombre_estudio_Secundario  \\\n",
       "0                        0                          0   \n",
       "\n",
       "   nombre_estudio_Terciario/Tecnico  nombre_estudio_Universitario  sexo_FEM  \\\n",
       "0                                 0                             1         1   \n",
       "\n",
       "   sexo_MASC  sexo_NO_DECLARA  tipo_full  tipo_otro  tipo_part  \n",
       "0          0                0       True      False      False  "
      ]
     },
     "execution_count": 12,
     "metadata": {},
     "output_type": "execute_result"
    }
   ],
   "source": [
    "X_train.head(1)"
   ]
  },
  {
   "cell_type": "code",
   "execution_count": 13,
   "metadata": {},
   "outputs": [
    {
     "data": {
      "text/html": [
       "<div>\n",
       "<style scoped>\n",
       "    .dataframe tbody tr th:only-of-type {\n",
       "        vertical-align: middle;\n",
       "    }\n",
       "\n",
       "    .dataframe tbody tr th {\n",
       "        vertical-align: top;\n",
       "    }\n",
       "\n",
       "    .dataframe thead th {\n",
       "        text-align: right;\n",
       "    }\n",
       "</style>\n",
       "<table border=\"1\" class=\"dataframe\">\n",
       "  <thead>\n",
       "    <tr style=\"text-align: right;\">\n",
       "      <th></th>\n",
       "      <th>idaviso</th>\n",
       "      <th>idpostulante</th>\n",
       "      <th>edad</th>\n",
       "      <th>nombre_estudio_Doctorado</th>\n",
       "      <th>nombre_estudio_Master</th>\n",
       "      <th>nombre_estudio_Otro</th>\n",
       "      <th>nombre_estudio_Posgrado</th>\n",
       "      <th>nombre_estudio_Secundario</th>\n",
       "      <th>nombre_estudio_Terciario/Tecnico</th>\n",
       "      <th>nombre_estudio_Universitario</th>\n",
       "      <th>estado_estudio_Abandonado</th>\n",
       "      <th>estado_estudio_EnCurso</th>\n",
       "      <th>estado_estudio_Graduado</th>\n",
       "      <th>sexo_FEM</th>\n",
       "      <th>sexo_MASC</th>\n",
       "      <th>sexo_NO_DECLARA</th>\n",
       "      <th>nombre_area</th>\n",
       "      <th>cant_vistas_aviso</th>\n",
       "      <th>cant_postulaciones_aviso</th>\n",
       "      <th>tipo_full</th>\n",
       "      <th>tipo_part</th>\n",
       "      <th>tipo_otro</th>\n",
       "      <th>nivel_laboral_Gerencia/AltaGerencia/Dirección</th>\n",
       "      <th>nivel_laboral_Jefe/Supervisor/Responsable</th>\n",
       "      <th>nivel_laboral_Junior</th>\n",
       "      <th>nivel_laboral_Otro</th>\n",
       "      <th>nivel_laboral_Senior/Semi-Senior</th>\n",
       "      <th>Ventas</th>\n",
       "      <th>Administración</th>\n",
       "      <th>Producción</th>\n",
       "      <th>Comercial</th>\n",
       "      <th>AtenciónalCliente</th>\n",
       "      <th>Recepcionista</th>\n",
       "      <th>CallCenter</th>\n",
       "      <th>Tesorería</th>\n",
       "      <th>Telemarketing</th>\n",
       "      <th>MantenimientoyLimpieza</th>\n",
       "      <th>Almacén/Depósito/Expedición</th>\n",
       "      <th>Contabilidad</th>\n",
       "      <th>RecursosHumanos</th>\n",
       "      <th>Gastronomia</th>\n",
       "      <th>Logística</th>\n",
       "      <th>Secretaria</th>\n",
       "      <th>AdministracióndePersonal</th>\n",
       "      <th>CréditosyCobranzas</th>\n",
       "      <th>Marketing</th>\n",
       "      <th>Legal</th>\n",
       "    </tr>\n",
       "  </thead>\n",
       "  <tbody>\n",
       "    <tr>\n",
       "      <th>0</th>\n",
       "      <td>739260</td>\n",
       "      <td>6M9ZQR</td>\n",
       "      <td>42</td>\n",
       "      <td>1</td>\n",
       "      <td>0</td>\n",
       "      <td>0</td>\n",
       "      <td>0</td>\n",
       "      <td>0</td>\n",
       "      <td>0</td>\n",
       "      <td>0</td>\n",
       "      <td>0</td>\n",
       "      <td>0</td>\n",
       "      <td>1</td>\n",
       "      <td>1</td>\n",
       "      <td>0</td>\n",
       "      <td>0</td>\n",
       "      <td>Comercial</td>\n",
       "      <td>2</td>\n",
       "      <td>0</td>\n",
       "      <td>True</td>\n",
       "      <td>False</td>\n",
       "      <td>False</td>\n",
       "      <td>0</td>\n",
       "      <td>1</td>\n",
       "      <td>0</td>\n",
       "      <td>0</td>\n",
       "      <td>0</td>\n",
       "      <td>False</td>\n",
       "      <td>False</td>\n",
       "      <td>False</td>\n",
       "      <td>True</td>\n",
       "      <td>False</td>\n",
       "      <td>False</td>\n",
       "      <td>False</td>\n",
       "      <td>False</td>\n",
       "      <td>False</td>\n",
       "      <td>False</td>\n",
       "      <td>False</td>\n",
       "      <td>False</td>\n",
       "      <td>False</td>\n",
       "      <td>False</td>\n",
       "      <td>False</td>\n",
       "      <td>False</td>\n",
       "      <td>False</td>\n",
       "      <td>False</td>\n",
       "      <td>False</td>\n",
       "      <td>False</td>\n",
       "    </tr>\n",
       "  </tbody>\n",
       "</table>\n",
       "</div>"
      ],
      "text/plain": [
       "   idaviso idpostulante  edad  nombre_estudio_Doctorado  \\\n",
       "0   739260       6M9ZQR    42                         1   \n",
       "\n",
       "   nombre_estudio_Master  nombre_estudio_Otro  nombre_estudio_Posgrado  \\\n",
       "0                      0                    0                        0   \n",
       "\n",
       "   nombre_estudio_Secundario  nombre_estudio_Terciario/Tecnico  \\\n",
       "0                          0                                 0   \n",
       "\n",
       "   nombre_estudio_Universitario  estado_estudio_Abandonado  \\\n",
       "0                             0                          0   \n",
       "\n",
       "   estado_estudio_EnCurso  estado_estudio_Graduado  sexo_FEM  sexo_MASC  \\\n",
       "0                       0                        1         1          0   \n",
       "\n",
       "   sexo_NO_DECLARA nombre_area  cant_vistas_aviso  cant_postulaciones_aviso  \\\n",
       "0                0   Comercial                  2                         0   \n",
       "\n",
       "   tipo_full  tipo_part  tipo_otro  \\\n",
       "0       True      False      False   \n",
       "\n",
       "   nivel_laboral_Gerencia/AltaGerencia/Dirección  \\\n",
       "0                                              0   \n",
       "\n",
       "   nivel_laboral_Jefe/Supervisor/Responsable  nivel_laboral_Junior  \\\n",
       "0                                          1                     0   \n",
       "\n",
       "   nivel_laboral_Otro  nivel_laboral_Senior/Semi-Senior  Ventas  \\\n",
       "0                   0                                 0   False   \n",
       "\n",
       "   Administración  Producción  Comercial  AtenciónalCliente  Recepcionista  \\\n",
       "0           False       False       True              False          False   \n",
       "\n",
       "   CallCenter  Tesorería  Telemarketing  MantenimientoyLimpieza  \\\n",
       "0       False      False          False                   False   \n",
       "\n",
       "   Almacén/Depósito/Expedición  Contabilidad  RecursosHumanos  Gastronomia  \\\n",
       "0                        False         False            False        False   \n",
       "\n",
       "   Logística  Secretaria  AdministracióndePersonal  CréditosyCobranzas  \\\n",
       "0      False       False                     False               False   \n",
       "\n",
       "   Marketing  Legal  \n",
       "0      False  False  "
      ]
     },
     "execution_count": 13,
     "metadata": {},
     "output_type": "execute_result"
    }
   ],
   "source": [
    "X_test.head(1)"
   ]
  },
  {
   "cell_type": "code",
   "execution_count": 14,
   "metadata": {},
   "outputs": [],
   "source": [
    "# Solo para probar un submit elimino las columnas que no son numericas/booleanas\n",
    "X_train.drop(columns=['nombre_area'], inplace=True)\n",
    "X_test.drop(columns=['nombre_area'], inplace=True)"
   ]
  },
  {
   "cell_type": "code",
   "execution_count": 15,
   "metadata": {},
   "outputs": [],
   "source": [
    "X_train.drop(columns=['idpostulante'], inplace=True)\n",
    "X_test.drop(columns=['idpostulante'], inplace=True)"
   ]
  },
  {
   "cell_type": "code",
   "execution_count": 16,
   "metadata": {},
   "outputs": [
    {
     "name": "stderr",
     "output_type": "stream",
     "text": [
      "/home/tbotalla/anaconda3/lib/python3.6/site-packages/ipykernel_launcher.py:2: FutureWarning: '.reindex_axis' is deprecated and will be removed in a future version. Use '.reindex' instead.\n",
      "  \n",
      "/home/tbotalla/anaconda3/lib/python3.6/site-packages/ipykernel_launcher.py:3: FutureWarning: '.reindex_axis' is deprecated and will be removed in a future version. Use '.reindex' instead.\n",
      "  This is separate from the ipykernel package so we can avoid doing imports until\n"
     ]
    }
   ],
   "source": [
    "# Ordenamos las columnas para que queden igual\n",
    "X_train = X_train.reindex_axis(sorted(X_train.columns), axis=1)\n",
    "X_test = X_test.reindex_axis(sorted(X_test.columns), axis=1)"
   ]
  },
  {
   "cell_type": "code",
   "execution_count": 17,
   "metadata": {},
   "outputs": [
    {
     "name": "stdout",
     "output_type": "stream",
     "text": [
      "True\n",
      "False\n"
     ]
    }
   ],
   "source": [
    "print(X_train.isnull().values.any())\n",
    "print(X_test.isnull().values.any())"
   ]
  },
  {
   "cell_type": "code",
   "execution_count": 18,
   "metadata": {},
   "outputs": [
    {
     "data": {
      "text/plain": [
       "Administración                                   False\n",
       "AdministracióndePersonal                         False\n",
       "Almacén/Depósito/Expedición                      False\n",
       "AtenciónalCliente                                False\n",
       "CallCenter                                       False\n",
       "Comercial                                        False\n",
       "Contabilidad                                     False\n",
       "CréditosyCobranzas                               False\n",
       "Gastronomia                                      False\n",
       "Legal                                            False\n",
       "Logística                                        False\n",
       "MantenimientoyLimpieza                           False\n",
       "Marketing                                        False\n",
       "Producción                                       False\n",
       "Recepcionista                                    False\n",
       "RecursosHumanos                                  False\n",
       "Secretaria                                       False\n",
       "Telemarketing                                    False\n",
       "Tesorería                                        False\n",
       "Ventas                                           False\n",
       "cant_postulaciones_aviso                          True\n",
       "cant_vistas_aviso                                 True\n",
       "edad                                             False\n",
       "estado_estudio_Abandonado                        False\n",
       "estado_estudio_EnCurso                           False\n",
       "estado_estudio_Graduado                          False\n",
       "idaviso                                          False\n",
       "nivel_laboral_Gerencia/AltaGerencia/Dirección    False\n",
       "nivel_laboral_Jefe/Supervisor/Responsable        False\n",
       "nivel_laboral_Junior                             False\n",
       "nivel_laboral_Otro                               False\n",
       "nivel_laboral_Senior/Semi-Senior                 False\n",
       "nombre_estudio_Doctorado                         False\n",
       "nombre_estudio_Master                            False\n",
       "nombre_estudio_Otro                              False\n",
       "nombre_estudio_Posgrado                          False\n",
       "nombre_estudio_Secundario                        False\n",
       "nombre_estudio_Terciario/Tecnico                 False\n",
       "nombre_estudio_Universitario                     False\n",
       "sexo_FEM                                         False\n",
       "sexo_MASC                                        False\n",
       "sexo_NO_DECLARA                                  False\n",
       "tipo_full                                        False\n",
       "tipo_otro                                        False\n",
       "tipo_part                                        False\n",
       "dtype: bool"
      ]
     },
     "execution_count": 18,
     "metadata": {},
     "output_type": "execute_result"
    }
   ],
   "source": [
    "X_train.isna().any()"
   ]
  },
  {
   "cell_type": "code",
   "execution_count": 19,
   "metadata": {},
   "outputs": [],
   "source": [
    "X_train['cant_postulaciones_aviso'].fillna(0,inplace = True)\n",
    "X_train['cant_vistas_aviso'].fillna(0,inplace = True)"
   ]
  },
  {
   "cell_type": "code",
   "execution_count": 20,
   "metadata": {},
   "outputs": [
    {
     "data": {
      "text/plain": [
       "Administración                                   False\n",
       "AdministracióndePersonal                         False\n",
       "Almacén/Depósito/Expedición                      False\n",
       "AtenciónalCliente                                False\n",
       "CallCenter                                       False\n",
       "Comercial                                        False\n",
       "Contabilidad                                     False\n",
       "CréditosyCobranzas                               False\n",
       "Gastronomia                                      False\n",
       "Legal                                            False\n",
       "Logística                                        False\n",
       "MantenimientoyLimpieza                           False\n",
       "Marketing                                        False\n",
       "Producción                                       False\n",
       "Recepcionista                                    False\n",
       "RecursosHumanos                                  False\n",
       "Secretaria                                       False\n",
       "Telemarketing                                    False\n",
       "Tesorería                                        False\n",
       "Ventas                                           False\n",
       "cant_postulaciones_aviso                         False\n",
       "cant_vistas_aviso                                False\n",
       "edad                                             False\n",
       "estado_estudio_Abandonado                        False\n",
       "estado_estudio_EnCurso                           False\n",
       "estado_estudio_Graduado                          False\n",
       "idaviso                                          False\n",
       "nivel_laboral_Gerencia/AltaGerencia/Dirección    False\n",
       "nivel_laboral_Jefe/Supervisor/Responsable        False\n",
       "nivel_laboral_Junior                             False\n",
       "nivel_laboral_Otro                               False\n",
       "nivel_laboral_Senior/Semi-Senior                 False\n",
       "nombre_estudio_Doctorado                         False\n",
       "nombre_estudio_Master                            False\n",
       "nombre_estudio_Otro                              False\n",
       "nombre_estudio_Posgrado                          False\n",
       "nombre_estudio_Secundario                        False\n",
       "nombre_estudio_Terciario/Tecnico                 False\n",
       "nombre_estudio_Universitario                     False\n",
       "sexo_FEM                                         False\n",
       "sexo_MASC                                        False\n",
       "sexo_NO_DECLARA                                  False\n",
       "tipo_full                                        False\n",
       "tipo_otro                                        False\n",
       "tipo_part                                        False\n",
       "dtype: bool"
      ]
     },
     "execution_count": 20,
     "metadata": {},
     "output_type": "execute_result"
    }
   ],
   "source": [
    "X_train.isna().any()"
   ]
  },
  {
   "cell_type": "code",
   "execution_count": 21,
   "metadata": {},
   "outputs": [],
   "source": [
    "X_train['cant_vistas_aviso'] = X_train['cant_vistas_aviso'].astype(int)\n",
    "X_train['cant_postulaciones_aviso'] = X_train['cant_postulaciones_aviso'].astype(int)"
   ]
  },
  {
   "cell_type": "code",
   "execution_count": 22,
   "metadata": {},
   "outputs": [
    {
     "data": {
      "text/html": [
       "<div>\n",
       "<style scoped>\n",
       "    .dataframe tbody tr th:only-of-type {\n",
       "        vertical-align: middle;\n",
       "    }\n",
       "\n",
       "    .dataframe tbody tr th {\n",
       "        vertical-align: top;\n",
       "    }\n",
       "\n",
       "    .dataframe thead th {\n",
       "        text-align: right;\n",
       "    }\n",
       "</style>\n",
       "<table border=\"1\" class=\"dataframe\">\n",
       "  <thead>\n",
       "    <tr style=\"text-align: right;\">\n",
       "      <th></th>\n",
       "      <th>Administración</th>\n",
       "      <th>AdministracióndePersonal</th>\n",
       "      <th>Almacén/Depósito/Expedición</th>\n",
       "      <th>AtenciónalCliente</th>\n",
       "      <th>CallCenter</th>\n",
       "      <th>Comercial</th>\n",
       "      <th>Contabilidad</th>\n",
       "      <th>CréditosyCobranzas</th>\n",
       "      <th>Gastronomia</th>\n",
       "      <th>Legal</th>\n",
       "      <th>Logística</th>\n",
       "      <th>MantenimientoyLimpieza</th>\n",
       "      <th>Marketing</th>\n",
       "      <th>Producción</th>\n",
       "      <th>Recepcionista</th>\n",
       "      <th>RecursosHumanos</th>\n",
       "      <th>Secretaria</th>\n",
       "      <th>Telemarketing</th>\n",
       "      <th>Tesorería</th>\n",
       "      <th>Ventas</th>\n",
       "      <th>cant_postulaciones_aviso</th>\n",
       "      <th>cant_vistas_aviso</th>\n",
       "      <th>edad</th>\n",
       "      <th>estado_estudio_Abandonado</th>\n",
       "      <th>estado_estudio_EnCurso</th>\n",
       "      <th>estado_estudio_Graduado</th>\n",
       "      <th>idaviso</th>\n",
       "      <th>nivel_laboral_Gerencia/AltaGerencia/Dirección</th>\n",
       "      <th>nivel_laboral_Jefe/Supervisor/Responsable</th>\n",
       "      <th>nivel_laboral_Junior</th>\n",
       "      <th>nivel_laboral_Otro</th>\n",
       "      <th>nivel_laboral_Senior/Semi-Senior</th>\n",
       "      <th>nombre_estudio_Doctorado</th>\n",
       "      <th>nombre_estudio_Master</th>\n",
       "      <th>nombre_estudio_Otro</th>\n",
       "      <th>nombre_estudio_Posgrado</th>\n",
       "      <th>nombre_estudio_Secundario</th>\n",
       "      <th>nombre_estudio_Terciario/Tecnico</th>\n",
       "      <th>nombre_estudio_Universitario</th>\n",
       "      <th>sexo_FEM</th>\n",
       "      <th>sexo_MASC</th>\n",
       "      <th>sexo_NO_DECLARA</th>\n",
       "      <th>tipo_full</th>\n",
       "      <th>tipo_otro</th>\n",
       "      <th>tipo_part</th>\n",
       "    </tr>\n",
       "  </thead>\n",
       "  <tbody>\n",
       "    <tr>\n",
       "      <th>0</th>\n",
       "      <td>False</td>\n",
       "      <td>False</td>\n",
       "      <td>False</td>\n",
       "      <td>False</td>\n",
       "      <td>False</td>\n",
       "      <td>True</td>\n",
       "      <td>False</td>\n",
       "      <td>False</td>\n",
       "      <td>False</td>\n",
       "      <td>False</td>\n",
       "      <td>False</td>\n",
       "      <td>False</td>\n",
       "      <td>False</td>\n",
       "      <td>False</td>\n",
       "      <td>False</td>\n",
       "      <td>False</td>\n",
       "      <td>False</td>\n",
       "      <td>False</td>\n",
       "      <td>False</td>\n",
       "      <td>False</td>\n",
       "      <td>1171</td>\n",
       "      <td>1</td>\n",
       "      <td>40</td>\n",
       "      <td>1</td>\n",
       "      <td>0</td>\n",
       "      <td>0</td>\n",
       "      <td>1112271567</td>\n",
       "      <td>0</td>\n",
       "      <td>0</td>\n",
       "      <td>0</td>\n",
       "      <td>0</td>\n",
       "      <td>1</td>\n",
       "      <td>0</td>\n",
       "      <td>0</td>\n",
       "      <td>0</td>\n",
       "      <td>0</td>\n",
       "      <td>0</td>\n",
       "      <td>0</td>\n",
       "      <td>1</td>\n",
       "      <td>1</td>\n",
       "      <td>0</td>\n",
       "      <td>0</td>\n",
       "      <td>True</td>\n",
       "      <td>False</td>\n",
       "      <td>False</td>\n",
       "    </tr>\n",
       "  </tbody>\n",
       "</table>\n",
       "</div>"
      ],
      "text/plain": [
       "   Administración  AdministracióndePersonal  Almacén/Depósito/Expedición  \\\n",
       "0           False                     False                        False   \n",
       "\n",
       "   AtenciónalCliente  CallCenter  Comercial  Contabilidad  CréditosyCobranzas  \\\n",
       "0              False       False       True         False               False   \n",
       "\n",
       "   Gastronomia  Legal  Logística  MantenimientoyLimpieza  Marketing  \\\n",
       "0        False  False      False                   False      False   \n",
       "\n",
       "   Producción  Recepcionista  RecursosHumanos  Secretaria  Telemarketing  \\\n",
       "0       False          False            False       False          False   \n",
       "\n",
       "   Tesorería  Ventas  cant_postulaciones_aviso  cant_vistas_aviso  edad  \\\n",
       "0      False   False                      1171                  1    40   \n",
       "\n",
       "   estado_estudio_Abandonado  estado_estudio_EnCurso  estado_estudio_Graduado  \\\n",
       "0                          1                       0                        0   \n",
       "\n",
       "      idaviso  nivel_laboral_Gerencia/AltaGerencia/Dirección  \\\n",
       "0  1112271567                                              0   \n",
       "\n",
       "   nivel_laboral_Jefe/Supervisor/Responsable  nivel_laboral_Junior  \\\n",
       "0                                          0                     0   \n",
       "\n",
       "   nivel_laboral_Otro  nivel_laboral_Senior/Semi-Senior  \\\n",
       "0                   0                                 1   \n",
       "\n",
       "   nombre_estudio_Doctorado  nombre_estudio_Master  nombre_estudio_Otro  \\\n",
       "0                         0                      0                    0   \n",
       "\n",
       "   nombre_estudio_Posgrado  nombre_estudio_Secundario  \\\n",
       "0                        0                          0   \n",
       "\n",
       "   nombre_estudio_Terciario/Tecnico  nombre_estudio_Universitario  sexo_FEM  \\\n",
       "0                                 0                             1         1   \n",
       "\n",
       "   sexo_MASC  sexo_NO_DECLARA  tipo_full  tipo_otro  tipo_part  \n",
       "0          0                0       True      False      False  "
      ]
     },
     "execution_count": 22,
     "metadata": {},
     "output_type": "execute_result"
    }
   ],
   "source": [
    "X_train.head(1)"
   ]
  },
  {
   "cell_type": "code",
   "execution_count": 23,
   "metadata": {},
   "outputs": [
    {
     "data": {
      "text/html": [
       "<div>\n",
       "<style scoped>\n",
       "    .dataframe tbody tr th:only-of-type {\n",
       "        vertical-align: middle;\n",
       "    }\n",
       "\n",
       "    .dataframe tbody tr th {\n",
       "        vertical-align: top;\n",
       "    }\n",
       "\n",
       "    .dataframe thead th {\n",
       "        text-align: right;\n",
       "    }\n",
       "</style>\n",
       "<table border=\"1\" class=\"dataframe\">\n",
       "  <thead>\n",
       "    <tr style=\"text-align: right;\">\n",
       "      <th></th>\n",
       "      <th>Administración</th>\n",
       "      <th>AdministracióndePersonal</th>\n",
       "      <th>Almacén/Depósito/Expedición</th>\n",
       "      <th>AtenciónalCliente</th>\n",
       "      <th>CallCenter</th>\n",
       "      <th>Comercial</th>\n",
       "      <th>Contabilidad</th>\n",
       "      <th>CréditosyCobranzas</th>\n",
       "      <th>Gastronomia</th>\n",
       "      <th>Legal</th>\n",
       "      <th>Logística</th>\n",
       "      <th>MantenimientoyLimpieza</th>\n",
       "      <th>Marketing</th>\n",
       "      <th>Producción</th>\n",
       "      <th>Recepcionista</th>\n",
       "      <th>RecursosHumanos</th>\n",
       "      <th>Secretaria</th>\n",
       "      <th>Telemarketing</th>\n",
       "      <th>Tesorería</th>\n",
       "      <th>Ventas</th>\n",
       "      <th>cant_postulaciones_aviso</th>\n",
       "      <th>cant_vistas_aviso</th>\n",
       "      <th>edad</th>\n",
       "      <th>estado_estudio_Abandonado</th>\n",
       "      <th>estado_estudio_EnCurso</th>\n",
       "      <th>estado_estudio_Graduado</th>\n",
       "      <th>idaviso</th>\n",
       "      <th>nivel_laboral_Gerencia/AltaGerencia/Dirección</th>\n",
       "      <th>nivel_laboral_Jefe/Supervisor/Responsable</th>\n",
       "      <th>nivel_laboral_Junior</th>\n",
       "      <th>nivel_laboral_Otro</th>\n",
       "      <th>nivel_laboral_Senior/Semi-Senior</th>\n",
       "      <th>nombre_estudio_Doctorado</th>\n",
       "      <th>nombre_estudio_Master</th>\n",
       "      <th>nombre_estudio_Otro</th>\n",
       "      <th>nombre_estudio_Posgrado</th>\n",
       "      <th>nombre_estudio_Secundario</th>\n",
       "      <th>nombre_estudio_Terciario/Tecnico</th>\n",
       "      <th>nombre_estudio_Universitario</th>\n",
       "      <th>sexo_FEM</th>\n",
       "      <th>sexo_MASC</th>\n",
       "      <th>sexo_NO_DECLARA</th>\n",
       "      <th>tipo_full</th>\n",
       "      <th>tipo_otro</th>\n",
       "      <th>tipo_part</th>\n",
       "    </tr>\n",
       "  </thead>\n",
       "  <tbody>\n",
       "    <tr>\n",
       "      <th>0</th>\n",
       "      <td>False</td>\n",
       "      <td>False</td>\n",
       "      <td>False</td>\n",
       "      <td>False</td>\n",
       "      <td>False</td>\n",
       "      <td>True</td>\n",
       "      <td>False</td>\n",
       "      <td>False</td>\n",
       "      <td>False</td>\n",
       "      <td>False</td>\n",
       "      <td>False</td>\n",
       "      <td>False</td>\n",
       "      <td>False</td>\n",
       "      <td>False</td>\n",
       "      <td>False</td>\n",
       "      <td>False</td>\n",
       "      <td>False</td>\n",
       "      <td>False</td>\n",
       "      <td>False</td>\n",
       "      <td>False</td>\n",
       "      <td>0</td>\n",
       "      <td>2</td>\n",
       "      <td>42</td>\n",
       "      <td>0</td>\n",
       "      <td>0</td>\n",
       "      <td>1</td>\n",
       "      <td>739260</td>\n",
       "      <td>0</td>\n",
       "      <td>1</td>\n",
       "      <td>0</td>\n",
       "      <td>0</td>\n",
       "      <td>0</td>\n",
       "      <td>1</td>\n",
       "      <td>0</td>\n",
       "      <td>0</td>\n",
       "      <td>0</td>\n",
       "      <td>0</td>\n",
       "      <td>0</td>\n",
       "      <td>0</td>\n",
       "      <td>1</td>\n",
       "      <td>0</td>\n",
       "      <td>0</td>\n",
       "      <td>True</td>\n",
       "      <td>False</td>\n",
       "      <td>False</td>\n",
       "    </tr>\n",
       "  </tbody>\n",
       "</table>\n",
       "</div>"
      ],
      "text/plain": [
       "   Administración  AdministracióndePersonal  Almacén/Depósito/Expedición  \\\n",
       "0           False                     False                        False   \n",
       "\n",
       "   AtenciónalCliente  CallCenter  Comercial  Contabilidad  CréditosyCobranzas  \\\n",
       "0              False       False       True         False               False   \n",
       "\n",
       "   Gastronomia  Legal  Logística  MantenimientoyLimpieza  Marketing  \\\n",
       "0        False  False      False                   False      False   \n",
       "\n",
       "   Producción  Recepcionista  RecursosHumanos  Secretaria  Telemarketing  \\\n",
       "0       False          False            False       False          False   \n",
       "\n",
       "   Tesorería  Ventas  cant_postulaciones_aviso  cant_vistas_aviso  edad  \\\n",
       "0      False   False                         0                  2    42   \n",
       "\n",
       "   estado_estudio_Abandonado  estado_estudio_EnCurso  estado_estudio_Graduado  \\\n",
       "0                          0                       0                        1   \n",
       "\n",
       "   idaviso  nivel_laboral_Gerencia/AltaGerencia/Dirección  \\\n",
       "0   739260                                              0   \n",
       "\n",
       "   nivel_laboral_Jefe/Supervisor/Responsable  nivel_laboral_Junior  \\\n",
       "0                                          1                     0   \n",
       "\n",
       "   nivel_laboral_Otro  nivel_laboral_Senior/Semi-Senior  \\\n",
       "0                   0                                 0   \n",
       "\n",
       "   nombre_estudio_Doctorado  nombre_estudio_Master  nombre_estudio_Otro  \\\n",
       "0                         1                      0                    0   \n",
       "\n",
       "   nombre_estudio_Posgrado  nombre_estudio_Secundario  \\\n",
       "0                        0                          0   \n",
       "\n",
       "   nombre_estudio_Terciario/Tecnico  nombre_estudio_Universitario  sexo_FEM  \\\n",
       "0                                 0                             0         1   \n",
       "\n",
       "   sexo_MASC  sexo_NO_DECLARA  tipo_full  tipo_otro  tipo_part  \n",
       "0          0                0       True      False      False  "
      ]
     },
     "execution_count": 23,
     "metadata": {},
     "output_type": "execute_result"
    }
   ],
   "source": [
    "X_test.head(1)"
   ]
  },
  {
   "cell_type": "code",
   "execution_count": 24,
   "metadata": {},
   "outputs": [
    {
     "data": {
      "text/plain": [
       "0           True\n",
       "1           True\n",
       "2          False\n",
       "3           True\n",
       "4           True\n",
       "5           True\n",
       "6          False\n",
       "7          False\n",
       "8           True\n",
       "9          False\n",
       "10         False\n",
       "11         False\n",
       "12          True\n",
       "13         False\n",
       "14         False\n",
       "15         False\n",
       "16          True\n",
       "17          True\n",
       "18          True\n",
       "19          True\n",
       "20          True\n",
       "21          True\n",
       "22         False\n",
       "23          True\n",
       "24          True\n",
       "25          True\n",
       "26          True\n",
       "27          True\n",
       "28         False\n",
       "29          True\n",
       "           ...  \n",
       "5998496     True\n",
       "5998497    False\n",
       "5998498    False\n",
       "5998499     True\n",
       "5998500     True\n",
       "5998501    False\n",
       "5998502    False\n",
       "5998503    False\n",
       "5998504     True\n",
       "5998505    False\n",
       "5998506    False\n",
       "5998507     True\n",
       "5998508    False\n",
       "5998509     True\n",
       "5998510     True\n",
       "5998511     True\n",
       "5998512    False\n",
       "5998513    False\n",
       "5998514     True\n",
       "5998515    False\n",
       "5998516     True\n",
       "5998517     True\n",
       "5998518    False\n",
       "5998519     True\n",
       "5998520    False\n",
       "5998521     True\n",
       "5998522     True\n",
       "5998523    False\n",
       "5998524    False\n",
       "5998525    False\n",
       "Name: sepostulo, Length: 5998526, dtype: bool"
      ]
     },
     "execution_count": 24,
     "metadata": {},
     "output_type": "execute_result"
    }
   ],
   "source": [
    "target['sepostulo']"
   ]
  },
  {
   "cell_type": "markdown",
   "metadata": {},
   "source": [
    "# Cross-validation"
   ]
  },
  {
   "cell_type": "code",
   "execution_count": 21,
   "metadata": {},
   "outputs": [],
   "source": [
    "from sklearn.model_selection import cross_val_score, KFold\n",
    "# seed para generar los mismos fold en cada cv\n",
    "seed = 7\n",
    "kfold = KFold(3,random_state=seed) # 3 sino tarda demasiado\n",
    "scoring = 'roc_auc'\n",
    "def cv_score(model,X,y,cv):\n",
    "    #return cross_val_score(model,X,y,n_jobs=-1,cv=cv,scoring=scoring,verbose=3).mean()\n",
    "    return cross_val_score(model,X,y,n_jobs=1,cv=cv,scoring=scoring,verbose=3).mean()"
   ]
  },
  {
   "cell_type": "markdown",
   "metadata": {},
   "source": [
    "**Standardization & normalization**"
   ]
  },
  {
   "cell_type": "code",
   "execution_count": 25,
   "metadata": {
    "collapsed": true
   },
   "outputs": [
    {
     "name": "stderr",
     "output_type": "stream",
     "text": [
      "/home/tbotalla/anaconda3/lib/python3.6/site-packages/sklearn/preprocessing/data.py:164: UserWarning: Numerical issues were encountered when centering the data and might not be solved. Dataset may contain too large values. You may need to prescale your features.\n",
      "  warnings.warn(\"Numerical issues were encountered \"\n"
     ]
    }
   ],
   "source": [
    "from sklearn.preprocessing import scale, normalize\n",
    "X_train_std = scale(X_train)\n",
    "X_test_std = scale(X_test)\n",
    "X_train_nrm = normalize(X_train)\n",
    "X_test_nrm = normalize(X_test)"
   ]
  },
  {
   "cell_type": "markdown",
   "metadata": {},
   "source": [
    "### Rankeo de algoritmos"
   ]
  },
  {
   "cell_type": "code",
   "execution_count": null,
   "metadata": {
    "scrolled": true
   },
   "outputs": [
    {
     "name": "stdout",
     "output_type": "stream",
     "text": [
      "################################ LogReg ################################\n",
      "[CV]  ................................................................\n",
      "[CV] ....................... , score=0.5102176214256832, total=  12.6s\n",
      "[CV]  ................................................................\n"
     ]
    },
    {
     "name": "stderr",
     "output_type": "stream",
     "text": [
      "[Parallel(n_jobs=1)]: Done   1 out of   1 | elapsed:   12.7s remaining:    0.0s\n"
     ]
    },
    {
     "name": "stdout",
     "output_type": "stream",
     "text": [
      "[CV] ....................... , score=0.5092362135973157, total=  11.4s\n",
      "[CV]  ................................................................\n"
     ]
    },
    {
     "name": "stderr",
     "output_type": "stream",
     "text": [
      "[Parallel(n_jobs=1)]: Done   2 out of   2 | elapsed:   24.1s remaining:    0.0s\n"
     ]
    },
    {
     "name": "stdout",
     "output_type": "stream",
     "text": [
      "[CV] ....................... , score=0.5097576417814326, total=  11.4s\n",
      "################################ KNN ################################\n",
      "[CV]  ................................................................\n"
     ]
    },
    {
     "name": "stderr",
     "output_type": "stream",
     "text": [
      "[Parallel(n_jobs=1)]: Done   3 out of   3 | elapsed:   35.6s finished\n"
     ]
    },
    {
     "name": "stdout",
     "output_type": "stream",
     "text": [
      "[CV] ........................ , score=0.870530708822408, total= 2.4min\n",
      "[CV]  ................................................................\n"
     ]
    },
    {
     "name": "stderr",
     "output_type": "stream",
     "text": [
      "[Parallel(n_jobs=1)]: Done   1 out of   1 | elapsed:  2.4min remaining:    0.0s\n"
     ]
    },
    {
     "name": "stdout",
     "output_type": "stream",
     "text": [
      "[CV] ....................... , score=0.8707942956412883, total= 2.6min\n",
      "[CV]  ................................................................\n"
     ]
    },
    {
     "name": "stderr",
     "output_type": "stream",
     "text": [
      "[Parallel(n_jobs=1)]: Done   2 out of   2 | elapsed:  5.1min remaining:    0.0s\n"
     ]
    },
    {
     "name": "stdout",
     "output_type": "stream",
     "text": [
      "[CV] ....................... , score=0.8708273298639739, total= 2.3min\n",
      "################################ LDA ################################\n",
      "[CV]  ................................................................\n"
     ]
    },
    {
     "name": "stderr",
     "output_type": "stream",
     "text": [
      "[Parallel(n_jobs=1)]: Done   3 out of   3 | elapsed:  7.4min finished\n",
      "/home/tbotalla/anaconda3/lib/python3.6/site-packages/sklearn/discriminant_analysis.py:388: UserWarning: Variables are collinear.\n",
      "  warnings.warn(\"Variables are collinear.\")\n"
     ]
    },
    {
     "name": "stdout",
     "output_type": "stream",
     "text": [
      "[CV] ........................ , score=0.631125506821072, total=  30.4s\n"
     ]
    },
    {
     "name": "stderr",
     "output_type": "stream",
     "text": [
      "[Parallel(n_jobs=1)]: Done   1 out of   1 | elapsed:   30.5s remaining:    0.0s\n"
     ]
    },
    {
     "name": "stdout",
     "output_type": "stream",
     "text": [
      "[CV]  ................................................................\n"
     ]
    },
    {
     "name": "stderr",
     "output_type": "stream",
     "text": [
      "/home/tbotalla/anaconda3/lib/python3.6/site-packages/sklearn/discriminant_analysis.py:388: UserWarning: Variables are collinear.\n",
      "  warnings.warn(\"Variables are collinear.\")\n"
     ]
    },
    {
     "name": "stdout",
     "output_type": "stream",
     "text": [
      "[CV] ....................... , score=0.6315958447076973, total=  22.3s\n",
      "[CV]  ................................................................\n"
     ]
    },
    {
     "name": "stderr",
     "output_type": "stream",
     "text": [
      "[Parallel(n_jobs=1)]: Done   2 out of   2 | elapsed:   53.1s remaining:    0.0s\n",
      "/home/tbotalla/anaconda3/lib/python3.6/site-packages/sklearn/discriminant_analysis.py:388: UserWarning: Variables are collinear.\n",
      "  warnings.warn(\"Variables are collinear.\")\n"
     ]
    },
    {
     "name": "stdout",
     "output_type": "stream",
     "text": [
      "[CV] ....................... , score=0.6310116878468522, total=  19.2s\n",
      "################################ GaussianNB ################################\n",
      "[CV]  ................................................................\n"
     ]
    },
    {
     "name": "stderr",
     "output_type": "stream",
     "text": [
      "[Parallel(n_jobs=1)]: Done   3 out of   3 | elapsed:  1.2min finished\n"
     ]
    },
    {
     "name": "stdout",
     "output_type": "stream",
     "text": [
      "[CV] ....................... , score=0.5435873373894564, total=  11.9s\n",
      "[CV]  ................................................................\n"
     ]
    },
    {
     "name": "stderr",
     "output_type": "stream",
     "text": [
      "[Parallel(n_jobs=1)]: Done   1 out of   1 | elapsed:   12.0s remaining:    0.0s\n"
     ]
    },
    {
     "name": "stdout",
     "output_type": "stream",
     "text": [
      "[CV] ....................... , score=0.5436817289961993, total=  11.9s\n",
      "[CV]  ................................................................\n"
     ]
    },
    {
     "name": "stderr",
     "output_type": "stream",
     "text": [
      "[Parallel(n_jobs=1)]: Done   2 out of   2 | elapsed:   23.9s remaining:    0.0s\n"
     ]
    },
    {
     "name": "stdout",
     "output_type": "stream",
     "text": [
      "[CV] ....................... , score=0.5442461833938491, total=  11.9s\n",
      "################################ SVC ################################\n",
      "[CV]  ................................................................\n"
     ]
    },
    {
     "name": "stderr",
     "output_type": "stream",
     "text": [
      "[Parallel(n_jobs=1)]: Done   3 out of   3 | elapsed:   35.8s finished\n"
     ]
    }
   ],
   "source": [
    "%%time\n",
    "'''from sklearn.linear_model import LinearRegression, Ridge, BayesianRidge, SGDRegressor, Lasso, LassoLars, Lars, ElasticNet, PassiveAggressiveRegressor, RANSACRegressor, HuberRegressor, OrthogonalMatchingPursuit\n",
    "from sklearn.svm import LinearSVR\n",
    "from sklearn.cross_decomposition import PLSRegression\n",
    "from sklearn.tree import DecisionTreeRegressor\n",
    "#from sklearn.neighbors import KNeighborsRegressor\n",
    "#from sklearn.kernel_ridge import KernelRidge\n",
    "#from sklearn.gaussian_process import GaussianProcessRegressor\n",
    "#from sklearn.isotonic import IsotonicRegression\n",
    "'''\n",
    "from sklearn.linear_model import LogisticRegression\n",
    "from sklearn.tree import DecisionTreeClassifier\n",
    "from sklearn.neighbors import KNeighborsClassifier\n",
    "from sklearn.discriminant_analysis import LinearDiscriminantAnalysis\n",
    "from sklearn.naive_bayes import GaussianNB\n",
    "from sklearn.svm import SVC\n",
    "\n",
    "models = []\n",
    "models.append(('DecTree',DecisionTreeClassifier()))\n",
    "models.append(('LogReg',LogisticRegression()))\n",
    "models.append(('KNN',KNeighborsClassifier()))\n",
    "models.append(('LDA',LinearDiscriminantAnalysis()))\n",
    "models.append(('GaussianNB',GaussianNB()))\n",
    "#models.append(('SVC',SVC())) # no termina\n",
    "\n",
    "\n",
    "scores = []\n",
    "for name,model in models:\n",
    "    print('################################',name,'################################')\n",
    "    score = cv_score(model, X_train, target.values.ravel(), cv=kfold)\n",
    "    '''\n",
    "    if(name in ['LR','OMP','Lars','BayRidge',]):\n",
    "        score = cv_score(model,X_train_nrm,y_target,cv=kfold)\n",
    "    else:\n",
    "        score = cv_score(model,X_train_std,y_target,cv=kfold)\n",
    "    '''    \n",
    "    scores.append((name,score))"
   ]
  },
  {
   "cell_type": "markdown",
   "metadata": {},
   "source": [
    "**El que mejor score da es KNN**"
   ]
  },
  {
   "cell_type": "code",
   "execution_count": 25,
   "metadata": {},
   "outputs": [],
   "source": [
    "def predict(model,X_train,X_test,y):\n",
    "    model.fit(X_train,y.values.ravel())\n",
    "    return model.predict(X_test)\n",
    "\n",
    "def pred_to_csv(prediction,name):\n",
    "    test = pd.read_csv('test_.csv')\n",
    "    df = pd.DataFrame(prediction,columns={'sepostulo'})\n",
    "    df['id'] = test.id\n",
    "    df = df.loc[:,['id','sepostulo']]\n",
    "    df.sepostulo = df.sepostulo.astype(int)\n",
    "    df.to_csv('pred_' + name + '.csv',index=False)"
   ]
  },
  {
   "cell_type": "code",
   "execution_count": 57,
   "metadata": {},
   "outputs": [
    {
     "name": "stderr",
     "output_type": "stream",
     "text": [
      "/home/tbotalla/anaconda3/lib/python3.6/site-packages/sklearn/linear_model/stochastic_gradient.py:128: FutureWarning: max_iter and tol parameters have been added in <class 'sklearn.linear_model.stochastic_gradient.SGDClassifier'> in 0.19. If both are left unset, they default to max_iter=5 and tol=None. If tol is not None, max_iter defaults to max_iter=1000. From 0.21, default max_iter will be 1000, and default tol will be 1e-3.\n",
      "  \"and default tol will be 1e-3.\" % type(self), FutureWarning)\n"
     ]
    }
   ],
   "source": [
    "from sklearn.linear_model import SGDClassifier\n",
    "\n",
    "pred = predict(SGDClassifier(), X_train, X_test, target)\n",
    "pred_to_csv(pred,'SGD')"
   ]
  },
  {
   "cell_type": "code",
   "execution_count": null,
   "metadata": {},
   "outputs": [],
   "source": [
    "from sklearn.tree import DecisionTreeClassifier\n",
    "\n",
    "pred = predict(DecisionTreeClassifier(), X_train, X_test, target)\n",
    "pred_to_csv(pred,'DecisionTreeClassifier') # 0.7 score en kaggle"
   ]
  },
  {
   "cell_type": "code",
   "execution_count": 26,
   "metadata": {},
   "outputs": [],
   "source": [
    "from sklearn.neighbors import KNeighborsClassifier\n",
    "\n",
    "pred = predict(KNeighborsClassifier(), X_train, X_test, target)\n",
    "pred_to_csv(pred,'KNeighborsClassifier') # 0.76 score en kaggle"
   ]
  },
  {
   "cell_type": "code",
   "execution_count": null,
   "metadata": {},
   "outputs": [],
   "source": []
  },
  {
   "cell_type": "code",
   "execution_count": null,
   "metadata": {},
   "outputs": [],
   "source": []
  },
  {
   "cell_type": "code",
   "execution_count": null,
   "metadata": {},
   "outputs": [],
   "source": []
  },
  {
   "cell_type": "code",
   "execution_count": null,
   "metadata": {},
   "outputs": [],
   "source": []
  },
  {
   "cell_type": "code",
   "execution_count": null,
   "metadata": {},
   "outputs": [],
   "source": []
  }
 ],
 "metadata": {
  "kernelspec": {
   "display_name": "Python 3",
   "language": "python",
   "name": "python3"
  },
  "language_info": {
   "codemirror_mode": {
    "name": "ipython",
    "version": 3
   },
   "file_extension": ".py",
   "mimetype": "text/x-python",
   "name": "python",
   "nbconvert_exporter": "python",
   "pygments_lexer": "ipython3",
   "version": "3.6.4"
  }
 },
 "nbformat": 4,
 "nbformat_minor": 2
}
