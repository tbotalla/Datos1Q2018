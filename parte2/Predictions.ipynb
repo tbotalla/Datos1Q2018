{
 "cells": [
  {
   "cell_type": "code",
   "execution_count": 2,
   "metadata": {},
   "outputs": [],
   "source": [
    "import numpy as np \n",
    "import pandas as pd\n",
    "import datetime\n",
    "import calendar\n",
    "import matplotlib.pyplot as plt\n",
    "import seaborn as sns\n",
    "\n",
    "plt.style.use('fivethirtyeight')\n",
    "pd.set_option('display.max_columns', None)\n",
    "%matplotlib inline"
   ]
  },
  {
   "cell_type": "code",
   "execution_count": 3,
   "metadata": {},
   "outputs": [],
   "source": [
    "X_train = pd.read_csv('../data/X_train.csv', sep=',', encoding='utf-8')\n",
    "target = pd.read_csv('../data/target.csv', sep=',', encoding='utf-8')\n",
    "X_test = pd.read_csv('../data/X_test.csv', sep=',', encoding='utf-8')"
   ]
  },
  {
   "cell_type": "code",
   "execution_count": 61,
   "metadata": {},
   "outputs": [
    {
     "name": "stdout",
     "output_type": "stream",
     "text": [
      "train shape: (12815883, 13) | target shape: (12815883, 1)\n",
      "test shape: (104530, 14)\n"
     ]
    }
   ],
   "source": [
    "print('train shape:', X_train.shape,'| target shape:', target.shape)\n",
    "print('test shape:', X_test.shape)"
   ]
  },
  {
   "cell_type": "raw",
   "metadata": {},
   "source": [
    "Separamos la columna id para entrenar"
   ]
  },
  {
   "cell_type": "code",
   "execution_count": 4,
   "metadata": {},
   "outputs": [
    {
     "data": {
      "text/plain": [
       "False"
      ]
     },
     "execution_count": 4,
     "metadata": {},
     "output_type": "execute_result"
    }
   ],
   "source": [
    "X_test.duplicated('id').any()"
   ]
  },
  {
   "cell_type": "code",
   "execution_count": 5,
   "metadata": {},
   "outputs": [],
   "source": [
    "ids = X_test[['id']]\n",
    "X_test.drop('id', axis=1, inplace=True)"
   ]
  },
  {
   "cell_type": "code",
   "execution_count": 6,
   "metadata": {},
   "outputs": [],
   "source": [
    "ids.to_csv('test_.csv', sep=',', encoding='utf-8')"
   ]
  },
  {
   "cell_type": "code",
   "execution_count": 7,
   "metadata": {},
   "outputs": [
    {
     "data": {
      "text/plain": [
       "(100000, 13)"
      ]
     },
     "execution_count": 7,
     "metadata": {},
     "output_type": "execute_result"
    }
   ],
   "source": [
    "X_test.shape"
   ]
  },
  {
   "cell_type": "code",
   "execution_count": 8,
   "metadata": {},
   "outputs": [
    {
     "name": "stdout",
     "output_type": "stream",
     "text": [
      "6497662\n",
      "6318221\n"
     ]
    }
   ],
   "source": [
    "print(len(target[target['postulado'] == False]))\n",
    "print(len(target[target['postulado'] == True]))"
   ]
  },
  {
   "cell_type": "code",
   "execution_count": null,
   "metadata": {},
   "outputs": [],
   "source": []
  },
  {
   "cell_type": "code",
   "execution_count": null,
   "metadata": {},
   "outputs": [],
   "source": []
  },
  {
   "cell_type": "markdown",
   "metadata": {},
   "source": [
    "## TEMPORAL: se eliminan las columnas con los arrays, decidir que hacer con este dato"
   ]
  },
  {
   "cell_type": "code",
   "execution_count": 9,
   "metadata": {},
   "outputs": [],
   "source": [
    "X_train.drop(columns=['descripcion', 'titulo'], inplace=True)\n",
    "X_test.drop(columns=['descripcion', 'titulo'], inplace=True)"
   ]
  },
  {
   "cell_type": "code",
   "execution_count": 20,
   "metadata": {},
   "outputs": [],
   "source": [
    "from sklearn import preprocessing\n",
    "label_encoder = preprocessing.LabelEncoder()"
   ]
  },
  {
   "cell_type": "code",
   "execution_count": 21,
   "metadata": {},
   "outputs": [
    {
     "data": {
      "text/html": [
       "<div>\n",
       "<style scoped>\n",
       "    .dataframe tbody tr th:only-of-type {\n",
       "        vertical-align: middle;\n",
       "    }\n",
       "\n",
       "    .dataframe tbody tr th {\n",
       "        vertical-align: top;\n",
       "    }\n",
       "\n",
       "    .dataframe thead th {\n",
       "        text-align: right;\n",
       "    }\n",
       "</style>\n",
       "<table border=\"1\" class=\"dataframe\">\n",
       "  <thead>\n",
       "    <tr style=\"text-align: right;\">\n",
       "      <th></th>\n",
       "      <th>edad</th>\n",
       "      <th>estado_estudio</th>\n",
       "      <th>idaviso</th>\n",
       "      <th>idpostulante</th>\n",
       "      <th>nivel_laboral</th>\n",
       "      <th>nombre_area</th>\n",
       "      <th>nombre_estudio</th>\n",
       "      <th>sexo</th>\n",
       "      <th>tipo_full</th>\n",
       "      <th>tipo_otro</th>\n",
       "      <th>tipo_part</th>\n",
       "    </tr>\n",
       "  </thead>\n",
       "  <tbody>\n",
       "    <tr>\n",
       "      <th>0</th>\n",
       "      <td>32</td>\n",
       "      <td>3</td>\n",
       "      <td>12543760</td>\n",
       "      <td>ek43a69</td>\n",
       "      <td>Senior / Semi-Senior</td>\n",
       "      <td>Diseño Gráfico</td>\n",
       "      <td>4</td>\n",
       "      <td>FEM</td>\n",
       "      <td>True</td>\n",
       "      <td>False</td>\n",
       "      <td>False</td>\n",
       "    </tr>\n",
       "  </tbody>\n",
       "</table>\n",
       "</div>"
      ],
      "text/plain": [
       "   edad  estado_estudio   idaviso idpostulante         nivel_laboral  \\\n",
       "0    32               3  12543760      ek43a69  Senior / Semi-Senior   \n",
       "\n",
       "      nombre_area  nombre_estudio sexo  tipo_full  tipo_otro  tipo_part  \n",
       "0  Diseño Gráfico               4  FEM       True      False      False  "
      ]
     },
     "execution_count": 21,
     "metadata": {},
     "output_type": "execute_result"
    }
   ],
   "source": [
    "X_train.head(1)"
   ]
  },
  {
   "cell_type": "code",
   "execution_count": null,
   "metadata": {},
   "outputs": [],
   "source": [
    "# TODO!\n",
    "#print('train: ',label_encoder.fit(X_train.nivel_laboral).classes_,'->',np.unique(label_encoder.transform(X_train.nivel_laboral)))\n",
    "#X_train.nivel_laboral = label_encoder.fit_transform(X_train.nivel_laboral)\n",
    "#print('test:  ',label_encoder.fit(X_test.nivel_laboral).classes_,'->',np.unique(label_encoder.transform(X_test.nivel_laboral)))\n",
    "#X_test.nivel_laboral = label_encoder.fit_transform(X_test.nivel_laboral)"
   ]
  },
  {
   "cell_type": "code",
   "execution_count": null,
   "metadata": {},
   "outputs": [],
   "source": []
  },
  {
   "cell_type": "code",
   "execution_count": 10,
   "metadata": {},
   "outputs": [],
   "source": [
    "# Solo para probar un submit elimino las columnas que no son numericas/booleanas\n",
    "X_train.drop(columns=['nivel_laboral', 'nombre_area', 'sexo'], inplace=True)\n",
    "X_test.drop(columns=['nivel_laboral', 'nombre_area', 'sexo'], inplace=True)"
   ]
  },
  {
   "cell_type": "code",
   "execution_count": 11,
   "metadata": {},
   "outputs": [],
   "source": [
    "X_train.drop(columns=['idpostulante'], inplace=True)\n",
    "X_test.drop(columns=['idpostulante'], inplace=True)"
   ]
  },
  {
   "cell_type": "code",
   "execution_count": 12,
   "metadata": {},
   "outputs": [
    {
     "name": "stdout",
     "output_type": "stream",
     "text": [
      "False\n",
      "True\n"
     ]
    }
   ],
   "source": [
    "print(X_train.isnull().values.any())\n",
    "print(X_test.isnull().values.any())"
   ]
  },
  {
   "cell_type": "code",
   "execution_count": 40,
   "metadata": {},
   "outputs": [
    {
     "data": {
      "text/html": [
       "<div>\n",
       "<style scoped>\n",
       "    .dataframe tbody tr th:only-of-type {\n",
       "        vertical-align: middle;\n",
       "    }\n",
       "\n",
       "    .dataframe tbody tr th {\n",
       "        vertical-align: top;\n",
       "    }\n",
       "\n",
       "    .dataframe thead th {\n",
       "        text-align: right;\n",
       "    }\n",
       "</style>\n",
       "<table border=\"1\" class=\"dataframe\">\n",
       "  <thead>\n",
       "    <tr style=\"text-align: right;\">\n",
       "      <th></th>\n",
       "      <th>idaviso</th>\n",
       "      <th>nombre_estudio</th>\n",
       "      <th>estado_estudio</th>\n",
       "      <th>edad</th>\n",
       "      <th>tipo_full</th>\n",
       "      <th>tipo_part</th>\n",
       "      <th>tipo_otro</th>\n",
       "    </tr>\n",
       "  </thead>\n",
       "  <tbody>\n",
       "    <tr>\n",
       "      <th>0</th>\n",
       "      <td>739260</td>\n",
       "      <td>7.0</td>\n",
       "      <td>3.0</td>\n",
       "      <td>42.0</td>\n",
       "      <td>True</td>\n",
       "      <td>False</td>\n",
       "      <td>False</td>\n",
       "    </tr>\n",
       "  </tbody>\n",
       "</table>\n",
       "</div>"
      ],
      "text/plain": [
       "   idaviso  nombre_estudio  estado_estudio  edad  tipo_full  tipo_part  \\\n",
       "0   739260             7.0             3.0  42.0       True      False   \n",
       "\n",
       "   tipo_otro  \n",
       "0      False  "
      ]
     },
     "execution_count": 40,
     "metadata": {},
     "output_type": "execute_result"
    }
   ],
   "source": [
    "X_test.head(1)"
   ]
  },
  {
   "cell_type": "code",
   "execution_count": 13,
   "metadata": {},
   "outputs": [
    {
     "data": {
      "text/plain": [
       "True"
      ]
     },
     "execution_count": 13,
     "metadata": {},
     "output_type": "execute_result"
    }
   ],
   "source": [
    "X_test['edad'].isnull().any()"
   ]
  },
  {
   "cell_type": "code",
   "execution_count": null,
   "metadata": {},
   "outputs": [],
   "source": [
    "X_test"
   ]
  },
  {
   "cell_type": "code",
   "execution_count": 14,
   "metadata": {},
   "outputs": [],
   "source": [
    "moda_nombre_estudio = X_test.nombre_estudio.mode()[0]\n",
    "moda_estado_estudio = X_test.estado_estudio.mode()[0]\n",
    "media_edad = X_test.edad.mode()[0]\n",
    "X_test.nombre_estudio.fillna(moda_nombre_estudio,inplace=True)\n",
    "X_test.estado_estudio.fillna(moda_estado_estudio,inplace=True)\n",
    "X_test.edad.fillna(media_edad,inplace=True)"
   ]
  },
  {
   "cell_type": "code",
   "execution_count": null,
   "metadata": {},
   "outputs": [],
   "source": []
  },
  {
   "cell_type": "code",
   "execution_count": null,
   "metadata": {},
   "outputs": [],
   "source": []
  },
  {
   "cell_type": "code",
   "execution_count": 18,
   "metadata": {},
   "outputs": [],
   "source": [
    "from sklearn import tree\n",
    "from sklearn.linear_model import SGDClassifier"
   ]
  },
  {
   "cell_type": "code",
   "execution_count": 19,
   "metadata": {},
   "outputs": [],
   "source": [
    "def predict(model,X_train,X_test,y):\n",
    "    model.fit(X_train,y)\n",
    "    return model.predict(X_test)\n",
    "\n",
    "def pred_to_csv(prediction,name):\n",
    "    test = pd.read_csv('test_.csv')\n",
    "    df = pd.DataFrame(prediction,columns={'sepostulo'})\n",
    "    df['id'] = test.id\n",
    "    df = df.loc[:,['id','sepostulo']]\n",
    "    df.sepostulo = df.sepostulo.astype(int)\n",
    "    df.to_csv('pred_'+name+'.csv',index=False)"
   ]
  },
  {
   "cell_type": "code",
   "execution_count": 20,
   "metadata": {
    "collapsed": true
   },
   "outputs": [],
   "source": [
    "def predict(model,X_train,X_test,y):\n",
    "    model.fit(X_train,y)\n",
    "    return model.predict(X_test)"
   ]
  },
  {
   "cell_type": "code",
   "execution_count": 21,
   "metadata": {},
   "outputs": [
    {
     "name": "stderr",
     "output_type": "stream",
     "text": [
      "/home/tbotalla/anaconda3/lib/python3.6/site-packages/sklearn/linear_model/stochastic_gradient.py:128: FutureWarning: max_iter and tol parameters have been added in <class 'sklearn.linear_model.stochastic_gradient.SGDClassifier'> in 0.19. If both are left unset, they default to max_iter=5 and tol=None. If tol is not None, max_iter defaults to max_iter=1000. From 0.21, default max_iter will be 1000, and default tol will be 1e-3.\n",
      "  \"and default tol will be 1e-3.\" % type(self), FutureWarning)\n",
      "/home/tbotalla/anaconda3/lib/python3.6/site-packages/sklearn/utils/validation.py:578: DataConversionWarning: A column-vector y was passed when a 1d array was expected. Please change the shape of y to (n_samples, ), for example using ravel().\n",
      "  y = column_or_1d(y, warn=True)\n"
     ]
    }
   ],
   "source": [
    "pred = predict(SGDClassifier(),X_train,X_test,target)\n",
    "pred_to_csv(pred,'SGD')"
   ]
  },
  {
   "cell_type": "code",
   "execution_count": null,
   "metadata": {},
   "outputs": [],
   "source": []
  },
  {
   "cell_type": "code",
   "execution_count": null,
   "metadata": {},
   "outputs": [],
   "source": []
  },
  {
   "cell_type": "code",
   "execution_count": null,
   "metadata": {},
   "outputs": [],
   "source": []
  },
  {
   "cell_type": "code",
   "execution_count": null,
   "metadata": {},
   "outputs": [],
   "source": []
  },
  {
   "cell_type": "code",
   "execution_count": null,
   "metadata": {},
   "outputs": [],
   "source": []
  },
  {
   "cell_type": "code",
   "execution_count": null,
   "metadata": {},
   "outputs": [],
   "source": []
  },
  {
   "cell_type": "code",
   "execution_count": null,
   "metadata": {},
   "outputs": [],
   "source": []
  },
  {
   "cell_type": "code",
   "execution_count": 8,
   "metadata": {},
   "outputs": [],
   "source": [
    "from sklearn.model_selection import cross_val_score, KFold\n",
    "# seed para generar los mismos fold en cada cv\n",
    "seed = 7\n",
    "kfold = KFold(10,random_state=seed)\n",
    "scoring = 'neg_mean_squared_error'\n",
    "#scoring = 'jaccard_similarity_score'\n",
    "def cv_score(model,X,y,cv):\n",
    "#    MSE_score = cross_val_score(model,X,y,n_jobs=-1,cv=cv,scoring='neg_mean_squared_error').mean()\n",
    "    return cross_val_score(model,X,y,n_jobs=-1,cv=cv,scoring=scoring,verbose=3).mean()\n",
    "#    print('params:\\n',model.get_params())\n",
    "#    print('MSE score:\\n',MSE_score)"
   ]
  },
  {
   "cell_type": "code",
   "execution_count": null,
   "metadata": {},
   "outputs": [],
   "source": [
    "from sklearn.preprocessing import scale, normalize\n",
    "X_train_std = scale(X_train)\n",
    "X_test_std = scale(X_test)\n",
    "#X_train_nrm = normalize(X_train)\n",
    "#X_test_nrm = normalize(X_test)"
   ]
  },
  {
   "cell_type": "code",
   "execution_count": null,
   "metadata": {},
   "outputs": [
    {
     "name": "stdout",
     "output_type": "stream",
     "text": [
      "################################ DecTree ################################\n"
     ]
    }
   ],
   "source": [
    "%%time\n",
    "models = []\n",
    "models.append(('DecTree',tree.DecisionTreeClassifier()))\n",
    "scores = []\n",
    "for name,model in models:\n",
    "    print('################################',name,'################################')\n",
    "    score = cv_score(model,X_train,target,cv=kfold)\n",
    "    scores.append((name,score))"
   ]
  }
 ],
 "metadata": {
  "kernelspec": {
   "display_name": "Python 3",
   "language": "python",
   "name": "python3"
  },
  "language_info": {
   "codemirror_mode": {
    "name": "ipython",
    "version": 3
   },
   "file_extension": ".py",
   "mimetype": "text/x-python",
   "name": "python",
   "nbconvert_exporter": "python",
   "pygments_lexer": "ipython3",
   "version": "3.6.4"
  }
 },
 "nbformat": 4,
 "nbformat_minor": 2
}
