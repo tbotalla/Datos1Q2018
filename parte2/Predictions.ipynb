{
 "cells": [
  {
   "cell_type": "code",
   "execution_count": 1,
   "metadata": {},
   "outputs": [],
   "source": [
    "import numpy as np \n",
    "import pandas as pd\n",
    "import datetime\n",
    "import calendar\n",
    "import matplotlib.pyplot as plt\n",
    "import seaborn as sns\n",
    "\n",
    "plt.style.use('fivethirtyeight')\n",
    "pd.set_option('display.max_columns', None)\n",
    "%matplotlib inline"
   ]
  },
  {
   "cell_type": "code",
   "execution_count": 2,
   "metadata": {},
   "outputs": [],
   "source": [
    "X_train = pd.read_csv('../data/X_train.csv', sep=',', encoding='utf-8')\n",
    "target = pd.read_csv('../data/target.csv', sep=',', encoding='utf-8')\n",
    "X_test = pd.read_csv('../data/X_test.csv', sep=',', encoding='utf-8')"
   ]
  },
  {
   "cell_type": "code",
   "execution_count": 3,
   "metadata": {},
   "outputs": [
    {
     "name": "stdout",
     "output_type": "stream",
     "text": [
      "train shape: (5998506, 47) | target shape: (5998506, 1)\n",
      "test shape: (100000, 48)\n"
     ]
    }
   ],
   "source": [
    "print('train shape:', X_train.shape,'| target shape:', target.shape)\n",
    "print('test shape:', X_test.shape)"
   ]
  },
  {
   "cell_type": "raw",
   "metadata": {},
   "source": [
    "Separamos la columna id para entrenar"
   ]
  },
  {
   "cell_type": "code",
   "execution_count": 4,
   "metadata": {},
   "outputs": [
    {
     "data": {
      "text/plain": [
       "False"
      ]
     },
     "execution_count": 4,
     "metadata": {},
     "output_type": "execute_result"
    }
   ],
   "source": [
    "X_test.duplicated('id').any()"
   ]
  },
  {
   "cell_type": "code",
   "execution_count": 5,
   "metadata": {},
   "outputs": [],
   "source": [
    "ids = X_test[['id']]\n",
    "X_test.drop('id', axis=1, inplace=True)"
   ]
  },
  {
   "cell_type": "code",
   "execution_count": 6,
   "metadata": {},
   "outputs": [
    {
     "name": "stdout",
     "output_type": "stream",
     "text": [
      "train shape: (5998506, 47) | target shape: (5998506, 1)\n",
      "test shape: (100000, 47)\n"
     ]
    }
   ],
   "source": [
    "print('train shape:', X_train.shape,'| target shape:', target.shape)\n",
    "print('test shape:', X_test.shape)"
   ]
  },
  {
   "cell_type": "code",
   "execution_count": 7,
   "metadata": {},
   "outputs": [],
   "source": [
    "ids.to_csv('test_.csv', sep=',', encoding='utf-8')"
   ]
  },
  {
   "cell_type": "code",
   "execution_count": 8,
   "metadata": {},
   "outputs": [
    {
     "data": {
      "text/plain": [
       "(100000, 47)"
      ]
     },
     "execution_count": 8,
     "metadata": {},
     "output_type": "execute_result"
    }
   ],
   "source": [
    "X_test.shape"
   ]
  },
  {
   "cell_type": "code",
   "execution_count": 9,
   "metadata": {},
   "outputs": [
    {
     "name": "stdout",
     "output_type": "stream",
     "text": [
      "2998772\n",
      "2999734\n"
     ]
    }
   ],
   "source": [
    "print(len(target[target['sepostulo'] == False]))\n",
    "print(len(target[target['sepostulo'] == True]))"
   ]
  },
  {
   "cell_type": "code",
   "execution_count": 10,
   "metadata": {},
   "outputs": [
    {
     "data": {
      "text/html": [
       "<div>\n",
       "<style scoped>\n",
       "    .dataframe tbody tr th:only-of-type {\n",
       "        vertical-align: middle;\n",
       "    }\n",
       "\n",
       "    .dataframe tbody tr th {\n",
       "        vertical-align: top;\n",
       "    }\n",
       "\n",
       "    .dataframe thead th {\n",
       "        text-align: right;\n",
       "    }\n",
       "</style>\n",
       "<table border=\"1\" class=\"dataframe\">\n",
       "  <thead>\n",
       "    <tr style=\"text-align: right;\">\n",
       "      <th></th>\n",
       "      <th>Administración</th>\n",
       "      <th>AdministracióndePersonal</th>\n",
       "      <th>Almacén/Depósito/Expedición</th>\n",
       "      <th>AtenciónalCliente</th>\n",
       "      <th>CallCenter</th>\n",
       "      <th>Comercial</th>\n",
       "      <th>Contabilidad</th>\n",
       "      <th>CréditosyCobranzas</th>\n",
       "      <th>Gastronomia</th>\n",
       "      <th>Legal</th>\n",
       "      <th>Logística</th>\n",
       "      <th>MantenimientoyLimpieza</th>\n",
       "      <th>Marketing</th>\n",
       "      <th>Producción</th>\n",
       "      <th>Recepcionista</th>\n",
       "      <th>RecursosHumanos</th>\n",
       "      <th>Secretaria</th>\n",
       "      <th>Telemarketing</th>\n",
       "      <th>Tesorería</th>\n",
       "      <th>Ventas</th>\n",
       "      <th>descripcion</th>\n",
       "      <th>edad</th>\n",
       "      <th>estado_estudio_Abandonado</th>\n",
       "      <th>estado_estudio_EnCurso</th>\n",
       "      <th>estado_estudio_Graduado</th>\n",
       "      <th>idaviso</th>\n",
       "      <th>idpostulante</th>\n",
       "      <th>nivel_laboral_Gerencia/AltaGerencia/Dirección</th>\n",
       "      <th>nivel_laboral_Jefe/Supervisor/Responsable</th>\n",
       "      <th>nivel_laboral_Junior</th>\n",
       "      <th>nivel_laboral_Otro</th>\n",
       "      <th>nivel_laboral_Senior/Semi-Senior</th>\n",
       "      <th>nombre_area</th>\n",
       "      <th>nombre_estudio_Doctorado</th>\n",
       "      <th>nombre_estudio_Master</th>\n",
       "      <th>nombre_estudio_Otro</th>\n",
       "      <th>nombre_estudio_Posgrado</th>\n",
       "      <th>nombre_estudio_Secundario</th>\n",
       "      <th>nombre_estudio_Terciario/Tecnico</th>\n",
       "      <th>nombre_estudio_Universitario</th>\n",
       "      <th>sexo_FEM</th>\n",
       "      <th>sexo_MASC</th>\n",
       "      <th>sexo_NO_DECLARA</th>\n",
       "      <th>tipo_full</th>\n",
       "      <th>tipo_otro</th>\n",
       "      <th>tipo_part</th>\n",
       "      <th>titulo</th>\n",
       "    </tr>\n",
       "  </thead>\n",
       "  <tbody>\n",
       "    <tr>\n",
       "      <th>0</th>\n",
       "      <td>False</td>\n",
       "      <td>False</td>\n",
       "      <td>False</td>\n",
       "      <td>False</td>\n",
       "      <td>False</td>\n",
       "      <td>False</td>\n",
       "      <td>False</td>\n",
       "      <td>False</td>\n",
       "      <td>False</td>\n",
       "      <td>False</td>\n",
       "      <td>False</td>\n",
       "      <td>False</td>\n",
       "      <td>False</td>\n",
       "      <td>False</td>\n",
       "      <td>False</td>\n",
       "      <td>False</td>\n",
       "      <td>False</td>\n",
       "      <td>False</td>\n",
       "      <td>False</td>\n",
       "      <td>True</td>\n",
       "      <td>[('caba', 2), ('importante', 1), ('cadena', 1)...</td>\n",
       "      <td>27</td>\n",
       "      <td>0</td>\n",
       "      <td>0</td>\n",
       "      <td>1</td>\n",
       "      <td>1112418025</td>\n",
       "      <td>6r5vxAM</td>\n",
       "      <td>0</td>\n",
       "      <td>0</td>\n",
       "      <td>0</td>\n",
       "      <td>0</td>\n",
       "      <td>1</td>\n",
       "      <td>Ventas</td>\n",
       "      <td>0</td>\n",
       "      <td>0</td>\n",
       "      <td>0</td>\n",
       "      <td>0</td>\n",
       "      <td>0</td>\n",
       "      <td>0</td>\n",
       "      <td>1</td>\n",
       "      <td>1</td>\n",
       "      <td>0</td>\n",
       "      <td>0</td>\n",
       "      <td>True</td>\n",
       "      <td>False</td>\n",
       "      <td>False</td>\n",
       "      <td>['j', 'cajeros', 'zona', 'caba']</td>\n",
       "    </tr>\n",
       "  </tbody>\n",
       "</table>\n",
       "</div>"
      ],
      "text/plain": [
       "   Administración  AdministracióndePersonal  Almacén/Depósito/Expedición  \\\n",
       "0           False                     False                        False   \n",
       "\n",
       "   AtenciónalCliente  CallCenter  Comercial  Contabilidad  CréditosyCobranzas  \\\n",
       "0              False       False      False         False               False   \n",
       "\n",
       "   Gastronomia  Legal  Logística  MantenimientoyLimpieza  Marketing  \\\n",
       "0        False  False      False                   False      False   \n",
       "\n",
       "   Producción  Recepcionista  RecursosHumanos  Secretaria  Telemarketing  \\\n",
       "0       False          False            False       False          False   \n",
       "\n",
       "   Tesorería  Ventas                                        descripcion  edad  \\\n",
       "0      False    True  [('caba', 2), ('importante', 1), ('cadena', 1)...    27   \n",
       "\n",
       "   estado_estudio_Abandonado  estado_estudio_EnCurso  estado_estudio_Graduado  \\\n",
       "0                          0                       0                        1   \n",
       "\n",
       "      idaviso idpostulante  nivel_laboral_Gerencia/AltaGerencia/Dirección  \\\n",
       "0  1112418025      6r5vxAM                                              0   \n",
       "\n",
       "   nivel_laboral_Jefe/Supervisor/Responsable  nivel_laboral_Junior  \\\n",
       "0                                          0                     0   \n",
       "\n",
       "   nivel_laboral_Otro  nivel_laboral_Senior/Semi-Senior nombre_area  \\\n",
       "0                   0                                 1      Ventas   \n",
       "\n",
       "   nombre_estudio_Doctorado  nombre_estudio_Master  nombre_estudio_Otro  \\\n",
       "0                         0                      0                    0   \n",
       "\n",
       "   nombre_estudio_Posgrado  nombre_estudio_Secundario  \\\n",
       "0                        0                          0   \n",
       "\n",
       "   nombre_estudio_Terciario/Tecnico  nombre_estudio_Universitario  sexo_FEM  \\\n",
       "0                                 0                             1         1   \n",
       "\n",
       "   sexo_MASC  sexo_NO_DECLARA  tipo_full  tipo_otro  tipo_part  \\\n",
       "0          0                0       True      False      False   \n",
       "\n",
       "                             titulo  \n",
       "0  ['j', 'cajeros', 'zona', 'caba']  "
      ]
     },
     "execution_count": 10,
     "metadata": {},
     "output_type": "execute_result"
    }
   ],
   "source": [
    "X_train.head(1)"
   ]
  },
  {
   "cell_type": "code",
   "execution_count": 11,
   "metadata": {},
   "outputs": [
    {
     "data": {
      "text/html": [
       "<div>\n",
       "<style scoped>\n",
       "    .dataframe tbody tr th:only-of-type {\n",
       "        vertical-align: middle;\n",
       "    }\n",
       "\n",
       "    .dataframe tbody tr th {\n",
       "        vertical-align: top;\n",
       "    }\n",
       "\n",
       "    .dataframe thead th {\n",
       "        text-align: right;\n",
       "    }\n",
       "</style>\n",
       "<table border=\"1\" class=\"dataframe\">\n",
       "  <thead>\n",
       "    <tr style=\"text-align: right;\">\n",
       "      <th></th>\n",
       "      <th>idaviso</th>\n",
       "      <th>idpostulante</th>\n",
       "      <th>edad</th>\n",
       "      <th>nombre_estudio_Doctorado</th>\n",
       "      <th>nombre_estudio_Master</th>\n",
       "      <th>nombre_estudio_Otro</th>\n",
       "      <th>nombre_estudio_Posgrado</th>\n",
       "      <th>nombre_estudio_Secundario</th>\n",
       "      <th>nombre_estudio_Terciario/Tecnico</th>\n",
       "      <th>nombre_estudio_Universitario</th>\n",
       "      <th>estado_estudio_Abandonado</th>\n",
       "      <th>estado_estudio_EnCurso</th>\n",
       "      <th>estado_estudio_Graduado</th>\n",
       "      <th>sexo_FEM</th>\n",
       "      <th>sexo_MASC</th>\n",
       "      <th>sexo_NO_DECLARA</th>\n",
       "      <th>titulo</th>\n",
       "      <th>descripcion</th>\n",
       "      <th>nombre_area</th>\n",
       "      <th>tipo_full</th>\n",
       "      <th>tipo_part</th>\n",
       "      <th>tipo_otro</th>\n",
       "      <th>nivel_laboral_Gerencia/AltaGerencia/Dirección</th>\n",
       "      <th>nivel_laboral_Jefe/Supervisor/Responsable</th>\n",
       "      <th>nivel_laboral_Junior</th>\n",
       "      <th>nivel_laboral_Otro</th>\n",
       "      <th>nivel_laboral_Senior/Semi-Senior</th>\n",
       "      <th>Ventas</th>\n",
       "      <th>Administración</th>\n",
       "      <th>Producción</th>\n",
       "      <th>Comercial</th>\n",
       "      <th>AtenciónalCliente</th>\n",
       "      <th>Recepcionista</th>\n",
       "      <th>CallCenter</th>\n",
       "      <th>Tesorería</th>\n",
       "      <th>Telemarketing</th>\n",
       "      <th>MantenimientoyLimpieza</th>\n",
       "      <th>Almacén/Depósito/Expedición</th>\n",
       "      <th>Contabilidad</th>\n",
       "      <th>RecursosHumanos</th>\n",
       "      <th>Gastronomia</th>\n",
       "      <th>Logística</th>\n",
       "      <th>Secretaria</th>\n",
       "      <th>AdministracióndePersonal</th>\n",
       "      <th>CréditosyCobranzas</th>\n",
       "      <th>Marketing</th>\n",
       "      <th>Legal</th>\n",
       "    </tr>\n",
       "  </thead>\n",
       "  <tbody>\n",
       "    <tr>\n",
       "      <th>0</th>\n",
       "      <td>739260</td>\n",
       "      <td>6M9ZQR</td>\n",
       "      <td>42</td>\n",
       "      <td>1</td>\n",
       "      <td>0</td>\n",
       "      <td>0</td>\n",
       "      <td>0</td>\n",
       "      <td>0</td>\n",
       "      <td>0</td>\n",
       "      <td>0</td>\n",
       "      <td>0</td>\n",
       "      <td>0</td>\n",
       "      <td>1</td>\n",
       "      <td>1</td>\n",
       "      <td>0</td>\n",
       "      <td>0</td>\n",
       "      <td>['asistente', 'comercial']</td>\n",
       "      <td>[('p', 2), ('cliente', 1), ('empresa', 1), ('n...</td>\n",
       "      <td>Comercial</td>\n",
       "      <td>True</td>\n",
       "      <td>False</td>\n",
       "      <td>False</td>\n",
       "      <td>0</td>\n",
       "      <td>1</td>\n",
       "      <td>0</td>\n",
       "      <td>0</td>\n",
       "      <td>0</td>\n",
       "      <td>False</td>\n",
       "      <td>False</td>\n",
       "      <td>False</td>\n",
       "      <td>True</td>\n",
       "      <td>False</td>\n",
       "      <td>False</td>\n",
       "      <td>False</td>\n",
       "      <td>False</td>\n",
       "      <td>False</td>\n",
       "      <td>False</td>\n",
       "      <td>False</td>\n",
       "      <td>False</td>\n",
       "      <td>False</td>\n",
       "      <td>False</td>\n",
       "      <td>False</td>\n",
       "      <td>False</td>\n",
       "      <td>False</td>\n",
       "      <td>False</td>\n",
       "      <td>False</td>\n",
       "      <td>False</td>\n",
       "    </tr>\n",
       "  </tbody>\n",
       "</table>\n",
       "</div>"
      ],
      "text/plain": [
       "   idaviso idpostulante  edad  nombre_estudio_Doctorado  \\\n",
       "0   739260       6M9ZQR    42                         1   \n",
       "\n",
       "   nombre_estudio_Master  nombre_estudio_Otro  nombre_estudio_Posgrado  \\\n",
       "0                      0                    0                        0   \n",
       "\n",
       "   nombre_estudio_Secundario  nombre_estudio_Terciario/Tecnico  \\\n",
       "0                          0                                 0   \n",
       "\n",
       "   nombre_estudio_Universitario  estado_estudio_Abandonado  \\\n",
       "0                             0                          0   \n",
       "\n",
       "   estado_estudio_EnCurso  estado_estudio_Graduado  sexo_FEM  sexo_MASC  \\\n",
       "0                       0                        1         1          0   \n",
       "\n",
       "   sexo_NO_DECLARA                      titulo  \\\n",
       "0                0  ['asistente', 'comercial']   \n",
       "\n",
       "                                         descripcion nombre_area  tipo_full  \\\n",
       "0  [('p', 2), ('cliente', 1), ('empresa', 1), ('n...   Comercial       True   \n",
       "\n",
       "   tipo_part  tipo_otro  nivel_laboral_Gerencia/AltaGerencia/Dirección  \\\n",
       "0      False      False                                              0   \n",
       "\n",
       "   nivel_laboral_Jefe/Supervisor/Responsable  nivel_laboral_Junior  \\\n",
       "0                                          1                     0   \n",
       "\n",
       "   nivel_laboral_Otro  nivel_laboral_Senior/Semi-Senior  Ventas  \\\n",
       "0                   0                                 0   False   \n",
       "\n",
       "   Administración  Producción  Comercial  AtenciónalCliente  Recepcionista  \\\n",
       "0           False       False       True              False          False   \n",
       "\n",
       "   CallCenter  Tesorería  Telemarketing  MantenimientoyLimpieza  \\\n",
       "0       False      False          False                   False   \n",
       "\n",
       "   Almacén/Depósito/Expedición  Contabilidad  RecursosHumanos  Gastronomia  \\\n",
       "0                        False         False            False        False   \n",
       "\n",
       "   Logística  Secretaria  AdministracióndePersonal  CréditosyCobranzas  \\\n",
       "0      False       False                     False               False   \n",
       "\n",
       "   Marketing  Legal  \n",
       "0      False  False  "
      ]
     },
     "execution_count": 11,
     "metadata": {},
     "output_type": "execute_result"
    }
   ],
   "source": [
    "X_test.head(1)"
   ]
  },
  {
   "cell_type": "markdown",
   "metadata": {},
   "source": [
    "## TEMPORAL: se eliminan las columnas con los arrays, decidir que hacer con este dato"
   ]
  },
  {
   "cell_type": "code",
   "execution_count": 12,
   "metadata": {},
   "outputs": [],
   "source": [
    "X_train.drop(columns=['descripcion', 'titulo'], inplace=True)\n",
    "X_test.drop(columns=['descripcion', 'titulo'], inplace=True)"
   ]
  },
  {
   "cell_type": "code",
   "execution_count": 13,
   "metadata": {},
   "outputs": [
    {
     "data": {
      "text/html": [
       "<div>\n",
       "<style scoped>\n",
       "    .dataframe tbody tr th:only-of-type {\n",
       "        vertical-align: middle;\n",
       "    }\n",
       "\n",
       "    .dataframe tbody tr th {\n",
       "        vertical-align: top;\n",
       "    }\n",
       "\n",
       "    .dataframe thead th {\n",
       "        text-align: right;\n",
       "    }\n",
       "</style>\n",
       "<table border=\"1\" class=\"dataframe\">\n",
       "  <thead>\n",
       "    <tr style=\"text-align: right;\">\n",
       "      <th></th>\n",
       "      <th>Administración</th>\n",
       "      <th>AdministracióndePersonal</th>\n",
       "      <th>Almacén/Depósito/Expedición</th>\n",
       "      <th>AtenciónalCliente</th>\n",
       "      <th>CallCenter</th>\n",
       "      <th>Comercial</th>\n",
       "      <th>Contabilidad</th>\n",
       "      <th>CréditosyCobranzas</th>\n",
       "      <th>Gastronomia</th>\n",
       "      <th>Legal</th>\n",
       "      <th>Logística</th>\n",
       "      <th>MantenimientoyLimpieza</th>\n",
       "      <th>Marketing</th>\n",
       "      <th>Producción</th>\n",
       "      <th>Recepcionista</th>\n",
       "      <th>RecursosHumanos</th>\n",
       "      <th>Secretaria</th>\n",
       "      <th>Telemarketing</th>\n",
       "      <th>Tesorería</th>\n",
       "      <th>Ventas</th>\n",
       "      <th>edad</th>\n",
       "      <th>estado_estudio_Abandonado</th>\n",
       "      <th>estado_estudio_EnCurso</th>\n",
       "      <th>estado_estudio_Graduado</th>\n",
       "      <th>idaviso</th>\n",
       "      <th>idpostulante</th>\n",
       "      <th>nivel_laboral_Gerencia/AltaGerencia/Dirección</th>\n",
       "      <th>nivel_laboral_Jefe/Supervisor/Responsable</th>\n",
       "      <th>nivel_laboral_Junior</th>\n",
       "      <th>nivel_laboral_Otro</th>\n",
       "      <th>nivel_laboral_Senior/Semi-Senior</th>\n",
       "      <th>nombre_area</th>\n",
       "      <th>nombre_estudio_Doctorado</th>\n",
       "      <th>nombre_estudio_Master</th>\n",
       "      <th>nombre_estudio_Otro</th>\n",
       "      <th>nombre_estudio_Posgrado</th>\n",
       "      <th>nombre_estudio_Secundario</th>\n",
       "      <th>nombre_estudio_Terciario/Tecnico</th>\n",
       "      <th>nombre_estudio_Universitario</th>\n",
       "      <th>sexo_FEM</th>\n",
       "      <th>sexo_MASC</th>\n",
       "      <th>sexo_NO_DECLARA</th>\n",
       "      <th>tipo_full</th>\n",
       "      <th>tipo_otro</th>\n",
       "      <th>tipo_part</th>\n",
       "    </tr>\n",
       "  </thead>\n",
       "  <tbody>\n",
       "    <tr>\n",
       "      <th>0</th>\n",
       "      <td>False</td>\n",
       "      <td>False</td>\n",
       "      <td>False</td>\n",
       "      <td>False</td>\n",
       "      <td>False</td>\n",
       "      <td>False</td>\n",
       "      <td>False</td>\n",
       "      <td>False</td>\n",
       "      <td>False</td>\n",
       "      <td>False</td>\n",
       "      <td>False</td>\n",
       "      <td>False</td>\n",
       "      <td>False</td>\n",
       "      <td>False</td>\n",
       "      <td>False</td>\n",
       "      <td>False</td>\n",
       "      <td>False</td>\n",
       "      <td>False</td>\n",
       "      <td>False</td>\n",
       "      <td>True</td>\n",
       "      <td>27</td>\n",
       "      <td>0</td>\n",
       "      <td>0</td>\n",
       "      <td>1</td>\n",
       "      <td>1112418025</td>\n",
       "      <td>6r5vxAM</td>\n",
       "      <td>0</td>\n",
       "      <td>0</td>\n",
       "      <td>0</td>\n",
       "      <td>0</td>\n",
       "      <td>1</td>\n",
       "      <td>Ventas</td>\n",
       "      <td>0</td>\n",
       "      <td>0</td>\n",
       "      <td>0</td>\n",
       "      <td>0</td>\n",
       "      <td>0</td>\n",
       "      <td>0</td>\n",
       "      <td>1</td>\n",
       "      <td>1</td>\n",
       "      <td>0</td>\n",
       "      <td>0</td>\n",
       "      <td>True</td>\n",
       "      <td>False</td>\n",
       "      <td>False</td>\n",
       "    </tr>\n",
       "  </tbody>\n",
       "</table>\n",
       "</div>"
      ],
      "text/plain": [
       "   Administración  AdministracióndePersonal  Almacén/Depósito/Expedición  \\\n",
       "0           False                     False                        False   \n",
       "\n",
       "   AtenciónalCliente  CallCenter  Comercial  Contabilidad  CréditosyCobranzas  \\\n",
       "0              False       False      False         False               False   \n",
       "\n",
       "   Gastronomia  Legal  Logística  MantenimientoyLimpieza  Marketing  \\\n",
       "0        False  False      False                   False      False   \n",
       "\n",
       "   Producción  Recepcionista  RecursosHumanos  Secretaria  Telemarketing  \\\n",
       "0       False          False            False       False          False   \n",
       "\n",
       "   Tesorería  Ventas  edad  estado_estudio_Abandonado  estado_estudio_EnCurso  \\\n",
       "0      False    True    27                          0                       0   \n",
       "\n",
       "   estado_estudio_Graduado     idaviso idpostulante  \\\n",
       "0                        1  1112418025      6r5vxAM   \n",
       "\n",
       "   nivel_laboral_Gerencia/AltaGerencia/Dirección  \\\n",
       "0                                              0   \n",
       "\n",
       "   nivel_laboral_Jefe/Supervisor/Responsable  nivel_laboral_Junior  \\\n",
       "0                                          0                     0   \n",
       "\n",
       "   nivel_laboral_Otro  nivel_laboral_Senior/Semi-Senior nombre_area  \\\n",
       "0                   0                                 1      Ventas   \n",
       "\n",
       "   nombre_estudio_Doctorado  nombre_estudio_Master  nombre_estudio_Otro  \\\n",
       "0                         0                      0                    0   \n",
       "\n",
       "   nombre_estudio_Posgrado  nombre_estudio_Secundario  \\\n",
       "0                        0                          0   \n",
       "\n",
       "   nombre_estudio_Terciario/Tecnico  nombre_estudio_Universitario  sexo_FEM  \\\n",
       "0                                 0                             1         1   \n",
       "\n",
       "   sexo_MASC  sexo_NO_DECLARA  tipo_full  tipo_otro  tipo_part  \n",
       "0          0                0       True      False      False  "
      ]
     },
     "execution_count": 13,
     "metadata": {},
     "output_type": "execute_result"
    }
   ],
   "source": [
    "X_train.head(1)"
   ]
  },
  {
   "cell_type": "code",
   "execution_count": 14,
   "metadata": {},
   "outputs": [
    {
     "data": {
      "text/html": [
       "<div>\n",
       "<style scoped>\n",
       "    .dataframe tbody tr th:only-of-type {\n",
       "        vertical-align: middle;\n",
       "    }\n",
       "\n",
       "    .dataframe tbody tr th {\n",
       "        vertical-align: top;\n",
       "    }\n",
       "\n",
       "    .dataframe thead th {\n",
       "        text-align: right;\n",
       "    }\n",
       "</style>\n",
       "<table border=\"1\" class=\"dataframe\">\n",
       "  <thead>\n",
       "    <tr style=\"text-align: right;\">\n",
       "      <th></th>\n",
       "      <th>idaviso</th>\n",
       "      <th>idpostulante</th>\n",
       "      <th>edad</th>\n",
       "      <th>nombre_estudio_Doctorado</th>\n",
       "      <th>nombre_estudio_Master</th>\n",
       "      <th>nombre_estudio_Otro</th>\n",
       "      <th>nombre_estudio_Posgrado</th>\n",
       "      <th>nombre_estudio_Secundario</th>\n",
       "      <th>nombre_estudio_Terciario/Tecnico</th>\n",
       "      <th>nombre_estudio_Universitario</th>\n",
       "      <th>estado_estudio_Abandonado</th>\n",
       "      <th>estado_estudio_EnCurso</th>\n",
       "      <th>estado_estudio_Graduado</th>\n",
       "      <th>sexo_FEM</th>\n",
       "      <th>sexo_MASC</th>\n",
       "      <th>sexo_NO_DECLARA</th>\n",
       "      <th>nombre_area</th>\n",
       "      <th>tipo_full</th>\n",
       "      <th>tipo_part</th>\n",
       "      <th>tipo_otro</th>\n",
       "      <th>nivel_laboral_Gerencia/AltaGerencia/Dirección</th>\n",
       "      <th>nivel_laboral_Jefe/Supervisor/Responsable</th>\n",
       "      <th>nivel_laboral_Junior</th>\n",
       "      <th>nivel_laboral_Otro</th>\n",
       "      <th>nivel_laboral_Senior/Semi-Senior</th>\n",
       "      <th>Ventas</th>\n",
       "      <th>Administración</th>\n",
       "      <th>Producción</th>\n",
       "      <th>Comercial</th>\n",
       "      <th>AtenciónalCliente</th>\n",
       "      <th>Recepcionista</th>\n",
       "      <th>CallCenter</th>\n",
       "      <th>Tesorería</th>\n",
       "      <th>Telemarketing</th>\n",
       "      <th>MantenimientoyLimpieza</th>\n",
       "      <th>Almacén/Depósito/Expedición</th>\n",
       "      <th>Contabilidad</th>\n",
       "      <th>RecursosHumanos</th>\n",
       "      <th>Gastronomia</th>\n",
       "      <th>Logística</th>\n",
       "      <th>Secretaria</th>\n",
       "      <th>AdministracióndePersonal</th>\n",
       "      <th>CréditosyCobranzas</th>\n",
       "      <th>Marketing</th>\n",
       "      <th>Legal</th>\n",
       "    </tr>\n",
       "  </thead>\n",
       "  <tbody>\n",
       "    <tr>\n",
       "      <th>0</th>\n",
       "      <td>739260</td>\n",
       "      <td>6M9ZQR</td>\n",
       "      <td>42</td>\n",
       "      <td>1</td>\n",
       "      <td>0</td>\n",
       "      <td>0</td>\n",
       "      <td>0</td>\n",
       "      <td>0</td>\n",
       "      <td>0</td>\n",
       "      <td>0</td>\n",
       "      <td>0</td>\n",
       "      <td>0</td>\n",
       "      <td>1</td>\n",
       "      <td>1</td>\n",
       "      <td>0</td>\n",
       "      <td>0</td>\n",
       "      <td>Comercial</td>\n",
       "      <td>True</td>\n",
       "      <td>False</td>\n",
       "      <td>False</td>\n",
       "      <td>0</td>\n",
       "      <td>1</td>\n",
       "      <td>0</td>\n",
       "      <td>0</td>\n",
       "      <td>0</td>\n",
       "      <td>False</td>\n",
       "      <td>False</td>\n",
       "      <td>False</td>\n",
       "      <td>True</td>\n",
       "      <td>False</td>\n",
       "      <td>False</td>\n",
       "      <td>False</td>\n",
       "      <td>False</td>\n",
       "      <td>False</td>\n",
       "      <td>False</td>\n",
       "      <td>False</td>\n",
       "      <td>False</td>\n",
       "      <td>False</td>\n",
       "      <td>False</td>\n",
       "      <td>False</td>\n",
       "      <td>False</td>\n",
       "      <td>False</td>\n",
       "      <td>False</td>\n",
       "      <td>False</td>\n",
       "      <td>False</td>\n",
       "    </tr>\n",
       "  </tbody>\n",
       "</table>\n",
       "</div>"
      ],
      "text/plain": [
       "   idaviso idpostulante  edad  nombre_estudio_Doctorado  \\\n",
       "0   739260       6M9ZQR    42                         1   \n",
       "\n",
       "   nombre_estudio_Master  nombre_estudio_Otro  nombre_estudio_Posgrado  \\\n",
       "0                      0                    0                        0   \n",
       "\n",
       "   nombre_estudio_Secundario  nombre_estudio_Terciario/Tecnico  \\\n",
       "0                          0                                 0   \n",
       "\n",
       "   nombre_estudio_Universitario  estado_estudio_Abandonado  \\\n",
       "0                             0                          0   \n",
       "\n",
       "   estado_estudio_EnCurso  estado_estudio_Graduado  sexo_FEM  sexo_MASC  \\\n",
       "0                       0                        1         1          0   \n",
       "\n",
       "   sexo_NO_DECLARA nombre_area  tipo_full  tipo_part  tipo_otro  \\\n",
       "0                0   Comercial       True      False      False   \n",
       "\n",
       "   nivel_laboral_Gerencia/AltaGerencia/Dirección  \\\n",
       "0                                              0   \n",
       "\n",
       "   nivel_laboral_Jefe/Supervisor/Responsable  nivel_laboral_Junior  \\\n",
       "0                                          1                     0   \n",
       "\n",
       "   nivel_laboral_Otro  nivel_laboral_Senior/Semi-Senior  Ventas  \\\n",
       "0                   0                                 0   False   \n",
       "\n",
       "   Administración  Producción  Comercial  AtenciónalCliente  Recepcionista  \\\n",
       "0           False       False       True              False          False   \n",
       "\n",
       "   CallCenter  Tesorería  Telemarketing  MantenimientoyLimpieza  \\\n",
       "0       False      False          False                   False   \n",
       "\n",
       "   Almacén/Depósito/Expedición  Contabilidad  RecursosHumanos  Gastronomia  \\\n",
       "0                        False         False            False        False   \n",
       "\n",
       "   Logística  Secretaria  AdministracióndePersonal  CréditosyCobranzas  \\\n",
       "0      False       False                     False               False   \n",
       "\n",
       "   Marketing  Legal  \n",
       "0      False  False  "
      ]
     },
     "execution_count": 14,
     "metadata": {},
     "output_type": "execute_result"
    }
   ],
   "source": [
    "X_test.head(1)"
   ]
  },
  {
   "cell_type": "code",
   "execution_count": 24,
   "metadata": {},
   "outputs": [],
   "source": [
    "# Solo para probar un submit elimino las columnas que no son numericas/booleanas\n",
    "X_train.drop(columns=['nombre_area'], inplace=True)\n",
    "X_test.drop(columns=['nombre_area'], inplace=True)"
   ]
  },
  {
   "cell_type": "code",
   "execution_count": 16,
   "metadata": {},
   "outputs": [],
   "source": [
    "X_train.drop(columns=['idpostulante'], inplace=True)\n",
    "X_test.drop(columns=['idpostulante'], inplace=True)"
   ]
  },
  {
   "cell_type": "code",
   "execution_count": 17,
   "metadata": {},
   "outputs": [
    {
     "name": "stderr",
     "output_type": "stream",
     "text": [
      "/home/tbotalla/anaconda3/lib/python3.6/site-packages/ipykernel_launcher.py:2: FutureWarning: '.reindex_axis' is deprecated and will be removed in a future version. Use '.reindex' instead.\n",
      "  \n",
      "/home/tbotalla/anaconda3/lib/python3.6/site-packages/ipykernel_launcher.py:3: FutureWarning: '.reindex_axis' is deprecated and will be removed in a future version. Use '.reindex' instead.\n",
      "  This is separate from the ipykernel package so we can avoid doing imports until\n"
     ]
    }
   ],
   "source": [
    "# Ordenamos las columnas para que queden igual\n",
    "X_train = X_train.reindex_axis(sorted(X_train.columns), axis=1)\n",
    "X_test = X_test.reindex_axis(sorted(X_test.columns), axis=1)"
   ]
  },
  {
   "cell_type": "code",
   "execution_count": 18,
   "metadata": {},
   "outputs": [
    {
     "name": "stdout",
     "output_type": "stream",
     "text": [
      "True\n",
      "False\n"
     ]
    }
   ],
   "source": [
    "print(X_train.isnull().values.any())\n",
    "print(X_test.isnull().values.any())"
   ]
  },
  {
   "cell_type": "code",
   "execution_count": 19,
   "metadata": {},
   "outputs": [
    {
     "data": {
      "text/html": [
       "<div>\n",
       "<style scoped>\n",
       "    .dataframe tbody tr th:only-of-type {\n",
       "        vertical-align: middle;\n",
       "    }\n",
       "\n",
       "    .dataframe tbody tr th {\n",
       "        vertical-align: top;\n",
       "    }\n",
       "\n",
       "    .dataframe thead th {\n",
       "        text-align: right;\n",
       "    }\n",
       "</style>\n",
       "<table border=\"1\" class=\"dataframe\">\n",
       "  <thead>\n",
       "    <tr style=\"text-align: right;\">\n",
       "      <th></th>\n",
       "      <th>Administración</th>\n",
       "      <th>AdministracióndePersonal</th>\n",
       "      <th>Almacén/Depósito/Expedición</th>\n",
       "      <th>AtenciónalCliente</th>\n",
       "      <th>CallCenter</th>\n",
       "      <th>Comercial</th>\n",
       "      <th>Contabilidad</th>\n",
       "      <th>CréditosyCobranzas</th>\n",
       "      <th>Gastronomia</th>\n",
       "      <th>Legal</th>\n",
       "      <th>Logística</th>\n",
       "      <th>MantenimientoyLimpieza</th>\n",
       "      <th>Marketing</th>\n",
       "      <th>Producción</th>\n",
       "      <th>Recepcionista</th>\n",
       "      <th>RecursosHumanos</th>\n",
       "      <th>Secretaria</th>\n",
       "      <th>Telemarketing</th>\n",
       "      <th>Tesorería</th>\n",
       "      <th>Ventas</th>\n",
       "      <th>edad</th>\n",
       "      <th>estado_estudio_Abandonado</th>\n",
       "      <th>estado_estudio_EnCurso</th>\n",
       "      <th>estado_estudio_Graduado</th>\n",
       "      <th>idaviso</th>\n",
       "      <th>nivel_laboral_Gerencia/AltaGerencia/Dirección</th>\n",
       "      <th>nivel_laboral_Jefe/Supervisor/Responsable</th>\n",
       "      <th>nivel_laboral_Junior</th>\n",
       "      <th>nivel_laboral_Otro</th>\n",
       "      <th>nivel_laboral_Senior/Semi-Senior</th>\n",
       "      <th>nombre_area</th>\n",
       "      <th>nombre_estudio_Doctorado</th>\n",
       "      <th>nombre_estudio_Master</th>\n",
       "      <th>nombre_estudio_Otro</th>\n",
       "      <th>nombre_estudio_Posgrado</th>\n",
       "      <th>nombre_estudio_Secundario</th>\n",
       "      <th>nombre_estudio_Terciario/Tecnico</th>\n",
       "      <th>nombre_estudio_Universitario</th>\n",
       "      <th>sexo_FEM</th>\n",
       "      <th>sexo_MASC</th>\n",
       "      <th>sexo_NO_DECLARA</th>\n",
       "      <th>tipo_full</th>\n",
       "      <th>tipo_otro</th>\n",
       "      <th>tipo_part</th>\n",
       "    </tr>\n",
       "  </thead>\n",
       "  <tbody>\n",
       "    <tr>\n",
       "      <th>0</th>\n",
       "      <td>False</td>\n",
       "      <td>False</td>\n",
       "      <td>False</td>\n",
       "      <td>False</td>\n",
       "      <td>False</td>\n",
       "      <td>False</td>\n",
       "      <td>False</td>\n",
       "      <td>False</td>\n",
       "      <td>False</td>\n",
       "      <td>False</td>\n",
       "      <td>False</td>\n",
       "      <td>False</td>\n",
       "      <td>False</td>\n",
       "      <td>False</td>\n",
       "      <td>False</td>\n",
       "      <td>False</td>\n",
       "      <td>False</td>\n",
       "      <td>False</td>\n",
       "      <td>False</td>\n",
       "      <td>True</td>\n",
       "      <td>27</td>\n",
       "      <td>0</td>\n",
       "      <td>0</td>\n",
       "      <td>1</td>\n",
       "      <td>1112418025</td>\n",
       "      <td>0</td>\n",
       "      <td>0</td>\n",
       "      <td>0</td>\n",
       "      <td>0</td>\n",
       "      <td>1</td>\n",
       "      <td>Ventas</td>\n",
       "      <td>0</td>\n",
       "      <td>0</td>\n",
       "      <td>0</td>\n",
       "      <td>0</td>\n",
       "      <td>0</td>\n",
       "      <td>0</td>\n",
       "      <td>1</td>\n",
       "      <td>1</td>\n",
       "      <td>0</td>\n",
       "      <td>0</td>\n",
       "      <td>True</td>\n",
       "      <td>False</td>\n",
       "      <td>False</td>\n",
       "    </tr>\n",
       "  </tbody>\n",
       "</table>\n",
       "</div>"
      ],
      "text/plain": [
       "   Administración  AdministracióndePersonal  Almacén/Depósito/Expedición  \\\n",
       "0           False                     False                        False   \n",
       "\n",
       "   AtenciónalCliente  CallCenter  Comercial  Contabilidad  CréditosyCobranzas  \\\n",
       "0              False       False      False         False               False   \n",
       "\n",
       "   Gastronomia  Legal  Logística  MantenimientoyLimpieza  Marketing  \\\n",
       "0        False  False      False                   False      False   \n",
       "\n",
       "   Producción  Recepcionista  RecursosHumanos  Secretaria  Telemarketing  \\\n",
       "0       False          False            False       False          False   \n",
       "\n",
       "   Tesorería  Ventas  edad  estado_estudio_Abandonado  estado_estudio_EnCurso  \\\n",
       "0      False    True    27                          0                       0   \n",
       "\n",
       "   estado_estudio_Graduado     idaviso  \\\n",
       "0                        1  1112418025   \n",
       "\n",
       "   nivel_laboral_Gerencia/AltaGerencia/Dirección  \\\n",
       "0                                              0   \n",
       "\n",
       "   nivel_laboral_Jefe/Supervisor/Responsable  nivel_laboral_Junior  \\\n",
       "0                                          0                     0   \n",
       "\n",
       "   nivel_laboral_Otro  nivel_laboral_Senior/Semi-Senior nombre_area  \\\n",
       "0                   0                                 1      Ventas   \n",
       "\n",
       "   nombre_estudio_Doctorado  nombre_estudio_Master  nombre_estudio_Otro  \\\n",
       "0                         0                      0                    0   \n",
       "\n",
       "   nombre_estudio_Posgrado  nombre_estudio_Secundario  \\\n",
       "0                        0                          0   \n",
       "\n",
       "   nombre_estudio_Terciario/Tecnico  nombre_estudio_Universitario  sexo_FEM  \\\n",
       "0                                 0                             1         1   \n",
       "\n",
       "   sexo_MASC  sexo_NO_DECLARA  tipo_full  tipo_otro  tipo_part  \n",
       "0          0                0       True      False      False  "
      ]
     },
     "execution_count": 19,
     "metadata": {},
     "output_type": "execute_result"
    }
   ],
   "source": [
    "X_train.head(1)"
   ]
  },
  {
   "cell_type": "code",
   "execution_count": 20,
   "metadata": {},
   "outputs": [
    {
     "data": {
      "text/html": [
       "<div>\n",
       "<style scoped>\n",
       "    .dataframe tbody tr th:only-of-type {\n",
       "        vertical-align: middle;\n",
       "    }\n",
       "\n",
       "    .dataframe tbody tr th {\n",
       "        vertical-align: top;\n",
       "    }\n",
       "\n",
       "    .dataframe thead th {\n",
       "        text-align: right;\n",
       "    }\n",
       "</style>\n",
       "<table border=\"1\" class=\"dataframe\">\n",
       "  <thead>\n",
       "    <tr style=\"text-align: right;\">\n",
       "      <th></th>\n",
       "      <th>Administración</th>\n",
       "      <th>AdministracióndePersonal</th>\n",
       "      <th>Almacén/Depósito/Expedición</th>\n",
       "      <th>AtenciónalCliente</th>\n",
       "      <th>CallCenter</th>\n",
       "      <th>Comercial</th>\n",
       "      <th>Contabilidad</th>\n",
       "      <th>CréditosyCobranzas</th>\n",
       "      <th>Gastronomia</th>\n",
       "      <th>Legal</th>\n",
       "      <th>Logística</th>\n",
       "      <th>MantenimientoyLimpieza</th>\n",
       "      <th>Marketing</th>\n",
       "      <th>Producción</th>\n",
       "      <th>Recepcionista</th>\n",
       "      <th>RecursosHumanos</th>\n",
       "      <th>Secretaria</th>\n",
       "      <th>Telemarketing</th>\n",
       "      <th>Tesorería</th>\n",
       "      <th>Ventas</th>\n",
       "      <th>edad</th>\n",
       "      <th>estado_estudio_Abandonado</th>\n",
       "      <th>estado_estudio_EnCurso</th>\n",
       "      <th>estado_estudio_Graduado</th>\n",
       "      <th>idaviso</th>\n",
       "      <th>nivel_laboral_Gerencia/AltaGerencia/Dirección</th>\n",
       "      <th>nivel_laboral_Jefe/Supervisor/Responsable</th>\n",
       "      <th>nivel_laboral_Junior</th>\n",
       "      <th>nivel_laboral_Otro</th>\n",
       "      <th>nivel_laboral_Senior/Semi-Senior</th>\n",
       "      <th>nombre_area</th>\n",
       "      <th>nombre_estudio_Doctorado</th>\n",
       "      <th>nombre_estudio_Master</th>\n",
       "      <th>nombre_estudio_Otro</th>\n",
       "      <th>nombre_estudio_Posgrado</th>\n",
       "      <th>nombre_estudio_Secundario</th>\n",
       "      <th>nombre_estudio_Terciario/Tecnico</th>\n",
       "      <th>nombre_estudio_Universitario</th>\n",
       "      <th>sexo_FEM</th>\n",
       "      <th>sexo_MASC</th>\n",
       "      <th>sexo_NO_DECLARA</th>\n",
       "      <th>tipo_full</th>\n",
       "      <th>tipo_otro</th>\n",
       "      <th>tipo_part</th>\n",
       "    </tr>\n",
       "  </thead>\n",
       "  <tbody>\n",
       "    <tr>\n",
       "      <th>0</th>\n",
       "      <td>False</td>\n",
       "      <td>False</td>\n",
       "      <td>False</td>\n",
       "      <td>False</td>\n",
       "      <td>False</td>\n",
       "      <td>True</td>\n",
       "      <td>False</td>\n",
       "      <td>False</td>\n",
       "      <td>False</td>\n",
       "      <td>False</td>\n",
       "      <td>False</td>\n",
       "      <td>False</td>\n",
       "      <td>False</td>\n",
       "      <td>False</td>\n",
       "      <td>False</td>\n",
       "      <td>False</td>\n",
       "      <td>False</td>\n",
       "      <td>False</td>\n",
       "      <td>False</td>\n",
       "      <td>False</td>\n",
       "      <td>42</td>\n",
       "      <td>0</td>\n",
       "      <td>0</td>\n",
       "      <td>1</td>\n",
       "      <td>739260</td>\n",
       "      <td>0</td>\n",
       "      <td>1</td>\n",
       "      <td>0</td>\n",
       "      <td>0</td>\n",
       "      <td>0</td>\n",
       "      <td>Comercial</td>\n",
       "      <td>1</td>\n",
       "      <td>0</td>\n",
       "      <td>0</td>\n",
       "      <td>0</td>\n",
       "      <td>0</td>\n",
       "      <td>0</td>\n",
       "      <td>0</td>\n",
       "      <td>1</td>\n",
       "      <td>0</td>\n",
       "      <td>0</td>\n",
       "      <td>True</td>\n",
       "      <td>False</td>\n",
       "      <td>False</td>\n",
       "    </tr>\n",
       "  </tbody>\n",
       "</table>\n",
       "</div>"
      ],
      "text/plain": [
       "   Administración  AdministracióndePersonal  Almacén/Depósito/Expedición  \\\n",
       "0           False                     False                        False   \n",
       "\n",
       "   AtenciónalCliente  CallCenter  Comercial  Contabilidad  CréditosyCobranzas  \\\n",
       "0              False       False       True         False               False   \n",
       "\n",
       "   Gastronomia  Legal  Logística  MantenimientoyLimpieza  Marketing  \\\n",
       "0        False  False      False                   False      False   \n",
       "\n",
       "   Producción  Recepcionista  RecursosHumanos  Secretaria  Telemarketing  \\\n",
       "0       False          False            False       False          False   \n",
       "\n",
       "   Tesorería  Ventas  edad  estado_estudio_Abandonado  estado_estudio_EnCurso  \\\n",
       "0      False   False    42                          0                       0   \n",
       "\n",
       "   estado_estudio_Graduado  idaviso  \\\n",
       "0                        1   739260   \n",
       "\n",
       "   nivel_laboral_Gerencia/AltaGerencia/Dirección  \\\n",
       "0                                              0   \n",
       "\n",
       "   nivel_laboral_Jefe/Supervisor/Responsable  nivel_laboral_Junior  \\\n",
       "0                                          1                     0   \n",
       "\n",
       "   nivel_laboral_Otro  nivel_laboral_Senior/Semi-Senior nombre_area  \\\n",
       "0                   0                                 0   Comercial   \n",
       "\n",
       "   nombre_estudio_Doctorado  nombre_estudio_Master  nombre_estudio_Otro  \\\n",
       "0                         1                      0                    0   \n",
       "\n",
       "   nombre_estudio_Posgrado  nombre_estudio_Secundario  \\\n",
       "0                        0                          0   \n",
       "\n",
       "   nombre_estudio_Terciario/Tecnico  nombre_estudio_Universitario  sexo_FEM  \\\n",
       "0                                 0                             0         1   \n",
       "\n",
       "   sexo_MASC  sexo_NO_DECLARA  tipo_full  tipo_otro  tipo_part  \n",
       "0          0                0       True      False      False  "
      ]
     },
     "execution_count": 20,
     "metadata": {},
     "output_type": "execute_result"
    }
   ],
   "source": [
    "X_test.head(1)"
   ]
  },
  {
   "cell_type": "code",
   "execution_count": 21,
   "metadata": {},
   "outputs": [
    {
     "data": {
      "text/plain": [
       "0           True\n",
       "1           True\n",
       "2          False\n",
       "3           True\n",
       "4           True\n",
       "5          False\n",
       "6           True\n",
       "7          False\n",
       "8           True\n",
       "9          False\n",
       "10         False\n",
       "11         False\n",
       "12          True\n",
       "13          True\n",
       "14         False\n",
       "15          True\n",
       "16          True\n",
       "17         False\n",
       "18          True\n",
       "19          True\n",
       "20          True\n",
       "21         False\n",
       "22         False\n",
       "23         False\n",
       "24          True\n",
       "25         False\n",
       "26         False\n",
       "27          True\n",
       "28          True\n",
       "29          True\n",
       "           ...  \n",
       "5998476    False\n",
       "5998477    False\n",
       "5998478     True\n",
       "5998479    False\n",
       "5998480    False\n",
       "5998481     True\n",
       "5998482     True\n",
       "5998483     True\n",
       "5998484    False\n",
       "5998485     True\n",
       "5998486     True\n",
       "5998487     True\n",
       "5998488    False\n",
       "5998489    False\n",
       "5998490     True\n",
       "5998491     True\n",
       "5998492     True\n",
       "5998493     True\n",
       "5998494     True\n",
       "5998495    False\n",
       "5998496     True\n",
       "5998497     True\n",
       "5998498     True\n",
       "5998499    False\n",
       "5998500     True\n",
       "5998501    False\n",
       "5998502     True\n",
       "5998503     True\n",
       "5998504    False\n",
       "5998505    False\n",
       "Name: sepostulo, Length: 5998506, dtype: bool"
      ]
     },
     "execution_count": 21,
     "metadata": {},
     "output_type": "execute_result"
    }
   ],
   "source": [
    "target['sepostulo']"
   ]
  },
  {
   "cell_type": "markdown",
   "metadata": {},
   "source": [
    "# Cross-validation"
   ]
  },
  {
   "cell_type": "code",
   "execution_count": 21,
   "metadata": {},
   "outputs": [],
   "source": [
    "from sklearn.model_selection import cross_val_score, KFold\n",
    "# seed para generar los mismos fold en cada cv\n",
    "seed = 7\n",
    "kfold = KFold(3,random_state=seed) # 3 sino tarda demasiado\n",
    "scoring = 'roc_auc'\n",
    "def cv_score(model,X,y,cv):\n",
    "    #return cross_val_score(model,X,y,n_jobs=-1,cv=cv,scoring=scoring,verbose=3).mean()\n",
    "    return cross_val_score(model,X,y,n_jobs=1,cv=cv,scoring=scoring,verbose=3).mean()"
   ]
  },
  {
   "cell_type": "markdown",
   "metadata": {},
   "source": [
    "**Standardization & normalization**"
   ]
  },
  {
   "cell_type": "code",
   "execution_count": 25,
   "metadata": {
    "collapsed": true
   },
   "outputs": [
    {
     "name": "stderr",
     "output_type": "stream",
     "text": [
      "/home/tbotalla/anaconda3/lib/python3.6/site-packages/sklearn/preprocessing/data.py:164: UserWarning: Numerical issues were encountered when centering the data and might not be solved. Dataset may contain too large values. You may need to prescale your features.\n",
      "  warnings.warn(\"Numerical issues were encountered \"\n"
     ]
    }
   ],
   "source": [
    "from sklearn.preprocessing import scale, normalize\n",
    "X_train_std = scale(X_train)\n",
    "X_test_std = scale(X_test)\n",
    "X_train_nrm = normalize(X_train)\n",
    "X_test_nrm = normalize(X_test)"
   ]
  },
  {
   "cell_type": "markdown",
   "metadata": {},
   "source": [
    "### Rankeo de algoritmos"
   ]
  },
  {
   "cell_type": "code",
   "execution_count": null,
   "metadata": {
    "scrolled": true
   },
   "outputs": [
    {
     "name": "stdout",
     "output_type": "stream",
     "text": [
      "################################ LogReg ################################\n",
      "[CV]  ................................................................\n",
      "[CV] ....................... , score=0.5102176214256832, total=  12.6s\n",
      "[CV]  ................................................................\n"
     ]
    },
    {
     "name": "stderr",
     "output_type": "stream",
     "text": [
      "[Parallel(n_jobs=1)]: Done   1 out of   1 | elapsed:   12.7s remaining:    0.0s\n"
     ]
    },
    {
     "name": "stdout",
     "output_type": "stream",
     "text": [
      "[CV] ....................... , score=0.5092362135973157, total=  11.4s\n",
      "[CV]  ................................................................\n"
     ]
    },
    {
     "name": "stderr",
     "output_type": "stream",
     "text": [
      "[Parallel(n_jobs=1)]: Done   2 out of   2 | elapsed:   24.1s remaining:    0.0s\n"
     ]
    },
    {
     "name": "stdout",
     "output_type": "stream",
     "text": [
      "[CV] ....................... , score=0.5097576417814326, total=  11.4s\n",
      "################################ KNN ################################\n",
      "[CV]  ................................................................\n"
     ]
    },
    {
     "name": "stderr",
     "output_type": "stream",
     "text": [
      "[Parallel(n_jobs=1)]: Done   3 out of   3 | elapsed:   35.6s finished\n"
     ]
    },
    {
     "name": "stdout",
     "output_type": "stream",
     "text": [
      "[CV] ........................ , score=0.870530708822408, total= 2.4min\n",
      "[CV]  ................................................................\n"
     ]
    },
    {
     "name": "stderr",
     "output_type": "stream",
     "text": [
      "[Parallel(n_jobs=1)]: Done   1 out of   1 | elapsed:  2.4min remaining:    0.0s\n"
     ]
    },
    {
     "name": "stdout",
     "output_type": "stream",
     "text": [
      "[CV] ....................... , score=0.8707942956412883, total= 2.6min\n",
      "[CV]  ................................................................\n"
     ]
    },
    {
     "name": "stderr",
     "output_type": "stream",
     "text": [
      "[Parallel(n_jobs=1)]: Done   2 out of   2 | elapsed:  5.1min remaining:    0.0s\n"
     ]
    },
    {
     "name": "stdout",
     "output_type": "stream",
     "text": [
      "[CV] ....................... , score=0.8708273298639739, total= 2.3min\n",
      "################################ LDA ################################\n",
      "[CV]  ................................................................\n"
     ]
    },
    {
     "name": "stderr",
     "output_type": "stream",
     "text": [
      "[Parallel(n_jobs=1)]: Done   3 out of   3 | elapsed:  7.4min finished\n",
      "/home/tbotalla/anaconda3/lib/python3.6/site-packages/sklearn/discriminant_analysis.py:388: UserWarning: Variables are collinear.\n",
      "  warnings.warn(\"Variables are collinear.\")\n"
     ]
    },
    {
     "name": "stdout",
     "output_type": "stream",
     "text": [
      "[CV] ........................ , score=0.631125506821072, total=  30.4s\n"
     ]
    },
    {
     "name": "stderr",
     "output_type": "stream",
     "text": [
      "[Parallel(n_jobs=1)]: Done   1 out of   1 | elapsed:   30.5s remaining:    0.0s\n"
     ]
    },
    {
     "name": "stdout",
     "output_type": "stream",
     "text": [
      "[CV]  ................................................................\n"
     ]
    },
    {
     "name": "stderr",
     "output_type": "stream",
     "text": [
      "/home/tbotalla/anaconda3/lib/python3.6/site-packages/sklearn/discriminant_analysis.py:388: UserWarning: Variables are collinear.\n",
      "  warnings.warn(\"Variables are collinear.\")\n"
     ]
    },
    {
     "name": "stdout",
     "output_type": "stream",
     "text": [
      "[CV] ....................... , score=0.6315958447076973, total=  22.3s\n",
      "[CV]  ................................................................\n"
     ]
    },
    {
     "name": "stderr",
     "output_type": "stream",
     "text": [
      "[Parallel(n_jobs=1)]: Done   2 out of   2 | elapsed:   53.1s remaining:    0.0s\n",
      "/home/tbotalla/anaconda3/lib/python3.6/site-packages/sklearn/discriminant_analysis.py:388: UserWarning: Variables are collinear.\n",
      "  warnings.warn(\"Variables are collinear.\")\n"
     ]
    },
    {
     "name": "stdout",
     "output_type": "stream",
     "text": [
      "[CV] ....................... , score=0.6310116878468522, total=  19.2s\n",
      "################################ GaussianNB ################################\n",
      "[CV]  ................................................................\n"
     ]
    },
    {
     "name": "stderr",
     "output_type": "stream",
     "text": [
      "[Parallel(n_jobs=1)]: Done   3 out of   3 | elapsed:  1.2min finished\n"
     ]
    },
    {
     "name": "stdout",
     "output_type": "stream",
     "text": [
      "[CV] ....................... , score=0.5435873373894564, total=  11.9s\n",
      "[CV]  ................................................................\n"
     ]
    },
    {
     "name": "stderr",
     "output_type": "stream",
     "text": [
      "[Parallel(n_jobs=1)]: Done   1 out of   1 | elapsed:   12.0s remaining:    0.0s\n"
     ]
    },
    {
     "name": "stdout",
     "output_type": "stream",
     "text": [
      "[CV] ....................... , score=0.5436817289961993, total=  11.9s\n",
      "[CV]  ................................................................\n"
     ]
    },
    {
     "name": "stderr",
     "output_type": "stream",
     "text": [
      "[Parallel(n_jobs=1)]: Done   2 out of   2 | elapsed:   23.9s remaining:    0.0s\n"
     ]
    },
    {
     "name": "stdout",
     "output_type": "stream",
     "text": [
      "[CV] ....................... , score=0.5442461833938491, total=  11.9s\n",
      "################################ SVC ################################\n",
      "[CV]  ................................................................\n"
     ]
    },
    {
     "name": "stderr",
     "output_type": "stream",
     "text": [
      "[Parallel(n_jobs=1)]: Done   3 out of   3 | elapsed:   35.8s finished\n"
     ]
    }
   ],
   "source": [
    "%%time\n",
    "'''from sklearn.linear_model import LinearRegression, Ridge, BayesianRidge, SGDRegressor, Lasso, LassoLars, Lars, ElasticNet, PassiveAggressiveRegressor, RANSACRegressor, HuberRegressor, OrthogonalMatchingPursuit\n",
    "from sklearn.svm import LinearSVR\n",
    "from sklearn.cross_decomposition import PLSRegression\n",
    "from sklearn.tree import DecisionTreeRegressor\n",
    "#from sklearn.neighbors import KNeighborsRegressor\n",
    "#from sklearn.kernel_ridge import KernelRidge\n",
    "#from sklearn.gaussian_process import GaussianProcessRegressor\n",
    "#from sklearn.isotonic import IsotonicRegression\n",
    "'''\n",
    "from sklearn.linear_model import LogisticRegression\n",
    "from sklearn.tree import DecisionTreeClassifier\n",
    "from sklearn.neighbors import KNeighborsClassifier\n",
    "from sklearn.discriminant_analysis import LinearDiscriminantAnalysis\n",
    "from sklearn.naive_bayes import GaussianNB\n",
    "from sklearn.svm import SVC\n",
    "\n",
    "models = []\n",
    "models.append(('DecTree',DecisionTreeClassifier()))\n",
    "models.append(('LogReg',LogisticRegression()))\n",
    "models.append(('KNN',KNeighborsClassifier()))\n",
    "models.append(('LDA',LinearDiscriminantAnalysis()))\n",
    "models.append(('GaussianNB',GaussianNB()))\n",
    "#models.append(('SVC',SVC())) # no termina\n",
    "\n",
    "\n",
    "scores = []\n",
    "for name,model in models:\n",
    "    print('################################',name,'################################')\n",
    "    score = cv_score(model, X_train, target.values.ravel(), cv=kfold)\n",
    "    '''\n",
    "    if(name in ['LR','OMP','Lars','BayRidge',]):\n",
    "        score = cv_score(model,X_train_nrm,y_target,cv=kfold)\n",
    "    else:\n",
    "        score = cv_score(model,X_train_std,y_target,cv=kfold)\n",
    "    '''    \n",
    "    scores.append((name,score))"
   ]
  },
  {
   "cell_type": "markdown",
   "metadata": {},
   "source": [
    "**El que mejor score da es KNN**"
   ]
  },
  {
   "cell_type": "code",
   "execution_count": 22,
   "metadata": {},
   "outputs": [],
   "source": [
    "def predict(model,X_train,X_test,y):\n",
    "    model.fit(X_train,y.values.ravel())\n",
    "    return model.predict(X_test)\n",
    "\n",
    "def pred_to_csv(prediction,name):\n",
    "    test = pd.read_csv('test_.csv')\n",
    "    df = pd.DataFrame(prediction,columns={'sepostulo'})\n",
    "    df['id'] = test.id\n",
    "    df = df.loc[:,['id','sepostulo']]\n",
    "    df.sepostulo = df.sepostulo.astype(int)\n",
    "    df.to_csv('pred_' + name + '.csv',index=False)"
   ]
  },
  {
   "cell_type": "code",
   "execution_count": 57,
   "metadata": {},
   "outputs": [
    {
     "name": "stderr",
     "output_type": "stream",
     "text": [
      "/home/tbotalla/anaconda3/lib/python3.6/site-packages/sklearn/linear_model/stochastic_gradient.py:128: FutureWarning: max_iter and tol parameters have been added in <class 'sklearn.linear_model.stochastic_gradient.SGDClassifier'> in 0.19. If both are left unset, they default to max_iter=5 and tol=None. If tol is not None, max_iter defaults to max_iter=1000. From 0.21, default max_iter will be 1000, and default tol will be 1e-3.\n",
      "  \"and default tol will be 1e-3.\" % type(self), FutureWarning)\n"
     ]
    }
   ],
   "source": [
    "from sklearn.linear_model import SGDClassifier\n",
    "\n",
    "pred = predict(SGDClassifier(), X_train, X_test, target)\n",
    "pred_to_csv(pred,'SGD')"
   ]
  },
  {
   "cell_type": "code",
   "execution_count": 25,
   "metadata": {},
   "outputs": [],
   "source": [
    "from sklearn.tree import DecisionTreeClassifier\n",
    "\n",
    "pred = predict(DecisionTreeClassifier(), X_train, X_test, target)\n",
    "pred_to_csv(pred,'DecisionTreeClassifier') # 0.7 score en kaggle"
   ]
  },
  {
   "cell_type": "code",
   "execution_count": 26,
   "metadata": {},
   "outputs": [],
   "source": [
    "from sklearn.neighbors import KNeighborsClassifier\n",
    "\n",
    "pred = predict(KNeighborsClassifier(), X_train, X_test, target)\n",
    "pred_to_csv(pred,'KNeighborsClassifier') # 0.76 score en kaggle"
   ]
  },
  {
   "cell_type": "code",
   "execution_count": null,
   "metadata": {},
   "outputs": [],
   "source": []
  },
  {
   "cell_type": "code",
   "execution_count": null,
   "metadata": {},
   "outputs": [],
   "source": []
  },
  {
   "cell_type": "code",
   "execution_count": null,
   "metadata": {},
   "outputs": [],
   "source": []
  },
  {
   "cell_type": "code",
   "execution_count": null,
   "metadata": {},
   "outputs": [],
   "source": []
  },
  {
   "cell_type": "code",
   "execution_count": null,
   "metadata": {},
   "outputs": [],
   "source": []
  },
  {
   "cell_type": "code",
   "execution_count": 8,
   "metadata": {},
   "outputs": [],
   "source": [
    "from sklearn.model_selection import cross_val_score, KFold\n",
    "# seed para generar los mismos fold en cada cv\n",
    "seed = 7\n",
    "kfold = KFold(10,random_state=seed)\n",
    "scoring = 'neg_mean_squared_error'\n",
    "#scoring = 'jaccard_similarity_score'\n",
    "def cv_score(model,X,y,cv):\n",
    "#    MSE_score = cross_val_score(model,X,y,n_jobs=-1,cv=cv,scoring='neg_mean_squared_error').mean()\n",
    "    return cross_val_score(model,X,y,n_jobs=-1,cv=cv,scoring=scoring,verbose=3).mean()\n",
    "#    print('params:\\n',model.get_params())\n",
    "#    print('MSE score:\\n',MSE_score)"
   ]
  },
  {
   "cell_type": "code",
   "execution_count": null,
   "metadata": {},
   "outputs": [],
   "source": [
    "from sklearn.preprocessing import scale, normalize\n",
    "X_train_std = scale(X_train)\n",
    "X_test_std = scale(X_test)\n",
    "#X_train_nrm = normalize(X_train)\n",
    "#X_test_nrm = normalize(X_test)"
   ]
  },
  {
   "cell_type": "code",
   "execution_count": null,
   "metadata": {},
   "outputs": [
    {
     "name": "stdout",
     "output_type": "stream",
     "text": [
      "################################ DecTree ################################\n"
     ]
    }
   ],
   "source": [
    "%%time\n",
    "models = []\n",
    "models.append(('DecTree',tree.DecisionTreeClassifier()))\n",
    "scores = []\n",
    "for name,model in models:\n",
    "    print('################################',name,'################################')\n",
    "    score = cv_score(model,X_train,target,cv=kfold)\n",
    "    scores.append((name,score))"
   ]
  }
 ],
 "metadata": {
  "kernelspec": {
   "display_name": "Python 3",
   "language": "python",
   "name": "python3"
  },
  "language_info": {
   "codemirror_mode": {
    "name": "ipython",
    "version": 3
   },
   "file_extension": ".py",
   "mimetype": "text/x-python",
   "name": "python",
   "nbconvert_exporter": "python",
   "pygments_lexer": "ipython3",
   "version": "3.6.4"
  }
 },
 "nbformat": 4,
 "nbformat_minor": 2
}
