{
 "cells": [
  {
   "cell_type": "code",
   "execution_count": 1,
   "metadata": {},
   "outputs": [],
   "source": [
    "import pandas as pd\n",
    "import sklearn as sk\n",
    "import numpy as np\n",
    "import matplotlib.pyplot as plt\n",
    "%matplotlib inline"
   ]
  },
  {
   "cell_type": "markdown",
   "metadata": {},
   "source": [
    "### **Algoritmos a probar**\n",
    "\n",
    "**Linear**\n",
    "* Logistic Regression\n",
    "* Linear SVC (regularized - unregularized)\n",
    "\n",
    "**Non-linear**\n",
    "* Poly SVC\n",
    "* rbf SVC\n",
    "\n",
    "**otros**\n",
    "* naïve Bayes\n",
    "* Nearest Neighbors Classification\n",
    "* Stochastic Gradient Descent\n",
    "* Gaussian Process Classification\n",
    "* Decision Trees\n",
    "\n",
    "**Ensambles**\n",
    "* Random Forests\n",
    "* AdaBoost\n",
    "* Gradient Tree Boosting\n",
    "\n",
    "**Neural Network**\n",
    "* Multi-layer Perceptron"
   ]
  },
  {
   "cell_type": "markdown",
   "metadata": {},
   "source": [
    "### Pre-procesamiento de datos"
   ]
  },
  {
   "cell_type": "code",
   "execution_count": 2,
   "metadata": {},
   "outputs": [],
   "source": [
    "# Cargo datos parte1\n",
    "avisos_parte1 =  pd.read_csv('../data/datos_navent_fiuba/fiuba_6_avisos_detalle.csv')\n",
    "postulaciones_parte1 = pd.read_csv('../data/datos_navent_fiuba/fiuba_4_postulaciones.csv')\n",
    "vistas_parte1 = pd.read_csv('../data/datos_navent_fiuba/fiuba_3_vistas.csv')\n",
    "edadYGenero_parte1 = pd.read_csv('../data/datos_navent_fiuba/fiuba_2_postulantes_genero_y_edad.csv')\n",
    "educacion_parte1 = pd.read_csv('../data/datos_navent_fiuba/fiuba_1_postulantes_educacion.csv')\n",
    "\n",
    "# Cargo datos hasta 15_4\n",
    "avisos_hasta15_4 =  pd.read_csv('./data/Fiuba hasta 15 Abril/fiuba_6_avisos_detalle.csv')\n",
    "postulaciones_hasta15_4 = pd.read_csv('data/Fiuba hasta 15 Abril/fiuba_4_postulaciones.csv')\n",
    "vistas_hasta15_4 = pd.read_csv('data/Fiuba hasta 15 Abril/fiuba_3_vistas.csv')\n",
    "edadYGenero_hasta15_4 = pd.read_csv('data/Fiuba hasta 15 Abril/fiuba_2_postulantes_genero_y_edad.csv')\n",
    "educacion_hasta15_4 = pd.read_csv('data/Fiuba hasta 15 Abril/fiuba_1_postulantes_educacion.csv')\n",
    "\n",
    "# Concateno la info\n",
    "avisos = pd.concat([avisos_parte1, avisos_hasta15_4])\n",
    "postulaciones = pd.concat([postulaciones_parte1, postulaciones_hasta15_4])\n",
    "vistas = pd.concat([vistas_parte1, vistas_hasta15_4])\n",
    "edadYGenero = pd.concat([edadYGenero_parte1, edadYGenero_hasta15_4])\n",
    "educacion = pd.concat([educacion_parte1, educacion_hasta15_4])\n",
    "\n",
    "data = [avisos, postulaciones, vistas, edadYGenero, educacion]\n",
    "\n",
    "# Reseteo los index\n",
    "for df in data:\n",
    "  df.reset_index(drop=True, inplace=True)\n",
    "\n",
    "# Elimino duplicados\n",
    "for df in data:\n",
    "  if(df.duplicated().any().any()):\n",
    "    df.drop_duplicates(inplace=True)\n",
    "\n",
    "# Remuevo columnas innecesarias\n",
    "avisos.drop(columns=['idpais','ciudad','mapacalle'], inplace=True)\n",
    "\n",
    "# Renombro columnas\n",
    "educacion.rename(columns={'nombre':'nivel'}, inplace=True)\n",
    "vistas.rename(columns={'idAviso':'idaviso','timestamp':'fechavista'}, inplace=True)"
   ]
  },
  {
   "cell_type": "code",
   "execution_count": 3,
   "metadata": {},
   "outputs": [
    {
     "name": "stdout",
     "output_type": "stream",
     "text": [
      "[avisos] True\n",
      "  columnas -> denominacion_empresa\n",
      "  tasa[denominacion_empresa]: 0.0003048006096012192\n",
      "\n",
      "[postulaciones] False\n",
      "\n",
      "[vistas] False\n",
      "\n",
      "[edadYGenero] True\n",
      "  columnas -> fechanacimiento\n",
      "  tasa[fechanacimiento]: 0.04809377846111661\n",
      "\n",
      "[educacion] False\n",
      "\n"
     ]
    }
   ],
   "source": [
    "# Veo que set y columnas tiene datos faltantes\n",
    "datos = {'avisos': avisos, 'postulaciones': postulaciones, 'vistas': vistas, 'edadYGenero': edadYGenero, 'educacion': educacion}\n",
    "for name, df in datos.items():\n",
    "  cols_con_nulls = df.isnull().any()\n",
    "  print(f\"[{name}]\",cols_con_nulls.any())\n",
    "  if cols_con_nulls.any():\n",
    "    cols = df.columns[cols_con_nulls.values][0]\n",
    "    print('  columnas ->',cols)\n",
    "    for column in [cols]:\n",
    "      print(f'  tasa[{column}]:', len(df[df[[column]].isnull().values])/len(df))\n",
    "  print()"
   ]
  },
  {
   "cell_type": "code",
   "execution_count": 4,
   "metadata": {},
   "outputs": [
    {
     "name": "stdout",
     "output_type": "stream",
     "text": [
      "denominacion_empresa\n",
      "False    19679\n",
      "True         6\n",
      "Name: denominacion_empresa, dtype: int64\n"
     ]
    }
   ],
   "source": [
    "# AVISOS\n",
    "# Analizo cols con nulls\n",
    "if(avisos.isna().any().any()):\n",
    "  cols_con_nulls = avisos.columns[avisos.isna().any().values]\n",
    "  for col in cols_con_nulls:\n",
    "    print(col)\n",
    "    print(avisos[col].isna().value_counts())\n",
    "\n",
    "# Elimino filas con datos faltantes\n",
    "if(avisos.isna().any().any()):\n",
    "  avisos.dropna(inplace=True)"
   ]
  },
  {
   "cell_type": "code",
   "execution_count": 5,
   "metadata": {},
   "outputs": [
    {
     "name": "stdout",
     "output_type": "stream",
     "text": [
      "idpostulante       False\n",
      "fechanacimiento     True\n",
      "sexo               False\n",
      "dtype: bool\n",
      "FEM           204023\n",
      "MASC          183814\n",
      "NO_DECLARA       943\n",
      "0.0                1\n",
      "Name: sexo, dtype: int64\n",
      "tasa [NO_DECLARA]/total: 0.002425530054195035\n",
      "tasa [0.0]/total: 2.5721421571527415e-06\n",
      "mode FEM\n",
      "FEM     204967\n",
      "MASC    183814\n",
      "Name: sexo, dtype: int64\n",
      "total: 388781 | duplicados: 146\n",
      "tasa: 0.00037553275494430025\n"
     ]
    }
   ],
   "source": [
    "# EDADYGENERO\n",
    "# Elimino filas con datos faltantes\n",
    "if(edadYGenero.isna().any().any()):\n",
    "  edadYGenero.dropna(inplace=True)\n",
    "\n",
    "# Convierto columnas con fechas a datetime\n",
    "edadYGenero['fechanacimiento'] = pd.to_datetime(edadYGenero.fechanacimiento, format='%Y/%m/%d', errors='coerce')\n",
    "if(edadYGenero.isna().any().any()):\n",
    "  print(edadYGenero.isna().any())\n",
    "  edadYGenero.dropna(inplace=True)\n",
    "\n",
    "# Agrego columna edad\n",
    "anio_actual = pd.to_datetime('today').year\n",
    "edadYGenero['edad'] = edadYGenero.fechanacimiento.map(lambda fecha: anio_actual - fecha.year).astype(int)\n",
    "\n",
    "# Analizo los datos de la columna 'sexo'\n",
    "print(edadYGenero.sexo.value_counts())\n",
    "for value in edadYGenero.sexo.value_counts().index:\n",
    "  if((value != 'FEM') & (value != 'MASC')):\n",
    "    print(f'tasa [{value}]/total:',len(edadYGenero.sexo[edadYGenero.sexo == value])/len(edadYGenero))\n",
    "\n",
    "# Reemplazo esos valores por valor moda\n",
    "moda = edadYGenero.sexo.mode()[0]\n",
    "print('mode',moda)\n",
    "edadYGenero.sexo.replace(['NO_DECLARA','0.0'], moda, inplace=True)\n",
    "print(edadYGenero.sexo.value_counts())\n",
    "\n",
    "# Elimino filas con id duplicado\n",
    "if(edadYGenero.idpostulante.duplicated().any()):\n",
    "  print('total:',len(edadYGenero),'| duplicados:',len(edadYGenero[edadYGenero.idpostulante.duplicated()]))\n",
    "  print('tasa:',len(edadYGenero[edadYGenero.idpostulante.duplicated()])/len(edadYGenero))\n",
    "  edadYGenero.drop(edadYGenero[edadYGenero.idpostulante.duplicated()].index, inplace=True)"
   ]
  },
  {
   "cell_type": "code",
   "execution_count": 6,
   "metadata": {},
   "outputs": [
    {
     "name": "stdout",
     "output_type": "stream",
     "text": [
      "[nivel]\n",
      "Universitario      207752   0.3653668934176556\n",
      "Secundario         199375   0.35063452758647373\n",
      "Terciario/Técnico  92632    0.1629089783543084\n",
      "Otro               43225    0.07601844491498597\n",
      "Posgrado           16822    0.029584321118794537\n",
      "Master             8299     0.01459518968998192\n",
      "Doctorado          507      0.0008916449177998354\n",
      "\n",
      "[estado]\n",
      "Graduado      370213\n",
      "En Curso      149388\n",
      "Abandonado     49011\n",
      "Name: estado, dtype: int64\n"
     ]
    }
   ],
   "source": [
    "# EDUCACIÓN\n",
    "# Analizo valores\n",
    "nivel_counts = educacion.nivel.value_counts()\n",
    "print('[nivel]')\n",
    "for val in nivel_counts.index:\n",
    "  print(val,' '*(17-len(val)),nivel_counts[val],' '*(7-len(str(nivel_counts[val]))),nivel_counts[val]/len(educacion))\n",
    "\n",
    "# Reemplazo valor 'Otro' por valor moda\n",
    "mode = educacion.nivel.mode()[0]\n",
    "educacion.nivel.replace('Otro', mode, inplace=True)\n",
    "print()\n",
    "print('[estado]')\n",
    "print(educacion.estado.value_counts())"
   ]
  },
  {
   "cell_type": "code",
   "execution_count": 7,
   "metadata": {},
   "outputs": [],
   "source": [
    "# Unifico vistas y postulaciones\n",
    "vistas_y_postulaciones = pd.merge(vistas, postulaciones, on=['idpostulante','idaviso'], how='outer')\n",
    "\n",
    "# Renombro columnas y reordeno\n",
    "vistas_y_postulaciones.rename(columns={'fechavista':'vista','fechapostulacion':'postulacion'}, inplace=True)\n",
    "vistas_y_postulaciones = vistas_y_postulaciones[['idaviso','idpostulante','vista','postulacion']]\n",
    "\n",
    "# Cambio valores de fechas por 1 si hay fecha y 0 si es NaN\n",
    "vistas_y_postulaciones.vista = vistas_y_postulaciones.vista.notnull().astype('int')\n",
    "vistas_y_postulaciones.postulacion = vistas_y_postulaciones.postulacion.notnull().astype('int')"
   ]
  },
  {
   "cell_type": "code",
   "execution_count": null,
   "metadata": {},
   "outputs": [],
   "source": []
  }
 ],
 "metadata": {
  "kernelspec": {
   "display_name": "Python 3",
   "language": "python",
   "name": "python3"
  },
  "language_info": {
   "codemirror_mode": {
    "name": "ipython",
    "version": 3
   },
   "file_extension": ".py",
   "mimetype": "text/x-python",
   "name": "python",
   "nbconvert_exporter": "python",
   "pygments_lexer": "ipython3",
   "version": "3.6.5"
  }
 },
 "nbformat": 4,
 "nbformat_minor": 2
}
