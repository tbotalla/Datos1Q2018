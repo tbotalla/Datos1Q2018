{
 "cells": [
  {
   "cell_type": "code",
   "execution_count": 1,
   "metadata": {},
   "outputs": [],
   "source": [
    "import pandas as pd\n",
    "import sklearn as sk\n",
    "import numpy as np\n",
    "import matplotlib.pyplot as plt\n",
    "%matplotlib inline"
   ]
  },
  {
   "cell_type": "markdown",
   "metadata": {},
   "source": [
    "### **Algoritmos a probar**\n",
    "\n",
    "**Linear**\n",
    "* Logistic Regression\n",
    "* Linear SVC (regularized - unregularized)\n",
    "\n",
    "**Non-linear**\n",
    "* Poly SVC\n",
    "* rbf SVC\n",
    "\n",
    "**otros**\n",
    "* naïve Bayes\n",
    "* Nearest Neighbors Classification\n",
    "* Stochastic Gradient Descent\n",
    "* Gaussian Process Classification\n",
    "* Decision Trees\n",
    "\n",
    "**Ensambles**\n",
    "* Random Forests\n",
    "* AdaBoost\n",
    "* Gradient Tree Boosting\n",
    "\n",
    "**Neural Network**\n",
    "* Multi-layer Perceptron"
   ]
  },
  {
   "cell_type": "markdown",
   "metadata": {},
   "source": [
    "### Pre-procesamiento de datos"
   ]
  },
  {
   "cell_type": "code",
   "execution_count": 2,
   "metadata": {},
   "outputs": [],
   "source": [
    "# Cargo datos parte1\n",
    "avisos_parte1 =  pd.read_csv('../data/datos_navent_fiuba/fiuba_6_avisos_detalle.csv')\n",
    "postulaciones_parte1 = pd.read_csv('../data/datos_navent_fiuba/fiuba_4_postulaciones.csv')\n",
    "vistas_parte1 = pd.read_csv('../data/datos_navent_fiuba/fiuba_3_vistas.csv')\n",
    "edadYGenero_parte1 = pd.read_csv('../data/datos_navent_fiuba/fiuba_2_postulantes_genero_y_edad.csv')\n",
    "educacion_parte1 = pd.read_csv('../data/datos_navent_fiuba/fiuba_1_postulantes_educacion.csv')\n",
    "\n",
    "# Cargo datos hasta 15_4\n",
    "avisos_hasta15_4 =  pd.read_csv('./data/Fiuba hasta 15 Abril/fiuba_6_avisos_detalle.csv')\n",
    "postulaciones_hasta15_4 = pd.read_csv('data/Fiuba hasta 15 Abril/fiuba_4_postulaciones.csv')\n",
    "vistas_hasta15_4 = pd.read_csv('data/Fiuba hasta 15 Abril/fiuba_3_vistas.csv')\n",
    "edadYGenero_hasta15_4 = pd.read_csv('data/Fiuba hasta 15 Abril/fiuba_2_postulantes_genero_y_edad.csv')\n",
    "educacion_hasta15_4 = pd.read_csv('data/Fiuba hasta 15 Abril/fiuba_1_postulantes_educacion.csv')\n",
    "\n",
    "# Concateno la info\n",
    "avisos = pd.concat([avisos_parte1, avisos_hasta15_4])\n",
    "postulaciones = pd.concat([postulaciones_parte1, postulaciones_hasta15_4])\n",
    "vistas = pd.concat([vistas_parte1, vistas_hasta15_4])\n",
    "edadYGenero = pd.concat([edadYGenero_parte1, edadYGenero_hasta15_4])\n",
    "educacion = pd.concat([educacion_parte1, educacion_hasta15_4])\n",
    "\n",
    "# Elimino duplicados\n",
    "avisos.drop_duplicates(inplace=True)\n",
    "postulaciones.drop_duplicates(inplace=True)\n",
    "vistas.drop_duplicates(inplace=True)\n",
    "edadYGenero.drop_duplicates(inplace=True)\n",
    "educacion.drop_duplicates(inplace=True)\n",
    "\n",
    "# Remuevo columnas innecesarias\n",
    "avisos.drop(columns=['idpais','ciudad','mapacalle'], inplace=True)\n",
    "\n",
    "# Renombro columnas\n",
    "educacion.rename(columns={'nombre':'nivel'}, inplace=True)\n",
    "vistas.rename(columns={'idAviso':'idaviso','timestamp':'fechavista'}, inplace=True)"
   ]
  },
  {
   "cell_type": "code",
   "execution_count": 39,
   "metadata": {},
   "outputs": [],
   "source": [
    "# Unifico vistas y postulaciones\n",
    "vistas_y_postulaciones = pd.merge(vistas, postulaciones, on=['idpostulante','idaviso'], how='outer')\n",
    "# Renombro columnas y reordeno\n",
    "vistas_y_postulaciones.rename(columns={'fechavista':'vista','fechapostulacion':'postulacion'}, inplace=True)\n",
    "vistas_y_postulaciones = vistas_y_postulaciones[['idaviso','idpostulante','vista','postulacion']]\n",
    "# Cambio valores de fechas por 1 si hay fecha y 0 si es NaN\n",
    "vistas_y_postulaciones.vista = vistas_y_postulaciones.vista.notnull().astype('int')\n",
    "vistas_y_postulaciones.postulacion = vistas_y_postulaciones.postulacion.notnull().astype('int')"
   ]
  },
  {
   "cell_type": "code",
   "execution_count": 84,
   "metadata": {},
   "outputs": [
    {
     "data": {
      "text/plain": [
       "0         48\n",
       "1         56\n",
       "2         40\n",
       "3         49\n",
       "4         37\n",
       "5         50\n",
       "6         52\n",
       "7         42\n",
       "8         42\n",
       "9         37\n",
       "10        45\n",
       "11        55\n",
       "12        51\n",
       "13        41\n",
       "14        45\n",
       "15        64\n",
       "16        59\n",
       "17        42\n",
       "18        54\n",
       "19        47\n",
       "20        44\n",
       "21        55\n",
       "22        52\n",
       "23        52\n",
       "24        49\n",
       "25        42\n",
       "26        52\n",
       "27        51\n",
       "28        39\n",
       "29        46\n",
       "          ..\n",
       "297702    32\n",
       "297703    35\n",
       "297705    27\n",
       "297706    38\n",
       "297707    45\n",
       "297708    30\n",
       "297709    26\n",
       "297711    22\n",
       "297712    29\n",
       "297713    18\n",
       "297714    30\n",
       "297716    19\n",
       "297718    26\n",
       "297721    45\n",
       "297722    19\n",
       "297723    22\n",
       "297725    20\n",
       "297726    22\n",
       "297727    25\n",
       "297728    23\n",
       "297731    23\n",
       "297732    19\n",
       "297734    18\n",
       "297735    24\n",
       "297736    45\n",
       "297737    21\n",
       "297739    28\n",
       "297741    24\n",
       "297742    19\n",
       "297745    20\n",
       "Name: fechanacimiento, Length: 388781, dtype: int64"
      ]
     },
     "execution_count": 84,
     "metadata": {},
     "output_type": "execute_result"
    }
   ],
   "source": [
    "this_year = pd.to_datetime('today').year\n",
    "pd.to_datetime(edadYGenero.fechanacimiento, format='%Y/%m/%d', errors='coerce')\\\n",
    "  .dropna()\\\n",
    "  .map(lambda date: this_year - date.year)"
   ]
  },
  {
   "cell_type": "code",
   "execution_count": null,
   "metadata": {},
   "outputs": [],
   "source": []
  }
 ],
 "metadata": {
  "kernelspec": {
   "display_name": "Python 3",
   "language": "python",
   "name": "python3"
  },
  "language_info": {
   "codemirror_mode": {
    "name": "ipython",
    "version": 3
   },
   "file_extension": ".py",
   "mimetype": "text/x-python",
   "name": "python",
   "nbconvert_exporter": "python",
   "pygments_lexer": "ipython3",
   "version": "3.6.5"
  }
 },
 "nbformat": 4,
 "nbformat_minor": 2
}
