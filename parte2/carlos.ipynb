{
 "cells": [
  {
   "cell_type": "code",
   "execution_count": 1,
   "metadata": {},
   "outputs": [],
   "source": [
    "import pandas as pd\n",
    "import sklearn as sk\n",
    "import numpy as np\n",
    "import matplotlib.pyplot as plt\n",
    "%matplotlib inline"
   ]
  },
  {
   "cell_type": "markdown",
   "metadata": {},
   "source": [
    "### **Algoritmos a probar**\n",
    "\n",
    "**Linear**\n",
    "* Logistic Regression\n",
    "* Linear SVC (regularized - unregularized)\n",
    "\n",
    "**Non-linear**\n",
    "* Poly SVC\n",
    "* rbf SVC\n",
    "\n",
    "**otros**\n",
    "* naïve Bayes\n",
    "* Nearest Neighbors Classification\n",
    "* Stochastic Gradient Descent\n",
    "* Gaussian Process Classification\n",
    "* Decision Trees\n",
    "\n",
    "**Ensambles**\n",
    "* Random Forests\n",
    "* AdaBoost\n",
    "* Gradient Tree Boosting\n",
    "\n",
    "**Neural Network**\n",
    "* Multi-layer Perceptron"
   ]
  },
  {
   "cell_type": "markdown",
   "metadata": {},
   "source": [
    "### Pre-procesamiento de datos"
   ]
  },
  {
   "cell_type": "code",
   "execution_count": 2,
   "metadata": {},
   "outputs": [],
   "source": [
    "# Cargo datos parte1\n",
    "avisos_parte1 =  pd.read_csv('../data/datos_navent_fiuba/fiuba_6_avisos_detalle.csv')\n",
    "postulaciones_parte1 = pd.read_csv('../data/datos_navent_fiuba/fiuba_4_postulaciones.csv')\n",
    "vistas_parte1 = pd.read_csv('../data/datos_navent_fiuba/fiuba_3_vistas.csv')\n",
    "edadYGenero_parte1 = pd.read_csv('../data/datos_navent_fiuba/fiuba_2_postulantes_genero_y_edad.csv')\n",
    "educacion_parte1 = pd.read_csv('../data/datos_navent_fiuba/fiuba_1_postulantes_educacion.csv')\n",
    "\n",
    "# Cargo datos hasta 15_4\n",
    "avisos_hasta15_4 =  pd.read_csv('./data/Fiuba hasta 15 Abril/fiuba_6_avisos_detalle.csv')\n",
    "postulaciones_hasta15_4 = pd.read_csv('data/Fiuba hasta 15 Abril/fiuba_4_postulaciones.csv')\n",
    "vistas_hasta15_4 = pd.read_csv('data/Fiuba hasta 15 Abril/fiuba_3_vistas.csv')\n",
    "edadYGenero_hasta15_4 = pd.read_csv('data/Fiuba hasta 15 Abril/fiuba_2_postulantes_genero_y_edad.csv')\n",
    "educacion_hasta15_4 = pd.read_csv('data/Fiuba hasta 15 Abril/fiuba_1_postulantes_educacion.csv')\n",
    "\n",
    "# Concateno la info\n",
    "avisos = pd.concat([avisos_parte1, avisos_hasta15_4])\n",
    "postulaciones = pd.concat([postulaciones_parte1, postulaciones_hasta15_4])\n",
    "vistas = pd.concat([vistas_parte1, vistas_hasta15_4])\n",
    "edadYGenero = pd.concat([edadYGenero_parte1, edadYGenero_hasta15_4])\n",
    "educacion = pd.concat([educacion_parte1, educacion_hasta15_4])\n",
    "\n",
    "# Elimino duplicados\n",
    "avisos.drop_duplicates(inplace=True)\n",
    "postulaciones.drop_duplicates(inplace=True)\n",
    "vistas.drop_duplicates(inplace=True)\n",
    "edadYGenero.drop_duplicates(inplace=True)\n",
    "educacion.drop_duplicates(inplace=True)\n",
    "\n",
    "# Remuevo columnas innecesarias\n",
    "avisos.drop(columns=['idpais','ciudad','mapacalle'], inplace=True)\n",
    "\n",
    "# Renombro columnas\n",
    "educacion.rename(columns={'nombre':'nivel'}, inplace=True)\n",
    "vistas.rename(columns={'idAviso':'idaviso','timestamp':'fechavista'}, inplace=True)"
   ]
  }
 ],
 "metadata": {
  "kernelspec": {
   "display_name": "Python 3",
   "language": "python",
   "name": "python3"
  },
  "language_info": {
   "codemirror_mode": {
    "name": "ipython",
    "version": 3
   },
   "file_extension": ".py",
   "mimetype": "text/x-python",
   "name": "python",
   "nbconvert_exporter": "python",
   "pygments_lexer": "ipython3",
   "version": "3.6.5"
  }
 },
 "nbformat": 4,
 "nbformat_minor": 2
}
