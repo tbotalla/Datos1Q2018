{
 "cells": [
  {
   "cell_type": "code",
   "execution_count": 106,
   "metadata": {},
   "outputs": [],
   "source": [
    "import pandas as pd\n",
    "import sklearn as sk\n",
    "import numpy as np\n",
    "import matplotlib.pyplot as plt\n",
    "%matplotlib inline"
   ]
  },
  {
   "cell_type": "markdown",
   "metadata": {},
   "source": [
    "### **Algoritmos a probar**\n",
    "\n",
    "**Linear**\n",
    "* Logistic Regression\n",
    "* Linear SVC (regularized - unregularized)\n",
    "\n",
    "**Non-linear**\n",
    "* Poly SVC\n",
    "* rbf SVC\n",
    "\n",
    "**otros**\n",
    "* naïve Bayes\n",
    "* Nearest Neighbors Classification\n",
    "* Stochastic Gradient Descent\n",
    "* Gaussian Process Classification\n",
    "* Decision Trees\n",
    "\n",
    "**Ensambles**\n",
    "* Random Forests\n",
    "* AdaBoost\n",
    "* Gradient Tree Boosting\n",
    "\n",
    "**Neural Network**\n",
    "* Multi-layer Perceptron"
   ]
  },
  {
   "cell_type": "markdown",
   "metadata": {},
   "source": [
    "### Pre-procesamiento de datos"
   ]
  },
  {
   "cell_type": "code",
   "execution_count": 107,
   "metadata": {},
   "outputs": [],
   "source": [
    "# Cargo datos parte1\n",
    "avisos_parte1 =  pd.read_csv('../data/datos_navent_fiuba/fiuba_6_avisos_detalle.csv')\n",
    "postulaciones_parte1 = pd.read_csv('../data/datos_navent_fiuba/fiuba_4_postulaciones.csv')\n",
    "vistas_parte1 = pd.read_csv('../data/datos_navent_fiuba/fiuba_3_vistas.csv')\n",
    "edadYGenero_parte1 = pd.read_csv('../data/datos_navent_fiuba/fiuba_2_postulantes_genero_y_edad.csv')\n",
    "educacion_parte1 = pd.read_csv('../data/datos_navent_fiuba/fiuba_1_postulantes_educacion.csv')\n",
    "\n",
    "# Cargo datos hasta 15_4\n",
    "avisos_hasta15_4 =  pd.read_csv('./data/Fiuba hasta 15 Abril/fiuba_6_avisos_detalle.csv')\n",
    "postulaciones_hasta15_4 = pd.read_csv('data/Fiuba hasta 15 Abril/fiuba_4_postulaciones.csv')\n",
    "vistas_hasta15_4 = pd.read_csv('data/Fiuba hasta 15 Abril/fiuba_3_vistas.csv')\n",
    "edadYGenero_hasta15_4 = pd.read_csv('data/Fiuba hasta 15 Abril/fiuba_2_postulantes_genero_y_edad.csv')\n",
    "educacion_hasta15_4 = pd.read_csv('data/Fiuba hasta 15 Abril/fiuba_1_postulantes_educacion.csv')\n",
    "\n",
    "# Concateno la info\n",
    "avisos = pd.concat([avisos_parte1, avisos_hasta15_4])\n",
    "postulaciones = pd.concat([postulaciones_parte1, postulaciones_hasta15_4])\n",
    "vistas = pd.concat([vistas_parte1, vistas_hasta15_4])\n",
    "edadYGenero = pd.concat([edadYGenero_parte1, edadYGenero_hasta15_4])\n",
    "educacion = pd.concat([educacion_parte1, educacion_hasta15_4])\n",
    "\n",
    "# Elimino df innecesarios\n",
    "del(avisos_hasta15_4,\n",
    "    avisos_parte1,\n",
    "    postulaciones_hasta15_4,\n",
    "    postulaciones_parte1,\n",
    "    vistas_hasta15_4,\n",
    "    vistas_parte1,\n",
    "    edadYGenero_hasta15_4,\n",
    "    edadYGenero_parte1,\n",
    "    educacion_hasta15_4,\n",
    "    educacion_parte1)\n",
    "\n",
    "# Guardo una lista con los datasets\n",
    "data = [avisos, postulaciones, vistas, edadYGenero, educacion]\n",
    "\n",
    "# Reseteo los index\n",
    "for df in data:\n",
    "  df.reset_index(drop=True, inplace=True)\n",
    "\n",
    "# Elimino duplicados\n",
    "for df in data:\n",
    "  if(df.duplicated().any().any()):\n",
    "    df.drop_duplicates(inplace=True)\n",
    "\n",
    "# Remuevo columnas innecesarias\n",
    "avisos.drop(columns=['idpais','ciudad','mapacalle'], inplace=True)\n",
    "\n",
    "# Renombro columnas\n",
    "educacion.rename(columns={'nombre':'nivel'}, inplace=True)\n",
    "vistas.rename(columns={'idAviso':'idaviso','timestamp':'fechavista'}, inplace=True)"
   ]
  },
  {
   "cell_type": "code",
   "execution_count": 108,
   "metadata": {},
   "outputs": [
    {
     "name": "stdout",
     "output_type": "stream",
     "text": [
      "[avisos] True\n",
      "  columnas -> denominacion_empresa\n",
      "  tasa[denominacion_empresa]: 0.0003048006096012192\n",
      "\n",
      "[postulaciones] False\n",
      "\n",
      "[vistas] False\n",
      "\n",
      "[edadYGenero] True\n",
      "  columnas -> fechanacimiento\n",
      "  tasa[fechanacimiento]: 0.04809377846111661\n",
      "\n",
      "[educacion] False\n",
      "\n"
     ]
    }
   ],
   "source": [
    "# Veo que set y columnas tiene datos faltantes\n",
    "datos = {'avisos': avisos, 'postulaciones': postulaciones, 'vistas': vistas, 'edadYGenero': edadYGenero, 'educacion': educacion}\n",
    "for name, df in datos.items():\n",
    "  cols_con_nulls = df.isnull().any()\n",
    "  print(f\"[{name}]\",cols_con_nulls.any())\n",
    "  if cols_con_nulls.any():\n",
    "    cols = df.columns[cols_con_nulls.values][0]\n",
    "    print('  columnas ->',cols)\n",
    "    for column in [cols]:\n",
    "      print(f'  tasa[{column}]:', len(df[df[[column]].isnull().values])/len(df))\n",
    "  print()"
   ]
  },
  {
   "cell_type": "code",
   "execution_count": 109,
   "metadata": {},
   "outputs": [
    {
     "name": "stdout",
     "output_type": "stream",
     "text": [
      "denominacion_empresa\n",
      "False    19679\n",
      "True         6\n",
      "Name: denominacion_empresa, dtype: int64\n"
     ]
    }
   ],
   "source": [
    "# AVISOS\n",
    "# Analizo cols con nulls\n",
    "if(avisos.isna().any().any()):\n",
    "  cols_con_nulls = avisos.columns[avisos.isna().any().values]\n",
    "  for col in cols_con_nulls:\n",
    "    print(col)\n",
    "    print(avisos[col].isna().value_counts())\n",
    "\n",
    "# Elimino filas con datos faltantes\n",
    "if(avisos.isna().any().any()):\n",
    "  avisos.dropna(inplace=True)"
   ]
  },
  {
   "cell_type": "code",
   "execution_count": 110,
   "metadata": {},
   "outputs": [
    {
     "name": "stdout",
     "output_type": "stream",
     "text": [
      "idpostulante       False\n",
      "fechanacimiento     True\n",
      "sexo               False\n",
      "dtype: bool\n",
      "FEM           204023\n",
      "MASC          183814\n",
      "NO_DECLARA       943\n",
      "0.0                1\n",
      "Name: sexo, dtype: int64\n",
      "tasa [NO_DECLARA]/total: 0.002425530054195035\n",
      "tasa [0.0]/total: 2.5721421571527415e-06\n",
      "mode FEM\n",
      "FEM     204967\n",
      "MASC    183814\n",
      "Name: sexo, dtype: int64\n",
      "total: 388781 | duplicados: 146\n",
      "tasa: 0.00037553275494430025\n"
     ]
    }
   ],
   "source": [
    "# EDADYGENERO\n",
    "# Elimino filas con datos faltantes\n",
    "if(edadYGenero.isna().any().any()):\n",
    "  edadYGenero.dropna(inplace=True)\n",
    "\n",
    "# Convierto columnas con fechas a datetime\n",
    "edadYGenero['fechanacimiento'] = pd.to_datetime(edadYGenero.fechanacimiento, format='%Y/%m/%d', errors='coerce')\n",
    "if(edadYGenero.isna().any().any()):\n",
    "  print(edadYGenero.isna().any())\n",
    "  edadYGenero.dropna(inplace=True)\n",
    "\n",
    "# Agrego columna edad\n",
    "anio_actual = pd.to_datetime('today').year\n",
    "edadYGenero['edad'] = edadYGenero.fechanacimiento.map(lambda fecha: anio_actual - fecha.year).astype(int)\n",
    "\n",
    "# Elimino la columna fechanacimiento\n",
    "edadYGenero.drop(columns=['fechanacimiento'], inplace=True)\n",
    "\n",
    "# Analizo los datos de la columna 'sexo'\n",
    "print(edadYGenero.sexo.value_counts())\n",
    "for value in edadYGenero.sexo.value_counts().index:\n",
    "  if((value != 'FEM') & (value != 'MASC')):\n",
    "    print(f'tasa [{value}]/total:',len(edadYGenero.sexo[edadYGenero.sexo == value])/len(edadYGenero))\n",
    "\n",
    "# Reemplazo esos valores por valor moda\n",
    "moda = edadYGenero.sexo.mode()[0]\n",
    "print('mode',moda)\n",
    "edadYGenero.sexo.replace(['NO_DECLARA','0.0'], moda, inplace=True)\n",
    "print(edadYGenero.sexo.value_counts())\n",
    "\n",
    "# Elimino filas con id duplicado\n",
    "if(edadYGenero.idpostulante.duplicated().any()):\n",
    "  print('total:',len(edadYGenero),'| duplicados:',len(edadYGenero[edadYGenero.idpostulante.duplicated()]))\n",
    "  print('tasa:',len(edadYGenero[edadYGenero.idpostulante.duplicated()])/len(edadYGenero))\n",
    "  edadYGenero.drop(edadYGenero[edadYGenero.idpostulante.duplicated()].index, inplace=True)\n",
    "\n",
    "# Cambio valores categóricos a columnas\n",
    "genero = {'FEM': 0,'MASC': 1}\n",
    "edadYGenero['sexo'] = edadYGenero.sexo.map(lambda x: genero[x])"
   ]
  },
  {
   "cell_type": "code",
   "execution_count": 111,
   "metadata": {},
   "outputs": [
    {
     "name": "stdout",
     "output_type": "stream",
     "text": [
      "[nivel]\n",
      "Universitario      207752   0.3653668934176556\n",
      "Secundario         199375   0.35063452758647373\n",
      "Terciario/Técnico  92632    0.1629089783543084\n",
      "Otro               43225    0.07601844491498597\n",
      "Posgrado           16822    0.029584321118794537\n",
      "Master             8299     0.01459518968998192\n",
      "Doctorado          507      0.0008916449177998354\n",
      "\n",
      "[estado]\n",
      "Graduado      370213\n",
      "En Curso      149388\n",
      "Abandonado     49011\n",
      "Name: estado, dtype: int64\n"
     ]
    }
   ],
   "source": [
    "# EDUCACIÓN\n",
    "# Analizo valores\n",
    "nivel_counts = educacion.nivel.value_counts()\n",
    "print('[nivel]')\n",
    "for val in nivel_counts.index:\n",
    "  print(val,' '*(17-len(val)),nivel_counts[val],' '*(7-len(str(nivel_counts[val]))),nivel_counts[val]/len(educacion))\n",
    "\n",
    "# Reemplazo valor 'Otro' por valor moda\n",
    "mode = educacion.nivel.mode()[0]\n",
    "educacion.nivel.replace('Otro', mode, inplace=True)\n",
    "print()\n",
    "print('[estado]')\n",
    "print(educacion.estado.value_counts())\n",
    "\n",
    "# Convierto valores categóricos a columnas booleanas\n",
    "nivel = {\n",
    "  'Doctorado': 6,\n",
    "   'Master': 5,\n",
    "   'Posgrado': 4,\n",
    "   'Universitario': 3,\n",
    "   'Terciario/Técnico': 2,\n",
    "   'Secundario': 1\n",
    "  }\n",
    "educacion['nivel'] = educacion.nivel.map(lambda x: nivel[x])\n",
    "\n",
    "estado = {'Graduado': 3,'En Curso': 2, 'Abandonado': 1}\n",
    "educacion['estado'] = educacion.estado.map(lambda x: estado[x])"
   ]
  },
  {
   "cell_type": "code",
   "execution_count": 112,
   "metadata": {},
   "outputs": [
    {
     "data": {
      "text/plain": [
       "False"
      ]
     },
     "execution_count": 112,
     "metadata": {},
     "output_type": "execute_result"
    }
   ],
   "source": [
    "educacion.estado.isna().any()"
   ]
  },
  {
   "cell_type": "code",
   "execution_count": 113,
   "metadata": {},
   "outputs": [],
   "source": [
    "# Busco el nivel de estudio completado más alto\n",
    "educacion_grouped = educacion.groupby('idpostulante')\n",
    "# esto está mal\n",
    "usuarios_edu = educacion_grouped.agg({'nivel': 'max','estado': lambda x: np.count_nonzero(x == 3)}).reset_index()\n",
    "usuarios_edu.rename(columns={'nivel':'max_nivel_ed','estado':'cant_estudios'}, inplace=True)"
   ]
  },
  {
   "cell_type": "code",
   "execution_count": 159,
   "metadata": {},
   "outputs": [
    {
     "ename": "KeyError",
     "evalue": "0",
     "output_type": "error",
     "traceback": [
      "\u001b[0;31m---------------------------------------------------------------------------\u001b[0m",
      "\u001b[0;31mKeyError\u001b[0m                                  Traceback (most recent call last)",
      "\u001b[0;32m<ipython-input-159-409aecbfdb6d>\u001b[0m in \u001b[0;36m<module>\u001b[0;34m()\u001b[0m\n\u001b[0;32m----> 1\u001b[0;31m \u001b[0;34m[\u001b[0m\u001b[0mmax\u001b[0m\u001b[0;34m(\u001b[0m\u001b[0;34m[\u001b[0m\u001b[0mval\u001b[0m \u001b[0;32mfor\u001b[0m \u001b[0;34m(\u001b[0m\u001b[0mix\u001b[0m\u001b[0;34m,\u001b[0m \u001b[0mval\u001b[0m\u001b[0;34m)\u001b[0m \u001b[0;32min\u001b[0m \u001b[0menumerate\u001b[0m\u001b[0;34m(\u001b[0m\u001b[0mcols\u001b[0m\u001b[0;34m.\u001b[0m\u001b[0mnivel\u001b[0m\u001b[0;34m)\u001b[0m \u001b[0;32mif\u001b[0m \u001b[0mcols\u001b[0m\u001b[0;34m.\u001b[0m\u001b[0mestado\u001b[0m\u001b[0;34m[\u001b[0m\u001b[0mix\u001b[0m\u001b[0;34m]\u001b[0m \u001b[0;34m==\u001b[0m \u001b[0;36m3\u001b[0m\u001b[0;34m]\u001b[0m\u001b[0;34m,\u001b[0m \u001b[0mdefault\u001b[0m\u001b[0;34m=\u001b[0m\u001b[0;36m0\u001b[0m\u001b[0;34m)\u001b[0m \u001b[0;32mfor\u001b[0m \u001b[0;34m(\u001b[0m\u001b[0midx\u001b[0m\u001b[0;34m,\u001b[0m\u001b[0mcols\u001b[0m\u001b[0;34m)\u001b[0m \u001b[0;32min\u001b[0m \u001b[0meducacion_grouped\u001b[0m\u001b[0;34m.\u001b[0m\u001b[0m__iter__\u001b[0m\u001b[0;34m(\u001b[0m\u001b[0;34m)\u001b[0m\u001b[0;34m]\u001b[0m\u001b[0;34m\u001b[0m\u001b[0m\n\u001b[0m",
      "\u001b[0;32m<ipython-input-159-409aecbfdb6d>\u001b[0m in \u001b[0;36m<listcomp>\u001b[0;34m(.0)\u001b[0m\n\u001b[0;32m----> 1\u001b[0;31m \u001b[0;34m[\u001b[0m\u001b[0mmax\u001b[0m\u001b[0;34m(\u001b[0m\u001b[0;34m[\u001b[0m\u001b[0mval\u001b[0m \u001b[0;32mfor\u001b[0m \u001b[0;34m(\u001b[0m\u001b[0mix\u001b[0m\u001b[0;34m,\u001b[0m \u001b[0mval\u001b[0m\u001b[0;34m)\u001b[0m \u001b[0;32min\u001b[0m \u001b[0menumerate\u001b[0m\u001b[0;34m(\u001b[0m\u001b[0mcols\u001b[0m\u001b[0;34m.\u001b[0m\u001b[0mnivel\u001b[0m\u001b[0;34m)\u001b[0m \u001b[0;32mif\u001b[0m \u001b[0mcols\u001b[0m\u001b[0;34m.\u001b[0m\u001b[0mestado\u001b[0m\u001b[0;34m[\u001b[0m\u001b[0mix\u001b[0m\u001b[0;34m]\u001b[0m \u001b[0;34m==\u001b[0m \u001b[0;36m3\u001b[0m\u001b[0;34m]\u001b[0m\u001b[0;34m,\u001b[0m \u001b[0mdefault\u001b[0m\u001b[0;34m=\u001b[0m\u001b[0;36m0\u001b[0m\u001b[0;34m)\u001b[0m \u001b[0;32mfor\u001b[0m \u001b[0;34m(\u001b[0m\u001b[0midx\u001b[0m\u001b[0;34m,\u001b[0m\u001b[0mcols\u001b[0m\u001b[0;34m)\u001b[0m \u001b[0;32min\u001b[0m \u001b[0meducacion_grouped\u001b[0m\u001b[0;34m.\u001b[0m\u001b[0m__iter__\u001b[0m\u001b[0;34m(\u001b[0m\u001b[0;34m)\u001b[0m\u001b[0;34m]\u001b[0m\u001b[0;34m\u001b[0m\u001b[0m\n\u001b[0m",
      "\u001b[0;32m<ipython-input-159-409aecbfdb6d>\u001b[0m in \u001b[0;36m<listcomp>\u001b[0;34m(.0)\u001b[0m\n\u001b[0;32m----> 1\u001b[0;31m \u001b[0;34m[\u001b[0m\u001b[0mmax\u001b[0m\u001b[0;34m(\u001b[0m\u001b[0;34m[\u001b[0m\u001b[0mval\u001b[0m \u001b[0;32mfor\u001b[0m \u001b[0;34m(\u001b[0m\u001b[0mix\u001b[0m\u001b[0;34m,\u001b[0m \u001b[0mval\u001b[0m\u001b[0;34m)\u001b[0m \u001b[0;32min\u001b[0m \u001b[0menumerate\u001b[0m\u001b[0;34m(\u001b[0m\u001b[0mcols\u001b[0m\u001b[0;34m.\u001b[0m\u001b[0mnivel\u001b[0m\u001b[0;34m)\u001b[0m \u001b[0;32mif\u001b[0m \u001b[0mcols\u001b[0m\u001b[0;34m.\u001b[0m\u001b[0mestado\u001b[0m\u001b[0;34m[\u001b[0m\u001b[0mix\u001b[0m\u001b[0;34m]\u001b[0m \u001b[0;34m==\u001b[0m \u001b[0;36m3\u001b[0m\u001b[0;34m]\u001b[0m\u001b[0;34m,\u001b[0m \u001b[0mdefault\u001b[0m\u001b[0;34m=\u001b[0m\u001b[0;36m0\u001b[0m\u001b[0;34m)\u001b[0m \u001b[0;32mfor\u001b[0m \u001b[0;34m(\u001b[0m\u001b[0midx\u001b[0m\u001b[0;34m,\u001b[0m\u001b[0mcols\u001b[0m\u001b[0;34m)\u001b[0m \u001b[0;32min\u001b[0m \u001b[0meducacion_grouped\u001b[0m\u001b[0;34m.\u001b[0m\u001b[0m__iter__\u001b[0m\u001b[0;34m(\u001b[0m\u001b[0;34m)\u001b[0m\u001b[0;34m]\u001b[0m\u001b[0;34m\u001b[0m\u001b[0m\n\u001b[0m",
      "\u001b[0;32m~/Documentos/7506-OrgaDatos_2018/development/lib/python3.6/site-packages/pandas/core/series.py\u001b[0m in \u001b[0;36m__getitem__\u001b[0;34m(self, key)\u001b[0m\n\u001b[1;32m    621\u001b[0m         \u001b[0mkey\u001b[0m \u001b[0;34m=\u001b[0m \u001b[0mcom\u001b[0m\u001b[0;34m.\u001b[0m\u001b[0m_apply_if_callable\u001b[0m\u001b[0;34m(\u001b[0m\u001b[0mkey\u001b[0m\u001b[0;34m,\u001b[0m \u001b[0mself\u001b[0m\u001b[0;34m)\u001b[0m\u001b[0;34m\u001b[0m\u001b[0m\n\u001b[1;32m    622\u001b[0m         \u001b[0;32mtry\u001b[0m\u001b[0;34m:\u001b[0m\u001b[0;34m\u001b[0m\u001b[0m\n\u001b[0;32m--> 623\u001b[0;31m             \u001b[0mresult\u001b[0m \u001b[0;34m=\u001b[0m \u001b[0mself\u001b[0m\u001b[0;34m.\u001b[0m\u001b[0mindex\u001b[0m\u001b[0;34m.\u001b[0m\u001b[0mget_value\u001b[0m\u001b[0;34m(\u001b[0m\u001b[0mself\u001b[0m\u001b[0;34m,\u001b[0m \u001b[0mkey\u001b[0m\u001b[0;34m)\u001b[0m\u001b[0;34m\u001b[0m\u001b[0m\n\u001b[0m\u001b[1;32m    624\u001b[0m \u001b[0;34m\u001b[0m\u001b[0m\n\u001b[1;32m    625\u001b[0m             \u001b[0;32mif\u001b[0m \u001b[0;32mnot\u001b[0m \u001b[0mis_scalar\u001b[0m\u001b[0;34m(\u001b[0m\u001b[0mresult\u001b[0m\u001b[0;34m)\u001b[0m\u001b[0;34m:\u001b[0m\u001b[0;34m\u001b[0m\u001b[0m\n",
      "\u001b[0;32m~/Documentos/7506-OrgaDatos_2018/development/lib/python3.6/site-packages/pandas/core/indexes/base.py\u001b[0m in \u001b[0;36mget_value\u001b[0;34m(self, series, key)\u001b[0m\n\u001b[1;32m   2558\u001b[0m         \u001b[0;32mtry\u001b[0m\u001b[0;34m:\u001b[0m\u001b[0;34m\u001b[0m\u001b[0m\n\u001b[1;32m   2559\u001b[0m             return self._engine.get_value(s, k,\n\u001b[0;32m-> 2560\u001b[0;31m                                           tz=getattr(series.dtype, 'tz', None))\n\u001b[0m\u001b[1;32m   2561\u001b[0m         \u001b[0;32mexcept\u001b[0m \u001b[0mKeyError\u001b[0m \u001b[0;32mas\u001b[0m \u001b[0me1\u001b[0m\u001b[0;34m:\u001b[0m\u001b[0;34m\u001b[0m\u001b[0m\n\u001b[1;32m   2562\u001b[0m             \u001b[0;32mif\u001b[0m \u001b[0mlen\u001b[0m\u001b[0;34m(\u001b[0m\u001b[0mself\u001b[0m\u001b[0;34m)\u001b[0m \u001b[0;34m>\u001b[0m \u001b[0;36m0\u001b[0m \u001b[0;32mand\u001b[0m \u001b[0mself\u001b[0m\u001b[0;34m.\u001b[0m\u001b[0minferred_type\u001b[0m \u001b[0;32min\u001b[0m \u001b[0;34m[\u001b[0m\u001b[0;34m'integer'\u001b[0m\u001b[0;34m,\u001b[0m \u001b[0;34m'boolean'\u001b[0m\u001b[0;34m]\u001b[0m\u001b[0;34m:\u001b[0m\u001b[0;34m\u001b[0m\u001b[0m\n",
      "\u001b[0;32mpandas/_libs/index.pyx\u001b[0m in \u001b[0;36mpandas._libs.index.IndexEngine.get_value\u001b[0;34m()\u001b[0m\n",
      "\u001b[0;32mpandas/_libs/index.pyx\u001b[0m in \u001b[0;36mpandas._libs.index.IndexEngine.get_value\u001b[0;34m()\u001b[0m\n",
      "\u001b[0;32mpandas/_libs/index.pyx\u001b[0m in \u001b[0;36mpandas._libs.index.IndexEngine.get_loc\u001b[0;34m()\u001b[0m\n",
      "\u001b[0;32mpandas/_libs/hashtable_class_helper.pxi\u001b[0m in \u001b[0;36mpandas._libs.hashtable.Int64HashTable.get_item\u001b[0;34m()\u001b[0m\n",
      "\u001b[0;32mpandas/_libs/hashtable_class_helper.pxi\u001b[0m in \u001b[0;36mpandas._libs.hashtable.Int64HashTable.get_item\u001b[0;34m()\u001b[0m\n",
      "\u001b[0;31mKeyError\u001b[0m: 0"
     ]
    }
   ],
   "source": [
    "# debería funcionar pero no\n",
    "[max([val for (ix, val) in enumerate(cols.nivel) if cols.estado[ix] == 3], default=0) for (idx,cols) in educacion_grouped.__iter__()]"
   ]
  },
  {
   "cell_type": "code",
   "execution_count": null,
   "metadata": {},
   "outputs": [],
   "source": []
  },
  {
   "cell_type": "code",
   "execution_count": null,
   "metadata": {},
   "outputs": [],
   "source": []
  },
  {
   "cell_type": "code",
   "execution_count": null,
   "metadata": {},
   "outputs": [],
   "source": []
  },
  {
   "cell_type": "code",
   "execution_count": null,
   "metadata": {},
   "outputs": [],
   "source": []
  },
  {
   "cell_type": "code",
   "execution_count": 42,
   "metadata": {},
   "outputs": [
    {
     "name": "stdout",
     "output_type": "stream",
     "text": [
      "[posts] min: 2018-01-15 00:00:01 | max: 2018-04-17 10:42:39\n",
      "[visats] min: 2018-02-23 18:38:10.808000 | max: 2018-04-16 19:04:16.873000\n"
     ]
    }
   ],
   "source": [
    "# Analizo las fechas de postulaciónes y vistas\n",
    "fechas = pd.to_datetime(postulaciones.fechapostulacion)\n",
    "print('[posts]', ' min:', fechas.min(), '| max:', fechas.max())\n",
    "fechas = pd.to_datetime(vistas.fechavista)\n",
    "print('[vistas]', 'min:', fechas.min(), '| max:', fechas.max())"
   ]
  },
  {
   "cell_type": "code",
   "execution_count": null,
   "metadata": {},
   "outputs": [],
   "source": []
  },
  {
   "cell_type": "code",
   "execution_count": null,
   "metadata": {},
   "outputs": [],
   "source": []
  },
  {
   "cell_type": "code",
   "execution_count": null,
   "metadata": {},
   "outputs": [],
   "source": []
  },
  {
   "cell_type": "code",
   "execution_count": null,
   "metadata": {},
   "outputs": [],
   "source": []
  },
  {
   "cell_type": "code",
   "execution_count": null,
   "metadata": {},
   "outputs": [],
   "source": [
    "#vistas.groupby(['idpostulante','idaviso']).count()\n",
    "vistas.loc[(vistas.idpostulante == '0zB026d') & (vistas.idaviso == 1112358250),:]"
   ]
  },
  {
   "cell_type": "code",
   "execution_count": null,
   "metadata": {},
   "outputs": [],
   "source": [
    "# Unifico vistas y postulaciones\n",
    "vistas_y_postulaciones = pd.merge(vistas, postulaciones, on=['idpostulante','idaviso'], how='outer')\n",
    "\n",
    "# Renombro columnas y reordeno\n",
    "vistas_y_postulaciones.rename(columns={'fechavista':'vista','fechapostulacion':'postulacion'}, inplace=True)\n",
    "vistas_y_postulaciones = vistas_y_postulaciones[['idaviso','idpostulante','vista','postulacion']]\n",
    "\n",
    "# Cambio valores de fechas por 1 si hay fecha y 0 si es NaN\n",
    "vistas_y_postulaciones.vista = vistas_y_postulaciones.vista.notnull().astype('int')\n",
    "vistas_y_postulaciones.postulacion = vistas_y_postulaciones.postulacion.notnull().astype('int')"
   ]
  },
  {
   "cell_type": "code",
   "execution_count": null,
   "metadata": {},
   "outputs": [],
   "source": [
    "postulaciones.groupby(['idpostulante','idaviso']).count()[lambda x: x.fechapostulacion == 5]"
   ]
  },
  {
   "cell_type": "code",
   "execution_count": null,
   "metadata": {},
   "outputs": [],
   "source": [
    "usr_pos = postulaciones.idpostulante.unique()\n",
    "usr_info = edadYGenero.idpostulante.unique()\n",
    "print(len(usr_pos),len(usr_info))"
   ]
  }
 ],
 "metadata": {
  "kernelspec": {
   "display_name": "Python 3",
   "language": "python",
   "name": "python3"
  },
  "language_info": {
   "codemirror_mode": {
    "name": "ipython",
    "version": 3
   },
   "file_extension": ".py",
   "mimetype": "text/x-python",
   "name": "python",
   "nbconvert_exporter": "python",
   "pygments_lexer": "ipython3",
   "version": "3.6.5"
  }
 },
 "nbformat": 4,
 "nbformat_minor": 2
}
