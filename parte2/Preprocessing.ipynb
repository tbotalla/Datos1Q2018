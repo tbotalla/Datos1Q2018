{
 "cells": [
  {
   "cell_type": "code",
   "execution_count": 3,
   "metadata": {},
   "outputs": [],
   "source": [
    "import numpy as np \n",
    "import pandas as pd\n",
    "import datetime\n",
    "import calendar\n",
    "import matplotlib.pyplot as plt\n",
    "import seaborn as sns\n",
    "import re # regex\n",
    "from scipy.misc import imread\n",
    "#from wordcloud import WordCloud, STOPWORDS # Wordcloud: pip install wordcloud\n",
    "from collections import Counter\n",
    "\n",
    "%matplotlib inline\n",
    "pd.set_option('display.max_columns', None)"
   ]
  },
  {
   "cell_type": "markdown",
   "metadata": {},
   "source": [
    "## Los datos del TP 1 y los de hasta el 15 abril son los que usamos para entrenar"
   ]
  },
  {
   "cell_type": "markdown",
   "metadata": {},
   "source": [
    "# Datos del TP 1"
   ]
  },
  {
   "cell_type": "code",
   "execution_count": 2,
   "metadata": {},
   "outputs": [],
   "source": [
    "postulantes_educacion_orig = pd.read_csv('../data/datos_navent_fiuba/fiuba_1_postulantes_educacion.csv', encoding='utf-8')\n",
    "postulantes_genero_edad_orig = pd.read_csv('../data/datos_navent_fiuba/fiuba_2_postulantes_genero_y_edad.csv', encoding='utf-8')\n",
    "vistas_orig = pd.read_csv('../data/datos_navent_fiuba/fiuba_3_vistas.csv', encoding='utf-8')\n",
    "postulaciones_orig = pd.read_csv('../data/datos_navent_fiuba/fiuba_4_postulaciones.csv', encoding='utf-8')\n",
    "avisos_online_orig = pd.read_csv('../data/datos_navent_fiuba/fiuba_5_avisos_online.csv', encoding='utf-8')\n",
    "avisos_detalle_orig = pd.read_csv('../data/datos_navent_fiuba/fiuba_6_avisos_detalle.csv', encoding='utf-8')"
   ]
  },
  {
   "cell_type": "markdown",
   "metadata": {},
   "source": [
    "# Datos hasta 15 abril"
   ]
  },
  {
   "cell_type": "code",
   "execution_count": 3,
   "metadata": {},
   "outputs": [],
   "source": [
    "postulantes_educacion_hasta_15_04 = pd.read_csv('../data/datos_navent_fiuba/fiuba_hasta_15_abril/entrega6/fiuba_1_postulantes_educacion.csv', encoding='utf-8')\n",
    "postulantes_genero_edad_hasta_15_04 = pd.read_csv('../data/datos_navent_fiuba/fiuba_hasta_15_abril/entrega6/fiuba_2_postulantes_genero_y_edad.csv', encoding='utf-8')\n",
    "vistas_hasta_15_04 = pd.read_csv('../data/datos_navent_fiuba/fiuba_hasta_15_abril/entrega6/fiuba_3_vistas.csv', encoding='utf-8')\n",
    "postulaciones_hasta_15_04 = pd.read_csv('../data/datos_navent_fiuba/fiuba_hasta_15_abril/entrega6/fiuba_4_postulaciones.csv', encoding='utf-8')\n",
    "avisos_online_hasta_15_04 = pd.read_csv('../data/datos_navent_fiuba/fiuba_hasta_15_abril/entrega6/fiuba_5_avisos_online.csv', encoding='utf-8')\n",
    "avisos_detalle_hasta_15_04 = pd.read_csv('../data/datos_navent_fiuba/fiuba_hasta_15_abril/entrega6/fiuba_6_avisos_detalle.csv', encoding='utf-8')"
   ]
  },
  {
   "cell_type": "markdown",
   "metadata": {},
   "source": [
    "## Juntamos los datos del tp1 con los de hasta 15 abril y exportamos a un csv nuevo para trabajar con esos"
   ]
  },
  {
   "cell_type": "markdown",
   "metadata": {},
   "source": [
    "### postulantes_educacion"
   ]
  },
  {
   "cell_type": "code",
   "execution_count": 4,
   "metadata": {},
   "outputs": [
    {
     "name": "stdout",
     "output_type": "stream",
     "text": [
      "Longitud original:  298231\n",
      "Longitud nuevo set:  407453\n",
      "Longitud concat:  705684\n",
      "Longitud unique:  568612\n"
     ]
    }
   ],
   "source": [
    "print('Longitud original: ', len(postulantes_educacion_orig))\n",
    "print('Longitud nuevo set: ', len(postulantes_educacion_hasta_15_04))\n",
    "postulantes_educacion_train = pd.concat([postulantes_educacion_orig, postulantes_educacion_hasta_15_04])\n",
    "print('Longitud concat: ', len(postulantes_educacion_train))\n",
    "\n",
    "# Eliminamos los duplicados. En este caso se considera duplicado si estas 3 columnas matchean\n",
    "postulantes_educacion_train.drop_duplicates(['idpostulante', 'nombre', 'estado'], keep='last', inplace=True)\n",
    "print('Longitud unique: ', len(postulantes_educacion_train))"
   ]
  },
  {
   "cell_type": "code",
   "execution_count": 5,
   "metadata": {},
   "outputs": [
    {
     "data": {
      "text/html": [
       "<div>\n",
       "<style scoped>\n",
       "    .dataframe tbody tr th:only-of-type {\n",
       "        vertical-align: middle;\n",
       "    }\n",
       "\n",
       "    .dataframe tbody tr th {\n",
       "        vertical-align: top;\n",
       "    }\n",
       "\n",
       "    .dataframe thead th {\n",
       "        text-align: right;\n",
       "    }\n",
       "</style>\n",
       "<table border=\"1\" class=\"dataframe\">\n",
       "  <thead>\n",
       "    <tr style=\"text-align: right;\">\n",
       "      <th></th>\n",
       "      <th>idpostulante</th>\n",
       "      <th>nombre_estudio</th>\n",
       "      <th>estado_estudio</th>\n",
       "    </tr>\n",
       "  </thead>\n",
       "  <tbody>\n",
       "    <tr>\n",
       "      <th>1</th>\n",
       "      <td>8BkL</td>\n",
       "      <td>Universitario</td>\n",
       "      <td>En Curso</td>\n",
       "    </tr>\n",
       "  </tbody>\n",
       "</table>\n",
       "</div>"
      ],
      "text/plain": [
       "  idpostulante nombre_estudio estado_estudio\n",
       "1         8BkL  Universitario       En Curso"
      ]
     },
     "execution_count": 5,
     "metadata": {},
     "output_type": "execute_result"
    }
   ],
   "source": [
    "postulantes_educacion_train.rename(columns={'nombre':'nombre_estudio','estado':'estado_estudio'}, inplace=True)\n",
    "postulantes_educacion_train.head(1)"
   ]
  },
  {
   "cell_type": "code",
   "execution_count": 6,
   "metadata": {},
   "outputs": [],
   "source": [
    "postulantes_educacion_train.to_csv('../data/1_postulantes_educacion_train.csv', index=False, sep=',', encoding='utf-8')"
   ]
  },
  {
   "cell_type": "markdown",
   "metadata": {},
   "source": [
    "### postulantes_genero_edad"
   ]
  },
  {
   "cell_type": "code",
   "execution_count": 7,
   "metadata": {},
   "outputs": [
    {
     "name": "stdout",
     "output_type": "stream",
     "text": [
      "Longitud original:  200888\n",
      "Longitud nuevo set:  297747\n",
      "Longitud concat:  498635\n",
      "Longitud unique:  408146\n"
     ]
    }
   ],
   "source": [
    "print('Longitud original: ', len(postulantes_genero_edad_orig))\n",
    "print('Longitud nuevo set: ', len(postulantes_genero_edad_hasta_15_04))\n",
    "postulantes_genero_edad_train = pd.concat([postulantes_genero_edad_orig, postulantes_genero_edad_hasta_15_04])\n",
    "print('Longitud concat: ', len(postulantes_genero_edad_train))\n",
    "\n",
    "# Eliminamos los duplicados. En este caso se considera duplicado si el idpostulante matchea\n",
    "postulantes_genero_edad_train.drop_duplicates(['idpostulante'], keep='last', inplace=True)\n",
    "print('Longitud unique: ', len(postulantes_genero_edad_train))"
   ]
  },
  {
   "cell_type": "code",
   "execution_count": 8,
   "metadata": {},
   "outputs": [
    {
     "data": {
      "text/html": [
       "<div>\n",
       "<style scoped>\n",
       "    .dataframe tbody tr th:only-of-type {\n",
       "        vertical-align: middle;\n",
       "    }\n",
       "\n",
       "    .dataframe tbody tr th {\n",
       "        vertical-align: top;\n",
       "    }\n",
       "\n",
       "    .dataframe thead th {\n",
       "        text-align: right;\n",
       "    }\n",
       "</style>\n",
       "<table border=\"1\" class=\"dataframe\">\n",
       "  <thead>\n",
       "    <tr style=\"text-align: right;\">\n",
       "      <th></th>\n",
       "      <th>idpostulante</th>\n",
       "      <th>fechanacimiento</th>\n",
       "      <th>sexo</th>\n",
       "    </tr>\n",
       "  </thead>\n",
       "  <tbody>\n",
       "    <tr>\n",
       "      <th>0</th>\n",
       "      <td>NM5M</td>\n",
       "      <td>1970-12-03</td>\n",
       "      <td>FEM</td>\n",
       "    </tr>\n",
       "  </tbody>\n",
       "</table>\n",
       "</div>"
      ],
      "text/plain": [
       "  idpostulante fechanacimiento sexo\n",
       "0         NM5M      1970-12-03  FEM"
      ]
     },
     "execution_count": 8,
     "metadata": {},
     "output_type": "execute_result"
    }
   ],
   "source": [
    "postulantes_genero_edad_train.head(1)"
   ]
  },
  {
   "cell_type": "code",
   "execution_count": 9,
   "metadata": {},
   "outputs": [],
   "source": [
    "postulantes_genero_edad_train.to_csv('../data/2_postulantes_genero_edad_train.csv', index=False, sep=',', encoding='utf-8')"
   ]
  },
  {
   "cell_type": "markdown",
   "metadata": {},
   "source": [
    "### vistas"
   ]
  },
  {
   "cell_type": "code",
   "execution_count": 10,
   "metadata": {},
   "outputs": [
    {
     "name": "stdout",
     "output_type": "stream",
     "text": [
      "Longitud original:  961897\n",
      "Longitud nuevo set:  5758686\n",
      "Longitud concat:  6720583\n",
      "Longitud unique:  6682591\n"
     ]
    }
   ],
   "source": [
    "print('Longitud original: ', len(vistas_orig))\n",
    "print('Longitud nuevo set: ', len(vistas_hasta_15_04))\n",
    "vistas_train = pd.concat([vistas_orig, vistas_hasta_15_04])\n",
    "print('Longitud concat: ', len(vistas_train))\n",
    "\n",
    "# Eliminamos los duplicados. En este caso se considera duplicado si estas 3 columnas matchean\n",
    "vistas_train.drop_duplicates(['idaviso', 'timestamp', 'idpostulante'], keep='last', inplace=True)\n",
    "print('Longitud unique: ', len(vistas_train))"
   ]
  },
  {
   "cell_type": "code",
   "execution_count": 11,
   "metadata": {},
   "outputs": [
    {
     "data": {
      "text/html": [
       "<div>\n",
       "<style scoped>\n",
       "    .dataframe tbody tr th:only-of-type {\n",
       "        vertical-align: middle;\n",
       "    }\n",
       "\n",
       "    .dataframe tbody tr th {\n",
       "        vertical-align: top;\n",
       "    }\n",
       "\n",
       "    .dataframe thead th {\n",
       "        text-align: right;\n",
       "    }\n",
       "</style>\n",
       "<table border=\"1\" class=\"dataframe\">\n",
       "  <thead>\n",
       "    <tr style=\"text-align: right;\">\n",
       "      <th></th>\n",
       "      <th>idaviso</th>\n",
       "      <th>fechavista</th>\n",
       "      <th>idpostulante</th>\n",
       "    </tr>\n",
       "  </thead>\n",
       "  <tbody>\n",
       "    <tr>\n",
       "      <th>0</th>\n",
       "      <td>1111780242</td>\n",
       "      <td>2018-02-23T13:38:13.187-0500</td>\n",
       "      <td>YjVJQ6Z</td>\n",
       "    </tr>\n",
       "  </tbody>\n",
       "</table>\n",
       "</div>"
      ],
      "text/plain": [
       "      idaviso                    fechavista idpostulante\n",
       "0  1111780242  2018-02-23T13:38:13.187-0500      YjVJQ6Z"
      ]
     },
     "execution_count": 11,
     "metadata": {},
     "output_type": "execute_result"
    }
   ],
   "source": [
    "vistas_train.rename(columns={'idAviso':'idaviso','timestamp':'fechavista'}, inplace=True)\n",
    "vistas_train.head(1)"
   ]
  },
  {
   "cell_type": "code",
   "execution_count": 12,
   "metadata": {},
   "outputs": [],
   "source": [
    "vistas_train.to_csv('../data/3_vistas_train.csv', index=False, sep=',', encoding='utf-8')"
   ]
  },
  {
   "cell_type": "markdown",
   "metadata": {},
   "source": [
    "### postulaciones"
   ]
  },
  {
   "cell_type": "code",
   "execution_count": 13,
   "metadata": {},
   "outputs": [
    {
     "name": "stdout",
     "output_type": "stream",
     "text": [
      "Longitud original:  3401623\n",
      "Longitud nuevo set:  4909641\n",
      "Longitud concat:  8311264\n",
      "Longitud unique:  6604534\n"
     ]
    }
   ],
   "source": [
    "print('Longitud original: ', len(postulaciones_orig))\n",
    "print('Longitud nuevo set: ', len(postulaciones_hasta_15_04))\n",
    "postulaciones_train = pd.concat([postulaciones_orig, postulaciones_hasta_15_04])\n",
    "print('Longitud concat: ', len(postulaciones_train))\n",
    "\n",
    "# Eliminamos los duplicados. En este caso se considera duplicado si estas 3 columnas matchean\n",
    "postulaciones_train.drop_duplicates(['idaviso', 'idpostulante', 'fechapostulacion'], keep='last', inplace=True)\n",
    "print('Longitud unique: ', len(postulaciones_train))"
   ]
  },
  {
   "cell_type": "code",
   "execution_count": 14,
   "metadata": {},
   "outputs": [
    {
     "data": {
      "text/html": [
       "<div>\n",
       "<style scoped>\n",
       "    .dataframe tbody tr th:only-of-type {\n",
       "        vertical-align: middle;\n",
       "    }\n",
       "\n",
       "    .dataframe tbody tr th {\n",
       "        vertical-align: top;\n",
       "    }\n",
       "\n",
       "    .dataframe thead th {\n",
       "        text-align: right;\n",
       "    }\n",
       "</style>\n",
       "<table border=\"1\" class=\"dataframe\">\n",
       "  <thead>\n",
       "    <tr style=\"text-align: right;\">\n",
       "      <th></th>\n",
       "      <th>idaviso</th>\n",
       "      <th>idpostulante</th>\n",
       "      <th>fechapostulacion</th>\n",
       "    </tr>\n",
       "  </thead>\n",
       "  <tbody>\n",
       "    <tr>\n",
       "      <th>0</th>\n",
       "      <td>1112257047</td>\n",
       "      <td>NM5M</td>\n",
       "      <td>2018-01-15 16:22:34</td>\n",
       "    </tr>\n",
       "  </tbody>\n",
       "</table>\n",
       "</div>"
      ],
      "text/plain": [
       "      idaviso idpostulante     fechapostulacion\n",
       "0  1112257047         NM5M  2018-01-15 16:22:34"
      ]
     },
     "execution_count": 14,
     "metadata": {},
     "output_type": "execute_result"
    }
   ],
   "source": [
    "postulaciones_train.head(1)"
   ]
  },
  {
   "cell_type": "code",
   "execution_count": 15,
   "metadata": {},
   "outputs": [],
   "source": [
    "postulaciones_train.to_csv('../data/4_postulaciones_train.csv', index=False, sep=',', encoding='utf-8')"
   ]
  },
  {
   "cell_type": "markdown",
   "metadata": {},
   "source": [
    "### avisos_online"
   ]
  },
  {
   "cell_type": "code",
   "execution_count": 16,
   "metadata": {},
   "outputs": [
    {
     "name": "stdout",
     "output_type": "stream",
     "text": [
      "Longitud original:  5028\n",
      "Longitud nuevo set:  4858\n",
      "Longitud concat:  9886\n",
      "Longitud unique:  9430\n"
     ]
    }
   ],
   "source": [
    "print('Longitud original: ', len(avisos_online_orig))\n",
    "print('Longitud nuevo set: ', len(avisos_online_hasta_15_04))\n",
    "avisos_online_train = pd.concat([avisos_online_orig, avisos_online_hasta_15_04])\n",
    "print('Longitud concat: ', len(avisos_online_train))\n",
    "\n",
    "# Eliminamos los duplicados. En este caso se considera duplicado si esta columna matchea\n",
    "avisos_online_train.drop_duplicates(['idaviso'], keep='last', inplace=True)\n",
    "print('Longitud unique: ', len(avisos_online_train))"
   ]
  },
  {
   "cell_type": "code",
   "execution_count": 17,
   "metadata": {},
   "outputs": [
    {
     "data": {
      "text/html": [
       "<div>\n",
       "<style scoped>\n",
       "    .dataframe tbody tr th:only-of-type {\n",
       "        vertical-align: middle;\n",
       "    }\n",
       "\n",
       "    .dataframe tbody tr th {\n",
       "        vertical-align: top;\n",
       "    }\n",
       "\n",
       "    .dataframe thead th {\n",
       "        text-align: right;\n",
       "    }\n",
       "</style>\n",
       "<table border=\"1\" class=\"dataframe\">\n",
       "  <thead>\n",
       "    <tr style=\"text-align: right;\">\n",
       "      <th></th>\n",
       "      <th>idaviso</th>\n",
       "    </tr>\n",
       "  </thead>\n",
       "  <tbody>\n",
       "    <tr>\n",
       "      <th>0</th>\n",
       "      <td>1112355872</td>\n",
       "    </tr>\n",
       "  </tbody>\n",
       "</table>\n",
       "</div>"
      ],
      "text/plain": [
       "      idaviso\n",
       "0  1112355872"
      ]
     },
     "execution_count": 17,
     "metadata": {},
     "output_type": "execute_result"
    }
   ],
   "source": [
    "avisos_online_train.head(1)"
   ]
  },
  {
   "cell_type": "code",
   "execution_count": 18,
   "metadata": {},
   "outputs": [],
   "source": [
    "avisos_online_train.to_csv('../data/5_avisos_online_train.csv', index=False, sep=',', encoding='utf-8')"
   ]
  },
  {
   "cell_type": "markdown",
   "metadata": {},
   "source": [
    "### avisos_detalle"
   ]
  },
  {
   "cell_type": "code",
   "execution_count": 19,
   "metadata": {},
   "outputs": [
    {
     "name": "stdout",
     "output_type": "stream",
     "text": [
      "Longitud original:  13534\n",
      "Longitud nuevo set:  18299\n",
      "Longitud concat:  31833\n",
      "Longitud unique:  19632\n"
     ]
    }
   ],
   "source": [
    "print('Longitud original: ', len(avisos_detalle_orig))\n",
    "print('Longitud nuevo set: ', len(avisos_detalle_hasta_15_04))\n",
    "avisos_detalle_train = pd.concat([avisos_detalle_orig, avisos_detalle_hasta_15_04])\n",
    "print('Longitud concat: ', len(avisos_detalle_train))\n",
    "\n",
    "# Eliminamos los duplicados. En este caso se considera duplicado si matchean estas columnas (por no matchear todas)\n",
    "avisos_detalle_train.drop_duplicates(['idaviso', 'titulo', 'descripcion', 'nombre_zona', 'ciudad', 'tipo_de_trabajo', 'nivel_laboral'], keep='last', inplace=True)\n",
    "print('Longitud unique: ', len(avisos_detalle_train))"
   ]
  },
  {
   "cell_type": "code",
   "execution_count": 20,
   "metadata": {},
   "outputs": [
    {
     "data": {
      "text/html": [
       "<div>\n",
       "<style scoped>\n",
       "    .dataframe tbody tr th:only-of-type {\n",
       "        vertical-align: middle;\n",
       "    }\n",
       "\n",
       "    .dataframe tbody tr th {\n",
       "        vertical-align: top;\n",
       "    }\n",
       "\n",
       "    .dataframe thead th {\n",
       "        text-align: right;\n",
       "    }\n",
       "</style>\n",
       "<table border=\"1\" class=\"dataframe\">\n",
       "  <thead>\n",
       "    <tr style=\"text-align: right;\">\n",
       "      <th></th>\n",
       "      <th>idaviso</th>\n",
       "      <th>titulo</th>\n",
       "      <th>descripcion</th>\n",
       "      <th>tipo_de_trabajo</th>\n",
       "      <th>nivel_laboral</th>\n",
       "      <th>nombre_area</th>\n",
       "      <th>denominacion_empresa</th>\n",
       "    </tr>\n",
       "  </thead>\n",
       "  <tbody>\n",
       "    <tr>\n",
       "      <th>1</th>\n",
       "      <td>17903700</td>\n",
       "      <td>Enfermeras</td>\n",
       "      <td>&lt;p&gt;Solicitamos para importante cadena de farma...</td>\n",
       "      <td>Full-time</td>\n",
       "      <td>Senior / Semi-Senior</td>\n",
       "      <td>Salud</td>\n",
       "      <td>Farmacias Central Oeste</td>\n",
       "    </tr>\n",
       "  </tbody>\n",
       "</table>\n",
       "</div>"
      ],
      "text/plain": [
       "    idaviso      titulo                                        descripcion  \\\n",
       "1  17903700  Enfermeras  <p>Solicitamos para importante cadena de farma...   \n",
       "\n",
       "  tipo_de_trabajo         nivel_laboral nombre_area     denominacion_empresa  \n",
       "1       Full-time  Senior / Semi-Senior       Salud  Farmacias Central Oeste  "
      ]
     },
     "execution_count": 20,
     "metadata": {},
     "output_type": "execute_result"
    }
   ],
   "source": [
    "avisos_detalle_train.drop(columns=['idpais','ciudad','mapacalle', 'nombre_zona'], inplace=True)\n",
    "avisos_detalle_train.head(1)"
   ]
  },
  {
   "cell_type": "raw",
   "metadata": {},
   "source": [
    "Eliminamos el html de la descripcion"
   ]
  },
  {
   "cell_type": "code",
   "execution_count": 21,
   "metadata": {},
   "outputs": [],
   "source": [
    "def clean_html(row):\n",
    "    clean_html_regex = re.compile('<.*?>')\n",
    "    row['descripcion'] = re.sub(clean_html_regex, '', row['descripcion'])\n",
    "    return row\n",
    "\n",
    "avisos_detalle_train = avisos_detalle_train.apply(lambda row: clean_html(row), axis=1)"
   ]
  },
  {
   "cell_type": "code",
   "execution_count": 22,
   "metadata": {},
   "outputs": [
    {
     "data": {
      "text/html": [
       "<div>\n",
       "<style scoped>\n",
       "    .dataframe tbody tr th:only-of-type {\n",
       "        vertical-align: middle;\n",
       "    }\n",
       "\n",
       "    .dataframe tbody tr th {\n",
       "        vertical-align: top;\n",
       "    }\n",
       "\n",
       "    .dataframe thead th {\n",
       "        text-align: right;\n",
       "    }\n",
       "</style>\n",
       "<table border=\"1\" class=\"dataframe\">\n",
       "  <thead>\n",
       "    <tr style=\"text-align: right;\">\n",
       "      <th></th>\n",
       "      <th>idaviso</th>\n",
       "      <th>titulo</th>\n",
       "      <th>descripcion</th>\n",
       "      <th>tipo_de_trabajo</th>\n",
       "      <th>nivel_laboral</th>\n",
       "      <th>nombre_area</th>\n",
       "      <th>denominacion_empresa</th>\n",
       "    </tr>\n",
       "  </thead>\n",
       "  <tbody>\n",
       "    <tr>\n",
       "      <th>1</th>\n",
       "      <td>17903700</td>\n",
       "      <td>Enfermeras</td>\n",
       "      <td>Solicitamos para importante cadena de farmacia...</td>\n",
       "      <td>Full-time</td>\n",
       "      <td>Senior / Semi-Senior</td>\n",
       "      <td>Salud</td>\n",
       "      <td>Farmacias Central Oeste</td>\n",
       "    </tr>\n",
       "  </tbody>\n",
       "</table>\n",
       "</div>"
      ],
      "text/plain": [
       "    idaviso      titulo                                        descripcion  \\\n",
       "1  17903700  Enfermeras  Solicitamos para importante cadena de farmacia...   \n",
       "\n",
       "  tipo_de_trabajo         nivel_laboral nombre_area     denominacion_empresa  \n",
       "1       Full-time  Senior / Semi-Senior       Salud  Farmacias Central Oeste  "
      ]
     },
     "execution_count": 22,
     "metadata": {},
     "output_type": "execute_result"
    }
   ],
   "source": [
    "avisos_detalle_train.head(1)"
   ]
  },
  {
   "cell_type": "code",
   "execution_count": 23,
   "metadata": {},
   "outputs": [
    {
     "data": {
      "text/plain": [
       "1     Solicitamos para importante cadena de farmacia...\n",
       "2     TE GUSTA MANEJAR? QUERES GANAR PLATA HACIENDO ...\n",
       "4     OPERARIOS DE PLANTANos encontramos en la búsqu...\n",
       "8     Agente\\r\\noficial Selecciona:\\r\\n \\r\\nNuestra ...\n",
       "11    Somos una empresa multinacional que opera en A...\n",
       "Name: descripcion, dtype: object"
      ]
     },
     "execution_count": 23,
     "metadata": {},
     "output_type": "execute_result"
    }
   ],
   "source": [
    "avisos_detalle_train['descripcion'].head(5)"
   ]
  },
  {
   "cell_type": "raw",
   "metadata": {},
   "source": [
    "Procesamos la descripcion: eliminamos diacriticos, stopwords"
   ]
  },
  {
   "cell_type": "code",
   "execution_count": 24,
   "metadata": {},
   "outputs": [],
   "source": [
    "stopwords = ['a', 'al', 'ante', 'aquel', 'aires', 'bien', 'buenos', 'como', 'con', 'conseguir', 'cual', 'de', 'del', 'descripcion', \n",
    "             'desde', 'donde', 'e', 'el', 'ella', 'ello', 'en', 'es', 'esa', 'encima', 'entonces', 'entre', 'encontramos', \n",
    "             'encuentra', 'era', 'esta', 'estas' 'estan', 'etc', 'fe', 'fue', 'gusta', 'hs', 'ha', 'hacen', 'hacemos', 'hacer', 'hasta', \n",
    "             'incluso', 'ir', 'jamas', 'jamas', 'la', 'las', 'lo', 'los', 'mas', 'me', 'menos', 'mi', 'mis', 'misma', 'mismo', 'mucha', 'muchas', \n",
    "             'mucho', 'muchos', 'muy', 'ni', 'no', 'nos', 'nosotros', 'nuestras', 'nuestra', 'nuestro', 'nuestros', 'o', 'para', 'por', 'puesta', \n",
    "             'que', 'qué', 'sabe', 'santa', 'saber', 'se', 'solicitamos', 'selecciona', 'segun', 'ser', 'serán', 'seran', 'si', 'siendo', 'sin', \n",
    "             'sobre', 'solo', 'solicita', 'somos', 'su', 'sus', 'te', 'trabajar', 'tiene', 'tus', 'tu', 'uso', \n",
    "             'un', 'una', 'ubicada', 'valoramos', 'vaya', 'y']\n",
    "\n",
    "invalid_characters = [',', ':', '.', ';', '?', '¿', '!', '¡', '(', ')', '0', '1', '2', '3', '4', '5', '6', '7', '8', '9', \n",
    "                      '<', '>', '-', '_', '/', '*', '\\r', '\\n', '', '·', '§', 'ª', '+']\n",
    "\n",
    "def clean_html(string):\n",
    "    clean_html_regex = re.compile('<.*?>')\n",
    "    string = re.sub(clean_html_regex, ' ', string).strip()\n",
    "    return string\n",
    "\n",
    "def clean_string(row, col):     \n",
    "    for invalid_char in invalid_characters:\n",
    "        row[col] = row[col].replace(invalid_char, ' ').strip()\n",
    "        row[col] = row[col].strip().lower()\n",
    "    \n",
    "    row[col] = row[col].replace('á', \"a\")\n",
    "    row[col] = row[col].replace('é', \"e\")\n",
    "    row[col] = row[col].replace('í', \"i\")\n",
    "    row[col] = row[col].replace('ó', \"o\")\n",
    "    row[col] = row[col].replace('ú', \"u\")\n",
    "    row[col] = row[col].replace('ü', \"u\")\n",
    "    \n",
    "    words = row[col].split()\n",
    "    \n",
    "    # Se filtran las stop words\n",
    "    valid_words = []\n",
    "    for word in words:\n",
    "        for w in stopwords:\n",
    "            if (word == w):\n",
    "                word = word.replace(w, ' ')\n",
    "        if (word.strip() != ''):\n",
    "            valid_words.append(word)\n",
    "        \n",
    "    row[col] = valid_words\n",
    "    return row"
   ]
  },
  {
   "cell_type": "code",
   "execution_count": 25,
   "metadata": {},
   "outputs": [],
   "source": [
    "avisos_detalle_train = avisos_detalle_train.apply(lambda row: clean_string(row, 'descripcion'), axis=1)"
   ]
  },
  {
   "cell_type": "code",
   "execution_count": 26,
   "metadata": {},
   "outputs": [
    {
     "data": {
      "text/plain": [
       "1     [importante, cadena, farmacias, zona, oeste, e...\n",
       "2     [manejar, queres, ganar, plata, haciendo, cont...\n",
       "4     [operarios, plantanos, busqueda, operarios, em...\n",
       "8     [agente, oficial, busqueda, orientada, persona...\n",
       "11    [empresa, multinacional, opera, argentina, per...\n",
       "12    [yamanil, s, busqueda, preventistas, requiere,...\n",
       "16    [estamos, busqueda, representantes, ventas, pr...\n",
       "18    [sc, johnson, empresa, lider, mundial, fabrica...\n",
       "19    [centro, medico, accord, busqueda, administrat...\n",
       "21    [importante, correo, privado, ubicado, san, mi...\n",
       "Name: descripcion, dtype: object"
      ]
     },
     "execution_count": 26,
     "metadata": {},
     "output_type": "execute_result"
    }
   ],
   "source": [
    "avisos_detalle_train['descripcion'].head(10)"
   ]
  },
  {
   "cell_type": "raw",
   "metadata": {},
   "source": [
    "Para cada aviso reemplazamos la columna descripcion por una lista: (palabra, #apariciones)"
   ]
  },
  {
   "cell_type": "code",
   "execution_count": 27,
   "metadata": {},
   "outputs": [],
   "source": [
    "def process_words(row, columna):\n",
    "    lista_palabras_frecuentes_descripcion = []\n",
    "    words = row[columna]\n",
    "    for word in words:\n",
    "        lista_palabras_frecuentes_descripcion.append(word)\n",
    "    row[columna] = Counter(lista_palabras_frecuentes_descripcion).most_common(25)\n",
    "    \n",
    "    return row\n",
    "\n",
    "avisos_detalle_train = avisos_detalle_train.apply(lambda row: process_words(row, 'descripcion'), axis=1)"
   ]
  },
  {
   "cell_type": "code",
   "execution_count": 28,
   "metadata": {},
   "outputs": [
    {
     "data": {
      "text/html": [
       "<div>\n",
       "<style scoped>\n",
       "    .dataframe tbody tr th:only-of-type {\n",
       "        vertical-align: middle;\n",
       "    }\n",
       "\n",
       "    .dataframe tbody tr th {\n",
       "        vertical-align: top;\n",
       "    }\n",
       "\n",
       "    .dataframe thead th {\n",
       "        text-align: right;\n",
       "    }\n",
       "</style>\n",
       "<table border=\"1\" class=\"dataframe\">\n",
       "  <thead>\n",
       "    <tr style=\"text-align: right;\">\n",
       "      <th></th>\n",
       "      <th>idaviso</th>\n",
       "      <th>titulo</th>\n",
       "      <th>descripcion</th>\n",
       "      <th>tipo_de_trabajo</th>\n",
       "      <th>nivel_laboral</th>\n",
       "      <th>nombre_area</th>\n",
       "      <th>denominacion_empresa</th>\n",
       "    </tr>\n",
       "  </thead>\n",
       "  <tbody>\n",
       "    <tr>\n",
       "      <th>1</th>\n",
       "      <td>17903700</td>\n",
       "      <td>Enfermeras</td>\n",
       "      <td>[(oeste, 2), (experiencia, 2), (años, 2), (imp...</td>\n",
       "      <td>Full-time</td>\n",
       "      <td>Senior / Semi-Senior</td>\n",
       "      <td>Salud</td>\n",
       "      <td>Farmacias Central Oeste</td>\n",
       "    </tr>\n",
       "    <tr>\n",
       "      <th>2</th>\n",
       "      <td>1000150677</td>\n",
       "      <td>Chofer de taxi</td>\n",
       "      <td>[(tenes, 3), (estas, 2), (trabajo, 2), (años, ...</td>\n",
       "      <td>Full-time</td>\n",
       "      <td>Senior / Semi-Senior</td>\n",
       "      <td>Transporte</td>\n",
       "      <td>FAMITAX SRL</td>\n",
       "    </tr>\n",
       "    <tr>\n",
       "      <th>4</th>\n",
       "      <td>1000872556</td>\n",
       "      <td>Operarios de Planta - Rubro Electrodomésticos</td>\n",
       "      <td>[(control, 6), (produccion, 4), (operarios, 2)...</td>\n",
       "      <td>Full-time</td>\n",
       "      <td>Senior / Semi-Senior</td>\n",
       "      <td>Producción</td>\n",
       "      <td>ELECTRO OUTLET SRL</td>\n",
       "    </tr>\n",
       "    <tr>\n",
       "      <th>8</th>\n",
       "      <td>9240880</td>\n",
       "      <td>Productores Asesores Independiente, para venta...</td>\n",
       "      <td>[(agente, 1), (oficial, 1), (busqueda, 1), (or...</td>\n",
       "      <td>Full-time</td>\n",
       "      <td>Jefe / Supervisor / Responsable</td>\n",
       "      <td>Comercial</td>\n",
       "      <td>Agencia Oficial Alejandro Arizaga</td>\n",
       "    </tr>\n",
       "    <tr>\n",
       "      <th>11</th>\n",
       "      <td>1002181678</td>\n",
       "      <td>Vendedor Viajante TIERRA DEL FUEGO</td>\n",
       "      <td>[(empresa, 1), (multinacional, 1), (opera, 1),...</td>\n",
       "      <td>Full-time</td>\n",
       "      <td>Senior / Semi-Senior</td>\n",
       "      <td>Ventas</td>\n",
       "      <td>Wurth Argentina S.A</td>\n",
       "    </tr>\n",
       "  </tbody>\n",
       "</table>\n",
       "</div>"
      ],
      "text/plain": [
       "       idaviso                                             titulo  \\\n",
       "1     17903700                                         Enfermeras   \n",
       "2   1000150677                                     Chofer de taxi   \n",
       "4   1000872556      Operarios de Planta - Rubro Electrodomésticos   \n",
       "8      9240880  Productores Asesores Independiente, para venta...   \n",
       "11  1002181678                 Vendedor Viajante TIERRA DEL FUEGO   \n",
       "\n",
       "                                          descripcion tipo_de_trabajo  \\\n",
       "1   [(oeste, 2), (experiencia, 2), (años, 2), (imp...       Full-time   \n",
       "2   [(tenes, 3), (estas, 2), (trabajo, 2), (años, ...       Full-time   \n",
       "4   [(control, 6), (produccion, 4), (operarios, 2)...       Full-time   \n",
       "8   [(agente, 1), (oficial, 1), (busqueda, 1), (or...       Full-time   \n",
       "11  [(empresa, 1), (multinacional, 1), (opera, 1),...       Full-time   \n",
       "\n",
       "                      nivel_laboral nombre_area  \\\n",
       "1              Senior / Semi-Senior       Salud   \n",
       "2              Senior / Semi-Senior  Transporte   \n",
       "4              Senior / Semi-Senior  Producción   \n",
       "8   Jefe / Supervisor / Responsable   Comercial   \n",
       "11             Senior / Semi-Senior      Ventas   \n",
       "\n",
       "                 denominacion_empresa  \n",
       "1             Farmacias Central Oeste  \n",
       "2                         FAMITAX SRL  \n",
       "4                  ELECTRO OUTLET SRL  \n",
       "8   Agencia Oficial Alejandro Arizaga  \n",
       "11                Wurth Argentina S.A  "
      ]
     },
     "execution_count": 28,
     "metadata": {},
     "output_type": "execute_result"
    }
   ],
   "source": [
    "avisos_detalle_train.head(5)"
   ]
  },
  {
   "cell_type": "raw",
   "metadata": {},
   "source": [
    "Lo mismo pero con el titulo"
   ]
  },
  {
   "cell_type": "code",
   "execution_count": 29,
   "metadata": {},
   "outputs": [],
   "source": [
    "avisos_detalle_train = avisos_detalle_train.apply(lambda row: clean_string(row, 'titulo'), axis=1)"
   ]
  },
  {
   "cell_type": "code",
   "execution_count": 30,
   "metadata": {},
   "outputs": [],
   "source": [
    "avisos_detalle_train = avisos_detalle_train.apply(lambda row: process_words(row, 'titulo'), axis=1)"
   ]
  },
  {
   "cell_type": "code",
   "execution_count": 31,
   "metadata": {},
   "outputs": [
    {
     "data": {
      "text/html": [
       "<div>\n",
       "<style scoped>\n",
       "    .dataframe tbody tr th:only-of-type {\n",
       "        vertical-align: middle;\n",
       "    }\n",
       "\n",
       "    .dataframe tbody tr th {\n",
       "        vertical-align: top;\n",
       "    }\n",
       "\n",
       "    .dataframe thead th {\n",
       "        text-align: right;\n",
       "    }\n",
       "</style>\n",
       "<table border=\"1\" class=\"dataframe\">\n",
       "  <thead>\n",
       "    <tr style=\"text-align: right;\">\n",
       "      <th></th>\n",
       "      <th>idaviso</th>\n",
       "      <th>titulo</th>\n",
       "      <th>descripcion</th>\n",
       "      <th>tipo_de_trabajo</th>\n",
       "      <th>nivel_laboral</th>\n",
       "      <th>nombre_area</th>\n",
       "      <th>denominacion_empresa</th>\n",
       "    </tr>\n",
       "  </thead>\n",
       "  <tbody>\n",
       "    <tr>\n",
       "      <th>1</th>\n",
       "      <td>17903700</td>\n",
       "      <td>[(enfermeras, 1)]</td>\n",
       "      <td>[(oeste, 2), (experiencia, 2), (años, 2), (imp...</td>\n",
       "      <td>Full-time</td>\n",
       "      <td>Senior / Semi-Senior</td>\n",
       "      <td>Salud</td>\n",
       "      <td>Farmacias Central Oeste</td>\n",
       "    </tr>\n",
       "    <tr>\n",
       "      <th>2</th>\n",
       "      <td>1000150677</td>\n",
       "      <td>[(chofer, 1), (taxi, 1)]</td>\n",
       "      <td>[(tenes, 3), (estas, 2), (trabajo, 2), (años, ...</td>\n",
       "      <td>Full-time</td>\n",
       "      <td>Senior / Semi-Senior</td>\n",
       "      <td>Transporte</td>\n",
       "      <td>FAMITAX SRL</td>\n",
       "    </tr>\n",
       "    <tr>\n",
       "      <th>4</th>\n",
       "      <td>1000872556</td>\n",
       "      <td>[(operarios, 1), (planta, 1), (rubro, 1), (ele...</td>\n",
       "      <td>[(control, 6), (produccion, 4), (operarios, 2)...</td>\n",
       "      <td>Full-time</td>\n",
       "      <td>Senior / Semi-Senior</td>\n",
       "      <td>Producción</td>\n",
       "      <td>ELECTRO OUTLET SRL</td>\n",
       "    </tr>\n",
       "    <tr>\n",
       "      <th>8</th>\n",
       "      <td>9240880</td>\n",
       "      <td>[(productores, 1), (asesores, 1), (independien...</td>\n",
       "      <td>[(agente, 1), (oficial, 1), (busqueda, 1), (or...</td>\n",
       "      <td>Full-time</td>\n",
       "      <td>Jefe / Supervisor / Responsable</td>\n",
       "      <td>Comercial</td>\n",
       "      <td>Agencia Oficial Alejandro Arizaga</td>\n",
       "    </tr>\n",
       "    <tr>\n",
       "      <th>11</th>\n",
       "      <td>1002181678</td>\n",
       "      <td>[(vendedor, 1), (viajante, 1), (tierra, 1), (f...</td>\n",
       "      <td>[(empresa, 1), (multinacional, 1), (opera, 1),...</td>\n",
       "      <td>Full-time</td>\n",
       "      <td>Senior / Semi-Senior</td>\n",
       "      <td>Ventas</td>\n",
       "      <td>Wurth Argentina S.A</td>\n",
       "    </tr>\n",
       "  </tbody>\n",
       "</table>\n",
       "</div>"
      ],
      "text/plain": [
       "       idaviso                                             titulo  \\\n",
       "1     17903700                                  [(enfermeras, 1)]   \n",
       "2   1000150677                           [(chofer, 1), (taxi, 1)]   \n",
       "4   1000872556  [(operarios, 1), (planta, 1), (rubro, 1), (ele...   \n",
       "8      9240880  [(productores, 1), (asesores, 1), (independien...   \n",
       "11  1002181678  [(vendedor, 1), (viajante, 1), (tierra, 1), (f...   \n",
       "\n",
       "                                          descripcion tipo_de_trabajo  \\\n",
       "1   [(oeste, 2), (experiencia, 2), (años, 2), (imp...       Full-time   \n",
       "2   [(tenes, 3), (estas, 2), (trabajo, 2), (años, ...       Full-time   \n",
       "4   [(control, 6), (produccion, 4), (operarios, 2)...       Full-time   \n",
       "8   [(agente, 1), (oficial, 1), (busqueda, 1), (or...       Full-time   \n",
       "11  [(empresa, 1), (multinacional, 1), (opera, 1),...       Full-time   \n",
       "\n",
       "                      nivel_laboral nombre_area  \\\n",
       "1              Senior / Semi-Senior       Salud   \n",
       "2              Senior / Semi-Senior  Transporte   \n",
       "4              Senior / Semi-Senior  Producción   \n",
       "8   Jefe / Supervisor / Responsable   Comercial   \n",
       "11             Senior / Semi-Senior      Ventas   \n",
       "\n",
       "                 denominacion_empresa  \n",
       "1             Farmacias Central Oeste  \n",
       "2                         FAMITAX SRL  \n",
       "4                  ELECTRO OUTLET SRL  \n",
       "8   Agencia Oficial Alejandro Arizaga  \n",
       "11                Wurth Argentina S.A  "
      ]
     },
     "execution_count": 31,
     "metadata": {},
     "output_type": "execute_result"
    }
   ],
   "source": [
    "avisos_detalle_train.head(5)"
   ]
  },
  {
   "cell_type": "code",
   "execution_count": 32,
   "metadata": {},
   "outputs": [],
   "source": [
    "avisos_detalle_train.to_csv('../data/6_avisos_detalle_train.csv', index=False, sep=',', encoding='utf-8')"
   ]
  },
  {
   "cell_type": "code",
   "execution_count": null,
   "metadata": {},
   "outputs": [],
   "source": []
  },
  {
   "cell_type": "code",
   "execution_count": null,
   "metadata": {},
   "outputs": [],
   "source": []
  },
  {
   "cell_type": "markdown",
   "metadata": {},
   "source": [
    "# Juntamos todo en un solo DF"
   ]
  },
  {
   "cell_type": "code",
   "execution_count": 33,
   "metadata": {},
   "outputs": [],
   "source": [
    "postulantes_educacion = pd.read_csv('../data/1_postulantes_educacion_train.csv', encoding='utf-8')\n",
    "postulantes_genero_edad = pd.read_csv('../data/2_postulantes_genero_edad_train.csv', encoding='utf-8')\n",
    "vistas = pd.read_csv('../data/3_vistas_train.csv', encoding='utf-8')\n",
    "postulaciones = pd.read_csv('../data/4_postulaciones_train.csv', encoding='utf-8')\n",
    "avisos_online = pd.read_csv('../data/5_avisos_online_train.csv', encoding='utf-8')\n",
    "avisos_detalle = pd.read_csv('../data/6_avisos_detalle_train.csv', encoding='utf-8')"
   ]
  },
  {
   "cell_type": "markdown",
   "metadata": {},
   "source": [
    "# Juntamos de los postulantes la informacion sobre educacion, genero, y edad"
   ]
  },
  {
   "cell_type": "markdown",
   "metadata": {},
   "source": [
    "### Obtenemos el maximo nivel de educacion para cada postulante"
   ]
  },
  {
   "cell_type": "code",
   "execution_count": 34,
   "metadata": {},
   "outputs": [
    {
     "data": {
      "text/html": [
       "<div>\n",
       "<style scoped>\n",
       "    .dataframe tbody tr th:only-of-type {\n",
       "        vertical-align: middle;\n",
       "    }\n",
       "\n",
       "    .dataframe tbody tr th {\n",
       "        vertical-align: top;\n",
       "    }\n",
       "\n",
       "    .dataframe thead th {\n",
       "        text-align: right;\n",
       "    }\n",
       "</style>\n",
       "<table border=\"1\" class=\"dataframe\">\n",
       "  <thead>\n",
       "    <tr style=\"text-align: right;\">\n",
       "      <th></th>\n",
       "      <th>idpostulante</th>\n",
       "      <th>nombre_estudio</th>\n",
       "      <th>estado_estudio</th>\n",
       "    </tr>\n",
       "  </thead>\n",
       "  <tbody>\n",
       "    <tr>\n",
       "      <th>0</th>\n",
       "      <td>8BkL</td>\n",
       "      <td>Universitario</td>\n",
       "      <td>En Curso</td>\n",
       "    </tr>\n",
       "    <tr>\n",
       "      <th>1</th>\n",
       "      <td>1d2B</td>\n",
       "      <td>Universitario</td>\n",
       "      <td>En Curso</td>\n",
       "    </tr>\n",
       "  </tbody>\n",
       "</table>\n",
       "</div>"
      ],
      "text/plain": [
       "  idpostulante nombre_estudio estado_estudio\n",
       "0         8BkL  Universitario       En Curso\n",
       "1         1d2B  Universitario       En Curso"
      ]
     },
     "execution_count": 34,
     "metadata": {},
     "output_type": "execute_result"
    }
   ],
   "source": [
    "postulantes_educacion.head(2)"
   ]
  },
  {
   "cell_type": "code",
   "execution_count": 35,
   "metadata": {},
   "outputs": [
    {
     "data": {
      "text/plain": [
       "568612"
      ]
     },
     "execution_count": 35,
     "metadata": {},
     "output_type": "execute_result"
    }
   ],
   "source": [
    "len(postulantes_educacion)"
   ]
  },
  {
   "cell_type": "code",
   "execution_count": 36,
   "metadata": {},
   "outputs": [
    {
     "name": "stdout",
     "output_type": "stream",
     "text": [
      "Existen datos de educacion de 366395 postulantes\n"
     ]
    }
   ],
   "source": [
    "print('Existen datos de educacion de', len(postulantes_educacion.drop_duplicates(['idpostulante'], keep='last', inplace=False)), 'postulantes')"
   ]
  },
  {
   "cell_type": "code",
   "execution_count": 37,
   "metadata": {},
   "outputs": [],
   "source": [
    "def cuantificar_estudios(row):\n",
    "    if (row['nombre_estudio'] == 'Doctorado'):\n",
    "        row['nombre_estudio'] = 7\n",
    "    if (row['nombre_estudio'] == 'Master'):    \n",
    "        row['nombre_estudio'] = 6\n",
    "    if (row['nombre_estudio'] == 'Posgrado'):    \n",
    "        row['nombre_estudio'] = 5\n",
    "    if (row['nombre_estudio'] == 'Universitario'):    \n",
    "        row['nombre_estudio'] = 4\n",
    "    if (row['nombre_estudio'] == 'Terciario/Técnico'):    \n",
    "        row['nombre_estudio'] = 3\n",
    "    if (row['nombre_estudio'] == 'Secundario'):    \n",
    "        row['nombre_estudio'] = 2\n",
    "    if (row['nombre_estudio'] == 'Otro'):    \n",
    "        row['nombre_estudio'] = 1    \n",
    "        \n",
    "    if (row['estado_estudio'] == 'Graduado'):\n",
    "        row['estado_estudio'] = 3\n",
    "    if (row['estado_estudio'] == 'En Curso'):    \n",
    "        row['estado_estudio'] = 2\n",
    "    if (row['estado_estudio'] == 'Abandonado'):    \n",
    "        row['estado_estudio'] = 1\n",
    "        \n",
    "    return row    \n",
    "\n",
    "def descuantificar_estudios(row):\n",
    "    if (row['nombre_estudio'] == 7):\n",
    "        row['nombre_estudio'] = 'Doctorado'\n",
    "    if (row['nombre_estudio'] == 6):    \n",
    "        row['nombre_estudio'] = 'Master'\n",
    "    if (row['nombre_estudio'] == 5):    \n",
    "        row['nombre_estudio'] = 'Posgrado'\n",
    "    if (row['nombre_estudio'] == 4):    \n",
    "        row['nombre_estudio'] = 'Universitario'\n",
    "    if (row['nombre_estudio'] == 3):    \n",
    "        row['nombre_estudio'] = 'Terciario/Técnico'\n",
    "    if (row['nombre_estudio'] == 2):    \n",
    "        row['nombre_estudio'] = 'Secundario'\n",
    "    if (row['nombre_estudio'] == 1):    \n",
    "        row['nombre_estudio'] = 'Otro'    \n",
    "        \n",
    "    if (row['estado_estudio'] == 3):\n",
    "        row['estado_estudio'] = 'Graduado'\n",
    "    if (row['estado_estudio'] == 2):    \n",
    "        row['estado_estudio'] = 'En Curso'\n",
    "    if (row['estado_estudio'] == 1):    \n",
    "        row['estado_estudio'] = 'Abandonado'\n",
    "        \n",
    "    return row    "
   ]
  },
  {
   "cell_type": "code",
   "execution_count": 38,
   "metadata": {},
   "outputs": [],
   "source": [
    "postulantes_educacion = postulantes_educacion.apply(lambda row: cuantificar_estudios(row), axis=1)"
   ]
  },
  {
   "cell_type": "code",
   "execution_count": 39,
   "metadata": {},
   "outputs": [],
   "source": [
    "# Obtenemos max de la columna nombre\n",
    "idx = postulantes_educacion.groupby(['idpostulante'])['nombre_estudio'].transform(max) == postulantes_educacion['nombre_estudio']"
   ]
  },
  {
   "cell_type": "code",
   "execution_count": 40,
   "metadata": {},
   "outputs": [],
   "source": [
    "# Sobre los anteriores, obtenemos los max de la columna estado\n",
    "idx_postulantes_educacion_max = postulantes_educacion[idx].groupby(['idpostulante'])['estado_estudio'].transform(max) == postulantes_educacion[idx]['estado_estudio']"
   ]
  },
  {
   "cell_type": "code",
   "execution_count": 41,
   "metadata": {},
   "outputs": [
    {
     "data": {
      "text/plain": [
       "366395"
      ]
     },
     "execution_count": 41,
     "metadata": {},
     "output_type": "execute_result"
    }
   ],
   "source": [
    "postulantes_educacion_max = postulantes_educacion[idx][idx_postulantes_educacion_max]\n",
    "len(postulantes_educacion_max)"
   ]
  },
  {
   "cell_type": "code",
   "execution_count": 42,
   "metadata": {},
   "outputs": [
    {
     "data": {
      "text/html": [
       "<div>\n",
       "<style scoped>\n",
       "    .dataframe tbody tr th:only-of-type {\n",
       "        vertical-align: middle;\n",
       "    }\n",
       "\n",
       "    .dataframe tbody tr th {\n",
       "        vertical-align: top;\n",
       "    }\n",
       "\n",
       "    .dataframe thead th {\n",
       "        text-align: right;\n",
       "    }\n",
       "</style>\n",
       "<table border=\"1\" class=\"dataframe\">\n",
       "  <thead>\n",
       "    <tr style=\"text-align: right;\">\n",
       "      <th></th>\n",
       "      <th>idpostulante</th>\n",
       "      <th>nombre_estudio</th>\n",
       "      <th>estado_estudio</th>\n",
       "    </tr>\n",
       "  </thead>\n",
       "  <tbody>\n",
       "    <tr>\n",
       "      <th>5</th>\n",
       "      <td>1QLLO</td>\n",
       "      <td>4</td>\n",
       "      <td>2</td>\n",
       "    </tr>\n",
       "    <tr>\n",
       "      <th>290</th>\n",
       "      <td>1QLLO</td>\n",
       "      <td>4</td>\n",
       "      <td>3</td>\n",
       "    </tr>\n",
       "  </tbody>\n",
       "</table>\n",
       "</div>"
      ],
      "text/plain": [
       "    idpostulante  nombre_estudio  estado_estudio\n",
       "5          1QLLO               4               2\n",
       "290        1QLLO               4               3"
      ]
     },
     "execution_count": 42,
     "metadata": {},
     "output_type": "execute_result"
    }
   ],
   "source": [
    "# Verificamos, por ejemplo para este postulante debe traer el maximo nombre y estado\n",
    "postulantes_educacion[postulantes_educacion['idpostulante'] == '1QLLO'] "
   ]
  },
  {
   "cell_type": "code",
   "execution_count": 43,
   "metadata": {},
   "outputs": [
    {
     "data": {
      "text/html": [
       "<div>\n",
       "<style scoped>\n",
       "    .dataframe tbody tr th:only-of-type {\n",
       "        vertical-align: middle;\n",
       "    }\n",
       "\n",
       "    .dataframe tbody tr th {\n",
       "        vertical-align: top;\n",
       "    }\n",
       "\n",
       "    .dataframe thead th {\n",
       "        text-align: right;\n",
       "    }\n",
       "</style>\n",
       "<table border=\"1\" class=\"dataframe\">\n",
       "  <thead>\n",
       "    <tr style=\"text-align: right;\">\n",
       "      <th></th>\n",
       "      <th>idpostulante</th>\n",
       "      <th>nombre_estudio</th>\n",
       "      <th>estado_estudio</th>\n",
       "    </tr>\n",
       "  </thead>\n",
       "  <tbody>\n",
       "    <tr>\n",
       "      <th>290</th>\n",
       "      <td>1QLLO</td>\n",
       "      <td>4</td>\n",
       "      <td>3</td>\n",
       "    </tr>\n",
       "  </tbody>\n",
       "</table>\n",
       "</div>"
      ],
      "text/plain": [
       "    idpostulante  nombre_estudio  estado_estudio\n",
       "290        1QLLO               4               3"
      ]
     },
     "execution_count": 43,
     "metadata": {},
     "output_type": "execute_result"
    }
   ],
   "source": [
    "# Efectivamente lo hace\n",
    "postulantes_educacion_max[postulantes_educacion_max['idpostulante'] == '1QLLO'] "
   ]
  },
  {
   "cell_type": "code",
   "execution_count": 44,
   "metadata": {},
   "outputs": [],
   "source": [
    "postulantes_educacion_max = postulantes_educacion_max.apply(lambda row: descuantificar_estudios(row), axis=1)"
   ]
  },
  {
   "cell_type": "code",
   "execution_count": 45,
   "metadata": {},
   "outputs": [
    {
     "data": {
      "text/html": [
       "<div>\n",
       "<style scoped>\n",
       "    .dataframe tbody tr th:only-of-type {\n",
       "        vertical-align: middle;\n",
       "    }\n",
       "\n",
       "    .dataframe tbody tr th {\n",
       "        vertical-align: top;\n",
       "    }\n",
       "\n",
       "    .dataframe thead th {\n",
       "        text-align: right;\n",
       "    }\n",
       "</style>\n",
       "<table border=\"1\" class=\"dataframe\">\n",
       "  <thead>\n",
       "    <tr style=\"text-align: right;\">\n",
       "      <th></th>\n",
       "      <th>idpostulante</th>\n",
       "      <th>nombre_estudio</th>\n",
       "      <th>estado_estudio</th>\n",
       "    </tr>\n",
       "  </thead>\n",
       "  <tbody>\n",
       "    <tr>\n",
       "      <th>1</th>\n",
       "      <td>1d2B</td>\n",
       "      <td>Universitario</td>\n",
       "      <td>En Curso</td>\n",
       "    </tr>\n",
       "    <tr>\n",
       "      <th>3</th>\n",
       "      <td>6M3jr</td>\n",
       "      <td>Universitario</td>\n",
       "      <td>En Curso</td>\n",
       "    </tr>\n",
       "  </tbody>\n",
       "</table>\n",
       "</div>"
      ],
      "text/plain": [
       "  idpostulante nombre_estudio estado_estudio\n",
       "1         1d2B  Universitario       En Curso\n",
       "3        6M3jr  Universitario       En Curso"
      ]
     },
     "execution_count": 45,
     "metadata": {},
     "output_type": "execute_result"
    }
   ],
   "source": [
    "postulantes_educacion_max.head(2)"
   ]
  },
  {
   "cell_type": "markdown",
   "metadata": {},
   "source": [
    "### Join con genero y edad"
   ]
  },
  {
   "cell_type": "code",
   "execution_count": 46,
   "metadata": {},
   "outputs": [
    {
     "data": {
      "text/plain": [
       "408146"
      ]
     },
     "execution_count": 46,
     "metadata": {},
     "output_type": "execute_result"
    }
   ],
   "source": [
    "len(postulantes_genero_edad)"
   ]
  },
  {
   "cell_type": "code",
   "execution_count": 47,
   "metadata": {},
   "outputs": [
    {
     "data": {
      "text/plain": [
       "408146"
      ]
     },
     "execution_count": 47,
     "metadata": {},
     "output_type": "execute_result"
    }
   ],
   "source": [
    "len(postulantes_genero_edad.drop_duplicates(['idpostulante'], keep='last', inplace=False))"
   ]
  },
  {
   "cell_type": "raw",
   "metadata": {},
   "source": [
    "No hay registros repetidos en el set de genero y edad."
   ]
  },
  {
   "cell_type": "raw",
   "metadata": {},
   "source": [
    "Joineamos ambos sets, descartamos los registros que no esten en ambos mediante un inner join."
   ]
  },
  {
   "cell_type": "code",
   "execution_count": 48,
   "metadata": {},
   "outputs": [],
   "source": [
    "postulantes = pd.merge(postulantes_educacion_max, postulantes_genero_edad, on='idpostulante', how='inner')"
   ]
  },
  {
   "cell_type": "code",
   "execution_count": 49,
   "metadata": {},
   "outputs": [
    {
     "data": {
      "text/plain": [
       "366395"
      ]
     },
     "execution_count": 49,
     "metadata": {},
     "output_type": "execute_result"
    }
   ],
   "source": [
    "len(postulantes)"
   ]
  },
  {
   "cell_type": "code",
   "execution_count": 50,
   "metadata": {},
   "outputs": [
    {
     "data": {
      "text/html": [
       "<div>\n",
       "<style scoped>\n",
       "    .dataframe tbody tr th:only-of-type {\n",
       "        vertical-align: middle;\n",
       "    }\n",
       "\n",
       "    .dataframe tbody tr th {\n",
       "        vertical-align: top;\n",
       "    }\n",
       "\n",
       "    .dataframe thead th {\n",
       "        text-align: right;\n",
       "    }\n",
       "</style>\n",
       "<table border=\"1\" class=\"dataframe\">\n",
       "  <thead>\n",
       "    <tr style=\"text-align: right;\">\n",
       "      <th></th>\n",
       "      <th>idpostulante</th>\n",
       "      <th>nombre_estudio</th>\n",
       "      <th>estado_estudio</th>\n",
       "      <th>fechanacimiento</th>\n",
       "      <th>sexo</th>\n",
       "    </tr>\n",
       "  </thead>\n",
       "  <tbody>\n",
       "    <tr>\n",
       "      <th>0</th>\n",
       "      <td>1d2B</td>\n",
       "      <td>Universitario</td>\n",
       "      <td>En Curso</td>\n",
       "      <td>1976-02-28</td>\n",
       "      <td>MASC</td>\n",
       "    </tr>\n",
       "    <tr>\n",
       "      <th>1</th>\n",
       "      <td>6M3jr</td>\n",
       "      <td>Universitario</td>\n",
       "      <td>En Curso</td>\n",
       "      <td>1975-11-03</td>\n",
       "      <td>MASC</td>\n",
       "    </tr>\n",
       "  </tbody>\n",
       "</table>\n",
       "</div>"
      ],
      "text/plain": [
       "  idpostulante nombre_estudio estado_estudio fechanacimiento  sexo\n",
       "0         1d2B  Universitario       En Curso      1976-02-28  MASC\n",
       "1        6M3jr  Universitario       En Curso      1975-11-03  MASC"
      ]
     },
     "execution_count": 50,
     "metadata": {},
     "output_type": "execute_result"
    }
   ],
   "source": [
    "postulantes.head(2)"
   ]
  },
  {
   "cell_type": "markdown",
   "metadata": {},
   "source": [
    "### Join con vistas y postulaciones"
   ]
  },
  {
   "cell_type": "code",
   "execution_count": 51,
   "metadata": {},
   "outputs": [
    {
     "name": "stdout",
     "output_type": "stream",
     "text": [
      "6682591\n",
      "6604534\n"
     ]
    }
   ],
   "source": [
    "print(len(vistas))\n",
    "print(len(postulaciones))"
   ]
  },
  {
   "cell_type": "code",
   "execution_count": 52,
   "metadata": {},
   "outputs": [
    {
     "data": {
      "text/html": [
       "<div>\n",
       "<style scoped>\n",
       "    .dataframe tbody tr th:only-of-type {\n",
       "        vertical-align: middle;\n",
       "    }\n",
       "\n",
       "    .dataframe tbody tr th {\n",
       "        vertical-align: top;\n",
       "    }\n",
       "\n",
       "    .dataframe thead th {\n",
       "        text-align: right;\n",
       "    }\n",
       "</style>\n",
       "<table border=\"1\" class=\"dataframe\">\n",
       "  <thead>\n",
       "    <tr style=\"text-align: right;\">\n",
       "      <th></th>\n",
       "      <th>idaviso</th>\n",
       "      <th>fechavista</th>\n",
       "      <th>idpostulante</th>\n",
       "    </tr>\n",
       "  </thead>\n",
       "  <tbody>\n",
       "    <tr>\n",
       "      <th>0</th>\n",
       "      <td>1111780242</td>\n",
       "      <td>2018-02-23T13:38:13.187-0500</td>\n",
       "      <td>YjVJQ6Z</td>\n",
       "    </tr>\n",
       "  </tbody>\n",
       "</table>\n",
       "</div>"
      ],
      "text/plain": [
       "      idaviso                    fechavista idpostulante\n",
       "0  1111780242  2018-02-23T13:38:13.187-0500      YjVJQ6Z"
      ]
     },
     "execution_count": 52,
     "metadata": {},
     "output_type": "execute_result"
    }
   ],
   "source": [
    "vistas.head(1)"
   ]
  },
  {
   "cell_type": "code",
   "execution_count": 53,
   "metadata": {},
   "outputs": [
    {
     "data": {
      "text/html": [
       "<div>\n",
       "<style scoped>\n",
       "    .dataframe tbody tr th:only-of-type {\n",
       "        vertical-align: middle;\n",
       "    }\n",
       "\n",
       "    .dataframe tbody tr th {\n",
       "        vertical-align: top;\n",
       "    }\n",
       "\n",
       "    .dataframe thead th {\n",
       "        text-align: right;\n",
       "    }\n",
       "</style>\n",
       "<table border=\"1\" class=\"dataframe\">\n",
       "  <thead>\n",
       "    <tr style=\"text-align: right;\">\n",
       "      <th></th>\n",
       "      <th>idaviso</th>\n",
       "      <th>idpostulante</th>\n",
       "      <th>fechapostulacion</th>\n",
       "    </tr>\n",
       "  </thead>\n",
       "  <tbody>\n",
       "    <tr>\n",
       "      <th>0</th>\n",
       "      <td>1112257047</td>\n",
       "      <td>NM5M</td>\n",
       "      <td>2018-01-15 16:22:34</td>\n",
       "    </tr>\n",
       "  </tbody>\n",
       "</table>\n",
       "</div>"
      ],
      "text/plain": [
       "      idaviso idpostulante     fechapostulacion\n",
       "0  1112257047         NM5M  2018-01-15 16:22:34"
      ]
     },
     "execution_count": 53,
     "metadata": {},
     "output_type": "execute_result"
    }
   ],
   "source": [
    "postulaciones.head(1)"
   ]
  },
  {
   "cell_type": "markdown",
   "metadata": {},
   "source": [
    "## POR AHORA NO MERGEO CON VISTAS, SOLO CON POSTULACIONES PORQUE ES DEMASIADO GRANDE"
   ]
  },
  {
   "cell_type": "code",
   "execution_count": 54,
   "metadata": {},
   "outputs": [],
   "source": [
    "#vistas_postulaciones = pd.concat([vistas, postulaciones])\n",
    "vistas_postulaciones = postulaciones"
   ]
  },
  {
   "cell_type": "code",
   "execution_count": 55,
   "metadata": {},
   "outputs": [
    {
     "name": "stdout",
     "output_type": "stream",
     "text": [
      "6604534\n"
     ]
    }
   ],
   "source": [
    "print(len(vistas_postulaciones))"
   ]
  },
  {
   "cell_type": "code",
   "execution_count": 56,
   "metadata": {},
   "outputs": [],
   "source": [
    "vistas_postulaciones.to_csv('../data/vistas_postulaciones.csv', index=False, sep=',', encoding='utf-8')"
   ]
  },
  {
   "cell_type": "code",
   "execution_count": 57,
   "metadata": {},
   "outputs": [
    {
     "data": {
      "text/html": [
       "<div>\n",
       "<style scoped>\n",
       "    .dataframe tbody tr th:only-of-type {\n",
       "        vertical-align: middle;\n",
       "    }\n",
       "\n",
       "    .dataframe tbody tr th {\n",
       "        vertical-align: top;\n",
       "    }\n",
       "\n",
       "    .dataframe thead th {\n",
       "        text-align: right;\n",
       "    }\n",
       "</style>\n",
       "<table border=\"1\" class=\"dataframe\">\n",
       "  <thead>\n",
       "    <tr style=\"text-align: right;\">\n",
       "      <th></th>\n",
       "      <th>idpostulante</th>\n",
       "      <th>nombre_estudio</th>\n",
       "      <th>estado_estudio</th>\n",
       "      <th>fechanacimiento</th>\n",
       "      <th>sexo</th>\n",
       "    </tr>\n",
       "  </thead>\n",
       "  <tbody>\n",
       "    <tr>\n",
       "      <th>0</th>\n",
       "      <td>1d2B</td>\n",
       "      <td>Universitario</td>\n",
       "      <td>En Curso</td>\n",
       "      <td>1976-02-28</td>\n",
       "      <td>MASC</td>\n",
       "    </tr>\n",
       "  </tbody>\n",
       "</table>\n",
       "</div>"
      ],
      "text/plain": [
       "  idpostulante nombre_estudio estado_estudio fechanacimiento  sexo\n",
       "0         1d2B  Universitario       En Curso      1976-02-28  MASC"
      ]
     },
     "execution_count": 57,
     "metadata": {},
     "output_type": "execute_result"
    }
   ],
   "source": [
    "postulantes.head(1)"
   ]
  },
  {
   "cell_type": "code",
   "execution_count": 58,
   "metadata": {},
   "outputs": [],
   "source": [
    "vistas_postulaciones_postulantes = pd.merge(vistas_postulaciones, postulantes, on='idpostulante', how='outer')"
   ]
  },
  {
   "cell_type": "code",
   "execution_count": 59,
   "metadata": {},
   "outputs": [
    {
     "name": "stdout",
     "output_type": "stream",
     "text": [
      "6647748\n"
     ]
    }
   ],
   "source": [
    "print(len(vistas_postulaciones_postulantes))"
   ]
  },
  {
   "cell_type": "code",
   "execution_count": 60,
   "metadata": {},
   "outputs": [
    {
     "data": {
      "text/html": [
       "<div>\n",
       "<style scoped>\n",
       "    .dataframe tbody tr th:only-of-type {\n",
       "        vertical-align: middle;\n",
       "    }\n",
       "\n",
       "    .dataframe tbody tr th {\n",
       "        vertical-align: top;\n",
       "    }\n",
       "\n",
       "    .dataframe thead th {\n",
       "        text-align: right;\n",
       "    }\n",
       "</style>\n",
       "<table border=\"1\" class=\"dataframe\">\n",
       "  <thead>\n",
       "    <tr style=\"text-align: right;\">\n",
       "      <th></th>\n",
       "      <th>idaviso</th>\n",
       "      <th>idpostulante</th>\n",
       "      <th>fechapostulacion</th>\n",
       "      <th>nombre_estudio</th>\n",
       "      <th>estado_estudio</th>\n",
       "      <th>fechanacimiento</th>\n",
       "      <th>sexo</th>\n",
       "    </tr>\n",
       "  </thead>\n",
       "  <tbody>\n",
       "    <tr>\n",
       "      <th>6647746</th>\n",
       "      <td>NaN</td>\n",
       "      <td>DrXeJbA</td>\n",
       "      <td>NaN</td>\n",
       "      <td>Secundario</td>\n",
       "      <td>Abandonado</td>\n",
       "      <td>1993-01-20</td>\n",
       "      <td>MASC</td>\n",
       "    </tr>\n",
       "    <tr>\n",
       "      <th>6647747</th>\n",
       "      <td>NaN</td>\n",
       "      <td>VNr0VD2</td>\n",
       "      <td>NaN</td>\n",
       "      <td>Terciario/Técnico</td>\n",
       "      <td>Abandonado</td>\n",
       "      <td>1971-07-12</td>\n",
       "      <td>FEM</td>\n",
       "    </tr>\n",
       "  </tbody>\n",
       "</table>\n",
       "</div>"
      ],
      "text/plain": [
       "         idaviso idpostulante fechapostulacion     nombre_estudio  \\\n",
       "6647746      NaN      DrXeJbA              NaN         Secundario   \n",
       "6647747      NaN      VNr0VD2              NaN  Terciario/Técnico   \n",
       "\n",
       "        estado_estudio fechanacimiento  sexo  \n",
       "6647746     Abandonado      1993-01-20  MASC  \n",
       "6647747     Abandonado      1971-07-12   FEM  "
      ]
     },
     "execution_count": 60,
     "metadata": {},
     "output_type": "execute_result"
    }
   ],
   "source": [
    "vistas_postulaciones_postulantes.tail(2)"
   ]
  },
  {
   "cell_type": "raw",
   "metadata": {},
   "source": [
    "Podemos ver que hay postulantes que no aplican ni visitan ningun aviso. Ver si los descartamos!"
   ]
  },
  {
   "cell_type": "code",
   "execution_count": 61,
   "metadata": {},
   "outputs": [],
   "source": [
    "vistas_postulaciones_postulantes.to_csv('../data/postulantes_vistas_postulaciones.csv', index=False, sep=',', encoding='utf-8')"
   ]
  },
  {
   "cell_type": "code",
   "execution_count": 62,
   "metadata": {},
   "outputs": [],
   "source": [
    "vistas_postulaciones_postulantes = pd.read_csv('../data/postulantes_vistas_postulaciones.csv', encoding='utf-8')"
   ]
  },
  {
   "cell_type": "code",
   "execution_count": 63,
   "metadata": {},
   "outputs": [
    {
     "data": {
      "text/html": [
       "<div>\n",
       "<style scoped>\n",
       "    .dataframe tbody tr th:only-of-type {\n",
       "        vertical-align: middle;\n",
       "    }\n",
       "\n",
       "    .dataframe tbody tr th {\n",
       "        vertical-align: top;\n",
       "    }\n",
       "\n",
       "    .dataframe thead th {\n",
       "        text-align: right;\n",
       "    }\n",
       "</style>\n",
       "<table border=\"1\" class=\"dataframe\">\n",
       "  <thead>\n",
       "    <tr style=\"text-align: right;\">\n",
       "      <th></th>\n",
       "      <th>idaviso</th>\n",
       "      <th>idpostulante</th>\n",
       "      <th>fechapostulacion</th>\n",
       "      <th>nombre_estudio</th>\n",
       "      <th>estado_estudio</th>\n",
       "      <th>fechanacimiento</th>\n",
       "      <th>sexo</th>\n",
       "    </tr>\n",
       "  </thead>\n",
       "  <tbody>\n",
       "    <tr>\n",
       "      <th>0</th>\n",
       "      <td>1.112257e+09</td>\n",
       "      <td>NM5M</td>\n",
       "      <td>2018-01-15 16:22:34</td>\n",
       "      <td>Secundario</td>\n",
       "      <td>Graduado</td>\n",
       "      <td>1970-12-03</td>\n",
       "      <td>FEM</td>\n",
       "    </tr>\n",
       "  </tbody>\n",
       "</table>\n",
       "</div>"
      ],
      "text/plain": [
       "        idaviso idpostulante     fechapostulacion nombre_estudio  \\\n",
       "0  1.112257e+09         NM5M  2018-01-15 16:22:34     Secundario   \n",
       "\n",
       "  estado_estudio fechanacimiento sexo  \n",
       "0       Graduado      1970-12-03  FEM  "
      ]
     },
     "execution_count": 63,
     "metadata": {},
     "output_type": "execute_result"
    }
   ],
   "source": [
    "vistas_postulaciones_postulantes.head(1)"
   ]
  },
  {
   "cell_type": "code",
   "execution_count": 64,
   "metadata": {},
   "outputs": [
    {
     "data": {
      "text/plain": [
       "6647748"
      ]
     },
     "execution_count": 64,
     "metadata": {},
     "output_type": "execute_result"
    }
   ],
   "source": [
    "len(vistas_postulaciones_postulantes)"
   ]
  },
  {
   "cell_type": "markdown",
   "metadata": {},
   "source": [
    "### Merge con avisos_detalle"
   ]
  },
  {
   "cell_type": "code",
   "execution_count": 65,
   "metadata": {},
   "outputs": [
    {
     "data": {
      "text/html": [
       "<div>\n",
       "<style scoped>\n",
       "    .dataframe tbody tr th:only-of-type {\n",
       "        vertical-align: middle;\n",
       "    }\n",
       "\n",
       "    .dataframe tbody tr th {\n",
       "        vertical-align: top;\n",
       "    }\n",
       "\n",
       "    .dataframe thead th {\n",
       "        text-align: right;\n",
       "    }\n",
       "</style>\n",
       "<table border=\"1\" class=\"dataframe\">\n",
       "  <thead>\n",
       "    <tr style=\"text-align: right;\">\n",
       "      <th></th>\n",
       "      <th>idaviso</th>\n",
       "      <th>titulo</th>\n",
       "      <th>descripcion</th>\n",
       "      <th>tipo_de_trabajo</th>\n",
       "      <th>nivel_laboral</th>\n",
       "      <th>nombre_area</th>\n",
       "      <th>denominacion_empresa</th>\n",
       "    </tr>\n",
       "  </thead>\n",
       "  <tbody>\n",
       "    <tr>\n",
       "      <th>0</th>\n",
       "      <td>17903700</td>\n",
       "      <td>[('enfermeras', 1)]</td>\n",
       "      <td>[('oeste', 2), ('experiencia', 2), ('años', 2)...</td>\n",
       "      <td>Full-time</td>\n",
       "      <td>Senior / Semi-Senior</td>\n",
       "      <td>Salud</td>\n",
       "      <td>Farmacias Central Oeste</td>\n",
       "    </tr>\n",
       "  </tbody>\n",
       "</table>\n",
       "</div>"
      ],
      "text/plain": [
       "    idaviso               titulo  \\\n",
       "0  17903700  [('enfermeras', 1)]   \n",
       "\n",
       "                                         descripcion tipo_de_trabajo  \\\n",
       "0  [('oeste', 2), ('experiencia', 2), ('años', 2)...       Full-time   \n",
       "\n",
       "          nivel_laboral nombre_area     denominacion_empresa  \n",
       "0  Senior / Semi-Senior       Salud  Farmacias Central Oeste  "
      ]
     },
     "execution_count": 65,
     "metadata": {},
     "output_type": "execute_result"
    }
   ],
   "source": [
    "avisos_detalle.head(1)"
   ]
  },
  {
   "cell_type": "code",
   "execution_count": 66,
   "metadata": {},
   "outputs": [],
   "source": [
    "vistas_postulaciones_postulantes_avisos = pd.merge(vistas_postulaciones_postulantes, avisos_detalle, on='idaviso', how='left')"
   ]
  },
  {
   "cell_type": "code",
   "execution_count": 67,
   "metadata": {},
   "outputs": [
    {
     "data": {
      "text/html": [
       "<div>\n",
       "<style scoped>\n",
       "    .dataframe tbody tr th:only-of-type {\n",
       "        vertical-align: middle;\n",
       "    }\n",
       "\n",
       "    .dataframe tbody tr th {\n",
       "        vertical-align: top;\n",
       "    }\n",
       "\n",
       "    .dataframe thead th {\n",
       "        text-align: right;\n",
       "    }\n",
       "</style>\n",
       "<table border=\"1\" class=\"dataframe\">\n",
       "  <thead>\n",
       "    <tr style=\"text-align: right;\">\n",
       "      <th></th>\n",
       "      <th>idaviso</th>\n",
       "      <th>idpostulante</th>\n",
       "      <th>fechapostulacion</th>\n",
       "      <th>nombre_estudio</th>\n",
       "      <th>estado_estudio</th>\n",
       "      <th>fechanacimiento</th>\n",
       "      <th>sexo</th>\n",
       "      <th>titulo</th>\n",
       "      <th>descripcion</th>\n",
       "      <th>tipo_de_trabajo</th>\n",
       "      <th>nivel_laboral</th>\n",
       "      <th>nombre_area</th>\n",
       "      <th>denominacion_empresa</th>\n",
       "    </tr>\n",
       "  </thead>\n",
       "  <tbody>\n",
       "    <tr>\n",
       "      <th>0</th>\n",
       "      <td>1.11226e+09</td>\n",
       "      <td>NM5M</td>\n",
       "      <td>2018-01-15 16:22:34</td>\n",
       "      <td>Secundario</td>\n",
       "      <td>Graduado</td>\n",
       "      <td>1970-12-03</td>\n",
       "      <td>FEM</td>\n",
       "      <td>[('representantes', 1), ('atencion', 1), ('cli...</td>\n",
       "      <td>[('retencion', 3), ('atencion', 2), ('cliente'...</td>\n",
       "      <td>Part-time</td>\n",
       "      <td>Otro</td>\n",
       "      <td>Atención al Cliente</td>\n",
       "      <td>Eficasia Argentina SA</td>\n",
       "    </tr>\n",
       "  </tbody>\n",
       "</table>\n",
       "</div>"
      ],
      "text/plain": [
       "       idaviso idpostulante     fechapostulacion nombre_estudio  \\\n",
       "0  1.11226e+09         NM5M  2018-01-15 16:22:34     Secundario   \n",
       "\n",
       "  estado_estudio fechanacimiento sexo  \\\n",
       "0       Graduado      1970-12-03  FEM   \n",
       "\n",
       "                                              titulo  \\\n",
       "0  [('representantes', 1), ('atencion', 1), ('cli...   \n",
       "\n",
       "                                         descripcion tipo_de_trabajo  \\\n",
       "0  [('retencion', 3), ('atencion', 2), ('cliente'...       Part-time   \n",
       "\n",
       "  nivel_laboral          nombre_area    denominacion_empresa  \n",
       "0          Otro  Atención al Cliente  Eficasia Argentina SA   "
      ]
     },
     "execution_count": 67,
     "metadata": {},
     "output_type": "execute_result"
    }
   ],
   "source": [
    "vistas_postulaciones_postulantes_avisos.head(1)"
   ]
  },
  {
   "cell_type": "code",
   "execution_count": 68,
   "metadata": {},
   "outputs": [
    {
     "data": {
      "text/plain": [
       "Index(['idaviso', 'idpostulante', 'fechapostulacion', 'nombre_estudio',\n",
       "       'estado_estudio', 'fechanacimiento', 'sexo', 'titulo', 'descripcion',\n",
       "       'tipo_de_trabajo', 'nivel_laboral', 'nombre_area',\n",
       "       'denominacion_empresa'],\n",
       "      dtype='object')"
      ]
     },
     "execution_count": 68,
     "metadata": {},
     "output_type": "execute_result"
    }
   ],
   "source": [
    "vistas_postulaciones_postulantes_avisos.columns"
   ]
  },
  {
   "cell_type": "code",
   "execution_count": 69,
   "metadata": {},
   "outputs": [
    {
     "data": {
      "text/plain": [
       "idaviso                 54553152\n",
       "idpostulante            54553152\n",
       "fechapostulacion        54553152\n",
       "nombre_estudio          54553152\n",
       "estado_estudio          54553152\n",
       "fechanacimiento         54553152\n",
       "sexo                    54553152\n",
       "titulo                  54553152\n",
       "descripcion             54553152\n",
       "tipo_de_trabajo         54553152\n",
       "nivel_laboral           54553152\n",
       "nombre_area             54553152\n",
       "denominacion_empresa    54553152\n",
       "dtype: int64"
      ]
     },
     "execution_count": 69,
     "metadata": {},
     "output_type": "execute_result"
    }
   ],
   "source": [
    "vistas_postulaciones_postulantes_avisos.memory_usage(index=False)"
   ]
  },
  {
   "cell_type": "code",
   "execution_count": 70,
   "metadata": {},
   "outputs": [
    {
     "name": "stdout",
     "output_type": "stream",
     "text": [
      "6819144\n"
     ]
    }
   ],
   "source": [
    "print(len(vistas_postulaciones_postulantes_avisos))"
   ]
  },
  {
   "cell_type": "code",
   "execution_count": 71,
   "metadata": {},
   "outputs": [
    {
     "data": {
      "text/plain": [
       "6775930"
      ]
     },
     "execution_count": 71,
     "metadata": {},
     "output_type": "execute_result"
    }
   ],
   "source": [
    "vistas_postulaciones_postulantes_avisos['idaviso'].count()"
   ]
  },
  {
   "cell_type": "code",
   "execution_count": 72,
   "metadata": {},
   "outputs": [],
   "source": [
    "vistas_postulaciones_postulantes_avisos = vistas_postulaciones_postulantes_avisos.dropna(subset=['idaviso'], how='all')"
   ]
  },
  {
   "cell_type": "code",
   "execution_count": 73,
   "metadata": {},
   "outputs": [
    {
     "name": "stdout",
     "output_type": "stream",
     "text": [
      "6775930\n"
     ]
    }
   ],
   "source": [
    "print(len(vistas_postulaciones_postulantes_avisos))"
   ]
  },
  {
   "cell_type": "code",
   "execution_count": 74,
   "metadata": {},
   "outputs": [],
   "source": [
    "vistas_postulaciones_postulantes_avisos['idaviso'] = vistas_postulaciones_postulantes_avisos['idaviso'].astype(int)"
   ]
  },
  {
   "cell_type": "code",
   "execution_count": 75,
   "metadata": {},
   "outputs": [
    {
     "data": {
      "text/html": [
       "<div>\n",
       "<style scoped>\n",
       "    .dataframe tbody tr th:only-of-type {\n",
       "        vertical-align: middle;\n",
       "    }\n",
       "\n",
       "    .dataframe tbody tr th {\n",
       "        vertical-align: top;\n",
       "    }\n",
       "\n",
       "    .dataframe thead th {\n",
       "        text-align: right;\n",
       "    }\n",
       "</style>\n",
       "<table border=\"1\" class=\"dataframe\">\n",
       "  <thead>\n",
       "    <tr style=\"text-align: right;\">\n",
       "      <th></th>\n",
       "      <th>idaviso</th>\n",
       "      <th>idpostulante</th>\n",
       "      <th>fechapostulacion</th>\n",
       "      <th>nombre_estudio</th>\n",
       "      <th>estado_estudio</th>\n",
       "      <th>fechanacimiento</th>\n",
       "      <th>sexo</th>\n",
       "      <th>titulo</th>\n",
       "      <th>descripcion</th>\n",
       "      <th>tipo_de_trabajo</th>\n",
       "      <th>nivel_laboral</th>\n",
       "      <th>nombre_area</th>\n",
       "      <th>denominacion_empresa</th>\n",
       "    </tr>\n",
       "  </thead>\n",
       "  <tbody>\n",
       "    <tr>\n",
       "      <th>0</th>\n",
       "      <td>1112257047</td>\n",
       "      <td>NM5M</td>\n",
       "      <td>2018-01-15 16:22:34</td>\n",
       "      <td>Secundario</td>\n",
       "      <td>Graduado</td>\n",
       "      <td>1970-12-03</td>\n",
       "      <td>FEM</td>\n",
       "      <td>[('representantes', 1), ('atencion', 1), ('cli...</td>\n",
       "      <td>[('retencion', 3), ('atencion', 2), ('cliente'...</td>\n",
       "      <td>Part-time</td>\n",
       "      <td>Otro</td>\n",
       "      <td>Atención al Cliente</td>\n",
       "      <td>Eficasia Argentina SA</td>\n",
       "    </tr>\n",
       "  </tbody>\n",
       "</table>\n",
       "</div>"
      ],
      "text/plain": [
       "      idaviso idpostulante     fechapostulacion nombre_estudio estado_estudio  \\\n",
       "0  1112257047         NM5M  2018-01-15 16:22:34     Secundario       Graduado   \n",
       "\n",
       "  fechanacimiento sexo                                             titulo  \\\n",
       "0      1970-12-03  FEM  [('representantes', 1), ('atencion', 1), ('cli...   \n",
       "\n",
       "                                         descripcion tipo_de_trabajo  \\\n",
       "0  [('retencion', 3), ('atencion', 2), ('cliente'...       Part-time   \n",
       "\n",
       "  nivel_laboral          nombre_area    denominacion_empresa  \n",
       "0          Otro  Atención al Cliente  Eficasia Argentina SA   "
      ]
     },
     "execution_count": 75,
     "metadata": {},
     "output_type": "execute_result"
    }
   ],
   "source": [
    "vistas_postulaciones_postulantes_avisos.head(1)"
   ]
  },
  {
   "cell_type": "code",
   "execution_count": 76,
   "metadata": {},
   "outputs": [
    {
     "data": {
      "text/plain": [
       "idaviso                  int64\n",
       "idpostulante            object\n",
       "fechapostulacion        object\n",
       "nombre_estudio          object\n",
       "estado_estudio          object\n",
       "fechanacimiento         object\n",
       "sexo                    object\n",
       "titulo                  object\n",
       "descripcion             object\n",
       "tipo_de_trabajo         object\n",
       "nivel_laboral           object\n",
       "nombre_area             object\n",
       "denominacion_empresa    object\n",
       "dtype: object"
      ]
     },
     "execution_count": 76,
     "metadata": {},
     "output_type": "execute_result"
    }
   ],
   "source": [
    "vistas_postulaciones_postulantes_avisos.dtypes"
   ]
  },
  {
   "cell_type": "code",
   "execution_count": 77,
   "metadata": {},
   "outputs": [],
   "source": [
    "vistas_postulaciones_postulantes_avisos['fechapostulacion'] = pd.to_datetime(vistas_postulaciones_postulantes_avisos['fechapostulacion'], format='%Y-%m-%d %H:%M:%S')"
   ]
  },
  {
   "cell_type": "code",
   "execution_count": 78,
   "metadata": {},
   "outputs": [
    {
     "data": {
      "text/plain": [
       "idaviso                          int64\n",
       "idpostulante                    object\n",
       "fechapostulacion        datetime64[ns]\n",
       "nombre_estudio                  object\n",
       "estado_estudio                  object\n",
       "fechanacimiento                 object\n",
       "sexo                            object\n",
       "titulo                          object\n",
       "descripcion                     object\n",
       "tipo_de_trabajo                 object\n",
       "nivel_laboral                   object\n",
       "nombre_area                     object\n",
       "denominacion_empresa            object\n",
       "dtype: object"
      ]
     },
     "execution_count": 78,
     "metadata": {},
     "output_type": "execute_result"
    }
   ],
   "source": [
    "vistas_postulaciones_postulantes_avisos.dtypes"
   ]
  },
  {
   "cell_type": "code",
   "execution_count": 79,
   "metadata": {},
   "outputs": [
    {
     "data": {
      "text/html": [
       "<div>\n",
       "<style scoped>\n",
       "    .dataframe tbody tr th:only-of-type {\n",
       "        vertical-align: middle;\n",
       "    }\n",
       "\n",
       "    .dataframe tbody tr th {\n",
       "        vertical-align: top;\n",
       "    }\n",
       "\n",
       "    .dataframe thead th {\n",
       "        text-align: right;\n",
       "    }\n",
       "</style>\n",
       "<table border=\"1\" class=\"dataframe\">\n",
       "  <thead>\n",
       "    <tr style=\"text-align: right;\">\n",
       "      <th></th>\n",
       "      <th>idaviso</th>\n",
       "      <th>idpostulante</th>\n",
       "      <th>fechapostulacion</th>\n",
       "      <th>nombre_estudio</th>\n",
       "      <th>estado_estudio</th>\n",
       "      <th>fechanacimiento</th>\n",
       "      <th>sexo</th>\n",
       "      <th>titulo</th>\n",
       "      <th>descripcion</th>\n",
       "      <th>tipo_de_trabajo</th>\n",
       "      <th>nivel_laboral</th>\n",
       "      <th>nombre_area</th>\n",
       "      <th>denominacion_empresa</th>\n",
       "    </tr>\n",
       "  </thead>\n",
       "  <tbody>\n",
       "    <tr>\n",
       "      <th>0</th>\n",
       "      <td>1112257047</td>\n",
       "      <td>NM5M</td>\n",
       "      <td>2018-01-15 16:22:34</td>\n",
       "      <td>Secundario</td>\n",
       "      <td>Graduado</td>\n",
       "      <td>1970-12-03</td>\n",
       "      <td>FEM</td>\n",
       "      <td>[('representantes', 1), ('atencion', 1), ('cli...</td>\n",
       "      <td>[('retencion', 3), ('atencion', 2), ('cliente'...</td>\n",
       "      <td>Part-time</td>\n",
       "      <td>Otro</td>\n",
       "      <td>Atención al Cliente</td>\n",
       "      <td>Eficasia Argentina SA</td>\n",
       "    </tr>\n",
       "  </tbody>\n",
       "</table>\n",
       "</div>"
      ],
      "text/plain": [
       "      idaviso idpostulante    fechapostulacion nombre_estudio estado_estudio  \\\n",
       "0  1112257047         NM5M 2018-01-15 16:22:34     Secundario       Graduado   \n",
       "\n",
       "  fechanacimiento sexo                                             titulo  \\\n",
       "0      1970-12-03  FEM  [('representantes', 1), ('atencion', 1), ('cli...   \n",
       "\n",
       "                                         descripcion tipo_de_trabajo  \\\n",
       "0  [('retencion', 3), ('atencion', 2), ('cliente'...       Part-time   \n",
       "\n",
       "  nivel_laboral          nombre_area    denominacion_empresa  \n",
       "0          Otro  Atención al Cliente  Eficasia Argentina SA   "
      ]
     },
     "execution_count": 79,
     "metadata": {},
     "output_type": "execute_result"
    }
   ],
   "source": [
    "vistas_postulaciones_postulantes_avisos.head(1)"
   ]
  },
  {
   "cell_type": "code",
   "execution_count": 80,
   "metadata": {},
   "outputs": [
    {
     "name": "stdout",
     "output_type": "stream",
     "text": [
      "False\n"
     ]
    }
   ],
   "source": [
    "print(vistas_postulaciones_postulantes_avisos.idaviso.hasnans)"
   ]
  },
  {
   "cell_type": "code",
   "execution_count": 81,
   "metadata": {},
   "outputs": [
    {
     "name": "stdout",
     "output_type": "stream",
     "text": [
      "False\n"
     ]
    }
   ],
   "source": [
    "print(vistas_postulaciones_postulantes_avisos.idpostulante.hasnans)"
   ]
  },
  {
   "cell_type": "code",
   "execution_count": 4,
   "metadata": {},
   "outputs": [],
   "source": [
    "vistas_postulaciones_postulantes_avisos = pd.read_csv('../data/vistas_postulaciones_postulantes_avisos.csv', encoding='utf-8')"
   ]
  },
  {
   "cell_type": "raw",
   "metadata": {},
   "source": [
    "Hay registros que no tienen descripcion (ni todos los datos correspondientes al aviso), los descartamos"
   ]
  },
  {
   "cell_type": "code",
   "execution_count": 5,
   "metadata": {},
   "outputs": [
    {
     "data": {
      "text/plain": [
       "566333"
      ]
     },
     "execution_count": 5,
     "metadata": {},
     "output_type": "execute_result"
    }
   ],
   "source": [
    "vistas_postulaciones_postulantes_avisos['descripcion'].isnull().sum()"
   ]
  },
  {
   "cell_type": "code",
   "execution_count": 6,
   "metadata": {},
   "outputs": [
    {
     "name": "stdout",
     "output_type": "stream",
     "text": [
      "6775930\n"
     ]
    }
   ],
   "source": [
    "print(len(vistas_postulaciones_postulantes_avisos))"
   ]
  },
  {
   "cell_type": "code",
   "execution_count": 7,
   "metadata": {},
   "outputs": [],
   "source": [
    "vistas_postulaciones_postulantes_avisos = vistas_postulaciones_postulantes_avisos[pd.notnull(vistas_postulaciones_postulantes_avisos['descripcion'])]"
   ]
  },
  {
   "cell_type": "code",
   "execution_count": 8,
   "metadata": {},
   "outputs": [
    {
     "name": "stdout",
     "output_type": "stream",
     "text": [
      "6209597\n"
     ]
    }
   ],
   "source": [
    "print(len(vistas_postulaciones_postulantes_avisos))"
   ]
  },
  {
   "cell_type": "code",
   "execution_count": 12,
   "metadata": {},
   "outputs": [
    {
     "data": {
      "text/html": [
       "<div>\n",
       "<style scoped>\n",
       "    .dataframe tbody tr th:only-of-type {\n",
       "        vertical-align: middle;\n",
       "    }\n",
       "\n",
       "    .dataframe tbody tr th {\n",
       "        vertical-align: top;\n",
       "    }\n",
       "\n",
       "    .dataframe thead th {\n",
       "        text-align: right;\n",
       "    }\n",
       "</style>\n",
       "<table border=\"1\" class=\"dataframe\">\n",
       "  <thead>\n",
       "    <tr style=\"text-align: right;\">\n",
       "      <th></th>\n",
       "      <th>idaviso</th>\n",
       "      <th>idpostulante</th>\n",
       "      <th>fechapostulacion</th>\n",
       "      <th>nombre_estudio</th>\n",
       "      <th>estado_estudio</th>\n",
       "      <th>fechanacimiento</th>\n",
       "      <th>sexo</th>\n",
       "      <th>titulo</th>\n",
       "      <th>descripcion</th>\n",
       "      <th>tipo_de_trabajo</th>\n",
       "      <th>nivel_laboral</th>\n",
       "      <th>nombre_area</th>\n",
       "      <th>denominacion_empresa</th>\n",
       "    </tr>\n",
       "  </thead>\n",
       "  <tbody>\n",
       "    <tr>\n",
       "      <th>0</th>\n",
       "      <td>1112257047</td>\n",
       "      <td>NM5M</td>\n",
       "      <td>2018-01-15 16:22:34</td>\n",
       "      <td>Secundario</td>\n",
       "      <td>Graduado</td>\n",
       "      <td>1970-12-03</td>\n",
       "      <td>FEM</td>\n",
       "      <td>[('representantes', 1), ('atencion', 1), ('cli...</td>\n",
       "      <td>[('retencion', 3), ('atencion', 2), ('cliente'...</td>\n",
       "      <td>Part-time</td>\n",
       "      <td>Otro</td>\n",
       "      <td>Atención al Cliente</td>\n",
       "      <td>Eficasia Argentina SA</td>\n",
       "    </tr>\n",
       "  </tbody>\n",
       "</table>\n",
       "</div>"
      ],
      "text/plain": [
       "      idaviso idpostulante     fechapostulacion nombre_estudio estado_estudio  \\\n",
       "0  1112257047         NM5M  2018-01-15 16:22:34     Secundario       Graduado   \n",
       "\n",
       "  fechanacimiento sexo                                             titulo  \\\n",
       "0      1970-12-03  FEM  [('representantes', 1), ('atencion', 1), ('cli...   \n",
       "\n",
       "                                         descripcion tipo_de_trabajo  \\\n",
       "0  [('retencion', 3), ('atencion', 2), ('cliente'...       Part-time   \n",
       "\n",
       "  nivel_laboral          nombre_area    denominacion_empresa  \n",
       "0          Otro  Atención al Cliente  Eficasia Argentina SA   "
      ]
     },
     "execution_count": 12,
     "metadata": {},
     "output_type": "execute_result"
    }
   ],
   "source": [
    "vistas_postulaciones_postulantes_avisos.head(1)"
   ]
  },
  {
   "cell_type": "raw",
   "metadata": {},
   "source": [
    "Elimino la columna fechapostulacion y denominacion_empresa"
   ]
  },
  {
   "cell_type": "code",
   "execution_count": 15,
   "metadata": {},
   "outputs": [],
   "source": [
    "vistas_postulaciones_postulantes_avisos.drop(['fechapostulacion'], axis=1, inplace=True)"
   ]
  },
  {
   "cell_type": "code",
   "execution_count": 18,
   "metadata": {},
   "outputs": [],
   "source": [
    "vistas_postulaciones_postulantes_avisos.drop(['denominacion_empresa'], axis=1, inplace=True)"
   ]
  },
  {
   "cell_type": "code",
   "execution_count": 19,
   "metadata": {},
   "outputs": [
    {
     "data": {
      "text/html": [
       "<div>\n",
       "<style scoped>\n",
       "    .dataframe tbody tr th:only-of-type {\n",
       "        vertical-align: middle;\n",
       "    }\n",
       "\n",
       "    .dataframe tbody tr th {\n",
       "        vertical-align: top;\n",
       "    }\n",
       "\n",
       "    .dataframe thead th {\n",
       "        text-align: right;\n",
       "    }\n",
       "</style>\n",
       "<table border=\"1\" class=\"dataframe\">\n",
       "  <thead>\n",
       "    <tr style=\"text-align: right;\">\n",
       "      <th></th>\n",
       "      <th>idaviso</th>\n",
       "      <th>idpostulante</th>\n",
       "      <th>nombre_estudio</th>\n",
       "      <th>estado_estudio</th>\n",
       "      <th>fechanacimiento</th>\n",
       "      <th>sexo</th>\n",
       "      <th>titulo</th>\n",
       "      <th>descripcion</th>\n",
       "      <th>tipo_de_trabajo</th>\n",
       "      <th>nivel_laboral</th>\n",
       "      <th>nombre_area</th>\n",
       "    </tr>\n",
       "  </thead>\n",
       "  <tbody>\n",
       "    <tr>\n",
       "      <th>0</th>\n",
       "      <td>1112257047</td>\n",
       "      <td>NM5M</td>\n",
       "      <td>Secundario</td>\n",
       "      <td>Graduado</td>\n",
       "      <td>1970-12-03</td>\n",
       "      <td>FEM</td>\n",
       "      <td>[('representantes', 1), ('atencion', 1), ('cli...</td>\n",
       "      <td>[('retencion', 3), ('atencion', 2), ('cliente'...</td>\n",
       "      <td>Part-time</td>\n",
       "      <td>Otro</td>\n",
       "      <td>Atención al Cliente</td>\n",
       "    </tr>\n",
       "  </tbody>\n",
       "</table>\n",
       "</div>"
      ],
      "text/plain": [
       "      idaviso idpostulante nombre_estudio estado_estudio fechanacimiento sexo  \\\n",
       "0  1112257047         NM5M     Secundario       Graduado      1970-12-03  FEM   \n",
       "\n",
       "                                              titulo  \\\n",
       "0  [('representantes', 1), ('atencion', 1), ('cli...   \n",
       "\n",
       "                                         descripcion tipo_de_trabajo  \\\n",
       "0  [('retencion', 3), ('atencion', 2), ('cliente'...       Part-time   \n",
       "\n",
       "  nivel_laboral          nombre_area  \n",
       "0          Otro  Atención al Cliente  "
      ]
     },
     "execution_count": 19,
     "metadata": {},
     "output_type": "execute_result"
    }
   ],
   "source": [
    "vistas_postulaciones_postulantes_avisos.head(1)"
   ]
  },
  {
   "cell_type": "code",
   "execution_count": 20,
   "metadata": {},
   "outputs": [
    {
     "data": {
      "text/plain": [
       "Full-time          5248970\n",
       "Part-time           863594\n",
       "Pasantia             30087\n",
       "Por Horas            21711\n",
       "Temporario           18140\n",
       "Fines de Semana       8981\n",
       "Por Contrato          8778\n",
       "Teletrabajo           6953\n",
       "Primer empleo         2131\n",
       "Voluntario             252\n",
       "Name: tipo_de_trabajo, dtype: int64"
      ]
     },
     "execution_count": 20,
     "metadata": {},
     "output_type": "execute_result"
    }
   ],
   "source": [
    "vistas_postulaciones_postulantes_avisos['tipo_de_trabajo'].value_counts()"
   ]
  },
  {
   "cell_type": "code",
   "execution_count": 24,
   "metadata": {},
   "outputs": [],
   "source": [
    "vistas_postulaciones_postulantes_avisos['tipo_full'] = (vistas_postulaciones_postulantes_avisos['tipo_de_trabajo'].astype(str) == 'Full-time').astype(bool)\n",
    "vistas_postulaciones_postulantes_avisos['tipo_part'] = (vistas_postulaciones_postulantes_avisos['tipo_de_trabajo'].astype(str) == 'Part-time').astype(bool)\n",
    "vistas_postulaciones_postulantes_avisos['tipo_otro'] = ((vistas_postulaciones_postulantes_avisos['tipo_de_trabajo'].astype(str) != 'Part-time') & (vistas_postulaciones_postulantes_avisos['tipo_de_trabajo'].astype(str) != 'Full-time')).astype(bool)"
   ]
  },
  {
   "cell_type": "code",
   "execution_count": 27,
   "metadata": {},
   "outputs": [],
   "source": [
    "vistas_postulaciones_postulantes_avisos.drop(['tipo_de_trabajo'], axis=1, inplace=True)"
   ]
  },
  {
   "cell_type": "code",
   "execution_count": 29,
   "metadata": {},
   "outputs": [
    {
     "data": {
      "text/html": [
       "<div>\n",
       "<style scoped>\n",
       "    .dataframe tbody tr th:only-of-type {\n",
       "        vertical-align: middle;\n",
       "    }\n",
       "\n",
       "    .dataframe tbody tr th {\n",
       "        vertical-align: top;\n",
       "    }\n",
       "\n",
       "    .dataframe thead th {\n",
       "        text-align: right;\n",
       "    }\n",
       "</style>\n",
       "<table border=\"1\" class=\"dataframe\">\n",
       "  <thead>\n",
       "    <tr style=\"text-align: right;\">\n",
       "      <th></th>\n",
       "      <th>idaviso</th>\n",
       "      <th>idpostulante</th>\n",
       "      <th>nombre_estudio</th>\n",
       "      <th>estado_estudio</th>\n",
       "      <th>fechanacimiento</th>\n",
       "      <th>sexo</th>\n",
       "      <th>titulo</th>\n",
       "      <th>descripcion</th>\n",
       "      <th>nivel_laboral</th>\n",
       "      <th>nombre_area</th>\n",
       "      <th>tipo_full</th>\n",
       "      <th>tipo_part</th>\n",
       "      <th>tipo_otro</th>\n",
       "    </tr>\n",
       "  </thead>\n",
       "  <tbody>\n",
       "    <tr>\n",
       "      <th>0</th>\n",
       "      <td>1112257047</td>\n",
       "      <td>NM5M</td>\n",
       "      <td>Secundario</td>\n",
       "      <td>Graduado</td>\n",
       "      <td>1970-12-03</td>\n",
       "      <td>FEM</td>\n",
       "      <td>[('representantes', 1), ('atencion', 1), ('cli...</td>\n",
       "      <td>[('retencion', 3), ('atencion', 2), ('cliente'...</td>\n",
       "      <td>Otro</td>\n",
       "      <td>Atención al Cliente</td>\n",
       "      <td>False</td>\n",
       "      <td>True</td>\n",
       "      <td>False</td>\n",
       "    </tr>\n",
       "    <tr>\n",
       "      <th>1</th>\n",
       "      <td>1111920714</td>\n",
       "      <td>NM5M</td>\n",
       "      <td>Secundario</td>\n",
       "      <td>Graduado</td>\n",
       "      <td>1970-12-03</td>\n",
       "      <td>FEM</td>\n",
       "      <td>[('telemarketers', 1), ('part', 1), ('time', 1...</td>\n",
       "      <td>[('part', 2), ('time', 2), ('empresa', 2), ('o...</td>\n",
       "      <td>Senior / Semi-Senior</td>\n",
       "      <td>Telemarketing</td>\n",
       "      <td>False</td>\n",
       "      <td>True</td>\n",
       "      <td>False</td>\n",
       "    </tr>\n",
       "    <tr>\n",
       "      <th>2</th>\n",
       "      <td>1112346945</td>\n",
       "      <td>NM5M</td>\n",
       "      <td>Secundario</td>\n",
       "      <td>Graduado</td>\n",
       "      <td>1970-12-03</td>\n",
       "      <td>FEM</td>\n",
       "      <td>[('agente', 1), ('telemarketing', 1)]</td>\n",
       "      <td>[('experiencia', 2), ('trabajo', 2), ('finance...</td>\n",
       "      <td>Senior / Semi-Senior</td>\n",
       "      <td>Telemarketing</td>\n",
       "      <td>True</td>\n",
       "      <td>False</td>\n",
       "      <td>False</td>\n",
       "    </tr>\n",
       "    <tr>\n",
       "      <th>3</th>\n",
       "      <td>1112345547</td>\n",
       "      <td>NM5M</td>\n",
       "      <td>Secundario</td>\n",
       "      <td>Graduado</td>\n",
       "      <td>1970-12-03</td>\n",
       "      <td>FEM</td>\n",
       "      <td>[('telemarketers', 1), ('part', 1), ('time', 1)]</td>\n",
       "      <td>[('randstad', 1), ('argentina', 1), ('busqueda...</td>\n",
       "      <td>Senior / Semi-Senior</td>\n",
       "      <td>Telemarketing</td>\n",
       "      <td>True</td>\n",
       "      <td>False</td>\n",
       "      <td>False</td>\n",
       "    </tr>\n",
       "    <tr>\n",
       "      <th>4</th>\n",
       "      <td>1112237522</td>\n",
       "      <td>5awk</td>\n",
       "      <td>Universitario</td>\n",
       "      <td>Graduado</td>\n",
       "      <td>1962-12-04</td>\n",
       "      <td>FEM</td>\n",
       "      <td>[('jefe', 1), ('contable', 1), ('zona', 1), ('...</td>\n",
       "      <td>[('pago', 3), ('zona', 2), ('barracas', 2), ('...</td>\n",
       "      <td>Senior / Semi-Senior</td>\n",
       "      <td>Contabilidad</td>\n",
       "      <td>True</td>\n",
       "      <td>False</td>\n",
       "      <td>False</td>\n",
       "    </tr>\n",
       "  </tbody>\n",
       "</table>\n",
       "</div>"
      ],
      "text/plain": [
       "      idaviso idpostulante nombre_estudio estado_estudio fechanacimiento sexo  \\\n",
       "0  1112257047         NM5M     Secundario       Graduado      1970-12-03  FEM   \n",
       "1  1111920714         NM5M     Secundario       Graduado      1970-12-03  FEM   \n",
       "2  1112346945         NM5M     Secundario       Graduado      1970-12-03  FEM   \n",
       "3  1112345547         NM5M     Secundario       Graduado      1970-12-03  FEM   \n",
       "4  1112237522         5awk  Universitario       Graduado      1962-12-04  FEM   \n",
       "\n",
       "                                              titulo  \\\n",
       "0  [('representantes', 1), ('atencion', 1), ('cli...   \n",
       "1  [('telemarketers', 1), ('part', 1), ('time', 1...   \n",
       "2              [('agente', 1), ('telemarketing', 1)]   \n",
       "3   [('telemarketers', 1), ('part', 1), ('time', 1)]   \n",
       "4  [('jefe', 1), ('contable', 1), ('zona', 1), ('...   \n",
       "\n",
       "                                         descripcion         nivel_laboral  \\\n",
       "0  [('retencion', 3), ('atencion', 2), ('cliente'...                  Otro   \n",
       "1  [('part', 2), ('time', 2), ('empresa', 2), ('o...  Senior / Semi-Senior   \n",
       "2  [('experiencia', 2), ('trabajo', 2), ('finance...  Senior / Semi-Senior   \n",
       "3  [('randstad', 1), ('argentina', 1), ('busqueda...  Senior / Semi-Senior   \n",
       "4  [('pago', 3), ('zona', 2), ('barracas', 2), ('...  Senior / Semi-Senior   \n",
       "\n",
       "           nombre_area  tipo_full  tipo_part  tipo_otro  \n",
       "0  Atención al Cliente      False       True      False  \n",
       "1        Telemarketing      False       True      False  \n",
       "2        Telemarketing       True      False      False  \n",
       "3        Telemarketing       True      False      False  \n",
       "4         Contabilidad       True      False      False  "
      ]
     },
     "execution_count": 29,
     "metadata": {},
     "output_type": "execute_result"
    }
   ],
   "source": [
    "vistas_postulaciones_postulantes_avisos.head(5)"
   ]
  },
  {
   "cell_type": "code",
   "execution_count": 30,
   "metadata": {},
   "outputs": [
    {
     "data": {
      "text/plain": [
       "Universitario        3038826\n",
       "Secundario           1802336\n",
       "Terciario/Técnico     839901\n",
       "Posgrado              186558\n",
       "Master                109847\n",
       "Otro                   28754\n",
       "Doctorado               7971\n",
       "Name: nombre_estudio, dtype: int64"
      ]
     },
     "execution_count": 30,
     "metadata": {},
     "output_type": "execute_result"
    }
   ],
   "source": [
    "vistas_postulaciones_postulantes_avisos['nombre_estudio'].value_counts()"
   ]
  },
  {
   "cell_type": "code",
   "execution_count": null,
   "metadata": {},
   "outputs": [],
   "source": []
  },
  {
   "cell_type": "raw",
   "metadata": {},
   "source": [
    "Seguir separando las columnas categoricas ..."
   ]
  },
  {
   "cell_type": "raw",
   "metadata": {},
   "source": [
    "Idea: juntar para los postulantes con avisos a los que no aplico, y tener dos columnas, postulado y no_postulado"
   ]
  },
  {
   "cell_type": "code",
   "execution_count": null,
   "metadata": {},
   "outputs": [],
   "source": [
    "vistas_postulaciones_postulantes_avisos.to_csv('../data/vistas_postulaciones_postulantes_avisos.csv', index=False, sep=',', encoding='utf-8')"
   ]
  },
  {
   "cell_type": "code",
   "execution_count": null,
   "metadata": {},
   "outputs": [],
   "source": []
  },
  {
   "cell_type": "code",
   "execution_count": null,
   "metadata": {},
   "outputs": [],
   "source": []
  },
  {
   "cell_type": "code",
   "execution_count": null,
   "metadata": {},
   "outputs": [],
   "source": []
  },
  {
   "cell_type": "code",
   "execution_count": null,
   "metadata": {},
   "outputs": [],
   "source": []
  },
  {
   "cell_type": "code",
   "execution_count": null,
   "metadata": {},
   "outputs": [],
   "source": []
  },
  {
   "cell_type": "code",
   "execution_count": null,
   "metadata": {},
   "outputs": [],
   "source": []
  },
  {
   "cell_type": "code",
   "execution_count": null,
   "metadata": {},
   "outputs": [],
   "source": []
  },
  {
   "cell_type": "code",
   "execution_count": null,
   "metadata": {},
   "outputs": [],
   "source": []
  },
  {
   "cell_type": "code",
   "execution_count": null,
   "metadata": {},
   "outputs": [],
   "source": []
  },
  {
   "cell_type": "markdown",
   "metadata": {},
   "source": [
    "# De aca para abajo son los datos correspondientes a lo que hay que predecir, hay que aplicarles las mismas transformaciones que le aplicamos a los de entrenamiento. SIN TERMINAR!"
   ]
  },
  {
   "cell_type": "markdown",
   "metadata": {},
   "source": [
    "# 338 faltantes"
   ]
  },
  {
   "cell_type": "code",
   "execution_count": 70,
   "metadata": {},
   "outputs": [],
   "source": [
    "# Estos registros solo aparecen en el set a predecir\n",
    "avisos_detalle_338_faltantes = pd.read_csv('../data/datos_navent_fiuba/338_faltantes/fiuba_6_avisos_detalle_missing_nivel_laboral.csv', encoding='utf-8')"
   ]
  },
  {
   "cell_type": "code",
   "execution_count": 71,
   "metadata": {},
   "outputs": [
    {
     "name": "stdout",
     "output_type": "stream",
     "text": [
      "Longitud unique:  338\n"
     ]
    }
   ],
   "source": [
    "# Eliminamos los duplicados. En este caso se considera duplicado si matchean estas columnas (por no matchear todas)\n",
    "avisos_detalle_338_faltantes.drop_duplicates(['idaviso', 'titulo', 'descripcion', 'nombre_zona', 'ciudad', 'tipo_de_trabajo', 'nivel_laboral'], keep='last', inplace=True)\n",
    "print('Longitud unique: ', len(avisos_detalle_338_faltantes))"
   ]
  },
  {
   "cell_type": "code",
   "execution_count": 72,
   "metadata": {},
   "outputs": [],
   "source": [
    "avisos_detalle_338_faltantes.drop(columns=['idpais','ciudad','mapacalle', 'nombre_zona'], inplace=True)"
   ]
  },
  {
   "cell_type": "code",
   "execution_count": 73,
   "metadata": {},
   "outputs": [
    {
     "data": {
      "text/html": [
       "<div>\n",
       "<style scoped>\n",
       "    .dataframe tbody tr th:only-of-type {\n",
       "        vertical-align: middle;\n",
       "    }\n",
       "\n",
       "    .dataframe tbody tr th {\n",
       "        vertical-align: top;\n",
       "    }\n",
       "\n",
       "    .dataframe thead th {\n",
       "        text-align: right;\n",
       "    }\n",
       "</style>\n",
       "<table border=\"1\" class=\"dataframe\">\n",
       "  <thead>\n",
       "    <tr style=\"text-align: right;\">\n",
       "      <th></th>\n",
       "      <th>idaviso</th>\n",
       "      <th>titulo</th>\n",
       "      <th>descripcion</th>\n",
       "      <th>tipo_de_trabajo</th>\n",
       "      <th>nivel_laboral</th>\n",
       "      <th>nombre_area</th>\n",
       "      <th>denominacion_empresa</th>\n",
       "    </tr>\n",
       "  </thead>\n",
       "  <tbody>\n",
       "    <tr>\n",
       "      <th>0</th>\n",
       "      <td>1001284385</td>\n",
       "      <td>Dejanos tu CV</td>\n",
       "      <td>&lt;p&gt;&lt;br /&gt;Si est&amp;aacute;s interesado en ser par...</td>\n",
       "      <td>Full-time</td>\n",
       "      <td>NaN</td>\n",
       "      <td>Otros</td>\n",
       "      <td>Establecimiento Las Marías</td>\n",
       "    </tr>\n",
       "  </tbody>\n",
       "</table>\n",
       "</div>"
      ],
      "text/plain": [
       "      idaviso         titulo  \\\n",
       "0  1001284385  Dejanos tu CV   \n",
       "\n",
       "                                         descripcion tipo_de_trabajo  \\\n",
       "0  <p><br />Si est&aacute;s interesado en ser par...       Full-time   \n",
       "\n",
       "  nivel_laboral nombre_area        denominacion_empresa  \n",
       "0           NaN       Otros  Establecimiento Las Marías  "
      ]
     },
     "execution_count": 73,
     "metadata": {},
     "output_type": "execute_result"
    }
   ],
   "source": [
    "avisos_detalle_338_faltantes.head(1)"
   ]
  },
  {
   "cell_type": "markdown",
   "metadata": {},
   "source": [
    "# Datos desde 15 abril"
   ]
  },
  {
   "cell_type": "code",
   "execution_count": 74,
   "metadata": {},
   "outputs": [],
   "source": [
    "postulantes_educacion_desde_15_04 = pd.read_csv('../data/datos_navent_fiuba/fiuba_desde_15_abril/Fiuba desde 15 Abril/fiuba_1_postulantes_educacion.csv', encoding='utf-8')\n",
    "postulantes_genero_edad_desde_15_04 = pd.read_csv('../data/datos_navent_fiuba/fiuba_desde_15_abril/Fiuba desde 15 Abril/fiuba_2_postulantes_genero_y_edad.csv', encoding='utf-8')\n",
    "vistas_desde_15_04 = pd.read_csv('../data/datos_navent_fiuba/fiuba_desde_15_abril/Fiuba desde 15 Abril/fiuba_3_vistas.csv', encoding='utf-8')\n",
    "avisos_detalle_desde_15_04 = pd.read_csv('../data/datos_navent_fiuba/fiuba_desde_15_abril/Fiuba desde 15 Abril/fiuba_6_avisos_detalle.csv', encoding='utf-8')"
   ]
  },
  {
   "cell_type": "markdown",
   "metadata": {},
   "source": [
    "### postulantes_educacion"
   ]
  },
  {
   "cell_type": "code",
   "execution_count": 75,
   "metadata": {},
   "outputs": [
    {
     "name": "stdout",
     "output_type": "stream",
     "text": [
      "Longitud unique:  397509\n"
     ]
    }
   ],
   "source": [
    "# Eliminamos los duplicados. En este caso se considera duplicado si estas 3 columnas matchean\n",
    "postulantes_educacion_desde_15_04.drop_duplicates(['idpostulante', 'nombre', 'estado'], keep='last', inplace=True)\n",
    "print('Longitud unique: ', len(postulantes_educacion_desde_15_04))"
   ]
  },
  {
   "cell_type": "code",
   "execution_count": 76,
   "metadata": {},
   "outputs": [
    {
     "data": {
      "text/html": [
       "<div>\n",
       "<style scoped>\n",
       "    .dataframe tbody tr th:only-of-type {\n",
       "        vertical-align: middle;\n",
       "    }\n",
       "\n",
       "    .dataframe tbody tr th {\n",
       "        vertical-align: top;\n",
       "    }\n",
       "\n",
       "    .dataframe thead th {\n",
       "        text-align: right;\n",
       "    }\n",
       "</style>\n",
       "<table border=\"1\" class=\"dataframe\">\n",
       "  <thead>\n",
       "    <tr style=\"text-align: right;\">\n",
       "      <th></th>\n",
       "      <th>idpostulante</th>\n",
       "      <th>nombre_estudio</th>\n",
       "      <th>estado_estudio</th>\n",
       "    </tr>\n",
       "  </thead>\n",
       "  <tbody>\n",
       "    <tr>\n",
       "      <th>0</th>\n",
       "      <td>YZP</td>\n",
       "      <td>Master</td>\n",
       "      <td>En Curso</td>\n",
       "    </tr>\n",
       "  </tbody>\n",
       "</table>\n",
       "</div>"
      ],
      "text/plain": [
       "  idpostulante nombre_estudio estado_estudio\n",
       "0          YZP         Master       En Curso"
      ]
     },
     "execution_count": 76,
     "metadata": {},
     "output_type": "execute_result"
    }
   ],
   "source": [
    "postulantes_educacion_desde_15_04.rename(columns={'nombre':'nombre_estudio','estado':'estado_estudio'}, inplace=True)\n",
    "postulantes_educacion_desde_15_04.head(1)"
   ]
  },
  {
   "cell_type": "markdown",
   "metadata": {},
   "source": [
    "### postulantes_genero_edad"
   ]
  },
  {
   "cell_type": "code",
   "execution_count": 77,
   "metadata": {},
   "outputs": [
    {
     "name": "stdout",
     "output_type": "stream",
     "text": [
      "Longitud unique:  281385\n"
     ]
    }
   ],
   "source": [
    "# Eliminamos los duplicados. En este caso se considera duplicado si el idpostulante matchea\n",
    "postulantes_genero_edad_desde_15_04.drop_duplicates(['idpostulante'], keep='last', inplace=True)\n",
    "print('Longitud unique: ', len(postulantes_genero_edad_desde_15_04))"
   ]
  },
  {
   "cell_type": "code",
   "execution_count": 78,
   "metadata": {},
   "outputs": [
    {
     "data": {
      "text/html": [
       "<div>\n",
       "<style scoped>\n",
       "    .dataframe tbody tr th:only-of-type {\n",
       "        vertical-align: middle;\n",
       "    }\n",
       "\n",
       "    .dataframe tbody tr th {\n",
       "        vertical-align: top;\n",
       "    }\n",
       "\n",
       "    .dataframe thead th {\n",
       "        text-align: right;\n",
       "    }\n",
       "</style>\n",
       "<table border=\"1\" class=\"dataframe\">\n",
       "  <thead>\n",
       "    <tr style=\"text-align: right;\">\n",
       "      <th></th>\n",
       "      <th>idpostulante</th>\n",
       "      <th>fechanacimiento</th>\n",
       "      <th>sexo</th>\n",
       "    </tr>\n",
       "  </thead>\n",
       "  <tbody>\n",
       "    <tr>\n",
       "      <th>0</th>\n",
       "      <td>6MM</td>\n",
       "      <td>1985-01-01</td>\n",
       "      <td>MASC</td>\n",
       "    </tr>\n",
       "  </tbody>\n",
       "</table>\n",
       "</div>"
      ],
      "text/plain": [
       "  idpostulante fechanacimiento  sexo\n",
       "0          6MM      1985-01-01  MASC"
      ]
     },
     "execution_count": 78,
     "metadata": {},
     "output_type": "execute_result"
    }
   ],
   "source": [
    "postulantes_genero_edad_desde_15_04.head(1)"
   ]
  },
  {
   "cell_type": "markdown",
   "metadata": {},
   "source": [
    "### vistas"
   ]
  },
  {
   "cell_type": "code",
   "execution_count": 79,
   "metadata": {},
   "outputs": [
    {
     "name": "stdout",
     "output_type": "stream",
     "text": [
      "Longitud unique:  10416104\n"
     ]
    }
   ],
   "source": [
    "# Eliminamos los duplicados. En este caso se considera duplicado si estas 3 columnas matchean\n",
    "vistas_desde_15_04.drop_duplicates(['idaviso', 'timestamp', 'idpostulante'], keep='last', inplace=True)\n",
    "print('Longitud unique: ', len(vistas_desde_15_04))\n",
    "vistas_desde_15_04.rename(columns={'idAviso':'idaviso','timestamp':'fechavista'}, inplace=True)"
   ]
  },
  {
   "cell_type": "code",
   "execution_count": 80,
   "metadata": {},
   "outputs": [
    {
     "data": {
      "text/html": [
       "<div>\n",
       "<style scoped>\n",
       "    .dataframe tbody tr th:only-of-type {\n",
       "        vertical-align: middle;\n",
       "    }\n",
       "\n",
       "    .dataframe tbody tr th {\n",
       "        vertical-align: top;\n",
       "    }\n",
       "\n",
       "    .dataframe thead th {\n",
       "        text-align: right;\n",
       "    }\n",
       "</style>\n",
       "<table border=\"1\" class=\"dataframe\">\n",
       "  <thead>\n",
       "    <tr style=\"text-align: right;\">\n",
       "      <th></th>\n",
       "      <th>idaviso</th>\n",
       "      <th>fechavista</th>\n",
       "      <th>idpostulante</th>\n",
       "    </tr>\n",
       "  </thead>\n",
       "  <tbody>\n",
       "    <tr>\n",
       "      <th>0</th>\n",
       "      <td>1808556</td>\n",
       "      <td>2018-04-30T19:55:37.990-0400</td>\n",
       "      <td>6kDNzl</td>\n",
       "    </tr>\n",
       "  </tbody>\n",
       "</table>\n",
       "</div>"
      ],
      "text/plain": [
       "   idaviso                    fechavista idpostulante\n",
       "0  1808556  2018-04-30T19:55:37.990-0400       6kDNzl"
      ]
     },
     "execution_count": 80,
     "metadata": {},
     "output_type": "execute_result"
    }
   ],
   "source": [
    "vistas_desde_15_04.head(1)"
   ]
  },
  {
   "cell_type": "markdown",
   "metadata": {},
   "source": [
    "### avisos_detalle "
   ]
  },
  {
   "cell_type": "code",
   "execution_count": 81,
   "metadata": {},
   "outputs": [
    {
     "name": "stdout",
     "output_type": "stream",
     "text": [
      "Longitud unique:  13798\n"
     ]
    }
   ],
   "source": [
    "# Eliminamos los duplicados. En este caso se considera duplicado si matchean estas columnas (por no matchear todas)\n",
    "avisos_detalle_desde_15_04.drop_duplicates(['idaviso', 'titulo', 'descripcion', 'nombre_zona', 'ciudad', 'tipo_de_trabajo', 'nivel_laboral'], keep='last', inplace=True)\n",
    "print('Longitud unique: ', len(avisos_detalle_desde_15_04))\n",
    "avisos_detalle_desde_15_04.drop(columns=['idpais','ciudad','mapacalle', 'nombre_zona'], inplace=True)"
   ]
  },
  {
   "cell_type": "raw",
   "metadata": {},
   "source": [
    "Eliminamos el html de la descripcion"
   ]
  },
  {
   "cell_type": "code",
   "execution_count": 82,
   "metadata": {},
   "outputs": [],
   "source": [
    "def clean_html(row):\n",
    "    clean_html_regex = re.compile('<.*?>')\n",
    "    row['descripcion'] = re.sub(clean_html_regex, '', row['descripcion'])\n",
    "    return row\n",
    "\n",
    "avisos_detalle_desde_15_04 = avisos_detalle_desde_15_04.apply(lambda row: clean_html(row), axis=1)"
   ]
  },
  {
   "cell_type": "code",
   "execution_count": 83,
   "metadata": {},
   "outputs": [
    {
     "data": {
      "text/html": [
       "<div>\n",
       "<style scoped>\n",
       "    .dataframe tbody tr th:only-of-type {\n",
       "        vertical-align: middle;\n",
       "    }\n",
       "\n",
       "    .dataframe tbody tr th {\n",
       "        vertical-align: top;\n",
       "    }\n",
       "\n",
       "    .dataframe thead th {\n",
       "        text-align: right;\n",
       "    }\n",
       "</style>\n",
       "<table border=\"1\" class=\"dataframe\">\n",
       "  <thead>\n",
       "    <tr style=\"text-align: right;\">\n",
       "      <th></th>\n",
       "      <th>idaviso</th>\n",
       "      <th>titulo</th>\n",
       "      <th>descripcion</th>\n",
       "      <th>tipo_de_trabajo</th>\n",
       "      <th>nivel_laboral</th>\n",
       "      <th>nombre_area</th>\n",
       "      <th>denominacion_empresa</th>\n",
       "    </tr>\n",
       "  </thead>\n",
       "  <tbody>\n",
       "    <tr>\n",
       "      <th>0</th>\n",
       "      <td>1573840</td>\n",
       "      <td>VENDEDORA/O</td>\n",
       "      <td>Nuestra Búsqueda se orienta a la incorporación...</td>\n",
       "      <td>Full-time</td>\n",
       "      <td>Otro</td>\n",
       "      <td>Ventas</td>\n",
       "      <td>RIBEIRO SUC. FLORES</td>\n",
       "    </tr>\n",
       "  </tbody>\n",
       "</table>\n",
       "</div>"
      ],
      "text/plain": [
       "   idaviso       titulo                                        descripcion  \\\n",
       "0  1573840  VENDEDORA/O  Nuestra Búsqueda se orienta a la incorporación...   \n",
       "\n",
       "  tipo_de_trabajo nivel_laboral nombre_area denominacion_empresa  \n",
       "0       Full-time          Otro      Ventas  RIBEIRO SUC. FLORES  "
      ]
     },
     "execution_count": 83,
     "metadata": {},
     "output_type": "execute_result"
    }
   ],
   "source": [
    "avisos_detalle_desde_15_04.head(1)"
   ]
  },
  {
   "cell_type": "markdown",
   "metadata": {},
   "source": [
    "## Juntamos los 338 registros que faltan con el set a predecir"
   ]
  },
  {
   "cell_type": "code",
   "execution_count": 84,
   "metadata": {},
   "outputs": [],
   "source": [
    "avisos_detalle_desde_15_04 = pd.concat([avisos_detalle_desde_15_04, avisos_detalle_338_faltantes])"
   ]
  },
  {
   "cell_type": "code",
   "execution_count": 85,
   "metadata": {},
   "outputs": [
    {
     "name": "stdout",
     "output_type": "stream",
     "text": [
      "14136\n"
     ]
    }
   ],
   "source": [
    "print(len(avisos_detalle_desde_15_04))"
   ]
  },
  {
   "cell_type": "markdown",
   "metadata": {},
   "source": [
    "## Set a predecir"
   ]
  },
  {
   "cell_type": "code",
   "execution_count": 86,
   "metadata": {},
   "outputs": [],
   "source": [
    "data_predecir = pd.read_csv('../data/test_final_100k.csv', encoding='utf-8')"
   ]
  }
 ],
 "metadata": {
  "kernelspec": {
   "display_name": "Python 3",
   "language": "python",
   "name": "python3"
  },
  "language_info": {
   "codemirror_mode": {
    "name": "ipython",
    "version": 3
   },
   "file_extension": ".py",
   "mimetype": "text/x-python",
   "name": "python",
   "nbconvert_exporter": "python",
   "pygments_lexer": "ipython3",
   "version": "3.6.4"
  }
 },
 "nbformat": 4,
 "nbformat_minor": 2
}
