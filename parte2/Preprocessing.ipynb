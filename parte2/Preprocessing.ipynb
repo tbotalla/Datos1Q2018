{
 "cells": [
  {
   "cell_type": "code",
   "execution_count": 1,
   "metadata": {},
   "outputs": [],
   "source": [
    "import numpy as np \n",
    "import pandas as pd\n",
    "import datetime\n",
    "import calendar\n",
    "import matplotlib.pyplot as plt\n",
    "import seaborn as sns\n",
    "import re # regex\n",
    "from scipy.misc import imread\n",
    "#from wordcloud import WordCloud, STOPWORDS # Wordcloud: pip install wordcloud\n",
    "from collections import Counter\n",
    "\n",
    "%matplotlib inline\n",
    "pd.set_option('display.max_columns', None)"
   ]
  },
  {
   "cell_type": "markdown",
   "metadata": {},
   "source": [
    "## Los datos del TP 1 y los de hasta el 15 abril son los que usamos para entrenar"
   ]
  },
  {
   "cell_type": "markdown",
   "metadata": {},
   "source": [
    "# Datos del TP 1"
   ]
  },
  {
   "cell_type": "code",
   "execution_count": 2,
   "metadata": {},
   "outputs": [],
   "source": [
    "postulantes_educacion_orig = pd.read_csv('../data/datos_navent_fiuba/fiuba_1_postulantes_educacion.csv', encoding='utf-8')\n",
    "postulantes_genero_edad_orig = pd.read_csv('../data/datos_navent_fiuba/fiuba_2_postulantes_genero_y_edad.csv', encoding='utf-8')\n",
    "vistas_orig = pd.read_csv('../data/datos_navent_fiuba/fiuba_3_vistas.csv', encoding='utf-8')\n",
    "postulaciones_orig = pd.read_csv('../data/datos_navent_fiuba/fiuba_4_postulaciones.csv', encoding='utf-8')\n",
    "avisos_online_orig = pd.read_csv('../data/datos_navent_fiuba/fiuba_5_avisos_online.csv', encoding='utf-8')\n",
    "avisos_detalle_orig = pd.read_csv('../data/datos_navent_fiuba/fiuba_6_avisos_detalle.csv', encoding='utf-8')"
   ]
  },
  {
   "cell_type": "markdown",
   "metadata": {},
   "source": [
    "# Datos hasta 15 abril"
   ]
  },
  {
   "cell_type": "code",
   "execution_count": 3,
   "metadata": {},
   "outputs": [],
   "source": [
    "postulantes_educacion_hasta_15_04 = pd.read_csv('../data/datos_navent_fiuba/fiuba_hasta_15_abril/entrega6/fiuba_1_postulantes_educacion.csv', encoding='utf-8')\n",
    "postulantes_genero_edad_hasta_15_04 = pd.read_csv('../data/datos_navent_fiuba/fiuba_hasta_15_abril/entrega6/fiuba_2_postulantes_genero_y_edad.csv', encoding='utf-8')\n",
    "vistas_hasta_15_04 = pd.read_csv('../data/datos_navent_fiuba/fiuba_hasta_15_abril/entrega6/fiuba_3_vistas.csv', encoding='utf-8')\n",
    "postulaciones_hasta_15_04 = pd.read_csv('../data/datos_navent_fiuba/fiuba_hasta_15_abril/entrega6/fiuba_4_postulaciones.csv', encoding='utf-8')\n",
    "avisos_online_hasta_15_04 = pd.read_csv('../data/datos_navent_fiuba/fiuba_hasta_15_abril/entrega6/fiuba_5_avisos_online.csv', encoding='utf-8')\n",
    "avisos_detalle_hasta_15_04 = pd.read_csv('../data/datos_navent_fiuba/fiuba_hasta_15_abril/entrega6/fiuba_6_avisos_detalle.csv', encoding='utf-8')"
   ]
  },
  {
   "cell_type": "markdown",
   "metadata": {},
   "source": [
    "## Juntamos los datos del tp1 con los de hasta 15 abril y exportamos a un csv nuevo para trabajar con esos"
   ]
  },
  {
   "cell_type": "markdown",
   "metadata": {},
   "source": [
    "### postulantes_educacion"
   ]
  },
  {
   "cell_type": "code",
   "execution_count": 4,
   "metadata": {},
   "outputs": [
    {
     "name": "stdout",
     "output_type": "stream",
     "text": [
      "Longitud original:  298231\n",
      "Longitud nuevo set:  407453\n",
      "Longitud concat:  705684\n",
      "Longitud unique:  568612\n"
     ]
    }
   ],
   "source": [
    "print('Longitud original: ', len(postulantes_educacion_orig))\n",
    "print('Longitud nuevo set: ', len(postulantes_educacion_hasta_15_04))\n",
    "postulantes_educacion_train = pd.concat([postulantes_educacion_orig, postulantes_educacion_hasta_15_04])\n",
    "print('Longitud concat: ', len(postulantes_educacion_train))\n",
    "\n",
    "# Eliminamos los duplicados. En este caso se considera duplicado si estas 3 columnas matchean\n",
    "postulantes_educacion_train.drop_duplicates(['idpostulante', 'nombre', 'estado'], keep='last', inplace=True)\n",
    "print('Longitud unique: ', len(postulantes_educacion_train))"
   ]
  },
  {
   "cell_type": "code",
   "execution_count": 5,
   "metadata": {},
   "outputs": [
    {
     "data": {
      "text/html": [
       "<div>\n",
       "<style scoped>\n",
       "    .dataframe tbody tr th:only-of-type {\n",
       "        vertical-align: middle;\n",
       "    }\n",
       "\n",
       "    .dataframe tbody tr th {\n",
       "        vertical-align: top;\n",
       "    }\n",
       "\n",
       "    .dataframe thead th {\n",
       "        text-align: right;\n",
       "    }\n",
       "</style>\n",
       "<table border=\"1\" class=\"dataframe\">\n",
       "  <thead>\n",
       "    <tr style=\"text-align: right;\">\n",
       "      <th></th>\n",
       "      <th>idpostulante</th>\n",
       "      <th>nombre_estudio</th>\n",
       "      <th>estado_estudio</th>\n",
       "    </tr>\n",
       "  </thead>\n",
       "  <tbody>\n",
       "    <tr>\n",
       "      <th>1</th>\n",
       "      <td>8BkL</td>\n",
       "      <td>Universitario</td>\n",
       "      <td>En Curso</td>\n",
       "    </tr>\n",
       "  </tbody>\n",
       "</table>\n",
       "</div>"
      ],
      "text/plain": [
       "  idpostulante nombre_estudio estado_estudio\n",
       "1         8BkL  Universitario       En Curso"
      ]
     },
     "execution_count": 5,
     "metadata": {},
     "output_type": "execute_result"
    }
   ],
   "source": [
    "postulantes_educacion_train.rename(columns={'nombre':'nombre_estudio','estado':'estado_estudio'}, inplace=True)\n",
    "postulantes_educacion_train.head(1)"
   ]
  },
  {
   "cell_type": "code",
   "execution_count": 6,
   "metadata": {},
   "outputs": [],
   "source": [
    "postulantes_educacion_train.to_csv('../data/1_postulantes_educacion_train.csv', index=False, sep=',', encoding='utf-8')"
   ]
  },
  {
   "cell_type": "markdown",
   "metadata": {},
   "source": [
    "### postulantes_genero_edad"
   ]
  },
  {
   "cell_type": "code",
   "execution_count": 7,
   "metadata": {},
   "outputs": [
    {
     "name": "stdout",
     "output_type": "stream",
     "text": [
      "Longitud original:  200888\n",
      "Longitud nuevo set:  297747\n",
      "Longitud concat:  498635\n",
      "Longitud unique:  408146\n"
     ]
    }
   ],
   "source": [
    "print('Longitud original: ', len(postulantes_genero_edad_orig))\n",
    "print('Longitud nuevo set: ', len(postulantes_genero_edad_hasta_15_04))\n",
    "postulantes_genero_edad_train = pd.concat([postulantes_genero_edad_orig, postulantes_genero_edad_hasta_15_04])\n",
    "print('Longitud concat: ', len(postulantes_genero_edad_train))\n",
    "\n",
    "# Eliminamos los duplicados. En este caso se considera duplicado si el idpostulante matchea\n",
    "postulantes_genero_edad_train.drop_duplicates(['idpostulante'], keep='last', inplace=True)\n",
    "print('Longitud unique: ', len(postulantes_genero_edad_train))"
   ]
  },
  {
   "cell_type": "code",
   "execution_count": 8,
   "metadata": {},
   "outputs": [
    {
     "data": {
      "text/html": [
       "<div>\n",
       "<style scoped>\n",
       "    .dataframe tbody tr th:only-of-type {\n",
       "        vertical-align: middle;\n",
       "    }\n",
       "\n",
       "    .dataframe tbody tr th {\n",
       "        vertical-align: top;\n",
       "    }\n",
       "\n",
       "    .dataframe thead th {\n",
       "        text-align: right;\n",
       "    }\n",
       "</style>\n",
       "<table border=\"1\" class=\"dataframe\">\n",
       "  <thead>\n",
       "    <tr style=\"text-align: right;\">\n",
       "      <th></th>\n",
       "      <th>idpostulante</th>\n",
       "      <th>fechanacimiento</th>\n",
       "      <th>sexo</th>\n",
       "    </tr>\n",
       "  </thead>\n",
       "  <tbody>\n",
       "    <tr>\n",
       "      <th>0</th>\n",
       "      <td>NM5M</td>\n",
       "      <td>1970-12-03</td>\n",
       "      <td>FEM</td>\n",
       "    </tr>\n",
       "  </tbody>\n",
       "</table>\n",
       "</div>"
      ],
      "text/plain": [
       "  idpostulante fechanacimiento sexo\n",
       "0         NM5M      1970-12-03  FEM"
      ]
     },
     "execution_count": 8,
     "metadata": {},
     "output_type": "execute_result"
    }
   ],
   "source": [
    "postulantes_genero_edad_train.head(1)"
   ]
  },
  {
   "cell_type": "code",
   "execution_count": 9,
   "metadata": {},
   "outputs": [],
   "source": [
    "postulantes_genero_edad_train.to_csv('../data/2_postulantes_genero_edad_train.csv', index=False, sep=',', encoding='utf-8')"
   ]
  },
  {
   "cell_type": "markdown",
   "metadata": {},
   "source": [
    "### vistas"
   ]
  },
  {
   "cell_type": "code",
   "execution_count": 10,
   "metadata": {},
   "outputs": [
    {
     "name": "stdout",
     "output_type": "stream",
     "text": [
      "Longitud original:  961897\n",
      "Longitud nuevo set:  5758686\n",
      "Longitud concat:  6720583\n",
      "Longitud unique:  6682591\n"
     ]
    }
   ],
   "source": [
    "print('Longitud original: ', len(vistas_orig))\n",
    "print('Longitud nuevo set: ', len(vistas_hasta_15_04))\n",
    "vistas_train = pd.concat([vistas_orig, vistas_hasta_15_04])\n",
    "print('Longitud concat: ', len(vistas_train))\n",
    "\n",
    "# Eliminamos los duplicados. En este caso se considera duplicado si estas 3 columnas matchean\n",
    "vistas_train.drop_duplicates(['idaviso', 'timestamp', 'idpostulante'], keep='last', inplace=True)\n",
    "print('Longitud unique: ', len(vistas_train))"
   ]
  },
  {
   "cell_type": "code",
   "execution_count": 11,
   "metadata": {},
   "outputs": [
    {
     "data": {
      "text/html": [
       "<div>\n",
       "<style scoped>\n",
       "    .dataframe tbody tr th:only-of-type {\n",
       "        vertical-align: middle;\n",
       "    }\n",
       "\n",
       "    .dataframe tbody tr th {\n",
       "        vertical-align: top;\n",
       "    }\n",
       "\n",
       "    .dataframe thead th {\n",
       "        text-align: right;\n",
       "    }\n",
       "</style>\n",
       "<table border=\"1\" class=\"dataframe\">\n",
       "  <thead>\n",
       "    <tr style=\"text-align: right;\">\n",
       "      <th></th>\n",
       "      <th>idaviso</th>\n",
       "      <th>fechavista</th>\n",
       "      <th>idpostulante</th>\n",
       "    </tr>\n",
       "  </thead>\n",
       "  <tbody>\n",
       "    <tr>\n",
       "      <th>0</th>\n",
       "      <td>1111780242</td>\n",
       "      <td>2018-02-23T13:38:13.187-0500</td>\n",
       "      <td>YjVJQ6Z</td>\n",
       "    </tr>\n",
       "  </tbody>\n",
       "</table>\n",
       "</div>"
      ],
      "text/plain": [
       "      idaviso                    fechavista idpostulante\n",
       "0  1111780242  2018-02-23T13:38:13.187-0500      YjVJQ6Z"
      ]
     },
     "execution_count": 11,
     "metadata": {},
     "output_type": "execute_result"
    }
   ],
   "source": [
    "vistas_train.rename(columns={'idAviso':'idaviso','timestamp':'fechavista'}, inplace=True)\n",
    "vistas_train.head(1)"
   ]
  },
  {
   "cell_type": "code",
   "execution_count": 12,
   "metadata": {},
   "outputs": [],
   "source": [
    "vistas_train.to_csv('../data/3_vistas_train.csv', index=False, sep=',', encoding='utf-8')"
   ]
  },
  {
   "cell_type": "markdown",
   "metadata": {},
   "source": [
    "### postulaciones"
   ]
  },
  {
   "cell_type": "code",
   "execution_count": 13,
   "metadata": {},
   "outputs": [
    {
     "name": "stdout",
     "output_type": "stream",
     "text": [
      "Longitud original:  3401623\n",
      "Longitud nuevo set:  4909641\n",
      "Longitud concat:  8311264\n",
      "Longitud unique:  6604534\n"
     ]
    }
   ],
   "source": [
    "print('Longitud original: ', len(postulaciones_orig))\n",
    "print('Longitud nuevo set: ', len(postulaciones_hasta_15_04))\n",
    "postulaciones_train = pd.concat([postulaciones_orig, postulaciones_hasta_15_04])\n",
    "print('Longitud concat: ', len(postulaciones_train))\n",
    "\n",
    "# Eliminamos los duplicados. En este caso se considera duplicado si estas 3 columnas matchean\n",
    "postulaciones_train.drop_duplicates(['idaviso', 'idpostulante', 'fechapostulacion'], keep='last', inplace=True)\n",
    "print('Longitud unique: ', len(postulaciones_train))"
   ]
  },
  {
   "cell_type": "code",
   "execution_count": 14,
   "metadata": {},
   "outputs": [
    {
     "data": {
      "text/html": [
       "<div>\n",
       "<style scoped>\n",
       "    .dataframe tbody tr th:only-of-type {\n",
       "        vertical-align: middle;\n",
       "    }\n",
       "\n",
       "    .dataframe tbody tr th {\n",
       "        vertical-align: top;\n",
       "    }\n",
       "\n",
       "    .dataframe thead th {\n",
       "        text-align: right;\n",
       "    }\n",
       "</style>\n",
       "<table border=\"1\" class=\"dataframe\">\n",
       "  <thead>\n",
       "    <tr style=\"text-align: right;\">\n",
       "      <th></th>\n",
       "      <th>idaviso</th>\n",
       "      <th>idpostulante</th>\n",
       "      <th>fechapostulacion</th>\n",
       "    </tr>\n",
       "  </thead>\n",
       "  <tbody>\n",
       "    <tr>\n",
       "      <th>0</th>\n",
       "      <td>1112257047</td>\n",
       "      <td>NM5M</td>\n",
       "      <td>2018-01-15 16:22:34</td>\n",
       "    </tr>\n",
       "  </tbody>\n",
       "</table>\n",
       "</div>"
      ],
      "text/plain": [
       "      idaviso idpostulante     fechapostulacion\n",
       "0  1112257047         NM5M  2018-01-15 16:22:34"
      ]
     },
     "execution_count": 14,
     "metadata": {},
     "output_type": "execute_result"
    }
   ],
   "source": [
    "postulaciones_train.head(1)"
   ]
  },
  {
   "cell_type": "code",
   "execution_count": 15,
   "metadata": {},
   "outputs": [],
   "source": [
    "postulaciones_train.to_csv('../data/4_postulaciones_train.csv', index=False, sep=',', encoding='utf-8')"
   ]
  },
  {
   "cell_type": "markdown",
   "metadata": {},
   "source": [
    "### avisos_online"
   ]
  },
  {
   "cell_type": "code",
   "execution_count": 16,
   "metadata": {},
   "outputs": [
    {
     "name": "stdout",
     "output_type": "stream",
     "text": [
      "Longitud original:  5028\n",
      "Longitud nuevo set:  4858\n",
      "Longitud concat:  9886\n",
      "Longitud unique:  9430\n"
     ]
    }
   ],
   "source": [
    "print('Longitud original: ', len(avisos_online_orig))\n",
    "print('Longitud nuevo set: ', len(avisos_online_hasta_15_04))\n",
    "avisos_online_train = pd.concat([avisos_online_orig, avisos_online_hasta_15_04])\n",
    "print('Longitud concat: ', len(avisos_online_train))\n",
    "\n",
    "# Eliminamos los duplicados. En este caso se considera duplicado si esta columna matchea\n",
    "avisos_online_train.drop_duplicates(['idaviso'], keep='last', inplace=True)\n",
    "print('Longitud unique: ', len(avisos_online_train))"
   ]
  },
  {
   "cell_type": "code",
   "execution_count": 17,
   "metadata": {},
   "outputs": [
    {
     "data": {
      "text/html": [
       "<div>\n",
       "<style scoped>\n",
       "    .dataframe tbody tr th:only-of-type {\n",
       "        vertical-align: middle;\n",
       "    }\n",
       "\n",
       "    .dataframe tbody tr th {\n",
       "        vertical-align: top;\n",
       "    }\n",
       "\n",
       "    .dataframe thead th {\n",
       "        text-align: right;\n",
       "    }\n",
       "</style>\n",
       "<table border=\"1\" class=\"dataframe\">\n",
       "  <thead>\n",
       "    <tr style=\"text-align: right;\">\n",
       "      <th></th>\n",
       "      <th>idaviso</th>\n",
       "    </tr>\n",
       "  </thead>\n",
       "  <tbody>\n",
       "    <tr>\n",
       "      <th>0</th>\n",
       "      <td>1112355872</td>\n",
       "    </tr>\n",
       "  </tbody>\n",
       "</table>\n",
       "</div>"
      ],
      "text/plain": [
       "      idaviso\n",
       "0  1112355872"
      ]
     },
     "execution_count": 17,
     "metadata": {},
     "output_type": "execute_result"
    }
   ],
   "source": [
    "avisos_online_train.head(1)"
   ]
  },
  {
   "cell_type": "code",
   "execution_count": 18,
   "metadata": {},
   "outputs": [],
   "source": [
    "avisos_online_train.to_csv('../data/5_avisos_online_train.csv', index=False, sep=',', encoding='utf-8')"
   ]
  },
  {
   "cell_type": "markdown",
   "metadata": {},
   "source": [
    "### avisos_detalle"
   ]
  },
  {
   "cell_type": "code",
   "execution_count": 19,
   "metadata": {},
   "outputs": [
    {
     "name": "stdout",
     "output_type": "stream",
     "text": [
      "Longitud original:  13534\n",
      "Longitud nuevo set:  18299\n",
      "Longitud concat:  31833\n",
      "Longitud unique:  19632\n"
     ]
    }
   ],
   "source": [
    "print('Longitud original: ', len(avisos_detalle_orig))\n",
    "print('Longitud nuevo set: ', len(avisos_detalle_hasta_15_04))\n",
    "avisos_detalle_train = pd.concat([avisos_detalle_orig, avisos_detalle_hasta_15_04])\n",
    "print('Longitud concat: ', len(avisos_detalle_train))\n",
    "\n",
    "# Eliminamos los duplicados. En este caso se considera duplicado si matchean estas columnas (por no matchear todas)\n",
    "avisos_detalle_train.drop_duplicates(['idaviso', 'titulo', 'descripcion', 'nombre_zona', 'ciudad', 'tipo_de_trabajo', 'nivel_laboral'], keep='last', inplace=True)\n",
    "print('Longitud unique: ', len(avisos_detalle_train))"
   ]
  },
  {
   "cell_type": "code",
   "execution_count": 20,
   "metadata": {},
   "outputs": [
    {
     "data": {
      "text/html": [
       "<div>\n",
       "<style scoped>\n",
       "    .dataframe tbody tr th:only-of-type {\n",
       "        vertical-align: middle;\n",
       "    }\n",
       "\n",
       "    .dataframe tbody tr th {\n",
       "        vertical-align: top;\n",
       "    }\n",
       "\n",
       "    .dataframe thead th {\n",
       "        text-align: right;\n",
       "    }\n",
       "</style>\n",
       "<table border=\"1\" class=\"dataframe\">\n",
       "  <thead>\n",
       "    <tr style=\"text-align: right;\">\n",
       "      <th></th>\n",
       "      <th>idaviso</th>\n",
       "      <th>titulo</th>\n",
       "      <th>descripcion</th>\n",
       "      <th>tipo_de_trabajo</th>\n",
       "      <th>nivel_laboral</th>\n",
       "      <th>nombre_area</th>\n",
       "      <th>denominacion_empresa</th>\n",
       "    </tr>\n",
       "  </thead>\n",
       "  <tbody>\n",
       "    <tr>\n",
       "      <th>1</th>\n",
       "      <td>17903700</td>\n",
       "      <td>Enfermeras</td>\n",
       "      <td>&lt;p&gt;Solicitamos para importante cadena de farma...</td>\n",
       "      <td>Full-time</td>\n",
       "      <td>Senior / Semi-Senior</td>\n",
       "      <td>Salud</td>\n",
       "      <td>Farmacias Central Oeste</td>\n",
       "    </tr>\n",
       "  </tbody>\n",
       "</table>\n",
       "</div>"
      ],
      "text/plain": [
       "    idaviso      titulo                                        descripcion  \\\n",
       "1  17903700  Enfermeras  <p>Solicitamos para importante cadena de farma...   \n",
       "\n",
       "  tipo_de_trabajo         nivel_laboral nombre_area     denominacion_empresa  \n",
       "1       Full-time  Senior / Semi-Senior       Salud  Farmacias Central Oeste  "
      ]
     },
     "execution_count": 20,
     "metadata": {},
     "output_type": "execute_result"
    }
   ],
   "source": [
    "avisos_detalle_train.drop(columns=['idpais','ciudad','mapacalle', 'nombre_zona'], inplace=True)\n",
    "avisos_detalle_train.head(1)"
   ]
  },
  {
   "cell_type": "raw",
   "metadata": {},
   "source": [
    "Eliminamos el html de la descripcion"
   ]
  },
  {
   "cell_type": "code",
   "execution_count": 21,
   "metadata": {},
   "outputs": [],
   "source": [
    "def clean_html(row):\n",
    "    clean_html_regex = re.compile('<.*?>')\n",
    "    row['descripcion'] = re.sub(clean_html_regex, '', row['descripcion'])\n",
    "    return row\n",
    "\n",
    "avisos_detalle_train = avisos_detalle_train.apply(lambda row: clean_html(row), axis=1)"
   ]
  },
  {
   "cell_type": "code",
   "execution_count": 22,
   "metadata": {},
   "outputs": [
    {
     "data": {
      "text/html": [
       "<div>\n",
       "<style scoped>\n",
       "    .dataframe tbody tr th:only-of-type {\n",
       "        vertical-align: middle;\n",
       "    }\n",
       "\n",
       "    .dataframe tbody tr th {\n",
       "        vertical-align: top;\n",
       "    }\n",
       "\n",
       "    .dataframe thead th {\n",
       "        text-align: right;\n",
       "    }\n",
       "</style>\n",
       "<table border=\"1\" class=\"dataframe\">\n",
       "  <thead>\n",
       "    <tr style=\"text-align: right;\">\n",
       "      <th></th>\n",
       "      <th>idaviso</th>\n",
       "      <th>titulo</th>\n",
       "      <th>descripcion</th>\n",
       "      <th>tipo_de_trabajo</th>\n",
       "      <th>nivel_laboral</th>\n",
       "      <th>nombre_area</th>\n",
       "      <th>denominacion_empresa</th>\n",
       "    </tr>\n",
       "  </thead>\n",
       "  <tbody>\n",
       "    <tr>\n",
       "      <th>1</th>\n",
       "      <td>17903700</td>\n",
       "      <td>Enfermeras</td>\n",
       "      <td>Solicitamos para importante cadena de farmacia...</td>\n",
       "      <td>Full-time</td>\n",
       "      <td>Senior / Semi-Senior</td>\n",
       "      <td>Salud</td>\n",
       "      <td>Farmacias Central Oeste</td>\n",
       "    </tr>\n",
       "  </tbody>\n",
       "</table>\n",
       "</div>"
      ],
      "text/plain": [
       "    idaviso      titulo                                        descripcion  \\\n",
       "1  17903700  Enfermeras  Solicitamos para importante cadena de farmacia...   \n",
       "\n",
       "  tipo_de_trabajo         nivel_laboral nombre_area     denominacion_empresa  \n",
       "1       Full-time  Senior / Semi-Senior       Salud  Farmacias Central Oeste  "
      ]
     },
     "execution_count": 22,
     "metadata": {},
     "output_type": "execute_result"
    }
   ],
   "source": [
    "avisos_detalle_train.head(1)"
   ]
  },
  {
   "cell_type": "code",
   "execution_count": 23,
   "metadata": {},
   "outputs": [
    {
     "data": {
      "text/plain": [
       "1     Solicitamos para importante cadena de farmacia...\n",
       "2     TE GUSTA MANEJAR? QUERES GANAR PLATA HACIENDO ...\n",
       "4     OPERARIOS DE PLANTANos encontramos en la búsqu...\n",
       "8     Agente\\r\\noficial Selecciona:\\r\\n \\r\\nNuestra ...\n",
       "11    Somos una empresa multinacional que opera en A...\n",
       "Name: descripcion, dtype: object"
      ]
     },
     "execution_count": 23,
     "metadata": {},
     "output_type": "execute_result"
    }
   ],
   "source": [
    "avisos_detalle_train['descripcion'].head(5)"
   ]
  },
  {
   "cell_type": "raw",
   "metadata": {},
   "source": [
    "Procesamos la descripcion: eliminamos diacriticos, stopwords"
   ]
  },
  {
   "cell_type": "code",
   "execution_count": 24,
   "metadata": {},
   "outputs": [],
   "source": [
    "stopwords = ['a', 'al', 'ante', 'aquel', 'aires', 'bien', 'buenos', 'como', 'con', 'conseguir', 'cual', 'de', 'del', 'descripcion', \n",
    "             'desde', 'donde', 'e', 'el', 'ella', 'ello', 'en', 'es', 'esa', 'encima', 'entonces', 'entre', 'encontramos', \n",
    "             'encuentra', 'era', 'esta', 'estas' 'estan', 'etc', 'fe', 'fue', 'gusta', 'hs', 'ha', 'hacen', 'hacemos', 'hacer', 'hasta', \n",
    "             'incluso', 'ir', 'jamas', 'jamas', 'la', 'las', 'lo', 'los', 'mas', 'me', 'menos', 'mi', 'mis', 'misma', 'mismo', 'mucha', 'muchas', \n",
    "             'mucho', 'muchos', 'muy', 'ni', 'no', 'nos', 'nosotros', 'nuestras', 'nuestra', 'nuestro', 'nuestros', 'o', 'para', 'por', 'puesta', \n",
    "             'que', 'qué', 'sabe', 'santa', 'saber', 'se', 'solicitamos', 'selecciona', 'segun', 'ser', 'serán', 'seran', 'si', 'siendo', 'sin', \n",
    "             'sobre', 'solo', 'solicita', 'somos', 'su', 'sus', 'te', 'trabajar', 'tiene', 'tus', 'tu', 'uso', \n",
    "             'un', 'una', 'ubicada', 'valoramos', 'vaya', 'y']\n",
    "\n",
    "invalid_characters = [',', ':', '.', ';', '?', '¿', '!', '¡', '(', ')', '0', '1', '2', '3', '4', '5', '6', '7', '8', '9', \n",
    "                      '<', '>', '-', '_', '/', '*', '\\r', '\\n', '', '·', '§', 'ª', '+']\n",
    "\n",
    "def clean_html(string):\n",
    "    clean_html_regex = re.compile('<.*?>')\n",
    "    string = re.sub(clean_html_regex, ' ', string).strip()\n",
    "    return string\n",
    "\n",
    "def clean_string(row, col):     \n",
    "    for invalid_char in invalid_characters:\n",
    "        row[col] = row[col].replace(invalid_char, ' ').strip()\n",
    "        row[col] = row[col].strip().lower()\n",
    "    \n",
    "    row[col] = row[col].replace('á', \"a\")\n",
    "    row[col] = row[col].replace('é', \"e\")\n",
    "    row[col] = row[col].replace('í', \"i\")\n",
    "    row[col] = row[col].replace('ó', \"o\")\n",
    "    row[col] = row[col].replace('ú', \"u\")\n",
    "    row[col] = row[col].replace('ü', \"u\")\n",
    "    \n",
    "    words = row[col].split()\n",
    "    \n",
    "    # Se filtran las stop words\n",
    "    valid_words = []\n",
    "    for word in words:\n",
    "        for w in stopwords:\n",
    "            if (word == w):\n",
    "                word = word.replace(w, ' ')\n",
    "        if (word.strip() != ''):\n",
    "            valid_words.append(word)\n",
    "        \n",
    "    row[col] = valid_words\n",
    "    return row"
   ]
  },
  {
   "cell_type": "code",
   "execution_count": 25,
   "metadata": {},
   "outputs": [],
   "source": [
    "avisos_detalle_train = avisos_detalle_train.apply(lambda row: clean_string(row, 'descripcion'), axis=1)"
   ]
  },
  {
   "cell_type": "code",
   "execution_count": 26,
   "metadata": {},
   "outputs": [
    {
     "data": {
      "text/plain": [
       "1     [importante, cadena, farmacias, zona, oeste, e...\n",
       "2     [manejar, queres, ganar, plata, haciendo, cont...\n",
       "4     [operarios, plantanos, busqueda, operarios, em...\n",
       "8     [agente, oficial, busqueda, orientada, persona...\n",
       "11    [empresa, multinacional, opera, argentina, per...\n",
       "12    [yamanil, s, busqueda, preventistas, requiere,...\n",
       "16    [estamos, busqueda, representantes, ventas, pr...\n",
       "18    [sc, johnson, empresa, lider, mundial, fabrica...\n",
       "19    [centro, medico, accord, busqueda, administrat...\n",
       "21    [importante, correo, privado, ubicado, san, mi...\n",
       "Name: descripcion, dtype: object"
      ]
     },
     "execution_count": 26,
     "metadata": {},
     "output_type": "execute_result"
    }
   ],
   "source": [
    "avisos_detalle_train['descripcion'].head(10)"
   ]
  },
  {
   "cell_type": "raw",
   "metadata": {},
   "source": [
    "Para cada aviso reemplazamos la columna descripcion por una lista: (palabra, #apariciones)"
   ]
  },
  {
   "cell_type": "code",
   "execution_count": 27,
   "metadata": {},
   "outputs": [],
   "source": [
    "def process_words(row, columna):\n",
    "    lista_palabras_frecuentes_descripcion = []\n",
    "    words = row[columna]\n",
    "    for word in words:\n",
    "        lista_palabras_frecuentes_descripcion.append(word)\n",
    "    row[columna] = Counter(lista_palabras_frecuentes_descripcion).most_common(25)\n",
    "    \n",
    "    return row\n",
    "\n",
    "avisos_detalle_train = avisos_detalle_train.apply(lambda row: process_words(row, 'descripcion'), axis=1)"
   ]
  },
  {
   "cell_type": "code",
   "execution_count": 28,
   "metadata": {},
   "outputs": [
    {
     "data": {
      "text/html": [
       "<div>\n",
       "<style scoped>\n",
       "    .dataframe tbody tr th:only-of-type {\n",
       "        vertical-align: middle;\n",
       "    }\n",
       "\n",
       "    .dataframe tbody tr th {\n",
       "        vertical-align: top;\n",
       "    }\n",
       "\n",
       "    .dataframe thead th {\n",
       "        text-align: right;\n",
       "    }\n",
       "</style>\n",
       "<table border=\"1\" class=\"dataframe\">\n",
       "  <thead>\n",
       "    <tr style=\"text-align: right;\">\n",
       "      <th></th>\n",
       "      <th>idaviso</th>\n",
       "      <th>titulo</th>\n",
       "      <th>descripcion</th>\n",
       "      <th>tipo_de_trabajo</th>\n",
       "      <th>nivel_laboral</th>\n",
       "      <th>nombre_area</th>\n",
       "      <th>denominacion_empresa</th>\n",
       "    </tr>\n",
       "  </thead>\n",
       "  <tbody>\n",
       "    <tr>\n",
       "      <th>1</th>\n",
       "      <td>17903700</td>\n",
       "      <td>Enfermeras</td>\n",
       "      <td>[(oeste, 2), (experiencia, 2), (años, 2), (imp...</td>\n",
       "      <td>Full-time</td>\n",
       "      <td>Senior / Semi-Senior</td>\n",
       "      <td>Salud</td>\n",
       "      <td>Farmacias Central Oeste</td>\n",
       "    </tr>\n",
       "    <tr>\n",
       "      <th>2</th>\n",
       "      <td>1000150677</td>\n",
       "      <td>Chofer de taxi</td>\n",
       "      <td>[(tenes, 3), (estas, 2), (trabajo, 2), (años, ...</td>\n",
       "      <td>Full-time</td>\n",
       "      <td>Senior / Semi-Senior</td>\n",
       "      <td>Transporte</td>\n",
       "      <td>FAMITAX SRL</td>\n",
       "    </tr>\n",
       "    <tr>\n",
       "      <th>4</th>\n",
       "      <td>1000872556</td>\n",
       "      <td>Operarios de Planta - Rubro Electrodomésticos</td>\n",
       "      <td>[(control, 6), (produccion, 4), (operarios, 2)...</td>\n",
       "      <td>Full-time</td>\n",
       "      <td>Senior / Semi-Senior</td>\n",
       "      <td>Producción</td>\n",
       "      <td>ELECTRO OUTLET SRL</td>\n",
       "    </tr>\n",
       "    <tr>\n",
       "      <th>8</th>\n",
       "      <td>9240880</td>\n",
       "      <td>Productores Asesores Independiente, para venta...</td>\n",
       "      <td>[(agente, 1), (oficial, 1), (busqueda, 1), (or...</td>\n",
       "      <td>Full-time</td>\n",
       "      <td>Jefe / Supervisor / Responsable</td>\n",
       "      <td>Comercial</td>\n",
       "      <td>Agencia Oficial Alejandro Arizaga</td>\n",
       "    </tr>\n",
       "    <tr>\n",
       "      <th>11</th>\n",
       "      <td>1002181678</td>\n",
       "      <td>Vendedor Viajante TIERRA DEL FUEGO</td>\n",
       "      <td>[(empresa, 1), (multinacional, 1), (opera, 1),...</td>\n",
       "      <td>Full-time</td>\n",
       "      <td>Senior / Semi-Senior</td>\n",
       "      <td>Ventas</td>\n",
       "      <td>Wurth Argentina S.A</td>\n",
       "    </tr>\n",
       "  </tbody>\n",
       "</table>\n",
       "</div>"
      ],
      "text/plain": [
       "       idaviso                                             titulo  \\\n",
       "1     17903700                                         Enfermeras   \n",
       "2   1000150677                                     Chofer de taxi   \n",
       "4   1000872556      Operarios de Planta - Rubro Electrodomésticos   \n",
       "8      9240880  Productores Asesores Independiente, para venta...   \n",
       "11  1002181678                 Vendedor Viajante TIERRA DEL FUEGO   \n",
       "\n",
       "                                          descripcion tipo_de_trabajo  \\\n",
       "1   [(oeste, 2), (experiencia, 2), (años, 2), (imp...       Full-time   \n",
       "2   [(tenes, 3), (estas, 2), (trabajo, 2), (años, ...       Full-time   \n",
       "4   [(control, 6), (produccion, 4), (operarios, 2)...       Full-time   \n",
       "8   [(agente, 1), (oficial, 1), (busqueda, 1), (or...       Full-time   \n",
       "11  [(empresa, 1), (multinacional, 1), (opera, 1),...       Full-time   \n",
       "\n",
       "                      nivel_laboral nombre_area  \\\n",
       "1              Senior / Semi-Senior       Salud   \n",
       "2              Senior / Semi-Senior  Transporte   \n",
       "4              Senior / Semi-Senior  Producción   \n",
       "8   Jefe / Supervisor / Responsable   Comercial   \n",
       "11             Senior / Semi-Senior      Ventas   \n",
       "\n",
       "                 denominacion_empresa  \n",
       "1             Farmacias Central Oeste  \n",
       "2                         FAMITAX SRL  \n",
       "4                  ELECTRO OUTLET SRL  \n",
       "8   Agencia Oficial Alejandro Arizaga  \n",
       "11                Wurth Argentina S.A  "
      ]
     },
     "execution_count": 28,
     "metadata": {},
     "output_type": "execute_result"
    }
   ],
   "source": [
    "avisos_detalle_train.head(5)"
   ]
  },
  {
   "cell_type": "raw",
   "metadata": {},
   "source": [
    "Lo mismo pero con el titulo"
   ]
  },
  {
   "cell_type": "code",
   "execution_count": 29,
   "metadata": {},
   "outputs": [],
   "source": [
    "avisos_detalle_train = avisos_detalle_train.apply(lambda row: clean_string(row, 'titulo'), axis=1)"
   ]
  },
  {
   "cell_type": "code",
   "execution_count": 30,
   "metadata": {},
   "outputs": [],
   "source": [
    "avisos_detalle_train = avisos_detalle_train.apply(lambda row: process_words(row, 'titulo'), axis=1)"
   ]
  },
  {
   "cell_type": "code",
   "execution_count": 31,
   "metadata": {},
   "outputs": [
    {
     "data": {
      "text/html": [
       "<div>\n",
       "<style scoped>\n",
       "    .dataframe tbody tr th:only-of-type {\n",
       "        vertical-align: middle;\n",
       "    }\n",
       "\n",
       "    .dataframe tbody tr th {\n",
       "        vertical-align: top;\n",
       "    }\n",
       "\n",
       "    .dataframe thead th {\n",
       "        text-align: right;\n",
       "    }\n",
       "</style>\n",
       "<table border=\"1\" class=\"dataframe\">\n",
       "  <thead>\n",
       "    <tr style=\"text-align: right;\">\n",
       "      <th></th>\n",
       "      <th>idaviso</th>\n",
       "      <th>titulo</th>\n",
       "      <th>descripcion</th>\n",
       "      <th>tipo_de_trabajo</th>\n",
       "      <th>nivel_laboral</th>\n",
       "      <th>nombre_area</th>\n",
       "      <th>denominacion_empresa</th>\n",
       "    </tr>\n",
       "  </thead>\n",
       "  <tbody>\n",
       "    <tr>\n",
       "      <th>1</th>\n",
       "      <td>17903700</td>\n",
       "      <td>[(enfermeras, 1)]</td>\n",
       "      <td>[(oeste, 2), (experiencia, 2), (años, 2), (imp...</td>\n",
       "      <td>Full-time</td>\n",
       "      <td>Senior / Semi-Senior</td>\n",
       "      <td>Salud</td>\n",
       "      <td>Farmacias Central Oeste</td>\n",
       "    </tr>\n",
       "    <tr>\n",
       "      <th>2</th>\n",
       "      <td>1000150677</td>\n",
       "      <td>[(chofer, 1), (taxi, 1)]</td>\n",
       "      <td>[(tenes, 3), (estas, 2), (trabajo, 2), (años, ...</td>\n",
       "      <td>Full-time</td>\n",
       "      <td>Senior / Semi-Senior</td>\n",
       "      <td>Transporte</td>\n",
       "      <td>FAMITAX SRL</td>\n",
       "    </tr>\n",
       "    <tr>\n",
       "      <th>4</th>\n",
       "      <td>1000872556</td>\n",
       "      <td>[(operarios, 1), (planta, 1), (rubro, 1), (ele...</td>\n",
       "      <td>[(control, 6), (produccion, 4), (operarios, 2)...</td>\n",
       "      <td>Full-time</td>\n",
       "      <td>Senior / Semi-Senior</td>\n",
       "      <td>Producción</td>\n",
       "      <td>ELECTRO OUTLET SRL</td>\n",
       "    </tr>\n",
       "    <tr>\n",
       "      <th>8</th>\n",
       "      <td>9240880</td>\n",
       "      <td>[(productores, 1), (asesores, 1), (independien...</td>\n",
       "      <td>[(agente, 1), (oficial, 1), (busqueda, 1), (or...</td>\n",
       "      <td>Full-time</td>\n",
       "      <td>Jefe / Supervisor / Responsable</td>\n",
       "      <td>Comercial</td>\n",
       "      <td>Agencia Oficial Alejandro Arizaga</td>\n",
       "    </tr>\n",
       "    <tr>\n",
       "      <th>11</th>\n",
       "      <td>1002181678</td>\n",
       "      <td>[(vendedor, 1), (viajante, 1), (tierra, 1), (f...</td>\n",
       "      <td>[(empresa, 1), (multinacional, 1), (opera, 1),...</td>\n",
       "      <td>Full-time</td>\n",
       "      <td>Senior / Semi-Senior</td>\n",
       "      <td>Ventas</td>\n",
       "      <td>Wurth Argentina S.A</td>\n",
       "    </tr>\n",
       "  </tbody>\n",
       "</table>\n",
       "</div>"
      ],
      "text/plain": [
       "       idaviso                                             titulo  \\\n",
       "1     17903700                                  [(enfermeras, 1)]   \n",
       "2   1000150677                           [(chofer, 1), (taxi, 1)]   \n",
       "4   1000872556  [(operarios, 1), (planta, 1), (rubro, 1), (ele...   \n",
       "8      9240880  [(productores, 1), (asesores, 1), (independien...   \n",
       "11  1002181678  [(vendedor, 1), (viajante, 1), (tierra, 1), (f...   \n",
       "\n",
       "                                          descripcion tipo_de_trabajo  \\\n",
       "1   [(oeste, 2), (experiencia, 2), (años, 2), (imp...       Full-time   \n",
       "2   [(tenes, 3), (estas, 2), (trabajo, 2), (años, ...       Full-time   \n",
       "4   [(control, 6), (produccion, 4), (operarios, 2)...       Full-time   \n",
       "8   [(agente, 1), (oficial, 1), (busqueda, 1), (or...       Full-time   \n",
       "11  [(empresa, 1), (multinacional, 1), (opera, 1),...       Full-time   \n",
       "\n",
       "                      nivel_laboral nombre_area  \\\n",
       "1              Senior / Semi-Senior       Salud   \n",
       "2              Senior / Semi-Senior  Transporte   \n",
       "4              Senior / Semi-Senior  Producción   \n",
       "8   Jefe / Supervisor / Responsable   Comercial   \n",
       "11             Senior / Semi-Senior      Ventas   \n",
       "\n",
       "                 denominacion_empresa  \n",
       "1             Farmacias Central Oeste  \n",
       "2                         FAMITAX SRL  \n",
       "4                  ELECTRO OUTLET SRL  \n",
       "8   Agencia Oficial Alejandro Arizaga  \n",
       "11                Wurth Argentina S.A  "
      ]
     },
     "execution_count": 31,
     "metadata": {},
     "output_type": "execute_result"
    }
   ],
   "source": [
    "avisos_detalle_train.head(5)"
   ]
  },
  {
   "cell_type": "code",
   "execution_count": 32,
   "metadata": {},
   "outputs": [],
   "source": [
    "avisos_detalle_train.to_csv('../data/6_avisos_detalle_train.csv', index=False, sep=',', encoding='utf-8')"
   ]
  },
  {
   "cell_type": "code",
   "execution_count": null,
   "metadata": {},
   "outputs": [],
   "source": []
  },
  {
   "cell_type": "code",
   "execution_count": null,
   "metadata": {},
   "outputs": [],
   "source": []
  },
  {
   "cell_type": "markdown",
   "metadata": {},
   "source": [
    "# Juntamos todo en un solo DF"
   ]
  },
  {
   "cell_type": "code",
   "execution_count": 33,
   "metadata": {},
   "outputs": [],
   "source": [
    "postulantes_educacion = pd.read_csv('../data/1_postulantes_educacion_train.csv', encoding='utf-8')\n",
    "postulantes_genero_edad = pd.read_csv('../data/2_postulantes_genero_edad_train.csv', encoding='utf-8')\n",
    "vistas = pd.read_csv('../data/3_vistas_train.csv', encoding='utf-8')\n",
    "postulaciones = pd.read_csv('../data/4_postulaciones_train.csv', encoding='utf-8')\n",
    "avisos_online = pd.read_csv('../data/5_avisos_online_train.csv', encoding='utf-8')\n",
    "avisos_detalle = pd.read_csv('../data/6_avisos_detalle_train.csv', encoding='utf-8')"
   ]
  },
  {
   "cell_type": "markdown",
   "metadata": {},
   "source": [
    "# Juntamos de los postulantes la informacion sobre educacion, genero, y edad"
   ]
  },
  {
   "cell_type": "markdown",
   "metadata": {},
   "source": [
    "### Obtenemos el maximo nivel de educacion para cada postulante"
   ]
  },
  {
   "cell_type": "code",
   "execution_count": 34,
   "metadata": {},
   "outputs": [
    {
     "data": {
      "text/html": [
       "<div>\n",
       "<style scoped>\n",
       "    .dataframe tbody tr th:only-of-type {\n",
       "        vertical-align: middle;\n",
       "    }\n",
       "\n",
       "    .dataframe tbody tr th {\n",
       "        vertical-align: top;\n",
       "    }\n",
       "\n",
       "    .dataframe thead th {\n",
       "        text-align: right;\n",
       "    }\n",
       "</style>\n",
       "<table border=\"1\" class=\"dataframe\">\n",
       "  <thead>\n",
       "    <tr style=\"text-align: right;\">\n",
       "      <th></th>\n",
       "      <th>idpostulante</th>\n",
       "      <th>nombre_estudio</th>\n",
       "      <th>estado_estudio</th>\n",
       "    </tr>\n",
       "  </thead>\n",
       "  <tbody>\n",
       "    <tr>\n",
       "      <th>0</th>\n",
       "      <td>8BkL</td>\n",
       "      <td>Universitario</td>\n",
       "      <td>En Curso</td>\n",
       "    </tr>\n",
       "    <tr>\n",
       "      <th>1</th>\n",
       "      <td>1d2B</td>\n",
       "      <td>Universitario</td>\n",
       "      <td>En Curso</td>\n",
       "    </tr>\n",
       "  </tbody>\n",
       "</table>\n",
       "</div>"
      ],
      "text/plain": [
       "  idpostulante nombre_estudio estado_estudio\n",
       "0         8BkL  Universitario       En Curso\n",
       "1         1d2B  Universitario       En Curso"
      ]
     },
     "execution_count": 34,
     "metadata": {},
     "output_type": "execute_result"
    }
   ],
   "source": [
    "postulantes_educacion.head(2)"
   ]
  },
  {
   "cell_type": "code",
   "execution_count": 35,
   "metadata": {},
   "outputs": [
    {
     "data": {
      "text/plain": [
       "568612"
      ]
     },
     "execution_count": 35,
     "metadata": {},
     "output_type": "execute_result"
    }
   ],
   "source": [
    "len(postulantes_educacion)"
   ]
  },
  {
   "cell_type": "code",
   "execution_count": 36,
   "metadata": {},
   "outputs": [
    {
     "name": "stdout",
     "output_type": "stream",
     "text": [
      "Existen datos de educacion de 366395 postulantes\n"
     ]
    }
   ],
   "source": [
    "print('Existen datos de educacion de', len(postulantes_educacion.drop_duplicates(['idpostulante'], keep='last', inplace=False)), 'postulantes')"
   ]
  },
  {
   "cell_type": "code",
   "execution_count": 37,
   "metadata": {},
   "outputs": [],
   "source": [
    "def cuantificar_estudios(row):\n",
    "    if (row['nombre_estudio'] == 'Doctorado'):\n",
    "        row['nombre_estudio'] = 7\n",
    "    if (row['nombre_estudio'] == 'Master'):    \n",
    "        row['nombre_estudio'] = 6\n",
    "    if (row['nombre_estudio'] == 'Posgrado'):    \n",
    "        row['nombre_estudio'] = 5\n",
    "    if (row['nombre_estudio'] == 'Universitario'):    \n",
    "        row['nombre_estudio'] = 4\n",
    "    if (row['nombre_estudio'] == 'Terciario/Técnico'):    \n",
    "        row['nombre_estudio'] = 3\n",
    "    if (row['nombre_estudio'] == 'Secundario'):    \n",
    "        row['nombre_estudio'] = 2\n",
    "    if (row['nombre_estudio'] == 'Otro'):    \n",
    "        row['nombre_estudio'] = 1    \n",
    "        \n",
    "    if (row['estado_estudio'] == 'Graduado'):\n",
    "        row['estado_estudio'] = 3\n",
    "    if (row['estado_estudio'] == 'En Curso'):    \n",
    "        row['estado_estudio'] = 2\n",
    "    if (row['estado_estudio'] == 'Abandonado'):    \n",
    "        row['estado_estudio'] = 1\n",
    "        \n",
    "    return row    \n",
    "\n",
    "def descuantificar_estudios(row):\n",
    "    if (row['nombre_estudio'] == 7):\n",
    "        row['nombre_estudio'] = 'Doctorado'\n",
    "    if (row['nombre_estudio'] == 6):    \n",
    "        row['nombre_estudio'] = 'Master'\n",
    "    if (row['nombre_estudio'] == 5):    \n",
    "        row['nombre_estudio'] = 'Posgrado'\n",
    "    if (row['nombre_estudio'] == 4):    \n",
    "        row['nombre_estudio'] = 'Universitario'\n",
    "    if (row['nombre_estudio'] == 3):    \n",
    "        row['nombre_estudio'] = 'Terciario/Técnico'\n",
    "    if (row['nombre_estudio'] == 2):    \n",
    "        row['nombre_estudio'] = 'Secundario'\n",
    "    if (row['nombre_estudio'] == 1):    \n",
    "        row['nombre_estudio'] = 'Otro'    \n",
    "        \n",
    "    if (row['estado_estudio'] == 3):\n",
    "        row['estado_estudio'] = 'Graduado'\n",
    "    if (row['estado_estudio'] == 2):    \n",
    "        row['estado_estudio'] = 'En Curso'\n",
    "    if (row['estado_estudio'] == 1):    \n",
    "        row['estado_estudio'] = 'Abandonado'\n",
    "        \n",
    "    return row    "
   ]
  },
  {
   "cell_type": "code",
   "execution_count": 38,
   "metadata": {},
   "outputs": [],
   "source": [
    "postulantes_educacion = postulantes_educacion.apply(lambda row: cuantificar_estudios(row), axis=1)"
   ]
  },
  {
   "cell_type": "code",
   "execution_count": 39,
   "metadata": {},
   "outputs": [],
   "source": [
    "# Obtenemos max de la columna nombre\n",
    "idx = postulantes_educacion.groupby(['idpostulante'])['nombre_estudio'].transform(max) == postulantes_educacion['nombre_estudio']"
   ]
  },
  {
   "cell_type": "code",
   "execution_count": 40,
   "metadata": {},
   "outputs": [],
   "source": [
    "# Sobre los anteriores, obtenemos los max de la columna estado\n",
    "idx_postulantes_educacion_max = postulantes_educacion[idx].groupby(['idpostulante'])['estado_estudio'].transform(max) == postulantes_educacion[idx]['estado_estudio']"
   ]
  },
  {
   "cell_type": "code",
   "execution_count": 41,
   "metadata": {},
   "outputs": [
    {
     "data": {
      "text/plain": [
       "366395"
      ]
     },
     "execution_count": 41,
     "metadata": {},
     "output_type": "execute_result"
    }
   ],
   "source": [
    "postulantes_educacion_max = postulantes_educacion[idx][idx_postulantes_educacion_max]\n",
    "len(postulantes_educacion_max)"
   ]
  },
  {
   "cell_type": "code",
   "execution_count": 42,
   "metadata": {},
   "outputs": [
    {
     "data": {
      "text/html": [
       "<div>\n",
       "<style scoped>\n",
       "    .dataframe tbody tr th:only-of-type {\n",
       "        vertical-align: middle;\n",
       "    }\n",
       "\n",
       "    .dataframe tbody tr th {\n",
       "        vertical-align: top;\n",
       "    }\n",
       "\n",
       "    .dataframe thead th {\n",
       "        text-align: right;\n",
       "    }\n",
       "</style>\n",
       "<table border=\"1\" class=\"dataframe\">\n",
       "  <thead>\n",
       "    <tr style=\"text-align: right;\">\n",
       "      <th></th>\n",
       "      <th>idpostulante</th>\n",
       "      <th>nombre_estudio</th>\n",
       "      <th>estado_estudio</th>\n",
       "    </tr>\n",
       "  </thead>\n",
       "  <tbody>\n",
       "    <tr>\n",
       "      <th>5</th>\n",
       "      <td>1QLLO</td>\n",
       "      <td>4</td>\n",
       "      <td>2</td>\n",
       "    </tr>\n",
       "    <tr>\n",
       "      <th>290</th>\n",
       "      <td>1QLLO</td>\n",
       "      <td>4</td>\n",
       "      <td>3</td>\n",
       "    </tr>\n",
       "  </tbody>\n",
       "</table>\n",
       "</div>"
      ],
      "text/plain": [
       "    idpostulante  nombre_estudio  estado_estudio\n",
       "5          1QLLO               4               2\n",
       "290        1QLLO               4               3"
      ]
     },
     "execution_count": 42,
     "metadata": {},
     "output_type": "execute_result"
    }
   ],
   "source": [
    "# Verificamos, por ejemplo para este postulante debe traer el maximo nombre y estado\n",
    "postulantes_educacion[postulantes_educacion['idpostulante'] == '1QLLO'] "
   ]
  },
  {
   "cell_type": "code",
   "execution_count": 43,
   "metadata": {},
   "outputs": [
    {
     "data": {
      "text/html": [
       "<div>\n",
       "<style scoped>\n",
       "    .dataframe tbody tr th:only-of-type {\n",
       "        vertical-align: middle;\n",
       "    }\n",
       "\n",
       "    .dataframe tbody tr th {\n",
       "        vertical-align: top;\n",
       "    }\n",
       "\n",
       "    .dataframe thead th {\n",
       "        text-align: right;\n",
       "    }\n",
       "</style>\n",
       "<table border=\"1\" class=\"dataframe\">\n",
       "  <thead>\n",
       "    <tr style=\"text-align: right;\">\n",
       "      <th></th>\n",
       "      <th>idpostulante</th>\n",
       "      <th>nombre_estudio</th>\n",
       "      <th>estado_estudio</th>\n",
       "    </tr>\n",
       "  </thead>\n",
       "  <tbody>\n",
       "    <tr>\n",
       "      <th>290</th>\n",
       "      <td>1QLLO</td>\n",
       "      <td>4</td>\n",
       "      <td>3</td>\n",
       "    </tr>\n",
       "  </tbody>\n",
       "</table>\n",
       "</div>"
      ],
      "text/plain": [
       "    idpostulante  nombre_estudio  estado_estudio\n",
       "290        1QLLO               4               3"
      ]
     },
     "execution_count": 43,
     "metadata": {},
     "output_type": "execute_result"
    }
   ],
   "source": [
    "# Efectivamente lo hace\n",
    "postulantes_educacion_max[postulantes_educacion_max['idpostulante'] == '1QLLO'] "
   ]
  },
  {
   "cell_type": "code",
   "execution_count": 44,
   "metadata": {},
   "outputs": [],
   "source": [
    "postulantes_educacion_max = postulantes_educacion_max.apply(lambda row: descuantificar_estudios(row), axis=1)"
   ]
  },
  {
   "cell_type": "code",
   "execution_count": 45,
   "metadata": {},
   "outputs": [
    {
     "data": {
      "text/html": [
       "<div>\n",
       "<style scoped>\n",
       "    .dataframe tbody tr th:only-of-type {\n",
       "        vertical-align: middle;\n",
       "    }\n",
       "\n",
       "    .dataframe tbody tr th {\n",
       "        vertical-align: top;\n",
       "    }\n",
       "\n",
       "    .dataframe thead th {\n",
       "        text-align: right;\n",
       "    }\n",
       "</style>\n",
       "<table border=\"1\" class=\"dataframe\">\n",
       "  <thead>\n",
       "    <tr style=\"text-align: right;\">\n",
       "      <th></th>\n",
       "      <th>idpostulante</th>\n",
       "      <th>nombre_estudio</th>\n",
       "      <th>estado_estudio</th>\n",
       "    </tr>\n",
       "  </thead>\n",
       "  <tbody>\n",
       "    <tr>\n",
       "      <th>1</th>\n",
       "      <td>1d2B</td>\n",
       "      <td>Universitario</td>\n",
       "      <td>En Curso</td>\n",
       "    </tr>\n",
       "    <tr>\n",
       "      <th>3</th>\n",
       "      <td>6M3jr</td>\n",
       "      <td>Universitario</td>\n",
       "      <td>En Curso</td>\n",
       "    </tr>\n",
       "  </tbody>\n",
       "</table>\n",
       "</div>"
      ],
      "text/plain": [
       "  idpostulante nombre_estudio estado_estudio\n",
       "1         1d2B  Universitario       En Curso\n",
       "3        6M3jr  Universitario       En Curso"
      ]
     },
     "execution_count": 45,
     "metadata": {},
     "output_type": "execute_result"
    }
   ],
   "source": [
    "postulantes_educacion_max.head(2)"
   ]
  },
  {
   "cell_type": "markdown",
   "metadata": {},
   "source": [
    "### Join con genero y edad"
   ]
  },
  {
   "cell_type": "code",
   "execution_count": 57,
   "metadata": {},
   "outputs": [
    {
     "data": {
      "text/plain": [
       "408146"
      ]
     },
     "execution_count": 57,
     "metadata": {},
     "output_type": "execute_result"
    }
   ],
   "source": [
    "len(postulantes_genero_edad)"
   ]
  },
  {
   "cell_type": "code",
   "execution_count": 58,
   "metadata": {},
   "outputs": [
    {
     "data": {
      "text/plain": [
       "408146"
      ]
     },
     "execution_count": 58,
     "metadata": {},
     "output_type": "execute_result"
    }
   ],
   "source": [
    "len(postulantes_genero_edad.drop_duplicates(['idpostulante'], keep='last', inplace=False))"
   ]
  },
  {
   "cell_type": "raw",
   "metadata": {},
   "source": [
    "No hay registros repetidos en el set de genero y edad."
   ]
  },
  {
   "cell_type": "raw",
   "metadata": {},
   "source": [
    "Joineamos ambos sets, descartamos los registros que no esten en ambos mediante un inner join."
   ]
  },
  {
   "cell_type": "code",
   "execution_count": 59,
   "metadata": {},
   "outputs": [],
   "source": [
    "postulantes = pd.merge(postulantes_educacion_max, postulantes_genero_edad, on='idpostulante', how='inner')"
   ]
  },
  {
   "cell_type": "code",
   "execution_count": 82,
   "metadata": {},
   "outputs": [
    {
     "data": {
      "text/plain": [
       "idpostulante       object\n",
       "nombre_estudio     object\n",
       "estado_estudio     object\n",
       "fechanacimiento    object\n",
       "sexo               object\n",
       "dtype: object"
      ]
     },
     "execution_count": 82,
     "metadata": {},
     "output_type": "execute_result"
    }
   ],
   "source": [
    "postulantes.dtypes"
   ]
  },
  {
   "cell_type": "code",
   "execution_count": 83,
   "metadata": {},
   "outputs": [
    {
     "data": {
      "text/plain": [
       "366395"
      ]
     },
     "execution_count": 83,
     "metadata": {},
     "output_type": "execute_result"
    }
   ],
   "source": [
    "len(postulantes)"
   ]
  },
  {
   "cell_type": "code",
   "execution_count": 84,
   "metadata": {},
   "outputs": [],
   "source": [
    "if(postulantes.isna().any().any()):\n",
    "    postulantes.dropna(inplace=True)"
   ]
  },
  {
   "cell_type": "code",
   "execution_count": 86,
   "metadata": {},
   "outputs": [
    {
     "name": "stdout",
     "output_type": "stream",
     "text": [
      "idpostulante       False\n",
      "nombre_estudio     False\n",
      "estado_estudio     False\n",
      "fechanacimiento     True\n",
      "sexo               False\n",
      "dtype: bool\n"
     ]
    }
   ],
   "source": [
    "# Convierto columnas con fechas a datetime\n",
    "postulantes['fechanacimiento'] = pd.to_datetime(postulantes.fechanacimiento, format='%Y/%m/%d', errors='coerce')\n",
    "if(postulantes.isna().any().any()):\n",
    "    print(postulantes.isna().any())\n",
    "    postulantes.dropna(inplace=True)\n",
    "\n",
    "# Agrego columna edad\n",
    "anio_actual = pd.to_datetime('today').year\n",
    "postulantes['edad'] = postulantes.fechanacimiento.map(lambda fecha: anio_actual - fecha.year).astype(int)"
   ]
  },
  {
   "cell_type": "code",
   "execution_count": 89,
   "metadata": {},
   "outputs": [],
   "source": [
    "postulantes.drop(columns=['fechanacimiento'], inplace=True)"
   ]
  },
  {
   "cell_type": "code",
   "execution_count": 90,
   "metadata": {},
   "outputs": [
    {
     "data": {
      "text/plain": [
       "358872"
      ]
     },
     "execution_count": 90,
     "metadata": {},
     "output_type": "execute_result"
    }
   ],
   "source": [
    "len(postulantes)"
   ]
  },
  {
   "cell_type": "code",
   "execution_count": 92,
   "metadata": {},
   "outputs": [
    {
     "data": {
      "text/html": [
       "<div>\n",
       "<style scoped>\n",
       "    .dataframe tbody tr th:only-of-type {\n",
       "        vertical-align: middle;\n",
       "    }\n",
       "\n",
       "    .dataframe tbody tr th {\n",
       "        vertical-align: top;\n",
       "    }\n",
       "\n",
       "    .dataframe thead th {\n",
       "        text-align: right;\n",
       "    }\n",
       "</style>\n",
       "<table border=\"1\" class=\"dataframe\">\n",
       "  <thead>\n",
       "    <tr style=\"text-align: right;\">\n",
       "      <th></th>\n",
       "      <th>idpostulante</th>\n",
       "      <th>nombre_estudio</th>\n",
       "      <th>estado_estudio</th>\n",
       "      <th>sexo</th>\n",
       "      <th>edad</th>\n",
       "    </tr>\n",
       "  </thead>\n",
       "  <tbody>\n",
       "    <tr>\n",
       "      <th>0</th>\n",
       "      <td>1d2B</td>\n",
       "      <td>Universitario</td>\n",
       "      <td>En Curso</td>\n",
       "      <td>MASC</td>\n",
       "      <td>42</td>\n",
       "    </tr>\n",
       "  </tbody>\n",
       "</table>\n",
       "</div>"
      ],
      "text/plain": [
       "  idpostulante nombre_estudio estado_estudio  sexo  edad\n",
       "0         1d2B  Universitario       En Curso  MASC    42"
      ]
     },
     "execution_count": 92,
     "metadata": {},
     "output_type": "execute_result"
    }
   ],
   "source": [
    "postulantes.head(1)"
   ]
  },
  {
   "cell_type": "code",
   "execution_count": 103,
   "metadata": {},
   "outputs": [
    {
     "data": {
      "text/plain": [
       "27     20334\n",
       "26     19979\n",
       "25     19894\n",
       "24     19450\n",
       "28     19129\n",
       "23     18396\n",
       "29     17298\n",
       "22     16814\n",
       "30     16296\n",
       "31     14995\n",
       "21     14475\n",
       "32     13825\n",
       "33     12354\n",
       "20     11148\n",
       "34     11051\n",
       "35     10244\n",
       "36      9667\n",
       "37      8981\n",
       "38      8460\n",
       "39      7811\n",
       "40      6976\n",
       "19      6672\n",
       "41      6282\n",
       "42      5633\n",
       "43      5268\n",
       "44      4393\n",
       "45      3775\n",
       "46      3438\n",
       "47      3092\n",
       "48      2851\n",
       "       ...  \n",
       "63       238\n",
       "64       181\n",
       "65       133\n",
       "66       104\n",
       "67        82\n",
       "68        68\n",
       "69        49\n",
       "70        38\n",
       "71        19\n",
       "17        17\n",
       "72        16\n",
       "74        11\n",
       "73        10\n",
       "75         8\n",
       "77         5\n",
       "78         4\n",
       "76         3\n",
       "79         2\n",
       "16         2\n",
       "12         2\n",
       "103        2\n",
       "15         1\n",
       "11         1\n",
       "243        1\n",
       "116        1\n",
       "81         1\n",
       "83         1\n",
       "97         1\n",
       "101        1\n",
       "10         1\n",
       "Name: edad, Length: 75, dtype: int64"
      ]
     },
     "execution_count": 103,
     "metadata": {},
     "output_type": "execute_result"
    }
   ],
   "source": [
    "postulantes['edad'].value_counts()"
   ]
  },
  {
   "cell_type": "code",
   "execution_count": 104,
   "metadata": {},
   "outputs": [],
   "source": [
    "postulantes['edad'] = postulantes[(postulantes['edad'] > 16) & (postulantes['edad'] < 86)]"
   ]
  },
  {
   "cell_type": "code",
   "execution_count": 105,
   "metadata": {},
   "outputs": [],
   "source": [
    "postulantes.to_csv('../data/postulantes.csv', index=False, sep=',', encoding='utf-8')"
   ]
  },
  {
   "cell_type": "markdown",
   "metadata": {},
   "source": [
    "### Merge con avisos_detalle"
   ]
  },
  {
   "cell_type": "code",
   "execution_count": 65,
   "metadata": {},
   "outputs": [
    {
     "data": {
      "text/html": [
       "<div>\n",
       "<style scoped>\n",
       "    .dataframe tbody tr th:only-of-type {\n",
       "        vertical-align: middle;\n",
       "    }\n",
       "\n",
       "    .dataframe tbody tr th {\n",
       "        vertical-align: top;\n",
       "    }\n",
       "\n",
       "    .dataframe thead th {\n",
       "        text-align: right;\n",
       "    }\n",
       "</style>\n",
       "<table border=\"1\" class=\"dataframe\">\n",
       "  <thead>\n",
       "    <tr style=\"text-align: right;\">\n",
       "      <th></th>\n",
       "      <th>idaviso</th>\n",
       "      <th>titulo</th>\n",
       "      <th>descripcion</th>\n",
       "      <th>tipo_de_trabajo</th>\n",
       "      <th>nivel_laboral</th>\n",
       "      <th>nombre_area</th>\n",
       "      <th>denominacion_empresa</th>\n",
       "    </tr>\n",
       "  </thead>\n",
       "  <tbody>\n",
       "    <tr>\n",
       "      <th>0</th>\n",
       "      <td>17903700</td>\n",
       "      <td>[('enfermeras', 1)]</td>\n",
       "      <td>[('oeste', 2), ('experiencia', 2), ('años', 2)...</td>\n",
       "      <td>Full-time</td>\n",
       "      <td>Senior / Semi-Senior</td>\n",
       "      <td>Salud</td>\n",
       "      <td>Farmacias Central Oeste</td>\n",
       "    </tr>\n",
       "  </tbody>\n",
       "</table>\n",
       "</div>"
      ],
      "text/plain": [
       "    idaviso               titulo  \\\n",
       "0  17903700  [('enfermeras', 1)]   \n",
       "\n",
       "                                         descripcion tipo_de_trabajo  \\\n",
       "0  [('oeste', 2), ('experiencia', 2), ('años', 2)...       Full-time   \n",
       "\n",
       "          nivel_laboral nombre_area     denominacion_empresa  \n",
       "0  Senior / Semi-Senior       Salud  Farmacias Central Oeste  "
      ]
     },
     "execution_count": 65,
     "metadata": {},
     "output_type": "execute_result"
    }
   ],
   "source": [
    "avisos_detalle.head(1)"
   ]
  },
  {
   "cell_type": "code",
   "execution_count": 117,
   "metadata": {},
   "outputs": [
    {
     "name": "stdout",
     "output_type": "stream",
     "text": [
      "19632\n"
     ]
    }
   ],
   "source": [
    "print(len(avisos_detalle))"
   ]
  },
  {
   "cell_type": "code",
   "execution_count": 119,
   "metadata": {},
   "outputs": [],
   "source": [
    "avisos_detalle = avisos_detalle.dropna(subset=['idaviso'], how='all')"
   ]
  },
  {
   "cell_type": "code",
   "execution_count": 120,
   "metadata": {},
   "outputs": [
    {
     "name": "stdout",
     "output_type": "stream",
     "text": [
      "19632\n"
     ]
    }
   ],
   "source": [
    "print(len(avisos_detalle))"
   ]
  },
  {
   "cell_type": "code",
   "execution_count": 121,
   "metadata": {},
   "outputs": [
    {
     "data": {
      "text/plain": [
       "idaviso                  int64\n",
       "titulo                  object\n",
       "descripcion             object\n",
       "tipo_de_trabajo         object\n",
       "nivel_laboral           object\n",
       "nombre_area             object\n",
       "denominacion_empresa    object\n",
       "dtype: object"
      ]
     },
     "execution_count": 121,
     "metadata": {},
     "output_type": "execute_result"
    }
   ],
   "source": [
    "avisos_detalle.dtypes"
   ]
  },
  {
   "cell_type": "code",
   "execution_count": 122,
   "metadata": {},
   "outputs": [
    {
     "data": {
      "text/html": [
       "<div>\n",
       "<style scoped>\n",
       "    .dataframe tbody tr th:only-of-type {\n",
       "        vertical-align: middle;\n",
       "    }\n",
       "\n",
       "    .dataframe tbody tr th {\n",
       "        vertical-align: top;\n",
       "    }\n",
       "\n",
       "    .dataframe thead th {\n",
       "        text-align: right;\n",
       "    }\n",
       "</style>\n",
       "<table border=\"1\" class=\"dataframe\">\n",
       "  <thead>\n",
       "    <tr style=\"text-align: right;\">\n",
       "      <th></th>\n",
       "      <th>idaviso</th>\n",
       "      <th>titulo</th>\n",
       "      <th>descripcion</th>\n",
       "      <th>tipo_de_trabajo</th>\n",
       "      <th>nivel_laboral</th>\n",
       "      <th>nombre_area</th>\n",
       "      <th>denominacion_empresa</th>\n",
       "    </tr>\n",
       "  </thead>\n",
       "  <tbody>\n",
       "    <tr>\n",
       "      <th>0</th>\n",
       "      <td>17903700</td>\n",
       "      <td>[('enfermeras', 1)]</td>\n",
       "      <td>[('oeste', 2), ('experiencia', 2), ('años', 2)...</td>\n",
       "      <td>Full-time</td>\n",
       "      <td>Senior / Semi-Senior</td>\n",
       "      <td>Salud</td>\n",
       "      <td>Farmacias Central Oeste</td>\n",
       "    </tr>\n",
       "  </tbody>\n",
       "</table>\n",
       "</div>"
      ],
      "text/plain": [
       "    idaviso               titulo  \\\n",
       "0  17903700  [('enfermeras', 1)]   \n",
       "\n",
       "                                         descripcion tipo_de_trabajo  \\\n",
       "0  [('oeste', 2), ('experiencia', 2), ('años', 2)...       Full-time   \n",
       "\n",
       "          nivel_laboral nombre_area     denominacion_empresa  \n",
       "0  Senior / Semi-Senior       Salud  Farmacias Central Oeste  "
      ]
     },
     "execution_count": 122,
     "metadata": {},
     "output_type": "execute_result"
    }
   ],
   "source": [
    "avisos_detalle.head(1)"
   ]
  },
  {
   "cell_type": "code",
   "execution_count": 124,
   "metadata": {},
   "outputs": [
    {
     "data": {
      "text/plain": [
       "0"
      ]
     },
     "execution_count": 124,
     "metadata": {},
     "output_type": "execute_result"
    }
   ],
   "source": [
    "avisos_detalle['descripcion'].isnull().sum()"
   ]
  },
  {
   "cell_type": "raw",
   "metadata": {},
   "source": [
    "Elimino la columna denominacion_empresa"
   ]
  },
  {
   "cell_type": "code",
   "execution_count": 125,
   "metadata": {},
   "outputs": [],
   "source": [
    "avisos_detalle.drop(['denominacion_empresa'], axis=1, inplace=True)"
   ]
  },
  {
   "cell_type": "code",
   "execution_count": 126,
   "metadata": {},
   "outputs": [
    {
     "data": {
      "text/html": [
       "<div>\n",
       "<style scoped>\n",
       "    .dataframe tbody tr th:only-of-type {\n",
       "        vertical-align: middle;\n",
       "    }\n",
       "\n",
       "    .dataframe tbody tr th {\n",
       "        vertical-align: top;\n",
       "    }\n",
       "\n",
       "    .dataframe thead th {\n",
       "        text-align: right;\n",
       "    }\n",
       "</style>\n",
       "<table border=\"1\" class=\"dataframe\">\n",
       "  <thead>\n",
       "    <tr style=\"text-align: right;\">\n",
       "      <th></th>\n",
       "      <th>idaviso</th>\n",
       "      <th>titulo</th>\n",
       "      <th>descripcion</th>\n",
       "      <th>tipo_de_trabajo</th>\n",
       "      <th>nivel_laboral</th>\n",
       "      <th>nombre_area</th>\n",
       "    </tr>\n",
       "  </thead>\n",
       "  <tbody>\n",
       "    <tr>\n",
       "      <th>0</th>\n",
       "      <td>17903700</td>\n",
       "      <td>[('enfermeras', 1)]</td>\n",
       "      <td>[('oeste', 2), ('experiencia', 2), ('años', 2)...</td>\n",
       "      <td>Full-time</td>\n",
       "      <td>Senior / Semi-Senior</td>\n",
       "      <td>Salud</td>\n",
       "    </tr>\n",
       "  </tbody>\n",
       "</table>\n",
       "</div>"
      ],
      "text/plain": [
       "    idaviso               titulo  \\\n",
       "0  17903700  [('enfermeras', 1)]   \n",
       "\n",
       "                                         descripcion tipo_de_trabajo  \\\n",
       "0  [('oeste', 2), ('experiencia', 2), ('años', 2)...       Full-time   \n",
       "\n",
       "          nivel_laboral nombre_area  \n",
       "0  Senior / Semi-Senior       Salud  "
      ]
     },
     "execution_count": 126,
     "metadata": {},
     "output_type": "execute_result"
    }
   ],
   "source": [
    "avisos_detalle.head(1)"
   ]
  },
  {
   "cell_type": "code",
   "execution_count": 127,
   "metadata": {},
   "outputs": [
    {
     "data": {
      "text/plain": [
       "Full-time          17893\n",
       "Part-time           1226\n",
       "Teletrabajo          184\n",
       "Por Horas            109\n",
       "Pasantia              76\n",
       "Temporario            60\n",
       "Por Contrato          57\n",
       "Fines de Semana       22\n",
       "Primer empleo          4\n",
       "Voluntario             1\n",
       "Name: tipo_de_trabajo, dtype: int64"
      ]
     },
     "execution_count": 127,
     "metadata": {},
     "output_type": "execute_result"
    }
   ],
   "source": [
    "avisos_detalle['tipo_de_trabajo'].value_counts()"
   ]
  },
  {
   "cell_type": "code",
   "execution_count": 128,
   "metadata": {},
   "outputs": [],
   "source": [
    "avisos_detalle['tipo_full'] = (avisos_detalle['tipo_de_trabajo'].astype(str) == 'Full-time').astype(bool)\n",
    "avisos_detalle['tipo_part'] = (avisos_detalle['tipo_de_trabajo'].astype(str) == 'Part-time').astype(bool)\n",
    "avisos_detalle['tipo_otro'] = ((avisos_detalle['tipo_de_trabajo'].astype(str) != 'Part-time') & (avisos_detalle['tipo_de_trabajo'].astype(str) != 'Full-time')).astype(bool)"
   ]
  },
  {
   "cell_type": "code",
   "execution_count": 129,
   "metadata": {},
   "outputs": [],
   "source": [
    "avisos_detalle.drop(['tipo_de_trabajo'], axis=1, inplace=True)"
   ]
  },
  {
   "cell_type": "code",
   "execution_count": 130,
   "metadata": {},
   "outputs": [
    {
     "data": {
      "text/html": [
       "<div>\n",
       "<style scoped>\n",
       "    .dataframe tbody tr th:only-of-type {\n",
       "        vertical-align: middle;\n",
       "    }\n",
       "\n",
       "    .dataframe tbody tr th {\n",
       "        vertical-align: top;\n",
       "    }\n",
       "\n",
       "    .dataframe thead th {\n",
       "        text-align: right;\n",
       "    }\n",
       "</style>\n",
       "<table border=\"1\" class=\"dataframe\">\n",
       "  <thead>\n",
       "    <tr style=\"text-align: right;\">\n",
       "      <th></th>\n",
       "      <th>idaviso</th>\n",
       "      <th>titulo</th>\n",
       "      <th>descripcion</th>\n",
       "      <th>nivel_laboral</th>\n",
       "      <th>nombre_area</th>\n",
       "      <th>tipo_full</th>\n",
       "      <th>tipo_part</th>\n",
       "      <th>tipo_otro</th>\n",
       "    </tr>\n",
       "  </thead>\n",
       "  <tbody>\n",
       "    <tr>\n",
       "      <th>0</th>\n",
       "      <td>17903700</td>\n",
       "      <td>[('enfermeras', 1)]</td>\n",
       "      <td>[('oeste', 2), ('experiencia', 2), ('años', 2)...</td>\n",
       "      <td>Senior / Semi-Senior</td>\n",
       "      <td>Salud</td>\n",
       "      <td>True</td>\n",
       "      <td>False</td>\n",
       "      <td>False</td>\n",
       "    </tr>\n",
       "    <tr>\n",
       "      <th>1</th>\n",
       "      <td>1000150677</td>\n",
       "      <td>[('chofer', 1), ('taxi', 1)]</td>\n",
       "      <td>[('tenes', 3), ('estas', 2), ('trabajo', 2), (...</td>\n",
       "      <td>Senior / Semi-Senior</td>\n",
       "      <td>Transporte</td>\n",
       "      <td>True</td>\n",
       "      <td>False</td>\n",
       "      <td>False</td>\n",
       "    </tr>\n",
       "    <tr>\n",
       "      <th>2</th>\n",
       "      <td>1000872556</td>\n",
       "      <td>[('operarios', 1), ('planta', 1), ('rubro', 1)...</td>\n",
       "      <td>[('control', 6), ('produccion', 4), ('operario...</td>\n",
       "      <td>Senior / Semi-Senior</td>\n",
       "      <td>Producción</td>\n",
       "      <td>True</td>\n",
       "      <td>False</td>\n",
       "      <td>False</td>\n",
       "    </tr>\n",
       "    <tr>\n",
       "      <th>3</th>\n",
       "      <td>9240880</td>\n",
       "      <td>[('productores', 1), ('asesores', 1), ('indepe...</td>\n",
       "      <td>[('agente', 1), ('oficial', 1), ('busqueda', 1...</td>\n",
       "      <td>Jefe / Supervisor / Responsable</td>\n",
       "      <td>Comercial</td>\n",
       "      <td>True</td>\n",
       "      <td>False</td>\n",
       "      <td>False</td>\n",
       "    </tr>\n",
       "    <tr>\n",
       "      <th>4</th>\n",
       "      <td>1002181678</td>\n",
       "      <td>[('vendedor', 1), ('viajante', 1), ('tierra', ...</td>\n",
       "      <td>[('empresa', 1), ('multinacional', 1), ('opera...</td>\n",
       "      <td>Senior / Semi-Senior</td>\n",
       "      <td>Ventas</td>\n",
       "      <td>True</td>\n",
       "      <td>False</td>\n",
       "      <td>False</td>\n",
       "    </tr>\n",
       "  </tbody>\n",
       "</table>\n",
       "</div>"
      ],
      "text/plain": [
       "      idaviso                                             titulo  \\\n",
       "0    17903700                                [('enfermeras', 1)]   \n",
       "1  1000150677                       [('chofer', 1), ('taxi', 1)]   \n",
       "2  1000872556  [('operarios', 1), ('planta', 1), ('rubro', 1)...   \n",
       "3     9240880  [('productores', 1), ('asesores', 1), ('indepe...   \n",
       "4  1002181678  [('vendedor', 1), ('viajante', 1), ('tierra', ...   \n",
       "\n",
       "                                         descripcion  \\\n",
       "0  [('oeste', 2), ('experiencia', 2), ('años', 2)...   \n",
       "1  [('tenes', 3), ('estas', 2), ('trabajo', 2), (...   \n",
       "2  [('control', 6), ('produccion', 4), ('operario...   \n",
       "3  [('agente', 1), ('oficial', 1), ('busqueda', 1...   \n",
       "4  [('empresa', 1), ('multinacional', 1), ('opera...   \n",
       "\n",
       "                     nivel_laboral nombre_area  tipo_full  tipo_part  \\\n",
       "0             Senior / Semi-Senior       Salud       True      False   \n",
       "1             Senior / Semi-Senior  Transporte       True      False   \n",
       "2             Senior / Semi-Senior  Producción       True      False   \n",
       "3  Jefe / Supervisor / Responsable   Comercial       True      False   \n",
       "4             Senior / Semi-Senior      Ventas       True      False   \n",
       "\n",
       "   tipo_otro  \n",
       "0      False  \n",
       "1      False  \n",
       "2      False  \n",
       "3      False  \n",
       "4      False  "
      ]
     },
     "execution_count": 130,
     "metadata": {},
     "output_type": "execute_result"
    }
   ],
   "source": [
    "avisos_detalle.head(5)"
   ]
  },
  {
   "cell_type": "code",
   "execution_count": null,
   "metadata": {},
   "outputs": [],
   "source": []
  },
  {
   "cell_type": "code",
   "execution_count": null,
   "metadata": {},
   "outputs": [],
   "source": []
  },
  {
   "cell_type": "markdown",
   "metadata": {},
   "source": [
    "### Join con vistas y postulaciones"
   ]
  },
  {
   "cell_type": "code",
   "execution_count": 132,
   "metadata": {},
   "outputs": [
    {
     "name": "stdout",
     "output_type": "stream",
     "text": [
      "6682591\n",
      "6604534\n"
     ]
    }
   ],
   "source": [
    "print(len(vistas))\n",
    "print(len(postulaciones))"
   ]
  },
  {
   "cell_type": "code",
   "execution_count": 133,
   "metadata": {},
   "outputs": [
    {
     "data": {
      "text/html": [
       "<div>\n",
       "<style scoped>\n",
       "    .dataframe tbody tr th:only-of-type {\n",
       "        vertical-align: middle;\n",
       "    }\n",
       "\n",
       "    .dataframe tbody tr th {\n",
       "        vertical-align: top;\n",
       "    }\n",
       "\n",
       "    .dataframe thead th {\n",
       "        text-align: right;\n",
       "    }\n",
       "</style>\n",
       "<table border=\"1\" class=\"dataframe\">\n",
       "  <thead>\n",
       "    <tr style=\"text-align: right;\">\n",
       "      <th></th>\n",
       "      <th>idaviso</th>\n",
       "      <th>idpostulante</th>\n",
       "    </tr>\n",
       "  </thead>\n",
       "  <tbody>\n",
       "    <tr>\n",
       "      <th>0</th>\n",
       "      <td>1111780242</td>\n",
       "      <td>YjVJQ6Z</td>\n",
       "    </tr>\n",
       "  </tbody>\n",
       "</table>\n",
       "</div>"
      ],
      "text/plain": [
       "      idaviso idpostulante\n",
       "0  1111780242      YjVJQ6Z"
      ]
     },
     "execution_count": 133,
     "metadata": {},
     "output_type": "execute_result"
    }
   ],
   "source": [
    "vistas.head(1)"
   ]
  },
  {
   "cell_type": "code",
   "execution_count": 134,
   "metadata": {},
   "outputs": [
    {
     "data": {
      "text/html": [
       "<div>\n",
       "<style scoped>\n",
       "    .dataframe tbody tr th:only-of-type {\n",
       "        vertical-align: middle;\n",
       "    }\n",
       "\n",
       "    .dataframe tbody tr th {\n",
       "        vertical-align: top;\n",
       "    }\n",
       "\n",
       "    .dataframe thead th {\n",
       "        text-align: right;\n",
       "    }\n",
       "</style>\n",
       "<table border=\"1\" class=\"dataframe\">\n",
       "  <thead>\n",
       "    <tr style=\"text-align: right;\">\n",
       "      <th></th>\n",
       "      <th>idaviso</th>\n",
       "      <th>idpostulante</th>\n",
       "    </tr>\n",
       "  </thead>\n",
       "  <tbody>\n",
       "    <tr>\n",
       "      <th>0</th>\n",
       "      <td>1112257047</td>\n",
       "      <td>NM5M</td>\n",
       "    </tr>\n",
       "  </tbody>\n",
       "</table>\n",
       "</div>"
      ],
      "text/plain": [
       "      idaviso idpostulante\n",
       "0  1112257047         NM5M"
      ]
     },
     "execution_count": 134,
     "metadata": {},
     "output_type": "execute_result"
    }
   ],
   "source": [
    "postulaciones.head(1)"
   ]
  },
  {
   "cell_type": "code",
   "execution_count": 135,
   "metadata": {},
   "outputs": [],
   "source": [
    "vistas.to_csv('../data/vistas.csv', index=False, sep=',', encoding='utf-8')\n",
    "postulaciones.to_csv('../data/postulaciones.csv', index=False, sep=',', encoding='utf-8')"
   ]
  },
  {
   "cell_type": "code",
   "execution_count": 136,
   "metadata": {},
   "outputs": [],
   "source": [
    "postulaciones_postulantes = pd.merge(postulaciones, postulantes, on='idpostulante', how='outer')"
   ]
  },
  {
   "cell_type": "code",
   "execution_count": 137,
   "metadata": {},
   "outputs": [
    {
     "name": "stdout",
     "output_type": "stream",
     "text": [
      "6646106\n"
     ]
    }
   ],
   "source": [
    "print(len(postulaciones_postulantes))"
   ]
  },
  {
   "cell_type": "code",
   "execution_count": 138,
   "metadata": {},
   "outputs": [
    {
     "data": {
      "text/html": [
       "<div>\n",
       "<style scoped>\n",
       "    .dataframe tbody tr th:only-of-type {\n",
       "        vertical-align: middle;\n",
       "    }\n",
       "\n",
       "    .dataframe tbody tr th {\n",
       "        vertical-align: top;\n",
       "    }\n",
       "\n",
       "    .dataframe thead th {\n",
       "        text-align: right;\n",
       "    }\n",
       "</style>\n",
       "<table border=\"1\" class=\"dataframe\">\n",
       "  <thead>\n",
       "    <tr style=\"text-align: right;\">\n",
       "      <th></th>\n",
       "      <th>idaviso</th>\n",
       "      <th>idpostulante</th>\n",
       "      <th>nombre_estudio</th>\n",
       "      <th>estado_estudio</th>\n",
       "      <th>sexo</th>\n",
       "      <th>edad</th>\n",
       "    </tr>\n",
       "  </thead>\n",
       "  <tbody>\n",
       "    <tr>\n",
       "      <th>6646104</th>\n",
       "      <td>NaN</td>\n",
       "      <td>DrXeJbA</td>\n",
       "      <td>Secundario</td>\n",
       "      <td>Abandonado</td>\n",
       "      <td>MASC</td>\n",
       "      <td>DrXeJbA</td>\n",
       "    </tr>\n",
       "    <tr>\n",
       "      <th>6646105</th>\n",
       "      <td>NaN</td>\n",
       "      <td>VNr0VD2</td>\n",
       "      <td>Terciario/Técnico</td>\n",
       "      <td>Abandonado</td>\n",
       "      <td>FEM</td>\n",
       "      <td>VNr0VD2</td>\n",
       "    </tr>\n",
       "  </tbody>\n",
       "</table>\n",
       "</div>"
      ],
      "text/plain": [
       "         idaviso idpostulante     nombre_estudio estado_estudio  sexo     edad\n",
       "6646104      NaN      DrXeJbA         Secundario     Abandonado  MASC  DrXeJbA\n",
       "6646105      NaN      VNr0VD2  Terciario/Técnico     Abandonado   FEM  VNr0VD2"
      ]
     },
     "execution_count": 138,
     "metadata": {},
     "output_type": "execute_result"
    }
   ],
   "source": [
    "postulaciones_postulantes.tail(2)"
   ]
  },
  {
   "cell_type": "code",
   "execution_count": 139,
   "metadata": {},
   "outputs": [
    {
     "data": {
      "text/plain": [
       "idaviso            True\n",
       "idpostulante      False\n",
       "nombre_estudio     True\n",
       "estado_estudio     True\n",
       "sexo               True\n",
       "edad               True\n",
       "dtype: bool"
      ]
     },
     "execution_count": 139,
     "metadata": {},
     "output_type": "execute_result"
    }
   ],
   "source": [
    "postulaciones_postulantes.isnull().any()"
   ]
  },
  {
   "cell_type": "code",
   "execution_count": 140,
   "metadata": {},
   "outputs": [],
   "source": [
    "postulaciones_postulantes.dropna(inplace=True)"
   ]
  },
  {
   "cell_type": "code",
   "execution_count": 142,
   "metadata": {},
   "outputs": [
    {
     "data": {
      "text/plain": [
       "idaviso           False\n",
       "idpostulante      False\n",
       "nombre_estudio    False\n",
       "estado_estudio    False\n",
       "sexo              False\n",
       "edad              False\n",
       "dtype: bool"
      ]
     },
     "execution_count": 142,
     "metadata": {},
     "output_type": "execute_result"
    }
   ],
   "source": [
    "postulaciones_postulantes.isnull().any()"
   ]
  },
  {
   "cell_type": "code",
   "execution_count": 141,
   "metadata": {},
   "outputs": [
    {
     "data": {
      "text/plain": [
       "6323242"
      ]
     },
     "execution_count": 141,
     "metadata": {},
     "output_type": "execute_result"
    }
   ],
   "source": [
    "len(postulaciones_postulantes)"
   ]
  },
  {
   "cell_type": "code",
   "execution_count": 143,
   "metadata": {},
   "outputs": [
    {
     "data": {
      "text/html": [
       "<div>\n",
       "<style scoped>\n",
       "    .dataframe tbody tr th:only-of-type {\n",
       "        vertical-align: middle;\n",
       "    }\n",
       "\n",
       "    .dataframe tbody tr th {\n",
       "        vertical-align: top;\n",
       "    }\n",
       "\n",
       "    .dataframe thead th {\n",
       "        text-align: right;\n",
       "    }\n",
       "</style>\n",
       "<table border=\"1\" class=\"dataframe\">\n",
       "  <thead>\n",
       "    <tr style=\"text-align: right;\">\n",
       "      <th></th>\n",
       "      <th>idaviso</th>\n",
       "      <th>idpostulante</th>\n",
       "      <th>nombre_estudio</th>\n",
       "      <th>estado_estudio</th>\n",
       "      <th>sexo</th>\n",
       "      <th>edad</th>\n",
       "    </tr>\n",
       "  </thead>\n",
       "  <tbody>\n",
       "    <tr>\n",
       "      <th>0</th>\n",
       "      <td>1.112257e+09</td>\n",
       "      <td>NM5M</td>\n",
       "      <td>Secundario</td>\n",
       "      <td>Graduado</td>\n",
       "      <td>FEM</td>\n",
       "      <td>NM5M</td>\n",
       "    </tr>\n",
       "  </tbody>\n",
       "</table>\n",
       "</div>"
      ],
      "text/plain": [
       "        idaviso idpostulante nombre_estudio estado_estudio sexo  edad\n",
       "0  1.112257e+09         NM5M     Secundario       Graduado  FEM  NM5M"
      ]
     },
     "execution_count": 143,
     "metadata": {},
     "output_type": "execute_result"
    }
   ],
   "source": [
    "postulaciones_postulantes.head(1)"
   ]
  },
  {
   "cell_type": "code",
   "execution_count": 148,
   "metadata": {},
   "outputs": [
    {
     "data": {
      "text/html": [
       "<div>\n",
       "<style scoped>\n",
       "    .dataframe tbody tr th:only-of-type {\n",
       "        vertical-align: middle;\n",
       "    }\n",
       "\n",
       "    .dataframe tbody tr th {\n",
       "        vertical-align: top;\n",
       "    }\n",
       "\n",
       "    .dataframe thead th {\n",
       "        text-align: right;\n",
       "    }\n",
       "</style>\n",
       "<table border=\"1\" class=\"dataframe\">\n",
       "  <thead>\n",
       "    <tr style=\"text-align: right;\">\n",
       "      <th></th>\n",
       "      <th>idaviso</th>\n",
       "      <th>idpostulante</th>\n",
       "      <th>nombre_estudio</th>\n",
       "      <th>estado_estudio</th>\n",
       "      <th>sexo</th>\n",
       "      <th>edad</th>\n",
       "    </tr>\n",
       "  </thead>\n",
       "  <tbody>\n",
       "    <tr>\n",
       "      <th>0</th>\n",
       "      <td>1112257047</td>\n",
       "      <td>NM5M</td>\n",
       "      <td>Secundario</td>\n",
       "      <td>Graduado</td>\n",
       "      <td>FEM</td>\n",
       "      <td>NM5M</td>\n",
       "    </tr>\n",
       "  </tbody>\n",
       "</table>\n",
       "</div>"
      ],
      "text/plain": [
       "      idaviso idpostulante nombre_estudio estado_estudio sexo  edad\n",
       "0  1112257047         NM5M     Secundario       Graduado  FEM  NM5M"
      ]
     },
     "execution_count": 148,
     "metadata": {},
     "output_type": "execute_result"
    }
   ],
   "source": [
    "postulaciones_postulantes['idaviso'] = postulaciones_postulantes['idaviso'].astype(int)\n",
    "postulaciones_postulantes.head(1)"
   ]
  },
  {
   "cell_type": "code",
   "execution_count": 149,
   "metadata": {},
   "outputs": [],
   "source": [
    "postulaciones_postulantes.to_csv('../data/postulaciones_postulantes.csv', index=False, sep=',', encoding='utf-8')"
   ]
  },
  {
   "cell_type": "code",
   "execution_count": 114,
   "metadata": {},
   "outputs": [],
   "source": [
    "postulaciones_postulantes = pd.read_csv('../data/postulaciones_postulantes.csv', encoding='utf-8')"
   ]
  },
  {
   "cell_type": "code",
   "execution_count": null,
   "metadata": {},
   "outputs": [],
   "source": []
  },
  {
   "cell_type": "markdown",
   "metadata": {},
   "source": [
    "### Juntamos con los avisos"
   ]
  },
  {
   "cell_type": "code",
   "execution_count": 150,
   "metadata": {},
   "outputs": [],
   "source": [
    "postulaciones_postulantes_avisos = pd.merge(postulaciones_postulantes, avisos_detalle, on='idaviso', how='left')"
   ]
  },
  {
   "cell_type": "code",
   "execution_count": 151,
   "metadata": {},
   "outputs": [
    {
     "data": {
      "text/html": [
       "<div>\n",
       "<style scoped>\n",
       "    .dataframe tbody tr th:only-of-type {\n",
       "        vertical-align: middle;\n",
       "    }\n",
       "\n",
       "    .dataframe tbody tr th {\n",
       "        vertical-align: top;\n",
       "    }\n",
       "\n",
       "    .dataframe thead th {\n",
       "        text-align: right;\n",
       "    }\n",
       "</style>\n",
       "<table border=\"1\" class=\"dataframe\">\n",
       "  <thead>\n",
       "    <tr style=\"text-align: right;\">\n",
       "      <th></th>\n",
       "      <th>idaviso</th>\n",
       "      <th>idpostulante</th>\n",
       "      <th>nombre_estudio</th>\n",
       "      <th>estado_estudio</th>\n",
       "      <th>sexo</th>\n",
       "      <th>edad</th>\n",
       "      <th>titulo</th>\n",
       "      <th>descripcion</th>\n",
       "      <th>nivel_laboral</th>\n",
       "      <th>nombre_area</th>\n",
       "      <th>tipo_full</th>\n",
       "      <th>tipo_part</th>\n",
       "      <th>tipo_otro</th>\n",
       "    </tr>\n",
       "  </thead>\n",
       "  <tbody>\n",
       "    <tr>\n",
       "      <th>0</th>\n",
       "      <td>1112257047</td>\n",
       "      <td>NM5M</td>\n",
       "      <td>Secundario</td>\n",
       "      <td>Graduado</td>\n",
       "      <td>FEM</td>\n",
       "      <td>NM5M</td>\n",
       "      <td>[('representantes', 1), ('atencion', 1), ('cli...</td>\n",
       "      <td>[('retencion', 3), ('atencion', 2), ('cliente'...</td>\n",
       "      <td>Otro</td>\n",
       "      <td>Atención al Cliente</td>\n",
       "      <td>False</td>\n",
       "      <td>True</td>\n",
       "      <td>False</td>\n",
       "    </tr>\n",
       "  </tbody>\n",
       "</table>\n",
       "</div>"
      ],
      "text/plain": [
       "      idaviso idpostulante nombre_estudio estado_estudio sexo  edad  \\\n",
       "0  1112257047         NM5M     Secundario       Graduado  FEM  NM5M   \n",
       "\n",
       "                                              titulo  \\\n",
       "0  [('representantes', 1), ('atencion', 1), ('cli...   \n",
       "\n",
       "                                         descripcion nivel_laboral  \\\n",
       "0  [('retencion', 3), ('atencion', 2), ('cliente'...          Otro   \n",
       "\n",
       "           nombre_area tipo_full tipo_part tipo_otro  \n",
       "0  Atención al Cliente     False      True     False  "
      ]
     },
     "execution_count": 151,
     "metadata": {},
     "output_type": "execute_result"
    }
   ],
   "source": [
    "postulaciones_postulantes_avisos.head(1)"
   ]
  },
  {
   "cell_type": "code",
   "execution_count": 152,
   "metadata": {},
   "outputs": [],
   "source": [
    "postulaciones_postulantes_avisos['postulado'] = True"
   ]
  },
  {
   "cell_type": "code",
   "execution_count": 153,
   "metadata": {},
   "outputs": [
    {
     "data": {
      "text/html": [
       "<div>\n",
       "<style scoped>\n",
       "    .dataframe tbody tr th:only-of-type {\n",
       "        vertical-align: middle;\n",
       "    }\n",
       "\n",
       "    .dataframe tbody tr th {\n",
       "        vertical-align: top;\n",
       "    }\n",
       "\n",
       "    .dataframe thead th {\n",
       "        text-align: right;\n",
       "    }\n",
       "</style>\n",
       "<table border=\"1\" class=\"dataframe\">\n",
       "  <thead>\n",
       "    <tr style=\"text-align: right;\">\n",
       "      <th></th>\n",
       "      <th>idaviso</th>\n",
       "      <th>idpostulante</th>\n",
       "      <th>nombre_estudio</th>\n",
       "      <th>estado_estudio</th>\n",
       "      <th>sexo</th>\n",
       "      <th>edad</th>\n",
       "      <th>titulo</th>\n",
       "      <th>descripcion</th>\n",
       "      <th>nivel_laboral</th>\n",
       "      <th>nombre_area</th>\n",
       "      <th>tipo_full</th>\n",
       "      <th>tipo_part</th>\n",
       "      <th>tipo_otro</th>\n",
       "      <th>postulado</th>\n",
       "    </tr>\n",
       "  </thead>\n",
       "  <tbody>\n",
       "    <tr>\n",
       "      <th>0</th>\n",
       "      <td>1112257047</td>\n",
       "      <td>NM5M</td>\n",
       "      <td>Secundario</td>\n",
       "      <td>Graduado</td>\n",
       "      <td>FEM</td>\n",
       "      <td>NM5M</td>\n",
       "      <td>[('representantes', 1), ('atencion', 1), ('cli...</td>\n",
       "      <td>[('retencion', 3), ('atencion', 2), ('cliente'...</td>\n",
       "      <td>Otro</td>\n",
       "      <td>Atención al Cliente</td>\n",
       "      <td>False</td>\n",
       "      <td>True</td>\n",
       "      <td>False</td>\n",
       "      <td>True</td>\n",
       "    </tr>\n",
       "  </tbody>\n",
       "</table>\n",
       "</div>"
      ],
      "text/plain": [
       "      idaviso idpostulante nombre_estudio estado_estudio sexo  edad  \\\n",
       "0  1112257047         NM5M     Secundario       Graduado  FEM  NM5M   \n",
       "\n",
       "                                              titulo  \\\n",
       "0  [('representantes', 1), ('atencion', 1), ('cli...   \n",
       "\n",
       "                                         descripcion nivel_laboral  \\\n",
       "0  [('retencion', 3), ('atencion', 2), ('cliente'...          Otro   \n",
       "\n",
       "           nombre_area tipo_full tipo_part tipo_otro  postulado  \n",
       "0  Atención al Cliente     False      True     False       True  "
      ]
     },
     "execution_count": 153,
     "metadata": {},
     "output_type": "execute_result"
    }
   ],
   "source": [
    "postulaciones_postulantes_avisos.head(1)"
   ]
  },
  {
   "cell_type": "code",
   "execution_count": 154,
   "metadata": {},
   "outputs": [],
   "source": [
    "postulaciones_postulantes_avisos.to_csv('../data/postulaciones_postulantes_avisos.csv', index=False, sep=',', encoding='utf-8')"
   ]
  },
  {
   "cell_type": "code",
   "execution_count": 155,
   "metadata": {},
   "outputs": [],
   "source": [
    "postulaciones_postulantes_avisos = pd.read_csv('../data/postulaciones_postulantes_avisos.csv', encoding='utf-8')"
   ]
  },
  {
   "cell_type": "code",
   "execution_count": 157,
   "metadata": {},
   "outputs": [
    {
     "name": "stdout",
     "output_type": "stream",
     "text": [
      "6487256\n"
     ]
    },
    {
     "data": {
      "text/html": [
       "<div>\n",
       "<style scoped>\n",
       "    .dataframe tbody tr th:only-of-type {\n",
       "        vertical-align: middle;\n",
       "    }\n",
       "\n",
       "    .dataframe tbody tr th {\n",
       "        vertical-align: top;\n",
       "    }\n",
       "\n",
       "    .dataframe thead th {\n",
       "        text-align: right;\n",
       "    }\n",
       "</style>\n",
       "<table border=\"1\" class=\"dataframe\">\n",
       "  <thead>\n",
       "    <tr style=\"text-align: right;\">\n",
       "      <th></th>\n",
       "      <th>idaviso</th>\n",
       "      <th>idpostulante</th>\n",
       "      <th>nombre_estudio</th>\n",
       "      <th>estado_estudio</th>\n",
       "      <th>sexo</th>\n",
       "      <th>edad</th>\n",
       "      <th>titulo</th>\n",
       "      <th>descripcion</th>\n",
       "      <th>nivel_laboral</th>\n",
       "      <th>nombre_area</th>\n",
       "      <th>tipo_full</th>\n",
       "      <th>tipo_part</th>\n",
       "      <th>tipo_otro</th>\n",
       "      <th>postulado</th>\n",
       "    </tr>\n",
       "  </thead>\n",
       "  <tbody>\n",
       "    <tr>\n",
       "      <th>0</th>\n",
       "      <td>1112257047</td>\n",
       "      <td>NM5M</td>\n",
       "      <td>Secundario</td>\n",
       "      <td>Graduado</td>\n",
       "      <td>FEM</td>\n",
       "      <td>NM5M</td>\n",
       "      <td>[('representantes', 1), ('atencion', 1), ('cli...</td>\n",
       "      <td>[('retencion', 3), ('atencion', 2), ('cliente'...</td>\n",
       "      <td>Otro</td>\n",
       "      <td>Atención al Cliente</td>\n",
       "      <td>False</td>\n",
       "      <td>True</td>\n",
       "      <td>False</td>\n",
       "      <td>True</td>\n",
       "    </tr>\n",
       "  </tbody>\n",
       "</table>\n",
       "</div>"
      ],
      "text/plain": [
       "      idaviso idpostulante nombre_estudio estado_estudio sexo  edad  \\\n",
       "0  1112257047         NM5M     Secundario       Graduado  FEM  NM5M   \n",
       "\n",
       "                                              titulo  \\\n",
       "0  [('representantes', 1), ('atencion', 1), ('cli...   \n",
       "\n",
       "                                         descripcion nivel_laboral  \\\n",
       "0  [('retencion', 3), ('atencion', 2), ('cliente'...          Otro   \n",
       "\n",
       "           nombre_area tipo_full tipo_part tipo_otro  postulado  \n",
       "0  Atención al Cliente     False      True     False       True  "
      ]
     },
     "execution_count": 157,
     "metadata": {},
     "output_type": "execute_result"
    }
   ],
   "source": [
    "print(len(postulaciones_postulantes_avisos))\n",
    "postulaciones_postulantes_avisos.head(1)"
   ]
  },
  {
   "cell_type": "markdown",
   "metadata": {},
   "source": [
    "### Generamos pares (idAviso, idPostulante) con postulado == False"
   ]
  },
  {
   "cell_type": "code",
   "execution_count": 159,
   "metadata": {},
   "outputs": [],
   "source": [
    "postulantes_sample = postulantes.sample(10000)\n",
    "for i in range(1,650):\n",
    "    postulantes_sample = pd.concat([postulantes_sample, postulantes.sample(10000)])"
   ]
  },
  {
   "cell_type": "code",
   "execution_count": 160,
   "metadata": {},
   "outputs": [
    {
     "name": "stdout",
     "output_type": "stream",
     "text": [
      "6500000\n"
     ]
    }
   ],
   "source": [
    "print(len(postulantes_sample))"
   ]
  },
  {
   "cell_type": "code",
   "execution_count": 172,
   "metadata": {},
   "outputs": [
    {
     "data": {
      "text/html": [
       "<div>\n",
       "<style scoped>\n",
       "    .dataframe tbody tr th:only-of-type {\n",
       "        vertical-align: middle;\n",
       "    }\n",
       "\n",
       "    .dataframe tbody tr th {\n",
       "        vertical-align: top;\n",
       "    }\n",
       "\n",
       "    .dataframe thead th {\n",
       "        text-align: right;\n",
       "    }\n",
       "</style>\n",
       "<table border=\"1\" class=\"dataframe\">\n",
       "  <thead>\n",
       "    <tr style=\"text-align: right;\">\n",
       "      <th></th>\n",
       "      <th>idpostulante</th>\n",
       "      <th>nombre_estudio</th>\n",
       "      <th>estado_estudio</th>\n",
       "      <th>sexo</th>\n",
       "      <th>edad</th>\n",
       "    </tr>\n",
       "  </thead>\n",
       "  <tbody>\n",
       "    <tr>\n",
       "      <th>0</th>\n",
       "      <td>A3vqNZY</td>\n",
       "      <td>Universitario</td>\n",
       "      <td>Graduado</td>\n",
       "      <td>FEM</td>\n",
       "      <td>A3vqNZY</td>\n",
       "    </tr>\n",
       "  </tbody>\n",
       "</table>\n",
       "</div>"
      ],
      "text/plain": [
       "  idpostulante nombre_estudio estado_estudio sexo     edad\n",
       "0      A3vqNZY  Universitario       Graduado  FEM  A3vqNZY"
      ]
     },
     "execution_count": 172,
     "metadata": {},
     "output_type": "execute_result"
    }
   ],
   "source": [
    "postulantes_sample.reset_index(inplace=True)\n",
    "postulantes_sample.drop(columns = 'index', inplace = True)\n",
    "postulantes_sample.head(1)"
   ]
  },
  {
   "cell_type": "code",
   "execution_count": 167,
   "metadata": {},
   "outputs": [],
   "source": [
    "avisos_sample = avisos_detalle.sample(10000)\n",
    "for i in range(1,650):\n",
    "    avisos_sample = pd.concat([avisos_sample, avisos_detalle.sample(10000)])"
   ]
  },
  {
   "cell_type": "code",
   "execution_count": 168,
   "metadata": {},
   "outputs": [
    {
     "name": "stdout",
     "output_type": "stream",
     "text": [
      "6500000\n"
     ]
    }
   ],
   "source": [
    "print(len(avisos_sample))"
   ]
  },
  {
   "cell_type": "code",
   "execution_count": 173,
   "metadata": {},
   "outputs": [
    {
     "data": {
      "text/html": [
       "<div>\n",
       "<style scoped>\n",
       "    .dataframe tbody tr th:only-of-type {\n",
       "        vertical-align: middle;\n",
       "    }\n",
       "\n",
       "    .dataframe tbody tr th {\n",
       "        vertical-align: top;\n",
       "    }\n",
       "\n",
       "    .dataframe thead th {\n",
       "        text-align: right;\n",
       "    }\n",
       "</style>\n",
       "<table border=\"1\" class=\"dataframe\">\n",
       "  <thead>\n",
       "    <tr style=\"text-align: right;\">\n",
       "      <th></th>\n",
       "      <th>idaviso</th>\n",
       "      <th>titulo</th>\n",
       "      <th>descripcion</th>\n",
       "      <th>nivel_laboral</th>\n",
       "      <th>nombre_area</th>\n",
       "      <th>tipo_full</th>\n",
       "      <th>tipo_part</th>\n",
       "      <th>tipo_otro</th>\n",
       "    </tr>\n",
       "  </thead>\n",
       "  <tbody>\n",
       "    <tr>\n",
       "      <th>0</th>\n",
       "      <td>1112221958</td>\n",
       "      <td>[('cajero', 1), ('repositor', 1), ('mendoza', 1)]</td>\n",
       "      <td>[('juleriaque', 1), ('seleccionara', 1), ('men...</td>\n",
       "      <td>Senior / Semi-Senior</td>\n",
       "      <td>Ventas</td>\n",
       "      <td>True</td>\n",
       "      <td>False</td>\n",
       "      <td>False</td>\n",
       "    </tr>\n",
       "  </tbody>\n",
       "</table>\n",
       "</div>"
      ],
      "text/plain": [
       "      idaviso                                             titulo  \\\n",
       "0  1112221958  [('cajero', 1), ('repositor', 1), ('mendoza', 1)]   \n",
       "\n",
       "                                         descripcion         nivel_laboral  \\\n",
       "0  [('juleriaque', 1), ('seleccionara', 1), ('men...  Senior / Semi-Senior   \n",
       "\n",
       "  nombre_area  tipo_full  tipo_part  tipo_otro  \n",
       "0      Ventas       True      False      False  "
      ]
     },
     "execution_count": 173,
     "metadata": {},
     "output_type": "execute_result"
    }
   ],
   "source": [
    "avisos_sample.reset_index(inplace=True)\n",
    "avisos_sample.drop(columns = 'index', inplace = True)\n",
    "avisos_sample.head(1)"
   ]
  },
  {
   "cell_type": "code",
   "execution_count": 174,
   "metadata": {},
   "outputs": [],
   "source": [
    "no_postulados = postulantes_sample.join(avisos_sample)"
   ]
  },
  {
   "cell_type": "code",
   "execution_count": 180,
   "metadata": {},
   "outputs": [
    {
     "data": {
      "text/html": [
       "<div>\n",
       "<style scoped>\n",
       "    .dataframe tbody tr th:only-of-type {\n",
       "        vertical-align: middle;\n",
       "    }\n",
       "\n",
       "    .dataframe tbody tr th {\n",
       "        vertical-align: top;\n",
       "    }\n",
       "\n",
       "    .dataframe thead th {\n",
       "        text-align: right;\n",
       "    }\n",
       "</style>\n",
       "<table border=\"1\" class=\"dataframe\">\n",
       "  <thead>\n",
       "    <tr style=\"text-align: right;\">\n",
       "      <th></th>\n",
       "      <th>idpostulante</th>\n",
       "      <th>nombre_estudio</th>\n",
       "      <th>estado_estudio</th>\n",
       "      <th>sexo</th>\n",
       "      <th>edad</th>\n",
       "      <th>idaviso</th>\n",
       "      <th>titulo</th>\n",
       "      <th>descripcion</th>\n",
       "      <th>nivel_laboral</th>\n",
       "      <th>nombre_area</th>\n",
       "      <th>tipo_full</th>\n",
       "      <th>tipo_part</th>\n",
       "      <th>tipo_otro</th>\n",
       "      <th>postulado</th>\n",
       "    </tr>\n",
       "  </thead>\n",
       "  <tbody>\n",
       "    <tr>\n",
       "      <th>0</th>\n",
       "      <td>A3vqNZY</td>\n",
       "      <td>Universitario</td>\n",
       "      <td>Graduado</td>\n",
       "      <td>FEM</td>\n",
       "      <td>A3vqNZY</td>\n",
       "      <td>1112221958</td>\n",
       "      <td>[('cajero', 1), ('repositor', 1), ('mendoza', 1)]</td>\n",
       "      <td>[('juleriaque', 1), ('seleccionara', 1), ('men...</td>\n",
       "      <td>Senior / Semi-Senior</td>\n",
       "      <td>Ventas</td>\n",
       "      <td>True</td>\n",
       "      <td>False</td>\n",
       "      <td>False</td>\n",
       "      <td>False</td>\n",
       "    </tr>\n",
       "  </tbody>\n",
       "</table>\n",
       "</div>"
      ],
      "text/plain": [
       "  idpostulante nombre_estudio estado_estudio sexo     edad     idaviso  \\\n",
       "0      A3vqNZY  Universitario       Graduado  FEM  A3vqNZY  1112221958   \n",
       "\n",
       "                                              titulo  \\\n",
       "0  [('cajero', 1), ('repositor', 1), ('mendoza', 1)]   \n",
       "\n",
       "                                         descripcion         nivel_laboral  \\\n",
       "0  [('juleriaque', 1), ('seleccionara', 1), ('men...  Senior / Semi-Senior   \n",
       "\n",
       "  nombre_area  tipo_full  tipo_part  tipo_otro  postulado  \n",
       "0      Ventas       True      False      False      False  "
      ]
     },
     "execution_count": 180,
     "metadata": {},
     "output_type": "execute_result"
    }
   ],
   "source": [
    "no_postulados['postulado'] = False\n",
    "no_postulados.head(1)"
   ]
  },
  {
   "cell_type": "code",
   "execution_count": 181,
   "metadata": {},
   "outputs": [],
   "source": [
    "no_postulados.to_csv('../data/no_postulados.csv', index=False, sep=',', encoding='utf-8')"
   ]
  },
  {
   "cell_type": "code",
   "execution_count": 178,
   "metadata": {},
   "outputs": [],
   "source": [
    "no_postulados = pd.read_csv('../data/no_postulados.csv', encoding='utf-8')"
   ]
  },
  {
   "cell_type": "code",
   "execution_count": 182,
   "metadata": {},
   "outputs": [
    {
     "name": "stdout",
     "output_type": "stream",
     "text": [
      "6500000\n"
     ]
    },
    {
     "data": {
      "text/html": [
       "<div>\n",
       "<style scoped>\n",
       "    .dataframe tbody tr th:only-of-type {\n",
       "        vertical-align: middle;\n",
       "    }\n",
       "\n",
       "    .dataframe tbody tr th {\n",
       "        vertical-align: top;\n",
       "    }\n",
       "\n",
       "    .dataframe thead th {\n",
       "        text-align: right;\n",
       "    }\n",
       "</style>\n",
       "<table border=\"1\" class=\"dataframe\">\n",
       "  <thead>\n",
       "    <tr style=\"text-align: right;\">\n",
       "      <th></th>\n",
       "      <th>idpostulante</th>\n",
       "      <th>nombre_estudio</th>\n",
       "      <th>estado_estudio</th>\n",
       "      <th>sexo</th>\n",
       "      <th>edad</th>\n",
       "      <th>idaviso</th>\n",
       "      <th>titulo</th>\n",
       "      <th>descripcion</th>\n",
       "      <th>nivel_laboral</th>\n",
       "      <th>nombre_area</th>\n",
       "      <th>tipo_full</th>\n",
       "      <th>tipo_part</th>\n",
       "      <th>tipo_otro</th>\n",
       "      <th>postulado</th>\n",
       "    </tr>\n",
       "  </thead>\n",
       "  <tbody>\n",
       "    <tr>\n",
       "      <th>0</th>\n",
       "      <td>A3vqNZY</td>\n",
       "      <td>Universitario</td>\n",
       "      <td>Graduado</td>\n",
       "      <td>FEM</td>\n",
       "      <td>A3vqNZY</td>\n",
       "      <td>1112221958</td>\n",
       "      <td>[('cajero', 1), ('repositor', 1), ('mendoza', 1)]</td>\n",
       "      <td>[('juleriaque', 1), ('seleccionara', 1), ('men...</td>\n",
       "      <td>Senior / Semi-Senior</td>\n",
       "      <td>Ventas</td>\n",
       "      <td>True</td>\n",
       "      <td>False</td>\n",
       "      <td>False</td>\n",
       "      <td>False</td>\n",
       "    </tr>\n",
       "  </tbody>\n",
       "</table>\n",
       "</div>"
      ],
      "text/plain": [
       "  idpostulante nombre_estudio estado_estudio sexo     edad     idaviso  \\\n",
       "0      A3vqNZY  Universitario       Graduado  FEM  A3vqNZY  1112221958   \n",
       "\n",
       "                                              titulo  \\\n",
       "0  [('cajero', 1), ('repositor', 1), ('mendoza', 1)]   \n",
       "\n",
       "                                         descripcion         nivel_laboral  \\\n",
       "0  [('juleriaque', 1), ('seleccionara', 1), ('men...  Senior / Semi-Senior   \n",
       "\n",
       "  nombre_area  tipo_full  tipo_part  tipo_otro  postulado  \n",
       "0      Ventas       True      False      False      False  "
      ]
     },
     "execution_count": 182,
     "metadata": {},
     "output_type": "execute_result"
    }
   ],
   "source": [
    "print(len(no_postulados))\n",
    "no_postulados.head(1)"
   ]
  },
  {
   "cell_type": "code",
   "execution_count": 183,
   "metadata": {},
   "outputs": [
    {
     "data": {
      "text/html": [
       "<div>\n",
       "<style scoped>\n",
       "    .dataframe tbody tr th:only-of-type {\n",
       "        vertical-align: middle;\n",
       "    }\n",
       "\n",
       "    .dataframe tbody tr th {\n",
       "        vertical-align: top;\n",
       "    }\n",
       "\n",
       "    .dataframe thead th {\n",
       "        text-align: right;\n",
       "    }\n",
       "</style>\n",
       "<table border=\"1\" class=\"dataframe\">\n",
       "  <thead>\n",
       "    <tr style=\"text-align: right;\">\n",
       "      <th></th>\n",
       "      <th>idaviso</th>\n",
       "      <th>idpostulante</th>\n",
       "      <th>nombre_estudio</th>\n",
       "      <th>estado_estudio</th>\n",
       "      <th>sexo</th>\n",
       "      <th>edad</th>\n",
       "      <th>titulo</th>\n",
       "      <th>descripcion</th>\n",
       "      <th>nivel_laboral</th>\n",
       "      <th>nombre_area</th>\n",
       "      <th>tipo_full</th>\n",
       "      <th>tipo_part</th>\n",
       "      <th>tipo_otro</th>\n",
       "      <th>postulado</th>\n",
       "    </tr>\n",
       "  </thead>\n",
       "  <tbody>\n",
       "    <tr>\n",
       "      <th>0</th>\n",
       "      <td>1112257047</td>\n",
       "      <td>NM5M</td>\n",
       "      <td>Secundario</td>\n",
       "      <td>Graduado</td>\n",
       "      <td>FEM</td>\n",
       "      <td>NM5M</td>\n",
       "      <td>[('representantes', 1), ('atencion', 1), ('cli...</td>\n",
       "      <td>[('retencion', 3), ('atencion', 2), ('cliente'...</td>\n",
       "      <td>Otro</td>\n",
       "      <td>Atención al Cliente</td>\n",
       "      <td>False</td>\n",
       "      <td>True</td>\n",
       "      <td>False</td>\n",
       "      <td>True</td>\n",
       "    </tr>\n",
       "  </tbody>\n",
       "</table>\n",
       "</div>"
      ],
      "text/plain": [
       "      idaviso idpostulante nombre_estudio estado_estudio sexo  edad  \\\n",
       "0  1112257047         NM5M     Secundario       Graduado  FEM  NM5M   \n",
       "\n",
       "                                              titulo  \\\n",
       "0  [('representantes', 1), ('atencion', 1), ('cli...   \n",
       "\n",
       "                                         descripcion nivel_laboral  \\\n",
       "0  [('retencion', 3), ('atencion', 2), ('cliente'...          Otro   \n",
       "\n",
       "           nombre_area tipo_full tipo_part tipo_otro  postulado  \n",
       "0  Atención al Cliente     False      True     False       True  "
      ]
     },
     "execution_count": 183,
     "metadata": {},
     "output_type": "execute_result"
    }
   ],
   "source": [
    "postulaciones_postulantes_avisos.head(1)"
   ]
  },
  {
   "cell_type": "code",
   "execution_count": 184,
   "metadata": {},
   "outputs": [],
   "source": [
    "training = pd.concat([no_postulados, postulaciones_postulantes_avisos])"
   ]
  },
  {
   "cell_type": "raw",
   "metadata": {},
   "source": [
    "De los random que generamos forzamos a todos con postulado=False, lo cual puede ser incorrecto. En caso de que el par (idAviso, idPostulante) exista en el postulaciones_postulantes_avisos deberia prevalecer ese. Para lograr esto con ambos sets concatenados, eliminamos los repetidos considerando estas dos columnas y nos quedamos con la primera repeticion (la del primer dataset, que es el que tiene la informacion real)"
   ]
  },
  {
   "cell_type": "code",
   "execution_count": 185,
   "metadata": {},
   "outputs": [],
   "source": [
    "training.drop_duplicates(subset = ['idaviso','idpostulante'], keep = 'first',inplace = True)"
   ]
  },
  {
   "cell_type": "code",
   "execution_count": 186,
   "metadata": {},
   "outputs": [
    {
     "name": "stdout",
     "output_type": "stream",
     "text": [
      "12814055\n"
     ]
    }
   ],
   "source": [
    "print(len(training))"
   ]
  },
  {
   "cell_type": "code",
   "execution_count": 188,
   "metadata": {},
   "outputs": [
    {
     "data": {
      "text/html": [
       "<div>\n",
       "<style scoped>\n",
       "    .dataframe tbody tr th:only-of-type {\n",
       "        vertical-align: middle;\n",
       "    }\n",
       "\n",
       "    .dataframe tbody tr th {\n",
       "        vertical-align: top;\n",
       "    }\n",
       "\n",
       "    .dataframe thead th {\n",
       "        text-align: right;\n",
       "    }\n",
       "</style>\n",
       "<table border=\"1\" class=\"dataframe\">\n",
       "  <thead>\n",
       "    <tr style=\"text-align: right;\">\n",
       "      <th></th>\n",
       "      <th>descripcion</th>\n",
       "      <th>edad</th>\n",
       "      <th>estado_estudio</th>\n",
       "      <th>idaviso</th>\n",
       "      <th>idpostulante</th>\n",
       "      <th>nivel_laboral</th>\n",
       "      <th>nombre_area</th>\n",
       "      <th>nombre_estudio</th>\n",
       "      <th>postulado</th>\n",
       "      <th>sexo</th>\n",
       "      <th>tipo_full</th>\n",
       "      <th>tipo_otro</th>\n",
       "      <th>tipo_part</th>\n",
       "      <th>titulo</th>\n",
       "    </tr>\n",
       "  </thead>\n",
       "  <tbody>\n",
       "    <tr>\n",
       "      <th>922238</th>\n",
       "      <td>[('stock', 6), ('control', 5), ('costos', 4), ...</td>\n",
       "      <td>8Ql1lR</td>\n",
       "      <td>En Curso</td>\n",
       "      <td>1112380006</td>\n",
       "      <td>8Ql1lR</td>\n",
       "      <td>Senior / Semi-Senior</td>\n",
       "      <td>Contabilidad</td>\n",
       "      <td>Posgrado</td>\n",
       "      <td>False</td>\n",
       "      <td>FEM</td>\n",
       "      <td>True</td>\n",
       "      <td>False</td>\n",
       "      <td>False</td>\n",
       "      <td>[('analista', 1), ('control', 1), ('gestion', ...</td>\n",
       "    </tr>\n",
       "    <tr>\n",
       "      <th>248392</th>\n",
       "      <td>[('tramites', 3), ('control', 2), ('docentes',...</td>\n",
       "      <td>YOzOOJ</td>\n",
       "      <td>Graduado</td>\n",
       "      <td>1112389521</td>\n",
       "      <td>YOzOOJ</td>\n",
       "      <td>Junior</td>\n",
       "      <td>Administración</td>\n",
       "      <td>Universitario</td>\n",
       "      <td>True</td>\n",
       "      <td>FEM</td>\n",
       "      <td>True</td>\n",
       "      <td>False</td>\n",
       "      <td>False</td>\n",
       "      <td>[('administrativo', 1), ('rectorado', 1), ('un...</td>\n",
       "    </tr>\n",
       "    <tr>\n",
       "      <th>1780800</th>\n",
       "      <td>NaN</td>\n",
       "      <td>QNrz3ON</td>\n",
       "      <td>Graduado</td>\n",
       "      <td>1112311768</td>\n",
       "      <td>QNrz3ON</td>\n",
       "      <td>NaN</td>\n",
       "      <td>NaN</td>\n",
       "      <td>Secundario</td>\n",
       "      <td>True</td>\n",
       "      <td>MASC</td>\n",
       "      <td>NaN</td>\n",
       "      <td>NaN</td>\n",
       "      <td>NaN</td>\n",
       "      <td>NaN</td>\n",
       "    </tr>\n",
       "    <tr>\n",
       "      <th>3048287</th>\n",
       "      <td>[('atencion', 2), ('cliente', 2), ('trabajo', ...</td>\n",
       "      <td>X9lxMkd</td>\n",
       "      <td>Abandonado</td>\n",
       "      <td>1112414466</td>\n",
       "      <td>X9lxMkd</td>\n",
       "      <td>Senior / Semi-Senior</td>\n",
       "      <td>Call Center</td>\n",
       "      <td>Universitario</td>\n",
       "      <td>True</td>\n",
       "      <td>FEM</td>\n",
       "      <td>False</td>\n",
       "      <td>False</td>\n",
       "      <td>True</td>\n",
       "      <td>[('operador', 1), ('call', 1), ('center', 1)]</td>\n",
       "    </tr>\n",
       "    <tr>\n",
       "      <th>1140779</th>\n",
       "      <td>[('trabajo', 4), ('proveedores', 3), ('excluye...</td>\n",
       "      <td>5mdAqoN</td>\n",
       "      <td>En Curso</td>\n",
       "      <td>1112368188</td>\n",
       "      <td>5mdAqoN</td>\n",
       "      <td>Junior</td>\n",
       "      <td>Tesorería</td>\n",
       "      <td>Universitario</td>\n",
       "      <td>False</td>\n",
       "      <td>FEM</td>\n",
       "      <td>True</td>\n",
       "      <td>False</td>\n",
       "      <td>False</td>\n",
       "      <td>[('analista', 1), ('cuentas', 1), ('pagar', 1)...</td>\n",
       "    </tr>\n",
       "    <tr>\n",
       "      <th>6161040</th>\n",
       "      <td>[('analista', 2), ('hcm', 2), ('empresa', 2), ...</td>\n",
       "      <td>EzOG0W9</td>\n",
       "      <td>Graduado</td>\n",
       "      <td>1112383753</td>\n",
       "      <td>EzOG0W9</td>\n",
       "      <td>Senior / Semi-Senior</td>\n",
       "      <td>Tecnologia / Sistemas</td>\n",
       "      <td>Secundario</td>\n",
       "      <td>False</td>\n",
       "      <td>FEM</td>\n",
       "      <td>True</td>\n",
       "      <td>False</td>\n",
       "      <td>False</td>\n",
       "      <td>[('analista', 1), ('funcional', 1), ('sap', 1)...</td>\n",
       "    </tr>\n",
       "    <tr>\n",
       "      <th>4360301</th>\n",
       "      <td>[('and', 15), ('of', 12), ('the', 12), ('to', ...</td>\n",
       "      <td>8MBAQ2z</td>\n",
       "      <td>En Curso</td>\n",
       "      <td>1112444015</td>\n",
       "      <td>8MBAQ2z</td>\n",
       "      <td>Jefe / Supervisor / Responsable</td>\n",
       "      <td>Finanzas</td>\n",
       "      <td>Universitario</td>\n",
       "      <td>False</td>\n",
       "      <td>FEM</td>\n",
       "      <td>False</td>\n",
       "      <td>True</td>\n",
       "      <td>False</td>\n",
       "      <td>[('vp', 1), ('of', 1), ('finance', 1), ('$', 1...</td>\n",
       "    </tr>\n",
       "    <tr>\n",
       "      <th>1203537</th>\n",
       "      <td>[('activo', 2), ('contact', 2), ('center', 2),...</td>\n",
       "      <td>1eJQKj</td>\n",
       "      <td>Graduado</td>\n",
       "      <td>1112432931</td>\n",
       "      <td>1eJQKj</td>\n",
       "      <td>Senior / Semi-Senior</td>\n",
       "      <td>Telemarketing</td>\n",
       "      <td>Posgrado</td>\n",
       "      <td>False</td>\n",
       "      <td>MASC</td>\n",
       "      <td>False</td>\n",
       "      <td>False</td>\n",
       "      <td>True</td>\n",
       "      <td>[('asesores', 1), ('ventas', 1), ('telefonicas...</td>\n",
       "    </tr>\n",
       "    <tr>\n",
       "      <th>3529161</th>\n",
       "      <td>[('importante', 1), ('taller', 1), ('electrici...</td>\n",
       "      <td>eGvPop</td>\n",
       "      <td>Abandonado</td>\n",
       "      <td>1112401027</td>\n",
       "      <td>eGvPop</td>\n",
       "      <td>Senior / Semi-Senior</td>\n",
       "      <td>Servicios</td>\n",
       "      <td>Universitario</td>\n",
       "      <td>False</td>\n",
       "      <td>FEM</td>\n",
       "      <td>True</td>\n",
       "      <td>False</td>\n",
       "      <td>False</td>\n",
       "      <td>[('electricidad', 1), ('automotor', 1)]</td>\n",
       "    </tr>\n",
       "    <tr>\n",
       "      <th>1500793</th>\n",
       "      <td>[('nivel', 4), ('vicente', 2), ('lopez', 2), (...</td>\n",
       "      <td>VNJz1J2</td>\n",
       "      <td>En Curso</td>\n",
       "      <td>1112350139</td>\n",
       "      <td>VNJz1J2</td>\n",
       "      <td>Senior / Semi-Senior</td>\n",
       "      <td>Recepcionista</td>\n",
       "      <td>Universitario</td>\n",
       "      <td>False</td>\n",
       "      <td>FEM</td>\n",
       "      <td>True</td>\n",
       "      <td>False</td>\n",
       "      <td>False</td>\n",
       "      <td>[('recepcionista', 1), ('administrativa', 1)]</td>\n",
       "    </tr>\n",
       "    <tr>\n",
       "      <th>4620285</th>\n",
       "      <td>[('planta', 2), ('berazategui', 2), ('mejoras'...</td>\n",
       "      <td>Z0LM28</td>\n",
       "      <td>Graduado</td>\n",
       "      <td>1112269971</td>\n",
       "      <td>Z0LM28</td>\n",
       "      <td>Jefe / Supervisor / Responsable</td>\n",
       "      <td>Producción</td>\n",
       "      <td>Posgrado</td>\n",
       "      <td>False</td>\n",
       "      <td>FEM</td>\n",
       "      <td>True</td>\n",
       "      <td>False</td>\n",
       "      <td>False</td>\n",
       "      <td>[('supervisor', 1), ('planta', 1), ('productiv...</td>\n",
       "    </tr>\n",
       "    <tr>\n",
       "      <th>1492356</th>\n",
       "      <td>[('cajas', 2), ('busqueda', 1), ('supervisor',...</td>\n",
       "      <td>rmPlXK9</td>\n",
       "      <td>Graduado</td>\n",
       "      <td>1111590903</td>\n",
       "      <td>rmPlXK9</td>\n",
       "      <td>Senior / Semi-Senior</td>\n",
       "      <td>Tesorería</td>\n",
       "      <td>Secundario</td>\n",
       "      <td>False</td>\n",
       "      <td>MASC</td>\n",
       "      <td>True</td>\n",
       "      <td>False</td>\n",
       "      <td>False</td>\n",
       "      <td>[('supervisor', 1), ('linea', 1), ('cajas', 1)]</td>\n",
       "    </tr>\n",
       "    <tr>\n",
       "      <th>4073414</th>\n",
       "      <td>[('negocio', 5), ('desarrollo', 3), ('ideas', ...</td>\n",
       "      <td>ZDaQZz8</td>\n",
       "      <td>En Curso</td>\n",
       "      <td>1112357884</td>\n",
       "      <td>ZDaQZz8</td>\n",
       "      <td>Junior</td>\n",
       "      <td>Desarrollo de Negocios</td>\n",
       "      <td>Master</td>\n",
       "      <td>True</td>\n",
       "      <td>MASC</td>\n",
       "      <td>True</td>\n",
       "      <td>False</td>\n",
       "      <td>False</td>\n",
       "      <td>[('start', 1), ('up', 1), ('engineer', 1)]</td>\n",
       "    </tr>\n",
       "    <tr>\n",
       "      <th>6198382</th>\n",
       "      <td>[('adecco', 4), ('experiencia', 4), ('cliente'...</td>\n",
       "      <td>X9keXvb</td>\n",
       "      <td>Graduado</td>\n",
       "      <td>1112378679</td>\n",
       "      <td>X9keXvb</td>\n",
       "      <td>Junior</td>\n",
       "      <td>Administración</td>\n",
       "      <td>Universitario</td>\n",
       "      <td>True</td>\n",
       "      <td>MASC</td>\n",
       "      <td>True</td>\n",
       "      <td>False</td>\n",
       "      <td>False</td>\n",
       "      <td>[('facility', 1), ('manager', 1), ('homeoffice...</td>\n",
       "    </tr>\n",
       "    <tr>\n",
       "      <th>828793</th>\n",
       "      <td>[('manejo', 2), ('experiencia', 2), ('busca', ...</td>\n",
       "      <td>GNeDbzw</td>\n",
       "      <td>Graduado</td>\n",
       "      <td>1112365571</td>\n",
       "      <td>GNeDbzw</td>\n",
       "      <td>Otro</td>\n",
       "      <td>Administración</td>\n",
       "      <td>Universitario</td>\n",
       "      <td>False</td>\n",
       "      <td>MASC</td>\n",
       "      <td>False</td>\n",
       "      <td>False</td>\n",
       "      <td>True</td>\n",
       "      <td>[('administrativo', 1), ('secretaria', 1), ('c...</td>\n",
       "    </tr>\n",
       "    <tr>\n",
       "      <th>1134026</th>\n",
       "      <td>[('publico', 2), ('atencion', 2), ('importante...</td>\n",
       "      <td>wVXOkmZ</td>\n",
       "      <td>Graduado</td>\n",
       "      <td>1112280081</td>\n",
       "      <td>wVXOkmZ</td>\n",
       "      <td>Senior / Semi-Senior</td>\n",
       "      <td>Atención al Cliente</td>\n",
       "      <td>Universitario</td>\n",
       "      <td>True</td>\n",
       "      <td>FEM</td>\n",
       "      <td>True</td>\n",
       "      <td>False</td>\n",
       "      <td>False</td>\n",
       "      <td>[('atencion', 1), ('biblioteca', 1)]</td>\n",
       "    </tr>\n",
       "    <tr>\n",
       "      <th>5897107</th>\n",
       "      <td>[('bachero', 2), ('importante', 1), ('cadena',...</td>\n",
       "      <td>VNkxxXE</td>\n",
       "      <td>Graduado</td>\n",
       "      <td>1111408355</td>\n",
       "      <td>VNkxxXE</td>\n",
       "      <td>Senior / Semi-Senior</td>\n",
       "      <td>Gastronomia</td>\n",
       "      <td>Secundario</td>\n",
       "      <td>False</td>\n",
       "      <td>FEM</td>\n",
       "      <td>True</td>\n",
       "      <td>False</td>\n",
       "      <td>False</td>\n",
       "      <td>[('bachero', 1), ('zona', 1), ('acassuso', 1)]</td>\n",
       "    </tr>\n",
       "    <tr>\n",
       "      <th>2069849</th>\n",
       "      <td>[('importante', 1), ('empresa', 1), ('busqueda...</td>\n",
       "      <td>EzOJ81o</td>\n",
       "      <td>Graduado</td>\n",
       "      <td>1112374384</td>\n",
       "      <td>EzOJ81o</td>\n",
       "      <td>Senior / Semi-Senior</td>\n",
       "      <td>Administración</td>\n",
       "      <td>Universitario</td>\n",
       "      <td>True</td>\n",
       "      <td>MASC</td>\n",
       "      <td>True</td>\n",
       "      <td>False</td>\n",
       "      <td>False</td>\n",
       "      <td>[('administrativo', 1), ('comercial', 1), ('zo...</td>\n",
       "    </tr>\n",
       "    <tr>\n",
       "      <th>5637442</th>\n",
       "      <td>[('requisitos', 2), ('san', 2), ('busqueda', 1...</td>\n",
       "      <td>96ZrKVZ</td>\n",
       "      <td>Graduado</td>\n",
       "      <td>1112363711</td>\n",
       "      <td>96ZrKVZ</td>\n",
       "      <td>Otro</td>\n",
       "      <td>Tesorería</td>\n",
       "      <td>Secundario</td>\n",
       "      <td>True</td>\n",
       "      <td>FEM</td>\n",
       "      <td>False</td>\n",
       "      <td>False</td>\n",
       "      <td>True</td>\n",
       "      <td>[('cajero', 1), ('as', 1), ('zona', 1), ('gba'...</td>\n",
       "    </tr>\n",
       "    <tr>\n",
       "      <th>4633671</th>\n",
       "      <td>[('emergencias', 2), ('titulo', 2), ('enfermer...</td>\n",
       "      <td>pzekYbw</td>\n",
       "      <td>En Curso</td>\n",
       "      <td>1112460174</td>\n",
       "      <td>pzekYbw</td>\n",
       "      <td>Senior / Semi-Senior</td>\n",
       "      <td>Transporte</td>\n",
       "      <td>Universitario</td>\n",
       "      <td>False</td>\n",
       "      <td>FEM</td>\n",
       "      <td>True</td>\n",
       "      <td>False</td>\n",
       "      <td>False</td>\n",
       "      <td>[('chofer', 1), ('enfermero', 1)]</td>\n",
       "    </tr>\n",
       "  </tbody>\n",
       "</table>\n",
       "</div>"
      ],
      "text/plain": [
       "                                               descripcion     edad  \\\n",
       "922238   [('stock', 6), ('control', 5), ('costos', 4), ...   8Ql1lR   \n",
       "248392   [('tramites', 3), ('control', 2), ('docentes',...   YOzOOJ   \n",
       "1780800                                                NaN  QNrz3ON   \n",
       "3048287  [('atencion', 2), ('cliente', 2), ('trabajo', ...  X9lxMkd   \n",
       "1140779  [('trabajo', 4), ('proveedores', 3), ('excluye...  5mdAqoN   \n",
       "6161040  [('analista', 2), ('hcm', 2), ('empresa', 2), ...  EzOG0W9   \n",
       "4360301  [('and', 15), ('of', 12), ('the', 12), ('to', ...  8MBAQ2z   \n",
       "1203537  [('activo', 2), ('contact', 2), ('center', 2),...   1eJQKj   \n",
       "3529161  [('importante', 1), ('taller', 1), ('electrici...   eGvPop   \n",
       "1500793  [('nivel', 4), ('vicente', 2), ('lopez', 2), (...  VNJz1J2   \n",
       "4620285  [('planta', 2), ('berazategui', 2), ('mejoras'...   Z0LM28   \n",
       "1492356  [('cajas', 2), ('busqueda', 1), ('supervisor',...  rmPlXK9   \n",
       "4073414  [('negocio', 5), ('desarrollo', 3), ('ideas', ...  ZDaQZz8   \n",
       "6198382  [('adecco', 4), ('experiencia', 4), ('cliente'...  X9keXvb   \n",
       "828793   [('manejo', 2), ('experiencia', 2), ('busca', ...  GNeDbzw   \n",
       "1134026  [('publico', 2), ('atencion', 2), ('importante...  wVXOkmZ   \n",
       "5897107  [('bachero', 2), ('importante', 1), ('cadena',...  VNkxxXE   \n",
       "2069849  [('importante', 1), ('empresa', 1), ('busqueda...  EzOJ81o   \n",
       "5637442  [('requisitos', 2), ('san', 2), ('busqueda', 1...  96ZrKVZ   \n",
       "4633671  [('emergencias', 2), ('titulo', 2), ('enfermer...  pzekYbw   \n",
       "\n",
       "        estado_estudio     idaviso idpostulante  \\\n",
       "922238        En Curso  1112380006       8Ql1lR   \n",
       "248392        Graduado  1112389521       YOzOOJ   \n",
       "1780800       Graduado  1112311768      QNrz3ON   \n",
       "3048287     Abandonado  1112414466      X9lxMkd   \n",
       "1140779       En Curso  1112368188      5mdAqoN   \n",
       "6161040       Graduado  1112383753      EzOG0W9   \n",
       "4360301       En Curso  1112444015      8MBAQ2z   \n",
       "1203537       Graduado  1112432931       1eJQKj   \n",
       "3529161     Abandonado  1112401027       eGvPop   \n",
       "1500793       En Curso  1112350139      VNJz1J2   \n",
       "4620285       Graduado  1112269971       Z0LM28   \n",
       "1492356       Graduado  1111590903      rmPlXK9   \n",
       "4073414       En Curso  1112357884      ZDaQZz8   \n",
       "6198382       Graduado  1112378679      X9keXvb   \n",
       "828793        Graduado  1112365571      GNeDbzw   \n",
       "1134026       Graduado  1112280081      wVXOkmZ   \n",
       "5897107       Graduado  1111408355      VNkxxXE   \n",
       "2069849       Graduado  1112374384      EzOJ81o   \n",
       "5637442       Graduado  1112363711      96ZrKVZ   \n",
       "4633671       En Curso  1112460174      pzekYbw   \n",
       "\n",
       "                           nivel_laboral             nombre_area  \\\n",
       "922238              Senior / Semi-Senior            Contabilidad   \n",
       "248392                            Junior          Administración   \n",
       "1780800                              NaN                     NaN   \n",
       "3048287             Senior / Semi-Senior             Call Center   \n",
       "1140779                           Junior               Tesorería   \n",
       "6161040             Senior / Semi-Senior   Tecnologia / Sistemas   \n",
       "4360301  Jefe / Supervisor / Responsable                Finanzas   \n",
       "1203537             Senior / Semi-Senior           Telemarketing   \n",
       "3529161             Senior / Semi-Senior               Servicios   \n",
       "1500793             Senior / Semi-Senior           Recepcionista   \n",
       "4620285  Jefe / Supervisor / Responsable              Producción   \n",
       "1492356             Senior / Semi-Senior               Tesorería   \n",
       "4073414                           Junior  Desarrollo de Negocios   \n",
       "6198382                           Junior          Administración   \n",
       "828793                              Otro          Administración   \n",
       "1134026             Senior / Semi-Senior     Atención al Cliente   \n",
       "5897107             Senior / Semi-Senior             Gastronomia   \n",
       "2069849             Senior / Semi-Senior          Administración   \n",
       "5637442                             Otro               Tesorería   \n",
       "4633671             Senior / Semi-Senior              Transporte   \n",
       "\n",
       "        nombre_estudio  postulado  sexo tipo_full tipo_otro tipo_part  \\\n",
       "922238        Posgrado      False   FEM      True     False     False   \n",
       "248392   Universitario       True   FEM      True     False     False   \n",
       "1780800     Secundario       True  MASC       NaN       NaN       NaN   \n",
       "3048287  Universitario       True   FEM     False     False      True   \n",
       "1140779  Universitario      False   FEM      True     False     False   \n",
       "6161040     Secundario      False   FEM      True     False     False   \n",
       "4360301  Universitario      False   FEM     False      True     False   \n",
       "1203537       Posgrado      False  MASC     False     False      True   \n",
       "3529161  Universitario      False   FEM      True     False     False   \n",
       "1500793  Universitario      False   FEM      True     False     False   \n",
       "4620285       Posgrado      False   FEM      True     False     False   \n",
       "1492356     Secundario      False  MASC      True     False     False   \n",
       "4073414         Master       True  MASC      True     False     False   \n",
       "6198382  Universitario       True  MASC      True     False     False   \n",
       "828793   Universitario      False  MASC     False     False      True   \n",
       "1134026  Universitario       True   FEM      True     False     False   \n",
       "5897107     Secundario      False   FEM      True     False     False   \n",
       "2069849  Universitario       True  MASC      True     False     False   \n",
       "5637442     Secundario       True   FEM     False     False      True   \n",
       "4633671  Universitario      False   FEM      True     False     False   \n",
       "\n",
       "                                                    titulo  \n",
       "922238   [('analista', 1), ('control', 1), ('gestion', ...  \n",
       "248392   [('administrativo', 1), ('rectorado', 1), ('un...  \n",
       "1780800                                                NaN  \n",
       "3048287      [('operador', 1), ('call', 1), ('center', 1)]  \n",
       "1140779  [('analista', 1), ('cuentas', 1), ('pagar', 1)...  \n",
       "6161040  [('analista', 1), ('funcional', 1), ('sap', 1)...  \n",
       "4360301  [('vp', 1), ('of', 1), ('finance', 1), ('$', 1...  \n",
       "1203537  [('asesores', 1), ('ventas', 1), ('telefonicas...  \n",
       "3529161            [('electricidad', 1), ('automotor', 1)]  \n",
       "1500793      [('recepcionista', 1), ('administrativa', 1)]  \n",
       "4620285  [('supervisor', 1), ('planta', 1), ('productiv...  \n",
       "1492356    [('supervisor', 1), ('linea', 1), ('cajas', 1)]  \n",
       "4073414         [('start', 1), ('up', 1), ('engineer', 1)]  \n",
       "6198382  [('facility', 1), ('manager', 1), ('homeoffice...  \n",
       "828793   [('administrativo', 1), ('secretaria', 1), ('c...  \n",
       "1134026               [('atencion', 1), ('biblioteca', 1)]  \n",
       "5897107     [('bachero', 1), ('zona', 1), ('acassuso', 1)]  \n",
       "2069849  [('administrativo', 1), ('comercial', 1), ('zo...  \n",
       "5637442  [('cajero', 1), ('as', 1), ('zona', 1), ('gba'...  \n",
       "4633671                  [('chofer', 1), ('enfermero', 1)]  "
      ]
     },
     "execution_count": 188,
     "metadata": {},
     "output_type": "execute_result"
    }
   ],
   "source": [
    "training.sample(20)"
   ]
  },
  {
   "cell_type": "code",
   "execution_count": 189,
   "metadata": {},
   "outputs": [],
   "source": [
    "training.to_csv('../data/training.csv', index=False, sep=',', encoding='utf-8')"
   ]
  },
  {
   "cell_type": "code",
   "execution_count": 191,
   "metadata": {},
   "outputs": [
    {
     "name": "stdout",
     "output_type": "stream",
     "text": [
      "6317070\n",
      "6496985\n"
     ]
    }
   ],
   "source": [
    "print(len(training[training['postulado'] == True]))\n",
    "print(len(training[training['postulado'] == False]))"
   ]
  },
  {
   "cell_type": "code",
   "execution_count": null,
   "metadata": {},
   "outputs": [],
   "source": []
  },
  {
   "cell_type": "code",
   "execution_count": null,
   "metadata": {},
   "outputs": [],
   "source": []
  },
  {
   "cell_type": "code",
   "execution_count": null,
   "metadata": {},
   "outputs": [],
   "source": []
  },
  {
   "cell_type": "code",
   "execution_count": null,
   "metadata": {},
   "outputs": [],
   "source": []
  },
  {
   "cell_type": "markdown",
   "metadata": {},
   "source": [
    "# De aca para abajo son los datos correspondientes a lo que hay que predecir, hay que aplicarles las mismas transformaciones que le aplicamos a los de entrenamiento. SIN TERMINAR!"
   ]
  },
  {
   "cell_type": "markdown",
   "metadata": {},
   "source": [
    "# 338 faltantes"
   ]
  },
  {
   "cell_type": "code",
   "execution_count": 70,
   "metadata": {},
   "outputs": [],
   "source": [
    "# Estos registros solo aparecen en el set a predecir\n",
    "avisos_detalle_338_faltantes = pd.read_csv('../data/datos_navent_fiuba/338_faltantes/fiuba_6_avisos_detalle_missing_nivel_laboral.csv', encoding='utf-8')"
   ]
  },
  {
   "cell_type": "code",
   "execution_count": 71,
   "metadata": {},
   "outputs": [
    {
     "name": "stdout",
     "output_type": "stream",
     "text": [
      "Longitud unique:  338\n"
     ]
    }
   ],
   "source": [
    "# Eliminamos los duplicados. En este caso se considera duplicado si matchean estas columnas (por no matchear todas)\n",
    "avisos_detalle_338_faltantes.drop_duplicates(['idaviso', 'titulo', 'descripcion', 'nombre_zona', 'ciudad', 'tipo_de_trabajo', 'nivel_laboral'], keep='last', inplace=True)\n",
    "print('Longitud unique: ', len(avisos_detalle_338_faltantes))"
   ]
  },
  {
   "cell_type": "code",
   "execution_count": 72,
   "metadata": {},
   "outputs": [],
   "source": [
    "avisos_detalle_338_faltantes.drop(columns=['idpais','ciudad','mapacalle', 'nombre_zona'], inplace=True)"
   ]
  },
  {
   "cell_type": "code",
   "execution_count": 73,
   "metadata": {},
   "outputs": [
    {
     "data": {
      "text/html": [
       "<div>\n",
       "<style scoped>\n",
       "    .dataframe tbody tr th:only-of-type {\n",
       "        vertical-align: middle;\n",
       "    }\n",
       "\n",
       "    .dataframe tbody tr th {\n",
       "        vertical-align: top;\n",
       "    }\n",
       "\n",
       "    .dataframe thead th {\n",
       "        text-align: right;\n",
       "    }\n",
       "</style>\n",
       "<table border=\"1\" class=\"dataframe\">\n",
       "  <thead>\n",
       "    <tr style=\"text-align: right;\">\n",
       "      <th></th>\n",
       "      <th>idaviso</th>\n",
       "      <th>titulo</th>\n",
       "      <th>descripcion</th>\n",
       "      <th>tipo_de_trabajo</th>\n",
       "      <th>nivel_laboral</th>\n",
       "      <th>nombre_area</th>\n",
       "      <th>denominacion_empresa</th>\n",
       "    </tr>\n",
       "  </thead>\n",
       "  <tbody>\n",
       "    <tr>\n",
       "      <th>0</th>\n",
       "      <td>1001284385</td>\n",
       "      <td>Dejanos tu CV</td>\n",
       "      <td>&lt;p&gt;&lt;br /&gt;Si est&amp;aacute;s interesado en ser par...</td>\n",
       "      <td>Full-time</td>\n",
       "      <td>NaN</td>\n",
       "      <td>Otros</td>\n",
       "      <td>Establecimiento Las Marías</td>\n",
       "    </tr>\n",
       "  </tbody>\n",
       "</table>\n",
       "</div>"
      ],
      "text/plain": [
       "      idaviso         titulo  \\\n",
       "0  1001284385  Dejanos tu CV   \n",
       "\n",
       "                                         descripcion tipo_de_trabajo  \\\n",
       "0  <p><br />Si est&aacute;s interesado en ser par...       Full-time   \n",
       "\n",
       "  nivel_laboral nombre_area        denominacion_empresa  \n",
       "0           NaN       Otros  Establecimiento Las Marías  "
      ]
     },
     "execution_count": 73,
     "metadata": {},
     "output_type": "execute_result"
    }
   ],
   "source": [
    "avisos_detalle_338_faltantes.head(1)"
   ]
  },
  {
   "cell_type": "markdown",
   "metadata": {},
   "source": [
    "# Datos desde 15 abril"
   ]
  },
  {
   "cell_type": "code",
   "execution_count": 74,
   "metadata": {},
   "outputs": [],
   "source": [
    "postulantes_educacion_desde_15_04 = pd.read_csv('../data/datos_navent_fiuba/fiuba_desde_15_abril/Fiuba desde 15 Abril/fiuba_1_postulantes_educacion.csv', encoding='utf-8')\n",
    "postulantes_genero_edad_desde_15_04 = pd.read_csv('../data/datos_navent_fiuba/fiuba_desde_15_abril/Fiuba desde 15 Abril/fiuba_2_postulantes_genero_y_edad.csv', encoding='utf-8')\n",
    "vistas_desde_15_04 = pd.read_csv('../data/datos_navent_fiuba/fiuba_desde_15_abril/Fiuba desde 15 Abril/fiuba_3_vistas.csv', encoding='utf-8')\n",
    "avisos_detalle_desde_15_04 = pd.read_csv('../data/datos_navent_fiuba/fiuba_desde_15_abril/Fiuba desde 15 Abril/fiuba_6_avisos_detalle.csv', encoding='utf-8')"
   ]
  },
  {
   "cell_type": "markdown",
   "metadata": {},
   "source": [
    "### postulantes_educacion"
   ]
  },
  {
   "cell_type": "code",
   "execution_count": 75,
   "metadata": {},
   "outputs": [
    {
     "name": "stdout",
     "output_type": "stream",
     "text": [
      "Longitud unique:  397509\n"
     ]
    }
   ],
   "source": [
    "# Eliminamos los duplicados. En este caso se considera duplicado si estas 3 columnas matchean\n",
    "postulantes_educacion_desde_15_04.drop_duplicates(['idpostulante', 'nombre', 'estado'], keep='last', inplace=True)\n",
    "print('Longitud unique: ', len(postulantes_educacion_desde_15_04))"
   ]
  },
  {
   "cell_type": "code",
   "execution_count": 76,
   "metadata": {},
   "outputs": [
    {
     "data": {
      "text/html": [
       "<div>\n",
       "<style scoped>\n",
       "    .dataframe tbody tr th:only-of-type {\n",
       "        vertical-align: middle;\n",
       "    }\n",
       "\n",
       "    .dataframe tbody tr th {\n",
       "        vertical-align: top;\n",
       "    }\n",
       "\n",
       "    .dataframe thead th {\n",
       "        text-align: right;\n",
       "    }\n",
       "</style>\n",
       "<table border=\"1\" class=\"dataframe\">\n",
       "  <thead>\n",
       "    <tr style=\"text-align: right;\">\n",
       "      <th></th>\n",
       "      <th>idpostulante</th>\n",
       "      <th>nombre_estudio</th>\n",
       "      <th>estado_estudio</th>\n",
       "    </tr>\n",
       "  </thead>\n",
       "  <tbody>\n",
       "    <tr>\n",
       "      <th>0</th>\n",
       "      <td>YZP</td>\n",
       "      <td>Master</td>\n",
       "      <td>En Curso</td>\n",
       "    </tr>\n",
       "  </tbody>\n",
       "</table>\n",
       "</div>"
      ],
      "text/plain": [
       "  idpostulante nombre_estudio estado_estudio\n",
       "0          YZP         Master       En Curso"
      ]
     },
     "execution_count": 76,
     "metadata": {},
     "output_type": "execute_result"
    }
   ],
   "source": [
    "postulantes_educacion_desde_15_04.rename(columns={'nombre':'nombre_estudio','estado':'estado_estudio'}, inplace=True)\n",
    "postulantes_educacion_desde_15_04.head(1)"
   ]
  },
  {
   "cell_type": "markdown",
   "metadata": {},
   "source": [
    "### postulantes_genero_edad"
   ]
  },
  {
   "cell_type": "code",
   "execution_count": 77,
   "metadata": {},
   "outputs": [
    {
     "name": "stdout",
     "output_type": "stream",
     "text": [
      "Longitud unique:  281385\n"
     ]
    }
   ],
   "source": [
    "# Eliminamos los duplicados. En este caso se considera duplicado si el idpostulante matchea\n",
    "postulantes_genero_edad_desde_15_04.drop_duplicates(['idpostulante'], keep='last', inplace=True)\n",
    "print('Longitud unique: ', len(postulantes_genero_edad_desde_15_04))"
   ]
  },
  {
   "cell_type": "code",
   "execution_count": 78,
   "metadata": {},
   "outputs": [
    {
     "data": {
      "text/html": [
       "<div>\n",
       "<style scoped>\n",
       "    .dataframe tbody tr th:only-of-type {\n",
       "        vertical-align: middle;\n",
       "    }\n",
       "\n",
       "    .dataframe tbody tr th {\n",
       "        vertical-align: top;\n",
       "    }\n",
       "\n",
       "    .dataframe thead th {\n",
       "        text-align: right;\n",
       "    }\n",
       "</style>\n",
       "<table border=\"1\" class=\"dataframe\">\n",
       "  <thead>\n",
       "    <tr style=\"text-align: right;\">\n",
       "      <th></th>\n",
       "      <th>idpostulante</th>\n",
       "      <th>fechanacimiento</th>\n",
       "      <th>sexo</th>\n",
       "    </tr>\n",
       "  </thead>\n",
       "  <tbody>\n",
       "    <tr>\n",
       "      <th>0</th>\n",
       "      <td>6MM</td>\n",
       "      <td>1985-01-01</td>\n",
       "      <td>MASC</td>\n",
       "    </tr>\n",
       "  </tbody>\n",
       "</table>\n",
       "</div>"
      ],
      "text/plain": [
       "  idpostulante fechanacimiento  sexo\n",
       "0          6MM      1985-01-01  MASC"
      ]
     },
     "execution_count": 78,
     "metadata": {},
     "output_type": "execute_result"
    }
   ],
   "source": [
    "postulantes_genero_edad_desde_15_04.head(1)"
   ]
  },
  {
   "cell_type": "markdown",
   "metadata": {},
   "source": [
    "### vistas"
   ]
  },
  {
   "cell_type": "code",
   "execution_count": 79,
   "metadata": {},
   "outputs": [
    {
     "name": "stdout",
     "output_type": "stream",
     "text": [
      "Longitud unique:  10416104\n"
     ]
    }
   ],
   "source": [
    "# Eliminamos los duplicados. En este caso se considera duplicado si estas 3 columnas matchean\n",
    "vistas_desde_15_04.drop_duplicates(['idaviso', 'timestamp', 'idpostulante'], keep='last', inplace=True)\n",
    "print('Longitud unique: ', len(vistas_desde_15_04))\n",
    "vistas_desde_15_04.rename(columns={'idAviso':'idaviso','timestamp':'fechavista'}, inplace=True)"
   ]
  },
  {
   "cell_type": "code",
   "execution_count": 80,
   "metadata": {},
   "outputs": [
    {
     "data": {
      "text/html": [
       "<div>\n",
       "<style scoped>\n",
       "    .dataframe tbody tr th:only-of-type {\n",
       "        vertical-align: middle;\n",
       "    }\n",
       "\n",
       "    .dataframe tbody tr th {\n",
       "        vertical-align: top;\n",
       "    }\n",
       "\n",
       "    .dataframe thead th {\n",
       "        text-align: right;\n",
       "    }\n",
       "</style>\n",
       "<table border=\"1\" class=\"dataframe\">\n",
       "  <thead>\n",
       "    <tr style=\"text-align: right;\">\n",
       "      <th></th>\n",
       "      <th>idaviso</th>\n",
       "      <th>fechavista</th>\n",
       "      <th>idpostulante</th>\n",
       "    </tr>\n",
       "  </thead>\n",
       "  <tbody>\n",
       "    <tr>\n",
       "      <th>0</th>\n",
       "      <td>1808556</td>\n",
       "      <td>2018-04-30T19:55:37.990-0400</td>\n",
       "      <td>6kDNzl</td>\n",
       "    </tr>\n",
       "  </tbody>\n",
       "</table>\n",
       "</div>"
      ],
      "text/plain": [
       "   idaviso                    fechavista idpostulante\n",
       "0  1808556  2018-04-30T19:55:37.990-0400       6kDNzl"
      ]
     },
     "execution_count": 80,
     "metadata": {},
     "output_type": "execute_result"
    }
   ],
   "source": [
    "vistas_desde_15_04.head(1)"
   ]
  },
  {
   "cell_type": "markdown",
   "metadata": {},
   "source": [
    "### avisos_detalle "
   ]
  },
  {
   "cell_type": "code",
   "execution_count": 81,
   "metadata": {},
   "outputs": [
    {
     "name": "stdout",
     "output_type": "stream",
     "text": [
      "Longitud unique:  13798\n"
     ]
    }
   ],
   "source": [
    "# Eliminamos los duplicados. En este caso se considera duplicado si matchean estas columnas (por no matchear todas)\n",
    "avisos_detalle_desde_15_04.drop_duplicates(['idaviso', 'titulo', 'descripcion', 'nombre_zona', 'ciudad', 'tipo_de_trabajo', 'nivel_laboral'], keep='last', inplace=True)\n",
    "print('Longitud unique: ', len(avisos_detalle_desde_15_04))\n",
    "avisos_detalle_desde_15_04.drop(columns=['idpais','ciudad','mapacalle', 'nombre_zona'], inplace=True)"
   ]
  },
  {
   "cell_type": "raw",
   "metadata": {},
   "source": [
    "Eliminamos el html de la descripcion"
   ]
  },
  {
   "cell_type": "code",
   "execution_count": 82,
   "metadata": {},
   "outputs": [],
   "source": [
    "def clean_html(row):\n",
    "    clean_html_regex = re.compile('<.*?>')\n",
    "    row['descripcion'] = re.sub(clean_html_regex, '', row['descripcion'])\n",
    "    return row\n",
    "\n",
    "avisos_detalle_desde_15_04 = avisos_detalle_desde_15_04.apply(lambda row: clean_html(row), axis=1)"
   ]
  },
  {
   "cell_type": "code",
   "execution_count": 83,
   "metadata": {},
   "outputs": [
    {
     "data": {
      "text/html": [
       "<div>\n",
       "<style scoped>\n",
       "    .dataframe tbody tr th:only-of-type {\n",
       "        vertical-align: middle;\n",
       "    }\n",
       "\n",
       "    .dataframe tbody tr th {\n",
       "        vertical-align: top;\n",
       "    }\n",
       "\n",
       "    .dataframe thead th {\n",
       "        text-align: right;\n",
       "    }\n",
       "</style>\n",
       "<table border=\"1\" class=\"dataframe\">\n",
       "  <thead>\n",
       "    <tr style=\"text-align: right;\">\n",
       "      <th></th>\n",
       "      <th>idaviso</th>\n",
       "      <th>titulo</th>\n",
       "      <th>descripcion</th>\n",
       "      <th>tipo_de_trabajo</th>\n",
       "      <th>nivel_laboral</th>\n",
       "      <th>nombre_area</th>\n",
       "      <th>denominacion_empresa</th>\n",
       "    </tr>\n",
       "  </thead>\n",
       "  <tbody>\n",
       "    <tr>\n",
       "      <th>0</th>\n",
       "      <td>1573840</td>\n",
       "      <td>VENDEDORA/O</td>\n",
       "      <td>Nuestra Búsqueda se orienta a la incorporación...</td>\n",
       "      <td>Full-time</td>\n",
       "      <td>Otro</td>\n",
       "      <td>Ventas</td>\n",
       "      <td>RIBEIRO SUC. FLORES</td>\n",
       "    </tr>\n",
       "  </tbody>\n",
       "</table>\n",
       "</div>"
      ],
      "text/plain": [
       "   idaviso       titulo                                        descripcion  \\\n",
       "0  1573840  VENDEDORA/O  Nuestra Búsqueda se orienta a la incorporación...   \n",
       "\n",
       "  tipo_de_trabajo nivel_laboral nombre_area denominacion_empresa  \n",
       "0       Full-time          Otro      Ventas  RIBEIRO SUC. FLORES  "
      ]
     },
     "execution_count": 83,
     "metadata": {},
     "output_type": "execute_result"
    }
   ],
   "source": [
    "avisos_detalle_desde_15_04.head(1)"
   ]
  },
  {
   "cell_type": "markdown",
   "metadata": {},
   "source": [
    "## Juntamos los 338 registros que faltan con el set a predecir"
   ]
  },
  {
   "cell_type": "code",
   "execution_count": 84,
   "metadata": {},
   "outputs": [],
   "source": [
    "avisos_detalle_desde_15_04 = pd.concat([avisos_detalle_desde_15_04, avisos_detalle_338_faltantes])"
   ]
  },
  {
   "cell_type": "code",
   "execution_count": 85,
   "metadata": {},
   "outputs": [
    {
     "name": "stdout",
     "output_type": "stream",
     "text": [
      "14136\n"
     ]
    }
   ],
   "source": [
    "print(len(avisos_detalle_desde_15_04))"
   ]
  },
  {
   "cell_type": "markdown",
   "metadata": {},
   "source": [
    "## Set a predecir"
   ]
  },
  {
   "cell_type": "code",
   "execution_count": 86,
   "metadata": {},
   "outputs": [],
   "source": [
    "data_predecir = pd.read_csv('../data/test_final_100k.csv', encoding='utf-8')"
   ]
  }
 ],
 "metadata": {
  "kernelspec": {
   "display_name": "Python 3",
   "language": "python",
   "name": "python3"
  },
  "language_info": {
   "codemirror_mode": {
    "name": "ipython",
    "version": 3
   },
   "file_extension": ".py",
   "mimetype": "text/x-python",
   "name": "python",
   "nbconvert_exporter": "python",
   "pygments_lexer": "ipython3",
   "version": "3.6.4"
  }
 },
 "nbformat": 4,
 "nbformat_minor": 2
}
