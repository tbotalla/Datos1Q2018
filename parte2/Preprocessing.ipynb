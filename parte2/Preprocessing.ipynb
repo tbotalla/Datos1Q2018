{
 "cells": [
  {
   "cell_type": "code",
   "execution_count": 1,
   "metadata": {},
   "outputs": [],
   "source": [
    "import numpy as np \n",
    "import pandas as pd\n",
    "import datetime\n",
    "import calendar\n",
    "import matplotlib.pyplot as plt\n",
    "import seaborn as sns\n",
    "import re # regex\n",
    "from scipy.misc import imread\n",
    "from collections import Counter\n",
    "\n",
    "%matplotlib inline\n",
    "pd.set_option('display.max_columns', None)"
   ]
  },
  {
   "cell_type": "markdown",
   "metadata": {},
   "source": [
    "# Sets para entrenar"
   ]
  },
  {
   "cell_type": "markdown",
   "metadata": {},
   "source": [
    "## Datos del TP 1"
   ]
  },
  {
   "cell_type": "code",
   "execution_count": 7,
   "metadata": {},
   "outputs": [],
   "source": [
    "postulantes_educacion_orig = pd.read_csv('../data/datos_navent_fiuba/fiuba_1_postulantes_educacion.csv', encoding='utf-8')\n",
    "postulantes_genero_edad_orig = pd.read_csv('../data/datos_navent_fiuba/fiuba_2_postulantes_genero_y_edad.csv', encoding='utf-8')\n",
    "vistas_orig = pd.read_csv('../data/datos_navent_fiuba/fiuba_3_vistas.csv', encoding='utf-8')\n",
    "postulaciones_orig = pd.read_csv('../data/datos_navent_fiuba/fiuba_4_postulaciones.csv', encoding='utf-8')\n",
    "avisos_online_orig = pd.read_csv('../data/datos_navent_fiuba/fiuba_5_avisos_online.csv', encoding='utf-8')\n",
    "avisos_detalle_orig = pd.read_csv('../data/datos_navent_fiuba/fiuba_6_avisos_detalle.csv', encoding='utf-8')"
   ]
  },
  {
   "cell_type": "markdown",
   "metadata": {},
   "source": [
    "## Datos hasta 15 abril"
   ]
  },
  {
   "cell_type": "code",
   "execution_count": 8,
   "metadata": {},
   "outputs": [],
   "source": [
    "postulantes_educacion_hasta_15_04 = pd.read_csv('../data/datos_navent_fiuba/fiuba_hasta_15_abril/entrega6/fiuba_1_postulantes_educacion.csv', encoding='utf-8')\n",
    "postulantes_genero_edad_hasta_15_04 = pd.read_csv('../data/datos_navent_fiuba/fiuba_hasta_15_abril/entrega6/fiuba_2_postulantes_genero_y_edad.csv', encoding='utf-8')\n",
    "vistas_hasta_15_04 = pd.read_csv('../data/datos_navent_fiuba/fiuba_hasta_15_abril/entrega6/fiuba_3_vistas.csv', encoding='utf-8')\n",
    "postulaciones_hasta_15_04 = pd.read_csv('../data/datos_navent_fiuba/fiuba_hasta_15_abril/entrega6/fiuba_4_postulaciones.csv', encoding='utf-8')\n",
    "avisos_online_hasta_15_04 = pd.read_csv('../data/datos_navent_fiuba/fiuba_hasta_15_abril/entrega6/fiuba_5_avisos_online.csv', encoding='utf-8')\n",
    "avisos_detalle_hasta_15_04 = pd.read_csv('../data/datos_navent_fiuba/fiuba_hasta_15_abril/entrega6/fiuba_6_avisos_detalle.csv', encoding='utf-8')"
   ]
  },
  {
   "cell_type": "markdown",
   "metadata": {},
   "source": [
    "# Sets para testear"
   ]
  },
  {
   "cell_type": "markdown",
   "metadata": {},
   "source": [
    "## Datos desde 15 abril"
   ]
  },
  {
   "cell_type": "code",
   "execution_count": 9,
   "metadata": {},
   "outputs": [],
   "source": [
    "postulantes_educacion_desde_15_04 = pd.read_csv('../data/datos_navent_fiuba/fiuba_desde_15_abril/Fiuba desde 15 Abril/fiuba_1_postulantes_educacion.csv', encoding='utf-8')\n",
    "postulantes_genero_edad_desde_15_04 = pd.read_csv('../data/datos_navent_fiuba/fiuba_desde_15_abril/Fiuba desde 15 Abril/fiuba_2_postulantes_genero_y_edad.csv', encoding='utf-8')\n",
    "vistas_desde_15_04 = pd.read_csv('../data/datos_navent_fiuba/fiuba_desde_15_abril/Fiuba desde 15 Abril/fiuba_3_vistas.csv', encoding='utf-8')\n",
    "avisos_detalle_desde_15_04 = pd.read_csv('../data/datos_navent_fiuba/fiuba_desde_15_abril/Fiuba desde 15 Abril/fiuba_6_avisos_detalle.csv', encoding='utf-8')"
   ]
  },
  {
   "cell_type": "markdown",
   "metadata": {},
   "source": [
    "## 338 faltantes"
   ]
  },
  {
   "cell_type": "code",
   "execution_count": 10,
   "metadata": {},
   "outputs": [],
   "source": [
    "# Estos registros solo aparecen en el set a predecir\n",
    "avisos_detalle_338_faltantes = pd.read_csv('../data/datos_navent_fiuba/338_faltantes/fiuba_6_avisos_detalle_missing_nivel_laboral.csv', encoding='utf-8')"
   ]
  },
  {
   "cell_type": "markdown",
   "metadata": {},
   "source": [
    "### Juntamos los 338 registros que faltan con el set a predecir"
   ]
  },
  {
   "cell_type": "code",
   "execution_count": 11,
   "metadata": {},
   "outputs": [
    {
     "name": "stdout",
     "output_type": "stream",
     "text": [
      "13798\n"
     ]
    }
   ],
   "source": [
    "print(len(avisos_detalle_desde_15_04))"
   ]
  },
  {
   "cell_type": "code",
   "execution_count": 12,
   "metadata": {},
   "outputs": [],
   "source": [
    "avisos_detalle_desde_15_04 = pd.concat([avisos_detalle_desde_15_04, avisos_detalle_338_faltantes])"
   ]
  },
  {
   "cell_type": "code",
   "execution_count": 13,
   "metadata": {},
   "outputs": [
    {
     "name": "stdout",
     "output_type": "stream",
     "text": [
      "14136\n"
     ]
    }
   ],
   "source": [
    "print(len(avisos_detalle_desde_15_04))"
   ]
  },
  {
   "cell_type": "markdown",
   "metadata": {},
   "source": [
    "## Unificamos los datos del TP 1 con los de hasta el 15 de abril"
   ]
  },
  {
   "cell_type": "markdown",
   "metadata": {},
   "source": [
    "### postulantes_educacion"
   ]
  },
  {
   "cell_type": "code",
   "execution_count": 14,
   "metadata": {},
   "outputs": [
    {
     "name": "stdout",
     "output_type": "stream",
     "text": [
      "Longitud original:  298231\n",
      "Longitud nuevo set:  407453\n",
      "Longitud concat:  705684\n",
      "Longitud unique:  568612\n"
     ]
    }
   ],
   "source": [
    "print('Longitud original: ', len(postulantes_educacion_orig))\n",
    "print('Longitud nuevo set: ', len(postulantes_educacion_hasta_15_04))\n",
    "postulantes_educacion = pd.concat([postulantes_educacion_orig, postulantes_educacion_hasta_15_04])\n",
    "print('Longitud concat: ', len(postulantes_educacion))\n",
    "\n",
    "# Eliminamos los duplicados. En este caso se considera duplicado si estas 3 columnas matchean\n",
    "postulantes_educacion.drop_duplicates(['idpostulante', 'nombre', 'estado'], keep='last', inplace=True)\n",
    "print('Longitud unique: ', len(postulantes_educacion))"
   ]
  },
  {
   "cell_type": "code",
   "execution_count": 15,
   "metadata": {},
   "outputs": [],
   "source": [
    "postulantes_educacion.to_csv('../data/1_postulantes_educacion.csv', index=False, sep=',', encoding='utf-8')"
   ]
  },
  {
   "cell_type": "markdown",
   "metadata": {},
   "source": [
    "### postulantes_genero_edad"
   ]
  },
  {
   "cell_type": "code",
   "execution_count": 16,
   "metadata": {},
   "outputs": [
    {
     "name": "stdout",
     "output_type": "stream",
     "text": [
      "Longitud original:  200888\n",
      "Longitud nuevo set:  297747\n",
      "Longitud concat:  498635\n",
      "Longitud unique:  408146\n"
     ]
    }
   ],
   "source": [
    "print('Longitud original: ', len(postulantes_genero_edad_orig))\n",
    "print('Longitud nuevo set: ', len(postulantes_genero_edad_hasta_15_04))\n",
    "postulantes_genero_edad = pd.concat([postulantes_genero_edad_orig, postulantes_genero_edad_hasta_15_04])\n",
    "print('Longitud concat: ', len(postulantes_genero_edad))\n",
    "\n",
    "# Eliminamos los duplicados. En este caso se considera duplicado si el idpostulante matchea\n",
    "postulantes_genero_edad.drop_duplicates(['idpostulante'], keep='last', inplace=True)\n",
    "print('Longitud unique: ', len(postulantes_genero_edad))"
   ]
  },
  {
   "cell_type": "code",
   "execution_count": 17,
   "metadata": {},
   "outputs": [],
   "source": [
    "postulantes_genero_edad.to_csv('../data/2_postulantes_genero_edad.csv', index=False, sep=',', encoding='utf-8')"
   ]
  },
  {
   "cell_type": "markdown",
   "metadata": {},
   "source": [
    "### vistas"
   ]
  },
  {
   "cell_type": "code",
   "execution_count": 18,
   "metadata": {},
   "outputs": [
    {
     "name": "stdout",
     "output_type": "stream",
     "text": [
      "Longitud original:  961897\n",
      "Longitud nuevo set:  5758686\n",
      "Longitud concat:  6720583\n",
      "Longitud unique:  6682591\n"
     ]
    }
   ],
   "source": [
    "print('Longitud original: ', len(vistas_orig))\n",
    "print('Longitud nuevo set: ', len(vistas_hasta_15_04))\n",
    "vistas = pd.concat([vistas_orig, vistas_hasta_15_04])\n",
    "print('Longitud concat: ', len(vistas))\n",
    "\n",
    "# Eliminamos los duplicados. En este caso se considera duplicado si estas 3 columnas matchean\n",
    "vistas.drop_duplicates(['idaviso', 'timestamp', 'idpostulante'], keep='last', inplace=True)\n",
    "print('Longitud unique: ', len(vistas))"
   ]
  },
  {
   "cell_type": "code",
   "execution_count": 19,
   "metadata": {},
   "outputs": [],
   "source": [
    "vistas.to_csv('../data/3_vistas.csv', index=False, sep=',', encoding='utf-8')"
   ]
  },
  {
   "cell_type": "markdown",
   "metadata": {},
   "source": [
    "### postulaciones"
   ]
  },
  {
   "cell_type": "code",
   "execution_count": 20,
   "metadata": {},
   "outputs": [
    {
     "name": "stdout",
     "output_type": "stream",
     "text": [
      "Longitud original:  3401623\n",
      "Longitud nuevo set:  4909641\n",
      "Longitud concat:  8311264\n",
      "Longitud unique:  6604534\n"
     ]
    }
   ],
   "source": [
    "print('Longitud original: ', len(postulaciones_orig))\n",
    "print('Longitud nuevo set: ', len(postulaciones_hasta_15_04))\n",
    "postulaciones = pd.concat([postulaciones_orig, postulaciones_hasta_15_04])\n",
    "print('Longitud concat: ', len(postulaciones))\n",
    "\n",
    "# Eliminamos los duplicados. En este caso se considera duplicado si estas 3 columnas matchean\n",
    "postulaciones.drop_duplicates(['idaviso', 'idpostulante', 'fechapostulacion'], keep='last', inplace=True)\n",
    "print('Longitud unique: ', len(postulaciones))"
   ]
  },
  {
   "cell_type": "code",
   "execution_count": 21,
   "metadata": {},
   "outputs": [],
   "source": [
    "postulaciones.to_csv('../data/4_postulaciones.csv', index=False, sep=',', encoding='utf-8')"
   ]
  },
  {
   "cell_type": "markdown",
   "metadata": {},
   "source": [
    "### avisos_online"
   ]
  },
  {
   "cell_type": "code",
   "execution_count": 22,
   "metadata": {},
   "outputs": [
    {
     "name": "stdout",
     "output_type": "stream",
     "text": [
      "Longitud original:  5028\n",
      "Longitud nuevo set:  4858\n",
      "Longitud concat:  9886\n",
      "Longitud unique:  9430\n"
     ]
    }
   ],
   "source": [
    "print('Longitud original: ', len(avisos_online_orig))\n",
    "print('Longitud nuevo set: ', len(avisos_online_hasta_15_04))\n",
    "avisos_online = pd.concat([avisos_online_orig, avisos_online_hasta_15_04])\n",
    "print('Longitud concat: ', len(avisos_online))\n",
    "\n",
    "# Eliminamos los duplicados. En este caso se considera duplicado si esta columna matchea\n",
    "avisos_online.drop_duplicates(['idaviso'], keep='last', inplace=True)\n",
    "print('Longitud unique: ', len(avisos_online))"
   ]
  },
  {
   "cell_type": "code",
   "execution_count": 23,
   "metadata": {},
   "outputs": [],
   "source": [
    "avisos_online.to_csv('../data/5_avisos_online.csv', index=False, sep=',', encoding='utf-8')"
   ]
  },
  {
   "cell_type": "markdown",
   "metadata": {},
   "source": [
    "### avisos_detalle"
   ]
  },
  {
   "cell_type": "code",
   "execution_count": 24,
   "metadata": {},
   "outputs": [
    {
     "name": "stdout",
     "output_type": "stream",
     "text": [
      "Longitud original:  13534\n",
      "Longitud nuevo set:  18299\n",
      "Longitud concat:  31833\n",
      "Longitud unique:  19632\n"
     ]
    }
   ],
   "source": [
    "print('Longitud original: ', len(avisos_detalle_orig))\n",
    "print('Longitud nuevo set: ', len(avisos_detalle_hasta_15_04))\n",
    "avisos_detalle = pd.concat([avisos_detalle_orig, avisos_detalle_hasta_15_04])\n",
    "print('Longitud concat: ', len(avisos_detalle))\n",
    "\n",
    "# Eliminamos los duplicados. En este caso se considera duplicado si matchean estas columnas (por no matchear todas)\n",
    "avisos_detalle.drop_duplicates(['idaviso', 'titulo', 'descripcion', 'nombre_zona', 'ciudad', 'tipo_de_trabajo', 'nivel_laboral'], keep='last', inplace=True)\n",
    "print('Longitud unique: ', len(avisos_detalle))"
   ]
  },
  {
   "cell_type": "code",
   "execution_count": 25,
   "metadata": {},
   "outputs": [],
   "source": [
    "avisos_detalle.to_csv('../data/6_avisos_detalle.csv', index=False, sep=',', encoding='utf-8')"
   ]
  },
  {
   "cell_type": "markdown",
   "metadata": {},
   "source": [
    "## Postulantes unificados de todas las fechas"
   ]
  },
  {
   "cell_type": "code",
   "execution_count": 26,
   "metadata": {},
   "outputs": [
    {
     "name": "stdout",
     "output_type": "stream",
     "text": [
      "568612\n",
      "408146\n"
     ]
    }
   ],
   "source": [
    "print(len(postulantes_educacion))\n",
    "print(len(postulantes_genero_edad))"
   ]
  },
  {
   "cell_type": "code",
   "execution_count": 27,
   "metadata": {},
   "outputs": [],
   "source": [
    "postulantes = pd.merge(postulantes_educacion, postulantes_genero_edad, on='idpostulante', how='outer')\n",
    "postulantes_test = pd.merge(postulantes_educacion_hasta_15_04, postulantes_genero_edad_hasta_15_04, on='idpostulante', how='outer')"
   ]
  },
  {
   "cell_type": "code",
   "execution_count": 28,
   "metadata": {},
   "outputs": [
    {
     "name": "stdout",
     "output_type": "stream",
     "text": [
      "610363\n"
     ]
    }
   ],
   "source": [
    "print(len(postulantes))"
   ]
  },
  {
   "cell_type": "code",
   "execution_count": 29,
   "metadata": {},
   "outputs": [
    {
     "data": {
      "text/html": [
       "<div>\n",
       "<style scoped>\n",
       "    .dataframe tbody tr th:only-of-type {\n",
       "        vertical-align: middle;\n",
       "    }\n",
       "\n",
       "    .dataframe tbody tr th {\n",
       "        vertical-align: top;\n",
       "    }\n",
       "\n",
       "    .dataframe thead th {\n",
       "        text-align: right;\n",
       "    }\n",
       "</style>\n",
       "<table border=\"1\" class=\"dataframe\">\n",
       "  <thead>\n",
       "    <tr style=\"text-align: right;\">\n",
       "      <th></th>\n",
       "      <th>idpostulante</th>\n",
       "      <th>nombre</th>\n",
       "      <th>estado</th>\n",
       "      <th>fechanacimiento</th>\n",
       "      <th>sexo</th>\n",
       "    </tr>\n",
       "  </thead>\n",
       "  <tbody>\n",
       "    <tr>\n",
       "      <th>0</th>\n",
       "      <td>8BkL</td>\n",
       "      <td>Universitario</td>\n",
       "      <td>En Curso</td>\n",
       "      <td>1976-07-21</td>\n",
       "      <td>FEM</td>\n",
       "    </tr>\n",
       "    <tr>\n",
       "      <th>1</th>\n",
       "      <td>8BkL</td>\n",
       "      <td>Universitario</td>\n",
       "      <td>Graduado</td>\n",
       "      <td>1976-07-21</td>\n",
       "      <td>FEM</td>\n",
       "    </tr>\n",
       "    <tr>\n",
       "      <th>2</th>\n",
       "      <td>8BkL</td>\n",
       "      <td>Posgrado</td>\n",
       "      <td>Graduado</td>\n",
       "      <td>1976-07-21</td>\n",
       "      <td>FEM</td>\n",
       "    </tr>\n",
       "    <tr>\n",
       "      <th>3</th>\n",
       "      <td>8BkL</td>\n",
       "      <td>Master</td>\n",
       "      <td>Graduado</td>\n",
       "      <td>1976-07-21</td>\n",
       "      <td>FEM</td>\n",
       "    </tr>\n",
       "    <tr>\n",
       "      <th>4</th>\n",
       "      <td>1d2B</td>\n",
       "      <td>Universitario</td>\n",
       "      <td>En Curso</td>\n",
       "      <td>1976-02-28</td>\n",
       "      <td>MASC</td>\n",
       "    </tr>\n",
       "    <tr>\n",
       "      <th>5</th>\n",
       "      <td>Ym2X</td>\n",
       "      <td>Otro</td>\n",
       "      <td>En Curso</td>\n",
       "      <td>1964-01-19</td>\n",
       "      <td>MASC</td>\n",
       "    </tr>\n",
       "    <tr>\n",
       "      <th>6</th>\n",
       "      <td>Ym2X</td>\n",
       "      <td>Universitario</td>\n",
       "      <td>Graduado</td>\n",
       "      <td>1964-01-19</td>\n",
       "      <td>MASC</td>\n",
       "    </tr>\n",
       "    <tr>\n",
       "      <th>7</th>\n",
       "      <td>6M3jr</td>\n",
       "      <td>Universitario</td>\n",
       "      <td>En Curso</td>\n",
       "      <td>1975-11-03</td>\n",
       "      <td>MASC</td>\n",
       "    </tr>\n",
       "    <tr>\n",
       "      <th>8</th>\n",
       "      <td>Z85B5</td>\n",
       "      <td>Universitario</td>\n",
       "      <td>En Curso</td>\n",
       "      <td>1976-04-27</td>\n",
       "      <td>FEM</td>\n",
       "    </tr>\n",
       "    <tr>\n",
       "      <th>9</th>\n",
       "      <td>Z85B5</td>\n",
       "      <td>Terciario/Técnico</td>\n",
       "      <td>Graduado</td>\n",
       "      <td>1976-04-27</td>\n",
       "      <td>FEM</td>\n",
       "    </tr>\n",
       "  </tbody>\n",
       "</table>\n",
       "</div>"
      ],
      "text/plain": [
       "  idpostulante             nombre    estado fechanacimiento  sexo\n",
       "0         8BkL      Universitario  En Curso      1976-07-21   FEM\n",
       "1         8BkL      Universitario  Graduado      1976-07-21   FEM\n",
       "2         8BkL           Posgrado  Graduado      1976-07-21   FEM\n",
       "3         8BkL             Master  Graduado      1976-07-21   FEM\n",
       "4         1d2B      Universitario  En Curso      1976-02-28  MASC\n",
       "5         Ym2X               Otro  En Curso      1964-01-19  MASC\n",
       "6         Ym2X      Universitario  Graduado      1964-01-19  MASC\n",
       "7        6M3jr      Universitario  En Curso      1975-11-03  MASC\n",
       "8        Z85B5      Universitario  En Curso      1976-04-27   FEM\n",
       "9        Z85B5  Terciario/Técnico  Graduado      1976-04-27   FEM"
      ]
     },
     "execution_count": 29,
     "metadata": {},
     "output_type": "execute_result"
    }
   ],
   "source": [
    "postulantes.head(10)"
   ]
  },
  {
   "cell_type": "code",
   "execution_count": 30,
   "metadata": {},
   "outputs": [
    {
     "name": "stdout",
     "output_type": "stream",
     "text": [
      "610363\n",
      "441412\n"
     ]
    }
   ],
   "source": [
    "print(len(postulantes))\n",
    "print(len(postulantes_test))"
   ]
  },
  {
   "cell_type": "code",
   "execution_count": 31,
   "metadata": {},
   "outputs": [
    {
     "data": {
      "text/plain": [
       "idpostulante       False\n",
       "nombre              True\n",
       "estado              True\n",
       "fechanacimiento     True\n",
       "sexo               False\n",
       "dtype: bool"
      ]
     },
     "execution_count": 31,
     "metadata": {},
     "output_type": "execute_result"
    }
   ],
   "source": [
    "postulantes.isnull().any()"
   ]
  },
  {
   "cell_type": "code",
   "execution_count": 32,
   "metadata": {},
   "outputs": [
    {
     "data": {
      "text/plain": [
       "idpostulante       False\n",
       "nombre              True\n",
       "estado              True\n",
       "fechanacimiento     True\n",
       "sexo               False\n",
       "dtype: bool"
      ]
     },
     "execution_count": 32,
     "metadata": {},
     "output_type": "execute_result"
    }
   ],
   "source": [
    "postulantes_test.isnull().any()"
   ]
  },
  {
   "cell_type": "code",
   "execution_count": 33,
   "metadata": {},
   "outputs": [],
   "source": [
    "postulantes_joined = pd.concat([postulantes, postulantes_test])"
   ]
  },
  {
   "cell_type": "code",
   "execution_count": 34,
   "metadata": {},
   "outputs": [
    {
     "data": {
      "text/plain": [
       "1051775"
      ]
     },
     "execution_count": 34,
     "metadata": {},
     "output_type": "execute_result"
    }
   ],
   "source": [
    "len(postulantes_joined)"
   ]
  },
  {
   "cell_type": "code",
   "execution_count": 35,
   "metadata": {},
   "outputs": [
    {
     "data": {
      "text/html": [
       "<div>\n",
       "<style scoped>\n",
       "    .dataframe tbody tr th:only-of-type {\n",
       "        vertical-align: middle;\n",
       "    }\n",
       "\n",
       "    .dataframe tbody tr th {\n",
       "        vertical-align: top;\n",
       "    }\n",
       "\n",
       "    .dataframe thead th {\n",
       "        text-align: right;\n",
       "    }\n",
       "</style>\n",
       "<table border=\"1\" class=\"dataframe\">\n",
       "  <thead>\n",
       "    <tr style=\"text-align: right;\">\n",
       "      <th></th>\n",
       "      <th>idpostulante</th>\n",
       "      <th>nombre</th>\n",
       "      <th>estado</th>\n",
       "      <th>fechanacimiento</th>\n",
       "      <th>sexo</th>\n",
       "    </tr>\n",
       "  </thead>\n",
       "  <tbody>\n",
       "    <tr>\n",
       "      <th>0</th>\n",
       "      <td>8BkL</td>\n",
       "      <td>Universitario</td>\n",
       "      <td>En Curso</td>\n",
       "      <td>1976-07-21</td>\n",
       "      <td>FEM</td>\n",
       "    </tr>\n",
       "    <tr>\n",
       "      <th>1</th>\n",
       "      <td>8BkL</td>\n",
       "      <td>Universitario</td>\n",
       "      <td>Graduado</td>\n",
       "      <td>1976-07-21</td>\n",
       "      <td>FEM</td>\n",
       "    </tr>\n",
       "    <tr>\n",
       "      <th>2</th>\n",
       "      <td>8BkL</td>\n",
       "      <td>Posgrado</td>\n",
       "      <td>Graduado</td>\n",
       "      <td>1976-07-21</td>\n",
       "      <td>FEM</td>\n",
       "    </tr>\n",
       "    <tr>\n",
       "      <th>3</th>\n",
       "      <td>8BkL</td>\n",
       "      <td>Master</td>\n",
       "      <td>Graduado</td>\n",
       "      <td>1976-07-21</td>\n",
       "      <td>FEM</td>\n",
       "    </tr>\n",
       "    <tr>\n",
       "      <th>9768</th>\n",
       "      <td>8BkL</td>\n",
       "      <td>Universitario</td>\n",
       "      <td>Graduado</td>\n",
       "      <td>1976-07-21</td>\n",
       "      <td>FEM</td>\n",
       "    </tr>\n",
       "    <tr>\n",
       "      <th>9769</th>\n",
       "      <td>8BkL</td>\n",
       "      <td>Posgrado</td>\n",
       "      <td>Graduado</td>\n",
       "      <td>1976-07-21</td>\n",
       "      <td>FEM</td>\n",
       "    </tr>\n",
       "    <tr>\n",
       "      <th>9770</th>\n",
       "      <td>8BkL</td>\n",
       "      <td>Master</td>\n",
       "      <td>Graduado</td>\n",
       "      <td>1976-07-21</td>\n",
       "      <td>FEM</td>\n",
       "    </tr>\n",
       "  </tbody>\n",
       "</table>\n",
       "</div>"
      ],
      "text/plain": [
       "     idpostulante         nombre    estado fechanacimiento sexo\n",
       "0            8BkL  Universitario  En Curso      1976-07-21  FEM\n",
       "1            8BkL  Universitario  Graduado      1976-07-21  FEM\n",
       "2            8BkL       Posgrado  Graduado      1976-07-21  FEM\n",
       "3            8BkL         Master  Graduado      1976-07-21  FEM\n",
       "9768         8BkL  Universitario  Graduado      1976-07-21  FEM\n",
       "9769         8BkL       Posgrado  Graduado      1976-07-21  FEM\n",
       "9770         8BkL         Master  Graduado      1976-07-21  FEM"
      ]
     },
     "execution_count": 35,
     "metadata": {},
     "output_type": "execute_result"
    }
   ],
   "source": [
    "postulantes_joined[postulantes_joined['idpostulante'] == '8BkL']"
   ]
  },
  {
   "cell_type": "code",
   "execution_count": 36,
   "metadata": {},
   "outputs": [],
   "source": [
    "postulantes_joined.drop_duplicates(subset = ['idpostulante', 'nombre', 'estado', 'fechanacimiento', 'sexo'], keep = 'last', inplace = True)"
   ]
  },
  {
   "cell_type": "code",
   "execution_count": 37,
   "metadata": {},
   "outputs": [
    {
     "data": {
      "text/plain": [
       "610394"
      ]
     },
     "execution_count": 37,
     "metadata": {},
     "output_type": "execute_result"
    }
   ],
   "source": [
    "len(postulantes_joined)"
   ]
  },
  {
   "cell_type": "code",
   "execution_count": 38,
   "metadata": {},
   "outputs": [
    {
     "data": {
      "text/plain": [
       "idpostulante       False\n",
       "nombre              True\n",
       "estado              True\n",
       "fechanacimiento     True\n",
       "sexo               False\n",
       "dtype: bool"
      ]
     },
     "execution_count": 38,
     "metadata": {},
     "output_type": "execute_result"
    }
   ],
   "source": [
    "postulantes_joined.isnull().any()"
   ]
  },
  {
   "cell_type": "code",
   "execution_count": 39,
   "metadata": {},
   "outputs": [],
   "source": [
    "postulantes_joined.to_csv('../data/postulantes_joined.csv', index=False, sep=',', encoding='utf-8')"
   ]
  },
  {
   "cell_type": "markdown",
   "metadata": {},
   "source": [
    "## Avisos unificados de todas las fechas"
   ]
  },
  {
   "cell_type": "code",
   "execution_count": 40,
   "metadata": {},
   "outputs": [
    {
     "name": "stdout",
     "output_type": "stream",
     "text": [
      "19632\n"
     ]
    },
    {
     "data": {
      "text/html": [
       "<div>\n",
       "<style scoped>\n",
       "    .dataframe tbody tr th:only-of-type {\n",
       "        vertical-align: middle;\n",
       "    }\n",
       "\n",
       "    .dataframe tbody tr th {\n",
       "        vertical-align: top;\n",
       "    }\n",
       "\n",
       "    .dataframe thead th {\n",
       "        text-align: right;\n",
       "    }\n",
       "</style>\n",
       "<table border=\"1\" class=\"dataframe\">\n",
       "  <thead>\n",
       "    <tr style=\"text-align: right;\">\n",
       "      <th></th>\n",
       "      <th>idaviso</th>\n",
       "      <th>idpais</th>\n",
       "      <th>titulo</th>\n",
       "      <th>descripcion</th>\n",
       "      <th>nombre_zona</th>\n",
       "      <th>ciudad</th>\n",
       "      <th>mapacalle</th>\n",
       "      <th>tipo_de_trabajo</th>\n",
       "      <th>nivel_laboral</th>\n",
       "      <th>nombre_area</th>\n",
       "      <th>denominacion_empresa</th>\n",
       "    </tr>\n",
       "  </thead>\n",
       "  <tbody>\n",
       "    <tr>\n",
       "      <th>1</th>\n",
       "      <td>17903700</td>\n",
       "      <td>1</td>\n",
       "      <td>Enfermeras</td>\n",
       "      <td>&lt;p&gt;Solicitamos para importante cadena de farma...</td>\n",
       "      <td>Gran Buenos Aires</td>\n",
       "      <td>NaN</td>\n",
       "      <td>NaN</td>\n",
       "      <td>Full-time</td>\n",
       "      <td>Senior / Semi-Senior</td>\n",
       "      <td>Salud</td>\n",
       "      <td>Farmacias Central Oeste</td>\n",
       "    </tr>\n",
       "  </tbody>\n",
       "</table>\n",
       "</div>"
      ],
      "text/plain": [
       "    idaviso  idpais      titulo  \\\n",
       "1  17903700       1  Enfermeras   \n",
       "\n",
       "                                         descripcion        nombre_zona  \\\n",
       "1  <p>Solicitamos para importante cadena de farma...  Gran Buenos Aires   \n",
       "\n",
       "  ciudad mapacalle tipo_de_trabajo         nivel_laboral nombre_area  \\\n",
       "1    NaN       NaN       Full-time  Senior / Semi-Senior       Salud   \n",
       "\n",
       "      denominacion_empresa  \n",
       "1  Farmacias Central Oeste  "
      ]
     },
     "execution_count": 40,
     "metadata": {},
     "output_type": "execute_result"
    }
   ],
   "source": [
    "print(len(avisos_detalle))\n",
    "avisos_detalle.head(1)"
   ]
  },
  {
   "cell_type": "code",
   "execution_count": 41,
   "metadata": {},
   "outputs": [
    {
     "name": "stdout",
     "output_type": "stream",
     "text": [
      "14136\n"
     ]
    },
    {
     "data": {
      "text/html": [
       "<div>\n",
       "<style scoped>\n",
       "    .dataframe tbody tr th:only-of-type {\n",
       "        vertical-align: middle;\n",
       "    }\n",
       "\n",
       "    .dataframe tbody tr th {\n",
       "        vertical-align: top;\n",
       "    }\n",
       "\n",
       "    .dataframe thead th {\n",
       "        text-align: right;\n",
       "    }\n",
       "</style>\n",
       "<table border=\"1\" class=\"dataframe\">\n",
       "  <thead>\n",
       "    <tr style=\"text-align: right;\">\n",
       "      <th></th>\n",
       "      <th>idaviso</th>\n",
       "      <th>idpais</th>\n",
       "      <th>titulo</th>\n",
       "      <th>descripcion</th>\n",
       "      <th>nombre_zona</th>\n",
       "      <th>ciudad</th>\n",
       "      <th>mapacalle</th>\n",
       "      <th>tipo_de_trabajo</th>\n",
       "      <th>nivel_laboral</th>\n",
       "      <th>nombre_area</th>\n",
       "      <th>denominacion_empresa</th>\n",
       "    </tr>\n",
       "  </thead>\n",
       "  <tbody>\n",
       "    <tr>\n",
       "      <th>0</th>\n",
       "      <td>1573840</td>\n",
       "      <td>1</td>\n",
       "      <td>VENDEDORA/O</td>\n",
       "      <td>Nuestra Búsqueda se orienta a la incorporación...</td>\n",
       "      <td>Capital Federal</td>\n",
       "      <td>Flores</td>\n",
       "      <td>NaN</td>\n",
       "      <td>Full-time</td>\n",
       "      <td>Otro</td>\n",
       "      <td>Ventas</td>\n",
       "      <td>RIBEIRO SUC. FLORES</td>\n",
       "    </tr>\n",
       "  </tbody>\n",
       "</table>\n",
       "</div>"
      ],
      "text/plain": [
       "   idaviso  idpais       titulo  \\\n",
       "0  1573840       1  VENDEDORA/O   \n",
       "\n",
       "                                         descripcion      nombre_zona  ciudad  \\\n",
       "0  Nuestra Búsqueda se orienta a la incorporación...  Capital Federal  Flores   \n",
       "\n",
       "  mapacalle tipo_de_trabajo nivel_laboral nombre_area denominacion_empresa  \n",
       "0       NaN       Full-time          Otro      Ventas  RIBEIRO SUC. FLORES  "
      ]
     },
     "execution_count": 41,
     "metadata": {},
     "output_type": "execute_result"
    }
   ],
   "source": [
    "print(len(avisos_detalle_desde_15_04))\n",
    "avisos_detalle_desde_15_04.head(1)"
   ]
  },
  {
   "cell_type": "code",
   "execution_count": 42,
   "metadata": {},
   "outputs": [],
   "source": [
    "avisos_detalle_joined = pd.concat([avisos_detalle, avisos_detalle_desde_15_04])"
   ]
  },
  {
   "cell_type": "code",
   "execution_count": 43,
   "metadata": {},
   "outputs": [
    {
     "data": {
      "text/plain": [
       "33768"
      ]
     },
     "execution_count": 43,
     "metadata": {},
     "output_type": "execute_result"
    }
   ],
   "source": [
    "len(avisos_detalle_joined)"
   ]
  },
  {
   "cell_type": "code",
   "execution_count": 44,
   "metadata": {},
   "outputs": [],
   "source": [
    "avisos_detalle_joined.drop_duplicates(subset = ['idaviso', 'tituloa', 'descripcion', 'nombre_area'], keep = 'last',inplace = True)"
   ]
  },
  {
   "cell_type": "code",
   "execution_count": 45,
   "metadata": {},
   "outputs": [
    {
     "data": {
      "text/plain": [
       "25743"
      ]
     },
     "execution_count": 45,
     "metadata": {},
     "output_type": "execute_result"
    }
   ],
   "source": [
    "len(avisos_detalle_joined)"
   ]
  },
  {
   "cell_type": "code",
   "execution_count": 46,
   "metadata": {},
   "outputs": [
    {
     "data": {
      "text/plain": [
       "idaviso                 False\n",
       "idpais                  False\n",
       "titulo                  False\n",
       "descripcion             False\n",
       "nombre_zona             False\n",
       "ciudad                   True\n",
       "mapacalle                True\n",
       "tipo_de_trabajo         False\n",
       "nivel_laboral            True\n",
       "nombre_area             False\n",
       "denominacion_empresa     True\n",
       "dtype: bool"
      ]
     },
     "execution_count": 46,
     "metadata": {},
     "output_type": "execute_result"
    }
   ],
   "source": [
    "avisos_detalle_joined.isnull().any()"
   ]
  },
  {
   "cell_type": "code",
   "execution_count": 47,
   "metadata": {},
   "outputs": [
    {
     "data": {
      "text/html": [
       "<div>\n",
       "<style scoped>\n",
       "    .dataframe tbody tr th:only-of-type {\n",
       "        vertical-align: middle;\n",
       "    }\n",
       "\n",
       "    .dataframe tbody tr th {\n",
       "        vertical-align: top;\n",
       "    }\n",
       "\n",
       "    .dataframe thead th {\n",
       "        text-align: right;\n",
       "    }\n",
       "</style>\n",
       "<table border=\"1\" class=\"dataframe\">\n",
       "  <thead>\n",
       "    <tr style=\"text-align: right;\">\n",
       "      <th></th>\n",
       "      <th>idaviso</th>\n",
       "      <th>idpais</th>\n",
       "      <th>titulo</th>\n",
       "      <th>descripcion</th>\n",
       "      <th>nombre_zona</th>\n",
       "      <th>ciudad</th>\n",
       "      <th>mapacalle</th>\n",
       "      <th>tipo_de_trabajo</th>\n",
       "      <th>nivel_laboral</th>\n",
       "      <th>nombre_area</th>\n",
       "      <th>denominacion_empresa</th>\n",
       "    </tr>\n",
       "  </thead>\n",
       "  <tbody>\n",
       "    <tr>\n",
       "      <th>1</th>\n",
       "      <td>17903700</td>\n",
       "      <td>1</td>\n",
       "      <td>Enfermeras</td>\n",
       "      <td>&lt;p&gt;Solicitamos para importante cadena de farma...</td>\n",
       "      <td>Gran Buenos Aires</td>\n",
       "      <td>NaN</td>\n",
       "      <td>NaN</td>\n",
       "      <td>Full-time</td>\n",
       "      <td>Senior / Semi-Senior</td>\n",
       "      <td>Salud</td>\n",
       "      <td>Farmacias Central Oeste</td>\n",
       "    </tr>\n",
       "    <tr>\n",
       "      <th>2</th>\n",
       "      <td>1000150677</td>\n",
       "      <td>1</td>\n",
       "      <td>Chofer de taxi</td>\n",
       "      <td>&lt;p&gt;TE GUSTA MANEJAR? QUERES GANAR PLATA HACIEN...</td>\n",
       "      <td>Capital Federal</td>\n",
       "      <td>NaN</td>\n",
       "      <td>Empedrado 2336</td>\n",
       "      <td>Full-time</td>\n",
       "      <td>Senior / Semi-Senior</td>\n",
       "      <td>Transporte</td>\n",
       "      <td>FAMITAX SRL</td>\n",
       "    </tr>\n",
       "    <tr>\n",
       "      <th>4</th>\n",
       "      <td>1000872556</td>\n",
       "      <td>1</td>\n",
       "      <td>Operarios de Planta - Rubro Electrodomésticos</td>\n",
       "      <td>&lt;p&gt;&lt;strong&gt;OPERARIOS DE PLANTA&lt;/strong&gt;&lt;/p&gt;&lt;p&gt;...</td>\n",
       "      <td>Gran Buenos Aires</td>\n",
       "      <td>NaN</td>\n",
       "      <td>NaN</td>\n",
       "      <td>Full-time</td>\n",
       "      <td>Senior / Semi-Senior</td>\n",
       "      <td>Producción</td>\n",
       "      <td>ELECTRO OUTLET SRL</td>\n",
       "    </tr>\n",
       "  </tbody>\n",
       "</table>\n",
       "</div>"
      ],
      "text/plain": [
       "      idaviso  idpais                                         titulo  \\\n",
       "1    17903700       1                                     Enfermeras   \n",
       "2  1000150677       1                                 Chofer de taxi   \n",
       "4  1000872556       1  Operarios de Planta - Rubro Electrodomésticos   \n",
       "\n",
       "                                         descripcion        nombre_zona  \\\n",
       "1  <p>Solicitamos para importante cadena de farma...  Gran Buenos Aires   \n",
       "2  <p>TE GUSTA MANEJAR? QUERES GANAR PLATA HACIEN...    Capital Federal   \n",
       "4  <p><strong>OPERARIOS DE PLANTA</strong></p><p>...  Gran Buenos Aires   \n",
       "\n",
       "  ciudad       mapacalle tipo_de_trabajo         nivel_laboral nombre_area  \\\n",
       "1    NaN             NaN       Full-time  Senior / Semi-Senior       Salud   \n",
       "2    NaN  Empedrado 2336       Full-time  Senior / Semi-Senior  Transporte   \n",
       "4    NaN             NaN       Full-time  Senior / Semi-Senior  Producción   \n",
       "\n",
       "      denominacion_empresa  \n",
       "1  Farmacias Central Oeste  \n",
       "2              FAMITAX SRL  \n",
       "4       ELECTRO OUTLET SRL  "
      ]
     },
     "execution_count": 47,
     "metadata": {},
     "output_type": "execute_result"
    }
   ],
   "source": [
    "avisos_detalle_joined.head(3)"
   ]
  },
  {
   "cell_type": "code",
   "execution_count": 48,
   "metadata": {},
   "outputs": [],
   "source": [
    "avisos_detalle_joined.to_csv('../data/avisos_detalle_joined.csv', index=False, sep=',', encoding='utf-8')"
   ]
  },
  {
   "cell_type": "markdown",
   "metadata": {},
   "source": [
    "# Limpieza/transformacion de datos"
   ]
  },
  {
   "cell_type": "markdown",
   "metadata": {},
   "source": [
    "### Aplicamos las transformaciones tanto al set para entrenar como al que se va a usar para testear"
   ]
  },
  {
   "cell_type": "code",
   "execution_count": 49,
   "metadata": {},
   "outputs": [],
   "source": [
    "postulantes_joined = pd.read_csv('../data/postulantes_joined.csv', sep=',', encoding='utf-8')\n",
    "vistas_train = pd.read_csv('../data/3_vistas_train.csv', sep=',', encoding='utf-8')\n",
    "postulaciones_train = pd.read_csv('../data/4_postulaciones_train.csv', sep=',', encoding='utf-8')\n",
    "#avisos_online_train = pd.read_csv('../data/5_avisos_online_train.csv', sep=',', encoding='utf-8')\n",
    "avisos_detalle_joined = pd.read_csv('../data/avisos_detalle_joined.csv', sep=',', encoding='utf-8')"
   ]
  },
  {
   "cell_type": "markdown",
   "metadata": {},
   "source": [
    "#### Transfomaciones para postulantes"
   ]
  },
  {
   "cell_type": "code",
   "execution_count": 50,
   "metadata": {},
   "outputs": [],
   "source": [
    "postulantes_joined.rename(columns={'nombre':'nombre_estudio','estado':'estado_estudio'}, inplace=True)"
   ]
  },
  {
   "cell_type": "code",
   "execution_count": 51,
   "metadata": {},
   "outputs": [
    {
     "data": {
      "text/html": [
       "<div>\n",
       "<style scoped>\n",
       "    .dataframe tbody tr th:only-of-type {\n",
       "        vertical-align: middle;\n",
       "    }\n",
       "\n",
       "    .dataframe tbody tr th {\n",
       "        vertical-align: top;\n",
       "    }\n",
       "\n",
       "    .dataframe thead th {\n",
       "        text-align: right;\n",
       "    }\n",
       "</style>\n",
       "<table border=\"1\" class=\"dataframe\">\n",
       "  <thead>\n",
       "    <tr style=\"text-align: right;\">\n",
       "      <th></th>\n",
       "      <th>idpostulante</th>\n",
       "      <th>nombre_estudio</th>\n",
       "      <th>estado_estudio</th>\n",
       "      <th>fechanacimiento</th>\n",
       "      <th>sexo</th>\n",
       "    </tr>\n",
       "  </thead>\n",
       "  <tbody>\n",
       "    <tr>\n",
       "      <th>0</th>\n",
       "      <td>8BkL</td>\n",
       "      <td>Universitario</td>\n",
       "      <td>En Curso</td>\n",
       "      <td>1976-07-21</td>\n",
       "      <td>FEM</td>\n",
       "    </tr>\n",
       "  </tbody>\n",
       "</table>\n",
       "</div>"
      ],
      "text/plain": [
       "  idpostulante nombre_estudio estado_estudio fechanacimiento sexo\n",
       "0         8BkL  Universitario       En Curso      1976-07-21  FEM"
      ]
     },
     "execution_count": 51,
     "metadata": {},
     "output_type": "execute_result"
    }
   ],
   "source": [
    "postulantes_joined.head(1)"
   ]
  },
  {
   "cell_type": "raw",
   "metadata": {},
   "source": [
    "Obtenemos el maximo nivel de educacion para cada postulante"
   ]
  },
  {
   "cell_type": "code",
   "execution_count": 52,
   "metadata": {},
   "outputs": [
    {
     "data": {
      "text/plain": [
       "610394"
      ]
     },
     "execution_count": 52,
     "metadata": {},
     "output_type": "execute_result"
    }
   ],
   "source": [
    "len(postulantes_joined)"
   ]
  },
  {
   "cell_type": "code",
   "execution_count": 53,
   "metadata": {},
   "outputs": [
    {
     "name": "stdout",
     "output_type": "stream",
     "text": [
      "Existen datos de 408146 postulantes distintos\n"
     ]
    }
   ],
   "source": [
    "print('Existen datos de', postulantes_joined['idpostulante'].value_counts().size, 'postulantes distintos')"
   ]
  },
  {
   "cell_type": "code",
   "execution_count": 54,
   "metadata": {},
   "outputs": [
    {
     "data": {
      "text/plain": [
       "idpostulante       False\n",
       "nombre_estudio      True\n",
       "estado_estudio      True\n",
       "fechanacimiento     True\n",
       "sexo               False\n",
       "dtype: bool"
      ]
     },
     "execution_count": 54,
     "metadata": {},
     "output_type": "execute_result"
    }
   ],
   "source": [
    "postulantes_joined.isnull().any()"
   ]
  },
  {
   "cell_type": "code",
   "execution_count": 55,
   "metadata": {},
   "outputs": [
    {
     "data": {
      "text/plain": [
       "False"
      ]
     },
     "execution_count": 55,
     "metadata": {},
     "output_type": "execute_result"
    }
   ],
   "source": [
    "most_freq_nombre_estudio = postulantes_joined.nombre_estudio.mode()[0]\n",
    "postulantes_joined.nombre_estudio.fillna(most_freq_nombre_estudio,inplace=True)\n",
    "postulantes_joined.nombre_estudio.isnull().any()"
   ]
  },
  {
   "cell_type": "code",
   "execution_count": 56,
   "metadata": {},
   "outputs": [
    {
     "data": {
      "text/plain": [
       "False"
      ]
     },
     "execution_count": 56,
     "metadata": {},
     "output_type": "execute_result"
    }
   ],
   "source": [
    "most_freq_estado_estudio = postulantes_joined.estado_estudio.mode()[0]\n",
    "postulantes_joined.estado_estudio.fillna(most_freq_estado_estudio,inplace=True)\n",
    "postulantes_joined.estado_estudio.isnull().any()"
   ]
  },
  {
   "cell_type": "code",
   "execution_count": 57,
   "metadata": {},
   "outputs": [
    {
     "data": {
      "text/plain": [
       "idpostulante       False\n",
       "nombre_estudio     False\n",
       "estado_estudio     False\n",
       "fechanacimiento     True\n",
       "sexo               False\n",
       "dtype: bool"
      ]
     },
     "execution_count": 57,
     "metadata": {},
     "output_type": "execute_result"
    }
   ],
   "source": [
    "postulantes_joined.isnull().any()"
   ]
  },
  {
   "cell_type": "code",
   "execution_count": 58,
   "metadata": {},
   "outputs": [],
   "source": [
    "def cuantificar_estudios(row):\n",
    "    if (row['nombre_estudio'] == 'Doctorado'):\n",
    "        row['nombre_estudio'] = 7\n",
    "    if (row['nombre_estudio'] == 'Master'):    \n",
    "        row['nombre_estudio'] = 6\n",
    "    if (row['nombre_estudio'] == 'Posgrado'):    \n",
    "        row['nombre_estudio'] = 5\n",
    "    if (row['nombre_estudio'] == 'Universitario'):    \n",
    "        row['nombre_estudio'] = 4\n",
    "    if (row['nombre_estudio'] == 'Terciario/Técnico'):    \n",
    "        row['nombre_estudio'] = 3\n",
    "    if (row['nombre_estudio'] == 'Secundario'):    \n",
    "        row['nombre_estudio'] = 2\n",
    "    if (row['nombre_estudio'] == 'Otro'):    \n",
    "        row['nombre_estudio'] = 1    \n",
    "        \n",
    "    if (row['estado_estudio'] == 'Graduado'):\n",
    "        row['estado_estudio'] = 3\n",
    "    if (row['estado_estudio'] == 'En Curso'):    \n",
    "        row['estado_estudio'] = 2\n",
    "    if (row['estado_estudio'] == 'Abandonado'):    \n",
    "        row['estado_estudio'] = 1\n",
    "        \n",
    "    return row    \n",
    "\n",
    "def descuantificar_estudios(row):\n",
    "    if (row['nombre_estudio'] == 7):\n",
    "        row['nombre_estudio'] = 'Doctorado'\n",
    "    if (row['nombre_estudio'] == 6):    \n",
    "        row['nombre_estudio'] = 'Master'\n",
    "    if (row['nombre_estudio'] == 5):    \n",
    "        row['nombre_estudio'] = 'Posgrado'\n",
    "    if (row['nombre_estudio'] == 4):    \n",
    "        row['nombre_estudio'] = 'Universitario'\n",
    "    if (row['nombre_estudio'] == 3):    \n",
    "        row['nombre_estudio'] = 'Terciario/Tecnico'\n",
    "    if (row['nombre_estudio'] == 2):    \n",
    "        row['nombre_estudio'] = 'Secundario'\n",
    "    if (row['nombre_estudio'] == 1):    \n",
    "        row['nombre_estudio'] = 'Otro'    \n",
    "        \n",
    "    if (row['estado_estudio'] == 3):\n",
    "        row['estado_estudio'] = 'Graduado'\n",
    "    if (row['estado_estudio'] == 2):    \n",
    "        row['estado_estudio'] = 'EnCurso'\n",
    "    if (row['estado_estudio'] == 1):    \n",
    "        row['estado_estudio'] = 'Abandonado'\n",
    "        \n",
    "    return row    "
   ]
  },
  {
   "cell_type": "code",
   "execution_count": 59,
   "metadata": {},
   "outputs": [],
   "source": [
    "postulantes_joined = postulantes_joined.apply(lambda row: cuantificar_estudios(row), axis=1)"
   ]
  },
  {
   "cell_type": "code",
   "execution_count": 60,
   "metadata": {},
   "outputs": [],
   "source": [
    "# Obtenemos max de la columna nombre\n",
    "idx = postulantes_joined.groupby(['idpostulante'])['nombre_estudio'].transform(max) == postulantes_joined['nombre_estudio']"
   ]
  },
  {
   "cell_type": "code",
   "execution_count": 61,
   "metadata": {},
   "outputs": [],
   "source": [
    "# Sobre los anteriores, obtenemos los max de la columna estado\n",
    "idx_postulantes_educacion_max = postulantes_joined[idx].groupby(['idpostulante'])['estado_estudio'].transform(max) == postulantes_joined[idx]['estado_estudio']"
   ]
  },
  {
   "cell_type": "code",
   "execution_count": 62,
   "metadata": {},
   "outputs": [],
   "source": [
    "postulantes_joined = postulantes_joined[idx][idx_postulantes_educacion_max]"
   ]
  },
  {
   "cell_type": "code",
   "execution_count": 63,
   "metadata": {},
   "outputs": [
    {
     "name": "stdout",
     "output_type": "stream",
     "text": [
      "408150\n"
     ]
    }
   ],
   "source": [
    "print(len(postulantes_joined))"
   ]
  },
  {
   "cell_type": "code",
   "execution_count": 64,
   "metadata": {},
   "outputs": [],
   "source": [
    "# Para volver a strings: \n",
    "postulantes_joined = postulantes_joined.apply(lambda row: descuantificar_estudios(row), axis=1)"
   ]
  },
  {
   "cell_type": "code",
   "execution_count": 65,
   "metadata": {},
   "outputs": [
    {
     "data": {
      "text/html": [
       "<div>\n",
       "<style scoped>\n",
       "    .dataframe tbody tr th:only-of-type {\n",
       "        vertical-align: middle;\n",
       "    }\n",
       "\n",
       "    .dataframe tbody tr th {\n",
       "        vertical-align: top;\n",
       "    }\n",
       "\n",
       "    .dataframe thead th {\n",
       "        text-align: right;\n",
       "    }\n",
       "</style>\n",
       "<table border=\"1\" class=\"dataframe\">\n",
       "  <thead>\n",
       "    <tr style=\"text-align: right;\">\n",
       "      <th></th>\n",
       "      <th>idpostulante</th>\n",
       "      <th>nombre_estudio</th>\n",
       "      <th>estado_estudio</th>\n",
       "      <th>fechanacimiento</th>\n",
       "      <th>sexo</th>\n",
       "    </tr>\n",
       "  </thead>\n",
       "  <tbody>\n",
       "    <tr>\n",
       "      <th>1</th>\n",
       "      <td>1d2B</td>\n",
       "      <td>Universitario</td>\n",
       "      <td>EnCurso</td>\n",
       "      <td>1976-02-28</td>\n",
       "      <td>MASC</td>\n",
       "    </tr>\n",
       "    <tr>\n",
       "      <th>3</th>\n",
       "      <td>Ym2X</td>\n",
       "      <td>Universitario</td>\n",
       "      <td>Graduado</td>\n",
       "      <td>1964-01-19</td>\n",
       "      <td>MASC</td>\n",
       "    </tr>\n",
       "  </tbody>\n",
       "</table>\n",
       "</div>"
      ],
      "text/plain": [
       "  idpostulante nombre_estudio estado_estudio fechanacimiento  sexo\n",
       "1         1d2B  Universitario        EnCurso      1976-02-28  MASC\n",
       "3         Ym2X  Universitario       Graduado      1964-01-19  MASC"
      ]
     },
     "execution_count": 65,
     "metadata": {},
     "output_type": "execute_result"
    }
   ],
   "source": [
    "postulantes_joined.head(2)"
   ]
  },
  {
   "cell_type": "code",
   "execution_count": 66,
   "metadata": {},
   "outputs": [
    {
     "data": {
      "text/plain": [
       "idpostulante       False\n",
       "nombre_estudio     False\n",
       "estado_estudio     False\n",
       "fechanacimiento     True\n",
       "sexo               False\n",
       "dtype: bool"
      ]
     },
     "execution_count": 66,
     "metadata": {},
     "output_type": "execute_result"
    }
   ],
   "source": [
    "postulantes_joined.isnull().any()"
   ]
  },
  {
   "cell_type": "code",
   "execution_count": 67,
   "metadata": {},
   "outputs": [
    {
     "data": {
      "text/plain": [
       "False"
      ]
     },
     "execution_count": 67,
     "metadata": {},
     "output_type": "execute_result"
    }
   ],
   "source": [
    "most_freq_fechanacimiento = postulantes_joined.fechanacimiento.mode()[0]\n",
    "postulantes_joined.fechanacimiento.fillna(most_freq_fechanacimiento,inplace=True)\n",
    "postulantes_joined.fechanacimiento.isnull().any()"
   ]
  },
  {
   "cell_type": "code",
   "execution_count": 68,
   "metadata": {},
   "outputs": [
    {
     "data": {
      "text/plain": [
       "idpostulante       False\n",
       "nombre_estudio     False\n",
       "estado_estudio     False\n",
       "fechanacimiento    False\n",
       "sexo               False\n",
       "dtype: bool"
      ]
     },
     "execution_count": 68,
     "metadata": {},
     "output_type": "execute_result"
    }
   ],
   "source": [
    "postulantes_joined.isnull().any()"
   ]
  },
  {
   "cell_type": "code",
   "execution_count": 69,
   "metadata": {},
   "outputs": [],
   "source": [
    "# Convierto columnas con fechas a datetime\n",
    "postulantes_joined['fechanacimiento'] = pd.to_datetime(postulantes_joined.fechanacimiento, format='%Y/%m/%d', errors='coerce')"
   ]
  },
  {
   "cell_type": "code",
   "execution_count": 70,
   "metadata": {},
   "outputs": [
    {
     "data": {
      "text/plain": [
       "False"
      ]
     },
     "execution_count": 70,
     "metadata": {},
     "output_type": "execute_result"
    }
   ],
   "source": [
    "most_freq_fechanacimiento = postulantes_joined.fechanacimiento.mode()[0]\n",
    "postulantes_joined.fechanacimiento.fillna(most_freq_fechanacimiento,inplace=True)\n",
    "postulantes_joined.fechanacimiento.isnull().any()"
   ]
  },
  {
   "cell_type": "code",
   "execution_count": 71,
   "metadata": {},
   "outputs": [
    {
     "data": {
      "text/plain": [
       "idpostulante       False\n",
       "nombre_estudio     False\n",
       "estado_estudio     False\n",
       "fechanacimiento    False\n",
       "sexo               False\n",
       "dtype: bool"
      ]
     },
     "execution_count": 71,
     "metadata": {},
     "output_type": "execute_result"
    }
   ],
   "source": [
    "postulantes_joined.isnull().any()"
   ]
  },
  {
   "cell_type": "code",
   "execution_count": 72,
   "metadata": {},
   "outputs": [],
   "source": [
    "# Agrego columna edad\n",
    "anio_actual = pd.to_datetime('today').year\n",
    "postulantes_joined['edad'] = postulantes_joined.fechanacimiento.map(lambda fecha: anio_actual - fecha.year).astype(int)"
   ]
  },
  {
   "cell_type": "code",
   "execution_count": 73,
   "metadata": {},
   "outputs": [
    {
     "data": {
      "text/plain": [
       "False"
      ]
     },
     "execution_count": 73,
     "metadata": {},
     "output_type": "execute_result"
    }
   ],
   "source": [
    "postulantes_joined.edad.isnull().any()"
   ]
  },
  {
   "cell_type": "code",
   "execution_count": 74,
   "metadata": {},
   "outputs": [
    {
     "data": {
      "text/plain": [
       "408150"
      ]
     },
     "execution_count": 74,
     "metadata": {},
     "output_type": "execute_result"
    }
   ],
   "source": [
    "len(postulantes_joined)"
   ]
  },
  {
   "cell_type": "code",
   "execution_count": 75,
   "metadata": {},
   "outputs": [
    {
     "data": {
      "text/html": [
       "<div>\n",
       "<style scoped>\n",
       "    .dataframe tbody tr th:only-of-type {\n",
       "        vertical-align: middle;\n",
       "    }\n",
       "\n",
       "    .dataframe tbody tr th {\n",
       "        vertical-align: top;\n",
       "    }\n",
       "\n",
       "    .dataframe thead th {\n",
       "        text-align: right;\n",
       "    }\n",
       "</style>\n",
       "<table border=\"1\" class=\"dataframe\">\n",
       "  <thead>\n",
       "    <tr style=\"text-align: right;\">\n",
       "      <th></th>\n",
       "      <th>idpostulante</th>\n",
       "      <th>nombre_estudio</th>\n",
       "      <th>estado_estudio</th>\n",
       "      <th>fechanacimiento</th>\n",
       "      <th>sexo</th>\n",
       "      <th>edad</th>\n",
       "    </tr>\n",
       "  </thead>\n",
       "  <tbody>\n",
       "    <tr>\n",
       "      <th>1</th>\n",
       "      <td>1d2B</td>\n",
       "      <td>Universitario</td>\n",
       "      <td>EnCurso</td>\n",
       "      <td>1976-02-28</td>\n",
       "      <td>MASC</td>\n",
       "      <td>42</td>\n",
       "    </tr>\n",
       "  </tbody>\n",
       "</table>\n",
       "</div>"
      ],
      "text/plain": [
       "  idpostulante nombre_estudio estado_estudio fechanacimiento  sexo  edad\n",
       "1         1d2B  Universitario        EnCurso      1976-02-28  MASC    42"
      ]
     },
     "execution_count": 75,
     "metadata": {},
     "output_type": "execute_result"
    }
   ],
   "source": [
    "postulantes_joined.head(1)"
   ]
  },
  {
   "cell_type": "code",
   "execution_count": 76,
   "metadata": {},
   "outputs": [],
   "source": [
    "postulantes_joined['edad'] = postulantes_joined['edad'].astype(int)"
   ]
  },
  {
   "cell_type": "code",
   "execution_count": 77,
   "metadata": {},
   "outputs": [
    {
     "data": {
      "text/html": [
       "<div>\n",
       "<style scoped>\n",
       "    .dataframe tbody tr th:only-of-type {\n",
       "        vertical-align: middle;\n",
       "    }\n",
       "\n",
       "    .dataframe tbody tr th {\n",
       "        vertical-align: top;\n",
       "    }\n",
       "\n",
       "    .dataframe thead th {\n",
       "        text-align: right;\n",
       "    }\n",
       "</style>\n",
       "<table border=\"1\" class=\"dataframe\">\n",
       "  <thead>\n",
       "    <tr style=\"text-align: right;\">\n",
       "      <th></th>\n",
       "      <th>idpostulante</th>\n",
       "      <th>nombre_estudio</th>\n",
       "      <th>estado_estudio</th>\n",
       "      <th>fechanacimiento</th>\n",
       "      <th>sexo</th>\n",
       "      <th>edad</th>\n",
       "    </tr>\n",
       "  </thead>\n",
       "  <tbody>\n",
       "    <tr>\n",
       "      <th>1</th>\n",
       "      <td>1d2B</td>\n",
       "      <td>Universitario</td>\n",
       "      <td>EnCurso</td>\n",
       "      <td>1976-02-28</td>\n",
       "      <td>MASC</td>\n",
       "      <td>42</td>\n",
       "    </tr>\n",
       "  </tbody>\n",
       "</table>\n",
       "</div>"
      ],
      "text/plain": [
       "  idpostulante nombre_estudio estado_estudio fechanacimiento  sexo  edad\n",
       "1         1d2B  Universitario        EnCurso      1976-02-28  MASC    42"
      ]
     },
     "execution_count": 77,
     "metadata": {},
     "output_type": "execute_result"
    }
   ],
   "source": [
    "postulantes_joined.head(1)"
   ]
  },
  {
   "cell_type": "code",
   "execution_count": 78,
   "metadata": {},
   "outputs": [
    {
     "data": {
      "text/plain": [
       "idpostulante               object\n",
       "nombre_estudio             object\n",
       "estado_estudio             object\n",
       "fechanacimiento    datetime64[ns]\n",
       "sexo                       object\n",
       "edad                        int64\n",
       "dtype: object"
      ]
     },
     "execution_count": 78,
     "metadata": {},
     "output_type": "execute_result"
    }
   ],
   "source": [
    "postulantes_joined.dtypes"
   ]
  },
  {
   "cell_type": "code",
   "execution_count": 79,
   "metadata": {},
   "outputs": [
    {
     "data": {
      "text/plain": [
       "idpostulante       False\n",
       "nombre_estudio     False\n",
       "estado_estudio     False\n",
       "fechanacimiento    False\n",
       "sexo               False\n",
       "edad               False\n",
       "dtype: bool"
      ]
     },
     "execution_count": 79,
     "metadata": {},
     "output_type": "execute_result"
    }
   ],
   "source": [
    "postulantes_joined.isnull().any()"
   ]
  },
  {
   "cell_type": "markdown",
   "metadata": {},
   "source": [
    "#### Transfomaciones para avisos"
   ]
  },
  {
   "cell_type": "code",
   "execution_count": 80,
   "metadata": {},
   "outputs": [
    {
     "name": "stdout",
     "output_type": "stream",
     "text": [
      "25743\n",
      "Existen avisos nulos: False\n"
     ]
    }
   ],
   "source": [
    "print(len(avisos_detalle_joined))\n",
    "print('Existen avisos nulos:', avisos_detalle_joined.idaviso.isnull().any())\n",
    "#avisos_detalle_joined = avisos_detalle_joined.dropna(subset=['idaviso'], how='all')\n",
    "#print(len(avisos_detalle_joined))"
   ]
  },
  {
   "cell_type": "code",
   "execution_count": 81,
   "metadata": {},
   "outputs": [],
   "source": [
    "avisos_detalle_joined.drop(columns=['idpais','ciudad','mapacalle', 'nombre_zona'], inplace=True)"
   ]
  },
  {
   "cell_type": "code",
   "execution_count": 82,
   "metadata": {},
   "outputs": [
    {
     "data": {
      "text/html": [
       "<div>\n",
       "<style scoped>\n",
       "    .dataframe tbody tr th:only-of-type {\n",
       "        vertical-align: middle;\n",
       "    }\n",
       "\n",
       "    .dataframe tbody tr th {\n",
       "        vertical-align: top;\n",
       "    }\n",
       "\n",
       "    .dataframe thead th {\n",
       "        text-align: right;\n",
       "    }\n",
       "</style>\n",
       "<table border=\"1\" class=\"dataframe\">\n",
       "  <thead>\n",
       "    <tr style=\"text-align: right;\">\n",
       "      <th></th>\n",
       "      <th>idaviso</th>\n",
       "      <th>titulo</th>\n",
       "      <th>descripcion</th>\n",
       "      <th>tipo_de_trabajo</th>\n",
       "      <th>nivel_laboral</th>\n",
       "      <th>nombre_area</th>\n",
       "      <th>denominacion_empresa</th>\n",
       "    </tr>\n",
       "  </thead>\n",
       "  <tbody>\n",
       "    <tr>\n",
       "      <th>0</th>\n",
       "      <td>17903700</td>\n",
       "      <td>Enfermeras</td>\n",
       "      <td>&lt;p&gt;Solicitamos para importante cadena de farma...</td>\n",
       "      <td>Full-time</td>\n",
       "      <td>Senior / Semi-Senior</td>\n",
       "      <td>Salud</td>\n",
       "      <td>Farmacias Central Oeste</td>\n",
       "    </tr>\n",
       "  </tbody>\n",
       "</table>\n",
       "</div>"
      ],
      "text/plain": [
       "    idaviso      titulo                                        descripcion  \\\n",
       "0  17903700  Enfermeras  <p>Solicitamos para importante cadena de farma...   \n",
       "\n",
       "  tipo_de_trabajo         nivel_laboral nombre_area     denominacion_empresa  \n",
       "0       Full-time  Senior / Semi-Senior       Salud  Farmacias Central Oeste  "
      ]
     },
     "execution_count": 82,
     "metadata": {},
     "output_type": "execute_result"
    }
   ],
   "source": [
    "avisos_detalle_joined.head(1)"
   ]
  },
  {
   "cell_type": "code",
   "execution_count": 83,
   "metadata": {},
   "outputs": [
    {
     "name": "stdout",
     "output_type": "stream",
     "text": [
      "False\n",
      "True\n",
      "False\n",
      "False\n"
     ]
    }
   ],
   "source": [
    "print(avisos_detalle_joined.tipo_de_trabajo.isnull().any())\n",
    "print(avisos_detalle_joined.nivel_laboral.isnull().any())\n",
    "print(avisos_detalle_joined.nombre_area.isnull().any())\n",
    "print(avisos_detalle_joined.descripcion.isnull().any())"
   ]
  },
  {
   "cell_type": "code",
   "execution_count": 84,
   "metadata": {},
   "outputs": [
    {
     "name": "stdout",
     "output_type": "stream",
     "text": [
      "Existen 335 avisos que no especifican nivel laboral\n"
     ]
    }
   ],
   "source": [
    "print('Existen',avisos_detalle_joined.nivel_laboral.isnull().sum(), 'avisos que no especifican nivel laboral')"
   ]
  },
  {
   "cell_type": "raw",
   "metadata": {},
   "source": [
    "Los reemplazamos con el valor mas frecuente de ese feature"
   ]
  },
  {
   "cell_type": "code",
   "execution_count": 85,
   "metadata": {},
   "outputs": [
    {
     "data": {
      "text/plain": [
       "'Senior / Semi-Senior'"
      ]
     },
     "execution_count": 85,
     "metadata": {},
     "output_type": "execute_result"
    }
   ],
   "source": [
    "most_freq_nivel_laboral = avisos_detalle_joined.nivel_laboral.mode()[0]\n",
    "most_freq_nivel_laboral"
   ]
  },
  {
   "cell_type": "code",
   "execution_count": 86,
   "metadata": {},
   "outputs": [],
   "source": [
    "avisos_detalle_joined.nivel_laboral.fillna(most_freq_nivel_laboral,inplace=True)\n",
    "avisos_detalle_joined.nivel_laboral.replace(to_replace='None',value=most_freq_nivel_laboral,inplace=True)\n",
    "avisos_detalle_joined.nivel_laboral.replace(to_replace='NaN',value=most_freq_nivel_laboral,inplace=True)\n",
    "avisos_detalle_joined.nivel_laboral.replace(to_replace='nil',value=most_freq_nivel_laboral,inplace=True)"
   ]
  },
  {
   "cell_type": "code",
   "execution_count": 87,
   "metadata": {},
   "outputs": [
    {
     "name": "stdout",
     "output_type": "stream",
     "text": [
      "Existen 0 avisos que no especifican nivel laboral\n"
     ]
    }
   ],
   "source": [
    "print('Existen',avisos_detalle_joined.nivel_laboral.isnull().sum(), 'avisos que no especifican nivel laboral')"
   ]
  },
  {
   "cell_type": "code",
   "execution_count": 88,
   "metadata": {},
   "outputs": [
    {
     "data": {
      "text/html": [
       "<div>\n",
       "<style scoped>\n",
       "    .dataframe tbody tr th:only-of-type {\n",
       "        vertical-align: middle;\n",
       "    }\n",
       "\n",
       "    .dataframe tbody tr th {\n",
       "        vertical-align: top;\n",
       "    }\n",
       "\n",
       "    .dataframe thead th {\n",
       "        text-align: right;\n",
       "    }\n",
       "</style>\n",
       "<table border=\"1\" class=\"dataframe\">\n",
       "  <thead>\n",
       "    <tr style=\"text-align: right;\">\n",
       "      <th></th>\n",
       "      <th>idaviso</th>\n",
       "      <th>titulo</th>\n",
       "      <th>descripcion</th>\n",
       "      <th>tipo_de_trabajo</th>\n",
       "      <th>nivel_laboral</th>\n",
       "      <th>nombre_area</th>\n",
       "      <th>denominacion_empresa</th>\n",
       "    </tr>\n",
       "  </thead>\n",
       "  <tbody>\n",
       "    <tr>\n",
       "      <th>0</th>\n",
       "      <td>17903700</td>\n",
       "      <td>Enfermeras</td>\n",
       "      <td>&lt;p&gt;Solicitamos para importante cadena de farma...</td>\n",
       "      <td>Full-time</td>\n",
       "      <td>Senior / Semi-Senior</td>\n",
       "      <td>Salud</td>\n",
       "      <td>Farmacias Central Oeste</td>\n",
       "    </tr>\n",
       "  </tbody>\n",
       "</table>\n",
       "</div>"
      ],
      "text/plain": [
       "    idaviso      titulo                                        descripcion  \\\n",
       "0  17903700  Enfermeras  <p>Solicitamos para importante cadena de farma...   \n",
       "\n",
       "  tipo_de_trabajo         nivel_laboral nombre_area     denominacion_empresa  \n",
       "0       Full-time  Senior / Semi-Senior       Salud  Farmacias Central Oeste  "
      ]
     },
     "execution_count": 88,
     "metadata": {},
     "output_type": "execute_result"
    }
   ],
   "source": [
    "avisos_detalle_joined.head(1)"
   ]
  },
  {
   "cell_type": "raw",
   "metadata": {},
   "source": [
    "Eliminamos el html de la descripcion"
   ]
  },
  {
   "cell_type": "code",
   "execution_count": 89,
   "metadata": {},
   "outputs": [],
   "source": [
    "def clean_html(row):\n",
    "    clean_html_regex = re.compile('<.*?>')\n",
    "    row['descripcion'] = re.sub(clean_html_regex, '', row['descripcion'])\n",
    "    return row\n",
    "\n",
    "avisos_detalle_joined = avisos_detalle_joined.apply(lambda row: clean_html(row), axis=1)"
   ]
  },
  {
   "cell_type": "code",
   "execution_count": 90,
   "metadata": {},
   "outputs": [
    {
     "data": {
      "text/html": [
       "<div>\n",
       "<style scoped>\n",
       "    .dataframe tbody tr th:only-of-type {\n",
       "        vertical-align: middle;\n",
       "    }\n",
       "\n",
       "    .dataframe tbody tr th {\n",
       "        vertical-align: top;\n",
       "    }\n",
       "\n",
       "    .dataframe thead th {\n",
       "        text-align: right;\n",
       "    }\n",
       "</style>\n",
       "<table border=\"1\" class=\"dataframe\">\n",
       "  <thead>\n",
       "    <tr style=\"text-align: right;\">\n",
       "      <th></th>\n",
       "      <th>idaviso</th>\n",
       "      <th>titulo</th>\n",
       "      <th>descripcion</th>\n",
       "      <th>tipo_de_trabajo</th>\n",
       "      <th>nivel_laboral</th>\n",
       "      <th>nombre_area</th>\n",
       "      <th>denominacion_empresa</th>\n",
       "    </tr>\n",
       "  </thead>\n",
       "  <tbody>\n",
       "    <tr>\n",
       "      <th>0</th>\n",
       "      <td>17903700</td>\n",
       "      <td>Enfermeras</td>\n",
       "      <td>Solicitamos para importante cadena de farmacia...</td>\n",
       "      <td>Full-time</td>\n",
       "      <td>Senior / Semi-Senior</td>\n",
       "      <td>Salud</td>\n",
       "      <td>Farmacias Central Oeste</td>\n",
       "    </tr>\n",
       "  </tbody>\n",
       "</table>\n",
       "</div>"
      ],
      "text/plain": [
       "    idaviso      titulo                                        descripcion  \\\n",
       "0  17903700  Enfermeras  Solicitamos para importante cadena de farmacia...   \n",
       "\n",
       "  tipo_de_trabajo         nivel_laboral nombre_area     denominacion_empresa  \n",
       "0       Full-time  Senior / Semi-Senior       Salud  Farmacias Central Oeste  "
      ]
     },
     "execution_count": 90,
     "metadata": {},
     "output_type": "execute_result"
    }
   ],
   "source": [
    "avisos_detalle_joined.head(1)"
   ]
  },
  {
   "cell_type": "code",
   "execution_count": 91,
   "metadata": {},
   "outputs": [
    {
     "data": {
      "text/plain": [
       "0    Solicitamos para importante cadena de farmacia...\n",
       "1    TE GUSTA MANEJAR? QUERES GANAR PLATA HACIENDO ...\n",
       "2    OPERARIOS DE PLANTANos encontramos en la búsqu...\n",
       "3    Agente\\r\\noficial Selecciona:\\r\\n \\r\\nNuestra ...\n",
       "4    Centro Médico Accord se encuentra en la búsque...\n",
       "Name: descripcion, dtype: object"
      ]
     },
     "execution_count": 91,
     "metadata": {},
     "output_type": "execute_result"
    }
   ],
   "source": [
    "avisos_detalle_joined['descripcion'].head(5)"
   ]
  },
  {
   "cell_type": "markdown",
   "metadata": {},
   "source": [
    "**Clustering para descripcion**"
   ]
  },
  {
   "cell_type": "code",
   "execution_count": 92,
   "metadata": {},
   "outputs": [
    {
     "name": "stdout",
     "output_type": "stream",
     "text": [
      "(25743, 1048576)\n",
      "CPU times: user 4.18 s, sys: 52 ms, total: 4.23 s\n",
      "Wall time: 4.34 s\n"
     ]
    }
   ],
   "source": [
    "%%time\n",
    "from sklearn.pipeline import make_pipeline\n",
    "from sklearn.feature_extraction.text import TfidfVectorizer, TfidfTransformer, HashingVectorizer\n",
    "from stop_words import get_stop_words\n",
    "\n",
    "stop_words = get_stop_words('es')\n",
    "\n",
    "# Elegir uno HashingTrick/TF-IDF_Vectorizer\n",
    "# n_features para elegir la cantidad de cols\n",
    "hash_vectorizer = make_pipeline(HashingVectorizer(), TfidfTransformer())\n",
    "X = hash_vectorizer.fit_transform(avisos_detalle_joined.descripcion.values)\n",
    "#tfidf_vectorizer = TfidfVectorizer(stop_words=stop_words)\n",
    "#X = tfidf_vectorizer.fit_transform(avisos.descripcion.values)\n",
    "#print(tfidf_vectorizer.vocabulary_)\n",
    "#print(tfidf_vectorizer.idf_)\n",
    "print(X.shape)\n",
    "X"
   ]
  },
  {
   "cell_type": "code",
   "execution_count": 93,
   "metadata": {},
   "outputs": [
    {
     "name": "stdout",
     "output_type": "stream",
     "text": [
      "k: 2 | cost: 22508.649249313894\n",
      "k: 3 | cost: 22261.59177723094\n",
      "k: 4 | cost: 21772.240573260246\n",
      "k: 5 | cost: 21672.695120966535\n",
      "k: 6 | cost: 21616.89773644493\n",
      "k: 7 | cost: 21592.40095587938\n",
      "k: 8 | cost: 21828.52052208916\n",
      "k: 9 | cost: 21438.37675781041\n",
      "k: 10 | cost: 21426.072935606167\n",
      "k: 11 | cost: 21397.680638922495\n",
      "k: 12 | cost: 21430.820063054787\n",
      "k: 13 | cost: 21334.390091372727\n",
      "k: 14 | cost: 21301.64655403392\n",
      "k: 15 | cost: 21249.787223709543\n",
      "k: 16 | cost: 21279.35317956994\n",
      "k: 17 | cost: 21296.54044625051\n",
      "k: 18 | cost: 21187.852405072794\n",
      "k: 19 | cost: 21180.97408179432\n",
      "k: 20 | cost: 21147.383176480238\n"
     ]
    },
    {
     "data": {
      "image/png": "[encoded data removed]",
      "text/plain": [
       "<matplotlib.figure.Figure at 0x7fabaf477ac8>"
      ]
     },
     "metadata": {},
     "output_type": "display_data"
    },
    {
     "name": "stdout",
     "output_type": "stream",
     "text": [
      "CPU times: user 7min 35s, sys: 8.79 s, total: 7min 44s\n",
      "Wall time: 5min 13s\n"
     ]
    }
   ],
   "source": [
    "%%time\n",
    "from sklearn.cluster import AgglomerativeClustering, KMeans, MiniBatchKMeans\n",
    "\n",
    "#hc = AgglomerativeClustering()\n",
    "#hc\n",
    "clusters = []\n",
    "costs = []\n",
    "for n_clusters in range(2,21):\n",
    "  #model = KMeans(n_clusters=n_clusters, n_jobs=-2)\n",
    "  model = MiniBatchKMeans(n_clusters=n_clusters, batch_size=10000)\n",
    "  model.fit(X)\n",
    "  clusters.append(n_clusters)\n",
    "  costs.append(model.inertia_)\n",
    "  print('k:',n_clusters,'| cost:', model.inertia_)\n",
    "plt.figure(figsize=(12,4))\n",
    "plt.plot(clusters,costs)\n",
    "plt.show()"
   ]
  },
  {
   "cell_type": "code",
   "execution_count": 94,
   "metadata": {},
   "outputs": [
    {
     "name": "stdout",
     "output_type": "stream",
     "text": [
      "CPU times: user 17.1 s, sys: 416 ms, total: 17.5 s\n",
      "Wall time: 10 s\n"
     ]
    }
   ],
   "source": [
    "%%time\n",
    "mbkm_model = MiniBatchKMeans(n_clusters=7, batch_size=10000)\n",
    "mbkm_model.fit(X)"
   ]
  },
  {
   "cell_type": "code",
   "execution_count": 95,
   "metadata": {},
   "outputs": [
    {
     "data": {
      "text/html": [
       "<div>\n",
       "<style scoped>\n",
       "    .dataframe tbody tr th:only-of-type {\n",
       "        vertical-align: middle;\n",
       "    }\n",
       "\n",
       "    .dataframe tbody tr th {\n",
       "        vertical-align: top;\n",
       "    }\n",
       "\n",
       "    .dataframe thead th {\n",
       "        text-align: right;\n",
       "    }\n",
       "</style>\n",
       "<table border=\"1\" class=\"dataframe\">\n",
       "  <thead>\n",
       "    <tr style=\"text-align: right;\">\n",
       "      <th></th>\n",
       "      <th>desc_1</th>\n",
       "      <th>desc_2</th>\n",
       "      <th>desc_3</th>\n",
       "      <th>desc_4</th>\n",
       "      <th>desc_5</th>\n",
       "      <th>desc_6</th>\n",
       "      <th>desc_7</th>\n",
       "    </tr>\n",
       "  </thead>\n",
       "  <tbody>\n",
       "    <tr>\n",
       "      <th>0</th>\n",
       "      <td>0</td>\n",
       "      <td>0</td>\n",
       "      <td>0</td>\n",
       "      <td>0</td>\n",
       "      <td>1</td>\n",
       "      <td>0</td>\n",
       "      <td>0</td>\n",
       "    </tr>\n",
       "    <tr>\n",
       "      <th>1</th>\n",
       "      <td>0</td>\n",
       "      <td>0</td>\n",
       "      <td>0</td>\n",
       "      <td>1</td>\n",
       "      <td>0</td>\n",
       "      <td>0</td>\n",
       "      <td>0</td>\n",
       "    </tr>\n",
       "    <tr>\n",
       "      <th>2</th>\n",
       "      <td>0</td>\n",
       "      <td>0</td>\n",
       "      <td>0</td>\n",
       "      <td>0</td>\n",
       "      <td>0</td>\n",
       "      <td>1</td>\n",
       "      <td>0</td>\n",
       "    </tr>\n",
       "    <tr>\n",
       "      <th>3</th>\n",
       "      <td>0</td>\n",
       "      <td>0</td>\n",
       "      <td>0</td>\n",
       "      <td>1</td>\n",
       "      <td>0</td>\n",
       "      <td>0</td>\n",
       "      <td>0</td>\n",
       "    </tr>\n",
       "  </tbody>\n",
       "</table>\n",
       "</div>"
      ],
      "text/plain": [
       "   desc_1  desc_2  desc_3  desc_4  desc_5  desc_6  desc_7\n",
       "0       0       0       0       0       1       0       0\n",
       "1       0       0       0       1       0       0       0\n",
       "2       0       0       0       0       0       1       0\n",
       "3       0       0       0       1       0       0       0"
      ]
     },
     "execution_count": 95,
     "metadata": {},
     "output_type": "execute_result"
    }
   ],
   "source": [
    "pd.get_dummies(mbkm_model.labels_).rename(columns=(dict([(n,f'desc_{n+1}') for n in range(7)]))).head(4)"
   ]
  },
  {
   "cell_type": "code",
   "execution_count": 96,
   "metadata": {},
   "outputs": [],
   "source": [
    "descripciones = pd.get_dummies(mbkm_model.labels_).rename(columns=(dict([(n,f'desc_{n+1}') for n in range(7)])))\n",
    "avisos_detalle_joined = pd.concat([avisos_detalle_joined, descripciones], axis=1)"
   ]
  },
  {
   "cell_type": "code",
   "execution_count": 97,
   "metadata": {},
   "outputs": [
    {
     "data": {
      "text/html": [
       "<div>\n",
       "<style scoped>\n",
       "    .dataframe tbody tr th:only-of-type {\n",
       "        vertical-align: middle;\n",
       "    }\n",
       "\n",
       "    .dataframe tbody tr th {\n",
       "        vertical-align: top;\n",
       "    }\n",
       "\n",
       "    .dataframe thead th {\n",
       "        text-align: right;\n",
       "    }\n",
       "</style>\n",
       "<table border=\"1\" class=\"dataframe\">\n",
       "  <thead>\n",
       "    <tr style=\"text-align: right;\">\n",
       "      <th></th>\n",
       "      <th>idaviso</th>\n",
       "      <th>titulo</th>\n",
       "      <th>descripcion</th>\n",
       "      <th>tipo_de_trabajo</th>\n",
       "      <th>nivel_laboral</th>\n",
       "      <th>nombre_area</th>\n",
       "      <th>denominacion_empresa</th>\n",
       "      <th>desc_1</th>\n",
       "      <th>desc_2</th>\n",
       "      <th>desc_3</th>\n",
       "      <th>desc_4</th>\n",
       "      <th>desc_5</th>\n",
       "      <th>desc_6</th>\n",
       "      <th>desc_7</th>\n",
       "    </tr>\n",
       "  </thead>\n",
       "  <tbody>\n",
       "    <tr>\n",
       "      <th>0</th>\n",
       "      <td>17903700</td>\n",
       "      <td>Enfermeras</td>\n",
       "      <td>Solicitamos para importante cadena de farmacia...</td>\n",
       "      <td>Full-time</td>\n",
       "      <td>Senior / Semi-Senior</td>\n",
       "      <td>Salud</td>\n",
       "      <td>Farmacias Central Oeste</td>\n",
       "      <td>0</td>\n",
       "      <td>0</td>\n",
       "      <td>0</td>\n",
       "      <td>0</td>\n",
       "      <td>1</td>\n",
       "      <td>0</td>\n",
       "      <td>0</td>\n",
       "    </tr>\n",
       "  </tbody>\n",
       "</table>\n",
       "</div>"
      ],
      "text/plain": [
       "    idaviso      titulo                                        descripcion  \\\n",
       "0  17903700  Enfermeras  Solicitamos para importante cadena de farmacia...   \n",
       "\n",
       "  tipo_de_trabajo         nivel_laboral nombre_area     denominacion_empresa  \\\n",
       "0       Full-time  Senior / Semi-Senior       Salud  Farmacias Central Oeste   \n",
       "\n",
       "   desc_1  desc_2  desc_3  desc_4  desc_5  desc_6  desc_7  \n",
       "0       0       0       0       0       1       0       0  "
      ]
     },
     "execution_count": 97,
     "metadata": {},
     "output_type": "execute_result"
    }
   ],
   "source": [
    "avisos_detalle_joined.head(1)"
   ]
  },
  {
   "cell_type": "code",
   "execution_count": 99,
   "metadata": {},
   "outputs": [],
   "source": [
    "avisos_detalle_joined.drop(columns=['descripcion'], inplace=True)"
   ]
  },
  {
   "cell_type": "code",
   "execution_count": 100,
   "metadata": {},
   "outputs": [],
   "source": [
    "avisos_detalle_joined.drop(columns=['titulo'], inplace=True)"
   ]
  },
  {
   "cell_type": "code",
   "execution_count": 101,
   "metadata": {},
   "outputs": [
    {
     "name": "stdout",
     "output_type": "stream",
     "text": [
      "25743\n"
     ]
    }
   ],
   "source": [
    "print(len(avisos_detalle_joined))"
   ]
  },
  {
   "cell_type": "raw",
   "metadata": {},
   "source": [
    "Elimino la columna denominacion_empresa"
   ]
  },
  {
   "cell_type": "code",
   "execution_count": 102,
   "metadata": {},
   "outputs": [],
   "source": [
    "avisos_detalle_joined.drop(['denominacion_empresa'], axis=1, inplace=True)"
   ]
  },
  {
   "cell_type": "code",
   "execution_count": 103,
   "metadata": {},
   "outputs": [],
   "source": [
    "def remove_whitespaces(row, col):\n",
    "    row[col] = \"\".join(row[col].split())\n",
    "    return row"
   ]
  },
  {
   "cell_type": "code",
   "execution_count": 104,
   "metadata": {},
   "outputs": [],
   "source": [
    "# Eliminamos los espacios en blanco para evitar problemas con el nombre de las columnas\n",
    "avisos_detalle_joined = avisos_detalle_joined.apply(lambda row: remove_whitespaces(row, 'nivel_laboral'), axis=1)\n",
    "avisos_detalle_joined = avisos_detalle_joined.apply(lambda row: remove_whitespaces(row, 'nombre_area'), axis=1)"
   ]
  },
  {
   "cell_type": "code",
   "execution_count": 105,
   "metadata": {},
   "outputs": [
    {
     "name": "stdout",
     "output_type": "stream",
     "text": [
      "25743\n"
     ]
    }
   ],
   "source": [
    "print(len(avisos_detalle_joined))"
   ]
  },
  {
   "cell_type": "code",
   "execution_count": 106,
   "metadata": {},
   "outputs": [],
   "source": [
    "avisos_detalle_joined.drop_duplicates(subset='idaviso', keep=\"last\", inplace=True)"
   ]
  },
  {
   "cell_type": "code",
   "execution_count": 107,
   "metadata": {},
   "outputs": [
    {
     "name": "stdout",
     "output_type": "stream",
     "text": [
      "25288\n"
     ]
    }
   ],
   "source": [
    "print(len(avisos_detalle_joined))"
   ]
  },
  {
   "cell_type": "code",
   "execution_count": 108,
   "metadata": {},
   "outputs": [
    {
     "data": {
      "text/plain": [
       "idaviso             int64\n",
       "tipo_de_trabajo    object\n",
       "nivel_laboral      object\n",
       "nombre_area        object\n",
       "desc_1              int64\n",
       "desc_2              int64\n",
       "desc_3              int64\n",
       "desc_4              int64\n",
       "desc_5              int64\n",
       "desc_6              int64\n",
       "desc_7              int64\n",
       "dtype: object"
      ]
     },
     "execution_count": 108,
     "metadata": {},
     "output_type": "execute_result"
    }
   ],
   "source": [
    "avisos_detalle_joined.dtypes"
   ]
  },
  {
   "cell_type": "markdown",
   "metadata": {},
   "source": [
    "#### Transformaciones para las postulaciones"
   ]
  },
  {
   "cell_type": "code",
   "execution_count": 109,
   "metadata": {},
   "outputs": [
    {
     "data": {
      "text/html": [
       "<div>\n",
       "<style scoped>\n",
       "    .dataframe tbody tr th:only-of-type {\n",
       "        vertical-align: middle;\n",
       "    }\n",
       "\n",
       "    .dataframe tbody tr th {\n",
       "        vertical-align: top;\n",
       "    }\n",
       "\n",
       "    .dataframe thead th {\n",
       "        text-align: right;\n",
       "    }\n",
       "</style>\n",
       "<table border=\"1\" class=\"dataframe\">\n",
       "  <thead>\n",
       "    <tr style=\"text-align: right;\">\n",
       "      <th></th>\n",
       "      <th>idaviso</th>\n",
       "      <th>idpostulante</th>\n",
       "      <th>fechapostulacion</th>\n",
       "    </tr>\n",
       "  </thead>\n",
       "  <tbody>\n",
       "    <tr>\n",
       "      <th>0</th>\n",
       "      <td>1112257047</td>\n",
       "      <td>NM5M</td>\n",
       "      <td>2018-01-15 16:22:34</td>\n",
       "    </tr>\n",
       "  </tbody>\n",
       "</table>\n",
       "</div>"
      ],
      "text/plain": [
       "      idaviso idpostulante     fechapostulacion\n",
       "0  1112257047         NM5M  2018-01-15 16:22:34"
      ]
     },
     "execution_count": 109,
     "metadata": {},
     "output_type": "execute_result"
    }
   ],
   "source": [
    "postulaciones_train.head(1)"
   ]
  },
  {
   "cell_type": "code",
   "execution_count": 110,
   "metadata": {},
   "outputs": [],
   "source": [
    "postulaciones_train.drop(columns=['fechapostulacion'], inplace=True)"
   ]
  },
  {
   "cell_type": "code",
   "execution_count": 111,
   "metadata": {},
   "outputs": [],
   "source": [
    "# Contamos la cantidad de postulaciones para cada aviso y lo agregamos a una nueva columna\n",
    "cant_postulaciones_por_aviso = postulaciones_train.groupby('idaviso').agg({'idpostulante':'count'})\n",
    "cant_postulaciones_por_aviso.reset_index(inplace=True)\n",
    "cant_postulaciones_por_aviso.rename(columns = {'idpostulante':'cant_postulaciones_aviso'}, inplace = True)"
   ]
  },
  {
   "cell_type": "code",
   "execution_count": 112,
   "metadata": {},
   "outputs": [
    {
     "data": {
      "text/html": [
       "<div>\n",
       "<style scoped>\n",
       "    .dataframe tbody tr th:only-of-type {\n",
       "        vertical-align: middle;\n",
       "    }\n",
       "\n",
       "    .dataframe tbody tr th {\n",
       "        vertical-align: top;\n",
       "    }\n",
       "\n",
       "    .dataframe thead th {\n",
       "        text-align: right;\n",
       "    }\n",
       "</style>\n",
       "<table border=\"1\" class=\"dataframe\">\n",
       "  <thead>\n",
       "    <tr style=\"text-align: right;\">\n",
       "      <th></th>\n",
       "      <th>idaviso</th>\n",
       "      <th>cant_postulaciones_aviso</th>\n",
       "    </tr>\n",
       "  </thead>\n",
       "  <tbody>\n",
       "    <tr>\n",
       "      <th>0</th>\n",
       "      <td>8725750</td>\n",
       "      <td>137</td>\n",
       "    </tr>\n",
       "    <tr>\n",
       "      <th>1</th>\n",
       "      <td>11740890</td>\n",
       "      <td>13</td>\n",
       "    </tr>\n",
       "    <tr>\n",
       "      <th>2</th>\n",
       "      <td>12543760</td>\n",
       "      <td>1080</td>\n",
       "    </tr>\n",
       "  </tbody>\n",
       "</table>\n",
       "</div>"
      ],
      "text/plain": [
       "    idaviso  cant_postulaciones_aviso\n",
       "0   8725750                       137\n",
       "1  11740890                        13\n",
       "2  12543760                      1080"
      ]
     },
     "execution_count": 112,
     "metadata": {},
     "output_type": "execute_result"
    }
   ],
   "source": [
    "cant_postulaciones_por_aviso.head(3)"
   ]
  },
  {
   "cell_type": "code",
   "execution_count": 113,
   "metadata": {},
   "outputs": [
    {
     "data": {
      "text/plain": [
       "idaviso                     int64\n",
       "cant_postulaciones_aviso    int64\n",
       "dtype: object"
      ]
     },
     "execution_count": 113,
     "metadata": {},
     "output_type": "execute_result"
    }
   ],
   "source": [
    "cant_postulaciones_por_aviso.dtypes"
   ]
  },
  {
   "cell_type": "markdown",
   "metadata": {},
   "source": [
    "#### Transformaciones para las vistas"
   ]
  },
  {
   "cell_type": "code",
   "execution_count": 114,
   "metadata": {},
   "outputs": [],
   "source": [
    "vistas_train.rename(columns={'idAviso':'idaviso','timestamp':'fechavista'}, inplace=True)\n",
    "vistas_desde_15_04.rename(columns={'idAviso':'idaviso','timestamp':'fechavista'}, inplace=True)"
   ]
  },
  {
   "cell_type": "code",
   "execution_count": 115,
   "metadata": {},
   "outputs": [],
   "source": [
    "vistas_joined = pd.concat([vistas_train, vistas_desde_15_04])"
   ]
  },
  {
   "cell_type": "code",
   "execution_count": 116,
   "metadata": {},
   "outputs": [
    {
     "name": "stdout",
     "output_type": "stream",
     "text": [
      "18330821\n",
      "18330821\n"
     ]
    }
   ],
   "source": [
    "print(len(vistas_joined))\n",
    "vistas_joined.drop_duplicates(subset=['idaviso', 'fechavista', 'idpostulante'])\n",
    "print(len(vistas_joined))"
   ]
  },
  {
   "cell_type": "code",
   "execution_count": 117,
   "metadata": {},
   "outputs": [],
   "source": [
    "vistas_joined.drop(columns=['fechavista'], inplace=True)"
   ]
  },
  {
   "cell_type": "code",
   "execution_count": 118,
   "metadata": {},
   "outputs": [
    {
     "data": {
      "text/html": [
       "<div>\n",
       "<style scoped>\n",
       "    .dataframe tbody tr th:only-of-type {\n",
       "        vertical-align: middle;\n",
       "    }\n",
       "\n",
       "    .dataframe tbody tr th {\n",
       "        vertical-align: top;\n",
       "    }\n",
       "\n",
       "    .dataframe thead th {\n",
       "        text-align: right;\n",
       "    }\n",
       "</style>\n",
       "<table border=\"1\" class=\"dataframe\">\n",
       "  <thead>\n",
       "    <tr style=\"text-align: right;\">\n",
       "      <th></th>\n",
       "      <th>idaviso</th>\n",
       "      <th>idpostulante</th>\n",
       "    </tr>\n",
       "  </thead>\n",
       "  <tbody>\n",
       "    <tr>\n",
       "      <th>0</th>\n",
       "      <td>1111780242</td>\n",
       "      <td>YjVJQ6Z</td>\n",
       "    </tr>\n",
       "  </tbody>\n",
       "</table>\n",
       "</div>"
      ],
      "text/plain": [
       "      idaviso idpostulante\n",
       "0  1111780242      YjVJQ6Z"
      ]
     },
     "execution_count": 118,
     "metadata": {},
     "output_type": "execute_result"
    }
   ],
   "source": [
    "vistas_joined.head(1)"
   ]
  },
  {
   "cell_type": "code",
   "execution_count": 119,
   "metadata": {},
   "outputs": [
    {
     "data": {
      "text/html": [
       "<div>\n",
       "<style scoped>\n",
       "    .dataframe tbody tr th:only-of-type {\n",
       "        vertical-align: middle;\n",
       "    }\n",
       "\n",
       "    .dataframe tbody tr th {\n",
       "        vertical-align: top;\n",
       "    }\n",
       "\n",
       "    .dataframe thead th {\n",
       "        text-align: right;\n",
       "    }\n",
       "</style>\n",
       "<table border=\"1\" class=\"dataframe\">\n",
       "  <thead>\n",
       "    <tr style=\"text-align: right;\">\n",
       "      <th></th>\n",
       "      <th>idaviso</th>\n",
       "      <th>cant_vistas_aviso</th>\n",
       "    </tr>\n",
       "  </thead>\n",
       "  <tbody>\n",
       "    <tr>\n",
       "      <th>0</th>\n",
       "      <td>18</td>\n",
       "      <td>3</td>\n",
       "    </tr>\n",
       "    <tr>\n",
       "      <th>1</th>\n",
       "      <td>48375</td>\n",
       "      <td>1</td>\n",
       "    </tr>\n",
       "    <tr>\n",
       "      <th>2</th>\n",
       "      <td>169730</td>\n",
       "      <td>51</td>\n",
       "    </tr>\n",
       "    <tr>\n",
       "      <th>3</th>\n",
       "      <td>178417</td>\n",
       "      <td>1</td>\n",
       "    </tr>\n",
       "    <tr>\n",
       "      <th>4</th>\n",
       "      <td>189006</td>\n",
       "      <td>2</td>\n",
       "    </tr>\n",
       "  </tbody>\n",
       "</table>\n",
       "</div>"
      ],
      "text/plain": [
       "   idaviso  cant_vistas_aviso\n",
       "0       18                  3\n",
       "1    48375                  1\n",
       "2   169730                 51\n",
       "3   178417                  1\n",
       "4   189006                  2"
      ]
     },
     "execution_count": 119,
     "metadata": {},
     "output_type": "execute_result"
    }
   ],
   "source": [
    "# Contamos la cantidad de postulaciones para cada aviso y lo agregamos a una nueva columna\n",
    "cant_vistas_por_aviso = vistas_joined.groupby('idaviso').agg({'idpostulante':'count'})\n",
    "cant_vistas_por_aviso.reset_index(inplace=True)\n",
    "cant_vistas_por_aviso.rename(columns = {'idpostulante':'cant_vistas_aviso'}, inplace = True)\n",
    "cant_vistas_por_aviso.head(5)"
   ]
  },
  {
   "cell_type": "code",
   "execution_count": 120,
   "metadata": {},
   "outputs": [
    {
     "data": {
      "text/plain": [
       "idaviso              int64\n",
       "cant_vistas_aviso    int64\n",
       "dtype: object"
      ]
     },
     "execution_count": 120,
     "metadata": {},
     "output_type": "execute_result"
    }
   ],
   "source": [
    "cant_vistas_por_aviso.dtypes"
   ]
  },
  {
   "cell_type": "code",
   "execution_count": 121,
   "metadata": {},
   "outputs": [
    {
     "data": {
      "text/html": [
       "<div>\n",
       "<style scoped>\n",
       "    .dataframe tbody tr th:only-of-type {\n",
       "        vertical-align: middle;\n",
       "    }\n",
       "\n",
       "    .dataframe tbody tr th {\n",
       "        vertical-align: top;\n",
       "    }\n",
       "\n",
       "    .dataframe thead th {\n",
       "        text-align: right;\n",
       "    }\n",
       "</style>\n",
       "<table border=\"1\" class=\"dataframe\">\n",
       "  <thead>\n",
       "    <tr style=\"text-align: right;\">\n",
       "      <th></th>\n",
       "      <th>idaviso</th>\n",
       "      <th>tipo_de_trabajo</th>\n",
       "      <th>nivel_laboral</th>\n",
       "      <th>nombre_area</th>\n",
       "      <th>desc_1</th>\n",
       "      <th>desc_2</th>\n",
       "      <th>desc_3</th>\n",
       "      <th>desc_4</th>\n",
       "      <th>desc_5</th>\n",
       "      <th>desc_6</th>\n",
       "      <th>desc_7</th>\n",
       "    </tr>\n",
       "  </thead>\n",
       "  <tbody>\n",
       "    <tr>\n",
       "      <th>2</th>\n",
       "      <td>1000872556</td>\n",
       "      <td>Full-time</td>\n",
       "      <td>Senior/Semi-Senior</td>\n",
       "      <td>Producción</td>\n",
       "      <td>0</td>\n",
       "      <td>0</td>\n",
       "      <td>0</td>\n",
       "      <td>0</td>\n",
       "      <td>0</td>\n",
       "      <td>1</td>\n",
       "      <td>0</td>\n",
       "    </tr>\n",
       "  </tbody>\n",
       "</table>\n",
       "</div>"
      ],
      "text/plain": [
       "      idaviso tipo_de_trabajo       nivel_laboral nombre_area  desc_1  desc_2  \\\n",
       "2  1000872556       Full-time  Senior/Semi-Senior  Producción       0       0   \n",
       "\n",
       "   desc_3  desc_4  desc_5  desc_6  desc_7  \n",
       "2       0       0       0       1       0  "
      ]
     },
     "execution_count": 121,
     "metadata": {},
     "output_type": "execute_result"
    }
   ],
   "source": [
    "avisos_detalle_joined.head(1)"
   ]
  },
  {
   "cell_type": "code",
   "execution_count": 122,
   "metadata": {},
   "outputs": [],
   "source": [
    "avisos_detalle_joined = pd.merge(avisos_detalle_joined, cant_vistas_por_aviso, how='left', on=['idaviso'])"
   ]
  },
  {
   "cell_type": "code",
   "execution_count": 123,
   "metadata": {},
   "outputs": [],
   "source": [
    "avisos_detalle_joined['cant_vistas_aviso'].fillna(0,inplace = True)\n",
    "avisos_detalle_joined['cant_vistas_aviso'] = avisos_detalle_joined['cant_vistas_aviso'].astype(int)"
   ]
  },
  {
   "cell_type": "code",
   "execution_count": 124,
   "metadata": {},
   "outputs": [
    {
     "data": {
      "text/html": [
       "<div>\n",
       "<style scoped>\n",
       "    .dataframe tbody tr th:only-of-type {\n",
       "        vertical-align: middle;\n",
       "    }\n",
       "\n",
       "    .dataframe tbody tr th {\n",
       "        vertical-align: top;\n",
       "    }\n",
       "\n",
       "    .dataframe thead th {\n",
       "        text-align: right;\n",
       "    }\n",
       "</style>\n",
       "<table border=\"1\" class=\"dataframe\">\n",
       "  <thead>\n",
       "    <tr style=\"text-align: right;\">\n",
       "      <th></th>\n",
       "      <th>idaviso</th>\n",
       "      <th>tipo_de_trabajo</th>\n",
       "      <th>nivel_laboral</th>\n",
       "      <th>nombre_area</th>\n",
       "      <th>desc_1</th>\n",
       "      <th>desc_2</th>\n",
       "      <th>desc_3</th>\n",
       "      <th>desc_4</th>\n",
       "      <th>desc_5</th>\n",
       "      <th>desc_6</th>\n",
       "      <th>desc_7</th>\n",
       "      <th>cant_vistas_aviso</th>\n",
       "    </tr>\n",
       "  </thead>\n",
       "  <tbody>\n",
       "    <tr>\n",
       "      <th>0</th>\n",
       "      <td>1000872556</td>\n",
       "      <td>Full-time</td>\n",
       "      <td>Senior/Semi-Senior</td>\n",
       "      <td>Producción</td>\n",
       "      <td>0</td>\n",
       "      <td>0</td>\n",
       "      <td>0</td>\n",
       "      <td>0</td>\n",
       "      <td>0</td>\n",
       "      <td>1</td>\n",
       "      <td>0</td>\n",
       "      <td>1</td>\n",
       "    </tr>\n",
       "    <tr>\n",
       "      <th>1</th>\n",
       "      <td>9240880</td>\n",
       "      <td>Full-time</td>\n",
       "      <td>Jefe/Supervisor/Responsable</td>\n",
       "      <td>Comercial</td>\n",
       "      <td>0</td>\n",
       "      <td>0</td>\n",
       "      <td>0</td>\n",
       "      <td>1</td>\n",
       "      <td>0</td>\n",
       "      <td>0</td>\n",
       "      <td>0</td>\n",
       "      <td>1</td>\n",
       "    </tr>\n",
       "    <tr>\n",
       "      <th>2</th>\n",
       "      <td>1110185164</td>\n",
       "      <td>Full-time</td>\n",
       "      <td>Junior</td>\n",
       "      <td>Administración</td>\n",
       "      <td>0</td>\n",
       "      <td>0</td>\n",
       "      <td>0</td>\n",
       "      <td>0</td>\n",
       "      <td>0</td>\n",
       "      <td>1</td>\n",
       "      <td>0</td>\n",
       "      <td>1</td>\n",
       "    </tr>\n",
       "    <tr>\n",
       "      <th>3</th>\n",
       "      <td>1110513885</td>\n",
       "      <td>Full-time</td>\n",
       "      <td>Junior</td>\n",
       "      <td>Distribución</td>\n",
       "      <td>0</td>\n",
       "      <td>0</td>\n",
       "      <td>0</td>\n",
       "      <td>0</td>\n",
       "      <td>1</td>\n",
       "      <td>0</td>\n",
       "      <td>0</td>\n",
       "      <td>1</td>\n",
       "    </tr>\n",
       "    <tr>\n",
       "      <th>4</th>\n",
       "      <td>1111034024</td>\n",
       "      <td>Full-time</td>\n",
       "      <td>Senior/Semi-Senior</td>\n",
       "      <td>Comercial</td>\n",
       "      <td>0</td>\n",
       "      <td>0</td>\n",
       "      <td>0</td>\n",
       "      <td>1</td>\n",
       "      <td>0</td>\n",
       "      <td>0</td>\n",
       "      <td>0</td>\n",
       "      <td>2</td>\n",
       "    </tr>\n",
       "    <tr>\n",
       "      <th>5</th>\n",
       "      <td>1111101289</td>\n",
       "      <td>Full-time</td>\n",
       "      <td>Senior/Semi-Senior</td>\n",
       "      <td>LiderazgodeProyecto</td>\n",
       "      <td>0</td>\n",
       "      <td>1</td>\n",
       "      <td>0</td>\n",
       "      <td>0</td>\n",
       "      <td>0</td>\n",
       "      <td>0</td>\n",
       "      <td>0</td>\n",
       "      <td>1</td>\n",
       "    </tr>\n",
       "    <tr>\n",
       "      <th>6</th>\n",
       "      <td>1111109704</td>\n",
       "      <td>Full-time</td>\n",
       "      <td>Senior/Semi-Senior</td>\n",
       "      <td>Construcción</td>\n",
       "      <td>0</td>\n",
       "      <td>1</td>\n",
       "      <td>0</td>\n",
       "      <td>0</td>\n",
       "      <td>0</td>\n",
       "      <td>0</td>\n",
       "      <td>0</td>\n",
       "      <td>1</td>\n",
       "    </tr>\n",
       "    <tr>\n",
       "      <th>7</th>\n",
       "      <td>1111172357</td>\n",
       "      <td>Full-time</td>\n",
       "      <td>Senior/Semi-Senior</td>\n",
       "      <td>Administración</td>\n",
       "      <td>0</td>\n",
       "      <td>0</td>\n",
       "      <td>0</td>\n",
       "      <td>1</td>\n",
       "      <td>0</td>\n",
       "      <td>0</td>\n",
       "      <td>0</td>\n",
       "      <td>1</td>\n",
       "    </tr>\n",
       "    <tr>\n",
       "      <th>8</th>\n",
       "      <td>1111174081</td>\n",
       "      <td>Part-time</td>\n",
       "      <td>Senior/Semi-Senior</td>\n",
       "      <td>CallCenter</td>\n",
       "      <td>0</td>\n",
       "      <td>0</td>\n",
       "      <td>0</td>\n",
       "      <td>0</td>\n",
       "      <td>1</td>\n",
       "      <td>0</td>\n",
       "      <td>0</td>\n",
       "      <td>1</td>\n",
       "    </tr>\n",
       "    <tr>\n",
       "      <th>9</th>\n",
       "      <td>1111235995</td>\n",
       "      <td>Full-time</td>\n",
       "      <td>Senior/Semi-Senior</td>\n",
       "      <td>RecursosHumanos</td>\n",
       "      <td>0</td>\n",
       "      <td>1</td>\n",
       "      <td>0</td>\n",
       "      <td>0</td>\n",
       "      <td>0</td>\n",
       "      <td>0</td>\n",
       "      <td>0</td>\n",
       "      <td>1</td>\n",
       "    </tr>\n",
       "    <tr>\n",
       "      <th>10</th>\n",
       "      <td>1111295058</td>\n",
       "      <td>Full-time</td>\n",
       "      <td>Senior/Semi-Senior</td>\n",
       "      <td>Almacén/Depósito/Expedición</td>\n",
       "      <td>0</td>\n",
       "      <td>0</td>\n",
       "      <td>0</td>\n",
       "      <td>0</td>\n",
       "      <td>1</td>\n",
       "      <td>0</td>\n",
       "      <td>0</td>\n",
       "      <td>1</td>\n",
       "    </tr>\n",
       "    <tr>\n",
       "      <th>11</th>\n",
       "      <td>1111295896</td>\n",
       "      <td>Full-time</td>\n",
       "      <td>Senior/Semi-Senior</td>\n",
       "      <td>Ventas</td>\n",
       "      <td>0</td>\n",
       "      <td>0</td>\n",
       "      <td>0</td>\n",
       "      <td>0</td>\n",
       "      <td>1</td>\n",
       "      <td>0</td>\n",
       "      <td>0</td>\n",
       "      <td>1</td>\n",
       "    </tr>\n",
       "    <tr>\n",
       "      <th>12</th>\n",
       "      <td>1111299783</td>\n",
       "      <td>Full-time</td>\n",
       "      <td>Senior/Semi-Senior</td>\n",
       "      <td>Ventas</td>\n",
       "      <td>0</td>\n",
       "      <td>0</td>\n",
       "      <td>0</td>\n",
       "      <td>1</td>\n",
       "      <td>0</td>\n",
       "      <td>0</td>\n",
       "      <td>0</td>\n",
       "      <td>1</td>\n",
       "    </tr>\n",
       "    <tr>\n",
       "      <th>13</th>\n",
       "      <td>1111304803</td>\n",
       "      <td>Full-time</td>\n",
       "      <td>Senior/Semi-Senior</td>\n",
       "      <td>Administración</td>\n",
       "      <td>0</td>\n",
       "      <td>0</td>\n",
       "      <td>0</td>\n",
       "      <td>1</td>\n",
       "      <td>0</td>\n",
       "      <td>0</td>\n",
       "      <td>0</td>\n",
       "      <td>1</td>\n",
       "    </tr>\n",
       "    <tr>\n",
       "      <th>14</th>\n",
       "      <td>1111305759</td>\n",
       "      <td>Full-time</td>\n",
       "      <td>Senior/Semi-Senior</td>\n",
       "      <td>Ventas</td>\n",
       "      <td>0</td>\n",
       "      <td>0</td>\n",
       "      <td>0</td>\n",
       "      <td>0</td>\n",
       "      <td>1</td>\n",
       "      <td>0</td>\n",
       "      <td>0</td>\n",
       "      <td>3</td>\n",
       "    </tr>\n",
       "  </tbody>\n",
       "</table>\n",
       "</div>"
      ],
      "text/plain": [
       "       idaviso tipo_de_trabajo                nivel_laboral  \\\n",
       "0   1000872556       Full-time           Senior/Semi-Senior   \n",
       "1      9240880       Full-time  Jefe/Supervisor/Responsable   \n",
       "2   1110185164       Full-time                       Junior   \n",
       "3   1110513885       Full-time                       Junior   \n",
       "4   1111034024       Full-time           Senior/Semi-Senior   \n",
       "5   1111101289       Full-time           Senior/Semi-Senior   \n",
       "6   1111109704       Full-time           Senior/Semi-Senior   \n",
       "7   1111172357       Full-time           Senior/Semi-Senior   \n",
       "8   1111174081       Part-time           Senior/Semi-Senior   \n",
       "9   1111235995       Full-time           Senior/Semi-Senior   \n",
       "10  1111295058       Full-time           Senior/Semi-Senior   \n",
       "11  1111295896       Full-time           Senior/Semi-Senior   \n",
       "12  1111299783       Full-time           Senior/Semi-Senior   \n",
       "13  1111304803       Full-time           Senior/Semi-Senior   \n",
       "14  1111305759       Full-time           Senior/Semi-Senior   \n",
       "\n",
       "                    nombre_area  desc_1  desc_2  desc_3  desc_4  desc_5  \\\n",
       "0                    Producción       0       0       0       0       0   \n",
       "1                     Comercial       0       0       0       1       0   \n",
       "2                Administración       0       0       0       0       0   \n",
       "3                  Distribución       0       0       0       0       1   \n",
       "4                     Comercial       0       0       0       1       0   \n",
       "5           LiderazgodeProyecto       0       1       0       0       0   \n",
       "6                  Construcción       0       1       0       0       0   \n",
       "7                Administración       0       0       0       1       0   \n",
       "8                    CallCenter       0       0       0       0       1   \n",
       "9               RecursosHumanos       0       1       0       0       0   \n",
       "10  Almacén/Depósito/Expedición       0       0       0       0       1   \n",
       "11                       Ventas       0       0       0       0       1   \n",
       "12                       Ventas       0       0       0       1       0   \n",
       "13               Administración       0       0       0       1       0   \n",
       "14                       Ventas       0       0       0       0       1   \n",
       "\n",
       "    desc_6  desc_7  cant_vistas_aviso  \n",
       "0        1       0                  1  \n",
       "1        0       0                  1  \n",
       "2        1       0                  1  \n",
       "3        0       0                  1  \n",
       "4        0       0                  2  \n",
       "5        0       0                  1  \n",
       "6        0       0                  1  \n",
       "7        0       0                  1  \n",
       "8        0       0                  1  \n",
       "9        0       0                  1  \n",
       "10       0       0                  1  \n",
       "11       0       0                  1  \n",
       "12       0       0                  1  \n",
       "13       0       0                  1  \n",
       "14       0       0                  3  "
      ]
     },
     "execution_count": 124,
     "metadata": {},
     "output_type": "execute_result"
    }
   ],
   "source": [
    "avisos_detalle_joined.head(15)"
   ]
  },
  {
   "cell_type": "code",
   "execution_count": 125,
   "metadata": {},
   "outputs": [
    {
     "data": {
      "text/plain": [
       "0"
      ]
     },
     "execution_count": 125,
     "metadata": {},
     "output_type": "execute_result"
    }
   ],
   "source": [
    "avisos_detalle_joined.cant_vistas_aviso.isnull().sum()"
   ]
  },
  {
   "cell_type": "code",
   "execution_count": 126,
   "metadata": {},
   "outputs": [],
   "source": [
    "avisos_detalle_joined = pd.merge(avisos_detalle_joined, cant_postulaciones_por_aviso, how='left', on=['idaviso'])"
   ]
  },
  {
   "cell_type": "code",
   "execution_count": 127,
   "metadata": {},
   "outputs": [
    {
     "data": {
      "text/html": [
       "<div>\n",
       "<style scoped>\n",
       "    .dataframe tbody tr th:only-of-type {\n",
       "        vertical-align: middle;\n",
       "    }\n",
       "\n",
       "    .dataframe tbody tr th {\n",
       "        vertical-align: top;\n",
       "    }\n",
       "\n",
       "    .dataframe thead th {\n",
       "        text-align: right;\n",
       "    }\n",
       "</style>\n",
       "<table border=\"1\" class=\"dataframe\">\n",
       "  <thead>\n",
       "    <tr style=\"text-align: right;\">\n",
       "      <th></th>\n",
       "      <th>idaviso</th>\n",
       "      <th>tipo_de_trabajo</th>\n",
       "      <th>nivel_laboral</th>\n",
       "      <th>nombre_area</th>\n",
       "      <th>desc_1</th>\n",
       "      <th>desc_2</th>\n",
       "      <th>desc_3</th>\n",
       "      <th>desc_4</th>\n",
       "      <th>desc_5</th>\n",
       "      <th>desc_6</th>\n",
       "      <th>desc_7</th>\n",
       "      <th>cant_vistas_aviso</th>\n",
       "      <th>cant_postulaciones_aviso</th>\n",
       "    </tr>\n",
       "  </thead>\n",
       "  <tbody>\n",
       "    <tr>\n",
       "      <th>0</th>\n",
       "      <td>1000872556</td>\n",
       "      <td>Full-time</td>\n",
       "      <td>Senior/Semi-Senior</td>\n",
       "      <td>Producción</td>\n",
       "      <td>0</td>\n",
       "      <td>0</td>\n",
       "      <td>0</td>\n",
       "      <td>0</td>\n",
       "      <td>0</td>\n",
       "      <td>1</td>\n",
       "      <td>0</td>\n",
       "      <td>1</td>\n",
       "      <td>NaN</td>\n",
       "    </tr>\n",
       "  </tbody>\n",
       "</table>\n",
       "</div>"
      ],
      "text/plain": [
       "      idaviso tipo_de_trabajo       nivel_laboral nombre_area  desc_1  desc_2  \\\n",
       "0  1000872556       Full-time  Senior/Semi-Senior  Producción       0       0   \n",
       "\n",
       "   desc_3  desc_4  desc_5  desc_6  desc_7  cant_vistas_aviso  \\\n",
       "0       0       0       0       1       0                  1   \n",
       "\n",
       "   cant_postulaciones_aviso  \n",
       "0                       NaN  "
      ]
     },
     "execution_count": 127,
     "metadata": {},
     "output_type": "execute_result"
    }
   ],
   "source": [
    "avisos_detalle_joined.head(1)"
   ]
  },
  {
   "cell_type": "code",
   "execution_count": 128,
   "metadata": {},
   "outputs": [],
   "source": [
    "avisos_detalle_joined['cant_postulaciones_aviso'].fillna(0,inplace = True)\n",
    "avisos_detalle_joined['cant_postulaciones_aviso'] = avisos_detalle_joined['cant_postulaciones_aviso'].astype(int)"
   ]
  },
  {
   "cell_type": "code",
   "execution_count": 129,
   "metadata": {},
   "outputs": [
    {
     "data": {
      "text/plain": [
       "0"
      ]
     },
     "execution_count": 129,
     "metadata": {},
     "output_type": "execute_result"
    }
   ],
   "source": [
    "avisos_detalle_joined.cant_postulaciones_aviso.isnull().sum()"
   ]
  },
  {
   "cell_type": "code",
   "execution_count": 130,
   "metadata": {},
   "outputs": [
    {
     "data": {
      "text/html": [
       "<div>\n",
       "<style scoped>\n",
       "    .dataframe tbody tr th:only-of-type {\n",
       "        vertical-align: middle;\n",
       "    }\n",
       "\n",
       "    .dataframe tbody tr th {\n",
       "        vertical-align: top;\n",
       "    }\n",
       "\n",
       "    .dataframe thead th {\n",
       "        text-align: right;\n",
       "    }\n",
       "</style>\n",
       "<table border=\"1\" class=\"dataframe\">\n",
       "  <thead>\n",
       "    <tr style=\"text-align: right;\">\n",
       "      <th></th>\n",
       "      <th>idaviso</th>\n",
       "      <th>tipo_de_trabajo</th>\n",
       "      <th>nivel_laboral</th>\n",
       "      <th>nombre_area</th>\n",
       "      <th>desc_1</th>\n",
       "      <th>desc_2</th>\n",
       "      <th>desc_3</th>\n",
       "      <th>desc_4</th>\n",
       "      <th>desc_5</th>\n",
       "      <th>desc_6</th>\n",
       "      <th>desc_7</th>\n",
       "      <th>cant_vistas_aviso</th>\n",
       "      <th>cant_postulaciones_aviso</th>\n",
       "    </tr>\n",
       "  </thead>\n",
       "  <tbody>\n",
       "    <tr>\n",
       "      <th>15322</th>\n",
       "      <td>1112326185</td>\n",
       "      <td>Full-time</td>\n",
       "      <td>Senior/Semi-Senior</td>\n",
       "      <td>Administración</td>\n",
       "      <td>0</td>\n",
       "      <td>0</td>\n",
       "      <td>0</td>\n",
       "      <td>0</td>\n",
       "      <td>1</td>\n",
       "      <td>0</td>\n",
       "      <td>0</td>\n",
       "      <td>216</td>\n",
       "      <td>1244</td>\n",
       "    </tr>\n",
       "    <tr>\n",
       "      <th>161</th>\n",
       "      <td>1111373847</td>\n",
       "      <td>Full-time</td>\n",
       "      <td>Senior/Semi-Senior</td>\n",
       "      <td>Comercial</td>\n",
       "      <td>0</td>\n",
       "      <td>0</td>\n",
       "      <td>0</td>\n",
       "      <td>1</td>\n",
       "      <td>0</td>\n",
       "      <td>0</td>\n",
       "      <td>0</td>\n",
       "      <td>1</td>\n",
       "      <td>0</td>\n",
       "    </tr>\n",
       "    <tr>\n",
       "      <th>16069</th>\n",
       "      <td>1112455307</td>\n",
       "      <td>Part-time</td>\n",
       "      <td>Senior/Semi-Senior</td>\n",
       "      <td>Ventas</td>\n",
       "      <td>0</td>\n",
       "      <td>0</td>\n",
       "      <td>0</td>\n",
       "      <td>1</td>\n",
       "      <td>0</td>\n",
       "      <td>0</td>\n",
       "      <td>0</td>\n",
       "      <td>331</td>\n",
       "      <td>12</td>\n",
       "    </tr>\n",
       "    <tr>\n",
       "      <th>8405</th>\n",
       "      <td>1112258868</td>\n",
       "      <td>Full-time</td>\n",
       "      <td>Junior</td>\n",
       "      <td>Administración</td>\n",
       "      <td>0</td>\n",
       "      <td>0</td>\n",
       "      <td>0</td>\n",
       "      <td>0</td>\n",
       "      <td>0</td>\n",
       "      <td>1</td>\n",
       "      <td>0</td>\n",
       "      <td>1</td>\n",
       "      <td>248</td>\n",
       "    </tr>\n",
       "    <tr>\n",
       "      <th>13871</th>\n",
       "      <td>1112427016</td>\n",
       "      <td>Full-time</td>\n",
       "      <td>Jefe/Supervisor/Responsable</td>\n",
       "      <td>Farmacéutica</td>\n",
       "      <td>0</td>\n",
       "      <td>0</td>\n",
       "      <td>0</td>\n",
       "      <td>0</td>\n",
       "      <td>0</td>\n",
       "      <td>1</td>\n",
       "      <td>0</td>\n",
       "      <td>1371</td>\n",
       "      <td>220</td>\n",
       "    </tr>\n",
       "  </tbody>\n",
       "</table>\n",
       "</div>"
      ],
      "text/plain": [
       "          idaviso tipo_de_trabajo                nivel_laboral  \\\n",
       "15322  1112326185       Full-time           Senior/Semi-Senior   \n",
       "161    1111373847       Full-time           Senior/Semi-Senior   \n",
       "16069  1112455307       Part-time           Senior/Semi-Senior   \n",
       "8405   1112258868       Full-time                       Junior   \n",
       "13871  1112427016       Full-time  Jefe/Supervisor/Responsable   \n",
       "\n",
       "          nombre_area  desc_1  desc_2  desc_3  desc_4  desc_5  desc_6  desc_7  \\\n",
       "15322  Administración       0       0       0       0       1       0       0   \n",
       "161         Comercial       0       0       0       1       0       0       0   \n",
       "16069          Ventas       0       0       0       1       0       0       0   \n",
       "8405   Administración       0       0       0       0       0       1       0   \n",
       "13871    Farmacéutica       0       0       0       0       0       1       0   \n",
       "\n",
       "       cant_vistas_aviso  cant_postulaciones_aviso  \n",
       "15322                216                      1244  \n",
       "161                    1                         0  \n",
       "16069                331                        12  \n",
       "8405                   1                       248  \n",
       "13871               1371                       220  "
      ]
     },
     "execution_count": 130,
     "metadata": {},
     "output_type": "execute_result"
    }
   ],
   "source": [
    "avisos_detalle_joined.sample(5)"
   ]
  },
  {
   "cell_type": "raw",
   "metadata": {},
   "source": [
    "Exportamos a nuevos csv despues de transformar para evitar recalcular"
   ]
  },
  {
   "cell_type": "code",
   "execution_count": 131,
   "metadata": {},
   "outputs": [],
   "source": [
    "postulantes_joined.to_csv('../data/postulantes_joined.csv', index=False, sep=',', encoding='utf-8')"
   ]
  },
  {
   "cell_type": "code",
   "execution_count": 132,
   "metadata": {},
   "outputs": [],
   "source": [
    "avisos_detalle_joined.to_csv('../data/avisos_detalle_joined.csv', index=False, sep=',', encoding='utf-8')"
   ]
  },
  {
   "cell_type": "code",
   "execution_count": 133,
   "metadata": {},
   "outputs": [],
   "source": [
    "vistas_joined.to_csv('../data/vistas_joined.csv', index=False, sep=',', encoding='utf-8')"
   ]
  },
  {
   "cell_type": "code",
   "execution_count": 134,
   "metadata": {},
   "outputs": [
    {
     "name": "stdout",
     "output_type": "stream",
     "text": [
      "AgglomerativeClustering\t Counter\t HashingVectorizer\t KMeans\t MiniBatchKMeans\t TfidfTransformer\t TfidfVectorizer\t X\t anio_actual\t \n",
      "avisos_detalle\t avisos_detalle_338_faltantes\t avisos_detalle_desde_15_04\t avisos_detalle_hasta_15_04\t avisos_detalle_joined\t avisos_detalle_orig\t avisos_online\t avisos_online_hasta_15_04\t avisos_online_orig\t \n",
      "calendar\t cant_postulaciones_por_aviso\t cant_vistas_por_aviso\t clean_html\t clusters\t costs\t cuantificar_estudios\t datetime\t descripciones\t \n",
      "descuantificar_estudios\t get_stop_words\t hash_vectorizer\t idx\t idx_postulantes_educacion_max\t imread\t make_pipeline\t mbkm_model\t model\t \n",
      "most_freq_estado_estudio\t most_freq_fechanacimiento\t most_freq_nivel_laboral\t most_freq_nombre_estudio\t n_clusters\t np\t pd\t plt\t postulaciones\t \n",
      "postulaciones_hasta_15_04\t postulaciones_orig\t postulaciones_train\t postulantes\t postulantes_educacion\t postulantes_educacion_desde_15_04\t postulantes_educacion_hasta_15_04\t postulantes_educacion_orig\t postulantes_genero_edad\t \n",
      "postulantes_genero_edad_desde_15_04\t postulantes_genero_edad_hasta_15_04\t postulantes_genero_edad_orig\t postulantes_joined\t postulantes_test\t re\t remove_whitespaces\t sns\t stop_words\t \n",
      "vistas\t vistas_desde_15_04\t vistas_hasta_15_04\t vistas_joined\t vistas_orig\t vistas_train\t \n"
     ]
    }
   ],
   "source": [
    "%who"
   ]
  },
  {
   "cell_type": "markdown",
   "metadata": {},
   "source": [
    "# Checkpoint 1"
   ]
  },
  {
   "cell_type": "markdown",
   "metadata": {},
   "source": [
    "# Juntamos todo en un solo DF"
   ]
  },
  {
   "cell_type": "code",
   "execution_count": 2,
   "metadata": {},
   "outputs": [],
   "source": [
    "avisos_detalle_joined = pd.read_csv('../data/avisos_detalle_joined.csv', encoding='utf-8')\n",
    "postulantes_joined = pd.read_csv('../data/postulantes_joined.csv', encoding='utf-8')\n",
    "postulaciones = pd.read_csv('../data/4_postulaciones_train.csv', encoding='utf-8')\n",
    "vistas_joined = pd.read_csv('../data/vistas_joined.csv', sep=',', encoding='utf-8')"
   ]
  },
  {
   "cell_type": "code",
   "execution_count": 3,
   "metadata": {},
   "outputs": [],
   "source": [
    "vistas_test = pd.read_csv('../data/3_vistas_test.csv', encoding='utf-8')"
   ]
  },
  {
   "cell_type": "markdown",
   "metadata": {},
   "source": [
    "## Set a predecir"
   ]
  },
  {
   "cell_type": "code",
   "execution_count": 4,
   "metadata": {},
   "outputs": [],
   "source": [
    "data_predecir = pd.read_csv('../data/test_final_100k.csv', encoding='utf-8')"
   ]
  },
  {
   "cell_type": "code",
   "execution_count": 5,
   "metadata": {},
   "outputs": [
    {
     "name": "stdout",
     "output_type": "stream",
     "text": [
      "Existen ids repetidos en el set a predecir: False\n"
     ]
    }
   ],
   "source": [
    "print('Existen ids repetidos en el set a predecir:',data_predecir.duplicated('id').any())"
   ]
  },
  {
   "cell_type": "code",
   "execution_count": 6,
   "metadata": {},
   "outputs": [
    {
     "name": "stdout",
     "output_type": "stream",
     "text": [
      "Existen datos de 8576 postulantes para los que no tenemos datos\n"
     ]
    }
   ],
   "source": [
    "postulantes_conocidos = postulantes_joined.merge(data_predecir, on=['idpostulante'], how='inner')\n",
    "print('Existen datos de',len(data_predecir) - len(postulantes_conocidos), 'postulantes para los que no tenemos datos')"
   ]
  },
  {
   "cell_type": "markdown",
   "metadata": {},
   "source": [
    "### Genero un set de 'no_postulados' con una muestra random para crear casos en que postulantes no aplican a a visos"
   ]
  },
  {
   "cell_type": "code",
   "execution_count": 7,
   "metadata": {},
   "outputs": [],
   "source": [
    "postulantes_sample = postulantes_joined.sample(10000)\n",
    "for i in range(1,650):\n",
    "    postulantes_sample = pd.concat([postulantes_sample, postulantes_joined.sample(10000)])"
   ]
  },
  {
   "cell_type": "code",
   "execution_count": 8,
   "metadata": {},
   "outputs": [
    {
     "name": "stdout",
     "output_type": "stream",
     "text": [
      "6500000\n"
     ]
    }
   ],
   "source": [
    "print(len(postulantes_sample))"
   ]
  },
  {
   "cell_type": "code",
   "execution_count": 9,
   "metadata": {},
   "outputs": [
    {
     "data": {
      "text/html": [
       "<div>\n",
       "<style scoped>\n",
       "    .dataframe tbody tr th:only-of-type {\n",
       "        vertical-align: middle;\n",
       "    }\n",
       "\n",
       "    .dataframe tbody tr th {\n",
       "        vertical-align: top;\n",
       "    }\n",
       "\n",
       "    .dataframe thead th {\n",
       "        text-align: right;\n",
       "    }\n",
       "</style>\n",
       "<table border=\"1\" class=\"dataframe\">\n",
       "  <thead>\n",
       "    <tr style=\"text-align: right;\">\n",
       "      <th></th>\n",
       "      <th>idpostulante</th>\n",
       "      <th>nombre_estudio</th>\n",
       "      <th>estado_estudio</th>\n",
       "      <th>fechanacimiento</th>\n",
       "      <th>sexo</th>\n",
       "      <th>edad</th>\n",
       "    </tr>\n",
       "  </thead>\n",
       "  <tbody>\n",
       "    <tr>\n",
       "      <th>0</th>\n",
       "      <td>VNrqJwE</td>\n",
       "      <td>Universitario</td>\n",
       "      <td>EnCurso</td>\n",
       "      <td>1987-09-06</td>\n",
       "      <td>MASC</td>\n",
       "      <td>31</td>\n",
       "    </tr>\n",
       "  </tbody>\n",
       "</table>\n",
       "</div>"
      ],
      "text/plain": [
       "  idpostulante nombre_estudio estado_estudio fechanacimiento  sexo  edad\n",
       "0      VNrqJwE  Universitario        EnCurso      1987-09-06  MASC    31"
      ]
     },
     "execution_count": 9,
     "metadata": {},
     "output_type": "execute_result"
    }
   ],
   "source": [
    "postulantes_sample.reset_index(inplace=True)\n",
    "postulantes_sample.drop(columns = 'index', inplace = True)\n",
    "postulantes_sample.head(1)"
   ]
  },
  {
   "cell_type": "code",
   "execution_count": 10,
   "metadata": {},
   "outputs": [],
   "source": [
    "avisos_sample = avisos_detalle_joined.sample(10000)\n",
    "for i in range(1,650):\n",
    "    avisos_sample = pd.concat([avisos_sample, avisos_detalle_joined.sample(10000)])"
   ]
  },
  {
   "cell_type": "code",
   "execution_count": 11,
   "metadata": {},
   "outputs": [
    {
     "name": "stdout",
     "output_type": "stream",
     "text": [
      "6500000\n"
     ]
    }
   ],
   "source": [
    "print(len(avisos_sample))"
   ]
  },
  {
   "cell_type": "code",
   "execution_count": 12,
   "metadata": {},
   "outputs": [
    {
     "data": {
      "text/html": [
       "<div>\n",
       "<style scoped>\n",
       "    .dataframe tbody tr th:only-of-type {\n",
       "        vertical-align: middle;\n",
       "    }\n",
       "\n",
       "    .dataframe tbody tr th {\n",
       "        vertical-align: top;\n",
       "    }\n",
       "\n",
       "    .dataframe thead th {\n",
       "        text-align: right;\n",
       "    }\n",
       "</style>\n",
       "<table border=\"1\" class=\"dataframe\">\n",
       "  <thead>\n",
       "    <tr style=\"text-align: right;\">\n",
       "      <th></th>\n",
       "      <th>idaviso</th>\n",
       "      <th>tipo_de_trabajo</th>\n",
       "      <th>nivel_laboral</th>\n",
       "      <th>nombre_area</th>\n",
       "      <th>desc_1</th>\n",
       "      <th>desc_2</th>\n",
       "      <th>desc_3</th>\n",
       "      <th>desc_4</th>\n",
       "      <th>desc_5</th>\n",
       "      <th>desc_6</th>\n",
       "      <th>desc_7</th>\n",
       "      <th>cant_vistas_aviso</th>\n",
       "      <th>cant_postulaciones_aviso</th>\n",
       "    </tr>\n",
       "  </thead>\n",
       "  <tbody>\n",
       "    <tr>\n",
       "      <th>0</th>\n",
       "      <td>1112502059</td>\n",
       "      <td>Full-time</td>\n",
       "      <td>Senior/Semi-Senior</td>\n",
       "      <td>Producción</td>\n",
       "      <td>0</td>\n",
       "      <td>0</td>\n",
       "      <td>0</td>\n",
       "      <td>0</td>\n",
       "      <td>0</td>\n",
       "      <td>0</td>\n",
       "      <td>1</td>\n",
       "      <td>0</td>\n",
       "      <td>0</td>\n",
       "    </tr>\n",
       "  </tbody>\n",
       "</table>\n",
       "</div>"
      ],
      "text/plain": [
       "      idaviso tipo_de_trabajo       nivel_laboral nombre_area  desc_1  desc_2  \\\n",
       "0  1112502059       Full-time  Senior/Semi-Senior  Producción       0       0   \n",
       "\n",
       "   desc_3  desc_4  desc_5  desc_6  desc_7  cant_vistas_aviso  \\\n",
       "0       0       0       0       0       1                  0   \n",
       "\n",
       "   cant_postulaciones_aviso  \n",
       "0                         0  "
      ]
     },
     "execution_count": 12,
     "metadata": {},
     "output_type": "execute_result"
    }
   ],
   "source": [
    "avisos_sample.reset_index(inplace=True)\n",
    "avisos_sample.drop(columns = 'index', inplace = True)\n",
    "avisos_sample.head(1)"
   ]
  },
  {
   "cell_type": "code",
   "execution_count": 13,
   "metadata": {},
   "outputs": [],
   "source": [
    "no_postulados = postulantes_sample.join(avisos_sample)"
   ]
  },
  {
   "cell_type": "code",
   "execution_count": 14,
   "metadata": {},
   "outputs": [
    {
     "name": "stdout",
     "output_type": "stream",
     "text": [
      "6500000\n"
     ]
    },
    {
     "data": {
      "text/html": [
       "<div>\n",
       "<style scoped>\n",
       "    .dataframe tbody tr th:only-of-type {\n",
       "        vertical-align: middle;\n",
       "    }\n",
       "\n",
       "    .dataframe tbody tr th {\n",
       "        vertical-align: top;\n",
       "    }\n",
       "\n",
       "    .dataframe thead th {\n",
       "        text-align: right;\n",
       "    }\n",
       "</style>\n",
       "<table border=\"1\" class=\"dataframe\">\n",
       "  <thead>\n",
       "    <tr style=\"text-align: right;\">\n",
       "      <th></th>\n",
       "      <th>idpostulante</th>\n",
       "      <th>nombre_estudio</th>\n",
       "      <th>estado_estudio</th>\n",
       "      <th>fechanacimiento</th>\n",
       "      <th>sexo</th>\n",
       "      <th>edad</th>\n",
       "      <th>idaviso</th>\n",
       "      <th>tipo_de_trabajo</th>\n",
       "      <th>nivel_laboral</th>\n",
       "      <th>nombre_area</th>\n",
       "      <th>desc_1</th>\n",
       "      <th>desc_2</th>\n",
       "      <th>desc_3</th>\n",
       "      <th>desc_4</th>\n",
       "      <th>desc_5</th>\n",
       "      <th>desc_6</th>\n",
       "      <th>desc_7</th>\n",
       "      <th>cant_vistas_aviso</th>\n",
       "      <th>cant_postulaciones_aviso</th>\n",
       "    </tr>\n",
       "  </thead>\n",
       "  <tbody>\n",
       "    <tr>\n",
       "      <th>0</th>\n",
       "      <td>VNrqJwE</td>\n",
       "      <td>Universitario</td>\n",
       "      <td>EnCurso</td>\n",
       "      <td>1987-09-06</td>\n",
       "      <td>MASC</td>\n",
       "      <td>31</td>\n",
       "      <td>1112502059</td>\n",
       "      <td>Full-time</td>\n",
       "      <td>Senior/Semi-Senior</td>\n",
       "      <td>Producción</td>\n",
       "      <td>0</td>\n",
       "      <td>0</td>\n",
       "      <td>0</td>\n",
       "      <td>0</td>\n",
       "      <td>0</td>\n",
       "      <td>0</td>\n",
       "      <td>1</td>\n",
       "      <td>0</td>\n",
       "      <td>0</td>\n",
       "    </tr>\n",
       "  </tbody>\n",
       "</table>\n",
       "</div>"
      ],
      "text/plain": [
       "  idpostulante nombre_estudio estado_estudio fechanacimiento  sexo  edad  \\\n",
       "0      VNrqJwE  Universitario        EnCurso      1987-09-06  MASC    31   \n",
       "\n",
       "      idaviso tipo_de_trabajo       nivel_laboral nombre_area  desc_1  desc_2  \\\n",
       "0  1112502059       Full-time  Senior/Semi-Senior  Producción       0       0   \n",
       "\n",
       "   desc_3  desc_4  desc_5  desc_6  desc_7  cant_vistas_aviso  \\\n",
       "0       0       0       0       0       1                  0   \n",
       "\n",
       "   cant_postulaciones_aviso  \n",
       "0                         0  "
      ]
     },
     "execution_count": 14,
     "metadata": {},
     "output_type": "execute_result"
    }
   ],
   "source": [
    "print(len(no_postulados))\n",
    "no_postulados.head(1)"
   ]
  },
  {
   "cell_type": "code",
   "execution_count": 15,
   "metadata": {},
   "outputs": [],
   "source": [
    "no_postulados.to_csv('../data/no_postulados.csv', index=False, sep=',', encoding='utf-8')"
   ]
  },
  {
   "cell_type": "markdown",
   "metadata": {},
   "source": [
    "### Joineo al de entrenamiento con postulaciones (vistas por el momento no) y al de test con el pedido"
   ]
  },
  {
   "cell_type": "code",
   "execution_count": 16,
   "metadata": {},
   "outputs": [
    {
     "name": "stdout",
     "output_type": "stream",
     "text": [
      "6604534\n"
     ]
    }
   ],
   "source": [
    "print(len(postulaciones))"
   ]
  },
  {
   "cell_type": "code",
   "execution_count": 17,
   "metadata": {},
   "outputs": [
    {
     "data": {
      "text/html": [
       "<div>\n",
       "<style scoped>\n",
       "    .dataframe tbody tr th:only-of-type {\n",
       "        vertical-align: middle;\n",
       "    }\n",
       "\n",
       "    .dataframe tbody tr th {\n",
       "        vertical-align: top;\n",
       "    }\n",
       "\n",
       "    .dataframe thead th {\n",
       "        text-align: right;\n",
       "    }\n",
       "</style>\n",
       "<table border=\"1\" class=\"dataframe\">\n",
       "  <thead>\n",
       "    <tr style=\"text-align: right;\">\n",
       "      <th></th>\n",
       "      <th>idaviso</th>\n",
       "      <th>idpostulante</th>\n",
       "      <th>fechapostulacion</th>\n",
       "    </tr>\n",
       "  </thead>\n",
       "  <tbody>\n",
       "    <tr>\n",
       "      <th>0</th>\n",
       "      <td>1112257047</td>\n",
       "      <td>NM5M</td>\n",
       "      <td>2018-01-15 16:22:34</td>\n",
       "    </tr>\n",
       "  </tbody>\n",
       "</table>\n",
       "</div>"
      ],
      "text/plain": [
       "      idaviso idpostulante     fechapostulacion\n",
       "0  1112257047         NM5M  2018-01-15 16:22:34"
      ]
     },
     "execution_count": 17,
     "metadata": {},
     "output_type": "execute_result"
    }
   ],
   "source": [
    "postulaciones.head(1)"
   ]
  },
  {
   "cell_type": "code",
   "execution_count": 18,
   "metadata": {},
   "outputs": [],
   "source": [
    "postulaciones_postulantes = pd.merge(postulaciones, postulantes_joined, on='idpostulante', how='left')"
   ]
  },
  {
   "cell_type": "code",
   "execution_count": 19,
   "metadata": {},
   "outputs": [],
   "source": [
    "postulaciones_postulantes_test = pd.merge(data_predecir, postulantes_joined, on='idpostulante', how='left')"
   ]
  },
  {
   "cell_type": "code",
   "execution_count": 20,
   "metadata": {},
   "outputs": [
    {
     "data": {
      "text/plain": [
       "False"
      ]
     },
     "execution_count": 20,
     "metadata": {},
     "output_type": "execute_result"
    }
   ],
   "source": [
    "postulaciones_postulantes_test.duplicated('id').any()"
   ]
  },
  {
   "cell_type": "code",
   "execution_count": 21,
   "metadata": {},
   "outputs": [
    {
     "data": {
      "text/html": [
       "<div>\n",
       "<style scoped>\n",
       "    .dataframe tbody tr th:only-of-type {\n",
       "        vertical-align: middle;\n",
       "    }\n",
       "\n",
       "    .dataframe tbody tr th {\n",
       "        vertical-align: top;\n",
       "    }\n",
       "\n",
       "    .dataframe thead th {\n",
       "        text-align: right;\n",
       "    }\n",
       "</style>\n",
       "<table border=\"1\" class=\"dataframe\">\n",
       "  <thead>\n",
       "    <tr style=\"text-align: right;\">\n",
       "      <th></th>\n",
       "      <th>idaviso</th>\n",
       "      <th>idpostulante</th>\n",
       "      <th>fechapostulacion</th>\n",
       "      <th>nombre_estudio</th>\n",
       "      <th>estado_estudio</th>\n",
       "      <th>fechanacimiento</th>\n",
       "      <th>sexo</th>\n",
       "      <th>edad</th>\n",
       "    </tr>\n",
       "  </thead>\n",
       "  <tbody>\n",
       "    <tr>\n",
       "      <th>0</th>\n",
       "      <td>1112257047</td>\n",
       "      <td>NM5M</td>\n",
       "      <td>2018-01-15 16:22:34</td>\n",
       "      <td>Secundario</td>\n",
       "      <td>Graduado</td>\n",
       "      <td>1970-12-03</td>\n",
       "      <td>FEM</td>\n",
       "      <td>48</td>\n",
       "    </tr>\n",
       "  </tbody>\n",
       "</table>\n",
       "</div>"
      ],
      "text/plain": [
       "      idaviso idpostulante     fechapostulacion nombre_estudio estado_estudio  \\\n",
       "0  1112257047         NM5M  2018-01-15 16:22:34     Secundario       Graduado   \n",
       "\n",
       "  fechanacimiento sexo  edad  \n",
       "0      1970-12-03  FEM    48  "
      ]
     },
     "execution_count": 21,
     "metadata": {},
     "output_type": "execute_result"
    }
   ],
   "source": [
    "postulaciones_postulantes.head(1)"
   ]
  },
  {
   "cell_type": "code",
   "execution_count": 22,
   "metadata": {},
   "outputs": [
    {
     "data": {
      "text/html": [
       "<div>\n",
       "<style scoped>\n",
       "    .dataframe tbody tr th:only-of-type {\n",
       "        vertical-align: middle;\n",
       "    }\n",
       "\n",
       "    .dataframe tbody tr th {\n",
       "        vertical-align: top;\n",
       "    }\n",
       "\n",
       "    .dataframe thead th {\n",
       "        text-align: right;\n",
       "    }\n",
       "</style>\n",
       "<table border=\"1\" class=\"dataframe\">\n",
       "  <thead>\n",
       "    <tr style=\"text-align: right;\">\n",
       "      <th></th>\n",
       "      <th>id</th>\n",
       "      <th>idaviso</th>\n",
       "      <th>idpostulante</th>\n",
       "      <th>nombre_estudio</th>\n",
       "      <th>estado_estudio</th>\n",
       "      <th>fechanacimiento</th>\n",
       "      <th>sexo</th>\n",
       "      <th>edad</th>\n",
       "    </tr>\n",
       "  </thead>\n",
       "  <tbody>\n",
       "    <tr>\n",
       "      <th>0</th>\n",
       "      <td>0</td>\n",
       "      <td>739260</td>\n",
       "      <td>6M9ZQR</td>\n",
       "      <td>Doctorado</td>\n",
       "      <td>Graduado</td>\n",
       "      <td>1976-03-29</td>\n",
       "      <td>FEM</td>\n",
       "      <td>42.0</td>\n",
       "    </tr>\n",
       "  </tbody>\n",
       "</table>\n",
       "</div>"
      ],
      "text/plain": [
       "   id  idaviso idpostulante nombre_estudio estado_estudio fechanacimiento  \\\n",
       "0   0   739260       6M9ZQR      Doctorado       Graduado      1976-03-29   \n",
       "\n",
       "  sexo  edad  \n",
       "0  FEM  42.0  "
      ]
     },
     "execution_count": 22,
     "metadata": {},
     "output_type": "execute_result"
    }
   ],
   "source": [
    "postulaciones_postulantes_test.head(1)"
   ]
  },
  {
   "cell_type": "code",
   "execution_count": 23,
   "metadata": {},
   "outputs": [
    {
     "name": "stdout",
     "output_type": "stream",
     "text": [
      "6604615\n"
     ]
    }
   ],
   "source": [
    "print(len(postulaciones_postulantes))"
   ]
  },
  {
   "cell_type": "code",
   "execution_count": 24,
   "metadata": {},
   "outputs": [
    {
     "data": {
      "text/plain": [
       "idaviso             False\n",
       "idpostulante        False\n",
       "fechapostulacion    False\n",
       "nombre_estudio      False\n",
       "estado_estudio      False\n",
       "fechanacimiento     False\n",
       "sexo                False\n",
       "edad                False\n",
       "dtype: bool"
      ]
     },
     "execution_count": 24,
     "metadata": {},
     "output_type": "execute_result"
    }
   ],
   "source": [
    "postulaciones_postulantes.isnull().any()"
   ]
  },
  {
   "cell_type": "code",
   "execution_count": 25,
   "metadata": {},
   "outputs": [
    {
     "data": {
      "text/plain": [
       "id                 False\n",
       "idaviso            False\n",
       "idpostulante       False\n",
       "nombre_estudio      True\n",
       "estado_estudio      True\n",
       "fechanacimiento     True\n",
       "sexo                True\n",
       "edad                True\n",
       "dtype: bool"
      ]
     },
     "execution_count": 25,
     "metadata": {},
     "output_type": "execute_result"
    }
   ],
   "source": [
    "postulaciones_postulantes_test.isnull().any()"
   ]
  },
  {
   "cell_type": "raw",
   "metadata": {},
   "source": [
    "Se ve que entre los datos a predecir hay datos de postulantes que no conocemos. Los reemplazamos con los valores mas frecuentes"
   ]
  },
  {
   "cell_type": "code",
   "execution_count": 26,
   "metadata": {},
   "outputs": [
    {
     "data": {
      "text/plain": [
       "False"
      ]
     },
     "execution_count": 26,
     "metadata": {},
     "output_type": "execute_result"
    }
   ],
   "source": [
    "most_freq_nombre_estudio = postulaciones_postulantes_test.nombre_estudio.mode()[0]\n",
    "postulaciones_postulantes_test.nombre_estudio.fillna(most_freq_nombre_estudio,inplace=True)\n",
    "postulaciones_postulantes_test.nombre_estudio.isnull().any()"
   ]
  },
  {
   "cell_type": "code",
   "execution_count": 27,
   "metadata": {},
   "outputs": [
    {
     "data": {
      "text/plain": [
       "False"
      ]
     },
     "execution_count": 27,
     "metadata": {},
     "output_type": "execute_result"
    }
   ],
   "source": [
    "most_freq_estado_estudio = postulaciones_postulantes_test.estado_estudio.mode()[0]\n",
    "postulaciones_postulantes_test.estado_estudio.fillna(most_freq_estado_estudio,inplace=True)\n",
    "postulaciones_postulantes_test.estado_estudio.isnull().any()"
   ]
  },
  {
   "cell_type": "code",
   "execution_count": 28,
   "metadata": {},
   "outputs": [
    {
     "data": {
      "text/plain": [
       "False"
      ]
     },
     "execution_count": 28,
     "metadata": {},
     "output_type": "execute_result"
    }
   ],
   "source": [
    "most_freq_fechanacimiento = postulaciones_postulantes_test.fechanacimiento.mode()[0]\n",
    "postulaciones_postulantes_test.fechanacimiento.fillna(most_freq_fechanacimiento,inplace=True)\n",
    "postulaciones_postulantes_test.fechanacimiento.isnull().any()"
   ]
  },
  {
   "cell_type": "code",
   "execution_count": 29,
   "metadata": {},
   "outputs": [
    {
     "data": {
      "text/plain": [
       "False"
      ]
     },
     "execution_count": 29,
     "metadata": {},
     "output_type": "execute_result"
    }
   ],
   "source": [
    "most_freq_sexo = postulaciones_postulantes_test.sexo.mode()[0]\n",
    "postulaciones_postulantes_test.sexo.fillna(most_freq_sexo,inplace=True)\n",
    "postulaciones_postulantes_test.sexo.isnull().any()"
   ]
  },
  {
   "cell_type": "code",
   "execution_count": 30,
   "metadata": {},
   "outputs": [
    {
     "data": {
      "text/plain": [
       "False"
      ]
     },
     "execution_count": 30,
     "metadata": {},
     "output_type": "execute_result"
    }
   ],
   "source": [
    "most_freq_edad = postulaciones_postulantes_test.edad.mode()[0]\n",
    "postulaciones_postulantes_test.edad.fillna(most_freq_edad,inplace=True)\n",
    "postulaciones_postulantes_test.edad.isnull().any()"
   ]
  },
  {
   "cell_type": "code",
   "execution_count": 31,
   "metadata": {},
   "outputs": [
    {
     "data": {
      "text/plain": [
       "idpostulante                False\n",
       "nombre_estudio              False\n",
       "estado_estudio              False\n",
       "fechanacimiento             False\n",
       "sexo                        False\n",
       "edad                        False\n",
       "idaviso                     False\n",
       "tipo_de_trabajo             False\n",
       "nivel_laboral               False\n",
       "nombre_area                 False\n",
       "desc_1                      False\n",
       "desc_2                      False\n",
       "desc_3                      False\n",
       "desc_4                      False\n",
       "desc_5                      False\n",
       "desc_6                      False\n",
       "desc_7                      False\n",
       "cant_vistas_aviso           False\n",
       "cant_postulaciones_aviso    False\n",
       "dtype: bool"
      ]
     },
     "execution_count": 31,
     "metadata": {},
     "output_type": "execute_result"
    }
   ],
   "source": [
    "no_postulados.isnull().any()"
   ]
  },
  {
   "cell_type": "code",
   "execution_count": 32,
   "metadata": {},
   "outputs": [
    {
     "data": {
      "text/plain": [
       "id                 False\n",
       "idaviso            False\n",
       "idpostulante       False\n",
       "nombre_estudio     False\n",
       "estado_estudio     False\n",
       "fechanacimiento    False\n",
       "sexo               False\n",
       "edad               False\n",
       "dtype: bool"
      ]
     },
     "execution_count": 32,
     "metadata": {},
     "output_type": "execute_result"
    }
   ],
   "source": [
    "postulaciones_postulantes_test.isnull().any()"
   ]
  },
  {
   "cell_type": "code",
   "execution_count": 33,
   "metadata": {},
   "outputs": [
    {
     "data": {
      "text/plain": [
       "id                 False\n",
       "idaviso            False\n",
       "idpostulante       False\n",
       "nombre_estudio     False\n",
       "estado_estudio     False\n",
       "fechanacimiento    False\n",
       "sexo               False\n",
       "edad               False\n",
       "dtype: bool"
      ]
     },
     "execution_count": 33,
     "metadata": {},
     "output_type": "execute_result"
    }
   ],
   "source": [
    "postulaciones_postulantes_test.isnull().any()"
   ]
  },
  {
   "cell_type": "raw",
   "metadata": {},
   "source": [
    "Una vez que tenemos los dos sets sin nulos aplicamos one hot encoding"
   ]
  },
  {
   "cell_type": "markdown",
   "metadata": {},
   "source": [
    "#### One hot encoding de columnas categoricas"
   ]
  },
  {
   "cell_type": "raw",
   "metadata": {},
   "source": [
    "Separo columna nombre y estado estudio en columnas booleanas por cada categoria"
   ]
  },
  {
   "cell_type": "code",
   "execution_count": 34,
   "metadata": {},
   "outputs": [],
   "source": [
    "postulaciones_postulantes['nombre_estudio'] = postulaciones_postulantes['nombre_estudio'].astype(str)\n",
    "postulaciones_postulantes['estado_estudio'] = postulaciones_postulantes['estado_estudio'].astype(str)\n",
    "postulaciones_postulantes_test['nombre_estudio'] = postulaciones_postulantes_test['nombre_estudio'].astype(str)\n",
    "postulaciones_postulantes_test['estado_estudio'] = postulaciones_postulantes_test['estado_estudio'].astype(str)"
   ]
  },
  {
   "cell_type": "code",
   "execution_count": 35,
   "metadata": {},
   "outputs": [],
   "source": [
    "no_postulados['nombre_estudio'] = no_postulados['nombre_estudio'].astype(str)\n",
    "no_postulados['estado_estudio'] = no_postulados['estado_estudio'].astype(str)"
   ]
  },
  {
   "cell_type": "code",
   "execution_count": 36,
   "metadata": {},
   "outputs": [
    {
     "data": {
      "text/html": [
       "<div>\n",
       "<style scoped>\n",
       "    .dataframe tbody tr th:only-of-type {\n",
       "        vertical-align: middle;\n",
       "    }\n",
       "\n",
       "    .dataframe tbody tr th {\n",
       "        vertical-align: top;\n",
       "    }\n",
       "\n",
       "    .dataframe thead th {\n",
       "        text-align: right;\n",
       "    }\n",
       "</style>\n",
       "<table border=\"1\" class=\"dataframe\">\n",
       "  <thead>\n",
       "    <tr style=\"text-align: right;\">\n",
       "      <th></th>\n",
       "      <th>idaviso</th>\n",
       "      <th>idpostulante</th>\n",
       "      <th>fechapostulacion</th>\n",
       "      <th>nombre_estudio</th>\n",
       "      <th>estado_estudio</th>\n",
       "      <th>fechanacimiento</th>\n",
       "      <th>sexo</th>\n",
       "      <th>edad</th>\n",
       "    </tr>\n",
       "  </thead>\n",
       "  <tbody>\n",
       "    <tr>\n",
       "      <th>0</th>\n",
       "      <td>1112257047</td>\n",
       "      <td>NM5M</td>\n",
       "      <td>2018-01-15 16:22:34</td>\n",
       "      <td>Secundario</td>\n",
       "      <td>Graduado</td>\n",
       "      <td>1970-12-03</td>\n",
       "      <td>FEM</td>\n",
       "      <td>48</td>\n",
       "    </tr>\n",
       "  </tbody>\n",
       "</table>\n",
       "</div>"
      ],
      "text/plain": [
       "      idaviso idpostulante     fechapostulacion nombre_estudio estado_estudio  \\\n",
       "0  1112257047         NM5M  2018-01-15 16:22:34     Secundario       Graduado   \n",
       "\n",
       "  fechanacimiento sexo  edad  \n",
       "0      1970-12-03  FEM    48  "
      ]
     },
     "execution_count": 36,
     "metadata": {},
     "output_type": "execute_result"
    }
   ],
   "source": [
    "postulaciones_postulantes.head(1)"
   ]
  },
  {
   "cell_type": "code",
   "execution_count": 37,
   "metadata": {},
   "outputs": [],
   "source": [
    "nombres_estudio = postulaciones_postulantes.nombre_estudio.str.get_dummies()\n",
    "nombres_estudio.columns = ['nombre_estudio_' + col for col in nombres_estudio.columns]\n",
    "postulaciones_postulantes = pd.concat([postulaciones_postulantes, nombres_estudio], axis=1)"
   ]
  },
  {
   "cell_type": "code",
   "execution_count": 38,
   "metadata": {},
   "outputs": [
    {
     "data": {
      "text/html": [
       "<div>\n",
       "<style scoped>\n",
       "    .dataframe tbody tr th:only-of-type {\n",
       "        vertical-align: middle;\n",
       "    }\n",
       "\n",
       "    .dataframe tbody tr th {\n",
       "        vertical-align: top;\n",
       "    }\n",
       "\n",
       "    .dataframe thead th {\n",
       "        text-align: right;\n",
       "    }\n",
       "</style>\n",
       "<table border=\"1\" class=\"dataframe\">\n",
       "  <thead>\n",
       "    <tr style=\"text-align: right;\">\n",
       "      <th></th>\n",
       "      <th>idaviso</th>\n",
       "      <th>idpostulante</th>\n",
       "      <th>fechapostulacion</th>\n",
       "      <th>nombre_estudio</th>\n",
       "      <th>estado_estudio</th>\n",
       "      <th>fechanacimiento</th>\n",
       "      <th>sexo</th>\n",
       "      <th>edad</th>\n",
       "      <th>nombre_estudio_Doctorado</th>\n",
       "      <th>nombre_estudio_Master</th>\n",
       "      <th>nombre_estudio_Otro</th>\n",
       "      <th>nombre_estudio_Posgrado</th>\n",
       "      <th>nombre_estudio_Secundario</th>\n",
       "      <th>nombre_estudio_Terciario/Tecnico</th>\n",
       "      <th>nombre_estudio_Universitario</th>\n",
       "    </tr>\n",
       "  </thead>\n",
       "  <tbody>\n",
       "    <tr>\n",
       "      <th>0</th>\n",
       "      <td>1112257047</td>\n",
       "      <td>NM5M</td>\n",
       "      <td>2018-01-15 16:22:34</td>\n",
       "      <td>Secundario</td>\n",
       "      <td>Graduado</td>\n",
       "      <td>1970-12-03</td>\n",
       "      <td>FEM</td>\n",
       "      <td>48</td>\n",
       "      <td>0</td>\n",
       "      <td>0</td>\n",
       "      <td>0</td>\n",
       "      <td>0</td>\n",
       "      <td>1</td>\n",
       "      <td>0</td>\n",
       "      <td>0</td>\n",
       "    </tr>\n",
       "  </tbody>\n",
       "</table>\n",
       "</div>"
      ],
      "text/plain": [
       "      idaviso idpostulante     fechapostulacion nombre_estudio estado_estudio  \\\n",
       "0  1112257047         NM5M  2018-01-15 16:22:34     Secundario       Graduado   \n",
       "\n",
       "  fechanacimiento sexo  edad  nombre_estudio_Doctorado  nombre_estudio_Master  \\\n",
       "0      1970-12-03  FEM    48                         0                      0   \n",
       "\n",
       "   nombre_estudio_Otro  nombre_estudio_Posgrado  nombre_estudio_Secundario  \\\n",
       "0                    0                        0                          1   \n",
       "\n",
       "   nombre_estudio_Terciario/Tecnico  nombre_estudio_Universitario  \n",
       "0                                 0                             0  "
      ]
     },
     "execution_count": 38,
     "metadata": {},
     "output_type": "execute_result"
    }
   ],
   "source": [
    "postulaciones_postulantes.head(1)"
   ]
  },
  {
   "cell_type": "code",
   "execution_count": 39,
   "metadata": {},
   "outputs": [],
   "source": [
    "nombres_estudio = postulaciones_postulantes_test.nombre_estudio.str.get_dummies()\n",
    "nombres_estudio.columns = ['nombre_estudio_' + col for col in nombres_estudio.columns]\n",
    "postulaciones_postulantes_test = pd.concat([postulaciones_postulantes_test, nombres_estudio], axis=1)"
   ]
  },
  {
   "cell_type": "code",
   "execution_count": 40,
   "metadata": {},
   "outputs": [
    {
     "data": {
      "text/html": [
       "<div>\n",
       "<style scoped>\n",
       "    .dataframe tbody tr th:only-of-type {\n",
       "        vertical-align: middle;\n",
       "    }\n",
       "\n",
       "    .dataframe tbody tr th {\n",
       "        vertical-align: top;\n",
       "    }\n",
       "\n",
       "    .dataframe thead th {\n",
       "        text-align: right;\n",
       "    }\n",
       "</style>\n",
       "<table border=\"1\" class=\"dataframe\">\n",
       "  <thead>\n",
       "    <tr style=\"text-align: right;\">\n",
       "      <th></th>\n",
       "      <th>id</th>\n",
       "      <th>idaviso</th>\n",
       "      <th>idpostulante</th>\n",
       "      <th>nombre_estudio</th>\n",
       "      <th>estado_estudio</th>\n",
       "      <th>fechanacimiento</th>\n",
       "      <th>sexo</th>\n",
       "      <th>edad</th>\n",
       "      <th>nombre_estudio_Doctorado</th>\n",
       "      <th>nombre_estudio_Master</th>\n",
       "      <th>nombre_estudio_Otro</th>\n",
       "      <th>nombre_estudio_Posgrado</th>\n",
       "      <th>nombre_estudio_Secundario</th>\n",
       "      <th>nombre_estudio_Terciario/Tecnico</th>\n",
       "      <th>nombre_estudio_Universitario</th>\n",
       "    </tr>\n",
       "  </thead>\n",
       "  <tbody>\n",
       "    <tr>\n",
       "      <th>0</th>\n",
       "      <td>0</td>\n",
       "      <td>739260</td>\n",
       "      <td>6M9ZQR</td>\n",
       "      <td>Doctorado</td>\n",
       "      <td>Graduado</td>\n",
       "      <td>1976-03-29</td>\n",
       "      <td>FEM</td>\n",
       "      <td>42.0</td>\n",
       "      <td>1</td>\n",
       "      <td>0</td>\n",
       "      <td>0</td>\n",
       "      <td>0</td>\n",
       "      <td>0</td>\n",
       "      <td>0</td>\n",
       "      <td>0</td>\n",
       "    </tr>\n",
       "  </tbody>\n",
       "</table>\n",
       "</div>"
      ],
      "text/plain": [
       "   id  idaviso idpostulante nombre_estudio estado_estudio fechanacimiento  \\\n",
       "0   0   739260       6M9ZQR      Doctorado       Graduado      1976-03-29   \n",
       "\n",
       "  sexo  edad  nombre_estudio_Doctorado  nombre_estudio_Master  \\\n",
       "0  FEM  42.0                         1                      0   \n",
       "\n",
       "   nombre_estudio_Otro  nombre_estudio_Posgrado  nombre_estudio_Secundario  \\\n",
       "0                    0                        0                          0   \n",
       "\n",
       "   nombre_estudio_Terciario/Tecnico  nombre_estudio_Universitario  \n",
       "0                                 0                             0  "
      ]
     },
     "execution_count": 40,
     "metadata": {},
     "output_type": "execute_result"
    }
   ],
   "source": [
    "postulaciones_postulantes_test.head(1)"
   ]
  },
  {
   "cell_type": "code",
   "execution_count": 41,
   "metadata": {},
   "outputs": [],
   "source": [
    "nombres_estudio = no_postulados.nombre_estudio.str.get_dummies()\n",
    "nombres_estudio.columns = ['nombre_estudio_' + col for col in nombres_estudio.columns]\n",
    "no_postulados = pd.concat([no_postulados, nombres_estudio], axis=1)"
   ]
  },
  {
   "cell_type": "code",
   "execution_count": 42,
   "metadata": {},
   "outputs": [
    {
     "data": {
      "text/plain": [
       "Index(['idaviso', 'idpostulante', 'fechapostulacion', 'nombre_estudio',\n",
       "       'estado_estudio', 'fechanacimiento', 'sexo', 'edad',\n",
       "       'nombre_estudio_Doctorado', 'nombre_estudio_Master',\n",
       "       'nombre_estudio_Otro', 'nombre_estudio_Posgrado',\n",
       "       'nombre_estudio_Secundario', 'nombre_estudio_Terciario/Tecnico',\n",
       "       'nombre_estudio_Universitario'],\n",
       "      dtype='object')"
      ]
     },
     "execution_count": 42,
     "metadata": {},
     "output_type": "execute_result"
    }
   ],
   "source": [
    "postulaciones_postulantes.columns"
   ]
  },
  {
   "cell_type": "code",
   "execution_count": 43,
   "metadata": {},
   "outputs": [
    {
     "data": {
      "text/plain": [
       "Index(['id', 'idaviso', 'idpostulante', 'nombre_estudio', 'estado_estudio',\n",
       "       'fechanacimiento', 'sexo', 'edad', 'nombre_estudio_Doctorado',\n",
       "       'nombre_estudio_Master', 'nombre_estudio_Otro',\n",
       "       'nombre_estudio_Posgrado', 'nombre_estudio_Secundario',\n",
       "       'nombre_estudio_Terciario/Tecnico', 'nombre_estudio_Universitario'],\n",
       "      dtype='object')"
      ]
     },
     "execution_count": 43,
     "metadata": {},
     "output_type": "execute_result"
    }
   ],
   "source": [
    "postulaciones_postulantes_test.columns"
   ]
  },
  {
   "cell_type": "code",
   "execution_count": 44,
   "metadata": {},
   "outputs": [
    {
     "data": {
      "text/plain": [
       "Index(['idpostulante', 'nombre_estudio', 'estado_estudio', 'fechanacimiento',\n",
       "       'sexo', 'edad', 'idaviso', 'tipo_de_trabajo', 'nivel_laboral',\n",
       "       'nombre_area', 'desc_1', 'desc_2', 'desc_3', 'desc_4', 'desc_5',\n",
       "       'desc_6', 'desc_7', 'cant_vistas_aviso', 'cant_postulaciones_aviso',\n",
       "       'nombre_estudio_Doctorado', 'nombre_estudio_Master',\n",
       "       'nombre_estudio_Otro', 'nombre_estudio_Posgrado',\n",
       "       'nombre_estudio_Secundario', 'nombre_estudio_Terciario/Tecnico',\n",
       "       'nombre_estudio_Universitario'],\n",
       "      dtype='object')"
      ]
     },
     "execution_count": 44,
     "metadata": {},
     "output_type": "execute_result"
    }
   ],
   "source": [
    "no_postulados.columns"
   ]
  },
  {
   "cell_type": "code",
   "execution_count": 45,
   "metadata": {},
   "outputs": [
    {
     "data": {
      "text/html": [
       "<div>\n",
       "<style scoped>\n",
       "    .dataframe tbody tr th:only-of-type {\n",
       "        vertical-align: middle;\n",
       "    }\n",
       "\n",
       "    .dataframe tbody tr th {\n",
       "        vertical-align: top;\n",
       "    }\n",
       "\n",
       "    .dataframe thead th {\n",
       "        text-align: right;\n",
       "    }\n",
       "</style>\n",
       "<table border=\"1\" class=\"dataframe\">\n",
       "  <thead>\n",
       "    <tr style=\"text-align: right;\">\n",
       "      <th></th>\n",
       "      <th>idaviso</th>\n",
       "      <th>idpostulante</th>\n",
       "      <th>fechapostulacion</th>\n",
       "      <th>nombre_estudio</th>\n",
       "      <th>estado_estudio</th>\n",
       "      <th>fechanacimiento</th>\n",
       "      <th>sexo</th>\n",
       "      <th>edad</th>\n",
       "      <th>nombre_estudio_Doctorado</th>\n",
       "      <th>nombre_estudio_Master</th>\n",
       "      <th>nombre_estudio_Otro</th>\n",
       "      <th>nombre_estudio_Posgrado</th>\n",
       "      <th>nombre_estudio_Secundario</th>\n",
       "      <th>nombre_estudio_Terciario/Tecnico</th>\n",
       "      <th>nombre_estudio_Universitario</th>\n",
       "      <th>estado_estudio_Abandonado</th>\n",
       "      <th>estado_estudio_EnCurso</th>\n",
       "      <th>estado_estudio_Graduado</th>\n",
       "    </tr>\n",
       "  </thead>\n",
       "  <tbody>\n",
       "    <tr>\n",
       "      <th>0</th>\n",
       "      <td>1112257047</td>\n",
       "      <td>NM5M</td>\n",
       "      <td>2018-01-15 16:22:34</td>\n",
       "      <td>Secundario</td>\n",
       "      <td>Graduado</td>\n",
       "      <td>1970-12-03</td>\n",
       "      <td>FEM</td>\n",
       "      <td>48</td>\n",
       "      <td>0</td>\n",
       "      <td>0</td>\n",
       "      <td>0</td>\n",
       "      <td>0</td>\n",
       "      <td>1</td>\n",
       "      <td>0</td>\n",
       "      <td>0</td>\n",
       "      <td>0</td>\n",
       "      <td>0</td>\n",
       "      <td>1</td>\n",
       "    </tr>\n",
       "  </tbody>\n",
       "</table>\n",
       "</div>"
      ],
      "text/plain": [
       "      idaviso idpostulante     fechapostulacion nombre_estudio estado_estudio  \\\n",
       "0  1112257047         NM5M  2018-01-15 16:22:34     Secundario       Graduado   \n",
       "\n",
       "  fechanacimiento sexo  edad  nombre_estudio_Doctorado  nombre_estudio_Master  \\\n",
       "0      1970-12-03  FEM    48                         0                      0   \n",
       "\n",
       "   nombre_estudio_Otro  nombre_estudio_Posgrado  nombre_estudio_Secundario  \\\n",
       "0                    0                        0                          1   \n",
       "\n",
       "   nombre_estudio_Terciario/Tecnico  nombre_estudio_Universitario  \\\n",
       "0                                 0                             0   \n",
       "\n",
       "   estado_estudio_Abandonado  estado_estudio_EnCurso  estado_estudio_Graduado  \n",
       "0                          0                       0                        1  "
      ]
     },
     "execution_count": 45,
     "metadata": {},
     "output_type": "execute_result"
    }
   ],
   "source": [
    "estados_estudio = postulaciones_postulantes.estado_estudio.str.get_dummies()\n",
    "estados_estudio.columns = ['estado_estudio_' + col for col in estados_estudio.columns]\n",
    "postulaciones_postulantes = pd.concat([postulaciones_postulantes, estados_estudio], axis=1)\n",
    "postulaciones_postulantes.head(1)"
   ]
  },
  {
   "cell_type": "code",
   "execution_count": 46,
   "metadata": {},
   "outputs": [
    {
     "data": {
      "text/html": [
       "<div>\n",
       "<style scoped>\n",
       "    .dataframe tbody tr th:only-of-type {\n",
       "        vertical-align: middle;\n",
       "    }\n",
       "\n",
       "    .dataframe tbody tr th {\n",
       "        vertical-align: top;\n",
       "    }\n",
       "\n",
       "    .dataframe thead th {\n",
       "        text-align: right;\n",
       "    }\n",
       "</style>\n",
       "<table border=\"1\" class=\"dataframe\">\n",
       "  <thead>\n",
       "    <tr style=\"text-align: right;\">\n",
       "      <th></th>\n",
       "      <th>id</th>\n",
       "      <th>idaviso</th>\n",
       "      <th>idpostulante</th>\n",
       "      <th>nombre_estudio</th>\n",
       "      <th>estado_estudio</th>\n",
       "      <th>fechanacimiento</th>\n",
       "      <th>sexo</th>\n",
       "      <th>edad</th>\n",
       "      <th>nombre_estudio_Doctorado</th>\n",
       "      <th>nombre_estudio_Master</th>\n",
       "      <th>nombre_estudio_Otro</th>\n",
       "      <th>nombre_estudio_Posgrado</th>\n",
       "      <th>nombre_estudio_Secundario</th>\n",
       "      <th>nombre_estudio_Terciario/Tecnico</th>\n",
       "      <th>nombre_estudio_Universitario</th>\n",
       "      <th>estado_estudio_Abandonado</th>\n",
       "      <th>estado_estudio_EnCurso</th>\n",
       "      <th>estado_estudio_Graduado</th>\n",
       "    </tr>\n",
       "  </thead>\n",
       "  <tbody>\n",
       "    <tr>\n",
       "      <th>0</th>\n",
       "      <td>0</td>\n",
       "      <td>739260</td>\n",
       "      <td>6M9ZQR</td>\n",
       "      <td>Doctorado</td>\n",
       "      <td>Graduado</td>\n",
       "      <td>1976-03-29</td>\n",
       "      <td>FEM</td>\n",
       "      <td>42.0</td>\n",
       "      <td>1</td>\n",
       "      <td>0</td>\n",
       "      <td>0</td>\n",
       "      <td>0</td>\n",
       "      <td>0</td>\n",
       "      <td>0</td>\n",
       "      <td>0</td>\n",
       "      <td>0</td>\n",
       "      <td>0</td>\n",
       "      <td>1</td>\n",
       "    </tr>\n",
       "  </tbody>\n",
       "</table>\n",
       "</div>"
      ],
      "text/plain": [
       "   id  idaviso idpostulante nombre_estudio estado_estudio fechanacimiento  \\\n",
       "0   0   739260       6M9ZQR      Doctorado       Graduado      1976-03-29   \n",
       "\n",
       "  sexo  edad  nombre_estudio_Doctorado  nombre_estudio_Master  \\\n",
       "0  FEM  42.0                         1                      0   \n",
       "\n",
       "   nombre_estudio_Otro  nombre_estudio_Posgrado  nombre_estudio_Secundario  \\\n",
       "0                    0                        0                          0   \n",
       "\n",
       "   nombre_estudio_Terciario/Tecnico  nombre_estudio_Universitario  \\\n",
       "0                                 0                             0   \n",
       "\n",
       "   estado_estudio_Abandonado  estado_estudio_EnCurso  estado_estudio_Graduado  \n",
       "0                          0                       0                        1  "
      ]
     },
     "execution_count": 46,
     "metadata": {},
     "output_type": "execute_result"
    }
   ],
   "source": [
    "estados_estudio = postulaciones_postulantes_test.estado_estudio.str.get_dummies()\n",
    "estados_estudio.columns = ['estado_estudio_' + col for col in estados_estudio.columns]\n",
    "postulaciones_postulantes_test = pd.concat([postulaciones_postulantes_test, estados_estudio], axis=1)\n",
    "postulaciones_postulantes_test.head(1)"
   ]
  },
  {
   "cell_type": "code",
   "execution_count": 47,
   "metadata": {},
   "outputs": [
    {
     "data": {
      "text/html": [
       "<div>\n",
       "<style scoped>\n",
       "    .dataframe tbody tr th:only-of-type {\n",
       "        vertical-align: middle;\n",
       "    }\n",
       "\n",
       "    .dataframe tbody tr th {\n",
       "        vertical-align: top;\n",
       "    }\n",
       "\n",
       "    .dataframe thead th {\n",
       "        text-align: right;\n",
       "    }\n",
       "</style>\n",
       "<table border=\"1\" class=\"dataframe\">\n",
       "  <thead>\n",
       "    <tr style=\"text-align: right;\">\n",
       "      <th></th>\n",
       "      <th>idpostulante</th>\n",
       "      <th>nombre_estudio</th>\n",
       "      <th>estado_estudio</th>\n",
       "      <th>fechanacimiento</th>\n",
       "      <th>sexo</th>\n",
       "      <th>edad</th>\n",
       "      <th>idaviso</th>\n",
       "      <th>tipo_de_trabajo</th>\n",
       "      <th>nivel_laboral</th>\n",
       "      <th>nombre_area</th>\n",
       "      <th>desc_1</th>\n",
       "      <th>desc_2</th>\n",
       "      <th>desc_3</th>\n",
       "      <th>desc_4</th>\n",
       "      <th>desc_5</th>\n",
       "      <th>desc_6</th>\n",
       "      <th>desc_7</th>\n",
       "      <th>cant_vistas_aviso</th>\n",
       "      <th>cant_postulaciones_aviso</th>\n",
       "      <th>nombre_estudio_Doctorado</th>\n",
       "      <th>nombre_estudio_Master</th>\n",
       "      <th>nombre_estudio_Otro</th>\n",
       "      <th>nombre_estudio_Posgrado</th>\n",
       "      <th>nombre_estudio_Secundario</th>\n",
       "      <th>nombre_estudio_Terciario/Tecnico</th>\n",
       "      <th>nombre_estudio_Universitario</th>\n",
       "      <th>estado_estudio_Abandonado</th>\n",
       "      <th>estado_estudio_EnCurso</th>\n",
       "      <th>estado_estudio_Graduado</th>\n",
       "    </tr>\n",
       "  </thead>\n",
       "  <tbody>\n",
       "    <tr>\n",
       "      <th>0</th>\n",
       "      <td>VNrqJwE</td>\n",
       "      <td>Universitario</td>\n",
       "      <td>EnCurso</td>\n",
       "      <td>1987-09-06</td>\n",
       "      <td>MASC</td>\n",
       "      <td>31</td>\n",
       "      <td>1112502059</td>\n",
       "      <td>Full-time</td>\n",
       "      <td>Senior/Semi-Senior</td>\n",
       "      <td>Producción</td>\n",
       "      <td>0</td>\n",
       "      <td>0</td>\n",
       "      <td>0</td>\n",
       "      <td>0</td>\n",
       "      <td>0</td>\n",
       "      <td>0</td>\n",
       "      <td>1</td>\n",
       "      <td>0</td>\n",
       "      <td>0</td>\n",
       "      <td>0</td>\n",
       "      <td>0</td>\n",
       "      <td>0</td>\n",
       "      <td>0</td>\n",
       "      <td>0</td>\n",
       "      <td>0</td>\n",
       "      <td>1</td>\n",
       "      <td>0</td>\n",
       "      <td>1</td>\n",
       "      <td>0</td>\n",
       "    </tr>\n",
       "  </tbody>\n",
       "</table>\n",
       "</div>"
      ],
      "text/plain": [
       "  idpostulante nombre_estudio estado_estudio fechanacimiento  sexo  edad  \\\n",
       "0      VNrqJwE  Universitario        EnCurso      1987-09-06  MASC    31   \n",
       "\n",
       "      idaviso tipo_de_trabajo       nivel_laboral nombre_area  desc_1  desc_2  \\\n",
       "0  1112502059       Full-time  Senior/Semi-Senior  Producción       0       0   \n",
       "\n",
       "   desc_3  desc_4  desc_5  desc_6  desc_7  cant_vistas_aviso  \\\n",
       "0       0       0       0       0       1                  0   \n",
       "\n",
       "   cant_postulaciones_aviso  nombre_estudio_Doctorado  nombre_estudio_Master  \\\n",
       "0                         0                         0                      0   \n",
       "\n",
       "   nombre_estudio_Otro  nombre_estudio_Posgrado  nombre_estudio_Secundario  \\\n",
       "0                    0                        0                          0   \n",
       "\n",
       "   nombre_estudio_Terciario/Tecnico  nombre_estudio_Universitario  \\\n",
       "0                                 0                             1   \n",
       "\n",
       "   estado_estudio_Abandonado  estado_estudio_EnCurso  estado_estudio_Graduado  \n",
       "0                          0                       1                        0  "
      ]
     },
     "execution_count": 47,
     "metadata": {},
     "output_type": "execute_result"
    }
   ],
   "source": [
    "estados_estudio = no_postulados.estado_estudio.str.get_dummies()\n",
    "estados_estudio.columns = ['estado_estudio_' + col for col in estados_estudio.columns]\n",
    "no_postulados = pd.concat([no_postulados, estados_estudio], axis=1)\n",
    "no_postulados.head(1)"
   ]
  },
  {
   "cell_type": "code",
   "execution_count": 48,
   "metadata": {},
   "outputs": [
    {
     "data": {
      "text/html": [
       "<div>\n",
       "<style scoped>\n",
       "    .dataframe tbody tr th:only-of-type {\n",
       "        vertical-align: middle;\n",
       "    }\n",
       "\n",
       "    .dataframe tbody tr th {\n",
       "        vertical-align: top;\n",
       "    }\n",
       "\n",
       "    .dataframe thead th {\n",
       "        text-align: right;\n",
       "    }\n",
       "</style>\n",
       "<table border=\"1\" class=\"dataframe\">\n",
       "  <thead>\n",
       "    <tr style=\"text-align: right;\">\n",
       "      <th></th>\n",
       "      <th>idaviso</th>\n",
       "      <th>idpostulante</th>\n",
       "      <th>fechapostulacion</th>\n",
       "      <th>fechanacimiento</th>\n",
       "      <th>sexo</th>\n",
       "      <th>edad</th>\n",
       "      <th>nombre_estudio_Doctorado</th>\n",
       "      <th>nombre_estudio_Master</th>\n",
       "      <th>nombre_estudio_Otro</th>\n",
       "      <th>nombre_estudio_Posgrado</th>\n",
       "      <th>nombre_estudio_Secundario</th>\n",
       "      <th>nombre_estudio_Terciario/Tecnico</th>\n",
       "      <th>nombre_estudio_Universitario</th>\n",
       "      <th>estado_estudio_Abandonado</th>\n",
       "      <th>estado_estudio_EnCurso</th>\n",
       "      <th>estado_estudio_Graduado</th>\n",
       "    </tr>\n",
       "  </thead>\n",
       "  <tbody>\n",
       "    <tr>\n",
       "      <th>0</th>\n",
       "      <td>1112257047</td>\n",
       "      <td>NM5M</td>\n",
       "      <td>2018-01-15 16:22:34</td>\n",
       "      <td>1970-12-03</td>\n",
       "      <td>FEM</td>\n",
       "      <td>48</td>\n",
       "      <td>0</td>\n",
       "      <td>0</td>\n",
       "      <td>0</td>\n",
       "      <td>0</td>\n",
       "      <td>1</td>\n",
       "      <td>0</td>\n",
       "      <td>0</td>\n",
       "      <td>0</td>\n",
       "      <td>0</td>\n",
       "      <td>1</td>\n",
       "    </tr>\n",
       "  </tbody>\n",
       "</table>\n",
       "</div>"
      ],
      "text/plain": [
       "      idaviso idpostulante     fechapostulacion fechanacimiento sexo  edad  \\\n",
       "0  1112257047         NM5M  2018-01-15 16:22:34      1970-12-03  FEM    48   \n",
       "\n",
       "   nombre_estudio_Doctorado  nombre_estudio_Master  nombre_estudio_Otro  \\\n",
       "0                         0                      0                    0   \n",
       "\n",
       "   nombre_estudio_Posgrado  nombre_estudio_Secundario  \\\n",
       "0                        0                          1   \n",
       "\n",
       "   nombre_estudio_Terciario/Tecnico  nombre_estudio_Universitario  \\\n",
       "0                                 0                             0   \n",
       "\n",
       "   estado_estudio_Abandonado  estado_estudio_EnCurso  estado_estudio_Graduado  \n",
       "0                          0                       0                        1  "
      ]
     },
     "execution_count": 48,
     "metadata": {},
     "output_type": "execute_result"
    }
   ],
   "source": [
    "postulaciones_postulantes.drop(columns=['nombre_estudio', 'estado_estudio'], inplace=True)\n",
    "postulaciones_postulantes_test.drop(columns=['nombre_estudio', 'estado_estudio'], inplace=True)\n",
    "postulaciones_postulantes.head(1)"
   ]
  },
  {
   "cell_type": "code",
   "execution_count": 49,
   "metadata": {},
   "outputs": [],
   "source": [
    "no_postulados.drop(columns=['nombre_estudio', 'estado_estudio'], inplace=True)"
   ]
  },
  {
   "cell_type": "code",
   "execution_count": 50,
   "metadata": {},
   "outputs": [
    {
     "data": {
      "text/html": [
       "<div>\n",
       "<style scoped>\n",
       "    .dataframe tbody tr th:only-of-type {\n",
       "        vertical-align: middle;\n",
       "    }\n",
       "\n",
       "    .dataframe tbody tr th {\n",
       "        vertical-align: top;\n",
       "    }\n",
       "\n",
       "    .dataframe thead th {\n",
       "        text-align: right;\n",
       "    }\n",
       "</style>\n",
       "<table border=\"1\" class=\"dataframe\">\n",
       "  <thead>\n",
       "    <tr style=\"text-align: right;\">\n",
       "      <th></th>\n",
       "      <th>id</th>\n",
       "      <th>idaviso</th>\n",
       "      <th>idpostulante</th>\n",
       "      <th>fechanacimiento</th>\n",
       "      <th>sexo</th>\n",
       "      <th>edad</th>\n",
       "      <th>nombre_estudio_Doctorado</th>\n",
       "      <th>nombre_estudio_Master</th>\n",
       "      <th>nombre_estudio_Otro</th>\n",
       "      <th>nombre_estudio_Posgrado</th>\n",
       "      <th>nombre_estudio_Secundario</th>\n",
       "      <th>nombre_estudio_Terciario/Tecnico</th>\n",
       "      <th>nombre_estudio_Universitario</th>\n",
       "      <th>estado_estudio_Abandonado</th>\n",
       "      <th>estado_estudio_EnCurso</th>\n",
       "      <th>estado_estudio_Graduado</th>\n",
       "    </tr>\n",
       "  </thead>\n",
       "  <tbody>\n",
       "    <tr>\n",
       "      <th>0</th>\n",
       "      <td>0</td>\n",
       "      <td>739260</td>\n",
       "      <td>6M9ZQR</td>\n",
       "      <td>1976-03-29</td>\n",
       "      <td>FEM</td>\n",
       "      <td>42.0</td>\n",
       "      <td>1</td>\n",
       "      <td>0</td>\n",
       "      <td>0</td>\n",
       "      <td>0</td>\n",
       "      <td>0</td>\n",
       "      <td>0</td>\n",
       "      <td>0</td>\n",
       "      <td>0</td>\n",
       "      <td>0</td>\n",
       "      <td>1</td>\n",
       "    </tr>\n",
       "  </tbody>\n",
       "</table>\n",
       "</div>"
      ],
      "text/plain": [
       "   id  idaviso idpostulante fechanacimiento sexo  edad  \\\n",
       "0   0   739260       6M9ZQR      1976-03-29  FEM  42.0   \n",
       "\n",
       "   nombre_estudio_Doctorado  nombre_estudio_Master  nombre_estudio_Otro  \\\n",
       "0                         1                      0                    0   \n",
       "\n",
       "   nombre_estudio_Posgrado  nombre_estudio_Secundario  \\\n",
       "0                        0                          0   \n",
       "\n",
       "   nombre_estudio_Terciario/Tecnico  nombre_estudio_Universitario  \\\n",
       "0                                 0                             0   \n",
       "\n",
       "   estado_estudio_Abandonado  estado_estudio_EnCurso  estado_estudio_Graduado  \n",
       "0                          0                       0                        1  "
      ]
     },
     "execution_count": 50,
     "metadata": {},
     "output_type": "execute_result"
    }
   ],
   "source": [
    "postulaciones_postulantes_test.head(1)"
   ]
  },
  {
   "cell_type": "code",
   "execution_count": 51,
   "metadata": {},
   "outputs": [],
   "source": [
    "postulaciones_postulantes.drop(columns=['fechapostulacion', 'fechanacimiento'], inplace=True)\n",
    "postulaciones_postulantes_test.drop(columns=['fechanacimiento'], inplace=True)"
   ]
  },
  {
   "cell_type": "code",
   "execution_count": 52,
   "metadata": {},
   "outputs": [],
   "source": [
    "no_postulados.drop(columns=['fechanacimiento'], inplace=True)"
   ]
  },
  {
   "cell_type": "raw",
   "metadata": {},
   "source": [
    "Cambiamos la columna sexo por categoricas"
   ]
  },
  {
   "cell_type": "code",
   "execution_count": 53,
   "metadata": {},
   "outputs": [
    {
     "data": {
      "text/plain": [
       "FEM           3354795\n",
       "MASC          3154899\n",
       "NO_DECLARA      94919\n",
       "0.0                 2\n",
       "Name: sexo, dtype: int64"
      ]
     },
     "execution_count": 53,
     "metadata": {},
     "output_type": "execute_result"
    }
   ],
   "source": [
    "postulaciones_postulantes['sexo'].value_counts()"
   ]
  },
  {
   "cell_type": "code",
   "execution_count": 54,
   "metadata": {},
   "outputs": [
    {
     "data": {
      "text/html": [
       "<div>\n",
       "<style scoped>\n",
       "    .dataframe tbody tr th:only-of-type {\n",
       "        vertical-align: middle;\n",
       "    }\n",
       "\n",
       "    .dataframe tbody tr th {\n",
       "        vertical-align: top;\n",
       "    }\n",
       "\n",
       "    .dataframe thead th {\n",
       "        text-align: right;\n",
       "    }\n",
       "</style>\n",
       "<table border=\"1\" class=\"dataframe\">\n",
       "  <thead>\n",
       "    <tr style=\"text-align: right;\">\n",
       "      <th></th>\n",
       "      <th>FEM</th>\n",
       "      <th>MASC</th>\n",
       "      <th>NO_DECLARA</th>\n",
       "    </tr>\n",
       "  </thead>\n",
       "  <tbody>\n",
       "    <tr>\n",
       "      <th>0</th>\n",
       "      <td>1</td>\n",
       "      <td>0</td>\n",
       "      <td>0</td>\n",
       "    </tr>\n",
       "  </tbody>\n",
       "</table>\n",
       "</div>"
      ],
      "text/plain": [
       "   FEM  MASC  NO_DECLARA\n",
       "0    1     0           0"
      ]
     },
     "execution_count": 54,
     "metadata": {},
     "output_type": "execute_result"
    }
   ],
   "source": [
    "sexos = postulaciones_postulantes.sexo.str.get_dummies()\n",
    "sexos.drop(columns='0.0', inplace=True)\n",
    "sexos.head(1)"
   ]
  },
  {
   "cell_type": "code",
   "execution_count": 55,
   "metadata": {},
   "outputs": [
    {
     "data": {
      "text/html": [
       "<div>\n",
       "<style scoped>\n",
       "    .dataframe tbody tr th:only-of-type {\n",
       "        vertical-align: middle;\n",
       "    }\n",
       "\n",
       "    .dataframe tbody tr th {\n",
       "        vertical-align: top;\n",
       "    }\n",
       "\n",
       "    .dataframe thead th {\n",
       "        text-align: right;\n",
       "    }\n",
       "</style>\n",
       "<table border=\"1\" class=\"dataframe\">\n",
       "  <thead>\n",
       "    <tr style=\"text-align: right;\">\n",
       "      <th></th>\n",
       "      <th>idaviso</th>\n",
       "      <th>idpostulante</th>\n",
       "      <th>sexo</th>\n",
       "      <th>edad</th>\n",
       "      <th>nombre_estudio_Doctorado</th>\n",
       "      <th>nombre_estudio_Master</th>\n",
       "      <th>nombre_estudio_Otro</th>\n",
       "      <th>nombre_estudio_Posgrado</th>\n",
       "      <th>nombre_estudio_Secundario</th>\n",
       "      <th>nombre_estudio_Terciario/Tecnico</th>\n",
       "      <th>nombre_estudio_Universitario</th>\n",
       "      <th>estado_estudio_Abandonado</th>\n",
       "      <th>estado_estudio_EnCurso</th>\n",
       "      <th>estado_estudio_Graduado</th>\n",
       "      <th>sexo_FEM</th>\n",
       "      <th>sexo_MASC</th>\n",
       "      <th>sexo_NO_DECLARA</th>\n",
       "    </tr>\n",
       "  </thead>\n",
       "  <tbody>\n",
       "    <tr>\n",
       "      <th>0</th>\n",
       "      <td>1112257047</td>\n",
       "      <td>NM5M</td>\n",
       "      <td>FEM</td>\n",
       "      <td>48</td>\n",
       "      <td>0</td>\n",
       "      <td>0</td>\n",
       "      <td>0</td>\n",
       "      <td>0</td>\n",
       "      <td>1</td>\n",
       "      <td>0</td>\n",
       "      <td>0</td>\n",
       "      <td>0</td>\n",
       "      <td>0</td>\n",
       "      <td>1</td>\n",
       "      <td>1</td>\n",
       "      <td>0</td>\n",
       "      <td>0</td>\n",
       "    </tr>\n",
       "  </tbody>\n",
       "</table>\n",
       "</div>"
      ],
      "text/plain": [
       "      idaviso idpostulante sexo  edad  nombre_estudio_Doctorado  \\\n",
       "0  1112257047         NM5M  FEM    48                         0   \n",
       "\n",
       "   nombre_estudio_Master  nombre_estudio_Otro  nombre_estudio_Posgrado  \\\n",
       "0                      0                    0                        0   \n",
       "\n",
       "   nombre_estudio_Secundario  nombre_estudio_Terciario/Tecnico  \\\n",
       "0                          1                                 0   \n",
       "\n",
       "   nombre_estudio_Universitario  estado_estudio_Abandonado  \\\n",
       "0                             0                          0   \n",
       "\n",
       "   estado_estudio_EnCurso  estado_estudio_Graduado  sexo_FEM  sexo_MASC  \\\n",
       "0                       0                        1         1          0   \n",
       "\n",
       "   sexo_NO_DECLARA  \n",
       "0                0  "
      ]
     },
     "execution_count": 55,
     "metadata": {},
     "output_type": "execute_result"
    }
   ],
   "source": [
    "sexos.columns = ['sexo_' + col for col in sexos.columns]\n",
    "postulaciones_postulantes = pd.concat([postulaciones_postulantes, sexos], axis=1)\n",
    "postulaciones_postulantes.head(1)"
   ]
  },
  {
   "cell_type": "code",
   "execution_count": 56,
   "metadata": {},
   "outputs": [
    {
     "data": {
      "text/html": [
       "<div>\n",
       "<style scoped>\n",
       "    .dataframe tbody tr th:only-of-type {\n",
       "        vertical-align: middle;\n",
       "    }\n",
       "\n",
       "    .dataframe tbody tr th {\n",
       "        vertical-align: top;\n",
       "    }\n",
       "\n",
       "    .dataframe thead th {\n",
       "        text-align: right;\n",
       "    }\n",
       "</style>\n",
       "<table border=\"1\" class=\"dataframe\">\n",
       "  <thead>\n",
       "    <tr style=\"text-align: right;\">\n",
       "      <th></th>\n",
       "      <th>FEM</th>\n",
       "      <th>MASC</th>\n",
       "      <th>NO_DECLARA</th>\n",
       "    </tr>\n",
       "  </thead>\n",
       "  <tbody>\n",
       "    <tr>\n",
       "      <th>0</th>\n",
       "      <td>1</td>\n",
       "      <td>0</td>\n",
       "      <td>0</td>\n",
       "    </tr>\n",
       "    <tr>\n",
       "      <th>1</th>\n",
       "      <td>0</td>\n",
       "      <td>1</td>\n",
       "      <td>0</td>\n",
       "    </tr>\n",
       "    <tr>\n",
       "      <th>2</th>\n",
       "      <td>1</td>\n",
       "      <td>0</td>\n",
       "      <td>0</td>\n",
       "    </tr>\n",
       "    <tr>\n",
       "      <th>3</th>\n",
       "      <td>0</td>\n",
       "      <td>1</td>\n",
       "      <td>0</td>\n",
       "    </tr>\n",
       "    <tr>\n",
       "      <th>4</th>\n",
       "      <td>1</td>\n",
       "      <td>0</td>\n",
       "      <td>0</td>\n",
       "    </tr>\n",
       "    <tr>\n",
       "      <th>5</th>\n",
       "      <td>0</td>\n",
       "      <td>1</td>\n",
       "      <td>0</td>\n",
       "    </tr>\n",
       "    <tr>\n",
       "      <th>6</th>\n",
       "      <td>0</td>\n",
       "      <td>1</td>\n",
       "      <td>0</td>\n",
       "    </tr>\n",
       "    <tr>\n",
       "      <th>7</th>\n",
       "      <td>0</td>\n",
       "      <td>1</td>\n",
       "      <td>0</td>\n",
       "    </tr>\n",
       "    <tr>\n",
       "      <th>8</th>\n",
       "      <td>1</td>\n",
       "      <td>0</td>\n",
       "      <td>0</td>\n",
       "    </tr>\n",
       "    <tr>\n",
       "      <th>9</th>\n",
       "      <td>0</td>\n",
       "      <td>1</td>\n",
       "      <td>0</td>\n",
       "    </tr>\n",
       "    <tr>\n",
       "      <th>10</th>\n",
       "      <td>1</td>\n",
       "      <td>0</td>\n",
       "      <td>0</td>\n",
       "    </tr>\n",
       "    <tr>\n",
       "      <th>11</th>\n",
       "      <td>1</td>\n",
       "      <td>0</td>\n",
       "      <td>0</td>\n",
       "    </tr>\n",
       "    <tr>\n",
       "      <th>12</th>\n",
       "      <td>1</td>\n",
       "      <td>0</td>\n",
       "      <td>0</td>\n",
       "    </tr>\n",
       "    <tr>\n",
       "      <th>13</th>\n",
       "      <td>0</td>\n",
       "      <td>1</td>\n",
       "      <td>0</td>\n",
       "    </tr>\n",
       "    <tr>\n",
       "      <th>14</th>\n",
       "      <td>1</td>\n",
       "      <td>0</td>\n",
       "      <td>0</td>\n",
       "    </tr>\n",
       "    <tr>\n",
       "      <th>15</th>\n",
       "      <td>1</td>\n",
       "      <td>0</td>\n",
       "      <td>0</td>\n",
       "    </tr>\n",
       "    <tr>\n",
       "      <th>16</th>\n",
       "      <td>1</td>\n",
       "      <td>0</td>\n",
       "      <td>0</td>\n",
       "    </tr>\n",
       "    <tr>\n",
       "      <th>17</th>\n",
       "      <td>1</td>\n",
       "      <td>0</td>\n",
       "      <td>0</td>\n",
       "    </tr>\n",
       "    <tr>\n",
       "      <th>18</th>\n",
       "      <td>1</td>\n",
       "      <td>0</td>\n",
       "      <td>0</td>\n",
       "    </tr>\n",
       "    <tr>\n",
       "      <th>19</th>\n",
       "      <td>1</td>\n",
       "      <td>0</td>\n",
       "      <td>0</td>\n",
       "    </tr>\n",
       "    <tr>\n",
       "      <th>20</th>\n",
       "      <td>1</td>\n",
       "      <td>0</td>\n",
       "      <td>0</td>\n",
       "    </tr>\n",
       "    <tr>\n",
       "      <th>21</th>\n",
       "      <td>1</td>\n",
       "      <td>0</td>\n",
       "      <td>0</td>\n",
       "    </tr>\n",
       "    <tr>\n",
       "      <th>22</th>\n",
       "      <td>0</td>\n",
       "      <td>1</td>\n",
       "      <td>0</td>\n",
       "    </tr>\n",
       "    <tr>\n",
       "      <th>23</th>\n",
       "      <td>0</td>\n",
       "      <td>1</td>\n",
       "      <td>0</td>\n",
       "    </tr>\n",
       "    <tr>\n",
       "      <th>24</th>\n",
       "      <td>0</td>\n",
       "      <td>1</td>\n",
       "      <td>0</td>\n",
       "    </tr>\n",
       "    <tr>\n",
       "      <th>25</th>\n",
       "      <td>0</td>\n",
       "      <td>1</td>\n",
       "      <td>0</td>\n",
       "    </tr>\n",
       "    <tr>\n",
       "      <th>26</th>\n",
       "      <td>0</td>\n",
       "      <td>1</td>\n",
       "      <td>0</td>\n",
       "    </tr>\n",
       "    <tr>\n",
       "      <th>27</th>\n",
       "      <td>1</td>\n",
       "      <td>0</td>\n",
       "      <td>0</td>\n",
       "    </tr>\n",
       "    <tr>\n",
       "      <th>28</th>\n",
       "      <td>0</td>\n",
       "      <td>1</td>\n",
       "      <td>0</td>\n",
       "    </tr>\n",
       "    <tr>\n",
       "      <th>29</th>\n",
       "      <td>1</td>\n",
       "      <td>0</td>\n",
       "      <td>0</td>\n",
       "    </tr>\n",
       "    <tr>\n",
       "      <th>...</th>\n",
       "      <td>...</td>\n",
       "      <td>...</td>\n",
       "      <td>...</td>\n",
       "    </tr>\n",
       "    <tr>\n",
       "      <th>99970</th>\n",
       "      <td>1</td>\n",
       "      <td>0</td>\n",
       "      <td>0</td>\n",
       "    </tr>\n",
       "    <tr>\n",
       "      <th>99971</th>\n",
       "      <td>1</td>\n",
       "      <td>0</td>\n",
       "      <td>0</td>\n",
       "    </tr>\n",
       "    <tr>\n",
       "      <th>99972</th>\n",
       "      <td>0</td>\n",
       "      <td>1</td>\n",
       "      <td>0</td>\n",
       "    </tr>\n",
       "    <tr>\n",
       "      <th>99973</th>\n",
       "      <td>1</td>\n",
       "      <td>0</td>\n",
       "      <td>0</td>\n",
       "    </tr>\n",
       "    <tr>\n",
       "      <th>99974</th>\n",
       "      <td>1</td>\n",
       "      <td>0</td>\n",
       "      <td>0</td>\n",
       "    </tr>\n",
       "    <tr>\n",
       "      <th>99975</th>\n",
       "      <td>1</td>\n",
       "      <td>0</td>\n",
       "      <td>0</td>\n",
       "    </tr>\n",
       "    <tr>\n",
       "      <th>99976</th>\n",
       "      <td>1</td>\n",
       "      <td>0</td>\n",
       "      <td>0</td>\n",
       "    </tr>\n",
       "    <tr>\n",
       "      <th>99977</th>\n",
       "      <td>1</td>\n",
       "      <td>0</td>\n",
       "      <td>0</td>\n",
       "    </tr>\n",
       "    <tr>\n",
       "      <th>99978</th>\n",
       "      <td>0</td>\n",
       "      <td>1</td>\n",
       "      <td>0</td>\n",
       "    </tr>\n",
       "    <tr>\n",
       "      <th>99979</th>\n",
       "      <td>1</td>\n",
       "      <td>0</td>\n",
       "      <td>0</td>\n",
       "    </tr>\n",
       "    <tr>\n",
       "      <th>99980</th>\n",
       "      <td>1</td>\n",
       "      <td>0</td>\n",
       "      <td>0</td>\n",
       "    </tr>\n",
       "    <tr>\n",
       "      <th>99981</th>\n",
       "      <td>1</td>\n",
       "      <td>0</td>\n",
       "      <td>0</td>\n",
       "    </tr>\n",
       "    <tr>\n",
       "      <th>99982</th>\n",
       "      <td>0</td>\n",
       "      <td>1</td>\n",
       "      <td>0</td>\n",
       "    </tr>\n",
       "    <tr>\n",
       "      <th>99983</th>\n",
       "      <td>1</td>\n",
       "      <td>0</td>\n",
       "      <td>0</td>\n",
       "    </tr>\n",
       "    <tr>\n",
       "      <th>99984</th>\n",
       "      <td>1</td>\n",
       "      <td>0</td>\n",
       "      <td>0</td>\n",
       "    </tr>\n",
       "    <tr>\n",
       "      <th>99985</th>\n",
       "      <td>1</td>\n",
       "      <td>0</td>\n",
       "      <td>0</td>\n",
       "    </tr>\n",
       "    <tr>\n",
       "      <th>99986</th>\n",
       "      <td>1</td>\n",
       "      <td>0</td>\n",
       "      <td>0</td>\n",
       "    </tr>\n",
       "    <tr>\n",
       "      <th>99987</th>\n",
       "      <td>0</td>\n",
       "      <td>1</td>\n",
       "      <td>0</td>\n",
       "    </tr>\n",
       "    <tr>\n",
       "      <th>99988</th>\n",
       "      <td>0</td>\n",
       "      <td>0</td>\n",
       "      <td>1</td>\n",
       "    </tr>\n",
       "    <tr>\n",
       "      <th>99989</th>\n",
       "      <td>1</td>\n",
       "      <td>0</td>\n",
       "      <td>0</td>\n",
       "    </tr>\n",
       "    <tr>\n",
       "      <th>99990</th>\n",
       "      <td>1</td>\n",
       "      <td>0</td>\n",
       "      <td>0</td>\n",
       "    </tr>\n",
       "    <tr>\n",
       "      <th>99991</th>\n",
       "      <td>1</td>\n",
       "      <td>0</td>\n",
       "      <td>0</td>\n",
       "    </tr>\n",
       "    <tr>\n",
       "      <th>99992</th>\n",
       "      <td>1</td>\n",
       "      <td>0</td>\n",
       "      <td>0</td>\n",
       "    </tr>\n",
       "    <tr>\n",
       "      <th>99993</th>\n",
       "      <td>1</td>\n",
       "      <td>0</td>\n",
       "      <td>0</td>\n",
       "    </tr>\n",
       "    <tr>\n",
       "      <th>99994</th>\n",
       "      <td>1</td>\n",
       "      <td>0</td>\n",
       "      <td>0</td>\n",
       "    </tr>\n",
       "    <tr>\n",
       "      <th>99995</th>\n",
       "      <td>0</td>\n",
       "      <td>1</td>\n",
       "      <td>0</td>\n",
       "    </tr>\n",
       "    <tr>\n",
       "      <th>99996</th>\n",
       "      <td>1</td>\n",
       "      <td>0</td>\n",
       "      <td>0</td>\n",
       "    </tr>\n",
       "    <tr>\n",
       "      <th>99997</th>\n",
       "      <td>1</td>\n",
       "      <td>0</td>\n",
       "      <td>0</td>\n",
       "    </tr>\n",
       "    <tr>\n",
       "      <th>99998</th>\n",
       "      <td>1</td>\n",
       "      <td>0</td>\n",
       "      <td>0</td>\n",
       "    </tr>\n",
       "    <tr>\n",
       "      <th>99999</th>\n",
       "      <td>0</td>\n",
       "      <td>1</td>\n",
       "      <td>0</td>\n",
       "    </tr>\n",
       "  </tbody>\n",
       "</table>\n",
       "<p>100000 rows × 3 columns</p>\n",
       "</div>"
      ],
      "text/plain": [
       "       FEM  MASC  NO_DECLARA\n",
       "0        1     0           0\n",
       "1        0     1           0\n",
       "2        1     0           0\n",
       "3        0     1           0\n",
       "4        1     0           0\n",
       "5        0     1           0\n",
       "6        0     1           0\n",
       "7        0     1           0\n",
       "8        1     0           0\n",
       "9        0     1           0\n",
       "10       1     0           0\n",
       "11       1     0           0\n",
       "12       1     0           0\n",
       "13       0     1           0\n",
       "14       1     0           0\n",
       "15       1     0           0\n",
       "16       1     0           0\n",
       "17       1     0           0\n",
       "18       1     0           0\n",
       "19       1     0           0\n",
       "20       1     0           0\n",
       "21       1     0           0\n",
       "22       0     1           0\n",
       "23       0     1           0\n",
       "24       0     1           0\n",
       "25       0     1           0\n",
       "26       0     1           0\n",
       "27       1     0           0\n",
       "28       0     1           0\n",
       "29       1     0           0\n",
       "...    ...   ...         ...\n",
       "99970    1     0           0\n",
       "99971    1     0           0\n",
       "99972    0     1           0\n",
       "99973    1     0           0\n",
       "99974    1     0           0\n",
       "99975    1     0           0\n",
       "99976    1     0           0\n",
       "99977    1     0           0\n",
       "99978    0     1           0\n",
       "99979    1     0           0\n",
       "99980    1     0           0\n",
       "99981    1     0           0\n",
       "99982    0     1           0\n",
       "99983    1     0           0\n",
       "99984    1     0           0\n",
       "99985    1     0           0\n",
       "99986    1     0           0\n",
       "99987    0     1           0\n",
       "99988    0     0           1\n",
       "99989    1     0           0\n",
       "99990    1     0           0\n",
       "99991    1     0           0\n",
       "99992    1     0           0\n",
       "99993    1     0           0\n",
       "99994    1     0           0\n",
       "99995    0     1           0\n",
       "99996    1     0           0\n",
       "99997    1     0           0\n",
       "99998    1     0           0\n",
       "99999    0     1           0\n",
       "\n",
       "[100000 rows x 3 columns]"
      ]
     },
     "execution_count": 56,
     "metadata": {},
     "output_type": "execute_result"
    }
   ],
   "source": [
    "postulaciones_postulantes_test.sexo.str.get_dummies()"
   ]
  },
  {
   "cell_type": "code",
   "execution_count": 57,
   "metadata": {},
   "outputs": [
    {
     "data": {
      "text/html": [
       "<div>\n",
       "<style scoped>\n",
       "    .dataframe tbody tr th:only-of-type {\n",
       "        vertical-align: middle;\n",
       "    }\n",
       "\n",
       "    .dataframe tbody tr th {\n",
       "        vertical-align: top;\n",
       "    }\n",
       "\n",
       "    .dataframe thead th {\n",
       "        text-align: right;\n",
       "    }\n",
       "</style>\n",
       "<table border=\"1\" class=\"dataframe\">\n",
       "  <thead>\n",
       "    <tr style=\"text-align: right;\">\n",
       "      <th></th>\n",
       "      <th>FEM</th>\n",
       "      <th>MASC</th>\n",
       "      <th>NO_DECLARA</th>\n",
       "    </tr>\n",
       "  </thead>\n",
       "  <tbody>\n",
       "    <tr>\n",
       "      <th>0</th>\n",
       "      <td>1</td>\n",
       "      <td>0</td>\n",
       "      <td>0</td>\n",
       "    </tr>\n",
       "  </tbody>\n",
       "</table>\n",
       "</div>"
      ],
      "text/plain": [
       "   FEM  MASC  NO_DECLARA\n",
       "0    1     0           0"
      ]
     },
     "execution_count": 57,
     "metadata": {},
     "output_type": "execute_result"
    }
   ],
   "source": [
    "sexos = postulaciones_postulantes_test.sexo.str.get_dummies()\n",
    "#sexos.drop(columns='0.0', inplace=True)\n",
    "sexos.head(1)"
   ]
  },
  {
   "cell_type": "code",
   "execution_count": 58,
   "metadata": {},
   "outputs": [
    {
     "data": {
      "text/html": [
       "<div>\n",
       "<style scoped>\n",
       "    .dataframe tbody tr th:only-of-type {\n",
       "        vertical-align: middle;\n",
       "    }\n",
       "\n",
       "    .dataframe tbody tr th {\n",
       "        vertical-align: top;\n",
       "    }\n",
       "\n",
       "    .dataframe thead th {\n",
       "        text-align: right;\n",
       "    }\n",
       "</style>\n",
       "<table border=\"1\" class=\"dataframe\">\n",
       "  <thead>\n",
       "    <tr style=\"text-align: right;\">\n",
       "      <th></th>\n",
       "      <th>id</th>\n",
       "      <th>idaviso</th>\n",
       "      <th>idpostulante</th>\n",
       "      <th>sexo</th>\n",
       "      <th>edad</th>\n",
       "      <th>nombre_estudio_Doctorado</th>\n",
       "      <th>nombre_estudio_Master</th>\n",
       "      <th>nombre_estudio_Otro</th>\n",
       "      <th>nombre_estudio_Posgrado</th>\n",
       "      <th>nombre_estudio_Secundario</th>\n",
       "      <th>nombre_estudio_Terciario/Tecnico</th>\n",
       "      <th>nombre_estudio_Universitario</th>\n",
       "      <th>estado_estudio_Abandonado</th>\n",
       "      <th>estado_estudio_EnCurso</th>\n",
       "      <th>estado_estudio_Graduado</th>\n",
       "      <th>sexo_FEM</th>\n",
       "      <th>sexo_MASC</th>\n",
       "      <th>sexo_NO_DECLARA</th>\n",
       "    </tr>\n",
       "  </thead>\n",
       "  <tbody>\n",
       "    <tr>\n",
       "      <th>0</th>\n",
       "      <td>0</td>\n",
       "      <td>739260</td>\n",
       "      <td>6M9ZQR</td>\n",
       "      <td>FEM</td>\n",
       "      <td>42.0</td>\n",
       "      <td>1</td>\n",
       "      <td>0</td>\n",
       "      <td>0</td>\n",
       "      <td>0</td>\n",
       "      <td>0</td>\n",
       "      <td>0</td>\n",
       "      <td>0</td>\n",
       "      <td>0</td>\n",
       "      <td>0</td>\n",
       "      <td>1</td>\n",
       "      <td>1</td>\n",
       "      <td>0</td>\n",
       "      <td>0</td>\n",
       "    </tr>\n",
       "  </tbody>\n",
       "</table>\n",
       "</div>"
      ],
      "text/plain": [
       "   id  idaviso idpostulante sexo  edad  nombre_estudio_Doctorado  \\\n",
       "0   0   739260       6M9ZQR  FEM  42.0                         1   \n",
       "\n",
       "   nombre_estudio_Master  nombre_estudio_Otro  nombre_estudio_Posgrado  \\\n",
       "0                      0                    0                        0   \n",
       "\n",
       "   nombre_estudio_Secundario  nombre_estudio_Terciario/Tecnico  \\\n",
       "0                          0                                 0   \n",
       "\n",
       "   nombre_estudio_Universitario  estado_estudio_Abandonado  \\\n",
       "0                             0                          0   \n",
       "\n",
       "   estado_estudio_EnCurso  estado_estudio_Graduado  sexo_FEM  sexo_MASC  \\\n",
       "0                       0                        1         1          0   \n",
       "\n",
       "   sexo_NO_DECLARA  \n",
       "0                0  "
      ]
     },
     "execution_count": 58,
     "metadata": {},
     "output_type": "execute_result"
    }
   ],
   "source": [
    "sexos.columns = ['sexo_' + col for col in sexos.columns]\n",
    "postulaciones_postulantes_test = pd.concat([postulaciones_postulantes_test, sexos], axis=1)\n",
    "postulaciones_postulantes_test.head(1)"
   ]
  },
  {
   "cell_type": "code",
   "execution_count": 59,
   "metadata": {},
   "outputs": [
    {
     "data": {
      "text/html": [
       "<div>\n",
       "<style scoped>\n",
       "    .dataframe tbody tr th:only-of-type {\n",
       "        vertical-align: middle;\n",
       "    }\n",
       "\n",
       "    .dataframe tbody tr th {\n",
       "        vertical-align: top;\n",
       "    }\n",
       "\n",
       "    .dataframe thead th {\n",
       "        text-align: right;\n",
       "    }\n",
       "</style>\n",
       "<table border=\"1\" class=\"dataframe\">\n",
       "  <thead>\n",
       "    <tr style=\"text-align: right;\">\n",
       "      <th></th>\n",
       "      <th>idpostulante</th>\n",
       "      <th>sexo</th>\n",
       "      <th>edad</th>\n",
       "      <th>idaviso</th>\n",
       "      <th>tipo_de_trabajo</th>\n",
       "      <th>nivel_laboral</th>\n",
       "      <th>nombre_area</th>\n",
       "      <th>desc_1</th>\n",
       "      <th>desc_2</th>\n",
       "      <th>desc_3</th>\n",
       "      <th>desc_4</th>\n",
       "      <th>desc_5</th>\n",
       "      <th>desc_6</th>\n",
       "      <th>desc_7</th>\n",
       "      <th>cant_vistas_aviso</th>\n",
       "      <th>cant_postulaciones_aviso</th>\n",
       "      <th>nombre_estudio_Doctorado</th>\n",
       "      <th>nombre_estudio_Master</th>\n",
       "      <th>nombre_estudio_Otro</th>\n",
       "      <th>nombre_estudio_Posgrado</th>\n",
       "      <th>nombre_estudio_Secundario</th>\n",
       "      <th>nombre_estudio_Terciario/Tecnico</th>\n",
       "      <th>nombre_estudio_Universitario</th>\n",
       "      <th>estado_estudio_Abandonado</th>\n",
       "      <th>estado_estudio_EnCurso</th>\n",
       "      <th>estado_estudio_Graduado</th>\n",
       "      <th>sexo_FEM</th>\n",
       "      <th>sexo_MASC</th>\n",
       "      <th>sexo_NO_DECLARA</th>\n",
       "    </tr>\n",
       "  </thead>\n",
       "  <tbody>\n",
       "    <tr>\n",
       "      <th>0</th>\n",
       "      <td>VNrqJwE</td>\n",
       "      <td>MASC</td>\n",
       "      <td>31</td>\n",
       "      <td>1112502059</td>\n",
       "      <td>Full-time</td>\n",
       "      <td>Senior/Semi-Senior</td>\n",
       "      <td>Producción</td>\n",
       "      <td>0</td>\n",
       "      <td>0</td>\n",
       "      <td>0</td>\n",
       "      <td>0</td>\n",
       "      <td>0</td>\n",
       "      <td>0</td>\n",
       "      <td>1</td>\n",
       "      <td>0</td>\n",
       "      <td>0</td>\n",
       "      <td>0</td>\n",
       "      <td>0</td>\n",
       "      <td>0</td>\n",
       "      <td>0</td>\n",
       "      <td>0</td>\n",
       "      <td>0</td>\n",
       "      <td>1</td>\n",
       "      <td>0</td>\n",
       "      <td>1</td>\n",
       "      <td>0</td>\n",
       "      <td>0</td>\n",
       "      <td>1</td>\n",
       "      <td>0</td>\n",
       "    </tr>\n",
       "  </tbody>\n",
       "</table>\n",
       "</div>"
      ],
      "text/plain": [
       "  idpostulante  sexo  edad     idaviso tipo_de_trabajo       nivel_laboral  \\\n",
       "0      VNrqJwE  MASC    31  1112502059       Full-time  Senior/Semi-Senior   \n",
       "\n",
       "  nombre_area  desc_1  desc_2  desc_3  desc_4  desc_5  desc_6  desc_7  \\\n",
       "0  Producción       0       0       0       0       0       0       1   \n",
       "\n",
       "   cant_vistas_aviso  cant_postulaciones_aviso  nombre_estudio_Doctorado  \\\n",
       "0                  0                         0                         0   \n",
       "\n",
       "   nombre_estudio_Master  nombre_estudio_Otro  nombre_estudio_Posgrado  \\\n",
       "0                      0                    0                        0   \n",
       "\n",
       "   nombre_estudio_Secundario  nombre_estudio_Terciario/Tecnico  \\\n",
       "0                          0                                 0   \n",
       "\n",
       "   nombre_estudio_Universitario  estado_estudio_Abandonado  \\\n",
       "0                             1                          0   \n",
       "\n",
       "   estado_estudio_EnCurso  estado_estudio_Graduado  sexo_FEM  sexo_MASC  \\\n",
       "0                       1                        0         0          1   \n",
       "\n",
       "   sexo_NO_DECLARA  \n",
       "0                0  "
      ]
     },
     "execution_count": 59,
     "metadata": {},
     "output_type": "execute_result"
    }
   ],
   "source": [
    "sexos = no_postulados.sexo.str.get_dummies()\n",
    "sexos.drop(columns='0.0', inplace=True)\n",
    "sexos.columns = ['sexo_' + col for col in sexos.columns]\n",
    "no_postulados = pd.concat([no_postulados, sexos], axis=1)\n",
    "no_postulados.head(1)"
   ]
  },
  {
   "cell_type": "code",
   "execution_count": 60,
   "metadata": {},
   "outputs": [
    {
     "data": {
      "text/html": [
       "<div>\n",
       "<style scoped>\n",
       "    .dataframe tbody tr th:only-of-type {\n",
       "        vertical-align: middle;\n",
       "    }\n",
       "\n",
       "    .dataframe tbody tr th {\n",
       "        vertical-align: top;\n",
       "    }\n",
       "\n",
       "    .dataframe thead th {\n",
       "        text-align: right;\n",
       "    }\n",
       "</style>\n",
       "<table border=\"1\" class=\"dataframe\">\n",
       "  <thead>\n",
       "    <tr style=\"text-align: right;\">\n",
       "      <th></th>\n",
       "      <th>idaviso</th>\n",
       "      <th>idpostulante</th>\n",
       "      <th>edad</th>\n",
       "      <th>nombre_estudio_Doctorado</th>\n",
       "      <th>nombre_estudio_Master</th>\n",
       "      <th>nombre_estudio_Otro</th>\n",
       "      <th>nombre_estudio_Posgrado</th>\n",
       "      <th>nombre_estudio_Secundario</th>\n",
       "      <th>nombre_estudio_Terciario/Tecnico</th>\n",
       "      <th>nombre_estudio_Universitario</th>\n",
       "      <th>estado_estudio_Abandonado</th>\n",
       "      <th>estado_estudio_EnCurso</th>\n",
       "      <th>estado_estudio_Graduado</th>\n",
       "      <th>sexo_FEM</th>\n",
       "      <th>sexo_MASC</th>\n",
       "      <th>sexo_NO_DECLARA</th>\n",
       "    </tr>\n",
       "  </thead>\n",
       "  <tbody>\n",
       "    <tr>\n",
       "      <th>0</th>\n",
       "      <td>1112257047</td>\n",
       "      <td>NM5M</td>\n",
       "      <td>48</td>\n",
       "      <td>0</td>\n",
       "      <td>0</td>\n",
       "      <td>0</td>\n",
       "      <td>0</td>\n",
       "      <td>1</td>\n",
       "      <td>0</td>\n",
       "      <td>0</td>\n",
       "      <td>0</td>\n",
       "      <td>0</td>\n",
       "      <td>1</td>\n",
       "      <td>1</td>\n",
       "      <td>0</td>\n",
       "      <td>0</td>\n",
       "    </tr>\n",
       "  </tbody>\n",
       "</table>\n",
       "</div>"
      ],
      "text/plain": [
       "      idaviso idpostulante  edad  nombre_estudio_Doctorado  \\\n",
       "0  1112257047         NM5M    48                         0   \n",
       "\n",
       "   nombre_estudio_Master  nombre_estudio_Otro  nombre_estudio_Posgrado  \\\n",
       "0                      0                    0                        0   \n",
       "\n",
       "   nombre_estudio_Secundario  nombre_estudio_Terciario/Tecnico  \\\n",
       "0                          1                                 0   \n",
       "\n",
       "   nombre_estudio_Universitario  estado_estudio_Abandonado  \\\n",
       "0                             0                          0   \n",
       "\n",
       "   estado_estudio_EnCurso  estado_estudio_Graduado  sexo_FEM  sexo_MASC  \\\n",
       "0                       0                        1         1          0   \n",
       "\n",
       "   sexo_NO_DECLARA  \n",
       "0                0  "
      ]
     },
     "execution_count": 60,
     "metadata": {},
     "output_type": "execute_result"
    }
   ],
   "source": [
    "postulaciones_postulantes.drop(columns=['sexo'], inplace=True)\n",
    "postulaciones_postulantes_test.drop(columns=['sexo'], inplace=True)\n",
    "postulaciones_postulantes.head(1)"
   ]
  },
  {
   "cell_type": "code",
   "execution_count": 64,
   "metadata": {},
   "outputs": [],
   "source": [
    "postulaciones_postulantes.to_csv('../data/postulaciones_postulantes.csv', index=False, sep=',', encoding='utf-8')"
   ]
  },
  {
   "cell_type": "code",
   "execution_count": 65,
   "metadata": {},
   "outputs": [],
   "source": [
    "postulaciones_postulantes_test.to_csv('../data/postulaciones_postulantes_test.csv', index=False, sep=',', encoding='utf-8')"
   ]
  },
  {
   "cell_type": "code",
   "execution_count": 66,
   "metadata": {},
   "outputs": [],
   "source": [
    "no_postulados.to_csv('../data/no_postulados.csv', index=False, sep=',', encoding='utf-8')"
   ]
  },
  {
   "cell_type": "code",
   "execution_count": 2,
   "metadata": {},
   "outputs": [],
   "source": [
    "postulaciones_postulantes = pd.read_csv('../data/postulaciones_postulantes.csv', encoding='utf-8')"
   ]
  },
  {
   "cell_type": "code",
   "execution_count": 3,
   "metadata": {},
   "outputs": [],
   "source": [
    "postulaciones_postulantes_test = pd.read_csv('../data/postulaciones_postulantes_test.csv', encoding='utf-8')"
   ]
  },
  {
   "cell_type": "code",
   "execution_count": 4,
   "metadata": {},
   "outputs": [],
   "source": [
    "no_postulados = pd.read_csv('../data/no_postulados.csv', encoding='utf-8')"
   ]
  },
  {
   "cell_type": "markdown",
   "metadata": {},
   "source": [
    "# Checkpoint 2"
   ]
  },
  {
   "cell_type": "code",
   "execution_count": 5,
   "metadata": {},
   "outputs": [],
   "source": [
    "no_postulados.drop(columns=['sexo'], inplace=True)"
   ]
  },
  {
   "cell_type": "code",
   "execution_count": 6,
   "metadata": {},
   "outputs": [
    {
     "data": {
      "text/html": [
       "<div>\n",
       "<style scoped>\n",
       "    .dataframe tbody tr th:only-of-type {\n",
       "        vertical-align: middle;\n",
       "    }\n",
       "\n",
       "    .dataframe tbody tr th {\n",
       "        vertical-align: top;\n",
       "    }\n",
       "\n",
       "    .dataframe thead th {\n",
       "        text-align: right;\n",
       "    }\n",
       "</style>\n",
       "<table border=\"1\" class=\"dataframe\">\n",
       "  <thead>\n",
       "    <tr style=\"text-align: right;\">\n",
       "      <th></th>\n",
       "      <th>id</th>\n",
       "      <th>idaviso</th>\n",
       "      <th>idpostulante</th>\n",
       "      <th>edad</th>\n",
       "      <th>nombre_estudio_Doctorado</th>\n",
       "      <th>nombre_estudio_Master</th>\n",
       "      <th>nombre_estudio_Otro</th>\n",
       "      <th>nombre_estudio_Posgrado</th>\n",
       "      <th>nombre_estudio_Secundario</th>\n",
       "      <th>nombre_estudio_Terciario/Tecnico</th>\n",
       "      <th>nombre_estudio_Universitario</th>\n",
       "      <th>estado_estudio_Abandonado</th>\n",
       "      <th>estado_estudio_EnCurso</th>\n",
       "      <th>estado_estudio_Graduado</th>\n",
       "      <th>sexo_FEM</th>\n",
       "      <th>sexo_MASC</th>\n",
       "      <th>sexo_NO_DECLARA</th>\n",
       "    </tr>\n",
       "  </thead>\n",
       "  <tbody>\n",
       "    <tr>\n",
       "      <th>0</th>\n",
       "      <td>0</td>\n",
       "      <td>739260</td>\n",
       "      <td>6M9ZQR</td>\n",
       "      <td>42.0</td>\n",
       "      <td>1</td>\n",
       "      <td>0</td>\n",
       "      <td>0</td>\n",
       "      <td>0</td>\n",
       "      <td>0</td>\n",
       "      <td>0</td>\n",
       "      <td>0</td>\n",
       "      <td>0</td>\n",
       "      <td>0</td>\n",
       "      <td>1</td>\n",
       "      <td>1</td>\n",
       "      <td>0</td>\n",
       "      <td>0</td>\n",
       "    </tr>\n",
       "  </tbody>\n",
       "</table>\n",
       "</div>"
      ],
      "text/plain": [
       "   id  idaviso idpostulante  edad  nombre_estudio_Doctorado  \\\n",
       "0   0   739260       6M9ZQR  42.0                         1   \n",
       "\n",
       "   nombre_estudio_Master  nombre_estudio_Otro  nombre_estudio_Posgrado  \\\n",
       "0                      0                    0                        0   \n",
       "\n",
       "   nombre_estudio_Secundario  nombre_estudio_Terciario/Tecnico  \\\n",
       "0                          0                                 0   \n",
       "\n",
       "   nombre_estudio_Universitario  estado_estudio_Abandonado  \\\n",
       "0                             0                          0   \n",
       "\n",
       "   estado_estudio_EnCurso  estado_estudio_Graduado  sexo_FEM  sexo_MASC  \\\n",
       "0                       0                        1         1          0   \n",
       "\n",
       "   sexo_NO_DECLARA  \n",
       "0                0  "
      ]
     },
     "execution_count": 6,
     "metadata": {},
     "output_type": "execute_result"
    }
   ],
   "source": [
    "postulaciones_postulantes_test.head(1)"
   ]
  },
  {
   "cell_type": "code",
   "execution_count": 7,
   "metadata": {},
   "outputs": [
    {
     "data": {
      "text/html": [
       "<div>\n",
       "<style scoped>\n",
       "    .dataframe tbody tr th:only-of-type {\n",
       "        vertical-align: middle;\n",
       "    }\n",
       "\n",
       "    .dataframe tbody tr th {\n",
       "        vertical-align: top;\n",
       "    }\n",
       "\n",
       "    .dataframe thead th {\n",
       "        text-align: right;\n",
       "    }\n",
       "</style>\n",
       "<table border=\"1\" class=\"dataframe\">\n",
       "  <thead>\n",
       "    <tr style=\"text-align: right;\">\n",
       "      <th></th>\n",
       "      <th>idaviso</th>\n",
       "      <th>idpostulante</th>\n",
       "      <th>edad</th>\n",
       "      <th>nombre_estudio_Doctorado</th>\n",
       "      <th>nombre_estudio_Master</th>\n",
       "      <th>nombre_estudio_Otro</th>\n",
       "      <th>nombre_estudio_Posgrado</th>\n",
       "      <th>nombre_estudio_Secundario</th>\n",
       "      <th>nombre_estudio_Terciario/Tecnico</th>\n",
       "      <th>nombre_estudio_Universitario</th>\n",
       "      <th>estado_estudio_Abandonado</th>\n",
       "      <th>estado_estudio_EnCurso</th>\n",
       "      <th>estado_estudio_Graduado</th>\n",
       "      <th>sexo_FEM</th>\n",
       "      <th>sexo_MASC</th>\n",
       "      <th>sexo_NO_DECLARA</th>\n",
       "    </tr>\n",
       "  </thead>\n",
       "  <tbody>\n",
       "    <tr>\n",
       "      <th>0</th>\n",
       "      <td>1112257047</td>\n",
       "      <td>NM5M</td>\n",
       "      <td>48</td>\n",
       "      <td>0</td>\n",
       "      <td>0</td>\n",
       "      <td>0</td>\n",
       "      <td>0</td>\n",
       "      <td>1</td>\n",
       "      <td>0</td>\n",
       "      <td>0</td>\n",
       "      <td>0</td>\n",
       "      <td>0</td>\n",
       "      <td>1</td>\n",
       "      <td>1</td>\n",
       "      <td>0</td>\n",
       "      <td>0</td>\n",
       "    </tr>\n",
       "  </tbody>\n",
       "</table>\n",
       "</div>"
      ],
      "text/plain": [
       "      idaviso idpostulante  edad  nombre_estudio_Doctorado  \\\n",
       "0  1112257047         NM5M    48                         0   \n",
       "\n",
       "   nombre_estudio_Master  nombre_estudio_Otro  nombre_estudio_Posgrado  \\\n",
       "0                      0                    0                        0   \n",
       "\n",
       "   nombre_estudio_Secundario  nombre_estudio_Terciario/Tecnico  \\\n",
       "0                          1                                 0   \n",
       "\n",
       "   nombre_estudio_Universitario  estado_estudio_Abandonado  \\\n",
       "0                             0                          0   \n",
       "\n",
       "   estado_estudio_EnCurso  estado_estudio_Graduado  sexo_FEM  sexo_MASC  \\\n",
       "0                       0                        1         1          0   \n",
       "\n",
       "   sexo_NO_DECLARA  \n",
       "0                0  "
      ]
     },
     "execution_count": 7,
     "metadata": {},
     "output_type": "execute_result"
    }
   ],
   "source": [
    "postulaciones_postulantes['edad'] = postulaciones_postulantes['edad'].astype(int)\n",
    "postulaciones_postulantes_test['edad'] = postulaciones_postulantes_test['edad'].astype(int)\n",
    "postulaciones_postulantes.head(1)"
   ]
  },
  {
   "cell_type": "code",
   "execution_count": 8,
   "metadata": {},
   "outputs": [],
   "source": [
    "no_postulados['edad'] = no_postulados['edad'].astype(int)"
   ]
  },
  {
   "cell_type": "code",
   "execution_count": 9,
   "metadata": {},
   "outputs": [
    {
     "data": {
      "text/plain": [
       "idaviso                             False\n",
       "idpostulante                        False\n",
       "edad                                False\n",
       "nombre_estudio_Doctorado            False\n",
       "nombre_estudio_Master               False\n",
       "nombre_estudio_Otro                 False\n",
       "nombre_estudio_Posgrado             False\n",
       "nombre_estudio_Secundario           False\n",
       "nombre_estudio_Terciario/Tecnico    False\n",
       "nombre_estudio_Universitario        False\n",
       "estado_estudio_Abandonado           False\n",
       "estado_estudio_EnCurso              False\n",
       "estado_estudio_Graduado             False\n",
       "sexo_FEM                            False\n",
       "sexo_MASC                           False\n",
       "sexo_NO_DECLARA                     False\n",
       "dtype: bool"
      ]
     },
     "execution_count": 9,
     "metadata": {},
     "output_type": "execute_result"
    }
   ],
   "source": [
    "postulaciones_postulantes.isnull().any()"
   ]
  },
  {
   "cell_type": "code",
   "execution_count": 10,
   "metadata": {},
   "outputs": [
    {
     "data": {
      "text/plain": [
       "id                                  False\n",
       "idaviso                             False\n",
       "idpostulante                        False\n",
       "edad                                False\n",
       "nombre_estudio_Doctorado            False\n",
       "nombre_estudio_Master               False\n",
       "nombre_estudio_Otro                 False\n",
       "nombre_estudio_Posgrado             False\n",
       "nombre_estudio_Secundario           False\n",
       "nombre_estudio_Terciario/Tecnico    False\n",
       "nombre_estudio_Universitario        False\n",
       "estado_estudio_Abandonado           False\n",
       "estado_estudio_EnCurso              False\n",
       "estado_estudio_Graduado             False\n",
       "sexo_FEM                            False\n",
       "sexo_MASC                           False\n",
       "sexo_NO_DECLARA                     False\n",
       "dtype: bool"
      ]
     },
     "execution_count": 10,
     "metadata": {},
     "output_type": "execute_result"
    }
   ],
   "source": [
    "postulaciones_postulantes_test.isnull().any()"
   ]
  },
  {
   "cell_type": "code",
   "execution_count": 11,
   "metadata": {},
   "outputs": [
    {
     "data": {
      "text/plain": [
       "idpostulante                        False\n",
       "edad                                False\n",
       "idaviso                             False\n",
       "tipo_de_trabajo                     False\n",
       "nivel_laboral                       False\n",
       "nombre_area                         False\n",
       "desc_1                              False\n",
       "desc_2                              False\n",
       "desc_3                              False\n",
       "desc_4                              False\n",
       "desc_5                              False\n",
       "desc_6                              False\n",
       "desc_7                              False\n",
       "cant_vistas_aviso                   False\n",
       "cant_postulaciones_aviso            False\n",
       "nombre_estudio_Doctorado            False\n",
       "nombre_estudio_Master               False\n",
       "nombre_estudio_Otro                 False\n",
       "nombre_estudio_Posgrado             False\n",
       "nombre_estudio_Secundario           False\n",
       "nombre_estudio_Terciario/Tecnico    False\n",
       "nombre_estudio_Universitario        False\n",
       "estado_estudio_Abandonado           False\n",
       "estado_estudio_EnCurso              False\n",
       "estado_estudio_Graduado             False\n",
       "sexo_FEM                            False\n",
       "sexo_MASC                           False\n",
       "sexo_NO_DECLARA                     False\n",
       "dtype: bool"
      ]
     },
     "execution_count": 11,
     "metadata": {},
     "output_type": "execute_result"
    }
   ],
   "source": [
    "no_postulados.isnull().any()"
   ]
  },
  {
   "cell_type": "code",
   "execution_count": 12,
   "metadata": {},
   "outputs": [
    {
     "data": {
      "text/plain": [
       "idaviso                              int64\n",
       "idpostulante                        object\n",
       "edad                                 int64\n",
       "nombre_estudio_Doctorado             int64\n",
       "nombre_estudio_Master                int64\n",
       "nombre_estudio_Otro                  int64\n",
       "nombre_estudio_Posgrado              int64\n",
       "nombre_estudio_Secundario            int64\n",
       "nombre_estudio_Terciario/Tecnico     int64\n",
       "nombre_estudio_Universitario         int64\n",
       "estado_estudio_Abandonado            int64\n",
       "estado_estudio_EnCurso               int64\n",
       "estado_estudio_Graduado              int64\n",
       "sexo_FEM                             int64\n",
       "sexo_MASC                            int64\n",
       "sexo_NO_DECLARA                      int64\n",
       "dtype: object"
      ]
     },
     "execution_count": 12,
     "metadata": {},
     "output_type": "execute_result"
    }
   ],
   "source": [
    "postulaciones_postulantes.dtypes"
   ]
  },
  {
   "cell_type": "code",
   "execution_count": 13,
   "metadata": {},
   "outputs": [
    {
     "data": {
      "text/plain": [
       "id                                   int64\n",
       "idaviso                              int64\n",
       "idpostulante                        object\n",
       "edad                                 int64\n",
       "nombre_estudio_Doctorado             int64\n",
       "nombre_estudio_Master                int64\n",
       "nombre_estudio_Otro                  int64\n",
       "nombre_estudio_Posgrado              int64\n",
       "nombre_estudio_Secundario            int64\n",
       "nombre_estudio_Terciario/Tecnico     int64\n",
       "nombre_estudio_Universitario         int64\n",
       "estado_estudio_Abandonado            int64\n",
       "estado_estudio_EnCurso               int64\n",
       "estado_estudio_Graduado              int64\n",
       "sexo_FEM                             int64\n",
       "sexo_MASC                            int64\n",
       "sexo_NO_DECLARA                      int64\n",
       "dtype: object"
      ]
     },
     "execution_count": 13,
     "metadata": {},
     "output_type": "execute_result"
    }
   ],
   "source": [
    "postulaciones_postulantes_test.dtypes"
   ]
  },
  {
   "cell_type": "code",
   "execution_count": 14,
   "metadata": {},
   "outputs": [
    {
     "data": {
      "text/plain": [
       "idpostulante                        object\n",
       "edad                                 int64\n",
       "idaviso                              int64\n",
       "tipo_de_trabajo                     object\n",
       "nivel_laboral                       object\n",
       "nombre_area                         object\n",
       "desc_1                               int64\n",
       "desc_2                               int64\n",
       "desc_3                               int64\n",
       "desc_4                               int64\n",
       "desc_5                               int64\n",
       "desc_6                               int64\n",
       "desc_7                               int64\n",
       "cant_vistas_aviso                    int64\n",
       "cant_postulaciones_aviso             int64\n",
       "nombre_estudio_Doctorado             int64\n",
       "nombre_estudio_Master                int64\n",
       "nombre_estudio_Otro                  int64\n",
       "nombre_estudio_Posgrado              int64\n",
       "nombre_estudio_Secundario            int64\n",
       "nombre_estudio_Terciario/Tecnico     int64\n",
       "nombre_estudio_Universitario         int64\n",
       "estado_estudio_Abandonado            int64\n",
       "estado_estudio_EnCurso               int64\n",
       "estado_estudio_Graduado              int64\n",
       "sexo_FEM                             int64\n",
       "sexo_MASC                            int64\n",
       "sexo_NO_DECLARA                      int64\n",
       "dtype: object"
      ]
     },
     "execution_count": 14,
     "metadata": {},
     "output_type": "execute_result"
    }
   ],
   "source": [
    "no_postulados.dtypes"
   ]
  },
  {
   "cell_type": "code",
   "execution_count": 15,
   "metadata": {},
   "outputs": [
    {
     "data": {
      "text/plain": [
       "idaviso                              int64\n",
       "idpostulante                        object\n",
       "edad                                 int64\n",
       "nombre_estudio_Doctorado             int64\n",
       "nombre_estudio_Master                int64\n",
       "nombre_estudio_Otro                  int64\n",
       "nombre_estudio_Posgrado              int64\n",
       "nombre_estudio_Secundario            int64\n",
       "nombre_estudio_Terciario/Tecnico     int64\n",
       "nombre_estudio_Universitario         int64\n",
       "estado_estudio_Abandonado            int64\n",
       "estado_estudio_EnCurso               int64\n",
       "estado_estudio_Graduado              int64\n",
       "sexo_FEM                             int64\n",
       "sexo_MASC                            int64\n",
       "sexo_NO_DECLARA                      int64\n",
       "dtype: object"
      ]
     },
     "execution_count": 15,
     "metadata": {},
     "output_type": "execute_result"
    }
   ],
   "source": [
    "postulaciones_postulantes.dtypes"
   ]
  },
  {
   "cell_type": "code",
   "execution_count": 16,
   "metadata": {},
   "outputs": [
    {
     "data": {
      "text/plain": [
       "id                                   int64\n",
       "idaviso                              int64\n",
       "idpostulante                        object\n",
       "edad                                 int64\n",
       "nombre_estudio_Doctorado             int64\n",
       "nombre_estudio_Master                int64\n",
       "nombre_estudio_Otro                  int64\n",
       "nombre_estudio_Posgrado              int64\n",
       "nombre_estudio_Secundario            int64\n",
       "nombre_estudio_Terciario/Tecnico     int64\n",
       "nombre_estudio_Universitario         int64\n",
       "estado_estudio_Abandonado            int64\n",
       "estado_estudio_EnCurso               int64\n",
       "estado_estudio_Graduado              int64\n",
       "sexo_FEM                             int64\n",
       "sexo_MASC                            int64\n",
       "sexo_NO_DECLARA                      int64\n",
       "dtype: object"
      ]
     },
     "execution_count": 16,
     "metadata": {},
     "output_type": "execute_result"
    }
   ],
   "source": [
    "postulaciones_postulantes_test.dtypes"
   ]
  },
  {
   "cell_type": "code",
   "execution_count": null,
   "metadata": {},
   "outputs": [],
   "source": [
    "%who"
   ]
  },
  {
   "cell_type": "code",
   "execution_count": 17,
   "metadata": {},
   "outputs": [],
   "source": [
    "postulaciones_postulantes.to_csv('../data/postulaciones_postulantes.csv', index=False, sep=',', encoding='utf-8')"
   ]
  },
  {
   "cell_type": "code",
   "execution_count": 18,
   "metadata": {},
   "outputs": [],
   "source": [
    "postulaciones_postulantes_test.to_csv('../data/postulaciones_postulantes_test.csv', index=False, sep=',', encoding='utf-8')"
   ]
  },
  {
   "cell_type": "code",
   "execution_count": 19,
   "metadata": {},
   "outputs": [],
   "source": [
    "no_postulados.to_csv('../data/no_postulados.csv', index=False, sep=',', encoding='utf-8')"
   ]
  },
  {
   "cell_type": "markdown",
   "metadata": {},
   "source": [
    "# Checkpoint 3"
   ]
  },
  {
   "cell_type": "code",
   "execution_count": 4,
   "metadata": {},
   "outputs": [],
   "source": [
    "postulaciones_postulantes = pd.read_csv('../data/postulaciones_postulantes.csv', encoding='utf-8')"
   ]
  },
  {
   "cell_type": "code",
   "execution_count": 5,
   "metadata": {},
   "outputs": [],
   "source": [
    "postulaciones_postulantes_test = pd.read_csv('../data/postulaciones_postulantes_test.csv', encoding='utf-8')"
   ]
  },
  {
   "cell_type": "code",
   "execution_count": 6,
   "metadata": {},
   "outputs": [],
   "source": [
    "no_postulados = pd.read_csv('../data/no_postulados.csv', encoding='utf-8')"
   ]
  },
  {
   "cell_type": "markdown",
   "metadata": {},
   "source": [
    "### Juntamos con los avisos"
   ]
  },
  {
   "cell_type": "code",
   "execution_count": 7,
   "metadata": {},
   "outputs": [],
   "source": [
    "avisos_detalle_joined = pd.read_csv('../data/avisos_detalle_joined.csv', encoding='utf-8')"
   ]
  },
  {
   "cell_type": "code",
   "execution_count": 8,
   "metadata": {},
   "outputs": [
    {
     "name": "stdout",
     "output_type": "stream",
     "text": [
      "avisos_detalle_joined usa  2.5081939697265625  MB\n",
      "postulaciones_postulantes usa  806.2274932861328  MB\n"
     ]
    }
   ],
   "source": [
    "mem_test=avisos_detalle_joined.memory_usage(index=True).sum()\n",
    "print(\"avisos_detalle_joined usa \",mem_test/ 1024**2,\" MB\")\n",
    "mem_test=postulaciones_postulantes.memory_usage(index=True).sum()\n",
    "print(\"postulaciones_postulantes usa \",mem_test/ 1024**2,\" MB\")"
   ]
  },
  {
   "cell_type": "code",
   "execution_count": 9,
   "metadata": {},
   "outputs": [],
   "source": [
    "postulaciones_postulantes_avisos = pd.merge(postulaciones_postulantes, avisos_detalle_joined, on='idaviso', how='left')"
   ]
  },
  {
   "cell_type": "code",
   "execution_count": 10,
   "metadata": {},
   "outputs": [
    {
     "data": {
      "text/html": [
       "<div>\n",
       "<style scoped>\n",
       "    .dataframe tbody tr th:only-of-type {\n",
       "        vertical-align: middle;\n",
       "    }\n",
       "\n",
       "    .dataframe tbody tr th {\n",
       "        vertical-align: top;\n",
       "    }\n",
       "\n",
       "    .dataframe thead th {\n",
       "        text-align: right;\n",
       "    }\n",
       "</style>\n",
       "<table border=\"1\" class=\"dataframe\">\n",
       "  <thead>\n",
       "    <tr style=\"text-align: right;\">\n",
       "      <th></th>\n",
       "      <th>idaviso</th>\n",
       "      <th>idpostulante</th>\n",
       "      <th>edad</th>\n",
       "      <th>nombre_estudio_Doctorado</th>\n",
       "      <th>nombre_estudio_Master</th>\n",
       "      <th>nombre_estudio_Otro</th>\n",
       "      <th>nombre_estudio_Posgrado</th>\n",
       "      <th>nombre_estudio_Secundario</th>\n",
       "      <th>nombre_estudio_Terciario/Tecnico</th>\n",
       "      <th>nombre_estudio_Universitario</th>\n",
       "      <th>estado_estudio_Abandonado</th>\n",
       "      <th>estado_estudio_EnCurso</th>\n",
       "      <th>estado_estudio_Graduado</th>\n",
       "      <th>sexo_FEM</th>\n",
       "      <th>sexo_MASC</th>\n",
       "      <th>sexo_NO_DECLARA</th>\n",
       "      <th>tipo_de_trabajo</th>\n",
       "      <th>nivel_laboral</th>\n",
       "      <th>nombre_area</th>\n",
       "      <th>desc_1</th>\n",
       "      <th>desc_2</th>\n",
       "      <th>desc_3</th>\n",
       "      <th>desc_4</th>\n",
       "      <th>desc_5</th>\n",
       "      <th>desc_6</th>\n",
       "      <th>desc_7</th>\n",
       "      <th>cant_vistas_aviso</th>\n",
       "      <th>cant_postulaciones_aviso</th>\n",
       "    </tr>\n",
       "  </thead>\n",
       "  <tbody>\n",
       "    <tr>\n",
       "      <th>0</th>\n",
       "      <td>1112257047</td>\n",
       "      <td>NM5M</td>\n",
       "      <td>48</td>\n",
       "      <td>0</td>\n",
       "      <td>0</td>\n",
       "      <td>0</td>\n",
       "      <td>0</td>\n",
       "      <td>1</td>\n",
       "      <td>0</td>\n",
       "      <td>0</td>\n",
       "      <td>0</td>\n",
       "      <td>0</td>\n",
       "      <td>1</td>\n",
       "      <td>1</td>\n",
       "      <td>0</td>\n",
       "      <td>0</td>\n",
       "      <td>Part-time</td>\n",
       "      <td>Otro</td>\n",
       "      <td>AtenciónalCliente</td>\n",
       "      <td>0.0</td>\n",
       "      <td>0.0</td>\n",
       "      <td>0.0</td>\n",
       "      <td>1.0</td>\n",
       "      <td>0.0</td>\n",
       "      <td>0.0</td>\n",
       "      <td>0.0</td>\n",
       "      <td>8.0</td>\n",
       "      <td>2391.0</td>\n",
       "    </tr>\n",
       "  </tbody>\n",
       "</table>\n",
       "</div>"
      ],
      "text/plain": [
       "      idaviso idpostulante  edad  nombre_estudio_Doctorado  \\\n",
       "0  1112257047         NM5M    48                         0   \n",
       "\n",
       "   nombre_estudio_Master  nombre_estudio_Otro  nombre_estudio_Posgrado  \\\n",
       "0                      0                    0                        0   \n",
       "\n",
       "   nombre_estudio_Secundario  nombre_estudio_Terciario/Tecnico  \\\n",
       "0                          1                                 0   \n",
       "\n",
       "   nombre_estudio_Universitario  estado_estudio_Abandonado  \\\n",
       "0                             0                          0   \n",
       "\n",
       "   estado_estudio_EnCurso  estado_estudio_Graduado  sexo_FEM  sexo_MASC  \\\n",
       "0                       0                        1         1          0   \n",
       "\n",
       "   sexo_NO_DECLARA tipo_de_trabajo nivel_laboral        nombre_area  desc_1  \\\n",
       "0                0       Part-time          Otro  AtenciónalCliente     0.0   \n",
       "\n",
       "   desc_2  desc_3  desc_4  desc_5  desc_6  desc_7  cant_vistas_aviso  \\\n",
       "0     0.0     0.0     1.0     0.0     0.0     0.0                8.0   \n",
       "\n",
       "   cant_postulaciones_aviso  \n",
       "0                    2391.0  "
      ]
     },
     "execution_count": 10,
     "metadata": {},
     "output_type": "execute_result"
    }
   ],
   "source": [
    "postulaciones_postulantes_avisos.head(1)"
   ]
  },
  {
   "cell_type": "code",
   "execution_count": 11,
   "metadata": {},
   "outputs": [
    {
     "data": {
      "text/plain": [
       "idaviso                             False\n",
       "idpostulante                        False\n",
       "edad                                False\n",
       "nombre_estudio_Doctorado            False\n",
       "nombre_estudio_Master               False\n",
       "nombre_estudio_Otro                 False\n",
       "nombre_estudio_Posgrado             False\n",
       "nombre_estudio_Secundario           False\n",
       "nombre_estudio_Terciario/Tecnico    False\n",
       "nombre_estudio_Universitario        False\n",
       "estado_estudio_Abandonado           False\n",
       "estado_estudio_EnCurso              False\n",
       "estado_estudio_Graduado             False\n",
       "sexo_FEM                            False\n",
       "sexo_MASC                           False\n",
       "sexo_NO_DECLARA                     False\n",
       "tipo_de_trabajo                      True\n",
       "nivel_laboral                        True\n",
       "nombre_area                          True\n",
       "desc_1                               True\n",
       "desc_2                               True\n",
       "desc_3                               True\n",
       "desc_4                               True\n",
       "desc_5                               True\n",
       "desc_6                               True\n",
       "desc_7                               True\n",
       "cant_vistas_aviso                    True\n",
       "cant_postulaciones_aviso             True\n",
       "dtype: bool"
      ]
     },
     "execution_count": 11,
     "metadata": {},
     "output_type": "execute_result"
    }
   ],
   "source": [
    "postulaciones_postulantes_avisos.isnull().any()"
   ]
  },
  {
   "cell_type": "code",
   "execution_count": 12,
   "metadata": {},
   "outputs": [],
   "source": [
    "postulaciones_postulantes_avisos_test = pd.merge(postulaciones_postulantes_test, avisos_detalle_joined, on='idaviso', how='left')"
   ]
  },
  {
   "cell_type": "code",
   "execution_count": 13,
   "metadata": {},
   "outputs": [
    {
     "data": {
      "text/plain": [
       "100000"
      ]
     },
     "execution_count": 13,
     "metadata": {},
     "output_type": "execute_result"
    }
   ],
   "source": [
    "len(postulaciones_postulantes_avisos_test)"
   ]
  },
  {
   "cell_type": "code",
   "execution_count": 14,
   "metadata": {},
   "outputs": [
    {
     "data": {
      "text/plain": [
       "False"
      ]
     },
     "execution_count": 14,
     "metadata": {},
     "output_type": "execute_result"
    }
   ],
   "source": [
    "postulaciones_postulantes_test.duplicated('id').any()"
   ]
  },
  {
   "cell_type": "code",
   "execution_count": 15,
   "metadata": {},
   "outputs": [
    {
     "data": {
      "text/html": [
       "<div>\n",
       "<style scoped>\n",
       "    .dataframe tbody tr th:only-of-type {\n",
       "        vertical-align: middle;\n",
       "    }\n",
       "\n",
       "    .dataframe tbody tr th {\n",
       "        vertical-align: top;\n",
       "    }\n",
       "\n",
       "    .dataframe thead th {\n",
       "        text-align: right;\n",
       "    }\n",
       "</style>\n",
       "<table border=\"1\" class=\"dataframe\">\n",
       "  <thead>\n",
       "    <tr style=\"text-align: right;\">\n",
       "      <th></th>\n",
       "      <th>id</th>\n",
       "      <th>idaviso</th>\n",
       "      <th>idpostulante</th>\n",
       "      <th>edad</th>\n",
       "      <th>nombre_estudio_Doctorado</th>\n",
       "      <th>nombre_estudio_Master</th>\n",
       "      <th>nombre_estudio_Otro</th>\n",
       "      <th>nombre_estudio_Posgrado</th>\n",
       "      <th>nombre_estudio_Secundario</th>\n",
       "      <th>nombre_estudio_Terciario/Tecnico</th>\n",
       "      <th>nombre_estudio_Universitario</th>\n",
       "      <th>estado_estudio_Abandonado</th>\n",
       "      <th>estado_estudio_EnCurso</th>\n",
       "      <th>estado_estudio_Graduado</th>\n",
       "      <th>sexo_FEM</th>\n",
       "      <th>sexo_MASC</th>\n",
       "      <th>sexo_NO_DECLARA</th>\n",
       "      <th>tipo_de_trabajo</th>\n",
       "      <th>nivel_laboral</th>\n",
       "      <th>nombre_area</th>\n",
       "      <th>desc_1</th>\n",
       "      <th>desc_2</th>\n",
       "      <th>desc_3</th>\n",
       "      <th>desc_4</th>\n",
       "      <th>desc_5</th>\n",
       "      <th>desc_6</th>\n",
       "      <th>desc_7</th>\n",
       "      <th>cant_vistas_aviso</th>\n",
       "      <th>cant_postulaciones_aviso</th>\n",
       "    </tr>\n",
       "  </thead>\n",
       "  <tbody>\n",
       "    <tr>\n",
       "      <th>0</th>\n",
       "      <td>0</td>\n",
       "      <td>739260</td>\n",
       "      <td>6M9ZQR</td>\n",
       "      <td>42</td>\n",
       "      <td>1</td>\n",
       "      <td>0</td>\n",
       "      <td>0</td>\n",
       "      <td>0</td>\n",
       "      <td>0</td>\n",
       "      <td>0</td>\n",
       "      <td>0</td>\n",
       "      <td>0</td>\n",
       "      <td>0</td>\n",
       "      <td>1</td>\n",
       "      <td>1</td>\n",
       "      <td>0</td>\n",
       "      <td>0</td>\n",
       "      <td>Full-time</td>\n",
       "      <td>Jefe/Supervisor/Responsable</td>\n",
       "      <td>Comercial</td>\n",
       "      <td>0</td>\n",
       "      <td>0</td>\n",
       "      <td>0</td>\n",
       "      <td>0</td>\n",
       "      <td>1</td>\n",
       "      <td>0</td>\n",
       "      <td>0</td>\n",
       "      <td>2</td>\n",
       "      <td>0</td>\n",
       "    </tr>\n",
       "  </tbody>\n",
       "</table>\n",
       "</div>"
      ],
      "text/plain": [
       "   id  idaviso idpostulante  edad  nombre_estudio_Doctorado  \\\n",
       "0   0   739260       6M9ZQR    42                         1   \n",
       "\n",
       "   nombre_estudio_Master  nombre_estudio_Otro  nombre_estudio_Posgrado  \\\n",
       "0                      0                    0                        0   \n",
       "\n",
       "   nombre_estudio_Secundario  nombre_estudio_Terciario/Tecnico  \\\n",
       "0                          0                                 0   \n",
       "\n",
       "   nombre_estudio_Universitario  estado_estudio_Abandonado  \\\n",
       "0                             0                          0   \n",
       "\n",
       "   estado_estudio_EnCurso  estado_estudio_Graduado  sexo_FEM  sexo_MASC  \\\n",
       "0                       0                        1         1          0   \n",
       "\n",
       "   sexo_NO_DECLARA tipo_de_trabajo                nivel_laboral nombre_area  \\\n",
       "0                0       Full-time  Jefe/Supervisor/Responsable   Comercial   \n",
       "\n",
       "   desc_1  desc_2  desc_3  desc_4  desc_5  desc_6  desc_7  cant_vistas_aviso  \\\n",
       "0       0       0       0       0       1       0       0                  2   \n",
       "\n",
       "   cant_postulaciones_aviso  \n",
       "0                         0  "
      ]
     },
     "execution_count": 15,
     "metadata": {},
     "output_type": "execute_result"
    }
   ],
   "source": [
    "postulaciones_postulantes_avisos_test.head(1)"
   ]
  },
  {
   "cell_type": "code",
   "execution_count": 16,
   "metadata": {},
   "outputs": [
    {
     "data": {
      "text/plain": [
       "id                                  False\n",
       "idaviso                             False\n",
       "idpostulante                        False\n",
       "edad                                False\n",
       "nombre_estudio_Doctorado            False\n",
       "nombre_estudio_Master               False\n",
       "nombre_estudio_Otro                 False\n",
       "nombre_estudio_Posgrado             False\n",
       "nombre_estudio_Secundario           False\n",
       "nombre_estudio_Terciario/Tecnico    False\n",
       "nombre_estudio_Universitario        False\n",
       "estado_estudio_Abandonado           False\n",
       "estado_estudio_EnCurso              False\n",
       "estado_estudio_Graduado             False\n",
       "sexo_FEM                            False\n",
       "sexo_MASC                           False\n",
       "sexo_NO_DECLARA                     False\n",
       "tipo_de_trabajo                     False\n",
       "nivel_laboral                       False\n",
       "nombre_area                         False\n",
       "desc_1                              False\n",
       "desc_2                              False\n",
       "desc_3                              False\n",
       "desc_4                              False\n",
       "desc_5                              False\n",
       "desc_6                              False\n",
       "desc_7                              False\n",
       "cant_vistas_aviso                   False\n",
       "cant_postulaciones_aviso            False\n",
       "dtype: bool"
      ]
     },
     "execution_count": 16,
     "metadata": {},
     "output_type": "execute_result"
    }
   ],
   "source": [
    "postulaciones_postulantes_avisos_test.isnull().any()"
   ]
  },
  {
   "cell_type": "markdown",
   "metadata": {},
   "source": [
    "#### One hot encoding de columnas categoricas"
   ]
  },
  {
   "cell_type": "code",
   "execution_count": 17,
   "metadata": {},
   "outputs": [],
   "source": [
    "postulaciones_postulantes_avisos['tipo_full'] = (postulaciones_postulantes_avisos['tipo_de_trabajo'].astype(str) == 'Full-time').astype(bool)\n",
    "postulaciones_postulantes_avisos['tipo_part'] = (postulaciones_postulantes_avisos['tipo_de_trabajo'].astype(str) == 'Part-time').astype(bool)\n",
    "postulaciones_postulantes_avisos['tipo_otro'] = ((postulaciones_postulantes_avisos['tipo_de_trabajo'].astype(str) != 'Part-time') & (postulaciones_postulantes_avisos['tipo_de_trabajo'].astype(str) != 'Full-time')).astype(bool)"
   ]
  },
  {
   "cell_type": "code",
   "execution_count": 18,
   "metadata": {},
   "outputs": [],
   "source": [
    "postulaciones_postulantes_avisos_test['tipo_full'] = (postulaciones_postulantes_avisos_test['tipo_de_trabajo'].astype(str) == 'Full-time').astype(bool)\n",
    "postulaciones_postulantes_avisos_test['tipo_part'] = (postulaciones_postulantes_avisos_test['tipo_de_trabajo'].astype(str) == 'Part-time').astype(bool)\n",
    "postulaciones_postulantes_avisos_test['tipo_otro'] = ((postulaciones_postulantes_avisos_test['tipo_de_trabajo'].astype(str) != 'Part-time') & (postulaciones_postulantes_avisos_test['tipo_de_trabajo'].astype(str) != 'Full-time')).astype(bool)"
   ]
  },
  {
   "cell_type": "code",
   "execution_count": 19,
   "metadata": {},
   "outputs": [],
   "source": [
    "no_postulados['tipo_full'] = (no_postulados['tipo_de_trabajo'].astype(str) == 'Full-time').astype(bool)\n",
    "no_postulados['tipo_part'] = (no_postulados['tipo_de_trabajo'].astype(str) == 'Part-time').astype(bool)\n",
    "no_postulados['tipo_otro'] = ((no_postulados['tipo_de_trabajo'].astype(str) != 'Part-time') & (no_postulados['tipo_de_trabajo'].astype(str) != 'Full-time')).astype(bool)"
   ]
  },
  {
   "cell_type": "code",
   "execution_count": 20,
   "metadata": {},
   "outputs": [],
   "source": [
    "postulaciones_postulantes_avisos.drop(['tipo_de_trabajo'], axis=1, inplace=True)\n",
    "postulaciones_postulantes_avisos_test.drop(['tipo_de_trabajo'], axis=1, inplace=True)"
   ]
  },
  {
   "cell_type": "code",
   "execution_count": 21,
   "metadata": {},
   "outputs": [],
   "source": [
    "no_postulados.drop(['tipo_de_trabajo'], axis=1, inplace=True)"
   ]
  },
  {
   "cell_type": "code",
   "execution_count": 22,
   "metadata": {},
   "outputs": [
    {
     "data": {
      "text/html": [
       "<div>\n",
       "<style scoped>\n",
       "    .dataframe tbody tr th:only-of-type {\n",
       "        vertical-align: middle;\n",
       "    }\n",
       "\n",
       "    .dataframe tbody tr th {\n",
       "        vertical-align: top;\n",
       "    }\n",
       "\n",
       "    .dataframe thead th {\n",
       "        text-align: right;\n",
       "    }\n",
       "</style>\n",
       "<table border=\"1\" class=\"dataframe\">\n",
       "  <thead>\n",
       "    <tr style=\"text-align: right;\">\n",
       "      <th></th>\n",
       "      <th>idaviso</th>\n",
       "      <th>idpostulante</th>\n",
       "      <th>edad</th>\n",
       "      <th>nombre_estudio_Doctorado</th>\n",
       "      <th>nombre_estudio_Master</th>\n",
       "      <th>nombre_estudio_Otro</th>\n",
       "      <th>nombre_estudio_Posgrado</th>\n",
       "      <th>nombre_estudio_Secundario</th>\n",
       "      <th>nombre_estudio_Terciario/Tecnico</th>\n",
       "      <th>nombre_estudio_Universitario</th>\n",
       "      <th>estado_estudio_Abandonado</th>\n",
       "      <th>estado_estudio_EnCurso</th>\n",
       "      <th>estado_estudio_Graduado</th>\n",
       "      <th>sexo_FEM</th>\n",
       "      <th>sexo_MASC</th>\n",
       "      <th>sexo_NO_DECLARA</th>\n",
       "      <th>nivel_laboral</th>\n",
       "      <th>nombre_area</th>\n",
       "      <th>desc_1</th>\n",
       "      <th>desc_2</th>\n",
       "      <th>desc_3</th>\n",
       "      <th>desc_4</th>\n",
       "      <th>desc_5</th>\n",
       "      <th>desc_6</th>\n",
       "      <th>desc_7</th>\n",
       "      <th>cant_vistas_aviso</th>\n",
       "      <th>cant_postulaciones_aviso</th>\n",
       "      <th>tipo_full</th>\n",
       "      <th>tipo_part</th>\n",
       "      <th>tipo_otro</th>\n",
       "    </tr>\n",
       "  </thead>\n",
       "  <tbody>\n",
       "    <tr>\n",
       "      <th>0</th>\n",
       "      <td>1112257047</td>\n",
       "      <td>NM5M</td>\n",
       "      <td>48</td>\n",
       "      <td>0</td>\n",
       "      <td>0</td>\n",
       "      <td>0</td>\n",
       "      <td>0</td>\n",
       "      <td>1</td>\n",
       "      <td>0</td>\n",
       "      <td>0</td>\n",
       "      <td>0</td>\n",
       "      <td>0</td>\n",
       "      <td>1</td>\n",
       "      <td>1</td>\n",
       "      <td>0</td>\n",
       "      <td>0</td>\n",
       "      <td>Otro</td>\n",
       "      <td>AtenciónalCliente</td>\n",
       "      <td>0.0</td>\n",
       "      <td>0.0</td>\n",
       "      <td>0.0</td>\n",
       "      <td>1.0</td>\n",
       "      <td>0.0</td>\n",
       "      <td>0.0</td>\n",
       "      <td>0.0</td>\n",
       "      <td>8.0</td>\n",
       "      <td>2391.0</td>\n",
       "      <td>False</td>\n",
       "      <td>True</td>\n",
       "      <td>False</td>\n",
       "    </tr>\n",
       "  </tbody>\n",
       "</table>\n",
       "</div>"
      ],
      "text/plain": [
       "      idaviso idpostulante  edad  nombre_estudio_Doctorado  \\\n",
       "0  1112257047         NM5M    48                         0   \n",
       "\n",
       "   nombre_estudio_Master  nombre_estudio_Otro  nombre_estudio_Posgrado  \\\n",
       "0                      0                    0                        0   \n",
       "\n",
       "   nombre_estudio_Secundario  nombre_estudio_Terciario/Tecnico  \\\n",
       "0                          1                                 0   \n",
       "\n",
       "   nombre_estudio_Universitario  estado_estudio_Abandonado  \\\n",
       "0                             0                          0   \n",
       "\n",
       "   estado_estudio_EnCurso  estado_estudio_Graduado  sexo_FEM  sexo_MASC  \\\n",
       "0                       0                        1         1          0   \n",
       "\n",
       "   sexo_NO_DECLARA nivel_laboral        nombre_area  desc_1  desc_2  desc_3  \\\n",
       "0                0          Otro  AtenciónalCliente     0.0     0.0     0.0   \n",
       "\n",
       "   desc_4  desc_5  desc_6  desc_7  cant_vistas_aviso  \\\n",
       "0     1.0     0.0     0.0     0.0                8.0   \n",
       "\n",
       "   cant_postulaciones_aviso  tipo_full  tipo_part  tipo_otro  \n",
       "0                    2391.0      False       True      False  "
      ]
     },
     "execution_count": 22,
     "metadata": {},
     "output_type": "execute_result"
    }
   ],
   "source": [
    "postulaciones_postulantes_avisos.head(1)"
   ]
  },
  {
   "cell_type": "code",
   "execution_count": 23,
   "metadata": {},
   "outputs": [
    {
     "data": {
      "text/html": [
       "<div>\n",
       "<style scoped>\n",
       "    .dataframe tbody tr th:only-of-type {\n",
       "        vertical-align: middle;\n",
       "    }\n",
       "\n",
       "    .dataframe tbody tr th {\n",
       "        vertical-align: top;\n",
       "    }\n",
       "\n",
       "    .dataframe thead th {\n",
       "        text-align: right;\n",
       "    }\n",
       "</style>\n",
       "<table border=\"1\" class=\"dataframe\">\n",
       "  <thead>\n",
       "    <tr style=\"text-align: right;\">\n",
       "      <th></th>\n",
       "      <th>id</th>\n",
       "      <th>idaviso</th>\n",
       "      <th>idpostulante</th>\n",
       "      <th>edad</th>\n",
       "      <th>nombre_estudio_Doctorado</th>\n",
       "      <th>nombre_estudio_Master</th>\n",
       "      <th>nombre_estudio_Otro</th>\n",
       "      <th>nombre_estudio_Posgrado</th>\n",
       "      <th>nombre_estudio_Secundario</th>\n",
       "      <th>nombre_estudio_Terciario/Tecnico</th>\n",
       "      <th>nombre_estudio_Universitario</th>\n",
       "      <th>estado_estudio_Abandonado</th>\n",
       "      <th>estado_estudio_EnCurso</th>\n",
       "      <th>estado_estudio_Graduado</th>\n",
       "      <th>sexo_FEM</th>\n",
       "      <th>sexo_MASC</th>\n",
       "      <th>sexo_NO_DECLARA</th>\n",
       "      <th>nivel_laboral</th>\n",
       "      <th>nombre_area</th>\n",
       "      <th>desc_1</th>\n",
       "      <th>desc_2</th>\n",
       "      <th>desc_3</th>\n",
       "      <th>desc_4</th>\n",
       "      <th>desc_5</th>\n",
       "      <th>desc_6</th>\n",
       "      <th>desc_7</th>\n",
       "      <th>cant_vistas_aviso</th>\n",
       "      <th>cant_postulaciones_aviso</th>\n",
       "      <th>tipo_full</th>\n",
       "      <th>tipo_part</th>\n",
       "      <th>tipo_otro</th>\n",
       "    </tr>\n",
       "  </thead>\n",
       "  <tbody>\n",
       "    <tr>\n",
       "      <th>0</th>\n",
       "      <td>0</td>\n",
       "      <td>739260</td>\n",
       "      <td>6M9ZQR</td>\n",
       "      <td>42</td>\n",
       "      <td>1</td>\n",
       "      <td>0</td>\n",
       "      <td>0</td>\n",
       "      <td>0</td>\n",
       "      <td>0</td>\n",
       "      <td>0</td>\n",
       "      <td>0</td>\n",
       "      <td>0</td>\n",
       "      <td>0</td>\n",
       "      <td>1</td>\n",
       "      <td>1</td>\n",
       "      <td>0</td>\n",
       "      <td>0</td>\n",
       "      <td>Jefe/Supervisor/Responsable</td>\n",
       "      <td>Comercial</td>\n",
       "      <td>0</td>\n",
       "      <td>0</td>\n",
       "      <td>0</td>\n",
       "      <td>0</td>\n",
       "      <td>1</td>\n",
       "      <td>0</td>\n",
       "      <td>0</td>\n",
       "      <td>2</td>\n",
       "      <td>0</td>\n",
       "      <td>True</td>\n",
       "      <td>False</td>\n",
       "      <td>False</td>\n",
       "    </tr>\n",
       "  </tbody>\n",
       "</table>\n",
       "</div>"
      ],
      "text/plain": [
       "   id  idaviso idpostulante  edad  nombre_estudio_Doctorado  \\\n",
       "0   0   739260       6M9ZQR    42                         1   \n",
       "\n",
       "   nombre_estudio_Master  nombre_estudio_Otro  nombre_estudio_Posgrado  \\\n",
       "0                      0                    0                        0   \n",
       "\n",
       "   nombre_estudio_Secundario  nombre_estudio_Terciario/Tecnico  \\\n",
       "0                          0                                 0   \n",
       "\n",
       "   nombre_estudio_Universitario  estado_estudio_Abandonado  \\\n",
       "0                             0                          0   \n",
       "\n",
       "   estado_estudio_EnCurso  estado_estudio_Graduado  sexo_FEM  sexo_MASC  \\\n",
       "0                       0                        1         1          0   \n",
       "\n",
       "   sexo_NO_DECLARA                nivel_laboral nombre_area  desc_1  desc_2  \\\n",
       "0                0  Jefe/Supervisor/Responsable   Comercial       0       0   \n",
       "\n",
       "   desc_3  desc_4  desc_5  desc_6  desc_7  cant_vistas_aviso  \\\n",
       "0       0       0       1       0       0                  2   \n",
       "\n",
       "   cant_postulaciones_aviso  tipo_full  tipo_part  tipo_otro  \n",
       "0                         0       True      False      False  "
      ]
     },
     "execution_count": 23,
     "metadata": {},
     "output_type": "execute_result"
    }
   ],
   "source": [
    "postulaciones_postulantes_avisos_test.head(1)"
   ]
  },
  {
   "cell_type": "code",
   "execution_count": 24,
   "metadata": {},
   "outputs": [
    {
     "data": {
      "text/plain": [
       "Senior/Semi-Senior                 4089753\n",
       "Junior                             1361408\n",
       "Otro                                506359\n",
       "Jefe/Supervisor/Responsable         186571\n",
       "Gerencia/AltaGerencia/Dirección      44623\n",
       "Name: nivel_laboral, dtype: int64"
      ]
     },
     "execution_count": 24,
     "metadata": {},
     "output_type": "execute_result"
    }
   ],
   "source": [
    "postulaciones_postulantes_avisos['nivel_laboral'].value_counts()"
   ]
  },
  {
   "cell_type": "code",
   "execution_count": 25,
   "metadata": {},
   "outputs": [
    {
     "data": {
      "text/plain": [
       "idaviso                               int64\n",
       "idpostulante                         object\n",
       "edad                                  int64\n",
       "nombre_estudio_Doctorado              int64\n",
       "nombre_estudio_Master                 int64\n",
       "nombre_estudio_Otro                   int64\n",
       "nombre_estudio_Posgrado               int64\n",
       "nombre_estudio_Secundario             int64\n",
       "nombre_estudio_Terciario/Tecnico      int64\n",
       "nombre_estudio_Universitario          int64\n",
       "estado_estudio_Abandonado             int64\n",
       "estado_estudio_EnCurso                int64\n",
       "estado_estudio_Graduado               int64\n",
       "sexo_FEM                              int64\n",
       "sexo_MASC                             int64\n",
       "sexo_NO_DECLARA                       int64\n",
       "nivel_laboral                        object\n",
       "nombre_area                          object\n",
       "desc_1                              float64\n",
       "desc_2                              float64\n",
       "desc_3                              float64\n",
       "desc_4                              float64\n",
       "desc_5                              float64\n",
       "desc_6                              float64\n",
       "desc_7                              float64\n",
       "cant_vistas_aviso                   float64\n",
       "cant_postulaciones_aviso            float64\n",
       "tipo_full                              bool\n",
       "tipo_part                              bool\n",
       "tipo_otro                              bool\n",
       "dtype: object"
      ]
     },
     "execution_count": 25,
     "metadata": {},
     "output_type": "execute_result"
    }
   ],
   "source": [
    "postulaciones_postulantes_avisos['nivel_laboral'] = postulaciones_postulantes_avisos['nivel_laboral'].astype(str)\n",
    "postulaciones_postulantes_avisos_test['nivel_laboral'] = postulaciones_postulantes_avisos_test['nivel_laboral'].astype(str)\n",
    "postulaciones_postulantes_avisos.dtypes"
   ]
  },
  {
   "cell_type": "code",
   "execution_count": 26,
   "metadata": {},
   "outputs": [],
   "source": [
    "no_postulados['nivel_laboral'] = no_postulados['nivel_laboral'].astype(str)"
   ]
  },
  {
   "cell_type": "code",
   "execution_count": 27,
   "metadata": {},
   "outputs": [
    {
     "data": {
      "text/plain": [
       "id                                   int64\n",
       "idaviso                              int64\n",
       "idpostulante                        object\n",
       "edad                                 int64\n",
       "nombre_estudio_Doctorado             int64\n",
       "nombre_estudio_Master                int64\n",
       "nombre_estudio_Otro                  int64\n",
       "nombre_estudio_Posgrado              int64\n",
       "nombre_estudio_Secundario            int64\n",
       "nombre_estudio_Terciario/Tecnico     int64\n",
       "nombre_estudio_Universitario         int64\n",
       "estado_estudio_Abandonado            int64\n",
       "estado_estudio_EnCurso               int64\n",
       "estado_estudio_Graduado              int64\n",
       "sexo_FEM                             int64\n",
       "sexo_MASC                            int64\n",
       "sexo_NO_DECLARA                      int64\n",
       "nivel_laboral                       object\n",
       "nombre_area                         object\n",
       "desc_1                               int64\n",
       "desc_2                               int64\n",
       "desc_3                               int64\n",
       "desc_4                               int64\n",
       "desc_5                               int64\n",
       "desc_6                               int64\n",
       "desc_7                               int64\n",
       "cant_vistas_aviso                    int64\n",
       "cant_postulaciones_aviso             int64\n",
       "tipo_full                             bool\n",
       "tipo_part                             bool\n",
       "tipo_otro                             bool\n",
       "dtype: object"
      ]
     },
     "execution_count": 27,
     "metadata": {},
     "output_type": "execute_result"
    }
   ],
   "source": [
    "postulaciones_postulantes_avisos_test.dtypes"
   ]
  },
  {
   "cell_type": "code",
   "execution_count": 28,
   "metadata": {},
   "outputs": [
    {
     "data": {
      "text/html": [
       "<div>\n",
       "<style scoped>\n",
       "    .dataframe tbody tr th:only-of-type {\n",
       "        vertical-align: middle;\n",
       "    }\n",
       "\n",
       "    .dataframe tbody tr th {\n",
       "        vertical-align: top;\n",
       "    }\n",
       "\n",
       "    .dataframe thead th {\n",
       "        text-align: right;\n",
       "    }\n",
       "</style>\n",
       "<table border=\"1\" class=\"dataframe\">\n",
       "  <thead>\n",
       "    <tr style=\"text-align: right;\">\n",
       "      <th></th>\n",
       "      <th>idaviso</th>\n",
       "      <th>idpostulante</th>\n",
       "      <th>edad</th>\n",
       "      <th>nombre_estudio_Doctorado</th>\n",
       "      <th>nombre_estudio_Master</th>\n",
       "      <th>nombre_estudio_Otro</th>\n",
       "      <th>nombre_estudio_Posgrado</th>\n",
       "      <th>nombre_estudio_Secundario</th>\n",
       "      <th>nombre_estudio_Terciario/Tecnico</th>\n",
       "      <th>nombre_estudio_Universitario</th>\n",
       "      <th>estado_estudio_Abandonado</th>\n",
       "      <th>estado_estudio_EnCurso</th>\n",
       "      <th>estado_estudio_Graduado</th>\n",
       "      <th>sexo_FEM</th>\n",
       "      <th>sexo_MASC</th>\n",
       "      <th>sexo_NO_DECLARA</th>\n",
       "      <th>nivel_laboral</th>\n",
       "      <th>nombre_area</th>\n",
       "      <th>desc_1</th>\n",
       "      <th>desc_2</th>\n",
       "      <th>desc_3</th>\n",
       "      <th>desc_4</th>\n",
       "      <th>desc_5</th>\n",
       "      <th>desc_6</th>\n",
       "      <th>desc_7</th>\n",
       "      <th>cant_vistas_aviso</th>\n",
       "      <th>cant_postulaciones_aviso</th>\n",
       "      <th>tipo_full</th>\n",
       "      <th>tipo_part</th>\n",
       "      <th>tipo_otro</th>\n",
       "    </tr>\n",
       "  </thead>\n",
       "  <tbody>\n",
       "    <tr>\n",
       "      <th>0</th>\n",
       "      <td>1112257047</td>\n",
       "      <td>NM5M</td>\n",
       "      <td>48</td>\n",
       "      <td>0</td>\n",
       "      <td>0</td>\n",
       "      <td>0</td>\n",
       "      <td>0</td>\n",
       "      <td>1</td>\n",
       "      <td>0</td>\n",
       "      <td>0</td>\n",
       "      <td>0</td>\n",
       "      <td>0</td>\n",
       "      <td>1</td>\n",
       "      <td>1</td>\n",
       "      <td>0</td>\n",
       "      <td>0</td>\n",
       "      <td>Otro</td>\n",
       "      <td>AtenciónalCliente</td>\n",
       "      <td>0.0</td>\n",
       "      <td>0.0</td>\n",
       "      <td>0.0</td>\n",
       "      <td>1.0</td>\n",
       "      <td>0.0</td>\n",
       "      <td>0.0</td>\n",
       "      <td>0.0</td>\n",
       "      <td>8.0</td>\n",
       "      <td>2391.0</td>\n",
       "      <td>False</td>\n",
       "      <td>True</td>\n",
       "      <td>False</td>\n",
       "    </tr>\n",
       "  </tbody>\n",
       "</table>\n",
       "</div>"
      ],
      "text/plain": [
       "      idaviso idpostulante  edad  nombre_estudio_Doctorado  \\\n",
       "0  1112257047         NM5M    48                         0   \n",
       "\n",
       "   nombre_estudio_Master  nombre_estudio_Otro  nombre_estudio_Posgrado  \\\n",
       "0                      0                    0                        0   \n",
       "\n",
       "   nombre_estudio_Secundario  nombre_estudio_Terciario/Tecnico  \\\n",
       "0                          1                                 0   \n",
       "\n",
       "   nombre_estudio_Universitario  estado_estudio_Abandonado  \\\n",
       "0                             0                          0   \n",
       "\n",
       "   estado_estudio_EnCurso  estado_estudio_Graduado  sexo_FEM  sexo_MASC  \\\n",
       "0                       0                        1         1          0   \n",
       "\n",
       "   sexo_NO_DECLARA nivel_laboral        nombre_area  desc_1  desc_2  desc_3  \\\n",
       "0                0          Otro  AtenciónalCliente     0.0     0.0     0.0   \n",
       "\n",
       "   desc_4  desc_5  desc_6  desc_7  cant_vistas_aviso  \\\n",
       "0     1.0     0.0     0.0     0.0                8.0   \n",
       "\n",
       "   cant_postulaciones_aviso  tipo_full  tipo_part  tipo_otro  \n",
       "0                    2391.0      False       True      False  "
      ]
     },
     "execution_count": 28,
     "metadata": {},
     "output_type": "execute_result"
    }
   ],
   "source": [
    "postulaciones_postulantes_avisos.head(1)"
   ]
  },
  {
   "cell_type": "code",
   "execution_count": 29,
   "metadata": {},
   "outputs": [
    {
     "data": {
      "text/html": [
       "<div>\n",
       "<style scoped>\n",
       "    .dataframe tbody tr th:only-of-type {\n",
       "        vertical-align: middle;\n",
       "    }\n",
       "\n",
       "    .dataframe tbody tr th {\n",
       "        vertical-align: top;\n",
       "    }\n",
       "\n",
       "    .dataframe thead th {\n",
       "        text-align: right;\n",
       "    }\n",
       "</style>\n",
       "<table border=\"1\" class=\"dataframe\">\n",
       "  <thead>\n",
       "    <tr style=\"text-align: right;\">\n",
       "      <th></th>\n",
       "      <th>idaviso</th>\n",
       "      <th>idpostulante</th>\n",
       "      <th>edad</th>\n",
       "      <th>nombre_estudio_Doctorado</th>\n",
       "      <th>nombre_estudio_Master</th>\n",
       "      <th>nombre_estudio_Otro</th>\n",
       "      <th>nombre_estudio_Posgrado</th>\n",
       "      <th>nombre_estudio_Secundario</th>\n",
       "      <th>nombre_estudio_Terciario/Tecnico</th>\n",
       "      <th>nombre_estudio_Universitario</th>\n",
       "      <th>estado_estudio_Abandonado</th>\n",
       "      <th>estado_estudio_EnCurso</th>\n",
       "      <th>estado_estudio_Graduado</th>\n",
       "      <th>sexo_FEM</th>\n",
       "      <th>sexo_MASC</th>\n",
       "      <th>sexo_NO_DECLARA</th>\n",
       "      <th>nombre_area</th>\n",
       "      <th>desc_1</th>\n",
       "      <th>desc_2</th>\n",
       "      <th>desc_3</th>\n",
       "      <th>desc_4</th>\n",
       "      <th>desc_5</th>\n",
       "      <th>desc_6</th>\n",
       "      <th>desc_7</th>\n",
       "      <th>cant_vistas_aviso</th>\n",
       "      <th>cant_postulaciones_aviso</th>\n",
       "      <th>tipo_full</th>\n",
       "      <th>tipo_part</th>\n",
       "      <th>tipo_otro</th>\n",
       "      <th>nivel_laboral_Gerencia/AltaGerencia/Dirección</th>\n",
       "      <th>nivel_laboral_Jefe/Supervisor/Responsable</th>\n",
       "      <th>nivel_laboral_Junior</th>\n",
       "      <th>nivel_laboral_Otro</th>\n",
       "      <th>nivel_laboral_Senior/Semi-Senior</th>\n",
       "      <th>nivel_laboral_nan</th>\n",
       "    </tr>\n",
       "  </thead>\n",
       "  <tbody>\n",
       "    <tr>\n",
       "      <th>0</th>\n",
       "      <td>1112257047</td>\n",
       "      <td>NM5M</td>\n",
       "      <td>48</td>\n",
       "      <td>0</td>\n",
       "      <td>0</td>\n",
       "      <td>0</td>\n",
       "      <td>0</td>\n",
       "      <td>1</td>\n",
       "      <td>0</td>\n",
       "      <td>0</td>\n",
       "      <td>0</td>\n",
       "      <td>0</td>\n",
       "      <td>1</td>\n",
       "      <td>1</td>\n",
       "      <td>0</td>\n",
       "      <td>0</td>\n",
       "      <td>AtenciónalCliente</td>\n",
       "      <td>0.0</td>\n",
       "      <td>0.0</td>\n",
       "      <td>0.0</td>\n",
       "      <td>1.0</td>\n",
       "      <td>0.0</td>\n",
       "      <td>0.0</td>\n",
       "      <td>0.0</td>\n",
       "      <td>8.0</td>\n",
       "      <td>2391.0</td>\n",
       "      <td>False</td>\n",
       "      <td>True</td>\n",
       "      <td>False</td>\n",
       "      <td>0</td>\n",
       "      <td>0</td>\n",
       "      <td>0</td>\n",
       "      <td>1</td>\n",
       "      <td>0</td>\n",
       "      <td>0</td>\n",
       "    </tr>\n",
       "  </tbody>\n",
       "</table>\n",
       "</div>"
      ],
      "text/plain": [
       "      idaviso idpostulante  edad  nombre_estudio_Doctorado  \\\n",
       "0  1112257047         NM5M    48                         0   \n",
       "\n",
       "   nombre_estudio_Master  nombre_estudio_Otro  nombre_estudio_Posgrado  \\\n",
       "0                      0                    0                        0   \n",
       "\n",
       "   nombre_estudio_Secundario  nombre_estudio_Terciario/Tecnico  \\\n",
       "0                          1                                 0   \n",
       "\n",
       "   nombre_estudio_Universitario  estado_estudio_Abandonado  \\\n",
       "0                             0                          0   \n",
       "\n",
       "   estado_estudio_EnCurso  estado_estudio_Graduado  sexo_FEM  sexo_MASC  \\\n",
       "0                       0                        1         1          0   \n",
       "\n",
       "   sexo_NO_DECLARA        nombre_area  desc_1  desc_2  desc_3  desc_4  desc_5  \\\n",
       "0                0  AtenciónalCliente     0.0     0.0     0.0     1.0     0.0   \n",
       "\n",
       "   desc_6  desc_7  cant_vistas_aviso  cant_postulaciones_aviso  tipo_full  \\\n",
       "0     0.0     0.0                8.0                    2391.0      False   \n",
       "\n",
       "   tipo_part  tipo_otro  nivel_laboral_Gerencia/AltaGerencia/Dirección  \\\n",
       "0       True      False                                              0   \n",
       "\n",
       "   nivel_laboral_Jefe/Supervisor/Responsable  nivel_laboral_Junior  \\\n",
       "0                                          0                     0   \n",
       "\n",
       "   nivel_laboral_Otro  nivel_laboral_Senior/Semi-Senior  nivel_laboral_nan  \n",
       "0                   1                                 0                  0  "
      ]
     },
     "execution_count": 29,
     "metadata": {},
     "output_type": "execute_result"
    }
   ],
   "source": [
    "niveles_laborales = postulaciones_postulantes_avisos.nivel_laboral.str.get_dummies()\n",
    "niveles_laborales.columns = ['nivel_laboral_' + col for col in niveles_laborales.columns]\n",
    "postulaciones_postulantes_avisos = pd.concat([postulaciones_postulantes_avisos, niveles_laborales], axis=1)\n",
    "postulaciones_postulantes_avisos.drop(columns=['nivel_laboral'], inplace=True)\n",
    "postulaciones_postulantes_avisos.head(1)"
   ]
  },
  {
   "cell_type": "code",
   "execution_count": 30,
   "metadata": {},
   "outputs": [
    {
     "data": {
      "text/html": [
       "<div>\n",
       "<style scoped>\n",
       "    .dataframe tbody tr th:only-of-type {\n",
       "        vertical-align: middle;\n",
       "    }\n",
       "\n",
       "    .dataframe tbody tr th {\n",
       "        vertical-align: top;\n",
       "    }\n",
       "\n",
       "    .dataframe thead th {\n",
       "        text-align: right;\n",
       "    }\n",
       "</style>\n",
       "<table border=\"1\" class=\"dataframe\">\n",
       "  <thead>\n",
       "    <tr style=\"text-align: right;\">\n",
       "      <th></th>\n",
       "      <th>id</th>\n",
       "      <th>idaviso</th>\n",
       "      <th>idpostulante</th>\n",
       "      <th>edad</th>\n",
       "      <th>nombre_estudio_Doctorado</th>\n",
       "      <th>nombre_estudio_Master</th>\n",
       "      <th>nombre_estudio_Otro</th>\n",
       "      <th>nombre_estudio_Posgrado</th>\n",
       "      <th>nombre_estudio_Secundario</th>\n",
       "      <th>nombre_estudio_Terciario/Tecnico</th>\n",
       "      <th>nombre_estudio_Universitario</th>\n",
       "      <th>estado_estudio_Abandonado</th>\n",
       "      <th>estado_estudio_EnCurso</th>\n",
       "      <th>estado_estudio_Graduado</th>\n",
       "      <th>sexo_FEM</th>\n",
       "      <th>sexo_MASC</th>\n",
       "      <th>sexo_NO_DECLARA</th>\n",
       "      <th>nombre_area</th>\n",
       "      <th>desc_1</th>\n",
       "      <th>desc_2</th>\n",
       "      <th>desc_3</th>\n",
       "      <th>desc_4</th>\n",
       "      <th>desc_5</th>\n",
       "      <th>desc_6</th>\n",
       "      <th>desc_7</th>\n",
       "      <th>cant_vistas_aviso</th>\n",
       "      <th>cant_postulaciones_aviso</th>\n",
       "      <th>tipo_full</th>\n",
       "      <th>tipo_part</th>\n",
       "      <th>tipo_otro</th>\n",
       "      <th>nivel_laboral_Gerencia/AltaGerencia/Dirección</th>\n",
       "      <th>nivel_laboral_Jefe/Supervisor/Responsable</th>\n",
       "      <th>nivel_laboral_Junior</th>\n",
       "      <th>nivel_laboral_Otro</th>\n",
       "      <th>nivel_laboral_Senior/Semi-Senior</th>\n",
       "    </tr>\n",
       "  </thead>\n",
       "  <tbody>\n",
       "    <tr>\n",
       "      <th>0</th>\n",
       "      <td>0</td>\n",
       "      <td>739260</td>\n",
       "      <td>6M9ZQR</td>\n",
       "      <td>42</td>\n",
       "      <td>1</td>\n",
       "      <td>0</td>\n",
       "      <td>0</td>\n",
       "      <td>0</td>\n",
       "      <td>0</td>\n",
       "      <td>0</td>\n",
       "      <td>0</td>\n",
       "      <td>0</td>\n",
       "      <td>0</td>\n",
       "      <td>1</td>\n",
       "      <td>1</td>\n",
       "      <td>0</td>\n",
       "      <td>0</td>\n",
       "      <td>Comercial</td>\n",
       "      <td>0</td>\n",
       "      <td>0</td>\n",
       "      <td>0</td>\n",
       "      <td>0</td>\n",
       "      <td>1</td>\n",
       "      <td>0</td>\n",
       "      <td>0</td>\n",
       "      <td>2</td>\n",
       "      <td>0</td>\n",
       "      <td>True</td>\n",
       "      <td>False</td>\n",
       "      <td>False</td>\n",
       "      <td>0</td>\n",
       "      <td>1</td>\n",
       "      <td>0</td>\n",
       "      <td>0</td>\n",
       "      <td>0</td>\n",
       "    </tr>\n",
       "  </tbody>\n",
       "</table>\n",
       "</div>"
      ],
      "text/plain": [
       "   id  idaviso idpostulante  edad  nombre_estudio_Doctorado  \\\n",
       "0   0   739260       6M9ZQR    42                         1   \n",
       "\n",
       "   nombre_estudio_Master  nombre_estudio_Otro  nombre_estudio_Posgrado  \\\n",
       "0                      0                    0                        0   \n",
       "\n",
       "   nombre_estudio_Secundario  nombre_estudio_Terciario/Tecnico  \\\n",
       "0                          0                                 0   \n",
       "\n",
       "   nombre_estudio_Universitario  estado_estudio_Abandonado  \\\n",
       "0                             0                          0   \n",
       "\n",
       "   estado_estudio_EnCurso  estado_estudio_Graduado  sexo_FEM  sexo_MASC  \\\n",
       "0                       0                        1         1          0   \n",
       "\n",
       "   sexo_NO_DECLARA nombre_area  desc_1  desc_2  desc_3  desc_4  desc_5  \\\n",
       "0                0   Comercial       0       0       0       0       1   \n",
       "\n",
       "   desc_6  desc_7  cant_vistas_aviso  cant_postulaciones_aviso  tipo_full  \\\n",
       "0       0       0                  2                         0       True   \n",
       "\n",
       "   tipo_part  tipo_otro  nivel_laboral_Gerencia/AltaGerencia/Dirección  \\\n",
       "0      False      False                                              0   \n",
       "\n",
       "   nivel_laboral_Jefe/Supervisor/Responsable  nivel_laboral_Junior  \\\n",
       "0                                          1                     0   \n",
       "\n",
       "   nivel_laboral_Otro  nivel_laboral_Senior/Semi-Senior  \n",
       "0                   0                                 0  "
      ]
     },
     "execution_count": 30,
     "metadata": {},
     "output_type": "execute_result"
    }
   ],
   "source": [
    "niveles_laborales = postulaciones_postulantes_avisos_test.nivel_laboral.str.get_dummies()\n",
    "niveles_laborales.columns = ['nivel_laboral_' + col for col in niveles_laborales.columns]\n",
    "postulaciones_postulantes_avisos_test = pd.concat([postulaciones_postulantes_avisos_test, niveles_laborales], axis=1)\n",
    "postulaciones_postulantes_avisos_test.drop(columns=['nivel_laboral'], inplace=True)\n",
    "postulaciones_postulantes_avisos_test.head(1)"
   ]
  },
  {
   "cell_type": "code",
   "execution_count": 31,
   "metadata": {},
   "outputs": [
    {
     "data": {
      "text/html": [
       "<div>\n",
       "<style scoped>\n",
       "    .dataframe tbody tr th:only-of-type {\n",
       "        vertical-align: middle;\n",
       "    }\n",
       "\n",
       "    .dataframe tbody tr th {\n",
       "        vertical-align: top;\n",
       "    }\n",
       "\n",
       "    .dataframe thead th {\n",
       "        text-align: right;\n",
       "    }\n",
       "</style>\n",
       "<table border=\"1\" class=\"dataframe\">\n",
       "  <thead>\n",
       "    <tr style=\"text-align: right;\">\n",
       "      <th></th>\n",
       "      <th>idpostulante</th>\n",
       "      <th>edad</th>\n",
       "      <th>idaviso</th>\n",
       "      <th>nombre_area</th>\n",
       "      <th>desc_1</th>\n",
       "      <th>desc_2</th>\n",
       "      <th>desc_3</th>\n",
       "      <th>desc_4</th>\n",
       "      <th>desc_5</th>\n",
       "      <th>desc_6</th>\n",
       "      <th>desc_7</th>\n",
       "      <th>cant_vistas_aviso</th>\n",
       "      <th>cant_postulaciones_aviso</th>\n",
       "      <th>nombre_estudio_Doctorado</th>\n",
       "      <th>nombre_estudio_Master</th>\n",
       "      <th>nombre_estudio_Otro</th>\n",
       "      <th>nombre_estudio_Posgrado</th>\n",
       "      <th>nombre_estudio_Secundario</th>\n",
       "      <th>nombre_estudio_Terciario/Tecnico</th>\n",
       "      <th>nombre_estudio_Universitario</th>\n",
       "      <th>estado_estudio_Abandonado</th>\n",
       "      <th>estado_estudio_EnCurso</th>\n",
       "      <th>estado_estudio_Graduado</th>\n",
       "      <th>sexo_FEM</th>\n",
       "      <th>sexo_MASC</th>\n",
       "      <th>sexo_NO_DECLARA</th>\n",
       "      <th>tipo_full</th>\n",
       "      <th>tipo_part</th>\n",
       "      <th>tipo_otro</th>\n",
       "      <th>nivel_laboral_Gerencia/AltaGerencia/Dirección</th>\n",
       "      <th>nivel_laboral_Jefe/Supervisor/Responsable</th>\n",
       "      <th>nivel_laboral_Junior</th>\n",
       "      <th>nivel_laboral_Otro</th>\n",
       "      <th>nivel_laboral_Senior/Semi-Senior</th>\n",
       "    </tr>\n",
       "  </thead>\n",
       "  <tbody>\n",
       "    <tr>\n",
       "      <th>0</th>\n",
       "      <td>VNrqJwE</td>\n",
       "      <td>31</td>\n",
       "      <td>1112502059</td>\n",
       "      <td>Producción</td>\n",
       "      <td>0</td>\n",
       "      <td>0</td>\n",
       "      <td>0</td>\n",
       "      <td>0</td>\n",
       "      <td>0</td>\n",
       "      <td>0</td>\n",
       "      <td>1</td>\n",
       "      <td>0</td>\n",
       "      <td>0</td>\n",
       "      <td>0</td>\n",
       "      <td>0</td>\n",
       "      <td>0</td>\n",
       "      <td>0</td>\n",
       "      <td>0</td>\n",
       "      <td>0</td>\n",
       "      <td>1</td>\n",
       "      <td>0</td>\n",
       "      <td>1</td>\n",
       "      <td>0</td>\n",
       "      <td>0</td>\n",
       "      <td>1</td>\n",
       "      <td>0</td>\n",
       "      <td>True</td>\n",
       "      <td>False</td>\n",
       "      <td>False</td>\n",
       "      <td>0</td>\n",
       "      <td>0</td>\n",
       "      <td>0</td>\n",
       "      <td>0</td>\n",
       "      <td>1</td>\n",
       "    </tr>\n",
       "  </tbody>\n",
       "</table>\n",
       "</div>"
      ],
      "text/plain": [
       "  idpostulante  edad     idaviso nombre_area  desc_1  desc_2  desc_3  desc_4  \\\n",
       "0      VNrqJwE    31  1112502059  Producción       0       0       0       0   \n",
       "\n",
       "   desc_5  desc_6  desc_7  cant_vistas_aviso  cant_postulaciones_aviso  \\\n",
       "0       0       0       1                  0                         0   \n",
       "\n",
       "   nombre_estudio_Doctorado  nombre_estudio_Master  nombre_estudio_Otro  \\\n",
       "0                         0                      0                    0   \n",
       "\n",
       "   nombre_estudio_Posgrado  nombre_estudio_Secundario  \\\n",
       "0                        0                          0   \n",
       "\n",
       "   nombre_estudio_Terciario/Tecnico  nombre_estudio_Universitario  \\\n",
       "0                                 0                             1   \n",
       "\n",
       "   estado_estudio_Abandonado  estado_estudio_EnCurso  estado_estudio_Graduado  \\\n",
       "0                          0                       1                        0   \n",
       "\n",
       "   sexo_FEM  sexo_MASC  sexo_NO_DECLARA  tipo_full  tipo_part  tipo_otro  \\\n",
       "0         0          1                0       True      False      False   \n",
       "\n",
       "   nivel_laboral_Gerencia/AltaGerencia/Dirección  \\\n",
       "0                                              0   \n",
       "\n",
       "   nivel_laboral_Jefe/Supervisor/Responsable  nivel_laboral_Junior  \\\n",
       "0                                          0                     0   \n",
       "\n",
       "   nivel_laboral_Otro  nivel_laboral_Senior/Semi-Senior  \n",
       "0                   0                                 1  "
      ]
     },
     "execution_count": 31,
     "metadata": {},
     "output_type": "execute_result"
    }
   ],
   "source": [
    "niveles_laborales = no_postulados.nivel_laboral.str.get_dummies()\n",
    "niveles_laborales.columns = ['nivel_laboral_' + col for col in niveles_laborales.columns]\n",
    "no_postulados = pd.concat([no_postulados, niveles_laborales], axis=1)\n",
    "no_postulados.drop(columns=['nivel_laboral'], inplace=True)\n",
    "no_postulados.head(1)"
   ]
  },
  {
   "cell_type": "markdown",
   "metadata": {},
   "source": [
    "## One hot encoding de las areas principales"
   ]
  },
  {
   "cell_type": "code",
   "execution_count": 32,
   "metadata": {},
   "outputs": [
    {
     "data": {
      "text/plain": [
       "Ventas                                    860477\n",
       "Administración                            582135\n",
       "Producción                                507308\n",
       "Comercial                                 434737\n",
       "AtenciónalCliente                         395388\n",
       "Recepcionista                             304565\n",
       "CallCenter                                252928\n",
       "Tesorería                                 155923\n",
       "Telemarketing                             155494\n",
       "MantenimientoyLimpieza                    117549\n",
       "Almacén/Depósito/Expedición               115591\n",
       "Contabilidad                              114176\n",
       "RecursosHumanos                            90967\n",
       "Gastronomia                                87830\n",
       "Logística                                  85874\n",
       "Secretaria                                 81428\n",
       "AdministracióndePersonal                   69196\n",
       "CréditosyCobranzas                         68032\n",
       "Marketing                                  63181\n",
       "Legal                                      58322\n",
       "Compras                                    51894\n",
       "SoporteTécnico                             51451\n",
       "Mantenimiento                              50234\n",
       "Camareros                                  49614\n",
       "Farmacéutica                               48779\n",
       "Finanzas                                   48266\n",
       "Seguridad                                  45140\n",
       "OficiosyProfesiones                        41284\n",
       "JóvenesProfesionales                       38102\n",
       "Otros                                      37640\n",
       "                                           ...  \n",
       "MercadotecniaInternacional                   279\n",
       "Instrumentación                              275\n",
       "Periodismo                                   272\n",
       "AuditoríaMédica                              263\n",
       "Diseño3D                                     252\n",
       "ArteyCultura                                 240\n",
       "ExploraciónMinerayPetroquimica               233\n",
       "Trabajosocial                                216\n",
       "ResponsabilidadSocial                        199\n",
       "Idiomas                                      176\n",
       "InstrumentaciónMinera                        172\n",
       "Instrumentaciónquirúrgica                    141\n",
       "IngenieríaGeológica                          129\n",
       "TrabajoSocial                                113\n",
       "Educaciónespecial                             97\n",
       "Emergentología                                97\n",
       "CuidadosIntensivosCardiologicosAdultos        70\n",
       "Topografía                                    57\n",
       "Diagnósticoporimágenes                        44\n",
       "Kinesiología/terapiaocupacional               35\n",
       "ClínicaMédica                                 30\n",
       "Farmaciahospitalaria                          18\n",
       "Esterilización                                14\n",
       "Urbanismo                                     13\n",
       "Prácticascardiológicas                        12\n",
       "Psicología                                     9\n",
       "Maternidad                                     9\n",
       "Odontología                                    3\n",
       "Traduccion                                     2\n",
       "Fonoaudiología                                 1\n",
       "Name: nombre_area, Length: 186, dtype: int64"
      ]
     },
     "execution_count": 32,
     "metadata": {},
     "output_type": "execute_result"
    }
   ],
   "source": [
    "postulaciones_postulantes_avisos['nombre_area'].value_counts()"
   ]
  },
  {
   "cell_type": "code",
   "execution_count": 33,
   "metadata": {},
   "outputs": [
    {
     "data": {
      "text/html": [
       "<div>\n",
       "<style scoped>\n",
       "    .dataframe tbody tr th:only-of-type {\n",
       "        vertical-align: middle;\n",
       "    }\n",
       "\n",
       "    .dataframe tbody tr th {\n",
       "        vertical-align: top;\n",
       "    }\n",
       "\n",
       "    .dataframe thead th {\n",
       "        text-align: right;\n",
       "    }\n",
       "</style>\n",
       "<table border=\"1\" class=\"dataframe\">\n",
       "  <thead>\n",
       "    <tr style=\"text-align: right;\">\n",
       "      <th></th>\n",
       "      <th>idaviso</th>\n",
       "      <th>idpostulante</th>\n",
       "      <th>edad</th>\n",
       "      <th>nombre_estudio_Doctorado</th>\n",
       "      <th>nombre_estudio_Master</th>\n",
       "      <th>nombre_estudio_Otro</th>\n",
       "      <th>nombre_estudio_Posgrado</th>\n",
       "      <th>nombre_estudio_Secundario</th>\n",
       "      <th>nombre_estudio_Terciario/Tecnico</th>\n",
       "      <th>nombre_estudio_Universitario</th>\n",
       "      <th>estado_estudio_Abandonado</th>\n",
       "      <th>estado_estudio_EnCurso</th>\n",
       "      <th>estado_estudio_Graduado</th>\n",
       "      <th>sexo_FEM</th>\n",
       "      <th>sexo_MASC</th>\n",
       "      <th>sexo_NO_DECLARA</th>\n",
       "      <th>nombre_area</th>\n",
       "      <th>desc_1</th>\n",
       "      <th>desc_2</th>\n",
       "      <th>desc_3</th>\n",
       "      <th>desc_4</th>\n",
       "      <th>desc_5</th>\n",
       "      <th>desc_6</th>\n",
       "      <th>desc_7</th>\n",
       "      <th>cant_vistas_aviso</th>\n",
       "      <th>cant_postulaciones_aviso</th>\n",
       "      <th>tipo_full</th>\n",
       "      <th>tipo_part</th>\n",
       "      <th>tipo_otro</th>\n",
       "      <th>nivel_laboral_Gerencia/AltaGerencia/Dirección</th>\n",
       "      <th>nivel_laboral_Jefe/Supervisor/Responsable</th>\n",
       "      <th>nivel_laboral_Junior</th>\n",
       "      <th>nivel_laboral_Otro</th>\n",
       "      <th>nivel_laboral_Senior/Semi-Senior</th>\n",
       "      <th>nivel_laboral_nan</th>\n",
       "      <th>Ventas</th>\n",
       "      <th>Administración</th>\n",
       "      <th>Producción</th>\n",
       "      <th>Comercial</th>\n",
       "      <th>AtenciónalCliente</th>\n",
       "      <th>Recepcionista</th>\n",
       "      <th>CallCenter</th>\n",
       "      <th>Tesorería</th>\n",
       "      <th>Telemarketing</th>\n",
       "      <th>MantenimientoyLimpieza</th>\n",
       "      <th>Almacén/Depósito/Expedición</th>\n",
       "      <th>Contabilidad</th>\n",
       "      <th>RecursosHumanos</th>\n",
       "      <th>Gastronomia</th>\n",
       "      <th>Logística</th>\n",
       "      <th>Secretaria</th>\n",
       "      <th>AdministracióndePersonal</th>\n",
       "      <th>CréditosyCobranzas</th>\n",
       "      <th>Marketing</th>\n",
       "      <th>Legal</th>\n",
       "    </tr>\n",
       "  </thead>\n",
       "  <tbody>\n",
       "    <tr>\n",
       "      <th>0</th>\n",
       "      <td>1112257047</td>\n",
       "      <td>NM5M</td>\n",
       "      <td>48</td>\n",
       "      <td>0</td>\n",
       "      <td>0</td>\n",
       "      <td>0</td>\n",
       "      <td>0</td>\n",
       "      <td>1</td>\n",
       "      <td>0</td>\n",
       "      <td>0</td>\n",
       "      <td>0</td>\n",
       "      <td>0</td>\n",
       "      <td>1</td>\n",
       "      <td>1</td>\n",
       "      <td>0</td>\n",
       "      <td>0</td>\n",
       "      <td>AtenciónalCliente</td>\n",
       "      <td>0.0</td>\n",
       "      <td>0.0</td>\n",
       "      <td>0.0</td>\n",
       "      <td>1.0</td>\n",
       "      <td>0.0</td>\n",
       "      <td>0.0</td>\n",
       "      <td>0.0</td>\n",
       "      <td>8.0</td>\n",
       "      <td>2391.0</td>\n",
       "      <td>False</td>\n",
       "      <td>True</td>\n",
       "      <td>False</td>\n",
       "      <td>0</td>\n",
       "      <td>0</td>\n",
       "      <td>0</td>\n",
       "      <td>1</td>\n",
       "      <td>0</td>\n",
       "      <td>0</td>\n",
       "      <td>False</td>\n",
       "      <td>False</td>\n",
       "      <td>False</td>\n",
       "      <td>False</td>\n",
       "      <td>True</td>\n",
       "      <td>False</td>\n",
       "      <td>False</td>\n",
       "      <td>False</td>\n",
       "      <td>False</td>\n",
       "      <td>False</td>\n",
       "      <td>False</td>\n",
       "      <td>False</td>\n",
       "      <td>False</td>\n",
       "      <td>False</td>\n",
       "      <td>False</td>\n",
       "      <td>False</td>\n",
       "      <td>False</td>\n",
       "      <td>False</td>\n",
       "      <td>False</td>\n",
       "      <td>False</td>\n",
       "    </tr>\n",
       "    <tr>\n",
       "      <th>1</th>\n",
       "      <td>1111920714</td>\n",
       "      <td>NM5M</td>\n",
       "      <td>48</td>\n",
       "      <td>0</td>\n",
       "      <td>0</td>\n",
       "      <td>0</td>\n",
       "      <td>0</td>\n",
       "      <td>1</td>\n",
       "      <td>0</td>\n",
       "      <td>0</td>\n",
       "      <td>0</td>\n",
       "      <td>0</td>\n",
       "      <td>1</td>\n",
       "      <td>1</td>\n",
       "      <td>0</td>\n",
       "      <td>0</td>\n",
       "      <td>Telemarketing</td>\n",
       "      <td>0.0</td>\n",
       "      <td>0.0</td>\n",
       "      <td>0.0</td>\n",
       "      <td>1.0</td>\n",
       "      <td>0.0</td>\n",
       "      <td>0.0</td>\n",
       "      <td>0.0</td>\n",
       "      <td>3.0</td>\n",
       "      <td>524.0</td>\n",
       "      <td>False</td>\n",
       "      <td>True</td>\n",
       "      <td>False</td>\n",
       "      <td>0</td>\n",
       "      <td>0</td>\n",
       "      <td>0</td>\n",
       "      <td>0</td>\n",
       "      <td>1</td>\n",
       "      <td>0</td>\n",
       "      <td>False</td>\n",
       "      <td>False</td>\n",
       "      <td>False</td>\n",
       "      <td>False</td>\n",
       "      <td>False</td>\n",
       "      <td>False</td>\n",
       "      <td>False</td>\n",
       "      <td>False</td>\n",
       "      <td>True</td>\n",
       "      <td>False</td>\n",
       "      <td>False</td>\n",
       "      <td>False</td>\n",
       "      <td>False</td>\n",
       "      <td>False</td>\n",
       "      <td>False</td>\n",
       "      <td>False</td>\n",
       "      <td>False</td>\n",
       "      <td>False</td>\n",
       "      <td>False</td>\n",
       "      <td>False</td>\n",
       "    </tr>\n",
       "  </tbody>\n",
       "</table>\n",
       "</div>"
      ],
      "text/plain": [
       "      idaviso idpostulante  edad  nombre_estudio_Doctorado  \\\n",
       "0  1112257047         NM5M    48                         0   \n",
       "1  1111920714         NM5M    48                         0   \n",
       "\n",
       "   nombre_estudio_Master  nombre_estudio_Otro  nombre_estudio_Posgrado  \\\n",
       "0                      0                    0                        0   \n",
       "1                      0                    0                        0   \n",
       "\n",
       "   nombre_estudio_Secundario  nombre_estudio_Terciario/Tecnico  \\\n",
       "0                          1                                 0   \n",
       "1                          1                                 0   \n",
       "\n",
       "   nombre_estudio_Universitario  estado_estudio_Abandonado  \\\n",
       "0                             0                          0   \n",
       "1                             0                          0   \n",
       "\n",
       "   estado_estudio_EnCurso  estado_estudio_Graduado  sexo_FEM  sexo_MASC  \\\n",
       "0                       0                        1         1          0   \n",
       "1                       0                        1         1          0   \n",
       "\n",
       "   sexo_NO_DECLARA        nombre_area  desc_1  desc_2  desc_3  desc_4  desc_5  \\\n",
       "0                0  AtenciónalCliente     0.0     0.0     0.0     1.0     0.0   \n",
       "1                0      Telemarketing     0.0     0.0     0.0     1.0     0.0   \n",
       "\n",
       "   desc_6  desc_7  cant_vistas_aviso  cant_postulaciones_aviso  tipo_full  \\\n",
       "0     0.0     0.0                8.0                    2391.0      False   \n",
       "1     0.0     0.0                3.0                     524.0      False   \n",
       "\n",
       "   tipo_part  tipo_otro  nivel_laboral_Gerencia/AltaGerencia/Dirección  \\\n",
       "0       True      False                                              0   \n",
       "1       True      False                                              0   \n",
       "\n",
       "   nivel_laboral_Jefe/Supervisor/Responsable  nivel_laboral_Junior  \\\n",
       "0                                          0                     0   \n",
       "1                                          0                     0   \n",
       "\n",
       "   nivel_laboral_Otro  nivel_laboral_Senior/Semi-Senior  nivel_laboral_nan  \\\n",
       "0                   1                                 0                  0   \n",
       "1                   0                                 1                  0   \n",
       "\n",
       "   Ventas  Administración  Producción  Comercial  AtenciónalCliente  \\\n",
       "0   False           False       False      False               True   \n",
       "1   False           False       False      False              False   \n",
       "\n",
       "   Recepcionista  CallCenter  Tesorería  Telemarketing  \\\n",
       "0          False       False      False          False   \n",
       "1          False       False      False           True   \n",
       "\n",
       "   MantenimientoyLimpieza  Almacén/Depósito/Expedición  Contabilidad  \\\n",
       "0                   False                        False         False   \n",
       "1                   False                        False         False   \n",
       "\n",
       "   RecursosHumanos  Gastronomia  Logística  Secretaria  \\\n",
       "0            False        False      False       False   \n",
       "1            False        False      False       False   \n",
       "\n",
       "   AdministracióndePersonal  CréditosyCobranzas  Marketing  Legal  \n",
       "0                     False               False      False  False  \n",
       "1                     False               False      False  False  "
      ]
     },
     "execution_count": 33,
     "metadata": {},
     "output_type": "execute_result"
    }
   ],
   "source": [
    "# Tomamos top 20 de las areas \n",
    "areas_top_20 = postulaciones_postulantes_avisos['nombre_area'].value_counts().nlargest(20).index\n",
    "for area in areas_top_20:\n",
    "    postulaciones_postulantes_avisos[area] = (postulaciones_postulantes_avisos['nombre_area'] == area).astype(bool)\n",
    "\n",
    "postulaciones_postulantes_avisos.head(2)"
   ]
  },
  {
   "cell_type": "code",
   "execution_count": 34,
   "metadata": {},
   "outputs": [
    {
     "data": {
      "text/html": [
       "<div>\n",
       "<style scoped>\n",
       "    .dataframe tbody tr th:only-of-type {\n",
       "        vertical-align: middle;\n",
       "    }\n",
       "\n",
       "    .dataframe tbody tr th {\n",
       "        vertical-align: top;\n",
       "    }\n",
       "\n",
       "    .dataframe thead th {\n",
       "        text-align: right;\n",
       "    }\n",
       "</style>\n",
       "<table border=\"1\" class=\"dataframe\">\n",
       "  <thead>\n",
       "    <tr style=\"text-align: right;\">\n",
       "      <th></th>\n",
       "      <th>id</th>\n",
       "      <th>idaviso</th>\n",
       "      <th>idpostulante</th>\n",
       "      <th>edad</th>\n",
       "      <th>nombre_estudio_Doctorado</th>\n",
       "      <th>nombre_estudio_Master</th>\n",
       "      <th>nombre_estudio_Otro</th>\n",
       "      <th>nombre_estudio_Posgrado</th>\n",
       "      <th>nombre_estudio_Secundario</th>\n",
       "      <th>nombre_estudio_Terciario/Tecnico</th>\n",
       "      <th>nombre_estudio_Universitario</th>\n",
       "      <th>estado_estudio_Abandonado</th>\n",
       "      <th>estado_estudio_EnCurso</th>\n",
       "      <th>estado_estudio_Graduado</th>\n",
       "      <th>sexo_FEM</th>\n",
       "      <th>sexo_MASC</th>\n",
       "      <th>sexo_NO_DECLARA</th>\n",
       "      <th>nombre_area</th>\n",
       "      <th>desc_1</th>\n",
       "      <th>desc_2</th>\n",
       "      <th>desc_3</th>\n",
       "      <th>desc_4</th>\n",
       "      <th>desc_5</th>\n",
       "      <th>desc_6</th>\n",
       "      <th>desc_7</th>\n",
       "      <th>cant_vistas_aviso</th>\n",
       "      <th>cant_postulaciones_aviso</th>\n",
       "      <th>tipo_full</th>\n",
       "      <th>tipo_part</th>\n",
       "      <th>tipo_otro</th>\n",
       "      <th>nivel_laboral_Gerencia/AltaGerencia/Dirección</th>\n",
       "      <th>nivel_laboral_Jefe/Supervisor/Responsable</th>\n",
       "      <th>nivel_laboral_Junior</th>\n",
       "      <th>nivel_laboral_Otro</th>\n",
       "      <th>nivel_laboral_Senior/Semi-Senior</th>\n",
       "      <th>Ventas</th>\n",
       "      <th>Administración</th>\n",
       "      <th>Producción</th>\n",
       "      <th>Comercial</th>\n",
       "      <th>AtenciónalCliente</th>\n",
       "      <th>Recepcionista</th>\n",
       "      <th>CallCenter</th>\n",
       "      <th>Tesorería</th>\n",
       "      <th>Telemarketing</th>\n",
       "      <th>MantenimientoyLimpieza</th>\n",
       "      <th>Almacén/Depósito/Expedición</th>\n",
       "      <th>Contabilidad</th>\n",
       "      <th>RecursosHumanos</th>\n",
       "      <th>Gastronomia</th>\n",
       "      <th>Logística</th>\n",
       "      <th>Secretaria</th>\n",
       "      <th>AdministracióndePersonal</th>\n",
       "      <th>CréditosyCobranzas</th>\n",
       "      <th>Marketing</th>\n",
       "      <th>Legal</th>\n",
       "    </tr>\n",
       "  </thead>\n",
       "  <tbody>\n",
       "    <tr>\n",
       "      <th>0</th>\n",
       "      <td>0</td>\n",
       "      <td>739260</td>\n",
       "      <td>6M9ZQR</td>\n",
       "      <td>42</td>\n",
       "      <td>1</td>\n",
       "      <td>0</td>\n",
       "      <td>0</td>\n",
       "      <td>0</td>\n",
       "      <td>0</td>\n",
       "      <td>0</td>\n",
       "      <td>0</td>\n",
       "      <td>0</td>\n",
       "      <td>0</td>\n",
       "      <td>1</td>\n",
       "      <td>1</td>\n",
       "      <td>0</td>\n",
       "      <td>0</td>\n",
       "      <td>Comercial</td>\n",
       "      <td>0</td>\n",
       "      <td>0</td>\n",
       "      <td>0</td>\n",
       "      <td>0</td>\n",
       "      <td>1</td>\n",
       "      <td>0</td>\n",
       "      <td>0</td>\n",
       "      <td>2</td>\n",
       "      <td>0</td>\n",
       "      <td>True</td>\n",
       "      <td>False</td>\n",
       "      <td>False</td>\n",
       "      <td>0</td>\n",
       "      <td>1</td>\n",
       "      <td>0</td>\n",
       "      <td>0</td>\n",
       "      <td>0</td>\n",
       "      <td>False</td>\n",
       "      <td>False</td>\n",
       "      <td>False</td>\n",
       "      <td>True</td>\n",
       "      <td>False</td>\n",
       "      <td>False</td>\n",
       "      <td>False</td>\n",
       "      <td>False</td>\n",
       "      <td>False</td>\n",
       "      <td>False</td>\n",
       "      <td>False</td>\n",
       "      <td>False</td>\n",
       "      <td>False</td>\n",
       "      <td>False</td>\n",
       "      <td>False</td>\n",
       "      <td>False</td>\n",
       "      <td>False</td>\n",
       "      <td>False</td>\n",
       "      <td>False</td>\n",
       "      <td>False</td>\n",
       "    </tr>\n",
       "    <tr>\n",
       "      <th>1</th>\n",
       "      <td>1</td>\n",
       "      <td>739260</td>\n",
       "      <td>6v1xdL</td>\n",
       "      <td>31</td>\n",
       "      <td>0</td>\n",
       "      <td>0</td>\n",
       "      <td>0</td>\n",
       "      <td>0</td>\n",
       "      <td>0</td>\n",
       "      <td>1</td>\n",
       "      <td>0</td>\n",
       "      <td>0</td>\n",
       "      <td>0</td>\n",
       "      <td>1</td>\n",
       "      <td>0</td>\n",
       "      <td>1</td>\n",
       "      <td>0</td>\n",
       "      <td>Comercial</td>\n",
       "      <td>0</td>\n",
       "      <td>0</td>\n",
       "      <td>0</td>\n",
       "      <td>0</td>\n",
       "      <td>1</td>\n",
       "      <td>0</td>\n",
       "      <td>0</td>\n",
       "      <td>2</td>\n",
       "      <td>0</td>\n",
       "      <td>True</td>\n",
       "      <td>False</td>\n",
       "      <td>False</td>\n",
       "      <td>0</td>\n",
       "      <td>1</td>\n",
       "      <td>0</td>\n",
       "      <td>0</td>\n",
       "      <td>0</td>\n",
       "      <td>False</td>\n",
       "      <td>False</td>\n",
       "      <td>False</td>\n",
       "      <td>True</td>\n",
       "      <td>False</td>\n",
       "      <td>False</td>\n",
       "      <td>False</td>\n",
       "      <td>False</td>\n",
       "      <td>False</td>\n",
       "      <td>False</td>\n",
       "      <td>False</td>\n",
       "      <td>False</td>\n",
       "      <td>False</td>\n",
       "      <td>False</td>\n",
       "      <td>False</td>\n",
       "      <td>False</td>\n",
       "      <td>False</td>\n",
       "      <td>False</td>\n",
       "      <td>False</td>\n",
       "      <td>False</td>\n",
       "    </tr>\n",
       "  </tbody>\n",
       "</table>\n",
       "</div>"
      ],
      "text/plain": [
       "   id  idaviso idpostulante  edad  nombre_estudio_Doctorado  \\\n",
       "0   0   739260       6M9ZQR    42                         1   \n",
       "1   1   739260       6v1xdL    31                         0   \n",
       "\n",
       "   nombre_estudio_Master  nombre_estudio_Otro  nombre_estudio_Posgrado  \\\n",
       "0                      0                    0                        0   \n",
       "1                      0                    0                        0   \n",
       "\n",
       "   nombre_estudio_Secundario  nombre_estudio_Terciario/Tecnico  \\\n",
       "0                          0                                 0   \n",
       "1                          0                                 1   \n",
       "\n",
       "   nombre_estudio_Universitario  estado_estudio_Abandonado  \\\n",
       "0                             0                          0   \n",
       "1                             0                          0   \n",
       "\n",
       "   estado_estudio_EnCurso  estado_estudio_Graduado  sexo_FEM  sexo_MASC  \\\n",
       "0                       0                        1         1          0   \n",
       "1                       0                        1         0          1   \n",
       "\n",
       "   sexo_NO_DECLARA nombre_area  desc_1  desc_2  desc_3  desc_4  desc_5  \\\n",
       "0                0   Comercial       0       0       0       0       1   \n",
       "1                0   Comercial       0       0       0       0       1   \n",
       "\n",
       "   desc_6  desc_7  cant_vistas_aviso  cant_postulaciones_aviso  tipo_full  \\\n",
       "0       0       0                  2                         0       True   \n",
       "1       0       0                  2                         0       True   \n",
       "\n",
       "   tipo_part  tipo_otro  nivel_laboral_Gerencia/AltaGerencia/Dirección  \\\n",
       "0      False      False                                              0   \n",
       "1      False      False                                              0   \n",
       "\n",
       "   nivel_laboral_Jefe/Supervisor/Responsable  nivel_laboral_Junior  \\\n",
       "0                                          1                     0   \n",
       "1                                          1                     0   \n",
       "\n",
       "   nivel_laboral_Otro  nivel_laboral_Senior/Semi-Senior  Ventas  \\\n",
       "0                   0                                 0   False   \n",
       "1                   0                                 0   False   \n",
       "\n",
       "   Administración  Producción  Comercial  AtenciónalCliente  Recepcionista  \\\n",
       "0           False       False       True              False          False   \n",
       "1           False       False       True              False          False   \n",
       "\n",
       "   CallCenter  Tesorería  Telemarketing  MantenimientoyLimpieza  \\\n",
       "0       False      False          False                   False   \n",
       "1       False      False          False                   False   \n",
       "\n",
       "   Almacén/Depósito/Expedición  Contabilidad  RecursosHumanos  Gastronomia  \\\n",
       "0                        False         False            False        False   \n",
       "1                        False         False            False        False   \n",
       "\n",
       "   Logística  Secretaria  AdministracióndePersonal  CréditosyCobranzas  \\\n",
       "0      False       False                     False               False   \n",
       "1      False       False                     False               False   \n",
       "\n",
       "   Marketing  Legal  \n",
       "0      False  False  \n",
       "1      False  False  "
      ]
     },
     "execution_count": 34,
     "metadata": {},
     "output_type": "execute_result"
    }
   ],
   "source": [
    "# Tomamos top 20 de las areas \n",
    "areas_top_20 = postulaciones_postulantes_avisos['nombre_area'].value_counts().nlargest(20).index\n",
    "for area in areas_top_20:\n",
    "    postulaciones_postulantes_avisos_test[area] = (postulaciones_postulantes_avisos_test['nombre_area'] == area).astype(bool)\n",
    "\n",
    "postulaciones_postulantes_avisos_test.head(2)"
   ]
  },
  {
   "cell_type": "code",
   "execution_count": 35,
   "metadata": {},
   "outputs": [
    {
     "data": {
      "text/html": [
       "<div>\n",
       "<style scoped>\n",
       "    .dataframe tbody tr th:only-of-type {\n",
       "        vertical-align: middle;\n",
       "    }\n",
       "\n",
       "    .dataframe tbody tr th {\n",
       "        vertical-align: top;\n",
       "    }\n",
       "\n",
       "    .dataframe thead th {\n",
       "        text-align: right;\n",
       "    }\n",
       "</style>\n",
       "<table border=\"1\" class=\"dataframe\">\n",
       "  <thead>\n",
       "    <tr style=\"text-align: right;\">\n",
       "      <th></th>\n",
       "      <th>id</th>\n",
       "      <th>idaviso</th>\n",
       "      <th>idpostulante</th>\n",
       "      <th>edad</th>\n",
       "      <th>nombre_estudio_Doctorado</th>\n",
       "      <th>nombre_estudio_Master</th>\n",
       "      <th>nombre_estudio_Otro</th>\n",
       "      <th>nombre_estudio_Posgrado</th>\n",
       "      <th>nombre_estudio_Secundario</th>\n",
       "      <th>nombre_estudio_Terciario/Tecnico</th>\n",
       "      <th>nombre_estudio_Universitario</th>\n",
       "      <th>estado_estudio_Abandonado</th>\n",
       "      <th>estado_estudio_EnCurso</th>\n",
       "      <th>estado_estudio_Graduado</th>\n",
       "      <th>sexo_FEM</th>\n",
       "      <th>sexo_MASC</th>\n",
       "      <th>sexo_NO_DECLARA</th>\n",
       "      <th>nombre_area</th>\n",
       "      <th>desc_1</th>\n",
       "      <th>desc_2</th>\n",
       "      <th>desc_3</th>\n",
       "      <th>desc_4</th>\n",
       "      <th>desc_5</th>\n",
       "      <th>desc_6</th>\n",
       "      <th>desc_7</th>\n",
       "      <th>cant_vistas_aviso</th>\n",
       "      <th>cant_postulaciones_aviso</th>\n",
       "      <th>tipo_full</th>\n",
       "      <th>tipo_part</th>\n",
       "      <th>tipo_otro</th>\n",
       "      <th>nivel_laboral_Gerencia/AltaGerencia/Dirección</th>\n",
       "      <th>nivel_laboral_Jefe/Supervisor/Responsable</th>\n",
       "      <th>nivel_laboral_Junior</th>\n",
       "      <th>nivel_laboral_Otro</th>\n",
       "      <th>nivel_laboral_Senior/Semi-Senior</th>\n",
       "      <th>Ventas</th>\n",
       "      <th>Administración</th>\n",
       "      <th>Producción</th>\n",
       "      <th>Comercial</th>\n",
       "      <th>AtenciónalCliente</th>\n",
       "      <th>Recepcionista</th>\n",
       "      <th>CallCenter</th>\n",
       "      <th>Tesorería</th>\n",
       "      <th>Telemarketing</th>\n",
       "      <th>MantenimientoyLimpieza</th>\n",
       "      <th>Almacén/Depósito/Expedición</th>\n",
       "      <th>Contabilidad</th>\n",
       "      <th>RecursosHumanos</th>\n",
       "      <th>Gastronomia</th>\n",
       "      <th>Logística</th>\n",
       "      <th>Secretaria</th>\n",
       "      <th>AdministracióndePersonal</th>\n",
       "      <th>CréditosyCobranzas</th>\n",
       "      <th>Marketing</th>\n",
       "      <th>Legal</th>\n",
       "    </tr>\n",
       "  </thead>\n",
       "  <tbody>\n",
       "    <tr>\n",
       "      <th>0</th>\n",
       "      <td>0</td>\n",
       "      <td>739260</td>\n",
       "      <td>6M9ZQR</td>\n",
       "      <td>42</td>\n",
       "      <td>1</td>\n",
       "      <td>0</td>\n",
       "      <td>0</td>\n",
       "      <td>0</td>\n",
       "      <td>0</td>\n",
       "      <td>0</td>\n",
       "      <td>0</td>\n",
       "      <td>0</td>\n",
       "      <td>0</td>\n",
       "      <td>1</td>\n",
       "      <td>1</td>\n",
       "      <td>0</td>\n",
       "      <td>0</td>\n",
       "      <td>Comercial</td>\n",
       "      <td>0</td>\n",
       "      <td>0</td>\n",
       "      <td>0</td>\n",
       "      <td>0</td>\n",
       "      <td>1</td>\n",
       "      <td>0</td>\n",
       "      <td>0</td>\n",
       "      <td>2</td>\n",
       "      <td>0</td>\n",
       "      <td>True</td>\n",
       "      <td>False</td>\n",
       "      <td>False</td>\n",
       "      <td>0</td>\n",
       "      <td>1</td>\n",
       "      <td>0</td>\n",
       "      <td>0</td>\n",
       "      <td>0</td>\n",
       "      <td>False</td>\n",
       "      <td>False</td>\n",
       "      <td>False</td>\n",
       "      <td>True</td>\n",
       "      <td>False</td>\n",
       "      <td>False</td>\n",
       "      <td>False</td>\n",
       "      <td>False</td>\n",
       "      <td>False</td>\n",
       "      <td>False</td>\n",
       "      <td>False</td>\n",
       "      <td>False</td>\n",
       "      <td>False</td>\n",
       "      <td>False</td>\n",
       "      <td>False</td>\n",
       "      <td>False</td>\n",
       "      <td>False</td>\n",
       "      <td>False</td>\n",
       "      <td>False</td>\n",
       "      <td>False</td>\n",
       "    </tr>\n",
       "    <tr>\n",
       "      <th>1</th>\n",
       "      <td>1</td>\n",
       "      <td>739260</td>\n",
       "      <td>6v1xdL</td>\n",
       "      <td>31</td>\n",
       "      <td>0</td>\n",
       "      <td>0</td>\n",
       "      <td>0</td>\n",
       "      <td>0</td>\n",
       "      <td>0</td>\n",
       "      <td>1</td>\n",
       "      <td>0</td>\n",
       "      <td>0</td>\n",
       "      <td>0</td>\n",
       "      <td>1</td>\n",
       "      <td>0</td>\n",
       "      <td>1</td>\n",
       "      <td>0</td>\n",
       "      <td>Comercial</td>\n",
       "      <td>0</td>\n",
       "      <td>0</td>\n",
       "      <td>0</td>\n",
       "      <td>0</td>\n",
       "      <td>1</td>\n",
       "      <td>0</td>\n",
       "      <td>0</td>\n",
       "      <td>2</td>\n",
       "      <td>0</td>\n",
       "      <td>True</td>\n",
       "      <td>False</td>\n",
       "      <td>False</td>\n",
       "      <td>0</td>\n",
       "      <td>1</td>\n",
       "      <td>0</td>\n",
       "      <td>0</td>\n",
       "      <td>0</td>\n",
       "      <td>False</td>\n",
       "      <td>False</td>\n",
       "      <td>False</td>\n",
       "      <td>True</td>\n",
       "      <td>False</td>\n",
       "      <td>False</td>\n",
       "      <td>False</td>\n",
       "      <td>False</td>\n",
       "      <td>False</td>\n",
       "      <td>False</td>\n",
       "      <td>False</td>\n",
       "      <td>False</td>\n",
       "      <td>False</td>\n",
       "      <td>False</td>\n",
       "      <td>False</td>\n",
       "      <td>False</td>\n",
       "      <td>False</td>\n",
       "      <td>False</td>\n",
       "      <td>False</td>\n",
       "      <td>False</td>\n",
       "    </tr>\n",
       "  </tbody>\n",
       "</table>\n",
       "</div>"
      ],
      "text/plain": [
       "   id  idaviso idpostulante  edad  nombre_estudio_Doctorado  \\\n",
       "0   0   739260       6M9ZQR    42                         1   \n",
       "1   1   739260       6v1xdL    31                         0   \n",
       "\n",
       "   nombre_estudio_Master  nombre_estudio_Otro  nombre_estudio_Posgrado  \\\n",
       "0                      0                    0                        0   \n",
       "1                      0                    0                        0   \n",
       "\n",
       "   nombre_estudio_Secundario  nombre_estudio_Terciario/Tecnico  \\\n",
       "0                          0                                 0   \n",
       "1                          0                                 1   \n",
       "\n",
       "   nombre_estudio_Universitario  estado_estudio_Abandonado  \\\n",
       "0                             0                          0   \n",
       "1                             0                          0   \n",
       "\n",
       "   estado_estudio_EnCurso  estado_estudio_Graduado  sexo_FEM  sexo_MASC  \\\n",
       "0                       0                        1         1          0   \n",
       "1                       0                        1         0          1   \n",
       "\n",
       "   sexo_NO_DECLARA nombre_area  desc_1  desc_2  desc_3  desc_4  desc_5  \\\n",
       "0                0   Comercial       0       0       0       0       1   \n",
       "1                0   Comercial       0       0       0       0       1   \n",
       "\n",
       "   desc_6  desc_7  cant_vistas_aviso  cant_postulaciones_aviso  tipo_full  \\\n",
       "0       0       0                  2                         0       True   \n",
       "1       0       0                  2                         0       True   \n",
       "\n",
       "   tipo_part  tipo_otro  nivel_laboral_Gerencia/AltaGerencia/Dirección  \\\n",
       "0      False      False                                              0   \n",
       "1      False      False                                              0   \n",
       "\n",
       "   nivel_laboral_Jefe/Supervisor/Responsable  nivel_laboral_Junior  \\\n",
       "0                                          1                     0   \n",
       "1                                          1                     0   \n",
       "\n",
       "   nivel_laboral_Otro  nivel_laboral_Senior/Semi-Senior  Ventas  \\\n",
       "0                   0                                 0   False   \n",
       "1                   0                                 0   False   \n",
       "\n",
       "   Administración  Producción  Comercial  AtenciónalCliente  Recepcionista  \\\n",
       "0           False       False       True              False          False   \n",
       "1           False       False       True              False          False   \n",
       "\n",
       "   CallCenter  Tesorería  Telemarketing  MantenimientoyLimpieza  \\\n",
       "0       False      False          False                   False   \n",
       "1       False      False          False                   False   \n",
       "\n",
       "   Almacén/Depósito/Expedición  Contabilidad  RecursosHumanos  Gastronomia  \\\n",
       "0                        False         False            False        False   \n",
       "1                        False         False            False        False   \n",
       "\n",
       "   Logística  Secretaria  AdministracióndePersonal  CréditosyCobranzas  \\\n",
       "0      False       False                     False               False   \n",
       "1      False       False                     False               False   \n",
       "\n",
       "   Marketing  Legal  \n",
       "0      False  False  \n",
       "1      False  False  "
      ]
     },
     "execution_count": 35,
     "metadata": {},
     "output_type": "execute_result"
    }
   ],
   "source": [
    "# Tomamos top 20 de las areas \n",
    "areas_top_20 = postulaciones_postulantes_avisos['nombre_area'].value_counts().nlargest(20).index\n",
    "for area in areas_top_20:\n",
    "    no_postulados[area] = (no_postulados['nombre_area'] == area).astype(bool)\n",
    "\n",
    "postulaciones_postulantes_avisos_test.head(2)"
   ]
  },
  {
   "cell_type": "code",
   "execution_count": 36,
   "metadata": {},
   "outputs": [
    {
     "name": "stdout",
     "output_type": "stream",
     "text": [
      "(6604615, 55)\n",
      "(100000, 55)\n",
      "(6500000, 54)\n"
     ]
    }
   ],
   "source": [
    "print(postulaciones_postulantes_avisos.shape)\n",
    "print(postulaciones_postulantes_avisos_test.shape)\n",
    "print(no_postulados.shape)"
   ]
  },
  {
   "cell_type": "markdown",
   "metadata": {},
   "source": [
    "** Se agrega la columna sepostulo para los casos random generados **"
   ]
  },
  {
   "cell_type": "code",
   "execution_count": 38,
   "metadata": {},
   "outputs": [
    {
     "data": {
      "text/html": [
       "<div>\n",
       "<style scoped>\n",
       "    .dataframe tbody tr th:only-of-type {\n",
       "        vertical-align: middle;\n",
       "    }\n",
       "\n",
       "    .dataframe tbody tr th {\n",
       "        vertical-align: top;\n",
       "    }\n",
       "\n",
       "    .dataframe thead th {\n",
       "        text-align: right;\n",
       "    }\n",
       "</style>\n",
       "<table border=\"1\" class=\"dataframe\">\n",
       "  <thead>\n",
       "    <tr style=\"text-align: right;\">\n",
       "      <th></th>\n",
       "      <th>idpostulante</th>\n",
       "      <th>edad</th>\n",
       "      <th>idaviso</th>\n",
       "      <th>nombre_area</th>\n",
       "      <th>desc_1</th>\n",
       "      <th>desc_2</th>\n",
       "      <th>desc_3</th>\n",
       "      <th>desc_4</th>\n",
       "      <th>desc_5</th>\n",
       "      <th>desc_6</th>\n",
       "      <th>desc_7</th>\n",
       "      <th>cant_vistas_aviso</th>\n",
       "      <th>cant_postulaciones_aviso</th>\n",
       "      <th>nombre_estudio_Doctorado</th>\n",
       "      <th>nombre_estudio_Master</th>\n",
       "      <th>nombre_estudio_Otro</th>\n",
       "      <th>nombre_estudio_Posgrado</th>\n",
       "      <th>nombre_estudio_Secundario</th>\n",
       "      <th>nombre_estudio_Terciario/Tecnico</th>\n",
       "      <th>nombre_estudio_Universitario</th>\n",
       "      <th>estado_estudio_Abandonado</th>\n",
       "      <th>estado_estudio_EnCurso</th>\n",
       "      <th>estado_estudio_Graduado</th>\n",
       "      <th>sexo_FEM</th>\n",
       "      <th>sexo_MASC</th>\n",
       "      <th>sexo_NO_DECLARA</th>\n",
       "      <th>tipo_full</th>\n",
       "      <th>tipo_part</th>\n",
       "      <th>tipo_otro</th>\n",
       "      <th>nivel_laboral_Gerencia/AltaGerencia/Dirección</th>\n",
       "      <th>nivel_laboral_Jefe/Supervisor/Responsable</th>\n",
       "      <th>nivel_laboral_Junior</th>\n",
       "      <th>nivel_laboral_Otro</th>\n",
       "      <th>nivel_laboral_Senior/Semi-Senior</th>\n",
       "      <th>Ventas</th>\n",
       "      <th>Administración</th>\n",
       "      <th>Producción</th>\n",
       "      <th>Comercial</th>\n",
       "      <th>AtenciónalCliente</th>\n",
       "      <th>Recepcionista</th>\n",
       "      <th>CallCenter</th>\n",
       "      <th>Tesorería</th>\n",
       "      <th>Telemarketing</th>\n",
       "      <th>MantenimientoyLimpieza</th>\n",
       "      <th>Almacén/Depósito/Expedición</th>\n",
       "      <th>Contabilidad</th>\n",
       "      <th>RecursosHumanos</th>\n",
       "      <th>Gastronomia</th>\n",
       "      <th>Logística</th>\n",
       "      <th>Secretaria</th>\n",
       "      <th>AdministracióndePersonal</th>\n",
       "      <th>CréditosyCobranzas</th>\n",
       "      <th>Marketing</th>\n",
       "      <th>Legal</th>\n",
       "      <th>sepostulo</th>\n",
       "    </tr>\n",
       "  </thead>\n",
       "  <tbody>\n",
       "    <tr>\n",
       "      <th>0</th>\n",
       "      <td>VNrqJwE</td>\n",
       "      <td>31</td>\n",
       "      <td>1112502059</td>\n",
       "      <td>Producción</td>\n",
       "      <td>0</td>\n",
       "      <td>0</td>\n",
       "      <td>0</td>\n",
       "      <td>0</td>\n",
       "      <td>0</td>\n",
       "      <td>0</td>\n",
       "      <td>1</td>\n",
       "      <td>0</td>\n",
       "      <td>0</td>\n",
       "      <td>0</td>\n",
       "      <td>0</td>\n",
       "      <td>0</td>\n",
       "      <td>0</td>\n",
       "      <td>0</td>\n",
       "      <td>0</td>\n",
       "      <td>1</td>\n",
       "      <td>0</td>\n",
       "      <td>1</td>\n",
       "      <td>0</td>\n",
       "      <td>0</td>\n",
       "      <td>1</td>\n",
       "      <td>0</td>\n",
       "      <td>True</td>\n",
       "      <td>False</td>\n",
       "      <td>False</td>\n",
       "      <td>0</td>\n",
       "      <td>0</td>\n",
       "      <td>0</td>\n",
       "      <td>0</td>\n",
       "      <td>1</td>\n",
       "      <td>False</td>\n",
       "      <td>False</td>\n",
       "      <td>True</td>\n",
       "      <td>False</td>\n",
       "      <td>False</td>\n",
       "      <td>False</td>\n",
       "      <td>False</td>\n",
       "      <td>False</td>\n",
       "      <td>False</td>\n",
       "      <td>False</td>\n",
       "      <td>False</td>\n",
       "      <td>False</td>\n",
       "      <td>False</td>\n",
       "      <td>False</td>\n",
       "      <td>False</td>\n",
       "      <td>False</td>\n",
       "      <td>False</td>\n",
       "      <td>False</td>\n",
       "      <td>False</td>\n",
       "      <td>False</td>\n",
       "      <td>False</td>\n",
       "    </tr>\n",
       "  </tbody>\n",
       "</table>\n",
       "</div>"
      ],
      "text/plain": [
       "  idpostulante  edad     idaviso nombre_area  desc_1  desc_2  desc_3  desc_4  \\\n",
       "0      VNrqJwE    31  1112502059  Producción       0       0       0       0   \n",
       "\n",
       "   desc_5  desc_6  desc_7  cant_vistas_aviso  cant_postulaciones_aviso  \\\n",
       "0       0       0       1                  0                         0   \n",
       "\n",
       "   nombre_estudio_Doctorado  nombre_estudio_Master  nombre_estudio_Otro  \\\n",
       "0                         0                      0                    0   \n",
       "\n",
       "   nombre_estudio_Posgrado  nombre_estudio_Secundario  \\\n",
       "0                        0                          0   \n",
       "\n",
       "   nombre_estudio_Terciario/Tecnico  nombre_estudio_Universitario  \\\n",
       "0                                 0                             1   \n",
       "\n",
       "   estado_estudio_Abandonado  estado_estudio_EnCurso  estado_estudio_Graduado  \\\n",
       "0                          0                       1                        0   \n",
       "\n",
       "   sexo_FEM  sexo_MASC  sexo_NO_DECLARA  tipo_full  tipo_part  tipo_otro  \\\n",
       "0         0          1                0       True      False      False   \n",
       "\n",
       "   nivel_laboral_Gerencia/AltaGerencia/Dirección  \\\n",
       "0                                              0   \n",
       "\n",
       "   nivel_laboral_Jefe/Supervisor/Responsable  nivel_laboral_Junior  \\\n",
       "0                                          0                     0   \n",
       "\n",
       "   nivel_laboral_Otro  nivel_laboral_Senior/Semi-Senior  Ventas  \\\n",
       "0                   0                                 1   False   \n",
       "\n",
       "   Administración  Producción  Comercial  AtenciónalCliente  Recepcionista  \\\n",
       "0           False        True      False              False          False   \n",
       "\n",
       "   CallCenter  Tesorería  Telemarketing  MantenimientoyLimpieza  \\\n",
       "0       False      False          False                   False   \n",
       "\n",
       "   Almacén/Depósito/Expedición  Contabilidad  RecursosHumanos  Gastronomia  \\\n",
       "0                        False         False            False        False   \n",
       "\n",
       "   Logística  Secretaria  AdministracióndePersonal  CréditosyCobranzas  \\\n",
       "0      False       False                     False               False   \n",
       "\n",
       "   Marketing  Legal  sepostulo  \n",
       "0      False  False      False  "
      ]
     },
     "execution_count": 38,
     "metadata": {},
     "output_type": "execute_result"
    }
   ],
   "source": [
    "no_postulados['sepostulo'] = False\n",
    "no_postulados.head(1)"
   ]
  },
  {
   "cell_type": "code",
   "execution_count": 39,
   "metadata": {},
   "outputs": [],
   "source": [
    "no_postulados.to_csv('../data/no_postulados.csv', index=False, sep=',', encoding='utf-8')"
   ]
  },
  {
   "cell_type": "markdown",
   "metadata": {},
   "source": [
    "** Exportamos la estructura de los datos a predecir a un csv X_test **"
   ]
  },
  {
   "cell_type": "code",
   "execution_count": 40,
   "metadata": {},
   "outputs": [],
   "source": [
    "postulaciones_postulantes_avisos_test.to_csv('../data/X_test.csv', index=False, sep=',', encoding='utf-8')"
   ]
  },
  {
   "cell_type": "markdown",
   "metadata": {},
   "source": [
    "## Agregamos la columna a predecir y generamos muestras aleatorias para los casos negativos"
   ]
  },
  {
   "cell_type": "raw",
   "metadata": {},
   "source": [
    "Hasta aca tenemos para el set de entrenamiento todos registros para los cuales la columna a predecir ('sepostulo') va a ser true. Vamos a concatenar con los no_postulados para tener ambos casos"
   ]
  },
  {
   "cell_type": "code",
   "execution_count": 41,
   "metadata": {},
   "outputs": [],
   "source": [
    "postulaciones_postulantes_avisos['sepostulo'] = True"
   ]
  },
  {
   "cell_type": "code",
   "execution_count": 42,
   "metadata": {},
   "outputs": [
    {
     "data": {
      "text/html": [
       "<div>\n",
       "<style scoped>\n",
       "    .dataframe tbody tr th:only-of-type {\n",
       "        vertical-align: middle;\n",
       "    }\n",
       "\n",
       "    .dataframe tbody tr th {\n",
       "        vertical-align: top;\n",
       "    }\n",
       "\n",
       "    .dataframe thead th {\n",
       "        text-align: right;\n",
       "    }\n",
       "</style>\n",
       "<table border=\"1\" class=\"dataframe\">\n",
       "  <thead>\n",
       "    <tr style=\"text-align: right;\">\n",
       "      <th></th>\n",
       "      <th>idaviso</th>\n",
       "      <th>idpostulante</th>\n",
       "      <th>edad</th>\n",
       "      <th>nombre_estudio_Doctorado</th>\n",
       "      <th>nombre_estudio_Master</th>\n",
       "      <th>nombre_estudio_Otro</th>\n",
       "      <th>nombre_estudio_Posgrado</th>\n",
       "      <th>nombre_estudio_Secundario</th>\n",
       "      <th>nombre_estudio_Terciario/Tecnico</th>\n",
       "      <th>nombre_estudio_Universitario</th>\n",
       "      <th>estado_estudio_Abandonado</th>\n",
       "      <th>estado_estudio_EnCurso</th>\n",
       "      <th>estado_estudio_Graduado</th>\n",
       "      <th>sexo_FEM</th>\n",
       "      <th>sexo_MASC</th>\n",
       "      <th>sexo_NO_DECLARA</th>\n",
       "      <th>nombre_area</th>\n",
       "      <th>desc_1</th>\n",
       "      <th>desc_2</th>\n",
       "      <th>desc_3</th>\n",
       "      <th>desc_4</th>\n",
       "      <th>desc_5</th>\n",
       "      <th>desc_6</th>\n",
       "      <th>desc_7</th>\n",
       "      <th>cant_vistas_aviso</th>\n",
       "      <th>cant_postulaciones_aviso</th>\n",
       "      <th>tipo_full</th>\n",
       "      <th>tipo_part</th>\n",
       "      <th>tipo_otro</th>\n",
       "      <th>nivel_laboral_Gerencia/AltaGerencia/Dirección</th>\n",
       "      <th>nivel_laboral_Jefe/Supervisor/Responsable</th>\n",
       "      <th>nivel_laboral_Junior</th>\n",
       "      <th>nivel_laboral_Otro</th>\n",
       "      <th>nivel_laboral_Senior/Semi-Senior</th>\n",
       "      <th>nivel_laboral_nan</th>\n",
       "      <th>Ventas</th>\n",
       "      <th>Administración</th>\n",
       "      <th>Producción</th>\n",
       "      <th>Comercial</th>\n",
       "      <th>AtenciónalCliente</th>\n",
       "      <th>Recepcionista</th>\n",
       "      <th>CallCenter</th>\n",
       "      <th>Tesorería</th>\n",
       "      <th>Telemarketing</th>\n",
       "      <th>MantenimientoyLimpieza</th>\n",
       "      <th>Almacén/Depósito/Expedición</th>\n",
       "      <th>Contabilidad</th>\n",
       "      <th>RecursosHumanos</th>\n",
       "      <th>Gastronomia</th>\n",
       "      <th>Logística</th>\n",
       "      <th>Secretaria</th>\n",
       "      <th>AdministracióndePersonal</th>\n",
       "      <th>CréditosyCobranzas</th>\n",
       "      <th>Marketing</th>\n",
       "      <th>Legal</th>\n",
       "      <th>sepostulo</th>\n",
       "    </tr>\n",
       "  </thead>\n",
       "  <tbody>\n",
       "    <tr>\n",
       "      <th>0</th>\n",
       "      <td>1112257047</td>\n",
       "      <td>NM5M</td>\n",
       "      <td>48</td>\n",
       "      <td>0</td>\n",
       "      <td>0</td>\n",
       "      <td>0</td>\n",
       "      <td>0</td>\n",
       "      <td>1</td>\n",
       "      <td>0</td>\n",
       "      <td>0</td>\n",
       "      <td>0</td>\n",
       "      <td>0</td>\n",
       "      <td>1</td>\n",
       "      <td>1</td>\n",
       "      <td>0</td>\n",
       "      <td>0</td>\n",
       "      <td>AtenciónalCliente</td>\n",
       "      <td>0.0</td>\n",
       "      <td>0.0</td>\n",
       "      <td>0.0</td>\n",
       "      <td>1.0</td>\n",
       "      <td>0.0</td>\n",
       "      <td>0.0</td>\n",
       "      <td>0.0</td>\n",
       "      <td>8.0</td>\n",
       "      <td>2391.0</td>\n",
       "      <td>False</td>\n",
       "      <td>True</td>\n",
       "      <td>False</td>\n",
       "      <td>0</td>\n",
       "      <td>0</td>\n",
       "      <td>0</td>\n",
       "      <td>1</td>\n",
       "      <td>0</td>\n",
       "      <td>0</td>\n",
       "      <td>False</td>\n",
       "      <td>False</td>\n",
       "      <td>False</td>\n",
       "      <td>False</td>\n",
       "      <td>True</td>\n",
       "      <td>False</td>\n",
       "      <td>False</td>\n",
       "      <td>False</td>\n",
       "      <td>False</td>\n",
       "      <td>False</td>\n",
       "      <td>False</td>\n",
       "      <td>False</td>\n",
       "      <td>False</td>\n",
       "      <td>False</td>\n",
       "      <td>False</td>\n",
       "      <td>False</td>\n",
       "      <td>False</td>\n",
       "      <td>False</td>\n",
       "      <td>False</td>\n",
       "      <td>False</td>\n",
       "      <td>True</td>\n",
       "    </tr>\n",
       "  </tbody>\n",
       "</table>\n",
       "</div>"
      ],
      "text/plain": [
       "      idaviso idpostulante  edad  nombre_estudio_Doctorado  \\\n",
       "0  1112257047         NM5M    48                         0   \n",
       "\n",
       "   nombre_estudio_Master  nombre_estudio_Otro  nombre_estudio_Posgrado  \\\n",
       "0                      0                    0                        0   \n",
       "\n",
       "   nombre_estudio_Secundario  nombre_estudio_Terciario/Tecnico  \\\n",
       "0                          1                                 0   \n",
       "\n",
       "   nombre_estudio_Universitario  estado_estudio_Abandonado  \\\n",
       "0                             0                          0   \n",
       "\n",
       "   estado_estudio_EnCurso  estado_estudio_Graduado  sexo_FEM  sexo_MASC  \\\n",
       "0                       0                        1         1          0   \n",
       "\n",
       "   sexo_NO_DECLARA        nombre_area  desc_1  desc_2  desc_3  desc_4  desc_5  \\\n",
       "0                0  AtenciónalCliente     0.0     0.0     0.0     1.0     0.0   \n",
       "\n",
       "   desc_6  desc_7  cant_vistas_aviso  cant_postulaciones_aviso  tipo_full  \\\n",
       "0     0.0     0.0                8.0                    2391.0      False   \n",
       "\n",
       "   tipo_part  tipo_otro  nivel_laboral_Gerencia/AltaGerencia/Dirección  \\\n",
       "0       True      False                                              0   \n",
       "\n",
       "   nivel_laboral_Jefe/Supervisor/Responsable  nivel_laboral_Junior  \\\n",
       "0                                          0                     0   \n",
       "\n",
       "   nivel_laboral_Otro  nivel_laboral_Senior/Semi-Senior  nivel_laboral_nan  \\\n",
       "0                   1                                 0                  0   \n",
       "\n",
       "   Ventas  Administración  Producción  Comercial  AtenciónalCliente  \\\n",
       "0   False           False       False      False               True   \n",
       "\n",
       "   Recepcionista  CallCenter  Tesorería  Telemarketing  \\\n",
       "0          False       False      False          False   \n",
       "\n",
       "   MantenimientoyLimpieza  Almacén/Depósito/Expedición  Contabilidad  \\\n",
       "0                   False                        False         False   \n",
       "\n",
       "   RecursosHumanos  Gastronomia  Logística  Secretaria  \\\n",
       "0            False        False      False       False   \n",
       "\n",
       "   AdministracióndePersonal  CréditosyCobranzas  Marketing  Legal  sepostulo  \n",
       "0                     False               False      False  False       True  "
      ]
     },
     "execution_count": 42,
     "metadata": {},
     "output_type": "execute_result"
    }
   ],
   "source": [
    "postulaciones_postulantes_avisos.head(1)"
   ]
  },
  {
   "cell_type": "code",
   "execution_count": 43,
   "metadata": {},
   "outputs": [],
   "source": [
    "postulaciones_postulantes_avisos.to_csv('../data/postulaciones_postulantes_avisos.csv', index=False, sep=',', encoding='utf-8')"
   ]
  },
  {
   "cell_type": "markdown",
   "metadata": {},
   "source": [
    "# Checkpoint 4"
   ]
  },
  {
   "cell_type": "code",
   "execution_count": 19,
   "metadata": {},
   "outputs": [],
   "source": [
    "no_postulados = pd.read_csv('../data/no_postulados.csv', sep=',', encoding='utf-8')"
   ]
  },
  {
   "cell_type": "code",
   "execution_count": null,
   "metadata": {},
   "outputs": [],
   "source": [
    "postulaciones_postulantes_avisos_test = pd.read_csv('../data/X_test.csv', sep=',', encoding='utf-8')"
   ]
  },
  {
   "cell_type": "code",
   "execution_count": 2,
   "metadata": {},
   "outputs": [],
   "source": [
    "postulaciones_postulantes_avisos = pd.read_csv('../data/postulaciones_postulantes_avisos.csv', encoding='utf-8')"
   ]
  },
  {
   "cell_type": "code",
   "execution_count": 3,
   "metadata": {},
   "outputs": [
    {
     "name": "stdout",
     "output_type": "stream",
     "text": [
      "13104615\n"
     ]
    },
    {
     "data": {
      "text/html": [
       "<div>\n",
       "<style scoped>\n",
       "    .dataframe tbody tr th:only-of-type {\n",
       "        vertical-align: middle;\n",
       "    }\n",
       "\n",
       "    .dataframe tbody tr th {\n",
       "        vertical-align: top;\n",
       "    }\n",
       "\n",
       "    .dataframe thead th {\n",
       "        text-align: right;\n",
       "    }\n",
       "</style>\n",
       "<table border=\"1\" class=\"dataframe\">\n",
       "  <thead>\n",
       "    <tr style=\"text-align: right;\">\n",
       "      <th></th>\n",
       "      <th>Administración</th>\n",
       "      <th>AdministracióndePersonal</th>\n",
       "      <th>Almacén/Depósito/Expedición</th>\n",
       "      <th>AtenciónalCliente</th>\n",
       "      <th>CallCenter</th>\n",
       "      <th>Comercial</th>\n",
       "      <th>Contabilidad</th>\n",
       "      <th>CréditosyCobranzas</th>\n",
       "      <th>Gastronomia</th>\n",
       "      <th>Legal</th>\n",
       "      <th>Logística</th>\n",
       "      <th>MantenimientoyLimpieza</th>\n",
       "      <th>Marketing</th>\n",
       "      <th>Producción</th>\n",
       "      <th>Recepcionista</th>\n",
       "      <th>RecursosHumanos</th>\n",
       "      <th>Secretaria</th>\n",
       "      <th>Telemarketing</th>\n",
       "      <th>Tesorería</th>\n",
       "      <th>Ventas</th>\n",
       "      <th>cant_postulaciones_aviso</th>\n",
       "      <th>cant_vistas_aviso</th>\n",
       "      <th>desc_1</th>\n",
       "      <th>desc_2</th>\n",
       "      <th>desc_3</th>\n",
       "      <th>desc_4</th>\n",
       "      <th>desc_5</th>\n",
       "      <th>desc_6</th>\n",
       "      <th>desc_7</th>\n",
       "      <th>edad</th>\n",
       "      <th>estado_estudio_Abandonado</th>\n",
       "      <th>estado_estudio_EnCurso</th>\n",
       "      <th>estado_estudio_Graduado</th>\n",
       "      <th>idaviso</th>\n",
       "      <th>idpostulante</th>\n",
       "      <th>nivel_laboral_Gerencia/AltaGerencia/Dirección</th>\n",
       "      <th>nivel_laboral_Jefe/Supervisor/Responsable</th>\n",
       "      <th>nivel_laboral_Junior</th>\n",
       "      <th>nivel_laboral_Otro</th>\n",
       "      <th>nivel_laboral_Senior/Semi-Senior</th>\n",
       "      <th>nivel_laboral_nan</th>\n",
       "      <th>nombre_area</th>\n",
       "      <th>nombre_estudio_Doctorado</th>\n",
       "      <th>nombre_estudio_Master</th>\n",
       "      <th>nombre_estudio_Otro</th>\n",
       "      <th>nombre_estudio_Posgrado</th>\n",
       "      <th>nombre_estudio_Secundario</th>\n",
       "      <th>nombre_estudio_Terciario/Tecnico</th>\n",
       "      <th>nombre_estudio_Universitario</th>\n",
       "      <th>sepostulo</th>\n",
       "      <th>sexo_FEM</th>\n",
       "      <th>sexo_MASC</th>\n",
       "      <th>sexo_NO_DECLARA</th>\n",
       "      <th>tipo_full</th>\n",
       "      <th>tipo_otro</th>\n",
       "      <th>tipo_part</th>\n",
       "    </tr>\n",
       "  </thead>\n",
       "  <tbody>\n",
       "    <tr>\n",
       "      <th>0</th>\n",
       "      <td>False</td>\n",
       "      <td>False</td>\n",
       "      <td>False</td>\n",
       "      <td>True</td>\n",
       "      <td>False</td>\n",
       "      <td>False</td>\n",
       "      <td>False</td>\n",
       "      <td>False</td>\n",
       "      <td>False</td>\n",
       "      <td>False</td>\n",
       "      <td>False</td>\n",
       "      <td>False</td>\n",
       "      <td>False</td>\n",
       "      <td>False</td>\n",
       "      <td>False</td>\n",
       "      <td>False</td>\n",
       "      <td>False</td>\n",
       "      <td>False</td>\n",
       "      <td>False</td>\n",
       "      <td>False</td>\n",
       "      <td>2391.0</td>\n",
       "      <td>8.0</td>\n",
       "      <td>0.0</td>\n",
       "      <td>0.0</td>\n",
       "      <td>0.0</td>\n",
       "      <td>1.0</td>\n",
       "      <td>0.0</td>\n",
       "      <td>0.0</td>\n",
       "      <td>0.0</td>\n",
       "      <td>48</td>\n",
       "      <td>0</td>\n",
       "      <td>0</td>\n",
       "      <td>1</td>\n",
       "      <td>1112257047</td>\n",
       "      <td>NM5M</td>\n",
       "      <td>0</td>\n",
       "      <td>0</td>\n",
       "      <td>0</td>\n",
       "      <td>1</td>\n",
       "      <td>0</td>\n",
       "      <td>0.0</td>\n",
       "      <td>AtenciónalCliente</td>\n",
       "      <td>0</td>\n",
       "      <td>0</td>\n",
       "      <td>0</td>\n",
       "      <td>0</td>\n",
       "      <td>1</td>\n",
       "      <td>0</td>\n",
       "      <td>0</td>\n",
       "      <td>True</td>\n",
       "      <td>1</td>\n",
       "      <td>0</td>\n",
       "      <td>0</td>\n",
       "      <td>False</td>\n",
       "      <td>False</td>\n",
       "      <td>True</td>\n",
       "    </tr>\n",
       "  </tbody>\n",
       "</table>\n",
       "</div>"
      ],
      "text/plain": [
       "   Administración  AdministracióndePersonal  Almacén/Depósito/Expedición  \\\n",
       "0           False                     False                        False   \n",
       "\n",
       "   AtenciónalCliente  CallCenter  Comercial  Contabilidad  CréditosyCobranzas  \\\n",
       "0               True       False      False         False               False   \n",
       "\n",
       "   Gastronomia  Legal  Logística  MantenimientoyLimpieza  Marketing  \\\n",
       "0        False  False      False                   False      False   \n",
       "\n",
       "   Producción  Recepcionista  RecursosHumanos  Secretaria  Telemarketing  \\\n",
       "0       False          False            False       False          False   \n",
       "\n",
       "   Tesorería  Ventas  cant_postulaciones_aviso  cant_vistas_aviso  desc_1  \\\n",
       "0      False   False                    2391.0                8.0     0.0   \n",
       "\n",
       "   desc_2  desc_3  desc_4  desc_5  desc_6  desc_7  edad  \\\n",
       "0     0.0     0.0     1.0     0.0     0.0     0.0    48   \n",
       "\n",
       "   estado_estudio_Abandonado  estado_estudio_EnCurso  estado_estudio_Graduado  \\\n",
       "0                          0                       0                        1   \n",
       "\n",
       "      idaviso idpostulante  nivel_laboral_Gerencia/AltaGerencia/Dirección  \\\n",
       "0  1112257047         NM5M                                              0   \n",
       "\n",
       "   nivel_laboral_Jefe/Supervisor/Responsable  nivel_laboral_Junior  \\\n",
       "0                                          0                     0   \n",
       "\n",
       "   nivel_laboral_Otro  nivel_laboral_Senior/Semi-Senior  nivel_laboral_nan  \\\n",
       "0                   1                                 0                0.0   \n",
       "\n",
       "         nombre_area  nombre_estudio_Doctorado  nombre_estudio_Master  \\\n",
       "0  AtenciónalCliente                         0                      0   \n",
       "\n",
       "   nombre_estudio_Otro  nombre_estudio_Posgrado  nombre_estudio_Secundario  \\\n",
       "0                    0                        0                          1   \n",
       "\n",
       "   nombre_estudio_Terciario/Tecnico  nombre_estudio_Universitario  sepostulo  \\\n",
       "0                                 0                             0       True   \n",
       "\n",
       "   sexo_FEM  sexo_MASC  sexo_NO_DECLARA  tipo_full  tipo_otro  tipo_part  \n",
       "0         1          0                0      False      False       True  "
      ]
     },
     "execution_count": 3,
     "metadata": {},
     "output_type": "execute_result"
    }
   ],
   "source": [
    "print(len(postulaciones_postulantes_avisos))\n",
    "postulaciones_postulantes_avisos.head(1)"
   ]
  },
  {
   "cell_type": "code",
   "execution_count": 6,
   "metadata": {},
   "outputs": [
    {
     "name": "stdout",
     "output_type": "stream",
     "text": [
      "6500000\n"
     ]
    },
    {
     "data": {
      "text/html": [
       "<div>\n",
       "<style scoped>\n",
       "    .dataframe tbody tr th:only-of-type {\n",
       "        vertical-align: middle;\n",
       "    }\n",
       "\n",
       "    .dataframe tbody tr th {\n",
       "        vertical-align: top;\n",
       "    }\n",
       "\n",
       "    .dataframe thead th {\n",
       "        text-align: right;\n",
       "    }\n",
       "</style>\n",
       "<table border=\"1\" class=\"dataframe\">\n",
       "  <thead>\n",
       "    <tr style=\"text-align: right;\">\n",
       "      <th></th>\n",
       "      <th>idpostulante</th>\n",
       "      <th>edad</th>\n",
       "      <th>idaviso</th>\n",
       "      <th>nombre_area</th>\n",
       "      <th>desc_1</th>\n",
       "      <th>desc_2</th>\n",
       "      <th>desc_3</th>\n",
       "      <th>desc_4</th>\n",
       "      <th>desc_5</th>\n",
       "      <th>desc_6</th>\n",
       "      <th>desc_7</th>\n",
       "      <th>cant_vistas_aviso</th>\n",
       "      <th>cant_postulaciones_aviso</th>\n",
       "      <th>nombre_estudio_Doctorado</th>\n",
       "      <th>nombre_estudio_Master</th>\n",
       "      <th>nombre_estudio_Otro</th>\n",
       "      <th>nombre_estudio_Posgrado</th>\n",
       "      <th>nombre_estudio_Secundario</th>\n",
       "      <th>nombre_estudio_Terciario/Tecnico</th>\n",
       "      <th>nombre_estudio_Universitario</th>\n",
       "      <th>estado_estudio_Abandonado</th>\n",
       "      <th>estado_estudio_EnCurso</th>\n",
       "      <th>estado_estudio_Graduado</th>\n",
       "      <th>sexo_FEM</th>\n",
       "      <th>sexo_MASC</th>\n",
       "      <th>sexo_NO_DECLARA</th>\n",
       "      <th>tipo_full</th>\n",
       "      <th>tipo_part</th>\n",
       "      <th>tipo_otro</th>\n",
       "      <th>nivel_laboral_Gerencia/AltaGerencia/Dirección</th>\n",
       "      <th>nivel_laboral_Jefe/Supervisor/Responsable</th>\n",
       "      <th>nivel_laboral_Junior</th>\n",
       "      <th>nivel_laboral_Otro</th>\n",
       "      <th>nivel_laboral_Senior/Semi-Senior</th>\n",
       "      <th>Ventas</th>\n",
       "      <th>Administración</th>\n",
       "      <th>Producción</th>\n",
       "      <th>Comercial</th>\n",
       "      <th>AtenciónalCliente</th>\n",
       "      <th>Recepcionista</th>\n",
       "      <th>CallCenter</th>\n",
       "      <th>Tesorería</th>\n",
       "      <th>Telemarketing</th>\n",
       "      <th>MantenimientoyLimpieza</th>\n",
       "      <th>Almacén/Depósito/Expedición</th>\n",
       "      <th>Contabilidad</th>\n",
       "      <th>RecursosHumanos</th>\n",
       "      <th>Gastronomia</th>\n",
       "      <th>Logística</th>\n",
       "      <th>Secretaria</th>\n",
       "      <th>AdministracióndePersonal</th>\n",
       "      <th>CréditosyCobranzas</th>\n",
       "      <th>Marketing</th>\n",
       "      <th>Legal</th>\n",
       "      <th>sepostulo</th>\n",
       "    </tr>\n",
       "  </thead>\n",
       "  <tbody>\n",
       "    <tr>\n",
       "      <th>0</th>\n",
       "      <td>VNrqJwE</td>\n",
       "      <td>31</td>\n",
       "      <td>1112502059</td>\n",
       "      <td>Producción</td>\n",
       "      <td>0</td>\n",
       "      <td>0</td>\n",
       "      <td>0</td>\n",
       "      <td>0</td>\n",
       "      <td>0</td>\n",
       "      <td>0</td>\n",
       "      <td>1</td>\n",
       "      <td>0</td>\n",
       "      <td>0</td>\n",
       "      <td>0</td>\n",
       "      <td>0</td>\n",
       "      <td>0</td>\n",
       "      <td>0</td>\n",
       "      <td>0</td>\n",
       "      <td>0</td>\n",
       "      <td>1</td>\n",
       "      <td>0</td>\n",
       "      <td>1</td>\n",
       "      <td>0</td>\n",
       "      <td>0</td>\n",
       "      <td>1</td>\n",
       "      <td>0</td>\n",
       "      <td>True</td>\n",
       "      <td>False</td>\n",
       "      <td>False</td>\n",
       "      <td>0</td>\n",
       "      <td>0</td>\n",
       "      <td>0</td>\n",
       "      <td>0</td>\n",
       "      <td>1</td>\n",
       "      <td>False</td>\n",
       "      <td>False</td>\n",
       "      <td>True</td>\n",
       "      <td>False</td>\n",
       "      <td>False</td>\n",
       "      <td>False</td>\n",
       "      <td>False</td>\n",
       "      <td>False</td>\n",
       "      <td>False</td>\n",
       "      <td>False</td>\n",
       "      <td>False</td>\n",
       "      <td>False</td>\n",
       "      <td>False</td>\n",
       "      <td>False</td>\n",
       "      <td>False</td>\n",
       "      <td>False</td>\n",
       "      <td>False</td>\n",
       "      <td>False</td>\n",
       "      <td>False</td>\n",
       "      <td>False</td>\n",
       "      <td>False</td>\n",
       "    </tr>\n",
       "  </tbody>\n",
       "</table>\n",
       "</div>"
      ],
      "text/plain": [
       "  idpostulante  edad     idaviso nombre_area  desc_1  desc_2  desc_3  desc_4  \\\n",
       "0      VNrqJwE    31  1112502059  Producción       0       0       0       0   \n",
       "\n",
       "   desc_5  desc_6  desc_7  cant_vistas_aviso  cant_postulaciones_aviso  \\\n",
       "0       0       0       1                  0                         0   \n",
       "\n",
       "   nombre_estudio_Doctorado  nombre_estudio_Master  nombre_estudio_Otro  \\\n",
       "0                         0                      0                    0   \n",
       "\n",
       "   nombre_estudio_Posgrado  nombre_estudio_Secundario  \\\n",
       "0                        0                          0   \n",
       "\n",
       "   nombre_estudio_Terciario/Tecnico  nombre_estudio_Universitario  \\\n",
       "0                                 0                             1   \n",
       "\n",
       "   estado_estudio_Abandonado  estado_estudio_EnCurso  estado_estudio_Graduado  \\\n",
       "0                          0                       1                        0   \n",
       "\n",
       "   sexo_FEM  sexo_MASC  sexo_NO_DECLARA  tipo_full  tipo_part  tipo_otro  \\\n",
       "0         0          1                0       True      False      False   \n",
       "\n",
       "   nivel_laboral_Gerencia/AltaGerencia/Dirección  \\\n",
       "0                                              0   \n",
       "\n",
       "   nivel_laboral_Jefe/Supervisor/Responsable  nivel_laboral_Junior  \\\n",
       "0                                          0                     0   \n",
       "\n",
       "   nivel_laboral_Otro  nivel_laboral_Senior/Semi-Senior  Ventas  \\\n",
       "0                   0                                 1   False   \n",
       "\n",
       "   Administración  Producción  Comercial  AtenciónalCliente  Recepcionista  \\\n",
       "0           False        True      False              False          False   \n",
       "\n",
       "   CallCenter  Tesorería  Telemarketing  MantenimientoyLimpieza  \\\n",
       "0       False      False          False                   False   \n",
       "\n",
       "   Almacén/Depósito/Expedición  Contabilidad  RecursosHumanos  Gastronomia  \\\n",
       "0                        False         False            False        False   \n",
       "\n",
       "   Logística  Secretaria  AdministracióndePersonal  CréditosyCobranzas  \\\n",
       "0      False       False                     False               False   \n",
       "\n",
       "   Marketing  Legal  sepostulo  \n",
       "0      False  False      False  "
      ]
     },
     "execution_count": 6,
     "metadata": {},
     "output_type": "execute_result"
    }
   ],
   "source": [
    "print(len(no_postulados))\n",
    "no_postulados.head(1)"
   ]
  },
  {
   "cell_type": "code",
   "execution_count": 7,
   "metadata": {},
   "outputs": [
    {
     "data": {
      "text/html": [
       "<div>\n",
       "<style scoped>\n",
       "    .dataframe tbody tr th:only-of-type {\n",
       "        vertical-align: middle;\n",
       "    }\n",
       "\n",
       "    .dataframe tbody tr th {\n",
       "        vertical-align: top;\n",
       "    }\n",
       "\n",
       "    .dataframe thead th {\n",
       "        text-align: right;\n",
       "    }\n",
       "</style>\n",
       "<table border=\"1\" class=\"dataframe\">\n",
       "  <thead>\n",
       "    <tr style=\"text-align: right;\">\n",
       "      <th></th>\n",
       "      <th>idaviso</th>\n",
       "      <th>idpostulante</th>\n",
       "      <th>edad</th>\n",
       "      <th>nombre_estudio_Doctorado</th>\n",
       "      <th>nombre_estudio_Master</th>\n",
       "      <th>nombre_estudio_Otro</th>\n",
       "      <th>nombre_estudio_Posgrado</th>\n",
       "      <th>nombre_estudio_Secundario</th>\n",
       "      <th>nombre_estudio_Terciario/Tecnico</th>\n",
       "      <th>nombre_estudio_Universitario</th>\n",
       "      <th>estado_estudio_Abandonado</th>\n",
       "      <th>estado_estudio_EnCurso</th>\n",
       "      <th>estado_estudio_Graduado</th>\n",
       "      <th>sexo_FEM</th>\n",
       "      <th>sexo_MASC</th>\n",
       "      <th>sexo_NO_DECLARA</th>\n",
       "      <th>nombre_area</th>\n",
       "      <th>desc_1</th>\n",
       "      <th>desc_2</th>\n",
       "      <th>desc_3</th>\n",
       "      <th>desc_4</th>\n",
       "      <th>desc_5</th>\n",
       "      <th>desc_6</th>\n",
       "      <th>desc_7</th>\n",
       "      <th>cant_vistas_aviso</th>\n",
       "      <th>cant_postulaciones_aviso</th>\n",
       "      <th>tipo_full</th>\n",
       "      <th>tipo_part</th>\n",
       "      <th>tipo_otro</th>\n",
       "      <th>nivel_laboral_Gerencia/AltaGerencia/Dirección</th>\n",
       "      <th>nivel_laboral_Jefe/Supervisor/Responsable</th>\n",
       "      <th>nivel_laboral_Junior</th>\n",
       "      <th>nivel_laboral_Otro</th>\n",
       "      <th>nivel_laboral_Senior/Semi-Senior</th>\n",
       "      <th>nivel_laboral_nan</th>\n",
       "      <th>Ventas</th>\n",
       "      <th>Administración</th>\n",
       "      <th>Producción</th>\n",
       "      <th>Comercial</th>\n",
       "      <th>AtenciónalCliente</th>\n",
       "      <th>Recepcionista</th>\n",
       "      <th>CallCenter</th>\n",
       "      <th>Tesorería</th>\n",
       "      <th>Telemarketing</th>\n",
       "      <th>MantenimientoyLimpieza</th>\n",
       "      <th>Almacén/Depósito/Expedición</th>\n",
       "      <th>Contabilidad</th>\n",
       "      <th>RecursosHumanos</th>\n",
       "      <th>Gastronomia</th>\n",
       "      <th>Logística</th>\n",
       "      <th>Secretaria</th>\n",
       "      <th>AdministracióndePersonal</th>\n",
       "      <th>CréditosyCobranzas</th>\n",
       "      <th>Marketing</th>\n",
       "      <th>Legal</th>\n",
       "      <th>sepostulo</th>\n",
       "    </tr>\n",
       "  </thead>\n",
       "  <tbody>\n",
       "    <tr>\n",
       "      <th>0</th>\n",
       "      <td>1112257047</td>\n",
       "      <td>NM5M</td>\n",
       "      <td>48</td>\n",
       "      <td>0</td>\n",
       "      <td>0</td>\n",
       "      <td>0</td>\n",
       "      <td>0</td>\n",
       "      <td>1</td>\n",
       "      <td>0</td>\n",
       "      <td>0</td>\n",
       "      <td>0</td>\n",
       "      <td>0</td>\n",
       "      <td>1</td>\n",
       "      <td>1</td>\n",
       "      <td>0</td>\n",
       "      <td>0</td>\n",
       "      <td>AtenciónalCliente</td>\n",
       "      <td>0.0</td>\n",
       "      <td>0.0</td>\n",
       "      <td>0.0</td>\n",
       "      <td>1.0</td>\n",
       "      <td>0.0</td>\n",
       "      <td>0.0</td>\n",
       "      <td>0.0</td>\n",
       "      <td>8.0</td>\n",
       "      <td>2391.0</td>\n",
       "      <td>False</td>\n",
       "      <td>True</td>\n",
       "      <td>False</td>\n",
       "      <td>0</td>\n",
       "      <td>0</td>\n",
       "      <td>0</td>\n",
       "      <td>1</td>\n",
       "      <td>0</td>\n",
       "      <td>0</td>\n",
       "      <td>False</td>\n",
       "      <td>False</td>\n",
       "      <td>False</td>\n",
       "      <td>False</td>\n",
       "      <td>True</td>\n",
       "      <td>False</td>\n",
       "      <td>False</td>\n",
       "      <td>False</td>\n",
       "      <td>False</td>\n",
       "      <td>False</td>\n",
       "      <td>False</td>\n",
       "      <td>False</td>\n",
       "      <td>False</td>\n",
       "      <td>False</td>\n",
       "      <td>False</td>\n",
       "      <td>False</td>\n",
       "      <td>False</td>\n",
       "      <td>False</td>\n",
       "      <td>False</td>\n",
       "      <td>False</td>\n",
       "      <td>True</td>\n",
       "    </tr>\n",
       "  </tbody>\n",
       "</table>\n",
       "</div>"
      ],
      "text/plain": [
       "      idaviso idpostulante  edad  nombre_estudio_Doctorado  \\\n",
       "0  1112257047         NM5M    48                         0   \n",
       "\n",
       "   nombre_estudio_Master  nombre_estudio_Otro  nombre_estudio_Posgrado  \\\n",
       "0                      0                    0                        0   \n",
       "\n",
       "   nombre_estudio_Secundario  nombre_estudio_Terciario/Tecnico  \\\n",
       "0                          1                                 0   \n",
       "\n",
       "   nombre_estudio_Universitario  estado_estudio_Abandonado  \\\n",
       "0                             0                          0   \n",
       "\n",
       "   estado_estudio_EnCurso  estado_estudio_Graduado  sexo_FEM  sexo_MASC  \\\n",
       "0                       0                        1         1          0   \n",
       "\n",
       "   sexo_NO_DECLARA        nombre_area  desc_1  desc_2  desc_3  desc_4  desc_5  \\\n",
       "0                0  AtenciónalCliente     0.0     0.0     0.0     1.0     0.0   \n",
       "\n",
       "   desc_6  desc_7  cant_vistas_aviso  cant_postulaciones_aviso  tipo_full  \\\n",
       "0     0.0     0.0                8.0                    2391.0      False   \n",
       "\n",
       "   tipo_part  tipo_otro  nivel_laboral_Gerencia/AltaGerencia/Dirección  \\\n",
       "0       True      False                                              0   \n",
       "\n",
       "   nivel_laboral_Jefe/Supervisor/Responsable  nivel_laboral_Junior  \\\n",
       "0                                          0                     0   \n",
       "\n",
       "   nivel_laboral_Otro  nivel_laboral_Senior/Semi-Senior  nivel_laboral_nan  \\\n",
       "0                   1                                 0                  0   \n",
       "\n",
       "   Ventas  Administración  Producción  Comercial  AtenciónalCliente  \\\n",
       "0   False           False       False      False               True   \n",
       "\n",
       "   Recepcionista  CallCenter  Tesorería  Telemarketing  \\\n",
       "0          False       False      False          False   \n",
       "\n",
       "   MantenimientoyLimpieza  Almacén/Depósito/Expedición  Contabilidad  \\\n",
       "0                   False                        False         False   \n",
       "\n",
       "   RecursosHumanos  Gastronomia  Logística  Secretaria  \\\n",
       "0            False        False      False       False   \n",
       "\n",
       "   AdministracióndePersonal  CréditosyCobranzas  Marketing  Legal  sepostulo  \n",
       "0                     False               False      False  False       True  "
      ]
     },
     "execution_count": 7,
     "metadata": {},
     "output_type": "execute_result"
    }
   ],
   "source": [
    "postulaciones_postulantes_avisos.head(1)"
   ]
  },
  {
   "cell_type": "code",
   "execution_count": 8,
   "metadata": {},
   "outputs": [
    {
     "data": {
      "text/plain": [
       "idaviso                                            int64\n",
       "idpostulante                                      object\n",
       "edad                                               int64\n",
       "nombre_estudio_Doctorado                           int64\n",
       "nombre_estudio_Master                              int64\n",
       "nombre_estudio_Otro                                int64\n",
       "nombre_estudio_Posgrado                            int64\n",
       "nombre_estudio_Secundario                          int64\n",
       "nombre_estudio_Terciario/Tecnico                   int64\n",
       "nombre_estudio_Universitario                       int64\n",
       "estado_estudio_Abandonado                          int64\n",
       "estado_estudio_EnCurso                             int64\n",
       "estado_estudio_Graduado                            int64\n",
       "sexo_FEM                                           int64\n",
       "sexo_MASC                                          int64\n",
       "sexo_NO_DECLARA                                    int64\n",
       "nombre_area                                       object\n",
       "desc_1                                           float64\n",
       "desc_2                                           float64\n",
       "desc_3                                           float64\n",
       "desc_4                                           float64\n",
       "desc_5                                           float64\n",
       "desc_6                                           float64\n",
       "desc_7                                           float64\n",
       "cant_vistas_aviso                                float64\n",
       "cant_postulaciones_aviso                         float64\n",
       "tipo_full                                           bool\n",
       "tipo_part                                           bool\n",
       "tipo_otro                                           bool\n",
       "nivel_laboral_Gerencia/AltaGerencia/Dirección      int64\n",
       "nivel_laboral_Jefe/Supervisor/Responsable          int64\n",
       "nivel_laboral_Junior                               int64\n",
       "nivel_laboral_Otro                                 int64\n",
       "nivel_laboral_Senior/Semi-Senior                   int64\n",
       "nivel_laboral_nan                                  int64\n",
       "Ventas                                              bool\n",
       "Administración                                      bool\n",
       "Producción                                          bool\n",
       "Comercial                                           bool\n",
       "AtenciónalCliente                                   bool\n",
       "Recepcionista                                       bool\n",
       "CallCenter                                          bool\n",
       "Tesorería                                           bool\n",
       "Telemarketing                                       bool\n",
       "MantenimientoyLimpieza                              bool\n",
       "Almacén/Depósito/Expedición                         bool\n",
       "Contabilidad                                        bool\n",
       "RecursosHumanos                                     bool\n",
       "Gastronomia                                         bool\n",
       "Logística                                           bool\n",
       "Secretaria                                          bool\n",
       "AdministracióndePersonal                            bool\n",
       "CréditosyCobranzas                                  bool\n",
       "Marketing                                           bool\n",
       "Legal                                               bool\n",
       "sepostulo                                           bool\n",
       "dtype: object"
      ]
     },
     "execution_count": 8,
     "metadata": {},
     "output_type": "execute_result"
    }
   ],
   "source": [
    "postulaciones_postulantes_avisos.dtypes"
   ]
  },
  {
   "cell_type": "code",
   "execution_count": 9,
   "metadata": {},
   "outputs": [
    {
     "data": {
      "text/plain": [
       "idpostulante                                     object\n",
       "edad                                              int64\n",
       "idaviso                                           int64\n",
       "nombre_area                                      object\n",
       "desc_1                                            int64\n",
       "desc_2                                            int64\n",
       "desc_3                                            int64\n",
       "desc_4                                            int64\n",
       "desc_5                                            int64\n",
       "desc_6                                            int64\n",
       "desc_7                                            int64\n",
       "cant_vistas_aviso                                 int64\n",
       "cant_postulaciones_aviso                          int64\n",
       "nombre_estudio_Doctorado                          int64\n",
       "nombre_estudio_Master                             int64\n",
       "nombre_estudio_Otro                               int64\n",
       "nombre_estudio_Posgrado                           int64\n",
       "nombre_estudio_Secundario                         int64\n",
       "nombre_estudio_Terciario/Tecnico                  int64\n",
       "nombre_estudio_Universitario                      int64\n",
       "estado_estudio_Abandonado                         int64\n",
       "estado_estudio_EnCurso                            int64\n",
       "estado_estudio_Graduado                           int64\n",
       "sexo_FEM                                          int64\n",
       "sexo_MASC                                         int64\n",
       "sexo_NO_DECLARA                                   int64\n",
       "tipo_full                                          bool\n",
       "tipo_part                                          bool\n",
       "tipo_otro                                          bool\n",
       "nivel_laboral_Gerencia/AltaGerencia/Dirección     int64\n",
       "nivel_laboral_Jefe/Supervisor/Responsable         int64\n",
       "nivel_laboral_Junior                              int64\n",
       "nivel_laboral_Otro                                int64\n",
       "nivel_laboral_Senior/Semi-Senior                  int64\n",
       "Ventas                                             bool\n",
       "Administración                                     bool\n",
       "Producción                                         bool\n",
       "Comercial                                          bool\n",
       "AtenciónalCliente                                  bool\n",
       "Recepcionista                                      bool\n",
       "CallCenter                                         bool\n",
       "Tesorería                                          bool\n",
       "Telemarketing                                      bool\n",
       "MantenimientoyLimpieza                             bool\n",
       "Almacén/Depósito/Expedición                        bool\n",
       "Contabilidad                                       bool\n",
       "RecursosHumanos                                    bool\n",
       "Gastronomia                                        bool\n",
       "Logística                                          bool\n",
       "Secretaria                                         bool\n",
       "AdministracióndePersonal                           bool\n",
       "CréditosyCobranzas                                 bool\n",
       "Marketing                                          bool\n",
       "Legal                                              bool\n",
       "sepostulo                                          bool\n",
       "dtype: object"
      ]
     },
     "execution_count": 9,
     "metadata": {},
     "output_type": "execute_result"
    }
   ],
   "source": [
    "no_postulados.dtypes"
   ]
  },
  {
   "cell_type": "raw",
   "metadata": {},
   "source": [
    "De los random que generamos forzamos a todos con postulado=False, lo cual puede ser incorrecto. En caso de que el par (idAviso, idPostulante) exista en el postulaciones_postulantes_avisos deberia prevalecer ese. Para lograr esto con ambos sets concatenados, eliminamos los repetidos considerando estas dos columnas y nos quedamos con la primera repeticion (la del primer dataset, que es el que tiene la informacion real)"
   ]
  },
  {
   "cell_type": "code",
   "execution_count": 10,
   "metadata": {},
   "outputs": [],
   "source": [
    "postulaciones_postulantes_avisos = pd.concat([postulaciones_postulantes_avisos, no_postulados])"
   ]
  },
  {
   "cell_type": "code",
   "execution_count": null,
   "metadata": {},
   "outputs": [],
   "source": [
    "postulaciones_postulantes_avisos.head(1)"
   ]
  },
  {
   "cell_type": "code",
   "execution_count": 16,
   "metadata": {},
   "outputs": [
    {
     "data": {
      "text/plain": [
       "13104615"
      ]
     },
     "execution_count": 16,
     "metadata": {},
     "output_type": "execute_result"
    }
   ],
   "source": [
    "len(postulaciones_postulantes_avisos)"
   ]
  },
  {
   "cell_type": "code",
   "execution_count": 15,
   "metadata": {},
   "outputs": [],
   "source": [
    "postulaciones_postulantes_avisos.to_csv('../data/postulaciones_postulantes_avisos.csv', index=False, sep=',', encoding='utf-8')"
   ]
  },
  {
   "cell_type": "code",
   "execution_count": 2,
   "metadata": {},
   "outputs": [],
   "source": [
    "postulaciones_postulantes_avisos = pd.read_csv('../data/X_train.csv', sep=',', encoding='utf-8')"
   ]
  },
  {
   "cell_type": "code",
   "execution_count": 3,
   "metadata": {},
   "outputs": [],
   "source": [
    "postulaciones_postulantes_avisos.drop_duplicates(subset = ['idaviso','idpostulante'], keep = 'first',inplace = True)"
   ]
  },
  {
   "cell_type": "code",
   "execution_count": 4,
   "metadata": {},
   "outputs": [
    {
     "name": "stdout",
     "output_type": "stream",
     "text": [
      "26824\n"
     ]
    }
   ],
   "source": [
    "print(len(postulaciones_postulantes_avisos))"
   ]
  },
  {
   "cell_type": "code",
   "execution_count": 4,
   "metadata": {},
   "outputs": [
    {
     "name": "stdout",
     "output_type": "stream",
     "text": [
      "6604615\n",
      "6500000\n"
     ]
    }
   ],
   "source": [
    "print(len(postulaciones_postulantes_avisos[postulaciones_postulantes_avisos['sepostulo'] == True]))\n",
    "print(len(postulaciones_postulantes_avisos[postulaciones_postulantes_avisos['sepostulo'] == False]))"
   ]
  },
  {
   "cell_type": "code",
   "execution_count": 6,
   "metadata": {},
   "outputs": [
    {
     "data": {
      "text/plain": [
       "Administración                                    bool\n",
       "AdministracióndePersonal                          bool\n",
       "Almacén/Depósito/Expedición                       bool\n",
       "AtenciónalCliente                                 bool\n",
       "CallCenter                                        bool\n",
       "Comercial                                         bool\n",
       "Contabilidad                                      bool\n",
       "CréditosyCobranzas                                bool\n",
       "Gastronomia                                       bool\n",
       "Legal                                             bool\n",
       "Logística                                         bool\n",
       "MantenimientoyLimpieza                            bool\n",
       "Marketing                                         bool\n",
       "Producción                                        bool\n",
       "Recepcionista                                     bool\n",
       "RecursosHumanos                                   bool\n",
       "Secretaria                                        bool\n",
       "Telemarketing                                     bool\n",
       "Tesorería                                         bool\n",
       "Ventas                                            bool\n",
       "cant_postulaciones_aviso                         int64\n",
       "cant_vistas_aviso                                int64\n",
       "edad                                             int64\n",
       "estado_estudio_Abandonado                        int64\n",
       "estado_estudio_EnCurso                           int64\n",
       "estado_estudio_Graduado                          int64\n",
       "idaviso                                          int64\n",
       "nivel_laboral_Gerencia/AltaGerencia/Dirección    int64\n",
       "nivel_laboral_Jefe/Supervisor/Responsable        int64\n",
       "nivel_laboral_Junior                             int64\n",
       "nivel_laboral_Otro                               int64\n",
       "nivel_laboral_Senior/Semi-Senior                 int64\n",
       "nombre_estudio_Doctorado                         int64\n",
       "nombre_estudio_Master                            int64\n",
       "nombre_estudio_Otro                              int64\n",
       "nombre_estudio_Posgrado                          int64\n",
       "nombre_estudio_Secundario                        int64\n",
       "nombre_estudio_Terciario/Tecnico                 int64\n",
       "nombre_estudio_Universitario                     int64\n",
       "sepostulo                                         bool\n",
       "sexo_FEM                                         int64\n",
       "sexo_MASC                                        int64\n",
       "sexo_NO_DECLARA                                  int64\n",
       "tipo_full                                         bool\n",
       "tipo_otro                                         bool\n",
       "tipo_part                                         bool\n",
       "dtype: object"
      ]
     },
     "execution_count": 6,
     "metadata": {},
     "output_type": "execute_result"
    }
   ],
   "source": [
    "postulaciones_postulantes_avisos.dtypes"
   ]
  },
  {
   "cell_type": "code",
   "execution_count": 8,
   "metadata": {},
   "outputs": [
    {
     "data": {
      "text/html": [
       "<div>\n",
       "<style scoped>\n",
       "    .dataframe tbody tr th:only-of-type {\n",
       "        vertical-align: middle;\n",
       "    }\n",
       "\n",
       "    .dataframe tbody tr th {\n",
       "        vertical-align: top;\n",
       "    }\n",
       "\n",
       "    .dataframe thead th {\n",
       "        text-align: right;\n",
       "    }\n",
       "</style>\n",
       "<table border=\"1\" class=\"dataframe\">\n",
       "  <thead>\n",
       "    <tr style=\"text-align: right;\">\n",
       "      <th></th>\n",
       "      <th>Administración</th>\n",
       "      <th>AdministracióndePersonal</th>\n",
       "      <th>Almacén/Depósito/Expedición</th>\n",
       "      <th>AtenciónalCliente</th>\n",
       "      <th>CallCenter</th>\n",
       "      <th>Comercial</th>\n",
       "      <th>Contabilidad</th>\n",
       "      <th>CréditosyCobranzas</th>\n",
       "      <th>Gastronomia</th>\n",
       "      <th>Legal</th>\n",
       "      <th>Logística</th>\n",
       "      <th>MantenimientoyLimpieza</th>\n",
       "      <th>Marketing</th>\n",
       "      <th>Producción</th>\n",
       "      <th>Recepcionista</th>\n",
       "      <th>RecursosHumanos</th>\n",
       "      <th>Secretaria</th>\n",
       "      <th>Telemarketing</th>\n",
       "      <th>Tesorería</th>\n",
       "      <th>Ventas</th>\n",
       "      <th>cant_postulaciones_aviso</th>\n",
       "      <th>cant_vistas_aviso</th>\n",
       "      <th>edad</th>\n",
       "      <th>estado_estudio_Abandonado</th>\n",
       "      <th>estado_estudio_EnCurso</th>\n",
       "      <th>estado_estudio_Graduado</th>\n",
       "      <th>idaviso</th>\n",
       "      <th>nivel_laboral_Gerencia/AltaGerencia/Dirección</th>\n",
       "      <th>nivel_laboral_Jefe/Supervisor/Responsable</th>\n",
       "      <th>nivel_laboral_Junior</th>\n",
       "      <th>nivel_laboral_Otro</th>\n",
       "      <th>nivel_laboral_Senior/Semi-Senior</th>\n",
       "      <th>nombre_estudio_Doctorado</th>\n",
       "      <th>nombre_estudio_Master</th>\n",
       "      <th>nombre_estudio_Otro</th>\n",
       "      <th>nombre_estudio_Posgrado</th>\n",
       "      <th>nombre_estudio_Secundario</th>\n",
       "      <th>nombre_estudio_Terciario/Tecnico</th>\n",
       "      <th>nombre_estudio_Universitario</th>\n",
       "      <th>sepostulo</th>\n",
       "      <th>sexo_FEM</th>\n",
       "      <th>sexo_MASC</th>\n",
       "      <th>sexo_NO_DECLARA</th>\n",
       "      <th>tipo_full</th>\n",
       "      <th>tipo_otro</th>\n",
       "      <th>tipo_part</th>\n",
       "    </tr>\n",
       "  </thead>\n",
       "  <tbody>\n",
       "    <tr>\n",
       "      <th>0</th>\n",
       "      <td>False</td>\n",
       "      <td>False</td>\n",
       "      <td>False</td>\n",
       "      <td>False</td>\n",
       "      <td>False</td>\n",
       "      <td>False</td>\n",
       "      <td>False</td>\n",
       "      <td>False</td>\n",
       "      <td>False</td>\n",
       "      <td>False</td>\n",
       "      <td>False</td>\n",
       "      <td>False</td>\n",
       "      <td>False</td>\n",
       "      <td>False</td>\n",
       "      <td>False</td>\n",
       "      <td>False</td>\n",
       "      <td>False</td>\n",
       "      <td>False</td>\n",
       "      <td>False</td>\n",
       "      <td>True</td>\n",
       "      <td>9</td>\n",
       "      <td>8</td>\n",
       "      <td>39</td>\n",
       "      <td>0</td>\n",
       "      <td>0</td>\n",
       "      <td>1</td>\n",
       "      <td>1112349683</td>\n",
       "      <td>0</td>\n",
       "      <td>0</td>\n",
       "      <td>0</td>\n",
       "      <td>0</td>\n",
       "      <td>1</td>\n",
       "      <td>0</td>\n",
       "      <td>0</td>\n",
       "      <td>0</td>\n",
       "      <td>0</td>\n",
       "      <td>0</td>\n",
       "      <td>0</td>\n",
       "      <td>1</td>\n",
       "      <td>False</td>\n",
       "      <td>0</td>\n",
       "      <td>1</td>\n",
       "      <td>0</td>\n",
       "      <td>True</td>\n",
       "      <td>False</td>\n",
       "      <td>False</td>\n",
       "    </tr>\n",
       "  </tbody>\n",
       "</table>\n",
       "</div>"
      ],
      "text/plain": [
       "   Administración  AdministracióndePersonal  Almacén/Depósito/Expedición  \\\n",
       "0           False                     False                        False   \n",
       "\n",
       "   AtenciónalCliente  CallCenter  Comercial  Contabilidad  CréditosyCobranzas  \\\n",
       "0              False       False      False         False               False   \n",
       "\n",
       "   Gastronomia  Legal  Logística  MantenimientoyLimpieza  Marketing  \\\n",
       "0        False  False      False                   False      False   \n",
       "\n",
       "   Producción  Recepcionista  RecursosHumanos  Secretaria  Telemarketing  \\\n",
       "0       False          False            False       False          False   \n",
       "\n",
       "   Tesorería  Ventas  cant_postulaciones_aviso  cant_vistas_aviso  edad  \\\n",
       "0      False    True                         9                  8    39   \n",
       "\n",
       "   estado_estudio_Abandonado  estado_estudio_EnCurso  estado_estudio_Graduado  \\\n",
       "0                          0                       0                        1   \n",
       "\n",
       "      idaviso  nivel_laboral_Gerencia/AltaGerencia/Dirección  \\\n",
       "0  1112349683                                              0   \n",
       "\n",
       "   nivel_laboral_Jefe/Supervisor/Responsable  nivel_laboral_Junior  \\\n",
       "0                                          0                     0   \n",
       "\n",
       "   nivel_laboral_Otro  nivel_laboral_Senior/Semi-Senior  \\\n",
       "0                   0                                 1   \n",
       "\n",
       "   nombre_estudio_Doctorado  nombre_estudio_Master  nombre_estudio_Otro  \\\n",
       "0                         0                      0                    0   \n",
       "\n",
       "   nombre_estudio_Posgrado  nombre_estudio_Secundario  \\\n",
       "0                        0                          0   \n",
       "\n",
       "   nombre_estudio_Terciario/Tecnico  nombre_estudio_Universitario  sepostulo  \\\n",
       "0                                 0                             1      False   \n",
       "\n",
       "   sexo_FEM  sexo_MASC  sexo_NO_DECLARA  tipo_full  tipo_otro  tipo_part  \n",
       "0         0          1                0       True      False      False  "
      ]
     },
     "execution_count": 8,
     "metadata": {},
     "output_type": "execute_result"
    }
   ],
   "source": [
    "postulaciones_postulantes_avisos.head(1)"
   ]
  },
  {
   "cell_type": "code",
   "execution_count": 5,
   "metadata": {},
   "outputs": [],
   "source": [
    "postulaciones_postulantes_avisos.cant_postulaciones_aviso.fillna(0,inplace=True)\n",
    "postulaciones_postulantes_avisos.cant_vistas_aviso.fillna(0,inplace=True)\n",
    "postulaciones_postulantes_avisos['cant_postulaciones_aviso'] = postulaciones_postulantes_avisos['cant_postulaciones_aviso'].astype(int)\n",
    "postulaciones_postulantes_avisos['cant_vistas_aviso'] = postulaciones_postulantes_avisos['cant_vistas_aviso'].astype(int)"
   ]
  },
  {
   "cell_type": "code",
   "execution_count": 6,
   "metadata": {},
   "outputs": [],
   "source": [
    "postulaciones_postulantes_avisos.to_csv('../data/X_train.csv', index=False, sep=',', encoding='utf-8')"
   ]
  },
  {
   "cell_type": "code",
   "execution_count": 7,
   "metadata": {},
   "outputs": [
    {
     "ename": "MemoryError",
     "evalue": "",
     "output_type": "error",
     "traceback": [
      "\u001b[0;31m------------------------------------------------------------------------\u001b[0m",
      "\u001b[0;31mMemoryError\u001b[0m                            Traceback (most recent call last)",
      "\u001b[0;32m<ipython-input-7-98ce1482f466>\u001b[0m in \u001b[0;36m<module>\u001b[0;34m()\u001b[0m\n\u001b[1;32m      1\u001b[0m \u001b[0;31m# Shuffle de los elementos para que no queden todos los sepostulo true primero y los false al final\u001b[0m\u001b[0;34m\u001b[0m\u001b[0;34m\u001b[0m\u001b[0m\n\u001b[0;32m----> 2\u001b[0;31m \u001b[0mpostulaciones_postulantes_avisos\u001b[0m \u001b[0;34m=\u001b[0m \u001b[0mpostulaciones_postulantes_avisos\u001b[0m\u001b[0;34m.\u001b[0m\u001b[0msample\u001b[0m\u001b[0;34m(\u001b[0m\u001b[0mfrac\u001b[0m\u001b[0;34m=\u001b[0m\u001b[0;36m1\u001b[0m\u001b[0;34m)\u001b[0m\u001b[0;34m.\u001b[0m\u001b[0mreset_index\u001b[0m\u001b[0;34m(\u001b[0m\u001b[0mdrop\u001b[0m\u001b[0;34m=\u001b[0m\u001b[0;32mTrue\u001b[0m\u001b[0;34m)\u001b[0m\u001b[0;34m\u001b[0m\u001b[0m\n\u001b[0m",
      "\u001b[0;32m~/anaconda3/lib/python3.6/site-packages/pandas/core/frame.py\u001b[0m in \u001b[0;36mreset_index\u001b[0;34m(self, level, drop, inplace, col_level, col_fill)\u001b[0m\n\u001b[1;32m   3307\u001b[0m             \u001b[0mnew_obj\u001b[0m \u001b[0;34m=\u001b[0m \u001b[0mself\u001b[0m\u001b[0;34m\u001b[0m\u001b[0m\n\u001b[1;32m   3308\u001b[0m         \u001b[0;32melse\u001b[0m\u001b[0;34m:\u001b[0m\u001b[0;34m\u001b[0m\u001b[0m\n\u001b[0;32m-> 3309\u001b[0;31m             \u001b[0mnew_obj\u001b[0m \u001b[0;34m=\u001b[0m \u001b[0mself\u001b[0m\u001b[0;34m.\u001b[0m\u001b[0mcopy\u001b[0m\u001b[0;34m(\u001b[0m\u001b[0;34m)\u001b[0m\u001b[0;34m\u001b[0m\u001b[0m\n\u001b[0m\u001b[1;32m   3310\u001b[0m \u001b[0;34m\u001b[0m\u001b[0m\n\u001b[1;32m   3311\u001b[0m         \u001b[0;32mdef\u001b[0m \u001b[0m_maybe_casted_values\u001b[0m\u001b[0;34m(\u001b[0m\u001b[0mindex\u001b[0m\u001b[0;34m,\u001b[0m \u001b[0mlabels\u001b[0m\u001b[0;34m=\u001b[0m\u001b[0;32mNone\u001b[0m\u001b[0;34m)\u001b[0m\u001b[0;34m:\u001b[0m\u001b[0;34m\u001b[0m\u001b[0m\n",
      "\u001b[0;32m~/anaconda3/lib/python3.6/site-packages/pandas/core/generic.py\u001b[0m in \u001b[0;36mcopy\u001b[0;34m(self, deep)\u001b[0m\n\u001b[1;32m   4024\u001b[0m         \u001b[0mcopy\u001b[0m \u001b[0;34m:\u001b[0m \u001b[0mtype\u001b[0m \u001b[0mof\u001b[0m \u001b[0mcaller\u001b[0m\u001b[0;34m\u001b[0m\u001b[0m\n\u001b[1;32m   4025\u001b[0m         \"\"\"\n\u001b[0;32m-> 4026\u001b[0;31m         \u001b[0mdata\u001b[0m \u001b[0;34m=\u001b[0m \u001b[0mself\u001b[0m\u001b[0;34m.\u001b[0m\u001b[0m_data\u001b[0m\u001b[0;34m.\u001b[0m\u001b[0mcopy\u001b[0m\u001b[0;34m(\u001b[0m\u001b[0mdeep\u001b[0m\u001b[0;34m=\u001b[0m\u001b[0mdeep\u001b[0m\u001b[0;34m)\u001b[0m\u001b[0;34m\u001b[0m\u001b[0m\n\u001b[0m\u001b[1;32m   4027\u001b[0m         \u001b[0;32mreturn\u001b[0m \u001b[0mself\u001b[0m\u001b[0;34m.\u001b[0m\u001b[0m_constructor\u001b[0m\u001b[0;34m(\u001b[0m\u001b[0mdata\u001b[0m\u001b[0;34m)\u001b[0m\u001b[0;34m.\u001b[0m\u001b[0m__finalize__\u001b[0m\u001b[0;34m(\u001b[0m\u001b[0mself\u001b[0m\u001b[0;34m)\u001b[0m\u001b[0;34m\u001b[0m\u001b[0m\n\u001b[1;32m   4028\u001b[0m \u001b[0;34m\u001b[0m\u001b[0m\n",
      "\u001b[0;32m~/anaconda3/lib/python3.6/site-packages/pandas/core/internals.py\u001b[0m in \u001b[0;36mcopy\u001b[0;34m(self, deep, mgr)\u001b[0m\n\u001b[1;32m   3662\u001b[0m             \u001b[0mnew_axes\u001b[0m \u001b[0;34m=\u001b[0m \u001b[0mlist\u001b[0m\u001b[0;34m(\u001b[0m\u001b[0mself\u001b[0m\u001b[0;34m.\u001b[0m\u001b[0maxes\u001b[0m\u001b[0;34m)\u001b[0m\u001b[0;34m\u001b[0m\u001b[0m\n\u001b[1;32m   3663\u001b[0m         return self.apply('copy', axes=new_axes, deep=deep,\n\u001b[0;32m-> 3664\u001b[0;31m                           do_integrity_check=False)\n\u001b[0m\u001b[1;32m   3665\u001b[0m \u001b[0;34m\u001b[0m\u001b[0m\n\u001b[1;32m   3666\u001b[0m     \u001b[0;32mdef\u001b[0m \u001b[0mas_matrix\u001b[0m\u001b[0;34m(\u001b[0m\u001b[0mself\u001b[0m\u001b[0;34m,\u001b[0m \u001b[0mitems\u001b[0m\u001b[0;34m=\u001b[0m\u001b[0;32mNone\u001b[0m\u001b[0;34m)\u001b[0m\u001b[0;34m:\u001b[0m\u001b[0;34m\u001b[0m\u001b[0m\n",
      "\u001b[0;32m~/anaconda3/lib/python3.6/site-packages/pandas/core/internals.py\u001b[0m in \u001b[0;36mapply\u001b[0;34m(self, f, axes, filter, do_integrity_check, consolidate, **kwargs)\u001b[0m\n\u001b[1;32m   3327\u001b[0m \u001b[0;34m\u001b[0m\u001b[0m\n\u001b[1;32m   3328\u001b[0m             \u001b[0mkwargs\u001b[0m\u001b[0;34m[\u001b[0m\u001b[0;34m'mgr'\u001b[0m\u001b[0;34m]\u001b[0m \u001b[0;34m=\u001b[0m \u001b[0mself\u001b[0m\u001b[0;34m\u001b[0m\u001b[0m\n\u001b[0;32m-> 3329\u001b[0;31m             \u001b[0mapplied\u001b[0m \u001b[0;34m=\u001b[0m \u001b[0mgetattr\u001b[0m\u001b[0;34m(\u001b[0m\u001b[0mb\u001b[0m\u001b[0;34m,\u001b[0m \u001b[0mf\u001b[0m\u001b[0;34m)\u001b[0m\u001b[0;34m(\u001b[0m\u001b[0;34m**\u001b[0m\u001b[0mkwargs\u001b[0m\u001b[0;34m)\u001b[0m\u001b[0;34m\u001b[0m\u001b[0m\n\u001b[0m\u001b[1;32m   3330\u001b[0m             \u001b[0mresult_blocks\u001b[0m \u001b[0;34m=\u001b[0m \u001b[0m_extend_blocks\u001b[0m\u001b[0;34m(\u001b[0m\u001b[0mapplied\u001b[0m\u001b[0;34m,\u001b[0m \u001b[0mresult_blocks\u001b[0m\u001b[0;34m)\u001b[0m\u001b[0;34m\u001b[0m\u001b[0m\n\u001b[1;32m   3331\u001b[0m \u001b[0;34m\u001b[0m\u001b[0m\n",
      "\u001b[0;32m~/anaconda3/lib/python3.6/site-packages/pandas/core/internals.py\u001b[0m in \u001b[0;36mcopy\u001b[0;34m(self, deep, mgr)\u001b[0m\n\u001b[1;32m    734\u001b[0m         \u001b[0mvalues\u001b[0m \u001b[0;34m=\u001b[0m \u001b[0mself\u001b[0m\u001b[0;34m.\u001b[0m\u001b[0mvalues\u001b[0m\u001b[0;34m\u001b[0m\u001b[0m\n\u001b[1;32m    735\u001b[0m         \u001b[0;32mif\u001b[0m \u001b[0mdeep\u001b[0m\u001b[0;34m:\u001b[0m\u001b[0;34m\u001b[0m\u001b[0m\n\u001b[0;32m--> 736\u001b[0;31m             \u001b[0mvalues\u001b[0m \u001b[0;34m=\u001b[0m \u001b[0mvalues\u001b[0m\u001b[0;34m.\u001b[0m\u001b[0mcopy\u001b[0m\u001b[0;34m(\u001b[0m\u001b[0;34m)\u001b[0m\u001b[0;34m\u001b[0m\u001b[0m\n\u001b[0m\u001b[1;32m    737\u001b[0m         \u001b[0;32mreturn\u001b[0m \u001b[0mself\u001b[0m\u001b[0;34m.\u001b[0m\u001b[0mmake_block_same_class\u001b[0m\u001b[0;34m(\u001b[0m\u001b[0mvalues\u001b[0m\u001b[0;34m)\u001b[0m\u001b[0;34m\u001b[0m\u001b[0m\n\u001b[1;32m    738\u001b[0m \u001b[0;34m\u001b[0m\u001b[0m\n",
      "\u001b[0;31mMemoryError\u001b[0m: "
     ]
    }
   ],
   "source": [
    "# Shuffle de los elementos para que no queden todos los sepostulo true primero y los false al final\n",
    "postulaciones_postulantes_avisos = postulaciones_postulantes_avisos.sample(frac=1).reset_index(drop=True)"
   ]
  },
  {
   "cell_type": "code",
   "execution_count": null,
   "metadata": {},
   "outputs": [],
   "source": [
    "postulaciones_postulantes_avisos.to_csv('../data/X_train.csv', index=False, sep=',', encoding='utf-8')"
   ]
  },
  {
   "cell_type": "code",
   "execution_count": 8,
   "metadata": {},
   "outputs": [],
   "source": [
    "postulaciones_postulantes_avisos_test = pd.read_csv('../data/X_test.csv', sep=',', encoding='utf-8')"
   ]
  },
  {
   "cell_type": "code",
   "execution_count": 3,
   "metadata": {},
   "outputs": [],
   "source": [
    "target = postulaciones_postulantes_avisos[['sepostulo']]\n",
    "postulaciones_postulantes_avisos.drop('sepostulo', axis=1, inplace=True)"
   ]
  },
  {
   "cell_type": "code",
   "execution_count": 14,
   "metadata": {},
   "outputs": [
    {
     "name": "stdout",
     "output_type": "stream",
     "text": [
      "train shape: (26824, 45) | target shape: (26824, 1)\n",
      "test shape: (100000, 55)\n"
     ]
    }
   ],
   "source": [
    "print('train shape:',postulaciones_postulantes_avisos.shape,'| target shape:',target.shape)\n",
    "print('test shape:',postulaciones_postulantes_avisos_test.shape)"
   ]
  },
  {
   "cell_type": "raw",
   "metadata": {},
   "source": [
    "El de test tiene una columna mas por el id que identifica al par (idaviso, idpostulante)"
   ]
  },
  {
   "cell_type": "code",
   "execution_count": 4,
   "metadata": {},
   "outputs": [],
   "source": [
    "target.to_csv('../data/target.csv', index=False, sep=',', encoding='utf-8')"
   ]
  },
  {
   "cell_type": "code",
   "execution_count": 16,
   "metadata": {},
   "outputs": [],
   "source": [
    "postulaciones_postulantes_avisos_test.to_csv('../data/X_test.csv', index=False, sep=',', encoding='utf-8')"
   ]
  },
  {
   "cell_type": "code",
   "execution_count": 18,
   "metadata": {},
   "outputs": [
    {
     "name": "stdout",
     "output_type": "stream",
     "text": [
      "(26824, 1)\n",
      "(26824, 45)\n",
      "(100000, 55)\n"
     ]
    }
   ],
   "source": [
    "print(target.shape)\n",
    "print(postulaciones_postulantes_avisos.shape)\n",
    "print(postulaciones_postulantes_avisos_test.shape)"
   ]
  },
  {
   "cell_type": "code",
   "execution_count": null,
   "metadata": {},
   "outputs": [],
   "source": []
  }
 ],
 "metadata": {
  "kernelspec": {
   "display_name": "Python 3",
   "language": "python",
   "name": "python3"
  },
  "language_info": {
   "codemirror_mode": {
    "name": "ipython",
    "version": 3
   },
   "file_extension": ".py",
   "mimetype": "text/x-python",
   "name": "python",
   "nbconvert_exporter": "python",
   "pygments_lexer": "ipython3",
   "version": "3.6.4"
  }
 },
 "nbformat": 4,
 "nbformat_minor": 2
}
