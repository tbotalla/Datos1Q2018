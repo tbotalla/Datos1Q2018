{
 "cells": [
  {
   "cell_type": "code",
   "execution_count": 1,
   "metadata": {},
   "outputs": [],
   "source": [
    "import numpy as np \n",
    "import pandas as pd\n",
    "import datetime\n",
    "import calendar\n",
    "import matplotlib.pyplot as plt\n",
    "import seaborn as sns\n",
    "import re # regex\n",
    "from scipy.misc import imread\n",
    "#from wordcloud import WordCloud, STOPWORDS # Wordcloud: pip install wordcloud\n",
    "from collections import Counter\n",
    "\n",
    "%matplotlib inline\n",
    "pd.set_option('display.max_columns', None)"
   ]
  },
  {
   "cell_type": "markdown",
   "metadata": {},
   "source": [
    "# Sets para entrenar"
   ]
  },
  {
   "cell_type": "markdown",
   "metadata": {},
   "source": [
    "## Datos del TP 1"
   ]
  },
  {
   "cell_type": "code",
   "execution_count": 40,
   "metadata": {},
   "outputs": [],
   "source": [
    "postulantes_educacion_orig = pd.read_csv('../data/datos_navent_fiuba/fiuba_1_postulantes_educacion.csv', encoding='utf-8')\n",
    "postulantes_genero_edad_orig = pd.read_csv('../data/datos_navent_fiuba/fiuba_2_postulantes_genero_y_edad.csv', encoding='utf-8')\n",
    "vistas_orig = pd.read_csv('../data/datos_navent_fiuba/fiuba_3_vistas.csv', encoding='utf-8')\n",
    "postulaciones_orig = pd.read_csv('../data/datos_navent_fiuba/fiuba_4_postulaciones.csv', encoding='utf-8')\n",
    "avisos_online_orig = pd.read_csv('../data/datos_navent_fiuba/fiuba_5_avisos_online.csv', encoding='utf-8')\n",
    "avisos_detalle_orig = pd.read_csv('../data/datos_navent_fiuba/fiuba_6_avisos_detalle.csv', encoding='utf-8')"
   ]
  },
  {
   "cell_type": "markdown",
   "metadata": {},
   "source": [
    "## Datos hasta 15 abril"
   ]
  },
  {
   "cell_type": "code",
   "execution_count": 41,
   "metadata": {},
   "outputs": [],
   "source": [
    "postulantes_educacion_hasta_15_04 = pd.read_csv('../data/datos_navent_fiuba/fiuba_hasta_15_abril/entrega6/fiuba_1_postulantes_educacion.csv', encoding='utf-8')\n",
    "postulantes_genero_edad_hasta_15_04 = pd.read_csv('../data/datos_navent_fiuba/fiuba_hasta_15_abril/entrega6/fiuba_2_postulantes_genero_y_edad.csv', encoding='utf-8')\n",
    "vistas_hasta_15_04 = pd.read_csv('../data/datos_navent_fiuba/fiuba_hasta_15_abril/entrega6/fiuba_3_vistas.csv', encoding='utf-8')\n",
    "postulaciones_hasta_15_04 = pd.read_csv('../data/datos_navent_fiuba/fiuba_hasta_15_abril/entrega6/fiuba_4_postulaciones.csv', encoding='utf-8')\n",
    "avisos_online_hasta_15_04 = pd.read_csv('../data/datos_navent_fiuba/fiuba_hasta_15_abril/entrega6/fiuba_5_avisos_online.csv', encoding='utf-8')\n",
    "avisos_detalle_hasta_15_04 = pd.read_csv('../data/datos_navent_fiuba/fiuba_hasta_15_abril/entrega6/fiuba_6_avisos_detalle.csv', encoding='utf-8')"
   ]
  },
  {
   "cell_type": "markdown",
   "metadata": {},
   "source": [
    "# Sets para testear"
   ]
  },
  {
   "cell_type": "markdown",
   "metadata": {},
   "source": [
    "## Datos desde 15 abril"
   ]
  },
  {
   "cell_type": "code",
   "execution_count": 42,
   "metadata": {},
   "outputs": [],
   "source": [
    "postulantes_educacion_desde_15_04 = pd.read_csv('../data/datos_navent_fiuba/fiuba_desde_15_abril/Fiuba desde 15 Abril/fiuba_1_postulantes_educacion.csv', encoding='utf-8')\n",
    "postulantes_genero_edad_desde_15_04 = pd.read_csv('../data/datos_navent_fiuba/fiuba_desde_15_abril/Fiuba desde 15 Abril/fiuba_2_postulantes_genero_y_edad.csv', encoding='utf-8')\n",
    "vistas_desde_15_04 = pd.read_csv('../data/datos_navent_fiuba/fiuba_desde_15_abril/Fiuba desde 15 Abril/fiuba_3_vistas.csv', encoding='utf-8')\n",
    "avisos_detalle_desde_15_04 = pd.read_csv('../data/datos_navent_fiuba/fiuba_desde_15_abril/Fiuba desde 15 Abril/fiuba_6_avisos_detalle.csv', encoding='utf-8')"
   ]
  },
  {
   "cell_type": "markdown",
   "metadata": {},
   "source": [
    "## 338 faltantes"
   ]
  },
  {
   "cell_type": "code",
   "execution_count": 43,
   "metadata": {},
   "outputs": [],
   "source": [
    "# Estos registros solo aparecen en el set a predecir\n",
    "avisos_detalle_338_faltantes = pd.read_csv('../data/datos_navent_fiuba/338_faltantes/fiuba_6_avisos_detalle_missing_nivel_laboral.csv', encoding='utf-8')"
   ]
  },
  {
   "cell_type": "markdown",
   "metadata": {},
   "source": [
    "### Juntamos los 338 registros que faltan con el set a predecir"
   ]
  },
  {
   "cell_type": "code",
   "execution_count": 44,
   "metadata": {},
   "outputs": [
    {
     "name": "stdout",
     "output_type": "stream",
     "text": [
      "13798\n"
     ]
    }
   ],
   "source": [
    "print(len(avisos_detalle_desde_15_04))"
   ]
  },
  {
   "cell_type": "code",
   "execution_count": 45,
   "metadata": {},
   "outputs": [],
   "source": [
    "avisos_detalle_desde_15_04 = pd.concat([avisos_detalle_desde_15_04, avisos_detalle_338_faltantes])"
   ]
  },
  {
   "cell_type": "code",
   "execution_count": 46,
   "metadata": {},
   "outputs": [
    {
     "name": "stdout",
     "output_type": "stream",
     "text": [
      "14136\n"
     ]
    }
   ],
   "source": [
    "print(len(avisos_detalle_desde_15_04))"
   ]
  },
  {
   "cell_type": "markdown",
   "metadata": {},
   "source": [
    "## Unificamos los datos del TP 1 con los de hasta el 15 de abril"
   ]
  },
  {
   "cell_type": "markdown",
   "metadata": {},
   "source": [
    "### postulantes_educacion"
   ]
  },
  {
   "cell_type": "code",
   "execution_count": 47,
   "metadata": {},
   "outputs": [
    {
     "name": "stdout",
     "output_type": "stream",
     "text": [
      "Longitud original:  298231\n",
      "Longitud nuevo set:  407453\n",
      "Longitud concat:  705684\n",
      "Longitud unique:  568612\n"
     ]
    }
   ],
   "source": [
    "print('Longitud original: ', len(postulantes_educacion_orig))\n",
    "print('Longitud nuevo set: ', len(postulantes_educacion_hasta_15_04))\n",
    "postulantes_educacion = pd.concat([postulantes_educacion_orig, postulantes_educacion_hasta_15_04])\n",
    "print('Longitud concat: ', len(postulantes_educacion))\n",
    "\n",
    "# Eliminamos los duplicados. En este caso se considera duplicado si estas 3 columnas matchean\n",
    "postulantes_educacion.drop_duplicates(['idpostulante', 'nombre', 'estado'], keep='last', inplace=True)\n",
    "print('Longitud unique: ', len(postulantes_educacion))"
   ]
  },
  {
   "cell_type": "code",
   "execution_count": 48,
   "metadata": {},
   "outputs": [],
   "source": [
    "postulantes_educacion.to_csv('../data/1_postulantes_educacion.csv', index=False, sep=',', encoding='utf-8')"
   ]
  },
  {
   "cell_type": "markdown",
   "metadata": {},
   "source": [
    "### postulantes_genero_edad"
   ]
  },
  {
   "cell_type": "code",
   "execution_count": 49,
   "metadata": {},
   "outputs": [
    {
     "name": "stdout",
     "output_type": "stream",
     "text": [
      "Longitud original:  200888\n",
      "Longitud nuevo set:  297747\n",
      "Longitud concat:  498635\n",
      "Longitud unique:  408146\n"
     ]
    }
   ],
   "source": [
    "print('Longitud original: ', len(postulantes_genero_edad_orig))\n",
    "print('Longitud nuevo set: ', len(postulantes_genero_edad_hasta_15_04))\n",
    "postulantes_genero_edad = pd.concat([postulantes_genero_edad_orig, postulantes_genero_edad_hasta_15_04])\n",
    "print('Longitud concat: ', len(postulantes_genero_edad))\n",
    "\n",
    "# Eliminamos los duplicados. En este caso se considera duplicado si el idpostulante matchea\n",
    "postulantes_genero_edad.drop_duplicates(['idpostulante'], keep='last', inplace=True)\n",
    "print('Longitud unique: ', len(postulantes_genero_edad))"
   ]
  },
  {
   "cell_type": "code",
   "execution_count": 50,
   "metadata": {},
   "outputs": [],
   "source": [
    "postulantes_genero_edad.to_csv('../data/2_postulantes_genero_edad.csv', index=False, sep=',', encoding='utf-8')"
   ]
  },
  {
   "cell_type": "markdown",
   "metadata": {},
   "source": [
    "### vistas"
   ]
  },
  {
   "cell_type": "code",
   "execution_count": 51,
   "metadata": {},
   "outputs": [
    {
     "name": "stdout",
     "output_type": "stream",
     "text": [
      "Longitud original:  961897\n",
      "Longitud nuevo set:  5758686\n",
      "Longitud concat:  6720583\n",
      "Longitud unique:  6682591\n"
     ]
    }
   ],
   "source": [
    "print('Longitud original: ', len(vistas_orig))\n",
    "print('Longitud nuevo set: ', len(vistas_hasta_15_04))\n",
    "vistas = pd.concat([vistas_orig, vistas_hasta_15_04])\n",
    "print('Longitud concat: ', len(vistas))\n",
    "\n",
    "# Eliminamos los duplicados. En este caso se considera duplicado si estas 3 columnas matchean\n",
    "vistas.drop_duplicates(['idaviso', 'timestamp', 'idpostulante'], keep='last', inplace=True)\n",
    "print('Longitud unique: ', len(vistas))"
   ]
  },
  {
   "cell_type": "code",
   "execution_count": 52,
   "metadata": {},
   "outputs": [],
   "source": [
    "vistas.to_csv('../data/3_vistas.csv', index=False, sep=',', encoding='utf-8')"
   ]
  },
  {
   "cell_type": "markdown",
   "metadata": {},
   "source": [
    "### postulaciones"
   ]
  },
  {
   "cell_type": "code",
   "execution_count": 53,
   "metadata": {},
   "outputs": [
    {
     "name": "stdout",
     "output_type": "stream",
     "text": [
      "Longitud original:  3401623\n",
      "Longitud nuevo set:  4909641\n",
      "Longitud concat:  8311264\n",
      "Longitud unique:  6604534\n"
     ]
    }
   ],
   "source": [
    "print('Longitud original: ', len(postulaciones_orig))\n",
    "print('Longitud nuevo set: ', len(postulaciones_hasta_15_04))\n",
    "postulaciones = pd.concat([postulaciones_orig, postulaciones_hasta_15_04])\n",
    "print('Longitud concat: ', len(postulaciones))\n",
    "\n",
    "# Eliminamos los duplicados. En este caso se considera duplicado si estas 3 columnas matchean\n",
    "postulaciones.drop_duplicates(['idaviso', 'idpostulante', 'fechapostulacion'], keep='last', inplace=True)\n",
    "print('Longitud unique: ', len(postulaciones))"
   ]
  },
  {
   "cell_type": "code",
   "execution_count": 54,
   "metadata": {},
   "outputs": [],
   "source": [
    "postulaciones.to_csv('../data/4_postulaciones.csv', index=False, sep=',', encoding='utf-8')"
   ]
  },
  {
   "cell_type": "markdown",
   "metadata": {},
   "source": [
    "### avisos_online"
   ]
  },
  {
   "cell_type": "code",
   "execution_count": 55,
   "metadata": {},
   "outputs": [
    {
     "name": "stdout",
     "output_type": "stream",
     "text": [
      "Longitud original:  5028\n",
      "Longitud nuevo set:  4858\n",
      "Longitud concat:  9886\n",
      "Longitud unique:  9430\n"
     ]
    }
   ],
   "source": [
    "print('Longitud original: ', len(avisos_online_orig))\n",
    "print('Longitud nuevo set: ', len(avisos_online_hasta_15_04))\n",
    "avisos_online = pd.concat([avisos_online_orig, avisos_online_hasta_15_04])\n",
    "print('Longitud concat: ', len(avisos_online))\n",
    "\n",
    "# Eliminamos los duplicados. En este caso se considera duplicado si esta columna matchea\n",
    "avisos_online.drop_duplicates(['idaviso'], keep='last', inplace=True)\n",
    "print('Longitud unique: ', len(avisos_online))"
   ]
  },
  {
   "cell_type": "code",
   "execution_count": 56,
   "metadata": {},
   "outputs": [],
   "source": [
    "avisos_online.to_csv('../data/5_avisos_online.csv', index=False, sep=',', encoding='utf-8')"
   ]
  },
  {
   "cell_type": "markdown",
   "metadata": {},
   "source": [
    "### avisos_detalle"
   ]
  },
  {
   "cell_type": "code",
   "execution_count": 57,
   "metadata": {},
   "outputs": [
    {
     "name": "stdout",
     "output_type": "stream",
     "text": [
      "Longitud original:  13534\n",
      "Longitud nuevo set:  18299\n",
      "Longitud concat:  31833\n",
      "Longitud unique:  19632\n"
     ]
    }
   ],
   "source": [
    "print('Longitud original: ', len(avisos_detalle_orig))\n",
    "print('Longitud nuevo set: ', len(avisos_detalle_hasta_15_04))\n",
    "avisos_detalle = pd.concat([avisos_detalle_orig, avisos_detalle_hasta_15_04])\n",
    "print('Longitud concat: ', len(avisos_detalle))\n",
    "\n",
    "# Eliminamos los duplicados. En este caso se considera duplicado si matchean estas columnas (por no matchear todas)\n",
    "avisos_detalle.drop_duplicates(['idaviso', 'titulo', 'descripcion', 'nombre_zona', 'ciudad', 'tipo_de_trabajo', 'nivel_laboral'], keep='last', inplace=True)\n",
    "print('Longitud unique: ', len(avisos_detalle))"
   ]
  },
  {
   "cell_type": "code",
   "execution_count": 58,
   "metadata": {},
   "outputs": [],
   "source": [
    "avisos_detalle.to_csv('../data/6_avisos_detalle.csv', index=False, sep=',', encoding='utf-8')"
   ]
  },
  {
   "cell_type": "markdown",
   "metadata": {},
   "source": [
    "## Postulantes unificados de todas las fechas"
   ]
  },
  {
   "cell_type": "code",
   "execution_count": 59,
   "metadata": {},
   "outputs": [
    {
     "name": "stdout",
     "output_type": "stream",
     "text": [
      "568612\n",
      "408146\n"
     ]
    }
   ],
   "source": [
    "print(len(postulantes_educacion))\n",
    "print(len(postulantes_genero_edad))"
   ]
  },
  {
   "cell_type": "code",
   "execution_count": 60,
   "metadata": {},
   "outputs": [],
   "source": [
    "postulantes = pd.merge(postulantes_educacion, postulantes_genero_edad, on='idpostulante', how='outer')\n",
    "postulantes_test = pd.merge(postulantes_educacion_hasta_15_04, postulantes_genero_edad_hasta_15_04, on='idpostulante', how='outer')"
   ]
  },
  {
   "cell_type": "code",
   "execution_count": 61,
   "metadata": {},
   "outputs": [
    {
     "name": "stdout",
     "output_type": "stream",
     "text": [
      "610363\n"
     ]
    }
   ],
   "source": [
    "print(len(postulantes))"
   ]
  },
  {
   "cell_type": "code",
   "execution_count": 62,
   "metadata": {},
   "outputs": [
    {
     "data": {
      "text/html": [
       "<div>\n",
       "<style scoped>\n",
       "    .dataframe tbody tr th:only-of-type {\n",
       "        vertical-align: middle;\n",
       "    }\n",
       "\n",
       "    .dataframe tbody tr th {\n",
       "        vertical-align: top;\n",
       "    }\n",
       "\n",
       "    .dataframe thead th {\n",
       "        text-align: right;\n",
       "    }\n",
       "</style>\n",
       "<table border=\"1\" class=\"dataframe\">\n",
       "  <thead>\n",
       "    <tr style=\"text-align: right;\">\n",
       "      <th></th>\n",
       "      <th>idpostulante</th>\n",
       "      <th>nombre</th>\n",
       "      <th>estado</th>\n",
       "      <th>fechanacimiento</th>\n",
       "      <th>sexo</th>\n",
       "    </tr>\n",
       "  </thead>\n",
       "  <tbody>\n",
       "    <tr>\n",
       "      <th>0</th>\n",
       "      <td>8BkL</td>\n",
       "      <td>Universitario</td>\n",
       "      <td>En Curso</td>\n",
       "      <td>1976-07-21</td>\n",
       "      <td>FEM</td>\n",
       "    </tr>\n",
       "    <tr>\n",
       "      <th>1</th>\n",
       "      <td>8BkL</td>\n",
       "      <td>Universitario</td>\n",
       "      <td>Graduado</td>\n",
       "      <td>1976-07-21</td>\n",
       "      <td>FEM</td>\n",
       "    </tr>\n",
       "    <tr>\n",
       "      <th>2</th>\n",
       "      <td>8BkL</td>\n",
       "      <td>Posgrado</td>\n",
       "      <td>Graduado</td>\n",
       "      <td>1976-07-21</td>\n",
       "      <td>FEM</td>\n",
       "    </tr>\n",
       "    <tr>\n",
       "      <th>3</th>\n",
       "      <td>8BkL</td>\n",
       "      <td>Master</td>\n",
       "      <td>Graduado</td>\n",
       "      <td>1976-07-21</td>\n",
       "      <td>FEM</td>\n",
       "    </tr>\n",
       "    <tr>\n",
       "      <th>4</th>\n",
       "      <td>1d2B</td>\n",
       "      <td>Universitario</td>\n",
       "      <td>En Curso</td>\n",
       "      <td>1976-02-28</td>\n",
       "      <td>MASC</td>\n",
       "    </tr>\n",
       "    <tr>\n",
       "      <th>5</th>\n",
       "      <td>Ym2X</td>\n",
       "      <td>Otro</td>\n",
       "      <td>En Curso</td>\n",
       "      <td>1964-01-19</td>\n",
       "      <td>MASC</td>\n",
       "    </tr>\n",
       "    <tr>\n",
       "      <th>6</th>\n",
       "      <td>Ym2X</td>\n",
       "      <td>Universitario</td>\n",
       "      <td>Graduado</td>\n",
       "      <td>1964-01-19</td>\n",
       "      <td>MASC</td>\n",
       "    </tr>\n",
       "    <tr>\n",
       "      <th>7</th>\n",
       "      <td>6M3jr</td>\n",
       "      <td>Universitario</td>\n",
       "      <td>En Curso</td>\n",
       "      <td>1975-11-03</td>\n",
       "      <td>MASC</td>\n",
       "    </tr>\n",
       "    <tr>\n",
       "      <th>8</th>\n",
       "      <td>Z85B5</td>\n",
       "      <td>Universitario</td>\n",
       "      <td>En Curso</td>\n",
       "      <td>1976-04-27</td>\n",
       "      <td>FEM</td>\n",
       "    </tr>\n",
       "    <tr>\n",
       "      <th>9</th>\n",
       "      <td>Z85B5</td>\n",
       "      <td>Terciario/Técnico</td>\n",
       "      <td>Graduado</td>\n",
       "      <td>1976-04-27</td>\n",
       "      <td>FEM</td>\n",
       "    </tr>\n",
       "  </tbody>\n",
       "</table>\n",
       "</div>"
      ],
      "text/plain": [
       "  idpostulante             nombre    estado fechanacimiento  sexo\n",
       "0         8BkL      Universitario  En Curso      1976-07-21   FEM\n",
       "1         8BkL      Universitario  Graduado      1976-07-21   FEM\n",
       "2         8BkL           Posgrado  Graduado      1976-07-21   FEM\n",
       "3         8BkL             Master  Graduado      1976-07-21   FEM\n",
       "4         1d2B      Universitario  En Curso      1976-02-28  MASC\n",
       "5         Ym2X               Otro  En Curso      1964-01-19  MASC\n",
       "6         Ym2X      Universitario  Graduado      1964-01-19  MASC\n",
       "7        6M3jr      Universitario  En Curso      1975-11-03  MASC\n",
       "8        Z85B5      Universitario  En Curso      1976-04-27   FEM\n",
       "9        Z85B5  Terciario/Técnico  Graduado      1976-04-27   FEM"
      ]
     },
     "execution_count": 62,
     "metadata": {},
     "output_type": "execute_result"
    }
   ],
   "source": [
    "postulantes.head(10)"
   ]
  },
  {
   "cell_type": "code",
   "execution_count": 63,
   "metadata": {},
   "outputs": [
    {
     "name": "stdout",
     "output_type": "stream",
     "text": [
      "610363\n",
      "441412\n"
     ]
    }
   ],
   "source": [
    "print(len(postulantes))\n",
    "print(len(postulantes_test))"
   ]
  },
  {
   "cell_type": "code",
   "execution_count": 64,
   "metadata": {},
   "outputs": [
    {
     "data": {
      "text/plain": [
       "idpostulante       False\n",
       "nombre              True\n",
       "estado              True\n",
       "fechanacimiento     True\n",
       "sexo               False\n",
       "dtype: bool"
      ]
     },
     "execution_count": 64,
     "metadata": {},
     "output_type": "execute_result"
    }
   ],
   "source": [
    "postulantes.isnull().any()"
   ]
  },
  {
   "cell_type": "code",
   "execution_count": 65,
   "metadata": {},
   "outputs": [
    {
     "data": {
      "text/plain": [
       "idpostulante       False\n",
       "nombre              True\n",
       "estado              True\n",
       "fechanacimiento     True\n",
       "sexo               False\n",
       "dtype: bool"
      ]
     },
     "execution_count": 65,
     "metadata": {},
     "output_type": "execute_result"
    }
   ],
   "source": [
    "postulantes_test.isnull().any()"
   ]
  },
  {
   "cell_type": "code",
   "execution_count": 66,
   "metadata": {},
   "outputs": [],
   "source": [
    "postulantes_joined = pd.concat([postulantes, postulantes_test])"
   ]
  },
  {
   "cell_type": "code",
   "execution_count": 67,
   "metadata": {},
   "outputs": [
    {
     "data": {
      "text/plain": [
       "1051775"
      ]
     },
     "execution_count": 67,
     "metadata": {},
     "output_type": "execute_result"
    }
   ],
   "source": [
    "len(postulantes_joined)"
   ]
  },
  {
   "cell_type": "code",
   "execution_count": 68,
   "metadata": {},
   "outputs": [
    {
     "data": {
      "text/html": [
       "<div>\n",
       "<style scoped>\n",
       "    .dataframe tbody tr th:only-of-type {\n",
       "        vertical-align: middle;\n",
       "    }\n",
       "\n",
       "    .dataframe tbody tr th {\n",
       "        vertical-align: top;\n",
       "    }\n",
       "\n",
       "    .dataframe thead th {\n",
       "        text-align: right;\n",
       "    }\n",
       "</style>\n",
       "<table border=\"1\" class=\"dataframe\">\n",
       "  <thead>\n",
       "    <tr style=\"text-align: right;\">\n",
       "      <th></th>\n",
       "      <th>idpostulante</th>\n",
       "      <th>nombre</th>\n",
       "      <th>estado</th>\n",
       "      <th>fechanacimiento</th>\n",
       "      <th>sexo</th>\n",
       "    </tr>\n",
       "  </thead>\n",
       "  <tbody>\n",
       "    <tr>\n",
       "      <th>0</th>\n",
       "      <td>8BkL</td>\n",
       "      <td>Universitario</td>\n",
       "      <td>En Curso</td>\n",
       "      <td>1976-07-21</td>\n",
       "      <td>FEM</td>\n",
       "    </tr>\n",
       "    <tr>\n",
       "      <th>1</th>\n",
       "      <td>8BkL</td>\n",
       "      <td>Universitario</td>\n",
       "      <td>Graduado</td>\n",
       "      <td>1976-07-21</td>\n",
       "      <td>FEM</td>\n",
       "    </tr>\n",
       "    <tr>\n",
       "      <th>2</th>\n",
       "      <td>8BkL</td>\n",
       "      <td>Posgrado</td>\n",
       "      <td>Graduado</td>\n",
       "      <td>1976-07-21</td>\n",
       "      <td>FEM</td>\n",
       "    </tr>\n",
       "    <tr>\n",
       "      <th>3</th>\n",
       "      <td>8BkL</td>\n",
       "      <td>Master</td>\n",
       "      <td>Graduado</td>\n",
       "      <td>1976-07-21</td>\n",
       "      <td>FEM</td>\n",
       "    </tr>\n",
       "    <tr>\n",
       "      <th>9768</th>\n",
       "      <td>8BkL</td>\n",
       "      <td>Universitario</td>\n",
       "      <td>Graduado</td>\n",
       "      <td>1976-07-21</td>\n",
       "      <td>FEM</td>\n",
       "    </tr>\n",
       "    <tr>\n",
       "      <th>9769</th>\n",
       "      <td>8BkL</td>\n",
       "      <td>Posgrado</td>\n",
       "      <td>Graduado</td>\n",
       "      <td>1976-07-21</td>\n",
       "      <td>FEM</td>\n",
       "    </tr>\n",
       "    <tr>\n",
       "      <th>9770</th>\n",
       "      <td>8BkL</td>\n",
       "      <td>Master</td>\n",
       "      <td>Graduado</td>\n",
       "      <td>1976-07-21</td>\n",
       "      <td>FEM</td>\n",
       "    </tr>\n",
       "  </tbody>\n",
       "</table>\n",
       "</div>"
      ],
      "text/plain": [
       "     idpostulante         nombre    estado fechanacimiento sexo\n",
       "0            8BkL  Universitario  En Curso      1976-07-21  FEM\n",
       "1            8BkL  Universitario  Graduado      1976-07-21  FEM\n",
       "2            8BkL       Posgrado  Graduado      1976-07-21  FEM\n",
       "3            8BkL         Master  Graduado      1976-07-21  FEM\n",
       "9768         8BkL  Universitario  Graduado      1976-07-21  FEM\n",
       "9769         8BkL       Posgrado  Graduado      1976-07-21  FEM\n",
       "9770         8BkL         Master  Graduado      1976-07-21  FEM"
      ]
     },
     "execution_count": 68,
     "metadata": {},
     "output_type": "execute_result"
    }
   ],
   "source": [
    "postulantes_joined[postulantes_joined['idpostulante'] == '8BkL']"
   ]
  },
  {
   "cell_type": "code",
   "execution_count": 69,
   "metadata": {},
   "outputs": [],
   "source": [
    "postulantes_joined.drop_duplicates(subset = ['idpostulante', 'nombre', 'estado', 'fechanacimiento', 'sexo'], keep = 'last', inplace = True)"
   ]
  },
  {
   "cell_type": "code",
   "execution_count": 70,
   "metadata": {},
   "outputs": [
    {
     "data": {
      "text/plain": [
       "610394"
      ]
     },
     "execution_count": 70,
     "metadata": {},
     "output_type": "execute_result"
    }
   ],
   "source": [
    "len(postulantes_joined)"
   ]
  },
  {
   "cell_type": "code",
   "execution_count": 71,
   "metadata": {},
   "outputs": [
    {
     "data": {
      "text/plain": [
       "idpostulante       False\n",
       "nombre              True\n",
       "estado              True\n",
       "fechanacimiento     True\n",
       "sexo               False\n",
       "dtype: bool"
      ]
     },
     "execution_count": 71,
     "metadata": {},
     "output_type": "execute_result"
    }
   ],
   "source": [
    "postulantes_joined.isnull().any()"
   ]
  },
  {
   "cell_type": "code",
   "execution_count": 72,
   "metadata": {},
   "outputs": [],
   "source": [
    "postulantes_joined.to_csv('../data/postulantes_joined.csv', index=False, sep=',', encoding='utf-8')"
   ]
  },
  {
   "cell_type": "markdown",
   "metadata": {},
   "source": [
    "## Avisos unificados de todas las fechas"
   ]
  },
  {
   "cell_type": "code",
   "execution_count": 73,
   "metadata": {},
   "outputs": [
    {
     "name": "stdout",
     "output_type": "stream",
     "text": [
      "19632\n"
     ]
    },
    {
     "data": {
      "text/html": [
       "<div>\n",
       "<style scoped>\n",
       "    .dataframe tbody tr th:only-of-type {\n",
       "        vertical-align: middle;\n",
       "    }\n",
       "\n",
       "    .dataframe tbody tr th {\n",
       "        vertical-align: top;\n",
       "    }\n",
       "\n",
       "    .dataframe thead th {\n",
       "        text-align: right;\n",
       "    }\n",
       "</style>\n",
       "<table border=\"1\" class=\"dataframe\">\n",
       "  <thead>\n",
       "    <tr style=\"text-align: right;\">\n",
       "      <th></th>\n",
       "      <th>idaviso</th>\n",
       "      <th>idpais</th>\n",
       "      <th>titulo</th>\n",
       "      <th>descripcion</th>\n",
       "      <th>nombre_zona</th>\n",
       "      <th>ciudad</th>\n",
       "      <th>mapacalle</th>\n",
       "      <th>tipo_de_trabajo</th>\n",
       "      <th>nivel_laboral</th>\n",
       "      <th>nombre_area</th>\n",
       "      <th>denominacion_empresa</th>\n",
       "    </tr>\n",
       "  </thead>\n",
       "  <tbody>\n",
       "    <tr>\n",
       "      <th>1</th>\n",
       "      <td>17903700</td>\n",
       "      <td>1</td>\n",
       "      <td>Enfermeras</td>\n",
       "      <td>&lt;p&gt;Solicitamos para importante cadena de farma...</td>\n",
       "      <td>Gran Buenos Aires</td>\n",
       "      <td>NaN</td>\n",
       "      <td>NaN</td>\n",
       "      <td>Full-time</td>\n",
       "      <td>Senior / Semi-Senior</td>\n",
       "      <td>Salud</td>\n",
       "      <td>Farmacias Central Oeste</td>\n",
       "    </tr>\n",
       "  </tbody>\n",
       "</table>\n",
       "</div>"
      ],
      "text/plain": [
       "    idaviso  idpais      titulo  \\\n",
       "1  17903700       1  Enfermeras   \n",
       "\n",
       "                                         descripcion        nombre_zona  \\\n",
       "1  <p>Solicitamos para importante cadena de farma...  Gran Buenos Aires   \n",
       "\n",
       "  ciudad mapacalle tipo_de_trabajo         nivel_laboral nombre_area  \\\n",
       "1    NaN       NaN       Full-time  Senior / Semi-Senior       Salud   \n",
       "\n",
       "      denominacion_empresa  \n",
       "1  Farmacias Central Oeste  "
      ]
     },
     "execution_count": 73,
     "metadata": {},
     "output_type": "execute_result"
    }
   ],
   "source": [
    "print(len(avisos_detalle))\n",
    "avisos_detalle.head(1)"
   ]
  },
  {
   "cell_type": "code",
   "execution_count": 74,
   "metadata": {},
   "outputs": [
    {
     "name": "stdout",
     "output_type": "stream",
     "text": [
      "14136\n"
     ]
    },
    {
     "data": {
      "text/html": [
       "<div>\n",
       "<style scoped>\n",
       "    .dataframe tbody tr th:only-of-type {\n",
       "        vertical-align: middle;\n",
       "    }\n",
       "\n",
       "    .dataframe tbody tr th {\n",
       "        vertical-align: top;\n",
       "    }\n",
       "\n",
       "    .dataframe thead th {\n",
       "        text-align: right;\n",
       "    }\n",
       "</style>\n",
       "<table border=\"1\" class=\"dataframe\">\n",
       "  <thead>\n",
       "    <tr style=\"text-align: right;\">\n",
       "      <th></th>\n",
       "      <th>idaviso</th>\n",
       "      <th>idpais</th>\n",
       "      <th>titulo</th>\n",
       "      <th>descripcion</th>\n",
       "      <th>nombre_zona</th>\n",
       "      <th>ciudad</th>\n",
       "      <th>mapacalle</th>\n",
       "      <th>tipo_de_trabajo</th>\n",
       "      <th>nivel_laboral</th>\n",
       "      <th>nombre_area</th>\n",
       "      <th>denominacion_empresa</th>\n",
       "    </tr>\n",
       "  </thead>\n",
       "  <tbody>\n",
       "    <tr>\n",
       "      <th>0</th>\n",
       "      <td>1573840</td>\n",
       "      <td>1</td>\n",
       "      <td>VENDEDORA/O</td>\n",
       "      <td>Nuestra Búsqueda se orienta a la incorporación...</td>\n",
       "      <td>Capital Federal</td>\n",
       "      <td>Flores</td>\n",
       "      <td>NaN</td>\n",
       "      <td>Full-time</td>\n",
       "      <td>Otro</td>\n",
       "      <td>Ventas</td>\n",
       "      <td>RIBEIRO SUC. FLORES</td>\n",
       "    </tr>\n",
       "  </tbody>\n",
       "</table>\n",
       "</div>"
      ],
      "text/plain": [
       "   idaviso  idpais       titulo  \\\n",
       "0  1573840       1  VENDEDORA/O   \n",
       "\n",
       "                                         descripcion      nombre_zona  ciudad  \\\n",
       "0  Nuestra Búsqueda se orienta a la incorporación...  Capital Federal  Flores   \n",
       "\n",
       "  mapacalle tipo_de_trabajo nivel_laboral nombre_area denominacion_empresa  \n",
       "0       NaN       Full-time          Otro      Ventas  RIBEIRO SUC. FLORES  "
      ]
     },
     "execution_count": 74,
     "metadata": {},
     "output_type": "execute_result"
    }
   ],
   "source": [
    "print(len(avisos_detalle_desde_15_04))\n",
    "avisos_detalle_desde_15_04.head(1)"
   ]
  },
  {
   "cell_type": "code",
   "execution_count": 75,
   "metadata": {},
   "outputs": [],
   "source": [
    "avisos_detalle_joined = pd.concat([avisos_detalle, avisos_detalle_desde_15_04])"
   ]
  },
  {
   "cell_type": "code",
   "execution_count": 76,
   "metadata": {},
   "outputs": [
    {
     "data": {
      "text/plain": [
       "33768"
      ]
     },
     "execution_count": 76,
     "metadata": {},
     "output_type": "execute_result"
    }
   ],
   "source": [
    "len(avisos_detalle_joined)"
   ]
  },
  {
   "cell_type": "code",
   "execution_count": 77,
   "metadata": {},
   "outputs": [],
   "source": [
    "avisos_detalle_joined.drop_duplicates(subset = ['idaviso', 'tituloa', 'descripcion', 'nombre_area'], keep = 'last',inplace = True)"
   ]
  },
  {
   "cell_type": "code",
   "execution_count": 78,
   "metadata": {},
   "outputs": [
    {
     "data": {
      "text/plain": [
       "25743"
      ]
     },
     "execution_count": 78,
     "metadata": {},
     "output_type": "execute_result"
    }
   ],
   "source": [
    "len(avisos_detalle_joined)"
   ]
  },
  {
   "cell_type": "code",
   "execution_count": 79,
   "metadata": {},
   "outputs": [
    {
     "data": {
      "text/plain": [
       "idaviso                 False\n",
       "idpais                  False\n",
       "titulo                  False\n",
       "descripcion             False\n",
       "nombre_zona             False\n",
       "ciudad                   True\n",
       "mapacalle                True\n",
       "tipo_de_trabajo         False\n",
       "nivel_laboral            True\n",
       "nombre_area             False\n",
       "denominacion_empresa     True\n",
       "dtype: bool"
      ]
     },
     "execution_count": 79,
     "metadata": {},
     "output_type": "execute_result"
    }
   ],
   "source": [
    "avisos_detalle_joined.isnull().any()"
   ]
  },
  {
   "cell_type": "code",
   "execution_count": 80,
   "metadata": {},
   "outputs": [
    {
     "data": {
      "text/html": [
       "<div>\n",
       "<style scoped>\n",
       "    .dataframe tbody tr th:only-of-type {\n",
       "        vertical-align: middle;\n",
       "    }\n",
       "\n",
       "    .dataframe tbody tr th {\n",
       "        vertical-align: top;\n",
       "    }\n",
       "\n",
       "    .dataframe thead th {\n",
       "        text-align: right;\n",
       "    }\n",
       "</style>\n",
       "<table border=\"1\" class=\"dataframe\">\n",
       "  <thead>\n",
       "    <tr style=\"text-align: right;\">\n",
       "      <th></th>\n",
       "      <th>idaviso</th>\n",
       "      <th>idpais</th>\n",
       "      <th>titulo</th>\n",
       "      <th>descripcion</th>\n",
       "      <th>nombre_zona</th>\n",
       "      <th>ciudad</th>\n",
       "      <th>mapacalle</th>\n",
       "      <th>tipo_de_trabajo</th>\n",
       "      <th>nivel_laboral</th>\n",
       "      <th>nombre_area</th>\n",
       "      <th>denominacion_empresa</th>\n",
       "    </tr>\n",
       "  </thead>\n",
       "  <tbody>\n",
       "    <tr>\n",
       "      <th>1</th>\n",
       "      <td>17903700</td>\n",
       "      <td>1</td>\n",
       "      <td>Enfermeras</td>\n",
       "      <td>&lt;p&gt;Solicitamos para importante cadena de farma...</td>\n",
       "      <td>Gran Buenos Aires</td>\n",
       "      <td>NaN</td>\n",
       "      <td>NaN</td>\n",
       "      <td>Full-time</td>\n",
       "      <td>Senior / Semi-Senior</td>\n",
       "      <td>Salud</td>\n",
       "      <td>Farmacias Central Oeste</td>\n",
       "    </tr>\n",
       "    <tr>\n",
       "      <th>2</th>\n",
       "      <td>1000150677</td>\n",
       "      <td>1</td>\n",
       "      <td>Chofer de taxi</td>\n",
       "      <td>&lt;p&gt;TE GUSTA MANEJAR? QUERES GANAR PLATA HACIEN...</td>\n",
       "      <td>Capital Federal</td>\n",
       "      <td>NaN</td>\n",
       "      <td>Empedrado 2336</td>\n",
       "      <td>Full-time</td>\n",
       "      <td>Senior / Semi-Senior</td>\n",
       "      <td>Transporte</td>\n",
       "      <td>FAMITAX SRL</td>\n",
       "    </tr>\n",
       "    <tr>\n",
       "      <th>4</th>\n",
       "      <td>1000872556</td>\n",
       "      <td>1</td>\n",
       "      <td>Operarios de Planta - Rubro Electrodomésticos</td>\n",
       "      <td>&lt;p&gt;&lt;strong&gt;OPERARIOS DE PLANTA&lt;/strong&gt;&lt;/p&gt;&lt;p&gt;...</td>\n",
       "      <td>Gran Buenos Aires</td>\n",
       "      <td>NaN</td>\n",
       "      <td>NaN</td>\n",
       "      <td>Full-time</td>\n",
       "      <td>Senior / Semi-Senior</td>\n",
       "      <td>Producción</td>\n",
       "      <td>ELECTRO OUTLET SRL</td>\n",
       "    </tr>\n",
       "  </tbody>\n",
       "</table>\n",
       "</div>"
      ],
      "text/plain": [
       "      idaviso  idpais                                         titulo  \\\n",
       "1    17903700       1                                     Enfermeras   \n",
       "2  1000150677       1                                 Chofer de taxi   \n",
       "4  1000872556       1  Operarios de Planta - Rubro Electrodomésticos   \n",
       "\n",
       "                                         descripcion        nombre_zona  \\\n",
       "1  <p>Solicitamos para importante cadena de farma...  Gran Buenos Aires   \n",
       "2  <p>TE GUSTA MANEJAR? QUERES GANAR PLATA HACIEN...    Capital Federal   \n",
       "4  <p><strong>OPERARIOS DE PLANTA</strong></p><p>...  Gran Buenos Aires   \n",
       "\n",
       "  ciudad       mapacalle tipo_de_trabajo         nivel_laboral nombre_area  \\\n",
       "1    NaN             NaN       Full-time  Senior / Semi-Senior       Salud   \n",
       "2    NaN  Empedrado 2336       Full-time  Senior / Semi-Senior  Transporte   \n",
       "4    NaN             NaN       Full-time  Senior / Semi-Senior  Producción   \n",
       "\n",
       "      denominacion_empresa  \n",
       "1  Farmacias Central Oeste  \n",
       "2              FAMITAX SRL  \n",
       "4       ELECTRO OUTLET SRL  "
      ]
     },
     "execution_count": 80,
     "metadata": {},
     "output_type": "execute_result"
    }
   ],
   "source": [
    "avisos_detalle_joined.head(3)"
   ]
  },
  {
   "cell_type": "code",
   "execution_count": 81,
   "metadata": {},
   "outputs": [],
   "source": [
    "avisos_detalle_joined.to_csv('../data/avisos_detalle_joined.csv', index=False, sep=',', encoding='utf-8')"
   ]
  },
  {
   "cell_type": "markdown",
   "metadata": {},
   "source": [
    "# Limpieza/transformacion de datos"
   ]
  },
  {
   "cell_type": "markdown",
   "metadata": {},
   "source": [
    "### Aplicamos las transformaciones tanto al set para entrenar como al que se va a usar para testear"
   ]
  },
  {
   "cell_type": "code",
   "execution_count": 82,
   "metadata": {},
   "outputs": [],
   "source": [
    "postulantes_joined = pd.read_csv('../data/postulantes_joined.csv', sep=',', encoding='utf-8')\n",
    "vistas_train = pd.read_csv('../data/3_vistas_train.csv', sep=',', encoding='utf-8')\n",
    "postulaciones_train = pd.read_csv('../data/4_postulaciones_train.csv', sep=',', encoding='utf-8')\n",
    "avisos_online_train = pd.read_csv('../data/5_avisos_online_train.csv', sep=',', encoding='utf-8')\n",
    "avisos_detalle_joined = pd.read_csv('../data/avisos_detalle_joined.csv', sep=',', encoding='utf-8')"
   ]
  },
  {
   "cell_type": "markdown",
   "metadata": {},
   "source": [
    "#### Transfomaciones para postulantes"
   ]
  },
  {
   "cell_type": "code",
   "execution_count": 83,
   "metadata": {},
   "outputs": [],
   "source": [
    "postulantes_joined.rename(columns={'nombre':'nombre_estudio','estado':'estado_estudio'}, inplace=True)"
   ]
  },
  {
   "cell_type": "code",
   "execution_count": 84,
   "metadata": {},
   "outputs": [
    {
     "data": {
      "text/html": [
       "<div>\n",
       "<style scoped>\n",
       "    .dataframe tbody tr th:only-of-type {\n",
       "        vertical-align: middle;\n",
       "    }\n",
       "\n",
       "    .dataframe tbody tr th {\n",
       "        vertical-align: top;\n",
       "    }\n",
       "\n",
       "    .dataframe thead th {\n",
       "        text-align: right;\n",
       "    }\n",
       "</style>\n",
       "<table border=\"1\" class=\"dataframe\">\n",
       "  <thead>\n",
       "    <tr style=\"text-align: right;\">\n",
       "      <th></th>\n",
       "      <th>idpostulante</th>\n",
       "      <th>nombre_estudio</th>\n",
       "      <th>estado_estudio</th>\n",
       "      <th>fechanacimiento</th>\n",
       "      <th>sexo</th>\n",
       "    </tr>\n",
       "  </thead>\n",
       "  <tbody>\n",
       "    <tr>\n",
       "      <th>0</th>\n",
       "      <td>8BkL</td>\n",
       "      <td>Universitario</td>\n",
       "      <td>En Curso</td>\n",
       "      <td>1976-07-21</td>\n",
       "      <td>FEM</td>\n",
       "    </tr>\n",
       "  </tbody>\n",
       "</table>\n",
       "</div>"
      ],
      "text/plain": [
       "  idpostulante nombre_estudio estado_estudio fechanacimiento sexo\n",
       "0         8BkL  Universitario       En Curso      1976-07-21  FEM"
      ]
     },
     "execution_count": 84,
     "metadata": {},
     "output_type": "execute_result"
    }
   ],
   "source": [
    "postulantes_joined.head(1)"
   ]
  },
  {
   "cell_type": "raw",
   "metadata": {},
   "source": [
    "Obtenemos el maximo nivel de educacion para cada postulante"
   ]
  },
  {
   "cell_type": "code",
   "execution_count": 85,
   "metadata": {},
   "outputs": [
    {
     "data": {
      "text/plain": [
       "610394"
      ]
     },
     "execution_count": 85,
     "metadata": {},
     "output_type": "execute_result"
    }
   ],
   "source": [
    "len(postulantes_joined)"
   ]
  },
  {
   "cell_type": "code",
   "execution_count": 86,
   "metadata": {},
   "outputs": [
    {
     "name": "stdout",
     "output_type": "stream",
     "text": [
      "Existen datos de 408146 postulantes distintos\n"
     ]
    }
   ],
   "source": [
    "print('Existen datos de', postulantes_joined['idpostulante'].value_counts().size, 'postulantes distintos')"
   ]
  },
  {
   "cell_type": "code",
   "execution_count": 87,
   "metadata": {},
   "outputs": [
    {
     "data": {
      "text/plain": [
       "idpostulante       False\n",
       "nombre_estudio      True\n",
       "estado_estudio      True\n",
       "fechanacimiento     True\n",
       "sexo               False\n",
       "dtype: bool"
      ]
     },
     "execution_count": 87,
     "metadata": {},
     "output_type": "execute_result"
    }
   ],
   "source": [
    "postulantes_joined.isnull().any()"
   ]
  },
  {
   "cell_type": "code",
   "execution_count": 88,
   "metadata": {},
   "outputs": [
    {
     "data": {
      "text/plain": [
       "False"
      ]
     },
     "execution_count": 88,
     "metadata": {},
     "output_type": "execute_result"
    }
   ],
   "source": [
    "most_freq_nombre_estudio = postulantes_joined.nombre_estudio.mode()[0]\n",
    "postulantes_joined.nombre_estudio.fillna(most_freq_nombre_estudio,inplace=True)\n",
    "postulantes_joined.nombre_estudio.isnull().any()"
   ]
  },
  {
   "cell_type": "code",
   "execution_count": 89,
   "metadata": {},
   "outputs": [
    {
     "data": {
      "text/plain": [
       "False"
      ]
     },
     "execution_count": 89,
     "metadata": {},
     "output_type": "execute_result"
    }
   ],
   "source": [
    "most_freq_estado_estudio = postulantes_joined.estado_estudio.mode()[0]\n",
    "postulantes_joined.estado_estudio.fillna(most_freq_estado_estudio,inplace=True)\n",
    "postulantes_joined.estado_estudio.isnull().any()"
   ]
  },
  {
   "cell_type": "code",
   "execution_count": 90,
   "metadata": {},
   "outputs": [
    {
     "data": {
      "text/plain": [
       "idpostulante       False\n",
       "nombre_estudio     False\n",
       "estado_estudio     False\n",
       "fechanacimiento     True\n",
       "sexo               False\n",
       "dtype: bool"
      ]
     },
     "execution_count": 90,
     "metadata": {},
     "output_type": "execute_result"
    }
   ],
   "source": [
    "postulantes_joined.isnull().any()"
   ]
  },
  {
   "cell_type": "code",
   "execution_count": 91,
   "metadata": {},
   "outputs": [],
   "source": [
    "def cuantificar_estudios(row):\n",
    "    if (row['nombre_estudio'] == 'Doctorado'):\n",
    "        row['nombre_estudio'] = 7\n",
    "    if (row['nombre_estudio'] == 'Master'):    \n",
    "        row['nombre_estudio'] = 6\n",
    "    if (row['nombre_estudio'] == 'Posgrado'):    \n",
    "        row['nombre_estudio'] = 5\n",
    "    if (row['nombre_estudio'] == 'Universitario'):    \n",
    "        row['nombre_estudio'] = 4\n",
    "    if (row['nombre_estudio'] == 'Terciario/Técnico'):    \n",
    "        row['nombre_estudio'] = 3\n",
    "    if (row['nombre_estudio'] == 'Secundario'):    \n",
    "        row['nombre_estudio'] = 2\n",
    "    if (row['nombre_estudio'] == 'Otro'):    \n",
    "        row['nombre_estudio'] = 1    \n",
    "        \n",
    "    if (row['estado_estudio'] == 'Graduado'):\n",
    "        row['estado_estudio'] = 3\n",
    "    if (row['estado_estudio'] == 'En Curso'):    \n",
    "        row['estado_estudio'] = 2\n",
    "    if (row['estado_estudio'] == 'Abandonado'):    \n",
    "        row['estado_estudio'] = 1\n",
    "        \n",
    "    return row    \n",
    "\n",
    "def descuantificar_estudios(row):\n",
    "    if (row['nombre_estudio'] == 7):\n",
    "        row['nombre_estudio'] = 'Doctorado'\n",
    "    if (row['nombre_estudio'] == 6):    \n",
    "        row['nombre_estudio'] = 'Master'\n",
    "    if (row['nombre_estudio'] == 5):    \n",
    "        row['nombre_estudio'] = 'Posgrado'\n",
    "    if (row['nombre_estudio'] == 4):    \n",
    "        row['nombre_estudio'] = 'Universitario'\n",
    "    if (row['nombre_estudio'] == 3):    \n",
    "        row['nombre_estudio'] = 'Terciario/Tecnico'\n",
    "    if (row['nombre_estudio'] == 2):    \n",
    "        row['nombre_estudio'] = 'Secundario'\n",
    "    if (row['nombre_estudio'] == 1):    \n",
    "        row['nombre_estudio'] = 'Otro'    \n",
    "        \n",
    "    if (row['estado_estudio'] == 3):\n",
    "        row['estado_estudio'] = 'Graduado'\n",
    "    if (row['estado_estudio'] == 2):    \n",
    "        row['estado_estudio'] = 'EnCurso'\n",
    "    if (row['estado_estudio'] == 1):    \n",
    "        row['estado_estudio'] = 'Abandonado'\n",
    "        \n",
    "    return row    "
   ]
  },
  {
   "cell_type": "code",
   "execution_count": 92,
   "metadata": {},
   "outputs": [],
   "source": [
    "postulantes_joined = postulantes_joined.apply(lambda row: cuantificar_estudios(row), axis=1)"
   ]
  },
  {
   "cell_type": "code",
   "execution_count": 93,
   "metadata": {},
   "outputs": [],
   "source": [
    "# Obtenemos max de la columna nombre\n",
    "idx = postulantes_joined.groupby(['idpostulante'])['nombre_estudio'].transform(max) == postulantes_joined['nombre_estudio']"
   ]
  },
  {
   "cell_type": "code",
   "execution_count": 94,
   "metadata": {},
   "outputs": [],
   "source": [
    "# Sobre los anteriores, obtenemos los max de la columna estado\n",
    "idx_postulantes_educacion_max = postulantes_joined[idx].groupby(['idpostulante'])['estado_estudio'].transform(max) == postulantes_joined[idx]['estado_estudio']"
   ]
  },
  {
   "cell_type": "code",
   "execution_count": 95,
   "metadata": {},
   "outputs": [],
   "source": [
    "postulantes_joined = postulantes_joined[idx][idx_postulantes_educacion_max]"
   ]
  },
  {
   "cell_type": "code",
   "execution_count": 96,
   "metadata": {},
   "outputs": [
    {
     "name": "stdout",
     "output_type": "stream",
     "text": [
      "408150\n"
     ]
    }
   ],
   "source": [
    "print(len(postulantes_joined))"
   ]
  },
  {
   "cell_type": "code",
   "execution_count": 97,
   "metadata": {},
   "outputs": [],
   "source": [
    "# Para volver a strings: \n",
    "postulantes_joined = postulantes_joined.apply(lambda row: descuantificar_estudios(row), axis=1)"
   ]
  },
  {
   "cell_type": "code",
   "execution_count": 98,
   "metadata": {},
   "outputs": [
    {
     "data": {
      "text/html": [
       "<div>\n",
       "<style scoped>\n",
       "    .dataframe tbody tr th:only-of-type {\n",
       "        vertical-align: middle;\n",
       "    }\n",
       "\n",
       "    .dataframe tbody tr th {\n",
       "        vertical-align: top;\n",
       "    }\n",
       "\n",
       "    .dataframe thead th {\n",
       "        text-align: right;\n",
       "    }\n",
       "</style>\n",
       "<table border=\"1\" class=\"dataframe\">\n",
       "  <thead>\n",
       "    <tr style=\"text-align: right;\">\n",
       "      <th></th>\n",
       "      <th>idpostulante</th>\n",
       "      <th>nombre_estudio</th>\n",
       "      <th>estado_estudio</th>\n",
       "      <th>fechanacimiento</th>\n",
       "      <th>sexo</th>\n",
       "    </tr>\n",
       "  </thead>\n",
       "  <tbody>\n",
       "    <tr>\n",
       "      <th>1</th>\n",
       "      <td>1d2B</td>\n",
       "      <td>Universitario</td>\n",
       "      <td>EnCurso</td>\n",
       "      <td>1976-02-28</td>\n",
       "      <td>MASC</td>\n",
       "    </tr>\n",
       "    <tr>\n",
       "      <th>3</th>\n",
       "      <td>Ym2X</td>\n",
       "      <td>Universitario</td>\n",
       "      <td>Graduado</td>\n",
       "      <td>1964-01-19</td>\n",
       "      <td>MASC</td>\n",
       "    </tr>\n",
       "  </tbody>\n",
       "</table>\n",
       "</div>"
      ],
      "text/plain": [
       "  idpostulante nombre_estudio estado_estudio fechanacimiento  sexo\n",
       "1         1d2B  Universitario        EnCurso      1976-02-28  MASC\n",
       "3         Ym2X  Universitario       Graduado      1964-01-19  MASC"
      ]
     },
     "execution_count": 98,
     "metadata": {},
     "output_type": "execute_result"
    }
   ],
   "source": [
    "postulantes_joined.head(2)"
   ]
  },
  {
   "cell_type": "code",
   "execution_count": 99,
   "metadata": {},
   "outputs": [
    {
     "data": {
      "text/plain": [
       "idpostulante       False\n",
       "nombre_estudio     False\n",
       "estado_estudio     False\n",
       "fechanacimiento     True\n",
       "sexo               False\n",
       "dtype: bool"
      ]
     },
     "execution_count": 99,
     "metadata": {},
     "output_type": "execute_result"
    }
   ],
   "source": [
    "postulantes_joined.isnull().any()"
   ]
  },
  {
   "cell_type": "code",
   "execution_count": 100,
   "metadata": {},
   "outputs": [
    {
     "data": {
      "text/plain": [
       "False"
      ]
     },
     "execution_count": 100,
     "metadata": {},
     "output_type": "execute_result"
    }
   ],
   "source": [
    "most_freq_fechanacimiento = postulantes_joined.fechanacimiento.mode()[0]\n",
    "postulantes_joined.fechanacimiento.fillna(most_freq_fechanacimiento,inplace=True)\n",
    "postulantes_joined.fechanacimiento.isnull().any()"
   ]
  },
  {
   "cell_type": "code",
   "execution_count": 101,
   "metadata": {},
   "outputs": [
    {
     "data": {
      "text/plain": [
       "idpostulante       False\n",
       "nombre_estudio     False\n",
       "estado_estudio     False\n",
       "fechanacimiento    False\n",
       "sexo               False\n",
       "dtype: bool"
      ]
     },
     "execution_count": 101,
     "metadata": {},
     "output_type": "execute_result"
    }
   ],
   "source": [
    "postulantes_joined.isnull().any()"
   ]
  },
  {
   "cell_type": "code",
   "execution_count": 102,
   "metadata": {},
   "outputs": [],
   "source": [
    "# Convierto columnas con fechas a datetime\n",
    "postulantes_joined['fechanacimiento'] = pd.to_datetime(postulantes_joined.fechanacimiento, format='%Y/%m/%d', errors='coerce')"
   ]
  },
  {
   "cell_type": "code",
   "execution_count": 103,
   "metadata": {},
   "outputs": [
    {
     "data": {
      "text/plain": [
       "False"
      ]
     },
     "execution_count": 103,
     "metadata": {},
     "output_type": "execute_result"
    }
   ],
   "source": [
    "most_freq_fechanacimiento = postulantes_joined.fechanacimiento.mode()[0]\n",
    "postulantes_joined.fechanacimiento.fillna(most_freq_fechanacimiento,inplace=True)\n",
    "postulantes_joined.fechanacimiento.isnull().any()"
   ]
  },
  {
   "cell_type": "code",
   "execution_count": 104,
   "metadata": {},
   "outputs": [
    {
     "data": {
      "text/plain": [
       "idpostulante       False\n",
       "nombre_estudio     False\n",
       "estado_estudio     False\n",
       "fechanacimiento    False\n",
       "sexo               False\n",
       "dtype: bool"
      ]
     },
     "execution_count": 104,
     "metadata": {},
     "output_type": "execute_result"
    }
   ],
   "source": [
    "postulantes_joined.isnull().any()"
   ]
  },
  {
   "cell_type": "code",
   "execution_count": 105,
   "metadata": {},
   "outputs": [],
   "source": [
    "# Agrego columna edad\n",
    "anio_actual = pd.to_datetime('today').year\n",
    "postulantes_joined['edad'] = postulantes_joined.fechanacimiento.map(lambda fecha: anio_actual - fecha.year).astype(int)"
   ]
  },
  {
   "cell_type": "code",
   "execution_count": 106,
   "metadata": {},
   "outputs": [
    {
     "data": {
      "text/plain": [
       "False"
      ]
     },
     "execution_count": 106,
     "metadata": {},
     "output_type": "execute_result"
    }
   ],
   "source": [
    "postulantes_joined.edad.isnull().any()"
   ]
  },
  {
   "cell_type": "code",
   "execution_count": 107,
   "metadata": {},
   "outputs": [
    {
     "data": {
      "text/plain": [
       "408150"
      ]
     },
     "execution_count": 107,
     "metadata": {},
     "output_type": "execute_result"
    }
   ],
   "source": [
    "len(postulantes_joined)"
   ]
  },
  {
   "cell_type": "code",
   "execution_count": 108,
   "metadata": {},
   "outputs": [
    {
     "data": {
      "text/html": [
       "<div>\n",
       "<style scoped>\n",
       "    .dataframe tbody tr th:only-of-type {\n",
       "        vertical-align: middle;\n",
       "    }\n",
       "\n",
       "    .dataframe tbody tr th {\n",
       "        vertical-align: top;\n",
       "    }\n",
       "\n",
       "    .dataframe thead th {\n",
       "        text-align: right;\n",
       "    }\n",
       "</style>\n",
       "<table border=\"1\" class=\"dataframe\">\n",
       "  <thead>\n",
       "    <tr style=\"text-align: right;\">\n",
       "      <th></th>\n",
       "      <th>idpostulante</th>\n",
       "      <th>nombre_estudio</th>\n",
       "      <th>estado_estudio</th>\n",
       "      <th>fechanacimiento</th>\n",
       "      <th>sexo</th>\n",
       "      <th>edad</th>\n",
       "    </tr>\n",
       "  </thead>\n",
       "  <tbody>\n",
       "    <tr>\n",
       "      <th>1</th>\n",
       "      <td>1d2B</td>\n",
       "      <td>Universitario</td>\n",
       "      <td>EnCurso</td>\n",
       "      <td>1976-02-28</td>\n",
       "      <td>MASC</td>\n",
       "      <td>42</td>\n",
       "    </tr>\n",
       "  </tbody>\n",
       "</table>\n",
       "</div>"
      ],
      "text/plain": [
       "  idpostulante nombre_estudio estado_estudio fechanacimiento  sexo  edad\n",
       "1         1d2B  Universitario        EnCurso      1976-02-28  MASC    42"
      ]
     },
     "execution_count": 108,
     "metadata": {},
     "output_type": "execute_result"
    }
   ],
   "source": [
    "postulantes_joined.head(1)"
   ]
  },
  {
   "cell_type": "code",
   "execution_count": 109,
   "metadata": {},
   "outputs": [],
   "source": [
    "postulantes_joined['edad'] = postulantes_joined['edad'].astype(int)"
   ]
  },
  {
   "cell_type": "code",
   "execution_count": 110,
   "metadata": {},
   "outputs": [
    {
     "data": {
      "text/html": [
       "<div>\n",
       "<style scoped>\n",
       "    .dataframe tbody tr th:only-of-type {\n",
       "        vertical-align: middle;\n",
       "    }\n",
       "\n",
       "    .dataframe tbody tr th {\n",
       "        vertical-align: top;\n",
       "    }\n",
       "\n",
       "    .dataframe thead th {\n",
       "        text-align: right;\n",
       "    }\n",
       "</style>\n",
       "<table border=\"1\" class=\"dataframe\">\n",
       "  <thead>\n",
       "    <tr style=\"text-align: right;\">\n",
       "      <th></th>\n",
       "      <th>idpostulante</th>\n",
       "      <th>nombre_estudio</th>\n",
       "      <th>estado_estudio</th>\n",
       "      <th>fechanacimiento</th>\n",
       "      <th>sexo</th>\n",
       "      <th>edad</th>\n",
       "    </tr>\n",
       "  </thead>\n",
       "  <tbody>\n",
       "    <tr>\n",
       "      <th>1</th>\n",
       "      <td>1d2B</td>\n",
       "      <td>Universitario</td>\n",
       "      <td>EnCurso</td>\n",
       "      <td>1976-02-28</td>\n",
       "      <td>MASC</td>\n",
       "      <td>42</td>\n",
       "    </tr>\n",
       "  </tbody>\n",
       "</table>\n",
       "</div>"
      ],
      "text/plain": [
       "  idpostulante nombre_estudio estado_estudio fechanacimiento  sexo  edad\n",
       "1         1d2B  Universitario        EnCurso      1976-02-28  MASC    42"
      ]
     },
     "execution_count": 110,
     "metadata": {},
     "output_type": "execute_result"
    }
   ],
   "source": [
    "postulantes_joined.head(1)"
   ]
  },
  {
   "cell_type": "code",
   "execution_count": 111,
   "metadata": {},
   "outputs": [
    {
     "data": {
      "text/plain": [
       "idpostulante               object\n",
       "nombre_estudio             object\n",
       "estado_estudio             object\n",
       "fechanacimiento    datetime64[ns]\n",
       "sexo                       object\n",
       "edad                        int64\n",
       "dtype: object"
      ]
     },
     "execution_count": 111,
     "metadata": {},
     "output_type": "execute_result"
    }
   ],
   "source": [
    "postulantes_joined.dtypes"
   ]
  },
  {
   "cell_type": "code",
   "execution_count": 112,
   "metadata": {},
   "outputs": [
    {
     "data": {
      "text/plain": [
       "idpostulante       False\n",
       "nombre_estudio     False\n",
       "estado_estudio     False\n",
       "fechanacimiento    False\n",
       "sexo               False\n",
       "edad               False\n",
       "dtype: bool"
      ]
     },
     "execution_count": 112,
     "metadata": {},
     "output_type": "execute_result"
    }
   ],
   "source": [
    "postulantes_joined.isnull().any()"
   ]
  },
  {
   "cell_type": "markdown",
   "metadata": {},
   "source": [
    "#### Transfomaciones para avisos"
   ]
  },
  {
   "cell_type": "code",
   "execution_count": 113,
   "metadata": {},
   "outputs": [
    {
     "name": "stdout",
     "output_type": "stream",
     "text": [
      "25743\n",
      "Existen avisos nulos: False\n"
     ]
    }
   ],
   "source": [
    "print(len(avisos_detalle_joined))\n",
    "print('Existen avisos nulos:', avisos_detalle_joined.idaviso.isnull().any())\n",
    "#avisos_detalle_joined = avisos_detalle_joined.dropna(subset=['idaviso'], how='all')\n",
    "#print(len(avisos_detalle_joined))"
   ]
  },
  {
   "cell_type": "code",
   "execution_count": 114,
   "metadata": {},
   "outputs": [],
   "source": [
    "avisos_detalle_joined.drop(columns=['idpais','ciudad','mapacalle', 'nombre_zona'], inplace=True)"
   ]
  },
  {
   "cell_type": "code",
   "execution_count": 115,
   "metadata": {},
   "outputs": [
    {
     "data": {
      "text/html": [
       "<div>\n",
       "<style scoped>\n",
       "    .dataframe tbody tr th:only-of-type {\n",
       "        vertical-align: middle;\n",
       "    }\n",
       "\n",
       "    .dataframe tbody tr th {\n",
       "        vertical-align: top;\n",
       "    }\n",
       "\n",
       "    .dataframe thead th {\n",
       "        text-align: right;\n",
       "    }\n",
       "</style>\n",
       "<table border=\"1\" class=\"dataframe\">\n",
       "  <thead>\n",
       "    <tr style=\"text-align: right;\">\n",
       "      <th></th>\n",
       "      <th>idaviso</th>\n",
       "      <th>titulo</th>\n",
       "      <th>descripcion</th>\n",
       "      <th>tipo_de_trabajo</th>\n",
       "      <th>nivel_laboral</th>\n",
       "      <th>nombre_area</th>\n",
       "      <th>denominacion_empresa</th>\n",
       "    </tr>\n",
       "  </thead>\n",
       "  <tbody>\n",
       "    <tr>\n",
       "      <th>0</th>\n",
       "      <td>17903700</td>\n",
       "      <td>Enfermeras</td>\n",
       "      <td>&lt;p&gt;Solicitamos para importante cadena de farma...</td>\n",
       "      <td>Full-time</td>\n",
       "      <td>Senior / Semi-Senior</td>\n",
       "      <td>Salud</td>\n",
       "      <td>Farmacias Central Oeste</td>\n",
       "    </tr>\n",
       "  </tbody>\n",
       "</table>\n",
       "</div>"
      ],
      "text/plain": [
       "    idaviso      titulo                                        descripcion  \\\n",
       "0  17903700  Enfermeras  <p>Solicitamos para importante cadena de farma...   \n",
       "\n",
       "  tipo_de_trabajo         nivel_laboral nombre_area     denominacion_empresa  \n",
       "0       Full-time  Senior / Semi-Senior       Salud  Farmacias Central Oeste  "
      ]
     },
     "execution_count": 115,
     "metadata": {},
     "output_type": "execute_result"
    }
   ],
   "source": [
    "avisos_detalle_joined.head(1)"
   ]
  },
  {
   "cell_type": "code",
   "execution_count": 116,
   "metadata": {},
   "outputs": [
    {
     "name": "stdout",
     "output_type": "stream",
     "text": [
      "False\n",
      "True\n",
      "False\n",
      "False\n"
     ]
    }
   ],
   "source": [
    "print(avisos_detalle_joined.tipo_de_trabajo.isnull().any())\n",
    "print(avisos_detalle_joined.nivel_laboral.isnull().any())\n",
    "print(avisos_detalle_joined.nombre_area.isnull().any())\n",
    "print(avisos_detalle_joined.descripcion.isnull().any())"
   ]
  },
  {
   "cell_type": "code",
   "execution_count": 117,
   "metadata": {},
   "outputs": [
    {
     "name": "stdout",
     "output_type": "stream",
     "text": [
      "Existen 335 avisos que no especifican nivel laboral\n"
     ]
    }
   ],
   "source": [
    "print('Existen',avisos_detalle_joined.nivel_laboral.isnull().sum(), 'avisos que no especifican nivel laboral')"
   ]
  },
  {
   "cell_type": "raw",
   "metadata": {},
   "source": [
    "Los reemplazamos con el valor mas frecuente de ese feature"
   ]
  },
  {
   "cell_type": "code",
   "execution_count": 118,
   "metadata": {},
   "outputs": [
    {
     "data": {
      "text/plain": [
       "'Senior / Semi-Senior'"
      ]
     },
     "execution_count": 118,
     "metadata": {},
     "output_type": "execute_result"
    }
   ],
   "source": [
    "most_freq_nivel_laboral = avisos_detalle_joined.nivel_laboral.mode()[0]\n",
    "most_freq_nivel_laboral"
   ]
  },
  {
   "cell_type": "code",
   "execution_count": 119,
   "metadata": {},
   "outputs": [],
   "source": [
    "avisos_detalle_joined.nivel_laboral.fillna(most_freq_nivel_laboral,inplace=True)\n",
    "avisos_detalle_joined.nivel_laboral.replace(to_replace='None',value=most_freq_nivel_laboral,inplace=True)\n",
    "avisos_detalle_joined.nivel_laboral.replace(to_replace='NaN',value=most_freq_nivel_laboral,inplace=True)\n",
    "avisos_detalle_joined.nivel_laboral.replace(to_replace='nil',value=most_freq_nivel_laboral,inplace=True)"
   ]
  },
  {
   "cell_type": "code",
   "execution_count": 120,
   "metadata": {},
   "outputs": [
    {
     "name": "stdout",
     "output_type": "stream",
     "text": [
      "Existen 0 avisos que no especifican nivel laboral\n"
     ]
    }
   ],
   "source": [
    "print('Existen',avisos_detalle_joined.nivel_laboral.isnull().sum(), 'avisos que no especifican nivel laboral')"
   ]
  },
  {
   "cell_type": "code",
   "execution_count": 121,
   "metadata": {},
   "outputs": [
    {
     "data": {
      "text/html": [
       "<div>\n",
       "<style scoped>\n",
       "    .dataframe tbody tr th:only-of-type {\n",
       "        vertical-align: middle;\n",
       "    }\n",
       "\n",
       "    .dataframe tbody tr th {\n",
       "        vertical-align: top;\n",
       "    }\n",
       "\n",
       "    .dataframe thead th {\n",
       "        text-align: right;\n",
       "    }\n",
       "</style>\n",
       "<table border=\"1\" class=\"dataframe\">\n",
       "  <thead>\n",
       "    <tr style=\"text-align: right;\">\n",
       "      <th></th>\n",
       "      <th>idaviso</th>\n",
       "      <th>titulo</th>\n",
       "      <th>descripcion</th>\n",
       "      <th>tipo_de_trabajo</th>\n",
       "      <th>nivel_laboral</th>\n",
       "      <th>nombre_area</th>\n",
       "      <th>denominacion_empresa</th>\n",
       "    </tr>\n",
       "  </thead>\n",
       "  <tbody>\n",
       "    <tr>\n",
       "      <th>0</th>\n",
       "      <td>17903700</td>\n",
       "      <td>Enfermeras</td>\n",
       "      <td>&lt;p&gt;Solicitamos para importante cadena de farma...</td>\n",
       "      <td>Full-time</td>\n",
       "      <td>Senior / Semi-Senior</td>\n",
       "      <td>Salud</td>\n",
       "      <td>Farmacias Central Oeste</td>\n",
       "    </tr>\n",
       "  </tbody>\n",
       "</table>\n",
       "</div>"
      ],
      "text/plain": [
       "    idaviso      titulo                                        descripcion  \\\n",
       "0  17903700  Enfermeras  <p>Solicitamos para importante cadena de farma...   \n",
       "\n",
       "  tipo_de_trabajo         nivel_laboral nombre_area     denominacion_empresa  \n",
       "0       Full-time  Senior / Semi-Senior       Salud  Farmacias Central Oeste  "
      ]
     },
     "execution_count": 121,
     "metadata": {},
     "output_type": "execute_result"
    }
   ],
   "source": [
    "avisos_detalle_joined.head(1)"
   ]
  },
  {
   "cell_type": "raw",
   "metadata": {},
   "source": [
    "Eliminamos el html de la descripcion"
   ]
  },
  {
   "cell_type": "code",
   "execution_count": 122,
   "metadata": {},
   "outputs": [],
   "source": [
    "def clean_html(row):\n",
    "    clean_html_regex = re.compile('<.*?>')\n",
    "    row['descripcion'] = re.sub(clean_html_regex, '', row['descripcion'])\n",
    "    return row\n",
    "\n",
    "avisos_detalle_joined = avisos_detalle_joined.apply(lambda row: clean_html(row), axis=1)"
   ]
  },
  {
   "cell_type": "code",
   "execution_count": 123,
   "metadata": {},
   "outputs": [
    {
     "data": {
      "text/html": [
       "<div>\n",
       "<style scoped>\n",
       "    .dataframe tbody tr th:only-of-type {\n",
       "        vertical-align: middle;\n",
       "    }\n",
       "\n",
       "    .dataframe tbody tr th {\n",
       "        vertical-align: top;\n",
       "    }\n",
       "\n",
       "    .dataframe thead th {\n",
       "        text-align: right;\n",
       "    }\n",
       "</style>\n",
       "<table border=\"1\" class=\"dataframe\">\n",
       "  <thead>\n",
       "    <tr style=\"text-align: right;\">\n",
       "      <th></th>\n",
       "      <th>idaviso</th>\n",
       "      <th>titulo</th>\n",
       "      <th>descripcion</th>\n",
       "      <th>tipo_de_trabajo</th>\n",
       "      <th>nivel_laboral</th>\n",
       "      <th>nombre_area</th>\n",
       "      <th>denominacion_empresa</th>\n",
       "    </tr>\n",
       "  </thead>\n",
       "  <tbody>\n",
       "    <tr>\n",
       "      <th>0</th>\n",
       "      <td>17903700</td>\n",
       "      <td>Enfermeras</td>\n",
       "      <td>Solicitamos para importante cadena de farmacia...</td>\n",
       "      <td>Full-time</td>\n",
       "      <td>Senior / Semi-Senior</td>\n",
       "      <td>Salud</td>\n",
       "      <td>Farmacias Central Oeste</td>\n",
       "    </tr>\n",
       "  </tbody>\n",
       "</table>\n",
       "</div>"
      ],
      "text/plain": [
       "    idaviso      titulo                                        descripcion  \\\n",
       "0  17903700  Enfermeras  Solicitamos para importante cadena de farmacia...   \n",
       "\n",
       "  tipo_de_trabajo         nivel_laboral nombre_area     denominacion_empresa  \n",
       "0       Full-time  Senior / Semi-Senior       Salud  Farmacias Central Oeste  "
      ]
     },
     "execution_count": 123,
     "metadata": {},
     "output_type": "execute_result"
    }
   ],
   "source": [
    "avisos_detalle_joined.head(1)"
   ]
  },
  {
   "cell_type": "code",
   "execution_count": 124,
   "metadata": {},
   "outputs": [
    {
     "data": {
      "text/plain": [
       "0    Solicitamos para importante cadena de farmacia...\n",
       "1    TE GUSTA MANEJAR? QUERES GANAR PLATA HACIENDO ...\n",
       "2    OPERARIOS DE PLANTANos encontramos en la búsqu...\n",
       "3    Agente\\r\\noficial Selecciona:\\r\\n \\r\\nNuestra ...\n",
       "4    Centro Médico Accord se encuentra en la búsque...\n",
       "Name: descripcion, dtype: object"
      ]
     },
     "execution_count": 124,
     "metadata": {},
     "output_type": "execute_result"
    }
   ],
   "source": [
    "avisos_detalle_joined['descripcion'].head(5)"
   ]
  },
  {
   "cell_type": "raw",
   "metadata": {},
   "source": [
    "Procesamos la descripcion: eliminamos diacriticos, stopwords"
   ]
  },
  {
   "cell_type": "code",
   "execution_count": 125,
   "metadata": {},
   "outputs": [],
   "source": [
    "stopwords = ['a', 'al', 'ante', 'aquel', 'aires', 'bien', 'buenos', 'como', 'con', 'conseguir', 'cual', 'de', 'del', 'descripcion', \n",
    "             'desde', 'donde', 'e', 'el', 'ella', 'ello', 'en', 'es', 'esa', 'encima', 'entonces', 'entre', 'encontramos', \n",
    "             'encuentra', 'era', 'esta', 'estas' 'estan', 'etc', 'fe', 'fue', 'gusta', 'hs', 'ha', 'hacen', 'hacemos', 'hacer', 'hasta', \n",
    "             'incluso', 'ir', 'jamas', 'jamas', 'la', 'las', 'lo', 'los', 'mas', 'me', 'menos', 'mi', 'mis', 'misma', 'mismo', 'mucha', 'muchas', \n",
    "             'mucho', 'muchos', 'muy', 'ni', 'no', 'nos', 'nosotros', 'nuestras', 'nuestra', 'nuestro', 'nuestros', 'o', 'para', 'por', 'puesta', \n",
    "             'que', 'qué', 'sabe', 'santa', 'saber', 'se', 'solicitamos', 'selecciona', 'segun', 'ser', 'serán', 'seran', 'si', 'siendo', 'sin', \n",
    "             'sobre', 'solo', 'solicita', 'somos', 'su', 'sus', 'te', 'trabajar', 'tiene', 'tus', 'tu', 'uso', \n",
    "             'un', 'una', 'ubicada', 'valoramos', 'vaya', 'y']\n",
    "\n",
    "invalid_characters = [',', ':', '.', ';', '?', '¿', '!', '¡', '(', ')', '0', '1', '2', '3', '4', '5', '6', '7', '8', '9', \n",
    "                      '<', '>', '-', '_', '/', '*', '\\r', '\\n', '', '·', '§', 'ª', '+']\n",
    "\n",
    "def clean_html(string):\n",
    "    clean_html_regex = re.compile('<.*?>')\n",
    "    string = re.sub(clean_html_regex, ' ', string).strip()\n",
    "    return string\n",
    "\n",
    "def clean_string(row, col):     \n",
    "    for invalid_char in invalid_characters:\n",
    "        row[col] = row[col].replace(invalid_char, ' ').strip()\n",
    "        row[col] = row[col].strip().lower()\n",
    "    \n",
    "    row[col] = row[col].replace('á', \"a\")\n",
    "    row[col] = row[col].replace('é', \"e\")\n",
    "    row[col] = row[col].replace('í', \"i\")\n",
    "    row[col] = row[col].replace('ó', \"o\")\n",
    "    row[col] = row[col].replace('ú', \"u\")\n",
    "    row[col] = row[col].replace('ü', \"u\")\n",
    "    \n",
    "    words = row[col].split()\n",
    "    \n",
    "    # Se filtran las stop words\n",
    "    valid_words = []\n",
    "    for word in words:\n",
    "        for w in stopwords:\n",
    "            if (word == w):\n",
    "                word = word.replace(w, ' ')\n",
    "        if (word.strip() != ''):\n",
    "            valid_words.append(word)\n",
    "        \n",
    "    row[col] = valid_words\n",
    "    return row"
   ]
  },
  {
   "cell_type": "code",
   "execution_count": 126,
   "metadata": {},
   "outputs": [],
   "source": [
    "avisos_detalle_joined = avisos_detalle_joined.apply(lambda row: clean_string(row, 'descripcion'), axis=1)"
   ]
  },
  {
   "cell_type": "code",
   "execution_count": 127,
   "metadata": {},
   "outputs": [
    {
     "data": {
      "text/plain": [
       "0    [importante, cadena, farmacias, zona, oeste, e...\n",
       "1    [manejar, queres, ganar, plata, haciendo, cont...\n",
       "2    [operarios, plantanos, busqueda, operarios, em...\n",
       "Name: descripcion, dtype: object"
      ]
     },
     "execution_count": 127,
     "metadata": {},
     "output_type": "execute_result"
    }
   ],
   "source": [
    "avisos_detalle_joined['descripcion'].head(3)"
   ]
  },
  {
   "cell_type": "raw",
   "metadata": {},
   "source": [
    "Para cada aviso reemplazamos la columna descripcion por una lista: (palabra, #apariciones)"
   ]
  },
  {
   "cell_type": "code",
   "execution_count": 128,
   "metadata": {},
   "outputs": [],
   "source": [
    "def process_words(row, columna):\n",
    "    lista_palabras_frecuentes_descripcion = []\n",
    "    words = row[columna]\n",
    "    for word in words:\n",
    "        lista_palabras_frecuentes_descripcion.append(word)\n",
    "    row[columna] = Counter(lista_palabras_frecuentes_descripcion).most_common(25)\n",
    "    \n",
    "    return row\n",
    "\n",
    "avisos_detalle_joined = avisos_detalle_joined.apply(lambda row: process_words(row, 'descripcion'), axis=1)"
   ]
  },
  {
   "cell_type": "code",
   "execution_count": 129,
   "metadata": {},
   "outputs": [
    {
     "data": {
      "text/html": [
       "<div>\n",
       "<style scoped>\n",
       "    .dataframe tbody tr th:only-of-type {\n",
       "        vertical-align: middle;\n",
       "    }\n",
       "\n",
       "    .dataframe tbody tr th {\n",
       "        vertical-align: top;\n",
       "    }\n",
       "\n",
       "    .dataframe thead th {\n",
       "        text-align: right;\n",
       "    }\n",
       "</style>\n",
       "<table border=\"1\" class=\"dataframe\">\n",
       "  <thead>\n",
       "    <tr style=\"text-align: right;\">\n",
       "      <th></th>\n",
       "      <th>idaviso</th>\n",
       "      <th>titulo</th>\n",
       "      <th>descripcion</th>\n",
       "      <th>tipo_de_trabajo</th>\n",
       "      <th>nivel_laboral</th>\n",
       "      <th>nombre_area</th>\n",
       "      <th>denominacion_empresa</th>\n",
       "    </tr>\n",
       "  </thead>\n",
       "  <tbody>\n",
       "    <tr>\n",
       "      <th>0</th>\n",
       "      <td>17903700</td>\n",
       "      <td>Enfermeras</td>\n",
       "      <td>[(oeste, 2), (experiencia, 2), (años, 2), (imp...</td>\n",
       "      <td>Full-time</td>\n",
       "      <td>Senior / Semi-Senior</td>\n",
       "      <td>Salud</td>\n",
       "      <td>Farmacias Central Oeste</td>\n",
       "    </tr>\n",
       "    <tr>\n",
       "      <th>1</th>\n",
       "      <td>1000150677</td>\n",
       "      <td>Chofer de taxi</td>\n",
       "      <td>[(tenes, 3), (estas, 2), (trabajo, 2), (años, ...</td>\n",
       "      <td>Full-time</td>\n",
       "      <td>Senior / Semi-Senior</td>\n",
       "      <td>Transporte</td>\n",
       "      <td>FAMITAX SRL</td>\n",
       "    </tr>\n",
       "    <tr>\n",
       "      <th>2</th>\n",
       "      <td>1000872556</td>\n",
       "      <td>Operarios de Planta - Rubro Electrodomésticos</td>\n",
       "      <td>[(control, 6), (produccion, 4), (operarios, 2)...</td>\n",
       "      <td>Full-time</td>\n",
       "      <td>Senior / Semi-Senior</td>\n",
       "      <td>Producción</td>\n",
       "      <td>ELECTRO OUTLET SRL</td>\n",
       "    </tr>\n",
       "  </tbody>\n",
       "</table>\n",
       "</div>"
      ],
      "text/plain": [
       "      idaviso                                         titulo  \\\n",
       "0    17903700                                     Enfermeras   \n",
       "1  1000150677                                 Chofer de taxi   \n",
       "2  1000872556  Operarios de Planta - Rubro Electrodomésticos   \n",
       "\n",
       "                                         descripcion tipo_de_trabajo  \\\n",
       "0  [(oeste, 2), (experiencia, 2), (años, 2), (imp...       Full-time   \n",
       "1  [(tenes, 3), (estas, 2), (trabajo, 2), (años, ...       Full-time   \n",
       "2  [(control, 6), (produccion, 4), (operarios, 2)...       Full-time   \n",
       "\n",
       "          nivel_laboral nombre_area     denominacion_empresa  \n",
       "0  Senior / Semi-Senior       Salud  Farmacias Central Oeste  \n",
       "1  Senior / Semi-Senior  Transporte              FAMITAX SRL  \n",
       "2  Senior / Semi-Senior  Producción       ELECTRO OUTLET SRL  "
      ]
     },
     "execution_count": 129,
     "metadata": {},
     "output_type": "execute_result"
    }
   ],
   "source": [
    "avisos_detalle_joined.head(3)"
   ]
  },
  {
   "cell_type": "raw",
   "metadata": {},
   "source": [
    "Lo mismo pero con el titulo"
   ]
  },
  {
   "cell_type": "code",
   "execution_count": 130,
   "metadata": {},
   "outputs": [],
   "source": [
    "avisos_detalle_joined = avisos_detalle_joined.apply(lambda row: clean_string(row, 'titulo'), axis=1)"
   ]
  },
  {
   "cell_type": "code",
   "execution_count": 131,
   "metadata": {},
   "outputs": [
    {
     "data": {
      "text/html": [
       "<div>\n",
       "<style scoped>\n",
       "    .dataframe tbody tr th:only-of-type {\n",
       "        vertical-align: middle;\n",
       "    }\n",
       "\n",
       "    .dataframe tbody tr th {\n",
       "        vertical-align: top;\n",
       "    }\n",
       "\n",
       "    .dataframe thead th {\n",
       "        text-align: right;\n",
       "    }\n",
       "</style>\n",
       "<table border=\"1\" class=\"dataframe\">\n",
       "  <thead>\n",
       "    <tr style=\"text-align: right;\">\n",
       "      <th></th>\n",
       "      <th>idaviso</th>\n",
       "      <th>titulo</th>\n",
       "      <th>descripcion</th>\n",
       "      <th>tipo_de_trabajo</th>\n",
       "      <th>nivel_laboral</th>\n",
       "      <th>nombre_area</th>\n",
       "      <th>denominacion_empresa</th>\n",
       "    </tr>\n",
       "  </thead>\n",
       "  <tbody>\n",
       "    <tr>\n",
       "      <th>0</th>\n",
       "      <td>17903700</td>\n",
       "      <td>[enfermeras]</td>\n",
       "      <td>[(oeste, 2), (experiencia, 2), (años, 2), (imp...</td>\n",
       "      <td>Full-time</td>\n",
       "      <td>Senior / Semi-Senior</td>\n",
       "      <td>Salud</td>\n",
       "      <td>Farmacias Central Oeste</td>\n",
       "    </tr>\n",
       "    <tr>\n",
       "      <th>1</th>\n",
       "      <td>1000150677</td>\n",
       "      <td>[chofer, taxi]</td>\n",
       "      <td>[(tenes, 3), (estas, 2), (trabajo, 2), (años, ...</td>\n",
       "      <td>Full-time</td>\n",
       "      <td>Senior / Semi-Senior</td>\n",
       "      <td>Transporte</td>\n",
       "      <td>FAMITAX SRL</td>\n",
       "    </tr>\n",
       "    <tr>\n",
       "      <th>2</th>\n",
       "      <td>1000872556</td>\n",
       "      <td>[operarios, planta, rubro, electrodomesticos]</td>\n",
       "      <td>[(control, 6), (produccion, 4), (operarios, 2)...</td>\n",
       "      <td>Full-time</td>\n",
       "      <td>Senior / Semi-Senior</td>\n",
       "      <td>Producción</td>\n",
       "      <td>ELECTRO OUTLET SRL</td>\n",
       "    </tr>\n",
       "  </tbody>\n",
       "</table>\n",
       "</div>"
      ],
      "text/plain": [
       "      idaviso                                         titulo  \\\n",
       "0    17903700                                   [enfermeras]   \n",
       "1  1000150677                                 [chofer, taxi]   \n",
       "2  1000872556  [operarios, planta, rubro, electrodomesticos]   \n",
       "\n",
       "                                         descripcion tipo_de_trabajo  \\\n",
       "0  [(oeste, 2), (experiencia, 2), (años, 2), (imp...       Full-time   \n",
       "1  [(tenes, 3), (estas, 2), (trabajo, 2), (años, ...       Full-time   \n",
       "2  [(control, 6), (produccion, 4), (operarios, 2)...       Full-time   \n",
       "\n",
       "          nivel_laboral nombre_area     denominacion_empresa  \n",
       "0  Senior / Semi-Senior       Salud  Farmacias Central Oeste  \n",
       "1  Senior / Semi-Senior  Transporte              FAMITAX SRL  \n",
       "2  Senior / Semi-Senior  Producción       ELECTRO OUTLET SRL  "
      ]
     },
     "execution_count": 131,
     "metadata": {},
     "output_type": "execute_result"
    }
   ],
   "source": [
    "avisos_detalle_joined.head(3)"
   ]
  },
  {
   "cell_type": "code",
   "execution_count": 132,
   "metadata": {},
   "outputs": [
    {
     "name": "stdout",
     "output_type": "stream",
     "text": [
      "25743\n"
     ]
    }
   ],
   "source": [
    "print(len(avisos_detalle_joined))"
   ]
  },
  {
   "cell_type": "raw",
   "metadata": {},
   "source": [
    "Elimino la columna denominacion_empresa"
   ]
  },
  {
   "cell_type": "code",
   "execution_count": 133,
   "metadata": {},
   "outputs": [],
   "source": [
    "avisos_detalle_joined.drop(['denominacion_empresa'], axis=1, inplace=True)"
   ]
  },
  {
   "cell_type": "code",
   "execution_count": 134,
   "metadata": {},
   "outputs": [],
   "source": [
    "def remove_whitespaces(row, col):\n",
    "    row[col] = \"\".join(row[col].split())\n",
    "    return row"
   ]
  },
  {
   "cell_type": "code",
   "execution_count": 135,
   "metadata": {},
   "outputs": [],
   "source": [
    "# Eliminamos los espacios en blanco para evitar problemas con el nombre de las columnas\n",
    "avisos_detalle_joined = avisos_detalle_joined.apply(lambda row: remove_whitespaces(row, 'nivel_laboral'), axis=1)\n",
    "avisos_detalle_joined = avisos_detalle_joined.apply(lambda row: remove_whitespaces(row, 'nombre_area'), axis=1)"
   ]
  },
  {
   "cell_type": "code",
   "execution_count": 136,
   "metadata": {},
   "outputs": [
    {
     "name": "stdout",
     "output_type": "stream",
     "text": [
      "25743\n"
     ]
    }
   ],
   "source": [
    "print(len(avisos_detalle_joined))"
   ]
  },
  {
   "cell_type": "code",
   "execution_count": 137,
   "metadata": {},
   "outputs": [],
   "source": [
    "avisos_detalle_joined.drop_duplicates(subset='idaviso', keep=\"last\", inplace=True)"
   ]
  },
  {
   "cell_type": "code",
   "execution_count": 138,
   "metadata": {},
   "outputs": [
    {
     "name": "stdout",
     "output_type": "stream",
     "text": [
      "25288\n"
     ]
    }
   ],
   "source": [
    "print(len(avisos_detalle_joined))"
   ]
  },
  {
   "cell_type": "code",
   "execution_count": 139,
   "metadata": {},
   "outputs": [
    {
     "data": {
      "text/plain": [
       "idaviso             int64\n",
       "titulo             object\n",
       "descripcion        object\n",
       "tipo_de_trabajo    object\n",
       "nivel_laboral      object\n",
       "nombre_area        object\n",
       "dtype: object"
      ]
     },
     "execution_count": 139,
     "metadata": {},
     "output_type": "execute_result"
    }
   ],
   "source": [
    "avisos_detalle_joined.dtypes"
   ]
  },
  {
   "cell_type": "markdown",
   "metadata": {},
   "source": [
    "#### Transformaciones para las vistas"
   ]
  },
  {
   "cell_type": "code",
   "execution_count": 140,
   "metadata": {},
   "outputs": [],
   "source": [
    "vistas_train.rename(columns={'idAviso':'idaviso','timestamp':'fechavista'}, inplace=True)\n",
    "vistas_desde_15_04.rename(columns={'idAviso':'idaviso','timestamp':'fechavista'}, inplace=True)"
   ]
  },
  {
   "cell_type": "code",
   "execution_count": 141,
   "metadata": {},
   "outputs": [
    {
     "data": {
      "text/html": [
       "<div>\n",
       "<style scoped>\n",
       "    .dataframe tbody tr th:only-of-type {\n",
       "        vertical-align: middle;\n",
       "    }\n",
       "\n",
       "    .dataframe tbody tr th {\n",
       "        vertical-align: top;\n",
       "    }\n",
       "\n",
       "    .dataframe thead th {\n",
       "        text-align: right;\n",
       "    }\n",
       "</style>\n",
       "<table border=\"1\" class=\"dataframe\">\n",
       "  <thead>\n",
       "    <tr style=\"text-align: right;\">\n",
       "      <th></th>\n",
       "      <th>idaviso</th>\n",
       "      <th>fechavista</th>\n",
       "      <th>idpostulante</th>\n",
       "    </tr>\n",
       "  </thead>\n",
       "  <tbody>\n",
       "    <tr>\n",
       "      <th>0</th>\n",
       "      <td>1111780242</td>\n",
       "      <td>2018-02-23T13:38:13.187-0500</td>\n",
       "      <td>YjVJQ6Z</td>\n",
       "    </tr>\n",
       "  </tbody>\n",
       "</table>\n",
       "</div>"
      ],
      "text/plain": [
       "      idaviso                    fechavista idpostulante\n",
       "0  1111780242  2018-02-23T13:38:13.187-0500      YjVJQ6Z"
      ]
     },
     "execution_count": 141,
     "metadata": {},
     "output_type": "execute_result"
    }
   ],
   "source": [
    "vistas_train.head(1)"
   ]
  },
  {
   "cell_type": "raw",
   "metadata": {},
   "source": [
    "Seguir transformando...."
   ]
  },
  {
   "cell_type": "raw",
   "metadata": {},
   "source": [
    "Exportamos a nuevos csv despues de transformar para evitar recalcular"
   ]
  },
  {
   "cell_type": "code",
   "execution_count": 142,
   "metadata": {},
   "outputs": [],
   "source": [
    "postulantes_joined.to_csv('../data/postulantes_joined.csv', index=False, sep=',', encoding='utf-8')"
   ]
  },
  {
   "cell_type": "code",
   "execution_count": 143,
   "metadata": {},
   "outputs": [],
   "source": [
    "avisos_detalle_joined.to_csv('../data/avisos_detalle_joined.csv', index=False, sep=',', encoding='utf-8')"
   ]
  },
  {
   "cell_type": "code",
   "execution_count": 144,
   "metadata": {},
   "outputs": [],
   "source": [
    "vistas_train.to_csv('../data/3_vistas_train.csv', index=False, sep=',', encoding='utf-8')\n",
    "vistas_desde_15_04.to_csv('../data/3_vistas_test.csv', index=False, sep=',', encoding='utf-8')"
   ]
  },
  {
   "cell_type": "markdown",
   "metadata": {},
   "source": [
    "# Juntamos todo en un solo DF"
   ]
  },
  {
   "cell_type": "code",
   "execution_count": 145,
   "metadata": {},
   "outputs": [],
   "source": [
    "#vistas = pd.read_csv('../data/3_vistas_train.csv', encoding='utf-8')\n",
    "#avisos_online = pd.read_csv('../data/5_avisos_online_train.csv', encoding='utf-8')"
   ]
  },
  {
   "cell_type": "code",
   "execution_count": 5,
   "metadata": {},
   "outputs": [],
   "source": [
    "avisos_detalle_joined = pd.read_csv('../data/avisos_detalle_joined.csv', encoding='utf-8')\n",
    "postulantes_joined = pd.read_csv('../data/postulantes_joined.csv', encoding='utf-8')\n",
    "postulaciones = pd.read_csv('../data/4_postulaciones_train.csv', encoding='utf-8')"
   ]
  },
  {
   "cell_type": "code",
   "execution_count": 4,
   "metadata": {},
   "outputs": [],
   "source": [
    "vistas_test = pd.read_csv('../data/3_vistas_test.csv', encoding='utf-8')"
   ]
  },
  {
   "cell_type": "markdown",
   "metadata": {},
   "source": [
    "## Set a predecir"
   ]
  },
  {
   "cell_type": "code",
   "execution_count": 6,
   "metadata": {},
   "outputs": [],
   "source": [
    "data_predecir = pd.read_csv('../data/test_final_100k.csv', encoding='utf-8')"
   ]
  },
  {
   "cell_type": "code",
   "execution_count": 7,
   "metadata": {},
   "outputs": [
    {
     "name": "stdout",
     "output_type": "stream",
     "text": [
      "Existen ids repetidos en el set a predecir: False\n"
     ]
    }
   ],
   "source": [
    "print('Existen ids repetidos en el set a predecir:',data_predecir.duplicated('id').any())"
   ]
  },
  {
   "cell_type": "code",
   "execution_count": 8,
   "metadata": {},
   "outputs": [
    {
     "name": "stdout",
     "output_type": "stream",
     "text": [
      "Existen datos de 8576 postulantes para los que no tenemos datos\n"
     ]
    }
   ],
   "source": [
    "postulantes_conocidos = postulantes_joined.merge(data_predecir, on=['idpostulante'], how='inner')\n",
    "print('Existen datos de',len(data_predecir) - len(postulantes_conocidos), 'postulantes para los que no tenemos datos')"
   ]
  },
  {
   "cell_type": "markdown",
   "metadata": {},
   "source": [
    "### Genero un set de 'no_postulados' con una muestra random para crear casos en que postulantes no aplican a a visos"
   ]
  },
  {
   "cell_type": "code",
   "execution_count": 8,
   "metadata": {},
   "outputs": [],
   "source": [
    "postulantes_sample = postulantes_joined.sample(10000)\n",
    "for i in range(1,650):\n",
    "    postulantes_sample = pd.concat([postulantes_sample, postulantes_joined.sample(10000)])"
   ]
  },
  {
   "cell_type": "code",
   "execution_count": 9,
   "metadata": {},
   "outputs": [
    {
     "name": "stdout",
     "output_type": "stream",
     "text": [
      "6500000\n"
     ]
    }
   ],
   "source": [
    "print(len(postulantes_sample))"
   ]
  },
  {
   "cell_type": "code",
   "execution_count": 10,
   "metadata": {},
   "outputs": [
    {
     "data": {
      "text/html": [
       "<div>\n",
       "<style scoped>\n",
       "    .dataframe tbody tr th:only-of-type {\n",
       "        vertical-align: middle;\n",
       "    }\n",
       "\n",
       "    .dataframe tbody tr th {\n",
       "        vertical-align: top;\n",
       "    }\n",
       "\n",
       "    .dataframe thead th {\n",
       "        text-align: right;\n",
       "    }\n",
       "</style>\n",
       "<table border=\"1\" class=\"dataframe\">\n",
       "  <thead>\n",
       "    <tr style=\"text-align: right;\">\n",
       "      <th></th>\n",
       "      <th>idpostulante</th>\n",
       "      <th>nombre_estudio</th>\n",
       "      <th>estado_estudio</th>\n",
       "      <th>fechanacimiento</th>\n",
       "      <th>sexo</th>\n",
       "      <th>edad</th>\n",
       "    </tr>\n",
       "  </thead>\n",
       "  <tbody>\n",
       "    <tr>\n",
       "      <th>0</th>\n",
       "      <td>eLz8or</td>\n",
       "      <td>Terciario/Tecnico</td>\n",
       "      <td>Graduado</td>\n",
       "      <td>1985-10-05</td>\n",
       "      <td>FEM</td>\n",
       "      <td>33</td>\n",
       "    </tr>\n",
       "  </tbody>\n",
       "</table>\n",
       "</div>"
      ],
      "text/plain": [
       "  idpostulante     nombre_estudio estado_estudio fechanacimiento sexo  edad\n",
       "0       eLz8or  Terciario/Tecnico       Graduado      1985-10-05  FEM    33"
      ]
     },
     "execution_count": 10,
     "metadata": {},
     "output_type": "execute_result"
    }
   ],
   "source": [
    "postulantes_sample.reset_index(inplace=True)\n",
    "postulantes_sample.drop(columns = 'index', inplace = True)\n",
    "postulantes_sample.head(1)"
   ]
  },
  {
   "cell_type": "code",
   "execution_count": 12,
   "metadata": {},
   "outputs": [],
   "source": [
    "avisos_sample = avisos_detalle_joined.sample(10000)\n",
    "for i in range(1,650):\n",
    "    avisos_sample = pd.concat([avisos_sample, avisos_detalle_joined.sample(10000)])"
   ]
  },
  {
   "cell_type": "code",
   "execution_count": 13,
   "metadata": {},
   "outputs": [
    {
     "name": "stdout",
     "output_type": "stream",
     "text": [
      "6500000\n"
     ]
    }
   ],
   "source": [
    "print(len(avisos_sample))"
   ]
  },
  {
   "cell_type": "code",
   "execution_count": 14,
   "metadata": {},
   "outputs": [
    {
     "data": {
      "text/html": [
       "<div>\n",
       "<style scoped>\n",
       "    .dataframe tbody tr th:only-of-type {\n",
       "        vertical-align: middle;\n",
       "    }\n",
       "\n",
       "    .dataframe tbody tr th {\n",
       "        vertical-align: top;\n",
       "    }\n",
       "\n",
       "    .dataframe thead th {\n",
       "        text-align: right;\n",
       "    }\n",
       "</style>\n",
       "<table border=\"1\" class=\"dataframe\">\n",
       "  <thead>\n",
       "    <tr style=\"text-align: right;\">\n",
       "      <th></th>\n",
       "      <th>idaviso</th>\n",
       "      <th>titulo</th>\n",
       "      <th>descripcion</th>\n",
       "      <th>tipo_de_trabajo</th>\n",
       "      <th>nivel_laboral</th>\n",
       "      <th>nombre_area</th>\n",
       "    </tr>\n",
       "  </thead>\n",
       "  <tbody>\n",
       "    <tr>\n",
       "      <th>0</th>\n",
       "      <td>1112486428</td>\n",
       "      <td>['jefe', 'operaciones', 'ingeniero', 'procesos']</td>\n",
       "      <td>[('equipo', 6), ('plantas', 5), ('operaciones'...</td>\n",
       "      <td>Full-time</td>\n",
       "      <td>Jefe/Supervisor/Responsable</td>\n",
       "      <td>IngenieríadeProcesos</td>\n",
       "    </tr>\n",
       "  </tbody>\n",
       "</table>\n",
       "</div>"
      ],
      "text/plain": [
       "      idaviso                                            titulo  \\\n",
       "0  1112486428  ['jefe', 'operaciones', 'ingeniero', 'procesos']   \n",
       "\n",
       "                                         descripcion tipo_de_trabajo  \\\n",
       "0  [('equipo', 6), ('plantas', 5), ('operaciones'...       Full-time   \n",
       "\n",
       "                 nivel_laboral           nombre_area  \n",
       "0  Jefe/Supervisor/Responsable  IngenieríadeProcesos  "
      ]
     },
     "execution_count": 14,
     "metadata": {},
     "output_type": "execute_result"
    }
   ],
   "source": [
    "avisos_sample.reset_index(inplace=True)\n",
    "avisos_sample.drop(columns = 'index', inplace = True)\n",
    "avisos_sample.head(1)"
   ]
  },
  {
   "cell_type": "code",
   "execution_count": 15,
   "metadata": {},
   "outputs": [],
   "source": [
    "no_postulados = postulantes_sample.join(avisos_sample)"
   ]
  },
  {
   "cell_type": "code",
   "execution_count": 17,
   "metadata": {},
   "outputs": [
    {
     "name": "stdout",
     "output_type": "stream",
     "text": [
      "6500000\n"
     ]
    },
    {
     "data": {
      "text/html": [
       "<div>\n",
       "<style scoped>\n",
       "    .dataframe tbody tr th:only-of-type {\n",
       "        vertical-align: middle;\n",
       "    }\n",
       "\n",
       "    .dataframe tbody tr th {\n",
       "        vertical-align: top;\n",
       "    }\n",
       "\n",
       "    .dataframe thead th {\n",
       "        text-align: right;\n",
       "    }\n",
       "</style>\n",
       "<table border=\"1\" class=\"dataframe\">\n",
       "  <thead>\n",
       "    <tr style=\"text-align: right;\">\n",
       "      <th></th>\n",
       "      <th>idpostulante</th>\n",
       "      <th>nombre_estudio</th>\n",
       "      <th>estado_estudio</th>\n",
       "      <th>fechanacimiento</th>\n",
       "      <th>sexo</th>\n",
       "      <th>edad</th>\n",
       "      <th>idaviso</th>\n",
       "      <th>titulo</th>\n",
       "      <th>descripcion</th>\n",
       "      <th>tipo_de_trabajo</th>\n",
       "      <th>nivel_laboral</th>\n",
       "      <th>nombre_area</th>\n",
       "    </tr>\n",
       "  </thead>\n",
       "  <tbody>\n",
       "    <tr>\n",
       "      <th>0</th>\n",
       "      <td>eLz8or</td>\n",
       "      <td>Terciario/Tecnico</td>\n",
       "      <td>Graduado</td>\n",
       "      <td>1985-10-05</td>\n",
       "      <td>FEM</td>\n",
       "      <td>33</td>\n",
       "      <td>1112486428</td>\n",
       "      <td>['jefe', 'operaciones', 'ingeniero', 'procesos']</td>\n",
       "      <td>[('equipo', 6), ('plantas', 5), ('operaciones'...</td>\n",
       "      <td>Full-time</td>\n",
       "      <td>Jefe/Supervisor/Responsable</td>\n",
       "      <td>IngenieríadeProcesos</td>\n",
       "    </tr>\n",
       "  </tbody>\n",
       "</table>\n",
       "</div>"
      ],
      "text/plain": [
       "  idpostulante     nombre_estudio estado_estudio fechanacimiento sexo  edad  \\\n",
       "0       eLz8or  Terciario/Tecnico       Graduado      1985-10-05  FEM    33   \n",
       "\n",
       "      idaviso                                            titulo  \\\n",
       "0  1112486428  ['jefe', 'operaciones', 'ingeniero', 'procesos']   \n",
       "\n",
       "                                         descripcion tipo_de_trabajo  \\\n",
       "0  [('equipo', 6), ('plantas', 5), ('operaciones'...       Full-time   \n",
       "\n",
       "                 nivel_laboral           nombre_area  \n",
       "0  Jefe/Supervisor/Responsable  IngenieríadeProcesos  "
      ]
     },
     "execution_count": 17,
     "metadata": {},
     "output_type": "execute_result"
    }
   ],
   "source": [
    "print(len(no_postulados))\n",
    "no_postulados.head(1)"
   ]
  },
  {
   "cell_type": "code",
   "execution_count": null,
   "metadata": {},
   "outputs": [],
   "source": [
    "no_postulados.to_csv('../data/no_postulados.csv', index=False, sep=',', encoding='utf-8')"
   ]
  },
  {
   "cell_type": "markdown",
   "metadata": {},
   "source": [
    "### Joineo al de entrenamiento con postulaciones (vistas por el momento no) y al de test con el pedido"
   ]
  },
  {
   "cell_type": "code",
   "execution_count": 9,
   "metadata": {},
   "outputs": [
    {
     "name": "stdout",
     "output_type": "stream",
     "text": [
      "6604534\n"
     ]
    }
   ],
   "source": [
    "print(len(postulaciones))"
   ]
  },
  {
   "cell_type": "code",
   "execution_count": 10,
   "metadata": {},
   "outputs": [
    {
     "data": {
      "text/html": [
       "<div>\n",
       "<style scoped>\n",
       "    .dataframe tbody tr th:only-of-type {\n",
       "        vertical-align: middle;\n",
       "    }\n",
       "\n",
       "    .dataframe tbody tr th {\n",
       "        vertical-align: top;\n",
       "    }\n",
       "\n",
       "    .dataframe thead th {\n",
       "        text-align: right;\n",
       "    }\n",
       "</style>\n",
       "<table border=\"1\" class=\"dataframe\">\n",
       "  <thead>\n",
       "    <tr style=\"text-align: right;\">\n",
       "      <th></th>\n",
       "      <th>idaviso</th>\n",
       "      <th>idpostulante</th>\n",
       "      <th>fechapostulacion</th>\n",
       "    </tr>\n",
       "  </thead>\n",
       "  <tbody>\n",
       "    <tr>\n",
       "      <th>0</th>\n",
       "      <td>1112257047</td>\n",
       "      <td>NM5M</td>\n",
       "      <td>2018-01-15 16:22:34</td>\n",
       "    </tr>\n",
       "  </tbody>\n",
       "</table>\n",
       "</div>"
      ],
      "text/plain": [
       "      idaviso idpostulante     fechapostulacion\n",
       "0  1112257047         NM5M  2018-01-15 16:22:34"
      ]
     },
     "execution_count": 10,
     "metadata": {},
     "output_type": "execute_result"
    }
   ],
   "source": [
    "postulaciones.head(1)"
   ]
  },
  {
   "cell_type": "code",
   "execution_count": 11,
   "metadata": {},
   "outputs": [],
   "source": [
    "postulaciones_postulantes = pd.merge(postulaciones, postulantes_joined, on='idpostulante', how='left')"
   ]
  },
  {
   "cell_type": "code",
   "execution_count": 12,
   "metadata": {},
   "outputs": [],
   "source": [
    "postulaciones_postulantes_test = pd.merge(data_predecir, postulantes_joined, on='idpostulante', how='left')"
   ]
  },
  {
   "cell_type": "code",
   "execution_count": 13,
   "metadata": {},
   "outputs": [
    {
     "data": {
      "text/plain": [
       "False"
      ]
     },
     "execution_count": 13,
     "metadata": {},
     "output_type": "execute_result"
    }
   ],
   "source": [
    "postulaciones_postulantes_test.duplicated('id').any()"
   ]
  },
  {
   "cell_type": "code",
   "execution_count": 14,
   "metadata": {},
   "outputs": [
    {
     "data": {
      "text/html": [
       "<div>\n",
       "<style scoped>\n",
       "    .dataframe tbody tr th:only-of-type {\n",
       "        vertical-align: middle;\n",
       "    }\n",
       "\n",
       "    .dataframe tbody tr th {\n",
       "        vertical-align: top;\n",
       "    }\n",
       "\n",
       "    .dataframe thead th {\n",
       "        text-align: right;\n",
       "    }\n",
       "</style>\n",
       "<table border=\"1\" class=\"dataframe\">\n",
       "  <thead>\n",
       "    <tr style=\"text-align: right;\">\n",
       "      <th></th>\n",
       "      <th>idaviso</th>\n",
       "      <th>idpostulante</th>\n",
       "      <th>fechapostulacion</th>\n",
       "      <th>nombre_estudio</th>\n",
       "      <th>estado_estudio</th>\n",
       "      <th>fechanacimiento</th>\n",
       "      <th>sexo</th>\n",
       "      <th>edad</th>\n",
       "    </tr>\n",
       "  </thead>\n",
       "  <tbody>\n",
       "    <tr>\n",
       "      <th>0</th>\n",
       "      <td>1112257047</td>\n",
       "      <td>NM5M</td>\n",
       "      <td>2018-01-15 16:22:34</td>\n",
       "      <td>Secundario</td>\n",
       "      <td>Graduado</td>\n",
       "      <td>1970-12-03</td>\n",
       "      <td>FEM</td>\n",
       "      <td>48</td>\n",
       "    </tr>\n",
       "  </tbody>\n",
       "</table>\n",
       "</div>"
      ],
      "text/plain": [
       "      idaviso idpostulante     fechapostulacion nombre_estudio estado_estudio  \\\n",
       "0  1112257047         NM5M  2018-01-15 16:22:34     Secundario       Graduado   \n",
       "\n",
       "  fechanacimiento sexo  edad  \n",
       "0      1970-12-03  FEM    48  "
      ]
     },
     "execution_count": 14,
     "metadata": {},
     "output_type": "execute_result"
    }
   ],
   "source": [
    "postulaciones_postulantes.head(1)"
   ]
  },
  {
   "cell_type": "code",
   "execution_count": 15,
   "metadata": {},
   "outputs": [
    {
     "data": {
      "text/html": [
       "<div>\n",
       "<style scoped>\n",
       "    .dataframe tbody tr th:only-of-type {\n",
       "        vertical-align: middle;\n",
       "    }\n",
       "\n",
       "    .dataframe tbody tr th {\n",
       "        vertical-align: top;\n",
       "    }\n",
       "\n",
       "    .dataframe thead th {\n",
       "        text-align: right;\n",
       "    }\n",
       "</style>\n",
       "<table border=\"1\" class=\"dataframe\">\n",
       "  <thead>\n",
       "    <tr style=\"text-align: right;\">\n",
       "      <th></th>\n",
       "      <th>id</th>\n",
       "      <th>idaviso</th>\n",
       "      <th>idpostulante</th>\n",
       "      <th>nombre_estudio</th>\n",
       "      <th>estado_estudio</th>\n",
       "      <th>fechanacimiento</th>\n",
       "      <th>sexo</th>\n",
       "      <th>edad</th>\n",
       "    </tr>\n",
       "  </thead>\n",
       "  <tbody>\n",
       "    <tr>\n",
       "      <th>0</th>\n",
       "      <td>0</td>\n",
       "      <td>739260</td>\n",
       "      <td>6M9ZQR</td>\n",
       "      <td>Doctorado</td>\n",
       "      <td>Graduado</td>\n",
       "      <td>1976-03-29</td>\n",
       "      <td>FEM</td>\n",
       "      <td>42.0</td>\n",
       "    </tr>\n",
       "  </tbody>\n",
       "</table>\n",
       "</div>"
      ],
      "text/plain": [
       "   id  idaviso idpostulante nombre_estudio estado_estudio fechanacimiento  \\\n",
       "0   0   739260       6M9ZQR      Doctorado       Graduado      1976-03-29   \n",
       "\n",
       "  sexo  edad  \n",
       "0  FEM  42.0  "
      ]
     },
     "execution_count": 15,
     "metadata": {},
     "output_type": "execute_result"
    }
   ],
   "source": [
    "postulaciones_postulantes_test.head(1)"
   ]
  },
  {
   "cell_type": "code",
   "execution_count": 16,
   "metadata": {},
   "outputs": [
    {
     "name": "stdout",
     "output_type": "stream",
     "text": [
      "6604615\n"
     ]
    }
   ],
   "source": [
    "print(len(postulaciones_postulantes))"
   ]
  },
  {
   "cell_type": "code",
   "execution_count": 17,
   "metadata": {},
   "outputs": [
    {
     "data": {
      "text/plain": [
       "idaviso             False\n",
       "idpostulante        False\n",
       "fechapostulacion    False\n",
       "nombre_estudio      False\n",
       "estado_estudio      False\n",
       "fechanacimiento     False\n",
       "sexo                False\n",
       "edad                False\n",
       "dtype: bool"
      ]
     },
     "execution_count": 17,
     "metadata": {},
     "output_type": "execute_result"
    }
   ],
   "source": [
    "postulaciones_postulantes.isnull().any()"
   ]
  },
  {
   "cell_type": "code",
   "execution_count": 18,
   "metadata": {},
   "outputs": [
    {
     "data": {
      "text/plain": [
       "id                 False\n",
       "idaviso            False\n",
       "idpostulante       False\n",
       "nombre_estudio      True\n",
       "estado_estudio      True\n",
       "fechanacimiento     True\n",
       "sexo                True\n",
       "edad                True\n",
       "dtype: bool"
      ]
     },
     "execution_count": 18,
     "metadata": {},
     "output_type": "execute_result"
    }
   ],
   "source": [
    "postulaciones_postulantes_test.isnull().any()"
   ]
  },
  {
   "cell_type": "raw",
   "metadata": {},
   "source": [
    "Se ve que entre los datos a predecir hay datos de postulantes que no conocemos. Los reemplazamos con los valores mas frecuentes"
   ]
  },
  {
   "cell_type": "code",
   "execution_count": 19,
   "metadata": {},
   "outputs": [
    {
     "data": {
      "text/plain": [
       "False"
      ]
     },
     "execution_count": 19,
     "metadata": {},
     "output_type": "execute_result"
    }
   ],
   "source": [
    "most_freq_nombre_estudio = postulaciones_postulantes_test.nombre_estudio.mode()[0]\n",
    "postulaciones_postulantes_test.nombre_estudio.fillna(most_freq_nombre_estudio,inplace=True)\n",
    "postulaciones_postulantes_test.nombre_estudio.isnull().any()"
   ]
  },
  {
   "cell_type": "code",
   "execution_count": 20,
   "metadata": {},
   "outputs": [
    {
     "data": {
      "text/plain": [
       "False"
      ]
     },
     "execution_count": 20,
     "metadata": {},
     "output_type": "execute_result"
    }
   ],
   "source": [
    "most_freq_estado_estudio = postulaciones_postulantes_test.estado_estudio.mode()[0]\n",
    "postulaciones_postulantes_test.estado_estudio.fillna(most_freq_estado_estudio,inplace=True)\n",
    "postulaciones_postulantes_test.estado_estudio.isnull().any()"
   ]
  },
  {
   "cell_type": "code",
   "execution_count": 21,
   "metadata": {},
   "outputs": [
    {
     "data": {
      "text/plain": [
       "False"
      ]
     },
     "execution_count": 21,
     "metadata": {},
     "output_type": "execute_result"
    }
   ],
   "source": [
    "most_freq_fechanacimiento = postulaciones_postulantes_test.fechanacimiento.mode()[0]\n",
    "postulaciones_postulantes_test.fechanacimiento.fillna(most_freq_fechanacimiento,inplace=True)\n",
    "postulaciones_postulantes_test.fechanacimiento.isnull().any()"
   ]
  },
  {
   "cell_type": "code",
   "execution_count": 22,
   "metadata": {},
   "outputs": [
    {
     "data": {
      "text/plain": [
       "False"
      ]
     },
     "execution_count": 22,
     "metadata": {},
     "output_type": "execute_result"
    }
   ],
   "source": [
    "most_freq_sexo = postulaciones_postulantes_test.sexo.mode()[0]\n",
    "postulaciones_postulantes_test.sexo.fillna(most_freq_sexo,inplace=True)\n",
    "postulaciones_postulantes_test.sexo.isnull().any()"
   ]
  },
  {
   "cell_type": "code",
   "execution_count": 23,
   "metadata": {},
   "outputs": [
    {
     "data": {
      "text/plain": [
       "False"
      ]
     },
     "execution_count": 23,
     "metadata": {},
     "output_type": "execute_result"
    }
   ],
   "source": [
    "most_freq_edad = postulaciones_postulantes_test.edad.mode()[0]\n",
    "postulaciones_postulantes_test.edad.fillna(most_freq_edad,inplace=True)\n",
    "postulaciones_postulantes_test.edad.isnull().any()"
   ]
  },
  {
   "cell_type": "code",
   "execution_count": 19,
   "metadata": {},
   "outputs": [
    {
     "data": {
      "text/plain": [
       "idpostulante       False\n",
       "nombre_estudio     False\n",
       "estado_estudio     False\n",
       "fechanacimiento    False\n",
       "sexo               False\n",
       "edad               False\n",
       "idaviso            False\n",
       "titulo             False\n",
       "descripcion        False\n",
       "tipo_de_trabajo    False\n",
       "nivel_laboral      False\n",
       "nombre_area        False\n",
       "dtype: bool"
      ]
     },
     "execution_count": 19,
     "metadata": {},
     "output_type": "execute_result"
    }
   ],
   "source": [
    "no_postulados.isnull().any()"
   ]
  },
  {
   "cell_type": "code",
   "execution_count": 24,
   "metadata": {},
   "outputs": [
    {
     "data": {
      "text/plain": [
       "id                 False\n",
       "idaviso            False\n",
       "idpostulante       False\n",
       "nombre_estudio     False\n",
       "estado_estudio     False\n",
       "fechanacimiento    False\n",
       "sexo               False\n",
       "edad               False\n",
       "dtype: bool"
      ]
     },
     "execution_count": 24,
     "metadata": {},
     "output_type": "execute_result"
    }
   ],
   "source": [
    "postulaciones_postulantes_test.isnull().any()"
   ]
  },
  {
   "cell_type": "code",
   "execution_count": 25,
   "metadata": {},
   "outputs": [
    {
     "data": {
      "text/plain": [
       "id                 False\n",
       "idaviso            False\n",
       "idpostulante       False\n",
       "nombre_estudio     False\n",
       "estado_estudio     False\n",
       "fechanacimiento    False\n",
       "sexo               False\n",
       "edad               False\n",
       "dtype: bool"
      ]
     },
     "execution_count": 25,
     "metadata": {},
     "output_type": "execute_result"
    }
   ],
   "source": [
    "postulaciones_postulantes_test.isnull().any()"
   ]
  },
  {
   "cell_type": "raw",
   "metadata": {},
   "source": [
    "Una vez que tenemos los dos sets sin nulos aplicamos one hot encoding"
   ]
  },
  {
   "cell_type": "markdown",
   "metadata": {},
   "source": [
    "#### One hot encoding de columnas categoricas"
   ]
  },
  {
   "cell_type": "raw",
   "metadata": {},
   "source": [
    "Separo columna nombre y estado estudio en columnas booleanas por cada categoria"
   ]
  },
  {
   "cell_type": "code",
   "execution_count": 26,
   "metadata": {},
   "outputs": [],
   "source": [
    "postulaciones_postulantes['nombre_estudio'] = postulaciones_postulantes['nombre_estudio'].astype(str)\n",
    "postulaciones_postulantes['estado_estudio'] = postulaciones_postulantes['estado_estudio'].astype(str)\n",
    "postulaciones_postulantes_test['nombre_estudio'] = postulaciones_postulantes_test['nombre_estudio'].astype(str)\n",
    "postulaciones_postulantes_test['estado_estudio'] = postulaciones_postulantes_test['estado_estudio'].astype(str)"
   ]
  },
  {
   "cell_type": "code",
   "execution_count": 20,
   "metadata": {},
   "outputs": [],
   "source": [
    "no_postulados['nombre_estudio'] = no_postulados['nombre_estudio'].astype(str)\n",
    "no_postulados['estado_estudio'] = no_postulados['estado_estudio'].astype(str)"
   ]
  },
  {
   "cell_type": "code",
   "execution_count": 27,
   "metadata": {},
   "outputs": [
    {
     "data": {
      "text/html": [
       "<div>\n",
       "<style scoped>\n",
       "    .dataframe tbody tr th:only-of-type {\n",
       "        vertical-align: middle;\n",
       "    }\n",
       "\n",
       "    .dataframe tbody tr th {\n",
       "        vertical-align: top;\n",
       "    }\n",
       "\n",
       "    .dataframe thead th {\n",
       "        text-align: right;\n",
       "    }\n",
       "</style>\n",
       "<table border=\"1\" class=\"dataframe\">\n",
       "  <thead>\n",
       "    <tr style=\"text-align: right;\">\n",
       "      <th></th>\n",
       "      <th>idaviso</th>\n",
       "      <th>idpostulante</th>\n",
       "      <th>fechapostulacion</th>\n",
       "      <th>nombre_estudio</th>\n",
       "      <th>estado_estudio</th>\n",
       "      <th>fechanacimiento</th>\n",
       "      <th>sexo</th>\n",
       "      <th>edad</th>\n",
       "    </tr>\n",
       "  </thead>\n",
       "  <tbody>\n",
       "    <tr>\n",
       "      <th>0</th>\n",
       "      <td>1112257047</td>\n",
       "      <td>NM5M</td>\n",
       "      <td>2018-01-15 16:22:34</td>\n",
       "      <td>Secundario</td>\n",
       "      <td>Graduado</td>\n",
       "      <td>1970-12-03</td>\n",
       "      <td>FEM</td>\n",
       "      <td>48</td>\n",
       "    </tr>\n",
       "  </tbody>\n",
       "</table>\n",
       "</div>"
      ],
      "text/plain": [
       "      idaviso idpostulante     fechapostulacion nombre_estudio estado_estudio  \\\n",
       "0  1112257047         NM5M  2018-01-15 16:22:34     Secundario       Graduado   \n",
       "\n",
       "  fechanacimiento sexo  edad  \n",
       "0      1970-12-03  FEM    48  "
      ]
     },
     "execution_count": 27,
     "metadata": {},
     "output_type": "execute_result"
    }
   ],
   "source": [
    "postulaciones_postulantes.head(1)"
   ]
  },
  {
   "cell_type": "code",
   "execution_count": 28,
   "metadata": {},
   "outputs": [],
   "source": [
    "nombres_estudio = postulaciones_postulantes.nombre_estudio.str.get_dummies()\n",
    "nombres_estudio.columns = ['nombre_estudio_' + col for col in nombres_estudio.columns]\n",
    "postulaciones_postulantes = pd.concat([postulaciones_postulantes, nombres_estudio], axis=1)"
   ]
  },
  {
   "cell_type": "code",
   "execution_count": 29,
   "metadata": {},
   "outputs": [
    {
     "data": {
      "text/html": [
       "<div>\n",
       "<style scoped>\n",
       "    .dataframe tbody tr th:only-of-type {\n",
       "        vertical-align: middle;\n",
       "    }\n",
       "\n",
       "    .dataframe tbody tr th {\n",
       "        vertical-align: top;\n",
       "    }\n",
       "\n",
       "    .dataframe thead th {\n",
       "        text-align: right;\n",
       "    }\n",
       "</style>\n",
       "<table border=\"1\" class=\"dataframe\">\n",
       "  <thead>\n",
       "    <tr style=\"text-align: right;\">\n",
       "      <th></th>\n",
       "      <th>idaviso</th>\n",
       "      <th>idpostulante</th>\n",
       "      <th>fechapostulacion</th>\n",
       "      <th>nombre_estudio</th>\n",
       "      <th>estado_estudio</th>\n",
       "      <th>fechanacimiento</th>\n",
       "      <th>sexo</th>\n",
       "      <th>edad</th>\n",
       "      <th>nombre_estudio_Doctorado</th>\n",
       "      <th>nombre_estudio_Master</th>\n",
       "      <th>nombre_estudio_Otro</th>\n",
       "      <th>nombre_estudio_Posgrado</th>\n",
       "      <th>nombre_estudio_Secundario</th>\n",
       "      <th>nombre_estudio_Terciario/Tecnico</th>\n",
       "      <th>nombre_estudio_Universitario</th>\n",
       "    </tr>\n",
       "  </thead>\n",
       "  <tbody>\n",
       "    <tr>\n",
       "      <th>0</th>\n",
       "      <td>1112257047</td>\n",
       "      <td>NM5M</td>\n",
       "      <td>2018-01-15 16:22:34</td>\n",
       "      <td>Secundario</td>\n",
       "      <td>Graduado</td>\n",
       "      <td>1970-12-03</td>\n",
       "      <td>FEM</td>\n",
       "      <td>48</td>\n",
       "      <td>0</td>\n",
       "      <td>0</td>\n",
       "      <td>0</td>\n",
       "      <td>0</td>\n",
       "      <td>1</td>\n",
       "      <td>0</td>\n",
       "      <td>0</td>\n",
       "    </tr>\n",
       "  </tbody>\n",
       "</table>\n",
       "</div>"
      ],
      "text/plain": [
       "      idaviso idpostulante     fechapostulacion nombre_estudio estado_estudio  \\\n",
       "0  1112257047         NM5M  2018-01-15 16:22:34     Secundario       Graduado   \n",
       "\n",
       "  fechanacimiento sexo  edad  nombre_estudio_Doctorado  nombre_estudio_Master  \\\n",
       "0      1970-12-03  FEM    48                         0                      0   \n",
       "\n",
       "   nombre_estudio_Otro  nombre_estudio_Posgrado  nombre_estudio_Secundario  \\\n",
       "0                    0                        0                          1   \n",
       "\n",
       "   nombre_estudio_Terciario/Tecnico  nombre_estudio_Universitario  \n",
       "0                                 0                             0  "
      ]
     },
     "execution_count": 29,
     "metadata": {},
     "output_type": "execute_result"
    }
   ],
   "source": [
    "postulaciones_postulantes.head(1)"
   ]
  },
  {
   "cell_type": "code",
   "execution_count": 30,
   "metadata": {},
   "outputs": [],
   "source": [
    "nombres_estudio = postulaciones_postulantes_test.nombre_estudio.str.get_dummies()\n",
    "nombres_estudio.columns = ['nombre_estudio_' + col for col in nombres_estudio.columns]\n",
    "postulaciones_postulantes_test = pd.concat([postulaciones_postulantes_test, nombres_estudio], axis=1)"
   ]
  },
  {
   "cell_type": "code",
   "execution_count": 31,
   "metadata": {},
   "outputs": [
    {
     "data": {
      "text/html": [
       "<div>\n",
       "<style scoped>\n",
       "    .dataframe tbody tr th:only-of-type {\n",
       "        vertical-align: middle;\n",
       "    }\n",
       "\n",
       "    .dataframe tbody tr th {\n",
       "        vertical-align: top;\n",
       "    }\n",
       "\n",
       "    .dataframe thead th {\n",
       "        text-align: right;\n",
       "    }\n",
       "</style>\n",
       "<table border=\"1\" class=\"dataframe\">\n",
       "  <thead>\n",
       "    <tr style=\"text-align: right;\">\n",
       "      <th></th>\n",
       "      <th>id</th>\n",
       "      <th>idaviso</th>\n",
       "      <th>idpostulante</th>\n",
       "      <th>nombre_estudio</th>\n",
       "      <th>estado_estudio</th>\n",
       "      <th>fechanacimiento</th>\n",
       "      <th>sexo</th>\n",
       "      <th>edad</th>\n",
       "      <th>nombre_estudio_Doctorado</th>\n",
       "      <th>nombre_estudio_Master</th>\n",
       "      <th>nombre_estudio_Otro</th>\n",
       "      <th>nombre_estudio_Posgrado</th>\n",
       "      <th>nombre_estudio_Secundario</th>\n",
       "      <th>nombre_estudio_Terciario/Tecnico</th>\n",
       "      <th>nombre_estudio_Universitario</th>\n",
       "    </tr>\n",
       "  </thead>\n",
       "  <tbody>\n",
       "    <tr>\n",
       "      <th>0</th>\n",
       "      <td>0</td>\n",
       "      <td>739260</td>\n",
       "      <td>6M9ZQR</td>\n",
       "      <td>Doctorado</td>\n",
       "      <td>Graduado</td>\n",
       "      <td>1976-03-29</td>\n",
       "      <td>FEM</td>\n",
       "      <td>42.0</td>\n",
       "      <td>1</td>\n",
       "      <td>0</td>\n",
       "      <td>0</td>\n",
       "      <td>0</td>\n",
       "      <td>0</td>\n",
       "      <td>0</td>\n",
       "      <td>0</td>\n",
       "    </tr>\n",
       "  </tbody>\n",
       "</table>\n",
       "</div>"
      ],
      "text/plain": [
       "   id  idaviso idpostulante nombre_estudio estado_estudio fechanacimiento  \\\n",
       "0   0   739260       6M9ZQR      Doctorado       Graduado      1976-03-29   \n",
       "\n",
       "  sexo  edad  nombre_estudio_Doctorado  nombre_estudio_Master  \\\n",
       "0  FEM  42.0                         1                      0   \n",
       "\n",
       "   nombre_estudio_Otro  nombre_estudio_Posgrado  nombre_estudio_Secundario  \\\n",
       "0                    0                        0                          0   \n",
       "\n",
       "   nombre_estudio_Terciario/Tecnico  nombre_estudio_Universitario  \n",
       "0                                 0                             0  "
      ]
     },
     "execution_count": 31,
     "metadata": {},
     "output_type": "execute_result"
    }
   ],
   "source": [
    "postulaciones_postulantes_test.head(1)"
   ]
  },
  {
   "cell_type": "code",
   "execution_count": 21,
   "metadata": {},
   "outputs": [],
   "source": [
    "nombres_estudio = no_postulados.nombre_estudio.str.get_dummies()\n",
    "nombres_estudio.columns = ['nombre_estudio_' + col for col in nombres_estudio.columns]\n",
    "no_postulados = pd.concat([no_postulados, nombres_estudio], axis=1)"
   ]
  },
  {
   "cell_type": "code",
   "execution_count": 32,
   "metadata": {},
   "outputs": [
    {
     "data": {
      "text/plain": [
       "Index(['idaviso', 'idpostulante', 'fechapostulacion', 'nombre_estudio',\n",
       "       'estado_estudio', 'fechanacimiento', 'sexo', 'edad',\n",
       "       'nombre_estudio_Doctorado', 'nombre_estudio_Master',\n",
       "       'nombre_estudio_Otro', 'nombre_estudio_Posgrado',\n",
       "       'nombre_estudio_Secundario', 'nombre_estudio_Terciario/Tecnico',\n",
       "       'nombre_estudio_Universitario'],\n",
       "      dtype='object')"
      ]
     },
     "execution_count": 32,
     "metadata": {},
     "output_type": "execute_result"
    }
   ],
   "source": [
    "postulaciones_postulantes.columns"
   ]
  },
  {
   "cell_type": "code",
   "execution_count": 33,
   "metadata": {},
   "outputs": [
    {
     "data": {
      "text/plain": [
       "Index(['id', 'idaviso', 'idpostulante', 'nombre_estudio', 'estado_estudio',\n",
       "       'fechanacimiento', 'sexo', 'edad', 'nombre_estudio_Doctorado',\n",
       "       'nombre_estudio_Master', 'nombre_estudio_Otro',\n",
       "       'nombre_estudio_Posgrado', 'nombre_estudio_Secundario',\n",
       "       'nombre_estudio_Terciario/Tecnico', 'nombre_estudio_Universitario'],\n",
       "      dtype='object')"
      ]
     },
     "execution_count": 33,
     "metadata": {},
     "output_type": "execute_result"
    }
   ],
   "source": [
    "postulaciones_postulantes_test.columns"
   ]
  },
  {
   "cell_type": "code",
   "execution_count": 22,
   "metadata": {},
   "outputs": [
    {
     "data": {
      "text/plain": [
       "Index(['idpostulante', 'nombre_estudio', 'estado_estudio', 'fechanacimiento',\n",
       "       'sexo', 'edad', 'idaviso', 'titulo', 'descripcion', 'tipo_de_trabajo',\n",
       "       'nivel_laboral', 'nombre_area', 'nombre_estudio_Doctorado',\n",
       "       'nombre_estudio_Master', 'nombre_estudio_Otro',\n",
       "       'nombre_estudio_Posgrado', 'nombre_estudio_Secundario',\n",
       "       'nombre_estudio_Terciario/Tecnico', 'nombre_estudio_Universitario'],\n",
       "      dtype='object')"
      ]
     },
     "execution_count": 22,
     "metadata": {},
     "output_type": "execute_result"
    }
   ],
   "source": [
    "no_postulados.columns"
   ]
  },
  {
   "cell_type": "code",
   "execution_count": 34,
   "metadata": {},
   "outputs": [
    {
     "data": {
      "text/html": [
       "<div>\n",
       "<style scoped>\n",
       "    .dataframe tbody tr th:only-of-type {\n",
       "        vertical-align: middle;\n",
       "    }\n",
       "\n",
       "    .dataframe tbody tr th {\n",
       "        vertical-align: top;\n",
       "    }\n",
       "\n",
       "    .dataframe thead th {\n",
       "        text-align: right;\n",
       "    }\n",
       "</style>\n",
       "<table border=\"1\" class=\"dataframe\">\n",
       "  <thead>\n",
       "    <tr style=\"text-align: right;\">\n",
       "      <th></th>\n",
       "      <th>idaviso</th>\n",
       "      <th>idpostulante</th>\n",
       "      <th>fechapostulacion</th>\n",
       "      <th>nombre_estudio</th>\n",
       "      <th>estado_estudio</th>\n",
       "      <th>fechanacimiento</th>\n",
       "      <th>sexo</th>\n",
       "      <th>edad</th>\n",
       "      <th>nombre_estudio_Doctorado</th>\n",
       "      <th>nombre_estudio_Master</th>\n",
       "      <th>nombre_estudio_Otro</th>\n",
       "      <th>nombre_estudio_Posgrado</th>\n",
       "      <th>nombre_estudio_Secundario</th>\n",
       "      <th>nombre_estudio_Terciario/Tecnico</th>\n",
       "      <th>nombre_estudio_Universitario</th>\n",
       "      <th>estado_estudio_Abandonado</th>\n",
       "      <th>estado_estudio_EnCurso</th>\n",
       "      <th>estado_estudio_Graduado</th>\n",
       "    </tr>\n",
       "  </thead>\n",
       "  <tbody>\n",
       "    <tr>\n",
       "      <th>0</th>\n",
       "      <td>1112257047</td>\n",
       "      <td>NM5M</td>\n",
       "      <td>2018-01-15 16:22:34</td>\n",
       "      <td>Secundario</td>\n",
       "      <td>Graduado</td>\n",
       "      <td>1970-12-03</td>\n",
       "      <td>FEM</td>\n",
       "      <td>48</td>\n",
       "      <td>0</td>\n",
       "      <td>0</td>\n",
       "      <td>0</td>\n",
       "      <td>0</td>\n",
       "      <td>1</td>\n",
       "      <td>0</td>\n",
       "      <td>0</td>\n",
       "      <td>0</td>\n",
       "      <td>0</td>\n",
       "      <td>1</td>\n",
       "    </tr>\n",
       "  </tbody>\n",
       "</table>\n",
       "</div>"
      ],
      "text/plain": [
       "      idaviso idpostulante     fechapostulacion nombre_estudio estado_estudio  \\\n",
       "0  1112257047         NM5M  2018-01-15 16:22:34     Secundario       Graduado   \n",
       "\n",
       "  fechanacimiento sexo  edad  nombre_estudio_Doctorado  nombre_estudio_Master  \\\n",
       "0      1970-12-03  FEM    48                         0                      0   \n",
       "\n",
       "   nombre_estudio_Otro  nombre_estudio_Posgrado  nombre_estudio_Secundario  \\\n",
       "0                    0                        0                          1   \n",
       "\n",
       "   nombre_estudio_Terciario/Tecnico  nombre_estudio_Universitario  \\\n",
       "0                                 0                             0   \n",
       "\n",
       "   estado_estudio_Abandonado  estado_estudio_EnCurso  estado_estudio_Graduado  \n",
       "0                          0                       0                        1  "
      ]
     },
     "execution_count": 34,
     "metadata": {},
     "output_type": "execute_result"
    }
   ],
   "source": [
    "estados_estudio = postulaciones_postulantes.estado_estudio.str.get_dummies()\n",
    "estados_estudio.columns = ['estado_estudio_' + col for col in estados_estudio.columns]\n",
    "postulaciones_postulantes = pd.concat([postulaciones_postulantes, estados_estudio], axis=1)\n",
    "postulaciones_postulantes.head(1)"
   ]
  },
  {
   "cell_type": "code",
   "execution_count": 35,
   "metadata": {},
   "outputs": [
    {
     "data": {
      "text/html": [
       "<div>\n",
       "<style scoped>\n",
       "    .dataframe tbody tr th:only-of-type {\n",
       "        vertical-align: middle;\n",
       "    }\n",
       "\n",
       "    .dataframe tbody tr th {\n",
       "        vertical-align: top;\n",
       "    }\n",
       "\n",
       "    .dataframe thead th {\n",
       "        text-align: right;\n",
       "    }\n",
       "</style>\n",
       "<table border=\"1\" class=\"dataframe\">\n",
       "  <thead>\n",
       "    <tr style=\"text-align: right;\">\n",
       "      <th></th>\n",
       "      <th>id</th>\n",
       "      <th>idaviso</th>\n",
       "      <th>idpostulante</th>\n",
       "      <th>nombre_estudio</th>\n",
       "      <th>estado_estudio</th>\n",
       "      <th>fechanacimiento</th>\n",
       "      <th>sexo</th>\n",
       "      <th>edad</th>\n",
       "      <th>nombre_estudio_Doctorado</th>\n",
       "      <th>nombre_estudio_Master</th>\n",
       "      <th>nombre_estudio_Otro</th>\n",
       "      <th>nombre_estudio_Posgrado</th>\n",
       "      <th>nombre_estudio_Secundario</th>\n",
       "      <th>nombre_estudio_Terciario/Tecnico</th>\n",
       "      <th>nombre_estudio_Universitario</th>\n",
       "      <th>estado_estudio_Abandonado</th>\n",
       "      <th>estado_estudio_EnCurso</th>\n",
       "      <th>estado_estudio_Graduado</th>\n",
       "    </tr>\n",
       "  </thead>\n",
       "  <tbody>\n",
       "    <tr>\n",
       "      <th>0</th>\n",
       "      <td>0</td>\n",
       "      <td>739260</td>\n",
       "      <td>6M9ZQR</td>\n",
       "      <td>Doctorado</td>\n",
       "      <td>Graduado</td>\n",
       "      <td>1976-03-29</td>\n",
       "      <td>FEM</td>\n",
       "      <td>42.0</td>\n",
       "      <td>1</td>\n",
       "      <td>0</td>\n",
       "      <td>0</td>\n",
       "      <td>0</td>\n",
       "      <td>0</td>\n",
       "      <td>0</td>\n",
       "      <td>0</td>\n",
       "      <td>0</td>\n",
       "      <td>0</td>\n",
       "      <td>1</td>\n",
       "    </tr>\n",
       "  </tbody>\n",
       "</table>\n",
       "</div>"
      ],
      "text/plain": [
       "   id  idaviso idpostulante nombre_estudio estado_estudio fechanacimiento  \\\n",
       "0   0   739260       6M9ZQR      Doctorado       Graduado      1976-03-29   \n",
       "\n",
       "  sexo  edad  nombre_estudio_Doctorado  nombre_estudio_Master  \\\n",
       "0  FEM  42.0                         1                      0   \n",
       "\n",
       "   nombre_estudio_Otro  nombre_estudio_Posgrado  nombre_estudio_Secundario  \\\n",
       "0                    0                        0                          0   \n",
       "\n",
       "   nombre_estudio_Terciario/Tecnico  nombre_estudio_Universitario  \\\n",
       "0                                 0                             0   \n",
       "\n",
       "   estado_estudio_Abandonado  estado_estudio_EnCurso  estado_estudio_Graduado  \n",
       "0                          0                       0                        1  "
      ]
     },
     "execution_count": 35,
     "metadata": {},
     "output_type": "execute_result"
    }
   ],
   "source": [
    "estados_estudio = postulaciones_postulantes_test.estado_estudio.str.get_dummies()\n",
    "estados_estudio.columns = ['estado_estudio_' + col for col in estados_estudio.columns]\n",
    "postulaciones_postulantes_test = pd.concat([postulaciones_postulantes_test, estados_estudio], axis=1)\n",
    "postulaciones_postulantes_test.head(1)"
   ]
  },
  {
   "cell_type": "code",
   "execution_count": 23,
   "metadata": {},
   "outputs": [
    {
     "data": {
      "text/html": [
       "<div>\n",
       "<style scoped>\n",
       "    .dataframe tbody tr th:only-of-type {\n",
       "        vertical-align: middle;\n",
       "    }\n",
       "\n",
       "    .dataframe tbody tr th {\n",
       "        vertical-align: top;\n",
       "    }\n",
       "\n",
       "    .dataframe thead th {\n",
       "        text-align: right;\n",
       "    }\n",
       "</style>\n",
       "<table border=\"1\" class=\"dataframe\">\n",
       "  <thead>\n",
       "    <tr style=\"text-align: right;\">\n",
       "      <th></th>\n",
       "      <th>idpostulante</th>\n",
       "      <th>nombre_estudio</th>\n",
       "      <th>estado_estudio</th>\n",
       "      <th>fechanacimiento</th>\n",
       "      <th>sexo</th>\n",
       "      <th>edad</th>\n",
       "      <th>idaviso</th>\n",
       "      <th>titulo</th>\n",
       "      <th>descripcion</th>\n",
       "      <th>tipo_de_trabajo</th>\n",
       "      <th>nivel_laboral</th>\n",
       "      <th>nombre_area</th>\n",
       "      <th>nombre_estudio_Doctorado</th>\n",
       "      <th>nombre_estudio_Master</th>\n",
       "      <th>nombre_estudio_Otro</th>\n",
       "      <th>nombre_estudio_Posgrado</th>\n",
       "      <th>nombre_estudio_Secundario</th>\n",
       "      <th>nombre_estudio_Terciario/Tecnico</th>\n",
       "      <th>nombre_estudio_Universitario</th>\n",
       "      <th>estado_estudio_Abandonado</th>\n",
       "      <th>estado_estudio_EnCurso</th>\n",
       "      <th>estado_estudio_Graduado</th>\n",
       "    </tr>\n",
       "  </thead>\n",
       "  <tbody>\n",
       "    <tr>\n",
       "      <th>0</th>\n",
       "      <td>eLz8or</td>\n",
       "      <td>Terciario/Tecnico</td>\n",
       "      <td>Graduado</td>\n",
       "      <td>1985-10-05</td>\n",
       "      <td>FEM</td>\n",
       "      <td>33</td>\n",
       "      <td>1112486428</td>\n",
       "      <td>['jefe', 'operaciones', 'ingeniero', 'procesos']</td>\n",
       "      <td>[('equipo', 6), ('plantas', 5), ('operaciones'...</td>\n",
       "      <td>Full-time</td>\n",
       "      <td>Jefe/Supervisor/Responsable</td>\n",
       "      <td>IngenieríadeProcesos</td>\n",
       "      <td>0</td>\n",
       "      <td>0</td>\n",
       "      <td>0</td>\n",
       "      <td>0</td>\n",
       "      <td>0</td>\n",
       "      <td>1</td>\n",
       "      <td>0</td>\n",
       "      <td>0</td>\n",
       "      <td>0</td>\n",
       "      <td>1</td>\n",
       "    </tr>\n",
       "  </tbody>\n",
       "</table>\n",
       "</div>"
      ],
      "text/plain": [
       "  idpostulante     nombre_estudio estado_estudio fechanacimiento sexo  edad  \\\n",
       "0       eLz8or  Terciario/Tecnico       Graduado      1985-10-05  FEM    33   \n",
       "\n",
       "      idaviso                                            titulo  \\\n",
       "0  1112486428  ['jefe', 'operaciones', 'ingeniero', 'procesos']   \n",
       "\n",
       "                                         descripcion tipo_de_trabajo  \\\n",
       "0  [('equipo', 6), ('plantas', 5), ('operaciones'...       Full-time   \n",
       "\n",
       "                 nivel_laboral           nombre_area  \\\n",
       "0  Jefe/Supervisor/Responsable  IngenieríadeProcesos   \n",
       "\n",
       "   nombre_estudio_Doctorado  nombre_estudio_Master  nombre_estudio_Otro  \\\n",
       "0                         0                      0                    0   \n",
       "\n",
       "   nombre_estudio_Posgrado  nombre_estudio_Secundario  \\\n",
       "0                        0                          0   \n",
       "\n",
       "   nombre_estudio_Terciario/Tecnico  nombre_estudio_Universitario  \\\n",
       "0                                 1                             0   \n",
       "\n",
       "   estado_estudio_Abandonado  estado_estudio_EnCurso  estado_estudio_Graduado  \n",
       "0                          0                       0                        1  "
      ]
     },
     "execution_count": 23,
     "metadata": {},
     "output_type": "execute_result"
    }
   ],
   "source": [
    "estados_estudio = no_postulados.estado_estudio.str.get_dummies()\n",
    "estados_estudio.columns = ['estado_estudio_' + col for col in estados_estudio.columns]\n",
    "no_postulados = pd.concat([no_postulados, estados_estudio], axis=1)\n",
    "no_postulados.head(1)"
   ]
  },
  {
   "cell_type": "code",
   "execution_count": 36,
   "metadata": {},
   "outputs": [
    {
     "data": {
      "text/html": [
       "<div>\n",
       "<style scoped>\n",
       "    .dataframe tbody tr th:only-of-type {\n",
       "        vertical-align: middle;\n",
       "    }\n",
       "\n",
       "    .dataframe tbody tr th {\n",
       "        vertical-align: top;\n",
       "    }\n",
       "\n",
       "    .dataframe thead th {\n",
       "        text-align: right;\n",
       "    }\n",
       "</style>\n",
       "<table border=\"1\" class=\"dataframe\">\n",
       "  <thead>\n",
       "    <tr style=\"text-align: right;\">\n",
       "      <th></th>\n",
       "      <th>idaviso</th>\n",
       "      <th>idpostulante</th>\n",
       "      <th>fechapostulacion</th>\n",
       "      <th>fechanacimiento</th>\n",
       "      <th>sexo</th>\n",
       "      <th>edad</th>\n",
       "      <th>nombre_estudio_Doctorado</th>\n",
       "      <th>nombre_estudio_Master</th>\n",
       "      <th>nombre_estudio_Otro</th>\n",
       "      <th>nombre_estudio_Posgrado</th>\n",
       "      <th>nombre_estudio_Secundario</th>\n",
       "      <th>nombre_estudio_Terciario/Tecnico</th>\n",
       "      <th>nombre_estudio_Universitario</th>\n",
       "      <th>estado_estudio_Abandonado</th>\n",
       "      <th>estado_estudio_EnCurso</th>\n",
       "      <th>estado_estudio_Graduado</th>\n",
       "    </tr>\n",
       "  </thead>\n",
       "  <tbody>\n",
       "    <tr>\n",
       "      <th>0</th>\n",
       "      <td>1112257047</td>\n",
       "      <td>NM5M</td>\n",
       "      <td>2018-01-15 16:22:34</td>\n",
       "      <td>1970-12-03</td>\n",
       "      <td>FEM</td>\n",
       "      <td>48</td>\n",
       "      <td>0</td>\n",
       "      <td>0</td>\n",
       "      <td>0</td>\n",
       "      <td>0</td>\n",
       "      <td>1</td>\n",
       "      <td>0</td>\n",
       "      <td>0</td>\n",
       "      <td>0</td>\n",
       "      <td>0</td>\n",
       "      <td>1</td>\n",
       "    </tr>\n",
       "  </tbody>\n",
       "</table>\n",
       "</div>"
      ],
      "text/plain": [
       "      idaviso idpostulante     fechapostulacion fechanacimiento sexo  edad  \\\n",
       "0  1112257047         NM5M  2018-01-15 16:22:34      1970-12-03  FEM    48   \n",
       "\n",
       "   nombre_estudio_Doctorado  nombre_estudio_Master  nombre_estudio_Otro  \\\n",
       "0                         0                      0                    0   \n",
       "\n",
       "   nombre_estudio_Posgrado  nombre_estudio_Secundario  \\\n",
       "0                        0                          1   \n",
       "\n",
       "   nombre_estudio_Terciario/Tecnico  nombre_estudio_Universitario  \\\n",
       "0                                 0                             0   \n",
       "\n",
       "   estado_estudio_Abandonado  estado_estudio_EnCurso  estado_estudio_Graduado  \n",
       "0                          0                       0                        1  "
      ]
     },
     "execution_count": 36,
     "metadata": {},
     "output_type": "execute_result"
    }
   ],
   "source": [
    "postulaciones_postulantes.drop(columns=['nombre_estudio', 'estado_estudio'], inplace=True)\n",
    "postulaciones_postulantes_test.drop(columns=['nombre_estudio', 'estado_estudio'], inplace=True)\n",
    "postulaciones_postulantes.head(1)"
   ]
  },
  {
   "cell_type": "code",
   "execution_count": 24,
   "metadata": {},
   "outputs": [],
   "source": [
    "no_postulados.drop(columns=['nombre_estudio', 'estado_estudio'], inplace=True)"
   ]
  },
  {
   "cell_type": "code",
   "execution_count": 37,
   "metadata": {},
   "outputs": [
    {
     "data": {
      "text/html": [
       "<div>\n",
       "<style scoped>\n",
       "    .dataframe tbody tr th:only-of-type {\n",
       "        vertical-align: middle;\n",
       "    }\n",
       "\n",
       "    .dataframe tbody tr th {\n",
       "        vertical-align: top;\n",
       "    }\n",
       "\n",
       "    .dataframe thead th {\n",
       "        text-align: right;\n",
       "    }\n",
       "</style>\n",
       "<table border=\"1\" class=\"dataframe\">\n",
       "  <thead>\n",
       "    <tr style=\"text-align: right;\">\n",
       "      <th></th>\n",
       "      <th>id</th>\n",
       "      <th>idaviso</th>\n",
       "      <th>idpostulante</th>\n",
       "      <th>fechanacimiento</th>\n",
       "      <th>sexo</th>\n",
       "      <th>edad</th>\n",
       "      <th>nombre_estudio_Doctorado</th>\n",
       "      <th>nombre_estudio_Master</th>\n",
       "      <th>nombre_estudio_Otro</th>\n",
       "      <th>nombre_estudio_Posgrado</th>\n",
       "      <th>nombre_estudio_Secundario</th>\n",
       "      <th>nombre_estudio_Terciario/Tecnico</th>\n",
       "      <th>nombre_estudio_Universitario</th>\n",
       "      <th>estado_estudio_Abandonado</th>\n",
       "      <th>estado_estudio_EnCurso</th>\n",
       "      <th>estado_estudio_Graduado</th>\n",
       "    </tr>\n",
       "  </thead>\n",
       "  <tbody>\n",
       "    <tr>\n",
       "      <th>0</th>\n",
       "      <td>0</td>\n",
       "      <td>739260</td>\n",
       "      <td>6M9ZQR</td>\n",
       "      <td>1976-03-29</td>\n",
       "      <td>FEM</td>\n",
       "      <td>42.0</td>\n",
       "      <td>1</td>\n",
       "      <td>0</td>\n",
       "      <td>0</td>\n",
       "      <td>0</td>\n",
       "      <td>0</td>\n",
       "      <td>0</td>\n",
       "      <td>0</td>\n",
       "      <td>0</td>\n",
       "      <td>0</td>\n",
       "      <td>1</td>\n",
       "    </tr>\n",
       "  </tbody>\n",
       "</table>\n",
       "</div>"
      ],
      "text/plain": [
       "   id  idaviso idpostulante fechanacimiento sexo  edad  \\\n",
       "0   0   739260       6M9ZQR      1976-03-29  FEM  42.0   \n",
       "\n",
       "   nombre_estudio_Doctorado  nombre_estudio_Master  nombre_estudio_Otro  \\\n",
       "0                         1                      0                    0   \n",
       "\n",
       "   nombre_estudio_Posgrado  nombre_estudio_Secundario  \\\n",
       "0                        0                          0   \n",
       "\n",
       "   nombre_estudio_Terciario/Tecnico  nombre_estudio_Universitario  \\\n",
       "0                                 0                             0   \n",
       "\n",
       "   estado_estudio_Abandonado  estado_estudio_EnCurso  estado_estudio_Graduado  \n",
       "0                          0                       0                        1  "
      ]
     },
     "execution_count": 37,
     "metadata": {},
     "output_type": "execute_result"
    }
   ],
   "source": [
    "postulaciones_postulantes_test.head(1)"
   ]
  },
  {
   "cell_type": "code",
   "execution_count": 38,
   "metadata": {},
   "outputs": [],
   "source": [
    "postulaciones_postulantes.drop(columns=['fechapostulacion', 'fechanacimiento'], inplace=True)\n",
    "postulaciones_postulantes_test.drop(columns=['fechanacimiento'], inplace=True)"
   ]
  },
  {
   "cell_type": "code",
   "execution_count": 26,
   "metadata": {},
   "outputs": [],
   "source": [
    "no_postulados.drop(columns=['fechanacimiento'], inplace=True)"
   ]
  },
  {
   "cell_type": "raw",
   "metadata": {},
   "source": [
    "Cambiamos la columna sexo por categoricas"
   ]
  },
  {
   "cell_type": "code",
   "execution_count": 39,
   "metadata": {},
   "outputs": [
    {
     "data": {
      "text/plain": [
       "FEM           3354795\n",
       "MASC          3154899\n",
       "NO_DECLARA      94919\n",
       "0.0                 2\n",
       "Name: sexo, dtype: int64"
      ]
     },
     "execution_count": 39,
     "metadata": {},
     "output_type": "execute_result"
    }
   ],
   "source": [
    "postulaciones_postulantes['sexo'].value_counts()"
   ]
  },
  {
   "cell_type": "code",
   "execution_count": 40,
   "metadata": {},
   "outputs": [
    {
     "data": {
      "text/html": [
       "<div>\n",
       "<style scoped>\n",
       "    .dataframe tbody tr th:only-of-type {\n",
       "        vertical-align: middle;\n",
       "    }\n",
       "\n",
       "    .dataframe tbody tr th {\n",
       "        vertical-align: top;\n",
       "    }\n",
       "\n",
       "    .dataframe thead th {\n",
       "        text-align: right;\n",
       "    }\n",
       "</style>\n",
       "<table border=\"1\" class=\"dataframe\">\n",
       "  <thead>\n",
       "    <tr style=\"text-align: right;\">\n",
       "      <th></th>\n",
       "      <th>FEM</th>\n",
       "      <th>MASC</th>\n",
       "      <th>NO_DECLARA</th>\n",
       "    </tr>\n",
       "  </thead>\n",
       "  <tbody>\n",
       "    <tr>\n",
       "      <th>0</th>\n",
       "      <td>1</td>\n",
       "      <td>0</td>\n",
       "      <td>0</td>\n",
       "    </tr>\n",
       "  </tbody>\n",
       "</table>\n",
       "</div>"
      ],
      "text/plain": [
       "   FEM  MASC  NO_DECLARA\n",
       "0    1     0           0"
      ]
     },
     "execution_count": 40,
     "metadata": {},
     "output_type": "execute_result"
    }
   ],
   "source": [
    "sexos = postulaciones_postulantes.sexo.str.get_dummies()\n",
    "sexos.drop(columns='0.0', inplace=True)\n",
    "sexos.head(1)"
   ]
  },
  {
   "cell_type": "code",
   "execution_count": 41,
   "metadata": {},
   "outputs": [
    {
     "data": {
      "text/html": [
       "<div>\n",
       "<style scoped>\n",
       "    .dataframe tbody tr th:only-of-type {\n",
       "        vertical-align: middle;\n",
       "    }\n",
       "\n",
       "    .dataframe tbody tr th {\n",
       "        vertical-align: top;\n",
       "    }\n",
       "\n",
       "    .dataframe thead th {\n",
       "        text-align: right;\n",
       "    }\n",
       "</style>\n",
       "<table border=\"1\" class=\"dataframe\">\n",
       "  <thead>\n",
       "    <tr style=\"text-align: right;\">\n",
       "      <th></th>\n",
       "      <th>idaviso</th>\n",
       "      <th>idpostulante</th>\n",
       "      <th>sexo</th>\n",
       "      <th>edad</th>\n",
       "      <th>nombre_estudio_Doctorado</th>\n",
       "      <th>nombre_estudio_Master</th>\n",
       "      <th>nombre_estudio_Otro</th>\n",
       "      <th>nombre_estudio_Posgrado</th>\n",
       "      <th>nombre_estudio_Secundario</th>\n",
       "      <th>nombre_estudio_Terciario/Tecnico</th>\n",
       "      <th>nombre_estudio_Universitario</th>\n",
       "      <th>estado_estudio_Abandonado</th>\n",
       "      <th>estado_estudio_EnCurso</th>\n",
       "      <th>estado_estudio_Graduado</th>\n",
       "      <th>sexo_FEM</th>\n",
       "      <th>sexo_MASC</th>\n",
       "      <th>sexo_NO_DECLARA</th>\n",
       "    </tr>\n",
       "  </thead>\n",
       "  <tbody>\n",
       "    <tr>\n",
       "      <th>0</th>\n",
       "      <td>1112257047</td>\n",
       "      <td>NM5M</td>\n",
       "      <td>FEM</td>\n",
       "      <td>48</td>\n",
       "      <td>0</td>\n",
       "      <td>0</td>\n",
       "      <td>0</td>\n",
       "      <td>0</td>\n",
       "      <td>1</td>\n",
       "      <td>0</td>\n",
       "      <td>0</td>\n",
       "      <td>0</td>\n",
       "      <td>0</td>\n",
       "      <td>1</td>\n",
       "      <td>1</td>\n",
       "      <td>0</td>\n",
       "      <td>0</td>\n",
       "    </tr>\n",
       "  </tbody>\n",
       "</table>\n",
       "</div>"
      ],
      "text/plain": [
       "      idaviso idpostulante sexo  edad  nombre_estudio_Doctorado  \\\n",
       "0  1112257047         NM5M  FEM    48                         0   \n",
       "\n",
       "   nombre_estudio_Master  nombre_estudio_Otro  nombre_estudio_Posgrado  \\\n",
       "0                      0                    0                        0   \n",
       "\n",
       "   nombre_estudio_Secundario  nombre_estudio_Terciario/Tecnico  \\\n",
       "0                          1                                 0   \n",
       "\n",
       "   nombre_estudio_Universitario  estado_estudio_Abandonado  \\\n",
       "0                             0                          0   \n",
       "\n",
       "   estado_estudio_EnCurso  estado_estudio_Graduado  sexo_FEM  sexo_MASC  \\\n",
       "0                       0                        1         1          0   \n",
       "\n",
       "   sexo_NO_DECLARA  \n",
       "0                0  "
      ]
     },
     "execution_count": 41,
     "metadata": {},
     "output_type": "execute_result"
    }
   ],
   "source": [
    "sexos.columns = ['sexo_' + col for col in sexos.columns]\n",
    "postulaciones_postulantes = pd.concat([postulaciones_postulantes, sexos], axis=1)\n",
    "postulaciones_postulantes.head(1)"
   ]
  },
  {
   "cell_type": "code",
   "execution_count": 42,
   "metadata": {},
   "outputs": [
    {
     "data": {
      "text/html": [
       "<div>\n",
       "<style scoped>\n",
       "    .dataframe tbody tr th:only-of-type {\n",
       "        vertical-align: middle;\n",
       "    }\n",
       "\n",
       "    .dataframe tbody tr th {\n",
       "        vertical-align: top;\n",
       "    }\n",
       "\n",
       "    .dataframe thead th {\n",
       "        text-align: right;\n",
       "    }\n",
       "</style>\n",
       "<table border=\"1\" class=\"dataframe\">\n",
       "  <thead>\n",
       "    <tr style=\"text-align: right;\">\n",
       "      <th></th>\n",
       "      <th>FEM</th>\n",
       "      <th>MASC</th>\n",
       "      <th>NO_DECLARA</th>\n",
       "    </tr>\n",
       "  </thead>\n",
       "  <tbody>\n",
       "    <tr>\n",
       "      <th>0</th>\n",
       "      <td>1</td>\n",
       "      <td>0</td>\n",
       "      <td>0</td>\n",
       "    </tr>\n",
       "  </tbody>\n",
       "</table>\n",
       "</div>"
      ],
      "text/plain": [
       "   FEM  MASC  NO_DECLARA\n",
       "0    1     0           0"
      ]
     },
     "execution_count": 42,
     "metadata": {},
     "output_type": "execute_result"
    }
   ],
   "source": [
    "sexos = postulaciones_postulantes_test.sexo.str.get_dummies()\n",
    "#sexos.drop(columns='0.0', inplace=True)\n",
    "sexos.head(1)"
   ]
  },
  {
   "cell_type": "code",
   "execution_count": 43,
   "metadata": {},
   "outputs": [
    {
     "data": {
      "text/html": [
       "<div>\n",
       "<style scoped>\n",
       "    .dataframe tbody tr th:only-of-type {\n",
       "        vertical-align: middle;\n",
       "    }\n",
       "\n",
       "    .dataframe tbody tr th {\n",
       "        vertical-align: top;\n",
       "    }\n",
       "\n",
       "    .dataframe thead th {\n",
       "        text-align: right;\n",
       "    }\n",
       "</style>\n",
       "<table border=\"1\" class=\"dataframe\">\n",
       "  <thead>\n",
       "    <tr style=\"text-align: right;\">\n",
       "      <th></th>\n",
       "      <th>id</th>\n",
       "      <th>idaviso</th>\n",
       "      <th>idpostulante</th>\n",
       "      <th>sexo</th>\n",
       "      <th>edad</th>\n",
       "      <th>nombre_estudio_Doctorado</th>\n",
       "      <th>nombre_estudio_Master</th>\n",
       "      <th>nombre_estudio_Otro</th>\n",
       "      <th>nombre_estudio_Posgrado</th>\n",
       "      <th>nombre_estudio_Secundario</th>\n",
       "      <th>nombre_estudio_Terciario/Tecnico</th>\n",
       "      <th>nombre_estudio_Universitario</th>\n",
       "      <th>estado_estudio_Abandonado</th>\n",
       "      <th>estado_estudio_EnCurso</th>\n",
       "      <th>estado_estudio_Graduado</th>\n",
       "      <th>sexo_FEM</th>\n",
       "      <th>sexo_MASC</th>\n",
       "      <th>sexo_NO_DECLARA</th>\n",
       "    </tr>\n",
       "  </thead>\n",
       "  <tbody>\n",
       "    <tr>\n",
       "      <th>0</th>\n",
       "      <td>0</td>\n",
       "      <td>739260</td>\n",
       "      <td>6M9ZQR</td>\n",
       "      <td>FEM</td>\n",
       "      <td>42.0</td>\n",
       "      <td>1</td>\n",
       "      <td>0</td>\n",
       "      <td>0</td>\n",
       "      <td>0</td>\n",
       "      <td>0</td>\n",
       "      <td>0</td>\n",
       "      <td>0</td>\n",
       "      <td>0</td>\n",
       "      <td>0</td>\n",
       "      <td>1</td>\n",
       "      <td>1</td>\n",
       "      <td>0</td>\n",
       "      <td>0</td>\n",
       "    </tr>\n",
       "  </tbody>\n",
       "</table>\n",
       "</div>"
      ],
      "text/plain": [
       "   id  idaviso idpostulante sexo  edad  nombre_estudio_Doctorado  \\\n",
       "0   0   739260       6M9ZQR  FEM  42.0                         1   \n",
       "\n",
       "   nombre_estudio_Master  nombre_estudio_Otro  nombre_estudio_Posgrado  \\\n",
       "0                      0                    0                        0   \n",
       "\n",
       "   nombre_estudio_Secundario  nombre_estudio_Terciario/Tecnico  \\\n",
       "0                          0                                 0   \n",
       "\n",
       "   nombre_estudio_Universitario  estado_estudio_Abandonado  \\\n",
       "0                             0                          0   \n",
       "\n",
       "   estado_estudio_EnCurso  estado_estudio_Graduado  sexo_FEM  sexo_MASC  \\\n",
       "0                       0                        1         1          0   \n",
       "\n",
       "   sexo_NO_DECLARA  \n",
       "0                0  "
      ]
     },
     "execution_count": 43,
     "metadata": {},
     "output_type": "execute_result"
    }
   ],
   "source": [
    "sexos.columns = ['sexo_' + col for col in sexos.columns]\n",
    "postulaciones_postulantes_test = pd.concat([postulaciones_postulantes_test, sexos], axis=1)\n",
    "postulaciones_postulantes_test.head(1)"
   ]
  },
  {
   "cell_type": "code",
   "execution_count": 27,
   "metadata": {},
   "outputs": [
    {
     "data": {
      "text/html": [
       "<div>\n",
       "<style scoped>\n",
       "    .dataframe tbody tr th:only-of-type {\n",
       "        vertical-align: middle;\n",
       "    }\n",
       "\n",
       "    .dataframe tbody tr th {\n",
       "        vertical-align: top;\n",
       "    }\n",
       "\n",
       "    .dataframe thead th {\n",
       "        text-align: right;\n",
       "    }\n",
       "</style>\n",
       "<table border=\"1\" class=\"dataframe\">\n",
       "  <thead>\n",
       "    <tr style=\"text-align: right;\">\n",
       "      <th></th>\n",
       "      <th>idpostulante</th>\n",
       "      <th>sexo</th>\n",
       "      <th>edad</th>\n",
       "      <th>idaviso</th>\n",
       "      <th>titulo</th>\n",
       "      <th>descripcion</th>\n",
       "      <th>tipo_de_trabajo</th>\n",
       "      <th>nivel_laboral</th>\n",
       "      <th>nombre_area</th>\n",
       "      <th>nombre_estudio_Doctorado</th>\n",
       "      <th>nombre_estudio_Master</th>\n",
       "      <th>nombre_estudio_Otro</th>\n",
       "      <th>nombre_estudio_Posgrado</th>\n",
       "      <th>nombre_estudio_Secundario</th>\n",
       "      <th>nombre_estudio_Terciario/Tecnico</th>\n",
       "      <th>nombre_estudio_Universitario</th>\n",
       "      <th>estado_estudio_Abandonado</th>\n",
       "      <th>estado_estudio_EnCurso</th>\n",
       "      <th>estado_estudio_Graduado</th>\n",
       "      <th>sexo_0.0</th>\n",
       "      <th>sexo_FEM</th>\n",
       "      <th>sexo_MASC</th>\n",
       "      <th>sexo_NO_DECLARA</th>\n",
       "    </tr>\n",
       "  </thead>\n",
       "  <tbody>\n",
       "    <tr>\n",
       "      <th>0</th>\n",
       "      <td>eLz8or</td>\n",
       "      <td>FEM</td>\n",
       "      <td>33</td>\n",
       "      <td>1112486428</td>\n",
       "      <td>['jefe', 'operaciones', 'ingeniero', 'procesos']</td>\n",
       "      <td>[('equipo', 6), ('plantas', 5), ('operaciones'...</td>\n",
       "      <td>Full-time</td>\n",
       "      <td>Jefe/Supervisor/Responsable</td>\n",
       "      <td>IngenieríadeProcesos</td>\n",
       "      <td>0</td>\n",
       "      <td>0</td>\n",
       "      <td>0</td>\n",
       "      <td>0</td>\n",
       "      <td>0</td>\n",
       "      <td>1</td>\n",
       "      <td>0</td>\n",
       "      <td>0</td>\n",
       "      <td>0</td>\n",
       "      <td>1</td>\n",
       "      <td>0</td>\n",
       "      <td>1</td>\n",
       "      <td>0</td>\n",
       "      <td>0</td>\n",
       "    </tr>\n",
       "  </tbody>\n",
       "</table>\n",
       "</div>"
      ],
      "text/plain": [
       "  idpostulante sexo  edad     idaviso  \\\n",
       "0       eLz8or  FEM    33  1112486428   \n",
       "\n",
       "                                             titulo  \\\n",
       "0  ['jefe', 'operaciones', 'ingeniero', 'procesos']   \n",
       "\n",
       "                                         descripcion tipo_de_trabajo  \\\n",
       "0  [('equipo', 6), ('plantas', 5), ('operaciones'...       Full-time   \n",
       "\n",
       "                 nivel_laboral           nombre_area  \\\n",
       "0  Jefe/Supervisor/Responsable  IngenieríadeProcesos   \n",
       "\n",
       "   nombre_estudio_Doctorado  nombre_estudio_Master  nombre_estudio_Otro  \\\n",
       "0                         0                      0                    0   \n",
       "\n",
       "   nombre_estudio_Posgrado  nombre_estudio_Secundario  \\\n",
       "0                        0                          0   \n",
       "\n",
       "   nombre_estudio_Terciario/Tecnico  nombre_estudio_Universitario  \\\n",
       "0                                 1                             0   \n",
       "\n",
       "   estado_estudio_Abandonado  estado_estudio_EnCurso  estado_estudio_Graduado  \\\n",
       "0                          0                       0                        1   \n",
       "\n",
       "   sexo_0.0  sexo_FEM  sexo_MASC  sexo_NO_DECLARA  \n",
       "0         0         1          0                0  "
      ]
     },
     "execution_count": 27,
     "metadata": {},
     "output_type": "execute_result"
    }
   ],
   "source": [
    "sexos = no_postulados.sexo.str.get_dummies()\n",
    "sexos.drop(columns='0.0', inplace=True)\n",
    "sexos.columns = ['sexo_' + col for col in sexos.columns]\n",
    "no_postulados = pd.concat([no_postulados, sexos], axis=1)\n",
    "no_postulados.head(1)"
   ]
  },
  {
   "cell_type": "code",
   "execution_count": 44,
   "metadata": {},
   "outputs": [
    {
     "data": {
      "text/html": [
       "<div>\n",
       "<style scoped>\n",
       "    .dataframe tbody tr th:only-of-type {\n",
       "        vertical-align: middle;\n",
       "    }\n",
       "\n",
       "    .dataframe tbody tr th {\n",
       "        vertical-align: top;\n",
       "    }\n",
       "\n",
       "    .dataframe thead th {\n",
       "        text-align: right;\n",
       "    }\n",
       "</style>\n",
       "<table border=\"1\" class=\"dataframe\">\n",
       "  <thead>\n",
       "    <tr style=\"text-align: right;\">\n",
       "      <th></th>\n",
       "      <th>idaviso</th>\n",
       "      <th>idpostulante</th>\n",
       "      <th>edad</th>\n",
       "      <th>nombre_estudio_Doctorado</th>\n",
       "      <th>nombre_estudio_Master</th>\n",
       "      <th>nombre_estudio_Otro</th>\n",
       "      <th>nombre_estudio_Posgrado</th>\n",
       "      <th>nombre_estudio_Secundario</th>\n",
       "      <th>nombre_estudio_Terciario/Tecnico</th>\n",
       "      <th>nombre_estudio_Universitario</th>\n",
       "      <th>estado_estudio_Abandonado</th>\n",
       "      <th>estado_estudio_EnCurso</th>\n",
       "      <th>estado_estudio_Graduado</th>\n",
       "      <th>sexo_FEM</th>\n",
       "      <th>sexo_MASC</th>\n",
       "      <th>sexo_NO_DECLARA</th>\n",
       "    </tr>\n",
       "  </thead>\n",
       "  <tbody>\n",
       "    <tr>\n",
       "      <th>0</th>\n",
       "      <td>1112257047</td>\n",
       "      <td>NM5M</td>\n",
       "      <td>48</td>\n",
       "      <td>0</td>\n",
       "      <td>0</td>\n",
       "      <td>0</td>\n",
       "      <td>0</td>\n",
       "      <td>1</td>\n",
       "      <td>0</td>\n",
       "      <td>0</td>\n",
       "      <td>0</td>\n",
       "      <td>0</td>\n",
       "      <td>1</td>\n",
       "      <td>1</td>\n",
       "      <td>0</td>\n",
       "      <td>0</td>\n",
       "    </tr>\n",
       "  </tbody>\n",
       "</table>\n",
       "</div>"
      ],
      "text/plain": [
       "      idaviso idpostulante  edad  nombre_estudio_Doctorado  \\\n",
       "0  1112257047         NM5M    48                         0   \n",
       "\n",
       "   nombre_estudio_Master  nombre_estudio_Otro  nombre_estudio_Posgrado  \\\n",
       "0                      0                    0                        0   \n",
       "\n",
       "   nombre_estudio_Secundario  nombre_estudio_Terciario/Tecnico  \\\n",
       "0                          1                                 0   \n",
       "\n",
       "   nombre_estudio_Universitario  estado_estudio_Abandonado  \\\n",
       "0                             0                          0   \n",
       "\n",
       "   estado_estudio_EnCurso  estado_estudio_Graduado  sexo_FEM  sexo_MASC  \\\n",
       "0                       0                        1         1          0   \n",
       "\n",
       "   sexo_NO_DECLARA  \n",
       "0                0  "
      ]
     },
     "execution_count": 44,
     "metadata": {},
     "output_type": "execute_result"
    }
   ],
   "source": [
    "postulaciones_postulantes.drop(columns=['sexo'], inplace=True)\n",
    "postulaciones_postulantes_test.drop(columns=['sexo'], inplace=True)\n",
    "postulaciones_postulantes.head(1)"
   ]
  },
  {
   "cell_type": "code",
   "execution_count": 28,
   "metadata": {},
   "outputs": [],
   "source": [
    "no_postulados.drop(columns=['sexo'], inplace=True)"
   ]
  },
  {
   "cell_type": "code",
   "execution_count": 45,
   "metadata": {},
   "outputs": [
    {
     "data": {
      "text/html": [
       "<div>\n",
       "<style scoped>\n",
       "    .dataframe tbody tr th:only-of-type {\n",
       "        vertical-align: middle;\n",
       "    }\n",
       "\n",
       "    .dataframe tbody tr th {\n",
       "        vertical-align: top;\n",
       "    }\n",
       "\n",
       "    .dataframe thead th {\n",
       "        text-align: right;\n",
       "    }\n",
       "</style>\n",
       "<table border=\"1\" class=\"dataframe\">\n",
       "  <thead>\n",
       "    <tr style=\"text-align: right;\">\n",
       "      <th></th>\n",
       "      <th>id</th>\n",
       "      <th>idaviso</th>\n",
       "      <th>idpostulante</th>\n",
       "      <th>edad</th>\n",
       "      <th>nombre_estudio_Doctorado</th>\n",
       "      <th>nombre_estudio_Master</th>\n",
       "      <th>nombre_estudio_Otro</th>\n",
       "      <th>nombre_estudio_Posgrado</th>\n",
       "      <th>nombre_estudio_Secundario</th>\n",
       "      <th>nombre_estudio_Terciario/Tecnico</th>\n",
       "      <th>nombre_estudio_Universitario</th>\n",
       "      <th>estado_estudio_Abandonado</th>\n",
       "      <th>estado_estudio_EnCurso</th>\n",
       "      <th>estado_estudio_Graduado</th>\n",
       "      <th>sexo_FEM</th>\n",
       "      <th>sexo_MASC</th>\n",
       "      <th>sexo_NO_DECLARA</th>\n",
       "    </tr>\n",
       "  </thead>\n",
       "  <tbody>\n",
       "    <tr>\n",
       "      <th>0</th>\n",
       "      <td>0</td>\n",
       "      <td>739260</td>\n",
       "      <td>6M9ZQR</td>\n",
       "      <td>42.0</td>\n",
       "      <td>1</td>\n",
       "      <td>0</td>\n",
       "      <td>0</td>\n",
       "      <td>0</td>\n",
       "      <td>0</td>\n",
       "      <td>0</td>\n",
       "      <td>0</td>\n",
       "      <td>0</td>\n",
       "      <td>0</td>\n",
       "      <td>1</td>\n",
       "      <td>1</td>\n",
       "      <td>0</td>\n",
       "      <td>0</td>\n",
       "    </tr>\n",
       "  </tbody>\n",
       "</table>\n",
       "</div>"
      ],
      "text/plain": [
       "   id  idaviso idpostulante  edad  nombre_estudio_Doctorado  \\\n",
       "0   0   739260       6M9ZQR  42.0                         1   \n",
       "\n",
       "   nombre_estudio_Master  nombre_estudio_Otro  nombre_estudio_Posgrado  \\\n",
       "0                      0                    0                        0   \n",
       "\n",
       "   nombre_estudio_Secundario  nombre_estudio_Terciario/Tecnico  \\\n",
       "0                          0                                 0   \n",
       "\n",
       "   nombre_estudio_Universitario  estado_estudio_Abandonado  \\\n",
       "0                             0                          0   \n",
       "\n",
       "   estado_estudio_EnCurso  estado_estudio_Graduado  sexo_FEM  sexo_MASC  \\\n",
       "0                       0                        1         1          0   \n",
       "\n",
       "   sexo_NO_DECLARA  \n",
       "0                0  "
      ]
     },
     "execution_count": 45,
     "metadata": {},
     "output_type": "execute_result"
    }
   ],
   "source": [
    "postulaciones_postulantes_test.head(1)"
   ]
  },
  {
   "cell_type": "code",
   "execution_count": 46,
   "metadata": {},
   "outputs": [
    {
     "data": {
      "text/html": [
       "<div>\n",
       "<style scoped>\n",
       "    .dataframe tbody tr th:only-of-type {\n",
       "        vertical-align: middle;\n",
       "    }\n",
       "\n",
       "    .dataframe tbody tr th {\n",
       "        vertical-align: top;\n",
       "    }\n",
       "\n",
       "    .dataframe thead th {\n",
       "        text-align: right;\n",
       "    }\n",
       "</style>\n",
       "<table border=\"1\" class=\"dataframe\">\n",
       "  <thead>\n",
       "    <tr style=\"text-align: right;\">\n",
       "      <th></th>\n",
       "      <th>idaviso</th>\n",
       "      <th>idpostulante</th>\n",
       "      <th>edad</th>\n",
       "      <th>nombre_estudio_Doctorado</th>\n",
       "      <th>nombre_estudio_Master</th>\n",
       "      <th>nombre_estudio_Otro</th>\n",
       "      <th>nombre_estudio_Posgrado</th>\n",
       "      <th>nombre_estudio_Secundario</th>\n",
       "      <th>nombre_estudio_Terciario/Tecnico</th>\n",
       "      <th>nombre_estudio_Universitario</th>\n",
       "      <th>estado_estudio_Abandonado</th>\n",
       "      <th>estado_estudio_EnCurso</th>\n",
       "      <th>estado_estudio_Graduado</th>\n",
       "      <th>sexo_FEM</th>\n",
       "      <th>sexo_MASC</th>\n",
       "      <th>sexo_NO_DECLARA</th>\n",
       "    </tr>\n",
       "  </thead>\n",
       "  <tbody>\n",
       "    <tr>\n",
       "      <th>0</th>\n",
       "      <td>1112257047</td>\n",
       "      <td>NM5M</td>\n",
       "      <td>48</td>\n",
       "      <td>0</td>\n",
       "      <td>0</td>\n",
       "      <td>0</td>\n",
       "      <td>0</td>\n",
       "      <td>1</td>\n",
       "      <td>0</td>\n",
       "      <td>0</td>\n",
       "      <td>0</td>\n",
       "      <td>0</td>\n",
       "      <td>1</td>\n",
       "      <td>1</td>\n",
       "      <td>0</td>\n",
       "      <td>0</td>\n",
       "    </tr>\n",
       "  </tbody>\n",
       "</table>\n",
       "</div>"
      ],
      "text/plain": [
       "      idaviso idpostulante  edad  nombre_estudio_Doctorado  \\\n",
       "0  1112257047         NM5M    48                         0   \n",
       "\n",
       "   nombre_estudio_Master  nombre_estudio_Otro  nombre_estudio_Posgrado  \\\n",
       "0                      0                    0                        0   \n",
       "\n",
       "   nombre_estudio_Secundario  nombre_estudio_Terciario/Tecnico  \\\n",
       "0                          1                                 0   \n",
       "\n",
       "   nombre_estudio_Universitario  estado_estudio_Abandonado  \\\n",
       "0                             0                          0   \n",
       "\n",
       "   estado_estudio_EnCurso  estado_estudio_Graduado  sexo_FEM  sexo_MASC  \\\n",
       "0                       0                        1         1          0   \n",
       "\n",
       "   sexo_NO_DECLARA  \n",
       "0                0  "
      ]
     },
     "execution_count": 46,
     "metadata": {},
     "output_type": "execute_result"
    }
   ],
   "source": [
    "postulaciones_postulantes['edad'] = postulaciones_postulantes['edad'].astype(int)\n",
    "postulaciones_postulantes_test['edad'] = postulaciones_postulantes_test['edad'].astype(int)\n",
    "postulaciones_postulantes.head(1)"
   ]
  },
  {
   "cell_type": "code",
   "execution_count": 29,
   "metadata": {},
   "outputs": [],
   "source": [
    "no_postulados['edad'] = no_postulados['edad'].astype(int)"
   ]
  },
  {
   "cell_type": "code",
   "execution_count": 47,
   "metadata": {},
   "outputs": [
    {
     "data": {
      "text/plain": [
       "idaviso                             False\n",
       "idpostulante                        False\n",
       "edad                                False\n",
       "nombre_estudio_Doctorado            False\n",
       "nombre_estudio_Master               False\n",
       "nombre_estudio_Otro                 False\n",
       "nombre_estudio_Posgrado             False\n",
       "nombre_estudio_Secundario           False\n",
       "nombre_estudio_Terciario/Tecnico    False\n",
       "nombre_estudio_Universitario        False\n",
       "estado_estudio_Abandonado           False\n",
       "estado_estudio_EnCurso              False\n",
       "estado_estudio_Graduado             False\n",
       "sexo_FEM                            False\n",
       "sexo_MASC                           False\n",
       "sexo_NO_DECLARA                     False\n",
       "dtype: bool"
      ]
     },
     "execution_count": 47,
     "metadata": {},
     "output_type": "execute_result"
    }
   ],
   "source": [
    "postulaciones_postulantes.isnull().any()"
   ]
  },
  {
   "cell_type": "code",
   "execution_count": 48,
   "metadata": {},
   "outputs": [
    {
     "data": {
      "text/plain": [
       "id                                  False\n",
       "idaviso                             False\n",
       "idpostulante                        False\n",
       "edad                                False\n",
       "nombre_estudio_Doctorado            False\n",
       "nombre_estudio_Master               False\n",
       "nombre_estudio_Otro                 False\n",
       "nombre_estudio_Posgrado             False\n",
       "nombre_estudio_Secundario           False\n",
       "nombre_estudio_Terciario/Tecnico    False\n",
       "nombre_estudio_Universitario        False\n",
       "estado_estudio_Abandonado           False\n",
       "estado_estudio_EnCurso              False\n",
       "estado_estudio_Graduado             False\n",
       "sexo_FEM                            False\n",
       "sexo_MASC                           False\n",
       "sexo_NO_DECLARA                     False\n",
       "dtype: bool"
      ]
     },
     "execution_count": 48,
     "metadata": {},
     "output_type": "execute_result"
    }
   ],
   "source": [
    "postulaciones_postulantes_test.isnull().any()"
   ]
  },
  {
   "cell_type": "code",
   "execution_count": 32,
   "metadata": {},
   "outputs": [
    {
     "data": {
      "text/plain": [
       "idpostulante                        False\n",
       "edad                                False\n",
       "idaviso                             False\n",
       "titulo                              False\n",
       "descripcion                         False\n",
       "tipo_de_trabajo                     False\n",
       "nivel_laboral                       False\n",
       "nombre_area                         False\n",
       "nombre_estudio_Doctorado            False\n",
       "nombre_estudio_Master               False\n",
       "nombre_estudio_Otro                 False\n",
       "nombre_estudio_Posgrado             False\n",
       "nombre_estudio_Secundario           False\n",
       "nombre_estudio_Terciario/Tecnico    False\n",
       "nombre_estudio_Universitario        False\n",
       "estado_estudio_Abandonado           False\n",
       "estado_estudio_EnCurso              False\n",
       "estado_estudio_Graduado             False\n",
       "sexo_FEM                            False\n",
       "sexo_MASC                           False\n",
       "sexo_NO_DECLARA                     False\n",
       "dtype: bool"
      ]
     },
     "execution_count": 32,
     "metadata": {},
     "output_type": "execute_result"
    }
   ],
   "source": [
    "no_postulados.isnull().any()"
   ]
  },
  {
   "cell_type": "code",
   "execution_count": 49,
   "metadata": {},
   "outputs": [
    {
     "data": {
      "text/plain": [
       "idaviso                              int64\n",
       "idpostulante                        object\n",
       "edad                                 int64\n",
       "nombre_estudio_Doctorado             int64\n",
       "nombre_estudio_Master                int64\n",
       "nombre_estudio_Otro                  int64\n",
       "nombre_estudio_Posgrado              int64\n",
       "nombre_estudio_Secundario            int64\n",
       "nombre_estudio_Terciario/Tecnico     int64\n",
       "nombre_estudio_Universitario         int64\n",
       "estado_estudio_Abandonado            int64\n",
       "estado_estudio_EnCurso               int64\n",
       "estado_estudio_Graduado              int64\n",
       "sexo_FEM                             int64\n",
       "sexo_MASC                            int64\n",
       "sexo_NO_DECLARA                      int64\n",
       "dtype: object"
      ]
     },
     "execution_count": 49,
     "metadata": {},
     "output_type": "execute_result"
    }
   ],
   "source": [
    "postulaciones_postulantes.dtypes"
   ]
  },
  {
   "cell_type": "code",
   "execution_count": 50,
   "metadata": {},
   "outputs": [
    {
     "data": {
      "text/plain": [
       "id                                   int64\n",
       "idaviso                              int64\n",
       "idpostulante                        object\n",
       "edad                                 int64\n",
       "nombre_estudio_Doctorado             int64\n",
       "nombre_estudio_Master                int64\n",
       "nombre_estudio_Otro                  int64\n",
       "nombre_estudio_Posgrado              int64\n",
       "nombre_estudio_Secundario            int64\n",
       "nombre_estudio_Terciario/Tecnico     int64\n",
       "nombre_estudio_Universitario         int64\n",
       "estado_estudio_Abandonado            int64\n",
       "estado_estudio_EnCurso               int64\n",
       "estado_estudio_Graduado              int64\n",
       "sexo_FEM                             int64\n",
       "sexo_MASC                            int64\n",
       "sexo_NO_DECLARA                      int64\n",
       "dtype: object"
      ]
     },
     "execution_count": 50,
     "metadata": {},
     "output_type": "execute_result"
    }
   ],
   "source": [
    "postulaciones_postulantes_test.dtypes"
   ]
  },
  {
   "cell_type": "code",
   "execution_count": 33,
   "metadata": {},
   "outputs": [
    {
     "data": {
      "text/plain": [
       "idpostulante                        object\n",
       "edad                                 int64\n",
       "idaviso                              int64\n",
       "titulo                              object\n",
       "descripcion                         object\n",
       "tipo_de_trabajo                     object\n",
       "nivel_laboral                       object\n",
       "nombre_area                         object\n",
       "nombre_estudio_Doctorado             int64\n",
       "nombre_estudio_Master                int64\n",
       "nombre_estudio_Otro                  int64\n",
       "nombre_estudio_Posgrado              int64\n",
       "nombre_estudio_Secundario            int64\n",
       "nombre_estudio_Terciario/Tecnico     int64\n",
       "nombre_estudio_Universitario         int64\n",
       "estado_estudio_Abandonado            int64\n",
       "estado_estudio_EnCurso               int64\n",
       "estado_estudio_Graduado              int64\n",
       "sexo_FEM                             int64\n",
       "sexo_MASC                            int64\n",
       "sexo_NO_DECLARA                      int64\n",
       "dtype: object"
      ]
     },
     "execution_count": 33,
     "metadata": {},
     "output_type": "execute_result"
    }
   ],
   "source": [
    "no_postulados.dtypes"
   ]
  },
  {
   "cell_type": "code",
   "execution_count": 51,
   "metadata": {},
   "outputs": [],
   "source": [
    "postulaciones_postulantes.to_csv('../data/postulaciones_postulantes.csv', index=False, sep=',', encoding='utf-8')"
   ]
  },
  {
   "cell_type": "code",
   "execution_count": 2,
   "metadata": {},
   "outputs": [],
   "source": [
    "postulaciones_postulantes = pd.read_csv('../data/postulaciones_postulantes.csv', encoding='utf-8')"
   ]
  },
  {
   "cell_type": "code",
   "execution_count": 52,
   "metadata": {},
   "outputs": [],
   "source": [
    "postulaciones_postulantes_test.to_csv('../data/postulaciones_postulantes_test.csv', index=False, sep=',', encoding='utf-8')"
   ]
  },
  {
   "cell_type": "code",
   "execution_count": 3,
   "metadata": {},
   "outputs": [],
   "source": [
    "postulaciones_postulantes_test = pd.read_csv('../data/postulaciones_postulantes_test.csv', encoding='utf-8')"
   ]
  },
  {
   "cell_type": "code",
   "execution_count": 34,
   "metadata": {},
   "outputs": [],
   "source": [
    "no_postulados.to_csv('../data/no_postulados.csv', index=False, sep=',', encoding='utf-8')"
   ]
  },
  {
   "cell_type": "code",
   "execution_count": null,
   "metadata": {},
   "outputs": [],
   "source": [
    "no_postulados = pd.read_csv('../data/no_postulados.csv', encoding='utf-8')"
   ]
  },
  {
   "cell_type": "code",
   "execution_count": 53,
   "metadata": {},
   "outputs": [
    {
     "data": {
      "text/plain": [
       "idaviso                              int64\n",
       "idpostulante                        object\n",
       "edad                                 int64\n",
       "nombre_estudio_Doctorado             int64\n",
       "nombre_estudio_Master                int64\n",
       "nombre_estudio_Otro                  int64\n",
       "nombre_estudio_Posgrado              int64\n",
       "nombre_estudio_Secundario            int64\n",
       "nombre_estudio_Terciario/Tecnico     int64\n",
       "nombre_estudio_Universitario         int64\n",
       "estado_estudio_Abandonado            int64\n",
       "estado_estudio_EnCurso               int64\n",
       "estado_estudio_Graduado              int64\n",
       "sexo_FEM                             int64\n",
       "sexo_MASC                            int64\n",
       "sexo_NO_DECLARA                      int64\n",
       "dtype: object"
      ]
     },
     "execution_count": 53,
     "metadata": {},
     "output_type": "execute_result"
    }
   ],
   "source": [
    "postulaciones_postulantes.dtypes"
   ]
  },
  {
   "cell_type": "code",
   "execution_count": 54,
   "metadata": {},
   "outputs": [
    {
     "data": {
      "text/plain": [
       "id                                   int64\n",
       "idaviso                              int64\n",
       "idpostulante                        object\n",
       "edad                                 int64\n",
       "nombre_estudio_Doctorado             int64\n",
       "nombre_estudio_Master                int64\n",
       "nombre_estudio_Otro                  int64\n",
       "nombre_estudio_Posgrado              int64\n",
       "nombre_estudio_Secundario            int64\n",
       "nombre_estudio_Terciario/Tecnico     int64\n",
       "nombre_estudio_Universitario         int64\n",
       "estado_estudio_Abandonado            int64\n",
       "estado_estudio_EnCurso               int64\n",
       "estado_estudio_Graduado              int64\n",
       "sexo_FEM                             int64\n",
       "sexo_MASC                            int64\n",
       "sexo_NO_DECLARA                      int64\n",
       "dtype: object"
      ]
     },
     "execution_count": 54,
     "metadata": {},
     "output_type": "execute_result"
    }
   ],
   "source": [
    "postulaciones_postulantes_test.dtypes"
   ]
  },
  {
   "cell_type": "markdown",
   "metadata": {},
   "source": [
    "### Juntamos con los avisos"
   ]
  },
  {
   "cell_type": "code",
   "execution_count": 55,
   "metadata": {},
   "outputs": [],
   "source": [
    "avisos_detalle_joined = pd.read_csv('../data/avisos_detalle_joined.csv', encoding='utf-8')"
   ]
  },
  {
   "cell_type": "code",
   "execution_count": 56,
   "metadata": {},
   "outputs": [
    {
     "name": "stdout",
     "output_type": "stream",
     "text": [
      "avisos_detalle_joined usa  1.1576690673828125  MB\n",
      "postulaciones_postulantes usa  856.6166305541992  MB\n"
     ]
    }
   ],
   "source": [
    "mem_test=avisos_detalle_joined.memory_usage(index=True).sum()\n",
    "print(\"avisos_detalle_joined usa \",mem_test/ 1024**2,\" MB\")\n",
    "mem_test=postulaciones_postulantes.memory_usage(index=True).sum()\n",
    "print(\"postulaciones_postulantes usa \",mem_test/ 1024**2,\" MB\")"
   ]
  },
  {
   "cell_type": "code",
   "execution_count": 57,
   "metadata": {},
   "outputs": [],
   "source": [
    "postulaciones_postulantes_avisos = pd.merge(postulaciones_postulantes, avisos_detalle_joined, on='idaviso', how='left')"
   ]
  },
  {
   "cell_type": "code",
   "execution_count": 58,
   "metadata": {},
   "outputs": [
    {
     "data": {
      "text/html": [
       "<div>\n",
       "<style scoped>\n",
       "    .dataframe tbody tr th:only-of-type {\n",
       "        vertical-align: middle;\n",
       "    }\n",
       "\n",
       "    .dataframe tbody tr th {\n",
       "        vertical-align: top;\n",
       "    }\n",
       "\n",
       "    .dataframe thead th {\n",
       "        text-align: right;\n",
       "    }\n",
       "</style>\n",
       "<table border=\"1\" class=\"dataframe\">\n",
       "  <thead>\n",
       "    <tr style=\"text-align: right;\">\n",
       "      <th></th>\n",
       "      <th>idaviso</th>\n",
       "      <th>idpostulante</th>\n",
       "      <th>edad</th>\n",
       "      <th>nombre_estudio_Doctorado</th>\n",
       "      <th>nombre_estudio_Master</th>\n",
       "      <th>nombre_estudio_Otro</th>\n",
       "      <th>nombre_estudio_Posgrado</th>\n",
       "      <th>nombre_estudio_Secundario</th>\n",
       "      <th>nombre_estudio_Terciario/Tecnico</th>\n",
       "      <th>nombre_estudio_Universitario</th>\n",
       "      <th>estado_estudio_Abandonado</th>\n",
       "      <th>estado_estudio_EnCurso</th>\n",
       "      <th>estado_estudio_Graduado</th>\n",
       "      <th>sexo_FEM</th>\n",
       "      <th>sexo_MASC</th>\n",
       "      <th>sexo_NO_DECLARA</th>\n",
       "      <th>titulo</th>\n",
       "      <th>descripcion</th>\n",
       "      <th>tipo_de_trabajo</th>\n",
       "      <th>nivel_laboral</th>\n",
       "      <th>nombre_area</th>\n",
       "    </tr>\n",
       "  </thead>\n",
       "  <tbody>\n",
       "    <tr>\n",
       "      <th>0</th>\n",
       "      <td>1112257047</td>\n",
       "      <td>NM5M</td>\n",
       "      <td>48</td>\n",
       "      <td>0</td>\n",
       "      <td>0</td>\n",
       "      <td>0</td>\n",
       "      <td>0</td>\n",
       "      <td>1</td>\n",
       "      <td>0</td>\n",
       "      <td>0</td>\n",
       "      <td>0</td>\n",
       "      <td>0</td>\n",
       "      <td>1</td>\n",
       "      <td>1</td>\n",
       "      <td>0</td>\n",
       "      <td>0</td>\n",
       "      <td>['representantes', 'atencion', 'cliente', 'ret...</td>\n",
       "      <td>[('retencion', 3), ('atencion', 2), ('cliente'...</td>\n",
       "      <td>Part-time</td>\n",
       "      <td>Otro</td>\n",
       "      <td>AtenciónalCliente</td>\n",
       "    </tr>\n",
       "  </tbody>\n",
       "</table>\n",
       "</div>"
      ],
      "text/plain": [
       "      idaviso idpostulante  edad  nombre_estudio_Doctorado  \\\n",
       "0  1112257047         NM5M    48                         0   \n",
       "\n",
       "   nombre_estudio_Master  nombre_estudio_Otro  nombre_estudio_Posgrado  \\\n",
       "0                      0                    0                        0   \n",
       "\n",
       "   nombre_estudio_Secundario  nombre_estudio_Terciario/Tecnico  \\\n",
       "0                          1                                 0   \n",
       "\n",
       "   nombre_estudio_Universitario  estado_estudio_Abandonado  \\\n",
       "0                             0                          0   \n",
       "\n",
       "   estado_estudio_EnCurso  estado_estudio_Graduado  sexo_FEM  sexo_MASC  \\\n",
       "0                       0                        1         1          0   \n",
       "\n",
       "   sexo_NO_DECLARA                                             titulo  \\\n",
       "0                0  ['representantes', 'atencion', 'cliente', 'ret...   \n",
       "\n",
       "                                         descripcion tipo_de_trabajo  \\\n",
       "0  [('retencion', 3), ('atencion', 2), ('cliente'...       Part-time   \n",
       "\n",
       "  nivel_laboral        nombre_area  \n",
       "0          Otro  AtenciónalCliente  "
      ]
     },
     "execution_count": 58,
     "metadata": {},
     "output_type": "execute_result"
    }
   ],
   "source": [
    "postulaciones_postulantes_avisos.head(1)"
   ]
  },
  {
   "cell_type": "code",
   "execution_count": 59,
   "metadata": {},
   "outputs": [
    {
     "data": {
      "text/plain": [
       "idaviso                             False\n",
       "idpostulante                        False\n",
       "edad                                False\n",
       "nombre_estudio_Doctorado            False\n",
       "nombre_estudio_Master               False\n",
       "nombre_estudio_Otro                 False\n",
       "nombre_estudio_Posgrado             False\n",
       "nombre_estudio_Secundario           False\n",
       "nombre_estudio_Terciario/Tecnico    False\n",
       "nombre_estudio_Universitario        False\n",
       "estado_estudio_Abandonado           False\n",
       "estado_estudio_EnCurso              False\n",
       "estado_estudio_Graduado             False\n",
       "sexo_FEM                            False\n",
       "sexo_MASC                           False\n",
       "sexo_NO_DECLARA                     False\n",
       "titulo                               True\n",
       "descripcion                          True\n",
       "tipo_de_trabajo                      True\n",
       "nivel_laboral                        True\n",
       "nombre_area                          True\n",
       "dtype: bool"
      ]
     },
     "execution_count": 59,
     "metadata": {},
     "output_type": "execute_result"
    }
   ],
   "source": [
    "postulaciones_postulantes_avisos.isnull().any()"
   ]
  },
  {
   "cell_type": "code",
   "execution_count": 60,
   "metadata": {},
   "outputs": [],
   "source": [
    "postulaciones_postulantes_avisos_test = pd.merge(postulaciones_postulantes_test, avisos_detalle_joined, on='idaviso', how='left')"
   ]
  },
  {
   "cell_type": "code",
   "execution_count": 61,
   "metadata": {},
   "outputs": [
    {
     "data": {
      "text/plain": [
       "100000"
      ]
     },
     "execution_count": 61,
     "metadata": {},
     "output_type": "execute_result"
    }
   ],
   "source": [
    "len(postulaciones_postulantes_avisos_test)"
   ]
  },
  {
   "cell_type": "code",
   "execution_count": 62,
   "metadata": {},
   "outputs": [
    {
     "data": {
      "text/plain": [
       "False"
      ]
     },
     "execution_count": 62,
     "metadata": {},
     "output_type": "execute_result"
    }
   ],
   "source": [
    "postulaciones_postulantes_test.duplicated('id').any()"
   ]
  },
  {
   "cell_type": "code",
   "execution_count": 63,
   "metadata": {},
   "outputs": [
    {
     "data": {
      "text/html": [
       "<div>\n",
       "<style scoped>\n",
       "    .dataframe tbody tr th:only-of-type {\n",
       "        vertical-align: middle;\n",
       "    }\n",
       "\n",
       "    .dataframe tbody tr th {\n",
       "        vertical-align: top;\n",
       "    }\n",
       "\n",
       "    .dataframe thead th {\n",
       "        text-align: right;\n",
       "    }\n",
       "</style>\n",
       "<table border=\"1\" class=\"dataframe\">\n",
       "  <thead>\n",
       "    <tr style=\"text-align: right;\">\n",
       "      <th></th>\n",
       "      <th>id</th>\n",
       "      <th>idaviso</th>\n",
       "      <th>idpostulante</th>\n",
       "      <th>edad</th>\n",
       "      <th>nombre_estudio_Doctorado</th>\n",
       "      <th>nombre_estudio_Master</th>\n",
       "      <th>nombre_estudio_Otro</th>\n",
       "      <th>nombre_estudio_Posgrado</th>\n",
       "      <th>nombre_estudio_Secundario</th>\n",
       "      <th>nombre_estudio_Terciario/Tecnico</th>\n",
       "      <th>nombre_estudio_Universitario</th>\n",
       "      <th>estado_estudio_Abandonado</th>\n",
       "      <th>estado_estudio_EnCurso</th>\n",
       "      <th>estado_estudio_Graduado</th>\n",
       "      <th>sexo_FEM</th>\n",
       "      <th>sexo_MASC</th>\n",
       "      <th>sexo_NO_DECLARA</th>\n",
       "      <th>titulo</th>\n",
       "      <th>descripcion</th>\n",
       "      <th>tipo_de_trabajo</th>\n",
       "      <th>nivel_laboral</th>\n",
       "      <th>nombre_area</th>\n",
       "    </tr>\n",
       "  </thead>\n",
       "  <tbody>\n",
       "    <tr>\n",
       "      <th>0</th>\n",
       "      <td>0</td>\n",
       "      <td>739260</td>\n",
       "      <td>6M9ZQR</td>\n",
       "      <td>42</td>\n",
       "      <td>1</td>\n",
       "      <td>0</td>\n",
       "      <td>0</td>\n",
       "      <td>0</td>\n",
       "      <td>0</td>\n",
       "      <td>0</td>\n",
       "      <td>0</td>\n",
       "      <td>0</td>\n",
       "      <td>0</td>\n",
       "      <td>1</td>\n",
       "      <td>1</td>\n",
       "      <td>0</td>\n",
       "      <td>0</td>\n",
       "      <td>['asistente', 'comercial']</td>\n",
       "      <td>[('p', 2), ('cliente', 1), ('empresa', 1), ('n...</td>\n",
       "      <td>Full-time</td>\n",
       "      <td>Jefe/Supervisor/Responsable</td>\n",
       "      <td>Comercial</td>\n",
       "    </tr>\n",
       "  </tbody>\n",
       "</table>\n",
       "</div>"
      ],
      "text/plain": [
       "   id  idaviso idpostulante  edad  nombre_estudio_Doctorado  \\\n",
       "0   0   739260       6M9ZQR    42                         1   \n",
       "\n",
       "   nombre_estudio_Master  nombre_estudio_Otro  nombre_estudio_Posgrado  \\\n",
       "0                      0                    0                        0   \n",
       "\n",
       "   nombre_estudio_Secundario  nombre_estudio_Terciario/Tecnico  \\\n",
       "0                          0                                 0   \n",
       "\n",
       "   nombre_estudio_Universitario  estado_estudio_Abandonado  \\\n",
       "0                             0                          0   \n",
       "\n",
       "   estado_estudio_EnCurso  estado_estudio_Graduado  sexo_FEM  sexo_MASC  \\\n",
       "0                       0                        1         1          0   \n",
       "\n",
       "   sexo_NO_DECLARA                      titulo  \\\n",
       "0                0  ['asistente', 'comercial']   \n",
       "\n",
       "                                         descripcion tipo_de_trabajo  \\\n",
       "0  [('p', 2), ('cliente', 1), ('empresa', 1), ('n...       Full-time   \n",
       "\n",
       "                 nivel_laboral nombre_area  \n",
       "0  Jefe/Supervisor/Responsable   Comercial  "
      ]
     },
     "execution_count": 63,
     "metadata": {},
     "output_type": "execute_result"
    }
   ],
   "source": [
    "postulaciones_postulantes_avisos_test.head(1)"
   ]
  },
  {
   "cell_type": "code",
   "execution_count": 64,
   "metadata": {},
   "outputs": [
    {
     "data": {
      "text/plain": [
       "id                                  False\n",
       "idaviso                             False\n",
       "idpostulante                        False\n",
       "edad                                False\n",
       "nombre_estudio_Doctorado            False\n",
       "nombre_estudio_Master               False\n",
       "nombre_estudio_Otro                 False\n",
       "nombre_estudio_Posgrado             False\n",
       "nombre_estudio_Secundario           False\n",
       "nombre_estudio_Terciario/Tecnico    False\n",
       "nombre_estudio_Universitario        False\n",
       "estado_estudio_Abandonado           False\n",
       "estado_estudio_EnCurso              False\n",
       "estado_estudio_Graduado             False\n",
       "sexo_FEM                            False\n",
       "sexo_MASC                           False\n",
       "sexo_NO_DECLARA                     False\n",
       "titulo                              False\n",
       "descripcion                         False\n",
       "tipo_de_trabajo                     False\n",
       "nivel_laboral                       False\n",
       "nombre_area                         False\n",
       "dtype: bool"
      ]
     },
     "execution_count": 64,
     "metadata": {},
     "output_type": "execute_result"
    }
   ],
   "source": [
    "postulaciones_postulantes_avisos_test.isnull().any()"
   ]
  },
  {
   "cell_type": "markdown",
   "metadata": {},
   "source": [
    "#### One hot encoding de columnas categoricas"
   ]
  },
  {
   "cell_type": "code",
   "execution_count": 65,
   "metadata": {},
   "outputs": [],
   "source": [
    "postulaciones_postulantes_avisos['tipo_full'] = (postulaciones_postulantes_avisos['tipo_de_trabajo'].astype(str) == 'Full-time').astype(bool)\n",
    "postulaciones_postulantes_avisos['tipo_part'] = (postulaciones_postulantes_avisos['tipo_de_trabajo'].astype(str) == 'Part-time').astype(bool)\n",
    "postulaciones_postulantes_avisos['tipo_otro'] = ((postulaciones_postulantes_avisos['tipo_de_trabajo'].astype(str) != 'Part-time') & (postulaciones_postulantes_avisos['tipo_de_trabajo'].astype(str) != 'Full-time')).astype(bool)"
   ]
  },
  {
   "cell_type": "code",
   "execution_count": 66,
   "metadata": {},
   "outputs": [],
   "source": [
    "postulaciones_postulantes_avisos_test['tipo_full'] = (postulaciones_postulantes_avisos_test['tipo_de_trabajo'].astype(str) == 'Full-time').astype(bool)\n",
    "postulaciones_postulantes_avisos_test['tipo_part'] = (postulaciones_postulantes_avisos_test['tipo_de_trabajo'].astype(str) == 'Part-time').astype(bool)\n",
    "postulaciones_postulantes_avisos_test['tipo_otro'] = ((postulaciones_postulantes_avisos_test['tipo_de_trabajo'].astype(str) != 'Part-time') & (postulaciones_postulantes_avisos_test['tipo_de_trabajo'].astype(str) != 'Full-time')).astype(bool)"
   ]
  },
  {
   "cell_type": "code",
   "execution_count": 35,
   "metadata": {},
   "outputs": [],
   "source": [
    "no_postulados['tipo_full'] = (no_postulados['tipo_de_trabajo'].astype(str) == 'Full-time').astype(bool)\n",
    "no_postulados['tipo_part'] = (no_postulados['tipo_de_trabajo'].astype(str) == 'Part-time').astype(bool)\n",
    "no_postulados['tipo_otro'] = ((no_postulados['tipo_de_trabajo'].astype(str) != 'Part-time') & (no_postulados['tipo_de_trabajo'].astype(str) != 'Full-time')).astype(bool)"
   ]
  },
  {
   "cell_type": "code",
   "execution_count": 67,
   "metadata": {},
   "outputs": [],
   "source": [
    "postulaciones_postulantes_avisos.drop(['tipo_de_trabajo'], axis=1, inplace=True)\n",
    "postulaciones_postulantes_avisos_test.drop(['tipo_de_trabajo'], axis=1, inplace=True)"
   ]
  },
  {
   "cell_type": "code",
   "execution_count": 36,
   "metadata": {},
   "outputs": [],
   "source": [
    "no_postulados.drop(['tipo_de_trabajo'], axis=1, inplace=True)"
   ]
  },
  {
   "cell_type": "code",
   "execution_count": 68,
   "metadata": {},
   "outputs": [
    {
     "data": {
      "text/html": [
       "<div>\n",
       "<style scoped>\n",
       "    .dataframe tbody tr th:only-of-type {\n",
       "        vertical-align: middle;\n",
       "    }\n",
       "\n",
       "    .dataframe tbody tr th {\n",
       "        vertical-align: top;\n",
       "    }\n",
       "\n",
       "    .dataframe thead th {\n",
       "        text-align: right;\n",
       "    }\n",
       "</style>\n",
       "<table border=\"1\" class=\"dataframe\">\n",
       "  <thead>\n",
       "    <tr style=\"text-align: right;\">\n",
       "      <th></th>\n",
       "      <th>idaviso</th>\n",
       "      <th>idpostulante</th>\n",
       "      <th>edad</th>\n",
       "      <th>nombre_estudio_Doctorado</th>\n",
       "      <th>nombre_estudio_Master</th>\n",
       "      <th>nombre_estudio_Otro</th>\n",
       "      <th>nombre_estudio_Posgrado</th>\n",
       "      <th>nombre_estudio_Secundario</th>\n",
       "      <th>nombre_estudio_Terciario/Tecnico</th>\n",
       "      <th>nombre_estudio_Universitario</th>\n",
       "      <th>estado_estudio_Abandonado</th>\n",
       "      <th>estado_estudio_EnCurso</th>\n",
       "      <th>estado_estudio_Graduado</th>\n",
       "      <th>sexo_FEM</th>\n",
       "      <th>sexo_MASC</th>\n",
       "      <th>sexo_NO_DECLARA</th>\n",
       "      <th>titulo</th>\n",
       "      <th>descripcion</th>\n",
       "      <th>nivel_laboral</th>\n",
       "      <th>nombre_area</th>\n",
       "      <th>tipo_full</th>\n",
       "      <th>tipo_part</th>\n",
       "      <th>tipo_otro</th>\n",
       "    </tr>\n",
       "  </thead>\n",
       "  <tbody>\n",
       "    <tr>\n",
       "      <th>0</th>\n",
       "      <td>1112257047</td>\n",
       "      <td>NM5M</td>\n",
       "      <td>48</td>\n",
       "      <td>0</td>\n",
       "      <td>0</td>\n",
       "      <td>0</td>\n",
       "      <td>0</td>\n",
       "      <td>1</td>\n",
       "      <td>0</td>\n",
       "      <td>0</td>\n",
       "      <td>0</td>\n",
       "      <td>0</td>\n",
       "      <td>1</td>\n",
       "      <td>1</td>\n",
       "      <td>0</td>\n",
       "      <td>0</td>\n",
       "      <td>['representantes', 'atencion', 'cliente', 'ret...</td>\n",
       "      <td>[('retencion', 3), ('atencion', 2), ('cliente'...</td>\n",
       "      <td>Otro</td>\n",
       "      <td>AtenciónalCliente</td>\n",
       "      <td>False</td>\n",
       "      <td>True</td>\n",
       "      <td>False</td>\n",
       "    </tr>\n",
       "  </tbody>\n",
       "</table>\n",
       "</div>"
      ],
      "text/plain": [
       "      idaviso idpostulante  edad  nombre_estudio_Doctorado  \\\n",
       "0  1112257047         NM5M    48                         0   \n",
       "\n",
       "   nombre_estudio_Master  nombre_estudio_Otro  nombre_estudio_Posgrado  \\\n",
       "0                      0                    0                        0   \n",
       "\n",
       "   nombre_estudio_Secundario  nombre_estudio_Terciario/Tecnico  \\\n",
       "0                          1                                 0   \n",
       "\n",
       "   nombre_estudio_Universitario  estado_estudio_Abandonado  \\\n",
       "0                             0                          0   \n",
       "\n",
       "   estado_estudio_EnCurso  estado_estudio_Graduado  sexo_FEM  sexo_MASC  \\\n",
       "0                       0                        1         1          0   \n",
       "\n",
       "   sexo_NO_DECLARA                                             titulo  \\\n",
       "0                0  ['representantes', 'atencion', 'cliente', 'ret...   \n",
       "\n",
       "                                         descripcion nivel_laboral  \\\n",
       "0  [('retencion', 3), ('atencion', 2), ('cliente'...          Otro   \n",
       "\n",
       "         nombre_area  tipo_full  tipo_part  tipo_otro  \n",
       "0  AtenciónalCliente      False       True      False  "
      ]
     },
     "execution_count": 68,
     "metadata": {},
     "output_type": "execute_result"
    }
   ],
   "source": [
    "postulaciones_postulantes_avisos.head(1)"
   ]
  },
  {
   "cell_type": "code",
   "execution_count": 69,
   "metadata": {},
   "outputs": [
    {
     "data": {
      "text/html": [
       "<div>\n",
       "<style scoped>\n",
       "    .dataframe tbody tr th:only-of-type {\n",
       "        vertical-align: middle;\n",
       "    }\n",
       "\n",
       "    .dataframe tbody tr th {\n",
       "        vertical-align: top;\n",
       "    }\n",
       "\n",
       "    .dataframe thead th {\n",
       "        text-align: right;\n",
       "    }\n",
       "</style>\n",
       "<table border=\"1\" class=\"dataframe\">\n",
       "  <thead>\n",
       "    <tr style=\"text-align: right;\">\n",
       "      <th></th>\n",
       "      <th>id</th>\n",
       "      <th>idaviso</th>\n",
       "      <th>idpostulante</th>\n",
       "      <th>edad</th>\n",
       "      <th>nombre_estudio_Doctorado</th>\n",
       "      <th>nombre_estudio_Master</th>\n",
       "      <th>nombre_estudio_Otro</th>\n",
       "      <th>nombre_estudio_Posgrado</th>\n",
       "      <th>nombre_estudio_Secundario</th>\n",
       "      <th>nombre_estudio_Terciario/Tecnico</th>\n",
       "      <th>nombre_estudio_Universitario</th>\n",
       "      <th>estado_estudio_Abandonado</th>\n",
       "      <th>estado_estudio_EnCurso</th>\n",
       "      <th>estado_estudio_Graduado</th>\n",
       "      <th>sexo_FEM</th>\n",
       "      <th>sexo_MASC</th>\n",
       "      <th>sexo_NO_DECLARA</th>\n",
       "      <th>titulo</th>\n",
       "      <th>descripcion</th>\n",
       "      <th>nivel_laboral</th>\n",
       "      <th>nombre_area</th>\n",
       "      <th>tipo_full</th>\n",
       "      <th>tipo_part</th>\n",
       "      <th>tipo_otro</th>\n",
       "    </tr>\n",
       "  </thead>\n",
       "  <tbody>\n",
       "    <tr>\n",
       "      <th>0</th>\n",
       "      <td>0</td>\n",
       "      <td>739260</td>\n",
       "      <td>6M9ZQR</td>\n",
       "      <td>42</td>\n",
       "      <td>1</td>\n",
       "      <td>0</td>\n",
       "      <td>0</td>\n",
       "      <td>0</td>\n",
       "      <td>0</td>\n",
       "      <td>0</td>\n",
       "      <td>0</td>\n",
       "      <td>0</td>\n",
       "      <td>0</td>\n",
       "      <td>1</td>\n",
       "      <td>1</td>\n",
       "      <td>0</td>\n",
       "      <td>0</td>\n",
       "      <td>['asistente', 'comercial']</td>\n",
       "      <td>[('p', 2), ('cliente', 1), ('empresa', 1), ('n...</td>\n",
       "      <td>Jefe/Supervisor/Responsable</td>\n",
       "      <td>Comercial</td>\n",
       "      <td>True</td>\n",
       "      <td>False</td>\n",
       "      <td>False</td>\n",
       "    </tr>\n",
       "  </tbody>\n",
       "</table>\n",
       "</div>"
      ],
      "text/plain": [
       "   id  idaviso idpostulante  edad  nombre_estudio_Doctorado  \\\n",
       "0   0   739260       6M9ZQR    42                         1   \n",
       "\n",
       "   nombre_estudio_Master  nombre_estudio_Otro  nombre_estudio_Posgrado  \\\n",
       "0                      0                    0                        0   \n",
       "\n",
       "   nombre_estudio_Secundario  nombre_estudio_Terciario/Tecnico  \\\n",
       "0                          0                                 0   \n",
       "\n",
       "   nombre_estudio_Universitario  estado_estudio_Abandonado  \\\n",
       "0                             0                          0   \n",
       "\n",
       "   estado_estudio_EnCurso  estado_estudio_Graduado  sexo_FEM  sexo_MASC  \\\n",
       "0                       0                        1         1          0   \n",
       "\n",
       "   sexo_NO_DECLARA                      titulo  \\\n",
       "0                0  ['asistente', 'comercial']   \n",
       "\n",
       "                                         descripcion  \\\n",
       "0  [('p', 2), ('cliente', 1), ('empresa', 1), ('n...   \n",
       "\n",
       "                 nivel_laboral nombre_area  tipo_full  tipo_part  tipo_otro  \n",
       "0  Jefe/Supervisor/Responsable   Comercial       True      False      False  "
      ]
     },
     "execution_count": 69,
     "metadata": {},
     "output_type": "execute_result"
    }
   ],
   "source": [
    "postulaciones_postulantes_avisos_test.head(1)"
   ]
  },
  {
   "cell_type": "code",
   "execution_count": 70,
   "metadata": {},
   "outputs": [
    {
     "data": {
      "text/plain": [
       "Senior/Semi-Senior                 4089753\n",
       "Junior                             1361408\n",
       "Otro                                506359\n",
       "Jefe/Supervisor/Responsable         186571\n",
       "Gerencia/AltaGerencia/Dirección      44623\n",
       "Name: nivel_laboral, dtype: int64"
      ]
     },
     "execution_count": 70,
     "metadata": {},
     "output_type": "execute_result"
    }
   ],
   "source": [
    "postulaciones_postulantes_avisos['nivel_laboral'].value_counts()"
   ]
  },
  {
   "cell_type": "code",
   "execution_count": 71,
   "metadata": {},
   "outputs": [
    {
     "data": {
      "text/plain": [
       "idaviso                              int64\n",
       "idpostulante                        object\n",
       "edad                                 int64\n",
       "nombre_estudio_Doctorado             int64\n",
       "nombre_estudio_Master                int64\n",
       "nombre_estudio_Otro                  int64\n",
       "nombre_estudio_Posgrado              int64\n",
       "nombre_estudio_Secundario            int64\n",
       "nombre_estudio_Terciario/Tecnico     int64\n",
       "nombre_estudio_Universitario         int64\n",
       "estado_estudio_Abandonado            int64\n",
       "estado_estudio_EnCurso               int64\n",
       "estado_estudio_Graduado              int64\n",
       "sexo_FEM                             int64\n",
       "sexo_MASC                            int64\n",
       "sexo_NO_DECLARA                      int64\n",
       "titulo                              object\n",
       "descripcion                         object\n",
       "nivel_laboral                       object\n",
       "nombre_area                         object\n",
       "tipo_full                             bool\n",
       "tipo_part                             bool\n",
       "tipo_otro                             bool\n",
       "dtype: object"
      ]
     },
     "execution_count": 71,
     "metadata": {},
     "output_type": "execute_result"
    }
   ],
   "source": [
    "postulaciones_postulantes_avisos['nivel_laboral'] = postulaciones_postulantes_avisos['nivel_laboral'].astype(str)\n",
    "postulaciones_postulantes_avisos_test['nivel_laboral'] = postulaciones_postulantes_avisos_test['nivel_laboral'].astype(str)\n",
    "postulaciones_postulantes_avisos.dtypes"
   ]
  },
  {
   "cell_type": "code",
   "execution_count": 37,
   "metadata": {},
   "outputs": [],
   "source": [
    "no_postulados['nivel_laboral'] = no_postulados['nivel_laboral'].astype(str)"
   ]
  },
  {
   "cell_type": "code",
   "execution_count": 72,
   "metadata": {},
   "outputs": [
    {
     "data": {
      "text/plain": [
       "id                                   int64\n",
       "idaviso                              int64\n",
       "idpostulante                        object\n",
       "edad                                 int64\n",
       "nombre_estudio_Doctorado             int64\n",
       "nombre_estudio_Master                int64\n",
       "nombre_estudio_Otro                  int64\n",
       "nombre_estudio_Posgrado              int64\n",
       "nombre_estudio_Secundario            int64\n",
       "nombre_estudio_Terciario/Tecnico     int64\n",
       "nombre_estudio_Universitario         int64\n",
       "estado_estudio_Abandonado            int64\n",
       "estado_estudio_EnCurso               int64\n",
       "estado_estudio_Graduado              int64\n",
       "sexo_FEM                             int64\n",
       "sexo_MASC                            int64\n",
       "sexo_NO_DECLARA                      int64\n",
       "titulo                              object\n",
       "descripcion                         object\n",
       "nivel_laboral                       object\n",
       "nombre_area                         object\n",
       "tipo_full                             bool\n",
       "tipo_part                             bool\n",
       "tipo_otro                             bool\n",
       "dtype: object"
      ]
     },
     "execution_count": 72,
     "metadata": {},
     "output_type": "execute_result"
    }
   ],
   "source": [
    "postulaciones_postulantes_avisos_test.dtypes"
   ]
  },
  {
   "cell_type": "code",
   "execution_count": 73,
   "metadata": {},
   "outputs": [
    {
     "data": {
      "text/html": [
       "<div>\n",
       "<style scoped>\n",
       "    .dataframe tbody tr th:only-of-type {\n",
       "        vertical-align: middle;\n",
       "    }\n",
       "\n",
       "    .dataframe tbody tr th {\n",
       "        vertical-align: top;\n",
       "    }\n",
       "\n",
       "    .dataframe thead th {\n",
       "        text-align: right;\n",
       "    }\n",
       "</style>\n",
       "<table border=\"1\" class=\"dataframe\">\n",
       "  <thead>\n",
       "    <tr style=\"text-align: right;\">\n",
       "      <th></th>\n",
       "      <th>idaviso</th>\n",
       "      <th>idpostulante</th>\n",
       "      <th>edad</th>\n",
       "      <th>nombre_estudio_Doctorado</th>\n",
       "      <th>nombre_estudio_Master</th>\n",
       "      <th>nombre_estudio_Otro</th>\n",
       "      <th>nombre_estudio_Posgrado</th>\n",
       "      <th>nombre_estudio_Secundario</th>\n",
       "      <th>nombre_estudio_Terciario/Tecnico</th>\n",
       "      <th>nombre_estudio_Universitario</th>\n",
       "      <th>estado_estudio_Abandonado</th>\n",
       "      <th>estado_estudio_EnCurso</th>\n",
       "      <th>estado_estudio_Graduado</th>\n",
       "      <th>sexo_FEM</th>\n",
       "      <th>sexo_MASC</th>\n",
       "      <th>sexo_NO_DECLARA</th>\n",
       "      <th>titulo</th>\n",
       "      <th>descripcion</th>\n",
       "      <th>nivel_laboral</th>\n",
       "      <th>nombre_area</th>\n",
       "      <th>tipo_full</th>\n",
       "      <th>tipo_part</th>\n",
       "      <th>tipo_otro</th>\n",
       "    </tr>\n",
       "  </thead>\n",
       "  <tbody>\n",
       "    <tr>\n",
       "      <th>0</th>\n",
       "      <td>1112257047</td>\n",
       "      <td>NM5M</td>\n",
       "      <td>48</td>\n",
       "      <td>0</td>\n",
       "      <td>0</td>\n",
       "      <td>0</td>\n",
       "      <td>0</td>\n",
       "      <td>1</td>\n",
       "      <td>0</td>\n",
       "      <td>0</td>\n",
       "      <td>0</td>\n",
       "      <td>0</td>\n",
       "      <td>1</td>\n",
       "      <td>1</td>\n",
       "      <td>0</td>\n",
       "      <td>0</td>\n",
       "      <td>['representantes', 'atencion', 'cliente', 'ret...</td>\n",
       "      <td>[('retencion', 3), ('atencion', 2), ('cliente'...</td>\n",
       "      <td>Otro</td>\n",
       "      <td>AtenciónalCliente</td>\n",
       "      <td>False</td>\n",
       "      <td>True</td>\n",
       "      <td>False</td>\n",
       "    </tr>\n",
       "  </tbody>\n",
       "</table>\n",
       "</div>"
      ],
      "text/plain": [
       "      idaviso idpostulante  edad  nombre_estudio_Doctorado  \\\n",
       "0  1112257047         NM5M    48                         0   \n",
       "\n",
       "   nombre_estudio_Master  nombre_estudio_Otro  nombre_estudio_Posgrado  \\\n",
       "0                      0                    0                        0   \n",
       "\n",
       "   nombre_estudio_Secundario  nombre_estudio_Terciario/Tecnico  \\\n",
       "0                          1                                 0   \n",
       "\n",
       "   nombre_estudio_Universitario  estado_estudio_Abandonado  \\\n",
       "0                             0                          0   \n",
       "\n",
       "   estado_estudio_EnCurso  estado_estudio_Graduado  sexo_FEM  sexo_MASC  \\\n",
       "0                       0                        1         1          0   \n",
       "\n",
       "   sexo_NO_DECLARA                                             titulo  \\\n",
       "0                0  ['representantes', 'atencion', 'cliente', 'ret...   \n",
       "\n",
       "                                         descripcion nivel_laboral  \\\n",
       "0  [('retencion', 3), ('atencion', 2), ('cliente'...          Otro   \n",
       "\n",
       "         nombre_area  tipo_full  tipo_part  tipo_otro  \n",
       "0  AtenciónalCliente      False       True      False  "
      ]
     },
     "execution_count": 73,
     "metadata": {},
     "output_type": "execute_result"
    }
   ],
   "source": [
    "postulaciones_postulantes_avisos.head(1)"
   ]
  },
  {
   "cell_type": "code",
   "execution_count": 74,
   "metadata": {},
   "outputs": [
    {
     "data": {
      "text/html": [
       "<div>\n",
       "<style scoped>\n",
       "    .dataframe tbody tr th:only-of-type {\n",
       "        vertical-align: middle;\n",
       "    }\n",
       "\n",
       "    .dataframe tbody tr th {\n",
       "        vertical-align: top;\n",
       "    }\n",
       "\n",
       "    .dataframe thead th {\n",
       "        text-align: right;\n",
       "    }\n",
       "</style>\n",
       "<table border=\"1\" class=\"dataframe\">\n",
       "  <thead>\n",
       "    <tr style=\"text-align: right;\">\n",
       "      <th></th>\n",
       "      <th>idaviso</th>\n",
       "      <th>idpostulante</th>\n",
       "      <th>edad</th>\n",
       "      <th>nombre_estudio_Doctorado</th>\n",
       "      <th>nombre_estudio_Master</th>\n",
       "      <th>nombre_estudio_Otro</th>\n",
       "      <th>nombre_estudio_Posgrado</th>\n",
       "      <th>nombre_estudio_Secundario</th>\n",
       "      <th>nombre_estudio_Terciario/Tecnico</th>\n",
       "      <th>nombre_estudio_Universitario</th>\n",
       "      <th>estado_estudio_Abandonado</th>\n",
       "      <th>estado_estudio_EnCurso</th>\n",
       "      <th>estado_estudio_Graduado</th>\n",
       "      <th>sexo_FEM</th>\n",
       "      <th>sexo_MASC</th>\n",
       "      <th>sexo_NO_DECLARA</th>\n",
       "      <th>titulo</th>\n",
       "      <th>descripcion</th>\n",
       "      <th>nombre_area</th>\n",
       "      <th>tipo_full</th>\n",
       "      <th>tipo_part</th>\n",
       "      <th>tipo_otro</th>\n",
       "      <th>nivel_laboral_Gerencia/AltaGerencia/Dirección</th>\n",
       "      <th>nivel_laboral_Jefe/Supervisor/Responsable</th>\n",
       "      <th>nivel_laboral_Junior</th>\n",
       "      <th>nivel_laboral_Otro</th>\n",
       "      <th>nivel_laboral_Senior/Semi-Senior</th>\n",
       "      <th>nivel_laboral_nan</th>\n",
       "    </tr>\n",
       "  </thead>\n",
       "  <tbody>\n",
       "    <tr>\n",
       "      <th>0</th>\n",
       "      <td>1112257047</td>\n",
       "      <td>NM5M</td>\n",
       "      <td>48</td>\n",
       "      <td>0</td>\n",
       "      <td>0</td>\n",
       "      <td>0</td>\n",
       "      <td>0</td>\n",
       "      <td>1</td>\n",
       "      <td>0</td>\n",
       "      <td>0</td>\n",
       "      <td>0</td>\n",
       "      <td>0</td>\n",
       "      <td>1</td>\n",
       "      <td>1</td>\n",
       "      <td>0</td>\n",
       "      <td>0</td>\n",
       "      <td>['representantes', 'atencion', 'cliente', 'ret...</td>\n",
       "      <td>[('retencion', 3), ('atencion', 2), ('cliente'...</td>\n",
       "      <td>AtenciónalCliente</td>\n",
       "      <td>False</td>\n",
       "      <td>True</td>\n",
       "      <td>False</td>\n",
       "      <td>0</td>\n",
       "      <td>0</td>\n",
       "      <td>0</td>\n",
       "      <td>1</td>\n",
       "      <td>0</td>\n",
       "      <td>0</td>\n",
       "    </tr>\n",
       "  </tbody>\n",
       "</table>\n",
       "</div>"
      ],
      "text/plain": [
       "      idaviso idpostulante  edad  nombre_estudio_Doctorado  \\\n",
       "0  1112257047         NM5M    48                         0   \n",
       "\n",
       "   nombre_estudio_Master  nombre_estudio_Otro  nombre_estudio_Posgrado  \\\n",
       "0                      0                    0                        0   \n",
       "\n",
       "   nombre_estudio_Secundario  nombre_estudio_Terciario/Tecnico  \\\n",
       "0                          1                                 0   \n",
       "\n",
       "   nombre_estudio_Universitario  estado_estudio_Abandonado  \\\n",
       "0                             0                          0   \n",
       "\n",
       "   estado_estudio_EnCurso  estado_estudio_Graduado  sexo_FEM  sexo_MASC  \\\n",
       "0                       0                        1         1          0   \n",
       "\n",
       "   sexo_NO_DECLARA                                             titulo  \\\n",
       "0                0  ['representantes', 'atencion', 'cliente', 'ret...   \n",
       "\n",
       "                                         descripcion        nombre_area  \\\n",
       "0  [('retencion', 3), ('atencion', 2), ('cliente'...  AtenciónalCliente   \n",
       "\n",
       "   tipo_full  tipo_part  tipo_otro  \\\n",
       "0      False       True      False   \n",
       "\n",
       "   nivel_laboral_Gerencia/AltaGerencia/Dirección  \\\n",
       "0                                              0   \n",
       "\n",
       "   nivel_laboral_Jefe/Supervisor/Responsable  nivel_laboral_Junior  \\\n",
       "0                                          0                     0   \n",
       "\n",
       "   nivel_laboral_Otro  nivel_laboral_Senior/Semi-Senior  nivel_laboral_nan  \n",
       "0                   1                                 0                  0  "
      ]
     },
     "execution_count": 74,
     "metadata": {},
     "output_type": "execute_result"
    }
   ],
   "source": [
    "niveles_laborales = postulaciones_postulantes_avisos.nivel_laboral.str.get_dummies()\n",
    "niveles_laborales.columns = ['nivel_laboral_' + col for col in niveles_laborales.columns]\n",
    "postulaciones_postulantes_avisos = pd.concat([postulaciones_postulantes_avisos, niveles_laborales], axis=1)\n",
    "postulaciones_postulantes_avisos.drop(columns=['nivel_laboral'], inplace=True)\n",
    "postulaciones_postulantes_avisos.head(1)"
   ]
  },
  {
   "cell_type": "code",
   "execution_count": 75,
   "metadata": {},
   "outputs": [
    {
     "data": {
      "text/html": [
       "<div>\n",
       "<style scoped>\n",
       "    .dataframe tbody tr th:only-of-type {\n",
       "        vertical-align: middle;\n",
       "    }\n",
       "\n",
       "    .dataframe tbody tr th {\n",
       "        vertical-align: top;\n",
       "    }\n",
       "\n",
       "    .dataframe thead th {\n",
       "        text-align: right;\n",
       "    }\n",
       "</style>\n",
       "<table border=\"1\" class=\"dataframe\">\n",
       "  <thead>\n",
       "    <tr style=\"text-align: right;\">\n",
       "      <th></th>\n",
       "      <th>id</th>\n",
       "      <th>idaviso</th>\n",
       "      <th>idpostulante</th>\n",
       "      <th>edad</th>\n",
       "      <th>nombre_estudio_Doctorado</th>\n",
       "      <th>nombre_estudio_Master</th>\n",
       "      <th>nombre_estudio_Otro</th>\n",
       "      <th>nombre_estudio_Posgrado</th>\n",
       "      <th>nombre_estudio_Secundario</th>\n",
       "      <th>nombre_estudio_Terciario/Tecnico</th>\n",
       "      <th>nombre_estudio_Universitario</th>\n",
       "      <th>estado_estudio_Abandonado</th>\n",
       "      <th>estado_estudio_EnCurso</th>\n",
       "      <th>estado_estudio_Graduado</th>\n",
       "      <th>sexo_FEM</th>\n",
       "      <th>sexo_MASC</th>\n",
       "      <th>sexo_NO_DECLARA</th>\n",
       "      <th>titulo</th>\n",
       "      <th>descripcion</th>\n",
       "      <th>nombre_area</th>\n",
       "      <th>tipo_full</th>\n",
       "      <th>tipo_part</th>\n",
       "      <th>tipo_otro</th>\n",
       "      <th>nivel_laboral_Gerencia/AltaGerencia/Dirección</th>\n",
       "      <th>nivel_laboral_Jefe/Supervisor/Responsable</th>\n",
       "      <th>nivel_laboral_Junior</th>\n",
       "      <th>nivel_laboral_Otro</th>\n",
       "      <th>nivel_laboral_Senior/Semi-Senior</th>\n",
       "    </tr>\n",
       "  </thead>\n",
       "  <tbody>\n",
       "    <tr>\n",
       "      <th>0</th>\n",
       "      <td>0</td>\n",
       "      <td>739260</td>\n",
       "      <td>6M9ZQR</td>\n",
       "      <td>42</td>\n",
       "      <td>1</td>\n",
       "      <td>0</td>\n",
       "      <td>0</td>\n",
       "      <td>0</td>\n",
       "      <td>0</td>\n",
       "      <td>0</td>\n",
       "      <td>0</td>\n",
       "      <td>0</td>\n",
       "      <td>0</td>\n",
       "      <td>1</td>\n",
       "      <td>1</td>\n",
       "      <td>0</td>\n",
       "      <td>0</td>\n",
       "      <td>['asistente', 'comercial']</td>\n",
       "      <td>[('p', 2), ('cliente', 1), ('empresa', 1), ('n...</td>\n",
       "      <td>Comercial</td>\n",
       "      <td>True</td>\n",
       "      <td>False</td>\n",
       "      <td>False</td>\n",
       "      <td>0</td>\n",
       "      <td>1</td>\n",
       "      <td>0</td>\n",
       "      <td>0</td>\n",
       "      <td>0</td>\n",
       "    </tr>\n",
       "  </tbody>\n",
       "</table>\n",
       "</div>"
      ],
      "text/plain": [
       "   id  idaviso idpostulante  edad  nombre_estudio_Doctorado  \\\n",
       "0   0   739260       6M9ZQR    42                         1   \n",
       "\n",
       "   nombre_estudio_Master  nombre_estudio_Otro  nombre_estudio_Posgrado  \\\n",
       "0                      0                    0                        0   \n",
       "\n",
       "   nombre_estudio_Secundario  nombre_estudio_Terciario/Tecnico  \\\n",
       "0                          0                                 0   \n",
       "\n",
       "   nombre_estudio_Universitario  estado_estudio_Abandonado  \\\n",
       "0                             0                          0   \n",
       "\n",
       "   estado_estudio_EnCurso  estado_estudio_Graduado  sexo_FEM  sexo_MASC  \\\n",
       "0                       0                        1         1          0   \n",
       "\n",
       "   sexo_NO_DECLARA                      titulo  \\\n",
       "0                0  ['asistente', 'comercial']   \n",
       "\n",
       "                                         descripcion nombre_area  tipo_full  \\\n",
       "0  [('p', 2), ('cliente', 1), ('empresa', 1), ('n...   Comercial       True   \n",
       "\n",
       "   tipo_part  tipo_otro  nivel_laboral_Gerencia/AltaGerencia/Dirección  \\\n",
       "0      False      False                                              0   \n",
       "\n",
       "   nivel_laboral_Jefe/Supervisor/Responsable  nivel_laboral_Junior  \\\n",
       "0                                          1                     0   \n",
       "\n",
       "   nivel_laboral_Otro  nivel_laboral_Senior/Semi-Senior  \n",
       "0                   0                                 0  "
      ]
     },
     "execution_count": 75,
     "metadata": {},
     "output_type": "execute_result"
    }
   ],
   "source": [
    "niveles_laborales = postulaciones_postulantes_avisos_test.nivel_laboral.str.get_dummies()\n",
    "niveles_laborales.columns = ['nivel_laboral_' + col for col in niveles_laborales.columns]\n",
    "postulaciones_postulantes_avisos_test = pd.concat([postulaciones_postulantes_avisos_test, niveles_laborales], axis=1)\n",
    "postulaciones_postulantes_avisos_test.drop(columns=['nivel_laboral'], inplace=True)\n",
    "postulaciones_postulantes_avisos_test.head(1)"
   ]
  },
  {
   "cell_type": "code",
   "execution_count": 38,
   "metadata": {},
   "outputs": [
    {
     "data": {
      "text/html": [
       "<div>\n",
       "<style scoped>\n",
       "    .dataframe tbody tr th:only-of-type {\n",
       "        vertical-align: middle;\n",
       "    }\n",
       "\n",
       "    .dataframe tbody tr th {\n",
       "        vertical-align: top;\n",
       "    }\n",
       "\n",
       "    .dataframe thead th {\n",
       "        text-align: right;\n",
       "    }\n",
       "</style>\n",
       "<table border=\"1\" class=\"dataframe\">\n",
       "  <thead>\n",
       "    <tr style=\"text-align: right;\">\n",
       "      <th></th>\n",
       "      <th>idpostulante</th>\n",
       "      <th>edad</th>\n",
       "      <th>idaviso</th>\n",
       "      <th>titulo</th>\n",
       "      <th>descripcion</th>\n",
       "      <th>nombre_area</th>\n",
       "      <th>nombre_estudio_Doctorado</th>\n",
       "      <th>nombre_estudio_Master</th>\n",
       "      <th>nombre_estudio_Otro</th>\n",
       "      <th>nombre_estudio_Posgrado</th>\n",
       "      <th>nombre_estudio_Secundario</th>\n",
       "      <th>nombre_estudio_Terciario/Tecnico</th>\n",
       "      <th>nombre_estudio_Universitario</th>\n",
       "      <th>estado_estudio_Abandonado</th>\n",
       "      <th>estado_estudio_EnCurso</th>\n",
       "      <th>estado_estudio_Graduado</th>\n",
       "      <th>sexo_FEM</th>\n",
       "      <th>sexo_MASC</th>\n",
       "      <th>sexo_NO_DECLARA</th>\n",
       "      <th>tipo_full</th>\n",
       "      <th>tipo_part</th>\n",
       "      <th>tipo_otro</th>\n",
       "      <th>nivel_laboral_Gerencia/AltaGerencia/Dirección</th>\n",
       "      <th>nivel_laboral_Jefe/Supervisor/Responsable</th>\n",
       "      <th>nivel_laboral_Junior</th>\n",
       "      <th>nivel_laboral_Otro</th>\n",
       "      <th>nivel_laboral_Senior/Semi-Senior</th>\n",
       "    </tr>\n",
       "  </thead>\n",
       "  <tbody>\n",
       "    <tr>\n",
       "      <th>0</th>\n",
       "      <td>eLz8or</td>\n",
       "      <td>33</td>\n",
       "      <td>1112486428</td>\n",
       "      <td>['jefe', 'operaciones', 'ingeniero', 'procesos']</td>\n",
       "      <td>[('equipo', 6), ('plantas', 5), ('operaciones'...</td>\n",
       "      <td>IngenieríadeProcesos</td>\n",
       "      <td>0</td>\n",
       "      <td>0</td>\n",
       "      <td>0</td>\n",
       "      <td>0</td>\n",
       "      <td>0</td>\n",
       "      <td>1</td>\n",
       "      <td>0</td>\n",
       "      <td>0</td>\n",
       "      <td>0</td>\n",
       "      <td>1</td>\n",
       "      <td>1</td>\n",
       "      <td>0</td>\n",
       "      <td>0</td>\n",
       "      <td>True</td>\n",
       "      <td>False</td>\n",
       "      <td>False</td>\n",
       "      <td>0</td>\n",
       "      <td>1</td>\n",
       "      <td>0</td>\n",
       "      <td>0</td>\n",
       "      <td>0</td>\n",
       "    </tr>\n",
       "  </tbody>\n",
       "</table>\n",
       "</div>"
      ],
      "text/plain": [
       "  idpostulante  edad     idaviso  \\\n",
       "0       eLz8or    33  1112486428   \n",
       "\n",
       "                                             titulo  \\\n",
       "0  ['jefe', 'operaciones', 'ingeniero', 'procesos']   \n",
       "\n",
       "                                         descripcion           nombre_area  \\\n",
       "0  [('equipo', 6), ('plantas', 5), ('operaciones'...  IngenieríadeProcesos   \n",
       "\n",
       "   nombre_estudio_Doctorado  nombre_estudio_Master  nombre_estudio_Otro  \\\n",
       "0                         0                      0                    0   \n",
       "\n",
       "   nombre_estudio_Posgrado  nombre_estudio_Secundario  \\\n",
       "0                        0                          0   \n",
       "\n",
       "   nombre_estudio_Terciario/Tecnico  nombre_estudio_Universitario  \\\n",
       "0                                 1                             0   \n",
       "\n",
       "   estado_estudio_Abandonado  estado_estudio_EnCurso  estado_estudio_Graduado  \\\n",
       "0                          0                       0                        1   \n",
       "\n",
       "   sexo_FEM  sexo_MASC  sexo_NO_DECLARA  tipo_full  tipo_part  tipo_otro  \\\n",
       "0         1          0                0       True      False      False   \n",
       "\n",
       "   nivel_laboral_Gerencia/AltaGerencia/Dirección  \\\n",
       "0                                              0   \n",
       "\n",
       "   nivel_laboral_Jefe/Supervisor/Responsable  nivel_laboral_Junior  \\\n",
       "0                                          1                     0   \n",
       "\n",
       "   nivel_laboral_Otro  nivel_laboral_Senior/Semi-Senior  \n",
       "0                   0                                 0  "
      ]
     },
     "execution_count": 38,
     "metadata": {},
     "output_type": "execute_result"
    }
   ],
   "source": [
    "niveles_laborales = no_postulados.nivel_laboral.str.get_dummies()\n",
    "niveles_laborales.columns = ['nivel_laboral_' + col for col in niveles_laborales.columns]\n",
    "no_postulados = pd.concat([no_postulados, niveles_laborales], axis=1)\n",
    "no_postulados.drop(columns=['nivel_laboral'], inplace=True)\n",
    "no_postulados.head(1)"
   ]
  },
  {
   "cell_type": "raw",
   "metadata": {},
   "source": [
    "Probamos agregando una columna por cada area, esto va a agrandar mucho el tamaño! (188 columnas)"
   ]
  },
  {
   "cell_type": "code",
   "execution_count": 76,
   "metadata": {},
   "outputs": [],
   "source": [
    "# BACKUP por si las areas rompen\n",
    "postulaciones_postulantes_avisos.to_csv('../data/postulaciones_postulantes_avisos.csv', index=False, sep=',', encoding='utf-8')\n",
    "postulaciones_postulantes_avisos_test.to_csv('../data/X_test.csv', index=False, sep=',', encoding='utf-8')"
   ]
  },
  {
   "cell_type": "code",
   "execution_count": 39,
   "metadata": {},
   "outputs": [],
   "source": [
    "no_postulados.to_csv('../data/no_postulados.csv', index=False, sep=',', encoding='utf-8')"
   ]
  },
  {
   "cell_type": "code",
   "execution_count": 2,
   "metadata": {},
   "outputs": [],
   "source": [
    "postulaciones_postulantes_avisos = pd.read_csv('../data/postulaciones_postulantes_avisos.csv', sep=',', encoding='utf-8')\n",
    "postulaciones_postulantes_avisos_test = pd.read_csv('../data/X_test.csv', sep=',', encoding='utf-8')"
   ]
  },
  {
   "cell_type": "code",
   "execution_count": null,
   "metadata": {},
   "outputs": [],
   "source": [
    "no_postulados = pd.read_csv('../data/X_test.csv', sep=',', encoding='utf-8')"
   ]
  },
  {
   "cell_type": "markdown",
   "metadata": {},
   "source": [
    "## One hot encoding de las areas explota memoria! omitido por ahora"
   ]
  },
  {
   "cell_type": "code",
   "execution_count": 77,
   "metadata": {},
   "outputs": [
    {
     "data": {
      "text/plain": [
       "Ventas                                    860477\n",
       "Administración                            582135\n",
       "Producción                                507308\n",
       "Comercial                                 434737\n",
       "AtenciónalCliente                         395388\n",
       "Recepcionista                             304565\n",
       "CallCenter                                252928\n",
       "Tesorería                                 155923\n",
       "Telemarketing                             155494\n",
       "MantenimientoyLimpieza                    117549\n",
       "Almacén/Depósito/Expedición               115591\n",
       "Contabilidad                              114176\n",
       "RecursosHumanos                            90967\n",
       "Gastronomia                                87830\n",
       "Logística                                  85874\n",
       "Secretaria                                 81428\n",
       "AdministracióndePersonal                   69196\n",
       "CréditosyCobranzas                         68032\n",
       "Marketing                                  63181\n",
       "Legal                                      58322\n",
       "Compras                                    51894\n",
       "SoporteTécnico                             51451\n",
       "Mantenimiento                              50234\n",
       "Camareros                                  49614\n",
       "Farmacéutica                               48779\n",
       "Finanzas                                   48266\n",
       "Seguridad                                  45140\n",
       "OficiosyProfesiones                        41284\n",
       "JóvenesProfesionales                       38102\n",
       "Otros                                      37640\n",
       "                                           ...  \n",
       "MercadotecniaInternacional                   279\n",
       "Instrumentación                              275\n",
       "Periodismo                                   272\n",
       "AuditoríaMédica                              263\n",
       "Diseño3D                                     252\n",
       "ArteyCultura                                 240\n",
       "ExploraciónMinerayPetroquimica               233\n",
       "Trabajosocial                                216\n",
       "ResponsabilidadSocial                        199\n",
       "Idiomas                                      176\n",
       "InstrumentaciónMinera                        172\n",
       "Instrumentaciónquirúrgica                    141\n",
       "IngenieríaGeológica                          129\n",
       "TrabajoSocial                                113\n",
       "Educaciónespecial                             97\n",
       "Emergentología                                97\n",
       "CuidadosIntensivosCardiologicosAdultos        70\n",
       "Topografía                                    57\n",
       "Diagnósticoporimágenes                        44\n",
       "Kinesiología/terapiaocupacional               35\n",
       "ClínicaMédica                                 30\n",
       "Farmaciahospitalaria                          18\n",
       "Esterilización                                14\n",
       "Urbanismo                                     13\n",
       "Prácticascardiológicas                        12\n",
       "Psicología                                     9\n",
       "Maternidad                                     9\n",
       "Odontología                                    3\n",
       "Traduccion                                     2\n",
       "Fonoaudiología                                 1\n",
       "Name: nombre_area, Length: 186, dtype: int64"
      ]
     },
     "execution_count": 77,
     "metadata": {},
     "output_type": "execute_result"
    }
   ],
   "source": [
    "postulaciones_postulantes_avisos['nombre_area'].value_counts()"
   ]
  },
  {
   "cell_type": "code",
   "execution_count": null,
   "metadata": {},
   "outputs": [],
   "source": [
    "'''\n",
    "areas = postulaciones_postulantes_avisos.nombre_area.str.get_dummies()\n",
    "areas.columns = ['area_' + col for col in areas.columns]\n",
    "postulaciones_postulantes_avisos = pd.concat([areas, postulaciones_postulantes_avisos], axis=1)\n",
    "postulaciones_postulantes_avisos.head(1)\n",
    "'''"
   ]
  },
  {
   "cell_type": "code",
   "execution_count": null,
   "metadata": {},
   "outputs": [],
   "source": [
    "'''\n",
    "areas = postulaciones_postulantes_avisos_test.nombre_area.str.get_dummies()\n",
    "areas.columns = ['area_' + col for col in areas.columns]\n",
    "postulaciones_postulantes_avisos_test = pd.concat([areas, postulaciones_postulantes_avisos_test], axis=1)\n",
    "postulaciones_postulantes_avisos_test.head(1)\n",
    "'''"
   ]
  },
  {
   "cell_type": "code",
   "execution_count": 145,
   "metadata": {},
   "outputs": [],
   "source": [
    "'''\n",
    "postulaciones_postulantes_avisos.drop(columns=['nombre_area'], inplace=True)\n",
    "postulaciones_postulantes_avisos_test.drop(columns=['nombre_area'], inplace=True)\n",
    "'''"
   ]
  },
  {
   "cell_type": "markdown",
   "metadata": {},
   "source": [
    "## Exportamos la estructura de los datos a predecir a un csv X_test"
   ]
  },
  {
   "cell_type": "code",
   "execution_count": null,
   "metadata": {},
   "outputs": [],
   "source": [
    "postulaciones_postulantes_avisos_test.to_csv('../data/X_test.csv', index=False, sep=',', encoding='utf-8')"
   ]
  },
  {
   "cell_type": "markdown",
   "metadata": {},
   "source": [
    "## Agregamos la columna a predecir y generamos muestras aleatorias para los casos negativos"
   ]
  },
  {
   "cell_type": "raw",
   "metadata": {},
   "source": [
    "Hasta aca tenemos para el set de entrenamiento todos registros para los cuales la columna a predecir ('postulado') va a ser true. Vamos a generar una muestra random de registros para armar los 'postulado'==false"
   ]
  },
  {
   "cell_type": "code",
   "execution_count": 3,
   "metadata": {},
   "outputs": [],
   "source": [
    "postulaciones_postulantes_avisos['sepostulo'] = True"
   ]
  },
  {
   "cell_type": "code",
   "execution_count": 40,
   "metadata": {},
   "outputs": [
    {
     "data": {
      "text/html": [
       "<div>\n",
       "<style scoped>\n",
       "    .dataframe tbody tr th:only-of-type {\n",
       "        vertical-align: middle;\n",
       "    }\n",
       "\n",
       "    .dataframe tbody tr th {\n",
       "        vertical-align: top;\n",
       "    }\n",
       "\n",
       "    .dataframe thead th {\n",
       "        text-align: right;\n",
       "    }\n",
       "</style>\n",
       "<table border=\"1\" class=\"dataframe\">\n",
       "  <thead>\n",
       "    <tr style=\"text-align: right;\">\n",
       "      <th></th>\n",
       "      <th>idaviso</th>\n",
       "      <th>idpostulante</th>\n",
       "      <th>edad</th>\n",
       "      <th>nombre_estudio_Doctorado</th>\n",
       "      <th>nombre_estudio_Master</th>\n",
       "      <th>nombre_estudio_Otro</th>\n",
       "      <th>nombre_estudio_Posgrado</th>\n",
       "      <th>nombre_estudio_Secundario</th>\n",
       "      <th>nombre_estudio_Terciario/Tecnico</th>\n",
       "      <th>nombre_estudio_Universitario</th>\n",
       "      <th>estado_estudio_Abandonado</th>\n",
       "      <th>estado_estudio_EnCurso</th>\n",
       "      <th>estado_estudio_Graduado</th>\n",
       "      <th>sexo_FEM</th>\n",
       "      <th>sexo_MASC</th>\n",
       "      <th>sexo_NO_DECLARA</th>\n",
       "      <th>titulo</th>\n",
       "      <th>descripcion</th>\n",
       "      <th>nombre_area</th>\n",
       "      <th>tipo_full</th>\n",
       "      <th>tipo_part</th>\n",
       "      <th>tipo_otro</th>\n",
       "      <th>nivel_laboral_Gerencia/AltaGerencia/Dirección</th>\n",
       "      <th>nivel_laboral_Jefe/Supervisor/Responsable</th>\n",
       "      <th>nivel_laboral_Junior</th>\n",
       "      <th>nivel_laboral_Otro</th>\n",
       "      <th>nivel_laboral_Senior/Semi-Senior</th>\n",
       "      <th>nivel_laboral_nan</th>\n",
       "      <th>sepostulo</th>\n",
       "    </tr>\n",
       "  </thead>\n",
       "  <tbody>\n",
       "    <tr>\n",
       "      <th>0</th>\n",
       "      <td>1112257047</td>\n",
       "      <td>NM5M</td>\n",
       "      <td>48</td>\n",
       "      <td>0</td>\n",
       "      <td>0</td>\n",
       "      <td>0</td>\n",
       "      <td>0</td>\n",
       "      <td>1</td>\n",
       "      <td>0</td>\n",
       "      <td>0</td>\n",
       "      <td>0</td>\n",
       "      <td>0</td>\n",
       "      <td>1</td>\n",
       "      <td>1</td>\n",
       "      <td>0</td>\n",
       "      <td>0</td>\n",
       "      <td>['representantes', 'atencion', 'cliente', 'ret...</td>\n",
       "      <td>[('retencion', 3), ('atencion', 2), ('cliente'...</td>\n",
       "      <td>AtenciónalCliente</td>\n",
       "      <td>False</td>\n",
       "      <td>True</td>\n",
       "      <td>False</td>\n",
       "      <td>0</td>\n",
       "      <td>0</td>\n",
       "      <td>0</td>\n",
       "      <td>1</td>\n",
       "      <td>0</td>\n",
       "      <td>0</td>\n",
       "      <td>True</td>\n",
       "    </tr>\n",
       "  </tbody>\n",
       "</table>\n",
       "</div>"
      ],
      "text/plain": [
       "      idaviso idpostulante  edad  nombre_estudio_Doctorado  \\\n",
       "0  1112257047         NM5M    48                         0   \n",
       "\n",
       "   nombre_estudio_Master  nombre_estudio_Otro  nombre_estudio_Posgrado  \\\n",
       "0                      0                    0                        0   \n",
       "\n",
       "   nombre_estudio_Secundario  nombre_estudio_Terciario/Tecnico  \\\n",
       "0                          1                                 0   \n",
       "\n",
       "   nombre_estudio_Universitario  estado_estudio_Abandonado  \\\n",
       "0                             0                          0   \n",
       "\n",
       "   estado_estudio_EnCurso  estado_estudio_Graduado  sexo_FEM  sexo_MASC  \\\n",
       "0                       0                        1         1          0   \n",
       "\n",
       "   sexo_NO_DECLARA                                             titulo  \\\n",
       "0                0  ['representantes', 'atencion', 'cliente', 'ret...   \n",
       "\n",
       "                                         descripcion        nombre_area  \\\n",
       "0  [('retencion', 3), ('atencion', 2), ('cliente'...  AtenciónalCliente   \n",
       "\n",
       "   tipo_full  tipo_part  tipo_otro  \\\n",
       "0      False       True      False   \n",
       "\n",
       "   nivel_laboral_Gerencia/AltaGerencia/Dirección  \\\n",
       "0                                              0   \n",
       "\n",
       "   nivel_laboral_Jefe/Supervisor/Responsable  nivel_laboral_Junior  \\\n",
       "0                                          0                     0   \n",
       "\n",
       "   nivel_laboral_Otro  nivel_laboral_Senior/Semi-Senior  nivel_laboral_nan  \\\n",
       "0                   1                                 0                  0   \n",
       "\n",
       "   sepostulo  \n",
       "0       True  "
      ]
     },
     "execution_count": 40,
     "metadata": {},
     "output_type": "execute_result"
    }
   ],
   "source": [
    "postulaciones_postulantes_avisos.head(1)"
   ]
  },
  {
   "cell_type": "code",
   "execution_count": 5,
   "metadata": {},
   "outputs": [],
   "source": [
    "postulaciones_postulantes_avisos.to_csv('../data/postulaciones_postulantes_avisos.csv', index=False, sep=',', encoding='utf-8')"
   ]
  },
  {
   "cell_type": "code",
   "execution_count": 2,
   "metadata": {},
   "outputs": [],
   "source": [
    "postulaciones_postulantes_avisos = pd.read_csv('../data/postulaciones_postulantes_avisos.csv', encoding='utf-8')"
   ]
  },
  {
   "cell_type": "code",
   "execution_count": 6,
   "metadata": {},
   "outputs": [
    {
     "name": "stdout",
     "output_type": "stream",
     "text": [
      "6604615\n"
     ]
    },
    {
     "data": {
      "text/html": [
       "<div>\n",
       "<style scoped>\n",
       "    .dataframe tbody tr th:only-of-type {\n",
       "        vertical-align: middle;\n",
       "    }\n",
       "\n",
       "    .dataframe tbody tr th {\n",
       "        vertical-align: top;\n",
       "    }\n",
       "\n",
       "    .dataframe thead th {\n",
       "        text-align: right;\n",
       "    }\n",
       "</style>\n",
       "<table border=\"1\" class=\"dataframe\">\n",
       "  <thead>\n",
       "    <tr style=\"text-align: right;\">\n",
       "      <th></th>\n",
       "      <th>idaviso</th>\n",
       "      <th>idpostulante</th>\n",
       "      <th>edad</th>\n",
       "      <th>nombre_estudio_Doctorado</th>\n",
       "      <th>nombre_estudio_Master</th>\n",
       "      <th>nombre_estudio_Otro</th>\n",
       "      <th>nombre_estudio_Posgrado</th>\n",
       "      <th>nombre_estudio_Secundario</th>\n",
       "      <th>nombre_estudio_Terciario/Tecnico</th>\n",
       "      <th>nombre_estudio_Universitario</th>\n",
       "      <th>estado_estudio_Abandonado</th>\n",
       "      <th>estado_estudio_EnCurso</th>\n",
       "      <th>estado_estudio_Graduado</th>\n",
       "      <th>sexo_FEM</th>\n",
       "      <th>sexo_MASC</th>\n",
       "      <th>sexo_NO_DECLARA</th>\n",
       "      <th>titulo</th>\n",
       "      <th>descripcion</th>\n",
       "      <th>nombre_area</th>\n",
       "      <th>tipo_full</th>\n",
       "      <th>tipo_part</th>\n",
       "      <th>tipo_otro</th>\n",
       "      <th>nivel_laboral_Gerencia/AltaGerencia/Dirección</th>\n",
       "      <th>nivel_laboral_Jefe/Supervisor/Responsable</th>\n",
       "      <th>nivel_laboral_Junior</th>\n",
       "      <th>nivel_laboral_Otro</th>\n",
       "      <th>nivel_laboral_Senior/Semi-Senior</th>\n",
       "      <th>nivel_laboral_nan</th>\n",
       "      <th>sepostulo</th>\n",
       "    </tr>\n",
       "  </thead>\n",
       "  <tbody>\n",
       "    <tr>\n",
       "      <th>0</th>\n",
       "      <td>1112257047</td>\n",
       "      <td>NM5M</td>\n",
       "      <td>48</td>\n",
       "      <td>0</td>\n",
       "      <td>0</td>\n",
       "      <td>0</td>\n",
       "      <td>0</td>\n",
       "      <td>1</td>\n",
       "      <td>0</td>\n",
       "      <td>0</td>\n",
       "      <td>0</td>\n",
       "      <td>0</td>\n",
       "      <td>1</td>\n",
       "      <td>1</td>\n",
       "      <td>0</td>\n",
       "      <td>0</td>\n",
       "      <td>['representantes', 'atencion', 'cliente', 'ret...</td>\n",
       "      <td>[('retencion', 3), ('atencion', 2), ('cliente'...</td>\n",
       "      <td>AtenciónalCliente</td>\n",
       "      <td>False</td>\n",
       "      <td>True</td>\n",
       "      <td>False</td>\n",
       "      <td>0</td>\n",
       "      <td>0</td>\n",
       "      <td>0</td>\n",
       "      <td>1</td>\n",
       "      <td>0</td>\n",
       "      <td>0</td>\n",
       "      <td>True</td>\n",
       "    </tr>\n",
       "  </tbody>\n",
       "</table>\n",
       "</div>"
      ],
      "text/plain": [
       "      idaviso idpostulante  edad  nombre_estudio_Doctorado  \\\n",
       "0  1112257047         NM5M    48                         0   \n",
       "\n",
       "   nombre_estudio_Master  nombre_estudio_Otro  nombre_estudio_Posgrado  \\\n",
       "0                      0                    0                        0   \n",
       "\n",
       "   nombre_estudio_Secundario  nombre_estudio_Terciario/Tecnico  \\\n",
       "0                          1                                 0   \n",
       "\n",
       "   nombre_estudio_Universitario  estado_estudio_Abandonado  \\\n",
       "0                             0                          0   \n",
       "\n",
       "   estado_estudio_EnCurso  estado_estudio_Graduado  sexo_FEM  sexo_MASC  \\\n",
       "0                       0                        1         1          0   \n",
       "\n",
       "   sexo_NO_DECLARA                                             titulo  \\\n",
       "0                0  ['representantes', 'atencion', 'cliente', 'ret...   \n",
       "\n",
       "                                         descripcion        nombre_area  \\\n",
       "0  [('retencion', 3), ('atencion', 2), ('cliente'...  AtenciónalCliente   \n",
       "\n",
       "   tipo_full  tipo_part  tipo_otro  \\\n",
       "0      False       True      False   \n",
       "\n",
       "   nivel_laboral_Gerencia/AltaGerencia/Dirección  \\\n",
       "0                                              0   \n",
       "\n",
       "   nivel_laboral_Jefe/Supervisor/Responsable  nivel_laboral_Junior  \\\n",
       "0                                          0                     0   \n",
       "\n",
       "   nivel_laboral_Otro  nivel_laboral_Senior/Semi-Senior  nivel_laboral_nan  \\\n",
       "0                   1                                 0                  0   \n",
       "\n",
       "   sepostulo  \n",
       "0       True  "
      ]
     },
     "execution_count": 6,
     "metadata": {},
     "output_type": "execute_result"
    }
   ],
   "source": [
    "print(len(postulaciones_postulantes_avisos))\n",
    "postulaciones_postulantes_avisos.head(1)"
   ]
  },
  {
   "cell_type": "markdown",
   "metadata": {},
   "source": [
    "### Juntamos con los pares (idAviso, idPostulante) con sepostulo == False"
   ]
  },
  {
   "cell_type": "code",
   "execution_count": 3,
   "metadata": {},
   "outputs": [],
   "source": [
    "no_postulados = pd.read_csv('../data/no_postulados.csv', encoding='utf-8')"
   ]
  },
  {
   "cell_type": "code",
   "execution_count": 4,
   "metadata": {},
   "outputs": [
    {
     "data": {
      "text/html": [
       "<div>\n",
       "<style scoped>\n",
       "    .dataframe tbody tr th:only-of-type {\n",
       "        vertical-align: middle;\n",
       "    }\n",
       "\n",
       "    .dataframe tbody tr th {\n",
       "        vertical-align: top;\n",
       "    }\n",
       "\n",
       "    .dataframe thead th {\n",
       "        text-align: right;\n",
       "    }\n",
       "</style>\n",
       "<table border=\"1\" class=\"dataframe\">\n",
       "  <thead>\n",
       "    <tr style=\"text-align: right;\">\n",
       "      <th></th>\n",
       "      <th>idpostulante</th>\n",
       "      <th>edad</th>\n",
       "      <th>idaviso</th>\n",
       "      <th>titulo</th>\n",
       "      <th>descripcion</th>\n",
       "      <th>nombre_area</th>\n",
       "      <th>nombre_estudio_Doctorado</th>\n",
       "      <th>nombre_estudio_Master</th>\n",
       "      <th>nombre_estudio_Otro</th>\n",
       "      <th>nombre_estudio_Posgrado</th>\n",
       "      <th>nombre_estudio_Secundario</th>\n",
       "      <th>nombre_estudio_Terciario/Tecnico</th>\n",
       "      <th>nombre_estudio_Universitario</th>\n",
       "      <th>estado_estudio_Abandonado</th>\n",
       "      <th>estado_estudio_EnCurso</th>\n",
       "      <th>estado_estudio_Graduado</th>\n",
       "      <th>sexo_FEM</th>\n",
       "      <th>sexo_MASC</th>\n",
       "      <th>sexo_NO_DECLARA</th>\n",
       "      <th>tipo_full</th>\n",
       "      <th>tipo_part</th>\n",
       "      <th>tipo_otro</th>\n",
       "      <th>nivel_laboral_Gerencia/AltaGerencia/Dirección</th>\n",
       "      <th>nivel_laboral_Jefe/Supervisor/Responsable</th>\n",
       "      <th>nivel_laboral_Junior</th>\n",
       "      <th>nivel_laboral_Otro</th>\n",
       "      <th>nivel_laboral_Senior/Semi-Senior</th>\n",
       "      <th>sepostulo</th>\n",
       "    </tr>\n",
       "  </thead>\n",
       "  <tbody>\n",
       "    <tr>\n",
       "      <th>0</th>\n",
       "      <td>eLz8or</td>\n",
       "      <td>33</td>\n",
       "      <td>1112486428</td>\n",
       "      <td>['jefe', 'operaciones', 'ingeniero', 'procesos']</td>\n",
       "      <td>[('equipo', 6), ('plantas', 5), ('operaciones'...</td>\n",
       "      <td>IngenieríadeProcesos</td>\n",
       "      <td>0</td>\n",
       "      <td>0</td>\n",
       "      <td>0</td>\n",
       "      <td>0</td>\n",
       "      <td>0</td>\n",
       "      <td>1</td>\n",
       "      <td>0</td>\n",
       "      <td>0</td>\n",
       "      <td>0</td>\n",
       "      <td>1</td>\n",
       "      <td>1</td>\n",
       "      <td>0</td>\n",
       "      <td>0</td>\n",
       "      <td>True</td>\n",
       "      <td>False</td>\n",
       "      <td>False</td>\n",
       "      <td>0</td>\n",
       "      <td>1</td>\n",
       "      <td>0</td>\n",
       "      <td>0</td>\n",
       "      <td>0</td>\n",
       "      <td>False</td>\n",
       "    </tr>\n",
       "  </tbody>\n",
       "</table>\n",
       "</div>"
      ],
      "text/plain": [
       "  idpostulante  edad     idaviso  \\\n",
       "0       eLz8or    33  1112486428   \n",
       "\n",
       "                                             titulo  \\\n",
       "0  ['jefe', 'operaciones', 'ingeniero', 'procesos']   \n",
       "\n",
       "                                         descripcion           nombre_area  \\\n",
       "0  [('equipo', 6), ('plantas', 5), ('operaciones'...  IngenieríadeProcesos   \n",
       "\n",
       "   nombre_estudio_Doctorado  nombre_estudio_Master  nombre_estudio_Otro  \\\n",
       "0                         0                      0                    0   \n",
       "\n",
       "   nombre_estudio_Posgrado  nombre_estudio_Secundario  \\\n",
       "0                        0                          0   \n",
       "\n",
       "   nombre_estudio_Terciario/Tecnico  nombre_estudio_Universitario  \\\n",
       "0                                 1                             0   \n",
       "\n",
       "   estado_estudio_Abandonado  estado_estudio_EnCurso  estado_estudio_Graduado  \\\n",
       "0                          0                       0                        1   \n",
       "\n",
       "   sexo_FEM  sexo_MASC  sexo_NO_DECLARA  tipo_full  tipo_part  tipo_otro  \\\n",
       "0         1          0                0       True      False      False   \n",
       "\n",
       "   nivel_laboral_Gerencia/AltaGerencia/Dirección  \\\n",
       "0                                              0   \n",
       "\n",
       "   nivel_laboral_Jefe/Supervisor/Responsable  nivel_laboral_Junior  \\\n",
       "0                                          1                     0   \n",
       "\n",
       "   nivel_laboral_Otro  nivel_laboral_Senior/Semi-Senior  sepostulo  \n",
       "0                   0                                 0      False  "
      ]
     },
     "execution_count": 4,
     "metadata": {},
     "output_type": "execute_result"
    }
   ],
   "source": [
    "no_postulados['sepostulo'] = False\n",
    "no_postulados.head(1)"
   ]
  },
  {
   "cell_type": "code",
   "execution_count": 5,
   "metadata": {},
   "outputs": [],
   "source": [
    "no_postulados.to_csv('../data/no_postulados.csv', index=False, sep=',', encoding='utf-8')"
   ]
  },
  {
   "cell_type": "code",
   "execution_count": 6,
   "metadata": {},
   "outputs": [
    {
     "name": "stdout",
     "output_type": "stream",
     "text": [
      "6500000\n"
     ]
    },
    {
     "data": {
      "text/html": [
       "<div>\n",
       "<style scoped>\n",
       "    .dataframe tbody tr th:only-of-type {\n",
       "        vertical-align: middle;\n",
       "    }\n",
       "\n",
       "    .dataframe tbody tr th {\n",
       "        vertical-align: top;\n",
       "    }\n",
       "\n",
       "    .dataframe thead th {\n",
       "        text-align: right;\n",
       "    }\n",
       "</style>\n",
       "<table border=\"1\" class=\"dataframe\">\n",
       "  <thead>\n",
       "    <tr style=\"text-align: right;\">\n",
       "      <th></th>\n",
       "      <th>idpostulante</th>\n",
       "      <th>edad</th>\n",
       "      <th>idaviso</th>\n",
       "      <th>titulo</th>\n",
       "      <th>descripcion</th>\n",
       "      <th>nombre_area</th>\n",
       "      <th>nombre_estudio_Doctorado</th>\n",
       "      <th>nombre_estudio_Master</th>\n",
       "      <th>nombre_estudio_Otro</th>\n",
       "      <th>nombre_estudio_Posgrado</th>\n",
       "      <th>nombre_estudio_Secundario</th>\n",
       "      <th>nombre_estudio_Terciario/Tecnico</th>\n",
       "      <th>nombre_estudio_Universitario</th>\n",
       "      <th>estado_estudio_Abandonado</th>\n",
       "      <th>estado_estudio_EnCurso</th>\n",
       "      <th>estado_estudio_Graduado</th>\n",
       "      <th>sexo_FEM</th>\n",
       "      <th>sexo_MASC</th>\n",
       "      <th>sexo_NO_DECLARA</th>\n",
       "      <th>tipo_full</th>\n",
       "      <th>tipo_part</th>\n",
       "      <th>tipo_otro</th>\n",
       "      <th>nivel_laboral_Gerencia/AltaGerencia/Dirección</th>\n",
       "      <th>nivel_laboral_Jefe/Supervisor/Responsable</th>\n",
       "      <th>nivel_laboral_Junior</th>\n",
       "      <th>nivel_laboral_Otro</th>\n",
       "      <th>nivel_laboral_Senior/Semi-Senior</th>\n",
       "      <th>sepostulo</th>\n",
       "    </tr>\n",
       "  </thead>\n",
       "  <tbody>\n",
       "    <tr>\n",
       "      <th>0</th>\n",
       "      <td>eLz8or</td>\n",
       "      <td>33</td>\n",
       "      <td>1112486428</td>\n",
       "      <td>['jefe', 'operaciones', 'ingeniero', 'procesos']</td>\n",
       "      <td>[('equipo', 6), ('plantas', 5), ('operaciones'...</td>\n",
       "      <td>IngenieríadeProcesos</td>\n",
       "      <td>0</td>\n",
       "      <td>0</td>\n",
       "      <td>0</td>\n",
       "      <td>0</td>\n",
       "      <td>0</td>\n",
       "      <td>1</td>\n",
       "      <td>0</td>\n",
       "      <td>0</td>\n",
       "      <td>0</td>\n",
       "      <td>1</td>\n",
       "      <td>1</td>\n",
       "      <td>0</td>\n",
       "      <td>0</td>\n",
       "      <td>True</td>\n",
       "      <td>False</td>\n",
       "      <td>False</td>\n",
       "      <td>0</td>\n",
       "      <td>1</td>\n",
       "      <td>0</td>\n",
       "      <td>0</td>\n",
       "      <td>0</td>\n",
       "      <td>False</td>\n",
       "    </tr>\n",
       "  </tbody>\n",
       "</table>\n",
       "</div>"
      ],
      "text/plain": [
       "  idpostulante  edad     idaviso  \\\n",
       "0       eLz8or    33  1112486428   \n",
       "\n",
       "                                             titulo  \\\n",
       "0  ['jefe', 'operaciones', 'ingeniero', 'procesos']   \n",
       "\n",
       "                                         descripcion           nombre_area  \\\n",
       "0  [('equipo', 6), ('plantas', 5), ('operaciones'...  IngenieríadeProcesos   \n",
       "\n",
       "   nombre_estudio_Doctorado  nombre_estudio_Master  nombre_estudio_Otro  \\\n",
       "0                         0                      0                    0   \n",
       "\n",
       "   nombre_estudio_Posgrado  nombre_estudio_Secundario  \\\n",
       "0                        0                          0   \n",
       "\n",
       "   nombre_estudio_Terciario/Tecnico  nombre_estudio_Universitario  \\\n",
       "0                                 1                             0   \n",
       "\n",
       "   estado_estudio_Abandonado  estado_estudio_EnCurso  estado_estudio_Graduado  \\\n",
       "0                          0                       0                        1   \n",
       "\n",
       "   sexo_FEM  sexo_MASC  sexo_NO_DECLARA  tipo_full  tipo_part  tipo_otro  \\\n",
       "0         1          0                0       True      False      False   \n",
       "\n",
       "   nivel_laboral_Gerencia/AltaGerencia/Dirección  \\\n",
       "0                                              0   \n",
       "\n",
       "   nivel_laboral_Jefe/Supervisor/Responsable  nivel_laboral_Junior  \\\n",
       "0                                          1                     0   \n",
       "\n",
       "   nivel_laboral_Otro  nivel_laboral_Senior/Semi-Senior  sepostulo  \n",
       "0                   0                                 0      False  "
      ]
     },
     "execution_count": 6,
     "metadata": {},
     "output_type": "execute_result"
    }
   ],
   "source": [
    "print(len(no_postulados))\n",
    "no_postulados.head(1)"
   ]
  },
  {
   "cell_type": "code",
   "execution_count": 7,
   "metadata": {},
   "outputs": [
    {
     "data": {
      "text/html": [
       "<div>\n",
       "<style scoped>\n",
       "    .dataframe tbody tr th:only-of-type {\n",
       "        vertical-align: middle;\n",
       "    }\n",
       "\n",
       "    .dataframe tbody tr th {\n",
       "        vertical-align: top;\n",
       "    }\n",
       "\n",
       "    .dataframe thead th {\n",
       "        text-align: right;\n",
       "    }\n",
       "</style>\n",
       "<table border=\"1\" class=\"dataframe\">\n",
       "  <thead>\n",
       "    <tr style=\"text-align: right;\">\n",
       "      <th></th>\n",
       "      <th>idaviso</th>\n",
       "      <th>idpostulante</th>\n",
       "      <th>edad</th>\n",
       "      <th>nombre_estudio_Doctorado</th>\n",
       "      <th>nombre_estudio_Master</th>\n",
       "      <th>nombre_estudio_Otro</th>\n",
       "      <th>nombre_estudio_Posgrado</th>\n",
       "      <th>nombre_estudio_Secundario</th>\n",
       "      <th>nombre_estudio_Terciario/Tecnico</th>\n",
       "      <th>nombre_estudio_Universitario</th>\n",
       "      <th>estado_estudio_Abandonado</th>\n",
       "      <th>estado_estudio_EnCurso</th>\n",
       "      <th>estado_estudio_Graduado</th>\n",
       "      <th>sexo_FEM</th>\n",
       "      <th>sexo_MASC</th>\n",
       "      <th>sexo_NO_DECLARA</th>\n",
       "      <th>titulo</th>\n",
       "      <th>descripcion</th>\n",
       "      <th>nombre_area</th>\n",
       "      <th>tipo_full</th>\n",
       "      <th>tipo_part</th>\n",
       "      <th>tipo_otro</th>\n",
       "      <th>nivel_laboral_Gerencia/AltaGerencia/Dirección</th>\n",
       "      <th>nivel_laboral_Jefe/Supervisor/Responsable</th>\n",
       "      <th>nivel_laboral_Junior</th>\n",
       "      <th>nivel_laboral_Otro</th>\n",
       "      <th>nivel_laboral_Senior/Semi-Senior</th>\n",
       "      <th>nivel_laboral_nan</th>\n",
       "      <th>sepostulo</th>\n",
       "    </tr>\n",
       "  </thead>\n",
       "  <tbody>\n",
       "    <tr>\n",
       "      <th>0</th>\n",
       "      <td>1112257047</td>\n",
       "      <td>NM5M</td>\n",
       "      <td>48</td>\n",
       "      <td>0</td>\n",
       "      <td>0</td>\n",
       "      <td>0</td>\n",
       "      <td>0</td>\n",
       "      <td>1</td>\n",
       "      <td>0</td>\n",
       "      <td>0</td>\n",
       "      <td>0</td>\n",
       "      <td>0</td>\n",
       "      <td>1</td>\n",
       "      <td>1</td>\n",
       "      <td>0</td>\n",
       "      <td>0</td>\n",
       "      <td>['representantes', 'atencion', 'cliente', 'ret...</td>\n",
       "      <td>[('retencion', 3), ('atencion', 2), ('cliente'...</td>\n",
       "      <td>AtenciónalCliente</td>\n",
       "      <td>False</td>\n",
       "      <td>True</td>\n",
       "      <td>False</td>\n",
       "      <td>0</td>\n",
       "      <td>0</td>\n",
       "      <td>0</td>\n",
       "      <td>1</td>\n",
       "      <td>0</td>\n",
       "      <td>0</td>\n",
       "      <td>True</td>\n",
       "    </tr>\n",
       "  </tbody>\n",
       "</table>\n",
       "</div>"
      ],
      "text/plain": [
       "      idaviso idpostulante  edad  nombre_estudio_Doctorado  \\\n",
       "0  1112257047         NM5M    48                         0   \n",
       "\n",
       "   nombre_estudio_Master  nombre_estudio_Otro  nombre_estudio_Posgrado  \\\n",
       "0                      0                    0                        0   \n",
       "\n",
       "   nombre_estudio_Secundario  nombre_estudio_Terciario/Tecnico  \\\n",
       "0                          1                                 0   \n",
       "\n",
       "   nombre_estudio_Universitario  estado_estudio_Abandonado  \\\n",
       "0                             0                          0   \n",
       "\n",
       "   estado_estudio_EnCurso  estado_estudio_Graduado  sexo_FEM  sexo_MASC  \\\n",
       "0                       0                        1         1          0   \n",
       "\n",
       "   sexo_NO_DECLARA                                             titulo  \\\n",
       "0                0  ['representantes', 'atencion', 'cliente', 'ret...   \n",
       "\n",
       "                                         descripcion        nombre_area  \\\n",
       "0  [('retencion', 3), ('atencion', 2), ('cliente'...  AtenciónalCliente   \n",
       "\n",
       "   tipo_full  tipo_part  tipo_otro  \\\n",
       "0      False       True      False   \n",
       "\n",
       "   nivel_laboral_Gerencia/AltaGerencia/Dirección  \\\n",
       "0                                              0   \n",
       "\n",
       "   nivel_laboral_Jefe/Supervisor/Responsable  nivel_laboral_Junior  \\\n",
       "0                                          0                     0   \n",
       "\n",
       "   nivel_laboral_Otro  nivel_laboral_Senior/Semi-Senior  nivel_laboral_nan  \\\n",
       "0                   1                                 0                  0   \n",
       "\n",
       "   sepostulo  \n",
       "0       True  "
      ]
     },
     "execution_count": 7,
     "metadata": {},
     "output_type": "execute_result"
    }
   ],
   "source": [
    "postulaciones_postulantes_avisos.head(1)"
   ]
  },
  {
   "cell_type": "code",
   "execution_count": 8,
   "metadata": {},
   "outputs": [
    {
     "data": {
      "text/plain": [
       "idaviso                                           int64\n",
       "idpostulante                                     object\n",
       "edad                                              int64\n",
       "nombre_estudio_Doctorado                          int64\n",
       "nombre_estudio_Master                             int64\n",
       "nombre_estudio_Otro                               int64\n",
       "nombre_estudio_Posgrado                           int64\n",
       "nombre_estudio_Secundario                         int64\n",
       "nombre_estudio_Terciario/Tecnico                  int64\n",
       "nombre_estudio_Universitario                      int64\n",
       "estado_estudio_Abandonado                         int64\n",
       "estado_estudio_EnCurso                            int64\n",
       "estado_estudio_Graduado                           int64\n",
       "sexo_FEM                                          int64\n",
       "sexo_MASC                                         int64\n",
       "sexo_NO_DECLARA                                   int64\n",
       "titulo                                           object\n",
       "descripcion                                      object\n",
       "nombre_area                                      object\n",
       "tipo_full                                          bool\n",
       "tipo_part                                          bool\n",
       "tipo_otro                                          bool\n",
       "nivel_laboral_Gerencia/AltaGerencia/Dirección     int64\n",
       "nivel_laboral_Jefe/Supervisor/Responsable         int64\n",
       "nivel_laboral_Junior                              int64\n",
       "nivel_laboral_Otro                                int64\n",
       "nivel_laboral_Senior/Semi-Senior                  int64\n",
       "nivel_laboral_nan                                 int64\n",
       "sepostulo                                          bool\n",
       "dtype: object"
      ]
     },
     "execution_count": 8,
     "metadata": {},
     "output_type": "execute_result"
    }
   ],
   "source": [
    "postulaciones_postulantes_avisos.dtypes"
   ]
  },
  {
   "cell_type": "code",
   "execution_count": 9,
   "metadata": {},
   "outputs": [
    {
     "data": {
      "text/plain": [
       "idpostulante                                     object\n",
       "edad                                              int64\n",
       "idaviso                                           int64\n",
       "titulo                                           object\n",
       "descripcion                                      object\n",
       "nombre_area                                      object\n",
       "nombre_estudio_Doctorado                          int64\n",
       "nombre_estudio_Master                             int64\n",
       "nombre_estudio_Otro                               int64\n",
       "nombre_estudio_Posgrado                           int64\n",
       "nombre_estudio_Secundario                         int64\n",
       "nombre_estudio_Terciario/Tecnico                  int64\n",
       "nombre_estudio_Universitario                      int64\n",
       "estado_estudio_Abandonado                         int64\n",
       "estado_estudio_EnCurso                            int64\n",
       "estado_estudio_Graduado                           int64\n",
       "sexo_FEM                                          int64\n",
       "sexo_MASC                                         int64\n",
       "sexo_NO_DECLARA                                   int64\n",
       "tipo_full                                          bool\n",
       "tipo_part                                          bool\n",
       "tipo_otro                                          bool\n",
       "nivel_laboral_Gerencia/AltaGerencia/Dirección     int64\n",
       "nivel_laboral_Jefe/Supervisor/Responsable         int64\n",
       "nivel_laboral_Junior                              int64\n",
       "nivel_laboral_Otro                                int64\n",
       "nivel_laboral_Senior/Semi-Senior                  int64\n",
       "sepostulo                                          bool\n",
       "dtype: object"
      ]
     },
     "execution_count": 9,
     "metadata": {},
     "output_type": "execute_result"
    }
   ],
   "source": [
    "no_postulados.dtypes"
   ]
  },
  {
   "cell_type": "raw",
   "metadata": {},
   "source": [
    "De los random que generamos forzamos a todos con postulado=False, lo cual puede ser incorrecto. En caso de que el par (idAviso, idPostulante) exista en el postulaciones_postulantes_avisos deberia prevalecer ese. Para lograr esto con ambos sets concatenados, eliminamos los repetidos considerando estas dos columnas y nos quedamos con la primera repeticion (la del primer dataset, que es el que tiene la informacion real)"
   ]
  },
  {
   "cell_type": "code",
   "execution_count": 10,
   "metadata": {},
   "outputs": [],
   "source": [
    "# No aguanta la memoria, tomo una muestra mas chica de ambos sets\n",
    "postulaciones_postulantes_avisos = postulaciones_postulantes_avisos.sample(3000000)\n",
    "no_postulados = no_postulados.sample(3000000)"
   ]
  },
  {
   "cell_type": "code",
   "execution_count": 11,
   "metadata": {},
   "outputs": [],
   "source": [
    "training = pd.concat([postulaciones_postulantes_avisos, no_postulados])"
   ]
  },
  {
   "cell_type": "code",
   "execution_count": 12,
   "metadata": {},
   "outputs": [
    {
     "data": {
      "text/html": [
       "<div>\n",
       "<style scoped>\n",
       "    .dataframe tbody tr th:only-of-type {\n",
       "        vertical-align: middle;\n",
       "    }\n",
       "\n",
       "    .dataframe tbody tr th {\n",
       "        vertical-align: top;\n",
       "    }\n",
       "\n",
       "    .dataframe thead th {\n",
       "        text-align: right;\n",
       "    }\n",
       "</style>\n",
       "<table border=\"1\" class=\"dataframe\">\n",
       "  <thead>\n",
       "    <tr style=\"text-align: right;\">\n",
       "      <th></th>\n",
       "      <th>descripcion</th>\n",
       "      <th>edad</th>\n",
       "      <th>estado_estudio_Abandonado</th>\n",
       "      <th>estado_estudio_EnCurso</th>\n",
       "      <th>estado_estudio_Graduado</th>\n",
       "      <th>idaviso</th>\n",
       "      <th>idpostulante</th>\n",
       "      <th>nivel_laboral_Gerencia/AltaGerencia/Dirección</th>\n",
       "      <th>nivel_laboral_Jefe/Supervisor/Responsable</th>\n",
       "      <th>nivel_laboral_Junior</th>\n",
       "      <th>nivel_laboral_Otro</th>\n",
       "      <th>nivel_laboral_Senior/Semi-Senior</th>\n",
       "      <th>nivel_laboral_nan</th>\n",
       "      <th>nombre_area</th>\n",
       "      <th>nombre_estudio_Doctorado</th>\n",
       "      <th>nombre_estudio_Master</th>\n",
       "      <th>nombre_estudio_Otro</th>\n",
       "      <th>nombre_estudio_Posgrado</th>\n",
       "      <th>nombre_estudio_Secundario</th>\n",
       "      <th>nombre_estudio_Terciario/Tecnico</th>\n",
       "      <th>nombre_estudio_Universitario</th>\n",
       "      <th>sepostulo</th>\n",
       "      <th>sexo_FEM</th>\n",
       "      <th>sexo_MASC</th>\n",
       "      <th>sexo_NO_DECLARA</th>\n",
       "      <th>tipo_full</th>\n",
       "      <th>tipo_otro</th>\n",
       "      <th>tipo_part</th>\n",
       "      <th>titulo</th>\n",
       "    </tr>\n",
       "  </thead>\n",
       "  <tbody>\n",
       "    <tr>\n",
       "      <th>5764563</th>\n",
       "      <td>[('buscamos', 1), ('conductores', 1), ('vehicu...</td>\n",
       "      <td>26</td>\n",
       "      <td>0</td>\n",
       "      <td>0</td>\n",
       "      <td>1</td>\n",
       "      <td>1112422541</td>\n",
       "      <td>Dr4jJwZ</td>\n",
       "      <td>0</td>\n",
       "      <td>0</td>\n",
       "      <td>0</td>\n",
       "      <td>0</td>\n",
       "      <td>1</td>\n",
       "      <td>0.0</td>\n",
       "      <td>Transporte</td>\n",
       "      <td>0</td>\n",
       "      <td>0</td>\n",
       "      <td>0</td>\n",
       "      <td>0</td>\n",
       "      <td>1</td>\n",
       "      <td>0</td>\n",
       "      <td>0</td>\n",
       "      <td>True</td>\n",
       "      <td>0</td>\n",
       "      <td>1</td>\n",
       "      <td>0</td>\n",
       "      <td>False</td>\n",
       "      <td>True</td>\n",
       "      <td>False</td>\n",
       "      <td>['buscamos', 'conductor', 'auto']</td>\n",
       "    </tr>\n",
       "  </tbody>\n",
       "</table>\n",
       "</div>"
      ],
      "text/plain": [
       "                                               descripcion  edad  \\\n",
       "5764563  [('buscamos', 1), ('conductores', 1), ('vehicu...    26   \n",
       "\n",
       "         estado_estudio_Abandonado  estado_estudio_EnCurso  \\\n",
       "5764563                          0                       0   \n",
       "\n",
       "         estado_estudio_Graduado     idaviso idpostulante  \\\n",
       "5764563                        1  1112422541      Dr4jJwZ   \n",
       "\n",
       "         nivel_laboral_Gerencia/AltaGerencia/Dirección  \\\n",
       "5764563                                              0   \n",
       "\n",
       "         nivel_laboral_Jefe/Supervisor/Responsable  nivel_laboral_Junior  \\\n",
       "5764563                                          0                     0   \n",
       "\n",
       "         nivel_laboral_Otro  nivel_laboral_Senior/Semi-Senior  \\\n",
       "5764563                   0                                 1   \n",
       "\n",
       "         nivel_laboral_nan nombre_area  nombre_estudio_Doctorado  \\\n",
       "5764563                0.0  Transporte                         0   \n",
       "\n",
       "         nombre_estudio_Master  nombre_estudio_Otro  nombre_estudio_Posgrado  \\\n",
       "5764563                      0                    0                        0   \n",
       "\n",
       "         nombre_estudio_Secundario  nombre_estudio_Terciario/Tecnico  \\\n",
       "5764563                          1                                 0   \n",
       "\n",
       "         nombre_estudio_Universitario  sepostulo  sexo_FEM  sexo_MASC  \\\n",
       "5764563                             0       True         0          1   \n",
       "\n",
       "         sexo_NO_DECLARA  tipo_full  tipo_otro  tipo_part  \\\n",
       "5764563                0      False       True      False   \n",
       "\n",
       "                                    titulo  \n",
       "5764563  ['buscamos', 'conductor', 'auto']  "
      ]
     },
     "execution_count": 12,
     "metadata": {},
     "output_type": "execute_result"
    }
   ],
   "source": [
    "training.head(1)"
   ]
  },
  {
   "cell_type": "code",
   "execution_count": 13,
   "metadata": {},
   "outputs": [
    {
     "data": {
      "text/plain": [
       "6000000"
      ]
     },
     "execution_count": 13,
     "metadata": {},
     "output_type": "execute_result"
    }
   ],
   "source": [
    "len(training)"
   ]
  },
  {
   "cell_type": "code",
   "execution_count": 14,
   "metadata": {},
   "outputs": [],
   "source": [
    "training.to_csv('../data/X_train.csv', index=False, sep=',', encoding='utf-8')"
   ]
  },
  {
   "cell_type": "code",
   "execution_count": 2,
   "metadata": {},
   "outputs": [
    {
     "name": "stderr",
     "output_type": "stream",
     "text": [
      "/home/tbotalla/anaconda3/lib/python3.6/site-packages/IPython/core/interactiveshell.py:2728: DtypeWarning: Columns (21,22) have mixed types. Specify dtype option on import or set low_memory=False.\n",
      "  interactivity=interactivity, compiler=compiler, result=result)\n"
     ]
    }
   ],
   "source": [
    "training = pd.read_csv('../data/X_train.csv', sep=',', encoding='utf-8')"
   ]
  },
  {
   "cell_type": "code",
   "execution_count": 15,
   "metadata": {},
   "outputs": [],
   "source": [
    "training.drop_duplicates(subset = ['idaviso','idpostulante'], keep = 'first',inplace = True)"
   ]
  },
  {
   "cell_type": "code",
   "execution_count": 16,
   "metadata": {},
   "outputs": [
    {
     "name": "stdout",
     "output_type": "stream",
     "text": [
      "5998511\n"
     ]
    }
   ],
   "source": [
    "print(len(training))"
   ]
  },
  {
   "cell_type": "code",
   "execution_count": 17,
   "metadata": {},
   "outputs": [
    {
     "data": {
      "text/html": [
       "<div>\n",
       "<style scoped>\n",
       "    .dataframe tbody tr th:only-of-type {\n",
       "        vertical-align: middle;\n",
       "    }\n",
       "\n",
       "    .dataframe tbody tr th {\n",
       "        vertical-align: top;\n",
       "    }\n",
       "\n",
       "    .dataframe thead th {\n",
       "        text-align: right;\n",
       "    }\n",
       "</style>\n",
       "<table border=\"1\" class=\"dataframe\">\n",
       "  <thead>\n",
       "    <tr style=\"text-align: right;\">\n",
       "      <th></th>\n",
       "      <th>descripcion</th>\n",
       "      <th>edad</th>\n",
       "      <th>estado_estudio_Abandonado</th>\n",
       "      <th>estado_estudio_EnCurso</th>\n",
       "      <th>estado_estudio_Graduado</th>\n",
       "      <th>idaviso</th>\n",
       "      <th>idpostulante</th>\n",
       "      <th>nivel_laboral_Gerencia/AltaGerencia/Dirección</th>\n",
       "      <th>nivel_laboral_Jefe/Supervisor/Responsable</th>\n",
       "      <th>nivel_laboral_Junior</th>\n",
       "      <th>nivel_laboral_Otro</th>\n",
       "      <th>nivel_laboral_Senior/Semi-Senior</th>\n",
       "      <th>nivel_laboral_nan</th>\n",
       "      <th>nombre_area</th>\n",
       "      <th>nombre_estudio_Doctorado</th>\n",
       "      <th>nombre_estudio_Master</th>\n",
       "      <th>nombre_estudio_Otro</th>\n",
       "      <th>nombre_estudio_Posgrado</th>\n",
       "      <th>nombre_estudio_Secundario</th>\n",
       "      <th>nombre_estudio_Terciario/Tecnico</th>\n",
       "      <th>nombre_estudio_Universitario</th>\n",
       "      <th>sepostulo</th>\n",
       "      <th>sexo_FEM</th>\n",
       "      <th>sexo_MASC</th>\n",
       "      <th>sexo_NO_DECLARA</th>\n",
       "      <th>tipo_full</th>\n",
       "      <th>tipo_otro</th>\n",
       "      <th>tipo_part</th>\n",
       "      <th>titulo</th>\n",
       "    </tr>\n",
       "  </thead>\n",
       "  <tbody>\n",
       "    <tr>\n",
       "      <th>4912275</th>\n",
       "      <td>[('proyectos', 4), ('clientes', 3), ('profesio...</td>\n",
       "      <td>29</td>\n",
       "      <td>0</td>\n",
       "      <td>0</td>\n",
       "      <td>1</td>\n",
       "      <td>1112238753</td>\n",
       "      <td>5GV2Ap</td>\n",
       "      <td>0</td>\n",
       "      <td>0</td>\n",
       "      <td>1</td>\n",
       "      <td>0</td>\n",
       "      <td>0</td>\n",
       "      <td>NaN</td>\n",
       "      <td>AnálisisFuncional</td>\n",
       "      <td>0</td>\n",
       "      <td>0</td>\n",
       "      <td>0</td>\n",
       "      <td>0</td>\n",
       "      <td>1</td>\n",
       "      <td>0</td>\n",
       "      <td>0</td>\n",
       "      <td>False</td>\n",
       "      <td>0</td>\n",
       "      <td>1</td>\n",
       "      <td>0</td>\n",
       "      <td>True</td>\n",
       "      <td>False</td>\n",
       "      <td>False</td>\n",
       "      <td>['consultor', 'jr', 'ti']</td>\n",
       "    </tr>\n",
       "    <tr>\n",
       "      <th>413307</th>\n",
       "      <td>[('experiencia', 3), ('cafeteros', 2), ('impor...</td>\n",
       "      <td>31</td>\n",
       "      <td>0</td>\n",
       "      <td>0</td>\n",
       "      <td>1</td>\n",
       "      <td>1112280944</td>\n",
       "      <td>ZDr1Q0E</td>\n",
       "      <td>0</td>\n",
       "      <td>0</td>\n",
       "      <td>1</td>\n",
       "      <td>0</td>\n",
       "      <td>0</td>\n",
       "      <td>0.0</td>\n",
       "      <td>Gastronomia</td>\n",
       "      <td>0</td>\n",
       "      <td>0</td>\n",
       "      <td>0</td>\n",
       "      <td>0</td>\n",
       "      <td>0</td>\n",
       "      <td>0</td>\n",
       "      <td>1</td>\n",
       "      <td>True</td>\n",
       "      <td>1</td>\n",
       "      <td>0</td>\n",
       "      <td>0</td>\n",
       "      <td>True</td>\n",
       "      <td>False</td>\n",
       "      <td>False</td>\n",
       "      <td>['cafeteros', 'ayudante', 'barra']</td>\n",
       "    </tr>\n",
       "    <tr>\n",
       "      <th>927275</th>\n",
       "      <td>[('adecco', 4), ('catering', 2), ('persona', 2...</td>\n",
       "      <td>26</td>\n",
       "      <td>0</td>\n",
       "      <td>0</td>\n",
       "      <td>1</td>\n",
       "      <td>1112229107</td>\n",
       "      <td>5mP9ANw</td>\n",
       "      <td>0</td>\n",
       "      <td>0</td>\n",
       "      <td>0</td>\n",
       "      <td>0</td>\n",
       "      <td>1</td>\n",
       "      <td>NaN</td>\n",
       "      <td>DataEntry</td>\n",
       "      <td>0</td>\n",
       "      <td>0</td>\n",
       "      <td>0</td>\n",
       "      <td>0</td>\n",
       "      <td>1</td>\n",
       "      <td>0</td>\n",
       "      <td>0</td>\n",
       "      <td>False</td>\n",
       "      <td>0</td>\n",
       "      <td>1</td>\n",
       "      <td>0</td>\n",
       "      <td>True</td>\n",
       "      <td>False</td>\n",
       "      <td>False</td>\n",
       "      <td>['data', 'entry', 'importante', 'empresa']</td>\n",
       "    </tr>\n",
       "    <tr>\n",
       "      <th>2768271</th>\n",
       "      <td>[('produccion', 2), ('deberan', 2), ('importan...</td>\n",
       "      <td>54</td>\n",
       "      <td>0</td>\n",
       "      <td>0</td>\n",
       "      <td>1</td>\n",
       "      <td>1112279048</td>\n",
       "      <td>kPNKr5Z</td>\n",
       "      <td>0</td>\n",
       "      <td>1</td>\n",
       "      <td>0</td>\n",
       "      <td>0</td>\n",
       "      <td>0</td>\n",
       "      <td>NaN</td>\n",
       "      <td>Producción</td>\n",
       "      <td>0</td>\n",
       "      <td>0</td>\n",
       "      <td>0</td>\n",
       "      <td>1</td>\n",
       "      <td>0</td>\n",
       "      <td>0</td>\n",
       "      <td>0</td>\n",
       "      <td>False</td>\n",
       "      <td>0</td>\n",
       "      <td>1</td>\n",
       "      <td>0</td>\n",
       "      <td>True</td>\n",
       "      <td>False</td>\n",
       "      <td>False</td>\n",
       "      <td>['supervisor', 'produccion', 'abasto', 'plata']</td>\n",
       "    </tr>\n",
       "    <tr>\n",
       "      <th>3424638</th>\n",
       "      <td>[('valores', 2), ('recontar', 1), ('billetes',...</td>\n",
       "      <td>24</td>\n",
       "      <td>0</td>\n",
       "      <td>0</td>\n",
       "      <td>1</td>\n",
       "      <td>1112411485</td>\n",
       "      <td>dYjqMAX</td>\n",
       "      <td>0</td>\n",
       "      <td>0</td>\n",
       "      <td>0</td>\n",
       "      <td>0</td>\n",
       "      <td>1</td>\n",
       "      <td>0.0</td>\n",
       "      <td>Logística</td>\n",
       "      <td>0</td>\n",
       "      <td>0</td>\n",
       "      <td>0</td>\n",
       "      <td>0</td>\n",
       "      <td>1</td>\n",
       "      <td>0</td>\n",
       "      <td>0</td>\n",
       "      <td>True</td>\n",
       "      <td>1</td>\n",
       "      <td>0</td>\n",
       "      <td>0</td>\n",
       "      <td>False</td>\n",
       "      <td>False</td>\n",
       "      <td>True</td>\n",
       "      <td>['recuento', 'eventual', 'part', 'time', 'ii',...</td>\n",
       "    </tr>\n",
       "    <tr>\n",
       "      <th>6339868</th>\n",
       "      <td>[('unomotos', 2), ('ventas', 2), ('marcas', 2)...</td>\n",
       "      <td>23</td>\n",
       "      <td>0</td>\n",
       "      <td>0</td>\n",
       "      <td>1</td>\n",
       "      <td>1112444567</td>\n",
       "      <td>EzZEO32</td>\n",
       "      <td>0</td>\n",
       "      <td>0</td>\n",
       "      <td>0</td>\n",
       "      <td>0</td>\n",
       "      <td>1</td>\n",
       "      <td>0.0</td>\n",
       "      <td>Ventas</td>\n",
       "      <td>0</td>\n",
       "      <td>0</td>\n",
       "      <td>0</td>\n",
       "      <td>0</td>\n",
       "      <td>1</td>\n",
       "      <td>0</td>\n",
       "      <td>0</td>\n",
       "      <td>True</td>\n",
       "      <td>0</td>\n",
       "      <td>1</td>\n",
       "      <td>0</td>\n",
       "      <td>True</td>\n",
       "      <td>False</td>\n",
       "      <td>False</td>\n",
       "      <td>['vendedor', 'salon', 'unomotos']</td>\n",
       "    </tr>\n",
       "    <tr>\n",
       "      <th>4198646</th>\n",
       "      <td>[('eaya', 2), ('venta', 2), ('consulting', 1),...</td>\n",
       "      <td>31</td>\n",
       "      <td>0</td>\n",
       "      <td>0</td>\n",
       "      <td>1</td>\n",
       "      <td>1111628886</td>\n",
       "      <td>6r5Wd8l</td>\n",
       "      <td>0</td>\n",
       "      <td>0</td>\n",
       "      <td>0</td>\n",
       "      <td>0</td>\n",
       "      <td>1</td>\n",
       "      <td>NaN</td>\n",
       "      <td>Ventas</td>\n",
       "      <td>0</td>\n",
       "      <td>0</td>\n",
       "      <td>0</td>\n",
       "      <td>0</td>\n",
       "      <td>0</td>\n",
       "      <td>0</td>\n",
       "      <td>1</td>\n",
       "      <td>False</td>\n",
       "      <td>0</td>\n",
       "      <td>1</td>\n",
       "      <td>0</td>\n",
       "      <td>False</td>\n",
       "      <td>False</td>\n",
       "      <td>True</td>\n",
       "      <td>['vendedores', 'moron']</td>\n",
       "    </tr>\n",
       "    <tr>\n",
       "      <th>4091737</th>\n",
       "      <td>[('empresa', 1), ('metalurgica', 1), ('villa',...</td>\n",
       "      <td>33</td>\n",
       "      <td>0</td>\n",
       "      <td>1</td>\n",
       "      <td>0</td>\n",
       "      <td>1112319196</td>\n",
       "      <td>eaY5MB</td>\n",
       "      <td>0</td>\n",
       "      <td>0</td>\n",
       "      <td>0</td>\n",
       "      <td>1</td>\n",
       "      <td>0</td>\n",
       "      <td>0.0</td>\n",
       "      <td>Administración</td>\n",
       "      <td>0</td>\n",
       "      <td>0</td>\n",
       "      <td>0</td>\n",
       "      <td>0</td>\n",
       "      <td>0</td>\n",
       "      <td>0</td>\n",
       "      <td>1</td>\n",
       "      <td>True</td>\n",
       "      <td>0</td>\n",
       "      <td>1</td>\n",
       "      <td>0</td>\n",
       "      <td>True</td>\n",
       "      <td>False</td>\n",
       "      <td>False</td>\n",
       "      <td>['administrativa']</td>\n",
       "    </tr>\n",
       "    <tr>\n",
       "      <th>5197373</th>\n",
       "      <td>[('zona', 2), ('oeste', 2), ('plan', 2), ('aut...</td>\n",
       "      <td>29</td>\n",
       "      <td>0</td>\n",
       "      <td>0</td>\n",
       "      <td>1</td>\n",
       "      <td>1112284916</td>\n",
       "      <td>jkjKbv0</td>\n",
       "      <td>0</td>\n",
       "      <td>0</td>\n",
       "      <td>0</td>\n",
       "      <td>0</td>\n",
       "      <td>1</td>\n",
       "      <td>0.0</td>\n",
       "      <td>Administración</td>\n",
       "      <td>0</td>\n",
       "      <td>0</td>\n",
       "      <td>0</td>\n",
       "      <td>0</td>\n",
       "      <td>1</td>\n",
       "      <td>0</td>\n",
       "      <td>0</td>\n",
       "      <td>True</td>\n",
       "      <td>0</td>\n",
       "      <td>1</td>\n",
       "      <td>0</td>\n",
       "      <td>True</td>\n",
       "      <td>False</td>\n",
       "      <td>False</td>\n",
       "      <td>['administrativo', 'plan', 'ahorro', 'z', 'oes...</td>\n",
       "    </tr>\n",
       "    <tr>\n",
       "      <th>2333435</th>\n",
       "      <td>[('manejo', 4), ('posicion', 3), ('caja', 3), ...</td>\n",
       "      <td>23</td>\n",
       "      <td>0</td>\n",
       "      <td>1</td>\n",
       "      <td>0</td>\n",
       "      <td>1111926908</td>\n",
       "      <td>ek4KYvE</td>\n",
       "      <td>0</td>\n",
       "      <td>0</td>\n",
       "      <td>0</td>\n",
       "      <td>0</td>\n",
       "      <td>1</td>\n",
       "      <td>0.0</td>\n",
       "      <td>Tesorería</td>\n",
       "      <td>0</td>\n",
       "      <td>0</td>\n",
       "      <td>0</td>\n",
       "      <td>0</td>\n",
       "      <td>0</td>\n",
       "      <td>0</td>\n",
       "      <td>1</td>\n",
       "      <td>True</td>\n",
       "      <td>1</td>\n",
       "      <td>0</td>\n",
       "      <td>0</td>\n",
       "      <td>True</td>\n",
       "      <td>False</td>\n",
       "      <td>False</td>\n",
       "      <td>['cajero', 'bancario', 'eventual', 'verano', '...</td>\n",
       "    </tr>\n",
       "    <tr>\n",
       "      <th>4931342</th>\n",
       "      <td>[('adecco', 5), ('seguros', 4), ('banca', 3), ...</td>\n",
       "      <td>21</td>\n",
       "      <td>0</td>\n",
       "      <td>1</td>\n",
       "      <td>0</td>\n",
       "      <td>1112277658</td>\n",
       "      <td>GNorQjN</td>\n",
       "      <td>0</td>\n",
       "      <td>0</td>\n",
       "      <td>0</td>\n",
       "      <td>0</td>\n",
       "      <td>1</td>\n",
       "      <td>NaN</td>\n",
       "      <td>Ventas</td>\n",
       "      <td>0</td>\n",
       "      <td>0</td>\n",
       "      <td>0</td>\n",
       "      <td>0</td>\n",
       "      <td>0</td>\n",
       "      <td>1</td>\n",
       "      <td>0</td>\n",
       "      <td>False</td>\n",
       "      <td>1</td>\n",
       "      <td>0</td>\n",
       "      <td>0</td>\n",
       "      <td>True</td>\n",
       "      <td>False</td>\n",
       "      <td>False</td>\n",
       "      <td>['vendedor', 'servicios', 'financieros']</td>\n",
       "    </tr>\n",
       "    <tr>\n",
       "      <th>5768814</th>\n",
       "      <td>[('compras', 2), ('industria', 2), ('farmaceut...</td>\n",
       "      <td>39</td>\n",
       "      <td>0</td>\n",
       "      <td>0</td>\n",
       "      <td>1</td>\n",
       "      <td>1112356116</td>\n",
       "      <td>bOzXJNV</td>\n",
       "      <td>0</td>\n",
       "      <td>0</td>\n",
       "      <td>0</td>\n",
       "      <td>0</td>\n",
       "      <td>1</td>\n",
       "      <td>0.0</td>\n",
       "      <td>Farmacéutica</td>\n",
       "      <td>0</td>\n",
       "      <td>0</td>\n",
       "      <td>0</td>\n",
       "      <td>0</td>\n",
       "      <td>0</td>\n",
       "      <td>0</td>\n",
       "      <td>1</td>\n",
       "      <td>True</td>\n",
       "      <td>0</td>\n",
       "      <td>1</td>\n",
       "      <td>0</td>\n",
       "      <td>True</td>\n",
       "      <td>False</td>\n",
       "      <td>False</td>\n",
       "      <td>['analista', 'compras', 'internacionales']</td>\n",
       "    </tr>\n",
       "    <tr>\n",
       "      <th>878811</th>\n",
       "      <td>[('empresa', 2), ('atencion', 2), ('telefonica...</td>\n",
       "      <td>28</td>\n",
       "      <td>0</td>\n",
       "      <td>1</td>\n",
       "      <td>0</td>\n",
       "      <td>1112437476</td>\n",
       "      <td>0zLv0lM</td>\n",
       "      <td>0</td>\n",
       "      <td>0</td>\n",
       "      <td>1</td>\n",
       "      <td>0</td>\n",
       "      <td>0</td>\n",
       "      <td>NaN</td>\n",
       "      <td>AtenciónalCliente</td>\n",
       "      <td>0</td>\n",
       "      <td>0</td>\n",
       "      <td>0</td>\n",
       "      <td>0</td>\n",
       "      <td>0</td>\n",
       "      <td>0</td>\n",
       "      <td>1</td>\n",
       "      <td>False</td>\n",
       "      <td>1</td>\n",
       "      <td>0</td>\n",
       "      <td>0</td>\n",
       "      <td>False</td>\n",
       "      <td>False</td>\n",
       "      <td>True</td>\n",
       "      <td>['operadores', 'telefonicos', 'trilingues', 'p...</td>\n",
       "    </tr>\n",
       "    <tr>\n",
       "      <th>1122255</th>\n",
       "      <td>[('estudios', 2), ('excluyente', 2), ('busqued...</td>\n",
       "      <td>51</td>\n",
       "      <td>1</td>\n",
       "      <td>0</td>\n",
       "      <td>0</td>\n",
       "      <td>1112493156</td>\n",
       "      <td>kPL18zZ</td>\n",
       "      <td>0</td>\n",
       "      <td>0</td>\n",
       "      <td>0</td>\n",
       "      <td>0</td>\n",
       "      <td>1</td>\n",
       "      <td>NaN</td>\n",
       "      <td>Ventas</td>\n",
       "      <td>0</td>\n",
       "      <td>0</td>\n",
       "      <td>0</td>\n",
       "      <td>0</td>\n",
       "      <td>0</td>\n",
       "      <td>0</td>\n",
       "      <td>1</td>\n",
       "      <td>False</td>\n",
       "      <td>0</td>\n",
       "      <td>1</td>\n",
       "      <td>0</td>\n",
       "      <td>True</td>\n",
       "      <td>False</td>\n",
       "      <td>False</td>\n",
       "      <td>['repositor']</td>\n",
       "    </tr>\n",
       "    <tr>\n",
       "      <th>5778958</th>\n",
       "      <td>[('activo', 2), ('contact', 2), ('center', 2),...</td>\n",
       "      <td>23</td>\n",
       "      <td>0</td>\n",
       "      <td>1</td>\n",
       "      <td>0</td>\n",
       "      <td>1112432931</td>\n",
       "      <td>A36loBY</td>\n",
       "      <td>0</td>\n",
       "      <td>0</td>\n",
       "      <td>0</td>\n",
       "      <td>0</td>\n",
       "      <td>1</td>\n",
       "      <td>0.0</td>\n",
       "      <td>Telemarketing</td>\n",
       "      <td>0</td>\n",
       "      <td>0</td>\n",
       "      <td>0</td>\n",
       "      <td>0</td>\n",
       "      <td>0</td>\n",
       "      <td>0</td>\n",
       "      <td>1</td>\n",
       "      <td>True</td>\n",
       "      <td>1</td>\n",
       "      <td>0</td>\n",
       "      <td>0</td>\n",
       "      <td>False</td>\n",
       "      <td>False</td>\n",
       "      <td>True</td>\n",
       "      <td>['asesores', 'ventas', 'telefonicas', 'part', ...</td>\n",
       "    </tr>\n",
       "    <tr>\n",
       "      <th>5301183</th>\n",
       "      <td>[('negociacion', 2), ('comunicacion', 2), ('em...</td>\n",
       "      <td>27</td>\n",
       "      <td>0</td>\n",
       "      <td>0</td>\n",
       "      <td>1</td>\n",
       "      <td>1112426461</td>\n",
       "      <td>ZLOewb</td>\n",
       "      <td>0</td>\n",
       "      <td>0</td>\n",
       "      <td>0</td>\n",
       "      <td>0</td>\n",
       "      <td>1</td>\n",
       "      <td>0.0</td>\n",
       "      <td>Comercial</td>\n",
       "      <td>0</td>\n",
       "      <td>0</td>\n",
       "      <td>0</td>\n",
       "      <td>0</td>\n",
       "      <td>0</td>\n",
       "      <td>0</td>\n",
       "      <td>1</td>\n",
       "      <td>True</td>\n",
       "      <td>1</td>\n",
       "      <td>0</td>\n",
       "      <td>0</td>\n",
       "      <td>True</td>\n",
       "      <td>False</td>\n",
       "      <td>False</td>\n",
       "      <td>['ejecutiva', 'cuenta', 'plan', 'ahorro', 'toy...</td>\n",
       "    </tr>\n",
       "    <tr>\n",
       "      <th>750863</th>\n",
       "      <td>[('procesos', 6), ('parte', 4), ('equipo', 4),...</td>\n",
       "      <td>35</td>\n",
       "      <td>0</td>\n",
       "      <td>1</td>\n",
       "      <td>0</td>\n",
       "      <td>1112451244</td>\n",
       "      <td>Y9Wwjr</td>\n",
       "      <td>0</td>\n",
       "      <td>0</td>\n",
       "      <td>0</td>\n",
       "      <td>0</td>\n",
       "      <td>1</td>\n",
       "      <td>NaN</td>\n",
       "      <td>Consultoria</td>\n",
       "      <td>0</td>\n",
       "      <td>0</td>\n",
       "      <td>0</td>\n",
       "      <td>0</td>\n",
       "      <td>0</td>\n",
       "      <td>0</td>\n",
       "      <td>1</td>\n",
       "      <td>False</td>\n",
       "      <td>0</td>\n",
       "      <td>1</td>\n",
       "      <td>0</td>\n",
       "      <td>True</td>\n",
       "      <td>False</td>\n",
       "      <td>False</td>\n",
       "      <td>['analista', 'sr', 'procesos']</td>\n",
       "    </tr>\n",
       "    <tr>\n",
       "      <th>3228940</th>\n",
       "      <td>[('clientes', 3), ('buena', 3), ('rubro', 2), ...</td>\n",
       "      <td>29</td>\n",
       "      <td>0</td>\n",
       "      <td>0</td>\n",
       "      <td>1</td>\n",
       "      <td>1112345054</td>\n",
       "      <td>Bm5rQ4w</td>\n",
       "      <td>0</td>\n",
       "      <td>0</td>\n",
       "      <td>0</td>\n",
       "      <td>0</td>\n",
       "      <td>1</td>\n",
       "      <td>0.0</td>\n",
       "      <td>Comercial</td>\n",
       "      <td>0</td>\n",
       "      <td>0</td>\n",
       "      <td>0</td>\n",
       "      <td>0</td>\n",
       "      <td>1</td>\n",
       "      <td>0</td>\n",
       "      <td>0</td>\n",
       "      <td>True</td>\n",
       "      <td>1</td>\n",
       "      <td>0</td>\n",
       "      <td>0</td>\n",
       "      <td>True</td>\n",
       "      <td>False</td>\n",
       "      <td>False</td>\n",
       "      <td>['ejecutivo', 'comercial', 'fuerza', 'ventas',...</td>\n",
       "    </tr>\n",
       "    <tr>\n",
       "      <th>4250195</th>\n",
       "      <td>[('operador', 2), ('central', 2), ('busqueda',...</td>\n",
       "      <td>27</td>\n",
       "      <td>0</td>\n",
       "      <td>0</td>\n",
       "      <td>1</td>\n",
       "      <td>1112377335</td>\n",
       "      <td>xkd019a</td>\n",
       "      <td>0</td>\n",
       "      <td>0</td>\n",
       "      <td>1</td>\n",
       "      <td>0</td>\n",
       "      <td>0</td>\n",
       "      <td>NaN</td>\n",
       "      <td>Seguridad</td>\n",
       "      <td>0</td>\n",
       "      <td>0</td>\n",
       "      <td>0</td>\n",
       "      <td>0</td>\n",
       "      <td>0</td>\n",
       "      <td>0</td>\n",
       "      <td>1</td>\n",
       "      <td>False</td>\n",
       "      <td>0</td>\n",
       "      <td>0</td>\n",
       "      <td>1</td>\n",
       "      <td>True</td>\n",
       "      <td>False</td>\n",
       "      <td>False</td>\n",
       "      <td>['operador', 'central', 'operaciones']</td>\n",
       "    </tr>\n",
       "    <tr>\n",
       "      <th>5214566</th>\n",
       "      <td>[('marketing', 7), ('indumentaria', 3), ('expe...</td>\n",
       "      <td>28</td>\n",
       "      <td>0</td>\n",
       "      <td>0</td>\n",
       "      <td>1</td>\n",
       "      <td>1112404144</td>\n",
       "      <td>eYlWAj</td>\n",
       "      <td>0</td>\n",
       "      <td>0</td>\n",
       "      <td>0</td>\n",
       "      <td>0</td>\n",
       "      <td>1</td>\n",
       "      <td>0.0</td>\n",
       "      <td>Marketing</td>\n",
       "      <td>0</td>\n",
       "      <td>0</td>\n",
       "      <td>0</td>\n",
       "      <td>0</td>\n",
       "      <td>0</td>\n",
       "      <td>0</td>\n",
       "      <td>1</td>\n",
       "      <td>True</td>\n",
       "      <td>1</td>\n",
       "      <td>0</td>\n",
       "      <td>0</td>\n",
       "      <td>True</td>\n",
       "      <td>False</td>\n",
       "      <td>False</td>\n",
       "      <td>['responsable', 'marketing', 'indumentaria']</td>\n",
       "    </tr>\n",
       "  </tbody>\n",
       "</table>\n",
       "</div>"
      ],
      "text/plain": [
       "                                               descripcion  edad  \\\n",
       "4912275  [('proyectos', 4), ('clientes', 3), ('profesio...    29   \n",
       "413307   [('experiencia', 3), ('cafeteros', 2), ('impor...    31   \n",
       "927275   [('adecco', 4), ('catering', 2), ('persona', 2...    26   \n",
       "2768271  [('produccion', 2), ('deberan', 2), ('importan...    54   \n",
       "3424638  [('valores', 2), ('recontar', 1), ('billetes',...    24   \n",
       "6339868  [('unomotos', 2), ('ventas', 2), ('marcas', 2)...    23   \n",
       "4198646  [('eaya', 2), ('venta', 2), ('consulting', 1),...    31   \n",
       "4091737  [('empresa', 1), ('metalurgica', 1), ('villa',...    33   \n",
       "5197373  [('zona', 2), ('oeste', 2), ('plan', 2), ('aut...    29   \n",
       "2333435  [('manejo', 4), ('posicion', 3), ('caja', 3), ...    23   \n",
       "4931342  [('adecco', 5), ('seguros', 4), ('banca', 3), ...    21   \n",
       "5768814  [('compras', 2), ('industria', 2), ('farmaceut...    39   \n",
       "878811   [('empresa', 2), ('atencion', 2), ('telefonica...    28   \n",
       "1122255  [('estudios', 2), ('excluyente', 2), ('busqued...    51   \n",
       "5778958  [('activo', 2), ('contact', 2), ('center', 2),...    23   \n",
       "5301183  [('negociacion', 2), ('comunicacion', 2), ('em...    27   \n",
       "750863   [('procesos', 6), ('parte', 4), ('equipo', 4),...    35   \n",
       "3228940  [('clientes', 3), ('buena', 3), ('rubro', 2), ...    29   \n",
       "4250195  [('operador', 2), ('central', 2), ('busqueda',...    27   \n",
       "5214566  [('marketing', 7), ('indumentaria', 3), ('expe...    28   \n",
       "\n",
       "         estado_estudio_Abandonado  estado_estudio_EnCurso  \\\n",
       "4912275                          0                       0   \n",
       "413307                           0                       0   \n",
       "927275                           0                       0   \n",
       "2768271                          0                       0   \n",
       "3424638                          0                       0   \n",
       "6339868                          0                       0   \n",
       "4198646                          0                       0   \n",
       "4091737                          0                       1   \n",
       "5197373                          0                       0   \n",
       "2333435                          0                       1   \n",
       "4931342                          0                       1   \n",
       "5768814                          0                       0   \n",
       "878811                           0                       1   \n",
       "1122255                          1                       0   \n",
       "5778958                          0                       1   \n",
       "5301183                          0                       0   \n",
       "750863                           0                       1   \n",
       "3228940                          0                       0   \n",
       "4250195                          0                       0   \n",
       "5214566                          0                       0   \n",
       "\n",
       "         estado_estudio_Graduado     idaviso idpostulante  \\\n",
       "4912275                        1  1112238753       5GV2Ap   \n",
       "413307                         1  1112280944      ZDr1Q0E   \n",
       "927275                         1  1112229107      5mP9ANw   \n",
       "2768271                        1  1112279048      kPNKr5Z   \n",
       "3424638                        1  1112411485      dYjqMAX   \n",
       "6339868                        1  1112444567      EzZEO32   \n",
       "4198646                        1  1111628886      6r5Wd8l   \n",
       "4091737                        0  1112319196       eaY5MB   \n",
       "5197373                        1  1112284916      jkjKbv0   \n",
       "2333435                        0  1111926908      ek4KYvE   \n",
       "4931342                        0  1112277658      GNorQjN   \n",
       "5768814                        1  1112356116      bOzXJNV   \n",
       "878811                         0  1112437476      0zLv0lM   \n",
       "1122255                        0  1112493156      kPL18zZ   \n",
       "5778958                        0  1112432931      A36loBY   \n",
       "5301183                        1  1112426461       ZLOewb   \n",
       "750863                         0  1112451244       Y9Wwjr   \n",
       "3228940                        1  1112345054      Bm5rQ4w   \n",
       "4250195                        1  1112377335      xkd019a   \n",
       "5214566                        1  1112404144       eYlWAj   \n",
       "\n",
       "         nivel_laboral_Gerencia/AltaGerencia/Dirección  \\\n",
       "4912275                                              0   \n",
       "413307                                               0   \n",
       "927275                                               0   \n",
       "2768271                                              0   \n",
       "3424638                                              0   \n",
       "6339868                                              0   \n",
       "4198646                                              0   \n",
       "4091737                                              0   \n",
       "5197373                                              0   \n",
       "2333435                                              0   \n",
       "4931342                                              0   \n",
       "5768814                                              0   \n",
       "878811                                               0   \n",
       "1122255                                              0   \n",
       "5778958                                              0   \n",
       "5301183                                              0   \n",
       "750863                                               0   \n",
       "3228940                                              0   \n",
       "4250195                                              0   \n",
       "5214566                                              0   \n",
       "\n",
       "         nivel_laboral_Jefe/Supervisor/Responsable  nivel_laboral_Junior  \\\n",
       "4912275                                          0                     1   \n",
       "413307                                           0                     1   \n",
       "927275                                           0                     0   \n",
       "2768271                                          1                     0   \n",
       "3424638                                          0                     0   \n",
       "6339868                                          0                     0   \n",
       "4198646                                          0                     0   \n",
       "4091737                                          0                     0   \n",
       "5197373                                          0                     0   \n",
       "2333435                                          0                     0   \n",
       "4931342                                          0                     0   \n",
       "5768814                                          0                     0   \n",
       "878811                                           0                     1   \n",
       "1122255                                          0                     0   \n",
       "5778958                                          0                     0   \n",
       "5301183                                          0                     0   \n",
       "750863                                           0                     0   \n",
       "3228940                                          0                     0   \n",
       "4250195                                          0                     1   \n",
       "5214566                                          0                     0   \n",
       "\n",
       "         nivel_laboral_Otro  nivel_laboral_Senior/Semi-Senior  \\\n",
       "4912275                   0                                 0   \n",
       "413307                    0                                 0   \n",
       "927275                    0                                 1   \n",
       "2768271                   0                                 0   \n",
       "3424638                   0                                 1   \n",
       "6339868                   0                                 1   \n",
       "4198646                   0                                 1   \n",
       "4091737                   1                                 0   \n",
       "5197373                   0                                 1   \n",
       "2333435                   0                                 1   \n",
       "4931342                   0                                 1   \n",
       "5768814                   0                                 1   \n",
       "878811                    0                                 0   \n",
       "1122255                   0                                 1   \n",
       "5778958                   0                                 1   \n",
       "5301183                   0                                 1   \n",
       "750863                    0                                 1   \n",
       "3228940                   0                                 1   \n",
       "4250195                   0                                 0   \n",
       "5214566                   0                                 1   \n",
       "\n",
       "         nivel_laboral_nan        nombre_area  nombre_estudio_Doctorado  \\\n",
       "4912275                NaN  AnálisisFuncional                         0   \n",
       "413307                 0.0        Gastronomia                         0   \n",
       "927275                 NaN          DataEntry                         0   \n",
       "2768271                NaN         Producción                         0   \n",
       "3424638                0.0          Logística                         0   \n",
       "6339868                0.0             Ventas                         0   \n",
       "4198646                NaN             Ventas                         0   \n",
       "4091737                0.0     Administración                         0   \n",
       "5197373                0.0     Administración                         0   \n",
       "2333435                0.0          Tesorería                         0   \n",
       "4931342                NaN             Ventas                         0   \n",
       "5768814                0.0       Farmacéutica                         0   \n",
       "878811                 NaN  AtenciónalCliente                         0   \n",
       "1122255                NaN             Ventas                         0   \n",
       "5778958                0.0      Telemarketing                         0   \n",
       "5301183                0.0          Comercial                         0   \n",
       "750863                 NaN        Consultoria                         0   \n",
       "3228940                0.0          Comercial                         0   \n",
       "4250195                NaN          Seguridad                         0   \n",
       "5214566                0.0          Marketing                         0   \n",
       "\n",
       "         nombre_estudio_Master  nombre_estudio_Otro  nombre_estudio_Posgrado  \\\n",
       "4912275                      0                    0                        0   \n",
       "413307                       0                    0                        0   \n",
       "927275                       0                    0                        0   \n",
       "2768271                      0                    0                        1   \n",
       "3424638                      0                    0                        0   \n",
       "6339868                      0                    0                        0   \n",
       "4198646                      0                    0                        0   \n",
       "4091737                      0                    0                        0   \n",
       "5197373                      0                    0                        0   \n",
       "2333435                      0                    0                        0   \n",
       "4931342                      0                    0                        0   \n",
       "5768814                      0                    0                        0   \n",
       "878811                       0                    0                        0   \n",
       "1122255                      0                    0                        0   \n",
       "5778958                      0                    0                        0   \n",
       "5301183                      0                    0                        0   \n",
       "750863                       0                    0                        0   \n",
       "3228940                      0                    0                        0   \n",
       "4250195                      0                    0                        0   \n",
       "5214566                      0                    0                        0   \n",
       "\n",
       "         nombre_estudio_Secundario  nombre_estudio_Terciario/Tecnico  \\\n",
       "4912275                          1                                 0   \n",
       "413307                           0                                 0   \n",
       "927275                           1                                 0   \n",
       "2768271                          0                                 0   \n",
       "3424638                          1                                 0   \n",
       "6339868                          1                                 0   \n",
       "4198646                          0                                 0   \n",
       "4091737                          0                                 0   \n",
       "5197373                          1                                 0   \n",
       "2333435                          0                                 0   \n",
       "4931342                          0                                 1   \n",
       "5768814                          0                                 0   \n",
       "878811                           0                                 0   \n",
       "1122255                          0                                 0   \n",
       "5778958                          0                                 0   \n",
       "5301183                          0                                 0   \n",
       "750863                           0                                 0   \n",
       "3228940                          1                                 0   \n",
       "4250195                          0                                 0   \n",
       "5214566                          0                                 0   \n",
       "\n",
       "         nombre_estudio_Universitario  sepostulo  sexo_FEM  sexo_MASC  \\\n",
       "4912275                             0      False         0          1   \n",
       "413307                              1       True         1          0   \n",
       "927275                              0      False         0          1   \n",
       "2768271                             0      False         0          1   \n",
       "3424638                             0       True         1          0   \n",
       "6339868                             0       True         0          1   \n",
       "4198646                             1      False         0          1   \n",
       "4091737                             1       True         0          1   \n",
       "5197373                             0       True         0          1   \n",
       "2333435                             1       True         1          0   \n",
       "4931342                             0      False         1          0   \n",
       "5768814                             1       True         0          1   \n",
       "878811                              1      False         1          0   \n",
       "1122255                             1      False         0          1   \n",
       "5778958                             1       True         1          0   \n",
       "5301183                             1       True         1          0   \n",
       "750863                              1      False         0          1   \n",
       "3228940                             0       True         1          0   \n",
       "4250195                             1      False         0          0   \n",
       "5214566                             1       True         1          0   \n",
       "\n",
       "         sexo_NO_DECLARA  tipo_full  tipo_otro  tipo_part  \\\n",
       "4912275                0       True      False      False   \n",
       "413307                 0       True      False      False   \n",
       "927275                 0       True      False      False   \n",
       "2768271                0       True      False      False   \n",
       "3424638                0      False      False       True   \n",
       "6339868                0       True      False      False   \n",
       "4198646                0      False      False       True   \n",
       "4091737                0       True      False      False   \n",
       "5197373                0       True      False      False   \n",
       "2333435                0       True      False      False   \n",
       "4931342                0       True      False      False   \n",
       "5768814                0       True      False      False   \n",
       "878811                 0      False      False       True   \n",
       "1122255                0       True      False      False   \n",
       "5778958                0      False      False       True   \n",
       "5301183                0       True      False      False   \n",
       "750863                 0       True      False      False   \n",
       "3228940                0       True      False      False   \n",
       "4250195                1       True      False      False   \n",
       "5214566                0       True      False      False   \n",
       "\n",
       "                                                    titulo  \n",
       "4912275                          ['consultor', 'jr', 'ti']  \n",
       "413307                  ['cafeteros', 'ayudante', 'barra']  \n",
       "927275          ['data', 'entry', 'importante', 'empresa']  \n",
       "2768271    ['supervisor', 'produccion', 'abasto', 'plata']  \n",
       "3424638  ['recuento', 'eventual', 'part', 'time', 'ii',...  \n",
       "6339868                  ['vendedor', 'salon', 'unomotos']  \n",
       "4198646                            ['vendedores', 'moron']  \n",
       "4091737                                 ['administrativa']  \n",
       "5197373  ['administrativo', 'plan', 'ahorro', 'z', 'oes...  \n",
       "2333435  ['cajero', 'bancario', 'eventual', 'verano', '...  \n",
       "4931342           ['vendedor', 'servicios', 'financieros']  \n",
       "5768814         ['analista', 'compras', 'internacionales']  \n",
       "878811   ['operadores', 'telefonicos', 'trilingues', 'p...  \n",
       "1122255                                      ['repositor']  \n",
       "5778958  ['asesores', 'ventas', 'telefonicas', 'part', ...  \n",
       "5301183  ['ejecutiva', 'cuenta', 'plan', 'ahorro', 'toy...  \n",
       "750863                      ['analista', 'sr', 'procesos']  \n",
       "3228940  ['ejecutivo', 'comercial', 'fuerza', 'ventas',...  \n",
       "4250195             ['operador', 'central', 'operaciones']  \n",
       "5214566       ['responsable', 'marketing', 'indumentaria']  "
      ]
     },
     "execution_count": 17,
     "metadata": {},
     "output_type": "execute_result"
    }
   ],
   "source": [
    "training.sample(20)"
   ]
  },
  {
   "cell_type": "code",
   "execution_count": 18,
   "metadata": {},
   "outputs": [
    {
     "name": "stdout",
     "output_type": "stream",
     "text": [
      "2999753\n",
      "2998758\n"
     ]
    }
   ],
   "source": [
    "print(len(training[training['sepostulo'] == True]))\n",
    "print(len(training[training['sepostulo'] == False]))"
   ]
  },
  {
   "cell_type": "code",
   "execution_count": 19,
   "metadata": {},
   "outputs": [
    {
     "data": {
      "text/html": [
       "<div>\n",
       "<style scoped>\n",
       "    .dataframe tbody tr th:only-of-type {\n",
       "        vertical-align: middle;\n",
       "    }\n",
       "\n",
       "    .dataframe tbody tr th {\n",
       "        vertical-align: top;\n",
       "    }\n",
       "\n",
       "    .dataframe thead th {\n",
       "        text-align: right;\n",
       "    }\n",
       "</style>\n",
       "<table border=\"1\" class=\"dataframe\">\n",
       "  <thead>\n",
       "    <tr style=\"text-align: right;\">\n",
       "      <th></th>\n",
       "      <th>descripcion</th>\n",
       "      <th>edad</th>\n",
       "      <th>estado_estudio_Abandonado</th>\n",
       "      <th>estado_estudio_EnCurso</th>\n",
       "      <th>estado_estudio_Graduado</th>\n",
       "      <th>idaviso</th>\n",
       "      <th>idpostulante</th>\n",
       "      <th>nivel_laboral_Gerencia/AltaGerencia/Dirección</th>\n",
       "      <th>nivel_laboral_Jefe/Supervisor/Responsable</th>\n",
       "      <th>nivel_laboral_Junior</th>\n",
       "      <th>nivel_laboral_Otro</th>\n",
       "      <th>nivel_laboral_Senior/Semi-Senior</th>\n",
       "      <th>nivel_laboral_nan</th>\n",
       "      <th>nombre_area</th>\n",
       "      <th>nombre_estudio_Doctorado</th>\n",
       "      <th>nombre_estudio_Master</th>\n",
       "      <th>nombre_estudio_Otro</th>\n",
       "      <th>nombre_estudio_Posgrado</th>\n",
       "      <th>nombre_estudio_Secundario</th>\n",
       "      <th>nombre_estudio_Terciario/Tecnico</th>\n",
       "      <th>nombre_estudio_Universitario</th>\n",
       "      <th>sepostulo</th>\n",
       "      <th>sexo_FEM</th>\n",
       "      <th>sexo_MASC</th>\n",
       "      <th>sexo_NO_DECLARA</th>\n",
       "      <th>tipo_full</th>\n",
       "      <th>tipo_otro</th>\n",
       "      <th>tipo_part</th>\n",
       "      <th>titulo</th>\n",
       "    </tr>\n",
       "  </thead>\n",
       "  <tbody>\n",
       "    <tr>\n",
       "      <th>5764563</th>\n",
       "      <td>[('buscamos', 1), ('conductores', 1), ('vehicu...</td>\n",
       "      <td>26</td>\n",
       "      <td>0</td>\n",
       "      <td>0</td>\n",
       "      <td>1</td>\n",
       "      <td>1112422541</td>\n",
       "      <td>Dr4jJwZ</td>\n",
       "      <td>0</td>\n",
       "      <td>0</td>\n",
       "      <td>0</td>\n",
       "      <td>0</td>\n",
       "      <td>1</td>\n",
       "      <td>0.0</td>\n",
       "      <td>Transporte</td>\n",
       "      <td>0</td>\n",
       "      <td>0</td>\n",
       "      <td>0</td>\n",
       "      <td>0</td>\n",
       "      <td>1</td>\n",
       "      <td>0</td>\n",
       "      <td>0</td>\n",
       "      <td>True</td>\n",
       "      <td>0</td>\n",
       "      <td>1</td>\n",
       "      <td>0</td>\n",
       "      <td>False</td>\n",
       "      <td>True</td>\n",
       "      <td>False</td>\n",
       "      <td>['buscamos', 'conductor', 'auto']</td>\n",
       "    </tr>\n",
       "  </tbody>\n",
       "</table>\n",
       "</div>"
      ],
      "text/plain": [
       "                                               descripcion  edad  \\\n",
       "5764563  [('buscamos', 1), ('conductores', 1), ('vehicu...    26   \n",
       "\n",
       "         estado_estudio_Abandonado  estado_estudio_EnCurso  \\\n",
       "5764563                          0                       0   \n",
       "\n",
       "         estado_estudio_Graduado     idaviso idpostulante  \\\n",
       "5764563                        1  1112422541      Dr4jJwZ   \n",
       "\n",
       "         nivel_laboral_Gerencia/AltaGerencia/Dirección  \\\n",
       "5764563                                              0   \n",
       "\n",
       "         nivel_laboral_Jefe/Supervisor/Responsable  nivel_laboral_Junior  \\\n",
       "5764563                                          0                     0   \n",
       "\n",
       "         nivel_laboral_Otro  nivel_laboral_Senior/Semi-Senior  \\\n",
       "5764563                   0                                 1   \n",
       "\n",
       "         nivel_laboral_nan nombre_area  nombre_estudio_Doctorado  \\\n",
       "5764563                0.0  Transporte                         0   \n",
       "\n",
       "         nombre_estudio_Master  nombre_estudio_Otro  nombre_estudio_Posgrado  \\\n",
       "5764563                      0                    0                        0   \n",
       "\n",
       "         nombre_estudio_Secundario  nombre_estudio_Terciario/Tecnico  \\\n",
       "5764563                          1                                 0   \n",
       "\n",
       "         nombre_estudio_Universitario  sepostulo  sexo_FEM  sexo_MASC  \\\n",
       "5764563                             0       True         0          1   \n",
       "\n",
       "         sexo_NO_DECLARA  tipo_full  tipo_otro  tipo_part  \\\n",
       "5764563                0      False       True      False   \n",
       "\n",
       "                                    titulo  \n",
       "5764563  ['buscamos', 'conductor', 'auto']  "
      ]
     },
     "execution_count": 19,
     "metadata": {},
     "output_type": "execute_result"
    }
   ],
   "source": [
    "training.head(1)"
   ]
  },
  {
   "cell_type": "code",
   "execution_count": 20,
   "metadata": {},
   "outputs": [
    {
     "data": {
      "text/plain": [
       "descripcion                                       object\n",
       "edad                                               int64\n",
       "estado_estudio_Abandonado                          int64\n",
       "estado_estudio_EnCurso                             int64\n",
       "estado_estudio_Graduado                            int64\n",
       "idaviso                                            int64\n",
       "idpostulante                                      object\n",
       "nivel_laboral_Gerencia/AltaGerencia/Dirección      int64\n",
       "nivel_laboral_Jefe/Supervisor/Responsable          int64\n",
       "nivel_laboral_Junior                               int64\n",
       "nivel_laboral_Otro                                 int64\n",
       "nivel_laboral_Senior/Semi-Senior                   int64\n",
       "nivel_laboral_nan                                float64\n",
       "nombre_area                                       object\n",
       "nombre_estudio_Doctorado                           int64\n",
       "nombre_estudio_Master                              int64\n",
       "nombre_estudio_Otro                                int64\n",
       "nombre_estudio_Posgrado                            int64\n",
       "nombre_estudio_Secundario                          int64\n",
       "nombre_estudio_Terciario/Tecnico                   int64\n",
       "nombre_estudio_Universitario                       int64\n",
       "sepostulo                                           bool\n",
       "sexo_FEM                                           int64\n",
       "sexo_MASC                                          int64\n",
       "sexo_NO_DECLARA                                    int64\n",
       "tipo_full                                           bool\n",
       "tipo_otro                                           bool\n",
       "tipo_part                                           bool\n",
       "titulo                                            object\n",
       "dtype: object"
      ]
     },
     "execution_count": 20,
     "metadata": {},
     "output_type": "execute_result"
    }
   ],
   "source": [
    "training.dtypes"
   ]
  },
  {
   "cell_type": "code",
   "execution_count": 21,
   "metadata": {},
   "outputs": [],
   "source": [
    "training.drop(columns=['nivel_laboral_nan'], inplace=True) #FIXME"
   ]
  },
  {
   "cell_type": "code",
   "execution_count": 24,
   "metadata": {},
   "outputs": [],
   "source": [
    "postulaciones_postulantes_avisos_test = pd.read_csv('../data/X_test.csv', sep=',', encoding='utf-8')"
   ]
  },
  {
   "cell_type": "code",
   "execution_count": 22,
   "metadata": {},
   "outputs": [],
   "source": [
    "target = training[['sepostulo']]\n",
    "training.drop('sepostulo', axis=1, inplace=True)"
   ]
  },
  {
   "cell_type": "code",
   "execution_count": 25,
   "metadata": {},
   "outputs": [
    {
     "name": "stdout",
     "output_type": "stream",
     "text": [
      "train shape: (5998511, 27) | target shape: (5998511, 1)\n",
      "test shape: (100000, 28)\n"
     ]
    }
   ],
   "source": [
    "print('train shape:',training.shape,'| target shape:',target.shape)\n",
    "print('test shape:',postulaciones_postulantes_avisos_test.shape)"
   ]
  },
  {
   "cell_type": "raw",
   "metadata": {},
   "source": [
    "El de test tiene una columna mas por el id que identifica al par (idaviso, idpostulante)"
   ]
  },
  {
   "cell_type": "code",
   "execution_count": 26,
   "metadata": {},
   "outputs": [],
   "source": [
    "training.to_csv('../data/X_train.csv', index=False, sep=',', encoding='utf-8')\n",
    "target.to_csv('../data/target.csv', index=False, sep=',', encoding='utf-8')"
   ]
  },
  {
   "cell_type": "code",
   "execution_count": 27,
   "metadata": {},
   "outputs": [],
   "source": [
    "postulaciones_postulantes_avisos_test.to_csv('../data/X_test.csv', index=False, sep=',', encoding='utf-8')"
   ]
  },
  {
   "cell_type": "code",
   "execution_count": null,
   "metadata": {},
   "outputs": [],
   "source": []
  }
 ],
 "metadata": {
  "kernelspec": {
   "display_name": "Python 3",
   "language": "python",
   "name": "python3"
  },
  "language_info": {
   "codemirror_mode": {
    "name": "ipython",
    "version": 3
   },
   "file_extension": ".py",
   "mimetype": "text/x-python",
   "name": "python",
   "nbconvert_exporter": "python",
   "pygments_lexer": "ipython3",
   "version": "3.6.4"
  }
 },
 "nbformat": 4,
 "nbformat_minor": 2
}
