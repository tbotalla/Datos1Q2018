{
 "cells": [
  {
   "cell_type": "code",
   "execution_count": 1,
   "metadata": {},
   "outputs": [],
   "source": [
    "import numpy as np \n",
    "import pandas as pd\n",
    "\n",
    "%matplotlib inline"
   ]
  },
  {
   "cell_type": "markdown",
   "metadata": {},
   "source": [
    "# Luego de verificarlo, los datos del tp 1 y los que son hasta el 15 de abril no se solapan, por lo tanto concatenamos ambos sets"
   ]
  },
  {
   "cell_type": "markdown",
   "metadata": {},
   "source": [
    "# Datos del TP 1"
   ]
  },
  {
   "cell_type": "code",
   "execution_count": 2,
   "metadata": {},
   "outputs": [],
   "source": [
    "postulantes_educacion_orig = pd.read_csv('../data/datos_navent_fiuba/fiuba_1_postulantes_educacion.csv')\n",
    "postulantes_genero_edad_orig = pd.read_csv('../data/datos_navent_fiuba/fiuba_2_postulantes_genero_y_edad.csv')\n",
    "vistas_orig = pd.read_csv('../data/datos_navent_fiuba/fiuba_3_vistas.csv')\n",
    "postulaciones_orig = pd.read_csv('../data/datos_navent_fiuba/fiuba_4_postulaciones.csv')\n",
    "avisos_online_orig = pd.read_csv('../data/datos_navent_fiuba/fiuba_5_avisos_online.csv')\n",
    "avisos_detalle_orig = pd.read_csv('../data/datos_navent_fiuba/fiuba_6_avisos_detalle.csv')"
   ]
  },
  {
   "cell_type": "markdown",
   "metadata": {},
   "source": [
    "# Datos hasta 15 abril"
   ]
  },
  {
   "cell_type": "code",
   "execution_count": 3,
   "metadata": {},
   "outputs": [],
   "source": [
    "postulantes_educacion_hasta_15_04 = pd.read_csv('../data/datos_navent_fiuba/fiuba_hasta_15_abril/entrega6/fiuba_1_postulantes_educacion.csv')\n",
    "postulantes_genero_edad_hasta_15_04 = pd.read_csv('../data/datos_navent_fiuba/fiuba_hasta_15_abril/entrega6/fiuba_2_postulantes_genero_y_edad.csv')\n",
    "vistas_hasta_15_04 = pd.read_csv('../data/datos_navent_fiuba/fiuba_hasta_15_abril/entrega6/fiuba_3_vistas.csv')\n",
    "postulaciones_hasta_15_04 = pd.read_csv('../data/datos_navent_fiuba/fiuba_hasta_15_abril/entrega6/fiuba_4_postulaciones.csv')\n",
    "avisos_online_hasta_15_04 = pd.read_csv('../data/datos_navent_fiuba/fiuba_hasta_15_abril/entrega6/fiuba_5_avisos_online.csv')\n",
    "avisos_detalle_hasta_15_04 = pd.read_csv('../data/datos_navent_fiuba/fiuba_hasta_15_abril/entrega6/fiuba_6_avisos_detalle.csv')"
   ]
  },
  {
   "cell_type": "markdown",
   "metadata": {},
   "source": [
    "## Juntamos los datos del tp1 con los de hasta 15 abril y exportamos a un csv nuevo para trabajar con esos"
   ]
  },
  {
   "cell_type": "code",
   "execution_count": 9,
   "metadata": {},
   "outputs": [
    {
     "name": "stdout",
     "output_type": "stream",
     "text": [
      "Longitud original:  298231\n",
      "Longitud nuevo set:  407453\n",
      "Longitud concat:  705684\n",
      "Longitud unique:  705684\n"
     ]
    }
   ],
   "source": [
    "print('Longitud original: ', len(postulantes_educacion_orig))\n",
    "print('Longitud nuevo set: ', len(postulantes_educacion_hasta_15_04))\n",
    "postulantes_educacion_train = pd.concat([postulantes_educacion_orig, postulantes_educacion_hasta_15_04])\n",
    "print('Longitud concat: ', len(postulantes_educacion_train))\n",
    "\n",
    "# Eliminamos los duplicados. En este caso se considera duplicado si estas 3 columnas matchean\n",
    "postulantes_educacion_train.drop_duplicates(['idpostulante', 'nombre', 'estado'], keep='last')\n",
    "print('Longitud unique: ', len(postulantes_educacion_train))\n",
    "postulantes_educacion_train.to_csv('../data/1_postulantes_educacion_train.csv', index=False, sep=',', encoding='utf-8')"
   ]
  },
  {
   "cell_type": "code",
   "execution_count": 10,
   "metadata": {},
   "outputs": [
    {
     "name": "stdout",
     "output_type": "stream",
     "text": [
      "Longitud original:  200888\n",
      "Longitud nuevo set:  297747\n",
      "Longitud concat:  498635\n",
      "Longitud unique:  498635\n"
     ]
    }
   ],
   "source": [
    "print('Longitud original: ', len(postulantes_genero_edad_orig))\n",
    "print('Longitud nuevo set: ', len(postulantes_genero_edad_hasta_15_04))\n",
    "postulantes_genero_edad_train = pd.concat([postulantes_genero_edad_orig, postulantes_genero_edad_hasta_15_04])\n",
    "print('Longitud concat: ', len(postulantes_genero_edad_train))\n",
    "\n",
    "# Eliminamos los duplicados. En este caso se considera duplicado si el idpostulante matchea\n",
    "postulantes_genero_edad_train.drop_duplicates(['idpostulante'], keep='last')\n",
    "print('Longitud unique: ', len(postulantes_genero_edad_train))\n",
    "postulantes_genero_edad_train.to_csv('../data/2_postulantes_genero_edad_train.csv', index=False, sep=',', encoding='utf-8')"
   ]
  },
  {
   "cell_type": "code",
   "execution_count": 11,
   "metadata": {},
   "outputs": [
    {
     "name": "stdout",
     "output_type": "stream",
     "text": [
      "Longitud original:  961897\n",
      "Longitud nuevo set:  5758686\n",
      "Longitud concat:  6720583\n",
      "Longitud unique:  6720583\n"
     ]
    }
   ],
   "source": [
    "print('Longitud original: ', len(vistas_orig))\n",
    "print('Longitud nuevo set: ', len(vistas_hasta_15_04))\n",
    "vistas_train = pd.concat([vistas_orig, vistas_hasta_15_04])\n",
    "print('Longitud concat: ', len(vistas_train))\n",
    "\n",
    "# Eliminamos los duplicados. En este caso se considera duplicado si estas 3 columnas matchean\n",
    "vistas_train.drop_duplicates(['idaviso', 'timestamp', 'idpostulante'], keep='last')\n",
    "print('Longitud unique: ', len(vistas_train))\n",
    "vistas_train.to_csv('../data/3_vistas_train.csv', index=False, sep=',', encoding='utf-8')"
   ]
  },
  {
   "cell_type": "code",
   "execution_count": 12,
   "metadata": {},
   "outputs": [
    {
     "name": "stdout",
     "output_type": "stream",
     "text": [
      "Longitud original:  3401623\n",
      "Longitud nuevo set:  4909641\n",
      "Longitud concat:  8311264\n",
      "Longitud unique:  8311264\n"
     ]
    }
   ],
   "source": [
    "print('Longitud original: ', len(postulaciones_orig))\n",
    "print('Longitud nuevo set: ', len(postulaciones_hasta_15_04))\n",
    "postulaciones_train = pd.concat([postulaciones_orig, postulaciones_hasta_15_04])\n",
    "print('Longitud concat: ', len(postulaciones_train))\n",
    "\n",
    "# Eliminamos los duplicados. En este caso se considera duplicado si estas 3 columnas matchean\n",
    "postulaciones_train.drop_duplicates(['idaviso', 'idpostulante', 'fechapostulacion'], keep='last')\n",
    "print('Longitud unique: ', len(postulaciones_train))\n",
    "postulaciones_train.to_csv('../data/4_postulaciones_train.csv', index=False, sep=',', encoding='utf-8')"
   ]
  },
  {
   "cell_type": "code",
   "execution_count": 13,
   "metadata": {},
   "outputs": [
    {
     "name": "stdout",
     "output_type": "stream",
     "text": [
      "Longitud original:  5028\n",
      "Longitud nuevo set:  4858\n",
      "Longitud concat:  9886\n",
      "Longitud unique:  9886\n"
     ]
    }
   ],
   "source": [
    "print('Longitud original: ', len(avisos_online_orig))\n",
    "print('Longitud nuevo set: ', len(avisos_online_hasta_15_04))\n",
    "avisos_online_train = pd.concat([avisos_online_orig, avisos_online_hasta_15_04])\n",
    "print('Longitud concat: ', len(avisos_online_train))\n",
    "\n",
    "# Eliminamos los duplicados. En este caso se considera duplicado si esta columna matchea\n",
    "avisos_online_train.drop_duplicates(['idaviso'], keep='last')\n",
    "print('Longitud unique: ', len(avisos_online_train))\n",
    "avisos_online_train.to_csv('../data/5_avisos_online_train.csv', index=False, sep=',', encoding='utf-8')"
   ]
  },
  {
   "cell_type": "code",
   "execution_count": 14,
   "metadata": {},
   "outputs": [
    {
     "name": "stdout",
     "output_type": "stream",
     "text": [
      "Longitud original:  13534\n",
      "Longitud nuevo set:  18299\n",
      "Longitud concat:  31833\n",
      "Longitud unique:  31833\n"
     ]
    }
   ],
   "source": [
    "print('Longitud original: ', len(avisos_detalle_orig))\n",
    "print('Longitud nuevo set: ', len(avisos_detalle_hasta_15_04))\n",
    "avisos_detalle_train = pd.concat([avisos_detalle_orig, avisos_detalle_hasta_15_04])\n",
    "print('Longitud concat: ', len(avisos_detalle_train))\n",
    "\n",
    "# Eliminamos los duplicados. En este caso se considera duplicado si matchean estas columnas (por no matchear todas)\n",
    "avisos_detalle_train.drop_duplicates(['idaviso', 'titulo', 'descripcion', 'nombre_zona', 'ciudad', 'tipo_de_trabajo', 'nivel_laboral'], keep='last')\n",
    "print('Longitud unique: ', len(avisos_detalle_train))\n",
    "avisos_detalle_train.to_csv('../data/6_avisos_detalle_train.csv', index=False, sep=',', encoding='utf-8')"
   ]
  },
  {
   "cell_type": "markdown",
   "metadata": {},
   "source": [
    "# Data para entrega"
   ]
  },
  {
   "cell_type": "markdown",
   "metadata": {},
   "source": [
    "### TODO: exportar estos datos a un csv nuevo cuando empezemos a hacer entregas"
   ]
  },
  {
   "cell_type": "markdown",
   "metadata": {},
   "source": [
    "# 338 faltantes"
   ]
  },
  {
   "cell_type": "code",
   "execution_count": 12,
   "metadata": {},
   "outputs": [],
   "source": [
    "# Estos registros solo aparecen en el set a predecir\n",
    "avisos_detalle_338_faltantes = pd.read_csv('../data/datos_navent_fiuba/338_faltantes/fiuba_6_avisos_detalle_missing_nivel_laboral.csv')"
   ]
  },
  {
   "cell_type": "code",
   "execution_count": 48,
   "metadata": {},
   "outputs": [
    {
     "data": {
      "text/html": [
       "<div>\n",
       "<style scoped>\n",
       "    .dataframe tbody tr th:only-of-type {\n",
       "        vertical-align: middle;\n",
       "    }\n",
       "\n",
       "    .dataframe tbody tr th {\n",
       "        vertical-align: top;\n",
       "    }\n",
       "\n",
       "    .dataframe thead th {\n",
       "        text-align: right;\n",
       "    }\n",
       "</style>\n",
       "<table border=\"1\" class=\"dataframe\">\n",
       "  <thead>\n",
       "    <tr style=\"text-align: right;\">\n",
       "      <th></th>\n",
       "      <th>idaviso</th>\n",
       "      <th>idpais</th>\n",
       "      <th>titulo</th>\n",
       "      <th>descripcion</th>\n",
       "      <th>nombre_zona</th>\n",
       "      <th>ciudad</th>\n",
       "      <th>mapacalle</th>\n",
       "      <th>tipo_de_trabajo</th>\n",
       "      <th>nivel_laboral</th>\n",
       "      <th>nombre_area</th>\n",
       "      <th>denominacion_empresa</th>\n",
       "    </tr>\n",
       "  </thead>\n",
       "  <tbody>\n",
       "    <tr>\n",
       "      <th>0</th>\n",
       "      <td>1001284385</td>\n",
       "      <td>1</td>\n",
       "      <td>Dejanos tu CV</td>\n",
       "      <td>&lt;p&gt;&lt;br /&gt;Si est&amp;aacute;s interesado en ser par...</td>\n",
       "      <td>Corrientes</td>\n",
       "      <td>NaN</td>\n",
       "      <td>NaN</td>\n",
       "      <td>Full-time</td>\n",
       "      <td>NaN</td>\n",
       "      <td>Otros</td>\n",
       "      <td>Establecimiento Las Marías</td>\n",
       "    </tr>\n",
       "  </tbody>\n",
       "</table>\n",
       "</div>"
      ],
      "text/plain": [
       "      idaviso  idpais         titulo  \\\n",
       "0  1001284385       1  Dejanos tu CV   \n",
       "\n",
       "                                         descripcion nombre_zona ciudad  \\\n",
       "0  <p><br />Si est&aacute;s interesado en ser par...  Corrientes    NaN   \n",
       "\n",
       "  mapacalle tipo_de_trabajo nivel_laboral nombre_area  \\\n",
       "0       NaN       Full-time           NaN       Otros   \n",
       "\n",
       "         denominacion_empresa  \n",
       "0  Establecimiento Las Marías  "
      ]
     },
     "execution_count": 48,
     "metadata": {},
     "output_type": "execute_result"
    }
   ],
   "source": [
    "avisos_detalle_338_faltantes.head(1)"
   ]
  },
  {
   "cell_type": "markdown",
   "metadata": {},
   "source": [
    "# Datos desde 15 abril"
   ]
  },
  {
   "cell_type": "code",
   "execution_count": 14,
   "metadata": {},
   "outputs": [],
   "source": [
    "postulantes_educacion_desde_15_04 = pd.read_csv('../data/datos_navent_fiuba/fiuba_desde_15_abril/Fiuba desde 15 Abril/fiuba_1_postulantes_educacion.csv')\n",
    "postulantes_genero_edad_desde_15_04 = pd.read_csv('../data/datos_navent_fiuba/fiuba_desde_15_abril/Fiuba desde 15 Abril/fiuba_2_postulantes_genero_y_edad.csv')\n",
    "vistas_desde_15_04 = pd.read_csv('../data/datos_navent_fiuba/fiuba_desde_15_abril/Fiuba desde 15 Abril/fiuba_3_vistas.csv')\n",
    "avisos_detalle_desde_15_04 = pd.read_csv('../data/datos_navent_fiuba/fiuba_desde_15_abril/Fiuba desde 15 Abril/fiuba_6_avisos_detalle.csv')"
   ]
  },
  {
   "cell_type": "code",
   "execution_count": 15,
   "metadata": {},
   "outputs": [
    {
     "data": {
      "text/html": [
       "<div>\n",
       "<style scoped>\n",
       "    .dataframe tbody tr th:only-of-type {\n",
       "        vertical-align: middle;\n",
       "    }\n",
       "\n",
       "    .dataframe tbody tr th {\n",
       "        vertical-align: top;\n",
       "    }\n",
       "\n",
       "    .dataframe thead th {\n",
       "        text-align: right;\n",
       "    }\n",
       "</style>\n",
       "<table border=\"1\" class=\"dataframe\">\n",
       "  <thead>\n",
       "    <tr style=\"text-align: right;\">\n",
       "      <th></th>\n",
       "      <th>idaviso</th>\n",
       "      <th>idpais</th>\n",
       "      <th>titulo</th>\n",
       "      <th>descripcion</th>\n",
       "      <th>nombre_zona</th>\n",
       "      <th>ciudad</th>\n",
       "      <th>mapacalle</th>\n",
       "      <th>tipo_de_trabajo</th>\n",
       "      <th>nivel_laboral</th>\n",
       "      <th>nombre_area</th>\n",
       "      <th>denominacion_empresa</th>\n",
       "    </tr>\n",
       "  </thead>\n",
       "  <tbody>\n",
       "  </tbody>\n",
       "</table>\n",
       "</div>"
      ],
      "text/plain": [
       "Empty DataFrame\n",
       "Columns: [idaviso, idpais, titulo, descripcion, nombre_zona, ciudad, mapacalle, tipo_de_trabajo, nivel_laboral, nombre_area, denominacion_empresa]\n",
       "Index: []"
      ]
     },
     "execution_count": 15,
     "metadata": {},
     "output_type": "execute_result"
    }
   ],
   "source": [
    "avisos_detalle_desde_15_04[avisos_detalle_desde_15_04['idaviso'] == 1110092955]"
   ]
  },
  {
   "cell_type": "markdown",
   "metadata": {},
   "source": [
    "# Set a predecir"
   ]
  },
  {
   "cell_type": "code",
   "execution_count": 16,
   "metadata": {},
   "outputs": [],
   "source": [
    "data_predecir = pd.read_csv('../data/test_final_100k.csv')"
   ]
  },
  {
   "cell_type": "code",
   "execution_count": 17,
   "metadata": {},
   "outputs": [
    {
     "data": {
      "text/html": [
       "<div>\n",
       "<style scoped>\n",
       "    .dataframe tbody tr th:only-of-type {\n",
       "        vertical-align: middle;\n",
       "    }\n",
       "\n",
       "    .dataframe tbody tr th {\n",
       "        vertical-align: top;\n",
       "    }\n",
       "\n",
       "    .dataframe thead th {\n",
       "        text-align: right;\n",
       "    }\n",
       "</style>\n",
       "<table border=\"1\" class=\"dataframe\">\n",
       "  <thead>\n",
       "    <tr style=\"text-align: right;\">\n",
       "      <th></th>\n",
       "      <th>id</th>\n",
       "      <th>idaviso</th>\n",
       "      <th>idpostulante</th>\n",
       "    </tr>\n",
       "  </thead>\n",
       "  <tbody>\n",
       "    <tr>\n",
       "      <th>976</th>\n",
       "      <td>976</td>\n",
       "      <td>1110092955</td>\n",
       "      <td>NNWoQD</td>\n",
       "    </tr>\n",
       "    <tr>\n",
       "      <th>977</th>\n",
       "      <td>977</td>\n",
       "      <td>1110092955</td>\n",
       "      <td>131NMO</td>\n",
       "    </tr>\n",
       "    <tr>\n",
       "      <th>978</th>\n",
       "      <td>978</td>\n",
       "      <td>1110092955</td>\n",
       "      <td>PmLzrBb</td>\n",
       "    </tr>\n",
       "    <tr>\n",
       "      <th>979</th>\n",
       "      <td>979</td>\n",
       "      <td>1110092955</td>\n",
       "      <td>1plWkO</td>\n",
       "    </tr>\n",
       "    <tr>\n",
       "      <th>980</th>\n",
       "      <td>980</td>\n",
       "      <td>1110092955</td>\n",
       "      <td>dY9PAQM</td>\n",
       "    </tr>\n",
       "    <tr>\n",
       "      <th>981</th>\n",
       "      <td>981</td>\n",
       "      <td>1110092955</td>\n",
       "      <td>aG9Av5</td>\n",
       "    </tr>\n",
       "    <tr>\n",
       "      <th>982</th>\n",
       "      <td>982</td>\n",
       "      <td>1110092955</td>\n",
       "      <td>ak4V1MJ</td>\n",
       "    </tr>\n",
       "    <tr>\n",
       "      <th>983</th>\n",
       "      <td>983</td>\n",
       "      <td>1110092955</td>\n",
       "      <td>LNKpdab</td>\n",
       "    </tr>\n",
       "    <tr>\n",
       "      <th>984</th>\n",
       "      <td>984</td>\n",
       "      <td>1110092955</td>\n",
       "      <td>GNObK3e</td>\n",
       "    </tr>\n",
       "    <tr>\n",
       "      <th>985</th>\n",
       "      <td>985</td>\n",
       "      <td>1110092955</td>\n",
       "      <td>xk9ArrP</td>\n",
       "    </tr>\n",
       "    <tr>\n",
       "      <th>986</th>\n",
       "      <td>986</td>\n",
       "      <td>1110092955</td>\n",
       "      <td>W9OBP8l</td>\n",
       "    </tr>\n",
       "    <tr>\n",
       "      <th>987</th>\n",
       "      <td>987</td>\n",
       "      <td>1110092955</td>\n",
       "      <td>Nzjm99B</td>\n",
       "    </tr>\n",
       "  </tbody>\n",
       "</table>\n",
       "</div>"
      ],
      "text/plain": [
       "      id     idaviso idpostulante\n",
       "976  976  1110092955       NNWoQD\n",
       "977  977  1110092955       131NMO\n",
       "978  978  1110092955      PmLzrBb\n",
       "979  979  1110092955       1plWkO\n",
       "980  980  1110092955      dY9PAQM\n",
       "981  981  1110092955       aG9Av5\n",
       "982  982  1110092955      ak4V1MJ\n",
       "983  983  1110092955      LNKpdab\n",
       "984  984  1110092955      GNObK3e\n",
       "985  985  1110092955      xk9ArrP\n",
       "986  986  1110092955      W9OBP8l\n",
       "987  987  1110092955      Nzjm99B"
      ]
     },
     "execution_count": 17,
     "metadata": {},
     "output_type": "execute_result"
    }
   ],
   "source": [
    "data_predecir[data_predecir['idaviso'] == 1110092955]"
   ]
  },
  {
   "cell_type": "code",
   "execution_count": 29,
   "metadata": {},
   "outputs": [
    {
     "name": "stdout",
     "output_type": "stream",
     "text": [
      "13798\n"
     ]
    }
   ],
   "source": [
    "print(len(avisos_detalle_desde_15_04))"
   ]
  },
  {
   "cell_type": "markdown",
   "metadata": {},
   "source": [
    "# Juntamos los 338 registros que faltan con el set a predecir"
   ]
  },
  {
   "cell_type": "code",
   "execution_count": 18,
   "metadata": {},
   "outputs": [],
   "source": [
    "avisos_detalle_desde_15_04 = pd.concat([avisos_detalle_desde_15_04, avisos_detalle_338_faltantes])"
   ]
  },
  {
   "cell_type": "code",
   "execution_count": 19,
   "metadata": {},
   "outputs": [
    {
     "name": "stdout",
     "output_type": "stream",
     "text": [
      "14136\n"
     ]
    }
   ],
   "source": [
    "print(len(avisos_detalle_desde_15_04))"
   ]
  },
  {
   "cell_type": "code",
   "execution_count": null,
   "metadata": {},
   "outputs": [],
   "source": []
  }
 ],
 "metadata": {
  "kernelspec": {
   "display_name": "Python 3",
   "language": "python",
   "name": "python3"
  },
  "language_info": {
   "codemirror_mode": {
    "name": "ipython",
    "version": 3
   },
   "file_extension": ".py",
   "mimetype": "text/x-python",
   "name": "python",
   "nbconvert_exporter": "python",
   "pygments_lexer": "ipython3",
   "version": "3.6.4"
  }
 },
 "nbformat": 4,
 "nbformat_minor": 2
}
