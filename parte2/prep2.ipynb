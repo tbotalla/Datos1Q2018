{
 "cells": [
  {
   "cell_type": "code",
   "execution_count": 1,
   "metadata": {},
   "outputs": [],
   "source": [
    "import pandas as pd\n",
    "import sklearn as sk\n",
    "import numpy as np\n",
    "import matplotlib.pyplot as plt\n",
    "%matplotlib inline"
   ]
  },
  {
   "cell_type": "markdown",
   "metadata": {},
   "source": [
    "### **Algoritmos a probar**\n",
    "\n",
    "**Linear**\n",
    "* Logistic Regression\n",
    "* Linear SVC (regularized - unregularized)\n",
    "\n",
    "**Non-linear**\n",
    "* Poly SVC\n",
    "* rbf SVC\n",
    "\n",
    "**otros**\n",
    "* naïve Bayes\n",
    "* Nearest Neighbors Classification\n",
    "* Stochastic Gradient Descent\n",
    "* Gaussian Process Classification\n",
    "* Decision Trees\n",
    "\n",
    "**Ensambles**\n",
    "* Random Forests\n",
    "* AdaBoost\n",
    "* Gradient Tree Boosting\n",
    "\n",
    "**Neural Network**\n",
    "* Multi-layer Perceptron"
   ]
  },
  {
   "cell_type": "markdown",
   "metadata": {},
   "source": [
    "### Pre-procesamiento de datos"
   ]
  },
  {
   "cell_type": "code",
   "execution_count": 2,
   "metadata": {},
   "outputs": [
    {
     "name": "stdout",
     "output_type": "stream",
     "text": [
      "CPU times: user 1min 6s, sys: 5.39 s, total: 1min 11s\n",
      "Wall time: 1min 12s\n"
     ]
    }
   ],
   "source": [
    "%%time\n",
    "# Cargo datos parte1\n",
    "avisos_parte1 =  pd.read_csv('../data/datos_navent_fiuba/fiuba_6_avisos_detalle.csv')\n",
    "postulaciones_parte1 = pd.read_csv('../data/datos_navent_fiuba/fiuba_4_postulaciones.csv')\n",
    "vistas_parte1 = pd.read_csv('../data/datos_navent_fiuba/fiuba_3_vistas.csv')\n",
    "edadYGenero_parte1 = pd.read_csv('../data/datos_navent_fiuba/fiuba_2_postulantes_genero_y_edad.csv')\n",
    "educacion_parte1 = pd.read_csv('../data/datos_navent_fiuba/fiuba_1_postulantes_educacion.csv')\n",
    "\n",
    "# Cargo datos hasta 15_4\n",
    "avisos_hasta15_4 =  pd.read_csv('./data/Fiuba hasta 15 Abril/fiuba_6_avisos_detalle.csv')\n",
    "postulaciones_hasta15_4 = pd.read_csv('data/Fiuba hasta 15 Abril/fiuba_4_postulaciones.csv')\n",
    "vistas_hasta15_4 = pd.read_csv('data/Fiuba hasta 15 Abril/fiuba_3_vistas.csv')\n",
    "edadYGenero_hasta15_4 = pd.read_csv('data/Fiuba hasta 15 Abril/fiuba_2_postulantes_genero_y_edad.csv')\n",
    "educacion_hasta15_4 = pd.read_csv('data/Fiuba hasta 15 Abril/fiuba_1_postulantes_educacion.csv')\n",
    "\n",
    "# Concateno la info\n",
    "avisos = pd.concat([avisos_parte1, avisos_hasta15_4])\n",
    "postulaciones = pd.concat([postulaciones_parte1, postulaciones_hasta15_4])\n",
    "vistas = pd.concat([vistas_parte1, vistas_hasta15_4])\n",
    "edadYGenero = pd.concat([edadYGenero_parte1, edadYGenero_hasta15_4])\n",
    "educacion = pd.concat([educacion_parte1, educacion_hasta15_4])\n",
    "\n",
    "# Elimino las referencias a sets que ya no necesito\n",
    "del(avisos_hasta15_4,\n",
    "    avisos_parte1,\n",
    "    postulaciones_hasta15_4,\n",
    "    postulaciones_parte1,\n",
    "    vistas_hasta15_4,\n",
    "    vistas_parte1,\n",
    "    edadYGenero_hasta15_4,\n",
    "    edadYGenero_parte1,\n",
    "    educacion_hasta15_4,\n",
    "    educacion_parte1)\n",
    "\n",
    "# Guardo una lista con los datasets\n",
    "data = [avisos, postulaciones, vistas, edadYGenero, educacion]\n",
    "\n",
    "# Elimino duplicados\n",
    "for df in data:\n",
    "  if(df.duplicated().any().any()):\n",
    "    df.drop_duplicates(inplace=True)\n",
    "\n",
    "# Reseteo los index\n",
    "for df in data:\n",
    "  df.reset_index(drop=True, inplace=True)\n",
    "\n",
    "# Remuevo columnas innecesarias\n",
    "avisos.drop(columns=['idpais','ciudad','mapacalle'], inplace=True)\n",
    "\n",
    "# Renombro columnas\n",
    "educacion.rename(columns={'nombre':'nivel'}, inplace=True)\n",
    "vistas.rename(columns={'idAviso':'idaviso','timestamp':'fechavista'}, inplace=True)"
   ]
  },
  {
   "cell_type": "code",
   "execution_count": 3,
   "metadata": {},
   "outputs": [
    {
     "name": "stdout",
     "output_type": "stream",
     "text": [
      "[avisos] True\n",
      "  columnas -> denominacion_empresa\n",
      "  tasa[denominacion_empresa]: 0.0003048006096012192\n",
      "\n",
      "[postulaciones] False\n",
      "\n",
      "[vistas] False\n",
      "\n",
      "[edadYGenero] True\n",
      "  columnas -> fechanacimiento\n",
      "  tasa[fechanacimiento]: 0.04809377846111661\n",
      "\n",
      "[educacion] False\n",
      "\n",
      "CPU times: user 3.82 s, sys: 89.7 ms, total: 3.91 s\n",
      "Wall time: 3.91 s\n"
     ]
    }
   ],
   "source": [
    "%%time\n",
    "# Veo que set y columnas tiene datos faltantes\n",
    "datos = {'avisos': avisos, 'postulaciones': postulaciones, 'vistas': vistas, 'edadYGenero': edadYGenero, 'educacion': educacion}\n",
    "for name, df in datos.items():\n",
    "  cols_con_nulls = df.isnull().any()\n",
    "  print(f\"[{name}]\",cols_con_nulls.any())\n",
    "  if cols_con_nulls.any():\n",
    "    cols = df.columns[cols_con_nulls.values][0]\n",
    "    print('  columnas ->',cols)\n",
    "    for column in [cols]:\n",
    "      print(f'  tasa[{column}]:', len(df[df[[column]].isnull().values])/len(df))\n",
    "  print()"
   ]
  },
  {
   "cell_type": "code",
   "execution_count": 4,
   "metadata": {},
   "outputs": [
    {
     "name": "stdout",
     "output_type": "stream",
     "text": [
      "denominacion_empresa\n",
      "False    19679\n",
      "True         6\n",
      "Name: denominacion_empresa, dtype: int64\n",
      "CPU times: user 88.7 ms, sys: 3.24 ms, total: 91.9 ms\n",
      "Wall time: 90.1 ms\n"
     ]
    }
   ],
   "source": [
    "%%time\n",
    "# AVISOS\n",
    "# Analizo cols con nulls\n",
    "if(avisos.isna().any().any()):\n",
    "  cols_con_nulls = avisos.columns[avisos.isna().any().values]\n",
    "  for col in cols_con_nulls:\n",
    "    print(col)\n",
    "    print(avisos[col].isna().value_counts())\n",
    "\n",
    "# Elimino filas con datos faltantes\n",
    "if(avisos.isna().any().any()):\n",
    "  avisos.dropna(inplace=True)\n",
    "  avisos.reset_index(drop=True, inplace=True)"
   ]
  },
  {
   "cell_type": "markdown",
   "metadata": {},
   "source": [
    "## AVISOS.DESCRIPCIÓN"
   ]
  },
  {
   "cell_type": "code",
   "execution_count": 5,
   "metadata": {},
   "outputs": [
    {
     "name": "stdout",
     "output_type": "stream",
     "text": [
      "CPU times: user 1.33 s, sys: 169 µs, total: 1.33 s\n",
      "Wall time: 1.33 s\n"
     ]
    }
   ],
   "source": [
    "%%time\n",
    "# AVISOS.DESCRIPCIÓN\n",
    "import re, string, unicodedata\n",
    "# Funciones para extraer tags html, websites, números\n",
    "def remove_tags(text):\n",
    "  return re.sub(r'<[^>]+>',' ', text)\n",
    "def remove_websites(text):\n",
    "  return re.sub(r'(www|http)\\S+', ' ', text)\n",
    "def remove_numbers(text):\n",
    "  return re.sub(r'[0-9]', ' ', text)\n",
    "# Función para reemplazar diacríticos\n",
    "#def replace_diacritics(text):\n",
    "#  return unicodedata.normalize('NFKD',text).encode('ASCII', 'ignore').decode()\n",
    "\n",
    "# Mapea signos (.,:!¡¿?@ etc) a None\n",
    "# creo q no se necesita\n",
    "#punctuation =  string.punctuation\n",
    "#tr = str.maketrans(punctuation, ' '*len(punctuation))\n",
    "\n",
    "# Remuevo tags html, caracteres especiales, espacios, diacríticos\n",
    "avisos['descripcion'] = avisos.descripcion.apply(lambda w: remove_numbers(remove_tags(remove_websites(w)))\\\n",
    "                                                 #.translate(tr)\\\n",
    "                                                 #.replace('\\r\\n',' ')\\\n",
    "                                                 #.replace('\\xa0',' ')\\\n",
    "                                                 .lower()\\\n",
    "                                                 .strip())\n",
    "avisos.descripcion.sample()"
   ]
  },
  {
   "cell_type": "code",
   "execution_count": 6,
   "metadata": {},
   "outputs": [
    {
     "name": "stdout",
     "output_type": "stream",
     "text": [
      "(19679, 33618)\n",
      "CPU times: user 4.42 s, sys: 26.4 ms, total: 4.44 s\n",
      "Wall time: 4.46 s\n"
     ]
    }
   ],
   "source": [
    "%%time\n",
    "#from sklearn.pipeline import make_pipeline\n",
    "from sklearn.feature_extraction.text import TfidfVectorizer#, TfidfTransformer, HashingVectorizer\n",
    "from stop_words import get_stop_words\n",
    "\n",
    "# hay descripciones en español e inglés\n",
    "stop_words = get_stop_words('es') + get_stop_words('en')\n",
    "\n",
    "# Elegir uno HashingTrick/TF-IDF_Vectorizer\n",
    "# n_features para elegir la cantidad de cols\n",
    "#hash_vectorizer = make_pipeline(HashingVectorizer(), TfidfTransformer())\n",
    "#X = hash_vectorizer.fit_transform(avisos.descripcion.values)\n",
    "tfidf_vectorizer = TfidfVectorizer(stop_words=stop_words, norm='l2')\n",
    "X = tfidf_vectorizer.fit_transform(avisos.descripcion.values)\n",
    "print(X.shape)\n",
    "#print(tfidf_vectorizer.vocabulary_)\n",
    "#print(tfidf_vectorizer.idf_)"
   ]
  },
  {
   "cell_type": "code",
   "execution_count": null,
   "metadata": {},
   "outputs": [],
   "source": [
    "%%time\n",
    "from sklearn.decomposition import TruncatedSVD# IncrementalPCA, PCA\n",
    "# Veo con 3000 componentes como es la varianza\n",
    "svd = TruncatedSVD(n_components=3000)\n",
    "%time svd.fit(X)\n",
    "\n",
    "plt.figure(figsize=(8,4))\n",
    "plt.plot(np.cumsum(svd.explained_variance_ratio_))\n",
    "plt.xlabel('number of components')\n",
    "plt.ylabel('cumulative explained variance')\n",
    "plt.grid()\n",
    "plt.show()"
   ]
  },
  {
   "cell_type": "code",
   "execution_count": null,
   "metadata": {},
   "outputs": [],
   "source": [
    "%%time\n",
    "from sklearn.decomposition import TruncatedSVD\n",
    "# Veo que 2000 features se concentran el 75% de la varianza\n",
    "svd = TruncatedSVD(n_components=2000)\n",
    "X = svd.fit_transform(X)\n",
    "print(X.shape)"
   ]
  },
  {
   "cell_type": "code",
   "execution_count": null,
   "metadata": {},
   "outputs": [],
   "source": [
    "%%time\n",
    "# Método del codo para encontrar el número de clusters ideal\n",
    "# KMeans tarda mucho y según la doc MiniBatchKMeans da practicamente los mismos resultados\n",
    "# AgglomerativeClustering no acepta matrices esparcidas\n",
    "from sklearn.cluster import MiniBatchKMeans#, KMeans\n",
    "clusters = range(2,21)\n",
    "costs = []\n",
    "for n_clusters in clusters:\n",
    "  model = MiniBatchKMeans(n_clusters=n_clusters, batch_size=2000, reassignment_ratio=0.0001)\n",
    "  model.fit(X)\n",
    "  costs.append(model.inertia_)\n",
    "  print('k:',n_clusters,'| cost:', model.inertia_)"
   ]
  },
  {
   "cell_type": "code",
   "execution_count": null,
   "metadata": {},
   "outputs": [],
   "source": [
    "plt.figure(figsize=(8,4))\n",
    "plt.plot(clusters, costs, marker='o')\n",
    "plt.grid(True)\n",
    "plt.show()"
   ]
  },
  {
   "cell_type": "code",
   "execution_count": null,
   "metadata": {},
   "outputs": [],
   "source": [
    "n_clusters = 8"
   ]
  },
  {
   "cell_type": "code",
   "execution_count": null,
   "metadata": {},
   "outputs": [],
   "source": [
    "%%time\n",
    "mbkm_model = MiniBatchKMeans(n_clusters=n_clusters, batch_size=2000, reassignment_ratio=0.0001)\n",
    "mbkm_model.fit(X)"
   ]
  },
  {
   "cell_type": "code",
   "execution_count": null,
   "metadata": {},
   "outputs": [],
   "source": [
    "desc_dummies = pd.get_dummies(mbkm_model.labels_)\n",
    "desc_dummies.rename(\n",
    "  columns=(dict([(n,f'desc_{n+1}') for n in range(len(desc_dummies.columns))])),\n",
    "  inplace=True)\n",
    "avisos = pd.merge(avisos, desc_dummies, left_index=True,right_index=True).drop(columns=['descripcion'])\n",
    "print(avisos.shape)\n",
    "avisos.tail(3)"
   ]
  },
  {
   "cell_type": "markdown",
   "metadata": {},
   "source": [
    "### AVISOS.TITULO"
   ]
  },
  {
   "cell_type": "code",
   "execution_count": 38,
   "metadata": {},
   "outputs": [
    {
     "name": "stdout",
     "output_type": "stream",
     "text": [
      "(15323, 5175)\n",
      "CPU times: user 268 ms, sys: 3.11 ms, total: 272 ms\n",
      "Wall time: 281 ms\n"
     ]
    }
   ],
   "source": [
    "%%time\n",
    "# AVISOS.TÍTULO\n",
    "from sklearn.feature_extraction.text import TfidfVectorizer\n",
    "from stop_words import get_stop_words\n",
    "\n",
    "stop_words = get_stop_words('es') + get_stop_words('en')\n",
    "\n",
    "# Como en los títulos las palabras repetidas deberían ser mínimas, decido no aplicar IDF\n",
    "tfidf_vectorizer = TfidfVectorizer(stop_words=stop_words, use_idf=False, norm='l2')\n",
    "X = tfidf_vectorizer.fit_transform(avisos.titulo.values)\n",
    "print(X.shape)"
   ]
  },
  {
   "cell_type": "code",
   "execution_count": 39,
   "metadata": {},
   "outputs": [
    {
     "name": "stdout",
     "output_type": "stream",
     "text": [
      "CPU times: user 1min 10s, sys: 20.5 s, total: 1min 30s\n",
      "Wall time: 32.8 s\n"
     ]
    },
    {
     "data": {
      "image/png": "[encoded data removed]",
      "text/plain": [
       "<Figure size 576x288 with 1 Axes>"
      ]
     },
     "metadata": {},
     "output_type": "display_data"
    },
    {
     "name": "stdout",
     "output_type": "stream",
     "text": [
      "CPU times: user 1min 10s, sys: 20.9 s, total: 1min 31s\n",
      "Wall time: 33.1 s\n"
     ]
    }
   ],
   "source": [
    "%%time\n",
    "from sklearn.decomposition import TruncatedSVD# IncrementalPCA, PCA\n",
    "# Veo con 1000 componentes como es la varianza\n",
    "svd = TruncatedSVD(n_components=1000)\n",
    "%time svd.fit(X)\n",
    "\n",
    "plt.figure(figsize=(8,4))\n",
    "plt.plot(np.cumsum(svd.explained_variance_ratio_))\n",
    "plt.xlabel('number of components')\n",
    "plt.ylabel('cumulative explained variance')\n",
    "plt.grid()\n",
    "plt.show()"
   ]
  },
  {
   "cell_type": "code",
   "execution_count": 40,
   "metadata": {},
   "outputs": [
    {
     "name": "stdout",
     "output_type": "stream",
     "text": [
      "Veo que con 500 features abarco el 75% de la varianza\n",
      "CPU times: user 24.4 s, sys: 12.2 s, total: 36.6 s\n",
      "Wall time: 12.4 s\n",
      "(15323, 500)\n"
     ]
    }
   ],
   "source": [
    "print('Veo que con 500 features abarco el 75% de la varianza')\n",
    "svd = TruncatedSVD(n_components=500)\n",
    "%time X = svd.fit_transform(X)\n",
    "print(X.shape)\n",
    "del(svd)"
   ]
  },
  {
   "cell_type": "code",
   "execution_count": 41,
   "metadata": {},
   "outputs": [
    {
     "data": {
      "image/png": "[encoded data removed]",
      "text/plain": [
       "<Figure size 576x288 with 1 Axes>"
      ]
     },
     "metadata": {},
     "output_type": "display_data"
    },
    {
     "name": "stdout",
     "output_type": "stream",
     "text": [
      "CPU times: user 4min 35s, sys: 5min 53s, total: 10min 28s\n",
      "Wall time: 2min 42s\n"
     ]
    }
   ],
   "source": [
    "%%time\n",
    "from sklearn.cluster import MiniBatchKMeans\n",
    "# probando pocos clusters no puede verse un \"codo\"\n",
    "clusters = range(2,100)\n",
    "costs = []\n",
    "for n_clusters in clusters:\n",
    "  model = MiniBatchKMeans(n_clusters=n_clusters)\n",
    "  model.fit(X)\n",
    "  costs.append(model.inertia_)\n",
    "plt.figure(figsize=(8,4))\n",
    "plt.plot(clusters, costs, marker='o')\n",
    "plt.grid(True)\n",
    "plt.show()"
   ]
  },
  {
   "cell_type": "code",
   "execution_count": 42,
   "metadata": {},
   "outputs": [
    {
     "data": {
      "text/plain": [
       "MiniBatchKMeans(batch_size=100, compute_labels=True, init='k-means++',\n",
       "        init_size=None, max_iter=100, max_no_improvement=10, n_clusters=20,\n",
       "        n_init=3, random_state=None, reassignment_ratio=0.01, tol=0.0,\n",
       "        verbose=0)"
      ]
     },
     "execution_count": 42,
     "metadata": {},
     "output_type": "execute_result"
    }
   ],
   "source": [
    "# tomo 20 clusters\n",
    "model = MiniBatchKMeans(n_clusters=20)\n",
    "model.fit(X)"
   ]
  },
  {
   "cell_type": "code",
   "execution_count": 43,
   "metadata": {},
   "outputs": [
    {
     "data": {
      "text/html": [
       "<div>\n",
       "<style scoped>\n",
       "    .dataframe tbody tr th:only-of-type {\n",
       "        vertical-align: middle;\n",
       "    }\n",
       "\n",
       "    .dataframe tbody tr th {\n",
       "        vertical-align: top;\n",
       "    }\n",
       "\n",
       "    .dataframe thead th {\n",
       "        text-align: right;\n",
       "    }\n",
       "</style>\n",
       "<table border=\"1\" class=\"dataframe\">\n",
       "  <thead>\n",
       "    <tr style=\"text-align: right;\">\n",
       "      <th></th>\n",
       "      <th>idaviso</th>\n",
       "      <th>nombre_zona</th>\n",
       "      <th>tipo_de_trabajo</th>\n",
       "      <th>nivel_laboral</th>\n",
       "      <th>nombre_area</th>\n",
       "      <th>denominacion_empresa</th>\n",
       "      <th>desc_1</th>\n",
       "      <th>desc_2</th>\n",
       "      <th>desc_3</th>\n",
       "      <th>desc_4</th>\n",
       "      <th>...</th>\n",
       "      <th>titulo_11</th>\n",
       "      <th>titulo_12</th>\n",
       "      <th>titulo_13</th>\n",
       "      <th>titulo_14</th>\n",
       "      <th>titulo_15</th>\n",
       "      <th>titulo_16</th>\n",
       "      <th>titulo_17</th>\n",
       "      <th>titulo_18</th>\n",
       "      <th>titulo_19</th>\n",
       "      <th>titulo_20</th>\n",
       "    </tr>\n",
       "  </thead>\n",
       "  <tbody>\n",
       "    <tr>\n",
       "      <th>0</th>\n",
       "      <td>8725750</td>\n",
       "      <td>Gran Buenos Aires</td>\n",
       "      <td>Full-time</td>\n",
       "      <td>Senior / Semi-Senior</td>\n",
       "      <td>Comercial</td>\n",
       "      <td>VENTOR</td>\n",
       "      <td>0</td>\n",
       "      <td>1</td>\n",
       "      <td>0</td>\n",
       "      <td>0</td>\n",
       "      <td>...</td>\n",
       "      <td>0</td>\n",
       "      <td>0</td>\n",
       "      <td>0</td>\n",
       "      <td>0</td>\n",
       "      <td>0</td>\n",
       "      <td>0</td>\n",
       "      <td>0</td>\n",
       "      <td>1</td>\n",
       "      <td>0</td>\n",
       "      <td>0</td>\n",
       "    </tr>\n",
       "    <tr>\n",
       "      <th>1</th>\n",
       "      <td>17903700</td>\n",
       "      <td>Gran Buenos Aires</td>\n",
       "      <td>Full-time</td>\n",
       "      <td>Senior / Semi-Senior</td>\n",
       "      <td>Salud</td>\n",
       "      <td>Farmacias Central Oeste</td>\n",
       "      <td>0</td>\n",
       "      <td>0</td>\n",
       "      <td>0</td>\n",
       "      <td>0</td>\n",
       "      <td>...</td>\n",
       "      <td>0</td>\n",
       "      <td>0</td>\n",
       "      <td>0</td>\n",
       "      <td>0</td>\n",
       "      <td>0</td>\n",
       "      <td>1</td>\n",
       "      <td>0</td>\n",
       "      <td>0</td>\n",
       "      <td>0</td>\n",
       "      <td>0</td>\n",
       "    </tr>\n",
       "    <tr>\n",
       "      <th>2</th>\n",
       "      <td>1000150677</td>\n",
       "      <td>Capital Federal</td>\n",
       "      <td>Full-time</td>\n",
       "      <td>Senior / Semi-Senior</td>\n",
       "      <td>Transporte</td>\n",
       "      <td>FAMITAX SRL</td>\n",
       "      <td>0</td>\n",
       "      <td>0</td>\n",
       "      <td>0</td>\n",
       "      <td>0</td>\n",
       "      <td>...</td>\n",
       "      <td>0</td>\n",
       "      <td>0</td>\n",
       "      <td>0</td>\n",
       "      <td>0</td>\n",
       "      <td>0</td>\n",
       "      <td>1</td>\n",
       "      <td>0</td>\n",
       "      <td>0</td>\n",
       "      <td>0</td>\n",
       "      <td>0</td>\n",
       "    </tr>\n",
       "  </tbody>\n",
       "</table>\n",
       "<p>3 rows × 34 columns</p>\n",
       "</div>"
      ],
      "text/plain": [
       "      idaviso        nombre_zona tipo_de_trabajo         nivel_laboral  \\\n",
       "0     8725750  Gran Buenos Aires       Full-time  Senior / Semi-Senior   \n",
       "1    17903700  Gran Buenos Aires       Full-time  Senior / Semi-Senior   \n",
       "2  1000150677    Capital Federal       Full-time  Senior / Semi-Senior   \n",
       "\n",
       "  nombre_area     denominacion_empresa  desc_1  desc_2  desc_3  desc_4  \\\n",
       "0   Comercial                   VENTOR       0       1       0       0   \n",
       "1       Salud  Farmacias Central Oeste       0       0       0       0   \n",
       "2  Transporte              FAMITAX SRL       0       0       0       0   \n",
       "\n",
       "     ...      titulo_11  titulo_12  titulo_13  titulo_14  titulo_15  \\\n",
       "0    ...              0          0          0          0          0   \n",
       "1    ...              0          0          0          0          0   \n",
       "2    ...              0          0          0          0          0   \n",
       "\n",
       "   titulo_16  titulo_17  titulo_18  titulo_19  titulo_20  \n",
       "0          0          0          1          0          0  \n",
       "1          1          0          0          0          0  \n",
       "2          1          0          0          0          0  \n",
       "\n",
       "[3 rows x 34 columns]"
      ]
     },
     "execution_count": 43,
     "metadata": {},
     "output_type": "execute_result"
    }
   ],
   "source": [
    "titulos_dummies = pd.get_dummies(model.labels_)\n",
    "titulos_dummies.rename(columns=dict([(n,f'titulo_{n+1}') for n in range(len(titulos_dummies.columns))]), inplace=True)\n",
    "avisos = pd.merge(avisos,titulos_dummies, left_index=True, right_index=True).drop(columns=['titulo'])\n",
    "avisos.head(3)"
   ]
  },
  {
   "cell_type": "code",
   "execution_count": 49,
   "metadata": {},
   "outputs": [
    {
     "name": "stdout",
     "output_type": "stream",
     "text": [
      "(19679, 8)\n",
      "(15323, 20)\n",
      "(14047, 34)\n"
     ]
    }
   ],
   "source": [
    "print(desc_dummies.shape)\n",
    "print(titulos_dummies.shape)\n",
    "print(avisos.shape)"
   ]
  },
  {
   "cell_type": "code",
   "execution_count": 50,
   "metadata": {},
   "outputs": [
    {
     "data": {
      "text/plain": [
       "idaviso                 False\n",
       "nombre_zona             False\n",
       "tipo_de_trabajo         False\n",
       "nivel_laboral           False\n",
       "nombre_area             False\n",
       "denominacion_empresa    False\n",
       "desc_1                  False\n",
       "desc_2                  False\n",
       "desc_3                  False\n",
       "desc_4                  False\n",
       "desc_5                  False\n",
       "desc_6                  False\n",
       "desc_7                  False\n",
       "desc_8                  False\n",
       "titulo_1                False\n",
       "titulo_2                False\n",
       "titulo_3                False\n",
       "titulo_4                False\n",
       "titulo_5                False\n",
       "titulo_6                False\n",
       "titulo_7                False\n",
       "titulo_8                False\n",
       "titulo_9                False\n",
       "titulo_10               False\n",
       "titulo_11               False\n",
       "titulo_12               False\n",
       "titulo_13               False\n",
       "titulo_14               False\n",
       "titulo_15               False\n",
       "titulo_16               False\n",
       "titulo_17               False\n",
       "titulo_18               False\n",
       "titulo_19               False\n",
       "titulo_20               False\n",
       "dtype: bool"
      ]
     },
     "execution_count": 50,
     "metadata": {},
     "output_type": "execute_result"
    }
   ],
   "source": [
    "avisos.isna().any()"
   ]
  },
  {
   "cell_type": "code",
   "execution_count": null,
   "metadata": {},
   "outputs": [],
   "source": []
  },
  {
   "cell_type": "code",
   "execution_count": null,
   "metadata": {},
   "outputs": [],
   "source": [
    "# EDUCACIÓN\n",
    "# Analizo valores\n",
    "nivel_counts = educacion.nivel.value_counts()\n",
    "print('[nivel]')\n",
    "for val in nivel_counts.index:\n",
    "  print(val,' '*(17-len(val)),nivel_counts[val],' '*(7-len(str(nivel_counts[val]))),nivel_counts[val]/len(educacion))\n",
    "\n",
    "# Reemplazo valor 'Otro' por valor moda\n",
    "mode = educacion.nivel.mode()[0]\n",
    "educacion.nivel.replace('Otro', mode, inplace=True)\n",
    "print()\n",
    "print('[estado]')\n",
    "print(educacion.estado.value_counts())\n",
    "\n",
    "# Convierto valores categóricos a columnas booleanas\n",
    "nivel = {\n",
    "  'Doctorado': 6,\n",
    "   'Master': 5,\n",
    "   'Posgrado': 4,\n",
    "   'Universitario': 3,\n",
    "   'Terciario/Técnico': 2,\n",
    "   'Secundario': 1\n",
    "  }\n",
    "educacion['nivel'] = educacion.nivel.map(lambda x: nivel[x])\n",
    "\n",
    "estado = {'Graduado': 3,'En Curso': 2, 'Abandonado': 1}\n",
    "educacion['estado'] = educacion.estado.map(lambda x: estado[x])"
   ]
  },
  {
   "cell_type": "code",
   "execution_count": null,
   "metadata": {},
   "outputs": [],
   "source": [
    "# EDADYGENERO\n",
    "# Elimino filas con datos faltantes\n",
    "if(edadYGenero.isna().any().any()):\n",
    "  edadYGenero.dropna(inplace=True)\n",
    "\n",
    "# Convierto columnas con fechas a datetime\n",
    "edadYGenero['fechanacimiento'] = pd.to_datetime(edadYGenero.fechanacimiento, format='%Y/%m/%d', errors='coerce')\n",
    "if(edadYGenero.isna().any().any()):\n",
    "  print(edadYGenero.isna().any())\n",
    "  edadYGenero.dropna(inplace=True)\n",
    "\n",
    "# Agrego columna edad\n",
    "anio_actual = pd.to_datetime('today').year\n",
    "edadYGenero['edad'] = edadYGenero.fechanacimiento.map(lambda fecha: anio_actual - fecha.year).astype(int)\n",
    "\n",
    "# Elimino la columna fechanacimiento\n",
    "edadYGenero.drop(columns=['fechanacimiento'], inplace=True)\n",
    "\n",
    "# Analizo los datos de la columna 'sexo'\n",
    "print(edadYGenero.sexo.value_counts())\n",
    "for value in edadYGenero.sexo.value_counts().index:\n",
    "  if((value != 'FEM') & (value != 'MASC')):\n",
    "    print(f'tasa [{value}]/total:',len(edadYGenero.sexo[edadYGenero.sexo == value])/len(edadYGenero))\n",
    "\n",
    "# Reemplazo esos valores por valor moda\n",
    "moda = edadYGenero.sexo.mode()[0]\n",
    "print('mode',moda)\n",
    "edadYGenero.sexo.replace(['NO_DECLARA','0.0'], moda, inplace=True)\n",
    "print(edadYGenero.sexo.value_counts())\n",
    "\n",
    "# Elimino filas con id duplicado\n",
    "if(edadYGenero.idpostulante.duplicated().any()):\n",
    "  print('total:',len(edadYGenero),'| duplicados:',len(edadYGenero[edadYGenero.idpostulante.duplicated()]))\n",
    "  print('tasa:',len(edadYGenero[edadYGenero.idpostulante.duplicated()])/len(edadYGenero))\n",
    "  edadYGenero.drop(edadYGenero[edadYGenero.idpostulante.duplicated()].index, inplace=True)\n",
    "\n",
    "# Cambio valores categóricos a columnas\n",
    "genero = {'FEM': 0,'MASC': 1}\n",
    "edadYGenero['sexo'] = edadYGenero.sexo.map(lambda x: genero[x])"
   ]
  },
  {
   "cell_type": "code",
   "execution_count": null,
   "metadata": {},
   "outputs": [],
   "source": []
  },
  {
   "cell_type": "code",
   "execution_count": null,
   "metadata": {},
   "outputs": [],
   "source": []
  },
  {
   "cell_type": "code",
   "execution_count": null,
   "metadata": {},
   "outputs": [],
   "source": [
    "educacion.estado.isna().any()"
   ]
  },
  {
   "cell_type": "code",
   "execution_count": null,
   "metadata": {},
   "outputs": [],
   "source": [
    "# Busco el nivel de estudio completado más alto\n",
    "educacion_grouped = educacion.groupby('idpostulante')\n",
    "# esto está mal\n",
    "usuarios_edu = educacion_grouped.agg({'nivel': 'max','estado': lambda x: np.count_nonzero(x == 3)}).reset_index()\n",
    "usuarios_edu.rename(columns={'nivel':'max_nivel_ed','estado':'cant_estudios'}, inplace=True)"
   ]
  },
  {
   "cell_type": "code",
   "execution_count": null,
   "metadata": {},
   "outputs": [],
   "source": [
    "# debería funcionar pero no\n",
    "[max([val for (ix, val) in enumerate(cols.nivel) if cols.estado[ix] == 3], default=0) for (idx,cols) in educacion_grouped.__iter__()]"
   ]
  },
  {
   "cell_type": "code",
   "execution_count": null,
   "metadata": {},
   "outputs": [],
   "source": []
  },
  {
   "cell_type": "code",
   "execution_count": null,
   "metadata": {},
   "outputs": [],
   "source": []
  },
  {
   "cell_type": "code",
   "execution_count": null,
   "metadata": {},
   "outputs": [],
   "source": []
  },
  {
   "cell_type": "code",
   "execution_count": null,
   "metadata": {},
   "outputs": [],
   "source": []
  },
  {
   "cell_type": "code",
   "execution_count": null,
   "metadata": {},
   "outputs": [],
   "source": [
    "# Analizo las fechas de postulaciónes y vistas\n",
    "fechas = pd.to_datetime(postulaciones.fechapostulacion)\n",
    "print('[posts]', ' min:', fechas.min(), '| max:', fechas.max())\n",
    "fechas = pd.to_datetime(vistas.fechavista)\n",
    "print('[vistas]', 'min:', fechas.min(), '| max:', fechas.max())"
   ]
  },
  {
   "cell_type": "code",
   "execution_count": null,
   "metadata": {},
   "outputs": [],
   "source": []
  },
  {
   "cell_type": "code",
   "execution_count": null,
   "metadata": {},
   "outputs": [],
   "source": []
  },
  {
   "cell_type": "code",
   "execution_count": null,
   "metadata": {},
   "outputs": [],
   "source": []
  },
  {
   "cell_type": "code",
   "execution_count": null,
   "metadata": {},
   "outputs": [],
   "source": []
  },
  {
   "cell_type": "code",
   "execution_count": null,
   "metadata": {},
   "outputs": [],
   "source": [
    "#vistas.groupby(['idpostulante','idaviso']).count()\n",
    "vistas.loc[(vistas.idpostulante == '0zB026d') & (vistas.idaviso == 1112358250),:]"
   ]
  },
  {
   "cell_type": "code",
   "execution_count": null,
   "metadata": {},
   "outputs": [],
   "source": [
    "# Unifico vistas y postulaciones\n",
    "vistas_y_postulaciones = pd.merge(vistas, postulaciones, on=['idpostulante','idaviso'], how='outer')\n",
    "\n",
    "# Renombro columnas y reordeno\n",
    "vistas_y_postulaciones.rename(columns={'fechavista':'vista','fechapostulacion':'postulacion'}, inplace=True)\n",
    "vistas_y_postulaciones = vistas_y_postulaciones[['idaviso','idpostulante','vista','postulacion']]\n",
    "\n",
    "# Cambio valores de fechas por 1 si hay fecha y 0 si es NaN\n",
    "vistas_y_postulaciones.vista = vistas_y_postulaciones.vista.notnull().astype('int')\n",
    "vistas_y_postulaciones.postulacion = vistas_y_postulaciones.postulacion.notnull().astype('int')"
   ]
  },
  {
   "cell_type": "code",
   "execution_count": null,
   "metadata": {},
   "outputs": [],
   "source": [
    "postulaciones.groupby(['idpostulante','idaviso']).count()[lambda x: x.fechapostulacion == 5]"
   ]
  },
  {
   "cell_type": "code",
   "execution_count": null,
   "metadata": {},
   "outputs": [],
   "source": [
    "usr_pos = postulaciones.idpostulante.unique()\n",
    "usr_info = edadYGenero.idpostulante.unique()\n",
    "print(len(usr_pos),len(usr_info))"
   ]
  }
 ],
 "metadata": {
  "kernelspec": {
   "display_name": "Python 3",
   "language": "python",
   "name": "python3"
  },
  "language_info": {
   "codemirror_mode": {
    "name": "ipython",
    "version": 3
   },
   "file_extension": ".py",
   "mimetype": "text/x-python",
   "name": "python",
   "nbconvert_exporter": "python",
   "pygments_lexer": "ipython3",
   "version": "3.6.5"
  }
 },
 "nbformat": 4,
 "nbformat_minor": 2
}
