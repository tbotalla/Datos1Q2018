{
 "cells": [
  {
   "cell_type": "code",
   "execution_count": 1,
   "metadata": {},
   "outputs": [],
   "source": [
    "import pandas as pd\n",
    "import sklearn as sk\n",
    "import numpy as np\n",
    "import matplotlib.pyplot as plt\n",
    "%matplotlib inline"
   ]
  },
  {
   "cell_type": "markdown",
   "metadata": {},
   "source": [
    "### **Algoritmos a probar**\n",
    "\n",
    "**Linear**\n",
    "* Logistic Regression\n",
    "* Linear SVC (regularized - unregularized)\n",
    "\n",
    "**Non-linear**\n",
    "* Poly SVC\n",
    "* rbf SVC\n",
    "\n",
    "**otros**\n",
    "* naïve Bayes\n",
    "* Nearest Neighbors Classification\n",
    "* Stochastic Gradient Descent\n",
    "* Gaussian Process Classification\n",
    "* Decision Trees\n",
    "\n",
    "**Ensambles**\n",
    "* Random Forests\n",
    "* AdaBoost\n",
    "* Gradient Tree Boosting\n",
    "\n",
    "**Neural Network**\n",
    "* Multi-layer Perceptron"
   ]
  },
  {
   "cell_type": "markdown",
   "metadata": {},
   "source": [
    "### Pre-procesamiento de datos"
   ]
  },
  {
   "cell_type": "code",
   "execution_count": 2,
   "metadata": {},
   "outputs": [
    {
     "name": "stdout",
     "output_type": "stream",
     "text": [
      "CPU times: user 1min 6s, sys: 5.39 s, total: 1min 11s\n",
      "Wall time: 1min 12s\n"
     ]
    }
   ],
   "source": [
    "%%time\n",
    "# Cargo datos parte1\n",
    "avisos_parte1 =  pd.read_csv('../data/datos_navent_fiuba/fiuba_6_avisos_detalle.csv')\n",
    "postulaciones_parte1 = pd.read_csv('../data/datos_navent_fiuba/fiuba_4_postulaciones.csv')\n",
    "vistas_parte1 = pd.read_csv('../data/datos_navent_fiuba/fiuba_3_vistas.csv')\n",
    "edadYGenero_parte1 = pd.read_csv('../data/datos_navent_fiuba/fiuba_2_postulantes_genero_y_edad.csv')\n",
    "educacion_parte1 = pd.read_csv('../data/datos_navent_fiuba/fiuba_1_postulantes_educacion.csv')\n",
    "\n",
    "# Cargo datos hasta 15_4\n",
    "avisos_hasta15_4 =  pd.read_csv('./data/Fiuba hasta 15 Abril/fiuba_6_avisos_detalle.csv')\n",
    "postulaciones_hasta15_4 = pd.read_csv('data/Fiuba hasta 15 Abril/fiuba_4_postulaciones.csv')\n",
    "vistas_hasta15_4 = pd.read_csv('data/Fiuba hasta 15 Abril/fiuba_3_vistas.csv')\n",
    "edadYGenero_hasta15_4 = pd.read_csv('data/Fiuba hasta 15 Abril/fiuba_2_postulantes_genero_y_edad.csv')\n",
    "educacion_hasta15_4 = pd.read_csv('data/Fiuba hasta 15 Abril/fiuba_1_postulantes_educacion.csv')\n",
    "\n",
    "# Concateno la info\n",
    "avisos = pd.concat([avisos_parte1, avisos_hasta15_4])\n",
    "postulaciones = pd.concat([postulaciones_parte1, postulaciones_hasta15_4])\n",
    "vistas = pd.concat([vistas_parte1, vistas_hasta15_4])\n",
    "edadYGenero = pd.concat([edadYGenero_parte1, edadYGenero_hasta15_4])\n",
    "educacion = pd.concat([educacion_parte1, educacion_hasta15_4])\n",
    "\n",
    "# Elimino las referencias a sets que ya no necesito\n",
    "del(avisos_hasta15_4,\n",
    "    avisos_parte1,\n",
    "    postulaciones_hasta15_4,\n",
    "    postulaciones_parte1,\n",
    "    vistas_hasta15_4,\n",
    "    vistas_parte1,\n",
    "    edadYGenero_hasta15_4,\n",
    "    edadYGenero_parte1,\n",
    "    educacion_hasta15_4,\n",
    "    educacion_parte1)\n",
    "\n",
    "# Guardo una lista con los datasets\n",
    "data = [avisos, postulaciones, vistas, edadYGenero, educacion]\n",
    "\n",
    "# Elimino duplicados\n",
    "for df in data:\n",
    "  if(df.duplicated().any().any()):\n",
    "    df.drop_duplicates(inplace=True)\n",
    "\n",
    "# Reseteo los index\n",
    "for df in data:\n",
    "  df.reset_index(drop=True, inplace=True)\n",
    "\n",
    "# Remuevo columnas innecesarias\n",
    "avisos.drop(columns=['idpais','ciudad','mapacalle'], inplace=True)\n",
    "\n",
    "# Renombro columnas\n",
    "educacion.rename(columns={'nombre':'nivel'}, inplace=True)\n",
    "vistas.rename(columns={'idAviso':'idaviso','timestamp':'fechavista'}, inplace=True)"
   ]
  },
  {
   "cell_type": "code",
   "execution_count": 3,
   "metadata": {},
   "outputs": [
    {
     "name": "stdout",
     "output_type": "stream",
     "text": [
      "[avisos] True\n",
      "  columnas -> denominacion_empresa\n",
      "  tasa[denominacion_empresa]: 0.0003048006096012192\n",
      "\n",
      "[postulaciones] False\n",
      "\n",
      "[vistas] False\n",
      "\n",
      "[edadYGenero] True\n",
      "  columnas -> fechanacimiento\n",
      "  tasa[fechanacimiento]: 0.04809377846111661\n",
      "\n",
      "[educacion] False\n",
      "\n",
      "CPU times: user 3.82 s, sys: 89.7 ms, total: 3.91 s\n",
      "Wall time: 3.91 s\n"
     ]
    }
   ],
   "source": [
    "%%time\n",
    "# Veo que set y columnas tiene datos faltantes\n",
    "datos = {'avisos': avisos, 'postulaciones': postulaciones, 'vistas': vistas, 'edadYGenero': edadYGenero, 'educacion': educacion}\n",
    "for name, df in datos.items():\n",
    "  cols_con_nulls = df.isnull().any()\n",
    "  print(f\"[{name}]\",cols_con_nulls.any())\n",
    "  if cols_con_nulls.any():\n",
    "    cols = df.columns[cols_con_nulls.values][0]\n",
    "    print('  columnas ->',cols)\n",
    "    for column in [cols]:\n",
    "      print(f'  tasa[{column}]:', len(df[df[[column]].isnull().values])/len(df))\n",
    "  print()"
   ]
  },
  {
   "cell_type": "code",
   "execution_count": 4,
   "metadata": {},
   "outputs": [
    {
     "name": "stdout",
     "output_type": "stream",
     "text": [
      "denominacion_empresa\n",
      "False    19679\n",
      "True         6\n",
      "Name: denominacion_empresa, dtype: int64\n",
      "CPU times: user 88.7 ms, sys: 3.24 ms, total: 91.9 ms\n",
      "Wall time: 90.1 ms\n"
     ]
    }
   ],
   "source": [
    "%%time\n",
    "# AVISOS\n",
    "# Analizo cols con nulls\n",
    "if(avisos.isna().any().any()):\n",
    "  cols_con_nulls = avisos.columns[avisos.isna().any().values]\n",
    "  for col in cols_con_nulls:\n",
    "    print(col)\n",
    "    print(avisos[col].isna().value_counts())\n",
    "\n",
    "# Elimino filas con datos faltantes\n",
    "if(avisos.isna().any().any()):\n",
    "  avisos.dropna(inplace=True)\n",
    "  avisos.reset_index(drop=True, inplace=True)"
   ]
  },
  {
   "cell_type": "markdown",
   "metadata": {},
   "source": [
    "## AVISOS.DESCRIPCIÓN"
   ]
  },
  {
   "cell_type": "code",
   "execution_count": 5,
   "metadata": {},
   "outputs": [
    {
     "name": "stdout",
     "output_type": "stream",
     "text": [
      "CPU times: user 1.33 s, sys: 169 µs, total: 1.33 s\n",
      "Wall time: 1.33 s\n"
     ]
    }
   ],
   "source": [
    "%%time\n",
    "# AVISOS.DESCRIPCIÓN\n",
    "import re, string, unicodedata\n",
    "# Funciones para extraer tags html, websites, números\n",
    "def remove_tags(text):\n",
    "  return re.sub(r'<[^>]+>',' ', text)\n",
    "def remove_websites(text):\n",
    "  return re.sub(r'(www|http)\\S+', ' ', text)\n",
    "def remove_numbers(text):\n",
    "  return re.sub(r'[0-9]', ' ', text)\n",
    "# Función para reemplazar diacríticos\n",
    "#def replace_diacritics(text):\n",
    "#  return unicodedata.normalize('NFKD',text).encode('ASCII', 'ignore').decode()\n",
    "\n",
    "# Mapea signos (.,:!¡¿?@ etc) a None\n",
    "# creo q no se necesita\n",
    "#punctuation =  string.punctuation\n",
    "#tr = str.maketrans(punctuation, ' '*len(punctuation))\n",
    "\n",
    "# Remuevo tags html, caracteres especiales, espacios, diacríticos\n",
    "avisos['descripcion'] = avisos.descripcion.apply(lambda w: remove_numbers(remove_tags(remove_websites(w)))\\\n",
    "                                                 #.translate(tr)\\\n",
    "                                                 #.replace('\\r\\n',' ')\\\n",
    "                                                 #.replace('\\xa0',' ')\\\n",
    "                                                 .lower()\\\n",
    "                                                 .strip())\n",
    "avisos.descripcion.sample()"
   ]
  },
  {
   "cell_type": "code",
   "execution_count": 6,
   "metadata": {},
   "outputs": [
    {
     "name": "stdout",
     "output_type": "stream",
     "text": [
      "(19679, 33618)\n",
      "CPU times: user 4.42 s, sys: 26.4 ms, total: 4.44 s\n",
      "Wall time: 4.46 s\n"
     ]
    }
   ],
   "source": [
    "%%time\n",
    "#from sklearn.pipeline import make_pipeline\n",
    "from sklearn.feature_extraction.text import TfidfVectorizer#, TfidfTransformer, HashingVectorizer\n",
    "from stop_words import get_stop_words\n",
    "\n",
    "# hay descripciones en español e inglés\n",
    "stop_words = get_stop_words('es') + get_stop_words('en')\n",
    "\n",
    "# Elegir uno HashingTrick/TF-IDF_Vectorizer\n",
    "# n_features para elegir la cantidad de cols\n",
    "#hash_vectorizer = make_pipeline(HashingVectorizer(), TfidfTransformer())\n",
    "#X = hash_vectorizer.fit_transform(avisos.descripcion.values)\n",
    "tfidf_vectorizer = TfidfVectorizer(stop_words=stop_words, norm='l2')\n",
    "X = tfidf_vectorizer.fit_transform(avisos.descripcion.values)\n",
    "print(X.shape)\n",
    "#print(tfidf_vectorizer.vocabulary_)\n",
    "#print(tfidf_vectorizer.idf_)"
   ]
  },
  {
   "cell_type": "code",
   "execution_count": 7,
   "metadata": {},
   "outputs": [
    {
     "name": "stdout",
     "output_type": "stream",
     "text": [
      "CPU times: user 22min 19s, sys: 2min 18s, total: 24min 37s\n",
      "Wall time: 9min 14s\n"
     ]
    },
    {
     "data": {
      "image/png": "[encoded data removed]",
      "text/plain": [
       "<Figure size 576x288 with 1 Axes>"
      ]
     },
     "metadata": {},
     "output_type": "display_data"
    },
    {
     "name": "stdout",
     "output_type": "stream",
     "text": [
      "CPU times: user 22min 19s, sys: 2min 18s, total: 24min 38s\n",
      "Wall time: 9min 14s\n"
     ]
    }
   ],
   "source": [
    "%%time\n",
    "from sklearn.decomposition import TruncatedSVD# IncrementalPCA, PCA\n",
    "# Veo con 3000 componentes como es la varianza\n",
    "svd = TruncatedSVD(n_components=3000)\n",
    "%time svd.fit(X)\n",
    "\n",
    "plt.figure(figsize=(8,4))\n",
    "plt.plot(np.cumsum(svd.explained_variance_ratio_))\n",
    "plt.xlabel('number of components')\n",
    "plt.ylabel('cumulative explained variance')\n",
    "plt.grid()\n",
    "plt.show()"
   ]
  },
  {
   "cell_type": "code",
   "execution_count": 8,
   "metadata": {},
   "outputs": [
    {
     "name": "stdout",
     "output_type": "stream",
     "text": [
      "(19679, 2000)\n",
      "CPU times: user 11min 2s, sys: 1min 34s, total: 12min 36s\n",
      "Wall time: 5min\n"
     ]
    }
   ],
   "source": [
    "%%time\n",
    "# elijo este algoritmo porque acepta trabajar con scipy.sparse matrix\n",
    "from sklearn.decomposition import TruncatedSVD\n",
    "# Veo que 2000 features se concentran el 75% de la varianza\n",
    "svd = TruncatedSVD(n_components=2000)\n",
    "X = svd.fit_transform(X)\n",
    "print(X.shape)"
   ]
  },
  {
   "cell_type": "code",
   "execution_count": 9,
   "metadata": {},
   "outputs": [
    {
     "name": "stdout",
     "output_type": "stream",
     "text": [
      "k: 2 | cost: 13740.013052961476\n",
      "k: 3 | cost: 13603.05654249047\n",
      "k: 4 | cost: 13951.110629194483\n",
      "k: 5 | cost: 13532.485244248322\n",
      "k: 6 | cost: 13451.968688050032\n",
      "k: 7 | cost: 13452.570473808955\n",
      "k: 8 | cost: 13430.71245695939\n",
      "k: 9 | cost: 13341.849564615139\n",
      "k: 10 | cost: 13467.836807563242\n",
      "k: 11 | cost: 13244.735841500531\n",
      "k: 12 | cost: 13287.39171632465\n",
      "k: 13 | cost: 13157.741623001602\n",
      "k: 14 | cost: 13210.183330436794\n",
      "k: 15 | cost: 13183.67877256638\n",
      "k: 16 | cost: 13094.784160978505\n",
      "k: 17 | cost: 13127.58039157512\n",
      "k: 18 | cost: 13096.150811016672\n",
      "k: 19 | cost: 13143.332064905366\n",
      "k: 20 | cost: 13060.382835257133\n",
      "CPU times: user 1min 36s, sys: 52.4 s, total: 2min 28s\n",
      "Wall time: 1min 20s\n"
     ]
    }
   ],
   "source": [
    "%%time\n",
    "# Método del codo para encontrar el número de clusters ideal\n",
    "# KMeans tarda mucho y según la doc MiniBatchKMeans da practicamente los mismos resultados\n",
    "# AgglomerativeClustering no acepta matrices esparcidas\n",
    "from sklearn.cluster import MiniBatchKMeans#, KMeans\n",
    "clusters = range(2,101)\n",
    "costs = []\n",
    "for n_clusters in clusters:\n",
    "  model = MiniBatchKMeans(n_clusters=n_clusters, batch_size=2000, reassignment_ratio=0.0001)\n",
    "  model.fit(X)\n",
    "  costs.append(model.inertia_)\n",
    "  #print('k:',n_clusters,'| cost:', model.inertia_)"
   ]
  },
  {
   "cell_type": "code",
   "execution_count": 10,
   "metadata": {},
   "outputs": [
    {
     "data": {
      "image/png": "[encoded data removed]",
      "text/plain": [
       "<Figure size 576x288 with 1 Axes>"
      ]
     },
     "metadata": {},
     "output_type": "display_data"
    }
   ],
   "source": [
    "plt.figure(figsize=(8,4))\n",
    "plt.plot(clusters, costs, marker='o')\n",
    "plt.grid(True)\n",
    "plt.show()"
   ]
  },
  {
   "cell_type": "code",
   "execution_count": 11,
   "metadata": {},
   "outputs": [],
   "source": [
    "n_clusters = 8"
   ]
  },
  {
   "cell_type": "code",
   "execution_count": 12,
   "metadata": {},
   "outputs": [
    {
     "name": "stdout",
     "output_type": "stream",
     "text": [
      "CPU times: user 2.85 s, sys: 1.41 s, total: 4.26 s\n",
      "Wall time: 2.95 s\n"
     ]
    }
   ],
   "source": [
    "%%time\n",
    "mbkm_model = MiniBatchKMeans(n_clusters=n_clusters, batch_size=2000, reassignment_ratio=0.0001)\n",
    "mbkm_model.fit(X)"
   ]
  },
  {
   "cell_type": "code",
   "execution_count": 13,
   "metadata": {},
   "outputs": [
    {
     "name": "stdout",
     "output_type": "stream",
     "text": [
      "(19679, 15)\n"
     ]
    },
    {
     "data": {
      "text/html": [
       "<div>\n",
       "<style scoped>\n",
       "    .dataframe tbody tr th:only-of-type {\n",
       "        vertical-align: middle;\n",
       "    }\n",
       "\n",
       "    .dataframe tbody tr th {\n",
       "        vertical-align: top;\n",
       "    }\n",
       "\n",
       "    .dataframe thead th {\n",
       "        text-align: right;\n",
       "    }\n",
       "</style>\n",
       "<table border=\"1\" class=\"dataframe\">\n",
       "  <thead>\n",
       "    <tr style=\"text-align: right;\">\n",
       "      <th></th>\n",
       "      <th>idaviso</th>\n",
       "      <th>titulo</th>\n",
       "      <th>nombre_zona</th>\n",
       "      <th>tipo_de_trabajo</th>\n",
       "      <th>nivel_laboral</th>\n",
       "      <th>nombre_area</th>\n",
       "      <th>denominacion_empresa</th>\n",
       "      <th>desc_1</th>\n",
       "      <th>desc_2</th>\n",
       "      <th>desc_3</th>\n",
       "      <th>desc_4</th>\n",
       "      <th>desc_5</th>\n",
       "      <th>desc_6</th>\n",
       "      <th>desc_7</th>\n",
       "      <th>desc_8</th>\n",
       "    </tr>\n",
       "  </thead>\n",
       "  <tbody>\n",
       "    <tr>\n",
       "      <th>19676</th>\n",
       "      <td>1112408026</td>\n",
       "      <td>ASISTENTE ADMINISTRATIVO DE DEPÓSITO</td>\n",
       "      <td>Gran Buenos Aires</td>\n",
       "      <td>Full-time</td>\n",
       "      <td>Senior / Semi-Senior</td>\n",
       "      <td>Almacén / Depósito / Expedición</td>\n",
       "      <td>CastelnuovoRH</td>\n",
       "      <td>0</td>\n",
       "      <td>0</td>\n",
       "      <td>0</td>\n",
       "      <td>0</td>\n",
       "      <td>0</td>\n",
       "      <td>1</td>\n",
       "      <td>0</td>\n",
       "      <td>0</td>\n",
       "    </tr>\n",
       "    <tr>\n",
       "      <th>19677</th>\n",
       "      <td>1112407951</td>\n",
       "      <td>Administrativo de Comercio Exterior</td>\n",
       "      <td>Gran Buenos Aires</td>\n",
       "      <td>Full-time</td>\n",
       "      <td>Junior</td>\n",
       "      <td>Administración</td>\n",
       "      <td>Theorema</td>\n",
       "      <td>0</td>\n",
       "      <td>0</td>\n",
       "      <td>0</td>\n",
       "      <td>0</td>\n",
       "      <td>0</td>\n",
       "      <td>1</td>\n",
       "      <td>0</td>\n",
       "      <td>0</td>\n",
       "    </tr>\n",
       "    <tr>\n",
       "      <th>19678</th>\n",
       "      <td>1112408032</td>\n",
       "      <td>Consultor ABAP Jr, Semi Senior y Senior</td>\n",
       "      <td>Gran Buenos Aires</td>\n",
       "      <td>Full-time</td>\n",
       "      <td>Junior</td>\n",
       "      <td>Programación</td>\n",
       "      <td>CERUTTI &amp; ASOCIADOS CONSULTING</td>\n",
       "      <td>0</td>\n",
       "      <td>0</td>\n",
       "      <td>0</td>\n",
       "      <td>0</td>\n",
       "      <td>0</td>\n",
       "      <td>0</td>\n",
       "      <td>0</td>\n",
       "      <td>1</td>\n",
       "    </tr>\n",
       "  </tbody>\n",
       "</table>\n",
       "</div>"
      ],
      "text/plain": [
       "          idaviso                                   titulo        nombre_zona  \\\n",
       "19676  1112408026     ASISTENTE ADMINISTRATIVO DE DEPÓSITO  Gran Buenos Aires   \n",
       "19677  1112407951      Administrativo de Comercio Exterior  Gran Buenos Aires   \n",
       "19678  1112408032  Consultor ABAP Jr, Semi Senior y Senior  Gran Buenos Aires   \n",
       "\n",
       "      tipo_de_trabajo         nivel_laboral                      nombre_area  \\\n",
       "19676       Full-time  Senior / Semi-Senior  Almacén / Depósito / Expedición   \n",
       "19677       Full-time                Junior                   Administración   \n",
       "19678       Full-time                Junior                     Programación   \n",
       "\n",
       "                 denominacion_empresa  desc_1  desc_2  desc_3  desc_4  desc_5  \\\n",
       "19676                  CastelnuovoRH        0       0       0       0       0   \n",
       "19677                        Theorema       0       0       0       0       0   \n",
       "19678  CERUTTI & ASOCIADOS CONSULTING       0       0       0       0       0   \n",
       "\n",
       "       desc_6  desc_7  desc_8  \n",
       "19676       1       0       0  \n",
       "19677       1       0       0  \n",
       "19678       0       0       1  "
      ]
     },
     "execution_count": 13,
     "metadata": {},
     "output_type": "execute_result"
    }
   ],
   "source": [
    "desc_dummies = pd.get_dummies(mbkm_model.labels_)\n",
    "desc_dummies.rename(\n",
    "  columns=(dict([(n,f'desc_{n+1}') for n in range(len(desc_dummies.columns))])),\n",
    "  inplace=True)\n",
    "avisos = pd.merge(avisos, desc_dummies, left_index=True,right_index=True).drop(columns=['descripcion'])\n",
    "print(avisos.shape)\n",
    "avisos.tail(3)"
   ]
  },
  {
   "cell_type": "markdown",
   "metadata": {},
   "source": [
    "### AVISOS.TITULO"
   ]
  },
  {
   "cell_type": "code",
   "execution_count": 14,
   "metadata": {},
   "outputs": [
    {
     "name": "stdout",
     "output_type": "stream",
     "text": [
      "(19679, 5796)\n",
      "CPU times: user 366 ms, sys: 22.5 ms, total: 389 ms\n",
      "Wall time: 390 ms\n"
     ]
    }
   ],
   "source": [
    "%%time\n",
    "# AVISOS.TÍTULO\n",
    "from sklearn.feature_extraction.text import TfidfVectorizer\n",
    "from stop_words import get_stop_words\n",
    "\n",
    "stop_words = get_stop_words('es') + get_stop_words('en')\n",
    "\n",
    "# Como en los títulos las palabras repetidas deberían ser mínimas, decido no aplicar IDF\n",
    "tfidf_vectorizer = TfidfVectorizer(stop_words=stop_words, use_idf=False, norm='l2')\n",
    "X = tfidf_vectorizer.fit_transform(avisos.titulo.values)\n",
    "print(X.shape)"
   ]
  },
  {
   "cell_type": "code",
   "execution_count": 15,
   "metadata": {},
   "outputs": [
    {
     "name": "stdout",
     "output_type": "stream",
     "text": [
      "CPU times: user 1min 27s, sys: 22.2 s, total: 1min 49s\n",
      "Wall time: 41.8 s\n"
     ]
    },
    {
     "data": {
      "image/png": "[encoded data removed]",
      "text/plain": [
       "<Figure size 576x288 with 1 Axes>"
      ]
     },
     "metadata": {},
     "output_type": "display_data"
    },
    {
     "name": "stdout",
     "output_type": "stream",
     "text": [
      "CPU times: user 1min 27s, sys: 22.5 s, total: 1min 50s\n",
      "Wall time: 42.1 s\n"
     ]
    }
   ],
   "source": [
    "%%time\n",
    "from sklearn.decomposition import TruncatedSVD#, IncrementalPCA, PCA\n",
    "# Veo con 1000 componentes como es la varianza\n",
    "svd = TruncatedSVD(n_components=1000)\n",
    "%time svd.fit(X)\n",
    "\n",
    "plt.figure(figsize=(8,4))\n",
    "plt.plot(np.cumsum(svd.explained_variance_ratio_))\n",
    "plt.xlabel('number of components')\n",
    "plt.ylabel('cumulative explained variance')\n",
    "plt.grid()\n",
    "plt.show()"
   ]
  },
  {
   "cell_type": "code",
   "execution_count": 16,
   "metadata": {},
   "outputs": [
    {
     "name": "stdout",
     "output_type": "stream",
     "text": [
      "Veo que con 500 features abarco el 75% de la varianza\n",
      "CPU times: user 30 s, sys: 15.3 s, total: 45.2 s\n",
      "Wall time: 16.4 s\n",
      "(19679, 500)\n"
     ]
    }
   ],
   "source": [
    "print('Veo que con 500 features abarco el 75% de la varianza')\n",
    "svd = TruncatedSVD(n_components=500)\n",
    "%time X = svd.fit_transform(X)\n",
    "print(X.shape)\n",
    "del(svd)"
   ]
  },
  {
   "cell_type": "code",
   "execution_count": 17,
   "metadata": {},
   "outputs": [
    {
     "data": {
      "image/png": "[encoded data removed]",
      "text/plain": [
       "<Figure size 576x288 with 1 Axes>"
      ]
     },
     "metadata": {},
     "output_type": "display_data"
    },
    {
     "name": "stdout",
     "output_type": "stream",
     "text": [
      "CPU times: user 6min 7s, sys: 7min 54s, total: 14min 1s\n",
      "Wall time: 3min 39s\n"
     ]
    }
   ],
   "source": [
    "%%time\n",
    "from sklearn.cluster import MiniBatchKMeans\n",
    "# probando pocos clusters no puede verse un \"codo\"\n",
    "clusters = range(2,101)\n",
    "costs = []\n",
    "for n_clusters in clusters:\n",
    "  model = MiniBatchKMeans(n_clusters=n_clusters)\n",
    "  model.fit(X)\n",
    "  costs.append(model.inertia_)\n",
    "plt.figure(figsize=(8,4))\n",
    "plt.plot(clusters, costs, marker='o')\n",
    "plt.grid(True)\n",
    "plt.show()"
   ]
  },
  {
   "cell_type": "code",
   "execution_count": 18,
   "metadata": {},
   "outputs": [
    {
     "data": {
      "text/plain": [
       "MiniBatchKMeans(batch_size=100, compute_labels=True, init='k-means++',\n",
       "        init_size=None, max_iter=100, max_no_improvement=10, n_clusters=20,\n",
       "        n_init=3, random_state=None, reassignment_ratio=0.01, tol=0.0,\n",
       "        verbose=0)"
      ]
     },
     "execution_count": 18,
     "metadata": {},
     "output_type": "execute_result"
    }
   ],
   "source": [
    "# tomo 20 clusters\n",
    "model = MiniBatchKMeans(n_clusters=20)\n",
    "model.fit(X)"
   ]
  },
  {
   "cell_type": "code",
   "execution_count": 19,
   "metadata": {},
   "outputs": [
    {
     "name": "stdout",
     "output_type": "stream",
     "text": [
      "(19679, 34)\n"
     ]
    },
    {
     "data": {
      "text/html": [
       "<div>\n",
       "<style scoped>\n",
       "    .dataframe tbody tr th:only-of-type {\n",
       "        vertical-align: middle;\n",
       "    }\n",
       "\n",
       "    .dataframe tbody tr th {\n",
       "        vertical-align: top;\n",
       "    }\n",
       "\n",
       "    .dataframe thead th {\n",
       "        text-align: right;\n",
       "    }\n",
       "</style>\n",
       "<table border=\"1\" class=\"dataframe\">\n",
       "  <thead>\n",
       "    <tr style=\"text-align: right;\">\n",
       "      <th></th>\n",
       "      <th>idaviso</th>\n",
       "      <th>nombre_zona</th>\n",
       "      <th>tipo_de_trabajo</th>\n",
       "      <th>nivel_laboral</th>\n",
       "      <th>nombre_area</th>\n",
       "      <th>denominacion_empresa</th>\n",
       "      <th>desc_1</th>\n",
       "      <th>desc_2</th>\n",
       "      <th>desc_3</th>\n",
       "      <th>desc_4</th>\n",
       "      <th>...</th>\n",
       "      <th>titulo_11</th>\n",
       "      <th>titulo_12</th>\n",
       "      <th>titulo_13</th>\n",
       "      <th>titulo_14</th>\n",
       "      <th>titulo_15</th>\n",
       "      <th>titulo_16</th>\n",
       "      <th>titulo_17</th>\n",
       "      <th>titulo_18</th>\n",
       "      <th>titulo_19</th>\n",
       "      <th>titulo_20</th>\n",
       "    </tr>\n",
       "  </thead>\n",
       "  <tbody>\n",
       "    <tr>\n",
       "      <th>19676</th>\n",
       "      <td>1112408026</td>\n",
       "      <td>Gran Buenos Aires</td>\n",
       "      <td>Full-time</td>\n",
       "      <td>Senior / Semi-Senior</td>\n",
       "      <td>Almacén / Depósito / Expedición</td>\n",
       "      <td>CastelnuovoRH</td>\n",
       "      <td>0</td>\n",
       "      <td>0</td>\n",
       "      <td>0</td>\n",
       "      <td>0</td>\n",
       "      <td>...</td>\n",
       "      <td>0</td>\n",
       "      <td>0</td>\n",
       "      <td>0</td>\n",
       "      <td>0</td>\n",
       "      <td>0</td>\n",
       "      <td>0</td>\n",
       "      <td>0</td>\n",
       "      <td>0</td>\n",
       "      <td>0</td>\n",
       "      <td>0</td>\n",
       "    </tr>\n",
       "    <tr>\n",
       "      <th>19677</th>\n",
       "      <td>1112407951</td>\n",
       "      <td>Gran Buenos Aires</td>\n",
       "      <td>Full-time</td>\n",
       "      <td>Junior</td>\n",
       "      <td>Administración</td>\n",
       "      <td>Theorema</td>\n",
       "      <td>0</td>\n",
       "      <td>0</td>\n",
       "      <td>0</td>\n",
       "      <td>0</td>\n",
       "      <td>...</td>\n",
       "      <td>1</td>\n",
       "      <td>0</td>\n",
       "      <td>0</td>\n",
       "      <td>0</td>\n",
       "      <td>0</td>\n",
       "      <td>0</td>\n",
       "      <td>0</td>\n",
       "      <td>0</td>\n",
       "      <td>0</td>\n",
       "      <td>0</td>\n",
       "    </tr>\n",
       "    <tr>\n",
       "      <th>19678</th>\n",
       "      <td>1112408032</td>\n",
       "      <td>Gran Buenos Aires</td>\n",
       "      <td>Full-time</td>\n",
       "      <td>Junior</td>\n",
       "      <td>Programación</td>\n",
       "      <td>CERUTTI &amp; ASOCIADOS CONSULTING</td>\n",
       "      <td>0</td>\n",
       "      <td>0</td>\n",
       "      <td>0</td>\n",
       "      <td>0</td>\n",
       "      <td>...</td>\n",
       "      <td>0</td>\n",
       "      <td>0</td>\n",
       "      <td>0</td>\n",
       "      <td>0</td>\n",
       "      <td>0</td>\n",
       "      <td>0</td>\n",
       "      <td>1</td>\n",
       "      <td>0</td>\n",
       "      <td>0</td>\n",
       "      <td>0</td>\n",
       "    </tr>\n",
       "  </tbody>\n",
       "</table>\n",
       "<p>3 rows × 34 columns</p>\n",
       "</div>"
      ],
      "text/plain": [
       "          idaviso        nombre_zona tipo_de_trabajo         nivel_laboral  \\\n",
       "19676  1112408026  Gran Buenos Aires       Full-time  Senior / Semi-Senior   \n",
       "19677  1112407951  Gran Buenos Aires       Full-time                Junior   \n",
       "19678  1112408032  Gran Buenos Aires       Full-time                Junior   \n",
       "\n",
       "                           nombre_area            denominacion_empresa  \\\n",
       "19676  Almacén / Depósito / Expedición                  CastelnuovoRH    \n",
       "19677                   Administración                        Theorema   \n",
       "19678                     Programación  CERUTTI & ASOCIADOS CONSULTING   \n",
       "\n",
       "       desc_1  desc_2  desc_3  desc_4    ...      titulo_11  titulo_12  \\\n",
       "19676       0       0       0       0    ...              0          0   \n",
       "19677       0       0       0       0    ...              1          0   \n",
       "19678       0       0       0       0    ...              0          0   \n",
       "\n",
       "       titulo_13  titulo_14  titulo_15  titulo_16  titulo_17  titulo_18  \\\n",
       "19676          0          0          0          0          0          0   \n",
       "19677          0          0          0          0          0          0   \n",
       "19678          0          0          0          0          1          0   \n",
       "\n",
       "       titulo_19  titulo_20  \n",
       "19676          0          0  \n",
       "19677          0          0  \n",
       "19678          0          0  \n",
       "\n",
       "[3 rows x 34 columns]"
      ]
     },
     "execution_count": 19,
     "metadata": {},
     "output_type": "execute_result"
    }
   ],
   "source": [
    "titulos_dummies = pd.get_dummies(model.labels_)\n",
    "titulos_dummies.rename(columns=dict([(n,f'titulo_{n+1}') for n in range(len(titulos_dummies.columns))]), inplace=True)\n",
    "avisos = pd.merge(avisos,titulos_dummies, left_index=True, right_index=True).drop(columns=['titulo'])\n",
    "print(avisos.shape)\n",
    "avisos.tail(3)"
   ]
  },
  {
   "cell_type": "code",
   "execution_count": 20,
   "metadata": {},
   "outputs": [
    {
     "name": "stdout",
     "output_type": "stream",
     "text": [
      "(19679, 8)\n",
      "(19679, 20)\n",
      "(19679, 34)\n"
     ]
    }
   ],
   "source": [
    "print(desc_dummies.shape)\n",
    "print(titulos_dummies.shape)\n",
    "print(avisos.shape)"
   ]
  },
  {
   "cell_type": "code",
   "execution_count": null,
   "metadata": {},
   "outputs": [],
   "source": []
  },
  {
   "cell_type": "code",
   "execution_count": null,
   "metadata": {},
   "outputs": [],
   "source": [
    "# EDUCACIÓN\n",
    "# Analizo valores\n",
    "nivel_counts = educacion.nivel.value_counts()\n",
    "print('[nivel]')\n",
    "for val in nivel_counts.index:\n",
    "  print(val,' '*(17-len(val)),nivel_counts[val],' '*(7-len(str(nivel_counts[val]))),nivel_counts[val]/len(educacion))\n",
    "\n",
    "# Reemplazo valor 'Otro' por valor moda\n",
    "mode = educacion.nivel.mode()[0]\n",
    "educacion.nivel.replace('Otro', mode, inplace=True)\n",
    "print()\n",
    "print('[estado]')\n",
    "print(educacion.estado.value_counts())\n",
    "\n",
    "# Convierto valores categóricos a columnas booleanas\n",
    "nivel = {\n",
    "  'Doctorado': 6,\n",
    "   'Master': 5,\n",
    "   'Posgrado': 4,\n",
    "   'Universitario': 3,\n",
    "   'Terciario/Técnico': 2,\n",
    "   'Secundario': 1\n",
    "  }\n",
    "educacion['nivel'] = educacion.nivel.map(lambda x: nivel[x])\n",
    "\n",
    "estado = {'Graduado': 3,'En Curso': 2, 'Abandonado': 1}\n",
    "educacion['estado'] = educacion.estado.map(lambda x: estado[x])"
   ]
  },
  {
   "cell_type": "code",
   "execution_count": null,
   "metadata": {},
   "outputs": [],
   "source": [
    "# EDADYGENERO\n",
    "# Elimino filas con datos faltantes\n",
    "if(edadYGenero.isna().any().any()):\n",
    "  edadYGenero.dropna(inplace=True)\n",
    "\n",
    "# Convierto columnas con fechas a datetime\n",
    "edadYGenero['fechanacimiento'] = pd.to_datetime(edadYGenero.fechanacimiento, format='%Y/%m/%d', errors='coerce')\n",
    "if(edadYGenero.isna().any().any()):\n",
    "  print(edadYGenero.isna().any())\n",
    "  edadYGenero.dropna(inplace=True)\n",
    "\n",
    "# Agrego columna edad\n",
    "anio_actual = pd.to_datetime('today').year\n",
    "edadYGenero['edad'] = edadYGenero.fechanacimiento.map(lambda fecha: anio_actual - fecha.year).astype(int)\n",
    "\n",
    "# Elimino la columna fechanacimiento\n",
    "edadYGenero.drop(columns=['fechanacimiento'], inplace=True)\n",
    "\n",
    "# Analizo los datos de la columna 'sexo'\n",
    "print(edadYGenero.sexo.value_counts())\n",
    "for value in edadYGenero.sexo.value_counts().index:\n",
    "  if((value != 'FEM') & (value != 'MASC')):\n",
    "    print(f'tasa [{value}]/total:',len(edadYGenero.sexo[edadYGenero.sexo == value])/len(edadYGenero))\n",
    "\n",
    "# Reemplazo esos valores por valor moda\n",
    "moda = edadYGenero.sexo.mode()[0]\n",
    "print('mode',moda)\n",
    "edadYGenero.sexo.replace(['NO_DECLARA','0.0'], moda, inplace=True)\n",
    "print(edadYGenero.sexo.value_counts())\n",
    "\n",
    "# Elimino filas con id duplicado\n",
    "if(edadYGenero.idpostulante.duplicated().any()):\n",
    "  print('total:',len(edadYGenero),'| duplicados:',len(edadYGenero[edadYGenero.idpostulante.duplicated()]))\n",
    "  print('tasa:',len(edadYGenero[edadYGenero.idpostulante.duplicated()])/len(edadYGenero))\n",
    "  edadYGenero.drop(edadYGenero[edadYGenero.idpostulante.duplicated()].index, inplace=True)\n",
    "\n",
    "# Cambio valores categóricos a columnas\n",
    "genero = {'FEM': 0,'MASC': 1}\n",
    "edadYGenero['sexo'] = edadYGenero.sexo.map(lambda x: genero[x])"
   ]
  },
  {
   "cell_type": "code",
   "execution_count": null,
   "metadata": {},
   "outputs": [],
   "source": []
  },
  {
   "cell_type": "code",
   "execution_count": null,
   "metadata": {},
   "outputs": [],
   "source": []
  },
  {
   "cell_type": "code",
   "execution_count": null,
   "metadata": {},
   "outputs": [],
   "source": [
    "educacion.estado.isna().any()"
   ]
  },
  {
   "cell_type": "code",
   "execution_count": null,
   "metadata": {},
   "outputs": [],
   "source": [
    "# Busco el nivel de estudio completado más alto\n",
    "educacion_grouped = educacion.groupby('idpostulante')\n",
    "# esto está mal\n",
    "usuarios_edu = educacion_grouped.agg({'nivel': 'max','estado': lambda x: np.count_nonzero(x == 3)}).reset_index()\n",
    "usuarios_edu.rename(columns={'nivel':'max_nivel_ed','estado':'cant_estudios'}, inplace=True)"
   ]
  },
  {
   "cell_type": "code",
   "execution_count": null,
   "metadata": {},
   "outputs": [],
   "source": [
    "# debería funcionar pero no\n",
    "[max([val for (ix, val) in enumerate(cols.nivel) if cols.estado[ix] == 3], default=0) for (idx,cols) in educacion_grouped.__iter__()]"
   ]
  },
  {
   "cell_type": "code",
   "execution_count": null,
   "metadata": {},
   "outputs": [],
   "source": []
  },
  {
   "cell_type": "code",
   "execution_count": null,
   "metadata": {},
   "outputs": [],
   "source": []
  },
  {
   "cell_type": "code",
   "execution_count": null,
   "metadata": {},
   "outputs": [],
   "source": []
  },
  {
   "cell_type": "code",
   "execution_count": null,
   "metadata": {},
   "outputs": [],
   "source": []
  },
  {
   "cell_type": "code",
   "execution_count": null,
   "metadata": {},
   "outputs": [],
   "source": [
    "# Analizo las fechas de postulaciónes y vistas\n",
    "fechas = pd.to_datetime(postulaciones.fechapostulacion)\n",
    "print('[posts]', ' min:', fechas.min(), '| max:', fechas.max())\n",
    "fechas = pd.to_datetime(vistas.fechavista)\n",
    "print('[vistas]', 'min:', fechas.min(), '| max:', fechas.max())"
   ]
  },
  {
   "cell_type": "code",
   "execution_count": null,
   "metadata": {},
   "outputs": [],
   "source": []
  },
  {
   "cell_type": "code",
   "execution_count": null,
   "metadata": {},
   "outputs": [],
   "source": []
  },
  {
   "cell_type": "code",
   "execution_count": null,
   "metadata": {},
   "outputs": [],
   "source": []
  },
  {
   "cell_type": "code",
   "execution_count": null,
   "metadata": {},
   "outputs": [],
   "source": []
  },
  {
   "cell_type": "code",
   "execution_count": null,
   "metadata": {},
   "outputs": [],
   "source": [
    "#vistas.groupby(['idpostulante','idaviso']).count()\n",
    "vistas.loc[(vistas.idpostulante == '0zB026d') & (vistas.idaviso == 1112358250),:]"
   ]
  },
  {
   "cell_type": "code",
   "execution_count": null,
   "metadata": {},
   "outputs": [],
   "source": [
    "# Unifico vistas y postulaciones\n",
    "vistas_y_postulaciones = pd.merge(vistas, postulaciones, on=['idpostulante','idaviso'], how='outer')\n",
    "\n",
    "# Renombro columnas y reordeno\n",
    "vistas_y_postulaciones.rename(columns={'fechavista':'vista','fechapostulacion':'postulacion'}, inplace=True)\n",
    "vistas_y_postulaciones = vistas_y_postulaciones[['idaviso','idpostulante','vista','postulacion']]\n",
    "\n",
    "# Cambio valores de fechas por 1 si hay fecha y 0 si es NaN\n",
    "vistas_y_postulaciones.vista = vistas_y_postulaciones.vista.notnull().astype('int')\n",
    "vistas_y_postulaciones.postulacion = vistas_y_postulaciones.postulacion.notnull().astype('int')"
   ]
  },
  {
   "cell_type": "code",
   "execution_count": null,
   "metadata": {},
   "outputs": [],
   "source": [
    "postulaciones.groupby(['idpostulante','idaviso']).count()[lambda x: x.fechapostulacion == 5]"
   ]
  },
  {
   "cell_type": "code",
   "execution_count": null,
   "metadata": {},
   "outputs": [],
   "source": [
    "usr_pos = postulaciones.idpostulante.unique()\n",
    "usr_info = edadYGenero.idpostulante.unique()\n",
    "print(len(usr_pos),len(usr_info))"
   ]
  }
 ],
 "metadata": {
  "kernelspec": {
   "display_name": "Python 3",
   "language": "python",
   "name": "python3"
  },
  "language_info": {
   "codemirror_mode": {
    "name": "ipython",
    "version": 3
   },
   "file_extension": ".py",
   "mimetype": "text/x-python",
   "name": "python",
   "nbconvert_exporter": "python",
   "pygments_lexer": "ipython3",
   "version": "3.6.5"
  }
 },
 "nbformat": 4,
 "nbformat_minor": 2
}
