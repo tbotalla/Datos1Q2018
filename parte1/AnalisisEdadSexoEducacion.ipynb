{
 "cells": [
  {
   "cell_type": "code",
   "execution_count": 82,
   "metadata": {},
   "outputs": [],
   "source": [
    "import pandas as pd\n",
    "import numpy as np\n",
    "import matplotlib.pyplot as plt\n",
    "import seaborn as sns\n",
    "import calendar\n",
    "from datetime import datetime, date\n",
    "\n",
    "sns.set_style('darkgrid')\n",
    "%matplotlib inline"
   ]
  },
  {
   "cell_type": "markdown",
   "metadata": {},
   "source": [
    "## **Limpieza/formateo**"
   ]
  },
  {
   "cell_type": "code",
   "execution_count": 83,
   "metadata": {},
   "outputs": [],
   "source": [
    "Postulaciones_Edad = pd.read_csv('../data/datos_navent_fiuba/fiuba_2_postulantes_genero_y_edad.csv')\n",
    "Postulaciones_Estudios= pd.read_csv('../data/datos_navent_fiuba/fiuba_1_postulantes_educacion.csv')"
   ]
  },
  {
   "cell_type": "code",
   "execution_count": 84,
   "metadata": {},
   "outputs": [
    {
     "name": "stdout",
     "output_type": "stream",
     "text": [
      "Existen  298231  registros con estudios\n",
      "Existen  200888  registros con sexo y genero\n",
      "El 0.0 % de los datos de la columna idpostulante del set de estudios son nulos\n",
      "El 0.0 % de los datos de la columna idpostulante del set de edades son nulos\n"
     ]
    }
   ],
   "source": [
    "print (\"Existen \", len(Postulaciones_Estudios), \" registros con estudios\")\n",
    "print (\"Existen \", len(Postulaciones_Edad), \" registros con sexo y genero\")\n",
    "\n",
    "print(\"El\", round(100 * Postulaciones_Estudios['idpostulante'].isnull().sum()/len(Postulaciones_Estudios), 2), \"% de los datos de la columna idpostulante del set de estudios son nulos\")\n",
    "print(\"El\", round(100 * Postulaciones_Edad['idpostulante'].isnull().sum()/len(Postulaciones_Edad), 2), \"% de los datos de la columna idpostulante del set de edades son nulos\")"
   ]
  },
  {
   "cell_type": "code",
   "execution_count": 85,
   "metadata": {},
   "outputs": [
    {
     "data": {
      "text/plain": [
       "YlMLGD     9\n",
       "EZD29      8\n",
       "54MQGz     8\n",
       "12eO0B     7\n",
       "aa1KkD     7\n",
       "Ee2ok0     7\n",
       "zv8vOxE    7\n",
       "8KOd6x     7\n",
       "9692125    7\n",
       "xk9VKeV    7\n",
       "kPNrbZV    7\n",
       "YNVjEr     7\n",
       "8M21pBL    7\n",
       "55R18N     7\n",
       "Ez0LBk9    7\n",
       "8keBRO     7\n",
       "1BodWQ     7\n",
       "8AZKkO     6\n",
       "3NkbZwr    6\n",
       "owarwYZ    6\n",
       "2zLX4QY    6\n",
       "2zmO1dY    6\n",
       "ow5oYE4    6\n",
       "e9BNrp     6\n",
       "jk6WmM6    6\n",
       "EzZv6Jo    6\n",
       "6r5m8zr    6\n",
       "1ZYPM3     6\n",
       "63Rmv4     6\n",
       "5JZzxZ     6\n",
       "          ..\n",
       "Nzr8964    1\n",
       "bOVw2zB    1\n",
       "VNrQ0QN    1\n",
       "QNr4dOq    1\n",
       "ow2pm8Z    1\n",
       "pzdbrkM    1\n",
       "BmDM0Bw    1\n",
       "jk5rmeB    1\n",
       "zvxNdYD    1\n",
       "VNr841E    1\n",
       "Eqx14z     1\n",
       "OqP61b6    1\n",
       "aGpaZq     1\n",
       "KBdP0Bj    1\n",
       "ekObL6r    1\n",
       "bOjlrRB    1\n",
       "kPBoX0j    1\n",
       "YjNpK8D    1\n",
       "W9Wr3PX    1\n",
       "qe2MpKk    1\n",
       "zvaZ05K    1\n",
       "MVr3q8K    1\n",
       "akj8rYN    1\n",
       "ow2daQL    1\n",
       "a5NDq0     1\n",
       "5mP4M1w    1\n",
       "wVYXkDp    1\n",
       "ekNXml2    1\n",
       "8QNqzD     1\n",
       "QNr1el4    1\n",
       "Name: idpostulante, Length: 188752, dtype: int64"
      ]
     },
     "execution_count": 85,
     "metadata": {},
     "output_type": "execute_result"
    }
   ],
   "source": [
    "Postulaciones_Estudios['idpostulante'].value_counts()"
   ]
  },
  {
   "cell_type": "raw",
   "metadata": {},
   "source": [
    "Se puede ver que los postulantes registran varios niveles de estudio, por ejemplo:"
   ]
  },
  {
   "cell_type": "code",
   "execution_count": 86,
   "metadata": {},
   "outputs": [
    {
     "data": {
      "text/html": [
       "<div>\n",
       "<style scoped>\n",
       "    .dataframe tbody tr th:only-of-type {\n",
       "        vertical-align: middle;\n",
       "    }\n",
       "\n",
       "    .dataframe tbody tr th {\n",
       "        vertical-align: top;\n",
       "    }\n",
       "\n",
       "    .dataframe thead th {\n",
       "        text-align: right;\n",
       "    }\n",
       "</style>\n",
       "<table border=\"1\" class=\"dataframe\">\n",
       "  <thead>\n",
       "    <tr style=\"text-align: right;\">\n",
       "      <th></th>\n",
       "      <th>idpostulante</th>\n",
       "      <th>nombre</th>\n",
       "      <th>estado</th>\n",
       "    </tr>\n",
       "  </thead>\n",
       "  <tbody>\n",
       "    <tr>\n",
       "      <th>373</th>\n",
       "      <td>YlMLGD</td>\n",
       "      <td>Terciario/Técnico</td>\n",
       "      <td>En Curso</td>\n",
       "    </tr>\n",
       "    <tr>\n",
       "      <th>374</th>\n",
       "      <td>YlMLGD</td>\n",
       "      <td>Otro</td>\n",
       "      <td>En Curso</td>\n",
       "    </tr>\n",
       "    <tr>\n",
       "      <th>375</th>\n",
       "      <td>YlMLGD</td>\n",
       "      <td>Universitario</td>\n",
       "      <td>En Curso</td>\n",
       "    </tr>\n",
       "    <tr>\n",
       "      <th>2206</th>\n",
       "      <td>YlMLGD</td>\n",
       "      <td>Terciario/Técnico</td>\n",
       "      <td>Graduado</td>\n",
       "    </tr>\n",
       "    <tr>\n",
       "      <th>2207</th>\n",
       "      <td>YlMLGD</td>\n",
       "      <td>Universitario</td>\n",
       "      <td>Graduado</td>\n",
       "    </tr>\n",
       "    <tr>\n",
       "      <th>2208</th>\n",
       "      <td>YlMLGD</td>\n",
       "      <td>Otro</td>\n",
       "      <td>Graduado</td>\n",
       "    </tr>\n",
       "    <tr>\n",
       "      <th>2209</th>\n",
       "      <td>YlMLGD</td>\n",
       "      <td>Posgrado</td>\n",
       "      <td>Graduado</td>\n",
       "    </tr>\n",
       "    <tr>\n",
       "      <th>3659</th>\n",
       "      <td>YlMLGD</td>\n",
       "      <td>Universitario</td>\n",
       "      <td>Abandonado</td>\n",
       "    </tr>\n",
       "    <tr>\n",
       "      <th>3660</th>\n",
       "      <td>YlMLGD</td>\n",
       "      <td>Terciario/Técnico</td>\n",
       "      <td>Abandonado</td>\n",
       "    </tr>\n",
       "  </tbody>\n",
       "</table>\n",
       "</div>"
      ],
      "text/plain": [
       "     idpostulante             nombre      estado\n",
       "373        YlMLGD  Terciario/Técnico    En Curso\n",
       "374        YlMLGD               Otro    En Curso\n",
       "375        YlMLGD      Universitario    En Curso\n",
       "2206       YlMLGD  Terciario/Técnico    Graduado\n",
       "2207       YlMLGD      Universitario    Graduado\n",
       "2208       YlMLGD               Otro    Graduado\n",
       "2209       YlMLGD           Posgrado    Graduado\n",
       "3659       YlMLGD      Universitario  Abandonado\n",
       "3660       YlMLGD  Terciario/Técnico  Abandonado"
      ]
     },
     "execution_count": 86,
     "metadata": {},
     "output_type": "execute_result"
    }
   ],
   "source": [
    "Postulaciones_Estudios.loc[Postulaciones_Estudios['idpostulante'] == 'YlMLGD']"
   ]
  },
  {
   "cell_type": "raw",
   "metadata": {},
   "source": [
    "Podemos ver que el postulante con id YlMLGD tiene multiples estudios registrados, por lo tanto para hacer el análisis nos quedamos con el máximo nivel de estudios alcanzado para unificar registros. Primero asociamos cada nivel de estudio a un valor numérico para establecer un orden jerarquico."
   ]
  },
  {
   "cell_type": "code",
   "execution_count": 87,
   "metadata": {},
   "outputs": [],
   "source": [
    "def cuantificar_estudios(row):\n",
    "    if (row['nombre'] == 'Doctorado'):\n",
    "        row['nombre'] = 7\n",
    "    if (row['nombre'] == 'Master'):    \n",
    "        row['nombre'] = 6\n",
    "    if (row['nombre'] == 'Posgrado'):    \n",
    "        row['nombre'] = 5\n",
    "    if (row['nombre'] == 'Universitario'):    \n",
    "        row['nombre'] = 4\n",
    "    if (row['nombre'] == 'Terciario/Técnico'):    \n",
    "        row['nombre'] = 3\n",
    "    if (row['nombre'] == 'Secundario'):    \n",
    "        row['nombre'] = 2\n",
    "    if (row['nombre'] == 'Otro'):    \n",
    "        row['nombre'] = 1    \n",
    "        \n",
    "    if (row['estado'] == 'Graduado'):\n",
    "        row['estado'] = 3\n",
    "    if (row['estado'] == 'En Curso'):    \n",
    "        row['estado'] = 2\n",
    "    if (row['estado'] == 'Abandonado'):    \n",
    "        row['estado'] = 1\n",
    "        \n",
    "    return row    \n",
    "\n",
    "def descuantificar_estudios(row):\n",
    "    if (row['nombre'] == 7):\n",
    "        row['nombre'] = 'Doctorado'\n",
    "    if (row['nombre'] == 6):    \n",
    "        row['nombre'] = 'Master'\n",
    "    if (row['nombre'] == 5):    \n",
    "        row['nombre'] = 'Posgrado'\n",
    "    if (row['nombre'] == 4):    \n",
    "        row['nombre'] = 'Universitario'\n",
    "    if (row['nombre'] == 3):    \n",
    "        row['nombre'] = 'Terciario/Técnico'\n",
    "    if (row['nombre'] == 2):    \n",
    "        row['nombre'] = 'Secundario'\n",
    "    if (row['nombre'] == 1):    \n",
    "        row['nombre'] = 'Otro'    \n",
    "        \n",
    "    if (row['estado'] == 3):\n",
    "        row['estado'] = 'Graduado'\n",
    "    if (row['estado'] == 2):    \n",
    "        row['estado'] = 'En Curso'\n",
    "    if (row['estado'] == 1):    \n",
    "        row['estado'] = 'Abandonado'\n",
    "        \n",
    "    return row    "
   ]
  },
  {
   "cell_type": "code",
   "execution_count": 88,
   "metadata": {},
   "outputs": [
    {
     "data": {
      "text/html": [
       "<div>\n",
       "<style scoped>\n",
       "    .dataframe tbody tr th:only-of-type {\n",
       "        vertical-align: middle;\n",
       "    }\n",
       "\n",
       "    .dataframe tbody tr th {\n",
       "        vertical-align: top;\n",
       "    }\n",
       "\n",
       "    .dataframe thead th {\n",
       "        text-align: right;\n",
       "    }\n",
       "</style>\n",
       "<table border=\"1\" class=\"dataframe\">\n",
       "  <thead>\n",
       "    <tr style=\"text-align: right;\">\n",
       "      <th></th>\n",
       "      <th>idpostulante</th>\n",
       "      <th>nombre</th>\n",
       "      <th>estado</th>\n",
       "    </tr>\n",
       "  </thead>\n",
       "  <tbody>\n",
       "    <tr>\n",
       "      <th>0</th>\n",
       "      <td>NdJl</td>\n",
       "      <td>5</td>\n",
       "      <td>2</td>\n",
       "    </tr>\n",
       "  </tbody>\n",
       "</table>\n",
       "</div>"
      ],
      "text/plain": [
       "  idpostulante nombre estado\n",
       "0         NdJl      5      2"
      ]
     },
     "execution_count": 88,
     "metadata": {},
     "output_type": "execute_result"
    }
   ],
   "source": [
    "Postulaciones_Estudios.apply(lambda row: cuantificar_estudios(row), axis=1)\n",
    "Postulaciones_Estudios.head(1)"
   ]
  },
  {
   "cell_type": "code",
   "execution_count": 89,
   "metadata": {},
   "outputs": [],
   "source": [
    "grouped_postulantes = Postulaciones_Estudios.groupby('idpostulante')"
   ]
  },
  {
   "cell_type": "code",
   "execution_count": 90,
   "metadata": {},
   "outputs": [
    {
     "name": "stdout",
     "output_type": "stream",
     "text": [
      "Existen  188752  postulantes diferentes con estudios registrados\n"
     ]
    }
   ],
   "source": [
    "print('Existen ', len(grouped_postulantes), ' postulantes diferentes con estudios registrados')"
   ]
  },
  {
   "cell_type": "code",
   "execution_count": 91,
   "metadata": {},
   "outputs": [
    {
     "name": "stderr",
     "output_type": "stream",
     "text": [
      "/home/tbotalla/anaconda3/lib/python3.6/site-packages/ipykernel_launcher.py:1: FutureWarning: by argument to sort_index is deprecated, please use .sort_values(by=...)\n",
      "  \"\"\"Entry point for launching an IPython kernel.\n"
     ]
    }
   ],
   "source": [
    "grouped_postulantes = Postulaciones_Estudios.groupby('idpostulante').apply(lambda g: g.sort_index(by='nombre', ascending=False).head(1))"
   ]
  },
  {
   "cell_type": "code",
   "execution_count": 92,
   "metadata": {},
   "outputs": [
    {
     "data": {
      "text/html": [
       "<div>\n",
       "<style scoped>\n",
       "    .dataframe tbody tr th:only-of-type {\n",
       "        vertical-align: middle;\n",
       "    }\n",
       "\n",
       "    .dataframe tbody tr th {\n",
       "        vertical-align: top;\n",
       "    }\n",
       "\n",
       "    .dataframe thead th {\n",
       "        text-align: right;\n",
       "    }\n",
       "</style>\n",
       "<table border=\"1\" class=\"dataframe\">\n",
       "  <thead>\n",
       "    <tr style=\"text-align: right;\">\n",
       "      <th></th>\n",
       "      <th>idpostulante</th>\n",
       "      <th>nombre</th>\n",
       "      <th>estado</th>\n",
       "    </tr>\n",
       "  </thead>\n",
       "  <tbody>\n",
       "    <tr>\n",
       "      <th>117605</th>\n",
       "      <td>YlMLGD</td>\n",
       "      <td>Posgrado</td>\n",
       "      <td>Graduado</td>\n",
       "    </tr>\n",
       "  </tbody>\n",
       "</table>\n",
       "</div>"
      ],
      "text/plain": [
       "       idpostulante    nombre    estado\n",
       "117605       YlMLGD  Posgrado  Graduado"
      ]
     },
     "execution_count": 92,
     "metadata": {},
     "output_type": "execute_result"
    }
   ],
   "source": [
    "grouped_postulantes.reset_index(drop=True, inplace=True)\n",
    "Postulaciones_Estudios = grouped_postulantes\n",
    "Postulaciones_Estudios.apply(lambda row: descuantificar_estudios(row), axis=1)\n",
    "Postulaciones_Estudios.loc[grouped_postulantes['idpostulante'] == 'YlMLGD']"
   ]
  },
  {
   "cell_type": "raw",
   "metadata": {},
   "source": [
    "Podemos ver que ahora solo se tiene un registro para el postulante YlMLGD con su máximo estudio alcanzado."
   ]
  },
  {
   "cell_type": "raw",
   "metadata": {},
   "source": [
    "Podemos ahora si, juntar este set de datos con el de sexo y genero para analizarlos juntos. Notamos que el set de datos de edad y género tiene algunos datos más ya que no todos los postulantes tienen registrados estudios. Dado que esta diferencia es de aproximadamente el 5% consideramos que no se pierde información relevante si juntamos los postulantes del set de datos de sexo y género con el de educación."
   ]
  },
  {
   "cell_type": "code",
   "execution_count": 93,
   "metadata": {},
   "outputs": [],
   "source": [
    "postulantes = pd.merge(Postulaciones_Estudios, Postulaciones_Edad, on =['idpostulante'])"
   ]
  },
  {
   "cell_type": "code",
   "execution_count": 94,
   "metadata": {},
   "outputs": [
    {
     "data": {
      "text/html": [
       "<div>\n",
       "<style scoped>\n",
       "    .dataframe tbody tr th:only-of-type {\n",
       "        vertical-align: middle;\n",
       "    }\n",
       "\n",
       "    .dataframe tbody tr th {\n",
       "        vertical-align: top;\n",
       "    }\n",
       "\n",
       "    .dataframe thead th {\n",
       "        text-align: right;\n",
       "    }\n",
       "</style>\n",
       "<table border=\"1\" class=\"dataframe\">\n",
       "  <thead>\n",
       "    <tr style=\"text-align: right;\">\n",
       "      <th></th>\n",
       "      <th>idpostulante</th>\n",
       "      <th>nombre</th>\n",
       "      <th>estado</th>\n",
       "      <th>fechanacimiento</th>\n",
       "      <th>sexo</th>\n",
       "    </tr>\n",
       "  </thead>\n",
       "  <tbody>\n",
       "    <tr>\n",
       "      <th>0</th>\n",
       "      <td>0z5VvGv</td>\n",
       "      <td>Secundario</td>\n",
       "      <td>Graduado</td>\n",
       "      <td>1987-10-18</td>\n",
       "      <td>MASC</td>\n",
       "    </tr>\n",
       "  </tbody>\n",
       "</table>\n",
       "</div>"
      ],
      "text/plain": [
       "  idpostulante      nombre    estado fechanacimiento  sexo\n",
       "0      0z5VvGv  Secundario  Graduado      1987-10-18  MASC"
      ]
     },
     "execution_count": 94,
     "metadata": {},
     "output_type": "execute_result"
    }
   ],
   "source": [
    "postulantes.head(1)"
   ]
  },
  {
   "cell_type": "raw",
   "metadata": {},
   "source": [
    "A partir de ahora trabajamos con éste dataframe y descartamos los demás."
   ]
  },
  {
   "cell_type": "code",
   "execution_count": 95,
   "metadata": {},
   "outputs": [],
   "source": [
    "del Postulaciones_Estudios\n",
    "del Postulaciones_Edad"
   ]
  },
  {
   "cell_type": "markdown",
   "metadata": {},
   "source": [
    "## **Edad y Género**"
   ]
  },
  {
   "cell_type": "code",
   "execution_count": 96,
   "metadata": {},
   "outputs": [
    {
     "data": {
      "text/plain": [
       "FEM           97003\n",
       "MASC          89016\n",
       "NO_DECLARA     2733\n",
       "Name: sexo, dtype: int64"
      ]
     },
     "execution_count": 96,
     "metadata": {},
     "output_type": "execute_result"
    }
   ],
   "source": [
    "postulantes['sexo'].value_counts()"
   ]
  },
  {
   "cell_type": "markdown",
   "metadata": {},
   "source": [
    "### **Limpieza**"
   ]
  },
  {
   "cell_type": "code",
   "execution_count": 97,
   "metadata": {},
   "outputs": [
    {
     "data": {
      "text/plain": [
       "2874"
      ]
     },
     "execution_count": 97,
     "metadata": {},
     "output_type": "execute_result"
    }
   ],
   "source": [
    "postulantes['fechanacimiento'].isnull().sum()"
   ]
  },
  {
   "cell_type": "raw",
   "metadata": {},
   "source": [
    "Eliminamos postulantes sin fecha de nacimiento, nuevamente como son pocos respecto al total (cerca del 1%) consideramos que no se pierde información importante."
   ]
  },
  {
   "cell_type": "code",
   "execution_count": 98,
   "metadata": {},
   "outputs": [],
   "source": [
    "postulantes = postulantes.dropna().reset_index()\n",
    "del postulantes['index']"
   ]
  },
  {
   "cell_type": "code",
   "execution_count": 99,
   "metadata": {},
   "outputs": [
    {
     "data": {
      "text/plain": [
       "0"
      ]
     },
     "execution_count": 99,
     "metadata": {},
     "output_type": "execute_result"
    }
   ],
   "source": [
    "postulantes['fechanacimiento'].isnull().sum()"
   ]
  },
  {
   "cell_type": "code",
   "execution_count": 100,
   "metadata": {},
   "outputs": [
    {
     "data": {
      "text/html": [
       "<div>\n",
       "<style scoped>\n",
       "    .dataframe tbody tr th:only-of-type {\n",
       "        vertical-align: middle;\n",
       "    }\n",
       "\n",
       "    .dataframe tbody tr th {\n",
       "        vertical-align: top;\n",
       "    }\n",
       "\n",
       "    .dataframe thead th {\n",
       "        text-align: right;\n",
       "    }\n",
       "</style>\n",
       "<table border=\"1\" class=\"dataframe\">\n",
       "  <thead>\n",
       "    <tr style=\"text-align: right;\">\n",
       "      <th></th>\n",
       "      <th>idpostulante</th>\n",
       "      <th>nombre</th>\n",
       "      <th>estado</th>\n",
       "      <th>fechanacimiento</th>\n",
       "      <th>sexo</th>\n",
       "    </tr>\n",
       "  </thead>\n",
       "  <tbody>\n",
       "    <tr>\n",
       "      <th>0</th>\n",
       "      <td>0z5VvGv</td>\n",
       "      <td>Secundario</td>\n",
       "      <td>Graduado</td>\n",
       "      <td>1987-10-18</td>\n",
       "      <td>MASC</td>\n",
       "    </tr>\n",
       "  </tbody>\n",
       "</table>\n",
       "</div>"
      ],
      "text/plain": [
       "  idpostulante      nombre    estado fechanacimiento  sexo\n",
       "0      0z5VvGv  Secundario  Graduado      1987-10-18  MASC"
      ]
     },
     "execution_count": 100,
     "metadata": {},
     "output_type": "execute_result"
    }
   ],
   "source": [
    "postulantes.head(1)"
   ]
  },
  {
   "cell_type": "code",
   "execution_count": 101,
   "metadata": {},
   "outputs": [],
   "source": [
    "postulantes['fechanacimiento']= pd.to_datetime(postulantes['fechanacimiento'],errors = 'coerce', format='%Y-%m-%d')"
   ]
  },
  {
   "cell_type": "code",
   "execution_count": 102,
   "metadata": {},
   "outputs": [],
   "source": [
    "postulantes = postulantes.dropna().reset_index()"
   ]
  },
  {
   "cell_type": "code",
   "execution_count": 103,
   "metadata": {},
   "outputs": [
    {
     "data": {
      "text/plain": [
       "FEM           96729\n",
       "MASC          88732\n",
       "NO_DECLARA      411\n",
       "Name: sexo, dtype: int64"
      ]
     },
     "execution_count": 103,
     "metadata": {},
     "output_type": "execute_result"
    }
   ],
   "source": [
    "postulantes['sexo'].value_counts()"
   ]
  },
  {
   "cell_type": "code",
   "execution_count": 104,
   "metadata": {},
   "outputs": [],
   "source": [
    "def calculate_age(year, month, day):\n",
    "    today = date.today()\n",
    "    return today.year - year - ((today.month, today.day) < (month, day))\n",
    "\n",
    "postulantes['edad'] = postulantes['fechanacimiento'].map(lambda x: calculate_age(x.year,x.month,x.day))"
   ]
  },
  {
   "cell_type": "code",
   "execution_count": 105,
   "metadata": {},
   "outputs": [
    {
     "data": {
      "text/plain": [
       "index                       int64\n",
       "idpostulante               object\n",
       "nombre                     object\n",
       "estado                     object\n",
       "fechanacimiento    datetime64[ns]\n",
       "sexo                       object\n",
       "edad                        int64\n",
       "dtype: object"
      ]
     },
     "execution_count": 105,
     "metadata": {},
     "output_type": "execute_result"
    }
   ],
   "source": [
    "postulantes.dtypes"
   ]
  },
  {
   "cell_type": "code",
   "execution_count": 106,
   "metadata": {},
   "outputs": [
    {
     "data": {
      "text/plain": [
       "0"
      ]
     },
     "execution_count": 106,
     "metadata": {},
     "output_type": "execute_result"
    }
   ],
   "source": [
    "postulantes['edad'].isnull().sum()"
   ]
  },
  {
   "cell_type": "code",
   "execution_count": 107,
   "metadata": {},
   "outputs": [],
   "source": [
    "postulantes = postulantes.dropna().reset_index()"
   ]
  },
  {
   "cell_type": "code",
   "execution_count": 108,
   "metadata": {},
   "outputs": [],
   "source": [
    "postulantes['edad'] = postulantes['edad'].astype(int)\n",
    "del postulantes['index']"
   ]
  },
  {
   "cell_type": "code",
   "execution_count": 109,
   "metadata": {},
   "outputs": [
    {
     "data": {
      "text/plain": [
       "level_0                     int64\n",
       "idpostulante               object\n",
       "nombre                     object\n",
       "estado                     object\n",
       "fechanacimiento    datetime64[ns]\n",
       "sexo                       object\n",
       "edad                        int64\n",
       "dtype: object"
      ]
     },
     "execution_count": 109,
     "metadata": {},
     "output_type": "execute_result"
    }
   ],
   "source": [
    "postulantes.dtypes"
   ]
  },
  {
   "cell_type": "markdown",
   "metadata": {},
   "source": [
    "### **Postulantes con edad de jubilación**"
   ]
  },
  {
   "cell_type": "code",
   "execution_count": 110,
   "metadata": {},
   "outputs": [],
   "source": [
    "edad_jubilacion_fem=60\n",
    "edad_jubilacion_masc=65\n",
    "edad_legal=18\n",
    "cantidad_postulantes_fem=len(postulantes.loc[postulantes['sexo'] == 'FEM'])\n",
    "cantidad_postulantes_masc=len(postulantes.loc[postulantes['sexo'] == 'MASC'])"
   ]
  },
  {
   "cell_type": "code",
   "execution_count": 111,
   "metadata": {},
   "outputs": [
    {
     "data": {
      "text/html": [
       "<div>\n",
       "<style scoped>\n",
       "    .dataframe tbody tr th:only-of-type {\n",
       "        vertical-align: middle;\n",
       "    }\n",
       "\n",
       "    .dataframe tbody tr th {\n",
       "        vertical-align: top;\n",
       "    }\n",
       "\n",
       "    .dataframe thead th {\n",
       "        text-align: right;\n",
       "    }\n",
       "</style>\n",
       "<table border=\"1\" class=\"dataframe\">\n",
       "  <thead>\n",
       "    <tr style=\"text-align: right;\">\n",
       "      <th></th>\n",
       "      <th>level_0</th>\n",
       "      <th>idpostulante</th>\n",
       "      <th>nombre</th>\n",
       "      <th>estado</th>\n",
       "      <th>fechanacimiento</th>\n",
       "      <th>sexo</th>\n",
       "      <th>edad</th>\n",
       "    </tr>\n",
       "  </thead>\n",
       "  <tbody>\n",
       "    <tr>\n",
       "      <th>1253</th>\n",
       "      <td>1253</td>\n",
       "      <td>0zP3W2r</td>\n",
       "      <td>Secundario</td>\n",
       "      <td>Graduado</td>\n",
       "      <td>1950-08-26</td>\n",
       "      <td>FEM</td>\n",
       "      <td>67</td>\n",
       "    </tr>\n",
       "    <tr>\n",
       "      <th>1916</th>\n",
       "      <td>1916</td>\n",
       "      <td>0zPRGGd</td>\n",
       "      <td>Secundario</td>\n",
       "      <td>Graduado</td>\n",
       "      <td>1954-01-22</td>\n",
       "      <td>FEM</td>\n",
       "      <td>64</td>\n",
       "    </tr>\n",
       "    <tr>\n",
       "      <th>5018</th>\n",
       "      <td>5018</td>\n",
       "      <td>144z5B</td>\n",
       "      <td>Posgrado</td>\n",
       "      <td>Graduado</td>\n",
       "      <td>1957-03-21</td>\n",
       "      <td>FEM</td>\n",
       "      <td>61</td>\n",
       "    </tr>\n",
       "  </tbody>\n",
       "</table>\n",
       "</div>"
      ],
      "text/plain": [
       "      level_0 idpostulante      nombre    estado fechanacimiento sexo  edad\n",
       "1253     1253      0zP3W2r  Secundario  Graduado      1950-08-26  FEM    67\n",
       "1916     1916      0zPRGGd  Secundario  Graduado      1954-01-22  FEM    64\n",
       "5018     5018       144z5B    Posgrado  Graduado      1957-03-21  FEM    61"
      ]
     },
     "execution_count": 111,
     "metadata": {},
     "output_type": "execute_result"
    }
   ],
   "source": [
    "postulantes_jubilables_fem = postulantes.loc[postulantes['edad'] > edad_jubilacion_fem]\n",
    "postulantes_jubilables_fem = postulantes_jubilables_fem.loc[postulantes_jubilables_fem['sexo'] == 'FEM']\n",
    "postulantes_jubilables_fem.head(3)"
   ]
  },
  {
   "cell_type": "code",
   "execution_count": 112,
   "metadata": {},
   "outputs": [
    {
     "name": "stdout",
     "output_type": "stream",
     "text": [
      "El  0.11 % de las postulantes mujeres están en edad de jubilación\n"
     ]
    }
   ],
   "source": [
    "print('El ', round(100 * len(postulantes_jubilables_fem)/cantidad_postulantes_fem, 2), '% de las postulantes mujeres están en edad de jubilación')"
   ]
  },
  {
   "cell_type": "code",
   "execution_count": 113,
   "metadata": {},
   "outputs": [
    {
     "data": {
      "text/html": [
       "<div>\n",
       "<style scoped>\n",
       "    .dataframe tbody tr th:only-of-type {\n",
       "        vertical-align: middle;\n",
       "    }\n",
       "\n",
       "    .dataframe tbody tr th {\n",
       "        vertical-align: top;\n",
       "    }\n",
       "\n",
       "    .dataframe thead th {\n",
       "        text-align: right;\n",
       "    }\n",
       "</style>\n",
       "<table border=\"1\" class=\"dataframe\">\n",
       "  <thead>\n",
       "    <tr style=\"text-align: right;\">\n",
       "      <th></th>\n",
       "      <th>level_0</th>\n",
       "      <th>idpostulante</th>\n",
       "      <th>nombre</th>\n",
       "      <th>estado</th>\n",
       "      <th>fechanacimiento</th>\n",
       "      <th>sexo</th>\n",
       "      <th>edad</th>\n",
       "    </tr>\n",
       "  </thead>\n",
       "  <tbody>\n",
       "    <tr>\n",
       "      <th>19559</th>\n",
       "      <td>19559</td>\n",
       "      <td>4rePXEA</td>\n",
       "      <td>Doctorado</td>\n",
       "      <td>Graduado</td>\n",
       "      <td>1949-06-15</td>\n",
       "      <td>MASC</td>\n",
       "      <td>68</td>\n",
       "    </tr>\n",
       "    <tr>\n",
       "      <th>20259</th>\n",
       "      <td>20259</td>\n",
       "      <td>52DWRk</td>\n",
       "      <td>Universitario</td>\n",
       "      <td>Graduado</td>\n",
       "      <td>1946-12-03</td>\n",
       "      <td>MASC</td>\n",
       "      <td>71</td>\n",
       "    </tr>\n",
       "    <tr>\n",
       "      <th>20889</th>\n",
       "      <td>20889</td>\n",
       "      <td>59rBOv</td>\n",
       "      <td>Universitario</td>\n",
       "      <td>Abandonado</td>\n",
       "      <td>1951-01-01</td>\n",
       "      <td>MASC</td>\n",
       "      <td>67</td>\n",
       "    </tr>\n",
       "  </tbody>\n",
       "</table>\n",
       "</div>"
      ],
      "text/plain": [
       "       level_0 idpostulante         nombre      estado fechanacimiento  sexo  \\\n",
       "19559    19559      4rePXEA      Doctorado    Graduado      1949-06-15  MASC   \n",
       "20259    20259       52DWRk  Universitario    Graduado      1946-12-03  MASC   \n",
       "20889    20889       59rBOv  Universitario  Abandonado      1951-01-01  MASC   \n",
       "\n",
       "       edad  \n",
       "19559    68  \n",
       "20259    71  \n",
       "20889    67  "
      ]
     },
     "execution_count": 113,
     "metadata": {},
     "output_type": "execute_result"
    }
   ],
   "source": [
    "postulantes_jubilables_masc = postulantes.loc[postulantes['edad'] > edad_jubilacion_masc]\n",
    "postulantes_jubilables_masc = postulantes_jubilables_masc.loc[postulantes_jubilables_masc['sexo'] == 'MASC']\n",
    "postulantes_jubilables_masc.head(3)"
   ]
  },
  {
   "cell_type": "code",
   "execution_count": 114,
   "metadata": {},
   "outputs": [
    {
     "name": "stdout",
     "output_type": "stream",
     "text": [
      "El  0.08 % de los postulantes hombres están en edad de jubilación\n"
     ]
    }
   ],
   "source": [
    "print('El ', round(100 * len(postulantes_jubilables_masc)/cantidad_postulantes_masc, 2), '% de los postulantes hombres están en edad de jubilación')"
   ]
  },
  {
   "cell_type": "markdown",
   "metadata": {},
   "source": [
    "### **Postulantes menores de edad**"
   ]
  },
  {
   "cell_type": "code",
   "execution_count": 115,
   "metadata": {},
   "outputs": [
    {
     "data": {
      "text/html": [
       "<div>\n",
       "<style scoped>\n",
       "    .dataframe tbody tr th:only-of-type {\n",
       "        vertical-align: middle;\n",
       "    }\n",
       "\n",
       "    .dataframe tbody tr th {\n",
       "        vertical-align: top;\n",
       "    }\n",
       "\n",
       "    .dataframe thead th {\n",
       "        text-align: right;\n",
       "    }\n",
       "</style>\n",
       "<table border=\"1\" class=\"dataframe\">\n",
       "  <thead>\n",
       "    <tr style=\"text-align: right;\">\n",
       "      <th></th>\n",
       "      <th>level_0</th>\n",
       "      <th>idpostulante</th>\n",
       "      <th>nombre</th>\n",
       "      <th>estado</th>\n",
       "      <th>fechanacimiento</th>\n",
       "      <th>sexo</th>\n",
       "      <th>edad</th>\n",
       "    </tr>\n",
       "  </thead>\n",
       "  <tbody>\n",
       "    <tr>\n",
       "      <th>911</th>\n",
       "      <td>911</td>\n",
       "      <td>0zNWeJM</td>\n",
       "      <td>Secundario</td>\n",
       "      <td>Graduado</td>\n",
       "      <td>2000-05-16</td>\n",
       "      <td>FEM</td>\n",
       "      <td>17</td>\n",
       "    </tr>\n",
       "    <tr>\n",
       "      <th>1127</th>\n",
       "      <td>1127</td>\n",
       "      <td>0zP1Xaq</td>\n",
       "      <td>Secundario</td>\n",
       "      <td>Graduado</td>\n",
       "      <td>2000-04-17</td>\n",
       "      <td>FEM</td>\n",
       "      <td>17</td>\n",
       "    </tr>\n",
       "    <tr>\n",
       "      <th>1416</th>\n",
       "      <td>1416</td>\n",
       "      <td>0zP9Nxr</td>\n",
       "      <td>Secundario</td>\n",
       "      <td>Graduado</td>\n",
       "      <td>2000-06-02</td>\n",
       "      <td>FEM</td>\n",
       "      <td>17</td>\n",
       "    </tr>\n",
       "  </tbody>\n",
       "</table>\n",
       "</div>"
      ],
      "text/plain": [
       "      level_0 idpostulante      nombre    estado fechanacimiento sexo  edad\n",
       "911       911      0zNWeJM  Secundario  Graduado      2000-05-16  FEM    17\n",
       "1127     1127      0zP1Xaq  Secundario  Graduado      2000-04-17  FEM    17\n",
       "1416     1416      0zP9Nxr  Secundario  Graduado      2000-06-02  FEM    17"
      ]
     },
     "execution_count": 115,
     "metadata": {},
     "output_type": "execute_result"
    }
   ],
   "source": [
    "postulantes_menores = postulantes.loc[postulantes['edad'] < edad_legal]\n",
    "postulantes_menores.head(3)"
   ]
  },
  {
   "cell_type": "code",
   "execution_count": 116,
   "metadata": {},
   "outputs": [
    {
     "name": "stdout",
     "output_type": "stream",
     "text": [
      "El  0.06 % de los postulantes son menores de edad\n"
     ]
    }
   ],
   "source": [
    "print('El ', round(100 * len(postulantes_menores)/len(postulantes), 2), '% de los postulantes son menores de edad')"
   ]
  },
  {
   "cell_type": "raw",
   "metadata": {},
   "source": [
    "Si sumamos todos los postulantes menores de edad y los que están en edad de jubilación tenemos:"
   ]
  },
  {
   "cell_type": "code",
   "execution_count": 117,
   "metadata": {},
   "outputs": [
    {
     "name": "stdout",
     "output_type": "stream",
     "text": [
      "Representan el  0.16 % del total de postulantes\n"
     ]
    }
   ],
   "source": [
    "print('Representan el ', round(100 * (len(postulantes_menores) + len(postulantes_jubilables_fem) + len(postulantes_jubilables_masc))/len(postulantes), 2), '% del total de postulantes')"
   ]
  },
  {
   "cell_type": "markdown",
   "metadata": {},
   "source": [
    "### **Distribución edades**"
   ]
  },
  {
   "cell_type": "code",
   "execution_count": 118,
   "metadata": {},
   "outputs": [
    {
     "data": {
      "text/plain": [
       "26     11593\n",
       "25     11365\n",
       "24     11153\n",
       "27     11081\n",
       "23     10910\n",
       "22     10323\n",
       "28      9563\n",
       "21      9197\n",
       "29      9118\n",
       "30      8048\n",
       "31      7544\n",
       "20      7367\n",
       "32      6622\n",
       "33      5674\n",
       "19      5394\n",
       "34      5302\n",
       "35      4833\n",
       "36      4568\n",
       "37      3982\n",
       "38      3690\n",
       "39      3282\n",
       "40      2870\n",
       "41      2496\n",
       "18      2373\n",
       "42      2206\n",
       "43      2008\n",
       "44      1609\n",
       "45      1411\n",
       "46      1384\n",
       "47      1208\n",
       "       ...  \n",
       "52       608\n",
       "53       598\n",
       "54       544\n",
       "55       442\n",
       "56       426\n",
       "57       356\n",
       "58       268\n",
       "59       228\n",
       "61       174\n",
       "60       152\n",
       "17       119\n",
       "62       102\n",
       "63        65\n",
       "64        44\n",
       "67        30\n",
       "65        24\n",
       "66        17\n",
       "68        14\n",
       "69         6\n",
       "70         6\n",
       "75         5\n",
       "71         3\n",
       "73         2\n",
       "242        1\n",
       "100        1\n",
       "74         1\n",
       "76         1\n",
       "78         1\n",
       "96         1\n",
       "12         1\n",
       "Name: edad, Length: 64, dtype: int64"
      ]
     },
     "execution_count": 118,
     "metadata": {},
     "output_type": "execute_result"
    }
   ],
   "source": [
    "postulantes['edad'].value_counts()"
   ]
  },
  {
   "cell_type": "code",
   "execution_count": 119,
   "metadata": {},
   "outputs": [
    {
     "data": {
      "text/plain": [
       "<matplotlib.axes._subplots.AxesSubplot at 0x7f4eb6890f28>"
      ]
     },
     "execution_count": 119,
     "metadata": {},
     "output_type": "execute_result"
    },
    {
     "data": {
      "image/png": "[encoded data removed]",
      "text/plain": [
       "<matplotlib.figure.Figure at 0x7f4eb6890eb8>"
      ]
     },
     "metadata": {},
     "output_type": "display_data"
    }
   ],
   "source": [
    "fig = plt.figure()\n",
    "ax = fig.add_subplot(111)\n",
    "plt.title('Edad postulantes: Histograma', fontsize=16, fontweight='bold')\n",
    "ax.set_xlabel('Edad')\n",
    "ax.set_xlim([16,80])\n",
    "postulantes['edad'].plot.hist(figsize=[10,10], bins=80)"
   ]
  },
  {
   "cell_type": "code",
   "execution_count": 120,
   "metadata": {},
   "outputs": [],
   "source": [
    "P_Masculino_Edad = postulantes[postulantes['sexo']=='MASC']"
   ]
  },
  {
   "cell_type": "code",
   "execution_count": 121,
   "metadata": {},
   "outputs": [
    {
     "data": {
      "text/plain": [
       "<matplotlib.axes._subplots.AxesSubplot at 0x7f4eb5407be0>"
      ]
     },
     "execution_count": 121,
     "metadata": {},
     "output_type": "execute_result"
    },
    {
     "data": {
      "image/png": "[encoded data removed]",
      "text/plain": [
       "<matplotlib.figure.Figure at 0x7f4eb541db00>"
      ]
     },
     "metadata": {},
     "output_type": "display_data"
    }
   ],
   "source": [
    "fig = plt.figure()\n",
    "ax = fig.add_subplot(111)\n",
    "plt.title('Edad postulantes Maculinos: Histograma', fontsize=16, fontweight='bold')\n",
    "ax.set_xlabel('Edad')\n",
    "ax.set_xlim([16,80])\n",
    "P_Masculino_Edad['edad'].plot.hist(figsize=[10,10], bins=80)"
   ]
  },
  {
   "cell_type": "code",
   "execution_count": 122,
   "metadata": {},
   "outputs": [],
   "source": [
    "P_Femenino_Edad = postulantes[postulantes['sexo']=='FEM']"
   ]
  },
  {
   "cell_type": "code",
   "execution_count": 123,
   "metadata": {},
   "outputs": [
    {
     "data": {
      "text/plain": [
       "<matplotlib.axes._subplots.AxesSubplot at 0x7f4eb54071d0>"
      ]
     },
     "execution_count": 123,
     "metadata": {},
     "output_type": "execute_result"
    },
    {
     "data": {
      "image/png": "[encoded data removed]",
      "text/plain": [
       "<matplotlib.figure.Figure at 0x7f4eb68d7dd8>"
      ]
     },
     "metadata": {},
     "output_type": "display_data"
    }
   ],
   "source": [
    "fig = plt.figure()\n",
    "ax = fig.add_subplot(111)\n",
    "plt.title('Edad postulantes Femeninas: Histograma', fontsize=16, fontweight='bold')\n",
    "ax.set_xlabel('Edad')\n",
    "ax.set_xlim([16,80])\n",
    "P_Masculino_Edad['edad'].plot.hist(figsize=[10,10], bins=80)"
   ]
  },
  {
   "cell_type": "markdown",
   "metadata": {},
   "source": [
    "## Estudios"
   ]
  },
  {
   "cell_type": "code",
   "execution_count": 124,
   "metadata": {},
   "outputs": [
    {
     "data": {
      "text/html": [
       "<div>\n",
       "<style scoped>\n",
       "    .dataframe tbody tr th:only-of-type {\n",
       "        vertical-align: middle;\n",
       "    }\n",
       "\n",
       "    .dataframe tbody tr th {\n",
       "        vertical-align: top;\n",
       "    }\n",
       "\n",
       "    .dataframe thead th {\n",
       "        text-align: right;\n",
       "    }\n",
       "</style>\n",
       "<table border=\"1\" class=\"dataframe\">\n",
       "  <thead>\n",
       "    <tr style=\"text-align: right;\">\n",
       "      <th></th>\n",
       "      <th>level_0</th>\n",
       "      <th>idpostulante</th>\n",
       "      <th>nombre</th>\n",
       "      <th>estado</th>\n",
       "      <th>fechanacimiento</th>\n",
       "      <th>sexo</th>\n",
       "      <th>edad</th>\n",
       "    </tr>\n",
       "  </thead>\n",
       "  <tbody>\n",
       "    <tr>\n",
       "      <th>0</th>\n",
       "      <td>0</td>\n",
       "      <td>0z5VvGv</td>\n",
       "      <td>Secundario</td>\n",
       "      <td>Graduado</td>\n",
       "      <td>1987-10-18</td>\n",
       "      <td>MASC</td>\n",
       "      <td>30</td>\n",
       "    </tr>\n",
       "    <tr>\n",
       "      <th>1</th>\n",
       "      <td>1</td>\n",
       "      <td>0zB026d</td>\n",
       "      <td>Terciario/Técnico</td>\n",
       "      <td>Graduado</td>\n",
       "      <td>1978-02-23</td>\n",
       "      <td>FEM</td>\n",
       "      <td>40</td>\n",
       "    </tr>\n",
       "    <tr>\n",
       "      <th>2</th>\n",
       "      <td>2</td>\n",
       "      <td>0zB03O9</td>\n",
       "      <td>Terciario/Técnico</td>\n",
       "      <td>En Curso</td>\n",
       "      <td>1987-07-04</td>\n",
       "      <td>FEM</td>\n",
       "      <td>30</td>\n",
       "    </tr>\n",
       "  </tbody>\n",
       "</table>\n",
       "</div>"
      ],
      "text/plain": [
       "   level_0 idpostulante             nombre    estado fechanacimiento  sexo  \\\n",
       "0        0      0z5VvGv         Secundario  Graduado      1987-10-18  MASC   \n",
       "1        1      0zB026d  Terciario/Técnico  Graduado      1978-02-23   FEM   \n",
       "2        2      0zB03O9  Terciario/Técnico  En Curso      1987-07-04   FEM   \n",
       "\n",
       "   edad  \n",
       "0    30  \n",
       "1    40  \n",
       "2    30  "
      ]
     },
     "execution_count": 124,
     "metadata": {},
     "output_type": "execute_result"
    }
   ],
   "source": [
    "postulantes.head(3)"
   ]
  },
  {
   "cell_type": "code",
   "execution_count": 125,
   "metadata": {},
   "outputs": [
    {
     "name": "stdout",
     "output_type": "stream",
     "text": [
      "<class 'pandas.core.frame.DataFrame'>\n",
      "RangeIndex: 185872 entries, 0 to 185871\n",
      "Data columns (total 7 columns):\n",
      "level_0            185872 non-null int64\n",
      "idpostulante       185872 non-null object\n",
      "nombre             185872 non-null object\n",
      "estado             185872 non-null object\n",
      "fechanacimiento    185872 non-null datetime64[ns]\n",
      "sexo               185872 non-null object\n",
      "edad               185872 non-null int64\n",
      "dtypes: datetime64[ns](1), int64(2), object(4)\n",
      "memory usage: 9.9+ MB\n"
     ]
    }
   ],
   "source": [
    "postulantes.info()"
   ]
  },
  {
   "cell_type": "code",
   "execution_count": 126,
   "metadata": {},
   "outputs": [
    {
     "data": {
      "text/plain": [
       "Universitario        86754\n",
       "Secundario           61097\n",
       "Terciario/Técnico    27046\n",
       "Posgrado              6010\n",
       "Master                3454\n",
       "Otro                  1303\n",
       "Doctorado              208\n",
       "Name: nombre, dtype: int64"
      ]
     },
     "execution_count": 126,
     "metadata": {},
     "output_type": "execute_result"
    }
   ],
   "source": [
    "postulantes['nombre'].value_counts()"
   ]
  },
  {
   "cell_type": "code",
   "execution_count": 127,
   "metadata": {},
   "outputs": [
    {
     "data": {
      "text/plain": [
       "Graduado      102442\n",
       "En Curso       67428\n",
       "Abandonado     16002\n",
       "Name: estado, dtype: int64"
      ]
     },
     "execution_count": 127,
     "metadata": {},
     "output_type": "execute_result"
    }
   ],
   "source": [
    "postulantes['estado'].value_counts()"
   ]
  },
  {
   "cell_type": "code",
   "execution_count": 128,
   "metadata": {},
   "outputs": [],
   "source": [
    "Postulaciones_Graduados = postulantes\n",
    "Postulaciones_Graduados['cantidad']=0\n",
    "Postulaciones_Graduados= postulantes.loc[(postulantes['estado']=='Graduado')].groupby('nombre').count()"
   ]
  },
  {
   "cell_type": "code",
   "execution_count": 129,
   "metadata": {},
   "outputs": [],
   "source": [
    "del Postulaciones_Graduados['idpostulante']\n",
    "del Postulaciones_Graduados['estado']\n",
    "del Postulaciones_Graduados['fechanacimiento']\n",
    "del Postulaciones_Graduados['sexo']\n",
    "del Postulaciones_Graduados['edad']\n",
    "del Postulaciones_Graduados['level_0']"
   ]
  },
  {
   "cell_type": "code",
   "execution_count": 130,
   "metadata": {},
   "outputs": [
    {
     "data": {
      "text/html": [
       "<div>\n",
       "<style scoped>\n",
       "    .dataframe tbody tr th:only-of-type {\n",
       "        vertical-align: middle;\n",
       "    }\n",
       "\n",
       "    .dataframe tbody tr th {\n",
       "        vertical-align: top;\n",
       "    }\n",
       "\n",
       "    .dataframe thead th {\n",
       "        text-align: right;\n",
       "    }\n",
       "</style>\n",
       "<table border=\"1\" class=\"dataframe\">\n",
       "  <thead>\n",
       "    <tr style=\"text-align: right;\">\n",
       "      <th></th>\n",
       "      <th>cantidad</th>\n",
       "    </tr>\n",
       "    <tr>\n",
       "      <th>nombre</th>\n",
       "      <th></th>\n",
       "    </tr>\n",
       "  </thead>\n",
       "  <tbody>\n",
       "    <tr>\n",
       "      <th>Doctorado</th>\n",
       "      <td>102</td>\n",
       "    </tr>\n",
       "    <tr>\n",
       "      <th>Master</th>\n",
       "      <td>1821</td>\n",
       "    </tr>\n",
       "    <tr>\n",
       "      <th>Otro</th>\n",
       "      <td>874</td>\n",
       "    </tr>\n",
       "    <tr>\n",
       "      <th>Posgrado</th>\n",
       "      <td>3720</td>\n",
       "    </tr>\n",
       "    <tr>\n",
       "      <th>Secundario</th>\n",
       "      <td>55036</td>\n",
       "    </tr>\n",
       "    <tr>\n",
       "      <th>Terciario/Técnico</th>\n",
       "      <td>13148</td>\n",
       "    </tr>\n",
       "    <tr>\n",
       "      <th>Universitario</th>\n",
       "      <td>27741</td>\n",
       "    </tr>\n",
       "  </tbody>\n",
       "</table>\n",
       "</div>"
      ],
      "text/plain": [
       "                   cantidad\n",
       "nombre                     \n",
       "Doctorado               102\n",
       "Master                 1821\n",
       "Otro                    874\n",
       "Posgrado               3720\n",
       "Secundario            55036\n",
       "Terciario/Técnico     13148\n",
       "Universitario         27741"
      ]
     },
     "execution_count": 130,
     "metadata": {},
     "output_type": "execute_result"
    }
   ],
   "source": [
    "Postulaciones_Graduados"
   ]
  },
  {
   "cell_type": "code",
   "execution_count": 131,
   "metadata": {},
   "outputs": [],
   "source": [
    "plot_postulantes_graduados = 100 * Postulaciones_Graduados['cantidad']/len(postulantes.loc[(postulantes['estado']=='Graduado')])\n",
    "plot_postulantes_graduados = pd.DataFrame(plot_postulantes_graduados).reset_index()"
   ]
  },
  {
   "cell_type": "code",
   "execution_count": 132,
   "metadata": {},
   "outputs": [
    {
     "data": {
      "text/plain": [
       "<matplotlib.axes._subplots.AxesSubplot at 0x7f4e8ef8d6d8>"
      ]
     },
     "execution_count": 132,
     "metadata": {},
     "output_type": "execute_result"
    },
    {
     "data": {
      "image/png": "[encoded data removed]",
      "text/plain": [
       "<matplotlib.figure.Figure at 0x7f4eb6854b38>"
      ]
     },
     "metadata": {},
     "output_type": "display_data"
    }
   ],
   "source": [
    "plt.figure(figsize=(14,5))\n",
    "plt.title('Distribución de postulantes graduados', fontsize=16, fontweight='bold')\n",
    "sns.barplot(x='nombre', y='cantidad', data=plot_postulantes_graduados)"
   ]
  },
  {
   "cell_type": "code",
   "execution_count": 133,
   "metadata": {},
   "outputs": [],
   "source": [
    "postulantes_en_curso = postulantes\n",
    "postulantes_en_curso['cantidad'] = 0\n",
    "postulantes_en_curso= postulantes.loc[(postulantes['estado']=='En Curso')].groupby('nombre').count()"
   ]
  },
  {
   "cell_type": "code",
   "execution_count": 134,
   "metadata": {},
   "outputs": [],
   "source": [
    "del postulantes_en_curso['idpostulante']\n",
    "del postulantes_en_curso['estado']\n",
    "del postulantes_en_curso['fechanacimiento']\n",
    "del postulantes_en_curso['sexo']\n",
    "del postulantes_en_curso['level_0']\n",
    "del postulantes_en_curso['edad']"
   ]
  },
  {
   "cell_type": "code",
   "execution_count": 135,
   "metadata": {},
   "outputs": [],
   "source": [
    "plot_postulantes_en_curso = 100 * postulantes_en_curso['cantidad']/len(postulantes.loc[(postulantes['estado']=='En Curso')])\n",
    "plot_postulantes_en_curso = pd.DataFrame(plot_postulantes_en_curso).reset_index()"
   ]
  },
  {
   "cell_type": "code",
   "execution_count": 136,
   "metadata": {},
   "outputs": [
    {
     "data": {
      "text/plain": [
       "<matplotlib.axes._subplots.AxesSubplot at 0x7f4eb6854550>"
      ]
     },
     "execution_count": 136,
     "metadata": {},
     "output_type": "execute_result"
    },
    {
     "data": {
      "image/png": "[encoded data removed]",
      "text/plain": [
       "<matplotlib.figure.Figure at 0x7f4e84500a20>"
      ]
     },
     "metadata": {},
     "output_type": "display_data"
    }
   ],
   "source": [
    "plt.figure(figsize=(14,5))\n",
    "plt.title('Distribución de postulantes con estudios en curso', fontsize=16, fontweight='bold')\n",
    "sns.barplot(x='nombre', y='cantidad', data=plot_postulantes_en_curso)"
   ]
  },
  {
   "cell_type": "code",
   "execution_count": 137,
   "metadata": {},
   "outputs": [],
   "source": [
    "postulantes_abandonado = postulantes\n",
    "postulantes_abandonado['cantidad'] = 0\n",
    "postulantes_abandonado= postulantes.loc[(postulantes['estado']=='Abandonado')].groupby('nombre').count()"
   ]
  },
  {
   "cell_type": "code",
   "execution_count": 138,
   "metadata": {},
   "outputs": [],
   "source": [
    "del postulantes_abandonado['idpostulante']\n",
    "del postulantes_abandonado['estado']\n",
    "del postulantes_abandonado['fechanacimiento']\n",
    "del postulantes_abandonado['sexo']\n",
    "del postulantes_abandonado['level_0']\n",
    "del postulantes_abandonado['edad']"
   ]
  },
  {
   "cell_type": "code",
   "execution_count": 139,
   "metadata": {},
   "outputs": [],
   "source": [
    "postulantes_abandonado = 100 * postulantes_abandonado['cantidad']/len(postulantes.loc[(postulantes['estado']=='En Curso')])\n",
    "postulantes_abandonado = pd.DataFrame(postulantes_abandonado).reset_index()"
   ]
  },
  {
   "cell_type": "code",
   "execution_count": 140,
   "metadata": {},
   "outputs": [
    {
     "data": {
      "text/plain": [
       "<matplotlib.axes._subplots.AxesSubplot at 0x7f4e934ae4a8>"
      ]
     },
     "execution_count": 140,
     "metadata": {},
     "output_type": "execute_result"
    },
    {
     "data": {
      "image/png": "[encoded data removed]",
      "text/plain": [
       "<matplotlib.figure.Figure at 0x7f4e934ae518>"
      ]
     },
     "metadata": {},
     "output_type": "display_data"
    }
   ],
   "source": [
    "plt.figure(figsize=(14,5))\n",
    "plt.title('Distribución de postulantes con estudios abandonados', fontsize=16, fontweight='bold')\n",
    "sns.barplot(x='nombre', y='cantidad', data=postulantes_abandonado)"
   ]
  },
  {
   "cell_type": "code",
   "execution_count": null,
   "metadata": {},
   "outputs": [],
   "source": []
  },
  {
   "cell_type": "code",
   "execution_count": null,
   "metadata": {},
   "outputs": [],
   "source": []
  },
  {
   "cell_type": "code",
   "execution_count": 141,
   "metadata": {},
   "outputs": [],
   "source": [
    "# TODO:"
   ]
  },
  {
   "cell_type": "code",
   "execution_count": 158,
   "metadata": {},
   "outputs": [
    {
     "data": {
      "text/html": [
       "<div>\n",
       "<style scoped>\n",
       "    .dataframe tbody tr th:only-of-type {\n",
       "        vertical-align: middle;\n",
       "    }\n",
       "\n",
       "    .dataframe tbody tr th {\n",
       "        vertical-align: top;\n",
       "    }\n",
       "\n",
       "    .dataframe thead th {\n",
       "        text-align: right;\n",
       "    }\n",
       "</style>\n",
       "<table border=\"1\" class=\"dataframe\">\n",
       "  <thead>\n",
       "    <tr style=\"text-align: right;\">\n",
       "      <th></th>\n",
       "      <th></th>\n",
       "      <th>cantidad</th>\n",
       "    </tr>\n",
       "    <tr>\n",
       "      <th>titulo</th>\n",
       "      <th>estadoTitulo</th>\n",
       "      <th></th>\n",
       "    </tr>\n",
       "  </thead>\n",
       "  <tbody>\n",
       "    <tr>\n",
       "      <th rowspan=\"3\" valign=\"top\">Doctorado</th>\n",
       "      <th>Abandonado</th>\n",
       "      <td>15</td>\n",
       "    </tr>\n",
       "    <tr>\n",
       "      <th>En Curso</th>\n",
       "      <td>94</td>\n",
       "    </tr>\n",
       "    <tr>\n",
       "      <th>Graduado</th>\n",
       "      <td>105</td>\n",
       "    </tr>\n",
       "    <tr>\n",
       "      <th rowspan=\"3\" valign=\"top\">Master</th>\n",
       "      <th>Abandonado</th>\n",
       "      <td>144</td>\n",
       "    </tr>\n",
       "    <tr>\n",
       "      <th>En Curso</th>\n",
       "      <td>1519</td>\n",
       "    </tr>\n",
       "    <tr>\n",
       "      <th>Graduado</th>\n",
       "      <td>1935</td>\n",
       "    </tr>\n",
       "    <tr>\n",
       "      <th rowspan=\"3\" valign=\"top\">Otro</th>\n",
       "      <th>Abandonado</th>\n",
       "      <td>947</td>\n",
       "    </tr>\n",
       "    <tr>\n",
       "      <th>En Curso</th>\n",
       "      <td>4919</td>\n",
       "    </tr>\n",
       "    <tr>\n",
       "      <th>Graduado</th>\n",
       "      <td>18882</td>\n",
       "    </tr>\n",
       "    <tr>\n",
       "      <th rowspan=\"3\" valign=\"top\">Posgrado</th>\n",
       "      <th>Abandonado</th>\n",
       "      <td>317</td>\n",
       "    </tr>\n",
       "    <tr>\n",
       "      <th>En Curso</th>\n",
       "      <td>2239</td>\n",
       "    </tr>\n",
       "    <tr>\n",
       "      <th>Graduado</th>\n",
       "      <td>4831</td>\n",
       "    </tr>\n",
       "    <tr>\n",
       "      <th rowspan=\"3\" valign=\"top\">Secundario</th>\n",
       "      <th>Abandonado</th>\n",
       "      <td>3156</td>\n",
       "    </tr>\n",
       "    <tr>\n",
       "      <th>En Curso</th>\n",
       "      <td>3995</td>\n",
       "    </tr>\n",
       "    <tr>\n",
       "      <th>Graduado</th>\n",
       "      <td>103105</td>\n",
       "    </tr>\n",
       "    <tr>\n",
       "      <th rowspan=\"3\" valign=\"top\">Terciario/Técnico</th>\n",
       "      <th>Abandonado</th>\n",
       "      <td>5692</td>\n",
       "    </tr>\n",
       "    <tr>\n",
       "      <th>En Curso</th>\n",
       "      <td>15032</td>\n",
       "    </tr>\n",
       "    <tr>\n",
       "      <th>Graduado</th>\n",
       "      <td>27009</td>\n",
       "    </tr>\n",
       "    <tr>\n",
       "      <th rowspan=\"3\" valign=\"top\">Universitario</th>\n",
       "      <th>Abandonado</th>\n",
       "      <td>14955</td>\n",
       "    </tr>\n",
       "    <tr>\n",
       "      <th>En Curso</th>\n",
       "      <td>50733</td>\n",
       "    </tr>\n",
       "    <tr>\n",
       "      <th>Graduado</th>\n",
       "      <td>38607</td>\n",
       "    </tr>\n",
       "  </tbody>\n",
       "</table>\n",
       "</div>"
      ],
      "text/plain": [
       "                                cantidad\n",
       "titulo            estadoTitulo          \n",
       "Doctorado         Abandonado          15\n",
       "                  En Curso            94\n",
       "                  Graduado           105\n",
       "Master            Abandonado         144\n",
       "                  En Curso          1519\n",
       "                  Graduado          1935\n",
       "Otro              Abandonado         947\n",
       "                  En Curso          4919\n",
       "                  Graduado         18882\n",
       "Posgrado          Abandonado         317\n",
       "                  En Curso          2239\n",
       "                  Graduado          4831\n",
       "Secundario        Abandonado        3156\n",
       "                  En Curso          3995\n",
       "                  Graduado        103105\n",
       "Terciario/Técnico Abandonado        5692\n",
       "                  En Curso         15032\n",
       "                  Graduado         27009\n",
       "Universitario     Abandonado       14955\n",
       "                  En Curso         50733\n",
       "                  Graduado         38607"
      ]
     },
     "execution_count": 158,
     "metadata": {},
     "output_type": "execute_result"
    }
   ],
   "source": [
    "Postulaciones_Estado_Promedio = Postulaciones_Estudios\n",
    "Postulaciones_Estado_Promedio = Postulaciones_Estado_Promedio.groupby(['titulo','estadoTitulo']).agg({'cantidad':'count'})\n",
    "Postulaciones_Estado_Promedio"
   ]
  },
  {
   "cell_type": "code",
   "execution_count": 159,
   "metadata": {},
   "outputs": [],
   "source": [
    "Postulaciones_Estado_Promedio= Postulaciones_Estado_Promedio.groupby(level=0).apply(lambda x: 100 * x / int(x.sum()))"
   ]
  },
  {
   "cell_type": "code",
   "execution_count": 160,
   "metadata": {},
   "outputs": [],
   "source": [
    "Postulaciones_Estado_Promedio= Postulaciones_Estado_Promedio.reset_index()"
   ]
  },
  {
   "cell_type": "code",
   "execution_count": 161,
   "metadata": {},
   "outputs": [
    {
     "data": {
      "text/html": [
       "<div>\n",
       "<style scoped>\n",
       "    .dataframe tbody tr th:only-of-type {\n",
       "        vertical-align: middle;\n",
       "    }\n",
       "\n",
       "    .dataframe tbody tr th {\n",
       "        vertical-align: top;\n",
       "    }\n",
       "\n",
       "    .dataframe thead th {\n",
       "        text-align: right;\n",
       "    }\n",
       "</style>\n",
       "<table border=\"1\" class=\"dataframe\">\n",
       "  <thead>\n",
       "    <tr style=\"text-align: right;\">\n",
       "      <th></th>\n",
       "      <th>titulo</th>\n",
       "      <th>estadoTitulo</th>\n",
       "      <th>cantidad</th>\n",
       "    </tr>\n",
       "  </thead>\n",
       "  <tbody>\n",
       "    <tr>\n",
       "      <th>0</th>\n",
       "      <td>Doctorado</td>\n",
       "      <td>Abandonado</td>\n",
       "      <td>7.009346</td>\n",
       "    </tr>\n",
       "    <tr>\n",
       "      <th>1</th>\n",
       "      <td>Doctorado</td>\n",
       "      <td>En Curso</td>\n",
       "      <td>43.925234</td>\n",
       "    </tr>\n",
       "    <tr>\n",
       "      <th>2</th>\n",
       "      <td>Doctorado</td>\n",
       "      <td>Graduado</td>\n",
       "      <td>49.065421</td>\n",
       "    </tr>\n",
       "    <tr>\n",
       "      <th>3</th>\n",
       "      <td>Master</td>\n",
       "      <td>Abandonado</td>\n",
       "      <td>4.002223</td>\n",
       "    </tr>\n",
       "    <tr>\n",
       "      <th>4</th>\n",
       "      <td>Master</td>\n",
       "      <td>En Curso</td>\n",
       "      <td>42.217899</td>\n",
       "    </tr>\n",
       "    <tr>\n",
       "      <th>5</th>\n",
       "      <td>Master</td>\n",
       "      <td>Graduado</td>\n",
       "      <td>53.779878</td>\n",
       "    </tr>\n",
       "    <tr>\n",
       "      <th>6</th>\n",
       "      <td>Otro</td>\n",
       "      <td>Abandonado</td>\n",
       "      <td>3.826572</td>\n",
       "    </tr>\n",
       "    <tr>\n",
       "      <th>7</th>\n",
       "      <td>Otro</td>\n",
       "      <td>En Curso</td>\n",
       "      <td>19.876354</td>\n",
       "    </tr>\n",
       "    <tr>\n",
       "      <th>8</th>\n",
       "      <td>Otro</td>\n",
       "      <td>Graduado</td>\n",
       "      <td>76.297075</td>\n",
       "    </tr>\n",
       "    <tr>\n",
       "      <th>9</th>\n",
       "      <td>Posgrado</td>\n",
       "      <td>Abandonado</td>\n",
       "      <td>4.291323</td>\n",
       "    </tr>\n",
       "    <tr>\n",
       "      <th>10</th>\n",
       "      <td>Posgrado</td>\n",
       "      <td>En Curso</td>\n",
       "      <td>30.310004</td>\n",
       "    </tr>\n",
       "    <tr>\n",
       "      <th>11</th>\n",
       "      <td>Posgrado</td>\n",
       "      <td>Graduado</td>\n",
       "      <td>65.398673</td>\n",
       "    </tr>\n",
       "    <tr>\n",
       "      <th>12</th>\n",
       "      <td>Secundario</td>\n",
       "      <td>Abandonado</td>\n",
       "      <td>2.862429</td>\n",
       "    </tr>\n",
       "    <tr>\n",
       "      <th>13</th>\n",
       "      <td>Secundario</td>\n",
       "      <td>En Curso</td>\n",
       "      <td>3.623386</td>\n",
       "    </tr>\n",
       "    <tr>\n",
       "      <th>14</th>\n",
       "      <td>Secundario</td>\n",
       "      <td>Graduado</td>\n",
       "      <td>93.514185</td>\n",
       "    </tr>\n",
       "    <tr>\n",
       "      <th>15</th>\n",
       "      <td>Terciario/Técnico</td>\n",
       "      <td>Abandonado</td>\n",
       "      <td>11.924664</td>\n",
       "    </tr>\n",
       "    <tr>\n",
       "      <th>16</th>\n",
       "      <td>Terciario/Técnico</td>\n",
       "      <td>En Curso</td>\n",
       "      <td>31.491840</td>\n",
       "    </tr>\n",
       "    <tr>\n",
       "      <th>17</th>\n",
       "      <td>Terciario/Técnico</td>\n",
       "      <td>Graduado</td>\n",
       "      <td>56.583496</td>\n",
       "    </tr>\n",
       "    <tr>\n",
       "      <th>18</th>\n",
       "      <td>Universitario</td>\n",
       "      <td>Abandonado</td>\n",
       "      <td>14.339134</td>\n",
       "    </tr>\n",
       "    <tr>\n",
       "      <th>19</th>\n",
       "      <td>Universitario</td>\n",
       "      <td>En Curso</td>\n",
       "      <td>48.643751</td>\n",
       "    </tr>\n",
       "    <tr>\n",
       "      <th>20</th>\n",
       "      <td>Universitario</td>\n",
       "      <td>Graduado</td>\n",
       "      <td>37.017115</td>\n",
       "    </tr>\n",
       "  </tbody>\n",
       "</table>\n",
       "</div>"
      ],
      "text/plain": [
       "               titulo estadoTitulo   cantidad\n",
       "0           Doctorado   Abandonado   7.009346\n",
       "1           Doctorado     En Curso  43.925234\n",
       "2           Doctorado     Graduado  49.065421\n",
       "3              Master   Abandonado   4.002223\n",
       "4              Master     En Curso  42.217899\n",
       "5              Master     Graduado  53.779878\n",
       "6                Otro   Abandonado   3.826572\n",
       "7                Otro     En Curso  19.876354\n",
       "8                Otro     Graduado  76.297075\n",
       "9            Posgrado   Abandonado   4.291323\n",
       "10           Posgrado     En Curso  30.310004\n",
       "11           Posgrado     Graduado  65.398673\n",
       "12         Secundario   Abandonado   2.862429\n",
       "13         Secundario     En Curso   3.623386\n",
       "14         Secundario     Graduado  93.514185\n",
       "15  Terciario/Técnico   Abandonado  11.924664\n",
       "16  Terciario/Técnico     En Curso  31.491840\n",
       "17  Terciario/Técnico     Graduado  56.583496\n",
       "18      Universitario   Abandonado  14.339134\n",
       "19      Universitario     En Curso  48.643751\n",
       "20      Universitario     Graduado  37.017115"
      ]
     },
     "execution_count": 161,
     "metadata": {},
     "output_type": "execute_result"
    }
   ],
   "source": [
    "Postulaciones_Estado_Promedio"
   ]
  },
  {
   "cell_type": "code",
   "execution_count": 162,
   "metadata": {},
   "outputs": [],
   "source": [
    "Postulaciones_Graduados_Promedio= Postulaciones_Estado_Promedio.loc[Postulaciones_Estado_Promedio['estadoTitulo']=='Graduado']"
   ]
  },
  {
   "cell_type": "code",
   "execution_count": 163,
   "metadata": {},
   "outputs": [
    {
     "data": {
      "text/html": [
       "<div>\n",
       "<style scoped>\n",
       "    .dataframe tbody tr th:only-of-type {\n",
       "        vertical-align: middle;\n",
       "    }\n",
       "\n",
       "    .dataframe tbody tr th {\n",
       "        vertical-align: top;\n",
       "    }\n",
       "\n",
       "    .dataframe thead th {\n",
       "        text-align: right;\n",
       "    }\n",
       "</style>\n",
       "<table border=\"1\" class=\"dataframe\">\n",
       "  <thead>\n",
       "    <tr style=\"text-align: right;\">\n",
       "      <th></th>\n",
       "      <th>estadoTitulo</th>\n",
       "      <th>cantidad</th>\n",
       "    </tr>\n",
       "    <tr>\n",
       "      <th>titulo</th>\n",
       "      <th></th>\n",
       "      <th></th>\n",
       "    </tr>\n",
       "  </thead>\n",
       "  <tbody>\n",
       "    <tr>\n",
       "      <th>Doctorado</th>\n",
       "      <td>Graduado</td>\n",
       "      <td>49.065421</td>\n",
       "    </tr>\n",
       "    <tr>\n",
       "      <th>Master</th>\n",
       "      <td>Graduado</td>\n",
       "      <td>53.779878</td>\n",
       "    </tr>\n",
       "    <tr>\n",
       "      <th>Otro</th>\n",
       "      <td>Graduado</td>\n",
       "      <td>76.297075</td>\n",
       "    </tr>\n",
       "    <tr>\n",
       "      <th>Posgrado</th>\n",
       "      <td>Graduado</td>\n",
       "      <td>65.398673</td>\n",
       "    </tr>\n",
       "    <tr>\n",
       "      <th>Secundario</th>\n",
       "      <td>Graduado</td>\n",
       "      <td>93.514185</td>\n",
       "    </tr>\n",
       "    <tr>\n",
       "      <th>Terciario/Técnico</th>\n",
       "      <td>Graduado</td>\n",
       "      <td>56.583496</td>\n",
       "    </tr>\n",
       "    <tr>\n",
       "      <th>Universitario</th>\n",
       "      <td>Graduado</td>\n",
       "      <td>37.017115</td>\n",
       "    </tr>\n",
       "  </tbody>\n",
       "</table>\n",
       "</div>"
      ],
      "text/plain": [
       "                  estadoTitulo   cantidad\n",
       "titulo                                   \n",
       "Doctorado             Graduado  49.065421\n",
       "Master                Graduado  53.779878\n",
       "Otro                  Graduado  76.297075\n",
       "Posgrado              Graduado  65.398673\n",
       "Secundario            Graduado  93.514185\n",
       "Terciario/Técnico     Graduado  56.583496\n",
       "Universitario         Graduado  37.017115"
      ]
     },
     "execution_count": 163,
     "metadata": {},
     "output_type": "execute_result"
    }
   ],
   "source": [
    "Postulaciones_Graduados_Promedio = Postulaciones_Graduados_Promedio.set_index('titulo')\n",
    "Postulaciones_Graduados_Promedio"
   ]
  },
  {
   "cell_type": "code",
   "execution_count": 164,
   "metadata": {},
   "outputs": [],
   "source": [
    "Postulaciones_Graduados_Promedio= Postulaciones_Graduados_Promedio.sort_values(by='cantidad')"
   ]
  },
  {
   "cell_type": "code",
   "execution_count": 165,
   "metadata": {
    "scrolled": true
   },
   "outputs": [
    {
     "data": {
      "text/plain": [
       "<matplotlib.axes._subplots.AxesSubplot at 0x7f4aa924a828>"
      ]
     },
     "execution_count": 165,
     "metadata": {},
     "output_type": "execute_result"
    },
    {
     "data": {
      "image/png": "[encoded data removed]",
      "text/plain": [
       "<matplotlib.figure.Figure at 0x7f4aa9258860>"
      ]
     },
     "metadata": {},
     "output_type": "display_data"
    }
   ],
   "source": [
    "Postulaciones_Graduados_Promedio.plot(kind='barh')"
   ]
  },
  {
   "cell_type": "code",
   "execution_count": null,
   "metadata": {},
   "outputs": [],
   "source": []
  },
  {
   "cell_type": "code",
   "execution_count": null,
   "metadata": {},
   "outputs": [],
   "source": []
  },
  {
   "cell_type": "code",
   "execution_count": null,
   "metadata": {},
   "outputs": [],
   "source": []
  }
 ],
 "metadata": {
  "kernelspec": {
   "display_name": "Python 3",
   "language": "python",
   "name": "python3"
  },
  "language_info": {
   "codemirror_mode": {
    "name": "ipython",
    "version": 3
   },
   "file_extension": ".py",
   "mimetype": "text/x-python",
   "name": "python",
   "nbconvert_exporter": "python",
   "pygments_lexer": "ipython3",
   "version": "3.6.4"
  }
 },
 "nbformat": 4,
 "nbformat_minor": 2
}
