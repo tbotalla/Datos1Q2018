{
 "cells": [
  {
   "cell_type": "raw",
   "metadata": {},
   "source": [
    "- Analisis de los primeros 130 caracteres/25 palabras (son los que se ven en la mini descripcion en zona jobs antes de clickear un aviso) de la descripcion (sin html) para ver cuales son las palabras mas relevantes a la hora de postularse a un aviso."
   ]
  },
  {
   "cell_type": "code",
   "execution_count": 17,
   "metadata": {},
   "outputs": [],
   "source": [
    "import numpy as np \n",
    "import pandas as pd\n",
    "import datetime\n",
    "import calendar\n",
    "import matplotlib.pyplot as plt\n",
    "import seaborn as sns\n",
    "%matplotlib inline"
   ]
  },
  {
   "cell_type": "code",
   "execution_count": 18,
   "metadata": {},
   "outputs": [],
   "source": [
    "avisosDetalle = pd.read_csv('../data/datos_navent_fiuba/fiuba_6_avisos_detalle.csv')"
   ]
  },
  {
   "cell_type": "code",
   "execution_count": 19,
   "metadata": {},
   "outputs": [
    {
     "name": "stdout",
     "output_type": "stream",
     "text": [
      "<class 'pandas.core.frame.DataFrame'>\n",
      "RangeIndex: 13534 entries, 0 to 13533\n",
      "Data columns (total 11 columns):\n",
      "idaviso                 13534 non-null int64\n",
      "idpais                  13534 non-null int64\n",
      "titulo                  13534 non-null object\n",
      "descripcion             13534 non-null object\n",
      "nombre_zona             13534 non-null object\n",
      "ciudad                  47 non-null object\n",
      "mapacalle               872 non-null object\n",
      "tipo_de_trabajo         13534 non-null object\n",
      "nivel_laboral           13534 non-null object\n",
      "nombre_area             13534 non-null object\n",
      "denominacion_empresa    13529 non-null object\n",
      "dtypes: int64(2), object(9)\n",
      "memory usage: 1.1+ MB\n"
     ]
    }
   ],
   "source": [
    "avisosDetalle.info()"
   ]
  },
  {
   "cell_type": "code",
   "execution_count": 20,
   "metadata": {},
   "outputs": [
    {
     "data": {
      "text/plain": [
       "Index(['idaviso', 'idpais', 'titulo', 'descripcion', 'nombre_zona', 'ciudad',\n",
       "       'mapacalle', 'tipo_de_trabajo', 'nivel_laboral', 'nombre_area',\n",
       "       'denominacion_empresa'],\n",
       "      dtype='object')"
      ]
     },
     "execution_count": 20,
     "metadata": {},
     "output_type": "execute_result"
    }
   ],
   "source": [
    "avisosDetalle.columns"
   ]
  },
  {
   "cell_type": "markdown",
   "metadata": {},
   "source": [
    "## Modalidades de trabajo (tiempo)"
   ]
  },
  {
   "cell_type": "code",
   "execution_count": 183,
   "metadata": {},
   "outputs": [
    {
     "data": {
      "text/plain": [
       "Full-time          12339\n",
       "Part-time            863\n",
       "Teletrabajo          110\n",
       "Pasantia              63\n",
       "Por Horas             63\n",
       "Temporario            42\n",
       "Por Contrato          37\n",
       "Fines de Semana       14\n",
       "Primer empleo          3\n",
       "Name: tipo_de_trabajo, dtype: int64"
      ]
     },
     "execution_count": 183,
     "metadata": {},
     "output_type": "execute_result"
    }
   ],
   "source": [
    "avisosDetalle.tipo_de_trabajo.value_counts()"
   ]
  },
  {
   "cell_type": "code",
   "execution_count": 184,
   "metadata": {},
   "outputs": [
    {
     "data": {
      "text/plain": [
       "<Container object of 9 artists>"
      ]
     },
     "execution_count": 184,
     "metadata": {},
     "output_type": "execute_result"
    },
    {
     "data": {
      "image/png": "[encoded data removed]",
      "text/plain": [
       "<matplotlib.figure.Figure at 0x7f8850c4df60>"
      ]
     },
     "metadata": {},
     "output_type": "display_data"
    }
   ],
   "source": [
    "modalidadesTrabajo = ['Full-time','Part-time','Teletrabajo','Pasantia','Por Horas','Temporario','Por Contrato','Fines de Semana','Primer empleo']\n",
    "num_items=len(modalidadesTrabajo)\n",
    "plt.figure(figsize=(18,8))\n",
    "margin = 0.05\n",
    "width = 7*(1.-1*margin)/num_items\n",
    "plt.suptitle('Avisos segun modalidad de trabajo', fontsize=18)\n",
    "plt.xlabel('Modalidad', fontsize=16)\n",
    "plt.ylabel('Cantidad', fontsize=16)\n",
    "plt.bar(modalidadesTrabajo, avisosDetalle.tipo_de_trabajo.value_counts(), width, color=\"cadetblue\")\n"
   ]
  },
  {
   "cell_type": "raw",
   "metadata": {},
   "source": [
    "# hacer grafico porcentajes"
   ]
  },
  {
   "cell_type": "markdown",
   "metadata": {},
   "source": [
    "## Zona de los avisos"
   ]
  },
  {
   "cell_type": "code",
   "execution_count": 23,
   "metadata": {},
   "outputs": [
    {
     "data": {
      "text/html": [
       "<div>\n",
       "<style scoped>\n",
       "    .dataframe tbody tr th:only-of-type {\n",
       "        vertical-align: middle;\n",
       "    }\n",
       "\n",
       "    .dataframe tbody tr th {\n",
       "        vertical-align: top;\n",
       "    }\n",
       "\n",
       "    .dataframe thead th {\n",
       "        text-align: right;\n",
       "    }\n",
       "</style>\n",
       "<table border=\"1\" class=\"dataframe\">\n",
       "  <thead>\n",
       "    <tr style=\"text-align: right;\">\n",
       "      <th></th>\n",
       "      <th>idaviso</th>\n",
       "      <th>idpais</th>\n",
       "      <th>titulo</th>\n",
       "      <th>descripcion</th>\n",
       "      <th>ciudad</th>\n",
       "      <th>mapacalle</th>\n",
       "      <th>tipo_de_trabajo</th>\n",
       "      <th>nivel_laboral</th>\n",
       "      <th>nombre_area</th>\n",
       "      <th>denominacion_empresa</th>\n",
       "    </tr>\n",
       "    <tr>\n",
       "      <th>nombre_zona</th>\n",
       "      <th></th>\n",
       "      <th></th>\n",
       "      <th></th>\n",
       "      <th></th>\n",
       "      <th></th>\n",
       "      <th></th>\n",
       "      <th></th>\n",
       "      <th></th>\n",
       "      <th></th>\n",
       "      <th></th>\n",
       "    </tr>\n",
       "  </thead>\n",
       "  <tbody>\n",
       "    <tr>\n",
       "      <th>Buenos Aires (fuera de GBA)</th>\n",
       "      <td>2</td>\n",
       "      <td>2</td>\n",
       "      <td>2</td>\n",
       "      <td>2</td>\n",
       "      <td>0</td>\n",
       "      <td>0</td>\n",
       "      <td>2</td>\n",
       "      <td>2</td>\n",
       "      <td>2</td>\n",
       "      <td>2</td>\n",
       "    </tr>\n",
       "    <tr>\n",
       "      <th>Capital Federal</th>\n",
       "      <td>876</td>\n",
       "      <td>876</td>\n",
       "      <td>876</td>\n",
       "      <td>876</td>\n",
       "      <td>4</td>\n",
       "      <td>871</td>\n",
       "      <td>876</td>\n",
       "      <td>876</td>\n",
       "      <td>876</td>\n",
       "      <td>876</td>\n",
       "    </tr>\n",
       "    <tr>\n",
       "      <th>GBA Oeste</th>\n",
       "      <td>2</td>\n",
       "      <td>2</td>\n",
       "      <td>2</td>\n",
       "      <td>2</td>\n",
       "      <td>0</td>\n",
       "      <td>1</td>\n",
       "      <td>2</td>\n",
       "      <td>2</td>\n",
       "      <td>2</td>\n",
       "      <td>2</td>\n",
       "    </tr>\n",
       "    <tr>\n",
       "      <th>Gran Buenos Aires</th>\n",
       "      <td>12654</td>\n",
       "      <td>12654</td>\n",
       "      <td>12654</td>\n",
       "      <td>12654</td>\n",
       "      <td>43</td>\n",
       "      <td>0</td>\n",
       "      <td>12654</td>\n",
       "      <td>12654</td>\n",
       "      <td>12654</td>\n",
       "      <td>12649</td>\n",
       "    </tr>\n",
       "  </tbody>\n",
       "</table>\n",
       "</div>"
      ],
      "text/plain": [
       "                             idaviso  idpais  titulo  descripcion  ciudad  \\\n",
       "nombre_zona                                                                 \n",
       "Buenos Aires (fuera de GBA)        2       2       2            2       0   \n",
       "Capital Federal                  876     876     876          876       4   \n",
       "GBA Oeste                          2       2       2            2       0   \n",
       "Gran Buenos Aires              12654   12654   12654        12654      43   \n",
       "\n",
       "                             mapacalle  tipo_de_trabajo  nivel_laboral  \\\n",
       "nombre_zona                                                              \n",
       "Buenos Aires (fuera de GBA)          0                2              2   \n",
       "Capital Federal                    871              876            876   \n",
       "GBA Oeste                            1                2              2   \n",
       "Gran Buenos Aires                    0            12654          12654   \n",
       "\n",
       "                             nombre_area  denominacion_empresa  \n",
       "nombre_zona                                                     \n",
       "Buenos Aires (fuera de GBA)            2                     2  \n",
       "Capital Federal                      876                   876  \n",
       "GBA Oeste                              2                     2  \n",
       "Gran Buenos Aires                  12654                 12649  "
      ]
     },
     "execution_count": 23,
     "metadata": {},
     "output_type": "execute_result"
    }
   ],
   "source": [
    "avisosDetalle.groupby('nombre_zona').count()"
   ]
  },
  {
   "cell_type": "markdown",
   "metadata": {},
   "source": [
    "### TODO: visu"
   ]
  },
  {
   "cell_type": "code",
   "execution_count": 24,
   "metadata": {},
   "outputs": [
    {
     "data": {
      "text/plain": [
       "idaviso                 872\n",
       "idpais                  872\n",
       "titulo                  872\n",
       "descripcion             872\n",
       "nombre_zona             872\n",
       "ciudad                    1\n",
       "mapacalle               872\n",
       "tipo_de_trabajo         872\n",
       "nivel_laboral           872\n",
       "nombre_area             872\n",
       "denominacion_empresa    872\n",
       "dtype: int64"
      ]
     },
     "execution_count": 24,
     "metadata": {},
     "output_type": "execute_result"
    }
   ],
   "source": [
    "avisosDetalle.loc[avisosDetalle['mapacalle'].notnull()].count()"
   ]
  },
  {
   "cell_type": "code",
   "execution_count": null,
   "metadata": {},
   "outputs": [],
   "source": []
  },
  {
   "cell_type": "markdown",
   "metadata": {},
   "source": [
    "## Analisis primeros caracteres de la descripcion"
   ]
  },
  {
   "cell_type": "raw",
   "metadata": {},
   "source": [
    "Por cada aviso se agrega una columna con las palabras relevantes que se leen en la vista previa de zona jobs.\n",
    "Puede llegar a ser util despues hacer esto mismo con la descripcion entera."
   ]
  },
  {
   "cell_type": "code",
   "execution_count": 180,
   "metadata": {},
   "outputs": [],
   "source": [
    "stopwords = ['a', 'al', 'ante', 'aquel', 'bien', 'como', 'con', 'conseguir', 'cual', 'de', 'del', \n",
    "             'desde', 'donde', 'el', 'ella', 'en', 'es', 'encima', 'entonces', 'entre', 'era', 'esta', 'estás', 'estas' 'estan', \n",
    "             'están', 'etc', 'fue', 'ha', 'hacen', 'hacemos', 'hacer', 'hasta', 'incluso', 'ir', 'jamas', \n",
    "             'jamás', 'la', 'las', 'lo', 'los', 'más', 'me', 'menos', 'mi', 'mis', 'misma', 'mucha', 'muchas', \n",
    "             'mucho', 'muchos', 'muy', 'ni', 'no', 'nos', 'nosotros', 'nuestra', 'para', 'que', 'qué', 'sabe', 'saber', 'se', \n",
    "             'según', 'ser', 'si', 'sí', 'siendo', 'sin', 'sobre', 'solo', 'somos', 'te', 'tiene', 'tus', 'tu', 'uso', \n",
    "             'un', 'vaya', 'y']\n",
    "\n",
    "invalid_characters = [',', ':', '.', ';', '', '?', '¿', '!', '¡', '(', ')', '0', '1', '2', '3', '4', '5', '6', '7', '8', '9', '<', '>']\n",
    "\n",
    "# Mejorar que en algunos casos ej: <p>asd<p>qwe va a traer la palabra asdqwe\n",
    "def clean_description(row):  \n",
    "    clean_regex = re.compile('<.*?>')\n",
    "    row['descripcion_top_words_small'] = re.sub(clean_regex, '', row['descripcion'])\n",
    "\n",
    "    # Se conservan los primeros 130 caracteres que son los que se ven en la vista previa\n",
    "    # Descarto este enfoque porque se pierden algunas palabras que quedan partidas en la mitad\n",
    "    #row['descripcion'] = row['descripcion'][0:130] \n",
    "    \n",
    "    # En cambio nos quedamos con las primeras n palabras\n",
    "    words = row['descripcion_top_words_small'].split()\n",
    "    words = words[:25]\n",
    "    \n",
    "    # Se filtran las stop words y los simbolos\n",
    "    valid_words = []\n",
    "    for word in words:\n",
    "        for w in stopwords:\n",
    "            if (word.lower() == w):\n",
    "                word = word.lower().replace(w, '')\n",
    "        for inv in invalid_characters:\n",
    "            word = word.lower().replace(inv, '')\n",
    "            \n",
    "        valid_words.append(word)\n",
    "        \n",
    "    row['descripcion_top_words_small'] = set(valid_words) \n",
    "    return row"
   ]
  },
  {
   "cell_type": "code",
   "execution_count": 181,
   "metadata": {},
   "outputs": [],
   "source": [
    "detalle_avisos_limpio = avisosDetalle.apply(lambda row: clean_description(row), axis=1)"
   ]
  },
  {
   "cell_type": "code",
   "execution_count": 182,
   "metadata": {},
   "outputs": [
    {
     "data": {
      "text/plain": [
       "{'',\n",
       " 'cruz',\n",
       " 'encontramos',\n",
       " 'incorporar',\n",
       " 'minera',\n",
       " 'mismo',\n",
       " 'operación',\n",
       " 'paramedico',\n",
       " 'proceso',\n",
       " 'provincia',\n",
       " 'puede',\n",
       " 'santa',\n",
       " 'selección',\n",
       " 'ubicada'}"
      ]
     },
     "execution_count": 182,
     "metadata": {},
     "output_type": "execute_result"
    }
   ],
   "source": [
    "detalle_avisos_limpio['descripcion_top_words_small'][10]"
   ]
  },
  {
   "cell_type": "code",
   "execution_count": null,
   "metadata": {},
   "outputs": [],
   "source": []
  },
  {
   "cell_type": "code",
   "execution_count": null,
   "metadata": {},
   "outputs": [],
   "source": []
  }
 ],
 "metadata": {
  "kernelspec": {
   "display_name": "Python 3",
   "language": "python",
   "name": "python3"
  },
  "language_info": {
   "codemirror_mode": {
    "name": "ipython",
    "version": 3
   },
   "file_extension": ".py",
   "mimetype": "text/x-python",
   "name": "python",
   "nbconvert_exporter": "python",
   "pygments_lexer": "ipython3",
   "version": "3.6.4"
  }
 },
 "nbformat": 4,
 "nbformat_minor": 2
}
