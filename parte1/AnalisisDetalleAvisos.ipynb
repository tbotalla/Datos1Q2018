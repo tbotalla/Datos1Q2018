{
 "cells": [
  {
   "cell_type": "raw",
   "metadata": {},
   "source": [
    "- Analisis de los primeros 130 caracteres/25 palabras (son los que se ven en la mini descripcion en zona jobs antes de clickear un aviso) de la descripcion (sin html) para ver cuales son las palabras mas relevantes a la hora de postularse a un aviso. MERGEAR CON POSTULACIONES/VISTAS\n",
    "- Analisis de titulos mas frecuentes\n",
    "- Modalidades de trabajo(tiempo)_\n",
    "- Seniority de los avisos_\n",
    "- Zona de los avisos_\n",
    "- Areas de especializacion mas buscadas en los avisos\n",
    "- Empresas?"
   ]
  },
  {
   "cell_type": "code",
   "execution_count": 111,
   "metadata": {},
   "outputs": [],
   "source": [
    "import numpy as np \n",
    "import pandas as pd\n",
    "import datetime\n",
    "import calendar\n",
    "import matplotlib.pyplot as plt\n",
    "import seaborn as sns\n",
    "import re\n",
    "\n",
    "%matplotlib inline"
   ]
  },
  {
   "cell_type": "code",
   "execution_count": 84,
   "metadata": {},
   "outputs": [],
   "source": [
    "avisos_detalle = pd.read_csv('../data/datos_navent_fiuba/fiuba_6_avisos_detalle.csv')"
   ]
  },
  {
   "cell_type": "code",
   "execution_count": 85,
   "metadata": {},
   "outputs": [
    {
     "name": "stdout",
     "output_type": "stream",
     "text": [
      "<class 'pandas.core.frame.DataFrame'>\n",
      "RangeIndex: 13534 entries, 0 to 13533\n",
      "Data columns (total 11 columns):\n",
      "idaviso                 13534 non-null int64\n",
      "idpais                  13534 non-null int64\n",
      "titulo                  13534 non-null object\n",
      "descripcion             13534 non-null object\n",
      "nombre_zona             13534 non-null object\n",
      "ciudad                  47 non-null object\n",
      "mapacalle               872 non-null object\n",
      "tipo_de_trabajo         13534 non-null object\n",
      "nivel_laboral           13534 non-null object\n",
      "nombre_area             13534 non-null object\n",
      "denominacion_empresa    13529 non-null object\n",
      "dtypes: int64(2), object(9)\n",
      "memory usage: 1.1+ MB\n"
     ]
    }
   ],
   "source": [
    "avisos_detalle.info()"
   ]
  },
  {
   "cell_type": "code",
   "execution_count": 86,
   "metadata": {},
   "outputs": [
    {
     "data": {
      "text/plain": [
       "Index(['idaviso', 'idpais', 'titulo', 'descripcion', 'nombre_zona', 'ciudad',\n",
       "       'mapacalle', 'tipo_de_trabajo', 'nivel_laboral', 'nombre_area',\n",
       "       'denominacion_empresa'],\n",
       "      dtype='object')"
      ]
     },
     "execution_count": 86,
     "metadata": {},
     "output_type": "execute_result"
    }
   ],
   "source": [
    "avisos_detalle.columns"
   ]
  },
  {
   "cell_type": "markdown",
   "metadata": {},
   "source": [
    "### Limpieza"
   ]
  },
  {
   "cell_type": "code",
   "execution_count": 87,
   "metadata": {},
   "outputs": [
    {
     "data": {
      "text/plain": [
       "1    13534\n",
       "Name: idpais, dtype: int64"
      ]
     },
     "execution_count": 87,
     "metadata": {},
     "output_type": "execute_result"
    }
   ],
   "source": [
    "avisos_detalle['idpais'].value_counts() "
   ]
  },
  {
   "cell_type": "code",
   "execution_count": 88,
   "metadata": {},
   "outputs": [
    {
     "data": {
      "text/plain": [
       "Index(['idaviso', 'titulo', 'descripcion', 'nombre_zona', 'ciudad',\n",
       "       'mapacalle', 'tipo_de_trabajo', 'nivel_laboral', 'nombre_area',\n",
       "       'denominacion_empresa'],\n",
       "      dtype='object')"
      ]
     },
     "execution_count": 88,
     "metadata": {},
     "output_type": "execute_result"
    }
   ],
   "source": [
    "# Solo hay un valor de pais para todos los registros, no es un dato relevante.\n",
    "avisos_detalle = avisos_detalle.drop(['idpais'], axis=1)\n",
    "avisos_detalle.columns"
   ]
  },
  {
   "cell_type": "raw",
   "metadata": {},
   "source": [
    "Algunas publicaciones tienen datos de la dirección de trabajo, analizamos cuantas son:"
   ]
  },
  {
   "cell_type": "code",
   "execution_count": 89,
   "metadata": {},
   "outputs": [
    {
     "data": {
      "text/plain": [
       "SARMIENTO 1937                               43\n",
       "Microcentro                                  30\n",
       "Buenos Aires                                 24\n",
       "Palermo                                      23\n",
       "Barracas                                     18\n",
       "Puerto Madero                                15\n",
       "Belgrano                                     14\n",
       "Reconquista 865                              13\n",
       "retiro                                       12\n",
       "Parque Patricios                             10\n",
       "Recoleta                                     10\n",
       "nuñez                                         8\n",
       "saavedra                                      8\n",
       "Peron 955                                     7\n",
       "Pasaje Aguado 628                             6\n",
       "San Telmo                                     6\n",
       "Mataderos                                     6\n",
       "25 de Mayo 457 7º piso                        6\n",
       "Monserrat                                     6\n",
       "Villa Soldati                                 5\n",
       "calle 7 nº1565 e/64 y 65                      5\n",
       "Av. Libertador 6810 4º A                      5\n",
       "Amenábar 1074                                 5\n",
       "Florencio varela 3215                         4\n",
       "Lavalle 1790                                  4\n",
       "Peru 159                                      4\n",
       "México 2051                                   4\n",
       "Nicasio Oroño 1420                            4\n",
       "Buenos Aires 1480                             4\n",
       "Gral. Roca 4530                               4\n",
       "                                             ..\n",
       "Maipu 509                                     1\n",
       "Av Santa Fe 2822                              1\n",
       "Tte. Gral. Perón 1531 1 A                     1\n",
       "Lavalle 710, San Nicolás, Capital Federal     1\n",
       "Alicia Moreau de Justo 50                     1\n",
       "Av Dr. Ricardo Balbín 4124                    1\n",
       "Av. Lafuente 2946 - CABA                      1\n",
       "Vicente López                                 1\n",
       "Arenales 1123                                 1\n",
       "Av. Colon 610 4°P                             1\n",
       "Ruta Nacional 9 Km 690                        1\n",
       "mercedes                                      1\n",
       "la boca                                       1\n",
       "campichuelo 553                               1\n",
       "Hipolito Vieytes 1867                         1\n",
       "LA PAMPA 2543                                 1\n",
       "Av. Monroe 4465                               1\n",
       "Ayacucho 722                                  1\n",
       "Balvanera                                     1\n",
       "Tres Arroyos 2835                             1\n",
       "Montes de Oca 2231                            1\n",
       "Luis de Tejeda 4000                           1\n",
       "calle 95 1249 Villa Lynch                     1\n",
       "AV. COCOMAROLA 8000                           1\n",
       "Quilmes Oeste                                 1\n",
       "Gdor. Carlos Tejedor 108                      1\n",
       "barrio la perla                               1\n",
       "Av. Chacabuco 79                              1\n",
       "Av Hipolito Irigoyen                          1\n",
       "Piñeyro 185 piso 2 oficina D                  1\n",
       "Name: mapacalle, Length: 487, dtype: int64"
      ]
     },
     "execution_count": 89,
     "metadata": {},
     "output_type": "execute_result"
    }
   ],
   "source": [
    "avisos_detalle['mapacalle'].value_counts()"
   ]
  },
  {
   "cell_type": "code",
   "execution_count": 92,
   "metadata": {},
   "outputs": [
    {
     "name": "stdout",
     "output_type": "stream",
     "text": [
      "El 93.56 % de los datos de la columna mapacalle son nulos\n"
     ]
    }
   ],
   "source": [
    "print(\"El\", round(100 * avisos_detalle['mapacalle'].isnull().sum()/len(avisos_detalle), 2), \"% de los datos de la columna mapacalle son nulos\")"
   ]
  },
  {
   "cell_type": "raw",
   "metadata": {},
   "source": [
    "Consideramos por lo tanto que este dato no es relevante para analizar dado el tamaño de la muestra."
   ]
  },
  {
   "cell_type": "code",
   "execution_count": 93,
   "metadata": {},
   "outputs": [
    {
     "data": {
      "text/plain": [
       "Index(['idaviso', 'titulo', 'descripcion', 'nombre_zona', 'ciudad',\n",
       "       'tipo_de_trabajo', 'nivel_laboral', 'nombre_area',\n",
       "       'denominacion_empresa'],\n",
       "      dtype='object')"
      ]
     },
     "execution_count": 93,
     "metadata": {},
     "output_type": "execute_result"
    }
   ],
   "source": [
    "avisos_detalle = avisos_detalle.drop(['mapacalle'], axis=1)\n",
    "avisos_detalle.columns"
   ]
  },
  {
   "cell_type": "code",
   "execution_count": 94,
   "metadata": {},
   "outputs": [
    {
     "data": {
      "text/plain": [
       "Buenos Aires                14\n",
       "Argentina                   13\n",
       "CABA                         3\n",
       "Capital Federal              2\n",
       "San Isidro                   2\n",
       "República Argentina          1\n",
       "Zárate, Campana, Escobar     1\n",
       "Mendoza                      1\n",
       "Microcentro                  1\n",
       "caba                         1\n",
       "paternal                     1\n",
       "Parque Patricios             1\n",
       "La Plata                     1\n",
       "Vicente Lopez                1\n",
       "Barracas                     1\n",
       "Tortuguitas                  1\n",
       "Buenos Aires Province        1\n",
       "Santa Rosa                   1\n",
       "Name: ciudad, dtype: int64"
      ]
     },
     "execution_count": 94,
     "metadata": {},
     "output_type": "execute_result"
    }
   ],
   "source": [
    "avisos_detalle['ciudad'].value_counts()"
   ]
  },
  {
   "cell_type": "raw",
   "metadata": {},
   "source": [
    "De igual forma podemos ver que los avisos que especifican ciudad son muy pocos, por lo tanto los excluimos del análisis."
   ]
  },
  {
   "cell_type": "code",
   "execution_count": 96,
   "metadata": {},
   "outputs": [
    {
     "data": {
      "text/plain": [
       "Index(['idaviso', 'titulo', 'descripcion', 'nombre_zona', 'tipo_de_trabajo',\n",
       "       'nivel_laboral', 'nombre_area', 'denominacion_empresa'],\n",
       "      dtype='object')"
      ]
     },
     "execution_count": 96,
     "metadata": {},
     "output_type": "execute_result"
    }
   ],
   "source": [
    "avisos_detalle = avisos_detalle.drop(['ciudad'], axis=1)\n",
    "avisos_detalle.columns"
   ]
  },
  {
   "cell_type": "markdown",
   "metadata": {},
   "source": [
    "### Seniority"
   ]
  },
  {
   "cell_type": "code",
   "execution_count": 97,
   "metadata": {},
   "outputs": [
    {
     "data": {
      "text/plain": [
       "0"
      ]
     },
     "execution_count": 97,
     "metadata": {},
     "output_type": "execute_result"
    }
   ],
   "source": [
    "avisos_detalle['nivel_laboral'].isnull().sum()"
   ]
  },
  {
   "cell_type": "raw",
   "metadata": {},
   "source": [
    "Podemos ver que todos los avisos tienen especificado el seniority pedido."
   ]
  },
  {
   "cell_type": "code",
   "execution_count": 98,
   "metadata": {},
   "outputs": [
    {
     "data": {
      "text/plain": [
       "Senior / Semi-Senior                    9407\n",
       "Junior                                  2216\n",
       "Otro                                     921\n",
       "Jefe / Supervisor / Responsable          809\n",
       "Gerencia / Alta Gerencia / Dirección     181\n",
       "Name: nivel_laboral, dtype: int64"
      ]
     },
     "execution_count": 98,
     "metadata": {},
     "output_type": "execute_result"
    }
   ],
   "source": [
    "avisos_detalle['nivel_laboral'].value_counts()"
   ]
  },
  {
   "cell_type": "raw",
   "metadata": {},
   "source": [
    "Existen 5 categorias distintas de seniority para los avisos, analizamos como se distribuyen."
   ]
  },
  {
   "cell_type": "code",
   "execution_count": 99,
   "metadata": {},
   "outputs": [
    {
     "data": {
      "text/plain": [
       "<Container object of 5 artists>"
      ]
     },
     "execution_count": 99,
     "metadata": {},
     "output_type": "execute_result"
    },
    {
     "data": {
      "image/png": "[encoded data removed]",
      "text/plain": [
       "<matplotlib.figure.Figure at 0x21107f75470>"
      ]
     },
     "metadata": {},
     "output_type": "display_data"
    }
   ],
   "source": [
    "seniorities = ['Senior / Semi-Senior','Junior','Otro','Jefe / Supervisor / Responsable','Gerencia / Alta Gerencia / Dirección']\n",
    "num_items=len(seniorities)\n",
    "plt.figure(figsize=(18,8))\n",
    "margin = 0.05\n",
    "width = 4*(1.-1*margin)/num_items\n",
    "plt.title('Seniority de los avisos', fontsize=18)\n",
    "plt.xlabel('Seniority', fontsize=16)\n",
    "plt.ylabel('Cantidad(%)', fontsize=16)\n",
    "plt.bar(seniorities, 100 * avisosDetalle.nivel_laboral.value_counts()/len(avisos_detalle), width, color=\"cadetblue\")"
   ]
  },
  {
   "cell_type": "markdown",
   "metadata": {},
   "source": [
    "### Modalidades de trabajo (tiempo)"
   ]
  },
  {
   "cell_type": "code",
   "execution_count": 100,
   "metadata": {},
   "outputs": [
    {
     "data": {
      "text/plain": [
       "0"
      ]
     },
     "execution_count": 100,
     "metadata": {},
     "output_type": "execute_result"
    }
   ],
   "source": [
    "avisos_detalle['tipo_de_trabajo'].isnull().sum()"
   ]
  },
  {
   "cell_type": "raw",
   "metadata": {},
   "source": [
    "Todos los avisos tienen descripta la modalidad de trabajo pedida."
   ]
  },
  {
   "cell_type": "code",
   "execution_count": 101,
   "metadata": {},
   "outputs": [
    {
     "data": {
      "text/plain": [
       "Full-time          12339\n",
       "Part-time            863\n",
       "Teletrabajo          110\n",
       "Pasantia              63\n",
       "Por Horas             63\n",
       "Temporario            42\n",
       "Por Contrato          37\n",
       "Fines de Semana       14\n",
       "Primer empleo          3\n",
       "Name: tipo_de_trabajo, dtype: int64"
      ]
     },
     "execution_count": 101,
     "metadata": {},
     "output_type": "execute_result"
    }
   ],
   "source": [
    "avisos_detalle['tipo_de_trabajo'].value_counts()"
   ]
  },
  {
   "cell_type": "raw",
   "metadata": {},
   "source": [
    "Existen 9 categorias de modalidad de trabajo para un aviso, analizamos su distribución."
   ]
  },
  {
   "cell_type": "code",
   "execution_count": 102,
   "metadata": {},
   "outputs": [
    {
     "data": {
      "text/plain": [
       "<Container object of 9 artists>"
      ]
     },
     "execution_count": 102,
     "metadata": {},
     "output_type": "execute_result"
    },
    {
     "data": {
      "image/png": "[encoded data removed]",
      "text/plain": [
       "<matplotlib.figure.Figure at 0x21107f85588>"
      ]
     },
     "metadata": {},
     "output_type": "display_data"
    }
   ],
   "source": [
    "modalidades_trabajo = ['Full-time','Part-time','Teletrabajo','Pasantia','Por Horas','Temporario','Por Contrato','Fines de Semana','Primer empleo']\n",
    "num_items=len(modalidades_trabajo)\n",
    "plt.figure(figsize=(18,8))\n",
    "margin = 0.05\n",
    "width = 7*(1.-1*margin)/num_items\n",
    "plt.title('Modalidad de trabajo de los avisos', fontsize=18)\n",
    "plt.xlabel('Modalidad', fontsize=16)\n",
    "plt.ylabel('Cantidad(%)', fontsize=16)\n",
    "plt.bar(modalidades_trabajo, 100 * avisosDetalle.tipo_de_trabajo.value_counts()/len(avisos_detalle), width, color=\"cadetblue\")\n"
   ]
  },
  {
   "cell_type": "markdown",
   "metadata": {},
   "source": [
    "### Zona de los avisos"
   ]
  },
  {
   "cell_type": "code",
   "execution_count": 103,
   "metadata": {},
   "outputs": [
    {
     "data": {
      "text/plain": [
       "0"
      ]
     },
     "execution_count": 103,
     "metadata": {},
     "output_type": "execute_result"
    }
   ],
   "source": [
    "avisos_detalle['nombre_zona'].isnull().sum()"
   ]
  },
  {
   "cell_type": "raw",
   "metadata": {},
   "source": [
    "Todos los avisos tienen especificada la zona, vemos la distribución de las mismas."
   ]
  },
  {
   "cell_type": "code",
   "execution_count": 142,
   "metadata": {},
   "outputs": [
    {
     "data": {
      "text/plain": [
       "Gran Buenos Aires              12654\n",
       "Capital Federal                  876\n",
       "GBA Oeste                          2\n",
       "Buenos Aires (fuera de GBA)        2\n",
       "Name: nombre_zona, dtype: int64"
      ]
     },
     "execution_count": 142,
     "metadata": {},
     "output_type": "execute_result"
    }
   ],
   "source": [
    "avisos_detalle['nombre_zona'].value_counts()"
   ]
  },
  {
   "cell_type": "code",
   "execution_count": 149,
   "metadata": {},
   "outputs": [
    {
     "data": {
      "text/plain": [
       "<Container object of 4 artists>"
      ]
     },
     "execution_count": 149,
     "metadata": {},
     "output_type": "execute_result"
    },
    {
     "data": {
      "image/png": "[encoded data removed]",
      "text/plain": [
       "<matplotlib.figure.Figure at 0x21108dc52b0>"
      ]
     },
     "metadata": {},
     "output_type": "display_data"
    }
   ],
   "source": [
    "zona_avisos = ['Buenos Aires (fuera de GBA)','Capital Federal','GBA Oeste','Gran Buenos Aires']\n",
    "num_items=len(zona_avisos)\n",
    "plt.figure(figsize=(18,8))\n",
    "margin = 0.5\n",
    "width = 5*(1.-1*margin)/num_items\n",
    "plt.title('Zona de los avisos', fontsize=18)\n",
    "plt.xlabel('Cantidad', fontsize=16)\n",
    "plt.ylabel('Zona', fontsize=16)\n",
    "plt.bar(zona_avisos, avisos_detalle.nombre_zona.value_counts(), width, color=\"cadetblue\")"
   ]
  },
  {
   "cell_type": "markdown",
   "metadata": {},
   "source": [
    "### Area de especializacion de los avisos"
   ]
  },
  {
   "cell_type": "code",
   "execution_count": 150,
   "metadata": {},
   "outputs": [
    {
     "data": {
      "text/plain": [
       "0"
      ]
     },
     "execution_count": 150,
     "metadata": {},
     "output_type": "execute_result"
    }
   ],
   "source": [
    "avisos_detalle['nombre_area'].isnull().sum()"
   ]
  },
  {
   "cell_type": "raw",
   "metadata": {},
   "source": [
    "Se puede ver que todos los avisos tienen especificado el area de especialización del aviso"
   ]
  },
  {
   "cell_type": "code",
   "execution_count": 151,
   "metadata": {},
   "outputs": [
    {
     "data": {
      "text/plain": [
       "Ventas                                   1659\n",
       "Comercial                                 983\n",
       "Administración                            901\n",
       "Producción                                821\n",
       "Programación                              576\n",
       "Contabilidad                              416\n",
       "Tecnologia / Sistemas                     388\n",
       "Atención al Cliente                       347\n",
       "Mantenimiento                             324\n",
       "Recursos Humanos                          235\n",
       "Gastronomia                               234\n",
       "Oficios y Profesiones                     209\n",
       "Soporte Técnico                           203\n",
       "Logística                                 200\n",
       "Call Center                               191\n",
       "Almacén / Depósito / Expedición           184\n",
       "Compras                                   170\n",
       "Otros                                     153\n",
       "Marketing                                 153\n",
       "Administración de Personal                152\n",
       "Recepcionista                             151\n",
       "Transporte                                148\n",
       "Mantenimiento y Limpieza                  141\n",
       "Finanzas                                  138\n",
       "Telemarketing                             138\n",
       "Tesorería                                 137\n",
       "Créditos y Cobranzas                      132\n",
       "Salud                                     127\n",
       "Desarrollo de Negocios                    126\n",
       "Medicina                                  119\n",
       "                                         ... \n",
       "Farmacia industrial                         3\n",
       "Mercadotecnia Internacional                 2\n",
       "Instrumentación                             2\n",
       "Educación especial                          2\n",
       "Ingeniería Geológica                        2\n",
       "Diseño 3D                                   2\n",
       "Dirección                                   2\n",
       "Farmacia comercial                          2\n",
       "Responsabilidad Social                      2\n",
       "Trabajo Social                              2\n",
       "Topografía                                  2\n",
       "Trabajo social                              2\n",
       "Diseño Multimedia                           2\n",
       "Data Warehousing                            2\n",
       "Otras áreas técnicas en salud               2\n",
       "Medicina Laboral                            2\n",
       "Idiomas                                     1\n",
       "Bienestar Estudiantil                       1\n",
       "Otras Especialidades médicas                1\n",
       "Exploración Minera y Petroquimica           1\n",
       "Telefonista                                 1\n",
       "Instrumentación quirúrgica                  1\n",
       "Ingeniería en Petróleo y Petroquímica       1\n",
       "Arte y Cultura                              1\n",
       "Traduccion                                  1\n",
       "Farmacia hospitalaria                       1\n",
       "Emergentología                              1\n",
       "Urbanismo                                   1\n",
       "Quimica                                     1\n",
       "Comunicaciones Externas                     1\n",
       "Name: nombre_area, Length: 173, dtype: int64"
      ]
     },
     "execution_count": 151,
     "metadata": {},
     "output_type": "execute_result"
    }
   ],
   "source": [
    "avisos_detalle['nombre_area'].value_counts()"
   ]
  },
  {
   "cell_type": "code",
   "execution_count": 152,
   "metadata": {},
   "outputs": [],
   "source": [
    "# TODO: grafico areas mas buscadas\n",
    "\n",
    "#avisos_detalle.groupby('nombre_area').groups.values()\n",
    "#avisos_detalle.groupby('nombre_area').groups.keys()"
   ]
  },
  {
   "cell_type": "code",
   "execution_count": 188,
   "metadata": {},
   "outputs": [],
   "source": [
    "sns.set(style=\"whitegrid\", color_codes=True)\n",
    "\n",
    "#sns.countplot(y=\"deck\", hue=\"class\", data=data, palette=\"Greens_d\");"
   ]
  },
  {
   "cell_type": "code",
   "execution_count": null,
   "metadata": {},
   "outputs": [],
   "source": []
  },
  {
   "cell_type": "markdown",
   "metadata": {},
   "source": [
    "### Empresas"
   ]
  },
  {
   "cell_type": "raw",
   "metadata": {},
   "source": [
    "Analizamos primero cuales son las empresas con más avisos publicados:"
   ]
  },
  {
   "cell_type": "code",
   "execution_count": 106,
   "metadata": {},
   "outputs": [],
   "source": [
    "empresas_top = avisos_detalle.groupby('denominacion_empresa').size().sort_values(ascending=False).head(20) # 2592 empresas diferentes"
   ]
  },
  {
   "cell_type": "code",
   "execution_count": 18,
   "metadata": {},
   "outputs": [],
   "source": [
    "# TODO: meter visu y mas analisis de esto"
   ]
  },
  {
   "cell_type": "code",
   "execution_count": null,
   "metadata": {},
   "outputs": [],
   "source": []
  },
  {
   "cell_type": "markdown",
   "metadata": {},
   "source": [
    "### Analisis primeros caracteres de la descripcion"
   ]
  },
  {
   "cell_type": "raw",
   "metadata": {},
   "source": [
    "Por cada aviso se agrega una columna con las palabras relevantes que se leen en la vista previa de zona jobs.\n",
    "Puede llegar a ser util despues hacer esto mismo con la descripcion entera."
   ]
  },
  {
   "cell_type": "code",
   "execution_count": 137,
   "metadata": {},
   "outputs": [],
   "source": [
    "stopwords = ['a', 'al', 'ante', 'aquel', 'bien', 'como', 'con', 'conseguir', 'cual', 'de', 'del', \n",
    "             'desde', 'donde', 'el', 'ella', 'en', 'es', 'encima', 'entonces', 'entre', 'era', 'esta', 'estás', 'estas' 'estan', \n",
    "             'están', 'etc', 'fue', 'ha', 'hacen', 'hacemos', 'hacer', 'hasta', 'incluso', 'ir', 'jamas', \n",
    "             'jamás', 'la', 'las', 'lo', 'los', 'más', 'me', 'menos', 'mi', 'mis', 'misma', 'mucha', 'muchas', \n",
    "             'mucho', 'muchos', 'muy', 'ni', 'no', 'nos', 'nosotros', 'nuestra', 'para', 'que', 'qué', 'sabe', 'saber', 'se', \n",
    "             'según', 'ser', 'si', 'sí', 'siendo', 'sin', 'sobre', 'solo', 'somos', 'te', 'tiene', 'tus', 'tu', 'uso', \n",
    "             'un', 'vaya', 'y']\n",
    "\n",
    "invalid_characters = [',', ':', '.', ';', '', '?', '¿', '!', '¡', '(', ')', '0', '1', '2', '3', '4', '5', '6', '7', '8', '9', '<', '>']\n",
    "\n",
    "def clean_html(string):\n",
    "    clean_html_regex = re.compile('<.*?>')\n",
    "    string = re.sub(clean_html_regex, '', string)\n",
    "    return string\n",
    "\n",
    "\n",
    "# Mejorar que en algunos casos ej: <p>asd<p>qwe va a traer la palabra asdqwe\n",
    "def process_top_words(row):  \n",
    "    row['descripcion'] = clean_html(row['descripcion'])\n",
    "    row['descripcion_top_words_small'] = row['descripcion']\n",
    "    # Se conservan los primeros 130 caracteres que son los que se ven en la vista previa\n",
    "    # Descarto este enfoque porque se pierden algunas palabras que quedan partidas en la mitad\n",
    "    #row['descripcion'] = row['descripcion'][0:130] \n",
    "    \n",
    "    # En cambio nos quedamos con las primeras n palabras\n",
    "    words = row['descripcion_top_words_small'].split()\n",
    "    words = words[:25]\n",
    "    \n",
    "    # Se filtran las stop words y los simbolos\n",
    "    valid_words = []\n",
    "    for word in words:\n",
    "        for w in stopwords:\n",
    "            if (word.lower() == w):\n",
    "                word = word.lower().replace(w, '')\n",
    "        for inv in invalid_characters:\n",
    "            word = word.lower().replace(inv, '')\n",
    "        if (word != ''):\n",
    "            valid_words.append(word)\n",
    "        \n",
    "    row['descripcion_top_words_small'] = set(valid_words) \n",
    "    return row"
   ]
  },
  {
   "cell_type": "code",
   "execution_count": 138,
   "metadata": {},
   "outputs": [],
   "source": [
    "avisos_detalle = avisos_detalle.apply(lambda row: process_top_words(row), axis=1)"
   ]
  },
  {
   "cell_type": "code",
   "execution_count": 139,
   "metadata": {},
   "outputs": [
    {
     "data": {
      "text/plain": [
       "{'cruz',\n",
       " 'encontramos',\n",
       " 'incorporar',\n",
       " 'minera',\n",
       " 'mismo',\n",
       " 'operación',\n",
       " 'paramedico',\n",
       " 'proceso',\n",
       " 'provincia',\n",
       " 'puede',\n",
       " 'santa',\n",
       " 'selección',\n",
       " 'ubicada'}"
      ]
     },
     "execution_count": 139,
     "metadata": {},
     "output_type": "execute_result"
    }
   ],
   "source": [
    "avisos_detalle['descripcion_top_words_small'][10]"
   ]
  },
  {
   "cell_type": "code",
   "execution_count": 140,
   "metadata": {},
   "outputs": [
    {
     "data": {
      "text/html": [
       "<div>\n",
       "<style scoped>\n",
       "    .dataframe tbody tr th:only-of-type {\n",
       "        vertical-align: middle;\n",
       "    }\n",
       "\n",
       "    .dataframe tbody tr th {\n",
       "        vertical-align: top;\n",
       "    }\n",
       "\n",
       "    .dataframe thead th {\n",
       "        text-align: right;\n",
       "    }\n",
       "</style>\n",
       "<table border=\"1\" class=\"dataframe\">\n",
       "  <thead>\n",
       "    <tr style=\"text-align: right;\">\n",
       "      <th></th>\n",
       "      <th>idaviso</th>\n",
       "      <th>titulo</th>\n",
       "      <th>descripcion</th>\n",
       "      <th>nombre_zona</th>\n",
       "      <th>tipo_de_trabajo</th>\n",
       "      <th>nivel_laboral</th>\n",
       "      <th>nombre_area</th>\n",
       "      <th>denominacion_empresa</th>\n",
       "      <th>descripcion_top_words_small</th>\n",
       "    </tr>\n",
       "  </thead>\n",
       "  <tbody>\n",
       "    <tr>\n",
       "      <th>0</th>\n",
       "      <td>8725750</td>\n",
       "      <td>VENDEDOR/A PROVINCIA DE SANTA FE</td>\n",
       "      <td>Empresa: Distribuidor de repuestos automotor, ...</td>\n",
       "      <td>Gran Buenos Aires</td>\n",
       "      <td>Full-time</td>\n",
       "      <td>Senior / Semi-Senior</td>\n",
       "      <td>Comercial</td>\n",
       "      <td>VENTOR</td>\n",
       "      <td>{santa, rosario, repuestos, agrícolas, argenti...</td>\n",
       "    </tr>\n",
       "    <tr>\n",
       "      <th>1</th>\n",
       "      <td>17903700</td>\n",
       "      <td>Enfermeras</td>\n",
       "      <td>Solicitamos para importante cadena de farmacia...</td>\n",
       "      <td>Gran Buenos Aires</td>\n",
       "      <td>Full-time</td>\n",
       "      <td>Senior / Semi-Senior</td>\n",
       "      <td>Salud</td>\n",
       "      <td>Farmacias Central Oeste</td>\n",
       "      <td>{farmacias, solicitamos, zona, enfermeras, vac...</td>\n",
       "    </tr>\n",
       "    <tr>\n",
       "      <th>2</th>\n",
       "      <td>1000150677</td>\n",
       "      <td>Chofer de taxi</td>\n",
       "      <td>TE GUSTA MANEJAR? QUERES GANAR PLATA HACIENDO ...</td>\n",
       "      <td>Capital Federal</td>\n",
       "      <td>Full-time</td>\n",
       "      <td>Senior / Semi-Senior</td>\n",
       "      <td>Transporte</td>\n",
       "      <td>FAMITAX SRL</td>\n",
       "      <td>{manejar, ganar, queres, ya, gusta, haciendo, ...</td>\n",
       "    </tr>\n",
       "    <tr>\n",
       "      <th>3</th>\n",
       "      <td>1000610287</td>\n",
       "      <td>CHOFER DE CAMIONETA BAHIA BLANCA - PUNTA ALTA</td>\n",
       "      <td>Somos una empresa multinacional que opera en A...</td>\n",
       "      <td>Gran Buenos Aires</td>\n",
       "      <td>Full-time</td>\n",
       "      <td>Senior / Semi-Senior</td>\n",
       "      <td>Transporte</td>\n",
       "      <td>Wurth Argentina S.A</td>\n",
       "      <td>{presente, conformado, argentina, grupo, opera...</td>\n",
       "    </tr>\n",
       "    <tr>\n",
       "      <th>4</th>\n",
       "      <td>1000872556</td>\n",
       "      <td>Operarios de Planta - Rubro Electrodomésticos</td>\n",
       "      <td>OPERARIOS DE PLANTANos encontramos en la búsqu...</td>\n",
       "      <td>Gran Buenos Aires</td>\n",
       "      <td>Full-time</td>\n",
       "      <td>Senior / Semi-Senior</td>\n",
       "      <td>Producción</td>\n",
       "      <td>ELECTRO OUTLET SRL</td>\n",
       "      <td>{operarios, electrodomésticos, productivas, di...</td>\n",
       "    </tr>\n",
       "  </tbody>\n",
       "</table>\n",
       "</div>"
      ],
      "text/plain": [
       "      idaviso                                         titulo  \\\n",
       "0     8725750               VENDEDOR/A PROVINCIA DE SANTA FE   \n",
       "1    17903700                                     Enfermeras   \n",
       "2  1000150677                                 Chofer de taxi   \n",
       "3  1000610287  CHOFER DE CAMIONETA BAHIA BLANCA - PUNTA ALTA   \n",
       "4  1000872556  Operarios de Planta - Rubro Electrodomésticos   \n",
       "\n",
       "                                         descripcion        nombre_zona  \\\n",
       "0  Empresa: Distribuidor de repuestos automotor, ...  Gran Buenos Aires   \n",
       "1  Solicitamos para importante cadena de farmacia...  Gran Buenos Aires   \n",
       "2  TE GUSTA MANEJAR? QUERES GANAR PLATA HACIENDO ...    Capital Federal   \n",
       "3  Somos una empresa multinacional que opera en A...  Gran Buenos Aires   \n",
       "4  OPERARIOS DE PLANTANos encontramos en la búsqu...  Gran Buenos Aires   \n",
       "\n",
       "  tipo_de_trabajo         nivel_laboral nombre_area     denominacion_empresa  \\\n",
       "0       Full-time  Senior / Semi-Senior   Comercial                   VENTOR   \n",
       "1       Full-time  Senior / Semi-Senior       Salud  Farmacias Central Oeste   \n",
       "2       Full-time  Senior / Semi-Senior  Transporte              FAMITAX SRL   \n",
       "3       Full-time  Senior / Semi-Senior  Transporte      Wurth Argentina S.A   \n",
       "4       Full-time  Senior / Semi-Senior  Producción       ELECTRO OUTLET SRL   \n",
       "\n",
       "                         descripcion_top_words_small  \n",
       "0  {santa, rosario, repuestos, agrícolas, argenti...  \n",
       "1  {farmacias, solicitamos, zona, enfermeras, vac...  \n",
       "2  {manejar, ganar, queres, ya, gusta, haciendo, ...  \n",
       "3  {presente, conformado, argentina, grupo, opera...  \n",
       "4  {operarios, electrodomésticos, productivas, di...  "
      ]
     },
     "execution_count": 140,
     "metadata": {},
     "output_type": "execute_result"
    }
   ],
   "source": [
    "avisos_detalle.head(5)"
   ]
  },
  {
   "cell_type": "code",
   "execution_count": null,
   "metadata": {},
   "outputs": [],
   "source": []
  },
  {
   "cell_type": "code",
   "execution_count": null,
   "metadata": {},
   "outputs": [],
   "source": []
  },
  {
   "cell_type": "code",
   "execution_count": null,
   "metadata": {},
   "outputs": [],
   "source": []
  }
 ],
 "metadata": {
  "kernelspec": {
   "display_name": "Python 3",
   "language": "python",
   "name": "python3"
  },
  "language_info": {
   "codemirror_mode": {
    "name": "ipython",
    "version": 3
   },
   "file_extension": ".py",
   "mimetype": "text/x-python",
   "name": "python",
   "nbconvert_exporter": "python",
   "pygments_lexer": "ipython3",
   "version": "3.6.4"
  }
 },
 "nbformat": 4,
 "nbformat_minor": 2
}
