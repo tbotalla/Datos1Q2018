{
 "cells": [
  {
   "cell_type": "markdown",
   "metadata": {},
   "source": [
    "* ** Modalidades de trabajo (tiempo) **\n",
    "\n",
    "* ** Seniority de los avisos **\n",
    "\n",
    "* ** Zona de los avisos **\n",
    "\n",
    "* ** Áreas de especialización más buscadas en los avisos **\n",
    "\n",
    "* ** Empresas **\n",
    "\n",
    "* ** Análisis de los primeros 130 caracteres/25 palabras (son los que se ven en la mini descripcion en zona jobs antes de clickear un aviso) de la descripcion (sin html) para ver cuales son las palabras mas relevantes. MERGEAR CON POSTULACIONES/VISTAS **\n",
    "\n",
    "* ** Análisis de palabras más frecuentes en los títulos ** "
   ]
  },
  {
   "cell_type": "code",
   "execution_count": 231,
   "metadata": {},
   "outputs": [],
   "source": [
    "import numpy as np \n",
    "import pandas as pd\n",
    "import datetime\n",
    "import calendar\n",
    "import matplotlib.pyplot as plt\n",
    "import seaborn as sns\n",
    "import re\n",
    "\n",
    "%matplotlib inline"
   ]
  },
  {
   "cell_type": "code",
   "execution_count": 232,
   "metadata": {},
   "outputs": [],
   "source": [
    "avisos_detalle = pd.read_csv('../data/datos_navent_fiuba/fiuba_6_avisos_detalle.csv')"
   ]
  },
  {
   "cell_type": "code",
   "execution_count": 233,
   "metadata": {},
   "outputs": [
    {
     "name": "stdout",
     "output_type": "stream",
     "text": [
      "<class 'pandas.core.frame.DataFrame'>\n",
      "RangeIndex: 13534 entries, 0 to 13533\n",
      "Data columns (total 11 columns):\n",
      "idaviso                 13534 non-null int64\n",
      "idpais                  13534 non-null int64\n",
      "titulo                  13534 non-null object\n",
      "descripcion             13534 non-null object\n",
      "nombre_zona             13534 non-null object\n",
      "ciudad                  47 non-null object\n",
      "mapacalle               872 non-null object\n",
      "tipo_de_trabajo         13534 non-null object\n",
      "nivel_laboral           13534 non-null object\n",
      "nombre_area             13534 non-null object\n",
      "denominacion_empresa    13529 non-null object\n",
      "dtypes: int64(2), object(9)\n",
      "memory usage: 1.1+ MB\n"
     ]
    }
   ],
   "source": [
    "avisos_detalle.info()"
   ]
  },
  {
   "cell_type": "code",
   "execution_count": 234,
   "metadata": {},
   "outputs": [
    {
     "data": {
      "text/plain": [
       "Index(['idaviso', 'idpais', 'titulo', 'descripcion', 'nombre_zona', 'ciudad',\n",
       "       'mapacalle', 'tipo_de_trabajo', 'nivel_laboral', 'nombre_area',\n",
       "       'denominacion_empresa'],\n",
       "      dtype='object')"
      ]
     },
     "execution_count": 234,
     "metadata": {},
     "output_type": "execute_result"
    }
   ],
   "source": [
    "avisos_detalle.columns"
   ]
  },
  {
   "cell_type": "markdown",
   "metadata": {},
   "source": [
    "### Limpieza"
   ]
  },
  {
   "cell_type": "code",
   "execution_count": 235,
   "metadata": {},
   "outputs": [
    {
     "data": {
      "text/plain": [
       "1    13534\n",
       "Name: idpais, dtype: int64"
      ]
     },
     "execution_count": 235,
     "metadata": {},
     "output_type": "execute_result"
    }
   ],
   "source": [
    "avisos_detalle['idpais'].value_counts() "
   ]
  },
  {
   "cell_type": "raw",
   "metadata": {},
   "source": [
    "Solo hay un valor posible de pais para todos los registros, no es un dato relevante."
   ]
  },
  {
   "cell_type": "code",
   "execution_count": 236,
   "metadata": {},
   "outputs": [
    {
     "data": {
      "text/plain": [
       "Index(['idaviso', 'titulo', 'descripcion', 'nombre_zona', 'ciudad',\n",
       "       'mapacalle', 'tipo_de_trabajo', 'nivel_laboral', 'nombre_area',\n",
       "       'denominacion_empresa'],\n",
       "      dtype='object')"
      ]
     },
     "execution_count": 236,
     "metadata": {},
     "output_type": "execute_result"
    }
   ],
   "source": [
    "avisos_detalle = avisos_detalle.drop(['idpais'], axis=1)\n",
    "avisos_detalle.columns"
   ]
  },
  {
   "cell_type": "raw",
   "metadata": {},
   "source": [
    "Algunas publicaciones tienen datos de la dirección de trabajo, analizamos cuantas son:"
   ]
  },
  {
   "cell_type": "code",
   "execution_count": 237,
   "metadata": {},
   "outputs": [
    {
     "data": {
      "text/plain": [
       "SARMIENTO 1937                              43\n",
       "Microcentro                                 30\n",
       "Buenos Aires                                24\n",
       "Palermo                                     23\n",
       "Barracas                                    18\n",
       "Puerto Madero                               15\n",
       "Belgrano                                    14\n",
       "Reconquista 865                             13\n",
       "retiro                                      12\n",
       "Parque Patricios                            10\n",
       "Recoleta                                    10\n",
       "nuñez                                        8\n",
       "saavedra                                     8\n",
       "Peron 955                                    7\n",
       "Pasaje Aguado 628                            6\n",
       "Monserrat                                    6\n",
       "San Telmo                                    6\n",
       "25 de Mayo 457 7º piso                       6\n",
       "Mataderos                                    6\n",
       "Av. Libertador 6810 4º A                     5\n",
       "Villa Soldati                                5\n",
       "Amenábar 1074                                5\n",
       "calle 7 nº1565 e/64 y 65                     5\n",
       "Gral. Roca 4530                              4\n",
       "Lavalle 1790                                 4\n",
       "México 2051                                  4\n",
       "Peru 159                                     4\n",
       "Nicasio Oroño 1420                           4\n",
       "San Isidro                                   4\n",
       "Florencio varela 3215                        4\n",
       "                                            ..\n",
       "BARRIO BELGRANO                              1\n",
       "Villa Pueyrredon                             1\n",
       "Av. Escalada 1540                            1\n",
       "MONSEÑOR BLOIR 3402                          1\n",
       "Calle 81 nro. 1937                           1\n",
       "Montes de Oca 2231                           1\n",
       "Sarmiento 3875                               1\n",
       "Bahía Blanca                                 1\n",
       "Parque Industrial Tecnologico de Quilmes     1\n",
       "Tortuguitas                                  1\n",
       "Tigre                                        1\n",
       "COLECTORA SUR, ACCESO OESTE                  1\n",
       "Dr. Ignacio Arieta 3498                      1\n",
       "Patagones 2665                               1\n",
       "Vicente López                                1\n",
       "Santos Dumont 3441                           1\n",
       "lebhenson 45                                 1\n",
       "Barrio de Villa Crespo                       1\n",
       "Esteban Echeverría, 9 de abril               1\n",
       "Bernardo de Irigoyen 722                     1\n",
       "Paraguay 2041 4 B                            1\n",
       "Av. H. Ford                                  1\n",
       "La Rioja 260                                 1\n",
       "Ruben Dario 3912                             1\n",
       "Paysandú 1800                                1\n",
       "Paraguay                                     1\n",
       "RUTA 12                                      1\n",
       "Perdriel 1859                                1\n",
       "Uspallata 3160                               1\n",
       "bv los hungaros                              1\n",
       "Name: mapacalle, Length: 487, dtype: int64"
      ]
     },
     "execution_count": 237,
     "metadata": {},
     "output_type": "execute_result"
    }
   ],
   "source": [
    "avisos_detalle['mapacalle'].value_counts()"
   ]
  },
  {
   "cell_type": "code",
   "execution_count": 238,
   "metadata": {},
   "outputs": [
    {
     "name": "stdout",
     "output_type": "stream",
     "text": [
      "El 93.56 % de los datos de la columna mapacalle son nulos\n"
     ]
    }
   ],
   "source": [
    "print(\"El\", round(100 * avisos_detalle['mapacalle'].isnull().sum()/len(avisos_detalle), 2), \"% de los datos de la columna mapacalle son nulos\")"
   ]
  },
  {
   "cell_type": "raw",
   "metadata": {},
   "source": [
    "Consideramos por lo tanto que este dato no es relevante para analizar dado el tamaño de la muestra."
   ]
  },
  {
   "cell_type": "code",
   "execution_count": 239,
   "metadata": {},
   "outputs": [
    {
     "data": {
      "text/plain": [
       "Index(['idaviso', 'titulo', 'descripcion', 'nombre_zona', 'ciudad',\n",
       "       'tipo_de_trabajo', 'nivel_laboral', 'nombre_area',\n",
       "       'denominacion_empresa'],\n",
       "      dtype='object')"
      ]
     },
     "execution_count": 239,
     "metadata": {},
     "output_type": "execute_result"
    }
   ],
   "source": [
    "avisos_detalle = avisos_detalle.drop(['mapacalle'], axis=1)\n",
    "avisos_detalle.columns"
   ]
  },
  {
   "cell_type": "code",
   "execution_count": 240,
   "metadata": {},
   "outputs": [
    {
     "data": {
      "text/plain": [
       "Buenos Aires                14\n",
       "Argentina                   13\n",
       "CABA                         3\n",
       "Capital Federal              2\n",
       "San Isidro                   2\n",
       "Buenos Aires Province        1\n",
       "paternal                     1\n",
       "Tortuguitas                  1\n",
       "Santa Rosa                   1\n",
       "Parque Patricios             1\n",
       "Microcentro                  1\n",
       "Mendoza                      1\n",
       "caba                         1\n",
       "Zárate, Campana, Escobar     1\n",
       "La Plata                     1\n",
       "República Argentina          1\n",
       "Barracas                     1\n",
       "Vicente Lopez                1\n",
       "Name: ciudad, dtype: int64"
      ]
     },
     "execution_count": 240,
     "metadata": {},
     "output_type": "execute_result"
    }
   ],
   "source": [
    "avisos_detalle['ciudad'].value_counts()"
   ]
  },
  {
   "cell_type": "raw",
   "metadata": {},
   "source": [
    "De igual forma podemos ver que los avisos que especifican ciudad son muy pocos, por lo tanto los excluimos del análisis."
   ]
  },
  {
   "cell_type": "code",
   "execution_count": 241,
   "metadata": {},
   "outputs": [
    {
     "data": {
      "text/plain": [
       "Index(['idaviso', 'titulo', 'descripcion', 'nombre_zona', 'tipo_de_trabajo',\n",
       "       'nivel_laboral', 'nombre_area', 'denominacion_empresa'],\n",
       "      dtype='object')"
      ]
     },
     "execution_count": 241,
     "metadata": {},
     "output_type": "execute_result"
    }
   ],
   "source": [
    "avisos_detalle = avisos_detalle.drop(['ciudad'], axis=1)\n",
    "avisos_detalle.columns"
   ]
  },
  {
   "cell_type": "markdown",
   "metadata": {},
   "source": [
    "## Análisis"
   ]
  },
  {
   "cell_type": "markdown",
   "metadata": {},
   "source": [
    "### Seniority"
   ]
  },
  {
   "cell_type": "code",
   "execution_count": 242,
   "metadata": {},
   "outputs": [
    {
     "data": {
      "text/plain": [
       "0"
      ]
     },
     "execution_count": 242,
     "metadata": {},
     "output_type": "execute_result"
    }
   ],
   "source": [
    "avisos_detalle['nivel_laboral'].isnull().sum()"
   ]
  },
  {
   "cell_type": "raw",
   "metadata": {},
   "source": [
    "Podemos ver que todos los avisos tienen especificado el seniority pedido."
   ]
  },
  {
   "cell_type": "code",
   "execution_count": 243,
   "metadata": {},
   "outputs": [
    {
     "data": {
      "text/plain": [
       "Senior / Semi-Senior                    9407\n",
       "Junior                                  2216\n",
       "Otro                                     921\n",
       "Jefe / Supervisor / Responsable          809\n",
       "Gerencia / Alta Gerencia / Dirección     181\n",
       "Name: nivel_laboral, dtype: int64"
      ]
     },
     "execution_count": 243,
     "metadata": {},
     "output_type": "execute_result"
    }
   ],
   "source": [
    "avisos_detalle['nivel_laboral'].value_counts()"
   ]
  },
  {
   "cell_type": "raw",
   "metadata": {},
   "source": [
    "Existen 5 categorias distintas de seniority para los avisos, analizamos como se distribuyen."
   ]
  },
  {
   "cell_type": "code",
   "execution_count": 244,
   "metadata": {},
   "outputs": [
    {
     "data": {
      "text/plain": [
       "<Container object of 5 artists>"
      ]
     },
     "execution_count": 244,
     "metadata": {},
     "output_type": "execute_result"
    },
    {
     "data": {
      "image/png": "[encoded data removed]",
      "text/plain": [
       "<matplotlib.figure.Figure at 0x7fce25fd2dd8>"
      ]
     },
     "metadata": {},
     "output_type": "display_data"
    }
   ],
   "source": [
    "seniorities = ['Senior / Semi-Senior','Junior','Otro','Jefe / Supervisor / Responsable','Gerencia / Alta Gerencia / Dirección']\n",
    "num_items=len(seniorities)\n",
    "plt.figure(figsize=(18,8))\n",
    "margin = 0.05\n",
    "width = 4*(1.-1*margin)/num_items\n",
    "plt.title('Seniority de los avisos', fontsize=18)\n",
    "plt.xlabel('Seniority', fontsize=16)\n",
    "plt.ylabel('Cantidad(%)', fontsize=16)\n",
    "plt.bar(seniorities, 100 * avisos_detalle.nivel_laboral.value_counts()/len(avisos_detalle), width, color=\"cadetblue\")"
   ]
  },
  {
   "cell_type": "markdown",
   "metadata": {},
   "source": [
    "### Modalidades de trabajo (tiempo)"
   ]
  },
  {
   "cell_type": "code",
   "execution_count": 245,
   "metadata": {},
   "outputs": [
    {
     "data": {
      "text/plain": [
       "0"
      ]
     },
     "execution_count": 245,
     "metadata": {},
     "output_type": "execute_result"
    }
   ],
   "source": [
    "avisos_detalle['tipo_de_trabajo'].isnull().sum()"
   ]
  },
  {
   "cell_type": "raw",
   "metadata": {},
   "source": [
    "Todos los avisos tienen descripta la modalidad de trabajo pedida."
   ]
  },
  {
   "cell_type": "code",
   "execution_count": 246,
   "metadata": {},
   "outputs": [
    {
     "data": {
      "text/plain": [
       "Full-time          12339\n",
       "Part-time            863\n",
       "Teletrabajo          110\n",
       "Por Horas             63\n",
       "Pasantia              63\n",
       "Temporario            42\n",
       "Por Contrato          37\n",
       "Fines de Semana       14\n",
       "Primer empleo          3\n",
       "Name: tipo_de_trabajo, dtype: int64"
      ]
     },
     "execution_count": 246,
     "metadata": {},
     "output_type": "execute_result"
    }
   ],
   "source": [
    "avisos_detalle['tipo_de_trabajo'].value_counts()"
   ]
  },
  {
   "cell_type": "raw",
   "metadata": {},
   "source": [
    "Existen 9 categorias de modalidad de trabajo para un aviso, analizamos su distribución."
   ]
  },
  {
   "cell_type": "code",
   "execution_count": 247,
   "metadata": {},
   "outputs": [
    {
     "data": {
      "text/plain": [
       "<Container object of 9 artists>"
      ]
     },
     "execution_count": 247,
     "metadata": {},
     "output_type": "execute_result"
    },
    {
     "data": {
      "image/png": "[encoded data removed]",
      "text/plain": [
       "<matplotlib.figure.Figure at 0x7fce260a9748>"
      ]
     },
     "metadata": {},
     "output_type": "display_data"
    }
   ],
   "source": [
    "modalidades_trabajo = ['Full-time','Part-time','Teletrabajo','Pasantia','Por Horas','Temporario','Por Contrato','Fines de Semana','Primer empleo']\n",
    "num_items=len(modalidades_trabajo)\n",
    "plt.figure(figsize=(18,8))\n",
    "margin = 0.05\n",
    "width = 7*(1.-1*margin)/num_items\n",
    "plt.title('Modalidad de trabajo de los avisos', fontsize=18)\n",
    "plt.xlabel('Modalidad', fontsize=16)\n",
    "plt.ylabel('Cantidad(%)', fontsize=16)\n",
    "plt.bar(modalidades_trabajo, 100 * avisos_detalle.tipo_de_trabajo.value_counts()/len(avisos_detalle), width, color=\"cadetblue\")\n"
   ]
  },
  {
   "cell_type": "markdown",
   "metadata": {},
   "source": [
    "### Zona de los avisos"
   ]
  },
  {
   "cell_type": "code",
   "execution_count": 248,
   "metadata": {},
   "outputs": [
    {
     "data": {
      "text/plain": [
       "0"
      ]
     },
     "execution_count": 248,
     "metadata": {},
     "output_type": "execute_result"
    }
   ],
   "source": [
    "avisos_detalle['nombre_zona'].isnull().sum()"
   ]
  },
  {
   "cell_type": "raw",
   "metadata": {},
   "source": [
    "Todos los avisos tienen especificada la zona, vemos la distribución de las mismas."
   ]
  },
  {
   "cell_type": "code",
   "execution_count": 249,
   "metadata": {},
   "outputs": [
    {
     "data": {
      "text/plain": [
       "Gran Buenos Aires              12654\n",
       "Capital Federal                  876\n",
       "GBA Oeste                          2\n",
       "Buenos Aires (fuera de GBA)        2\n",
       "Name: nombre_zona, dtype: int64"
      ]
     },
     "execution_count": 249,
     "metadata": {},
     "output_type": "execute_result"
    }
   ],
   "source": [
    "avisos_detalle['nombre_zona'].value_counts()"
   ]
  },
  {
   "cell_type": "code",
   "execution_count": 250,
   "metadata": {},
   "outputs": [
    {
     "data": {
      "text/plain": [
       "<Container object of 4 artists>"
      ]
     },
     "execution_count": 250,
     "metadata": {},
     "output_type": "execute_result"
    },
    {
     "data": {
      "image/png": "[encoded data removed]",
      "text/plain": [
       "<matplotlib.figure.Figure at 0x7fce2624e668>"
      ]
     },
     "metadata": {},
     "output_type": "display_data"
    }
   ],
   "source": [
    "zona_avisos = ['Buenos Aires (fuera de GBA)','Capital Federal','GBA Oeste','Gran Buenos Aires']\n",
    "num_items=len(zona_avisos)\n",
    "plt.figure(figsize=(18,8))\n",
    "margin = 0.5\n",
    "width = 5*(1.-1*margin)/num_items\n",
    "plt.title('Zona de los avisos', fontsize=18)\n",
    "plt.xlabel('Zona', fontsize=16)\n",
    "plt.ylabel('Cantidad', fontsize=16)\n",
    "plt.bar(zona_avisos, avisos_detalle.nombre_zona.value_counts(), width, color=\"cadetblue\")"
   ]
  },
  {
   "cell_type": "raw",
   "metadata": {},
   "source": [
    "En el gráfico se puede apreciar que los datos son principalemente de avisos fuera del GBA, y pocos de Capital Federal."
   ]
  },
  {
   "cell_type": "markdown",
   "metadata": {},
   "source": [
    "### Área de especialización de los avisos"
   ]
  },
  {
   "cell_type": "code",
   "execution_count": 251,
   "metadata": {},
   "outputs": [
    {
     "data": {
      "text/plain": [
       "0"
      ]
     },
     "execution_count": 251,
     "metadata": {},
     "output_type": "execute_result"
    }
   ],
   "source": [
    "avisos_detalle['nombre_area'].isnull().sum()"
   ]
  },
  {
   "cell_type": "raw",
   "metadata": {},
   "source": [
    "Se puede ver que todos los avisos tienen especificada un área de especialización"
   ]
  },
  {
   "cell_type": "code",
   "execution_count": 252,
   "metadata": {},
   "outputs": [
    {
     "data": {
      "text/plain": [
       "Ventas                                   1659\n",
       "Comercial                                 983\n",
       "Administración                            901\n",
       "Producción                                821\n",
       "Programación                              576\n",
       "Contabilidad                              416\n",
       "Tecnologia / Sistemas                     388\n",
       "Atención al Cliente                       347\n",
       "Mantenimiento                             324\n",
       "Recursos Humanos                          235\n",
       "Gastronomia                               234\n",
       "Oficios y Profesiones                     209\n",
       "Soporte Técnico                           203\n",
       "Logística                                 200\n",
       "Call Center                               191\n",
       "Almacén / Depósito / Expedición           184\n",
       "Compras                                   170\n",
       "Otros                                     153\n",
       "Marketing                                 153\n",
       "Administración de Personal                152\n",
       "Recepcionista                             151\n",
       "Transporte                                148\n",
       "Mantenimiento y Limpieza                  141\n",
       "Finanzas                                  138\n",
       "Telemarketing                             138\n",
       "Tesorería                                 137\n",
       "Créditos y Cobranzas                      132\n",
       "Salud                                     127\n",
       "Desarrollo de Negocios                    126\n",
       "Medicina                                  119\n",
       "                                         ... \n",
       "Negocios Internacionales                    3\n",
       "Farmacia comercial                          2\n",
       "Data Warehousing                            2\n",
       "Instrumentación                             2\n",
       "Mercadotecnia Internacional                 2\n",
       "Topografía                                  2\n",
       "Diseño Multimedia                           2\n",
       "Responsabilidad Social                      2\n",
       "Educación especial                          2\n",
       "Otras áreas técnicas en salud               2\n",
       "Diseño 3D                                   2\n",
       "Dirección                                   2\n",
       "Medicina Laboral                            2\n",
       "Trabajo Social                              2\n",
       "Ingeniería Geológica                        2\n",
       "Trabajo social                              2\n",
       "Arte y Cultura                              1\n",
       "Instrumentación quirúrgica                  1\n",
       "Comunicaciones Externas                     1\n",
       "Emergentología                              1\n",
       "Ingeniería en Petróleo y Petroquímica       1\n",
       "Quimica                                     1\n",
       "Urbanismo                                   1\n",
       "Farmacia hospitalaria                       1\n",
       "Idiomas                                     1\n",
       "Bienestar Estudiantil                       1\n",
       "Exploración Minera y Petroquimica           1\n",
       "Otras Especialidades médicas                1\n",
       "Traduccion                                  1\n",
       "Telefonista                                 1\n",
       "Name: nombre_area, Length: 173, dtype: int64"
      ]
     },
     "execution_count": 252,
     "metadata": {},
     "output_type": "execute_result"
    }
   ],
   "source": [
    "avisos_detalle['nombre_area'].value_counts()"
   ]
  },
  {
   "cell_type": "code",
   "execution_count": 253,
   "metadata": {},
   "outputs": [
    {
     "data": {
      "text/plain": [
       "nombre_area\n",
       "Ventas                   12.258017\n",
       "Comercial                 7.263189\n",
       "Administración            6.657308\n",
       "Producción                6.066204\n",
       "Programación              4.255948\n",
       "Contabilidad              3.073740\n",
       "Tecnologia / Sistemas     2.866854\n",
       "Atención al Cliente       2.563913\n",
       "Mantenimiento             2.393971\n",
       "Recursos Humanos          1.736368\n",
       "Gastronomia               1.728979\n",
       "Oficios y Profesiones     1.544259\n",
       "Soporte Técnico           1.499926\n",
       "Logística                 1.477760\n",
       "Call Center               1.411261\n",
       "dtype: float64"
      ]
     },
     "execution_count": 253,
     "metadata": {},
     "output_type": "execute_result"
    }
   ],
   "source": [
    "# TOP 15 de las areas mas buscadas\n",
    "grouped_by_area_avisos = avisos_detalle.groupby('nombre_area')['nombre_area']\\\n",
    "    .agg(['count']).sort_values(by='count', ascending=False).head(15)\n",
    "grouped_by_area_avisos = grouped_by_area_avisos.apply(lambda row: 100 * row['count'] / len(avisos_detalle), axis=1)\n",
    "grouped_by_area_avisos"
   ]
  },
  {
   "cell_type": "code",
   "execution_count": 254,
   "metadata": {},
   "outputs": [
    {
     "data": {
      "image/png": "[encoded data removed]",
      "text/plain": [
       "<matplotlib.figure.Figure at 0x7fce26243eb8>"
      ]
     },
     "metadata": {},
     "output_type": "display_data"
    }
   ],
   "source": [
    "grouped_by_area_avisos.plot.bar(rot=0, figsize=(18,8), color='cadetblue', fontsize=10);\n",
    "plt.ylabel('Proporción(%)', fontsize=20)\n",
    "plt.xlabel('Área', fontsize=16)\n",
    "plt.title('Áreas más buscadas', fontsize=17)\n",
    "plt.legend('')\n",
    "plt.xticks(rotation=90)\n",
    "plt.show()"
   ]
  },
  {
   "cell_type": "markdown",
   "metadata": {},
   "source": [
    "### Empresas"
   ]
  },
  {
   "cell_type": "raw",
   "metadata": {},
   "source": [
    "Analizamos primero cuales son las empresas con más avisos publicados:"
   ]
  },
  {
   "cell_type": "code",
   "execution_count": 255,
   "metadata": {},
   "outputs": [
    {
     "data": {
      "text/plain": [
       "denominacion_empresa\n",
       "RANDSTAD                              4.152505\n",
       "Manpower                              3.118073\n",
       "Grupo Gestión                         2.829910\n",
       "Assistem                              2.135363\n",
       "SOLUTIX S.A.                          1.921088\n",
       "BAYTON                                1.758534\n",
       "Pullmen Servicios Empresarios S.A.    1.692035\n",
       "Adecco - Región NORTE & OESTE GBA     1.514704\n",
       "Suministra                            1.499926\n",
       "Adecco -Región Office                 1.477760\n",
       "Consultores de Empresas SRL           1.455593\n",
       "Complement Group (holding)            1.182208\n",
       "Adecco -Región GBA SUR                1.182208\n",
       "Kaizen Recursos Humanos               0.812768\n",
       "Adecco  -Región Litoral               0.805379\n",
       "IT Resources                          0.805379\n",
       "CrossOver                             0.805379\n",
       "Excelencia Laboral S.A.               0.724102\n",
       "Suple                                 0.650214\n",
       "Swiss Medical Group                   0.650214\n",
       "dtype: float64"
      ]
     },
     "execution_count": 255,
     "metadata": {},
     "output_type": "execute_result"
    }
   ],
   "source": [
    "# TOP 20 empresas con más avisos\n",
    "empresas_top = avisos_detalle.groupby('denominacion_empresa')['denominacion_empresa']\\\n",
    "    .agg(['count']).sort_values(by='count', ascending=False).head(20)\n",
    "empresas_top = empresas_top.apply(lambda row: 100 * row['count'] / len(avisos_detalle), axis=1)\n",
    "empresas_top"
   ]
  },
  {
   "cell_type": "code",
   "execution_count": 256,
   "metadata": {},
   "outputs": [
    {
     "data": {
      "image/png": "[encoded data removed]",
      "text/plain": [
       "<matplotlib.figure.Figure at 0x7fce2647f978>"
      ]
     },
     "metadata": {},
     "output_type": "display_data"
    }
   ],
   "source": [
    "empresas_top.plot.bar(rot=0, figsize=(18,8), color='cadetblue', fontsize=10);\n",
    "plt.ylabel('Proporción(%)', fontsize=20)\n",
    "plt.xlabel('Empresa', fontsize=16)\n",
    "plt.title('Empresas con más avisos', fontsize=17)\n",
    "plt.legend('')\n",
    "plt.xticks(rotation=90)\n",
    "plt.show()"
   ]
  },
  {
   "cell_type": "markdown",
   "metadata": {},
   "source": [
    "### Analisis primeros caracteres de la descripcion"
   ]
  },
  {
   "cell_type": "raw",
   "metadata": {},
   "source": [
    "Por cada aviso se agrega una columna con las palabras relevantes que se leen en la vista previa de zona jobs.\n",
    "Puede llegar a ser util despues hacer esto mismo con la descripcion entera."
   ]
  },
  {
   "cell_type": "code",
   "execution_count": 305,
   "metadata": {},
   "outputs": [],
   "source": [
    "stopwords = ['a', 'al', 'ante', 'aquel', 'aires', 'bien', 'buenos', 'como', 'con', 'conseguir', 'cual', 'de', 'del', \n",
    "             'desde', 'donde', 'e', 'el', 'ella', 'en', 'es', 'encima', 'entonces', 'entre', 'era', 'esta', 'estás', 'estas' 'estan', \n",
    "             'están', 'etc', 'fe', 'fue', 'ha', 'hacen', 'hacemos', 'hacer', 'hasta', 'incluso', 'ir', 'jamas', \n",
    "             'jamás', 'la', 'las', 'lo', 'los', 'más', 'me', 'menos', 'mi', 'mis', 'misma', 'mismo', 'mucha', 'muchas', \n",
    "             'mucho', 'muchos', 'muy', 'ni', 'no', 'nos', 'nosotros', 'nuestra', 'o', 'para', 'por', 'que', 'qué', 'sabe', 'santa', 'saber', 'se', \n",
    "             'según', 'ser', 'si', 'sí', 'siendo', 'sin', 'sobre', 'solo', 'somos', 'su', 'sus', 'te', 'tiene', 'tus', 'tu', 'uso', \n",
    "             'un', 'una', 'vaya', 'y']\n",
    "\n",
    "invalid_characters = [',', ':', '.', ';', '', '?', '¿', '!', '¡', '(', ')', '0', '1', '2', '3', '4', '5', '6', '7', '8', '9', \n",
    "                      '<', '>', '-', '_', '/', '*']\n",
    "\n",
    "def clean_html(string):\n",
    "    clean_html_regex = re.compile('<.*?>')\n",
    "    string = re.sub(clean_html_regex, '', string)\n",
    "    return string\n",
    "\n",
    "\n",
    "# Mejorar que en algunos casos ej: <p>asd<p>qwe va a traer la palabra asdqwe\n",
    "def process_top_words(row, col, col_new):  \n",
    "    row[col] = clean_html(row[col])\n",
    "    row[col_new] = row[col]\n",
    "    # Se conservan los primeros 130 caracteres que son los que se ven en la vista previa\n",
    "    # Descarto este enfoque porque se pierden algunas palabras que quedan partidas en la mitad\n",
    "    #row['descripcion'] = row['descripcion'][0:130] \n",
    "    \n",
    "    # En cambio nos quedamos con las primeras n palabras\n",
    "    words = row[col_new].split()\n",
    "    words = words[:25]\n",
    "    \n",
    "    # Se filtran las stop words y los simbolos\n",
    "    valid_words = []\n",
    "    for word in words:\n",
    "        for w in stopwords:\n",
    "            if (word.lower() == w):\n",
    "                word = word.lower().replace(w, '')\n",
    "        for inv in invalid_characters:\n",
    "            word = word.lower().replace(inv, '')\n",
    "        if (word != ''):\n",
    "            valid_words.append(word)\n",
    "        \n",
    "    row[col_new] = set(valid_words) \n",
    "    return row"
   ]
  },
  {
   "cell_type": "code",
   "execution_count": 277,
   "metadata": {},
   "outputs": [],
   "source": [
    "avisos_detalle = avisos_detalle.apply(lambda row: process_top_words(row, 'descripcion', 'descripcion_top_words_small'), axis=1)"
   ]
  },
  {
   "cell_type": "code",
   "execution_count": 278,
   "metadata": {},
   "outputs": [
    {
     "data": {
      "text/plain": [
       "{'cruz',\n",
       " 'encontramos',\n",
       " 'incorporar',\n",
       " 'minera',\n",
       " 'operación',\n",
       " 'paramedico',\n",
       " 'proceso',\n",
       " 'provincia',\n",
       " 'puede',\n",
       " 'selección',\n",
       " 'ubicada'}"
      ]
     },
     "execution_count": 278,
     "metadata": {},
     "output_type": "execute_result"
    }
   ],
   "source": [
    "avisos_detalle['descripcion_top_words_small'][10]"
   ]
  },
  {
   "cell_type": "code",
   "execution_count": 279,
   "metadata": {},
   "outputs": [
    {
     "data": {
      "text/html": [
       "<div>\n",
       "<style scoped>\n",
       "    .dataframe tbody tr th:only-of-type {\n",
       "        vertical-align: middle;\n",
       "    }\n",
       "\n",
       "    .dataframe tbody tr th {\n",
       "        vertical-align: top;\n",
       "    }\n",
       "\n",
       "    .dataframe thead th {\n",
       "        text-align: right;\n",
       "    }\n",
       "</style>\n",
       "<table border=\"1\" class=\"dataframe\">\n",
       "  <thead>\n",
       "    <tr style=\"text-align: right;\">\n",
       "      <th></th>\n",
       "      <th>idaviso</th>\n",
       "      <th>titulo</th>\n",
       "      <th>descripcion</th>\n",
       "      <th>nombre_zona</th>\n",
       "      <th>tipo_de_trabajo</th>\n",
       "      <th>nivel_laboral</th>\n",
       "      <th>nombre_area</th>\n",
       "      <th>denominacion_empresa</th>\n",
       "      <th>descripcion_top_words_small</th>\n",
       "      <th>titulo_top_words</th>\n",
       "    </tr>\n",
       "  </thead>\n",
       "  <tbody>\n",
       "    <tr>\n",
       "      <th>0</th>\n",
       "      <td>8725750</td>\n",
       "      <td>VENDEDOR/A PROVINCIA DE SANTA FE</td>\n",
       "      <td>Empresa: Distribuidor de repuestos automotor, ...</td>\n",
       "      <td>Gran Buenos Aires</td>\n",
       "      <td>Full-time</td>\n",
       "      <td>Senior / Semi-Senior</td>\n",
       "      <td>Comercial</td>\n",
       "      <td>VENTOR</td>\n",
       "      <td>{argentinasexo, rosario, correas, repuestos, a...</td>\n",
       "      <td>{provincia, vendedora}</td>\n",
       "    </tr>\n",
       "    <tr>\n",
       "      <th>1</th>\n",
       "      <td>17903700</td>\n",
       "      <td>Enfermeras</td>\n",
       "      <td>Solicitamos para importante cadena de farmacia...</td>\n",
       "      <td>Gran Buenos Aires</td>\n",
       "      <td>Full-time</td>\n",
       "      <td>Senior / Semi-Senior</td>\n",
       "      <td>Salud</td>\n",
       "      <td>Farmacias Central Oeste</td>\n",
       "      <td>{farmacias, experiencia, excluyenteexperiencia...</td>\n",
       "      <td>{enfermeras}</td>\n",
       "    </tr>\n",
       "    <tr>\n",
       "      <th>2</th>\n",
       "      <td>1000150677</td>\n",
       "      <td>Chofer de taxi</td>\n",
       "      <td>TE GUSTA MANEJAR? QUERES GANAR PLATA HACIENDO ...</td>\n",
       "      <td>Capital Federal</td>\n",
       "      <td>Full-time</td>\n",
       "      <td>Senior / Semi-Senior</td>\n",
       "      <td>Transporte</td>\n",
       "      <td>FAMITAX SRL</td>\n",
       "      <td>{caba, ganar, estas, licencia, haciendo, quere...</td>\n",
       "      <td>{taxi, chofer}</td>\n",
       "    </tr>\n",
       "    <tr>\n",
       "      <th>3</th>\n",
       "      <td>1000610287</td>\n",
       "      <td>CHOFER DE CAMIONETA BAHIA BLANCA - PUNTA ALTA</td>\n",
       "      <td>Somos una empresa multinacional que opera en A...</td>\n",
       "      <td>Gran Buenos Aires</td>\n",
       "      <td>Full-time</td>\n",
       "      <td>Senior / Semi-Senior</td>\n",
       "      <td>Transporte</td>\n",
       "      <td>Wurth Argentina S.A</td>\n",
       "      <td>{empresas, presente, multinacional, opera, emp...</td>\n",
       "      <td>{punta, chofer, bahia, camioneta, alta, blanca}</td>\n",
       "    </tr>\n",
       "    <tr>\n",
       "      <th>4</th>\n",
       "      <td>1000872556</td>\n",
       "      <td>Operarios de Planta - Rubro Electrodomésticos</td>\n",
       "      <td>OPERARIOS DE PLANTANos encontramos en la búsqu...</td>\n",
       "      <td>Gran Buenos Aires</td>\n",
       "      <td>Full-time</td>\n",
       "      <td>Senior / Semi-Senior</td>\n",
       "      <td>Producción</td>\n",
       "      <td>ELECTRO OUTLET SRL</td>\n",
       "      <td>{experiencia, operarios, electrodomésticos, bú...</td>\n",
       "      <td>{electrodomésticos, planta, rubro, operarios}</td>\n",
       "    </tr>\n",
       "  </tbody>\n",
       "</table>\n",
       "</div>"
      ],
      "text/plain": [
       "      idaviso                                         titulo  \\\n",
       "0     8725750               VENDEDOR/A PROVINCIA DE SANTA FE   \n",
       "1    17903700                                     Enfermeras   \n",
       "2  1000150677                                 Chofer de taxi   \n",
       "3  1000610287  CHOFER DE CAMIONETA BAHIA BLANCA - PUNTA ALTA   \n",
       "4  1000872556  Operarios de Planta - Rubro Electrodomésticos   \n",
       "\n",
       "                                         descripcion        nombre_zona  \\\n",
       "0  Empresa: Distribuidor de repuestos automotor, ...  Gran Buenos Aires   \n",
       "1  Solicitamos para importante cadena de farmacia...  Gran Buenos Aires   \n",
       "2  TE GUSTA MANEJAR? QUERES GANAR PLATA HACIENDO ...    Capital Federal   \n",
       "3  Somos una empresa multinacional que opera en A...  Gran Buenos Aires   \n",
       "4  OPERARIOS DE PLANTANos encontramos en la búsqu...  Gran Buenos Aires   \n",
       "\n",
       "  tipo_de_trabajo         nivel_laboral nombre_area     denominacion_empresa  \\\n",
       "0       Full-time  Senior / Semi-Senior   Comercial                   VENTOR   \n",
       "1       Full-time  Senior / Semi-Senior       Salud  Farmacias Central Oeste   \n",
       "2       Full-time  Senior / Semi-Senior  Transporte              FAMITAX SRL   \n",
       "3       Full-time  Senior / Semi-Senior  Transporte      Wurth Argentina S.A   \n",
       "4       Full-time  Senior / Semi-Senior  Producción       ELECTRO OUTLET SRL   \n",
       "\n",
       "                         descripcion_top_words_small  \\\n",
       "0  {argentinasexo, rosario, correas, repuestos, a...   \n",
       "1  {farmacias, experiencia, excluyenteexperiencia...   \n",
       "2  {caba, ganar, estas, licencia, haciendo, quere...   \n",
       "3  {empresas, presente, multinacional, opera, emp...   \n",
       "4  {experiencia, operarios, electrodomésticos, bú...   \n",
       "\n",
       "                                  titulo_top_words  \n",
       "0                           {provincia, vendedora}  \n",
       "1                                     {enfermeras}  \n",
       "2                                   {taxi, chofer}  \n",
       "3  {punta, chofer, bahia, camioneta, alta, blanca}  \n",
       "4    {electrodomésticos, planta, rubro, operarios}  "
      ]
     },
     "execution_count": 279,
     "metadata": {},
     "output_type": "execute_result"
    }
   ],
   "source": [
    "avisos_detalle.head(5)"
   ]
  },
  {
   "cell_type": "markdown",
   "metadata": {},
   "source": [
    "### Palabras más frecuentes en los títulos"
   ]
  },
  {
   "cell_type": "raw",
   "metadata": {},
   "source": [
    "Para cada aviso extraemos un conjunto de las palabras relevantes que aparecen en el título."
   ]
  },
  {
   "cell_type": "code",
   "execution_count": 288,
   "metadata": {},
   "outputs": [],
   "source": [
    "def process_words(row, col, col_new):  \n",
    "    row[col_new] = row[col]\n",
    "    words = row[col_new].split()\n",
    "    #words = words[:25]\n",
    "    \n",
    "    # Se filtran las stop words y los simbolos\n",
    "    valid_words = []\n",
    "    for word in words:\n",
    "        for w in stopwords:\n",
    "            if (word.lower() == w):\n",
    "                word = word.lower().replace(w, '')\n",
    "        for inv in invalid_characters:\n",
    "            word = word.lower().replace(inv, '')\n",
    "        if (word != ''):\n",
    "            valid_words.append(word)\n",
    "        \n",
    "    row[col_new] = set(valid_words) \n",
    "    return row"
   ]
  },
  {
   "cell_type": "code",
   "execution_count": 289,
   "metadata": {},
   "outputs": [],
   "source": [
    "avisos_detalle = avisos_detalle.apply(lambda row: process_words(row, 'titulo', 'titulo_top_words'), axis=1)"
   ]
  },
  {
   "cell_type": "code",
   "execution_count": 290,
   "metadata": {},
   "outputs": [
    {
     "data": {
      "text/html": [
       "<div>\n",
       "<style scoped>\n",
       "    .dataframe tbody tr th:only-of-type {\n",
       "        vertical-align: middle;\n",
       "    }\n",
       "\n",
       "    .dataframe tbody tr th {\n",
       "        vertical-align: top;\n",
       "    }\n",
       "\n",
       "    .dataframe thead th {\n",
       "        text-align: right;\n",
       "    }\n",
       "</style>\n",
       "<table border=\"1\" class=\"dataframe\">\n",
       "  <thead>\n",
       "    <tr style=\"text-align: right;\">\n",
       "      <th></th>\n",
       "      <th>idaviso</th>\n",
       "      <th>titulo</th>\n",
       "      <th>descripcion</th>\n",
       "      <th>nombre_zona</th>\n",
       "      <th>tipo_de_trabajo</th>\n",
       "      <th>nivel_laboral</th>\n",
       "      <th>nombre_area</th>\n",
       "      <th>denominacion_empresa</th>\n",
       "      <th>descripcion_top_words_small</th>\n",
       "      <th>titulo_top_words</th>\n",
       "    </tr>\n",
       "  </thead>\n",
       "  <tbody>\n",
       "    <tr>\n",
       "      <th>0</th>\n",
       "      <td>8725750</td>\n",
       "      <td>VENDEDOR/A PROVINCIA DE SANTA FE</td>\n",
       "      <td>Empresa: Distribuidor de repuestos automotor, ...</td>\n",
       "      <td>Gran Buenos Aires</td>\n",
       "      <td>Full-time</td>\n",
       "      <td>Senior / Semi-Senior</td>\n",
       "      <td>Comercial</td>\n",
       "      <td>VENTOR</td>\n",
       "      <td>{argentinasexo, rosario, correas, repuestos, a...</td>\n",
       "      <td>{provincia, vendedora}</td>\n",
       "    </tr>\n",
       "    <tr>\n",
       "      <th>1</th>\n",
       "      <td>17903700</td>\n",
       "      <td>Enfermeras</td>\n",
       "      <td>Solicitamos para importante cadena de farmacia...</td>\n",
       "      <td>Gran Buenos Aires</td>\n",
       "      <td>Full-time</td>\n",
       "      <td>Senior / Semi-Senior</td>\n",
       "      <td>Salud</td>\n",
       "      <td>Farmacias Central Oeste</td>\n",
       "      <td>{farmacias, experiencia, excluyenteexperiencia...</td>\n",
       "      <td>{enfermeras}</td>\n",
       "    </tr>\n",
       "    <tr>\n",
       "      <th>2</th>\n",
       "      <td>1000150677</td>\n",
       "      <td>Chofer de taxi</td>\n",
       "      <td>TE GUSTA MANEJAR? QUERES GANAR PLATA HACIENDO ...</td>\n",
       "      <td>Capital Federal</td>\n",
       "      <td>Full-time</td>\n",
       "      <td>Senior / Semi-Senior</td>\n",
       "      <td>Transporte</td>\n",
       "      <td>FAMITAX SRL</td>\n",
       "      <td>{caba, ganar, estas, licencia, haciendo, quere...</td>\n",
       "      <td>{taxi, chofer}</td>\n",
       "    </tr>\n",
       "    <tr>\n",
       "      <th>3</th>\n",
       "      <td>1000610287</td>\n",
       "      <td>CHOFER DE CAMIONETA BAHIA BLANCA - PUNTA ALTA</td>\n",
       "      <td>Somos una empresa multinacional que opera en A...</td>\n",
       "      <td>Gran Buenos Aires</td>\n",
       "      <td>Full-time</td>\n",
       "      <td>Senior / Semi-Senior</td>\n",
       "      <td>Transporte</td>\n",
       "      <td>Wurth Argentina S.A</td>\n",
       "      <td>{empresas, presente, multinacional, opera, emp...</td>\n",
       "      <td>{punta, chofer, bahia, camioneta, alta, blanca}</td>\n",
       "    </tr>\n",
       "    <tr>\n",
       "      <th>4</th>\n",
       "      <td>1000872556</td>\n",
       "      <td>Operarios de Planta - Rubro Electrodomésticos</td>\n",
       "      <td>OPERARIOS DE PLANTANos encontramos en la búsqu...</td>\n",
       "      <td>Gran Buenos Aires</td>\n",
       "      <td>Full-time</td>\n",
       "      <td>Senior / Semi-Senior</td>\n",
       "      <td>Producción</td>\n",
       "      <td>ELECTRO OUTLET SRL</td>\n",
       "      <td>{experiencia, operarios, electrodomésticos, bú...</td>\n",
       "      <td>{electrodomésticos, planta, rubro, operarios}</td>\n",
       "    </tr>\n",
       "    <tr>\n",
       "      <th>5</th>\n",
       "      <td>1001135716</td>\n",
       "      <td>Vendedor Viajante TUCUMAN/SANTIAGO DEL ESTERO</td>\n",
       "      <td>Somos una empresa multinacional que opera en A...</td>\n",
       "      <td>Gran Buenos Aires</td>\n",
       "      <td>Full-time</td>\n",
       "      <td>Senior / Semi-Senior</td>\n",
       "      <td>Ventas</td>\n",
       "      <td>Wurth Argentina S.A</td>\n",
       "      <td>{empresas, presente, multinacional, opera, emp...</td>\n",
       "      <td>{tucumansantiago, vendedor, estero, viajante}</td>\n",
       "    </tr>\n",
       "    <tr>\n",
       "      <th>6</th>\n",
       "      <td>1001326344</td>\n",
       "      <td>Vendedor Viajante RECONQUISTA/AVELLANEDA</td>\n",
       "      <td>Somos una empresa multinacional que opera en A...</td>\n",
       "      <td>Gran Buenos Aires</td>\n",
       "      <td>Full-time</td>\n",
       "      <td>Senior / Semi-Senior</td>\n",
       "      <td>Ventas</td>\n",
       "      <td>Wurth Argentina S.A</td>\n",
       "      <td>{empresas, presente, multinacional, opera, emp...</td>\n",
       "      <td>{reconquistaavellaneda, vendedor, viajante}</td>\n",
       "    </tr>\n",
       "    <tr>\n",
       "      <th>7</th>\n",
       "      <td>1001455648</td>\n",
       "      <td>Vendedor Viajante PILAR / ESCOBAR/TIGRE</td>\n",
       "      <td>Somos una empresa multinacional que opera en A...</td>\n",
       "      <td>Gran Buenos Aires</td>\n",
       "      <td>Full-time</td>\n",
       "      <td>Junior</td>\n",
       "      <td>Ventas</td>\n",
       "      <td>Wurth Argentina S.A</td>\n",
       "      <td>{empresas, presente, multinacional, opera, emp...</td>\n",
       "      <td>{vendedor, pilar, viajante, escobartigre}</td>\n",
       "    </tr>\n",
       "    <tr>\n",
       "      <th>8</th>\n",
       "      <td>9240880</td>\n",
       "      <td>Productores Asesores Independiente, para venta...</td>\n",
       "      <td>Agente\\r\\noficial Selecciona:\\r\\n \\r\\nNuestra ...</td>\n",
       "      <td>Capital Federal</td>\n",
       "      <td>Full-time</td>\n",
       "      <td>Jefe / Supervisor / Responsable</td>\n",
       "      <td>Comercial</td>\n",
       "      <td>Agencia Oficial Alejandro Arizaga</td>\n",
       "      <td>{orientada, personas, años, comercial, agente,...</td>\n",
       "      <td>{asesores, plan, independiente, capitalización...</td>\n",
       "    </tr>\n",
       "    <tr>\n",
       "      <th>9</th>\n",
       "      <td>1001202662</td>\n",
       "      <td>promotor/a , asesor/a</td>\n",
       "      <td>En Cerantola nos encontramos en la busqueda de...</td>\n",
       "      <td>Gran Buenos Aires</td>\n",
       "      <td>Full-time</td>\n",
       "      <td>Otro</td>\n",
       "      <td>Atención al Cliente</td>\n",
       "      <td>cerantola</td>\n",
       "      <td>{construcción, busqueda, personas, nuestros, p...</td>\n",
       "      <td>{asesora, promotora}</td>\n",
       "    </tr>\n",
       "  </tbody>\n",
       "</table>\n",
       "</div>"
      ],
      "text/plain": [
       "      idaviso                                             titulo  \\\n",
       "0     8725750                   VENDEDOR/A PROVINCIA DE SANTA FE   \n",
       "1    17903700                                         Enfermeras   \n",
       "2  1000150677                                     Chofer de taxi   \n",
       "3  1000610287      CHOFER DE CAMIONETA BAHIA BLANCA - PUNTA ALTA   \n",
       "4  1000872556      Operarios de Planta - Rubro Electrodomésticos   \n",
       "5  1001135716      Vendedor Viajante TUCUMAN/SANTIAGO DEL ESTERO   \n",
       "6  1001326344           Vendedor Viajante RECONQUISTA/AVELLANEDA   \n",
       "7  1001455648            Vendedor Viajante PILAR / ESCOBAR/TIGRE   \n",
       "8     9240880  Productores Asesores Independiente, para venta...   \n",
       "9  1001202662                              promotor/a , asesor/a   \n",
       "\n",
       "                                         descripcion        nombre_zona  \\\n",
       "0  Empresa: Distribuidor de repuestos automotor, ...  Gran Buenos Aires   \n",
       "1  Solicitamos para importante cadena de farmacia...  Gran Buenos Aires   \n",
       "2  TE GUSTA MANEJAR? QUERES GANAR PLATA HACIENDO ...    Capital Federal   \n",
       "3  Somos una empresa multinacional que opera en A...  Gran Buenos Aires   \n",
       "4  OPERARIOS DE PLANTANos encontramos en la búsqu...  Gran Buenos Aires   \n",
       "5  Somos una empresa multinacional que opera en A...  Gran Buenos Aires   \n",
       "6  Somos una empresa multinacional que opera en A...  Gran Buenos Aires   \n",
       "7  Somos una empresa multinacional que opera en A...  Gran Buenos Aires   \n",
       "8  Agente\\r\\noficial Selecciona:\\r\\n \\r\\nNuestra ...    Capital Federal   \n",
       "9  En Cerantola nos encontramos en la busqueda de...  Gran Buenos Aires   \n",
       "\n",
       "  tipo_de_trabajo                    nivel_laboral          nombre_area  \\\n",
       "0       Full-time             Senior / Semi-Senior            Comercial   \n",
       "1       Full-time             Senior / Semi-Senior                Salud   \n",
       "2       Full-time             Senior / Semi-Senior           Transporte   \n",
       "3       Full-time             Senior / Semi-Senior           Transporte   \n",
       "4       Full-time             Senior / Semi-Senior           Producción   \n",
       "5       Full-time             Senior / Semi-Senior               Ventas   \n",
       "6       Full-time             Senior / Semi-Senior               Ventas   \n",
       "7       Full-time                           Junior               Ventas   \n",
       "8       Full-time  Jefe / Supervisor / Responsable            Comercial   \n",
       "9       Full-time                             Otro  Atención al Cliente   \n",
       "\n",
       "                denominacion_empresa  \\\n",
       "0                             VENTOR   \n",
       "1            Farmacias Central Oeste   \n",
       "2                        FAMITAX SRL   \n",
       "3                Wurth Argentina S.A   \n",
       "4                 ELECTRO OUTLET SRL   \n",
       "5                Wurth Argentina S.A   \n",
       "6                Wurth Argentina S.A   \n",
       "7                Wurth Argentina S.A   \n",
       "8  Agencia Oficial Alejandro Arizaga   \n",
       "9                          cerantola   \n",
       "\n",
       "                         descripcion_top_words_small  \\\n",
       "0  {argentinasexo, rosario, correas, repuestos, a...   \n",
       "1  {farmacias, experiencia, excluyenteexperiencia...   \n",
       "2  {caba, ganar, estas, licencia, haciendo, quere...   \n",
       "3  {empresas, presente, multinacional, opera, emp...   \n",
       "4  {experiencia, operarios, electrodomésticos, bú...   \n",
       "5  {empresas, presente, multinacional, opera, emp...   \n",
       "6  {empresas, presente, multinacional, opera, emp...   \n",
       "7  {empresas, presente, multinacional, opera, emp...   \n",
       "8  {orientada, personas, años, comercial, agente,...   \n",
       "9  {construcción, busqueda, personas, nuestros, p...   \n",
       "\n",
       "                                    titulo_top_words  \n",
       "0                             {provincia, vendedora}  \n",
       "1                                       {enfermeras}  \n",
       "2                                     {taxi, chofer}  \n",
       "3    {punta, chofer, bahia, camioneta, alta, blanca}  \n",
       "4      {electrodomésticos, planta, rubro, operarios}  \n",
       "5      {tucumansantiago, vendedor, estero, viajante}  \n",
       "6        {reconquistaavellaneda, vendedor, viajante}  \n",
       "7          {vendedor, pilar, viajante, escobartigre}  \n",
       "8  {asesores, plan, independiente, capitalización...  \n",
       "9                               {asesora, promotora}  "
      ]
     },
     "execution_count": 290,
     "metadata": {},
     "output_type": "execute_result"
    }
   ],
   "source": [
    "avisos_detalle.head(10)"
   ]
  },
  {
   "cell_type": "raw",
   "metadata": {},
   "source": [
    "Agregamos todas las palabras a una lista y contamos las más frecuentes"
   ]
  },
  {
   "cell_type": "code",
   "execution_count": 291,
   "metadata": {},
   "outputs": [
    {
     "data": {
      "text/html": [
       "<div>\n",
       "<style scoped>\n",
       "    .dataframe tbody tr th:only-of-type {\n",
       "        vertical-align: middle;\n",
       "    }\n",
       "\n",
       "    .dataframe tbody tr th {\n",
       "        vertical-align: top;\n",
       "    }\n",
       "\n",
       "    .dataframe thead th {\n",
       "        text-align: right;\n",
       "    }\n",
       "</style>\n",
       "<table border=\"1\" class=\"dataframe\">\n",
       "  <thead>\n",
       "    <tr style=\"text-align: right;\">\n",
       "      <th></th>\n",
       "      <th>idaviso</th>\n",
       "      <th>titulo</th>\n",
       "      <th>descripcion</th>\n",
       "      <th>nombre_zona</th>\n",
       "      <th>tipo_de_trabajo</th>\n",
       "      <th>nivel_laboral</th>\n",
       "      <th>nombre_area</th>\n",
       "      <th>denominacion_empresa</th>\n",
       "      <th>descripcion_top_words_small</th>\n",
       "      <th>titulo_top_words</th>\n",
       "    </tr>\n",
       "  </thead>\n",
       "  <tbody>\n",
       "    <tr>\n",
       "      <th>0</th>\n",
       "      <td>8725750</td>\n",
       "      <td>VENDEDOR/A PROVINCIA DE SANTA FE</td>\n",
       "      <td>Empresa: Distribuidor de repuestos automotor, ...</td>\n",
       "      <td>Gran Buenos Aires</td>\n",
       "      <td>Full-time</td>\n",
       "      <td>Senior / Semi-Senior</td>\n",
       "      <td>Comercial</td>\n",
       "      <td>VENTOR</td>\n",
       "      <td>{argentinasexo, rosario, correas, repuestos, a...</td>\n",
       "      <td>{provincia, vendedora}</td>\n",
       "    </tr>\n",
       "  </tbody>\n",
       "</table>\n",
       "</div>"
      ],
      "text/plain": [
       "   idaviso                            titulo  \\\n",
       "0  8725750  VENDEDOR/A PROVINCIA DE SANTA FE   \n",
       "\n",
       "                                         descripcion        nombre_zona  \\\n",
       "0  Empresa: Distribuidor de repuestos automotor, ...  Gran Buenos Aires   \n",
       "\n",
       "  tipo_de_trabajo         nivel_laboral nombre_area denominacion_empresa  \\\n",
       "0       Full-time  Senior / Semi-Senior   Comercial               VENTOR   \n",
       "\n",
       "                         descripcion_top_words_small        titulo_top_words  \n",
       "0  {argentinasexo, rosario, correas, repuestos, a...  {provincia, vendedora}  "
      ]
     },
     "execution_count": 291,
     "metadata": {},
     "output_type": "execute_result"
    }
   ],
   "source": [
    "lista_palabras_frecuentes_titulos = []\n",
    "\n",
    "def add_word(row, columna):\n",
    "    words = row[columna]\n",
    "    for word in words:\n",
    "        lista_palabras_frecuentes_titulos.append(word)\n",
    "\n",
    "avisos_detalle.apply(lambda row: add_word(row, 'titulo_top_words'), axis=1)\n",
    "avisos_detalle.head(1)"
   ]
  },
  {
   "cell_type": "code",
   "execution_count": 292,
   "metadata": {},
   "outputs": [
    {
     "data": {
      "text/plain": [
       "54619"
      ]
     },
     "execution_count": 292,
     "metadata": {},
     "output_type": "execute_result"
    }
   ],
   "source": [
    "len(lista_palabras_frecuentes_titulos)"
   ]
  },
  {
   "cell_type": "code",
   "execution_count": 293,
   "metadata": {},
   "outputs": [
    {
     "name": "stdout",
     "output_type": "stream",
     "text": [
      "[('analista', 1777), ('zona', 1299), ('técnico', 642), ('comercial', 621), ('administrativo', 546), ('ventas', 538), ('vendedor', 528), ('contable', 459), ('sr', 455), ('caba', 421), ('jefe', 414), ('asistente', 391), ('importante', 386), ('empresa', 360), ('supervisor', 346), ('jr', 339), ('ejecutivo', 335), ('mantenimiento', 323), ('norte', 322), ('ingeniero', 298)]\n"
     ]
    }
   ],
   "source": [
    "# TOP 20 palabras mas frecuentes en el titulo\n",
    "from collections import Counter\n",
    "words_to_count = (word for word in lista_palabras_frecuentes_titulos if word[:1])\n",
    "c = Counter(words_to_count)\n",
    "print (c.most_common(20))\n",
    "lista_palabras_frecuentes_titulos = c.most_common(20)"
   ]
  },
  {
   "cell_type": "markdown",
   "metadata": {},
   "source": [
    "### Palabras más frecuentes en la descripción"
   ]
  },
  {
   "cell_type": "code",
   "execution_count": 306,
   "metadata": {},
   "outputs": [],
   "source": [
    "avisos_detalle = avisos_detalle.apply(lambda row: process_words(row, 'descripcion', 'descripcion_top_words'), axis=1)"
   ]
  },
  {
   "cell_type": "code",
   "execution_count": 307,
   "metadata": {},
   "outputs": [
    {
     "data": {
      "text/html": [
       "<div>\n",
       "<style scoped>\n",
       "    .dataframe tbody tr th:only-of-type {\n",
       "        vertical-align: middle;\n",
       "    }\n",
       "\n",
       "    .dataframe tbody tr th {\n",
       "        vertical-align: top;\n",
       "    }\n",
       "\n",
       "    .dataframe thead th {\n",
       "        text-align: right;\n",
       "    }\n",
       "</style>\n",
       "<table border=\"1\" class=\"dataframe\">\n",
       "  <thead>\n",
       "    <tr style=\"text-align: right;\">\n",
       "      <th></th>\n",
       "      <th>idaviso</th>\n",
       "      <th>titulo</th>\n",
       "      <th>descripcion</th>\n",
       "      <th>nombre_zona</th>\n",
       "      <th>tipo_de_trabajo</th>\n",
       "      <th>nivel_laboral</th>\n",
       "      <th>nombre_area</th>\n",
       "      <th>denominacion_empresa</th>\n",
       "      <th>descripcion_top_words_small</th>\n",
       "      <th>titulo_top_words</th>\n",
       "      <th>descripcion_top_words</th>\n",
       "    </tr>\n",
       "  </thead>\n",
       "  <tbody>\n",
       "    <tr>\n",
       "      <th>0</th>\n",
       "      <td>8725750</td>\n",
       "      <td>VENDEDOR/A PROVINCIA DE SANTA FE</td>\n",
       "      <td>Empresa: Distribuidor de repuestos automotor, ...</td>\n",
       "      <td>Gran Buenos Aires</td>\n",
       "      <td>Full-time</td>\n",
       "      <td>Senior / Semi-Senior</td>\n",
       "      <td>Comercial</td>\n",
       "      <td>VENTOR</td>\n",
       "      <td>{argentinasexo, rosario, correas, repuestos, a...</td>\n",
       "      <td>{provincia, vendedora}</td>\n",
       "      <td>{distribuidora, correas, comisión, agrícolas, ...</td>\n",
       "    </tr>\n",
       "  </tbody>\n",
       "</table>\n",
       "</div>"
      ],
      "text/plain": [
       "   idaviso                            titulo  \\\n",
       "0  8725750  VENDEDOR/A PROVINCIA DE SANTA FE   \n",
       "\n",
       "                                         descripcion        nombre_zona  \\\n",
       "0  Empresa: Distribuidor de repuestos automotor, ...  Gran Buenos Aires   \n",
       "\n",
       "  tipo_de_trabajo         nivel_laboral nombre_area denominacion_empresa  \\\n",
       "0       Full-time  Senior / Semi-Senior   Comercial               VENTOR   \n",
       "\n",
       "                         descripcion_top_words_small        titulo_top_words  \\\n",
       "0  {argentinasexo, rosario, correas, repuestos, a...  {provincia, vendedora}   \n",
       "\n",
       "                               descripcion_top_words  \n",
       "0  {distribuidora, correas, comisión, agrícolas, ...  "
      ]
     },
     "execution_count": 307,
     "metadata": {},
     "output_type": "execute_result"
    }
   ],
   "source": [
    "lista_palabras_frecuentes_descripcion = []\n",
    "\n",
    "def add_word(row, columna):\n",
    "    words = row[columna]\n",
    "    for word in words:\n",
    "        lista_palabras_frecuentes_descripcion.append(word)\n",
    "\n",
    "avisos_detalle.apply(lambda row: add_word(row, 'descripcion_top_words'), axis=1)\n",
    "avisos_detalle.head(1)"
   ]
  },
  {
   "cell_type": "code",
   "execution_count": 308,
   "metadata": {},
   "outputs": [
    {
     "name": "stdout",
     "output_type": "stream",
     "text": [
      "[('experiencia', 9591), ('trabajo', 7209), ('empresa', 6881), ('búsqueda', 6525), ('importante', 5911), ('años', 5160), ('equipo', 4304), ('tareas', 4136), ('lunes', 3909), ('requisitos', 3859), ('zona', 3841), ('manejo', 3778), ('viernes', 3546), ('conocimientos', 3311), ('hs', 3242), ('principales', 3239), ('laboral', 3204), ('cliente', 3185), ('condiciones', 3146), ('empresas', 2994), ('contratación', 2938), ('desarrollo', 2808), ('área', 2777), ('disponibilidad', 2755), ('excluyente', 2752)]\n"
     ]
    }
   ],
   "source": [
    "# TOP 25 palabras mas frecuentes en la descripción\n",
    "from collections import Counter\n",
    "words_to_count = (word for word in lista_palabras_frecuentes_descripcion if word[:1])\n",
    "c = Counter(words_to_count)\n",
    "print (c.most_common(25))\n",
    "lista_palabras_frecuentes_descripcion = c.most_common(25)"
   ]
  },
  {
   "cell_type": "code",
   "execution_count": null,
   "metadata": {},
   "outputs": [],
   "source": []
  }
 ],
 "metadata": {
  "kernelspec": {
   "display_name": "Python 3",
   "language": "python",
   "name": "python3"
  },
  "language_info": {
   "codemirror_mode": {
    "name": "ipython",
    "version": 3
   },
   "file_extension": ".py",
   "mimetype": "text/x-python",
   "name": "python",
   "nbconvert_exporter": "python",
   "pygments_lexer": "ipython3",
   "version": "3.6.4"
  }
 },
 "nbformat": 4,
 "nbformat_minor": 2
}
